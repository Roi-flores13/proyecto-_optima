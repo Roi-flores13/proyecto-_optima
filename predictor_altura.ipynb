{
 "cells": [
  {
   "cell_type": "markdown",
   "metadata": {},
   "source": [
    "# Examen"
   ]
  },
  {
   "cell_type": "markdown",
   "metadata": {},
   "source": [
    "Integrantes:\n",
    "- Diego Canales Morales\n",
    "- Roi Jared Flores Graza Stone\n",
    "- Mónica Ibarra Herrera\n",
    "- Oscar Josué Rocha Hernández"
   ]
  },
  {
   "cell_type": "code",
   "execution_count": 211,
   "metadata": {},
   "outputs": [],
   "source": [
    "import pandas as pd\n",
    "from sklearn.linear_model import LinearRegression, Ridge, ElasticNet, Lasso\n",
    "from sklearn.model_selection import train_test_split, GridSearchCV\n",
    "import numpy as np\n",
    "from sklearn.metrics import root_mean_squared_error, r2_score\n",
    "from sklearn.preprocessing import StandardScaler, MinMaxScaler\n",
    "import matplotlib.pyplot as plt\n",
    "import plotly.graph_objects as go"
   ]
  },
  {
   "cell_type": "markdown",
   "metadata": {},
   "source": [
    "## Parte 1"
   ]
  },
  {
   "cell_type": "markdown",
   "metadata": {},
   "source": [
    "### Modelo Simple"
   ]
  },
  {
   "cell_type": "code",
   "execution_count": 212,
   "metadata": {},
   "outputs": [],
   "source": [
    "path = \"datos_gente.csv\"\n",
    "df_first = pd.read_csv(path)"
   ]
  },
  {
   "cell_type": "code",
   "execution_count": 213,
   "metadata": {},
   "outputs": [
    {
     "data": {
      "text/plain": [
       "array([[<Axes: title={'center': 'height'}>,\n",
       "        <Axes: title={'center': 'width'}>],\n",
       "       [<Axes: title={'center': 'shoe_size'}>, <Axes: >]], dtype=object)"
      ]
     },
     "execution_count": 213,
     "metadata": {},
     "output_type": "execute_result"
    },
    {
     "data": {
      "image/png": "[encoded data removed]",
      "text/plain": [
       "<Figure size 640x480 with 4 Axes>"
      ]
     },
     "metadata": {},
     "output_type": "display_data"
    }
   ],
   "source": [
    "df_first.hist()"
   ]
  },
  {
   "cell_type": "code",
   "execution_count": 214,
   "metadata": {},
   "outputs": [],
   "source": [
    "X = df_first[['width', 'shoe_size']]\n",
    "y = df_first['height']"
   ]
  },
  {
   "cell_type": "code",
   "execution_count": 215,
   "metadata": {},
   "outputs": [],
   "source": [
    "x_train_f, x_test_f, y_train_f, y_test_f = train_test_split(X,y, test_size=0.2, random_state=99)"
   ]
  },
  {
   "cell_type": "code",
   "execution_count": 216,
   "metadata": {},
   "outputs": [
    {
     "name": "stdout",
     "output_type": "stream",
     "text": [
      "R2: 0.8941176470588236 RMSE: 2.1213203435596424\n"
     ]
    }
   ],
   "source": [
    "lr_first = LinearRegression()\n",
    "lr_first.fit(x_test_f, y_test_f)\n",
    "pred_first = lr_first.predict(x_test_f)\n",
    "print(f\"R2: {r2_score(y_test_f, pred_first)} RMSE: {root_mean_squared_error(y_test_f, pred_first)}\")"
   ]
  },
  {
   "cell_type": "code",
   "execution_count": 217,
   "metadata": {},
   "outputs": [
    {
     "name": "stdout",
     "output_type": "stream",
     "text": [
      "Pendientes: [1.625 3.75 ]\n",
      "Intercepto: -12.375000000000057\n"
     ]
    }
   ],
   "source": [
    "print(f\"Pendientes: {lr_first.coef_}\")\n",
    "print(f\"Intercepto: {lr_first.intercept_}\")"
   ]
  },
  {
   "cell_type": "code",
   "execution_count": 218,
   "metadata": {},
   "outputs": [
    {
     "name": "stderr",
     "output_type": "stream",
     "text": [
      "c:\\Users\\cesar\\anaconda3\\envs\\iteso\\lib\\site-packages\\sklearn\\base.py:493: UserWarning:\n",
      "\n",
      "X does not have valid feature names, but LinearRegression was fitted with feature names\n",
      "\n"
     ]
    },
    {
     "data": {
      "application/vnd.plotly.v1+json": {
       "config": {
        "plotlyServerURL": "https://plot.ly"
       },
       "data": [
        {
         "marker": {
          "color": "red",
          "size": 8
         },
         "mode": "markers",
         "type": "scatter3d",
         "x": [
          55,
          44,
          44,
          44,
          46,
          40,
          58,
          40,
          49,
          44,
          40,
          51,
          55,
          50,
          38,
          39,
          38,
          39
         ],
         "y": [
          28,
          26.5,
          24,
          24.5,
          27,
          23,
          27,
          24,
          27.5,
          23,
          22,
          26,
          28,
          27.5,
          24,
          24.5,
          24,
          22.5
         ],
         "z": [
          185,
          173,
          163,
          162,
          172,
          159,
          187,
          165,
          175,
          162,
          155,
          168,
          179,
          172,
          159,
          166,
          156,
          151
         ]
        },
        {
         "colorscale": [
          [
           0,
           "#440154"
          ],
          [
           0.1111111111111111,
           "#482878"
          ],
          [
           0.2222222222222222,
           "#3e4989"
          ],
          [
           0.3333333333333333,
           "#31688e"
          ],
          [
           0.4444444444444444,
           "#26828e"
          ],
          [
           0.5555555555555556,
           "#1f9e89"
          ],
          [
           0.6666666666666666,
           "#35b779"
          ],
          [
           0.7777777777777778,
           "#6ece58"
          ],
          [
           0.8888888888888888,
           "#b5de2b"
          ],
          [
           1,
           "#fde725"
          ]
         ],
         "opacity": 0.5,
         "type": "surface",
         "x": [
          [
           38,
           39.05263157894737,
           40.10526315789474,
           41.1578947368421,
           42.21052631578947,
           43.26315789473684,
           44.31578947368421,
           45.368421052631575,
           46.421052631578945,
           47.473684210526315,
           48.526315789473685,
           49.578947368421055,
           50.631578947368425,
           51.68421052631579,
           52.73684210526316,
           53.78947368421053,
           54.84210526315789,
           55.89473684210526,
           56.94736842105263,
           58
          ],
          [
           38,
           39.05263157894737,
           40.10526315789474,
           41.1578947368421,
           42.21052631578947,
           43.26315789473684,
           44.31578947368421,
           45.368421052631575,
           46.421052631578945,
           47.473684210526315,
           48.526315789473685,
           49.578947368421055,
           50.631578947368425,
           51.68421052631579,
           52.73684210526316,
           53.78947368421053,
           54.84210526315789,
           55.89473684210526,
           56.94736842105263,
           58
          ],
          [
           38,
           39.05263157894737,
           40.10526315789474,
           41.1578947368421,
           42.21052631578947,
           43.26315789473684,
           44.31578947368421,
           45.368421052631575,
           46.421052631578945,
           47.473684210526315,
           48.526315789473685,
           49.578947368421055,
           50.631578947368425,
           51.68421052631579,
           52.73684210526316,
           53.78947368421053,
           54.84210526315789,
           55.89473684210526,
           56.94736842105263,
           58
          ],
          [
           38,
           39.05263157894737,
           40.10526315789474,
           41.1578947368421,
           42.21052631578947,
           43.26315789473684,
           44.31578947368421,
           45.368421052631575,
           46.421052631578945,
           47.473684210526315,
           48.526315789473685,
           49.578947368421055,
           50.631578947368425,
           51.68421052631579,
           52.73684210526316,
           53.78947368421053,
           54.84210526315789,
           55.89473684210526,
           56.94736842105263,
           58
          ],
          [
           38,
           39.05263157894737,
           40.10526315789474,
           41.1578947368421,
           42.21052631578947,
           43.26315789473684,
           44.31578947368421,
           45.368421052631575,
           46.421052631578945,
           47.473684210526315,
           48.526315789473685,
           49.578947368421055,
           50.631578947368425,
           51.68421052631579,
           52.73684210526316,
           53.78947368421053,
           54.84210526315789,
           55.89473684210526,
           56.94736842105263,
           58
          ],
          [
           38,
           39.05263157894737,
           40.10526315789474,
           41.1578947368421,
           42.21052631578947,
           43.26315789473684,
           44.31578947368421,
           45.368421052631575,
           46.421052631578945,
           47.473684210526315,
           48.526315789473685,
           49.578947368421055,
           50.631578947368425,
           51.68421052631579,
           52.73684210526316,
           53.78947368421053,
           54.84210526315789,
           55.89473684210526,
           56.94736842105263,
           58
          ],
          [
           38,
           39.05263157894737,
           40.10526315789474,
           41.1578947368421,
           42.21052631578947,
           43.26315789473684,
           44.31578947368421,
           45.368421052631575,
           46.421052631578945,
           47.473684210526315,
           48.526315789473685,
           49.578947368421055,
           50.631578947368425,
           51.68421052631579,
           52.73684210526316,
           53.78947368421053,
           54.84210526315789,
           55.89473684210526,
           56.94736842105263,
           58
          ],
          [
           38,
           39.05263157894737,
           40.10526315789474,
           41.1578947368421,
           42.21052631578947,
           43.26315789473684,
           44.31578947368421,
           45.368421052631575,
           46.421052631578945,
           47.473684210526315,
           48.526315789473685,
           49.578947368421055,
           50.631578947368425,
           51.68421052631579,
           52.73684210526316,
           53.78947368421053,
           54.84210526315789,
           55.89473684210526,
           56.94736842105263,
           58
          ],
          [
           38,
           39.05263157894737,
           40.10526315789474,
           41.1578947368421,
           42.21052631578947,
           43.26315789473684,
           44.31578947368421,
           45.368421052631575,
           46.421052631578945,
           47.473684210526315,
           48.526315789473685,
           49.578947368421055,
           50.631578947368425,
           51.68421052631579,
           52.73684210526316,
           53.78947368421053,
           54.84210526315789,
           55.89473684210526,
           56.94736842105263,
           58
          ],
          [
           38,
           39.05263157894737,
           40.10526315789474,
           41.1578947368421,
           42.21052631578947,
           43.26315789473684,
           44.31578947368421,
           45.368421052631575,
           46.421052631578945,
           47.473684210526315,
           48.526315789473685,
           49.578947368421055,
           50.631578947368425,
           51.68421052631579,
           52.73684210526316,
           53.78947368421053,
           54.84210526315789,
           55.89473684210526,
           56.94736842105263,
           58
          ],
          [
           38,
           39.05263157894737,
           40.10526315789474,
           41.1578947368421,
           42.21052631578947,
           43.26315789473684,
           44.31578947368421,
           45.368421052631575,
           46.421052631578945,
           47.473684210526315,
           48.526315789473685,
           49.578947368421055,
           50.631578947368425,
           51.68421052631579,
           52.73684210526316,
           53.78947368421053,
           54.84210526315789,
           55.89473684210526,
           56.94736842105263,
           58
          ],
          [
           38,
           39.05263157894737,
           40.10526315789474,
           41.1578947368421,
           42.21052631578947,
           43.26315789473684,
           44.31578947368421,
           45.368421052631575,
           46.421052631578945,
           47.473684210526315,
           48.526315789473685,
           49.578947368421055,
           50.631578947368425,
           51.68421052631579,
           52.73684210526316,
           53.78947368421053,
           54.84210526315789,
           55.89473684210526,
           56.94736842105263,
           58
          ],
          [
           38,
           39.05263157894737,
           40.10526315789474,
           41.1578947368421,
           42.21052631578947,
           43.26315789473684,
           44.31578947368421,
           45.368421052631575,
           46.421052631578945,
           47.473684210526315,
           48.526315789473685,
           49.578947368421055,
           50.631578947368425,
           51.68421052631579,
           52.73684210526316,
           53.78947368421053,
           54.84210526315789,
           55.89473684210526,
           56.94736842105263,
           58
          ],
          [
           38,
           39.05263157894737,
           40.10526315789474,
           41.1578947368421,
           42.21052631578947,
           43.26315789473684,
           44.31578947368421,
           45.368421052631575,
           46.421052631578945,
           47.473684210526315,
           48.526315789473685,
           49.578947368421055,
           50.631578947368425,
           51.68421052631579,
           52.73684210526316,
           53.78947368421053,
           54.84210526315789,
           55.89473684210526,
           56.94736842105263,
           58
          ],
          [
           38,
           39.05263157894737,
           40.10526315789474,
           41.1578947368421,
           42.21052631578947,
           43.26315789473684,
           44.31578947368421,
           45.368421052631575,
           46.421052631578945,
           47.473684210526315,
           48.526315789473685,
           49.578947368421055,
           50.631578947368425,
           51.68421052631579,
           52.73684210526316,
           53.78947368421053,
           54.84210526315789,
           55.89473684210526,
           56.94736842105263,
           58
          ],
          [
           38,
           39.05263157894737,
           40.10526315789474,
           41.1578947368421,
           42.21052631578947,
           43.26315789473684,
           44.31578947368421,
           45.368421052631575,
           46.421052631578945,
           47.473684210526315,
           48.526315789473685,
           49.578947368421055,
           50.631578947368425,
           51.68421052631579,
           52.73684210526316,
           53.78947368421053,
           54.84210526315789,
           55.89473684210526,
           56.94736842105263,
           58
          ],
          [
           38,
           39.05263157894737,
           40.10526315789474,
           41.1578947368421,
           42.21052631578947,
           43.26315789473684,
           44.31578947368421,
           45.368421052631575,
           46.421052631578945,
           47.473684210526315,
           48.526315789473685,
           49.578947368421055,
           50.631578947368425,
           51.68421052631579,
           52.73684210526316,
           53.78947368421053,
           54.84210526315789,
           55.89473684210526,
           56.94736842105263,
           58
          ],
          [
           38,
           39.05263157894737,
           40.10526315789474,
           41.1578947368421,
           42.21052631578947,
           43.26315789473684,
           44.31578947368421,
           45.368421052631575,
           46.421052631578945,
           47.473684210526315,
           48.526315789473685,
           49.578947368421055,
           50.631578947368425,
           51.68421052631579,
           52.73684210526316,
           53.78947368421053,
           54.84210526315789,
           55.89473684210526,
           56.94736842105263,
           58
          ],
          [
           38,
           39.05263157894737,
           40.10526315789474,
           41.1578947368421,
           42.21052631578947,
           43.26315789473684,
           44.31578947368421,
           45.368421052631575,
           46.421052631578945,
           47.473684210526315,
           48.526315789473685,
           49.578947368421055,
           50.631578947368425,
           51.68421052631579,
           52.73684210526316,
           53.78947368421053,
           54.84210526315789,
           55.89473684210526,
           56.94736842105263,
           58
          ],
          [
           38,
           39.05263157894737,
           40.10526315789474,
           41.1578947368421,
           42.21052631578947,
           43.26315789473684,
           44.31578947368421,
           45.368421052631575,
           46.421052631578945,
           47.473684210526315,
           48.526315789473685,
           49.578947368421055,
           50.631578947368425,
           51.68421052631579,
           52.73684210526316,
           53.78947368421053,
           54.84210526315789,
           55.89473684210526,
           56.94736842105263,
           58
          ]
         ],
         "y": [
          [
           22,
           22,
           22,
           22,
           22,
           22,
           22,
           22,
           22,
           22,
           22,
           22,
           22,
           22,
           22,
           22,
           22,
           22,
           22,
           22
          ],
          [
           22.31578947368421,
           22.31578947368421,
           22.31578947368421,
           22.31578947368421,
           22.31578947368421,
           22.31578947368421,
           22.31578947368421,
           22.31578947368421,
           22.31578947368421,
           22.31578947368421,
           22.31578947368421,
           22.31578947368421,
           22.31578947368421,
           22.31578947368421,
           22.31578947368421,
           22.31578947368421,
           22.31578947368421,
           22.31578947368421,
           22.31578947368421,
           22.31578947368421
          ],
          [
           22.63157894736842,
           22.63157894736842,
           22.63157894736842,
           22.63157894736842,
           22.63157894736842,
           22.63157894736842,
           22.63157894736842,
           22.63157894736842,
           22.63157894736842,
           22.63157894736842,
           22.63157894736842,
           22.63157894736842,
           22.63157894736842,
           22.63157894736842,
           22.63157894736842,
           22.63157894736842,
           22.63157894736842,
           22.63157894736842,
           22.63157894736842,
           22.63157894736842
          ],
          [
           22.94736842105263,
           22.94736842105263,
           22.94736842105263,
           22.94736842105263,
           22.94736842105263,
           22.94736842105263,
           22.94736842105263,
           22.94736842105263,
           22.94736842105263,
           22.94736842105263,
           22.94736842105263,
           22.94736842105263,
           22.94736842105263,
           22.94736842105263,
           22.94736842105263,
           22.94736842105263,
           22.94736842105263,
           22.94736842105263,
           22.94736842105263,
           22.94736842105263
          ],
          [
           23.263157894736842,
           23.263157894736842,
           23.263157894736842,
           23.263157894736842,
           23.263157894736842,
           23.263157894736842,
           23.263157894736842,
           23.263157894736842,
           23.263157894736842,
           23.263157894736842,
           23.263157894736842,
           23.263157894736842,
           23.263157894736842,
           23.263157894736842,
           23.263157894736842,
           23.263157894736842,
           23.263157894736842,
           23.263157894736842,
           23.263157894736842,
           23.263157894736842
          ],
          [
           23.57894736842105,
           23.57894736842105,
           23.57894736842105,
           23.57894736842105,
           23.57894736842105,
           23.57894736842105,
           23.57894736842105,
           23.57894736842105,
           23.57894736842105,
           23.57894736842105,
           23.57894736842105,
           23.57894736842105,
           23.57894736842105,
           23.57894736842105,
           23.57894736842105,
           23.57894736842105,
           23.57894736842105,
           23.57894736842105,
           23.57894736842105,
           23.57894736842105
          ],
          [
           23.894736842105264,
           23.894736842105264,
           23.894736842105264,
           23.894736842105264,
           23.894736842105264,
           23.894736842105264,
           23.894736842105264,
           23.894736842105264,
           23.894736842105264,
           23.894736842105264,
           23.894736842105264,
           23.894736842105264,
           23.894736842105264,
           23.894736842105264,
           23.894736842105264,
           23.894736842105264,
           23.894736842105264,
           23.894736842105264,
           23.894736842105264,
           23.894736842105264
          ],
          [
           24.210526315789473,
           24.210526315789473,
           24.210526315789473,
           24.210526315789473,
           24.210526315789473,
           24.210526315789473,
           24.210526315789473,
           24.210526315789473,
           24.210526315789473,
           24.210526315789473,
           24.210526315789473,
           24.210526315789473,
           24.210526315789473,
           24.210526315789473,
           24.210526315789473,
           24.210526315789473,
           24.210526315789473,
           24.210526315789473,
           24.210526315789473,
           24.210526315789473
          ],
          [
           24.526315789473685,
           24.526315789473685,
           24.526315789473685,
           24.526315789473685,
           24.526315789473685,
           24.526315789473685,
           24.526315789473685,
           24.526315789473685,
           24.526315789473685,
           24.526315789473685,
           24.526315789473685,
           24.526315789473685,
           24.526315789473685,
           24.526315789473685,
           24.526315789473685,
           24.526315789473685,
           24.526315789473685,
           24.526315789473685,
           24.526315789473685,
           24.526315789473685
          ],
          [
           24.842105263157894,
           24.842105263157894,
           24.842105263157894,
           24.842105263157894,
           24.842105263157894,
           24.842105263157894,
           24.842105263157894,
           24.842105263157894,
           24.842105263157894,
           24.842105263157894,
           24.842105263157894,
           24.842105263157894,
           24.842105263157894,
           24.842105263157894,
           24.842105263157894,
           24.842105263157894,
           24.842105263157894,
           24.842105263157894,
           24.842105263157894,
           24.842105263157894
          ],
          [
           25.157894736842106,
           25.157894736842106,
           25.157894736842106,
           25.157894736842106,
           25.157894736842106,
           25.157894736842106,
           25.157894736842106,
           25.157894736842106,
           25.157894736842106,
           25.157894736842106,
           25.157894736842106,
           25.157894736842106,
           25.157894736842106,
           25.157894736842106,
           25.157894736842106,
           25.157894736842106,
           25.157894736842106,
           25.157894736842106,
           25.157894736842106,
           25.157894736842106
          ],
          [
           25.473684210526315,
           25.473684210526315,
           25.473684210526315,
           25.473684210526315,
           25.473684210526315,
           25.473684210526315,
           25.473684210526315,
           25.473684210526315,
           25.473684210526315,
           25.473684210526315,
           25.473684210526315,
           25.473684210526315,
           25.473684210526315,
           25.473684210526315,
           25.473684210526315,
           25.473684210526315,
           25.473684210526315,
           25.473684210526315,
           25.473684210526315,
           25.473684210526315
          ],
          [
           25.789473684210527,
           25.789473684210527,
           25.789473684210527,
           25.789473684210527,
           25.789473684210527,
           25.789473684210527,
           25.789473684210527,
           25.789473684210527,
           25.789473684210527,
           25.789473684210527,
           25.789473684210527,
           25.789473684210527,
           25.789473684210527,
           25.789473684210527,
           25.789473684210527,
           25.789473684210527,
           25.789473684210527,
           25.789473684210527,
           25.789473684210527,
           25.789473684210527
          ],
          [
           26.105263157894736,
           26.105263157894736,
           26.105263157894736,
           26.105263157894736,
           26.105263157894736,
           26.105263157894736,
           26.105263157894736,
           26.105263157894736,
           26.105263157894736,
           26.105263157894736,
           26.105263157894736,
           26.105263157894736,
           26.105263157894736,
           26.105263157894736,
           26.105263157894736,
           26.105263157894736,
           26.105263157894736,
           26.105263157894736,
           26.105263157894736,
           26.105263157894736
          ],
          [
           26.421052631578945,
           26.421052631578945,
           26.421052631578945,
           26.421052631578945,
           26.421052631578945,
           26.421052631578945,
           26.421052631578945,
           26.421052631578945,
           26.421052631578945,
           26.421052631578945,
           26.421052631578945,
           26.421052631578945,
           26.421052631578945,
           26.421052631578945,
           26.421052631578945,
           26.421052631578945,
           26.421052631578945,
           26.421052631578945,
           26.421052631578945,
           26.421052631578945
          ],
          [
           26.736842105263158,
           26.736842105263158,
           26.736842105263158,
           26.736842105263158,
           26.736842105263158,
           26.736842105263158,
           26.736842105263158,
           26.736842105263158,
           26.736842105263158,
           26.736842105263158,
           26.736842105263158,
           26.736842105263158,
           26.736842105263158,
           26.736842105263158,
           26.736842105263158,
           26.736842105263158,
           26.736842105263158,
           26.736842105263158,
           26.736842105263158,
           26.736842105263158
          ],
          [
           27.05263157894737,
           27.05263157894737,
           27.05263157894737,
           27.05263157894737,
           27.05263157894737,
           27.05263157894737,
           27.05263157894737,
           27.05263157894737,
           27.05263157894737,
           27.05263157894737,
           27.05263157894737,
           27.05263157894737,
           27.05263157894737,
           27.05263157894737,
           27.05263157894737,
           27.05263157894737,
           27.05263157894737,
           27.05263157894737,
           27.05263157894737,
           27.05263157894737
          ],
          [
           27.36842105263158,
           27.36842105263158,
           27.36842105263158,
           27.36842105263158,
           27.36842105263158,
           27.36842105263158,
           27.36842105263158,
           27.36842105263158,
           27.36842105263158,
           27.36842105263158,
           27.36842105263158,
           27.36842105263158,
           27.36842105263158,
           27.36842105263158,
           27.36842105263158,
           27.36842105263158,
           27.36842105263158,
           27.36842105263158,
           27.36842105263158,
           27.36842105263158
          ],
          [
           27.684210526315788,
           27.684210526315788,
           27.684210526315788,
           27.684210526315788,
           27.684210526315788,
           27.684210526315788,
           27.684210526315788,
           27.684210526315788,
           27.684210526315788,
           27.684210526315788,
           27.684210526315788,
           27.684210526315788,
           27.684210526315788,
           27.684210526315788,
           27.684210526315788,
           27.684210526315788,
           27.684210526315788,
           27.684210526315788,
           27.684210526315788,
           27.684210526315788
          ],
          [
           28,
           28,
           28,
           28,
           28,
           28,
           28,
           28,
           28,
           28,
           28,
           28,
           28,
           28,
           28,
           28,
           28,
           28,
           28,
           28
          ]
         ],
         "z": [
          [
           131.87499999999997,
           133.58552631578945,
           135.29605263157893,
           137.00657894736838,
           138.71710526315786,
           140.42763157894734,
           142.13815789473682,
           143.8486842105263,
           145.55921052631578,
           147.26973684210526,
           148.9802631578947,
           150.6907894736842,
           152.40131578947367,
           154.11184210526312,
           155.8223684210526,
           157.53289473684208,
           159.24342105263156,
           160.95394736842104,
           162.66447368421052,
           164.375
          ],
          [
           133.05921052631575,
           134.76973684210523,
           136.4802631578947,
           138.19078947368416,
           139.90131578947364,
           141.61184210526312,
           143.3223684210526,
           145.03289473684208,
           146.74342105263156,
           148.45394736842104,
           150.1644736842105,
           151.87499999999997,
           153.58552631578945,
           155.2960526315789,
           157.00657894736838,
           158.71710526315786,
           160.42763157894734,
           162.13815789473682,
           163.8486842105263,
           165.55921052631578
          ],
          [
           134.24342105263156,
           135.95394736842104,
           137.66447368421052,
           139.37499999999997,
           141.08552631578945,
           142.7960526315789,
           144.50657894736838,
           146.21710526315786,
           147.92763157894734,
           149.63815789473682,
           151.3486842105263,
           153.05921052631578,
           154.76973684210526,
           156.4802631578947,
           158.1907894736842,
           159.90131578947364,
           161.61184210526312,
           163.3223684210526,
           165.03289473684208,
           166.74342105263156
          ],
          [
           135.42763157894734,
           137.13815789473682,
           138.8486842105263,
           140.55921052631575,
           142.26973684210523,
           143.98026315789468,
           145.69078947368416,
           147.40131578947364,
           149.11184210526312,
           150.8223684210526,
           152.53289473684208,
           154.24342105263156,
           155.95394736842104,
           157.6644736842105,
           159.37499999999997,
           161.08552631578942,
           162.7960526315789,
           164.50657894736838,
           166.21710526315786,
           167.92763157894734
          ],
          [
           136.61184210526312,
           138.3223684210526,
           140.03289473684208,
           141.74342105263156,
           143.45394736842104,
           145.1644736842105,
           146.87499999999997,
           148.58552631578942,
           150.2960526315789,
           152.00657894736838,
           153.71710526315786,
           155.42763157894734,
           157.13815789473682,
           158.8486842105263,
           160.55921052631578,
           162.26973684210523,
           163.98026315789468,
           165.69078947368416,
           167.40131578947364,
           169.11184210526312
          ],
          [
           137.7960526315789,
           139.50657894736838,
           141.21710526315786,
           142.92763157894734,
           144.63815789473682,
           146.3486842105263,
           148.05921052631578,
           149.76973684210523,
           151.4802631578947,
           153.1907894736842,
           154.90131578947364,
           156.61184210526312,
           158.3223684210526,
           160.03289473684208,
           161.74342105263156,
           163.45394736842104,
           165.1644736842105,
           166.87499999999997,
           168.58552631578945,
           170.29605263157893
          ],
          [
           138.9802631578947,
           140.6907894736842,
           142.40131578947367,
           144.11184210526312,
           145.8223684210526,
           147.53289473684208,
           149.24342105263156,
           150.95394736842104,
           152.66447368421052,
           154.375,
           156.08552631578945,
           157.79605263157893,
           159.5065789473684,
           161.21710526315786,
           162.92763157894734,
           164.63815789473682,
           166.3486842105263,
           168.05921052631578,
           169.76973684210526,
           171.48026315789474
          ],
          [
           140.1644736842105,
           141.87499999999997,
           143.58552631578945,
           145.2960526315789,
           147.00657894736838,
           148.71710526315786,
           150.42763157894734,
           152.13815789473682,
           153.8486842105263,
           155.55921052631578,
           157.26973684210523,
           158.9802631578947,
           160.6907894736842,
           162.40131578947364,
           164.11184210526312,
           165.8223684210526,
           167.53289473684208,
           169.24342105263156,
           170.95394736842104,
           172.66447368421052
          ],
          [
           141.3486842105263,
           143.05921052631578,
           144.76973684210526,
           146.4802631578947,
           148.1907894736842,
           149.90131578947364,
           151.61184210526312,
           153.3223684210526,
           155.03289473684208,
           156.74342105263156,
           158.45394736842104,
           160.16447368421052,
           161.875,
           163.58552631578945,
           165.29605263157893,
           167.00657894736838,
           168.71710526315786,
           170.42763157894734,
           172.13815789473682,
           173.8486842105263
          ],
          [
           142.53289473684208,
           144.24342105263156,
           145.95394736842104,
           147.6644736842105,
           149.37499999999997,
           151.08552631578942,
           152.7960526315789,
           154.50657894736838,
           156.21710526315786,
           157.92763157894734,
           159.63815789473682,
           161.3486842105263,
           163.05921052631578,
           164.76973684210523,
           166.4802631578947,
           168.19078947368416,
           169.90131578947364,
           171.61184210526312,
           173.3223684210526,
           175.03289473684208
          ],
          [
           143.71710526315786,
           145.42763157894734,
           147.13815789473682,
           148.8486842105263,
           150.55921052631578,
           152.26973684210523,
           153.9802631578947,
           155.69078947368416,
           157.40131578947364,
           159.11184210526312,
           160.8223684210526,
           162.53289473684208,
           164.24342105263156,
           165.95394736842104,
           167.66447368421052,
           169.37499999999997,
           171.08552631578942,
           172.7960526315789,
           174.50657894736838,
           176.21710526315786
          ],
          [
           144.90131578947364,
           146.61184210526312,
           148.3223684210526,
           150.03289473684208,
           151.74342105263156,
           153.45394736842104,
           155.16447368421052,
           156.87499999999997,
           158.58552631578945,
           160.29605263157893,
           162.00657894736838,
           163.71710526315786,
           165.42763157894734,
           167.13815789473682,
           168.8486842105263,
           170.55921052631578,
           172.26973684210523,
           173.9802631578947,
           175.6907894736842,
           177.40131578947367
          ],
          [
           146.08552631578945,
           147.79605263157893,
           149.5065789473684,
           151.21710526315786,
           152.92763157894734,
           154.63815789473682,
           156.3486842105263,
           158.05921052631578,
           159.76973684210526,
           161.48026315789474,
           163.1907894736842,
           164.90131578947367,
           166.61184210526315,
           168.3223684210526,
           170.03289473684208,
           171.74342105263156,
           173.45394736842104,
           175.16447368421052,
           176.875,
           178.58552631578948
          ],
          [
           147.26973684210523,
           148.9802631578947,
           150.6907894736842,
           152.40131578947364,
           154.11184210526312,
           155.8223684210526,
           157.53289473684208,
           159.24342105263156,
           160.95394736842104,
           162.66447368421052,
           164.37499999999997,
           166.08552631578945,
           167.79605263157893,
           169.50657894736838,
           171.21710526315786,
           172.92763157894734,
           174.63815789473682,
           176.3486842105263,
           178.05921052631578,
           179.76973684210526
          ],
          [
           148.453947368421,
           150.1644736842105,
           151.87499999999997,
           153.58552631578942,
           155.2960526315789,
           157.00657894736838,
           158.71710526315786,
           160.42763157894734,
           162.13815789473682,
           163.8486842105263,
           165.55921052631575,
           167.26973684210523,
           168.9802631578947,
           170.69078947368416,
           172.40131578947364,
           174.11184210526312,
           175.8223684210526,
           177.53289473684208,
           179.24342105263156,
           180.95394736842104
          ],
          [
           149.63815789473682,
           151.3486842105263,
           153.05921052631578,
           154.76973684210523,
           156.4802631578947,
           158.19078947368416,
           159.90131578947364,
           161.61184210526312,
           163.3223684210526,
           165.03289473684208,
           166.74342105263156,
           168.45394736842104,
           170.16447368421052,
           171.87499999999997,
           173.58552631578945,
           175.2960526315789,
           177.00657894736838,
           178.71710526315786,
           180.42763157894734,
           182.13815789473682
          ],
          [
           150.8223684210526,
           152.53289473684208,
           154.24342105263156,
           155.95394736842104,
           157.66447368421052,
           159.37499999999997,
           161.08552631578945,
           162.7960526315789,
           164.50657894736838,
           166.21710526315786,
           167.92763157894734,
           169.63815789473682,
           171.3486842105263,
           173.05921052631578,
           174.76973684210526,
           176.4802631578947,
           178.19078947368416,
           179.90131578947364,
           181.61184210526312,
           183.3223684210526
          ],
          [
           152.00657894736838,
           153.71710526315786,
           155.42763157894734,
           157.13815789473682,
           158.8486842105263,
           160.55921052631578,
           162.26973684210526,
           163.9802631578947,
           165.6907894736842,
           167.40131578947367,
           169.11184210526312,
           170.8223684210526,
           172.53289473684208,
           174.24342105263156,
           175.95394736842104,
           177.66447368421052,
           179.37499999999997,
           181.08552631578945,
           182.79605263157893,
           184.5065789473684
          ],
          [
           153.19078947368416,
           154.90131578947364,
           156.61184210526312,
           158.3223684210526,
           160.03289473684208,
           161.74342105263156,
           163.45394736842104,
           165.1644736842105,
           166.87499999999997,
           168.58552631578945,
           170.2960526315789,
           172.00657894736838,
           173.71710526315786,
           175.42763157894734,
           177.13815789473682,
           178.8486842105263,
           180.55921052631575,
           182.26973684210523,
           183.9802631578947,
           185.6907894736842
          ],
          [
           154.37499999999997,
           156.08552631578945,
           157.79605263157893,
           159.50657894736838,
           161.21710526315786,
           162.92763157894734,
           164.63815789473682,
           166.3486842105263,
           168.05921052631578,
           169.76973684210526,
           171.4802631578947,
           173.1907894736842,
           174.90131578947367,
           176.61184210526312,
           178.3223684210526,
           180.03289473684208,
           181.74342105263156,
           183.45394736842104,
           185.16447368421052,
           186.875
          ]
         ]
        }
       ],
       "layout": {
        "scene": {
         "xaxis": {
          "title": {
           "text": "Variable X1"
          }
         },
         "yaxis": {
          "title": {
           "text": "Variable X2"
          }
         },
         "zaxis": {
          "title": {
           "text": "Variable Y"
          }
         }
        },
        "template": {
         "data": {
          "bar": [
           {
            "error_x": {
             "color": "#2a3f5f"
            },
            "error_y": {
             "color": "#2a3f5f"
            },
            "marker": {
             "line": {
              "color": "#E5ECF6",
              "width": 0.5
             },
             "pattern": {
              "fillmode": "overlay",
              "size": 10,
              "solidity": 0.2
             }
            },
            "type": "bar"
           }
          ],
          "barpolar": [
           {
            "marker": {
             "line": {
              "color": "#E5ECF6",
              "width": 0.5
             },
             "pattern": {
              "fillmode": "overlay",
              "size": 10,
              "solidity": 0.2
             }
            },
            "type": "barpolar"
           }
          ],
          "carpet": [
           {
            "aaxis": {
             "endlinecolor": "#2a3f5f",
             "gridcolor": "white",
             "linecolor": "white",
             "minorgridcolor": "white",
             "startlinecolor": "#2a3f5f"
            },
            "baxis": {
             "endlinecolor": "#2a3f5f",
             "gridcolor": "white",
             "linecolor": "white",
             "minorgridcolor": "white",
             "startlinecolor": "#2a3f5f"
            },
            "type": "carpet"
           }
          ],
          "choropleth": [
           {
            "colorbar": {
             "outlinewidth": 0,
             "ticks": ""
            },
            "type": "choropleth"
           }
          ],
          "contour": [
           {
            "colorbar": {
             "outlinewidth": 0,
             "ticks": ""
            },
            "colorscale": [
             [
              0,
              "#0d0887"
             ],
             [
              0.1111111111111111,
              "#46039f"
             ],
             [
              0.2222222222222222,
              "#7201a8"
             ],
             [
              0.3333333333333333,
              "#9c179e"
             ],
             [
              0.4444444444444444,
              "#bd3786"
             ],
             [
              0.5555555555555556,
              "#d8576b"
             ],
             [
              0.6666666666666666,
              "#ed7953"
             ],
             [
              0.7777777777777778,
              "#fb9f3a"
             ],
             [
              0.8888888888888888,
              "#fdca26"
             ],
             [
              1,
              "#f0f921"
             ]
            ],
            "type": "contour"
           }
          ],
          "contourcarpet": [
           {
            "colorbar": {
             "outlinewidth": 0,
             "ticks": ""
            },
            "type": "contourcarpet"
           }
          ],
          "heatmap": [
           {
            "colorbar": {
             "outlinewidth": 0,
             "ticks": ""
            },
            "colorscale": [
             [
              0,
              "#0d0887"
             ],
             [
              0.1111111111111111,
              "#46039f"
             ],
             [
              0.2222222222222222,
              "#7201a8"
             ],
             [
              0.3333333333333333,
              "#9c179e"
             ],
             [
              0.4444444444444444,
              "#bd3786"
             ],
             [
              0.5555555555555556,
              "#d8576b"
             ],
             [
              0.6666666666666666,
              "#ed7953"
             ],
             [
              0.7777777777777778,
              "#fb9f3a"
             ],
             [
              0.8888888888888888,
              "#fdca26"
             ],
             [
              1,
              "#f0f921"
             ]
            ],
            "type": "heatmap"
           }
          ],
          "heatmapgl": [
           {
            "colorbar": {
             "outlinewidth": 0,
             "ticks": ""
            },
            "colorscale": [
             [
              0,
              "#0d0887"
             ],
             [
              0.1111111111111111,
              "#46039f"
             ],
             [
              0.2222222222222222,
              "#7201a8"
             ],
             [
              0.3333333333333333,
              "#9c179e"
             ],
             [
              0.4444444444444444,
              "#bd3786"
             ],
             [
              0.5555555555555556,
              "#d8576b"
             ],
             [
              0.6666666666666666,
              "#ed7953"
             ],
             [
              0.7777777777777778,
              "#fb9f3a"
             ],
             [
              0.8888888888888888,
              "#fdca26"
             ],
             [
              1,
              "#f0f921"
             ]
            ],
            "type": "heatmapgl"
           }
          ],
          "histogram": [
           {
            "marker": {
             "pattern": {
              "fillmode": "overlay",
              "size": 10,
              "solidity": 0.2
             }
            },
            "type": "histogram"
           }
          ],
          "histogram2d": [
           {
            "colorbar": {
             "outlinewidth": 0,
             "ticks": ""
            },
            "colorscale": [
             [
              0,
              "#0d0887"
             ],
             [
              0.1111111111111111,
              "#46039f"
             ],
             [
              0.2222222222222222,
              "#7201a8"
             ],
             [
              0.3333333333333333,
              "#9c179e"
             ],
             [
              0.4444444444444444,
              "#bd3786"
             ],
             [
              0.5555555555555556,
              "#d8576b"
             ],
             [
              0.6666666666666666,
              "#ed7953"
             ],
             [
              0.7777777777777778,
              "#fb9f3a"
             ],
             [
              0.8888888888888888,
              "#fdca26"
             ],
             [
              1,
              "#f0f921"
             ]
            ],
            "type": "histogram2d"
           }
          ],
          "histogram2dcontour": [
           {
            "colorbar": {
             "outlinewidth": 0,
             "ticks": ""
            },
            "colorscale": [
             [
              0,
              "#0d0887"
             ],
             [
              0.1111111111111111,
              "#46039f"
             ],
             [
              0.2222222222222222,
              "#7201a8"
             ],
             [
              0.3333333333333333,
              "#9c179e"
             ],
             [
              0.4444444444444444,
              "#bd3786"
             ],
             [
              0.5555555555555556,
              "#d8576b"
             ],
             [
              0.6666666666666666,
              "#ed7953"
             ],
             [
              0.7777777777777778,
              "#fb9f3a"
             ],
             [
              0.8888888888888888,
              "#fdca26"
             ],
             [
              1,
              "#f0f921"
             ]
            ],
            "type": "histogram2dcontour"
           }
          ],
          "mesh3d": [
           {
            "colorbar": {
             "outlinewidth": 0,
             "ticks": ""
            },
            "type": "mesh3d"
           }
          ],
          "parcoords": [
           {
            "line": {
             "colorbar": {
              "outlinewidth": 0,
              "ticks": ""
             }
            },
            "type": "parcoords"
           }
          ],
          "pie": [
           {
            "automargin": true,
            "type": "pie"
           }
          ],
          "scatter": [
           {
            "fillpattern": {
             "fillmode": "overlay",
             "size": 10,
             "solidity": 0.2
            },
            "type": "scatter"
           }
          ],
          "scatter3d": [
           {
            "line": {
             "colorbar": {
              "outlinewidth": 0,
              "ticks": ""
             }
            },
            "marker": {
             "colorbar": {
              "outlinewidth": 0,
              "ticks": ""
             }
            },
            "type": "scatter3d"
           }
          ],
          "scattercarpet": [
           {
            "marker": {
             "colorbar": {
              "outlinewidth": 0,
              "ticks": ""
             }
            },
            "type": "scattercarpet"
           }
          ],
          "scattergeo": [
           {
            "marker": {
             "colorbar": {
              "outlinewidth": 0,
              "ticks": ""
             }
            },
            "type": "scattergeo"
           }
          ],
          "scattergl": [
           {
            "marker": {
             "colorbar": {
              "outlinewidth": 0,
              "ticks": ""
             }
            },
            "type": "scattergl"
           }
          ],
          "scattermapbox": [
           {
            "marker": {
             "colorbar": {
              "outlinewidth": 0,
              "ticks": ""
             }
            },
            "type": "scattermapbox"
           }
          ],
          "scatterpolar": [
           {
            "marker": {
             "colorbar": {
              "outlinewidth": 0,
              "ticks": ""
             }
            },
            "type": "scatterpolar"
           }
          ],
          "scatterpolargl": [
           {
            "marker": {
             "colorbar": {
              "outlinewidth": 0,
              "ticks": ""
             }
            },
            "type": "scatterpolargl"
           }
          ],
          "scatterternary": [
           {
            "marker": {
             "colorbar": {
              "outlinewidth": 0,
              "ticks": ""
             }
            },
            "type": "scatterternary"
           }
          ],
          "surface": [
           {
            "colorbar": {
             "outlinewidth": 0,
             "ticks": ""
            },
            "colorscale": [
             [
              0,
              "#0d0887"
             ],
             [
              0.1111111111111111,
              "#46039f"
             ],
             [
              0.2222222222222222,
              "#7201a8"
             ],
             [
              0.3333333333333333,
              "#9c179e"
             ],
             [
              0.4444444444444444,
              "#bd3786"
             ],
             [
              0.5555555555555556,
              "#d8576b"
             ],
             [
              0.6666666666666666,
              "#ed7953"
             ],
             [
              0.7777777777777778,
              "#fb9f3a"
             ],
             [
              0.8888888888888888,
              "#fdca26"
             ],
             [
              1,
              "#f0f921"
             ]
            ],
            "type": "surface"
           }
          ],
          "table": [
           {
            "cells": {
             "fill": {
              "color": "#EBF0F8"
             },
             "line": {
              "color": "white"
             }
            },
            "header": {
             "fill": {
              "color": "#C8D4E3"
             },
             "line": {
              "color": "white"
             }
            },
            "type": "table"
           }
          ]
         },
         "layout": {
          "annotationdefaults": {
           "arrowcolor": "#2a3f5f",
           "arrowhead": 0,
           "arrowwidth": 1
          },
          "autotypenumbers": "strict",
          "coloraxis": {
           "colorbar": {
            "outlinewidth": 0,
            "ticks": ""
           }
          },
          "colorscale": {
           "diverging": [
            [
             0,
             "#8e0152"
            ],
            [
             0.1,
             "#c51b7d"
            ],
            [
             0.2,
             "#de77ae"
            ],
            [
             0.3,
             "#f1b6da"
            ],
            [
             0.4,
             "#fde0ef"
            ],
            [
             0.5,
             "#f7f7f7"
            ],
            [
             0.6,
             "#e6f5d0"
            ],
            [
             0.7,
             "#b8e186"
            ],
            [
             0.8,
             "#7fbc41"
            ],
            [
             0.9,
             "#4d9221"
            ],
            [
             1,
             "#276419"
            ]
           ],
           "sequential": [
            [
             0,
             "#0d0887"
            ],
            [
             0.1111111111111111,
             "#46039f"
            ],
            [
             0.2222222222222222,
             "#7201a8"
            ],
            [
             0.3333333333333333,
             "#9c179e"
            ],
            [
             0.4444444444444444,
             "#bd3786"
            ],
            [
             0.5555555555555556,
             "#d8576b"
            ],
            [
             0.6666666666666666,
             "#ed7953"
            ],
            [
             0.7777777777777778,
             "#fb9f3a"
            ],
            [
             0.8888888888888888,
             "#fdca26"
            ],
            [
             1,
             "#f0f921"
            ]
           ],
           "sequentialminus": [
            [
             0,
             "#0d0887"
            ],
            [
             0.1111111111111111,
             "#46039f"
            ],
            [
             0.2222222222222222,
             "#7201a8"
            ],
            [
             0.3333333333333333,
             "#9c179e"
            ],
            [
             0.4444444444444444,
             "#bd3786"
            ],
            [
             0.5555555555555556,
             "#d8576b"
            ],
            [
             0.6666666666666666,
             "#ed7953"
            ],
            [
             0.7777777777777778,
             "#fb9f3a"
            ],
            [
             0.8888888888888888,
             "#fdca26"
            ],
            [
             1,
             "#f0f921"
            ]
           ]
          },
          "colorway": [
           "#636efa",
           "#EF553B",
           "#00cc96",
           "#ab63fa",
           "#FFA15A",
           "#19d3f3",
           "#FF6692",
           "#B6E880",
           "#FF97FF",
           "#FECB52"
          ],
          "font": {
           "color": "#2a3f5f"
          },
          "geo": {
           "bgcolor": "white",
           "lakecolor": "white",
           "landcolor": "#E5ECF6",
           "showlakes": true,
           "showland": true,
           "subunitcolor": "white"
          },
          "hoverlabel": {
           "align": "left"
          },
          "hovermode": "closest",
          "mapbox": {
           "style": "light"
          },
          "paper_bgcolor": "white",
          "plot_bgcolor": "#E5ECF6",
          "polar": {
           "angularaxis": {
            "gridcolor": "white",
            "linecolor": "white",
            "ticks": ""
           },
           "bgcolor": "#E5ECF6",
           "radialaxis": {
            "gridcolor": "white",
            "linecolor": "white",
            "ticks": ""
           }
          },
          "scene": {
           "xaxis": {
            "backgroundcolor": "#E5ECF6",
            "gridcolor": "white",
            "gridwidth": 2,
            "linecolor": "white",
            "showbackground": true,
            "ticks": "",
            "zerolinecolor": "white"
           },
           "yaxis": {
            "backgroundcolor": "#E5ECF6",
            "gridcolor": "white",
            "gridwidth": 2,
            "linecolor": "white",
            "showbackground": true,
            "ticks": "",
            "zerolinecolor": "white"
           },
           "zaxis": {
            "backgroundcolor": "#E5ECF6",
            "gridcolor": "white",
            "gridwidth": 2,
            "linecolor": "white",
            "showbackground": true,
            "ticks": "",
            "zerolinecolor": "white"
           }
          },
          "shapedefaults": {
           "line": {
            "color": "#2a3f5f"
           }
          },
          "ternary": {
           "aaxis": {
            "gridcolor": "white",
            "linecolor": "white",
            "ticks": ""
           },
           "baxis": {
            "gridcolor": "white",
            "linecolor": "white",
            "ticks": ""
           },
           "bgcolor": "#E5ECF6",
           "caxis": {
            "gridcolor": "white",
            "linecolor": "white",
            "ticks": ""
           }
          },
          "title": {
           "x": 0.05
          },
          "xaxis": {
           "automargin": true,
           "gridcolor": "white",
           "linecolor": "white",
           "ticks": "",
           "title": {
            "standoff": 15
           },
           "zerolinecolor": "white",
           "zerolinewidth": 2
          },
          "yaxis": {
           "automargin": true,
           "gridcolor": "white",
           "linecolor": "white",
           "ticks": "",
           "title": {
            "standoff": 15
           },
           "zerolinecolor": "white",
           "zerolinewidth": 2
          }
         }
        },
        "title": {
         "text": "REGRESION<br>R2: 0.8941176470588236 RMSE: 2.1213203435596424"
        }
       }
      }
     },
     "metadata": {},
     "output_type": "display_data"
    }
   ],
   "source": [
    "# Predecir valores para el plano de regresión\n",
    "x1_range = np.linspace(min(X['width']), max(X['width']), 20)\n",
    "x2_range = np.linspace(min(X['shoe_size']), max(X['shoe_size']), 20)\n",
    "x1_mesh, x2_mesh = np.meshgrid(x1_range, x2_range)\n",
    "y_mesh = lr_first.predict(np.vstack((x1_mesh.ravel(), x2_mesh.ravel())).T).reshape(x1_mesh.shape)\n",
    "\n",
    "# Crear scatterplot 3D de los puntos\n",
    "scatter = go.Scatter3d(\n",
    "    x=X['width'], y=X['shoe_size'], z=y,\n",
    "    mode='markers',\n",
    "    marker=dict(size=8, color='red')\n",
    ")\n",
    "\n",
    "# Crear el plano de regresión\n",
    "surface = go.Surface(\n",
    "    x=x1_mesh, y=x2_mesh, z=y_mesh,\n",
    "    colorscale='Viridis', opacity=0.5\n",
    ")\n",
    "\n",
    "# Configuración del layout\n",
    "layout = go.Layout(\n",
    "    title=f\"REGRESION<br>R2: {r2_score(y_test_f, pred_first)} RMSE: {root_mean_squared_error(y_test_f, pred_first)}\",\n",
    "    scene=dict(\n",
    "        xaxis_title='Variable X1',\n",
    "        yaxis_title='Variable X2',\n",
    "        zaxis_title='Variable Y'\n",
    "    )\n",
    ")\n",
    "\n",
    "# Crear la figura\n",
    "fig = go.Figure(data=[scatter, surface], layout=layout)\n",
    "\n",
    "# Mostrar la figura interactiva\n",
    "fig.show()\n"
   ]
  },
  {
   "cell_type": "markdown",
   "metadata": {},
   "source": [
    "**¿Por qué seleccionaste ese modelo?**\n",
    "\n",
    "Al tener pocos datos decidimos hacer una regresión simple ya que es un modelo fácil de interpretar y de aplicar. Modelos más complejos pueden sobreajustar los datos sobretodo con la poca cantidad de datos que hay."
   ]
  },
  {
   "cell_type": "markdown",
   "metadata": {},
   "source": [
    "**¿Utilizaste alguna regularización?**\n",
    "\n",
    "No, se hizo una regresión lineal simple, sin regularización."
   ]
  },
  {
   "cell_type": "markdown",
   "metadata": {},
   "source": [
    "## Parte 2"
   ]
  },
  {
   "cell_type": "markdown",
   "metadata": {},
   "source": [
    "### Modelo Iteso"
   ]
  },
  {
   "cell_type": "code",
   "execution_count": 219,
   "metadata": {},
   "outputs": [],
   "source": [
    "path = \"datos_gente_1.csv\"\n",
    "\n",
    "df_comb = pd.read_csv(path)"
   ]
  },
  {
   "cell_type": "code",
   "execution_count": 220,
   "metadata": {},
   "outputs": [
    {
     "data": {
      "text/plain": [
       "array([[<Axes: title={'center': 'height'}>,\n",
       "        <Axes: title={'center': 'width'}>],\n",
       "       [<Axes: title={'center': 'shoe_size'}>, <Axes: >]], dtype=object)"
      ]
     },
     "execution_count": 220,
     "metadata": {},
     "output_type": "execute_result"
    },
    {
     "data": {
      "image/png": "[encoded data removed]",
      "text/plain": [
       "<Figure size 640x480 with 4 Axes>"
      ]
     },
     "metadata": {},
     "output_type": "display_data"
    }
   ],
   "source": [
    "df_comb.hist(bins=20)"
   ]
  },
  {
   "cell_type": "code",
   "execution_count": 221,
   "metadata": {},
   "outputs": [],
   "source": [
    "X = df_comb[[\"width\", \"shoe_size\"]]\n",
    "y = df_comb[\"height\"]"
   ]
  },
  {
   "cell_type": "code",
   "execution_count": 222,
   "metadata": {},
   "outputs": [
    {
     "data": {
      "text/plain": [
       "<matplotlib.collections.PathCollection at 0x1972962ee90>"
      ]
     },
     "execution_count": 222,
     "metadata": {},
     "output_type": "execute_result"
    },
    {
     "data": {
      "image/png": "[encoded data removed]",
      "text/plain": [
       "<Figure size 640x480 with 1 Axes>"
      ]
     },
     "metadata": {},
     "output_type": "display_data"
    }
   ],
   "source": [
    "plt.scatter(df_comb[\"shoe_size\"], df_comb[\"height\"])"
   ]
  },
  {
   "cell_type": "code",
   "execution_count": 223,
   "metadata": {},
   "outputs": [],
   "source": [
    "q25 = np.quantile(y, 0.25)\n",
    "q75 = np.quantile(y, 0.75)\n",
    "\n",
    "df_left = df_comb[df_comb[\"height\"] <= q25]\n",
    "df_right = df_comb[df_comb[\"height\"] >= q75]\n",
    "df_center = df_comb[(df_comb[\"height\"] >= q25) & (df_comb[\"height\"] <= q75)] "
   ]
  },
  {
   "cell_type": "code",
   "execution_count": 224,
   "metadata": {},
   "outputs": [],
   "source": [
    "def sintetizar_datos(df_a_combinar, df_new):\n",
    "    X_left = df_new[[\"width\", \"shoe_size\"]]\n",
    "    y_left = df_new[\"height\"]\n",
    "\n",
    "    w_m = np.mean(df_new[\"width\"])\n",
    "    s_m = np.mean(df_new[\"shoe_size\"])\n",
    "    h_m = np.mean(df_new[\"height\"])\n",
    "\n",
    "    w_s = np.std(df_new[\"width\"])\n",
    "    s_s = np.std(df_new[\"shoe_size\"])\n",
    "    h_s = np.std(df_new[\"height\"])\n",
    "\n",
    "    new_data_w = np.random.normal(loc=w_m, scale=w_s, size=100)\n",
    "    new_data_s = np.random.normal(loc=s_m, scale=s_s, size=100)\n",
    "    new_data_h = np.random.normal(loc=h_m, scale=h_s, size=100)\n",
    "\n",
    "    new_sorted_w = sorted(new_data_w)\n",
    "    new_sorted_s = sorted(new_data_s)\n",
    "    new_sorted_h = sorted(new_data_h)\n",
    "\n",
    "    df_new_1 = pd.DataFrame({\n",
    "        \"width\": new_sorted_w,\n",
    "        \"shoe_size\": new_sorted_s,\n",
    "        \"height\": new_sorted_h\n",
    "    })\n",
    "\n",
    "    df_new_1 = df_new_1.apply(lambda x: round(x, 0))\n",
    "\n",
    "    df_a_combinar = pd.concat([df_a_combinar, df_new_1])\n",
    "    return df_a_combinar"
   ]
  },
  {
   "cell_type": "code",
   "execution_count": 225,
   "metadata": {},
   "outputs": [],
   "source": [
    "data_left = sintetizar_datos(df_comb, df_left)\n",
    "data_right = sintetizar_datos(df_comb, df_right)"
   ]
  },
  {
   "cell_type": "code",
   "execution_count": 226,
   "metadata": {},
   "outputs": [
    {
     "data": {
      "text/plain": [
       "(array([[<Axes: title={'center': 'height'}>,\n",
       "         <Axes: title={'center': 'width'}>],\n",
       "        [<Axes: title={'center': 'shoe_size'}>, <Axes: >]], dtype=object),\n",
       " array([[<Axes: title={'center': 'height'}>,\n",
       "         <Axes: title={'center': 'width'}>],\n",
       "        [<Axes: title={'center': 'shoe_size'}>, <Axes: >]], dtype=object))"
      ]
     },
     "execution_count": 226,
     "metadata": {},
     "output_type": "execute_result"
    },
    {
     "data": {
      "image/png": "[encoded data removed]",
      "text/plain": [
       "<Figure size 640x480 with 4 Axes>"
      ]
     },
     "metadata": {},
     "output_type": "display_data"
    },
    {
     "data": {
      "image/png": "[encoded data removed]",
      "text/plain": [
       "<Figure size 640x480 with 4 Axes>"
      ]
     },
     "metadata": {},
     "output_type": "display_data"
    }
   ],
   "source": [
    "data_left.hist(), data_right.hist()"
   ]
  },
  {
   "cell_type": "code",
   "execution_count": 227,
   "metadata": {},
   "outputs": [],
   "source": [
    "x_train_left, x_test_left, y_train_left, y_test_left = train_test_split(data_left.drop(\"height\", axis=1), data_left[\"height\"], test_size= 0.2, random_state=55)\n",
    "x_train_right, x_test_right, y_train_right, y_test_right = train_test_split(data_right.drop(\"height\", axis=1), data_right[\"height\"], test_size= 0.2, random_state=55)\n",
    "x_train_center, x_test_center, y_train_center, y_test_center = train_test_split(df_comb.drop(\"height\", axis=1), df_comb[\"height\"], test_size= 0.2, random_state=55)"
   ]
  },
  {
   "cell_type": "code",
   "execution_count": 228,
   "metadata": {},
   "outputs": [],
   "source": [
    "ss_left = StandardScaler()\n",
    "ss_right = StandardScaler()\n",
    "ss_center = StandardScaler()\n",
    "\n",
    "\n",
    "X_train_s_left = ss_left.fit_transform(x_train_left)\n",
    "X_test_s_left = ss_left.transform(x_test_left)\n",
    "\n",
    "X_train_s_right = ss_right.fit_transform(x_train_right)\n",
    "X_test_s_right = ss_right.transform(x_test_right)\n",
    "\n",
    "X_train_s_center = ss_center.fit_transform(x_train_center)\n",
    "X_test_s_center = ss_center.transform(x_test_center)"
   ]
  },
  {
   "cell_type": "markdown",
   "metadata": {},
   "source": [
    "### Right model\n",
    "\n",
    "Aqui se crea el modelo que predice de manera más adecuada los valores de la derecha"
   ]
  },
  {
   "cell_type": "code",
   "execution_count": 229,
   "metadata": {},
   "outputs": [
    {
     "name": "stdout",
     "output_type": "stream",
     "text": [
      "R2: 0.8579685828534016 RMSE: 3.173212873716381\n"
     ]
    }
   ],
   "source": [
    "rg_r = Ridge(alpha = 1.26)\n",
    "rg_r.fit(X_train_s_right, y_train_right)\n",
    "r_pred_right = rg_r.predict(X_test_s_right)\n",
    "print(f\"R2: {r2_score(y_test_right, r_pred_right)} RMSE: {root_mean_squared_error(y_test_right, r_pred_right)}\")"
   ]
  },
  {
   "cell_type": "code",
   "execution_count": 230,
   "metadata": {},
   "outputs": [
    {
     "name": "stdout",
     "output_type": "stream",
     "text": [
      "Pendientes: [1.66389592 7.35357628]\n",
      "Intercepto: 174.35570469798657\n"
     ]
    }
   ],
   "source": [
    "print(f\"Pendientes: {rg_r.coef_}\")\n",
    "print(f\"Intercepto: {rg_r.intercept_}\")"
   ]
  },
  {
   "cell_type": "code",
   "execution_count": 231,
   "metadata": {},
   "outputs": [
    {
     "name": "stderr",
     "output_type": "stream",
     "text": [
      "c:\\Users\\cesar\\anaconda3\\envs\\iteso\\lib\\site-packages\\sklearn\\base.py:493: UserWarning:\n",
      "\n",
      "X does not have valid feature names, but StandardScaler was fitted with feature names\n",
      "\n"
     ]
    }
   ],
   "source": [
    "values_para_right = ss_right.transform([[36,22.5]])"
   ]
  },
  {
   "cell_type": "code",
   "execution_count": 232,
   "metadata": {},
   "outputs": [
    {
     "data": {
      "text/plain": [
       "array([154.59244685])"
      ]
     },
     "execution_count": 232,
     "metadata": {},
     "output_type": "execute_result"
    }
   ],
   "source": [
    "rg_r.predict(values_para_right)"
   ]
  },
  {
   "cell_type": "code",
   "execution_count": 233,
   "metadata": {},
   "outputs": [
    {
     "name": "stderr",
     "output_type": "stream",
     "text": [
      "c:\\Users\\cesar\\anaconda3\\envs\\iteso\\lib\\site-packages\\sklearn\\base.py:493: UserWarning:\n",
      "\n",
      "X does not have valid feature names, but StandardScaler was fitted with feature names\n",
      "\n"
     ]
    },
    {
     "data": {
      "application/vnd.plotly.v1+json": {
       "config": {
        "plotlyServerURL": "https://plot.ly"
       },
       "data": [
        {
         "marker": {
          "color": "red",
          "opacity": 0.7,
          "size": 8
         },
         "mode": "markers",
         "type": "scatter3d",
         "x": [
          45,
          50,
          56,
          53,
          51,
          49,
          45,
          46,
          36,
          49,
          42,
          46,
          51,
          42,
          42,
          39,
          51,
          36,
          43,
          56,
          42,
          51,
          41,
          47,
          45,
          47,
          47,
          48,
          42,
          49,
          46,
          49,
          48,
          61,
          46,
          49,
          40,
          54
         ],
         "y": [
          28,
          28,
          30,
          29,
          29,
          29,
          28,
          28,
          23,
          29,
          26,
          28,
          29,
          27,
          27,
          24.5,
          29,
          22.5,
          28,
          30,
          27,
          29,
          23.5,
          28,
          27.5,
          28,
          27,
          27,
          28,
          29,
          28,
          29,
          28,
          26,
          28,
          27,
          26,
          29
         ],
         "z": [
          178,
          173,
          189,
          186,
          185,
          183,
          178,
          178,
          164,
          183,
          170,
          179,
          184,
          174,
          175,
          166,
          184,
          153,
          182,
          190,
          177,
          184,
          153,
          181,
          172,
          180,
          168,
          172,
          177,
          183,
          179,
          183,
          182,
          168,
          180,
          176,
          171,
          186
         ]
        },
        {
         "colorscale": [
          [
           0,
           "#440154"
          ],
          [
           0.1111111111111111,
           "#482878"
          ],
          [
           0.2222222222222222,
           "#3e4989"
          ],
          [
           0.3333333333333333,
           "#31688e"
          ],
          [
           0.4444444444444444,
           "#26828e"
          ],
          [
           0.5555555555555556,
           "#1f9e89"
          ],
          [
           0.6666666666666666,
           "#35b779"
          ],
          [
           0.7777777777777778,
           "#6ece58"
          ],
          [
           0.8888888888888888,
           "#b5de2b"
          ],
          [
           1,
           "#fde725"
          ]
         ],
         "opacity": 0.5,
         "type": "surface",
         "x": [
          [
           33,
           34.26315789473684,
           35.526315789473685,
           36.78947368421053,
           38.05263157894737,
           39.31578947368421,
           40.578947368421055,
           41.84210526315789,
           43.10526315789474,
           44.368421052631575,
           45.631578947368425,
           46.89473684210526,
           48.1578947368421,
           49.421052631578945,
           50.68421052631579,
           51.94736842105263,
           53.21052631578947,
           54.473684210526315,
           55.73684210526316,
           57
          ],
          [
           33,
           34.26315789473684,
           35.526315789473685,
           36.78947368421053,
           38.05263157894737,
           39.31578947368421,
           40.578947368421055,
           41.84210526315789,
           43.10526315789474,
           44.368421052631575,
           45.631578947368425,
           46.89473684210526,
           48.1578947368421,
           49.421052631578945,
           50.68421052631579,
           51.94736842105263,
           53.21052631578947,
           54.473684210526315,
           55.73684210526316,
           57
          ],
          [
           33,
           34.26315789473684,
           35.526315789473685,
           36.78947368421053,
           38.05263157894737,
           39.31578947368421,
           40.578947368421055,
           41.84210526315789,
           43.10526315789474,
           44.368421052631575,
           45.631578947368425,
           46.89473684210526,
           48.1578947368421,
           49.421052631578945,
           50.68421052631579,
           51.94736842105263,
           53.21052631578947,
           54.473684210526315,
           55.73684210526316,
           57
          ],
          [
           33,
           34.26315789473684,
           35.526315789473685,
           36.78947368421053,
           38.05263157894737,
           39.31578947368421,
           40.578947368421055,
           41.84210526315789,
           43.10526315789474,
           44.368421052631575,
           45.631578947368425,
           46.89473684210526,
           48.1578947368421,
           49.421052631578945,
           50.68421052631579,
           51.94736842105263,
           53.21052631578947,
           54.473684210526315,
           55.73684210526316,
           57
          ],
          [
           33,
           34.26315789473684,
           35.526315789473685,
           36.78947368421053,
           38.05263157894737,
           39.31578947368421,
           40.578947368421055,
           41.84210526315789,
           43.10526315789474,
           44.368421052631575,
           45.631578947368425,
           46.89473684210526,
           48.1578947368421,
           49.421052631578945,
           50.68421052631579,
           51.94736842105263,
           53.21052631578947,
           54.473684210526315,
           55.73684210526316,
           57
          ],
          [
           33,
           34.26315789473684,
           35.526315789473685,
           36.78947368421053,
           38.05263157894737,
           39.31578947368421,
           40.578947368421055,
           41.84210526315789,
           43.10526315789474,
           44.368421052631575,
           45.631578947368425,
           46.89473684210526,
           48.1578947368421,
           49.421052631578945,
           50.68421052631579,
           51.94736842105263,
           53.21052631578947,
           54.473684210526315,
           55.73684210526316,
           57
          ],
          [
           33,
           34.26315789473684,
           35.526315789473685,
           36.78947368421053,
           38.05263157894737,
           39.31578947368421,
           40.578947368421055,
           41.84210526315789,
           43.10526315789474,
           44.368421052631575,
           45.631578947368425,
           46.89473684210526,
           48.1578947368421,
           49.421052631578945,
           50.68421052631579,
           51.94736842105263,
           53.21052631578947,
           54.473684210526315,
           55.73684210526316,
           57
          ],
          [
           33,
           34.26315789473684,
           35.526315789473685,
           36.78947368421053,
           38.05263157894737,
           39.31578947368421,
           40.578947368421055,
           41.84210526315789,
           43.10526315789474,
           44.368421052631575,
           45.631578947368425,
           46.89473684210526,
           48.1578947368421,
           49.421052631578945,
           50.68421052631579,
           51.94736842105263,
           53.21052631578947,
           54.473684210526315,
           55.73684210526316,
           57
          ],
          [
           33,
           34.26315789473684,
           35.526315789473685,
           36.78947368421053,
           38.05263157894737,
           39.31578947368421,
           40.578947368421055,
           41.84210526315789,
           43.10526315789474,
           44.368421052631575,
           45.631578947368425,
           46.89473684210526,
           48.1578947368421,
           49.421052631578945,
           50.68421052631579,
           51.94736842105263,
           53.21052631578947,
           54.473684210526315,
           55.73684210526316,
           57
          ],
          [
           33,
           34.26315789473684,
           35.526315789473685,
           36.78947368421053,
           38.05263157894737,
           39.31578947368421,
           40.578947368421055,
           41.84210526315789,
           43.10526315789474,
           44.368421052631575,
           45.631578947368425,
           46.89473684210526,
           48.1578947368421,
           49.421052631578945,
           50.68421052631579,
           51.94736842105263,
           53.21052631578947,
           54.473684210526315,
           55.73684210526316,
           57
          ],
          [
           33,
           34.26315789473684,
           35.526315789473685,
           36.78947368421053,
           38.05263157894737,
           39.31578947368421,
           40.578947368421055,
           41.84210526315789,
           43.10526315789474,
           44.368421052631575,
           45.631578947368425,
           46.89473684210526,
           48.1578947368421,
           49.421052631578945,
           50.68421052631579,
           51.94736842105263,
           53.21052631578947,
           54.473684210526315,
           55.73684210526316,
           57
          ],
          [
           33,
           34.26315789473684,
           35.526315789473685,
           36.78947368421053,
           38.05263157894737,
           39.31578947368421,
           40.578947368421055,
           41.84210526315789,
           43.10526315789474,
           44.368421052631575,
           45.631578947368425,
           46.89473684210526,
           48.1578947368421,
           49.421052631578945,
           50.68421052631579,
           51.94736842105263,
           53.21052631578947,
           54.473684210526315,
           55.73684210526316,
           57
          ],
          [
           33,
           34.26315789473684,
           35.526315789473685,
           36.78947368421053,
           38.05263157894737,
           39.31578947368421,
           40.578947368421055,
           41.84210526315789,
           43.10526315789474,
           44.368421052631575,
           45.631578947368425,
           46.89473684210526,
           48.1578947368421,
           49.421052631578945,
           50.68421052631579,
           51.94736842105263,
           53.21052631578947,
           54.473684210526315,
           55.73684210526316,
           57
          ],
          [
           33,
           34.26315789473684,
           35.526315789473685,
           36.78947368421053,
           38.05263157894737,
           39.31578947368421,
           40.578947368421055,
           41.84210526315789,
           43.10526315789474,
           44.368421052631575,
           45.631578947368425,
           46.89473684210526,
           48.1578947368421,
           49.421052631578945,
           50.68421052631579,
           51.94736842105263,
           53.21052631578947,
           54.473684210526315,
           55.73684210526316,
           57
          ],
          [
           33,
           34.26315789473684,
           35.526315789473685,
           36.78947368421053,
           38.05263157894737,
           39.31578947368421,
           40.578947368421055,
           41.84210526315789,
           43.10526315789474,
           44.368421052631575,
           45.631578947368425,
           46.89473684210526,
           48.1578947368421,
           49.421052631578945,
           50.68421052631579,
           51.94736842105263,
           53.21052631578947,
           54.473684210526315,
           55.73684210526316,
           57
          ],
          [
           33,
           34.26315789473684,
           35.526315789473685,
           36.78947368421053,
           38.05263157894737,
           39.31578947368421,
           40.578947368421055,
           41.84210526315789,
           43.10526315789474,
           44.368421052631575,
           45.631578947368425,
           46.89473684210526,
           48.1578947368421,
           49.421052631578945,
           50.68421052631579,
           51.94736842105263,
           53.21052631578947,
           54.473684210526315,
           55.73684210526316,
           57
          ],
          [
           33,
           34.26315789473684,
           35.526315789473685,
           36.78947368421053,
           38.05263157894737,
           39.31578947368421,
           40.578947368421055,
           41.84210526315789,
           43.10526315789474,
           44.368421052631575,
           45.631578947368425,
           46.89473684210526,
           48.1578947368421,
           49.421052631578945,
           50.68421052631579,
           51.94736842105263,
           53.21052631578947,
           54.473684210526315,
           55.73684210526316,
           57
          ],
          [
           33,
           34.26315789473684,
           35.526315789473685,
           36.78947368421053,
           38.05263157894737,
           39.31578947368421,
           40.578947368421055,
           41.84210526315789,
           43.10526315789474,
           44.368421052631575,
           45.631578947368425,
           46.89473684210526,
           48.1578947368421,
           49.421052631578945,
           50.68421052631579,
           51.94736842105263,
           53.21052631578947,
           54.473684210526315,
           55.73684210526316,
           57
          ],
          [
           33,
           34.26315789473684,
           35.526315789473685,
           36.78947368421053,
           38.05263157894737,
           39.31578947368421,
           40.578947368421055,
           41.84210526315789,
           43.10526315789474,
           44.368421052631575,
           45.631578947368425,
           46.89473684210526,
           48.1578947368421,
           49.421052631578945,
           50.68421052631579,
           51.94736842105263,
           53.21052631578947,
           54.473684210526315,
           55.73684210526316,
           57
          ],
          [
           33,
           34.26315789473684,
           35.526315789473685,
           36.78947368421053,
           38.05263157894737,
           39.31578947368421,
           40.578947368421055,
           41.84210526315789,
           43.10526315789474,
           44.368421052631575,
           45.631578947368425,
           46.89473684210526,
           48.1578947368421,
           49.421052631578945,
           50.68421052631579,
           51.94736842105263,
           53.21052631578947,
           54.473684210526315,
           55.73684210526316,
           57
          ]
         ],
         "y": [
          [
           22,
           22,
           22,
           22,
           22,
           22,
           22,
           22,
           22,
           22,
           22,
           22,
           22,
           22,
           22,
           22,
           22,
           22,
           22,
           22
          ],
          [
           22.42105263157895,
           22.42105263157895,
           22.42105263157895,
           22.42105263157895,
           22.42105263157895,
           22.42105263157895,
           22.42105263157895,
           22.42105263157895,
           22.42105263157895,
           22.42105263157895,
           22.42105263157895,
           22.42105263157895,
           22.42105263157895,
           22.42105263157895,
           22.42105263157895,
           22.42105263157895,
           22.42105263157895,
           22.42105263157895,
           22.42105263157895,
           22.42105263157895
          ],
          [
           22.842105263157894,
           22.842105263157894,
           22.842105263157894,
           22.842105263157894,
           22.842105263157894,
           22.842105263157894,
           22.842105263157894,
           22.842105263157894,
           22.842105263157894,
           22.842105263157894,
           22.842105263157894,
           22.842105263157894,
           22.842105263157894,
           22.842105263157894,
           22.842105263157894,
           22.842105263157894,
           22.842105263157894,
           22.842105263157894,
           22.842105263157894,
           22.842105263157894
          ],
          [
           23.263157894736842,
           23.263157894736842,
           23.263157894736842,
           23.263157894736842,
           23.263157894736842,
           23.263157894736842,
           23.263157894736842,
           23.263157894736842,
           23.263157894736842,
           23.263157894736842,
           23.263157894736842,
           23.263157894736842,
           23.263157894736842,
           23.263157894736842,
           23.263157894736842,
           23.263157894736842,
           23.263157894736842,
           23.263157894736842,
           23.263157894736842,
           23.263157894736842
          ],
          [
           23.684210526315788,
           23.684210526315788,
           23.684210526315788,
           23.684210526315788,
           23.684210526315788,
           23.684210526315788,
           23.684210526315788,
           23.684210526315788,
           23.684210526315788,
           23.684210526315788,
           23.684210526315788,
           23.684210526315788,
           23.684210526315788,
           23.684210526315788,
           23.684210526315788,
           23.684210526315788,
           23.684210526315788,
           23.684210526315788,
           23.684210526315788,
           23.684210526315788
          ],
          [
           24.105263157894736,
           24.105263157894736,
           24.105263157894736,
           24.105263157894736,
           24.105263157894736,
           24.105263157894736,
           24.105263157894736,
           24.105263157894736,
           24.105263157894736,
           24.105263157894736,
           24.105263157894736,
           24.105263157894736,
           24.105263157894736,
           24.105263157894736,
           24.105263157894736,
           24.105263157894736,
           24.105263157894736,
           24.105263157894736,
           24.105263157894736,
           24.105263157894736
          ],
          [
           24.526315789473685,
           24.526315789473685,
           24.526315789473685,
           24.526315789473685,
           24.526315789473685,
           24.526315789473685,
           24.526315789473685,
           24.526315789473685,
           24.526315789473685,
           24.526315789473685,
           24.526315789473685,
           24.526315789473685,
           24.526315789473685,
           24.526315789473685,
           24.526315789473685,
           24.526315789473685,
           24.526315789473685,
           24.526315789473685,
           24.526315789473685,
           24.526315789473685
          ],
          [
           24.94736842105263,
           24.94736842105263,
           24.94736842105263,
           24.94736842105263,
           24.94736842105263,
           24.94736842105263,
           24.94736842105263,
           24.94736842105263,
           24.94736842105263,
           24.94736842105263,
           24.94736842105263,
           24.94736842105263,
           24.94736842105263,
           24.94736842105263,
           24.94736842105263,
           24.94736842105263,
           24.94736842105263,
           24.94736842105263,
           24.94736842105263,
           24.94736842105263
          ],
          [
           25.36842105263158,
           25.36842105263158,
           25.36842105263158,
           25.36842105263158,
           25.36842105263158,
           25.36842105263158,
           25.36842105263158,
           25.36842105263158,
           25.36842105263158,
           25.36842105263158,
           25.36842105263158,
           25.36842105263158,
           25.36842105263158,
           25.36842105263158,
           25.36842105263158,
           25.36842105263158,
           25.36842105263158,
           25.36842105263158,
           25.36842105263158,
           25.36842105263158
          ],
          [
           25.789473684210527,
           25.789473684210527,
           25.789473684210527,
           25.789473684210527,
           25.789473684210527,
           25.789473684210527,
           25.789473684210527,
           25.789473684210527,
           25.789473684210527,
           25.789473684210527,
           25.789473684210527,
           25.789473684210527,
           25.789473684210527,
           25.789473684210527,
           25.789473684210527,
           25.789473684210527,
           25.789473684210527,
           25.789473684210527,
           25.789473684210527,
           25.789473684210527
          ],
          [
           26.210526315789473,
           26.210526315789473,
           26.210526315789473,
           26.210526315789473,
           26.210526315789473,
           26.210526315789473,
           26.210526315789473,
           26.210526315789473,
           26.210526315789473,
           26.210526315789473,
           26.210526315789473,
           26.210526315789473,
           26.210526315789473,
           26.210526315789473,
           26.210526315789473,
           26.210526315789473,
           26.210526315789473,
           26.210526315789473,
           26.210526315789473,
           26.210526315789473
          ],
          [
           26.63157894736842,
           26.63157894736842,
           26.63157894736842,
           26.63157894736842,
           26.63157894736842,
           26.63157894736842,
           26.63157894736842,
           26.63157894736842,
           26.63157894736842,
           26.63157894736842,
           26.63157894736842,
           26.63157894736842,
           26.63157894736842,
           26.63157894736842,
           26.63157894736842,
           26.63157894736842,
           26.63157894736842,
           26.63157894736842,
           26.63157894736842,
           26.63157894736842
          ],
          [
           27.05263157894737,
           27.05263157894737,
           27.05263157894737,
           27.05263157894737,
           27.05263157894737,
           27.05263157894737,
           27.05263157894737,
           27.05263157894737,
           27.05263157894737,
           27.05263157894737,
           27.05263157894737,
           27.05263157894737,
           27.05263157894737,
           27.05263157894737,
           27.05263157894737,
           27.05263157894737,
           27.05263157894737,
           27.05263157894737,
           27.05263157894737,
           27.05263157894737
          ],
          [
           27.473684210526315,
           27.473684210526315,
           27.473684210526315,
           27.473684210526315,
           27.473684210526315,
           27.473684210526315,
           27.473684210526315,
           27.473684210526315,
           27.473684210526315,
           27.473684210526315,
           27.473684210526315,
           27.473684210526315,
           27.473684210526315,
           27.473684210526315,
           27.473684210526315,
           27.473684210526315,
           27.473684210526315,
           27.473684210526315,
           27.473684210526315,
           27.473684210526315
          ],
          [
           27.894736842105264,
           27.894736842105264,
           27.894736842105264,
           27.894736842105264,
           27.894736842105264,
           27.894736842105264,
           27.894736842105264,
           27.894736842105264,
           27.894736842105264,
           27.894736842105264,
           27.894736842105264,
           27.894736842105264,
           27.894736842105264,
           27.894736842105264,
           27.894736842105264,
           27.894736842105264,
           27.894736842105264,
           27.894736842105264,
           27.894736842105264,
           27.894736842105264
          ],
          [
           28.315789473684212,
           28.315789473684212,
           28.315789473684212,
           28.315789473684212,
           28.315789473684212,
           28.315789473684212,
           28.315789473684212,
           28.315789473684212,
           28.315789473684212,
           28.315789473684212,
           28.315789473684212,
           28.315789473684212,
           28.315789473684212,
           28.315789473684212,
           28.315789473684212,
           28.315789473684212,
           28.315789473684212,
           28.315789473684212,
           28.315789473684212,
           28.315789473684212
          ],
          [
           28.736842105263158,
           28.736842105263158,
           28.736842105263158,
           28.736842105263158,
           28.736842105263158,
           28.736842105263158,
           28.736842105263158,
           28.736842105263158,
           28.736842105263158,
           28.736842105263158,
           28.736842105263158,
           28.736842105263158,
           28.736842105263158,
           28.736842105263158,
           28.736842105263158,
           28.736842105263158,
           28.736842105263158,
           28.736842105263158,
           28.736842105263158,
           28.736842105263158
          ],
          [
           29.157894736842103,
           29.157894736842103,
           29.157894736842103,
           29.157894736842103,
           29.157894736842103,
           29.157894736842103,
           29.157894736842103,
           29.157894736842103,
           29.157894736842103,
           29.157894736842103,
           29.157894736842103,
           29.157894736842103,
           29.157894736842103,
           29.157894736842103,
           29.157894736842103,
           29.157894736842103,
           29.157894736842103,
           29.157894736842103,
           29.157894736842103,
           29.157894736842103
          ],
          [
           29.57894736842105,
           29.57894736842105,
           29.57894736842105,
           29.57894736842105,
           29.57894736842105,
           29.57894736842105,
           29.57894736842105,
           29.57894736842105,
           29.57894736842105,
           29.57894736842105,
           29.57894736842105,
           29.57894736842105,
           29.57894736842105,
           29.57894736842105,
           29.57894736842105,
           29.57894736842105,
           29.57894736842105,
           29.57894736842105,
           29.57894736842105,
           29.57894736842105
          ],
          [
           30,
           30,
           30,
           30,
           30,
           30,
           30,
           30,
           30,
           30,
           30,
           30,
           30,
           30,
           30,
           30,
           30,
           30,
           30,
           30
          ]
         ],
         "z": [
          [
           151.66427889455906,
           152.10292431656404,
           152.54156973856897,
           152.98021516057392,
           153.41886058257887,
           153.85750600458383,
           154.29615142658878,
           154.73479684859373,
           155.17344227059868,
           155.61208769260364,
           156.0507331146086,
           156.48937853661354,
           156.9280239586185,
           157.36666938062345,
           157.8053148026284,
           158.24396022463335,
           158.6826056466383,
           159.12125106864326,
           159.5598964906482,
           159.99854191265317
          ],
          [
           153.25281369644358,
           153.69145911844853,
           154.1301045404535,
           154.5687499624584,
           155.0073953844634,
           155.44604080646832,
           155.88468622847327,
           156.32333165047822,
           156.76197707248318,
           157.20062249448813,
           157.63926791649308,
           158.07791333849804,
           158.516558760503,
           158.95520418250794,
           159.3938496045129,
           159.83249502651785,
           160.2711404485228,
           160.70978587052775,
           161.1484312925327,
           161.58707671453766
          ],
          [
           154.84134849832805,
           155.279993920333,
           155.71863934233795,
           156.1572847643429,
           156.59593018634786,
           157.0345756083528,
           157.47322103035776,
           157.91186645236272,
           158.35051187436767,
           158.78915729637262,
           159.22780271837757,
           159.66644814038253,
           160.10509356238748,
           160.54373898439243,
           160.9823844063974,
           161.42102982840234,
           161.8596752504073,
           162.29832067241225,
           162.7369660944172,
           163.17561151642212
          ],
          [
           156.42988330021254,
           156.8685287222175,
           157.30717414422244,
           157.7458195662274,
           158.18446498823235,
           158.6231104102373,
           159.06175583224226,
           159.5004012542472,
           159.93904667625216,
           160.3776920982571,
           160.81633752026207,
           161.25498294226702,
           161.69362836427197,
           162.13227378627693,
           162.57091920828188,
           163.00956463028683,
           163.44821005229178,
           163.88685547429674,
           164.3255008963017,
           164.76414631830664
          ],
          [
           158.01841810209703,
           158.45706352410198,
           158.89570894610694,
           159.3343543681119,
           159.77299979011684,
           160.2116452121218,
           160.65029063412675,
           161.0889360561317,
           161.52758147813665,
           161.9662269001416,
           162.40487232214656,
           162.8435177441515,
           163.28216316615647,
           163.7208085881614,
           164.15945401016634,
           164.5980994321713,
           165.03674485417625,
           165.4753902761812,
           165.91403569818615,
           166.3526811201911
          ],
          [
           159.60695290398152,
           160.04559832598648,
           160.48424374799143,
           160.92288916999638,
           161.36153459200133,
           161.8001800140063,
           162.23882543601124,
           162.6774708580162,
           163.11611628002115,
           163.5547617020261,
           163.99340712403105,
           164.432052546036,
           164.87069796804096,
           165.3093433900459,
           165.74798881205086,
           166.18663423405582,
           166.62527965606074,
           167.0639250780657,
           167.50257050007065,
           167.9412159220756
          ],
          [
           161.19548770586601,
           161.63413312787097,
           162.07277854987592,
           162.51142397188087,
           162.95006939388583,
           163.38871481589078,
           163.82736023789573,
           164.26600565990069,
           164.70465108190564,
           165.1432965039106,
           165.58194192591554,
           166.0205873479205,
           166.45923276992545,
           166.8978781919304,
           167.33652361393536,
           167.7751690359403,
           168.21381445794526,
           168.6524598799502,
           169.09110530195514,
           169.5297507239601
          ],
          [
           162.7840225077505,
           163.22266792975546,
           163.6613133517604,
           164.09995877376537,
           164.53860419577032,
           164.97724961777527,
           165.41589503978022,
           165.85454046178518,
           166.29318588379013,
           166.73183130579508,
           167.17047672780004,
           167.60912214980496,
           168.0477675718099,
           168.48641299381487,
           168.92505841581982,
           169.36370383782477,
           169.80234925982973,
           170.24099468183468,
           170.67964010383963,
           171.11828552584458
          ],
          [
           164.372557309635,
           164.81120273163995,
           165.2498481536449,
           165.68849357564986,
           166.1271389976548,
           166.56578441965976,
           167.00442984166472,
           167.44307526366967,
           167.88172068567462,
           168.32036610767958,
           168.75901152968453,
           169.19765695168948,
           169.63630237369443,
           170.07494779569936,
           170.5135932177043,
           170.95223863970926,
           171.39088406171422,
           171.82952948371917,
           172.26817490572412,
           172.70682032772908
          ],
          [
           165.9610921115195,
           166.39973753352444,
           166.8383829555294,
           167.27702837753435,
           167.7156737995393,
           168.15431922154426,
           168.5929646435492,
           169.03161006555416,
           169.47025548755911,
           169.90890090956407,
           170.34754633156902,
           170.78619175357397,
           171.22483717557893,
           171.66348259758388,
           172.10212801958883,
           172.54077344159379,
           172.97941886359874,
           173.41806428560366,
           173.85670970760862,
           174.29535512961357
          ],
          [
           167.54962691340398,
           167.98827233540894,
           168.4269177574139,
           168.86556317941884,
           169.3042086014238,
           169.74285402342875,
           170.1814994454337,
           170.62014486743865,
           171.0587902894436,
           171.49743571144853,
           171.93608113345348,
           172.37472655545844,
           172.8133719774634,
           173.25201739946834,
           173.6906628214733,
           174.12930824347825,
           174.5679536654832,
           175.00659908748815,
           175.4452445094931,
           175.88388993149806
          ],
          [
           169.13816171528848,
           169.57680713729343,
           170.01545255929838,
           170.45409798130333,
           170.8927434033083,
           171.33138882531324,
           171.7700342473182,
           172.20867966932315,
           172.6473250913281,
           173.08597051333305,
           173.524615935338,
           173.96326135734293,
           174.40190677934788,
           174.84055220135284,
           175.2791976233578,
           175.71784304536274,
           176.1564884673677,
           176.59513388937265,
           177.0337793113776,
           177.47242473338255
          ],
          [
           170.72669651717297,
           171.16534193917792,
           171.60398736118287,
           172.04263278318783,
           172.48127820519278,
           172.91992362719773,
           173.35856904920269,
           173.79721447120764,
           174.2358598932126,
           174.67450531521754,
           175.1131507372225,
           175.55179615922745,
           175.9904415812324,
           176.42908700323736,
           176.86773242524228,
           177.30637784724723,
           177.7450232692522,
           178.18366869125714,
           178.6223141132621,
           179.06095953526705
          ],
          [
           172.31523131905746,
           172.7538767410624,
           173.19252216306737,
           173.63116758507232,
           174.06981300707727,
           174.50845842908222,
           174.94710385108718,
           175.3857492730921,
           175.82439469509706,
           176.263040117102,
           176.70168553910696,
           177.1403309611119,
           177.57897638311687,
           178.01762180512182,
           178.45626722712677,
           178.89491264913173,
           179.33355807113668,
           179.77220349314163,
           180.21084891514658,
           180.64949433715154
          ],
          [
           173.90376612094195,
           174.3424115429469,
           174.78105696495186,
           175.2197023869568,
           175.65834780896176,
           176.09699323096672,
           176.53563865297167,
           176.97428407497662,
           177.41292949698158,
           177.8515749189865,
           178.29022034099148,
           178.7288657629964,
           179.16751118500136,
           179.6061566070063,
           180.04480202901127,
           180.48344745101622,
           180.92209287302117,
           181.36073829502612,
           181.79938371703108,
           182.23802913903603
          ],
          [
           175.49230092282644,
           175.9309463448314,
           176.36959176683635,
           176.8082371888413,
           177.24688261084626,
           177.6855280328512,
           178.12417345485616,
           178.56281887686112,
           179.00146429886607,
           179.44010972087102,
           179.87875514287597,
           180.31740056488093,
           180.75604598688585,
           181.1946914088908,
           181.63333683089576,
           182.0719822529007,
           182.51062767490566,
           182.94927309691062,
           183.38791851891557,
           183.82656394092052
          ],
          [
           177.08083572471094,
           177.5194811467159,
           177.95812656872084,
           178.3967719907258,
           178.83541741273075,
           179.27406283473567,
           179.71270825674063,
           180.15135367874558,
           180.58999910075053,
           181.02864452275549,
           181.46728994476044,
           181.9059353667654,
           182.34458078877034,
           182.7832262107753,
           183.22187163278025,
           183.6605170547852,
           184.09916247679016,
           184.5378078987951,
           184.97645332080006,
           185.41509874280501
          ],
          [
           178.6693705265954,
           179.10801594860035,
           179.5466613706053,
           179.98530679261026,
           180.4239522146152,
           180.86259763662017,
           181.30124305862512,
           181.73988848063007,
           182.17853390263502,
           182.61717932463998,
           183.05582474664493,
           183.49447016864988,
           183.93311559065484,
           184.3717610126598,
           184.81040643466474,
           185.2490518566697,
           185.68769727867465,
           186.1263427006796,
           186.56498812268455,
           187.00363354468948
          ],
          [
           180.2579053284799,
           180.69655075048485,
           181.1351961724898,
           181.57384159449475,
           182.0124870164997,
           182.45113243850466,
           182.8897778605096,
           183.32842328251456,
           183.76706870451952,
           184.20571412652447,
           184.64435954852942,
           185.08300497053438,
           185.52165039253933,
           185.96029581454428,
           186.39894123654923,
           186.8375866585542,
           187.27623208055914,
           187.7148775025641,
           188.15352292456905,
           188.592168346574
          ],
          [
           181.8464401303644,
           182.28508555236937,
           182.7237309743743,
           183.16237639637927,
           183.6010218183842,
           184.03966724038915,
           184.4783126623941,
           184.91695808439906,
           185.355603506404,
           185.79424892840896,
           186.23289435041391,
           186.67153977241887,
           187.11018519442382,
           187.54883061642877,
           187.98747603843373,
           188.42612146043868,
           188.86476688244363,
           189.30341230444859,
           189.74205772645354,
           190.1807031484585
          ]
         ]
        }
       ],
       "layout": {
        "scene": {
         "xaxis": {
          "title": {
           "text": "Ancho"
          }
         },
         "yaxis": {
          "title": {
           "text": "Pie"
          }
         },
         "zaxis": {
          "title": {
           "text": "Altura"
          }
         }
        },
        "template": {
         "data": {
          "bar": [
           {
            "error_x": {
             "color": "#2a3f5f"
            },
            "error_y": {
             "color": "#2a3f5f"
            },
            "marker": {
             "line": {
              "color": "#E5ECF6",
              "width": 0.5
             },
             "pattern": {
              "fillmode": "overlay",
              "size": 10,
              "solidity": 0.2
             }
            },
            "type": "bar"
           }
          ],
          "barpolar": [
           {
            "marker": {
             "line": {
              "color": "#E5ECF6",
              "width": 0.5
             },
             "pattern": {
              "fillmode": "overlay",
              "size": 10,
              "solidity": 0.2
             }
            },
            "type": "barpolar"
           }
          ],
          "carpet": [
           {
            "aaxis": {
             "endlinecolor": "#2a3f5f",
             "gridcolor": "white",
             "linecolor": "white",
             "minorgridcolor": "white",
             "startlinecolor": "#2a3f5f"
            },
            "baxis": {
             "endlinecolor": "#2a3f5f",
             "gridcolor": "white",
             "linecolor": "white",
             "minorgridcolor": "white",
             "startlinecolor": "#2a3f5f"
            },
            "type": "carpet"
           }
          ],
          "choropleth": [
           {
            "colorbar": {
             "outlinewidth": 0,
             "ticks": ""
            },
            "type": "choropleth"
           }
          ],
          "contour": [
           {
            "colorbar": {
             "outlinewidth": 0,
             "ticks": ""
            },
            "colorscale": [
             [
              0,
              "#0d0887"
             ],
             [
              0.1111111111111111,
              "#46039f"
             ],
             [
              0.2222222222222222,
              "#7201a8"
             ],
             [
              0.3333333333333333,
              "#9c179e"
             ],
             [
              0.4444444444444444,
              "#bd3786"
             ],
             [
              0.5555555555555556,
              "#d8576b"
             ],
             [
              0.6666666666666666,
              "#ed7953"
             ],
             [
              0.7777777777777778,
              "#fb9f3a"
             ],
             [
              0.8888888888888888,
              "#fdca26"
             ],
             [
              1,
              "#f0f921"
             ]
            ],
            "type": "contour"
           }
          ],
          "contourcarpet": [
           {
            "colorbar": {
             "outlinewidth": 0,
             "ticks": ""
            },
            "type": "contourcarpet"
           }
          ],
          "heatmap": [
           {
            "colorbar": {
             "outlinewidth": 0,
             "ticks": ""
            },
            "colorscale": [
             [
              0,
              "#0d0887"
             ],
             [
              0.1111111111111111,
              "#46039f"
             ],
             [
              0.2222222222222222,
              "#7201a8"
             ],
             [
              0.3333333333333333,
              "#9c179e"
             ],
             [
              0.4444444444444444,
              "#bd3786"
             ],
             [
              0.5555555555555556,
              "#d8576b"
             ],
             [
              0.6666666666666666,
              "#ed7953"
             ],
             [
              0.7777777777777778,
              "#fb9f3a"
             ],
             [
              0.8888888888888888,
              "#fdca26"
             ],
             [
              1,
              "#f0f921"
             ]
            ],
            "type": "heatmap"
           }
          ],
          "heatmapgl": [
           {
            "colorbar": {
             "outlinewidth": 0,
             "ticks": ""
            },
            "colorscale": [
             [
              0,
              "#0d0887"
             ],
             [
              0.1111111111111111,
              "#46039f"
             ],
             [
              0.2222222222222222,
              "#7201a8"
             ],
             [
              0.3333333333333333,
              "#9c179e"
             ],
             [
              0.4444444444444444,
              "#bd3786"
             ],
             [
              0.5555555555555556,
              "#d8576b"
             ],
             [
              0.6666666666666666,
              "#ed7953"
             ],
             [
              0.7777777777777778,
              "#fb9f3a"
             ],
             [
              0.8888888888888888,
              "#fdca26"
             ],
             [
              1,
              "#f0f921"
             ]
            ],
            "type": "heatmapgl"
           }
          ],
          "histogram": [
           {
            "marker": {
             "pattern": {
              "fillmode": "overlay",
              "size": 10,
              "solidity": 0.2
             }
            },
            "type": "histogram"
           }
          ],
          "histogram2d": [
           {
            "colorbar": {
             "outlinewidth": 0,
             "ticks": ""
            },
            "colorscale": [
             [
              0,
              "#0d0887"
             ],
             [
              0.1111111111111111,
              "#46039f"
             ],
             [
              0.2222222222222222,
              "#7201a8"
             ],
             [
              0.3333333333333333,
              "#9c179e"
             ],
             [
              0.4444444444444444,
              "#bd3786"
             ],
             [
              0.5555555555555556,
              "#d8576b"
             ],
             [
              0.6666666666666666,
              "#ed7953"
             ],
             [
              0.7777777777777778,
              "#fb9f3a"
             ],
             [
              0.8888888888888888,
              "#fdca26"
             ],
             [
              1,
              "#f0f921"
             ]
            ],
            "type": "histogram2d"
           }
          ],
          "histogram2dcontour": [
           {
            "colorbar": {
             "outlinewidth": 0,
             "ticks": ""
            },
            "colorscale": [
             [
              0,
              "#0d0887"
             ],
             [
              0.1111111111111111,
              "#46039f"
             ],
             [
              0.2222222222222222,
              "#7201a8"
             ],
             [
              0.3333333333333333,
              "#9c179e"
             ],
             [
              0.4444444444444444,
              "#bd3786"
             ],
             [
              0.5555555555555556,
              "#d8576b"
             ],
             [
              0.6666666666666666,
              "#ed7953"
             ],
             [
              0.7777777777777778,
              "#fb9f3a"
             ],
             [
              0.8888888888888888,
              "#fdca26"
             ],
             [
              1,
              "#f0f921"
             ]
            ],
            "type": "histogram2dcontour"
           }
          ],
          "mesh3d": [
           {
            "colorbar": {
             "outlinewidth": 0,
             "ticks": ""
            },
            "type": "mesh3d"
           }
          ],
          "parcoords": [
           {
            "line": {
             "colorbar": {
              "outlinewidth": 0,
              "ticks": ""
             }
            },
            "type": "parcoords"
           }
          ],
          "pie": [
           {
            "automargin": true,
            "type": "pie"
           }
          ],
          "scatter": [
           {
            "fillpattern": {
             "fillmode": "overlay",
             "size": 10,
             "solidity": 0.2
            },
            "type": "scatter"
           }
          ],
          "scatter3d": [
           {
            "line": {
             "colorbar": {
              "outlinewidth": 0,
              "ticks": ""
             }
            },
            "marker": {
             "colorbar": {
              "outlinewidth": 0,
              "ticks": ""
             }
            },
            "type": "scatter3d"
           }
          ],
          "scattercarpet": [
           {
            "marker": {
             "colorbar": {
              "outlinewidth": 0,
              "ticks": ""
             }
            },
            "type": "scattercarpet"
           }
          ],
          "scattergeo": [
           {
            "marker": {
             "colorbar": {
              "outlinewidth": 0,
              "ticks": ""
             }
            },
            "type": "scattergeo"
           }
          ],
          "scattergl": [
           {
            "marker": {
             "colorbar": {
              "outlinewidth": 0,
              "ticks": ""
             }
            },
            "type": "scattergl"
           }
          ],
          "scattermapbox": [
           {
            "marker": {
             "colorbar": {
              "outlinewidth": 0,
              "ticks": ""
             }
            },
            "type": "scattermapbox"
           }
          ],
          "scatterpolar": [
           {
            "marker": {
             "colorbar": {
              "outlinewidth": 0,
              "ticks": ""
             }
            },
            "type": "scatterpolar"
           }
          ],
          "scatterpolargl": [
           {
            "marker": {
             "colorbar": {
              "outlinewidth": 0,
              "ticks": ""
             }
            },
            "type": "scatterpolargl"
           }
          ],
          "scatterternary": [
           {
            "marker": {
             "colorbar": {
              "outlinewidth": 0,
              "ticks": ""
             }
            },
            "type": "scatterternary"
           }
          ],
          "surface": [
           {
            "colorbar": {
             "outlinewidth": 0,
             "ticks": ""
            },
            "colorscale": [
             [
              0,
              "#0d0887"
             ],
             [
              0.1111111111111111,
              "#46039f"
             ],
             [
              0.2222222222222222,
              "#7201a8"
             ],
             [
              0.3333333333333333,
              "#9c179e"
             ],
             [
              0.4444444444444444,
              "#bd3786"
             ],
             [
              0.5555555555555556,
              "#d8576b"
             ],
             [
              0.6666666666666666,
              "#ed7953"
             ],
             [
              0.7777777777777778,
              "#fb9f3a"
             ],
             [
              0.8888888888888888,
              "#fdca26"
             ],
             [
              1,
              "#f0f921"
             ]
            ],
            "type": "surface"
           }
          ],
          "table": [
           {
            "cells": {
             "fill": {
              "color": "#EBF0F8"
             },
             "line": {
              "color": "white"
             }
            },
            "header": {
             "fill": {
              "color": "#C8D4E3"
             },
             "line": {
              "color": "white"
             }
            },
            "type": "table"
           }
          ]
         },
         "layout": {
          "annotationdefaults": {
           "arrowcolor": "#2a3f5f",
           "arrowhead": 0,
           "arrowwidth": 1
          },
          "autotypenumbers": "strict",
          "coloraxis": {
           "colorbar": {
            "outlinewidth": 0,
            "ticks": ""
           }
          },
          "colorscale": {
           "diverging": [
            [
             0,
             "#8e0152"
            ],
            [
             0.1,
             "#c51b7d"
            ],
            [
             0.2,
             "#de77ae"
            ],
            [
             0.3,
             "#f1b6da"
            ],
            [
             0.4,
             "#fde0ef"
            ],
            [
             0.5,
             "#f7f7f7"
            ],
            [
             0.6,
             "#e6f5d0"
            ],
            [
             0.7,
             "#b8e186"
            ],
            [
             0.8,
             "#7fbc41"
            ],
            [
             0.9,
             "#4d9221"
            ],
            [
             1,
             "#276419"
            ]
           ],
           "sequential": [
            [
             0,
             "#0d0887"
            ],
            [
             0.1111111111111111,
             "#46039f"
            ],
            [
             0.2222222222222222,
             "#7201a8"
            ],
            [
             0.3333333333333333,
             "#9c179e"
            ],
            [
             0.4444444444444444,
             "#bd3786"
            ],
            [
             0.5555555555555556,
             "#d8576b"
            ],
            [
             0.6666666666666666,
             "#ed7953"
            ],
            [
             0.7777777777777778,
             "#fb9f3a"
            ],
            [
             0.8888888888888888,
             "#fdca26"
            ],
            [
             1,
             "#f0f921"
            ]
           ],
           "sequentialminus": [
            [
             0,
             "#0d0887"
            ],
            [
             0.1111111111111111,
             "#46039f"
            ],
            [
             0.2222222222222222,
             "#7201a8"
            ],
            [
             0.3333333333333333,
             "#9c179e"
            ],
            [
             0.4444444444444444,
             "#bd3786"
            ],
            [
             0.5555555555555556,
             "#d8576b"
            ],
            [
             0.6666666666666666,
             "#ed7953"
            ],
            [
             0.7777777777777778,
             "#fb9f3a"
            ],
            [
             0.8888888888888888,
             "#fdca26"
            ],
            [
             1,
             "#f0f921"
            ]
           ]
          },
          "colorway": [
           "#636efa",
           "#EF553B",
           "#00cc96",
           "#ab63fa",
           "#FFA15A",
           "#19d3f3",
           "#FF6692",
           "#B6E880",
           "#FF97FF",
           "#FECB52"
          ],
          "font": {
           "color": "#2a3f5f"
          },
          "geo": {
           "bgcolor": "white",
           "lakecolor": "white",
           "landcolor": "#E5ECF6",
           "showlakes": true,
           "showland": true,
           "subunitcolor": "white"
          },
          "hoverlabel": {
           "align": "left"
          },
          "hovermode": "closest",
          "mapbox": {
           "style": "light"
          },
          "paper_bgcolor": "white",
          "plot_bgcolor": "#E5ECF6",
          "polar": {
           "angularaxis": {
            "gridcolor": "white",
            "linecolor": "white",
            "ticks": ""
           },
           "bgcolor": "#E5ECF6",
           "radialaxis": {
            "gridcolor": "white",
            "linecolor": "white",
            "ticks": ""
           }
          },
          "scene": {
           "xaxis": {
            "backgroundcolor": "#E5ECF6",
            "gridcolor": "white",
            "gridwidth": 2,
            "linecolor": "white",
            "showbackground": true,
            "ticks": "",
            "zerolinecolor": "white"
           },
           "yaxis": {
            "backgroundcolor": "#E5ECF6",
            "gridcolor": "white",
            "gridwidth": 2,
            "linecolor": "white",
            "showbackground": true,
            "ticks": "",
            "zerolinecolor": "white"
           },
           "zaxis": {
            "backgroundcolor": "#E5ECF6",
            "gridcolor": "white",
            "gridwidth": 2,
            "linecolor": "white",
            "showbackground": true,
            "ticks": "",
            "zerolinecolor": "white"
           }
          },
          "shapedefaults": {
           "line": {
            "color": "#2a3f5f"
           }
          },
          "ternary": {
           "aaxis": {
            "gridcolor": "white",
            "linecolor": "white",
            "ticks": ""
           },
           "baxis": {
            "gridcolor": "white",
            "linecolor": "white",
            "ticks": ""
           },
           "bgcolor": "#E5ECF6",
           "caxis": {
            "gridcolor": "white",
            "linecolor": "white",
            "ticks": ""
           }
          },
          "title": {
           "x": 0.05
          },
          "xaxis": {
           "automargin": true,
           "gridcolor": "white",
           "linecolor": "white",
           "ticks": "",
           "title": {
            "standoff": 15
           },
           "zerolinecolor": "white",
           "zerolinewidth": 2
          },
          "yaxis": {
           "automargin": true,
           "gridcolor": "white",
           "linecolor": "white",
           "ticks": "",
           "title": {
            "standoff": 15
           },
           "zerolinecolor": "white",
           "zerolinewidth": 2
          }
         }
        },
        "title": {
         "text": "ITESO RIGHT<br>R2: 0.8579685828534016 RMSE: 3.173212873716381"
        }
       }
      }
     },
     "metadata": {},
     "output_type": "display_data"
    }
   ],
   "source": [
    "# Definir rangos para las variables independientes\n",
    "x1_range = np.linspace(min(x_train_right['width']), max(x_train_right['width']), 20)\n",
    "x2_range = np.linspace(min(x_train_right['shoe_size']), max(x_train_right['shoe_size']), 20)\n",
    "x1_mesh, x2_mesh = np.meshgrid(x1_range, x2_range)\n",
    "\n",
    "# Escalar el meshgrid para predicción\n",
    "x_mesh_scaled = ss_right.transform(np.vstack((x1_mesh.ravel(), x2_mesh.ravel())).T)\n",
    "\n",
    "# Predecir los valores con el modelo escalado\n",
    "y_mesh_scaled = rg_r.predict(x_mesh_scaled)\n",
    "\n",
    "# Crear scatterplot 3D de los puntos reales\n",
    "scatter = go.Scatter3d(\n",
    "    x=x_test_right['width'], y=x_test_right['shoe_size'], z=y_test_right,\n",
    "    mode='markers',\n",
    "    marker=dict(size=8, color='red', opacity=0.7)\n",
    ")\n",
    "\n",
    "# Crear el plano de regresión\n",
    "surface = go.Surface(\n",
    "    x=x1_mesh, y=x2_mesh, z=y_mesh_scaled.reshape(x1_mesh.shape),\n",
    "    colorscale='Viridis', opacity=0.5\n",
    ")\n",
    "\n",
    "# Configuración del layout\n",
    "layout = go.Layout(\n",
    "    title=f\"ITESO RIGHT<br>R2: {r2_score(y_test_right, r_pred_right)} RMSE: {root_mean_squared_error(y_test_right, r_pred_right)}\",\n",
    "    scene=dict(\n",
    "        xaxis_title='Ancho',\n",
    "        yaxis_title='Pie',\n",
    "        zaxis_title='Altura'\n",
    "    )\n",
    ")\n",
    "\n",
    "# Crear la figura\n",
    "fig = go.Figure(data=[scatter, surface], layout=layout)\n",
    "\n",
    "# Mostrar la figura interactiva\n",
    "fig.show()"
   ]
  },
  {
   "cell_type": "markdown",
   "metadata": {},
   "source": [
    "## Left model\n",
    "\n",
    "Modelo que predice mejor los valores del lado izquierdo"
   ]
  },
  {
   "cell_type": "code",
   "execution_count": 234,
   "metadata": {},
   "outputs": [
    {
     "name": "stdout",
     "output_type": "stream",
     "text": [
      "R2: 0.7745275608222341 RMSE: 3.5764335018121596\n"
     ]
    }
   ],
   "source": [
    "rg_l = Ridge(alpha = 1.26)\n",
    "rg_l.fit(X_train_s_left, y_train_left)\n",
    "r_pred_left = rg_l.predict(X_test_s_left)\n",
    "print(f\"R2: {r2_score(y_test_left, r_pred_left)} RMSE: {root_mean_squared_error(y_test_left, r_pred_left)}\")"
   ]
  },
  {
   "cell_type": "code",
   "execution_count": 235,
   "metadata": {},
   "outputs": [
    {
     "name": "stdout",
     "output_type": "stream",
     "text": [
      "Pendientes: [1.78473504 7.05360501]\n",
      "Intercepto: 163.2281879194631\n"
     ]
    }
   ],
   "source": [
    "print(f\"Pendientes: {rg_l.coef_}\")\n",
    "print(f\"Intercepto: {rg_l.intercept_}\")"
   ]
  },
  {
   "cell_type": "code",
   "execution_count": 236,
   "metadata": {},
   "outputs": [
    {
     "name": "stderr",
     "output_type": "stream",
     "text": [
      "c:\\Users\\cesar\\anaconda3\\envs\\iteso\\lib\\site-packages\\sklearn\\base.py:493: UserWarning:\n",
      "\n",
      "X does not have valid feature names, but StandardScaler was fitted with feature names\n",
      "\n"
     ]
    }
   ],
   "source": [
    "values_para_left = ss_left.transform([[36,22.5]])"
   ]
  },
  {
   "cell_type": "code",
   "execution_count": 237,
   "metadata": {},
   "outputs": [
    {
     "data": {
      "text/plain": [
       "array([153.11764719])"
      ]
     },
     "execution_count": 237,
     "metadata": {},
     "output_type": "execute_result"
    }
   ],
   "source": [
    "rg_l.predict(values_para_left)"
   ]
  },
  {
   "cell_type": "code",
   "execution_count": 238,
   "metadata": {},
   "outputs": [
    {
     "name": "stderr",
     "output_type": "stream",
     "text": [
      "c:\\Users\\cesar\\anaconda3\\envs\\iteso\\lib\\site-packages\\sklearn\\base.py:493: UserWarning:\n",
      "\n",
      "X does not have valid feature names, but StandardScaler was fitted with feature names\n",
      "\n"
     ]
    },
    {
     "data": {
      "application/vnd.plotly.v1+json": {
       "config": {
        "plotlyServerURL": "https://plot.ly"
       },
       "data": [
        {
         "marker": {
          "color": "red",
          "opacity": 0.7,
          "size": 8
         },
         "mode": "markers",
         "type": "scatter3d",
         "x": [
          39,
          50,
          45,
          43,
          42,
          41,
          39,
          39,
          36,
          41,
          42,
          39,
          42,
          36,
          36,
          39,
          42,
          36,
          43,
          46,
          42,
          42,
          41,
          40,
          45,
          40,
          47,
          48,
          42,
          41,
          39,
          41,
          41,
          61,
          40,
          49,
          35,
          43
         ],
         "y": [
          23,
          28,
          26,
          25,
          25,
          24,
          23,
          24,
          23,
          24,
          26,
          24,
          25,
          23,
          23,
          24.5,
          25,
          22.5,
          28,
          26,
          27,
          25,
          23.5,
          24,
          27.5,
          24,
          27,
          27,
          28,
          24,
          24,
          24,
          24,
          26,
          24,
          27,
          22,
          26
         ],
         "z": [
          156,
          173,
          166,
          163,
          162,
          159,
          156,
          157,
          164,
          160,
          170,
          157,
          161,
          154,
          154,
          166,
          161,
          153,
          182,
          166,
          177,
          161,
          153,
          158,
          172,
          157,
          168,
          172,
          177,
          160,
          157,
          160,
          158,
          168,
          157,
          176,
          153,
          163
         ]
        },
        {
         "colorscale": [
          [
           0,
           "#440154"
          ],
          [
           0.1111111111111111,
           "#482878"
          ],
          [
           0.2222222222222222,
           "#3e4989"
          ],
          [
           0.3333333333333333,
           "#31688e"
          ],
          [
           0.4444444444444444,
           "#26828e"
          ],
          [
           0.5555555555555556,
           "#1f9e89"
          ],
          [
           0.6666666666666666,
           "#35b779"
          ],
          [
           0.7777777777777778,
           "#6ece58"
          ],
          [
           0.8888888888888888,
           "#b5de2b"
          ],
          [
           1,
           "#fde725"
          ]
         ],
         "opacity": 0.5,
         "type": "surface",
         "x": [
          [
           33,
           34.1578947368421,
           35.31578947368421,
           36.473684210526315,
           37.631578947368425,
           38.78947368421053,
           39.94736842105263,
           41.10526315789474,
           42.26315789473684,
           43.421052631578945,
           44.578947368421055,
           45.73684210526316,
           46.89473684210526,
           48.05263157894737,
           49.21052631578947,
           50.368421052631575,
           51.526315789473685,
           52.684210526315795,
           53.8421052631579,
           55
          ],
          [
           33,
           34.1578947368421,
           35.31578947368421,
           36.473684210526315,
           37.631578947368425,
           38.78947368421053,
           39.94736842105263,
           41.10526315789474,
           42.26315789473684,
           43.421052631578945,
           44.578947368421055,
           45.73684210526316,
           46.89473684210526,
           48.05263157894737,
           49.21052631578947,
           50.368421052631575,
           51.526315789473685,
           52.684210526315795,
           53.8421052631579,
           55
          ],
          [
           33,
           34.1578947368421,
           35.31578947368421,
           36.473684210526315,
           37.631578947368425,
           38.78947368421053,
           39.94736842105263,
           41.10526315789474,
           42.26315789473684,
           43.421052631578945,
           44.578947368421055,
           45.73684210526316,
           46.89473684210526,
           48.05263157894737,
           49.21052631578947,
           50.368421052631575,
           51.526315789473685,
           52.684210526315795,
           53.8421052631579,
           55
          ],
          [
           33,
           34.1578947368421,
           35.31578947368421,
           36.473684210526315,
           37.631578947368425,
           38.78947368421053,
           39.94736842105263,
           41.10526315789474,
           42.26315789473684,
           43.421052631578945,
           44.578947368421055,
           45.73684210526316,
           46.89473684210526,
           48.05263157894737,
           49.21052631578947,
           50.368421052631575,
           51.526315789473685,
           52.684210526315795,
           53.8421052631579,
           55
          ],
          [
           33,
           34.1578947368421,
           35.31578947368421,
           36.473684210526315,
           37.631578947368425,
           38.78947368421053,
           39.94736842105263,
           41.10526315789474,
           42.26315789473684,
           43.421052631578945,
           44.578947368421055,
           45.73684210526316,
           46.89473684210526,
           48.05263157894737,
           49.21052631578947,
           50.368421052631575,
           51.526315789473685,
           52.684210526315795,
           53.8421052631579,
           55
          ],
          [
           33,
           34.1578947368421,
           35.31578947368421,
           36.473684210526315,
           37.631578947368425,
           38.78947368421053,
           39.94736842105263,
           41.10526315789474,
           42.26315789473684,
           43.421052631578945,
           44.578947368421055,
           45.73684210526316,
           46.89473684210526,
           48.05263157894737,
           49.21052631578947,
           50.368421052631575,
           51.526315789473685,
           52.684210526315795,
           53.8421052631579,
           55
          ],
          [
           33,
           34.1578947368421,
           35.31578947368421,
           36.473684210526315,
           37.631578947368425,
           38.78947368421053,
           39.94736842105263,
           41.10526315789474,
           42.26315789473684,
           43.421052631578945,
           44.578947368421055,
           45.73684210526316,
           46.89473684210526,
           48.05263157894737,
           49.21052631578947,
           50.368421052631575,
           51.526315789473685,
           52.684210526315795,
           53.8421052631579,
           55
          ],
          [
           33,
           34.1578947368421,
           35.31578947368421,
           36.473684210526315,
           37.631578947368425,
           38.78947368421053,
           39.94736842105263,
           41.10526315789474,
           42.26315789473684,
           43.421052631578945,
           44.578947368421055,
           45.73684210526316,
           46.89473684210526,
           48.05263157894737,
           49.21052631578947,
           50.368421052631575,
           51.526315789473685,
           52.684210526315795,
           53.8421052631579,
           55
          ],
          [
           33,
           34.1578947368421,
           35.31578947368421,
           36.473684210526315,
           37.631578947368425,
           38.78947368421053,
           39.94736842105263,
           41.10526315789474,
           42.26315789473684,
           43.421052631578945,
           44.578947368421055,
           45.73684210526316,
           46.89473684210526,
           48.05263157894737,
           49.21052631578947,
           50.368421052631575,
           51.526315789473685,
           52.684210526315795,
           53.8421052631579,
           55
          ],
          [
           33,
           34.1578947368421,
           35.31578947368421,
           36.473684210526315,
           37.631578947368425,
           38.78947368421053,
           39.94736842105263,
           41.10526315789474,
           42.26315789473684,
           43.421052631578945,
           44.578947368421055,
           45.73684210526316,
           46.89473684210526,
           48.05263157894737,
           49.21052631578947,
           50.368421052631575,
           51.526315789473685,
           52.684210526315795,
           53.8421052631579,
           55
          ],
          [
           33,
           34.1578947368421,
           35.31578947368421,
           36.473684210526315,
           37.631578947368425,
           38.78947368421053,
           39.94736842105263,
           41.10526315789474,
           42.26315789473684,
           43.421052631578945,
           44.578947368421055,
           45.73684210526316,
           46.89473684210526,
           48.05263157894737,
           49.21052631578947,
           50.368421052631575,
           51.526315789473685,
           52.684210526315795,
           53.8421052631579,
           55
          ],
          [
           33,
           34.1578947368421,
           35.31578947368421,
           36.473684210526315,
           37.631578947368425,
           38.78947368421053,
           39.94736842105263,
           41.10526315789474,
           42.26315789473684,
           43.421052631578945,
           44.578947368421055,
           45.73684210526316,
           46.89473684210526,
           48.05263157894737,
           49.21052631578947,
           50.368421052631575,
           51.526315789473685,
           52.684210526315795,
           53.8421052631579,
           55
          ],
          [
           33,
           34.1578947368421,
           35.31578947368421,
           36.473684210526315,
           37.631578947368425,
           38.78947368421053,
           39.94736842105263,
           41.10526315789474,
           42.26315789473684,
           43.421052631578945,
           44.578947368421055,
           45.73684210526316,
           46.89473684210526,
           48.05263157894737,
           49.21052631578947,
           50.368421052631575,
           51.526315789473685,
           52.684210526315795,
           53.8421052631579,
           55
          ],
          [
           33,
           34.1578947368421,
           35.31578947368421,
           36.473684210526315,
           37.631578947368425,
           38.78947368421053,
           39.94736842105263,
           41.10526315789474,
           42.26315789473684,
           43.421052631578945,
           44.578947368421055,
           45.73684210526316,
           46.89473684210526,
           48.05263157894737,
           49.21052631578947,
           50.368421052631575,
           51.526315789473685,
           52.684210526315795,
           53.8421052631579,
           55
          ],
          [
           33,
           34.1578947368421,
           35.31578947368421,
           36.473684210526315,
           37.631578947368425,
           38.78947368421053,
           39.94736842105263,
           41.10526315789474,
           42.26315789473684,
           43.421052631578945,
           44.578947368421055,
           45.73684210526316,
           46.89473684210526,
           48.05263157894737,
           49.21052631578947,
           50.368421052631575,
           51.526315789473685,
           52.684210526315795,
           53.8421052631579,
           55
          ],
          [
           33,
           34.1578947368421,
           35.31578947368421,
           36.473684210526315,
           37.631578947368425,
           38.78947368421053,
           39.94736842105263,
           41.10526315789474,
           42.26315789473684,
           43.421052631578945,
           44.578947368421055,
           45.73684210526316,
           46.89473684210526,
           48.05263157894737,
           49.21052631578947,
           50.368421052631575,
           51.526315789473685,
           52.684210526315795,
           53.8421052631579,
           55
          ],
          [
           33,
           34.1578947368421,
           35.31578947368421,
           36.473684210526315,
           37.631578947368425,
           38.78947368421053,
           39.94736842105263,
           41.10526315789474,
           42.26315789473684,
           43.421052631578945,
           44.578947368421055,
           45.73684210526316,
           46.89473684210526,
           48.05263157894737,
           49.21052631578947,
           50.368421052631575,
           51.526315789473685,
           52.684210526315795,
           53.8421052631579,
           55
          ],
          [
           33,
           34.1578947368421,
           35.31578947368421,
           36.473684210526315,
           37.631578947368425,
           38.78947368421053,
           39.94736842105263,
           41.10526315789474,
           42.26315789473684,
           43.421052631578945,
           44.578947368421055,
           45.73684210526316,
           46.89473684210526,
           48.05263157894737,
           49.21052631578947,
           50.368421052631575,
           51.526315789473685,
           52.684210526315795,
           53.8421052631579,
           55
          ],
          [
           33,
           34.1578947368421,
           35.31578947368421,
           36.473684210526315,
           37.631578947368425,
           38.78947368421053,
           39.94736842105263,
           41.10526315789474,
           42.26315789473684,
           43.421052631578945,
           44.578947368421055,
           45.73684210526316,
           46.89473684210526,
           48.05263157894737,
           49.21052631578947,
           50.368421052631575,
           51.526315789473685,
           52.684210526315795,
           53.8421052631579,
           55
          ],
          [
           33,
           34.1578947368421,
           35.31578947368421,
           36.473684210526315,
           37.631578947368425,
           38.78947368421053,
           39.94736842105263,
           41.10526315789474,
           42.26315789473684,
           43.421052631578945,
           44.578947368421055,
           45.73684210526316,
           46.89473684210526,
           48.05263157894737,
           49.21052631578947,
           50.368421052631575,
           51.526315789473685,
           52.684210526315795,
           53.8421052631579,
           55
          ]
         ],
         "y": [
          [
           21,
           21,
           21,
           21,
           21,
           21,
           21,
           21,
           21,
           21,
           21,
           21,
           21,
           21,
           21,
           21,
           21,
           21,
           21,
           21
          ],
          [
           21.473684210526315,
           21.473684210526315,
           21.473684210526315,
           21.473684210526315,
           21.473684210526315,
           21.473684210526315,
           21.473684210526315,
           21.473684210526315,
           21.473684210526315,
           21.473684210526315,
           21.473684210526315,
           21.473684210526315,
           21.473684210526315,
           21.473684210526315,
           21.473684210526315,
           21.473684210526315,
           21.473684210526315,
           21.473684210526315,
           21.473684210526315,
           21.473684210526315
          ],
          [
           21.94736842105263,
           21.94736842105263,
           21.94736842105263,
           21.94736842105263,
           21.94736842105263,
           21.94736842105263,
           21.94736842105263,
           21.94736842105263,
           21.94736842105263,
           21.94736842105263,
           21.94736842105263,
           21.94736842105263,
           21.94736842105263,
           21.94736842105263,
           21.94736842105263,
           21.94736842105263,
           21.94736842105263,
           21.94736842105263,
           21.94736842105263,
           21.94736842105263
          ],
          [
           22.42105263157895,
           22.42105263157895,
           22.42105263157895,
           22.42105263157895,
           22.42105263157895,
           22.42105263157895,
           22.42105263157895,
           22.42105263157895,
           22.42105263157895,
           22.42105263157895,
           22.42105263157895,
           22.42105263157895,
           22.42105263157895,
           22.42105263157895,
           22.42105263157895,
           22.42105263157895,
           22.42105263157895,
           22.42105263157895,
           22.42105263157895,
           22.42105263157895
          ],
          [
           22.894736842105264,
           22.894736842105264,
           22.894736842105264,
           22.894736842105264,
           22.894736842105264,
           22.894736842105264,
           22.894736842105264,
           22.894736842105264,
           22.894736842105264,
           22.894736842105264,
           22.894736842105264,
           22.894736842105264,
           22.894736842105264,
           22.894736842105264,
           22.894736842105264,
           22.894736842105264,
           22.894736842105264,
           22.894736842105264,
           22.894736842105264,
           22.894736842105264
          ],
          [
           23.36842105263158,
           23.36842105263158,
           23.36842105263158,
           23.36842105263158,
           23.36842105263158,
           23.36842105263158,
           23.36842105263158,
           23.36842105263158,
           23.36842105263158,
           23.36842105263158,
           23.36842105263158,
           23.36842105263158,
           23.36842105263158,
           23.36842105263158,
           23.36842105263158,
           23.36842105263158,
           23.36842105263158,
           23.36842105263158,
           23.36842105263158,
           23.36842105263158
          ],
          [
           23.842105263157894,
           23.842105263157894,
           23.842105263157894,
           23.842105263157894,
           23.842105263157894,
           23.842105263157894,
           23.842105263157894,
           23.842105263157894,
           23.842105263157894,
           23.842105263157894,
           23.842105263157894,
           23.842105263157894,
           23.842105263157894,
           23.842105263157894,
           23.842105263157894,
           23.842105263157894,
           23.842105263157894,
           23.842105263157894,
           23.842105263157894,
           23.842105263157894
          ],
          [
           24.31578947368421,
           24.31578947368421,
           24.31578947368421,
           24.31578947368421,
           24.31578947368421,
           24.31578947368421,
           24.31578947368421,
           24.31578947368421,
           24.31578947368421,
           24.31578947368421,
           24.31578947368421,
           24.31578947368421,
           24.31578947368421,
           24.31578947368421,
           24.31578947368421,
           24.31578947368421,
           24.31578947368421,
           24.31578947368421,
           24.31578947368421,
           24.31578947368421
          ],
          [
           24.789473684210527,
           24.789473684210527,
           24.789473684210527,
           24.789473684210527,
           24.789473684210527,
           24.789473684210527,
           24.789473684210527,
           24.789473684210527,
           24.789473684210527,
           24.789473684210527,
           24.789473684210527,
           24.789473684210527,
           24.789473684210527,
           24.789473684210527,
           24.789473684210527,
           24.789473684210527,
           24.789473684210527,
           24.789473684210527,
           24.789473684210527,
           24.789473684210527
          ],
          [
           25.263157894736842,
           25.263157894736842,
           25.263157894736842,
           25.263157894736842,
           25.263157894736842,
           25.263157894736842,
           25.263157894736842,
           25.263157894736842,
           25.263157894736842,
           25.263157894736842,
           25.263157894736842,
           25.263157894736842,
           25.263157894736842,
           25.263157894736842,
           25.263157894736842,
           25.263157894736842,
           25.263157894736842,
           25.263157894736842,
           25.263157894736842,
           25.263157894736842
          ],
          [
           25.736842105263158,
           25.736842105263158,
           25.736842105263158,
           25.736842105263158,
           25.736842105263158,
           25.736842105263158,
           25.736842105263158,
           25.736842105263158,
           25.736842105263158,
           25.736842105263158,
           25.736842105263158,
           25.736842105263158,
           25.736842105263158,
           25.736842105263158,
           25.736842105263158,
           25.736842105263158,
           25.736842105263158,
           25.736842105263158,
           25.736842105263158,
           25.736842105263158
          ],
          [
           26.210526315789473,
           26.210526315789473,
           26.210526315789473,
           26.210526315789473,
           26.210526315789473,
           26.210526315789473,
           26.210526315789473,
           26.210526315789473,
           26.210526315789473,
           26.210526315789473,
           26.210526315789473,
           26.210526315789473,
           26.210526315789473,
           26.210526315789473,
           26.210526315789473,
           26.210526315789473,
           26.210526315789473,
           26.210526315789473,
           26.210526315789473,
           26.210526315789473
          ],
          [
           26.684210526315788,
           26.684210526315788,
           26.684210526315788,
           26.684210526315788,
           26.684210526315788,
           26.684210526315788,
           26.684210526315788,
           26.684210526315788,
           26.684210526315788,
           26.684210526315788,
           26.684210526315788,
           26.684210526315788,
           26.684210526315788,
           26.684210526315788,
           26.684210526315788,
           26.684210526315788,
           26.684210526315788,
           26.684210526315788,
           26.684210526315788,
           26.684210526315788
          ],
          [
           27.157894736842106,
           27.157894736842106,
           27.157894736842106,
           27.157894736842106,
           27.157894736842106,
           27.157894736842106,
           27.157894736842106,
           27.157894736842106,
           27.157894736842106,
           27.157894736842106,
           27.157894736842106,
           27.157894736842106,
           27.157894736842106,
           27.157894736842106,
           27.157894736842106,
           27.157894736842106,
           27.157894736842106,
           27.157894736842106,
           27.157894736842106,
           27.157894736842106
          ],
          [
           27.63157894736842,
           27.63157894736842,
           27.63157894736842,
           27.63157894736842,
           27.63157894736842,
           27.63157894736842,
           27.63157894736842,
           27.63157894736842,
           27.63157894736842,
           27.63157894736842,
           27.63157894736842,
           27.63157894736842,
           27.63157894736842,
           27.63157894736842,
           27.63157894736842,
           27.63157894736842,
           27.63157894736842,
           27.63157894736842,
           27.63157894736842,
           27.63157894736842
          ],
          [
           28.105263157894736,
           28.105263157894736,
           28.105263157894736,
           28.105263157894736,
           28.105263157894736,
           28.105263157894736,
           28.105263157894736,
           28.105263157894736,
           28.105263157894736,
           28.105263157894736,
           28.105263157894736,
           28.105263157894736,
           28.105263157894736,
           28.105263157894736,
           28.105263157894736,
           28.105263157894736,
           28.105263157894736,
           28.105263157894736,
           28.105263157894736,
           28.105263157894736
          ],
          [
           28.57894736842105,
           28.57894736842105,
           28.57894736842105,
           28.57894736842105,
           28.57894736842105,
           28.57894736842105,
           28.57894736842105,
           28.57894736842105,
           28.57894736842105,
           28.57894736842105,
           28.57894736842105,
           28.57894736842105,
           28.57894736842105,
           28.57894736842105,
           28.57894736842105,
           28.57894736842105,
           28.57894736842105,
           28.57894736842105,
           28.57894736842105,
           28.57894736842105
          ],
          [
           29.05263157894737,
           29.05263157894737,
           29.05263157894737,
           29.05263157894737,
           29.05263157894737,
           29.05263157894737,
           29.05263157894737,
           29.05263157894737,
           29.05263157894737,
           29.05263157894737,
           29.05263157894737,
           29.05263157894737,
           29.05263157894737,
           29.05263157894737,
           29.05263157894737,
           29.05263157894737,
           29.05263157894737,
           29.05263157894737,
           29.05263157894737,
           29.05263157894737
          ],
          [
           29.526315789473685,
           29.526315789473685,
           29.526315789473685,
           29.526315789473685,
           29.526315789473685,
           29.526315789473685,
           29.526315789473685,
           29.526315789473685,
           29.526315789473685,
           29.526315789473685,
           29.526315789473685,
           29.526315789473685,
           29.526315789473685,
           29.526315789473685,
           29.526315789473685,
           29.526315789473685,
           29.526315789473685,
           29.526315789473685,
           29.526315789473685,
           29.526315789473685
          ],
          [
           30,
           30,
           30,
           30,
           30,
           30,
           30,
           30,
           30,
           30,
           30,
           30,
           30,
           30,
           30,
           30,
           30,
           30,
           30,
           30
          ]
         ],
         "z": [
          [
           146.62992514567068,
           147.08222430470408,
           147.53452346373751,
           147.98682262277094,
           148.43912178180437,
           148.8914209408378,
           149.34372009987123,
           149.79601925890466,
           150.2483184179381,
           150.70061757697152,
           151.15291673600495,
           151.60521589503838,
           152.05751505407179,
           152.50981421310522,
           152.96211337213865,
           153.41441253117208,
           153.8667116902055,
           154.31901084923894,
           154.77131000827237,
           155.2236091673058
          ],
          [
           148.3086165260441,
           148.76091568507752,
           149.21321484411095,
           149.66551400314438,
           150.11781316217778,
           150.5701123212112,
           151.02241148024464,
           151.47471063927807,
           151.9270097983115,
           152.37930895734493,
           152.83160811637836,
           153.2839072754118,
           153.73620643444522,
           154.18850559347862,
           154.64080475251205,
           155.09310391154548,
           155.5454030705789,
           155.99770222961234,
           156.45000138864577,
           156.9023005476792
          ],
          [
           149.9873079064175,
           150.43960706545093,
           150.89190622448436,
           151.3442053835178,
           151.79650454255122,
           152.24880370158462,
           152.70110286061805,
           153.15340201965148,
           153.6057011786849,
           154.05800033771834,
           154.51029949675177,
           154.9625986557852,
           155.41489781481863,
           155.86719697385206,
           156.3194961328855,
           156.7717952919189,
           157.22409445095232,
           157.67639360998575,
           158.12869276901918,
           158.5809919280526
          ],
          [
           151.66599928679094,
           152.11829844582434,
           152.57059760485777,
           153.0228967638912,
           153.47519592292463,
           153.92749508195806,
           154.3797942409915,
           154.83209340002492,
           155.28439255905835,
           155.73669171809178,
           156.1889908771252,
           156.6412900361586,
           157.09358919519204,
           157.54588835422547,
           157.9981875132589,
           158.45048667229233,
           158.90278583132576,
           159.3550849903592,
           159.80738414939262,
           160.25968330842605
          ],
          [
           153.34469066716434,
           153.79698982619777,
           154.2492889852312,
           154.7015881442646,
           155.15388730329803,
           155.60618646233146,
           156.0584856213649,
           156.51078478039832,
           156.96308393943175,
           157.41538309846518,
           157.86768225749861,
           158.31998141653204,
           158.77228057556545,
           159.22457973459888,
           159.6768788936323,
           160.12917805266574,
           160.58147721169917,
           161.0337763707326,
           161.48607552976603,
           161.93837468879946
          ],
          [
           155.02338204753775,
           155.47568120657118,
           155.9279803656046,
           156.380279524638,
           156.83257868367144,
           157.28487784270487,
           157.7371770017383,
           158.18947616077173,
           158.64177531980516,
           159.0940744788386,
           159.54637363787202,
           159.99867279690545,
           160.45097195593888,
           160.9032711149723,
           161.35557027400571,
           161.80786943303914,
           162.26016859207257,
           162.712467751106,
           163.16476691013943,
           163.61706606917286
          ],
          [
           156.70207342791116,
           157.1543725869446,
           157.60667174597802,
           158.05897090501145,
           158.51127006404488,
           158.9635692230783,
           159.4158683821117,
           159.86816754114514,
           160.32046670017857,
           160.772765859212,
           161.22506501824543,
           161.67736417727886,
           162.1296633363123,
           162.58196249534572,
           163.03426165437915,
           163.48656081341255,
           163.93885997244598,
           164.3911591314794,
           164.84345829051284,
           165.29575744954627
          ],
          [
           158.38076480828457,
           158.833063967318,
           159.28536312635143,
           159.73766228538486,
           160.1899614444183,
           160.64226060345172,
           161.09455976248512,
           161.54685892151855,
           161.99915808055198,
           162.4514572395854,
           162.90375639861884,
           163.35605555765227,
           163.8083547166857,
           164.26065387571913,
           164.71295303475256,
           165.165252193786,
           165.61755135281942,
           166.06985051185282,
           166.52214967088625,
           166.97444882991968
          ],
          [
           160.059456188658,
           160.51175534769143,
           160.96405450672486,
           161.41635366575827,
           161.8686528247917,
           162.32095198382513,
           162.77325114285856,
           163.22555030189199,
           163.67784946092542,
           164.13014861995885,
           164.58244777899228,
           165.0347469380257,
           165.4870460970591,
           165.93934525609254,
           166.39164441512597,
           166.8439435741594,
           167.29624273319283,
           167.74854189222626,
           168.2008410512597,
           168.65314021029312
          ],
          [
           161.7381475690314,
           162.19044672806484,
           162.64274588709827,
           163.0950450461317,
           163.5473442051651,
           163.99964336419853,
           164.45194252323196,
           164.9042416822654,
           165.35654084129882,
           165.80884000033225,
           166.26113915936568,
           166.7134383183991,
           167.16573747743254,
           167.61803663646597,
           168.07033579549937,
           168.5226349545328,
           168.97493411356623,
           169.42723327259966,
           169.8795324316331,
           170.33183159066652
          ],
          [
           163.41683894940482,
           163.86913810843825,
           164.32143726747168,
           164.7737364265051,
           165.22603558553854,
           165.67833474457194,
           166.13063390360537,
           166.5829330626388,
           167.03523222167223,
           167.48753138070566,
           167.9398305397391,
           168.39212969877252,
           168.84442885780595,
           169.29672801683938,
           169.7490271758728,
           170.2013263349062,
           170.65362549393964,
           171.10592465297307,
           171.5582238120065,
           172.01052297103993
          ],
          [
           165.09553032977823,
           165.54782948881166,
           166.0001286478451,
           166.45242780687852,
           166.90472696591195,
           167.35702612494538,
           167.8093252839788,
           168.2616244430122,
           168.71392360204564,
           169.16622276107907,
           169.6185219201125,
           170.07082107914593,
           170.52312023817936,
           170.9754193972128,
           171.42771855624622,
           171.88001771527965,
           172.33231687431305,
           172.78461603334648,
           173.2369151923799,
           173.68921435141334
          ],
          [
           166.77422171015164,
           167.22652086918507,
           167.6788200282185,
           168.13111918725193,
           168.58341834628536,
           169.0357175053188,
           169.48801666435222,
           169.94031582338565,
           170.39261498241905,
           170.84491414145248,
           171.2972133004859,
           171.74951245951934,
           172.20181161855277,
           172.6541107775862,
           173.10640993661963,
           173.55870909565306,
           174.0110082546865,
           174.46330741371992,
           174.91560657275335,
           175.36790573178675
          ],
          [
           168.45291309052507,
           168.9052122495585,
           169.35751140859193,
           169.80981056762536,
           170.26210972665876,
           170.7144088856922,
           171.16670804472562,
           171.61900720375905,
           172.07130636279248,
           172.5236055218259,
           172.97590468085934,
           173.42820383989277,
           173.8805029989262,
           174.33280215795963,
           174.78510131699304,
           175.23740047602647,
           175.6896996350599,
           176.14199879409333,
           176.59429795312676,
           177.04659711216019
          ],
          [
           170.13160447089848,
           170.5839036299319,
           171.03620278896534,
           171.48850194799877,
           171.9408011070322,
           172.39310026606563,
           172.84539942509903,
           173.29769858413246,
           173.7499977431659,
           174.20229690219932,
           174.65459606123275,
           175.10689522026618,
           175.5591943792996,
           176.01149353833304,
           176.46379269736647,
           176.91609185639987,
           177.3683910154333,
           177.82069017446673,
           178.27298933350016,
           178.7252884925336
          ],
          [
           171.8102958512719,
           172.26259501030532,
           172.71489416933875,
           173.16719332837218,
           173.6194924874056,
           174.07179164643904,
           174.52409080547244,
           174.97638996450587,
           175.4286891235393,
           175.88098828257273,
           176.33328744160616,
           176.7855866006396,
           177.23788575967302,
           177.69018491870645,
           178.14248407773988,
           178.5947832367733,
           179.04708239580674,
           179.49938155484017,
           179.95168071387357,
           180.403979872907
          ],
          [
           173.4889872316453,
           173.94128639067873,
           174.39358554971216,
           174.8458847087456,
           175.29818386777902,
           175.75048302681245,
           176.20278218584588,
           176.6550813448793,
           177.10738050391274,
           177.55967966294614,
           178.01197882197957,
           178.464277981013,
           178.91657714004643,
           179.36887629907986,
           179.8211754581133,
           180.27347461714672,
           180.72577377618015,
           181.17807293521358,
           181.63037209424698,
           182.0826712532804
          ],
          [
           175.16767861201873,
           175.61997777105216,
           176.0722769300856,
           176.52457608911902,
           176.97687524815245,
           177.42917440718585,
           177.88147356621928,
           178.33377272525271,
           178.78607188428614,
           179.23837104331957,
           179.690670202353,
           180.14296936138643,
           180.59526852041986,
           181.04756767945327,
           181.4998668384867,
           181.95216599752013,
           182.40446515655356,
           182.856764315587,
           183.30906347462042,
           183.76136263365385
          ],
          [
           176.84636999239214,
           177.29866915142557,
           177.750968310459,
           178.20326746949243,
           178.65556662852586,
           179.1078657875593,
           179.5601649465927,
           180.01246410562612,
           180.46476326465955,
           180.91706242369298,
           181.3693615827264,
           181.82166074175984,
           182.27395990079327,
           182.7262590598267,
           183.17855821886013,
           183.63085737789356,
           184.083156536927,
           184.5354556959604,
           184.98775485499382,
           185.44005401402725
          ],
          [
           178.52506137276555,
           178.97736053179898,
           179.4296596908324,
           179.88195884986584,
           180.33425800889927,
           180.7865571679327,
           181.23885632696613,
           181.69115548599956,
           182.14345464503296,
           182.5957538040664,
           183.04805296309982,
           183.50035212213325,
           183.95265128116668,
           184.4049504402001,
           184.85724959923354,
           185.30954875826697,
           185.76184791730037,
           186.2141470763338,
           186.66644623536723,
           187.11874539440066
          ]
         ]
        }
       ],
       "layout": {
        "scene": {
         "xaxis": {
          "title": {
           "text": "Ancho"
          }
         },
         "yaxis": {
          "title": {
           "text": "Pie"
          }
         },
         "zaxis": {
          "title": {
           "text": "Altura"
          }
         }
        },
        "template": {
         "data": {
          "bar": [
           {
            "error_x": {
             "color": "#2a3f5f"
            },
            "error_y": {
             "color": "#2a3f5f"
            },
            "marker": {
             "line": {
              "color": "#E5ECF6",
              "width": 0.5
             },
             "pattern": {
              "fillmode": "overlay",
              "size": 10,
              "solidity": 0.2
             }
            },
            "type": "bar"
           }
          ],
          "barpolar": [
           {
            "marker": {
             "line": {
              "color": "#E5ECF6",
              "width": 0.5
             },
             "pattern": {
              "fillmode": "overlay",
              "size": 10,
              "solidity": 0.2
             }
            },
            "type": "barpolar"
           }
          ],
          "carpet": [
           {
            "aaxis": {
             "endlinecolor": "#2a3f5f",
             "gridcolor": "white",
             "linecolor": "white",
             "minorgridcolor": "white",
             "startlinecolor": "#2a3f5f"
            },
            "baxis": {
             "endlinecolor": "#2a3f5f",
             "gridcolor": "white",
             "linecolor": "white",
             "minorgridcolor": "white",
             "startlinecolor": "#2a3f5f"
            },
            "type": "carpet"
           }
          ],
          "choropleth": [
           {
            "colorbar": {
             "outlinewidth": 0,
             "ticks": ""
            },
            "type": "choropleth"
           }
          ],
          "contour": [
           {
            "colorbar": {
             "outlinewidth": 0,
             "ticks": ""
            },
            "colorscale": [
             [
              0,
              "#0d0887"
             ],
             [
              0.1111111111111111,
              "#46039f"
             ],
             [
              0.2222222222222222,
              "#7201a8"
             ],
             [
              0.3333333333333333,
              "#9c179e"
             ],
             [
              0.4444444444444444,
              "#bd3786"
             ],
             [
              0.5555555555555556,
              "#d8576b"
             ],
             [
              0.6666666666666666,
              "#ed7953"
             ],
             [
              0.7777777777777778,
              "#fb9f3a"
             ],
             [
              0.8888888888888888,
              "#fdca26"
             ],
             [
              1,
              "#f0f921"
             ]
            ],
            "type": "contour"
           }
          ],
          "contourcarpet": [
           {
            "colorbar": {
             "outlinewidth": 0,
             "ticks": ""
            },
            "type": "contourcarpet"
           }
          ],
          "heatmap": [
           {
            "colorbar": {
             "outlinewidth": 0,
             "ticks": ""
            },
            "colorscale": [
             [
              0,
              "#0d0887"
             ],
             [
              0.1111111111111111,
              "#46039f"
             ],
             [
              0.2222222222222222,
              "#7201a8"
             ],
             [
              0.3333333333333333,
              "#9c179e"
             ],
             [
              0.4444444444444444,
              "#bd3786"
             ],
             [
              0.5555555555555556,
              "#d8576b"
             ],
             [
              0.6666666666666666,
              "#ed7953"
             ],
             [
              0.7777777777777778,
              "#fb9f3a"
             ],
             [
              0.8888888888888888,
              "#fdca26"
             ],
             [
              1,
              "#f0f921"
             ]
            ],
            "type": "heatmap"
           }
          ],
          "heatmapgl": [
           {
            "colorbar": {
             "outlinewidth": 0,
             "ticks": ""
            },
            "colorscale": [
             [
              0,
              "#0d0887"
             ],
             [
              0.1111111111111111,
              "#46039f"
             ],
             [
              0.2222222222222222,
              "#7201a8"
             ],
             [
              0.3333333333333333,
              "#9c179e"
             ],
             [
              0.4444444444444444,
              "#bd3786"
             ],
             [
              0.5555555555555556,
              "#d8576b"
             ],
             [
              0.6666666666666666,
              "#ed7953"
             ],
             [
              0.7777777777777778,
              "#fb9f3a"
             ],
             [
              0.8888888888888888,
              "#fdca26"
             ],
             [
              1,
              "#f0f921"
             ]
            ],
            "type": "heatmapgl"
           }
          ],
          "histogram": [
           {
            "marker": {
             "pattern": {
              "fillmode": "overlay",
              "size": 10,
              "solidity": 0.2
             }
            },
            "type": "histogram"
           }
          ],
          "histogram2d": [
           {
            "colorbar": {
             "outlinewidth": 0,
             "ticks": ""
            },
            "colorscale": [
             [
              0,
              "#0d0887"
             ],
             [
              0.1111111111111111,
              "#46039f"
             ],
             [
              0.2222222222222222,
              "#7201a8"
             ],
             [
              0.3333333333333333,
              "#9c179e"
             ],
             [
              0.4444444444444444,
              "#bd3786"
             ],
             [
              0.5555555555555556,
              "#d8576b"
             ],
             [
              0.6666666666666666,
              "#ed7953"
             ],
             [
              0.7777777777777778,
              "#fb9f3a"
             ],
             [
              0.8888888888888888,
              "#fdca26"
             ],
             [
              1,
              "#f0f921"
             ]
            ],
            "type": "histogram2d"
           }
          ],
          "histogram2dcontour": [
           {
            "colorbar": {
             "outlinewidth": 0,
             "ticks": ""
            },
            "colorscale": [
             [
              0,
              "#0d0887"
             ],
             [
              0.1111111111111111,
              "#46039f"
             ],
             [
              0.2222222222222222,
              "#7201a8"
             ],
             [
              0.3333333333333333,
              "#9c179e"
             ],
             [
              0.4444444444444444,
              "#bd3786"
             ],
             [
              0.5555555555555556,
              "#d8576b"
             ],
             [
              0.6666666666666666,
              "#ed7953"
             ],
             [
              0.7777777777777778,
              "#fb9f3a"
             ],
             [
              0.8888888888888888,
              "#fdca26"
             ],
             [
              1,
              "#f0f921"
             ]
            ],
            "type": "histogram2dcontour"
           }
          ],
          "mesh3d": [
           {
            "colorbar": {
             "outlinewidth": 0,
             "ticks": ""
            },
            "type": "mesh3d"
           }
          ],
          "parcoords": [
           {
            "line": {
             "colorbar": {
              "outlinewidth": 0,
              "ticks": ""
             }
            },
            "type": "parcoords"
           }
          ],
          "pie": [
           {
            "automargin": true,
            "type": "pie"
           }
          ],
          "scatter": [
           {
            "fillpattern": {
             "fillmode": "overlay",
             "size": 10,
             "solidity": 0.2
            },
            "type": "scatter"
           }
          ],
          "scatter3d": [
           {
            "line": {
             "colorbar": {
              "outlinewidth": 0,
              "ticks": ""
             }
            },
            "marker": {
             "colorbar": {
              "outlinewidth": 0,
              "ticks": ""
             }
            },
            "type": "scatter3d"
           }
          ],
          "scattercarpet": [
           {
            "marker": {
             "colorbar": {
              "outlinewidth": 0,
              "ticks": ""
             }
            },
            "type": "scattercarpet"
           }
          ],
          "scattergeo": [
           {
            "marker": {
             "colorbar": {
              "outlinewidth": 0,
              "ticks": ""
             }
            },
            "type": "scattergeo"
           }
          ],
          "scattergl": [
           {
            "marker": {
             "colorbar": {
              "outlinewidth": 0,
              "ticks": ""
             }
            },
            "type": "scattergl"
           }
          ],
          "scattermapbox": [
           {
            "marker": {
             "colorbar": {
              "outlinewidth": 0,
              "ticks": ""
             }
            },
            "type": "scattermapbox"
           }
          ],
          "scatterpolar": [
           {
            "marker": {
             "colorbar": {
              "outlinewidth": 0,
              "ticks": ""
             }
            },
            "type": "scatterpolar"
           }
          ],
          "scatterpolargl": [
           {
            "marker": {
             "colorbar": {
              "outlinewidth": 0,
              "ticks": ""
             }
            },
            "type": "scatterpolargl"
           }
          ],
          "scatterternary": [
           {
            "marker": {
             "colorbar": {
              "outlinewidth": 0,
              "ticks": ""
             }
            },
            "type": "scatterternary"
           }
          ],
          "surface": [
           {
            "colorbar": {
             "outlinewidth": 0,
             "ticks": ""
            },
            "colorscale": [
             [
              0,
              "#0d0887"
             ],
             [
              0.1111111111111111,
              "#46039f"
             ],
             [
              0.2222222222222222,
              "#7201a8"
             ],
             [
              0.3333333333333333,
              "#9c179e"
             ],
             [
              0.4444444444444444,
              "#bd3786"
             ],
             [
              0.5555555555555556,
              "#d8576b"
             ],
             [
              0.6666666666666666,
              "#ed7953"
             ],
             [
              0.7777777777777778,
              "#fb9f3a"
             ],
             [
              0.8888888888888888,
              "#fdca26"
             ],
             [
              1,
              "#f0f921"
             ]
            ],
            "type": "surface"
           }
          ],
          "table": [
           {
            "cells": {
             "fill": {
              "color": "#EBF0F8"
             },
             "line": {
              "color": "white"
             }
            },
            "header": {
             "fill": {
              "color": "#C8D4E3"
             },
             "line": {
              "color": "white"
             }
            },
            "type": "table"
           }
          ]
         },
         "layout": {
          "annotationdefaults": {
           "arrowcolor": "#2a3f5f",
           "arrowhead": 0,
           "arrowwidth": 1
          },
          "autotypenumbers": "strict",
          "coloraxis": {
           "colorbar": {
            "outlinewidth": 0,
            "ticks": ""
           }
          },
          "colorscale": {
           "diverging": [
            [
             0,
             "#8e0152"
            ],
            [
             0.1,
             "#c51b7d"
            ],
            [
             0.2,
             "#de77ae"
            ],
            [
             0.3,
             "#f1b6da"
            ],
            [
             0.4,
             "#fde0ef"
            ],
            [
             0.5,
             "#f7f7f7"
            ],
            [
             0.6,
             "#e6f5d0"
            ],
            [
             0.7,
             "#b8e186"
            ],
            [
             0.8,
             "#7fbc41"
            ],
            [
             0.9,
             "#4d9221"
            ],
            [
             1,
             "#276419"
            ]
           ],
           "sequential": [
            [
             0,
             "#0d0887"
            ],
            [
             0.1111111111111111,
             "#46039f"
            ],
            [
             0.2222222222222222,
             "#7201a8"
            ],
            [
             0.3333333333333333,
             "#9c179e"
            ],
            [
             0.4444444444444444,
             "#bd3786"
            ],
            [
             0.5555555555555556,
             "#d8576b"
            ],
            [
             0.6666666666666666,
             "#ed7953"
            ],
            [
             0.7777777777777778,
             "#fb9f3a"
            ],
            [
             0.8888888888888888,
             "#fdca26"
            ],
            [
             1,
             "#f0f921"
            ]
           ],
           "sequentialminus": [
            [
             0,
             "#0d0887"
            ],
            [
             0.1111111111111111,
             "#46039f"
            ],
            [
             0.2222222222222222,
             "#7201a8"
            ],
            [
             0.3333333333333333,
             "#9c179e"
            ],
            [
             0.4444444444444444,
             "#bd3786"
            ],
            [
             0.5555555555555556,
             "#d8576b"
            ],
            [
             0.6666666666666666,
             "#ed7953"
            ],
            [
             0.7777777777777778,
             "#fb9f3a"
            ],
            [
             0.8888888888888888,
             "#fdca26"
            ],
            [
             1,
             "#f0f921"
            ]
           ]
          },
          "colorway": [
           "#636efa",
           "#EF553B",
           "#00cc96",
           "#ab63fa",
           "#FFA15A",
           "#19d3f3",
           "#FF6692",
           "#B6E880",
           "#FF97FF",
           "#FECB52"
          ],
          "font": {
           "color": "#2a3f5f"
          },
          "geo": {
           "bgcolor": "white",
           "lakecolor": "white",
           "landcolor": "#E5ECF6",
           "showlakes": true,
           "showland": true,
           "subunitcolor": "white"
          },
          "hoverlabel": {
           "align": "left"
          },
          "hovermode": "closest",
          "mapbox": {
           "style": "light"
          },
          "paper_bgcolor": "white",
          "plot_bgcolor": "#E5ECF6",
          "polar": {
           "angularaxis": {
            "gridcolor": "white",
            "linecolor": "white",
            "ticks": ""
           },
           "bgcolor": "#E5ECF6",
           "radialaxis": {
            "gridcolor": "white",
            "linecolor": "white",
            "ticks": ""
           }
          },
          "scene": {
           "xaxis": {
            "backgroundcolor": "#E5ECF6",
            "gridcolor": "white",
            "gridwidth": 2,
            "linecolor": "white",
            "showbackground": true,
            "ticks": "",
            "zerolinecolor": "white"
           },
           "yaxis": {
            "backgroundcolor": "#E5ECF6",
            "gridcolor": "white",
            "gridwidth": 2,
            "linecolor": "white",
            "showbackground": true,
            "ticks": "",
            "zerolinecolor": "white"
           },
           "zaxis": {
            "backgroundcolor": "#E5ECF6",
            "gridcolor": "white",
            "gridwidth": 2,
            "linecolor": "white",
            "showbackground": true,
            "ticks": "",
            "zerolinecolor": "white"
           }
          },
          "shapedefaults": {
           "line": {
            "color": "#2a3f5f"
           }
          },
          "ternary": {
           "aaxis": {
            "gridcolor": "white",
            "linecolor": "white",
            "ticks": ""
           },
           "baxis": {
            "gridcolor": "white",
            "linecolor": "white",
            "ticks": ""
           },
           "bgcolor": "#E5ECF6",
           "caxis": {
            "gridcolor": "white",
            "linecolor": "white",
            "ticks": ""
           }
          },
          "title": {
           "x": 0.05
          },
          "xaxis": {
           "automargin": true,
           "gridcolor": "white",
           "linecolor": "white",
           "ticks": "",
           "title": {
            "standoff": 15
           },
           "zerolinecolor": "white",
           "zerolinewidth": 2
          },
          "yaxis": {
           "automargin": true,
           "gridcolor": "white",
           "linecolor": "white",
           "ticks": "",
           "title": {
            "standoff": 15
           },
           "zerolinecolor": "white",
           "zerolinewidth": 2
          }
         }
        },
        "title": {
         "text": "ITESO LEFT<br>R2: 0.7745275608222341 RMSE: 3.5764335018121596"
        }
       }
      }
     },
     "metadata": {},
     "output_type": "display_data"
    }
   ],
   "source": [
    "# Definir rangos para las variables independientes\n",
    "x1_range = np.linspace(min(x_train_left['width']), max(x_train_left['width']), 20)\n",
    "x2_range = np.linspace(min(x_train_left['shoe_size']), max(x_train_left['shoe_size']), 20)\n",
    "x1_mesh, x2_mesh = np.meshgrid(x1_range, x2_range)\n",
    "\n",
    "# Escalar el meshgrid para predicción\n",
    "x_mesh_scaled = ss_left.transform(np.vstack((x1_mesh.ravel(), x2_mesh.ravel())).T)\n",
    "\n",
    "# Predecir los valores con el modelo escalado\n",
    "y_mesh_scaled = rg_l.predict(x_mesh_scaled)\n",
    "\n",
    "# Crear scatterplot 3D de los puntos reales\n",
    "scatter = go.Scatter3d(\n",
    "    x=x_test_left['width'], y=x_test_left['shoe_size'], z=y_test_left,\n",
    "    mode='markers',\n",
    "    marker=dict(size=8, color='red', opacity=0.7)\n",
    ")\n",
    "\n",
    "# Crear el plano de regresión\n",
    "surface = go.Surface(\n",
    "    x=x1_mesh, y=x2_mesh, z=y_mesh_scaled.reshape(x1_mesh.shape),\n",
    "    colorscale='Viridis', opacity=0.5\n",
    ")\n",
    "\n",
    "# Configuración del layout\n",
    "layout = go.Layout(\n",
    "    title=f\"ITESO LEFT<br>R2: {r2_score(y_test_left, r_pred_left)} RMSE: {root_mean_squared_error(y_test_left, r_pred_left)}\",\n",
    "    scene=dict(\n",
    "        xaxis_title='Ancho',\n",
    "        yaxis_title='Pie',\n",
    "        zaxis_title='Altura'\n",
    "    )\n",
    ")\n",
    "\n",
    "# Crear la figura\n",
    "fig = go.Figure(data=[scatter, surface], layout=layout)\n",
    "\n",
    "# Mostrar la figura interactiva\n",
    "fig.show()"
   ]
  },
  {
   "cell_type": "markdown",
   "metadata": {},
   "source": [
    "### Center model"
   ]
  },
  {
   "cell_type": "code",
   "execution_count": 239,
   "metadata": {},
   "outputs": [
    {
     "name": "stdout",
     "output_type": "stream",
     "text": [
      "R2: 0.8484303924224865 RMSE: 4.280983988385949\n"
     ]
    }
   ],
   "source": [
    "rg_c = Ridge(alpha = 1.26)\n",
    "rg_c.fit(X_train_s_center, y_train_center)\n",
    "r_pred_center = rg_c.predict(X_test_s_center)\n",
    "print(f\"R2: {r2_score(y_test_center, r_pred_center)} RMSE: {root_mean_squared_error(y_test_center, r_pred_center)}\")"
   ]
  },
  {
   "cell_type": "code",
   "execution_count": 240,
   "metadata": {},
   "outputs": [
    {
     "name": "stdout",
     "output_type": "stream",
     "text": [
      "Pendientes: [0.84705044 7.40777022]\n",
      "Intercepto: 169.1014492753623\n"
     ]
    }
   ],
   "source": [
    "print(f\"Pendientes: {rg_c.coef_}\")\n",
    "print(f\"Intercepto: {rg_c.intercept_}\")"
   ]
  },
  {
   "cell_type": "code",
   "execution_count": 241,
   "metadata": {},
   "outputs": [
    {
     "name": "stderr",
     "output_type": "stream",
     "text": [
      "c:\\Users\\cesar\\anaconda3\\envs\\iteso\\lib\\site-packages\\sklearn\\base.py:493: UserWarning:\n",
      "\n",
      "X does not have valid feature names, but StandardScaler was fitted with feature names\n",
      "\n"
     ]
    }
   ],
   "source": [
    "values_para_center = ss_center.transform([[36,22.5]])"
   ]
  },
  {
   "cell_type": "code",
   "execution_count": 242,
   "metadata": {},
   "outputs": [
    {
     "data": {
      "text/plain": [
       "array([155.08588937])"
      ]
     },
     "execution_count": 242,
     "metadata": {},
     "output_type": "execute_result"
    }
   ],
   "source": [
    "rg_c.predict(values_para_center)"
   ]
  },
  {
   "cell_type": "code",
   "execution_count": 243,
   "metadata": {},
   "outputs": [
    {
     "name": "stderr",
     "output_type": "stream",
     "text": [
      "c:\\Users\\cesar\\anaconda3\\envs\\iteso\\lib\\site-packages\\sklearn\\base.py:493: UserWarning:\n",
      "\n",
      "X does not have valid feature names, but StandardScaler was fitted with feature names\n",
      "\n"
     ]
    },
    {
     "data": {
      "application/vnd.plotly.v1+json": {
       "config": {
        "plotlyServerURL": "https://plot.ly"
       },
       "data": [
        {
         "marker": {
          "color": "red",
          "opacity": 0.7,
          "size": 8
         },
         "mode": "markers",
         "type": "scatter3d",
         "x": [
          42,
          46,
          40,
          48,
          34,
          48,
          42,
          46,
          44,
          45,
          39,
          49,
          52,
          50,
          36,
          46,
          41,
          43
         ],
         "y": [
          27,
          24,
          23,
          28,
          24,
          29,
          24,
          28,
          23,
          27.5,
          22.5,
          27.5,
          30,
          28,
          23,
          27,
          23,
          25
         ],
         "z": [
          177,
          170,
          159,
          176,
          154,
          187,
          162,
          182,
          162,
          175,
          150,
          175,
          190,
          173,
          164,
          172,
          154,
          168
         ]
        },
        {
         "colorscale": [
          [
           0,
           "#440154"
          ],
          [
           0.1111111111111111,
           "#482878"
          ],
          [
           0.2222222222222222,
           "#3e4989"
          ],
          [
           0.3333333333333333,
           "#31688e"
          ],
          [
           0.4444444444444444,
           "#26828e"
          ],
          [
           0.5555555555555556,
           "#1f9e89"
          ],
          [
           0.6666666666666666,
           "#35b779"
          ],
          [
           0.7777777777777778,
           "#6ece58"
          ],
          [
           0.8888888888888888,
           "#b5de2b"
          ],
          [
           1,
           "#fde725"
          ]
         ],
         "opacity": 0.5,
         "type": "surface",
         "x": [
          [
           33,
           34.473684210526315,
           35.94736842105263,
           37.421052631578945,
           38.89473684210526,
           40.368421052631575,
           41.84210526315789,
           43.31578947368421,
           44.78947368421053,
           46.26315789473684,
           47.73684210526316,
           49.21052631578947,
           50.68421052631579,
           52.1578947368421,
           53.631578947368425,
           55.10526315789474,
           56.578947368421055,
           58.05263157894737,
           59.526315789473685,
           61
          ],
          [
           33,
           34.473684210526315,
           35.94736842105263,
           37.421052631578945,
           38.89473684210526,
           40.368421052631575,
           41.84210526315789,
           43.31578947368421,
           44.78947368421053,
           46.26315789473684,
           47.73684210526316,
           49.21052631578947,
           50.68421052631579,
           52.1578947368421,
           53.631578947368425,
           55.10526315789474,
           56.578947368421055,
           58.05263157894737,
           59.526315789473685,
           61
          ],
          [
           33,
           34.473684210526315,
           35.94736842105263,
           37.421052631578945,
           38.89473684210526,
           40.368421052631575,
           41.84210526315789,
           43.31578947368421,
           44.78947368421053,
           46.26315789473684,
           47.73684210526316,
           49.21052631578947,
           50.68421052631579,
           52.1578947368421,
           53.631578947368425,
           55.10526315789474,
           56.578947368421055,
           58.05263157894737,
           59.526315789473685,
           61
          ],
          [
           33,
           34.473684210526315,
           35.94736842105263,
           37.421052631578945,
           38.89473684210526,
           40.368421052631575,
           41.84210526315789,
           43.31578947368421,
           44.78947368421053,
           46.26315789473684,
           47.73684210526316,
           49.21052631578947,
           50.68421052631579,
           52.1578947368421,
           53.631578947368425,
           55.10526315789474,
           56.578947368421055,
           58.05263157894737,
           59.526315789473685,
           61
          ],
          [
           33,
           34.473684210526315,
           35.94736842105263,
           37.421052631578945,
           38.89473684210526,
           40.368421052631575,
           41.84210526315789,
           43.31578947368421,
           44.78947368421053,
           46.26315789473684,
           47.73684210526316,
           49.21052631578947,
           50.68421052631579,
           52.1578947368421,
           53.631578947368425,
           55.10526315789474,
           56.578947368421055,
           58.05263157894737,
           59.526315789473685,
           61
          ],
          [
           33,
           34.473684210526315,
           35.94736842105263,
           37.421052631578945,
           38.89473684210526,
           40.368421052631575,
           41.84210526315789,
           43.31578947368421,
           44.78947368421053,
           46.26315789473684,
           47.73684210526316,
           49.21052631578947,
           50.68421052631579,
           52.1578947368421,
           53.631578947368425,
           55.10526315789474,
           56.578947368421055,
           58.05263157894737,
           59.526315789473685,
           61
          ],
          [
           33,
           34.473684210526315,
           35.94736842105263,
           37.421052631578945,
           38.89473684210526,
           40.368421052631575,
           41.84210526315789,
           43.31578947368421,
           44.78947368421053,
           46.26315789473684,
           47.73684210526316,
           49.21052631578947,
           50.68421052631579,
           52.1578947368421,
           53.631578947368425,
           55.10526315789474,
           56.578947368421055,
           58.05263157894737,
           59.526315789473685,
           61
          ],
          [
           33,
           34.473684210526315,
           35.94736842105263,
           37.421052631578945,
           38.89473684210526,
           40.368421052631575,
           41.84210526315789,
           43.31578947368421,
           44.78947368421053,
           46.26315789473684,
           47.73684210526316,
           49.21052631578947,
           50.68421052631579,
           52.1578947368421,
           53.631578947368425,
           55.10526315789474,
           56.578947368421055,
           58.05263157894737,
           59.526315789473685,
           61
          ],
          [
           33,
           34.473684210526315,
           35.94736842105263,
           37.421052631578945,
           38.89473684210526,
           40.368421052631575,
           41.84210526315789,
           43.31578947368421,
           44.78947368421053,
           46.26315789473684,
           47.73684210526316,
           49.21052631578947,
           50.68421052631579,
           52.1578947368421,
           53.631578947368425,
           55.10526315789474,
           56.578947368421055,
           58.05263157894737,
           59.526315789473685,
           61
          ],
          [
           33,
           34.473684210526315,
           35.94736842105263,
           37.421052631578945,
           38.89473684210526,
           40.368421052631575,
           41.84210526315789,
           43.31578947368421,
           44.78947368421053,
           46.26315789473684,
           47.73684210526316,
           49.21052631578947,
           50.68421052631579,
           52.1578947368421,
           53.631578947368425,
           55.10526315789474,
           56.578947368421055,
           58.05263157894737,
           59.526315789473685,
           61
          ],
          [
           33,
           34.473684210526315,
           35.94736842105263,
           37.421052631578945,
           38.89473684210526,
           40.368421052631575,
           41.84210526315789,
           43.31578947368421,
           44.78947368421053,
           46.26315789473684,
           47.73684210526316,
           49.21052631578947,
           50.68421052631579,
           52.1578947368421,
           53.631578947368425,
           55.10526315789474,
           56.578947368421055,
           58.05263157894737,
           59.526315789473685,
           61
          ],
          [
           33,
           34.473684210526315,
           35.94736842105263,
           37.421052631578945,
           38.89473684210526,
           40.368421052631575,
           41.84210526315789,
           43.31578947368421,
           44.78947368421053,
           46.26315789473684,
           47.73684210526316,
           49.21052631578947,
           50.68421052631579,
           52.1578947368421,
           53.631578947368425,
           55.10526315789474,
           56.578947368421055,
           58.05263157894737,
           59.526315789473685,
           61
          ],
          [
           33,
           34.473684210526315,
           35.94736842105263,
           37.421052631578945,
           38.89473684210526,
           40.368421052631575,
           41.84210526315789,
           43.31578947368421,
           44.78947368421053,
           46.26315789473684,
           47.73684210526316,
           49.21052631578947,
           50.68421052631579,
           52.1578947368421,
           53.631578947368425,
           55.10526315789474,
           56.578947368421055,
           58.05263157894737,
           59.526315789473685,
           61
          ],
          [
           33,
           34.473684210526315,
           35.94736842105263,
           37.421052631578945,
           38.89473684210526,
           40.368421052631575,
           41.84210526315789,
           43.31578947368421,
           44.78947368421053,
           46.26315789473684,
           47.73684210526316,
           49.21052631578947,
           50.68421052631579,
           52.1578947368421,
           53.631578947368425,
           55.10526315789474,
           56.578947368421055,
           58.05263157894737,
           59.526315789473685,
           61
          ],
          [
           33,
           34.473684210526315,
           35.94736842105263,
           37.421052631578945,
           38.89473684210526,
           40.368421052631575,
           41.84210526315789,
           43.31578947368421,
           44.78947368421053,
           46.26315789473684,
           47.73684210526316,
           49.21052631578947,
           50.68421052631579,
           52.1578947368421,
           53.631578947368425,
           55.10526315789474,
           56.578947368421055,
           58.05263157894737,
           59.526315789473685,
           61
          ],
          [
           33,
           34.473684210526315,
           35.94736842105263,
           37.421052631578945,
           38.89473684210526,
           40.368421052631575,
           41.84210526315789,
           43.31578947368421,
           44.78947368421053,
           46.26315789473684,
           47.73684210526316,
           49.21052631578947,
           50.68421052631579,
           52.1578947368421,
           53.631578947368425,
           55.10526315789474,
           56.578947368421055,
           58.05263157894737,
           59.526315789473685,
           61
          ],
          [
           33,
           34.473684210526315,
           35.94736842105263,
           37.421052631578945,
           38.89473684210526,
           40.368421052631575,
           41.84210526315789,
           43.31578947368421,
           44.78947368421053,
           46.26315789473684,
           47.73684210526316,
           49.21052631578947,
           50.68421052631579,
           52.1578947368421,
           53.631578947368425,
           55.10526315789474,
           56.578947368421055,
           58.05263157894737,
           59.526315789473685,
           61
          ],
          [
           33,
           34.473684210526315,
           35.94736842105263,
           37.421052631578945,
           38.89473684210526,
           40.368421052631575,
           41.84210526315789,
           43.31578947368421,
           44.78947368421053,
           46.26315789473684,
           47.73684210526316,
           49.21052631578947,
           50.68421052631579,
           52.1578947368421,
           53.631578947368425,
           55.10526315789474,
           56.578947368421055,
           58.05263157894737,
           59.526315789473685,
           61
          ],
          [
           33,
           34.473684210526315,
           35.94736842105263,
           37.421052631578945,
           38.89473684210526,
           40.368421052631575,
           41.84210526315789,
           43.31578947368421,
           44.78947368421053,
           46.26315789473684,
           47.73684210526316,
           49.21052631578947,
           50.68421052631579,
           52.1578947368421,
           53.631578947368425,
           55.10526315789474,
           56.578947368421055,
           58.05263157894737,
           59.526315789473685,
           61
          ],
          [
           33,
           34.473684210526315,
           35.94736842105263,
           37.421052631578945,
           38.89473684210526,
           40.368421052631575,
           41.84210526315789,
           43.31578947368421,
           44.78947368421053,
           46.26315789473684,
           47.73684210526316,
           49.21052631578947,
           50.68421052631579,
           52.1578947368421,
           53.631578947368425,
           55.10526315789474,
           56.578947368421055,
           58.05263157894737,
           59.526315789473685,
           61
          ]
         ],
         "y": [
          [
           22,
           22,
           22,
           22,
           22,
           22,
           22,
           22,
           22,
           22,
           22,
           22,
           22,
           22,
           22,
           22,
           22,
           22,
           22,
           22
          ],
          [
           22.42105263157895,
           22.42105263157895,
           22.42105263157895,
           22.42105263157895,
           22.42105263157895,
           22.42105263157895,
           22.42105263157895,
           22.42105263157895,
           22.42105263157895,
           22.42105263157895,
           22.42105263157895,
           22.42105263157895,
           22.42105263157895,
           22.42105263157895,
           22.42105263157895,
           22.42105263157895,
           22.42105263157895,
           22.42105263157895,
           22.42105263157895,
           22.42105263157895
          ],
          [
           22.842105263157894,
           22.842105263157894,
           22.842105263157894,
           22.842105263157894,
           22.842105263157894,
           22.842105263157894,
           22.842105263157894,
           22.842105263157894,
           22.842105263157894,
           22.842105263157894,
           22.842105263157894,
           22.842105263157894,
           22.842105263157894,
           22.842105263157894,
           22.842105263157894,
           22.842105263157894,
           22.842105263157894,
           22.842105263157894,
           22.842105263157894,
           22.842105263157894
          ],
          [
           23.263157894736842,
           23.263157894736842,
           23.263157894736842,
           23.263157894736842,
           23.263157894736842,
           23.263157894736842,
           23.263157894736842,
           23.263157894736842,
           23.263157894736842,
           23.263157894736842,
           23.263157894736842,
           23.263157894736842,
           23.263157894736842,
           23.263157894736842,
           23.263157894736842,
           23.263157894736842,
           23.263157894736842,
           23.263157894736842,
           23.263157894736842,
           23.263157894736842
          ],
          [
           23.684210526315788,
           23.684210526315788,
           23.684210526315788,
           23.684210526315788,
           23.684210526315788,
           23.684210526315788,
           23.684210526315788,
           23.684210526315788,
           23.684210526315788,
           23.684210526315788,
           23.684210526315788,
           23.684210526315788,
           23.684210526315788,
           23.684210526315788,
           23.684210526315788,
           23.684210526315788,
           23.684210526315788,
           23.684210526315788,
           23.684210526315788,
           23.684210526315788
          ],
          [
           24.105263157894736,
           24.105263157894736,
           24.105263157894736,
           24.105263157894736,
           24.105263157894736,
           24.105263157894736,
           24.105263157894736,
           24.105263157894736,
           24.105263157894736,
           24.105263157894736,
           24.105263157894736,
           24.105263157894736,
           24.105263157894736,
           24.105263157894736,
           24.105263157894736,
           24.105263157894736,
           24.105263157894736,
           24.105263157894736,
           24.105263157894736,
           24.105263157894736
          ],
          [
           24.526315789473685,
           24.526315789473685,
           24.526315789473685,
           24.526315789473685,
           24.526315789473685,
           24.526315789473685,
           24.526315789473685,
           24.526315789473685,
           24.526315789473685,
           24.526315789473685,
           24.526315789473685,
           24.526315789473685,
           24.526315789473685,
           24.526315789473685,
           24.526315789473685,
           24.526315789473685,
           24.526315789473685,
           24.526315789473685,
           24.526315789473685,
           24.526315789473685
          ],
          [
           24.94736842105263,
           24.94736842105263,
           24.94736842105263,
           24.94736842105263,
           24.94736842105263,
           24.94736842105263,
           24.94736842105263,
           24.94736842105263,
           24.94736842105263,
           24.94736842105263,
           24.94736842105263,
           24.94736842105263,
           24.94736842105263,
           24.94736842105263,
           24.94736842105263,
           24.94736842105263,
           24.94736842105263,
           24.94736842105263,
           24.94736842105263,
           24.94736842105263
          ],
          [
           25.36842105263158,
           25.36842105263158,
           25.36842105263158,
           25.36842105263158,
           25.36842105263158,
           25.36842105263158,
           25.36842105263158,
           25.36842105263158,
           25.36842105263158,
           25.36842105263158,
           25.36842105263158,
           25.36842105263158,
           25.36842105263158,
           25.36842105263158,
           25.36842105263158,
           25.36842105263158,
           25.36842105263158,
           25.36842105263158,
           25.36842105263158,
           25.36842105263158
          ],
          [
           25.789473684210527,
           25.789473684210527,
           25.789473684210527,
           25.789473684210527,
           25.789473684210527,
           25.789473684210527,
           25.789473684210527,
           25.789473684210527,
           25.789473684210527,
           25.789473684210527,
           25.789473684210527,
           25.789473684210527,
           25.789473684210527,
           25.789473684210527,
           25.789473684210527,
           25.789473684210527,
           25.789473684210527,
           25.789473684210527,
           25.789473684210527,
           25.789473684210527
          ],
          [
           26.210526315789473,
           26.210526315789473,
           26.210526315789473,
           26.210526315789473,
           26.210526315789473,
           26.210526315789473,
           26.210526315789473,
           26.210526315789473,
           26.210526315789473,
           26.210526315789473,
           26.210526315789473,
           26.210526315789473,
           26.210526315789473,
           26.210526315789473,
           26.210526315789473,
           26.210526315789473,
           26.210526315789473,
           26.210526315789473,
           26.210526315789473,
           26.210526315789473
          ],
          [
           26.63157894736842,
           26.63157894736842,
           26.63157894736842,
           26.63157894736842,
           26.63157894736842,
           26.63157894736842,
           26.63157894736842,
           26.63157894736842,
           26.63157894736842,
           26.63157894736842,
           26.63157894736842,
           26.63157894736842,
           26.63157894736842,
           26.63157894736842,
           26.63157894736842,
           26.63157894736842,
           26.63157894736842,
           26.63157894736842,
           26.63157894736842,
           26.63157894736842
          ],
          [
           27.05263157894737,
           27.05263157894737,
           27.05263157894737,
           27.05263157894737,
           27.05263157894737,
           27.05263157894737,
           27.05263157894737,
           27.05263157894737,
           27.05263157894737,
           27.05263157894737,
           27.05263157894737,
           27.05263157894737,
           27.05263157894737,
           27.05263157894737,
           27.05263157894737,
           27.05263157894737,
           27.05263157894737,
           27.05263157894737,
           27.05263157894737,
           27.05263157894737
          ],
          [
           27.473684210526315,
           27.473684210526315,
           27.473684210526315,
           27.473684210526315,
           27.473684210526315,
           27.473684210526315,
           27.473684210526315,
           27.473684210526315,
           27.473684210526315,
           27.473684210526315,
           27.473684210526315,
           27.473684210526315,
           27.473684210526315,
           27.473684210526315,
           27.473684210526315,
           27.473684210526315,
           27.473684210526315,
           27.473684210526315,
           27.473684210526315,
           27.473684210526315
          ],
          [
           27.894736842105264,
           27.894736842105264,
           27.894736842105264,
           27.894736842105264,
           27.894736842105264,
           27.894736842105264,
           27.894736842105264,
           27.894736842105264,
           27.894736842105264,
           27.894736842105264,
           27.894736842105264,
           27.894736842105264,
           27.894736842105264,
           27.894736842105264,
           27.894736842105264,
           27.894736842105264,
           27.894736842105264,
           27.894736842105264,
           27.894736842105264,
           27.894736842105264
          ],
          [
           28.315789473684212,
           28.315789473684212,
           28.315789473684212,
           28.315789473684212,
           28.315789473684212,
           28.315789473684212,
           28.315789473684212,
           28.315789473684212,
           28.315789473684212,
           28.315789473684212,
           28.315789473684212,
           28.315789473684212,
           28.315789473684212,
           28.315789473684212,
           28.315789473684212,
           28.315789473684212,
           28.315789473684212,
           28.315789473684212,
           28.315789473684212,
           28.315789473684212
          ],
          [
           28.736842105263158,
           28.736842105263158,
           28.736842105263158,
           28.736842105263158,
           28.736842105263158,
           28.736842105263158,
           28.736842105263158,
           28.736842105263158,
           28.736842105263158,
           28.736842105263158,
           28.736842105263158,
           28.736842105263158,
           28.736842105263158,
           28.736842105263158,
           28.736842105263158,
           28.736842105263158,
           28.736842105263158,
           28.736842105263158,
           28.736842105263158,
           28.736842105263158
          ],
          [
           29.157894736842103,
           29.157894736842103,
           29.157894736842103,
           29.157894736842103,
           29.157894736842103,
           29.157894736842103,
           29.157894736842103,
           29.157894736842103,
           29.157894736842103,
           29.157894736842103,
           29.157894736842103,
           29.157894736842103,
           29.157894736842103,
           29.157894736842103,
           29.157894736842103,
           29.157894736842103,
           29.157894736842103,
           29.157894736842103,
           29.157894736842103,
           29.157894736842103
          ],
          [
           29.57894736842105,
           29.57894736842105,
           29.57894736842105,
           29.57894736842105,
           29.57894736842105,
           29.57894736842105,
           29.57894736842105,
           29.57894736842105,
           29.57894736842105,
           29.57894736842105,
           29.57894736842105,
           29.57894736842105,
           29.57894736842105,
           29.57894736842105,
           29.57894736842105,
           29.57894736842105,
           29.57894736842105,
           29.57894736842105,
           29.57894736842105,
           29.57894736842105
          ],
          [
           30,
           30,
           30,
           30,
           30,
           30,
           30,
           30,
           30,
           30,
           30,
           30,
           30,
           30,
           30,
           30,
           30,
           30,
           30,
           30
          ]
         ],
         "z": [
          [
           152.71101036802503,
           152.9473434499566,
           153.18367653188818,
           153.42000961381976,
           153.65634269575133,
           153.8926757776829,
           154.1290088596145,
           154.3653419415461,
           154.60167502347767,
           154.83800810540924,
           155.07434118734082,
           155.3106742692724,
           155.54700735120397,
           155.78334043313555,
           156.01967351506713,
           156.25600659699873,
           156.4923396789303,
           156.72867276086188,
           156.96500584279346,
           157.20133892472504
          ],
          [
           154.30576605215074,
           154.54209913408232,
           154.7784322160139,
           155.01476529794547,
           155.25109837987708,
           155.48743146180865,
           155.72376454374023,
           155.9600976256718,
           156.19643070760338,
           156.43276378953496,
           156.66909687146654,
           156.9054299533981,
           157.1417630353297,
           157.3780961172613,
           157.61442919919287,
           157.85076228112445,
           158.08709536305602,
           158.3234284449876,
           158.55976152691917,
           158.79609460885075
          ],
          [
           155.90052173627646,
           156.13685481820804,
           156.3731879001396,
           156.6095209820712,
           156.84585406400276,
           157.08218714593437,
           157.31852022786595,
           157.55485330979752,
           157.7911863917291,
           158.02751947366067,
           158.26385255559225,
           158.50018563752383,
           158.7365187194554,
           158.97285180138698,
           159.20918488331858,
           159.44551796525016,
           159.68185104718174,
           159.9181841291133,
           160.1545172110449,
           160.39085029297647
          ],
          [
           157.49527742040218,
           157.73161050233375,
           157.96794358426536,
           158.20427666619693,
           158.4406097481285,
           158.67694283006009,
           158.91327591199166,
           159.14960899392324,
           159.3859420758548,
           159.6222751577864,
           159.85860823971797,
           160.09494132164957,
           160.33127440358115,
           160.56760748551272,
           160.8039405674443,
           161.04027364937588,
           161.27660673130745,
           161.51293981323903,
           161.7492728951706,
           161.98560597710218
          ],
          [
           159.0900331045279,
           159.32636618645947,
           159.56269926839104,
           159.79903235032262,
           160.0353654322542,
           160.2716985141858,
           160.50803159611738,
           160.74436467804895,
           160.98069775998053,
           161.2170308419121,
           161.45336392384368,
           161.68969700577526,
           161.92603008770683,
           162.16236316963844,
           162.39869625157002,
           162.6350293335016,
           162.87136241543317,
           163.10769549736474,
           163.34402857929632,
           163.5803616612279
          ],
          [
           160.6847887886536,
           160.92112187058518,
           161.1574549525168,
           161.39378803444836,
           161.63012111637994,
           161.86645419831152,
           162.1027872802431,
           162.33912036217467,
           162.57545344410624,
           162.81178652603782,
           163.04811960796943,
           163.284452689901,
           163.52078577183258,
           163.75711885376415,
           163.99345193569573,
           164.2297850176273,
           164.46611809955888,
           164.70245118149046,
           164.93878426342204,
           165.17511734535364
          ],
          [
           162.27954447277935,
           162.51587755471093,
           162.7522106366425,
           162.98854371857408,
           163.22487680050565,
           163.46120988243723,
           163.6975429643688,
           163.9338760463004,
           164.170209128232,
           164.40654221016356,
           164.64287529209514,
           164.87920837402672,
           165.1155414559583,
           165.35187453788987,
           165.58820761982145,
           165.82454070175302,
           166.06087378368463,
           166.2972068656162,
           166.53353994754778,
           166.76987302947936
          ],
          [
           163.87430015690506,
           164.11063323883664,
           164.34696632076822,
           164.5832994026998,
           164.81963248463137,
           165.05596556656295,
           165.29229864849452,
           165.5286317304261,
           165.76496481235768,
           166.00129789428928,
           166.23763097622086,
           166.47396405815243,
           166.710297140084,
           166.94663022201559,
           167.18296330394716,
           167.41929638587874,
           167.65562946781031,
           167.8919625497419,
           168.1282956316735,
           168.36462871360507
          ],
          [
           165.46905584103078,
           165.70538892296236,
           165.94172200489393,
           166.1780550868255,
           166.41438816875709,
           166.65072125068866,
           166.88705433262027,
           167.12338741455184,
           167.35972049648342,
           167.596053578415,
           167.83238666034657,
           168.06871974227815,
           168.30505282420972,
           168.5413859061413,
           168.7777189880729,
           169.01405207000448,
           169.25038515193606,
           169.48671823386763,
           169.7230513157992,
           169.9593843977308
          ],
          [
           167.0638115251565,
           167.30014460708807,
           167.53647768901965,
           167.77281077095125,
           168.00914385288283,
           168.2454769348144,
           168.48181001674598,
           168.71814309867756,
           168.95447618060913,
           169.1908092625407,
           169.4271423444723,
           169.66347542640386,
           169.89980850833547,
           170.13614159026704,
           170.37247467219862,
           170.6088077541302,
           170.84514083606177,
           171.08147391799335,
           171.31780699992493,
           171.5541400818565
          ],
          [
           168.6585672092822,
           168.8949002912138,
           169.13123337314536,
           169.36756645507694,
           169.60389953700854,
           169.84023261894012,
           170.0765657008717,
           170.31289878280327,
           170.54923186473485,
           170.78556494666643,
           171.021898028598,
           171.25823111052958,
           171.49456419246116,
           171.73089727439276,
           171.96723035632434,
           172.2035634382559,
           172.4398965201875,
           172.67622960211907,
           172.91256268405064,
           173.14889576598222
          ],
          [
           170.25332289340793,
           170.4896559753395,
           170.7259890572711,
           170.96232213920268,
           171.19865522113426,
           171.43498830306584,
           171.6713213849974,
           171.907654466929,
           172.14398754886057,
           172.38032063079214,
           172.61665371272375,
           172.85298679465532,
           173.0893198765869,
           173.32565295851848,
           173.56198604045005,
           173.79831912238163,
           174.0346522043132,
           174.27098528624478,
           174.50731836817636,
           174.74365145010796
          ],
          [
           171.84807857753367,
           172.08441165946525,
           172.32074474139682,
           172.5570778233284,
           172.79341090525998,
           173.02974398719155,
           173.26607706912313,
           173.50241015105473,
           173.7387432329863,
           173.97507631491789,
           174.21140939684946,
           174.44774247878104,
           174.6840755607126,
           174.9204086426442,
           175.15674172457577,
           175.39307480650734,
           175.62940788843895,
           175.86574097037052,
           176.1020740523021,
           176.33840713423368
          ],
          [
           173.44283426165936,
           173.67916734359096,
           173.91550042552254,
           174.1518335074541,
           174.3881665893857,
           174.62449967131727,
           174.86083275324884,
           175.09716583518042,
           175.333498917112,
           175.5698319990436,
           175.80616508097518,
           176.04249816290675,
           176.27883124483833,
           176.5151643267699,
           176.75149740870148,
           176.98783049063306,
           177.22416357256463,
           177.4604966544962,
           177.69682973642782,
           177.9331628183594
          ],
          [
           175.0375899457851,
           175.27392302771668,
           175.51025610964825,
           175.74658919157983,
           175.9829222735114,
           176.21925535544298,
           176.45558843737456,
           176.69192151930616,
           176.92825460123774,
           177.16458768316932,
           177.4009207651009,
           177.63725384703247,
           177.87358692896404,
           178.10992001089562,
           178.3462530928272,
           178.5825861747588,
           178.81891925669038,
           179.05525233862195,
           179.29158542055353,
           179.5279185024851
          ],
          [
           176.63234562991082,
           176.8686787118424,
           177.10501179377397,
           177.34134487570554,
           177.57767795763715,
           177.81401103956873,
           178.0503441215003,
           178.28667720343188,
           178.52301028536345,
           178.75934336729503,
           178.9956764492266,
           179.23200953115818,
           179.46834261308976,
           179.70467569502136,
           179.94100877695294,
           180.17734185888452,
           180.4136749408161,
           180.65000802274767,
           180.88634110467925,
           181.12267418661082
          ],
          [
           178.22710131403653,
           178.4634343959681,
           178.69976747789968,
           178.93610055983126,
           179.17243364176284,
           179.40876672369444,
           179.64509980562602,
           179.8814328875576,
           180.11776596948917,
           180.35409905142075,
           180.59043213335232,
           180.8267652152839,
           181.06309829721548,
           181.29943137914705,
           181.53576446107866,
           181.77209754301023,
           182.0084306249418,
           182.24476370687339,
           182.48109678880496,
           182.71742987073654
          ],
          [
           179.82185699816225,
           180.05819008009382,
           180.2945231620254,
           180.53085624395698,
           180.76718932588855,
           181.00352240782013,
           181.23985548975173,
           181.4761885716833,
           181.71252165361489,
           181.94885473554646,
           182.18518781747804,
           182.42152089940961,
           182.6578539813412,
           182.89418706327277,
           183.13052014520434,
           183.36685322713595,
           183.60318630906752,
           183.8395193909991,
           184.07585247293068,
           184.31218555486225
          ],
          [
           181.41661268228796,
           181.65294576421954,
           181.88927884615111,
           182.12561192808272,
           182.3619450100143,
           182.59827809194587,
           182.83461117387745,
           183.07094425580902,
           183.3072773377406,
           183.54361041967218,
           183.77994350160375,
           184.01627658353533,
           184.25260966546693,
           184.4889427473985,
           184.7252758293301,
           184.96160891126166,
           185.19794199319324,
           185.43427507512482,
           185.6706081570564,
           185.90694123898797
          ],
          [
           183.01136836641368,
           183.24770144834525,
           183.48403453027686,
           183.72036761220843,
           183.95670069414,
           184.1930337760716,
           184.42936685800316,
           184.66569993993474,
           184.90203302186632,
           185.1383661037979,
           185.37469918572947,
           185.61103226766107,
           185.84736534959265,
           186.08369843152423,
           186.3200315134558,
           186.55636459538738,
           186.79269767731896,
           187.02903075925053,
           187.26536384118214,
           187.50169692311368
          ]
         ]
        }
       ],
       "layout": {
        "scene": {
         "xaxis": {
          "title": {
           "text": "Ancho"
          }
         },
         "yaxis": {
          "title": {
           "text": "Pie"
          }
         },
         "zaxis": {
          "title": {
           "text": "Altura"
          }
         }
        },
        "template": {
         "data": {
          "bar": [
           {
            "error_x": {
             "color": "#2a3f5f"
            },
            "error_y": {
             "color": "#2a3f5f"
            },
            "marker": {
             "line": {
              "color": "#E5ECF6",
              "width": 0.5
             },
             "pattern": {
              "fillmode": "overlay",
              "size": 10,
              "solidity": 0.2
             }
            },
            "type": "bar"
           }
          ],
          "barpolar": [
           {
            "marker": {
             "line": {
              "color": "#E5ECF6",
              "width": 0.5
             },
             "pattern": {
              "fillmode": "overlay",
              "size": 10,
              "solidity": 0.2
             }
            },
            "type": "barpolar"
           }
          ],
          "carpet": [
           {
            "aaxis": {
             "endlinecolor": "#2a3f5f",
             "gridcolor": "white",
             "linecolor": "white",
             "minorgridcolor": "white",
             "startlinecolor": "#2a3f5f"
            },
            "baxis": {
             "endlinecolor": "#2a3f5f",
             "gridcolor": "white",
             "linecolor": "white",
             "minorgridcolor": "white",
             "startlinecolor": "#2a3f5f"
            },
            "type": "carpet"
           }
          ],
          "choropleth": [
           {
            "colorbar": {
             "outlinewidth": 0,
             "ticks": ""
            },
            "type": "choropleth"
           }
          ],
          "contour": [
           {
            "colorbar": {
             "outlinewidth": 0,
             "ticks": ""
            },
            "colorscale": [
             [
              0,
              "#0d0887"
             ],
             [
              0.1111111111111111,
              "#46039f"
             ],
             [
              0.2222222222222222,
              "#7201a8"
             ],
             [
              0.3333333333333333,
              "#9c179e"
             ],
             [
              0.4444444444444444,
              "#bd3786"
             ],
             [
              0.5555555555555556,
              "#d8576b"
             ],
             [
              0.6666666666666666,
              "#ed7953"
             ],
             [
              0.7777777777777778,
              "#fb9f3a"
             ],
             [
              0.8888888888888888,
              "#fdca26"
             ],
             [
              1,
              "#f0f921"
             ]
            ],
            "type": "contour"
           }
          ],
          "contourcarpet": [
           {
            "colorbar": {
             "outlinewidth": 0,
             "ticks": ""
            },
            "type": "contourcarpet"
           }
          ],
          "heatmap": [
           {
            "colorbar": {
             "outlinewidth": 0,
             "ticks": ""
            },
            "colorscale": [
             [
              0,
              "#0d0887"
             ],
             [
              0.1111111111111111,
              "#46039f"
             ],
             [
              0.2222222222222222,
              "#7201a8"
             ],
             [
              0.3333333333333333,
              "#9c179e"
             ],
             [
              0.4444444444444444,
              "#bd3786"
             ],
             [
              0.5555555555555556,
              "#d8576b"
             ],
             [
              0.6666666666666666,
              "#ed7953"
             ],
             [
              0.7777777777777778,
              "#fb9f3a"
             ],
             [
              0.8888888888888888,
              "#fdca26"
             ],
             [
              1,
              "#f0f921"
             ]
            ],
            "type": "heatmap"
           }
          ],
          "heatmapgl": [
           {
            "colorbar": {
             "outlinewidth": 0,
             "ticks": ""
            },
            "colorscale": [
             [
              0,
              "#0d0887"
             ],
             [
              0.1111111111111111,
              "#46039f"
             ],
             [
              0.2222222222222222,
              "#7201a8"
             ],
             [
              0.3333333333333333,
              "#9c179e"
             ],
             [
              0.4444444444444444,
              "#bd3786"
             ],
             [
              0.5555555555555556,
              "#d8576b"
             ],
             [
              0.6666666666666666,
              "#ed7953"
             ],
             [
              0.7777777777777778,
              "#fb9f3a"
             ],
             [
              0.8888888888888888,
              "#fdca26"
             ],
             [
              1,
              "#f0f921"
             ]
            ],
            "type": "heatmapgl"
           }
          ],
          "histogram": [
           {
            "marker": {
             "pattern": {
              "fillmode": "overlay",
              "size": 10,
              "solidity": 0.2
             }
            },
            "type": "histogram"
           }
          ],
          "histogram2d": [
           {
            "colorbar": {
             "outlinewidth": 0,
             "ticks": ""
            },
            "colorscale": [
             [
              0,
              "#0d0887"
             ],
             [
              0.1111111111111111,
              "#46039f"
             ],
             [
              0.2222222222222222,
              "#7201a8"
             ],
             [
              0.3333333333333333,
              "#9c179e"
             ],
             [
              0.4444444444444444,
              "#bd3786"
             ],
             [
              0.5555555555555556,
              "#d8576b"
             ],
             [
              0.6666666666666666,
              "#ed7953"
             ],
             [
              0.7777777777777778,
              "#fb9f3a"
             ],
             [
              0.8888888888888888,
              "#fdca26"
             ],
             [
              1,
              "#f0f921"
             ]
            ],
            "type": "histogram2d"
           }
          ],
          "histogram2dcontour": [
           {
            "colorbar": {
             "outlinewidth": 0,
             "ticks": ""
            },
            "colorscale": [
             [
              0,
              "#0d0887"
             ],
             [
              0.1111111111111111,
              "#46039f"
             ],
             [
              0.2222222222222222,
              "#7201a8"
             ],
             [
              0.3333333333333333,
              "#9c179e"
             ],
             [
              0.4444444444444444,
              "#bd3786"
             ],
             [
              0.5555555555555556,
              "#d8576b"
             ],
             [
              0.6666666666666666,
              "#ed7953"
             ],
             [
              0.7777777777777778,
              "#fb9f3a"
             ],
             [
              0.8888888888888888,
              "#fdca26"
             ],
             [
              1,
              "#f0f921"
             ]
            ],
            "type": "histogram2dcontour"
           }
          ],
          "mesh3d": [
           {
            "colorbar": {
             "outlinewidth": 0,
             "ticks": ""
            },
            "type": "mesh3d"
           }
          ],
          "parcoords": [
           {
            "line": {
             "colorbar": {
              "outlinewidth": 0,
              "ticks": ""
             }
            },
            "type": "parcoords"
           }
          ],
          "pie": [
           {
            "automargin": true,
            "type": "pie"
           }
          ],
          "scatter": [
           {
            "fillpattern": {
             "fillmode": "overlay",
             "size": 10,
             "solidity": 0.2
            },
            "type": "scatter"
           }
          ],
          "scatter3d": [
           {
            "line": {
             "colorbar": {
              "outlinewidth": 0,
              "ticks": ""
             }
            },
            "marker": {
             "colorbar": {
              "outlinewidth": 0,
              "ticks": ""
             }
            },
            "type": "scatter3d"
           }
          ],
          "scattercarpet": [
           {
            "marker": {
             "colorbar": {
              "outlinewidth": 0,
              "ticks": ""
             }
            },
            "type": "scattercarpet"
           }
          ],
          "scattergeo": [
           {
            "marker": {
             "colorbar": {
              "outlinewidth": 0,
              "ticks": ""
             }
            },
            "type": "scattergeo"
           }
          ],
          "scattergl": [
           {
            "marker": {
             "colorbar": {
              "outlinewidth": 0,
              "ticks": ""
             }
            },
            "type": "scattergl"
           }
          ],
          "scattermapbox": [
           {
            "marker": {
             "colorbar": {
              "outlinewidth": 0,
              "ticks": ""
             }
            },
            "type": "scattermapbox"
           }
          ],
          "scatterpolar": [
           {
            "marker": {
             "colorbar": {
              "outlinewidth": 0,
              "ticks": ""
             }
            },
            "type": "scatterpolar"
           }
          ],
          "scatterpolargl": [
           {
            "marker": {
             "colorbar": {
              "outlinewidth": 0,
              "ticks": ""
             }
            },
            "type": "scatterpolargl"
           }
          ],
          "scatterternary": [
           {
            "marker": {
             "colorbar": {
              "outlinewidth": 0,
              "ticks": ""
             }
            },
            "type": "scatterternary"
           }
          ],
          "surface": [
           {
            "colorbar": {
             "outlinewidth": 0,
             "ticks": ""
            },
            "colorscale": [
             [
              0,
              "#0d0887"
             ],
             [
              0.1111111111111111,
              "#46039f"
             ],
             [
              0.2222222222222222,
              "#7201a8"
             ],
             [
              0.3333333333333333,
              "#9c179e"
             ],
             [
              0.4444444444444444,
              "#bd3786"
             ],
             [
              0.5555555555555556,
              "#d8576b"
             ],
             [
              0.6666666666666666,
              "#ed7953"
             ],
             [
              0.7777777777777778,
              "#fb9f3a"
             ],
             [
              0.8888888888888888,
              "#fdca26"
             ],
             [
              1,
              "#f0f921"
             ]
            ],
            "type": "surface"
           }
          ],
          "table": [
           {
            "cells": {
             "fill": {
              "color": "#EBF0F8"
             },
             "line": {
              "color": "white"
             }
            },
            "header": {
             "fill": {
              "color": "#C8D4E3"
             },
             "line": {
              "color": "white"
             }
            },
            "type": "table"
           }
          ]
         },
         "layout": {
          "annotationdefaults": {
           "arrowcolor": "#2a3f5f",
           "arrowhead": 0,
           "arrowwidth": 1
          },
          "autotypenumbers": "strict",
          "coloraxis": {
           "colorbar": {
            "outlinewidth": 0,
            "ticks": ""
           }
          },
          "colorscale": {
           "diverging": [
            [
             0,
             "#8e0152"
            ],
            [
             0.1,
             "#c51b7d"
            ],
            [
             0.2,
             "#de77ae"
            ],
            [
             0.3,
             "#f1b6da"
            ],
            [
             0.4,
             "#fde0ef"
            ],
            [
             0.5,
             "#f7f7f7"
            ],
            [
             0.6,
             "#e6f5d0"
            ],
            [
             0.7,
             "#b8e186"
            ],
            [
             0.8,
             "#7fbc41"
            ],
            [
             0.9,
             "#4d9221"
            ],
            [
             1,
             "#276419"
            ]
           ],
           "sequential": [
            [
             0,
             "#0d0887"
            ],
            [
             0.1111111111111111,
             "#46039f"
            ],
            [
             0.2222222222222222,
             "#7201a8"
            ],
            [
             0.3333333333333333,
             "#9c179e"
            ],
            [
             0.4444444444444444,
             "#bd3786"
            ],
            [
             0.5555555555555556,
             "#d8576b"
            ],
            [
             0.6666666666666666,
             "#ed7953"
            ],
            [
             0.7777777777777778,
             "#fb9f3a"
            ],
            [
             0.8888888888888888,
             "#fdca26"
            ],
            [
             1,
             "#f0f921"
            ]
           ],
           "sequentialminus": [
            [
             0,
             "#0d0887"
            ],
            [
             0.1111111111111111,
             "#46039f"
            ],
            [
             0.2222222222222222,
             "#7201a8"
            ],
            [
             0.3333333333333333,
             "#9c179e"
            ],
            [
             0.4444444444444444,
             "#bd3786"
            ],
            [
             0.5555555555555556,
             "#d8576b"
            ],
            [
             0.6666666666666666,
             "#ed7953"
            ],
            [
             0.7777777777777778,
             "#fb9f3a"
            ],
            [
             0.8888888888888888,
             "#fdca26"
            ],
            [
             1,
             "#f0f921"
            ]
           ]
          },
          "colorway": [
           "#636efa",
           "#EF553B",
           "#00cc96",
           "#ab63fa",
           "#FFA15A",
           "#19d3f3",
           "#FF6692",
           "#B6E880",
           "#FF97FF",
           "#FECB52"
          ],
          "font": {
           "color": "#2a3f5f"
          },
          "geo": {
           "bgcolor": "white",
           "lakecolor": "white",
           "landcolor": "#E5ECF6",
           "showlakes": true,
           "showland": true,
           "subunitcolor": "white"
          },
          "hoverlabel": {
           "align": "left"
          },
          "hovermode": "closest",
          "mapbox": {
           "style": "light"
          },
          "paper_bgcolor": "white",
          "plot_bgcolor": "#E5ECF6",
          "polar": {
           "angularaxis": {
            "gridcolor": "white",
            "linecolor": "white",
            "ticks": ""
           },
           "bgcolor": "#E5ECF6",
           "radialaxis": {
            "gridcolor": "white",
            "linecolor": "white",
            "ticks": ""
           }
          },
          "scene": {
           "xaxis": {
            "backgroundcolor": "#E5ECF6",
            "gridcolor": "white",
            "gridwidth": 2,
            "linecolor": "white",
            "showbackground": true,
            "ticks": "",
            "zerolinecolor": "white"
           },
           "yaxis": {
            "backgroundcolor": "#E5ECF6",
            "gridcolor": "white",
            "gridwidth": 2,
            "linecolor": "white",
            "showbackground": true,
            "ticks": "",
            "zerolinecolor": "white"
           },
           "zaxis": {
            "backgroundcolor": "#E5ECF6",
            "gridcolor": "white",
            "gridwidth": 2,
            "linecolor": "white",
            "showbackground": true,
            "ticks": "",
            "zerolinecolor": "white"
           }
          },
          "shapedefaults": {
           "line": {
            "color": "#2a3f5f"
           }
          },
          "ternary": {
           "aaxis": {
            "gridcolor": "white",
            "linecolor": "white",
            "ticks": ""
           },
           "baxis": {
            "gridcolor": "white",
            "linecolor": "white",
            "ticks": ""
           },
           "bgcolor": "#E5ECF6",
           "caxis": {
            "gridcolor": "white",
            "linecolor": "white",
            "ticks": ""
           }
          },
          "title": {
           "x": 0.05
          },
          "xaxis": {
           "automargin": true,
           "gridcolor": "white",
           "linecolor": "white",
           "ticks": "",
           "title": {
            "standoff": 15
           },
           "zerolinecolor": "white",
           "zerolinewidth": 2
          },
          "yaxis": {
           "automargin": true,
           "gridcolor": "white",
           "linecolor": "white",
           "ticks": "",
           "title": {
            "standoff": 15
           },
           "zerolinecolor": "white",
           "zerolinewidth": 2
          }
         }
        },
        "title": {
         "text": "ITESO CENTER<br>R2: 0.8484303924224865 RMSE: 4.280983988385949"
        }
       }
      }
     },
     "metadata": {},
     "output_type": "display_data"
    }
   ],
   "source": [
    "# Definir rangos para las variables independientes\n",
    "x1_range = np.linspace(min(x_train_center['width']), max(x_train_center['width']), 20)\n",
    "x2_range = np.linspace(min(x_train_center['shoe_size']), max(x_train_center['shoe_size']), 20)\n",
    "x1_mesh, x2_mesh = np.meshgrid(x1_range, x2_range)\n",
    "\n",
    "# Escalar el meshgrid para predicción\n",
    "x_mesh_scaled = ss_center.transform(np.vstack((x1_mesh.ravel(), x2_mesh.ravel())).T)\n",
    "\n",
    "# Predecir los valores con el modelo escalado\n",
    "y_mesh_scaled = rg_c.predict(x_mesh_scaled)\n",
    "\n",
    "# Crear scatterplot 3D de los puntos reales\n",
    "scatter = go.Scatter3d(\n",
    "    x=x_test_center['width'], y=x_test_center['shoe_size'], z=y_test_center,\n",
    "    mode='markers',\n",
    "    marker=dict(size=8, color='red', opacity=0.7)\n",
    ")\n",
    "\n",
    "# Crear el plano de regresión\n",
    "surface = go.Surface(\n",
    "    x=x1_mesh, y=x2_mesh, z=y_mesh_scaled.reshape(x1_mesh.shape),\n",
    "    colorscale='Viridis', opacity=0.5\n",
    ")\n",
    "\n",
    "# Configuración del layout\n",
    "layout = go.Layout(\n",
    "    title=f\"ITESO CENTER<br>R2: {r2_score(y_test_center, r_pred_center)} RMSE: {root_mean_squared_error(y_test_center, r_pred_center)}\",\n",
    "    scene=dict(\n",
    "        xaxis_title='Ancho',\n",
    "        yaxis_title='Pie',\n",
    "        zaxis_title='Altura'\n",
    "    )\n",
    ")\n",
    "\n",
    "# Crear la figura\n",
    "fig = go.Figure(data=[scatter, surface], layout=layout)\n",
    "\n",
    "# Mostrar la figura interactiva\n",
    "fig.show()"
   ]
  },
  {
   "cell_type": "markdown",
   "metadata": {},
   "source": [
    "**¿Agregarías datos a tu base de datos para mejorar las predicciones del modelo?**\n",
    "\n",
    "Sí, al tener tan pocos datos, en específico 18 necesitamos más datos ya que las predicciones que se hagan con el modelo no van a ser tan confiables, ya que son más sensibles a datos atípicos."
   ]
  },
  {
   "cell_type": "markdown",
   "metadata": {},
   "source": [
    "**¿Cómo conseguirías dicha información?**\n",
    "\n",
    "Medimos a 70 personas más y como se muestra anteriormente se segmentaron los datos de la altura, se hicieron nuevos datos para los datos cuya altura fueran menor o igual al primer cuartil, para los que fueran mayor o igual al tercer cuartil y para los que estuvieran entre el primer y tercer cuartil, en específico se hicieron 100 para cada uno."
   ]
  },
  {
   "cell_type": "markdown",
   "metadata": {},
   "source": [
    "**¿Modificarías algún parámetro de tu modelo?**\n",
    "\n",
    "En este caso, al segmentar los datos por alturas, se hicieron 3 modelos. A los 3 modelos se le aplicó regularización Ridge con un alpha de 1.26, el cual se obtuvo mediante diferentes pruebas e intentos para obtener el valor óptimo."
   ]
  },
  {
   "cell_type": "markdown",
   "metadata": {},
   "source": [
    "## Parte 3"
   ]
  },
  {
   "cell_type": "markdown",
   "metadata": {},
   "source": [
    "### Países Bajos"
   ]
  },
  {
   "cell_type": "code",
   "execution_count": 244,
   "metadata": {},
   "outputs": [],
   "source": [
    "df = pd.read_csv('datos_gente_1.csv')"
   ]
  },
  {
   "cell_type": "code",
   "execution_count": 245,
   "metadata": {},
   "outputs": [
    {
     "data": {
      "text/html": [
       "<div>\n",
       "<style scoped>\n",
       "    .dataframe tbody tr th:only-of-type {\n",
       "        vertical-align: middle;\n",
       "    }\n",
       "\n",
       "    .dataframe tbody tr th {\n",
       "        vertical-align: top;\n",
       "    }\n",
       "\n",
       "    .dataframe thead th {\n",
       "        text-align: right;\n",
       "    }\n",
       "</style>\n",
       "<table border=\"1\" class=\"dataframe\">\n",
       "  <thead>\n",
       "    <tr style=\"text-align: right;\">\n",
       "      <th></th>\n",
       "      <th>height</th>\n",
       "      <th>width</th>\n",
       "      <th>shoe_size</th>\n",
       "    </tr>\n",
       "  </thead>\n",
       "  <tbody>\n",
       "    <tr>\n",
       "      <th>0</th>\n",
       "      <td>185</td>\n",
       "      <td>55</td>\n",
       "      <td>28.0</td>\n",
       "    </tr>\n",
       "    <tr>\n",
       "      <th>6</th>\n",
       "      <td>187</td>\n",
       "      <td>48</td>\n",
       "      <td>29.0</td>\n",
       "    </tr>\n",
       "    <tr>\n",
       "      <th>12</th>\n",
       "      <td>179</td>\n",
       "      <td>55</td>\n",
       "      <td>28.0</td>\n",
       "    </tr>\n",
       "    <tr>\n",
       "      <th>22</th>\n",
       "      <td>177</td>\n",
       "      <td>42</td>\n",
       "      <td>27.0</td>\n",
       "    </tr>\n",
       "    <tr>\n",
       "      <th>25</th>\n",
       "      <td>180</td>\n",
       "      <td>45</td>\n",
       "      <td>27.0</td>\n",
       "    </tr>\n",
       "    <tr>\n",
       "      <th>33</th>\n",
       "      <td>178</td>\n",
       "      <td>49</td>\n",
       "      <td>27.5</td>\n",
       "    </tr>\n",
       "    <tr>\n",
       "      <th>41</th>\n",
       "      <td>190</td>\n",
       "      <td>50</td>\n",
       "      <td>29.0</td>\n",
       "    </tr>\n",
       "    <tr>\n",
       "      <th>44</th>\n",
       "      <td>180</td>\n",
       "      <td>50</td>\n",
       "      <td>28.0</td>\n",
       "    </tr>\n",
       "    <tr>\n",
       "      <th>47</th>\n",
       "      <td>178</td>\n",
       "      <td>45</td>\n",
       "      <td>29.0</td>\n",
       "    </tr>\n",
       "    <tr>\n",
       "      <th>51</th>\n",
       "      <td>182</td>\n",
       "      <td>47</td>\n",
       "      <td>28.0</td>\n",
       "    </tr>\n",
       "    <tr>\n",
       "      <th>54</th>\n",
       "      <td>183</td>\n",
       "      <td>47</td>\n",
       "      <td>28.0</td>\n",
       "    </tr>\n",
       "    <tr>\n",
       "      <th>61</th>\n",
       "      <td>183</td>\n",
       "      <td>50</td>\n",
       "      <td>29.5</td>\n",
       "    </tr>\n",
       "    <tr>\n",
       "      <th>63</th>\n",
       "      <td>188</td>\n",
       "      <td>55</td>\n",
       "      <td>30.0</td>\n",
       "    </tr>\n",
       "    <tr>\n",
       "      <th>65</th>\n",
       "      <td>190</td>\n",
       "      <td>52</td>\n",
       "      <td>30.0</td>\n",
       "    </tr>\n",
       "    <tr>\n",
       "      <th>67</th>\n",
       "      <td>177</td>\n",
       "      <td>42</td>\n",
       "      <td>28.0</td>\n",
       "    </tr>\n",
       "    <tr>\n",
       "      <th>68</th>\n",
       "      <td>182</td>\n",
       "      <td>43</td>\n",
       "      <td>28.0</td>\n",
       "    </tr>\n",
       "    <tr>\n",
       "      <th>70</th>\n",
       "      <td>185</td>\n",
       "      <td>47</td>\n",
       "      <td>29.5</td>\n",
       "    </tr>\n",
       "    <tr>\n",
       "      <th>74</th>\n",
       "      <td>182</td>\n",
       "      <td>46</td>\n",
       "      <td>28.0</td>\n",
       "    </tr>\n",
       "  </tbody>\n",
       "</table>\n",
       "</div>"
      ],
      "text/plain": [
       "    height  width  shoe_size\n",
       "0      185     55       28.0\n",
       "6      187     48       29.0\n",
       "12     179     55       28.0\n",
       "22     177     42       27.0\n",
       "25     180     45       27.0\n",
       "33     178     49       27.5\n",
       "41     190     50       29.0\n",
       "44     180     50       28.0\n",
       "47     178     45       29.0\n",
       "51     182     47       28.0\n",
       "54     183     47       28.0\n",
       "61     183     50       29.5\n",
       "63     188     55       30.0\n",
       "65     190     52       30.0\n",
       "67     177     42       28.0\n",
       "68     182     43       28.0\n",
       "70     185     47       29.5\n",
       "74     182     46       28.0"
      ]
     },
     "execution_count": 245,
     "metadata": {},
     "output_type": "execute_result"
    }
   ],
   "source": [
    "df2 = df[df['height'] > 176.5]\n",
    "df2"
   ]
  },
  {
   "cell_type": "code",
   "execution_count": 246,
   "metadata": {},
   "outputs": [
    {
     "data": {
      "text/plain": [
       "array([[<Axes: title={'center': 'height'}>,\n",
       "        <Axes: title={'center': 'width'}>],\n",
       "       [<Axes: title={'center': 'shoe_size'}>, <Axes: >]], dtype=object)"
      ]
     },
     "execution_count": 246,
     "metadata": {},
     "output_type": "execute_result"
    },
    {
     "data": {
      "image/png": "[encoded data removed]",
      "text/plain": [
       "<Figure size 640x480 with 4 Axes>"
      ]
     },
     "metadata": {},
     "output_type": "display_data"
    }
   ],
   "source": [
    "df2.hist()"
   ]
  },
  {
   "cell_type": "code",
   "execution_count": 247,
   "metadata": {},
   "outputs": [
    {
     "data": {
      "text/plain": [
       "height       182.555556\n",
       "width         48.222222\n",
       "shoe_size     28.416667\n",
       "dtype: float64"
      ]
     },
     "execution_count": 247,
     "metadata": {},
     "output_type": "execute_result"
    }
   ],
   "source": [
    "df2.mean()"
   ]
  },
  {
   "cell_type": "code",
   "execution_count": 248,
   "metadata": {},
   "outputs": [
    {
     "data": {
      "text/plain": [
       "height       4.217920\n",
       "width        4.180565\n",
       "shoe_size    0.927520\n",
       "dtype: float64"
      ]
     },
     "execution_count": 248,
     "metadata": {},
     "output_type": "execute_result"
    }
   ],
   "source": [
    "df2.std()"
   ]
  },
  {
   "cell_type": "code",
   "execution_count": 249,
   "metadata": {},
   "outputs": [
    {
     "data": {
      "text/plain": [
       "array([168., 175., 175., 177., 177., 177., 177., 177., 177., 177., 178.,\n",
       "       178., 178., 178., 179., 179., 179., 179., 179., 179., 179., 179.,\n",
       "       179., 180., 180., 180., 180., 180., 180., 180., 181., 181., 181.,\n",
       "       181., 181., 181., 182., 182., 182., 182., 182., 182., 182., 182.,\n",
       "       182., 182., 183., 183., 183., 183., 183., 183., 184., 184., 184.,\n",
       "       184., 184., 184., 184., 184., 184., 184., 185., 185., 185., 185.,\n",
       "       185., 185., 185., 185., 186., 186., 186., 186., 186., 186., 186.,\n",
       "       186., 186., 187., 187., 187., 187., 187., 187., 187., 188., 188.,\n",
       "       188., 188., 188., 188., 188., 189., 189., 189., 189., 191., 191.,\n",
       "       193.])"
      ]
     },
     "execution_count": 249,
     "metadata": {},
     "output_type": "execute_result"
    }
   ],
   "source": [
    "df2_nuevo_altura = np.random.normal(loc=182.56, scale=4.22, size=100)\n",
    "df_altura_red= np.round(df2_nuevo_altura, 0)\n",
    "df_altura = np.sort(df_altura_red)\n",
    "df_altura"
   ]
  },
  {
   "cell_type": "code",
   "execution_count": 250,
   "metadata": {},
   "outputs": [
    {
     "data": {
      "text/plain": [
       "array([37., 39., 40., 40., 41., 42., 42., 42., 42., 42., 43., 44., 44.,\n",
       "       44., 44., 44., 44., 44., 45., 45., 45., 45., 46., 46., 47., 47.,\n",
       "       47., 47., 47., 47., 47., 47., 47., 47., 47., 48., 48., 48., 48.,\n",
       "       48., 48., 48., 48., 48., 48., 48., 48., 49., 49., 49., 49., 49.,\n",
       "       49., 49., 49., 49., 49., 49., 50., 50., 50., 50., 50., 50., 50.,\n",
       "       50., 50., 51., 51., 51., 51., 51., 51., 51., 51., 51., 51., 52.,\n",
       "       52., 52., 52., 52., 52., 52., 52., 52., 53., 53., 53., 53., 54.,\n",
       "       54., 54., 55., 56., 56., 57., 57., 58., 61.])"
      ]
     },
     "execution_count": 250,
     "metadata": {},
     "output_type": "execute_result"
    }
   ],
   "source": [
    "df2_nuevo_ancho = np.random.normal(loc=48.22, scale=4.18, size=100)\n",
    "df_ancho_red= np.round(df2_nuevo_ancho, 0)\n",
    "df_ancho = np.sort(df_ancho_red)\n",
    "df_ancho"
   ]
  },
  {
   "cell_type": "code",
   "execution_count": 251,
   "metadata": {},
   "outputs": [
    {
     "data": {
      "text/plain": [
       "array([26.8, 26.9, 26.9, 27. , 27.1, 27.1, 27.1, 27.2, 27.2, 27.2, 27.2,\n",
       "       27.3, 27.3, 27.3, 27.3, 27.3, 27.4, 27.4, 27.4, 27.4, 27.6, 27.6,\n",
       "       27.7, 27.7, 27.7, 27.7, 27.7, 27.9, 27.9, 27.9, 27.9, 27.9, 28. ,\n",
       "       28. , 28.1, 28.1, 28.1, 28.2, 28.2, 28.2, 28.2, 28.3, 28.3, 28.3,\n",
       "       28.3, 28.3, 28.3, 28.4, 28.4, 28.4, 28.5, 28.5, 28.5, 28.5, 28.6,\n",
       "       28.6, 28.6, 28.6, 28.6, 28.7, 28.8, 28.8, 28.8, 28.9, 28.9, 28.9,\n",
       "       28.9, 28.9, 28.9, 29. , 29. , 29. , 29. , 29. , 29.1, 29.1, 29.1,\n",
       "       29.1, 29.1, 29.2, 29.2, 29.3, 29.3, 29.3, 29.4, 29.4, 29.5, 29.5,\n",
       "       29.5, 29.6, 29.7, 29.7, 29.8, 29.9, 30. , 30.1, 30.1, 30.2, 30.2,\n",
       "       31. ])"
      ]
     },
     "execution_count": 251,
     "metadata": {},
     "output_type": "execute_result"
    }
   ],
   "source": [
    "df2_nuevo_pie = np.random.normal(loc=28.42, scale=0.93, size=100)\n",
    "df_pie_red= np.round(df2_nuevo_pie, 1)\n",
    "df_pie= np.sort(df_pie_red)\n",
    "df_pie"
   ]
  },
  {
   "cell_type": "code",
   "execution_count": 252,
   "metadata": {},
   "outputs": [
    {
     "data": {
      "text/html": [
       "<div>\n",
       "<style scoped>\n",
       "    .dataframe tbody tr th:only-of-type {\n",
       "        vertical-align: middle;\n",
       "    }\n",
       "\n",
       "    .dataframe tbody tr th {\n",
       "        vertical-align: top;\n",
       "    }\n",
       "\n",
       "    .dataframe thead th {\n",
       "        text-align: right;\n",
       "    }\n",
       "</style>\n",
       "<table border=\"1\" class=\"dataframe\">\n",
       "  <thead>\n",
       "    <tr style=\"text-align: right;\">\n",
       "      <th></th>\n",
       "      <th>height</th>\n",
       "      <th>width</th>\n",
       "      <th>shoe_size</th>\n",
       "    </tr>\n",
       "  </thead>\n",
       "  <tbody>\n",
       "    <tr>\n",
       "      <th>0</th>\n",
       "      <td>168.0</td>\n",
       "      <td>37.0</td>\n",
       "      <td>26.8</td>\n",
       "    </tr>\n",
       "    <tr>\n",
       "      <th>1</th>\n",
       "      <td>175.0</td>\n",
       "      <td>39.0</td>\n",
       "      <td>26.9</td>\n",
       "    </tr>\n",
       "    <tr>\n",
       "      <th>2</th>\n",
       "      <td>175.0</td>\n",
       "      <td>40.0</td>\n",
       "      <td>26.9</td>\n",
       "    </tr>\n",
       "    <tr>\n",
       "      <th>3</th>\n",
       "      <td>177.0</td>\n",
       "      <td>40.0</td>\n",
       "      <td>27.0</td>\n",
       "    </tr>\n",
       "    <tr>\n",
       "      <th>4</th>\n",
       "      <td>177.0</td>\n",
       "      <td>41.0</td>\n",
       "      <td>27.1</td>\n",
       "    </tr>\n",
       "    <tr>\n",
       "      <th>...</th>\n",
       "      <td>...</td>\n",
       "      <td>...</td>\n",
       "      <td>...</td>\n",
       "    </tr>\n",
       "    <tr>\n",
       "      <th>95</th>\n",
       "      <td>189.0</td>\n",
       "      <td>56.0</td>\n",
       "      <td>30.1</td>\n",
       "    </tr>\n",
       "    <tr>\n",
       "      <th>96</th>\n",
       "      <td>189.0</td>\n",
       "      <td>57.0</td>\n",
       "      <td>30.1</td>\n",
       "    </tr>\n",
       "    <tr>\n",
       "      <th>97</th>\n",
       "      <td>191.0</td>\n",
       "      <td>57.0</td>\n",
       "      <td>30.2</td>\n",
       "    </tr>\n",
       "    <tr>\n",
       "      <th>98</th>\n",
       "      <td>191.0</td>\n",
       "      <td>58.0</td>\n",
       "      <td>30.2</td>\n",
       "    </tr>\n",
       "    <tr>\n",
       "      <th>99</th>\n",
       "      <td>193.0</td>\n",
       "      <td>61.0</td>\n",
       "      <td>31.0</td>\n",
       "    </tr>\n",
       "  </tbody>\n",
       "</table>\n",
       "<p>100 rows × 3 columns</p>\n",
       "</div>"
      ],
      "text/plain": [
       "    height  width  shoe_size\n",
       "0    168.0   37.0       26.8\n",
       "1    175.0   39.0       26.9\n",
       "2    175.0   40.0       26.9\n",
       "3    177.0   40.0       27.0\n",
       "4    177.0   41.0       27.1\n",
       "..     ...    ...        ...\n",
       "95   189.0   56.0       30.1\n",
       "96   189.0   57.0       30.1\n",
       "97   191.0   57.0       30.2\n",
       "98   191.0   58.0       30.2\n",
       "99   193.0   61.0       31.0\n",
       "\n",
       "[100 rows x 3 columns]"
      ]
     },
     "execution_count": 252,
     "metadata": {},
     "output_type": "execute_result"
    }
   ],
   "source": [
    "df_pb = pd.DataFrame({'height': df_altura, 'width': df_ancho, 'shoe_size': df_pie})\n",
    "df_pb"
   ]
  },
  {
   "cell_type": "code",
   "execution_count": 253,
   "metadata": {},
   "outputs": [
    {
     "data": {
      "text/plain": [
       "array([[<Axes: title={'center': 'height'}>,\n",
       "        <Axes: title={'center': 'width'}>],\n",
       "       [<Axes: title={'center': 'shoe_size'}>, <Axes: >]], dtype=object)"
      ]
     },
     "execution_count": 253,
     "metadata": {},
     "output_type": "execute_result"
    },
    {
     "data": {
      "image/png": "[encoded data removed]",
      "text/plain": [
       "<Figure size 640x480 with 4 Axes>"
      ]
     },
     "metadata": {},
     "output_type": "display_data"
    }
   ],
   "source": [
    "df_pb.hist()"
   ]
  },
  {
   "cell_type": "code",
   "execution_count": 254,
   "metadata": {},
   "outputs": [],
   "source": [
    "X = df_pb.drop(\"height\", axis=1)\n",
    "y = df_pb[\"height\"]"
   ]
  },
  {
   "cell_type": "code",
   "execution_count": 255,
   "metadata": {},
   "outputs": [],
   "source": [
    "x_train_pb, x_test_pb, y_train_pb, y_test_pb = train_test_split(X, y, test_size=0.20, random_state=48)"
   ]
  },
  {
   "cell_type": "code",
   "execution_count": 256,
   "metadata": {},
   "outputs": [],
   "source": [
    "ss_pb = StandardScaler()\n",
    "x_train_pb_ss = ss_pb.fit_transform(x_train_pb)\n",
    "x_test_pb_ss = ss_pb.transform(x_test_pb)"
   ]
  },
  {
   "cell_type": "code",
   "execution_count": 257,
   "metadata": {},
   "outputs": [
    {
     "name": "stdout",
     "output_type": "stream",
     "text": [
      "R2:0.9739044815420799, RMSE: 0.6347557049686814\n"
     ]
    }
   ],
   "source": [
    "modelo_pb = LinearRegression()\n",
    "modelo_pb.fit(x_train_pb_ss, y_train_pb)\n",
    "pb_pred = modelo_pb.predict(x_test_pb_ss)\n",
    "r2 = r2_score(y_test_pb, pb_pred)\n",
    "print(f\"R2:{r2_score(y_test_pb, pb_pred)}, RMSE: {root_mean_squared_error(y_test_pb, pb_pred)}\")"
   ]
  },
  {
   "cell_type": "code",
   "execution_count": 258,
   "metadata": {},
   "outputs": [
    {
     "name": "stdout",
     "output_type": "stream",
     "text": [
      "Pendientes: [2.68090605 1.46161266]\n",
      "Intercepto: 182.825\n"
     ]
    }
   ],
   "source": [
    "print(f\"Pendientes: {modelo_pb.coef_}\")\n",
    "print(f\"Intercepto: {modelo_pb.intercept_}\")"
   ]
  },
  {
   "cell_type": "code",
   "execution_count": 259,
   "metadata": {},
   "outputs": [
    {
     "name": "stderr",
     "output_type": "stream",
     "text": [
      "c:\\Users\\cesar\\anaconda3\\envs\\iteso\\lib\\site-packages\\sklearn\\base.py:493: UserWarning:\n",
      "\n",
      "X does not have valid feature names, but StandardScaler was fitted with feature names\n",
      "\n"
     ]
    }
   ],
   "source": [
    "values_pb= ss_pb.transform([[44,27.5]])"
   ]
  },
  {
   "cell_type": "code",
   "execution_count": 260,
   "metadata": {},
   "outputs": [
    {
     "data": {
      "text/plain": [
       "array([178.46157391])"
      ]
     },
     "execution_count": 260,
     "metadata": {},
     "output_type": "execute_result"
    }
   ],
   "source": [
    "modelo_pb.predict(values_pb)"
   ]
  },
  {
   "cell_type": "code",
   "execution_count": 261,
   "metadata": {},
   "outputs": [],
   "source": [
    "x_train_pb = np.array(x_train_pb)\n",
    "x_test_pb = np.array(x_test_pb)"
   ]
  },
  {
   "cell_type": "code",
   "execution_count": 262,
   "metadata": {},
   "outputs": [
    {
     "name": "stderr",
     "output_type": "stream",
     "text": [
      "c:\\Users\\cesar\\anaconda3\\envs\\iteso\\lib\\site-packages\\sklearn\\base.py:493: UserWarning:\n",
      "\n",
      "X does not have valid feature names, but StandardScaler was fitted with feature names\n",
      "\n"
     ]
    },
    {
     "data": {
      "application/vnd.plotly.v1+json": {
       "config": {
        "plotlyServerURL": "https://plot.ly"
       },
       "data": [
        {
         "marker": {
          "color": "red",
          "opacity": 0.7,
          "size": 8
         },
         "mode": "markers",
         "type": "scatter3d",
         "x": [
          55,
          42,
          51,
          42,
          44,
          52,
          51,
          42,
          50,
          50,
          48,
          52,
          52,
          50,
          49,
          44,
          57,
          50,
          47,
          51
         ],
         "y": [
          29.9,
          27.1,
          29,
          27.2,
          27.3,
          29.2,
          29,
          27.2,
          28.7,
          28.9,
          28.2,
          29.4,
          29.4,
          28.8,
          28.5,
          27.4,
          30.1,
          28.8,
          27.7,
          29.1
         ],
         "z": [
          189,
          177,
          186,
          177,
          178,
          187,
          185,
          177,
          184,
          185,
          182,
          187,
          187,
          185,
          184,
          179,
          189,
          184,
          180,
          186
         ]
        },
        {
         "colorscale": [
          [
           0,
           "#440154"
          ],
          [
           0.1111111111111111,
           "#482878"
          ],
          [
           0.2222222222222222,
           "#3e4989"
          ],
          [
           0.3333333333333333,
           "#31688e"
          ],
          [
           0.4444444444444444,
           "#26828e"
          ],
          [
           0.5555555555555556,
           "#1f9e89"
          ],
          [
           0.6666666666666666,
           "#35b779"
          ],
          [
           0.7777777777777778,
           "#6ece58"
          ],
          [
           0.8888888888888888,
           "#b5de2b"
          ],
          [
           1,
           "#fde725"
          ]
         ],
         "opacity": 0.5,
         "type": "surface",
         "x": [
          [
           37,
           38.26315789473684,
           39.526315789473685,
           40.78947368421053,
           42.05263157894737,
           43.31578947368421,
           44.578947368421055,
           45.84210526315789,
           47.10526315789474,
           48.368421052631575,
           49.631578947368425,
           50.89473684210526,
           52.1578947368421,
           53.421052631578945,
           54.68421052631579,
           55.94736842105263,
           57.21052631578947,
           58.473684210526315,
           59.73684210526316,
           61
          ],
          [
           37,
           38.26315789473684,
           39.526315789473685,
           40.78947368421053,
           42.05263157894737,
           43.31578947368421,
           44.578947368421055,
           45.84210526315789,
           47.10526315789474,
           48.368421052631575,
           49.631578947368425,
           50.89473684210526,
           52.1578947368421,
           53.421052631578945,
           54.68421052631579,
           55.94736842105263,
           57.21052631578947,
           58.473684210526315,
           59.73684210526316,
           61
          ],
          [
           37,
           38.26315789473684,
           39.526315789473685,
           40.78947368421053,
           42.05263157894737,
           43.31578947368421,
           44.578947368421055,
           45.84210526315789,
           47.10526315789474,
           48.368421052631575,
           49.631578947368425,
           50.89473684210526,
           52.1578947368421,
           53.421052631578945,
           54.68421052631579,
           55.94736842105263,
           57.21052631578947,
           58.473684210526315,
           59.73684210526316,
           61
          ],
          [
           37,
           38.26315789473684,
           39.526315789473685,
           40.78947368421053,
           42.05263157894737,
           43.31578947368421,
           44.578947368421055,
           45.84210526315789,
           47.10526315789474,
           48.368421052631575,
           49.631578947368425,
           50.89473684210526,
           52.1578947368421,
           53.421052631578945,
           54.68421052631579,
           55.94736842105263,
           57.21052631578947,
           58.473684210526315,
           59.73684210526316,
           61
          ],
          [
           37,
           38.26315789473684,
           39.526315789473685,
           40.78947368421053,
           42.05263157894737,
           43.31578947368421,
           44.578947368421055,
           45.84210526315789,
           47.10526315789474,
           48.368421052631575,
           49.631578947368425,
           50.89473684210526,
           52.1578947368421,
           53.421052631578945,
           54.68421052631579,
           55.94736842105263,
           57.21052631578947,
           58.473684210526315,
           59.73684210526316,
           61
          ],
          [
           37,
           38.26315789473684,
           39.526315789473685,
           40.78947368421053,
           42.05263157894737,
           43.31578947368421,
           44.578947368421055,
           45.84210526315789,
           47.10526315789474,
           48.368421052631575,
           49.631578947368425,
           50.89473684210526,
           52.1578947368421,
           53.421052631578945,
           54.68421052631579,
           55.94736842105263,
           57.21052631578947,
           58.473684210526315,
           59.73684210526316,
           61
          ],
          [
           37,
           38.26315789473684,
           39.526315789473685,
           40.78947368421053,
           42.05263157894737,
           43.31578947368421,
           44.578947368421055,
           45.84210526315789,
           47.10526315789474,
           48.368421052631575,
           49.631578947368425,
           50.89473684210526,
           52.1578947368421,
           53.421052631578945,
           54.68421052631579,
           55.94736842105263,
           57.21052631578947,
           58.473684210526315,
           59.73684210526316,
           61
          ],
          [
           37,
           38.26315789473684,
           39.526315789473685,
           40.78947368421053,
           42.05263157894737,
           43.31578947368421,
           44.578947368421055,
           45.84210526315789,
           47.10526315789474,
           48.368421052631575,
           49.631578947368425,
           50.89473684210526,
           52.1578947368421,
           53.421052631578945,
           54.68421052631579,
           55.94736842105263,
           57.21052631578947,
           58.473684210526315,
           59.73684210526316,
           61
          ],
          [
           37,
           38.26315789473684,
           39.526315789473685,
           40.78947368421053,
           42.05263157894737,
           43.31578947368421,
           44.578947368421055,
           45.84210526315789,
           47.10526315789474,
           48.368421052631575,
           49.631578947368425,
           50.89473684210526,
           52.1578947368421,
           53.421052631578945,
           54.68421052631579,
           55.94736842105263,
           57.21052631578947,
           58.473684210526315,
           59.73684210526316,
           61
          ],
          [
           37,
           38.26315789473684,
           39.526315789473685,
           40.78947368421053,
           42.05263157894737,
           43.31578947368421,
           44.578947368421055,
           45.84210526315789,
           47.10526315789474,
           48.368421052631575,
           49.631578947368425,
           50.89473684210526,
           52.1578947368421,
           53.421052631578945,
           54.68421052631579,
           55.94736842105263,
           57.21052631578947,
           58.473684210526315,
           59.73684210526316,
           61
          ],
          [
           37,
           38.26315789473684,
           39.526315789473685,
           40.78947368421053,
           42.05263157894737,
           43.31578947368421,
           44.578947368421055,
           45.84210526315789,
           47.10526315789474,
           48.368421052631575,
           49.631578947368425,
           50.89473684210526,
           52.1578947368421,
           53.421052631578945,
           54.68421052631579,
           55.94736842105263,
           57.21052631578947,
           58.473684210526315,
           59.73684210526316,
           61
          ],
          [
           37,
           38.26315789473684,
           39.526315789473685,
           40.78947368421053,
           42.05263157894737,
           43.31578947368421,
           44.578947368421055,
           45.84210526315789,
           47.10526315789474,
           48.368421052631575,
           49.631578947368425,
           50.89473684210526,
           52.1578947368421,
           53.421052631578945,
           54.68421052631579,
           55.94736842105263,
           57.21052631578947,
           58.473684210526315,
           59.73684210526316,
           61
          ],
          [
           37,
           38.26315789473684,
           39.526315789473685,
           40.78947368421053,
           42.05263157894737,
           43.31578947368421,
           44.578947368421055,
           45.84210526315789,
           47.10526315789474,
           48.368421052631575,
           49.631578947368425,
           50.89473684210526,
           52.1578947368421,
           53.421052631578945,
           54.68421052631579,
           55.94736842105263,
           57.21052631578947,
           58.473684210526315,
           59.73684210526316,
           61
          ],
          [
           37,
           38.26315789473684,
           39.526315789473685,
           40.78947368421053,
           42.05263157894737,
           43.31578947368421,
           44.578947368421055,
           45.84210526315789,
           47.10526315789474,
           48.368421052631575,
           49.631578947368425,
           50.89473684210526,
           52.1578947368421,
           53.421052631578945,
           54.68421052631579,
           55.94736842105263,
           57.21052631578947,
           58.473684210526315,
           59.73684210526316,
           61
          ],
          [
           37,
           38.26315789473684,
           39.526315789473685,
           40.78947368421053,
           42.05263157894737,
           43.31578947368421,
           44.578947368421055,
           45.84210526315789,
           47.10526315789474,
           48.368421052631575,
           49.631578947368425,
           50.89473684210526,
           52.1578947368421,
           53.421052631578945,
           54.68421052631579,
           55.94736842105263,
           57.21052631578947,
           58.473684210526315,
           59.73684210526316,
           61
          ],
          [
           37,
           38.26315789473684,
           39.526315789473685,
           40.78947368421053,
           42.05263157894737,
           43.31578947368421,
           44.578947368421055,
           45.84210526315789,
           47.10526315789474,
           48.368421052631575,
           49.631578947368425,
           50.89473684210526,
           52.1578947368421,
           53.421052631578945,
           54.68421052631579,
           55.94736842105263,
           57.21052631578947,
           58.473684210526315,
           59.73684210526316,
           61
          ],
          [
           37,
           38.26315789473684,
           39.526315789473685,
           40.78947368421053,
           42.05263157894737,
           43.31578947368421,
           44.578947368421055,
           45.84210526315789,
           47.10526315789474,
           48.368421052631575,
           49.631578947368425,
           50.89473684210526,
           52.1578947368421,
           53.421052631578945,
           54.68421052631579,
           55.94736842105263,
           57.21052631578947,
           58.473684210526315,
           59.73684210526316,
           61
          ],
          [
           37,
           38.26315789473684,
           39.526315789473685,
           40.78947368421053,
           42.05263157894737,
           43.31578947368421,
           44.578947368421055,
           45.84210526315789,
           47.10526315789474,
           48.368421052631575,
           49.631578947368425,
           50.89473684210526,
           52.1578947368421,
           53.421052631578945,
           54.68421052631579,
           55.94736842105263,
           57.21052631578947,
           58.473684210526315,
           59.73684210526316,
           61
          ],
          [
           37,
           38.26315789473684,
           39.526315789473685,
           40.78947368421053,
           42.05263157894737,
           43.31578947368421,
           44.578947368421055,
           45.84210526315789,
           47.10526315789474,
           48.368421052631575,
           49.631578947368425,
           50.89473684210526,
           52.1578947368421,
           53.421052631578945,
           54.68421052631579,
           55.94736842105263,
           57.21052631578947,
           58.473684210526315,
           59.73684210526316,
           61
          ],
          [
           37,
           38.26315789473684,
           39.526315789473685,
           40.78947368421053,
           42.05263157894737,
           43.31578947368421,
           44.578947368421055,
           45.84210526315789,
           47.10526315789474,
           48.368421052631575,
           49.631578947368425,
           50.89473684210526,
           52.1578947368421,
           53.421052631578945,
           54.68421052631579,
           55.94736842105263,
           57.21052631578947,
           58.473684210526315,
           59.73684210526316,
           61
          ]
         ],
         "y": [
          [
           26.8,
           26.8,
           26.8,
           26.8,
           26.8,
           26.8,
           26.8,
           26.8,
           26.8,
           26.8,
           26.8,
           26.8,
           26.8,
           26.8,
           26.8,
           26.8,
           26.8,
           26.8,
           26.8,
           26.8
          ],
          [
           27.021052631578947,
           27.021052631578947,
           27.021052631578947,
           27.021052631578947,
           27.021052631578947,
           27.021052631578947,
           27.021052631578947,
           27.021052631578947,
           27.021052631578947,
           27.021052631578947,
           27.021052631578947,
           27.021052631578947,
           27.021052631578947,
           27.021052631578947,
           27.021052631578947,
           27.021052631578947,
           27.021052631578947,
           27.021052631578947,
           27.021052631578947,
           27.021052631578947
          ],
          [
           27.242105263157896,
           27.242105263157896,
           27.242105263157896,
           27.242105263157896,
           27.242105263157896,
           27.242105263157896,
           27.242105263157896,
           27.242105263157896,
           27.242105263157896,
           27.242105263157896,
           27.242105263157896,
           27.242105263157896,
           27.242105263157896,
           27.242105263157896,
           27.242105263157896,
           27.242105263157896,
           27.242105263157896,
           27.242105263157896,
           27.242105263157896,
           27.242105263157896
          ],
          [
           27.46315789473684,
           27.46315789473684,
           27.46315789473684,
           27.46315789473684,
           27.46315789473684,
           27.46315789473684,
           27.46315789473684,
           27.46315789473684,
           27.46315789473684,
           27.46315789473684,
           27.46315789473684,
           27.46315789473684,
           27.46315789473684,
           27.46315789473684,
           27.46315789473684,
           27.46315789473684,
           27.46315789473684,
           27.46315789473684,
           27.46315789473684,
           27.46315789473684
          ],
          [
           27.68421052631579,
           27.68421052631579,
           27.68421052631579,
           27.68421052631579,
           27.68421052631579,
           27.68421052631579,
           27.68421052631579,
           27.68421052631579,
           27.68421052631579,
           27.68421052631579,
           27.68421052631579,
           27.68421052631579,
           27.68421052631579,
           27.68421052631579,
           27.68421052631579,
           27.68421052631579,
           27.68421052631579,
           27.68421052631579,
           27.68421052631579,
           27.68421052631579
          ],
          [
           27.905263157894737,
           27.905263157894737,
           27.905263157894737,
           27.905263157894737,
           27.905263157894737,
           27.905263157894737,
           27.905263157894737,
           27.905263157894737,
           27.905263157894737,
           27.905263157894737,
           27.905263157894737,
           27.905263157894737,
           27.905263157894737,
           27.905263157894737,
           27.905263157894737,
           27.905263157894737,
           27.905263157894737,
           27.905263157894737,
           27.905263157894737,
           27.905263157894737
          ],
          [
           28.126315789473686,
           28.126315789473686,
           28.126315789473686,
           28.126315789473686,
           28.126315789473686,
           28.126315789473686,
           28.126315789473686,
           28.126315789473686,
           28.126315789473686,
           28.126315789473686,
           28.126315789473686,
           28.126315789473686,
           28.126315789473686,
           28.126315789473686,
           28.126315789473686,
           28.126315789473686,
           28.126315789473686,
           28.126315789473686,
           28.126315789473686,
           28.126315789473686
          ],
          [
           28.347368421052632,
           28.347368421052632,
           28.347368421052632,
           28.347368421052632,
           28.347368421052632,
           28.347368421052632,
           28.347368421052632,
           28.347368421052632,
           28.347368421052632,
           28.347368421052632,
           28.347368421052632,
           28.347368421052632,
           28.347368421052632,
           28.347368421052632,
           28.347368421052632,
           28.347368421052632,
           28.347368421052632,
           28.347368421052632,
           28.347368421052632,
           28.347368421052632
          ],
          [
           28.568421052631578,
           28.568421052631578,
           28.568421052631578,
           28.568421052631578,
           28.568421052631578,
           28.568421052631578,
           28.568421052631578,
           28.568421052631578,
           28.568421052631578,
           28.568421052631578,
           28.568421052631578,
           28.568421052631578,
           28.568421052631578,
           28.568421052631578,
           28.568421052631578,
           28.568421052631578,
           28.568421052631578,
           28.568421052631578,
           28.568421052631578,
           28.568421052631578
          ],
          [
           28.789473684210527,
           28.789473684210527,
           28.789473684210527,
           28.789473684210527,
           28.789473684210527,
           28.789473684210527,
           28.789473684210527,
           28.789473684210527,
           28.789473684210527,
           28.789473684210527,
           28.789473684210527,
           28.789473684210527,
           28.789473684210527,
           28.789473684210527,
           28.789473684210527,
           28.789473684210527,
           28.789473684210527,
           28.789473684210527,
           28.789473684210527,
           28.789473684210527
          ],
          [
           29.010526315789473,
           29.010526315789473,
           29.010526315789473,
           29.010526315789473,
           29.010526315789473,
           29.010526315789473,
           29.010526315789473,
           29.010526315789473,
           29.010526315789473,
           29.010526315789473,
           29.010526315789473,
           29.010526315789473,
           29.010526315789473,
           29.010526315789473,
           29.010526315789473,
           29.010526315789473,
           29.010526315789473,
           29.010526315789473,
           29.010526315789473,
           29.010526315789473
          ],
          [
           29.231578947368423,
           29.231578947368423,
           29.231578947368423,
           29.231578947368423,
           29.231578947368423,
           29.231578947368423,
           29.231578947368423,
           29.231578947368423,
           29.231578947368423,
           29.231578947368423,
           29.231578947368423,
           29.231578947368423,
           29.231578947368423,
           29.231578947368423,
           29.231578947368423,
           29.231578947368423,
           29.231578947368423,
           29.231578947368423,
           29.231578947368423,
           29.231578947368423
          ],
          [
           29.45263157894737,
           29.45263157894737,
           29.45263157894737,
           29.45263157894737,
           29.45263157894737,
           29.45263157894737,
           29.45263157894737,
           29.45263157894737,
           29.45263157894737,
           29.45263157894737,
           29.45263157894737,
           29.45263157894737,
           29.45263157894737,
           29.45263157894737,
           29.45263157894737,
           29.45263157894737,
           29.45263157894737,
           29.45263157894737,
           29.45263157894737,
           29.45263157894737
          ],
          [
           29.673684210526318,
           29.673684210526318,
           29.673684210526318,
           29.673684210526318,
           29.673684210526318,
           29.673684210526318,
           29.673684210526318,
           29.673684210526318,
           29.673684210526318,
           29.673684210526318,
           29.673684210526318,
           29.673684210526318,
           29.673684210526318,
           29.673684210526318,
           29.673684210526318,
           29.673684210526318,
           29.673684210526318,
           29.673684210526318,
           29.673684210526318,
           29.673684210526318
          ],
          [
           29.894736842105264,
           29.894736842105264,
           29.894736842105264,
           29.894736842105264,
           29.894736842105264,
           29.894736842105264,
           29.894736842105264,
           29.894736842105264,
           29.894736842105264,
           29.894736842105264,
           29.894736842105264,
           29.894736842105264,
           29.894736842105264,
           29.894736842105264,
           29.894736842105264,
           29.894736842105264,
           29.894736842105264,
           29.894736842105264,
           29.894736842105264,
           29.894736842105264
          ],
          [
           30.11578947368421,
           30.11578947368421,
           30.11578947368421,
           30.11578947368421,
           30.11578947368421,
           30.11578947368421,
           30.11578947368421,
           30.11578947368421,
           30.11578947368421,
           30.11578947368421,
           30.11578947368421,
           30.11578947368421,
           30.11578947368421,
           30.11578947368421,
           30.11578947368421,
           30.11578947368421,
           30.11578947368421,
           30.11578947368421,
           30.11578947368421,
           30.11578947368421
          ],
          [
           30.33684210526316,
           30.33684210526316,
           30.33684210526316,
           30.33684210526316,
           30.33684210526316,
           30.33684210526316,
           30.33684210526316,
           30.33684210526316,
           30.33684210526316,
           30.33684210526316,
           30.33684210526316,
           30.33684210526316,
           30.33684210526316,
           30.33684210526316,
           30.33684210526316,
           30.33684210526316,
           30.33684210526316,
           30.33684210526316,
           30.33684210526316,
           30.33684210526316
          ],
          [
           30.557894736842105,
           30.557894736842105,
           30.557894736842105,
           30.557894736842105,
           30.557894736842105,
           30.557894736842105,
           30.557894736842105,
           30.557894736842105,
           30.557894736842105,
           30.557894736842105,
           30.557894736842105,
           30.557894736842105,
           30.557894736842105,
           30.557894736842105,
           30.557894736842105,
           30.557894736842105,
           30.557894736842105,
           30.557894736842105,
           30.557894736842105,
           30.557894736842105
          ],
          [
           30.778947368421054,
           30.778947368421054,
           30.778947368421054,
           30.778947368421054,
           30.778947368421054,
           30.778947368421054,
           30.778947368421054,
           30.778947368421054,
           30.778947368421054,
           30.778947368421054,
           30.778947368421054,
           30.778947368421054,
           30.778947368421054,
           30.778947368421054,
           30.778947368421054,
           30.778947368421054,
           30.778947368421054,
           30.778947368421054,
           30.778947368421054,
           30.778947368421054
          ],
          [
           31,
           31,
           31,
           31,
           31,
           31,
           31,
           31,
           31,
           31,
           31,
           31,
           31,
           31,
           31,
           31,
           31,
           31,
           31,
           31
          ]
         ],
         "z": [
          [
           172.93469947536036,
           173.7274823938255,
           174.5202653122907,
           175.31304823075584,
           176.105831149221,
           176.89861406768617,
           177.69139698615132,
           178.48417990461647,
           179.27696282308162,
           180.0697457415468,
           180.86252866001195,
           181.6553115784771,
           182.44809449694225,
           183.24087741540743,
           184.03366033387258,
           184.82644325233773,
           185.6192261708029,
           186.41200908926805,
           187.2047920077332,
           187.99757492619838
          ],
          [
           173.2926581357732,
           174.08544105423837,
           174.87822397270352,
           175.67100689116867,
           176.46378980963385,
           177.256572728099,
           178.04935564656415,
           178.8421385650293,
           179.63492148349448,
           180.42770440195963,
           181.22048732042478,
           182.01327023888993,
           182.8060531573551,
           183.59883607582026,
           184.3916189942854,
           185.1844019127506,
           185.97718483121574,
           186.7699677496809,
           187.56275066814607,
           188.35553358661122
          ],
          [
           173.65061679618606,
           174.4433997146512,
           175.23618263311636,
           176.02896555158154,
           176.82174847004669,
           177.61453138851184,
           178.407314306977,
           179.20009722544216,
           179.9928801439073,
           180.78566306237246,
           181.57844598083764,
           182.3712288993028,
           183.16401181776794,
           183.95679473623312,
           184.74957765469827,
           185.54236057316342,
           186.33514349162857,
           187.12792641009375,
           187.9207093285589,
           188.71349224702405
          ],
          [
           174.0085754565989,
           174.80135837506404,
           175.59414129352922,
           176.38692421199437,
           177.17970713045952,
           177.9724900489247,
           178.76527296738985,
           179.558055885855,
           180.35083880432018,
           181.14362172278533,
           181.93640464125048,
           182.72918755971563,
           183.5219704781808,
           184.31475339664595,
           185.1075363151111,
           185.90031923357625,
           186.69310215204143,
           187.48588507050658,
           188.27866798897173,
           189.0714509074369
          ],
          [
           174.36653411701175,
           175.1593170354769,
           175.95209995394205,
           176.74488287240723,
           177.53766579087238,
           178.33044870933753,
           179.12323162780268,
           179.91601454626786,
           180.708797464733,
           181.50158038319816,
           182.29436330166334,
           183.0871462201285,
           183.87992913859364,
           184.6727120570588,
           185.46549497552397,
           186.25827789398912,
           187.05106081245427,
           187.84384373091945,
           188.6366266493846,
           189.42940956784975
          ],
          [
           174.7244927774246,
           175.51727569588974,
           176.31005861435492,
           177.10284153282007,
           177.89562445128522,
           178.68840736975037,
           179.48119028821554,
           180.2739732066807,
           181.06675612514584,
           181.859539043611,
           182.65232196207617,
           183.44510488054132,
           184.23788779900647,
           185.03067071747165,
           185.8234536359368,
           186.61623655440195,
           187.40901947286713,
           188.20180239133228,
           188.99458530979743,
           189.78736822826258
          ],
          [
           175.08245143783745,
           175.8752343563026,
           176.66801727476775,
           177.4608001932329,
           178.25358311169808,
           179.04636603016323,
           179.83914894862838,
           180.63193186709353,
           181.4247147855587,
           182.21749770402386,
           183.010280622489,
           183.80306354095418,
           184.59584645941933,
           185.38862937788448,
           186.18141229634963,
           186.9741952148148,
           187.76697813327996,
           188.5597610517451,
           189.3525439702103,
           190.14532688867544
          ],
          [
           175.44041009825028,
           176.23319301671543,
           177.02597593518058,
           177.81875885364576,
           178.6115417721109,
           179.40432469057606,
           180.19710760904124,
           180.9898905275064,
           181.78267344597154,
           182.5754563644367,
           183.36823928290187,
           184.16102220136702,
           184.95380511983217,
           185.74658803829732,
           186.5393709567625,
           187.33215387522765,
           188.1249367936928,
           188.91771971215798,
           189.71050263062313,
           190.50328554908828
          ],
          [
           175.79836875866312,
           176.59115167712827,
           177.38393459559344,
           178.1767175140586,
           178.96950043252374,
           179.76228335098892,
           180.55506626945407,
           181.34784918791922,
           182.14063210638437,
           182.93341502484955,
           183.7261979433147,
           184.51898086177985,
           185.311763780245,
           186.10454669871018,
           186.89732961717533,
           187.69011253564048,
           188.48289545410566,
           189.2756783725708,
           190.06846129103596,
           190.86124420950114
          ],
          [
           176.15632741907598,
           176.94911033754113,
           177.74189325600628,
           178.53467617447143,
           179.3274590929366,
           180.12024201140176,
           180.9130249298669,
           181.70580784833206,
           182.49859076679724,
           183.29137368526239,
           184.08415660372754,
           184.8769395221927,
           185.66972244065786,
           186.462505359123,
           187.2552882775882,
           188.04807119605334,
           188.8408541145185,
           189.63363703298364,
           190.42641995144882,
           191.21920286991397
          ],
          [
           176.5142860794888,
           177.30706899795396,
           178.0998519164191,
           178.8926348348843,
           179.68541775334944,
           180.4782006718146,
           181.27098359027977,
           182.06376650874492,
           182.85654942721007,
           183.64933234567522,
           184.4421152641404,
           185.23489818260555,
           186.0276811010707,
           186.82046401953588,
           187.61324693800103,
           188.40602985646618,
           189.19881277493133,
           189.9915956933965,
           190.78437861186165,
           191.5771615303268
          ],
          [
           176.87224473990165,
           177.66502765836682,
           178.45781057683197,
           179.25059349529712,
           180.0433764137623,
           180.83615933222745,
           181.6289422506926,
           182.42172516915775,
           183.21450808762293,
           184.00729100608808,
           184.80007392455323,
           185.59285684301838,
           186.38563976148356,
           187.1784226799487,
           187.97120559841386,
           188.76398851687904,
           189.5567714353442,
           190.34955435380934,
           191.14233727227452,
           191.93512019073967
          ],
          [
           177.2302034003145,
           178.02298631877966,
           178.8157692372448,
           179.60855215570996,
           180.40133507417514,
           181.1941179926403,
           181.98690091110544,
           182.77968382957062,
           183.57246674803577,
           184.36524966650092,
           185.1580325849661,
           185.95081550343124,
           186.7435984218964,
           187.53638134036154,
           188.32916425882672,
           189.12194717729187,
           189.91473009575702,
           190.70751301422217,
           191.50029593268735,
           192.2930788511525
          ],
          [
           177.58816206072734,
           178.3809449791925,
           179.17372789765767,
           179.96651081612282,
           180.75929373458797,
           181.55207665305315,
           182.3448595715183,
           183.13764248998345,
           183.93042540844863,
           184.72320832691378,
           185.51599124537893,
           186.30877416384408,
           187.10155708230926,
           187.8943400007744,
           188.68712291923956,
           189.4799058377047,
           190.27268875616988,
           191.06547167463503,
           191.85825459310018,
           192.65103751156536
          ],
          [
           177.94612072114018,
           178.73890363960535,
           179.5316865580705,
           180.32446947653565,
           181.11725239500083,
           181.91003531346598,
           182.70281823193113,
           183.49560115039628,
           184.28838406886146,
           185.0811669873266,
           185.87394990579176,
           186.66673282425694,
           187.4595157427221,
           188.25229866118724,
           189.0450815796524,
           189.83786449811757,
           190.63064741658272,
           191.42343033504787,
           192.21621325351305,
           193.0089961719782
          ],
          [
           178.30407938155304,
           179.0968623000182,
           179.88964521848334,
           180.68242813694852,
           181.47521105541367,
           182.26799397387882,
           183.06077689234397,
           183.85355981080914,
           184.6463427292743,
           185.43912564773944,
           186.23190856620462,
           187.02469148466977,
           187.81747440313492,
           188.61025732160007,
           189.40304024006525,
           190.1958231585304,
           190.98860607699555,
           191.78138899546073,
           192.57417191392588,
           193.36695483239103
          ],
          [
           178.66203804196587,
           179.45482096043105,
           180.2476038788962,
           181.04038679736135,
           181.8331697158265,
           182.62595263429168,
           183.41873555275683,
           184.21151847122198,
           185.00430138968716,
           185.7970843081523,
           186.58986722661746,
           187.3826501450826,
           188.17543306354779,
           188.96821598201294,
           189.76099890047809,
           190.55378181894326,
           191.3465647374084,
           192.13934765587356,
           192.93213057433871,
           193.7249134928039
          ],
          [
           179.01999670237873,
           179.81277962084388,
           180.60556253930903,
           181.39834545777418,
           182.19112837623936,
           182.9839112947045,
           183.77669421316966,
           184.5694771316348,
           185.3622600501,
           186.15504296856514,
           186.9478258870303,
           187.74060880549547,
           188.53339172396062,
           189.32617464242577,
           190.11895756089092,
           190.9117404793561,
           191.70452339782125,
           192.4973063162864,
           193.29008923475158,
           194.08287215321673
          ],
          [
           179.37795536279157,
           180.17073828125672,
           180.9635211997219,
           181.75630411818705,
           182.5490870366522,
           183.34186995511735,
           184.13465287358252,
           184.92743579204767,
           185.72021871051282,
           186.51300162897797,
           187.30578454744315,
           188.0985674659083,
           188.89135038437345,
           189.68413330283863,
           190.47691622130378,
           191.26969913976893,
           192.0624820582341,
           192.85526497669926,
           193.6480478951644,
           194.4408308136296
          ],
          [
           179.7359140232044,
           180.52869694166958,
           181.32147986013473,
           182.11426277859988,
           182.90704569706503,
           183.6998286155302,
           184.49261153399536,
           185.2853944524605,
           186.0781773709257,
           186.87096028939084,
           187.663743207856,
           188.45652612632114,
           189.24930904478632,
           190.04209196325147,
           190.83487488171662,
           191.6276578001818,
           192.42044071864694,
           193.2132236371121,
           194.00600655557724,
           194.79878947404242
          ]
         ]
        }
       ],
       "layout": {
        "scene": {
         "xaxis": {
          "title": {
           "text": "Ancho"
          }
         },
         "yaxis": {
          "title": {
           "text": "Pie"
          }
         },
         "zaxis": {
          "title": {
           "text": "Altura"
          }
         }
        },
        "template": {
         "data": {
          "bar": [
           {
            "error_x": {
             "color": "#2a3f5f"
            },
            "error_y": {
             "color": "#2a3f5f"
            },
            "marker": {
             "line": {
              "color": "#E5ECF6",
              "width": 0.5
             },
             "pattern": {
              "fillmode": "overlay",
              "size": 10,
              "solidity": 0.2
             }
            },
            "type": "bar"
           }
          ],
          "barpolar": [
           {
            "marker": {
             "line": {
              "color": "#E5ECF6",
              "width": 0.5
             },
             "pattern": {
              "fillmode": "overlay",
              "size": 10,
              "solidity": 0.2
             }
            },
            "type": "barpolar"
           }
          ],
          "carpet": [
           {
            "aaxis": {
             "endlinecolor": "#2a3f5f",
             "gridcolor": "white",
             "linecolor": "white",
             "minorgridcolor": "white",
             "startlinecolor": "#2a3f5f"
            },
            "baxis": {
             "endlinecolor": "#2a3f5f",
             "gridcolor": "white",
             "linecolor": "white",
             "minorgridcolor": "white",
             "startlinecolor": "#2a3f5f"
            },
            "type": "carpet"
           }
          ],
          "choropleth": [
           {
            "colorbar": {
             "outlinewidth": 0,
             "ticks": ""
            },
            "type": "choropleth"
           }
          ],
          "contour": [
           {
            "colorbar": {
             "outlinewidth": 0,
             "ticks": ""
            },
            "colorscale": [
             [
              0,
              "#0d0887"
             ],
             [
              0.1111111111111111,
              "#46039f"
             ],
             [
              0.2222222222222222,
              "#7201a8"
             ],
             [
              0.3333333333333333,
              "#9c179e"
             ],
             [
              0.4444444444444444,
              "#bd3786"
             ],
             [
              0.5555555555555556,
              "#d8576b"
             ],
             [
              0.6666666666666666,
              "#ed7953"
             ],
             [
              0.7777777777777778,
              "#fb9f3a"
             ],
             [
              0.8888888888888888,
              "#fdca26"
             ],
             [
              1,
              "#f0f921"
             ]
            ],
            "type": "contour"
           }
          ],
          "contourcarpet": [
           {
            "colorbar": {
             "outlinewidth": 0,
             "ticks": ""
            },
            "type": "contourcarpet"
           }
          ],
          "heatmap": [
           {
            "colorbar": {
             "outlinewidth": 0,
             "ticks": ""
            },
            "colorscale": [
             [
              0,
              "#0d0887"
             ],
             [
              0.1111111111111111,
              "#46039f"
             ],
             [
              0.2222222222222222,
              "#7201a8"
             ],
             [
              0.3333333333333333,
              "#9c179e"
             ],
             [
              0.4444444444444444,
              "#bd3786"
             ],
             [
              0.5555555555555556,
              "#d8576b"
             ],
             [
              0.6666666666666666,
              "#ed7953"
             ],
             [
              0.7777777777777778,
              "#fb9f3a"
             ],
             [
              0.8888888888888888,
              "#fdca26"
             ],
             [
              1,
              "#f0f921"
             ]
            ],
            "type": "heatmap"
           }
          ],
          "heatmapgl": [
           {
            "colorbar": {
             "outlinewidth": 0,
             "ticks": ""
            },
            "colorscale": [
             [
              0,
              "#0d0887"
             ],
             [
              0.1111111111111111,
              "#46039f"
             ],
             [
              0.2222222222222222,
              "#7201a8"
             ],
             [
              0.3333333333333333,
              "#9c179e"
             ],
             [
              0.4444444444444444,
              "#bd3786"
             ],
             [
              0.5555555555555556,
              "#d8576b"
             ],
             [
              0.6666666666666666,
              "#ed7953"
             ],
             [
              0.7777777777777778,
              "#fb9f3a"
             ],
             [
              0.8888888888888888,
              "#fdca26"
             ],
             [
              1,
              "#f0f921"
             ]
            ],
            "type": "heatmapgl"
           }
          ],
          "histogram": [
           {
            "marker": {
             "pattern": {
              "fillmode": "overlay",
              "size": 10,
              "solidity": 0.2
             }
            },
            "type": "histogram"
           }
          ],
          "histogram2d": [
           {
            "colorbar": {
             "outlinewidth": 0,
             "ticks": ""
            },
            "colorscale": [
             [
              0,
              "#0d0887"
             ],
             [
              0.1111111111111111,
              "#46039f"
             ],
             [
              0.2222222222222222,
              "#7201a8"
             ],
             [
              0.3333333333333333,
              "#9c179e"
             ],
             [
              0.4444444444444444,
              "#bd3786"
             ],
             [
              0.5555555555555556,
              "#d8576b"
             ],
             [
              0.6666666666666666,
              "#ed7953"
             ],
             [
              0.7777777777777778,
              "#fb9f3a"
             ],
             [
              0.8888888888888888,
              "#fdca26"
             ],
             [
              1,
              "#f0f921"
             ]
            ],
            "type": "histogram2d"
           }
          ],
          "histogram2dcontour": [
           {
            "colorbar": {
             "outlinewidth": 0,
             "ticks": ""
            },
            "colorscale": [
             [
              0,
              "#0d0887"
             ],
             [
              0.1111111111111111,
              "#46039f"
             ],
             [
              0.2222222222222222,
              "#7201a8"
             ],
             [
              0.3333333333333333,
              "#9c179e"
             ],
             [
              0.4444444444444444,
              "#bd3786"
             ],
             [
              0.5555555555555556,
              "#d8576b"
             ],
             [
              0.6666666666666666,
              "#ed7953"
             ],
             [
              0.7777777777777778,
              "#fb9f3a"
             ],
             [
              0.8888888888888888,
              "#fdca26"
             ],
             [
              1,
              "#f0f921"
             ]
            ],
            "type": "histogram2dcontour"
           }
          ],
          "mesh3d": [
           {
            "colorbar": {
             "outlinewidth": 0,
             "ticks": ""
            },
            "type": "mesh3d"
           }
          ],
          "parcoords": [
           {
            "line": {
             "colorbar": {
              "outlinewidth": 0,
              "ticks": ""
             }
            },
            "type": "parcoords"
           }
          ],
          "pie": [
           {
            "automargin": true,
            "type": "pie"
           }
          ],
          "scatter": [
           {
            "fillpattern": {
             "fillmode": "overlay",
             "size": 10,
             "solidity": 0.2
            },
            "type": "scatter"
           }
          ],
          "scatter3d": [
           {
            "line": {
             "colorbar": {
              "outlinewidth": 0,
              "ticks": ""
             }
            },
            "marker": {
             "colorbar": {
              "outlinewidth": 0,
              "ticks": ""
             }
            },
            "type": "scatter3d"
           }
          ],
          "scattercarpet": [
           {
            "marker": {
             "colorbar": {
              "outlinewidth": 0,
              "ticks": ""
             }
            },
            "type": "scattercarpet"
           }
          ],
          "scattergeo": [
           {
            "marker": {
             "colorbar": {
              "outlinewidth": 0,
              "ticks": ""
             }
            },
            "type": "scattergeo"
           }
          ],
          "scattergl": [
           {
            "marker": {
             "colorbar": {
              "outlinewidth": 0,
              "ticks": ""
             }
            },
            "type": "scattergl"
           }
          ],
          "scattermapbox": [
           {
            "marker": {
             "colorbar": {
              "outlinewidth": 0,
              "ticks": ""
             }
            },
            "type": "scattermapbox"
           }
          ],
          "scatterpolar": [
           {
            "marker": {
             "colorbar": {
              "outlinewidth": 0,
              "ticks": ""
             }
            },
            "type": "scatterpolar"
           }
          ],
          "scatterpolargl": [
           {
            "marker": {
             "colorbar": {
              "outlinewidth": 0,
              "ticks": ""
             }
            },
            "type": "scatterpolargl"
           }
          ],
          "scatterternary": [
           {
            "marker": {
             "colorbar": {
              "outlinewidth": 0,
              "ticks": ""
             }
            },
            "type": "scatterternary"
           }
          ],
          "surface": [
           {
            "colorbar": {
             "outlinewidth": 0,
             "ticks": ""
            },
            "colorscale": [
             [
              0,
              "#0d0887"
             ],
             [
              0.1111111111111111,
              "#46039f"
             ],
             [
              0.2222222222222222,
              "#7201a8"
             ],
             [
              0.3333333333333333,
              "#9c179e"
             ],
             [
              0.4444444444444444,
              "#bd3786"
             ],
             [
              0.5555555555555556,
              "#d8576b"
             ],
             [
              0.6666666666666666,
              "#ed7953"
             ],
             [
              0.7777777777777778,
              "#fb9f3a"
             ],
             [
              0.8888888888888888,
              "#fdca26"
             ],
             [
              1,
              "#f0f921"
             ]
            ],
            "type": "surface"
           }
          ],
          "table": [
           {
            "cells": {
             "fill": {
              "color": "#EBF0F8"
             },
             "line": {
              "color": "white"
             }
            },
            "header": {
             "fill": {
              "color": "#C8D4E3"
             },
             "line": {
              "color": "white"
             }
            },
            "type": "table"
           }
          ]
         },
         "layout": {
          "annotationdefaults": {
           "arrowcolor": "#2a3f5f",
           "arrowhead": 0,
           "arrowwidth": 1
          },
          "autotypenumbers": "strict",
          "coloraxis": {
           "colorbar": {
            "outlinewidth": 0,
            "ticks": ""
           }
          },
          "colorscale": {
           "diverging": [
            [
             0,
             "#8e0152"
            ],
            [
             0.1,
             "#c51b7d"
            ],
            [
             0.2,
             "#de77ae"
            ],
            [
             0.3,
             "#f1b6da"
            ],
            [
             0.4,
             "#fde0ef"
            ],
            [
             0.5,
             "#f7f7f7"
            ],
            [
             0.6,
             "#e6f5d0"
            ],
            [
             0.7,
             "#b8e186"
            ],
            [
             0.8,
             "#7fbc41"
            ],
            [
             0.9,
             "#4d9221"
            ],
            [
             1,
             "#276419"
            ]
           ],
           "sequential": [
            [
             0,
             "#0d0887"
            ],
            [
             0.1111111111111111,
             "#46039f"
            ],
            [
             0.2222222222222222,
             "#7201a8"
            ],
            [
             0.3333333333333333,
             "#9c179e"
            ],
            [
             0.4444444444444444,
             "#bd3786"
            ],
            [
             0.5555555555555556,
             "#d8576b"
            ],
            [
             0.6666666666666666,
             "#ed7953"
            ],
            [
             0.7777777777777778,
             "#fb9f3a"
            ],
            [
             0.8888888888888888,
             "#fdca26"
            ],
            [
             1,
             "#f0f921"
            ]
           ],
           "sequentialminus": [
            [
             0,
             "#0d0887"
            ],
            [
             0.1111111111111111,
             "#46039f"
            ],
            [
             0.2222222222222222,
             "#7201a8"
            ],
            [
             0.3333333333333333,
             "#9c179e"
            ],
            [
             0.4444444444444444,
             "#bd3786"
            ],
            [
             0.5555555555555556,
             "#d8576b"
            ],
            [
             0.6666666666666666,
             "#ed7953"
            ],
            [
             0.7777777777777778,
             "#fb9f3a"
            ],
            [
             0.8888888888888888,
             "#fdca26"
            ],
            [
             1,
             "#f0f921"
            ]
           ]
          },
          "colorway": [
           "#636efa",
           "#EF553B",
           "#00cc96",
           "#ab63fa",
           "#FFA15A",
           "#19d3f3",
           "#FF6692",
           "#B6E880",
           "#FF97FF",
           "#FECB52"
          ],
          "font": {
           "color": "#2a3f5f"
          },
          "geo": {
           "bgcolor": "white",
           "lakecolor": "white",
           "landcolor": "#E5ECF6",
           "showlakes": true,
           "showland": true,
           "subunitcolor": "white"
          },
          "hoverlabel": {
           "align": "left"
          },
          "hovermode": "closest",
          "mapbox": {
           "style": "light"
          },
          "paper_bgcolor": "white",
          "plot_bgcolor": "#E5ECF6",
          "polar": {
           "angularaxis": {
            "gridcolor": "white",
            "linecolor": "white",
            "ticks": ""
           },
           "bgcolor": "#E5ECF6",
           "radialaxis": {
            "gridcolor": "white",
            "linecolor": "white",
            "ticks": ""
           }
          },
          "scene": {
           "xaxis": {
            "backgroundcolor": "#E5ECF6",
            "gridcolor": "white",
            "gridwidth": 2,
            "linecolor": "white",
            "showbackground": true,
            "ticks": "",
            "zerolinecolor": "white"
           },
           "yaxis": {
            "backgroundcolor": "#E5ECF6",
            "gridcolor": "white",
            "gridwidth": 2,
            "linecolor": "white",
            "showbackground": true,
            "ticks": "",
            "zerolinecolor": "white"
           },
           "zaxis": {
            "backgroundcolor": "#E5ECF6",
            "gridcolor": "white",
            "gridwidth": 2,
            "linecolor": "white",
            "showbackground": true,
            "ticks": "",
            "zerolinecolor": "white"
           }
          },
          "shapedefaults": {
           "line": {
            "color": "#2a3f5f"
           }
          },
          "ternary": {
           "aaxis": {
            "gridcolor": "white",
            "linecolor": "white",
            "ticks": ""
           },
           "baxis": {
            "gridcolor": "white",
            "linecolor": "white",
            "ticks": ""
           },
           "bgcolor": "#E5ECF6",
           "caxis": {
            "gridcolor": "white",
            "linecolor": "white",
            "ticks": ""
           }
          },
          "title": {
           "x": 0.05
          },
          "xaxis": {
           "automargin": true,
           "gridcolor": "white",
           "linecolor": "white",
           "ticks": "",
           "title": {
            "standoff": 15
           },
           "zerolinecolor": "white",
           "zerolinewidth": 2
          },
          "yaxis": {
           "automargin": true,
           "gridcolor": "white",
           "linecolor": "white",
           "ticks": "",
           "title": {
            "standoff": 15
           },
           "zerolinecolor": "white",
           "zerolinewidth": 2
          }
         }
        },
        "title": {
         "text": "REGRESION<br>R2: 0.9739044815420799 RMSE: 0.6347557049686814"
        }
       }
      }
     },
     "metadata": {},
     "output_type": "display_data"
    }
   ],
   "source": [
    "# Definir rangos para las variables independientes\n",
    "x1_range = np.linspace(min(x_train_pb[:, 0]), max(x_train_pb[:, 0]), 20)\n",
    "x2_range = np.linspace(min(x_train_pb[:, 1]), max(x_train_pb[:, 1]), 20)\n",
    "x1_mesh, x2_mesh = np.meshgrid(x1_range, x2_range)\n",
    "\n",
    "# Escalar el meshgrid para predicción\n",
    "x_mesh_scaled = ss_pb.transform(np.vstack((x1_mesh.ravel(), x2_mesh.ravel())).T)\n",
    "\n",
    "# Predecir los valores con el modelo escalado\n",
    "y_mesh_scaled = modelo_pb.predict(x_mesh_scaled)\n",
    "\n",
    "# Crear scatterplot 3D de los puntos reales\n",
    "scatter = go.Scatter3d(\n",
    "    x=x_test_pb[:, 0], y=x_test_pb[:, 1], z=y_test_pb,\n",
    "    mode='markers',\n",
    "    marker=dict(size=8, color='red', opacity=0.7)\n",
    ")\n",
    "\n",
    "# Crear el plano de regresión\n",
    "surface = go.Surface(\n",
    "    x=x1_mesh, y=x2_mesh, z=y_mesh_scaled.reshape(x1_mesh.shape),\n",
    "    colorscale='Viridis', opacity=0.5\n",
    ")\n",
    "\n",
    "# Configuración del layout\n",
    "layout = go.Layout(\n",
    "    title=f\"REGRESION<br>R2: {r2_score(y_test_pb, pb_pred)} RMSE: {root_mean_squared_error(y_test_pb, pb_pred)}\",\n",
    "    scene=dict(\n",
    "        xaxis_title='Ancho',\n",
    "        yaxis_title='Pie',\n",
    "        zaxis_title='Altura'\n",
    "    )\n",
    ")\n",
    "\n",
    "# Crear la figura\n",
    "fig = go.Figure(data=[scatter, surface], layout=layout)\n",
    "\n",
    "# Mostrar la figura interactiva\n",
    "fig.show()\n"
   ]
  },
  {
   "cell_type": "markdown",
   "metadata": {},
   "source": [
    "**¿Agregarías datos a tu base de datos para mejorar las predicciones del modelo?**\n",
    "\n",
    "Sí, ya que la altura promedio de un mexicano no es la misma que la altura de una persona de Países Bajos."
   ]
  },
  {
   "cell_type": "markdown",
   "metadata": {},
   "source": [
    "**¿Cómo conseguirías dicha información?**\n",
    "\n",
    "Al tener que el promedio de altura de un hombre de Países Bajos es de 183 cm y la altura promedio de una mujer de Países Bajos es de 170 cm, promediamos las alturas y nos basamos en los datos originales y en los que recabamos de las 70 personas que medimos para crear nuevos datos."
   ]
  },
  {
   "cell_type": "markdown",
   "metadata": {},
   "source": [
    "**¿Modificarías algún parámetro de tu modelo?**\n",
    "\n",
    "En este caso, al no tener ningún dato de personas de países bajos y después de hacer gridsearch para obtener el modelo con las mejores métricas, llegamos a la conclusión de que una regresión lineal simple era el mejor modelo, por lo que no aplicamos ninguna regularización."
   ]
  },
  {
   "cell_type": "markdown",
   "metadata": {},
   "source": [
    "## Parte 4"
   ]
  },
  {
   "cell_type": "markdown",
   "metadata": {},
   "source": [
    "### Ambos contextos"
   ]
  },
  {
   "cell_type": "code",
   "execution_count": 263,
   "metadata": {},
   "outputs": [],
   "source": [
    "df_combined = pd.concat([df_center, data_left, data_right, df_pb])"
   ]
  },
  {
   "cell_type": "code",
   "execution_count": 264,
   "metadata": {},
   "outputs": [],
   "source": [
    "# Dividir los datos en entrenamiento y prueba\n",
    "X_c = df_combined.drop(\"height\", axis=1)\n",
    "y_c = df_combined[\"height\"]"
   ]
  },
  {
   "cell_type": "code",
   "execution_count": 265,
   "metadata": {},
   "outputs": [],
   "source": [
    "x_train, x_test, y_train, y_test = train_test_split(X_c, y_c, test_size=0.2, random_state=42)  "
   ]
  },
  {
   "cell_type": "code",
   "execution_count": 266,
   "metadata": {},
   "outputs": [
    {
     "name": "stdout",
     "output_type": "stream",
     "text": [
      "Ridge Regression:\n",
      "Best parameters: {'alpha': 11.28837891684689}\n",
      "RMSE: 0.91\n",
      "\n",
      "Lasso Regression:\n",
      "Best parameters: {'alpha': 1.0}\n",
      "RMSE: 0.99\n",
      "\n",
      "Elastic Net Regression:\n",
      "Best parameters: {'alpha': 1.0, 'l1_ratio': 0.1}\n",
      "RMSE: 0.96\n"
     ]
    }
   ],
   "source": [
    "ridge_params = {'alpha': np.logspace(0, 10, 20)}\n",
    "lasso_params = {'alpha': np.logspace(0, 6, 10)}\n",
    "enet_params = {'alpha': np.logspace(0, 6, 20), 'l1_ratio': [0.1, 0.2, 0.3, 0.5, 0.7, 0.9]}\n",
    "\n",
    "\n",
    "ridge = Ridge()\n",
    "lasso = Lasso()\n",
    "enet = ElasticNet()\n",
    "\n",
    "\n",
    "ridge_grid = GridSearchCV(ridge, ridge_params, scoring='neg_mean_squared_error', cv=5)\n",
    "lasso_grid = GridSearchCV(lasso, lasso_params, scoring='neg_mean_squared_error', cv=5)\n",
    "enet_grid = GridSearchCV(enet, enet_params, scoring='neg_mean_squared_error', cv=5)\n",
    "\n",
    "ridge_grid.fit(X, y)\n",
    "lasso_grid.fit(X, y)\n",
    "enet_grid.fit(X, y)\n",
    "\n",
    "\n",
    "print(\"Ridge Regression:\")\n",
    "print(f\"Best parameters: {ridge_grid.best_params_}\")\n",
    "print(f\"RMSE: {np.sqrt(-ridge_grid.best_score_):.2f}\")\n",
    "\n",
    "print(\"\\nLasso Regression:\")\n",
    "print(f\"Best parameters: {lasso_grid.best_params_}\")\n",
    "print(f\"RMSE: {np.sqrt(-lasso_grid.best_score_):.2f}\")\n",
    "\n",
    "print(\"\\nElastic Net Regression:\")\n",
    "print(f\"Best parameters: {enet_grid.best_params_}\")\n",
    "print(f\"RMSE: {np.sqrt(-enet_grid.best_score_):.2f}\")"
   ]
  },
  {
   "cell_type": "code",
   "execution_count": 267,
   "metadata": {},
   "outputs": [],
   "source": [
    "ss = StandardScaler()\n",
    "x_train_ss = ss.fit_transform(x_train)\n",
    "x_test_ss = ss.transform(x_test)"
   ]
  },
  {
   "cell_type": "code",
   "execution_count": 268,
   "metadata": {},
   "outputs": [
    {
     "data": {
      "text/html": [
       "<style>#sk-container-id-3 {\n",
       "  /* Definition of color scheme common for light and dark mode */\n",
       "  --sklearn-color-text: black;\n",
       "  --sklearn-color-line: gray;\n",
       "  /* Definition of color scheme for unfitted estimators */\n",
       "  --sklearn-color-unfitted-level-0: #fff5e6;\n",
       "  --sklearn-color-unfitted-level-1: #f6e4d2;\n",
       "  --sklearn-color-unfitted-level-2: #ffe0b3;\n",
       "  --sklearn-color-unfitted-level-3: chocolate;\n",
       "  /* Definition of color scheme for fitted estimators */\n",
       "  --sklearn-color-fitted-level-0: #f0f8ff;\n",
       "  --sklearn-color-fitted-level-1: #d4ebff;\n",
       "  --sklearn-color-fitted-level-2: #b3dbfd;\n",
       "  --sklearn-color-fitted-level-3: cornflowerblue;\n",
       "\n",
       "  /* Specific color for light theme */\n",
       "  --sklearn-color-text-on-default-background: var(--sg-text-color, var(--theme-code-foreground, var(--jp-content-font-color1, black)));\n",
       "  --sklearn-color-background: var(--sg-background-color, var(--theme-background, var(--jp-layout-color0, white)));\n",
       "  --sklearn-color-border-box: var(--sg-text-color, var(--theme-code-foreground, var(--jp-content-font-color1, black)));\n",
       "  --sklearn-color-icon: #696969;\n",
       "\n",
       "  @media (prefers-color-scheme: dark) {\n",
       "    /* Redefinition of color scheme for dark theme */\n",
       "    --sklearn-color-text-on-default-background: var(--sg-text-color, var(--theme-code-foreground, var(--jp-content-font-color1, white)));\n",
       "    --sklearn-color-background: var(--sg-background-color, var(--theme-background, var(--jp-layout-color0, #111)));\n",
       "    --sklearn-color-border-box: var(--sg-text-color, var(--theme-code-foreground, var(--jp-content-font-color1, white)));\n",
       "    --sklearn-color-icon: #878787;\n",
       "  }\n",
       "}\n",
       "\n",
       "#sk-container-id-3 {\n",
       "  color: var(--sklearn-color-text);\n",
       "}\n",
       "\n",
       "#sk-container-id-3 pre {\n",
       "  padding: 0;\n",
       "}\n",
       "\n",
       "#sk-container-id-3 input.sk-hidden--visually {\n",
       "  border: 0;\n",
       "  clip: rect(1px 1px 1px 1px);\n",
       "  clip: rect(1px, 1px, 1px, 1px);\n",
       "  height: 1px;\n",
       "  margin: -1px;\n",
       "  overflow: hidden;\n",
       "  padding: 0;\n",
       "  position: absolute;\n",
       "  width: 1px;\n",
       "}\n",
       "\n",
       "#sk-container-id-3 div.sk-dashed-wrapped {\n",
       "  border: 1px dashed var(--sklearn-color-line);\n",
       "  margin: 0 0.4em 0.5em 0.4em;\n",
       "  box-sizing: border-box;\n",
       "  padding-bottom: 0.4em;\n",
       "  background-color: var(--sklearn-color-background);\n",
       "}\n",
       "\n",
       "#sk-container-id-3 div.sk-container {\n",
       "  /* jupyter's `normalize.less` sets `[hidden] { display: none; }`\n",
       "     but bootstrap.min.css set `[hidden] { display: none !important; }`\n",
       "     so we also need the `!important` here to be able to override the\n",
       "     default hidden behavior on the sphinx rendered scikit-learn.org.\n",
       "     See: https://github.com/scikit-learn/scikit-learn/issues/21755 */\n",
       "  display: inline-block !important;\n",
       "  position: relative;\n",
       "}\n",
       "\n",
       "#sk-container-id-3 div.sk-text-repr-fallback {\n",
       "  display: none;\n",
       "}\n",
       "\n",
       "div.sk-parallel-item,\n",
       "div.sk-serial,\n",
       "div.sk-item {\n",
       "  /* draw centered vertical line to link estimators */\n",
       "  background-image: linear-gradient(var(--sklearn-color-text-on-default-background), var(--sklearn-color-text-on-default-background));\n",
       "  background-size: 2px 100%;\n",
       "  background-repeat: no-repeat;\n",
       "  background-position: center center;\n",
       "}\n",
       "\n",
       "/* Parallel-specific style estimator block */\n",
       "\n",
       "#sk-container-id-3 div.sk-parallel-item::after {\n",
       "  content: \"\";\n",
       "  width: 100%;\n",
       "  border-bottom: 2px solid var(--sklearn-color-text-on-default-background);\n",
       "  flex-grow: 1;\n",
       "}\n",
       "\n",
       "#sk-container-id-3 div.sk-parallel {\n",
       "  display: flex;\n",
       "  align-items: stretch;\n",
       "  justify-content: center;\n",
       "  background-color: var(--sklearn-color-background);\n",
       "  position: relative;\n",
       "}\n",
       "\n",
       "#sk-container-id-3 div.sk-parallel-item {\n",
       "  display: flex;\n",
       "  flex-direction: column;\n",
       "}\n",
       "\n",
       "#sk-container-id-3 div.sk-parallel-item:first-child::after {\n",
       "  align-self: flex-end;\n",
       "  width: 50%;\n",
       "}\n",
       "\n",
       "#sk-container-id-3 div.sk-parallel-item:last-child::after {\n",
       "  align-self: flex-start;\n",
       "  width: 50%;\n",
       "}\n",
       "\n",
       "#sk-container-id-3 div.sk-parallel-item:only-child::after {\n",
       "  width: 0;\n",
       "}\n",
       "\n",
       "/* Serial-specific style estimator block */\n",
       "\n",
       "#sk-container-id-3 div.sk-serial {\n",
       "  display: flex;\n",
       "  flex-direction: column;\n",
       "  align-items: center;\n",
       "  background-color: var(--sklearn-color-background);\n",
       "  padding-right: 1em;\n",
       "  padding-left: 1em;\n",
       "}\n",
       "\n",
       "\n",
       "/* Toggleable style: style used for estimator/Pipeline/ColumnTransformer box that is\n",
       "clickable and can be expanded/collapsed.\n",
       "- Pipeline and ColumnTransformer use this feature and define the default style\n",
       "- Estimators will overwrite some part of the style using the `sk-estimator` class\n",
       "*/\n",
       "\n",
       "/* Pipeline and ColumnTransformer style (default) */\n",
       "\n",
       "#sk-container-id-3 div.sk-toggleable {\n",
       "  /* Default theme specific background. It is overwritten whether we have a\n",
       "  specific estimator or a Pipeline/ColumnTransformer */\n",
       "  background-color: var(--sklearn-color-background);\n",
       "}\n",
       "\n",
       "/* Toggleable label */\n",
       "#sk-container-id-3 label.sk-toggleable__label {\n",
       "  cursor: pointer;\n",
       "  display: block;\n",
       "  width: 100%;\n",
       "  margin-bottom: 0;\n",
       "  padding: 0.5em;\n",
       "  box-sizing: border-box;\n",
       "  text-align: center;\n",
       "}\n",
       "\n",
       "#sk-container-id-3 label.sk-toggleable__label-arrow:before {\n",
       "  /* Arrow on the left of the label */\n",
       "  content: \"▸\";\n",
       "  float: left;\n",
       "  margin-right: 0.25em;\n",
       "  color: var(--sklearn-color-icon);\n",
       "}\n",
       "\n",
       "#sk-container-id-3 label.sk-toggleable__label-arrow:hover:before {\n",
       "  color: var(--sklearn-color-text);\n",
       "}\n",
       "\n",
       "/* Toggleable content - dropdown */\n",
       "\n",
       "#sk-container-id-3 div.sk-toggleable__content {\n",
       "  max-height: 0;\n",
       "  max-width: 0;\n",
       "  overflow: hidden;\n",
       "  text-align: left;\n",
       "  /* unfitted */\n",
       "  background-color: var(--sklearn-color-unfitted-level-0);\n",
       "}\n",
       "\n",
       "#sk-container-id-3 div.sk-toggleable__content.fitted {\n",
       "  /* fitted */\n",
       "  background-color: var(--sklearn-color-fitted-level-0);\n",
       "}\n",
       "\n",
       "#sk-container-id-3 div.sk-toggleable__content pre {\n",
       "  margin: 0.2em;\n",
       "  border-radius: 0.25em;\n",
       "  color: var(--sklearn-color-text);\n",
       "  /* unfitted */\n",
       "  background-color: var(--sklearn-color-unfitted-level-0);\n",
       "}\n",
       "\n",
       "#sk-container-id-3 div.sk-toggleable__content.fitted pre {\n",
       "  /* unfitted */\n",
       "  background-color: var(--sklearn-color-fitted-level-0);\n",
       "}\n",
       "\n",
       "#sk-container-id-3 input.sk-toggleable__control:checked~div.sk-toggleable__content {\n",
       "  /* Expand drop-down */\n",
       "  max-height: 200px;\n",
       "  max-width: 100%;\n",
       "  overflow: auto;\n",
       "}\n",
       "\n",
       "#sk-container-id-3 input.sk-toggleable__control:checked~label.sk-toggleable__label-arrow:before {\n",
       "  content: \"▾\";\n",
       "}\n",
       "\n",
       "/* Pipeline/ColumnTransformer-specific style */\n",
       "\n",
       "#sk-container-id-3 div.sk-label input.sk-toggleable__control:checked~label.sk-toggleable__label {\n",
       "  color: var(--sklearn-color-text);\n",
       "  background-color: var(--sklearn-color-unfitted-level-2);\n",
       "}\n",
       "\n",
       "#sk-container-id-3 div.sk-label.fitted input.sk-toggleable__control:checked~label.sk-toggleable__label {\n",
       "  background-color: var(--sklearn-color-fitted-level-2);\n",
       "}\n",
       "\n",
       "/* Estimator-specific style */\n",
       "\n",
       "/* Colorize estimator box */\n",
       "#sk-container-id-3 div.sk-estimator input.sk-toggleable__control:checked~label.sk-toggleable__label {\n",
       "  /* unfitted */\n",
       "  background-color: var(--sklearn-color-unfitted-level-2);\n",
       "}\n",
       "\n",
       "#sk-container-id-3 div.sk-estimator.fitted input.sk-toggleable__control:checked~label.sk-toggleable__label {\n",
       "  /* fitted */\n",
       "  background-color: var(--sklearn-color-fitted-level-2);\n",
       "}\n",
       "\n",
       "#sk-container-id-3 div.sk-label label.sk-toggleable__label,\n",
       "#sk-container-id-3 div.sk-label label {\n",
       "  /* The background is the default theme color */\n",
       "  color: var(--sklearn-color-text-on-default-background);\n",
       "}\n",
       "\n",
       "/* On hover, darken the color of the background */\n",
       "#sk-container-id-3 div.sk-label:hover label.sk-toggleable__label {\n",
       "  color: var(--sklearn-color-text);\n",
       "  background-color: var(--sklearn-color-unfitted-level-2);\n",
       "}\n",
       "\n",
       "/* Label box, darken color on hover, fitted */\n",
       "#sk-container-id-3 div.sk-label.fitted:hover label.sk-toggleable__label.fitted {\n",
       "  color: var(--sklearn-color-text);\n",
       "  background-color: var(--sklearn-color-fitted-level-2);\n",
       "}\n",
       "\n",
       "/* Estimator label */\n",
       "\n",
       "#sk-container-id-3 div.sk-label label {\n",
       "  font-family: monospace;\n",
       "  font-weight: bold;\n",
       "  display: inline-block;\n",
       "  line-height: 1.2em;\n",
       "}\n",
       "\n",
       "#sk-container-id-3 div.sk-label-container {\n",
       "  text-align: center;\n",
       "}\n",
       "\n",
       "/* Estimator-specific */\n",
       "#sk-container-id-3 div.sk-estimator {\n",
       "  font-family: monospace;\n",
       "  border: 1px dotted var(--sklearn-color-border-box);\n",
       "  border-radius: 0.25em;\n",
       "  box-sizing: border-box;\n",
       "  margin-bottom: 0.5em;\n",
       "  /* unfitted */\n",
       "  background-color: var(--sklearn-color-unfitted-level-0);\n",
       "}\n",
       "\n",
       "#sk-container-id-3 div.sk-estimator.fitted {\n",
       "  /* fitted */\n",
       "  background-color: var(--sklearn-color-fitted-level-0);\n",
       "}\n",
       "\n",
       "/* on hover */\n",
       "#sk-container-id-3 div.sk-estimator:hover {\n",
       "  /* unfitted */\n",
       "  background-color: var(--sklearn-color-unfitted-level-2);\n",
       "}\n",
       "\n",
       "#sk-container-id-3 div.sk-estimator.fitted:hover {\n",
       "  /* fitted */\n",
       "  background-color: var(--sklearn-color-fitted-level-2);\n",
       "}\n",
       "\n",
       "/* Specification for estimator info (e.g. \"i\" and \"?\") */\n",
       "\n",
       "/* Common style for \"i\" and \"?\" */\n",
       "\n",
       ".sk-estimator-doc-link,\n",
       "a:link.sk-estimator-doc-link,\n",
       "a:visited.sk-estimator-doc-link {\n",
       "  float: right;\n",
       "  font-size: smaller;\n",
       "  line-height: 1em;\n",
       "  font-family: monospace;\n",
       "  background-color: var(--sklearn-color-background);\n",
       "  border-radius: 1em;\n",
       "  height: 1em;\n",
       "  width: 1em;\n",
       "  text-decoration: none !important;\n",
       "  margin-left: 1ex;\n",
       "  /* unfitted */\n",
       "  border: var(--sklearn-color-unfitted-level-1) 1pt solid;\n",
       "  color: var(--sklearn-color-unfitted-level-1);\n",
       "}\n",
       "\n",
       ".sk-estimator-doc-link.fitted,\n",
       "a:link.sk-estimator-doc-link.fitted,\n",
       "a:visited.sk-estimator-doc-link.fitted {\n",
       "  /* fitted */\n",
       "  border: var(--sklearn-color-fitted-level-1) 1pt solid;\n",
       "  color: var(--sklearn-color-fitted-level-1);\n",
       "}\n",
       "\n",
       "/* On hover */\n",
       "div.sk-estimator:hover .sk-estimator-doc-link:hover,\n",
       ".sk-estimator-doc-link:hover,\n",
       "div.sk-label-container:hover .sk-estimator-doc-link:hover,\n",
       ".sk-estimator-doc-link:hover {\n",
       "  /* unfitted */\n",
       "  background-color: var(--sklearn-color-unfitted-level-3);\n",
       "  color: var(--sklearn-color-background);\n",
       "  text-decoration: none;\n",
       "}\n",
       "\n",
       "div.sk-estimator.fitted:hover .sk-estimator-doc-link.fitted:hover,\n",
       ".sk-estimator-doc-link.fitted:hover,\n",
       "div.sk-label-container:hover .sk-estimator-doc-link.fitted:hover,\n",
       ".sk-estimator-doc-link.fitted:hover {\n",
       "  /* fitted */\n",
       "  background-color: var(--sklearn-color-fitted-level-3);\n",
       "  color: var(--sklearn-color-background);\n",
       "  text-decoration: none;\n",
       "}\n",
       "\n",
       "/* Span, style for the box shown on hovering the info icon */\n",
       ".sk-estimator-doc-link span {\n",
       "  display: none;\n",
       "  z-index: 9999;\n",
       "  position: relative;\n",
       "  font-weight: normal;\n",
       "  right: .2ex;\n",
       "  padding: .5ex;\n",
       "  margin: .5ex;\n",
       "  width: min-content;\n",
       "  min-width: 20ex;\n",
       "  max-width: 50ex;\n",
       "  color: var(--sklearn-color-text);\n",
       "  box-shadow: 2pt 2pt 4pt #999;\n",
       "  /* unfitted */\n",
       "  background: var(--sklearn-color-unfitted-level-0);\n",
       "  border: .5pt solid var(--sklearn-color-unfitted-level-3);\n",
       "}\n",
       "\n",
       ".sk-estimator-doc-link.fitted span {\n",
       "  /* fitted */\n",
       "  background: var(--sklearn-color-fitted-level-0);\n",
       "  border: var(--sklearn-color-fitted-level-3);\n",
       "}\n",
       "\n",
       ".sk-estimator-doc-link:hover span {\n",
       "  display: block;\n",
       "}\n",
       "\n",
       "/* \"?\"-specific style due to the `<a>` HTML tag */\n",
       "\n",
       "#sk-container-id-3 a.estimator_doc_link {\n",
       "  float: right;\n",
       "  font-size: 1rem;\n",
       "  line-height: 1em;\n",
       "  font-family: monospace;\n",
       "  background-color: var(--sklearn-color-background);\n",
       "  border-radius: 1rem;\n",
       "  height: 1rem;\n",
       "  width: 1rem;\n",
       "  text-decoration: none;\n",
       "  /* unfitted */\n",
       "  color: var(--sklearn-color-unfitted-level-1);\n",
       "  border: var(--sklearn-color-unfitted-level-1) 1pt solid;\n",
       "}\n",
       "\n",
       "#sk-container-id-3 a.estimator_doc_link.fitted {\n",
       "  /* fitted */\n",
       "  border: var(--sklearn-color-fitted-level-1) 1pt solid;\n",
       "  color: var(--sklearn-color-fitted-level-1);\n",
       "}\n",
       "\n",
       "/* On hover */\n",
       "#sk-container-id-3 a.estimator_doc_link:hover {\n",
       "  /* unfitted */\n",
       "  background-color: var(--sklearn-color-unfitted-level-3);\n",
       "  color: var(--sklearn-color-background);\n",
       "  text-decoration: none;\n",
       "}\n",
       "\n",
       "#sk-container-id-3 a.estimator_doc_link.fitted:hover {\n",
       "  /* fitted */\n",
       "  background-color: var(--sklearn-color-fitted-level-3);\n",
       "}\n",
       "</style><div id=\"sk-container-id-3\" class=\"sk-top-container\"><div class=\"sk-text-repr-fallback\"><pre>GridSearchCV(cv=5, estimator=Ridge(),\n",
       "             param_grid={&#x27;alpha&#x27;: [0.1, 0.5, 1, 1.5, 2, 2.5, 3]}, scoring=&#x27;r2&#x27;)</pre><b>In a Jupyter environment, please rerun this cell to show the HTML representation or trust the notebook. <br />On GitHub, the HTML representation is unable to render, please try loading this page with nbviewer.org.</b></div><div class=\"sk-container\" hidden><div class=\"sk-item sk-dashed-wrapped\"><div class=\"sk-label-container\"><div class=\"sk-label fitted sk-toggleable\"><input class=\"sk-toggleable__control sk-hidden--visually\" id=\"sk-estimator-id-7\" type=\"checkbox\" ><label for=\"sk-estimator-id-7\" class=\"sk-toggleable__label fitted sk-toggleable__label-arrow fitted\">&nbsp;&nbsp;GridSearchCV<a class=\"sk-estimator-doc-link fitted\" rel=\"noreferrer\" target=\"_blank\" href=\"https://scikit-learn.org/1.5/modules/generated/sklearn.model_selection.GridSearchCV.html\">?<span>Documentation for GridSearchCV</span></a><span class=\"sk-estimator-doc-link fitted\">i<span>Fitted</span></span></label><div class=\"sk-toggleable__content fitted\"><pre>GridSearchCV(cv=5, estimator=Ridge(),\n",
       "             param_grid={&#x27;alpha&#x27;: [0.1, 0.5, 1, 1.5, 2, 2.5, 3]}, scoring=&#x27;r2&#x27;)</pre></div> </div></div><div class=\"sk-parallel\"><div class=\"sk-parallel-item\"><div class=\"sk-item\"><div class=\"sk-label-container\"><div class=\"sk-label fitted sk-toggleable\"><input class=\"sk-toggleable__control sk-hidden--visually\" id=\"sk-estimator-id-8\" type=\"checkbox\" ><label for=\"sk-estimator-id-8\" class=\"sk-toggleable__label fitted sk-toggleable__label-arrow fitted\">best_estimator_: Ridge</label><div class=\"sk-toggleable__content fitted\"><pre>Ridge(alpha=0.1)</pre></div> </div></div><div class=\"sk-serial\"><div class=\"sk-item\"><div class=\"sk-estimator fitted sk-toggleable\"><input class=\"sk-toggleable__control sk-hidden--visually\" id=\"sk-estimator-id-9\" type=\"checkbox\" ><label for=\"sk-estimator-id-9\" class=\"sk-toggleable__label fitted sk-toggleable__label-arrow fitted\">&nbsp;Ridge<a class=\"sk-estimator-doc-link fitted\" rel=\"noreferrer\" target=\"_blank\" href=\"https://scikit-learn.org/1.5/modules/generated/sklearn.linear_model.Ridge.html\">?<span>Documentation for Ridge</span></a></label><div class=\"sk-toggleable__content fitted\"><pre>Ridge(alpha=0.1)</pre></div> </div></div></div></div></div></div></div></div></div>"
      ],
      "text/plain": [
       "GridSearchCV(cv=5, estimator=Ridge(),\n",
       "             param_grid={'alpha': [0.1, 0.5, 1, 1.5, 2, 2.5, 3]}, scoring='r2')"
      ]
     },
     "execution_count": 268,
     "metadata": {},
     "output_type": "execute_result"
    }
   ],
   "source": [
    "param_grid = {'alpha': [0.1, 0.5, 1, 1.5, 2, 2.5, 3]}\n",
    "ridge = Ridge()\n",
    "grid_search = GridSearchCV(ridge, param_grid, cv=5, scoring='r2')\n",
    "grid_search.fit(x_train_ss, y_train)"
   ]
  },
  {
   "cell_type": "code",
   "execution_count": 269,
   "metadata": {},
   "outputs": [
    {
     "name": "stdout",
     "output_type": "stream",
     "text": [
      "Mejor alpha: 0.1\n"
     ]
    }
   ],
   "source": [
    "modelo_combinado = grid_search.best_estimator_\n",
    "print(f\"Mejor alpha: {grid_search.best_params_['alpha']}\")"
   ]
  },
  {
   "cell_type": "code",
   "execution_count": 270,
   "metadata": {},
   "outputs": [],
   "source": [
    "predicciones = modelo_combinado.predict(x_test_ss)\n",
    "r2 = r2_score(y_test, predicciones)\n",
    "rmse = np.sqrt(np.mean((y_test - predicciones)**2))"
   ]
  },
  {
   "cell_type": "code",
   "execution_count": 271,
   "metadata": {},
   "outputs": [
    {
     "name": "stdout",
     "output_type": "stream",
     "text": [
      "R2: 0.8939312666725858, RMSE: 3.4732456779027863\n"
     ]
    }
   ],
   "source": [
    "print(f\"R2: {r2}, RMSE: {rmse}\")"
   ]
  },
  {
   "cell_type": "code",
   "execution_count": 272,
   "metadata": {},
   "outputs": [
    {
     "name": "stdout",
     "output_type": "stream",
     "text": [
      "Pendientes: [0.76069527 9.84702276]\n",
      "Intercepto: 171.82692307692307\n"
     ]
    }
   ],
   "source": [
    "print(f\"Pendientes: {modelo_combinado.coef_}\")\n",
    "print(f\"Intercepto: {modelo_combinado.intercept_}\")"
   ]
  },
  {
   "cell_type": "code",
   "execution_count": 273,
   "metadata": {},
   "outputs": [
    {
     "name": "stderr",
     "output_type": "stream",
     "text": [
      "c:\\Users\\cesar\\anaconda3\\envs\\iteso\\lib\\site-packages\\sklearn\\base.py:493: UserWarning:\n",
      "\n",
      "X does not have valid feature names, but StandardScaler was fitted with feature names\n",
      "\n"
     ]
    }
   ],
   "source": [
    "values = ss.transform([[39,24.5]])"
   ]
  },
  {
   "cell_type": "code",
   "execution_count": 274,
   "metadata": {},
   "outputs": [
    {
     "data": {
      "text/plain": [
       "array([162.61828879])"
      ]
     },
     "execution_count": 274,
     "metadata": {},
     "output_type": "execute_result"
    }
   ],
   "source": [
    "modelo_combinado.predict(values)"
   ]
  },
  {
   "cell_type": "code",
   "execution_count": 275,
   "metadata": {},
   "outputs": [
    {
     "name": "stderr",
     "output_type": "stream",
     "text": [
      "c:\\Users\\cesar\\anaconda3\\envs\\iteso\\lib\\site-packages\\sklearn\\base.py:493: UserWarning:\n",
      "\n",
      "X does not have valid feature names, but StandardScaler was fitted with feature names\n",
      "\n"
     ]
    },
    {
     "data": {
      "application/vnd.plotly.v1+json": {
       "config": {
        "plotlyServerURL": "https://plot.ly"
       },
       "data": [
        {
         "marker": {
          "color": "red",
          "opacity": 0.7,
          "size": 8
         },
         "mode": "markers",
         "type": "scatter3d",
         "x": [
          42,
          45,
          44,
          39,
          50,
          55,
          46,
          45,
          41,
          50,
          42,
          40,
          46,
          53,
          38,
          48,
          47,
          42,
          51,
          34,
          38,
          43,
          33,
          39,
          40,
          42,
          49,
          47,
          53,
          46,
          38,
          43,
          42,
          39,
          37,
          42,
          56,
          41,
          49,
          49,
          43,
          44,
          44,
          56,
          61,
          38,
          43,
          42,
          38,
          39,
          42,
          45,
          47,
          47,
          44,
          37,
          47,
          48,
          44,
          41,
          51,
          57,
          51,
          50,
          39,
          50,
          42,
          48,
          39,
          47,
          45,
          44,
          44,
          49,
          43,
          43,
          50,
          51,
          48,
          42,
          40,
          36,
          47,
          45,
          36,
          36,
          48,
          49,
          49,
          55,
          44,
          47,
          46,
          39,
          42,
          44,
          36,
          44,
          48,
          42,
          45,
          40,
          42,
          45
         ],
         "y": [
          24,
          29,
          23,
          23,
          28,
          29.9,
          28,
          26,
          24,
          28.8,
          25,
          24,
          28,
          29.5,
          25,
          28,
          28,
          26,
          29.1,
          22,
          23,
          25,
          23,
          24,
          26,
          27,
          27.5,
          28,
          29.5,
          24,
          24,
          27,
          27,
          24.5,
          23,
          27,
          30,
          24,
          29,
          26.5,
          25,
          27,
          23,
          30.1,
          31,
          23,
          25,
          27,
          23,
          24,
          25,
          26.5,
          27,
          27.9,
          28,
          23,
          27.7,
          27,
          24.5,
          22.5,
          29,
          30.1,
          28.9,
          28,
          22.5,
          28.9,
          26,
          25,
          24,
          27,
          27.5,
          26,
          26.5,
          27.5,
          27,
          25,
          28.6,
          29,
          28,
          24,
          24,
          22,
          27,
          28,
          22.5,
          27,
          27.5,
          26.5,
          28.5,
          28,
          24,
          27.9,
          28,
          24,
          26,
          27,
          23,
          27.3,
          28.1,
          24,
          28,
          27,
          27,
          26
         ],
         "z": [
          160,
          178,
          162,
          156,
          180,
          189,
          179,
          165,
          158,
          185,
          162,
          157,
          182,
          188,
          170,
          182,
          180,
          170,
          186,
          153,
          155,
          172,
          163,
          157,
          170,
          174,
          178,
          181,
          188,
          170,
          156,
          176,
          174,
          166,
          161,
          177,
          189,
          160,
          183,
          166,
          168,
          177,
          162,
          189,
          193,
          156,
          163,
          177,
          155,
          157,
          160,
          170,
          174,
          180,
          178,
          154,
          180,
          172,
          162,
          155,
          184,
          189,
          185,
          173,
          150,
          185,
          174,
          171,
          157,
          168,
          172,
          161,
          173,
          172,
          176,
          172,
          184,
          186,
          176,
          162,
          158,
          153,
          174,
          178,
          153,
          170,
          171,
          166,
          183,
          185,
          160,
          180,
          179,
          157,
          170,
          177,
          164,
          178,
          182,
          162,
          178,
          177,
          175,
          164
         ]
        },
        {
         "colorscale": [
          [
           0,
           "#440154"
          ],
          [
           0.1111111111111111,
           "#482878"
          ],
          [
           0.2222222222222222,
           "#3e4989"
          ],
          [
           0.3333333333333333,
           "#31688e"
          ],
          [
           0.4444444444444444,
           "#26828e"
          ],
          [
           0.5555555555555556,
           "#1f9e89"
          ],
          [
           0.6666666666666666,
           "#35b779"
          ],
          [
           0.7777777777777778,
           "#6ece58"
          ],
          [
           0.8888888888888888,
           "#b5de2b"
          ],
          [
           1,
           "#fde725"
          ]
         ],
         "opacity": 0.5,
         "type": "surface",
         "x": [
          [
           33,
           34.473684210526315,
           35.94736842105263,
           37.421052631578945,
           38.89473684210526,
           40.368421052631575,
           41.84210526315789,
           43.31578947368421,
           44.78947368421053,
           46.26315789473684,
           47.73684210526316,
           49.21052631578947,
           50.68421052631579,
           52.1578947368421,
           53.631578947368425,
           55.10526315789474,
           56.578947368421055,
           58.05263157894737,
           59.526315789473685,
           61
          ],
          [
           33,
           34.473684210526315,
           35.94736842105263,
           37.421052631578945,
           38.89473684210526,
           40.368421052631575,
           41.84210526315789,
           43.31578947368421,
           44.78947368421053,
           46.26315789473684,
           47.73684210526316,
           49.21052631578947,
           50.68421052631579,
           52.1578947368421,
           53.631578947368425,
           55.10526315789474,
           56.578947368421055,
           58.05263157894737,
           59.526315789473685,
           61
          ],
          [
           33,
           34.473684210526315,
           35.94736842105263,
           37.421052631578945,
           38.89473684210526,
           40.368421052631575,
           41.84210526315789,
           43.31578947368421,
           44.78947368421053,
           46.26315789473684,
           47.73684210526316,
           49.21052631578947,
           50.68421052631579,
           52.1578947368421,
           53.631578947368425,
           55.10526315789474,
           56.578947368421055,
           58.05263157894737,
           59.526315789473685,
           61
          ],
          [
           33,
           34.473684210526315,
           35.94736842105263,
           37.421052631578945,
           38.89473684210526,
           40.368421052631575,
           41.84210526315789,
           43.31578947368421,
           44.78947368421053,
           46.26315789473684,
           47.73684210526316,
           49.21052631578947,
           50.68421052631579,
           52.1578947368421,
           53.631578947368425,
           55.10526315789474,
           56.578947368421055,
           58.05263157894737,
           59.526315789473685,
           61
          ],
          [
           33,
           34.473684210526315,
           35.94736842105263,
           37.421052631578945,
           38.89473684210526,
           40.368421052631575,
           41.84210526315789,
           43.31578947368421,
           44.78947368421053,
           46.26315789473684,
           47.73684210526316,
           49.21052631578947,
           50.68421052631579,
           52.1578947368421,
           53.631578947368425,
           55.10526315789474,
           56.578947368421055,
           58.05263157894737,
           59.526315789473685,
           61
          ],
          [
           33,
           34.473684210526315,
           35.94736842105263,
           37.421052631578945,
           38.89473684210526,
           40.368421052631575,
           41.84210526315789,
           43.31578947368421,
           44.78947368421053,
           46.26315789473684,
           47.73684210526316,
           49.21052631578947,
           50.68421052631579,
           52.1578947368421,
           53.631578947368425,
           55.10526315789474,
           56.578947368421055,
           58.05263157894737,
           59.526315789473685,
           61
          ],
          [
           33,
           34.473684210526315,
           35.94736842105263,
           37.421052631578945,
           38.89473684210526,
           40.368421052631575,
           41.84210526315789,
           43.31578947368421,
           44.78947368421053,
           46.26315789473684,
           47.73684210526316,
           49.21052631578947,
           50.68421052631579,
           52.1578947368421,
           53.631578947368425,
           55.10526315789474,
           56.578947368421055,
           58.05263157894737,
           59.526315789473685,
           61
          ],
          [
           33,
           34.473684210526315,
           35.94736842105263,
           37.421052631578945,
           38.89473684210526,
           40.368421052631575,
           41.84210526315789,
           43.31578947368421,
           44.78947368421053,
           46.26315789473684,
           47.73684210526316,
           49.21052631578947,
           50.68421052631579,
           52.1578947368421,
           53.631578947368425,
           55.10526315789474,
           56.578947368421055,
           58.05263157894737,
           59.526315789473685,
           61
          ],
          [
           33,
           34.473684210526315,
           35.94736842105263,
           37.421052631578945,
           38.89473684210526,
           40.368421052631575,
           41.84210526315789,
           43.31578947368421,
           44.78947368421053,
           46.26315789473684,
           47.73684210526316,
           49.21052631578947,
           50.68421052631579,
           52.1578947368421,
           53.631578947368425,
           55.10526315789474,
           56.578947368421055,
           58.05263157894737,
           59.526315789473685,
           61
          ],
          [
           33,
           34.473684210526315,
           35.94736842105263,
           37.421052631578945,
           38.89473684210526,
           40.368421052631575,
           41.84210526315789,
           43.31578947368421,
           44.78947368421053,
           46.26315789473684,
           47.73684210526316,
           49.21052631578947,
           50.68421052631579,
           52.1578947368421,
           53.631578947368425,
           55.10526315789474,
           56.578947368421055,
           58.05263157894737,
           59.526315789473685,
           61
          ],
          [
           33,
           34.473684210526315,
           35.94736842105263,
           37.421052631578945,
           38.89473684210526,
           40.368421052631575,
           41.84210526315789,
           43.31578947368421,
           44.78947368421053,
           46.26315789473684,
           47.73684210526316,
           49.21052631578947,
           50.68421052631579,
           52.1578947368421,
           53.631578947368425,
           55.10526315789474,
           56.578947368421055,
           58.05263157894737,
           59.526315789473685,
           61
          ],
          [
           33,
           34.473684210526315,
           35.94736842105263,
           37.421052631578945,
           38.89473684210526,
           40.368421052631575,
           41.84210526315789,
           43.31578947368421,
           44.78947368421053,
           46.26315789473684,
           47.73684210526316,
           49.21052631578947,
           50.68421052631579,
           52.1578947368421,
           53.631578947368425,
           55.10526315789474,
           56.578947368421055,
           58.05263157894737,
           59.526315789473685,
           61
          ],
          [
           33,
           34.473684210526315,
           35.94736842105263,
           37.421052631578945,
           38.89473684210526,
           40.368421052631575,
           41.84210526315789,
           43.31578947368421,
           44.78947368421053,
           46.26315789473684,
           47.73684210526316,
           49.21052631578947,
           50.68421052631579,
           52.1578947368421,
           53.631578947368425,
           55.10526315789474,
           56.578947368421055,
           58.05263157894737,
           59.526315789473685,
           61
          ],
          [
           33,
           34.473684210526315,
           35.94736842105263,
           37.421052631578945,
           38.89473684210526,
           40.368421052631575,
           41.84210526315789,
           43.31578947368421,
           44.78947368421053,
           46.26315789473684,
           47.73684210526316,
           49.21052631578947,
           50.68421052631579,
           52.1578947368421,
           53.631578947368425,
           55.10526315789474,
           56.578947368421055,
           58.05263157894737,
           59.526315789473685,
           61
          ],
          [
           33,
           34.473684210526315,
           35.94736842105263,
           37.421052631578945,
           38.89473684210526,
           40.368421052631575,
           41.84210526315789,
           43.31578947368421,
           44.78947368421053,
           46.26315789473684,
           47.73684210526316,
           49.21052631578947,
           50.68421052631579,
           52.1578947368421,
           53.631578947368425,
           55.10526315789474,
           56.578947368421055,
           58.05263157894737,
           59.526315789473685,
           61
          ],
          [
           33,
           34.473684210526315,
           35.94736842105263,
           37.421052631578945,
           38.89473684210526,
           40.368421052631575,
           41.84210526315789,
           43.31578947368421,
           44.78947368421053,
           46.26315789473684,
           47.73684210526316,
           49.21052631578947,
           50.68421052631579,
           52.1578947368421,
           53.631578947368425,
           55.10526315789474,
           56.578947368421055,
           58.05263157894737,
           59.526315789473685,
           61
          ],
          [
           33,
           34.473684210526315,
           35.94736842105263,
           37.421052631578945,
           38.89473684210526,
           40.368421052631575,
           41.84210526315789,
           43.31578947368421,
           44.78947368421053,
           46.26315789473684,
           47.73684210526316,
           49.21052631578947,
           50.68421052631579,
           52.1578947368421,
           53.631578947368425,
           55.10526315789474,
           56.578947368421055,
           58.05263157894737,
           59.526315789473685,
           61
          ],
          [
           33,
           34.473684210526315,
           35.94736842105263,
           37.421052631578945,
           38.89473684210526,
           40.368421052631575,
           41.84210526315789,
           43.31578947368421,
           44.78947368421053,
           46.26315789473684,
           47.73684210526316,
           49.21052631578947,
           50.68421052631579,
           52.1578947368421,
           53.631578947368425,
           55.10526315789474,
           56.578947368421055,
           58.05263157894737,
           59.526315789473685,
           61
          ],
          [
           33,
           34.473684210526315,
           35.94736842105263,
           37.421052631578945,
           38.89473684210526,
           40.368421052631575,
           41.84210526315789,
           43.31578947368421,
           44.78947368421053,
           46.26315789473684,
           47.73684210526316,
           49.21052631578947,
           50.68421052631579,
           52.1578947368421,
           53.631578947368425,
           55.10526315789474,
           56.578947368421055,
           58.05263157894737,
           59.526315789473685,
           61
          ],
          [
           33,
           34.473684210526315,
           35.94736842105263,
           37.421052631578945,
           38.89473684210526,
           40.368421052631575,
           41.84210526315789,
           43.31578947368421,
           44.78947368421053,
           46.26315789473684,
           47.73684210526316,
           49.21052631578947,
           50.68421052631579,
           52.1578947368421,
           53.631578947368425,
           55.10526315789474,
           56.578947368421055,
           58.05263157894737,
           59.526315789473685,
           61
          ]
         ],
         "y": [
          [
           21,
           21,
           21,
           21,
           21,
           21,
           21,
           21,
           21,
           21,
           21,
           21,
           21,
           21,
           21,
           21,
           21,
           21,
           21,
           21
          ],
          [
           21.48421052631579,
           21.48421052631579,
           21.48421052631579,
           21.48421052631579,
           21.48421052631579,
           21.48421052631579,
           21.48421052631579,
           21.48421052631579,
           21.48421052631579,
           21.48421052631579,
           21.48421052631579,
           21.48421052631579,
           21.48421052631579,
           21.48421052631579,
           21.48421052631579,
           21.48421052631579,
           21.48421052631579,
           21.48421052631579,
           21.48421052631579,
           21.48421052631579
          ],
          [
           21.96842105263158,
           21.96842105263158,
           21.96842105263158,
           21.96842105263158,
           21.96842105263158,
           21.96842105263158,
           21.96842105263158,
           21.96842105263158,
           21.96842105263158,
           21.96842105263158,
           21.96842105263158,
           21.96842105263158,
           21.96842105263158,
           21.96842105263158,
           21.96842105263158,
           21.96842105263158,
           21.96842105263158,
           21.96842105263158,
           21.96842105263158,
           21.96842105263158
          ],
          [
           22.45263157894737,
           22.45263157894737,
           22.45263157894737,
           22.45263157894737,
           22.45263157894737,
           22.45263157894737,
           22.45263157894737,
           22.45263157894737,
           22.45263157894737,
           22.45263157894737,
           22.45263157894737,
           22.45263157894737,
           22.45263157894737,
           22.45263157894737,
           22.45263157894737,
           22.45263157894737,
           22.45263157894737,
           22.45263157894737,
           22.45263157894737,
           22.45263157894737
          ],
          [
           22.936842105263157,
           22.936842105263157,
           22.936842105263157,
           22.936842105263157,
           22.936842105263157,
           22.936842105263157,
           22.936842105263157,
           22.936842105263157,
           22.936842105263157,
           22.936842105263157,
           22.936842105263157,
           22.936842105263157,
           22.936842105263157,
           22.936842105263157,
           22.936842105263157,
           22.936842105263157,
           22.936842105263157,
           22.936842105263157,
           22.936842105263157,
           22.936842105263157
          ],
          [
           23.421052631578945,
           23.421052631578945,
           23.421052631578945,
           23.421052631578945,
           23.421052631578945,
           23.421052631578945,
           23.421052631578945,
           23.421052631578945,
           23.421052631578945,
           23.421052631578945,
           23.421052631578945,
           23.421052631578945,
           23.421052631578945,
           23.421052631578945,
           23.421052631578945,
           23.421052631578945,
           23.421052631578945,
           23.421052631578945,
           23.421052631578945,
           23.421052631578945
          ],
          [
           23.905263157894737,
           23.905263157894737,
           23.905263157894737,
           23.905263157894737,
           23.905263157894737,
           23.905263157894737,
           23.905263157894737,
           23.905263157894737,
           23.905263157894737,
           23.905263157894737,
           23.905263157894737,
           23.905263157894737,
           23.905263157894737,
           23.905263157894737,
           23.905263157894737,
           23.905263157894737,
           23.905263157894737,
           23.905263157894737,
           23.905263157894737,
           23.905263157894737
          ],
          [
           24.389473684210525,
           24.389473684210525,
           24.389473684210525,
           24.389473684210525,
           24.389473684210525,
           24.389473684210525,
           24.389473684210525,
           24.389473684210525,
           24.389473684210525,
           24.389473684210525,
           24.389473684210525,
           24.389473684210525,
           24.389473684210525,
           24.389473684210525,
           24.389473684210525,
           24.389473684210525,
           24.389473684210525,
           24.389473684210525,
           24.389473684210525,
           24.389473684210525
          ],
          [
           24.873684210526314,
           24.873684210526314,
           24.873684210526314,
           24.873684210526314,
           24.873684210526314,
           24.873684210526314,
           24.873684210526314,
           24.873684210526314,
           24.873684210526314,
           24.873684210526314,
           24.873684210526314,
           24.873684210526314,
           24.873684210526314,
           24.873684210526314,
           24.873684210526314,
           24.873684210526314,
           24.873684210526314,
           24.873684210526314,
           24.873684210526314,
           24.873684210526314
          ],
          [
           25.357894736842105,
           25.357894736842105,
           25.357894736842105,
           25.357894736842105,
           25.357894736842105,
           25.357894736842105,
           25.357894736842105,
           25.357894736842105,
           25.357894736842105,
           25.357894736842105,
           25.357894736842105,
           25.357894736842105,
           25.357894736842105,
           25.357894736842105,
           25.357894736842105,
           25.357894736842105,
           25.357894736842105,
           25.357894736842105,
           25.357894736842105,
           25.357894736842105
          ],
          [
           25.842105263157894,
           25.842105263157894,
           25.842105263157894,
           25.842105263157894,
           25.842105263157894,
           25.842105263157894,
           25.842105263157894,
           25.842105263157894,
           25.842105263157894,
           25.842105263157894,
           25.842105263157894,
           25.842105263157894,
           25.842105263157894,
           25.842105263157894,
           25.842105263157894,
           25.842105263157894,
           25.842105263157894,
           25.842105263157894,
           25.842105263157894,
           25.842105263157894
          ],
          [
           26.326315789473682,
           26.326315789473682,
           26.326315789473682,
           26.326315789473682,
           26.326315789473682,
           26.326315789473682,
           26.326315789473682,
           26.326315789473682,
           26.326315789473682,
           26.326315789473682,
           26.326315789473682,
           26.326315789473682,
           26.326315789473682,
           26.326315789473682,
           26.326315789473682,
           26.326315789473682,
           26.326315789473682,
           26.326315789473682,
           26.326315789473682,
           26.326315789473682
          ],
          [
           26.810526315789474,
           26.810526315789474,
           26.810526315789474,
           26.810526315789474,
           26.810526315789474,
           26.810526315789474,
           26.810526315789474,
           26.810526315789474,
           26.810526315789474,
           26.810526315789474,
           26.810526315789474,
           26.810526315789474,
           26.810526315789474,
           26.810526315789474,
           26.810526315789474,
           26.810526315789474,
           26.810526315789474,
           26.810526315789474,
           26.810526315789474,
           26.810526315789474
          ],
          [
           27.294736842105262,
           27.294736842105262,
           27.294736842105262,
           27.294736842105262,
           27.294736842105262,
           27.294736842105262,
           27.294736842105262,
           27.294736842105262,
           27.294736842105262,
           27.294736842105262,
           27.294736842105262,
           27.294736842105262,
           27.294736842105262,
           27.294736842105262,
           27.294736842105262,
           27.294736842105262,
           27.294736842105262,
           27.294736842105262,
           27.294736842105262,
           27.294736842105262
          ],
          [
           27.77894736842105,
           27.77894736842105,
           27.77894736842105,
           27.77894736842105,
           27.77894736842105,
           27.77894736842105,
           27.77894736842105,
           27.77894736842105,
           27.77894736842105,
           27.77894736842105,
           27.77894736842105,
           27.77894736842105,
           27.77894736842105,
           27.77894736842105,
           27.77894736842105,
           27.77894736842105,
           27.77894736842105,
           27.77894736842105,
           27.77894736842105,
           27.77894736842105
          ],
          [
           28.263157894736842,
           28.263157894736842,
           28.263157894736842,
           28.263157894736842,
           28.263157894736842,
           28.263157894736842,
           28.263157894736842,
           28.263157894736842,
           28.263157894736842,
           28.263157894736842,
           28.263157894736842,
           28.263157894736842,
           28.263157894736842,
           28.263157894736842,
           28.263157894736842,
           28.263157894736842,
           28.263157894736842,
           28.263157894736842,
           28.263157894736842,
           28.263157894736842
          ],
          [
           28.74736842105263,
           28.74736842105263,
           28.74736842105263,
           28.74736842105263,
           28.74736842105263,
           28.74736842105263,
           28.74736842105263,
           28.74736842105263,
           28.74736842105263,
           28.74736842105263,
           28.74736842105263,
           28.74736842105263,
           28.74736842105263,
           28.74736842105263,
           28.74736842105263,
           28.74736842105263,
           28.74736842105263,
           28.74736842105263,
           28.74736842105263,
           28.74736842105263
          ],
          [
           29.23157894736842,
           29.23157894736842,
           29.23157894736842,
           29.23157894736842,
           29.23157894736842,
           29.23157894736842,
           29.23157894736842,
           29.23157894736842,
           29.23157894736842,
           29.23157894736842,
           29.23157894736842,
           29.23157894736842,
           29.23157894736842,
           29.23157894736842,
           29.23157894736842,
           29.23157894736842,
           29.23157894736842,
           29.23157894736842,
           29.23157894736842,
           29.23157894736842
          ],
          [
           29.71578947368421,
           29.71578947368421,
           29.71578947368421,
           29.71578947368421,
           29.71578947368421,
           29.71578947368421,
           29.71578947368421,
           29.71578947368421,
           29.71578947368421,
           29.71578947368421,
           29.71578947368421,
           29.71578947368421,
           29.71578947368421,
           29.71578947368421,
           29.71578947368421,
           29.71578947368421,
           29.71578947368421,
           29.71578947368421,
           29.71578947368421,
           29.71578947368421
          ],
          [
           30.2,
           30.2,
           30.2,
           30.2,
           30.2,
           30.2,
           30.2,
           30.2,
           30.2,
           30.2,
           30.2,
           30.2,
           30.2,
           30.2,
           30.2,
           30.2,
           30.2,
           30.2,
           30.2,
           30.2
          ]
         ],
         "z": [
          [
           146.29798405253092,
           146.50832207093742,
           146.71866008934393,
           146.92899810775046,
           147.13933612615696,
           147.3496741445635,
           147.56001216297,
           147.7703501813765,
           147.98068819978303,
           148.19102621818953,
           148.40136423659604,
           148.61170225500257,
           148.82204027340907,
           149.03237829181558,
           149.2427163102221,
           149.4530543286286,
           149.66339234703514,
           149.87373036544165,
           150.08406838384815,
           150.29440640225468
          ],
          [
           148.43735461401698,
           148.64769263242349,
           148.85803065083,
           149.06836866923652,
           149.27870668764302,
           149.48904470604953,
           149.69938272445606,
           149.90972074286256,
           150.1200587612691,
           150.3303967796756,
           150.5407347980821,
           150.75107281648863,
           150.96141083489513,
           151.17174885330166,
           151.38208687170817,
           151.59242489011467,
           151.8027629085212,
           152.0131009269277,
           152.22343894533424,
           152.43377696374074
          ],
          [
           150.57672517550304,
           150.78706319390955,
           150.99740121231608,
           151.20773923072258,
           151.4180772491291,
           151.62841526753562,
           151.83875328594212,
           152.04909130434865,
           152.25942932275515,
           152.46976734116166,
           152.6801053595682,
           152.8904433779747,
           153.1007813963812,
           153.31111941478773,
           153.52145743319423,
           153.73179545160076,
           153.94213347000726,
           154.15247148841377,
           154.3628095068203,
           154.5731475252268
          ],
          [
           152.7160957369891,
           152.9264337553956,
           153.13677177380214,
           153.34710979220864,
           153.55744781061514,
           153.76778582902168,
           153.97812384742818,
           154.1884618658347,
           154.3987998842412,
           154.60913790264772,
           154.81947592105425,
           155.02981393946075,
           155.24015195786725,
           155.4504899762738,
           155.6608279946803,
           155.87116601308682,
           156.08150403149332,
           156.29184204989983,
           156.50218006830636,
           156.71251808671286
          ],
          [
           154.85546629847516,
           155.06580431688167,
           155.27614233528817,
           155.4864803536947,
           155.6968183721012,
           155.90715639050774,
           156.11749440891424,
           156.32783242732074,
           156.53817044572727,
           156.74850846413378,
           156.95884648254028,
           157.1691845009468,
           157.37952251935332,
           157.58986053775985,
           157.80019855616635,
           158.01053657457285,
           158.22087459297938,
           158.4312126113859,
           158.6415506297924,
           158.85188864819892
          ],
          [
           156.9948368599612,
           157.20517487836773,
           157.41551289677423,
           157.62585091518076,
           157.83618893358727,
           158.04652695199377,
           158.2568649704003,
           158.4672029888068,
           158.67754100721334,
           158.88787902561984,
           159.09821704402634,
           159.30855506243287,
           159.51889308083938,
           159.7292310992459,
           159.9395691176524,
           160.1499071360589,
           160.36024515446545,
           160.57058317287195,
           160.78092119127845,
           160.99125920968498
          ],
          [
           159.1342074214473,
           159.3445454398538,
           159.55488345826032,
           159.76522147666682,
           159.97555949507336,
           160.18589751347986,
           160.39623553188636,
           160.6065735502929,
           160.8169115686994,
           161.0272495871059,
           161.23758760551243,
           161.44792562391893,
           161.65826364232544,
           161.86860166073197,
           162.07893967913847,
           162.289277697545,
           162.4996157159515,
           162.709953734358,
           162.92029175276454,
           163.13062977117104
          ],
          [
           161.27357798293335,
           161.48391600133985,
           161.69425401974638,
           161.90459203815288,
           162.1149300565594,
           162.32526807496592,
           162.53560609337242,
           162.74594411177895,
           162.95628213018546,
           163.16662014859196,
           163.3769581669985,
           163.587296185405,
           163.7976342038115,
           164.00797222221803,
           164.21831024062453,
           164.42864825903106,
           164.63898627743757,
           164.84932429584407,
           165.0596623142506,
           165.2700003326571
          ],
          [
           163.4129485444194,
           163.6232865628259,
           163.8336245812324,
           164.04396259963895,
           164.25430061804545,
           164.46463863645198,
           164.67497665485848,
           164.885314673265,
           165.09565269167152,
           165.30599071007802,
           165.51632872848455,
           165.72666674689106,
           165.93700476529756,
           166.1473427837041,
           166.3576808021106,
           166.5680188205171,
           166.77835683892363,
           166.98869485733013,
           167.19903287573666,
           167.40937089414317
          ],
          [
           165.55231910590547,
           165.76265712431197,
           165.9729951427185,
           166.183333161125,
           166.39367117953154,
           166.60400919793804,
           166.81434721634454,
           167.02468523475108,
           167.23502325315758,
           167.4453612715641,
           167.6556992899706,
           167.86603730837712,
           168.07637532678365,
           168.28671334519015,
           168.49705136359665,
           168.70738938200319,
           168.9177274004097,
           169.12806541881622,
           169.33840343722272,
           169.54874145562923
          ],
          [
           167.69168966739153,
           167.90202768579803,
           168.11236570420456,
           168.32270372261107,
           168.5330417410176,
           168.7433797594241,
           168.9537177778306,
           169.16405579623714,
           169.37439381464364,
           169.58473183305014,
           169.79506985145667,
           170.00540786986318,
           170.2157458882697,
           170.4260839066762,
           170.63642192508271,
           170.84675994348925,
           171.05709796189575,
           171.26743598030225,
           171.47777399870878,
           171.6881120171153
          ],
          [
           169.8310602288776,
           170.0413982472841,
           170.25173626569062,
           170.46207428409713,
           170.67241230250363,
           170.88275032091016,
           171.09308833931667,
           171.3034263577232,
           171.5137643761297,
           171.7241023945362,
           171.93444041294273,
           172.14477843134924,
           172.35511644975574,
           172.56545446816227,
           172.77579248656878,
           172.9861305049753,
           173.1964685233818,
           173.4068065417883,
           173.61714456019484,
           173.82748257860135
          ],
          [
           171.97043079036365,
           172.18076880877018,
           172.39110682717669,
           172.6014448455832,
           172.81178286398972,
           173.02212088239622,
           173.23245890080275,
           173.44279691920926,
           173.65313493761576,
           173.8634729560223,
           174.0738109744288,
           174.2841489928353,
           174.49448701124183,
           174.70482502964833,
           174.91516304805486,
           175.12550106646137,
           175.33583908486787,
           175.5461771032744,
           175.7565151216809,
           175.96685314008744
          ],
          [
           174.1098013518497,
           174.32013937025624,
           174.53047738866275,
           174.74081540706925,
           174.95115342547578,
           175.16149144388228,
           175.3718294622888,
           175.58216748069532,
           175.79250549910182,
           176.00284351750835,
           176.21318153591486,
           176.42351955432136,
           176.6338575727279,
           176.8441955911344,
           177.0545336095409,
           177.26487162794743,
           177.47520964635393,
           177.68554766476046,
           177.89588568316697,
           178.10622370157347
          ],
          [
           176.24917191333577,
           176.45950993174228,
           176.6698479501488,
           176.8801859685553,
           177.0905239869618,
           177.30086200536834,
           177.51120002377485,
           177.72153804218138,
           177.93187606058788,
           178.14221407899439,
           178.35255209740092,
           178.56289011580742,
           178.77322813421395,
           178.98356615262045,
           179.19390417102696,
           179.4042421894335,
           179.61458020784,
           179.8249182262465,
           180.03525624465303,
           180.24559426305953
          ],
          [
           178.38854247482183,
           178.59888049322836,
           178.80921851163487,
           179.0195565300414,
           179.2298945484479,
           179.4402325668544,
           179.65057058526094,
           179.86090860366744,
           180.07124662207394,
           180.28158464048047,
           180.49192265888698,
           180.7022606772935,
           180.9125986957,
           181.12293671410652,
           181.33327473251305,
           181.54361275091955,
           181.75395076932608,
           181.96428878773258,
           182.1746268061391,
           182.38496482454562
          ],
          [
           180.5279130363079,
           180.73825105471442,
           180.94858907312093,
           181.15892709152743,
           181.36926510993396,
           181.57960312834047,
           181.789941146747,
           182.0002791651535,
           182.21061718356,
           182.42095520196654,
           182.63129322037304,
           182.84163123877954,
           183.05196925718607,
           183.26230727559258,
           183.4726452939991,
           183.6829833124056,
           183.8933213308121,
           184.10365934921865,
           184.31399736762515,
           184.52433538603168
          ],
          [
           182.66728359779395,
           182.87762161620049,
           183.087959634607,
           183.2982976530135,
           183.50863567142002,
           183.71897368982653,
           183.92931170823303,
           184.13964972663956,
           184.34998774504606,
           184.56032576345257,
           184.7706637818591,
           184.9810018002656,
           185.19133981867213,
           185.40167783707864,
           185.61201585548514,
           185.82235387389167,
           186.03269189229817,
           186.2430299107047,
           186.4533679291112,
           186.6637059475177
          ],
          [
           184.80665415928001,
           185.01699217768655,
           185.22733019609305,
           185.43766821449958,
           185.64800623290608,
           185.8583442513126,
           186.06868226971912,
           186.27902028812562,
           186.48935830653215,
           186.69969632493866,
           186.91003434334516,
           187.1203723617517,
           187.3307103801582,
           187.54104839856473,
           187.75138641697123,
           187.96172443537773,
           188.17206245378426,
           188.38240047219077,
           188.59273849059727,
           188.8030765090038
          ],
          [
           186.9460247207661,
           187.1563627391726,
           187.3667007575791,
           187.57703877598564,
           187.78737679439215,
           187.99771481279865,
           188.20805283120518,
           188.41839084961168,
           188.6287288680182,
           188.83906688642472,
           189.04940490483122,
           189.25974292323775,
           189.47008094164426,
           189.68041896005076,
           189.8907569784573,
           190.1010949968638,
           190.31143301527032,
           190.52177103367683,
           190.73210905208333,
           190.94244707048986
          ]
         ]
        }
       ],
       "layout": {
        "scene": {
         "xaxis": {
          "title": {
           "text": "Ancho"
          }
         },
         "yaxis": {
          "title": {
           "text": "Pie"
          }
         },
         "zaxis": {
          "title": {
           "text": "Altura"
          }
         }
        },
        "template": {
         "data": {
          "bar": [
           {
            "error_x": {
             "color": "#2a3f5f"
            },
            "error_y": {
             "color": "#2a3f5f"
            },
            "marker": {
             "line": {
              "color": "#E5ECF6",
              "width": 0.5
             },
             "pattern": {
              "fillmode": "overlay",
              "size": 10,
              "solidity": 0.2
             }
            },
            "type": "bar"
           }
          ],
          "barpolar": [
           {
            "marker": {
             "line": {
              "color": "#E5ECF6",
              "width": 0.5
             },
             "pattern": {
              "fillmode": "overlay",
              "size": 10,
              "solidity": 0.2
             }
            },
            "type": "barpolar"
           }
          ],
          "carpet": [
           {
            "aaxis": {
             "endlinecolor": "#2a3f5f",
             "gridcolor": "white",
             "linecolor": "white",
             "minorgridcolor": "white",
             "startlinecolor": "#2a3f5f"
            },
            "baxis": {
             "endlinecolor": "#2a3f5f",
             "gridcolor": "white",
             "linecolor": "white",
             "minorgridcolor": "white",
             "startlinecolor": "#2a3f5f"
            },
            "type": "carpet"
           }
          ],
          "choropleth": [
           {
            "colorbar": {
             "outlinewidth": 0,
             "ticks": ""
            },
            "type": "choropleth"
           }
          ],
          "contour": [
           {
            "colorbar": {
             "outlinewidth": 0,
             "ticks": ""
            },
            "colorscale": [
             [
              0,
              "#0d0887"
             ],
             [
              0.1111111111111111,
              "#46039f"
             ],
             [
              0.2222222222222222,
              "#7201a8"
             ],
             [
              0.3333333333333333,
              "#9c179e"
             ],
             [
              0.4444444444444444,
              "#bd3786"
             ],
             [
              0.5555555555555556,
              "#d8576b"
             ],
             [
              0.6666666666666666,
              "#ed7953"
             ],
             [
              0.7777777777777778,
              "#fb9f3a"
             ],
             [
              0.8888888888888888,
              "#fdca26"
             ],
             [
              1,
              "#f0f921"
             ]
            ],
            "type": "contour"
           }
          ],
          "contourcarpet": [
           {
            "colorbar": {
             "outlinewidth": 0,
             "ticks": ""
            },
            "type": "contourcarpet"
           }
          ],
          "heatmap": [
           {
            "colorbar": {
             "outlinewidth": 0,
             "ticks": ""
            },
            "colorscale": [
             [
              0,
              "#0d0887"
             ],
             [
              0.1111111111111111,
              "#46039f"
             ],
             [
              0.2222222222222222,
              "#7201a8"
             ],
             [
              0.3333333333333333,
              "#9c179e"
             ],
             [
              0.4444444444444444,
              "#bd3786"
             ],
             [
              0.5555555555555556,
              "#d8576b"
             ],
             [
              0.6666666666666666,
              "#ed7953"
             ],
             [
              0.7777777777777778,
              "#fb9f3a"
             ],
             [
              0.8888888888888888,
              "#fdca26"
             ],
             [
              1,
              "#f0f921"
             ]
            ],
            "type": "heatmap"
           }
          ],
          "heatmapgl": [
           {
            "colorbar": {
             "outlinewidth": 0,
             "ticks": ""
            },
            "colorscale": [
             [
              0,
              "#0d0887"
             ],
             [
              0.1111111111111111,
              "#46039f"
             ],
             [
              0.2222222222222222,
              "#7201a8"
             ],
             [
              0.3333333333333333,
              "#9c179e"
             ],
             [
              0.4444444444444444,
              "#bd3786"
             ],
             [
              0.5555555555555556,
              "#d8576b"
             ],
             [
              0.6666666666666666,
              "#ed7953"
             ],
             [
              0.7777777777777778,
              "#fb9f3a"
             ],
             [
              0.8888888888888888,
              "#fdca26"
             ],
             [
              1,
              "#f0f921"
             ]
            ],
            "type": "heatmapgl"
           }
          ],
          "histogram": [
           {
            "marker": {
             "pattern": {
              "fillmode": "overlay",
              "size": 10,
              "solidity": 0.2
             }
            },
            "type": "histogram"
           }
          ],
          "histogram2d": [
           {
            "colorbar": {
             "outlinewidth": 0,
             "ticks": ""
            },
            "colorscale": [
             [
              0,
              "#0d0887"
             ],
             [
              0.1111111111111111,
              "#46039f"
             ],
             [
              0.2222222222222222,
              "#7201a8"
             ],
             [
              0.3333333333333333,
              "#9c179e"
             ],
             [
              0.4444444444444444,
              "#bd3786"
             ],
             [
              0.5555555555555556,
              "#d8576b"
             ],
             [
              0.6666666666666666,
              "#ed7953"
             ],
             [
              0.7777777777777778,
              "#fb9f3a"
             ],
             [
              0.8888888888888888,
              "#fdca26"
             ],
             [
              1,
              "#f0f921"
             ]
            ],
            "type": "histogram2d"
           }
          ],
          "histogram2dcontour": [
           {
            "colorbar": {
             "outlinewidth": 0,
             "ticks": ""
            },
            "colorscale": [
             [
              0,
              "#0d0887"
             ],
             [
              0.1111111111111111,
              "#46039f"
             ],
             [
              0.2222222222222222,
              "#7201a8"
             ],
             [
              0.3333333333333333,
              "#9c179e"
             ],
             [
              0.4444444444444444,
              "#bd3786"
             ],
             [
              0.5555555555555556,
              "#d8576b"
             ],
             [
              0.6666666666666666,
              "#ed7953"
             ],
             [
              0.7777777777777778,
              "#fb9f3a"
             ],
             [
              0.8888888888888888,
              "#fdca26"
             ],
             [
              1,
              "#f0f921"
             ]
            ],
            "type": "histogram2dcontour"
           }
          ],
          "mesh3d": [
           {
            "colorbar": {
             "outlinewidth": 0,
             "ticks": ""
            },
            "type": "mesh3d"
           }
          ],
          "parcoords": [
           {
            "line": {
             "colorbar": {
              "outlinewidth": 0,
              "ticks": ""
             }
            },
            "type": "parcoords"
           }
          ],
          "pie": [
           {
            "automargin": true,
            "type": "pie"
           }
          ],
          "scatter": [
           {
            "fillpattern": {
             "fillmode": "overlay",
             "size": 10,
             "solidity": 0.2
            },
            "type": "scatter"
           }
          ],
          "scatter3d": [
           {
            "line": {
             "colorbar": {
              "outlinewidth": 0,
              "ticks": ""
             }
            },
            "marker": {
             "colorbar": {
              "outlinewidth": 0,
              "ticks": ""
             }
            },
            "type": "scatter3d"
           }
          ],
          "scattercarpet": [
           {
            "marker": {
             "colorbar": {
              "outlinewidth": 0,
              "ticks": ""
             }
            },
            "type": "scattercarpet"
           }
          ],
          "scattergeo": [
           {
            "marker": {
             "colorbar": {
              "outlinewidth": 0,
              "ticks": ""
             }
            },
            "type": "scattergeo"
           }
          ],
          "scattergl": [
           {
            "marker": {
             "colorbar": {
              "outlinewidth": 0,
              "ticks": ""
             }
            },
            "type": "scattergl"
           }
          ],
          "scattermapbox": [
           {
            "marker": {
             "colorbar": {
              "outlinewidth": 0,
              "ticks": ""
             }
            },
            "type": "scattermapbox"
           }
          ],
          "scatterpolar": [
           {
            "marker": {
             "colorbar": {
              "outlinewidth": 0,
              "ticks": ""
             }
            },
            "type": "scatterpolar"
           }
          ],
          "scatterpolargl": [
           {
            "marker": {
             "colorbar": {
              "outlinewidth": 0,
              "ticks": ""
             }
            },
            "type": "scatterpolargl"
           }
          ],
          "scatterternary": [
           {
            "marker": {
             "colorbar": {
              "outlinewidth": 0,
              "ticks": ""
             }
            },
            "type": "scatterternary"
           }
          ],
          "surface": [
           {
            "colorbar": {
             "outlinewidth": 0,
             "ticks": ""
            },
            "colorscale": [
             [
              0,
              "#0d0887"
             ],
             [
              0.1111111111111111,
              "#46039f"
             ],
             [
              0.2222222222222222,
              "#7201a8"
             ],
             [
              0.3333333333333333,
              "#9c179e"
             ],
             [
              0.4444444444444444,
              "#bd3786"
             ],
             [
              0.5555555555555556,
              "#d8576b"
             ],
             [
              0.6666666666666666,
              "#ed7953"
             ],
             [
              0.7777777777777778,
              "#fb9f3a"
             ],
             [
              0.8888888888888888,
              "#fdca26"
             ],
             [
              1,
              "#f0f921"
             ]
            ],
            "type": "surface"
           }
          ],
          "table": [
           {
            "cells": {
             "fill": {
              "color": "#EBF0F8"
             },
             "line": {
              "color": "white"
             }
            },
            "header": {
             "fill": {
              "color": "#C8D4E3"
             },
             "line": {
              "color": "white"
             }
            },
            "type": "table"
           }
          ]
         },
         "layout": {
          "annotationdefaults": {
           "arrowcolor": "#2a3f5f",
           "arrowhead": 0,
           "arrowwidth": 1
          },
          "autotypenumbers": "strict",
          "coloraxis": {
           "colorbar": {
            "outlinewidth": 0,
            "ticks": ""
           }
          },
          "colorscale": {
           "diverging": [
            [
             0,
             "#8e0152"
            ],
            [
             0.1,
             "#c51b7d"
            ],
            [
             0.2,
             "#de77ae"
            ],
            [
             0.3,
             "#f1b6da"
            ],
            [
             0.4,
             "#fde0ef"
            ],
            [
             0.5,
             "#f7f7f7"
            ],
            [
             0.6,
             "#e6f5d0"
            ],
            [
             0.7,
             "#b8e186"
            ],
            [
             0.8,
             "#7fbc41"
            ],
            [
             0.9,
             "#4d9221"
            ],
            [
             1,
             "#276419"
            ]
           ],
           "sequential": [
            [
             0,
             "#0d0887"
            ],
            [
             0.1111111111111111,
             "#46039f"
            ],
            [
             0.2222222222222222,
             "#7201a8"
            ],
            [
             0.3333333333333333,
             "#9c179e"
            ],
            [
             0.4444444444444444,
             "#bd3786"
            ],
            [
             0.5555555555555556,
             "#d8576b"
            ],
            [
             0.6666666666666666,
             "#ed7953"
            ],
            [
             0.7777777777777778,
             "#fb9f3a"
            ],
            [
             0.8888888888888888,
             "#fdca26"
            ],
            [
             1,
             "#f0f921"
            ]
           ],
           "sequentialminus": [
            [
             0,
             "#0d0887"
            ],
            [
             0.1111111111111111,
             "#46039f"
            ],
            [
             0.2222222222222222,
             "#7201a8"
            ],
            [
             0.3333333333333333,
             "#9c179e"
            ],
            [
             0.4444444444444444,
             "#bd3786"
            ],
            [
             0.5555555555555556,
             "#d8576b"
            ],
            [
             0.6666666666666666,
             "#ed7953"
            ],
            [
             0.7777777777777778,
             "#fb9f3a"
            ],
            [
             0.8888888888888888,
             "#fdca26"
            ],
            [
             1,
             "#f0f921"
            ]
           ]
          },
          "colorway": [
           "#636efa",
           "#EF553B",
           "#00cc96",
           "#ab63fa",
           "#FFA15A",
           "#19d3f3",
           "#FF6692",
           "#B6E880",
           "#FF97FF",
           "#FECB52"
          ],
          "font": {
           "color": "#2a3f5f"
          },
          "geo": {
           "bgcolor": "white",
           "lakecolor": "white",
           "landcolor": "#E5ECF6",
           "showlakes": true,
           "showland": true,
           "subunitcolor": "white"
          },
          "hoverlabel": {
           "align": "left"
          },
          "hovermode": "closest",
          "mapbox": {
           "style": "light"
          },
          "paper_bgcolor": "white",
          "plot_bgcolor": "#E5ECF6",
          "polar": {
           "angularaxis": {
            "gridcolor": "white",
            "linecolor": "white",
            "ticks": ""
           },
           "bgcolor": "#E5ECF6",
           "radialaxis": {
            "gridcolor": "white",
            "linecolor": "white",
            "ticks": ""
           }
          },
          "scene": {
           "xaxis": {
            "backgroundcolor": "#E5ECF6",
            "gridcolor": "white",
            "gridwidth": 2,
            "linecolor": "white",
            "showbackground": true,
            "ticks": "",
            "zerolinecolor": "white"
           },
           "yaxis": {
            "backgroundcolor": "#E5ECF6",
            "gridcolor": "white",
            "gridwidth": 2,
            "linecolor": "white",
            "showbackground": true,
            "ticks": "",
            "zerolinecolor": "white"
           },
           "zaxis": {
            "backgroundcolor": "#E5ECF6",
            "gridcolor": "white",
            "gridwidth": 2,
            "linecolor": "white",
            "showbackground": true,
            "ticks": "",
            "zerolinecolor": "white"
           }
          },
          "shapedefaults": {
           "line": {
            "color": "#2a3f5f"
           }
          },
          "ternary": {
           "aaxis": {
            "gridcolor": "white",
            "linecolor": "white",
            "ticks": ""
           },
           "baxis": {
            "gridcolor": "white",
            "linecolor": "white",
            "ticks": ""
           },
           "bgcolor": "#E5ECF6",
           "caxis": {
            "gridcolor": "white",
            "linecolor": "white",
            "ticks": ""
           }
          },
          "title": {
           "x": 0.05
          },
          "xaxis": {
           "automargin": true,
           "gridcolor": "white",
           "linecolor": "white",
           "ticks": "",
           "title": {
            "standoff": 15
           },
           "zerolinecolor": "white",
           "zerolinewidth": 2
          },
          "yaxis": {
           "automargin": true,
           "gridcolor": "white",
           "linecolor": "white",
           "ticks": "",
           "title": {
            "standoff": 15
           },
           "zerolinecolor": "white",
           "zerolinewidth": 2
          }
         }
        },
        "title": {
         "text": "MODELO COMBINADO<br>R2: 0.8939312666725858 RMSE: 3.4732456779027863"
        }
       }
      }
     },
     "metadata": {},
     "output_type": "display_data"
    }
   ],
   "source": [
    "# Definir rangos para las variables independientes\n",
    "x1_range = np.linspace(min(x_train['width']), max(x_train['width']), 20)\n",
    "x2_range = np.linspace(min(x_train['shoe_size']), max(x_train['shoe_size']), 20)\n",
    "x1_mesh, x2_mesh = np.meshgrid(x1_range, x2_range)\n",
    "\n",
    "# Escalar el meshgrid para predicción\n",
    "x_mesh_scaled = ss.transform(np.vstack((x1_mesh.ravel(), x2_mesh.ravel())).T)\n",
    "\n",
    "# Predecir los valores con el modelo escalado\n",
    "y_mesh_scaled = modelo_combinado.predict(x_mesh_scaled)\n",
    "\n",
    "# Crear scatterplot 3D de los puntos reales\n",
    "scatter = go.Scatter3d(\n",
    "    x=x_test['width'], y=x_test['shoe_size'], z=y_test,\n",
    "    mode='markers',\n",
    "    marker=dict(size=8, color='red', opacity=0.7)\n",
    ")\n",
    "\n",
    "# Crear el plano de regresión\n",
    "surface = go.Surface(\n",
    "    x=x1_mesh, y=x2_mesh, z=y_mesh_scaled.reshape(x1_mesh.shape),\n",
    "    colorscale='Viridis', opacity=0.5\n",
    ")\n",
    "\n",
    "# Configuración del layout\n",
    "layout = go.Layout(\n",
    "     title=f\"MODELO COMBINADO<br>R2: {r2_score(y_test, predicciones)} RMSE: {root_mean_squared_error(y_test, predicciones)}\",\n",
    "    scene=dict(\n",
    "        xaxis_title='Ancho',\n",
    "        yaxis_title='Pie',\n",
    "        zaxis_title='Altura'\n",
    "    )\n",
    ")\n",
    "\n",
    "# Crear la figura\n",
    "fig = go.Figure(data=[scatter, surface], layout=layout)\n",
    "\n",
    "# Mostrar la figura interactiva\n",
    "fig.show()"
   ]
  }
 ],
 "metadata": {
  "kernelspec": {
   "display_name": "iteso",
   "language": "python",
   "name": "python3"
  },
  "language_info": {
   "codemirror_mode": {
    "name": "ipython",
    "version": 3
   },
   "file_extension": ".py",
   "mimetype": "text/x-python",
   "name": "python",
   "nbconvert_exporter": "python",
   "pygments_lexer": "ipython3",
   "version": "3.10.13"
  }
 },
 "nbformat": 4,
 "nbformat_minor": 2
}
