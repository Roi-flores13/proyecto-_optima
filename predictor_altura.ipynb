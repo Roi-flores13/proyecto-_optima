{
 "cells": [
  {
   "cell_type": "markdown",
   "metadata": {},
   "source": [
    "# Examen"
   ]
  },
  {
   "cell_type": "markdown",
   "metadata": {},
   "source": [
    "Integrantes:\n",
    "- Diego Canales Morales\n",
    "- Roi Jared Flores Graza Stone\n",
    "- Mónica Ibarra Herrera\n",
    "- Oscar Josué Rocha Hernández"
   ]
  },
  {
   "cell_type": "code",
   "execution_count": 2,
   "metadata": {},
   "outputs": [],
   "source": [
    "import pandas as pd\n",
    "from sklearn.linear_model import LinearRegression, Ridge, ElasticNet, Lasso\n",
    "from sklearn.model_selection import train_test_split, GridSearchCV\n",
    "import numpy as np\n",
    "from sklearn.metrics import root_mean_squared_error, r2_score\n",
    "from sklearn.preprocessing import StandardScaler, MinMaxScaler\n",
    "import matplotlib.pyplot as plt\n",
    "import plotly.graph_objects as go"
   ]
  },
  {
   "cell_type": "markdown",
   "metadata": {},
   "source": [
    "## Parte 1"
   ]
  },
  {
   "cell_type": "markdown",
   "metadata": {},
   "source": [
    "### Modelo Simple"
   ]
  },
  {
   "cell_type": "code",
   "execution_count": 3,
   "metadata": {},
   "outputs": [],
   "source": [
    "path = \"datos_gente.csv\"\n",
    "df_first = pd.read_csv(path)"
   ]
  },
  {
   "cell_type": "code",
   "execution_count": 4,
   "metadata": {},
   "outputs": [
    {
     "data": {
      "text/plain": [
       "array([[<Axes: title={'center': 'height'}>,\n",
       "        <Axes: title={'center': 'width'}>],\n",
       "       [<Axes: title={'center': 'shoe_size'}>, <Axes: >]], dtype=object)"
      ]
     },
     "execution_count": 4,
     "metadata": {},
     "output_type": "execute_result"
    },
    {
     "data": {
      "image/png": "[encoded data removed]",
      "text/plain": [
       "<Figure size 640x480 with 4 Axes>"
      ]
     },
     "metadata": {},
     "output_type": "display_data"
    }
   ],
   "source": [
    "df_first.hist()"
   ]
  },
  {
   "cell_type": "code",
   "execution_count": 5,
   "metadata": {},
   "outputs": [],
   "source": [
    "X = df_first[['width', 'shoe_size']]\n",
    "y = df_first['height']"
   ]
  },
  {
   "cell_type": "code",
   "execution_count": 6,
   "metadata": {},
   "outputs": [],
   "source": [
    "x_train_f, x_test_f, y_train_f, y_test_f = train_test_split(X,y, test_size=0.2, random_state=99)"
   ]
  },
  {
   "cell_type": "code",
   "execution_count": 7,
   "metadata": {},
   "outputs": [
    {
     "name": "stdout",
     "output_type": "stream",
     "text": [
      "R2: 0.8941176470588236 RMSE: 2.1213203435596424\n"
     ]
    }
   ],
   "source": [
    "lr_first = LinearRegression()\n",
    "lr_first.fit(x_test_f, y_test_f)\n",
    "pred_first = lr_first.predict(x_test_f)\n",
    "print(f\"R2: {r2_score(y_test_f, pred_first)} RMSE: {root_mean_squared_error(y_test_f, pred_first)}\")"
   ]
  },
  {
   "cell_type": "code",
   "execution_count": 8,
   "metadata": {},
   "outputs": [
    {
     "name": "stdout",
     "output_type": "stream",
     "text": [
      "Pendientes: [1.625 3.75 ]\n",
      "Intercepto: -12.375000000000057\n"
     ]
    }
   ],
   "source": [
    "print(f\"Pendientes: {lr_first.coef_}\")\n",
    "print(f\"Intercepto: {lr_first.intercept_}\")"
   ]
  },
  {
   "cell_type": "code",
   "execution_count": 9,
   "metadata": {},
   "outputs": [
    {
     "name": "stderr",
     "output_type": "stream",
     "text": [
      "c:\\Users\\Roi_f\\anaconda3\\envs\\personal\\Lib\\site-packages\\sklearn\\base.py:493: UserWarning: X does not have valid feature names, but LinearRegression was fitted with feature names\n",
      "  warnings.warn(\n"
     ]
    },
    {
     "data": {
      "application/vnd.plotly.v1+json": {
       "config": {
        "plotlyServerURL": "https://plot.ly"
       },
       "data": [
        {
         "marker": {
          "color": "red",
          "size": 8
         },
         "mode": "markers",
         "type": "scatter3d",
         "x": [
          55,
          44,
          44,
          44,
          46,
          40,
          58,
          40,
          49,
          44,
          40,
          51,
          55,
          50,
          38,
          39,
          38,
          39
         ],
         "y": [
          28,
          26.5,
          24,
          24.5,
          27,
          23,
          27,
          24,
          27.5,
          23,
          22,
          26,
          28,
          27.5,
          24,
          24.5,
          24,
          22.5
         ],
         "z": [
          185,
          173,
          163,
          162,
          172,
          159,
          187,
          165,
          175,
          162,
          155,
          168,
          179,
          172,
          159,
          166,
          156,
          151
         ]
        },
        {
         "colorscale": [
          [
           0,
           "#440154"
          ],
          [
           0.1111111111111111,
           "#482878"
          ],
          [
           0.2222222222222222,
           "#3e4989"
          ],
          [
           0.3333333333333333,
           "#31688e"
          ],
          [
           0.4444444444444444,
           "#26828e"
          ],
          [
           0.5555555555555556,
           "#1f9e89"
          ],
          [
           0.6666666666666666,
           "#35b779"
          ],
          [
           0.7777777777777778,
           "#6ece58"
          ],
          [
           0.8888888888888888,
           "#b5de2b"
          ],
          [
           1,
           "#fde725"
          ]
         ],
         "opacity": 0.5,
         "type": "surface",
         "x": [
          [
           38,
           39.05263157894737,
           40.10526315789474,
           41.1578947368421,
           42.21052631578947,
           43.26315789473684,
           44.31578947368421,
           45.368421052631575,
           46.421052631578945,
           47.473684210526315,
           48.526315789473685,
           49.578947368421055,
           50.631578947368425,
           51.68421052631579,
           52.73684210526316,
           53.78947368421053,
           54.84210526315789,
           55.89473684210526,
           56.94736842105263,
           58
          ],
          [
           38,
           39.05263157894737,
           40.10526315789474,
           41.1578947368421,
           42.21052631578947,
           43.26315789473684,
           44.31578947368421,
           45.368421052631575,
           46.421052631578945,
           47.473684210526315,
           48.526315789473685,
           49.578947368421055,
           50.631578947368425,
           51.68421052631579,
           52.73684210526316,
           53.78947368421053,
           54.84210526315789,
           55.89473684210526,
           56.94736842105263,
           58
          ],
          [
           38,
           39.05263157894737,
           40.10526315789474,
           41.1578947368421,
           42.21052631578947,
           43.26315789473684,
           44.31578947368421,
           45.368421052631575,
           46.421052631578945,
           47.473684210526315,
           48.526315789473685,
           49.578947368421055,
           50.631578947368425,
           51.68421052631579,
           52.73684210526316,
           53.78947368421053,
           54.84210526315789,
           55.89473684210526,
           56.94736842105263,
           58
          ],
          [
           38,
           39.05263157894737,
           40.10526315789474,
           41.1578947368421,
           42.21052631578947,
           43.26315789473684,
           44.31578947368421,
           45.368421052631575,
           46.421052631578945,
           47.473684210526315,
           48.526315789473685,
           49.578947368421055,
           50.631578947368425,
           51.68421052631579,
           52.73684210526316,
           53.78947368421053,
           54.84210526315789,
           55.89473684210526,
           56.94736842105263,
           58
          ],
          [
           38,
           39.05263157894737,
           40.10526315789474,
           41.1578947368421,
           42.21052631578947,
           43.26315789473684,
           44.31578947368421,
           45.368421052631575,
           46.421052631578945,
           47.473684210526315,
           48.526315789473685,
           49.578947368421055,
           50.631578947368425,
           51.68421052631579,
           52.73684210526316,
           53.78947368421053,
           54.84210526315789,
           55.89473684210526,
           56.94736842105263,
           58
          ],
          [
           38,
           39.05263157894737,
           40.10526315789474,
           41.1578947368421,
           42.21052631578947,
           43.26315789473684,
           44.31578947368421,
           45.368421052631575,
           46.421052631578945,
           47.473684210526315,
           48.526315789473685,
           49.578947368421055,
           50.631578947368425,
           51.68421052631579,
           52.73684210526316,
           53.78947368421053,
           54.84210526315789,
           55.89473684210526,
           56.94736842105263,
           58
          ],
          [
           38,
           39.05263157894737,
           40.10526315789474,
           41.1578947368421,
           42.21052631578947,
           43.26315789473684,
           44.31578947368421,
           45.368421052631575,
           46.421052631578945,
           47.473684210526315,
           48.526315789473685,
           49.578947368421055,
           50.631578947368425,
           51.68421052631579,
           52.73684210526316,
           53.78947368421053,
           54.84210526315789,
           55.89473684210526,
           56.94736842105263,
           58
          ],
          [
           38,
           39.05263157894737,
           40.10526315789474,
           41.1578947368421,
           42.21052631578947,
           43.26315789473684,
           44.31578947368421,
           45.368421052631575,
           46.421052631578945,
           47.473684210526315,
           48.526315789473685,
           49.578947368421055,
           50.631578947368425,
           51.68421052631579,
           52.73684210526316,
           53.78947368421053,
           54.84210526315789,
           55.89473684210526,
           56.94736842105263,
           58
          ],
          [
           38,
           39.05263157894737,
           40.10526315789474,
           41.1578947368421,
           42.21052631578947,
           43.26315789473684,
           44.31578947368421,
           45.368421052631575,
           46.421052631578945,
           47.473684210526315,
           48.526315789473685,
           49.578947368421055,
           50.631578947368425,
           51.68421052631579,
           52.73684210526316,
           53.78947368421053,
           54.84210526315789,
           55.89473684210526,
           56.94736842105263,
           58
          ],
          [
           38,
           39.05263157894737,
           40.10526315789474,
           41.1578947368421,
           42.21052631578947,
           43.26315789473684,
           44.31578947368421,
           45.368421052631575,
           46.421052631578945,
           47.473684210526315,
           48.526315789473685,
           49.578947368421055,
           50.631578947368425,
           51.68421052631579,
           52.73684210526316,
           53.78947368421053,
           54.84210526315789,
           55.89473684210526,
           56.94736842105263,
           58
          ],
          [
           38,
           39.05263157894737,
           40.10526315789474,
           41.1578947368421,
           42.21052631578947,
           43.26315789473684,
           44.31578947368421,
           45.368421052631575,
           46.421052631578945,
           47.473684210526315,
           48.526315789473685,
           49.578947368421055,
           50.631578947368425,
           51.68421052631579,
           52.73684210526316,
           53.78947368421053,
           54.84210526315789,
           55.89473684210526,
           56.94736842105263,
           58
          ],
          [
           38,
           39.05263157894737,
           40.10526315789474,
           41.1578947368421,
           42.21052631578947,
           43.26315789473684,
           44.31578947368421,
           45.368421052631575,
           46.421052631578945,
           47.473684210526315,
           48.526315789473685,
           49.578947368421055,
           50.631578947368425,
           51.68421052631579,
           52.73684210526316,
           53.78947368421053,
           54.84210526315789,
           55.89473684210526,
           56.94736842105263,
           58
          ],
          [
           38,
           39.05263157894737,
           40.10526315789474,
           41.1578947368421,
           42.21052631578947,
           43.26315789473684,
           44.31578947368421,
           45.368421052631575,
           46.421052631578945,
           47.473684210526315,
           48.526315789473685,
           49.578947368421055,
           50.631578947368425,
           51.68421052631579,
           52.73684210526316,
           53.78947368421053,
           54.84210526315789,
           55.89473684210526,
           56.94736842105263,
           58
          ],
          [
           38,
           39.05263157894737,
           40.10526315789474,
           41.1578947368421,
           42.21052631578947,
           43.26315789473684,
           44.31578947368421,
           45.368421052631575,
           46.421052631578945,
           47.473684210526315,
           48.526315789473685,
           49.578947368421055,
           50.631578947368425,
           51.68421052631579,
           52.73684210526316,
           53.78947368421053,
           54.84210526315789,
           55.89473684210526,
           56.94736842105263,
           58
          ],
          [
           38,
           39.05263157894737,
           40.10526315789474,
           41.1578947368421,
           42.21052631578947,
           43.26315789473684,
           44.31578947368421,
           45.368421052631575,
           46.421052631578945,
           47.473684210526315,
           48.526315789473685,
           49.578947368421055,
           50.631578947368425,
           51.68421052631579,
           52.73684210526316,
           53.78947368421053,
           54.84210526315789,
           55.89473684210526,
           56.94736842105263,
           58
          ],
          [
           38,
           39.05263157894737,
           40.10526315789474,
           41.1578947368421,
           42.21052631578947,
           43.26315789473684,
           44.31578947368421,
           45.368421052631575,
           46.421052631578945,
           47.473684210526315,
           48.526315789473685,
           49.578947368421055,
           50.631578947368425,
           51.68421052631579,
           52.73684210526316,
           53.78947368421053,
           54.84210526315789,
           55.89473684210526,
           56.94736842105263,
           58
          ],
          [
           38,
           39.05263157894737,
           40.10526315789474,
           41.1578947368421,
           42.21052631578947,
           43.26315789473684,
           44.31578947368421,
           45.368421052631575,
           46.421052631578945,
           47.473684210526315,
           48.526315789473685,
           49.578947368421055,
           50.631578947368425,
           51.68421052631579,
           52.73684210526316,
           53.78947368421053,
           54.84210526315789,
           55.89473684210526,
           56.94736842105263,
           58
          ],
          [
           38,
           39.05263157894737,
           40.10526315789474,
           41.1578947368421,
           42.21052631578947,
           43.26315789473684,
           44.31578947368421,
           45.368421052631575,
           46.421052631578945,
           47.473684210526315,
           48.526315789473685,
           49.578947368421055,
           50.631578947368425,
           51.68421052631579,
           52.73684210526316,
           53.78947368421053,
           54.84210526315789,
           55.89473684210526,
           56.94736842105263,
           58
          ],
          [
           38,
           39.05263157894737,
           40.10526315789474,
           41.1578947368421,
           42.21052631578947,
           43.26315789473684,
           44.31578947368421,
           45.368421052631575,
           46.421052631578945,
           47.473684210526315,
           48.526315789473685,
           49.578947368421055,
           50.631578947368425,
           51.68421052631579,
           52.73684210526316,
           53.78947368421053,
           54.84210526315789,
           55.89473684210526,
           56.94736842105263,
           58
          ],
          [
           38,
           39.05263157894737,
           40.10526315789474,
           41.1578947368421,
           42.21052631578947,
           43.26315789473684,
           44.31578947368421,
           45.368421052631575,
           46.421052631578945,
           47.473684210526315,
           48.526315789473685,
           49.578947368421055,
           50.631578947368425,
           51.68421052631579,
           52.73684210526316,
           53.78947368421053,
           54.84210526315789,
           55.89473684210526,
           56.94736842105263,
           58
          ]
         ],
         "y": [
          [
           22,
           22,
           22,
           22,
           22,
           22,
           22,
           22,
           22,
           22,
           22,
           22,
           22,
           22,
           22,
           22,
           22,
           22,
           22,
           22
          ],
          [
           22.31578947368421,
           22.31578947368421,
           22.31578947368421,
           22.31578947368421,
           22.31578947368421,
           22.31578947368421,
           22.31578947368421,
           22.31578947368421,
           22.31578947368421,
           22.31578947368421,
           22.31578947368421,
           22.31578947368421,
           22.31578947368421,
           22.31578947368421,
           22.31578947368421,
           22.31578947368421,
           22.31578947368421,
           22.31578947368421,
           22.31578947368421,
           22.31578947368421
          ],
          [
           22.63157894736842,
           22.63157894736842,
           22.63157894736842,
           22.63157894736842,
           22.63157894736842,
           22.63157894736842,
           22.63157894736842,
           22.63157894736842,
           22.63157894736842,
           22.63157894736842,
           22.63157894736842,
           22.63157894736842,
           22.63157894736842,
           22.63157894736842,
           22.63157894736842,
           22.63157894736842,
           22.63157894736842,
           22.63157894736842,
           22.63157894736842,
           22.63157894736842
          ],
          [
           22.94736842105263,
           22.94736842105263,
           22.94736842105263,
           22.94736842105263,
           22.94736842105263,
           22.94736842105263,
           22.94736842105263,
           22.94736842105263,
           22.94736842105263,
           22.94736842105263,
           22.94736842105263,
           22.94736842105263,
           22.94736842105263,
           22.94736842105263,
           22.94736842105263,
           22.94736842105263,
           22.94736842105263,
           22.94736842105263,
           22.94736842105263,
           22.94736842105263
          ],
          [
           23.263157894736842,
           23.263157894736842,
           23.263157894736842,
           23.263157894736842,
           23.263157894736842,
           23.263157894736842,
           23.263157894736842,
           23.263157894736842,
           23.263157894736842,
           23.263157894736842,
           23.263157894736842,
           23.263157894736842,
           23.263157894736842,
           23.263157894736842,
           23.263157894736842,
           23.263157894736842,
           23.263157894736842,
           23.263157894736842,
           23.263157894736842,
           23.263157894736842
          ],
          [
           23.57894736842105,
           23.57894736842105,
           23.57894736842105,
           23.57894736842105,
           23.57894736842105,
           23.57894736842105,
           23.57894736842105,
           23.57894736842105,
           23.57894736842105,
           23.57894736842105,
           23.57894736842105,
           23.57894736842105,
           23.57894736842105,
           23.57894736842105,
           23.57894736842105,
           23.57894736842105,
           23.57894736842105,
           23.57894736842105,
           23.57894736842105,
           23.57894736842105
          ],
          [
           23.894736842105264,
           23.894736842105264,
           23.894736842105264,
           23.894736842105264,
           23.894736842105264,
           23.894736842105264,
           23.894736842105264,
           23.894736842105264,
           23.894736842105264,
           23.894736842105264,
           23.894736842105264,
           23.894736842105264,
           23.894736842105264,
           23.894736842105264,
           23.894736842105264,
           23.894736842105264,
           23.894736842105264,
           23.894736842105264,
           23.894736842105264,
           23.894736842105264
          ],
          [
           24.210526315789473,
           24.210526315789473,
           24.210526315789473,
           24.210526315789473,
           24.210526315789473,
           24.210526315789473,
           24.210526315789473,
           24.210526315789473,
           24.210526315789473,
           24.210526315789473,
           24.210526315789473,
           24.210526315789473,
           24.210526315789473,
           24.210526315789473,
           24.210526315789473,
           24.210526315789473,
           24.210526315789473,
           24.210526315789473,
           24.210526315789473,
           24.210526315789473
          ],
          [
           24.526315789473685,
           24.526315789473685,
           24.526315789473685,
           24.526315789473685,
           24.526315789473685,
           24.526315789473685,
           24.526315789473685,
           24.526315789473685,
           24.526315789473685,
           24.526315789473685,
           24.526315789473685,
           24.526315789473685,
           24.526315789473685,
           24.526315789473685,
           24.526315789473685,
           24.526315789473685,
           24.526315789473685,
           24.526315789473685,
           24.526315789473685,
           24.526315789473685
          ],
          [
           24.842105263157894,
           24.842105263157894,
           24.842105263157894,
           24.842105263157894,
           24.842105263157894,
           24.842105263157894,
           24.842105263157894,
           24.842105263157894,
           24.842105263157894,
           24.842105263157894,
           24.842105263157894,
           24.842105263157894,
           24.842105263157894,
           24.842105263157894,
           24.842105263157894,
           24.842105263157894,
           24.842105263157894,
           24.842105263157894,
           24.842105263157894,
           24.842105263157894
          ],
          [
           25.157894736842106,
           25.157894736842106,
           25.157894736842106,
           25.157894736842106,
           25.157894736842106,
           25.157894736842106,
           25.157894736842106,
           25.157894736842106,
           25.157894736842106,
           25.157894736842106,
           25.157894736842106,
           25.157894736842106,
           25.157894736842106,
           25.157894736842106,
           25.157894736842106,
           25.157894736842106,
           25.157894736842106,
           25.157894736842106,
           25.157894736842106,
           25.157894736842106
          ],
          [
           25.473684210526315,
           25.473684210526315,
           25.473684210526315,
           25.473684210526315,
           25.473684210526315,
           25.473684210526315,
           25.473684210526315,
           25.473684210526315,
           25.473684210526315,
           25.473684210526315,
           25.473684210526315,
           25.473684210526315,
           25.473684210526315,
           25.473684210526315,
           25.473684210526315,
           25.473684210526315,
           25.473684210526315,
           25.473684210526315,
           25.473684210526315,
           25.473684210526315
          ],
          [
           25.789473684210527,
           25.789473684210527,
           25.789473684210527,
           25.789473684210527,
           25.789473684210527,
           25.789473684210527,
           25.789473684210527,
           25.789473684210527,
           25.789473684210527,
           25.789473684210527,
           25.789473684210527,
           25.789473684210527,
           25.789473684210527,
           25.789473684210527,
           25.789473684210527,
           25.789473684210527,
           25.789473684210527,
           25.789473684210527,
           25.789473684210527,
           25.789473684210527
          ],
          [
           26.105263157894736,
           26.105263157894736,
           26.105263157894736,
           26.105263157894736,
           26.105263157894736,
           26.105263157894736,
           26.105263157894736,
           26.105263157894736,
           26.105263157894736,
           26.105263157894736,
           26.105263157894736,
           26.105263157894736,
           26.105263157894736,
           26.105263157894736,
           26.105263157894736,
           26.105263157894736,
           26.105263157894736,
           26.105263157894736,
           26.105263157894736,
           26.105263157894736
          ],
          [
           26.421052631578945,
           26.421052631578945,
           26.421052631578945,
           26.421052631578945,
           26.421052631578945,
           26.421052631578945,
           26.421052631578945,
           26.421052631578945,
           26.421052631578945,
           26.421052631578945,
           26.421052631578945,
           26.421052631578945,
           26.421052631578945,
           26.421052631578945,
           26.421052631578945,
           26.421052631578945,
           26.421052631578945,
           26.421052631578945,
           26.421052631578945,
           26.421052631578945
          ],
          [
           26.736842105263158,
           26.736842105263158,
           26.736842105263158,
           26.736842105263158,
           26.736842105263158,
           26.736842105263158,
           26.736842105263158,
           26.736842105263158,
           26.736842105263158,
           26.736842105263158,
           26.736842105263158,
           26.736842105263158,
           26.736842105263158,
           26.736842105263158,
           26.736842105263158,
           26.736842105263158,
           26.736842105263158,
           26.736842105263158,
           26.736842105263158,
           26.736842105263158
          ],
          [
           27.05263157894737,
           27.05263157894737,
           27.05263157894737,
           27.05263157894737,
           27.05263157894737,
           27.05263157894737,
           27.05263157894737,
           27.05263157894737,
           27.05263157894737,
           27.05263157894737,
           27.05263157894737,
           27.05263157894737,
           27.05263157894737,
           27.05263157894737,
           27.05263157894737,
           27.05263157894737,
           27.05263157894737,
           27.05263157894737,
           27.05263157894737,
           27.05263157894737
          ],
          [
           27.36842105263158,
           27.36842105263158,
           27.36842105263158,
           27.36842105263158,
           27.36842105263158,
           27.36842105263158,
           27.36842105263158,
           27.36842105263158,
           27.36842105263158,
           27.36842105263158,
           27.36842105263158,
           27.36842105263158,
           27.36842105263158,
           27.36842105263158,
           27.36842105263158,
           27.36842105263158,
           27.36842105263158,
           27.36842105263158,
           27.36842105263158,
           27.36842105263158
          ],
          [
           27.684210526315788,
           27.684210526315788,
           27.684210526315788,
           27.684210526315788,
           27.684210526315788,
           27.684210526315788,
           27.684210526315788,
           27.684210526315788,
           27.684210526315788,
           27.684210526315788,
           27.684210526315788,
           27.684210526315788,
           27.684210526315788,
           27.684210526315788,
           27.684210526315788,
           27.684210526315788,
           27.684210526315788,
           27.684210526315788,
           27.684210526315788,
           27.684210526315788
          ],
          [
           28,
           28,
           28,
           28,
           28,
           28,
           28,
           28,
           28,
           28,
           28,
           28,
           28,
           28,
           28,
           28,
           28,
           28,
           28,
           28
          ]
         ],
         "z": [
          [
           131.87499999999997,
           133.58552631578945,
           135.29605263157893,
           137.0065789473684,
           138.7171052631579,
           140.42763157894737,
           142.13815789473682,
           143.8486842105263,
           145.55921052631578,
           147.26973684210526,
           148.98026315789474,
           150.6907894736842,
           152.40131578947367,
           154.11184210526315,
           155.82236842105263,
           157.5328947368421,
           159.24342105263156,
           160.95394736842104,
           162.66447368421052,
           164.375
          ],
          [
           133.05921052631575,
           134.76973684210523,
           136.4802631578947,
           138.1907894736842,
           139.90131578947367,
           141.61184210526315,
           143.3223684210526,
           145.03289473684208,
           146.74342105263156,
           148.45394736842104,
           150.16447368421052,
           151.87499999999997,
           153.58552631578945,
           155.29605263157893,
           157.0065789473684,
           158.7171052631579,
           160.42763157894734,
           162.13815789473682,
           163.8486842105263,
           165.55921052631578
          ],
          [
           134.24342105263156,
           135.95394736842104,
           137.66447368421052,
           139.37499999999997,
           141.08552631578945,
           142.79605263157893,
           144.5065789473684,
           146.21710526315786,
           147.92763157894734,
           149.63815789473682,
           151.3486842105263,
           153.05921052631578,
           154.76973684210526,
           156.4802631578947,
           158.1907894736842,
           159.90131578947367,
           161.61184210526315,
           163.3223684210526,
           165.03289473684208,
           166.74342105263156
          ],
          [
           135.42763157894734,
           137.13815789473682,
           138.8486842105263,
           140.55921052631575,
           142.26973684210523,
           143.9802631578947,
           145.6907894736842,
           147.40131578947364,
           149.11184210526312,
           150.8223684210526,
           152.53289473684208,
           154.24342105263156,
           155.95394736842104,
           157.6644736842105,
           159.37499999999997,
           161.08552631578945,
           162.79605263157893,
           164.50657894736838,
           166.21710526315786,
           167.92763157894734
          ],
          [
           136.61184210526315,
           138.32236842105263,
           140.03289473684208,
           141.74342105263156,
           143.45394736842104,
           145.16447368421052,
           146.87499999999997,
           148.58552631578945,
           150.29605263157893,
           152.0065789473684,
           153.7171052631579,
           155.42763157894734,
           157.13815789473682,
           158.8486842105263,
           160.55921052631578,
           162.26973684210526,
           163.9802631578947,
           165.6907894736842,
           167.40131578947367,
           169.11184210526315
          ],
          [
           137.79605263157893,
           139.5065789473684,
           141.2171052631579,
           142.92763157894734,
           144.63815789473682,
           146.3486842105263,
           148.05921052631578,
           149.76973684210523,
           151.4802631578947,
           153.1907894736842,
           154.90131578947367,
           156.61184210526315,
           158.32236842105263,
           160.03289473684208,
           161.74342105263156,
           163.45394736842104,
           165.16447368421052,
           166.87499999999997,
           168.58552631578945,
           170.29605263157893
          ],
          [
           138.9802631578947,
           140.6907894736842,
           142.40131578947367,
           144.11184210526315,
           145.82236842105263,
           147.5328947368421,
           149.24342105263156,
           150.95394736842104,
           152.66447368421052,
           154.375,
           156.08552631578948,
           157.79605263157893,
           159.5065789473684,
           161.2171052631579,
           162.92763157894737,
           164.63815789473685,
           166.3486842105263,
           168.05921052631578,
           169.76973684210526,
           171.48026315789474
          ],
          [
           140.1644736842105,
           141.87499999999997,
           143.58552631578945,
           145.29605263157893,
           147.0065789473684,
           148.7171052631579,
           150.42763157894734,
           152.13815789473682,
           153.8486842105263,
           155.55921052631578,
           157.26973684210526,
           158.9802631578947,
           160.6907894736842,
           162.40131578947367,
           164.11184210526315,
           165.82236842105263,
           167.53289473684208,
           169.24342105263156,
           170.95394736842104,
           172.66447368421052
          ],
          [
           141.3486842105263,
           143.05921052631578,
           144.76973684210526,
           146.4802631578947,
           148.1907894736842,
           149.90131578947367,
           151.61184210526315,
           153.3223684210526,
           155.03289473684208,
           156.74342105263156,
           158.45394736842104,
           160.16447368421052,
           161.875,
           163.58552631578945,
           165.29605263157893,
           167.0065789473684,
           168.7171052631579,
           170.42763157894734,
           172.13815789473682,
           173.8486842105263
          ],
          [
           142.53289473684208,
           144.24342105263156,
           145.95394736842104,
           147.6644736842105,
           149.37499999999997,
           151.08552631578945,
           152.79605263157893,
           154.50657894736838,
           156.21710526315786,
           157.92763157894734,
           159.63815789473682,
           161.3486842105263,
           163.05921052631578,
           164.76973684210523,
           166.4802631578947,
           168.1907894736842,
           169.90131578947367,
           171.61184210526312,
           173.3223684210526,
           175.03289473684208
          ],
          [
           143.7171052631579,
           145.42763157894737,
           147.13815789473682,
           148.8486842105263,
           150.55921052631578,
           152.26973684210526,
           153.9802631578947,
           155.6907894736842,
           157.40131578947367,
           159.11184210526315,
           160.82236842105263,
           162.53289473684208,
           164.24342105263156,
           165.95394736842104,
           167.66447368421052,
           169.375,
           171.08552631578945,
           172.79605263157893,
           174.5065789473684,
           176.2171052631579
          ],
          [
           144.90131578947367,
           146.61184210526315,
           148.32236842105263,
           150.03289473684208,
           151.74342105263156,
           153.45394736842104,
           155.16447368421052,
           156.87499999999997,
           158.58552631578945,
           160.29605263157893,
           162.0065789473684,
           163.7171052631579,
           165.42763157894737,
           167.13815789473682,
           168.8486842105263,
           170.55921052631578,
           172.26973684210526,
           173.9802631578947,
           175.6907894736842,
           177.40131578947367
          ],
          [
           146.08552631578945,
           147.79605263157893,
           149.5065789473684,
           151.2171052631579,
           152.92763157894737,
           154.63815789473685,
           156.3486842105263,
           158.05921052631578,
           159.76973684210526,
           161.48026315789474,
           163.19078947368422,
           164.90131578947367,
           166.61184210526315,
           168.32236842105263,
           170.0328947368421,
           171.7434210526316,
           173.45394736842104,
           175.16447368421052,
           176.875,
           178.58552631578948
          ],
          [
           147.26973684210526,
           148.98026315789474,
           150.6907894736842,
           152.40131578947367,
           154.11184210526315,
           155.82236842105263,
           157.53289473684208,
           159.24342105263156,
           160.95394736842104,
           162.66447368421052,
           164.375,
           166.08552631578945,
           167.79605263157893,
           169.5065789473684,
           171.2171052631579,
           172.92763157894737,
           174.63815789473682,
           176.3486842105263,
           178.05921052631578,
           179.76973684210526
          ],
          [
           148.45394736842104,
           150.16447368421052,
           151.87499999999997,
           153.58552631578945,
           155.29605263157893,
           157.0065789473684,
           158.71710526315786,
           160.42763157894734,
           162.13815789473682,
           163.8486842105263,
           165.55921052631578,
           167.26973684210523,
           168.9802631578947,
           170.6907894736842,
           172.40131578947367,
           174.11184210526315,
           175.8223684210526,
           177.53289473684208,
           179.24342105263156,
           180.95394736842104
          ],
          [
           149.63815789473682,
           151.3486842105263,
           153.05921052631578,
           154.76973684210523,
           156.4802631578947,
           158.1907894736842,
           159.90131578947367,
           161.61184210526312,
           163.3223684210526,
           165.03289473684208,
           166.74342105263156,
           168.45394736842104,
           170.16447368421052,
           171.87499999999997,
           173.58552631578945,
           175.29605263157893,
           177.0065789473684,
           178.71710526315786,
           180.42763157894734,
           182.13815789473682
          ],
          [
           150.82236842105263,
           152.5328947368421,
           154.2434210526316,
           155.95394736842104,
           157.66447368421052,
           159.375,
           161.08552631578948,
           162.79605263157893,
           164.5065789473684,
           166.2171052631579,
           167.92763157894737,
           169.63815789473685,
           171.34868421052633,
           173.05921052631578,
           174.76973684210526,
           176.48026315789474,
           178.19078947368422,
           179.90131578947367,
           181.61184210526315,
           183.32236842105263
          ],
          [
           152.0065789473684,
           153.7171052631579,
           155.42763157894737,
           157.13815789473682,
           158.8486842105263,
           160.55921052631578,
           162.26973684210526,
           163.9802631578947,
           165.6907894736842,
           167.40131578947367,
           169.11184210526315,
           170.82236842105263,
           172.5328947368421,
           174.24342105263156,
           175.95394736842104,
           177.66447368421052,
           179.375,
           181.08552631578945,
           182.79605263157893,
           184.5065789473684
          ],
          [
           153.1907894736842,
           154.90131578947367,
           156.61184210526315,
           158.3223684210526,
           160.03289473684208,
           161.74342105263156,
           163.45394736842104,
           165.1644736842105,
           166.87499999999997,
           168.58552631578945,
           170.29605263157893,
           172.0065789473684,
           173.7171052631579,
           175.42763157894734,
           177.13815789473682,
           178.8486842105263,
           180.55921052631578,
           182.26973684210523,
           183.9802631578947,
           185.6907894736842
          ],
          [
           154.375,
           156.08552631578948,
           157.79605263157893,
           159.5065789473684,
           161.2171052631579,
           162.92763157894737,
           164.63815789473682,
           166.3486842105263,
           168.05921052631578,
           169.76973684210526,
           171.48026315789474,
           173.1907894736842,
           174.90131578947367,
           176.61184210526315,
           178.32236842105263,
           180.0328947368421,
           181.74342105263156,
           183.45394736842104,
           185.16447368421052,
           186.875
          ]
         ]
        }
       ],
       "layout": {
        "scene": {
         "xaxis": {
          "title": {
           "text": "Variable X1"
          }
         },
         "yaxis": {
          "title": {
           "text": "Variable X2"
          }
         },
         "zaxis": {
          "title": {
           "text": "Variable Y"
          }
         }
        },
        "template": {
         "data": {
          "bar": [
           {
            "error_x": {
             "color": "#2a3f5f"
            },
            "error_y": {
             "color": "#2a3f5f"
            },
            "marker": {
             "line": {
              "color": "#E5ECF6",
              "width": 0.5
             },
             "pattern": {
              "fillmode": "overlay",
              "size": 10,
              "solidity": 0.2
             }
            },
            "type": "bar"
           }
          ],
          "barpolar": [
           {
            "marker": {
             "line": {
              "color": "#E5ECF6",
              "width": 0.5
             },
             "pattern": {
              "fillmode": "overlay",
              "size": 10,
              "solidity": 0.2
             }
            },
            "type": "barpolar"
           }
          ],
          "carpet": [
           {
            "aaxis": {
             "endlinecolor": "#2a3f5f",
             "gridcolor": "white",
             "linecolor": "white",
             "minorgridcolor": "white",
             "startlinecolor": "#2a3f5f"
            },
            "baxis": {
             "endlinecolor": "#2a3f5f",
             "gridcolor": "white",
             "linecolor": "white",
             "minorgridcolor": "white",
             "startlinecolor": "#2a3f5f"
            },
            "type": "carpet"
           }
          ],
          "choropleth": [
           {
            "colorbar": {
             "outlinewidth": 0,
             "ticks": ""
            },
            "type": "choropleth"
           }
          ],
          "contour": [
           {
            "colorbar": {
             "outlinewidth": 0,
             "ticks": ""
            },
            "colorscale": [
             [
              0,
              "#0d0887"
             ],
             [
              0.1111111111111111,
              "#46039f"
             ],
             [
              0.2222222222222222,
              "#7201a8"
             ],
             [
              0.3333333333333333,
              "#9c179e"
             ],
             [
              0.4444444444444444,
              "#bd3786"
             ],
             [
              0.5555555555555556,
              "#d8576b"
             ],
             [
              0.6666666666666666,
              "#ed7953"
             ],
             [
              0.7777777777777778,
              "#fb9f3a"
             ],
             [
              0.8888888888888888,
              "#fdca26"
             ],
             [
              1,
              "#f0f921"
             ]
            ],
            "type": "contour"
           }
          ],
          "contourcarpet": [
           {
            "colorbar": {
             "outlinewidth": 0,
             "ticks": ""
            },
            "type": "contourcarpet"
           }
          ],
          "heatmap": [
           {
            "colorbar": {
             "outlinewidth": 0,
             "ticks": ""
            },
            "colorscale": [
             [
              0,
              "#0d0887"
             ],
             [
              0.1111111111111111,
              "#46039f"
             ],
             [
              0.2222222222222222,
              "#7201a8"
             ],
             [
              0.3333333333333333,
              "#9c179e"
             ],
             [
              0.4444444444444444,
              "#bd3786"
             ],
             [
              0.5555555555555556,
              "#d8576b"
             ],
             [
              0.6666666666666666,
              "#ed7953"
             ],
             [
              0.7777777777777778,
              "#fb9f3a"
             ],
             [
              0.8888888888888888,
              "#fdca26"
             ],
             [
              1,
              "#f0f921"
             ]
            ],
            "type": "heatmap"
           }
          ],
          "heatmapgl": [
           {
            "colorbar": {
             "outlinewidth": 0,
             "ticks": ""
            },
            "colorscale": [
             [
              0,
              "#0d0887"
             ],
             [
              0.1111111111111111,
              "#46039f"
             ],
             [
              0.2222222222222222,
              "#7201a8"
             ],
             [
              0.3333333333333333,
              "#9c179e"
             ],
             [
              0.4444444444444444,
              "#bd3786"
             ],
             [
              0.5555555555555556,
              "#d8576b"
             ],
             [
              0.6666666666666666,
              "#ed7953"
             ],
             [
              0.7777777777777778,
              "#fb9f3a"
             ],
             [
              0.8888888888888888,
              "#fdca26"
             ],
             [
              1,
              "#f0f921"
             ]
            ],
            "type": "heatmapgl"
           }
          ],
          "histogram": [
           {
            "marker": {
             "pattern": {
              "fillmode": "overlay",
              "size": 10,
              "solidity": 0.2
             }
            },
            "type": "histogram"
           }
          ],
          "histogram2d": [
           {
            "colorbar": {
             "outlinewidth": 0,
             "ticks": ""
            },
            "colorscale": [
             [
              0,
              "#0d0887"
             ],
             [
              0.1111111111111111,
              "#46039f"
             ],
             [
              0.2222222222222222,
              "#7201a8"
             ],
             [
              0.3333333333333333,
              "#9c179e"
             ],
             [
              0.4444444444444444,
              "#bd3786"
             ],
             [
              0.5555555555555556,
              "#d8576b"
             ],
             [
              0.6666666666666666,
              "#ed7953"
             ],
             [
              0.7777777777777778,
              "#fb9f3a"
             ],
             [
              0.8888888888888888,
              "#fdca26"
             ],
             [
              1,
              "#f0f921"
             ]
            ],
            "type": "histogram2d"
           }
          ],
          "histogram2dcontour": [
           {
            "colorbar": {
             "outlinewidth": 0,
             "ticks": ""
            },
            "colorscale": [
             [
              0,
              "#0d0887"
             ],
             [
              0.1111111111111111,
              "#46039f"
             ],
             [
              0.2222222222222222,
              "#7201a8"
             ],
             [
              0.3333333333333333,
              "#9c179e"
             ],
             [
              0.4444444444444444,
              "#bd3786"
             ],
             [
              0.5555555555555556,
              "#d8576b"
             ],
             [
              0.6666666666666666,
              "#ed7953"
             ],
             [
              0.7777777777777778,
              "#fb9f3a"
             ],
             [
              0.8888888888888888,
              "#fdca26"
             ],
             [
              1,
              "#f0f921"
             ]
            ],
            "type": "histogram2dcontour"
           }
          ],
          "mesh3d": [
           {
            "colorbar": {
             "outlinewidth": 0,
             "ticks": ""
            },
            "type": "mesh3d"
           }
          ],
          "parcoords": [
           {
            "line": {
             "colorbar": {
              "outlinewidth": 0,
              "ticks": ""
             }
            },
            "type": "parcoords"
           }
          ],
          "pie": [
           {
            "automargin": true,
            "type": "pie"
           }
          ],
          "scatter": [
           {
            "fillpattern": {
             "fillmode": "overlay",
             "size": 10,
             "solidity": 0.2
            },
            "type": "scatter"
           }
          ],
          "scatter3d": [
           {
            "line": {
             "colorbar": {
              "outlinewidth": 0,
              "ticks": ""
             }
            },
            "marker": {
             "colorbar": {
              "outlinewidth": 0,
              "ticks": ""
             }
            },
            "type": "scatter3d"
           }
          ],
          "scattercarpet": [
           {
            "marker": {
             "colorbar": {
              "outlinewidth": 0,
              "ticks": ""
             }
            },
            "type": "scattercarpet"
           }
          ],
          "scattergeo": [
           {
            "marker": {
             "colorbar": {
              "outlinewidth": 0,
              "ticks": ""
             }
            },
            "type": "scattergeo"
           }
          ],
          "scattergl": [
           {
            "marker": {
             "colorbar": {
              "outlinewidth": 0,
              "ticks": ""
             }
            },
            "type": "scattergl"
           }
          ],
          "scattermapbox": [
           {
            "marker": {
             "colorbar": {
              "outlinewidth": 0,
              "ticks": ""
             }
            },
            "type": "scattermapbox"
           }
          ],
          "scatterpolar": [
           {
            "marker": {
             "colorbar": {
              "outlinewidth": 0,
              "ticks": ""
             }
            },
            "type": "scatterpolar"
           }
          ],
          "scatterpolargl": [
           {
            "marker": {
             "colorbar": {
              "outlinewidth": 0,
              "ticks": ""
             }
            },
            "type": "scatterpolargl"
           }
          ],
          "scatterternary": [
           {
            "marker": {
             "colorbar": {
              "outlinewidth": 0,
              "ticks": ""
             }
            },
            "type": "scatterternary"
           }
          ],
          "surface": [
           {
            "colorbar": {
             "outlinewidth": 0,
             "ticks": ""
            },
            "colorscale": [
             [
              0,
              "#0d0887"
             ],
             [
              0.1111111111111111,
              "#46039f"
             ],
             [
              0.2222222222222222,
              "#7201a8"
             ],
             [
              0.3333333333333333,
              "#9c179e"
             ],
             [
              0.4444444444444444,
              "#bd3786"
             ],
             [
              0.5555555555555556,
              "#d8576b"
             ],
             [
              0.6666666666666666,
              "#ed7953"
             ],
             [
              0.7777777777777778,
              "#fb9f3a"
             ],
             [
              0.8888888888888888,
              "#fdca26"
             ],
             [
              1,
              "#f0f921"
             ]
            ],
            "type": "surface"
           }
          ],
          "table": [
           {
            "cells": {
             "fill": {
              "color": "#EBF0F8"
             },
             "line": {
              "color": "white"
             }
            },
            "header": {
             "fill": {
              "color": "#C8D4E3"
             },
             "line": {
              "color": "white"
             }
            },
            "type": "table"
           }
          ]
         },
         "layout": {
          "annotationdefaults": {
           "arrowcolor": "#2a3f5f",
           "arrowhead": 0,
           "arrowwidth": 1
          },
          "autotypenumbers": "strict",
          "coloraxis": {
           "colorbar": {
            "outlinewidth": 0,
            "ticks": ""
           }
          },
          "colorscale": {
           "diverging": [
            [
             0,
             "#8e0152"
            ],
            [
             0.1,
             "#c51b7d"
            ],
            [
             0.2,
             "#de77ae"
            ],
            [
             0.3,
             "#f1b6da"
            ],
            [
             0.4,
             "#fde0ef"
            ],
            [
             0.5,
             "#f7f7f7"
            ],
            [
             0.6,
             "#e6f5d0"
            ],
            [
             0.7,
             "#b8e186"
            ],
            [
             0.8,
             "#7fbc41"
            ],
            [
             0.9,
             "#4d9221"
            ],
            [
             1,
             "#276419"
            ]
           ],
           "sequential": [
            [
             0,
             "#0d0887"
            ],
            [
             0.1111111111111111,
             "#46039f"
            ],
            [
             0.2222222222222222,
             "#7201a8"
            ],
            [
             0.3333333333333333,
             "#9c179e"
            ],
            [
             0.4444444444444444,
             "#bd3786"
            ],
            [
             0.5555555555555556,
             "#d8576b"
            ],
            [
             0.6666666666666666,
             "#ed7953"
            ],
            [
             0.7777777777777778,
             "#fb9f3a"
            ],
            [
             0.8888888888888888,
             "#fdca26"
            ],
            [
             1,
             "#f0f921"
            ]
           ],
           "sequentialminus": [
            [
             0,
             "#0d0887"
            ],
            [
             0.1111111111111111,
             "#46039f"
            ],
            [
             0.2222222222222222,
             "#7201a8"
            ],
            [
             0.3333333333333333,
             "#9c179e"
            ],
            [
             0.4444444444444444,
             "#bd3786"
            ],
            [
             0.5555555555555556,
             "#d8576b"
            ],
            [
             0.6666666666666666,
             "#ed7953"
            ],
            [
             0.7777777777777778,
             "#fb9f3a"
            ],
            [
             0.8888888888888888,
             "#fdca26"
            ],
            [
             1,
             "#f0f921"
            ]
           ]
          },
          "colorway": [
           "#636efa",
           "#EF553B",
           "#00cc96",
           "#ab63fa",
           "#FFA15A",
           "#19d3f3",
           "#FF6692",
           "#B6E880",
           "#FF97FF",
           "#FECB52"
          ],
          "font": {
           "color": "#2a3f5f"
          },
          "geo": {
           "bgcolor": "white",
           "lakecolor": "white",
           "landcolor": "#E5ECF6",
           "showlakes": true,
           "showland": true,
           "subunitcolor": "white"
          },
          "hoverlabel": {
           "align": "left"
          },
          "hovermode": "closest",
          "mapbox": {
           "style": "light"
          },
          "paper_bgcolor": "white",
          "plot_bgcolor": "#E5ECF6",
          "polar": {
           "angularaxis": {
            "gridcolor": "white",
            "linecolor": "white",
            "ticks": ""
           },
           "bgcolor": "#E5ECF6",
           "radialaxis": {
            "gridcolor": "white",
            "linecolor": "white",
            "ticks": ""
           }
          },
          "scene": {
           "xaxis": {
            "backgroundcolor": "#E5ECF6",
            "gridcolor": "white",
            "gridwidth": 2,
            "linecolor": "white",
            "showbackground": true,
            "ticks": "",
            "zerolinecolor": "white"
           },
           "yaxis": {
            "backgroundcolor": "#E5ECF6",
            "gridcolor": "white",
            "gridwidth": 2,
            "linecolor": "white",
            "showbackground": true,
            "ticks": "",
            "zerolinecolor": "white"
           },
           "zaxis": {
            "backgroundcolor": "#E5ECF6",
            "gridcolor": "white",
            "gridwidth": 2,
            "linecolor": "white",
            "showbackground": true,
            "ticks": "",
            "zerolinecolor": "white"
           }
          },
          "shapedefaults": {
           "line": {
            "color": "#2a3f5f"
           }
          },
          "ternary": {
           "aaxis": {
            "gridcolor": "white",
            "linecolor": "white",
            "ticks": ""
           },
           "baxis": {
            "gridcolor": "white",
            "linecolor": "white",
            "ticks": ""
           },
           "bgcolor": "#E5ECF6",
           "caxis": {
            "gridcolor": "white",
            "linecolor": "white",
            "ticks": ""
           }
          },
          "title": {
           "x": 0.05
          },
          "xaxis": {
           "automargin": true,
           "gridcolor": "white",
           "linecolor": "white",
           "ticks": "",
           "title": {
            "standoff": 15
           },
           "zerolinecolor": "white",
           "zerolinewidth": 2
          },
          "yaxis": {
           "automargin": true,
           "gridcolor": "white",
           "linecolor": "white",
           "ticks": "",
           "title": {
            "standoff": 15
           },
           "zerolinecolor": "white",
           "zerolinewidth": 2
          }
         }
        },
        "title": {
         "text": "REGRESION<br>R2: 0.8941176470588236 RMSE: 2.1213203435596424"
        }
       }
      }
     },
     "metadata": {},
     "output_type": "display_data"
    }
   ],
   "source": [
    "# Predecir valores para el plano de regresión\n",
    "x1_range = np.linspace(min(X['width']), max(X['width']), 20)\n",
    "x2_range = np.linspace(min(X['shoe_size']), max(X['shoe_size']), 20)\n",
    "x1_mesh, x2_mesh = np.meshgrid(x1_range, x2_range)\n",
    "y_mesh = lr_first.predict(np.vstack((x1_mesh.ravel(), x2_mesh.ravel())).T).reshape(x1_mesh.shape)\n",
    "\n",
    "# Crear scatterplot 3D de los puntos\n",
    "scatter = go.Scatter3d(\n",
    "    x=X['width'], y=X['shoe_size'], z=y,\n",
    "    mode='markers',\n",
    "    marker=dict(size=8, color='red')\n",
    ")\n",
    "\n",
    "# Crear el plano de regresión\n",
    "surface = go.Surface(\n",
    "    x=x1_mesh, y=x2_mesh, z=y_mesh,\n",
    "    colorscale='Viridis', opacity=0.5\n",
    ")\n",
    "\n",
    "# Configuración del layout\n",
    "layout = go.Layout(\n",
    "    title=f\"REGRESION<br>R2: {r2_score(y_test_f, pred_first)} RMSE: {root_mean_squared_error(y_test_f, pred_first)}\",\n",
    "    scene=dict(\n",
    "        xaxis_title='Variable X1',\n",
    "        yaxis_title='Variable X2',\n",
    "        zaxis_title='Variable Y'\n",
    "    )\n",
    ")\n",
    "\n",
    "# Crear la figura\n",
    "fig = go.Figure(data=[scatter, surface], layout=layout)\n",
    "\n",
    "# Mostrar la figura interactiva\n",
    "fig.show()\n"
   ]
  },
  {
   "cell_type": "markdown",
   "metadata": {},
   "source": [
    "**¿Por qué seleccionaste ese modelo?**\n",
    "\n",
    "Al tener pocos datos decidimos hacer una regresión simple ya que es un modelo fácil de interpretar y de aplicar. Modelos más complejos pueden sobreajustar los datos sobretodo con la poca cantidad de datos que hay."
   ]
  },
  {
   "cell_type": "markdown",
   "metadata": {},
   "source": [
    "**¿Utilizaste alguna regularización?**\n",
    "\n",
    "No, se hizo una regresión lineal simple, sin regularización."
   ]
  },
  {
   "cell_type": "markdown",
   "metadata": {},
   "source": [
    "## Parte 2"
   ]
  },
  {
   "cell_type": "markdown",
   "metadata": {},
   "source": [
    "### Modelo Iteso"
   ]
  },
  {
   "cell_type": "code",
   "execution_count": 10,
   "metadata": {},
   "outputs": [],
   "source": [
    "path = \"datos_gente_1.csv\"\n",
    "\n",
    "df_comb = pd.read_csv(path)"
   ]
  },
  {
   "cell_type": "code",
   "execution_count": 11,
   "metadata": {},
   "outputs": [
    {
     "data": {
      "text/plain": [
       "array([[<Axes: title={'center': 'height'}>,\n",
       "        <Axes: title={'center': 'width'}>],\n",
       "       [<Axes: title={'center': 'shoe_size'}>, <Axes: >]], dtype=object)"
      ]
     },
     "execution_count": 11,
     "metadata": {},
     "output_type": "execute_result"
    },
    {
     "data": {
      "image/png": "[encoded data removed]",
      "text/plain": [
       "<Figure size 640x480 with 4 Axes>"
      ]
     },
     "metadata": {},
     "output_type": "display_data"
    }
   ],
   "source": [
    "df_comb.hist(bins=20)"
   ]
  },
  {
   "cell_type": "code",
   "execution_count": 12,
   "metadata": {},
   "outputs": [],
   "source": [
    "X = df_comb[[\"width\", \"shoe_size\"]]\n",
    "y = df_comb[\"height\"]"
   ]
  },
  {
   "cell_type": "code",
   "execution_count": 13,
   "metadata": {},
   "outputs": [
    {
     "data": {
      "text/plain": [
       "<matplotlib.collections.PathCollection at 0x1800bdeef10>"
      ]
     },
     "execution_count": 13,
     "metadata": {},
     "output_type": "execute_result"
    },
    {
     "data": {
      "image/png": "[encoded data removed]",
      "text/plain": [
       "<Figure size 640x480 with 1 Axes>"
      ]
     },
     "metadata": {},
     "output_type": "display_data"
    }
   ],
   "source": [
    "plt.scatter(df_comb[\"shoe_size\"], df_comb[\"height\"])"
   ]
  },
  {
   "cell_type": "code",
   "execution_count": 14,
   "metadata": {},
   "outputs": [
    {
     "name": "stdout",
     "output_type": "stream",
     "text": [
      "165\n",
      "175.0\n"
     ]
    }
   ],
   "source": [
    "q25 = 165\n",
    "q75 = np.quantile(y, 0.75)\n",
    "\n",
    "print(q25)\n",
    "print(q75)\n",
    "\n",
    "df_left = df_comb[df_comb[\"height\"] <= q25]\n",
    "df_right = df_comb[df_comb[\"height\"] >= q75]\n",
    "df_center = df_comb[(df_comb[\"height\"] >= q25) & (df_comb[\"height\"] <= q75)] "
   ]
  },
  {
   "cell_type": "code",
   "execution_count": 15,
   "metadata": {},
   "outputs": [],
   "source": [
    "def sintetizar_datos(df_a_combinar, df_new):\n",
    "    X_left = df_new[[\"width\", \"shoe_size\"]]\n",
    "    y_left = df_new[\"height\"]\n",
    "\n",
    "    w_m = np.mean(df_new[\"width\"])\n",
    "    s_m = np.mean(df_new[\"shoe_size\"])\n",
    "    h_m = np.mean(df_new[\"height\"])\n",
    "\n",
    "    w_s = np.std(df_new[\"width\"])\n",
    "    s_s = np.std(df_new[\"shoe_size\"])\n",
    "    h_s = np.std(df_new[\"height\"])\n",
    "\n",
    "    new_data_w = np.random.normal(loc=w_m, scale=w_s, size=100)\n",
    "    new_data_s = np.random.normal(loc=s_m, scale=s_s, size=100)\n",
    "    new_data_h = np.random.normal(loc=h_m, scale=h_s, size=100)\n",
    "\n",
    "    new_sorted_w = sorted(new_data_w)\n",
    "    new_sorted_s = sorted(new_data_s)\n",
    "    new_sorted_h = sorted(new_data_h)\n",
    "\n",
    "    df_new_1 = pd.DataFrame({\n",
    "        \"width\": new_sorted_w,\n",
    "        \"shoe_size\": new_sorted_s,\n",
    "        \"height\": new_sorted_h\n",
    "    })\n",
    "\n",
    "    df_new_1 = df_new_1.apply(lambda x: round(x, 0))\n",
    "\n",
    "    df_a_combinar = pd.concat([df_a_combinar, df_new_1])\n",
    "    return df_a_combinar"
   ]
  },
  {
   "cell_type": "code",
   "execution_count": 16,
   "metadata": {},
   "outputs": [],
   "source": [
    "data_left = sintetizar_datos(df_comb, df_left)\n",
    "data_right = sintetizar_datos(df_comb, df_right)"
   ]
  },
  {
   "cell_type": "code",
   "execution_count": 17,
   "metadata": {},
   "outputs": [
    {
     "data": {
      "text/plain": [
       "167.86978805571255"
      ]
     },
     "execution_count": 17,
     "metadata": {},
     "output_type": "execute_result"
    }
   ],
   "source": [
    "data_left.mean().iloc[0] + (data_left.std().iloc[0] / 2)"
   ]
  },
  {
   "cell_type": "code",
   "execution_count": 18,
   "metadata": {},
   "outputs": [
    {
     "data": {
      "text/plain": [
       "(array([[<Axes: title={'center': 'height'}>,\n",
       "         <Axes: title={'center': 'width'}>],\n",
       "        [<Axes: title={'center': 'shoe_size'}>, <Axes: >]], dtype=object),\n",
       " array([[<Axes: title={'center': 'height'}>,\n",
       "         <Axes: title={'center': 'width'}>],\n",
       "        [<Axes: title={'center': 'shoe_size'}>, <Axes: >]], dtype=object),\n",
       " array([[<Axes: title={'center': 'height'}>,\n",
       "         <Axes: title={'center': 'width'}>],\n",
       "        [<Axes: title={'center': 'shoe_size'}>, <Axes: >]], dtype=object))"
      ]
     },
     "execution_count": 18,
     "metadata": {},
     "output_type": "execute_result"
    },
    {
     "data": {
      "image/png": "[encoded data removed]",
      "text/plain": [
       "<Figure size 640x480 with 4 Axes>"
      ]
     },
     "metadata": {},
     "output_type": "display_data"
    },
    {
     "data": {
      "image/png": "[encoded data removed]",
      "text/plain": [
       "<Figure size 640x480 with 4 Axes>"
      ]
     },
     "metadata": {},
     "output_type": "display_data"
    },
    {
     "data": {
      "image/png": "[encoded data removed]",
      "text/plain": [
       "<Figure size 640x480 with 4 Axes>"
      ]
     },
     "metadata": {},
     "output_type": "display_data"
    }
   ],
   "source": [
    "data_left.hist(), data_right.hist(), df_center.hist()"
   ]
  },
  {
   "cell_type": "code",
   "execution_count": 19,
   "metadata": {},
   "outputs": [],
   "source": [
    "x_train_left, x_test_left, y_train_left, y_test_left = train_test_split(data_left.drop(\"height\", axis=1), data_left[\"height\"], test_size= 0.2, random_state=55)\n",
    "x_train_right, x_test_right, y_train_right, y_test_right = train_test_split(data_right.drop(\"height\", axis=1), data_right[\"height\"], test_size= 0.2, random_state=55)\n",
    "x_train_center, x_test_center, y_train_center, y_test_center = train_test_split(df_comb.drop(\"height\", axis=1), df_comb[\"height\"], test_size= 0.2, random_state=55)"
   ]
  },
  {
   "cell_type": "code",
   "execution_count": 20,
   "metadata": {},
   "outputs": [],
   "source": [
    "ss_left = StandardScaler()\n",
    "ss_right = StandardScaler()\n",
    "ss_center = StandardScaler()\n",
    "\n",
    "\n",
    "X_train_s_left = ss_left.fit_transform(x_train_left)\n",
    "X_test_s_left = ss_left.transform(x_test_left)\n",
    "\n",
    "X_train_s_right = ss_right.fit_transform(x_train_right)\n",
    "X_test_s_right = ss_right.transform(x_test_right)\n",
    "\n",
    "X_train_s_center = ss_center.fit_transform(x_train_center)\n",
    "X_test_s_center = ss_center.transform(x_test_center)"
   ]
  },
  {
   "cell_type": "markdown",
   "metadata": {},
   "source": [
    "### Right model\n",
    "\n",
    "Aqui se crea el modelo que predice de manera más adecuada los valores de la derecha"
   ]
  },
  {
   "cell_type": "code",
   "execution_count": 21,
   "metadata": {},
   "outputs": [
    {
     "name": "stdout",
     "output_type": "stream",
     "text": [
      "R2: 0.8439610917037053 RMSE: 3.394952049368129\n"
     ]
    }
   ],
   "source": [
    "rg_r = Ridge(alpha = 10)\n",
    "rg_r.fit(X_train_s_right, y_train_right)\n",
    "r_pred_right = rg_r.predict(X_test_s_right)\n",
    "print(f\"R2: {r2_score(y_test_right, r_pred_right)} RMSE: {root_mean_squared_error(y_test_right, r_pred_right)}\")"
   ]
  },
  {
   "cell_type": "code",
   "execution_count": 22,
   "metadata": {},
   "outputs": [
    {
     "name": "stdout",
     "output_type": "stream",
     "text": [
      "Pendientes: [1.70196371 7.07931183]\n",
      "Intercepto: 175.10738255033556\n"
     ]
    }
   ],
   "source": [
    "print(f\"Pendientes: {rg_r.coef_}\")\n",
    "print(f\"Intercepto: {rg_r.intercept_}\")"
   ]
  },
  {
   "cell_type": "code",
   "execution_count": 23,
   "metadata": {},
   "outputs": [
    {
     "name": "stderr",
     "output_type": "stream",
     "text": [
      "c:\\Users\\Roi_f\\anaconda3\\envs\\personal\\Lib\\site-packages\\sklearn\\base.py:493: UserWarning:\n",
      "\n",
      "X does not have valid feature names, but StandardScaler was fitted with feature names\n",
      "\n"
     ]
    }
   ],
   "source": [
    "values_para_right = ss_right.transform([[36,22.5]])"
   ]
  },
  {
   "cell_type": "code",
   "execution_count": 24,
   "metadata": {},
   "outputs": [
    {
     "data": {
      "text/plain": [
       "array([155.96347294])"
      ]
     },
     "execution_count": 24,
     "metadata": {},
     "output_type": "execute_result"
    }
   ],
   "source": [
    "rg_r.predict(values_para_right)"
   ]
  },
  {
   "cell_type": "code",
   "execution_count": 25,
   "metadata": {},
   "outputs": [
    {
     "name": "stderr",
     "output_type": "stream",
     "text": [
      "c:\\Users\\Roi_f\\anaconda3\\envs\\personal\\Lib\\site-packages\\sklearn\\base.py:493: UserWarning:\n",
      "\n",
      "X does not have valid feature names, but StandardScaler was fitted with feature names\n",
      "\n"
     ]
    },
    {
     "data": {
      "application/vnd.plotly.v1+json": {
       "config": {
        "plotlyServerURL": "https://plot.ly"
       },
       "data": [
        {
         "marker": {
          "color": "red",
          "opacity": 0.7,
          "size": 8
         },
         "mode": "markers",
         "type": "scatter3d",
         "x": [
          45,
          50,
          56,
          53,
          52,
          50,
          45,
          46,
          36,
          50,
          42,
          47,
          51,
          43,
          43,
          39,
          51,
          36,
          43,
          56,
          42,
          52,
          41,
          48,
          45,
          47,
          47,
          48,
          42,
          50,
          47,
          50,
          49,
          61,
          47,
          49,
          42,
          53
         ],
         "y": [
          28,
          28,
          30,
          30,
          29,
          29,
          28,
          28,
          23,
          29,
          26,
          28,
          29,
          27,
          27,
          24.5,
          29,
          22.5,
          28,
          30,
          27,
          29,
          23.5,
          28,
          27.5,
          28,
          27,
          27,
          28,
          29,
          28,
          29,
          29,
          26,
          28,
          27,
          27,
          30
         ],
         "z": [
          180,
          173,
          190,
          186,
          185,
          183,
          180,
          181,
          164,
          183,
          170,
          181,
          185,
          176,
          177,
          166,
          184,
          153,
          182,
          191,
          177,
          185,
          153,
          182,
          172,
          181,
          168,
          172,
          177,
          183,
          181,
          183,
          182,
          168,
          181,
          176,
          173,
          186
         ]
        },
        {
         "colorscale": [
          [
           0,
           "#440154"
          ],
          [
           0.1111111111111111,
           "#482878"
          ],
          [
           0.2222222222222222,
           "#3e4989"
          ],
          [
           0.3333333333333333,
           "#31688e"
          ],
          [
           0.4444444444444444,
           "#26828e"
          ],
          [
           0.5555555555555556,
           "#1f9e89"
          ],
          [
           0.6666666666666666,
           "#35b779"
          ],
          [
           0.7777777777777778,
           "#6ece58"
          ],
          [
           0.8888888888888888,
           "#b5de2b"
          ],
          [
           1,
           "#fde725"
          ]
         ],
         "opacity": 0.5,
         "type": "surface",
         "x": [
          [
           33,
           34.26315789473684,
           35.526315789473685,
           36.78947368421053,
           38.05263157894737,
           39.31578947368421,
           40.578947368421055,
           41.84210526315789,
           43.10526315789474,
           44.368421052631575,
           45.631578947368425,
           46.89473684210526,
           48.1578947368421,
           49.421052631578945,
           50.68421052631579,
           51.94736842105263,
           53.21052631578947,
           54.473684210526315,
           55.73684210526316,
           57
          ],
          [
           33,
           34.26315789473684,
           35.526315789473685,
           36.78947368421053,
           38.05263157894737,
           39.31578947368421,
           40.578947368421055,
           41.84210526315789,
           43.10526315789474,
           44.368421052631575,
           45.631578947368425,
           46.89473684210526,
           48.1578947368421,
           49.421052631578945,
           50.68421052631579,
           51.94736842105263,
           53.21052631578947,
           54.473684210526315,
           55.73684210526316,
           57
          ],
          [
           33,
           34.26315789473684,
           35.526315789473685,
           36.78947368421053,
           38.05263157894737,
           39.31578947368421,
           40.578947368421055,
           41.84210526315789,
           43.10526315789474,
           44.368421052631575,
           45.631578947368425,
           46.89473684210526,
           48.1578947368421,
           49.421052631578945,
           50.68421052631579,
           51.94736842105263,
           53.21052631578947,
           54.473684210526315,
           55.73684210526316,
           57
          ],
          [
           33,
           34.26315789473684,
           35.526315789473685,
           36.78947368421053,
           38.05263157894737,
           39.31578947368421,
           40.578947368421055,
           41.84210526315789,
           43.10526315789474,
           44.368421052631575,
           45.631578947368425,
           46.89473684210526,
           48.1578947368421,
           49.421052631578945,
           50.68421052631579,
           51.94736842105263,
           53.21052631578947,
           54.473684210526315,
           55.73684210526316,
           57
          ],
          [
           33,
           34.26315789473684,
           35.526315789473685,
           36.78947368421053,
           38.05263157894737,
           39.31578947368421,
           40.578947368421055,
           41.84210526315789,
           43.10526315789474,
           44.368421052631575,
           45.631578947368425,
           46.89473684210526,
           48.1578947368421,
           49.421052631578945,
           50.68421052631579,
           51.94736842105263,
           53.21052631578947,
           54.473684210526315,
           55.73684210526316,
           57
          ],
          [
           33,
           34.26315789473684,
           35.526315789473685,
           36.78947368421053,
           38.05263157894737,
           39.31578947368421,
           40.578947368421055,
           41.84210526315789,
           43.10526315789474,
           44.368421052631575,
           45.631578947368425,
           46.89473684210526,
           48.1578947368421,
           49.421052631578945,
           50.68421052631579,
           51.94736842105263,
           53.21052631578947,
           54.473684210526315,
           55.73684210526316,
           57
          ],
          [
           33,
           34.26315789473684,
           35.526315789473685,
           36.78947368421053,
           38.05263157894737,
           39.31578947368421,
           40.578947368421055,
           41.84210526315789,
           43.10526315789474,
           44.368421052631575,
           45.631578947368425,
           46.89473684210526,
           48.1578947368421,
           49.421052631578945,
           50.68421052631579,
           51.94736842105263,
           53.21052631578947,
           54.473684210526315,
           55.73684210526316,
           57
          ],
          [
           33,
           34.26315789473684,
           35.526315789473685,
           36.78947368421053,
           38.05263157894737,
           39.31578947368421,
           40.578947368421055,
           41.84210526315789,
           43.10526315789474,
           44.368421052631575,
           45.631578947368425,
           46.89473684210526,
           48.1578947368421,
           49.421052631578945,
           50.68421052631579,
           51.94736842105263,
           53.21052631578947,
           54.473684210526315,
           55.73684210526316,
           57
          ],
          [
           33,
           34.26315789473684,
           35.526315789473685,
           36.78947368421053,
           38.05263157894737,
           39.31578947368421,
           40.578947368421055,
           41.84210526315789,
           43.10526315789474,
           44.368421052631575,
           45.631578947368425,
           46.89473684210526,
           48.1578947368421,
           49.421052631578945,
           50.68421052631579,
           51.94736842105263,
           53.21052631578947,
           54.473684210526315,
           55.73684210526316,
           57
          ],
          [
           33,
           34.26315789473684,
           35.526315789473685,
           36.78947368421053,
           38.05263157894737,
           39.31578947368421,
           40.578947368421055,
           41.84210526315789,
           43.10526315789474,
           44.368421052631575,
           45.631578947368425,
           46.89473684210526,
           48.1578947368421,
           49.421052631578945,
           50.68421052631579,
           51.94736842105263,
           53.21052631578947,
           54.473684210526315,
           55.73684210526316,
           57
          ],
          [
           33,
           34.26315789473684,
           35.526315789473685,
           36.78947368421053,
           38.05263157894737,
           39.31578947368421,
           40.578947368421055,
           41.84210526315789,
           43.10526315789474,
           44.368421052631575,
           45.631578947368425,
           46.89473684210526,
           48.1578947368421,
           49.421052631578945,
           50.68421052631579,
           51.94736842105263,
           53.21052631578947,
           54.473684210526315,
           55.73684210526316,
           57
          ],
          [
           33,
           34.26315789473684,
           35.526315789473685,
           36.78947368421053,
           38.05263157894737,
           39.31578947368421,
           40.578947368421055,
           41.84210526315789,
           43.10526315789474,
           44.368421052631575,
           45.631578947368425,
           46.89473684210526,
           48.1578947368421,
           49.421052631578945,
           50.68421052631579,
           51.94736842105263,
           53.21052631578947,
           54.473684210526315,
           55.73684210526316,
           57
          ],
          [
           33,
           34.26315789473684,
           35.526315789473685,
           36.78947368421053,
           38.05263157894737,
           39.31578947368421,
           40.578947368421055,
           41.84210526315789,
           43.10526315789474,
           44.368421052631575,
           45.631578947368425,
           46.89473684210526,
           48.1578947368421,
           49.421052631578945,
           50.68421052631579,
           51.94736842105263,
           53.21052631578947,
           54.473684210526315,
           55.73684210526316,
           57
          ],
          [
           33,
           34.26315789473684,
           35.526315789473685,
           36.78947368421053,
           38.05263157894737,
           39.31578947368421,
           40.578947368421055,
           41.84210526315789,
           43.10526315789474,
           44.368421052631575,
           45.631578947368425,
           46.89473684210526,
           48.1578947368421,
           49.421052631578945,
           50.68421052631579,
           51.94736842105263,
           53.21052631578947,
           54.473684210526315,
           55.73684210526316,
           57
          ],
          [
           33,
           34.26315789473684,
           35.526315789473685,
           36.78947368421053,
           38.05263157894737,
           39.31578947368421,
           40.578947368421055,
           41.84210526315789,
           43.10526315789474,
           44.368421052631575,
           45.631578947368425,
           46.89473684210526,
           48.1578947368421,
           49.421052631578945,
           50.68421052631579,
           51.94736842105263,
           53.21052631578947,
           54.473684210526315,
           55.73684210526316,
           57
          ],
          [
           33,
           34.26315789473684,
           35.526315789473685,
           36.78947368421053,
           38.05263157894737,
           39.31578947368421,
           40.578947368421055,
           41.84210526315789,
           43.10526315789474,
           44.368421052631575,
           45.631578947368425,
           46.89473684210526,
           48.1578947368421,
           49.421052631578945,
           50.68421052631579,
           51.94736842105263,
           53.21052631578947,
           54.473684210526315,
           55.73684210526316,
           57
          ],
          [
           33,
           34.26315789473684,
           35.526315789473685,
           36.78947368421053,
           38.05263157894737,
           39.31578947368421,
           40.578947368421055,
           41.84210526315789,
           43.10526315789474,
           44.368421052631575,
           45.631578947368425,
           46.89473684210526,
           48.1578947368421,
           49.421052631578945,
           50.68421052631579,
           51.94736842105263,
           53.21052631578947,
           54.473684210526315,
           55.73684210526316,
           57
          ],
          [
           33,
           34.26315789473684,
           35.526315789473685,
           36.78947368421053,
           38.05263157894737,
           39.31578947368421,
           40.578947368421055,
           41.84210526315789,
           43.10526315789474,
           44.368421052631575,
           45.631578947368425,
           46.89473684210526,
           48.1578947368421,
           49.421052631578945,
           50.68421052631579,
           51.94736842105263,
           53.21052631578947,
           54.473684210526315,
           55.73684210526316,
           57
          ],
          [
           33,
           34.26315789473684,
           35.526315789473685,
           36.78947368421053,
           38.05263157894737,
           39.31578947368421,
           40.578947368421055,
           41.84210526315789,
           43.10526315789474,
           44.368421052631575,
           45.631578947368425,
           46.89473684210526,
           48.1578947368421,
           49.421052631578945,
           50.68421052631579,
           51.94736842105263,
           53.21052631578947,
           54.473684210526315,
           55.73684210526316,
           57
          ],
          [
           33,
           34.26315789473684,
           35.526315789473685,
           36.78947368421053,
           38.05263157894737,
           39.31578947368421,
           40.578947368421055,
           41.84210526315789,
           43.10526315789474,
           44.368421052631575,
           45.631578947368425,
           46.89473684210526,
           48.1578947368421,
           49.421052631578945,
           50.68421052631579,
           51.94736842105263,
           53.21052631578947,
           54.473684210526315,
           55.73684210526316,
           57
          ]
         ],
         "y": [
          [
           22,
           22,
           22,
           22,
           22,
           22,
           22,
           22,
           22,
           22,
           22,
           22,
           22,
           22,
           22,
           22,
           22,
           22,
           22,
           22
          ],
          [
           22.473684210526315,
           22.473684210526315,
           22.473684210526315,
           22.473684210526315,
           22.473684210526315,
           22.473684210526315,
           22.473684210526315,
           22.473684210526315,
           22.473684210526315,
           22.473684210526315,
           22.473684210526315,
           22.473684210526315,
           22.473684210526315,
           22.473684210526315,
           22.473684210526315,
           22.473684210526315,
           22.473684210526315,
           22.473684210526315,
           22.473684210526315,
           22.473684210526315
          ],
          [
           22.94736842105263,
           22.94736842105263,
           22.94736842105263,
           22.94736842105263,
           22.94736842105263,
           22.94736842105263,
           22.94736842105263,
           22.94736842105263,
           22.94736842105263,
           22.94736842105263,
           22.94736842105263,
           22.94736842105263,
           22.94736842105263,
           22.94736842105263,
           22.94736842105263,
           22.94736842105263,
           22.94736842105263,
           22.94736842105263,
           22.94736842105263,
           22.94736842105263
          ],
          [
           23.42105263157895,
           23.42105263157895,
           23.42105263157895,
           23.42105263157895,
           23.42105263157895,
           23.42105263157895,
           23.42105263157895,
           23.42105263157895,
           23.42105263157895,
           23.42105263157895,
           23.42105263157895,
           23.42105263157895,
           23.42105263157895,
           23.42105263157895,
           23.42105263157895,
           23.42105263157895,
           23.42105263157895,
           23.42105263157895,
           23.42105263157895,
           23.42105263157895
          ],
          [
           23.894736842105264,
           23.894736842105264,
           23.894736842105264,
           23.894736842105264,
           23.894736842105264,
           23.894736842105264,
           23.894736842105264,
           23.894736842105264,
           23.894736842105264,
           23.894736842105264,
           23.894736842105264,
           23.894736842105264,
           23.894736842105264,
           23.894736842105264,
           23.894736842105264,
           23.894736842105264,
           23.894736842105264,
           23.894736842105264,
           23.894736842105264,
           23.894736842105264
          ],
          [
           24.36842105263158,
           24.36842105263158,
           24.36842105263158,
           24.36842105263158,
           24.36842105263158,
           24.36842105263158,
           24.36842105263158,
           24.36842105263158,
           24.36842105263158,
           24.36842105263158,
           24.36842105263158,
           24.36842105263158,
           24.36842105263158,
           24.36842105263158,
           24.36842105263158,
           24.36842105263158,
           24.36842105263158,
           24.36842105263158,
           24.36842105263158,
           24.36842105263158
          ],
          [
           24.842105263157894,
           24.842105263157894,
           24.842105263157894,
           24.842105263157894,
           24.842105263157894,
           24.842105263157894,
           24.842105263157894,
           24.842105263157894,
           24.842105263157894,
           24.842105263157894,
           24.842105263157894,
           24.842105263157894,
           24.842105263157894,
           24.842105263157894,
           24.842105263157894,
           24.842105263157894,
           24.842105263157894,
           24.842105263157894,
           24.842105263157894,
           24.842105263157894
          ],
          [
           25.31578947368421,
           25.31578947368421,
           25.31578947368421,
           25.31578947368421,
           25.31578947368421,
           25.31578947368421,
           25.31578947368421,
           25.31578947368421,
           25.31578947368421,
           25.31578947368421,
           25.31578947368421,
           25.31578947368421,
           25.31578947368421,
           25.31578947368421,
           25.31578947368421,
           25.31578947368421,
           25.31578947368421,
           25.31578947368421,
           25.31578947368421,
           25.31578947368421
          ],
          [
           25.789473684210527,
           25.789473684210527,
           25.789473684210527,
           25.789473684210527,
           25.789473684210527,
           25.789473684210527,
           25.789473684210527,
           25.789473684210527,
           25.789473684210527,
           25.789473684210527,
           25.789473684210527,
           25.789473684210527,
           25.789473684210527,
           25.789473684210527,
           25.789473684210527,
           25.789473684210527,
           25.789473684210527,
           25.789473684210527,
           25.789473684210527,
           25.789473684210527
          ],
          [
           26.263157894736842,
           26.263157894736842,
           26.263157894736842,
           26.263157894736842,
           26.263157894736842,
           26.263157894736842,
           26.263157894736842,
           26.263157894736842,
           26.263157894736842,
           26.263157894736842,
           26.263157894736842,
           26.263157894736842,
           26.263157894736842,
           26.263157894736842,
           26.263157894736842,
           26.263157894736842,
           26.263157894736842,
           26.263157894736842,
           26.263157894736842,
           26.263157894736842
          ],
          [
           26.736842105263158,
           26.736842105263158,
           26.736842105263158,
           26.736842105263158,
           26.736842105263158,
           26.736842105263158,
           26.736842105263158,
           26.736842105263158,
           26.736842105263158,
           26.736842105263158,
           26.736842105263158,
           26.736842105263158,
           26.736842105263158,
           26.736842105263158,
           26.736842105263158,
           26.736842105263158,
           26.736842105263158,
           26.736842105263158,
           26.736842105263158,
           26.736842105263158
          ],
          [
           27.210526315789473,
           27.210526315789473,
           27.210526315789473,
           27.210526315789473,
           27.210526315789473,
           27.210526315789473,
           27.210526315789473,
           27.210526315789473,
           27.210526315789473,
           27.210526315789473,
           27.210526315789473,
           27.210526315789473,
           27.210526315789473,
           27.210526315789473,
           27.210526315789473,
           27.210526315789473,
           27.210526315789473,
           27.210526315789473,
           27.210526315789473,
           27.210526315789473
          ],
          [
           27.684210526315788,
           27.684210526315788,
           27.684210526315788,
           27.684210526315788,
           27.684210526315788,
           27.684210526315788,
           27.684210526315788,
           27.684210526315788,
           27.684210526315788,
           27.684210526315788,
           27.684210526315788,
           27.684210526315788,
           27.684210526315788,
           27.684210526315788,
           27.684210526315788,
           27.684210526315788,
           27.684210526315788,
           27.684210526315788,
           27.684210526315788,
           27.684210526315788
          ],
          [
           28.157894736842106,
           28.157894736842106,
           28.157894736842106,
           28.157894736842106,
           28.157894736842106,
           28.157894736842106,
           28.157894736842106,
           28.157894736842106,
           28.157894736842106,
           28.157894736842106,
           28.157894736842106,
           28.157894736842106,
           28.157894736842106,
           28.157894736842106,
           28.157894736842106,
           28.157894736842106,
           28.157894736842106,
           28.157894736842106,
           28.157894736842106,
           28.157894736842106
          ],
          [
           28.63157894736842,
           28.63157894736842,
           28.63157894736842,
           28.63157894736842,
           28.63157894736842,
           28.63157894736842,
           28.63157894736842,
           28.63157894736842,
           28.63157894736842,
           28.63157894736842,
           28.63157894736842,
           28.63157894736842,
           28.63157894736842,
           28.63157894736842,
           28.63157894736842,
           28.63157894736842,
           28.63157894736842,
           28.63157894736842,
           28.63157894736842,
           28.63157894736842
          ],
          [
           29.105263157894736,
           29.105263157894736,
           29.105263157894736,
           29.105263157894736,
           29.105263157894736,
           29.105263157894736,
           29.105263157894736,
           29.105263157894736,
           29.105263157894736,
           29.105263157894736,
           29.105263157894736,
           29.105263157894736,
           29.105263157894736,
           29.105263157894736,
           29.105263157894736,
           29.105263157894736,
           29.105263157894736,
           29.105263157894736,
           29.105263157894736,
           29.105263157894736
          ],
          [
           29.57894736842105,
           29.57894736842105,
           29.57894736842105,
           29.57894736842105,
           29.57894736842105,
           29.57894736842105,
           29.57894736842105,
           29.57894736842105,
           29.57894736842105,
           29.57894736842105,
           29.57894736842105,
           29.57894736842105,
           29.57894736842105,
           29.57894736842105,
           29.57894736842105,
           29.57894736842105,
           29.57894736842105,
           29.57894736842105,
           29.57894736842105,
           29.57894736842105
          ],
          [
           30.05263157894737,
           30.05263157894737,
           30.05263157894737,
           30.05263157894737,
           30.05263157894737,
           30.05263157894737,
           30.05263157894737,
           30.05263157894737,
           30.05263157894737,
           30.05263157894737,
           30.05263157894737,
           30.05263157894737,
           30.05263157894737,
           30.05263157894737,
           30.05263157894737,
           30.05263157894737,
           30.05263157894737,
           30.05263157894737,
           30.05263157894737,
           30.05263157894737
          ],
          [
           30.526315789473685,
           30.526315789473685,
           30.526315789473685,
           30.526315789473685,
           30.526315789473685,
           30.526315789473685,
           30.526315789473685,
           30.526315789473685,
           30.526315789473685,
           30.526315789473685,
           30.526315789473685,
           30.526315789473685,
           30.526315789473685,
           30.526315789473685,
           30.526315789473685,
           30.526315789473685,
           30.526315789473685,
           30.526315789473685,
           30.526315789473685,
           30.526315789473685
          ],
          [
           31,
           31,
           31,
           31,
           31,
           31,
           31,
           31,
           31,
           31,
           31,
           31,
           31,
           31,
           31,
           31,
           31,
           31,
           31,
           31
          ]
         ],
         "z": [
          [
           153.163715895698,
           153.6112822791015,
           154.05884866250497,
           154.50641504590845,
           154.95398142931194,
           155.40154781271542,
           155.84911419611888,
           156.29668057952236,
           156.74424696292584,
           157.19181334632933,
           157.6393797297328,
           158.0869461131363,
           158.53451249653978,
           158.98207887994326,
           159.42964526334674,
           159.87721164675023,
           160.3247780301537,
           160.7723444135572,
           161.21991079696068,
           161.66747718036416
          ],
          [
           154.80909294058384,
           155.25665932398732,
           155.7042257073908,
           156.1517920907943,
           156.59935847419777,
           157.04692485760125,
           157.49449124100474,
           157.94205762440822,
           158.3896240078117,
           158.8371903912152,
           159.28475677461867,
           159.73232315802215,
           160.17988954142564,
           160.62745592482912,
           161.07502230823258,
           161.52258869163606,
           161.97015507503954,
           162.41772145844303,
           162.8652878418465,
           163.31285422525
          ],
          [
           156.4544699854697,
           156.90203636887318,
           157.34960275227667,
           157.79716913568015,
           158.24473551908363,
           158.69230190248712,
           159.1398682858906,
           159.58743466929405,
           160.03500105269757,
           160.48256743610102,
           160.9301338195045,
           161.377700202908,
           161.82526658631147,
           162.27283296971495,
           162.72039935311844,
           163.16796573652192,
           163.6155321199254,
           164.0630985033289,
           164.51066488673237,
           164.95823127013585
          ],
          [
           158.09984703035556,
           158.54741341375905,
           158.99497979716253,
           159.442546180566,
           159.8901125639695,
           160.33767894737298,
           160.78524533077646,
           161.23281171417995,
           161.68037809758343,
           162.12794448098688,
           162.57551086439037,
           163.02307724779385,
           163.47064363119733,
           163.91821001460082,
           164.3657763980043,
           164.81334278140778,
           165.26090916481127,
           165.70847554821475,
           166.15604193161823,
           166.60360831502172
          ],
          [
           159.74522407524142,
           160.1927904586449,
           160.6403568420484,
           161.08792322545185,
           161.53548960885533,
           161.9830559922588,
           162.4306223756623,
           162.87818875906578,
           163.32575514246926,
           163.77332152587275,
           164.22088790927623,
           164.6684542926797,
           165.1160206760832,
           165.56358705948668,
           166.01115344289016,
           166.45871982629365,
           166.90628620969713,
           167.3538525931006,
           167.80141897650407,
           168.24898535990755
          ],
          [
           161.39060112012726,
           161.83816750353074,
           162.28573388693422,
           162.7333002703377,
           163.1808666537412,
           163.62843303714467,
           164.07599942054816,
           164.52356580395164,
           164.97113218735512,
           165.4186985707586,
           165.8662649541621,
           166.31383133756557,
           166.76139772096906,
           167.2089641043725,
           167.656530487776,
           168.10409687117948,
           168.55166325458296,
           168.99922963798645,
           169.44679602138993,
           169.8943624047934
          ],
          [
           163.03597816501312,
           163.4835445484166,
           163.9311109318201,
           164.37867731522357,
           164.82624369862705,
           165.27381008203054,
           165.72137646543402,
           166.16894284883747,
           166.61650923224096,
           167.06407561564444,
           167.51164199904792,
           167.9592083824514,
           168.4067747658549,
           168.85434114925837,
           169.30190753266186,
           169.74947391606534,
           170.19704029946882,
           170.6446066828723,
           171.0921730662758,
           171.53973944967927
          ],
          [
           164.68135520989898,
           165.12892159330244,
           165.57648797670592,
           166.0240543601094,
           166.4716207435129,
           166.91918712691637,
           167.36675351031985,
           167.81431989372334,
           168.26188627712682,
           168.7094526605303,
           169.1570190439338,
           169.60458542733727,
           170.05215181074075,
           170.49971819414424,
           170.94728457754772,
           171.3948509609512,
           171.84241734435466,
           172.28998372775814,
           172.73755011116162,
           173.1851164945651
          ],
          [
           166.32673225478484,
           166.77429863818833,
           167.22186502159178,
           167.66943140499527,
           168.11699778839875,
           168.56456417180223,
           169.01213055520572,
           169.4596969386092,
           169.90726332201268,
           170.35482970541617,
           170.80239608881965,
           171.24996247222313,
           171.69752885562662,
           172.1450952390301,
           172.59266162243358,
           173.04022800583706,
           173.48779438924055,
           173.935360772644,
           174.3829271560475,
           174.83049353945097
          ],
          [
           167.97210929967068,
           168.41967568307416,
           168.86724206647764,
           169.31480844988113,
           169.7623748332846,
           170.2099412166881,
           170.65750760009158,
           171.10507398349506,
           171.55264036689854,
           172.00020675030203,
           172.4477731337055,
           172.89533951710897,
           173.34290590051245,
           173.79047228391593,
           174.23803866731942,
           174.6856050507229,
           175.13317143412638,
           175.58073781752987,
           176.02830420093335,
           176.47587058433683
          ],
          [
           169.61748634455654,
           170.06505272796002,
           170.5126191113635,
           170.960185494767,
           171.40775187817047,
           171.85531826157393,
           172.3028846449774,
           172.7504510283809,
           173.19801741178438,
           173.64558379518786,
           174.09315017859134,
           174.54071656199483,
           174.9882829453983,
           175.4358493288018,
           175.88341571220528,
           176.33098209560876,
           176.77854847901224,
           177.22611486241573,
           177.6736812458192,
           178.1212476292227
          ],
          [
           171.26286338944237,
           171.71042977284586,
           172.15799615624934,
           172.60556253965282,
           173.0531289230563,
           173.5006953064598,
           173.94826168986327,
           174.39582807326676,
           174.84339445667024,
           175.29096084007372,
           175.7385272234772,
           176.1860936068807,
           176.63365999028417,
           177.08122637368766,
           177.5287927570911,
           177.9763591404946,
           178.42392552389808,
           178.87149190730156,
           179.31905829070504,
           179.76662467410853
          ],
          [
           172.90824043432823,
           173.35580681773172,
           173.8033732011352,
           174.25093958453868,
           174.69850596794217,
           175.14607235134565,
           175.59363873474913,
           176.04120511815262,
           176.4887715015561,
           176.93633788495956,
           177.38390426836304,
           177.83147065176652,
           178.27903703517,
           178.7266034185735,
           179.17416980197697,
           179.62173618538046,
           180.06930256878394,
           180.51686895218742,
           180.9644353355909,
           181.4120017189944
          ],
          [
           174.5536174792141,
           175.00118386261758,
           175.44875024602106,
           175.89631662942455,
           176.34388301282803,
           176.7914493962315,
           177.239015779635,
           177.68658216303848,
           178.13414854644196,
           178.58171492984542,
           179.0292813132489,
           179.47684769665238,
           179.92441408005587,
           180.37198046345935,
           180.81954684686283,
           181.26711323026632,
           181.7146796136698,
           182.16224599707328,
           182.60981238047677,
           183.05737876388025
          ],
          [
           176.19899452409996,
           176.64656090750344,
           177.09412729090693,
           177.5416936743104,
           177.98926005771386,
           178.43682644111735,
           178.88439282452083,
           179.3319592079243,
           179.7795255913278,
           180.22709197473128,
           180.67465835813476,
           181.12222474153825,
           181.56979112494173,
           182.0173575083452,
           182.4649238917487,
           182.91249027515218,
           183.36005665855566,
           183.80762304195915,
           184.25518942536263,
           184.70275580876609
          ],
          [
           177.8443715689858,
           178.29193795238928,
           178.73950433579276,
           179.18707071919624,
           179.63463710259973,
           180.0822034860032,
           180.5297698694067,
           180.97733625281018,
           181.42490263621366,
           181.87246901961714,
           182.32003540302063,
           182.7676017864241,
           183.21516816982756,
           183.66273455323105,
           184.11030093663453,
           184.557867320038,
           185.0054337034415,
           185.45300008684498,
           185.90056647024846,
           186.34813285365195
          ],
          [
           179.48974861387165,
           179.93731499727514,
           180.38488138067862,
           180.8324477640821,
           181.2800141474856,
           181.72758053088907,
           182.17514691429255,
           182.622713297696,
           183.0702796810995,
           183.51784606450298,
           183.96541244790646,
           184.41297883130994,
           184.86054521471343,
           185.3081115981169,
           185.7556779815204,
           186.20324436492388,
           186.65081074832736,
           187.09837713173084,
           187.54594351513433,
           187.9935098985378
          ],
          [
           181.13512565875752,
           181.582692042161,
           182.03025842556448,
           182.47782480896797,
           182.92539119237145,
           183.37295757577493,
           183.82052395917842,
           184.26809034258187,
           184.71565672598535,
           185.16322310938884,
           185.61078949279232,
           186.0583558761958,
           186.5059222595993,
           186.95348864300277,
           187.40105502640625,
           187.84862140980974,
           188.29618779321322,
           188.7437541766167,
           189.1913205600202,
           189.63888694342367
          ],
          [
           182.78050270364338,
           183.22806908704683,
           183.67563547045032,
           184.1232018538538,
           184.57076823725728,
           185.01833462066077,
           185.46590100406425,
           185.91346738746773,
           186.36103377087122,
           186.8086001542747,
           187.25616653767818,
           187.70373292108167,
           188.15129930448515,
           188.59886568788863,
           189.04643207129212,
           189.4939984546956,
           189.94156483809905,
           190.38913122150254,
           190.83669760490602,
           191.2842639883095
          ],
          [
           184.4258797485292,
           184.8734461319327,
           185.32101251533618,
           185.76857889873966,
           186.21614528214315,
           186.66371166554663,
           187.1112780489501,
           187.5588444323536,
           188.00641081575708,
           188.45397719916056,
           188.90154358256405,
           189.3491099659675,
           189.79667634937098,
           190.24424273277447,
           190.69180911617795,
           191.13937549958143,
           191.58694188298492,
           192.0345082663884,
           192.48207464979188,
           192.92964103319537
          ]
         ]
        }
       ],
       "layout": {
        "scene": {
         "xaxis": {
          "title": {
           "text": "Ancho"
          }
         },
         "yaxis": {
          "title": {
           "text": "Pie"
          }
         },
         "zaxis": {
          "title": {
           "text": "Altura"
          }
         }
        },
        "template": {
         "data": {
          "bar": [
           {
            "error_x": {
             "color": "#2a3f5f"
            },
            "error_y": {
             "color": "#2a3f5f"
            },
            "marker": {
             "line": {
              "color": "#E5ECF6",
              "width": 0.5
             },
             "pattern": {
              "fillmode": "overlay",
              "size": 10,
              "solidity": 0.2
             }
            },
            "type": "bar"
           }
          ],
          "barpolar": [
           {
            "marker": {
             "line": {
              "color": "#E5ECF6",
              "width": 0.5
             },
             "pattern": {
              "fillmode": "overlay",
              "size": 10,
              "solidity": 0.2
             }
            },
            "type": "barpolar"
           }
          ],
          "carpet": [
           {
            "aaxis": {
             "endlinecolor": "#2a3f5f",
             "gridcolor": "white",
             "linecolor": "white",
             "minorgridcolor": "white",
             "startlinecolor": "#2a3f5f"
            },
            "baxis": {
             "endlinecolor": "#2a3f5f",
             "gridcolor": "white",
             "linecolor": "white",
             "minorgridcolor": "white",
             "startlinecolor": "#2a3f5f"
            },
            "type": "carpet"
           }
          ],
          "choropleth": [
           {
            "colorbar": {
             "outlinewidth": 0,
             "ticks": ""
            },
            "type": "choropleth"
           }
          ],
          "contour": [
           {
            "colorbar": {
             "outlinewidth": 0,
             "ticks": ""
            },
            "colorscale": [
             [
              0,
              "#0d0887"
             ],
             [
              0.1111111111111111,
              "#46039f"
             ],
             [
              0.2222222222222222,
              "#7201a8"
             ],
             [
              0.3333333333333333,
              "#9c179e"
             ],
             [
              0.4444444444444444,
              "#bd3786"
             ],
             [
              0.5555555555555556,
              "#d8576b"
             ],
             [
              0.6666666666666666,
              "#ed7953"
             ],
             [
              0.7777777777777778,
              "#fb9f3a"
             ],
             [
              0.8888888888888888,
              "#fdca26"
             ],
             [
              1,
              "#f0f921"
             ]
            ],
            "type": "contour"
           }
          ],
          "contourcarpet": [
           {
            "colorbar": {
             "outlinewidth": 0,
             "ticks": ""
            },
            "type": "contourcarpet"
           }
          ],
          "heatmap": [
           {
            "colorbar": {
             "outlinewidth": 0,
             "ticks": ""
            },
            "colorscale": [
             [
              0,
              "#0d0887"
             ],
             [
              0.1111111111111111,
              "#46039f"
             ],
             [
              0.2222222222222222,
              "#7201a8"
             ],
             [
              0.3333333333333333,
              "#9c179e"
             ],
             [
              0.4444444444444444,
              "#bd3786"
             ],
             [
              0.5555555555555556,
              "#d8576b"
             ],
             [
              0.6666666666666666,
              "#ed7953"
             ],
             [
              0.7777777777777778,
              "#fb9f3a"
             ],
             [
              0.8888888888888888,
              "#fdca26"
             ],
             [
              1,
              "#f0f921"
             ]
            ],
            "type": "heatmap"
           }
          ],
          "heatmapgl": [
           {
            "colorbar": {
             "outlinewidth": 0,
             "ticks": ""
            },
            "colorscale": [
             [
              0,
              "#0d0887"
             ],
             [
              0.1111111111111111,
              "#46039f"
             ],
             [
              0.2222222222222222,
              "#7201a8"
             ],
             [
              0.3333333333333333,
              "#9c179e"
             ],
             [
              0.4444444444444444,
              "#bd3786"
             ],
             [
              0.5555555555555556,
              "#d8576b"
             ],
             [
              0.6666666666666666,
              "#ed7953"
             ],
             [
              0.7777777777777778,
              "#fb9f3a"
             ],
             [
              0.8888888888888888,
              "#fdca26"
             ],
             [
              1,
              "#f0f921"
             ]
            ],
            "type": "heatmapgl"
           }
          ],
          "histogram": [
           {
            "marker": {
             "pattern": {
              "fillmode": "overlay",
              "size": 10,
              "solidity": 0.2
             }
            },
            "type": "histogram"
           }
          ],
          "histogram2d": [
           {
            "colorbar": {
             "outlinewidth": 0,
             "ticks": ""
            },
            "colorscale": [
             [
              0,
              "#0d0887"
             ],
             [
              0.1111111111111111,
              "#46039f"
             ],
             [
              0.2222222222222222,
              "#7201a8"
             ],
             [
              0.3333333333333333,
              "#9c179e"
             ],
             [
              0.4444444444444444,
              "#bd3786"
             ],
             [
              0.5555555555555556,
              "#d8576b"
             ],
             [
              0.6666666666666666,
              "#ed7953"
             ],
             [
              0.7777777777777778,
              "#fb9f3a"
             ],
             [
              0.8888888888888888,
              "#fdca26"
             ],
             [
              1,
              "#f0f921"
             ]
            ],
            "type": "histogram2d"
           }
          ],
          "histogram2dcontour": [
           {
            "colorbar": {
             "outlinewidth": 0,
             "ticks": ""
            },
            "colorscale": [
             [
              0,
              "#0d0887"
             ],
             [
              0.1111111111111111,
              "#46039f"
             ],
             [
              0.2222222222222222,
              "#7201a8"
             ],
             [
              0.3333333333333333,
              "#9c179e"
             ],
             [
              0.4444444444444444,
              "#bd3786"
             ],
             [
              0.5555555555555556,
              "#d8576b"
             ],
             [
              0.6666666666666666,
              "#ed7953"
             ],
             [
              0.7777777777777778,
              "#fb9f3a"
             ],
             [
              0.8888888888888888,
              "#fdca26"
             ],
             [
              1,
              "#f0f921"
             ]
            ],
            "type": "histogram2dcontour"
           }
          ],
          "mesh3d": [
           {
            "colorbar": {
             "outlinewidth": 0,
             "ticks": ""
            },
            "type": "mesh3d"
           }
          ],
          "parcoords": [
           {
            "line": {
             "colorbar": {
              "outlinewidth": 0,
              "ticks": ""
             }
            },
            "type": "parcoords"
           }
          ],
          "pie": [
           {
            "automargin": true,
            "type": "pie"
           }
          ],
          "scatter": [
           {
            "fillpattern": {
             "fillmode": "overlay",
             "size": 10,
             "solidity": 0.2
            },
            "type": "scatter"
           }
          ],
          "scatter3d": [
           {
            "line": {
             "colorbar": {
              "outlinewidth": 0,
              "ticks": ""
             }
            },
            "marker": {
             "colorbar": {
              "outlinewidth": 0,
              "ticks": ""
             }
            },
            "type": "scatter3d"
           }
          ],
          "scattercarpet": [
           {
            "marker": {
             "colorbar": {
              "outlinewidth": 0,
              "ticks": ""
             }
            },
            "type": "scattercarpet"
           }
          ],
          "scattergeo": [
           {
            "marker": {
             "colorbar": {
              "outlinewidth": 0,
              "ticks": ""
             }
            },
            "type": "scattergeo"
           }
          ],
          "scattergl": [
           {
            "marker": {
             "colorbar": {
              "outlinewidth": 0,
              "ticks": ""
             }
            },
            "type": "scattergl"
           }
          ],
          "scattermapbox": [
           {
            "marker": {
             "colorbar": {
              "outlinewidth": 0,
              "ticks": ""
             }
            },
            "type": "scattermapbox"
           }
          ],
          "scatterpolar": [
           {
            "marker": {
             "colorbar": {
              "outlinewidth": 0,
              "ticks": ""
             }
            },
            "type": "scatterpolar"
           }
          ],
          "scatterpolargl": [
           {
            "marker": {
             "colorbar": {
              "outlinewidth": 0,
              "ticks": ""
             }
            },
            "type": "scatterpolargl"
           }
          ],
          "scatterternary": [
           {
            "marker": {
             "colorbar": {
              "outlinewidth": 0,
              "ticks": ""
             }
            },
            "type": "scatterternary"
           }
          ],
          "surface": [
           {
            "colorbar": {
             "outlinewidth": 0,
             "ticks": ""
            },
            "colorscale": [
             [
              0,
              "#0d0887"
             ],
             [
              0.1111111111111111,
              "#46039f"
             ],
             [
              0.2222222222222222,
              "#7201a8"
             ],
             [
              0.3333333333333333,
              "#9c179e"
             ],
             [
              0.4444444444444444,
              "#bd3786"
             ],
             [
              0.5555555555555556,
              "#d8576b"
             ],
             [
              0.6666666666666666,
              "#ed7953"
             ],
             [
              0.7777777777777778,
              "#fb9f3a"
             ],
             [
              0.8888888888888888,
              "#fdca26"
             ],
             [
              1,
              "#f0f921"
             ]
            ],
            "type": "surface"
           }
          ],
          "table": [
           {
            "cells": {
             "fill": {
              "color": "#EBF0F8"
             },
             "line": {
              "color": "white"
             }
            },
            "header": {
             "fill": {
              "color": "#C8D4E3"
             },
             "line": {
              "color": "white"
             }
            },
            "type": "table"
           }
          ]
         },
         "layout": {
          "annotationdefaults": {
           "arrowcolor": "#2a3f5f",
           "arrowhead": 0,
           "arrowwidth": 1
          },
          "autotypenumbers": "strict",
          "coloraxis": {
           "colorbar": {
            "outlinewidth": 0,
            "ticks": ""
           }
          },
          "colorscale": {
           "diverging": [
            [
             0,
             "#8e0152"
            ],
            [
             0.1,
             "#c51b7d"
            ],
            [
             0.2,
             "#de77ae"
            ],
            [
             0.3,
             "#f1b6da"
            ],
            [
             0.4,
             "#fde0ef"
            ],
            [
             0.5,
             "#f7f7f7"
            ],
            [
             0.6,
             "#e6f5d0"
            ],
            [
             0.7,
             "#b8e186"
            ],
            [
             0.8,
             "#7fbc41"
            ],
            [
             0.9,
             "#4d9221"
            ],
            [
             1,
             "#276419"
            ]
           ],
           "sequential": [
            [
             0,
             "#0d0887"
            ],
            [
             0.1111111111111111,
             "#46039f"
            ],
            [
             0.2222222222222222,
             "#7201a8"
            ],
            [
             0.3333333333333333,
             "#9c179e"
            ],
            [
             0.4444444444444444,
             "#bd3786"
            ],
            [
             0.5555555555555556,
             "#d8576b"
            ],
            [
             0.6666666666666666,
             "#ed7953"
            ],
            [
             0.7777777777777778,
             "#fb9f3a"
            ],
            [
             0.8888888888888888,
             "#fdca26"
            ],
            [
             1,
             "#f0f921"
            ]
           ],
           "sequentialminus": [
            [
             0,
             "#0d0887"
            ],
            [
             0.1111111111111111,
             "#46039f"
            ],
            [
             0.2222222222222222,
             "#7201a8"
            ],
            [
             0.3333333333333333,
             "#9c179e"
            ],
            [
             0.4444444444444444,
             "#bd3786"
            ],
            [
             0.5555555555555556,
             "#d8576b"
            ],
            [
             0.6666666666666666,
             "#ed7953"
            ],
            [
             0.7777777777777778,
             "#fb9f3a"
            ],
            [
             0.8888888888888888,
             "#fdca26"
            ],
            [
             1,
             "#f0f921"
            ]
           ]
          },
          "colorway": [
           "#636efa",
           "#EF553B",
           "#00cc96",
           "#ab63fa",
           "#FFA15A",
           "#19d3f3",
           "#FF6692",
           "#B6E880",
           "#FF97FF",
           "#FECB52"
          ],
          "font": {
           "color": "#2a3f5f"
          },
          "geo": {
           "bgcolor": "white",
           "lakecolor": "white",
           "landcolor": "#E5ECF6",
           "showlakes": true,
           "showland": true,
           "subunitcolor": "white"
          },
          "hoverlabel": {
           "align": "left"
          },
          "hovermode": "closest",
          "mapbox": {
           "style": "light"
          },
          "paper_bgcolor": "white",
          "plot_bgcolor": "#E5ECF6",
          "polar": {
           "angularaxis": {
            "gridcolor": "white",
            "linecolor": "white",
            "ticks": ""
           },
           "bgcolor": "#E5ECF6",
           "radialaxis": {
            "gridcolor": "white",
            "linecolor": "white",
            "ticks": ""
           }
          },
          "scene": {
           "xaxis": {
            "backgroundcolor": "#E5ECF6",
            "gridcolor": "white",
            "gridwidth": 2,
            "linecolor": "white",
            "showbackground": true,
            "ticks": "",
            "zerolinecolor": "white"
           },
           "yaxis": {
            "backgroundcolor": "#E5ECF6",
            "gridcolor": "white",
            "gridwidth": 2,
            "linecolor": "white",
            "showbackground": true,
            "ticks": "",
            "zerolinecolor": "white"
           },
           "zaxis": {
            "backgroundcolor": "#E5ECF6",
            "gridcolor": "white",
            "gridwidth": 2,
            "linecolor": "white",
            "showbackground": true,
            "ticks": "",
            "zerolinecolor": "white"
           }
          },
          "shapedefaults": {
           "line": {
            "color": "#2a3f5f"
           }
          },
          "ternary": {
           "aaxis": {
            "gridcolor": "white",
            "linecolor": "white",
            "ticks": ""
           },
           "baxis": {
            "gridcolor": "white",
            "linecolor": "white",
            "ticks": ""
           },
           "bgcolor": "#E5ECF6",
           "caxis": {
            "gridcolor": "white",
            "linecolor": "white",
            "ticks": ""
           }
          },
          "title": {
           "x": 0.05
          },
          "xaxis": {
           "automargin": true,
           "gridcolor": "white",
           "linecolor": "white",
           "ticks": "",
           "title": {
            "standoff": 15
           },
           "zerolinecolor": "white",
           "zerolinewidth": 2
          },
          "yaxis": {
           "automargin": true,
           "gridcolor": "white",
           "linecolor": "white",
           "ticks": "",
           "title": {
            "standoff": 15
           },
           "zerolinecolor": "white",
           "zerolinewidth": 2
          }
         }
        },
        "title": {
         "text": "ITESO RIGHT<br>R2: 0.8439610917037053 RMSE: 3.394952049368129"
        }
       }
      }
     },
     "metadata": {},
     "output_type": "display_data"
    }
   ],
   "source": [
    "# Definir rangos para las variables independientes\n",
    "x1_range = np.linspace(min(x_train_right['width']), max(x_train_right['width']), 20)\n",
    "x2_range = np.linspace(min(x_train_right['shoe_size']), max(x_train_right['shoe_size']), 20)\n",
    "x1_mesh, x2_mesh = np.meshgrid(x1_range, x2_range)\n",
    "\n",
    "# Escalar el meshgrid para predicción\n",
    "x_mesh_scaled = ss_right.transform(np.vstack((x1_mesh.ravel(), x2_mesh.ravel())).T)\n",
    "\n",
    "# Predecir los valores con el modelo escalado\n",
    "y_mesh_scaled = rg_r.predict(x_mesh_scaled)\n",
    "\n",
    "# Crear scatterplot 3D de los puntos reales\n",
    "scatter = go.Scatter3d(\n",
    "    x=x_test_right['width'], y=x_test_right['shoe_size'], z=y_test_right,\n",
    "    mode='markers',\n",
    "    marker=dict(size=8, color='red', opacity=0.7)\n",
    ")\n",
    "\n",
    "# Crear el plano de regresión\n",
    "surface = go.Surface(\n",
    "    x=x1_mesh, y=x2_mesh, z=y_mesh_scaled.reshape(x1_mesh.shape),\n",
    "    colorscale='Viridis', opacity=0.5\n",
    ")\n",
    "\n",
    "# Configuración del layout\n",
    "layout = go.Layout(\n",
    "    title=f\"ITESO RIGHT<br>R2: {r2_score(y_test_right, r_pred_right)} RMSE: {root_mean_squared_error(y_test_right, r_pred_right)}\",\n",
    "    scene=dict(\n",
    "        xaxis_title='Ancho',\n",
    "        yaxis_title='Pie',\n",
    "        zaxis_title='Altura'\n",
    "    )\n",
    ")\n",
    "\n",
    "# Crear la figura\n",
    "fig = go.Figure(data=[scatter, surface], layout=layout)\n",
    "\n",
    "# Mostrar la figura interactiva\n",
    "fig.show()"
   ]
  },
  {
   "cell_type": "markdown",
   "metadata": {},
   "source": [
    "## Left model\n",
    "\n",
    "Modelo que predice mejor los valores del lado izquierdo"
   ]
  },
  {
   "cell_type": "code",
   "execution_count": 26,
   "metadata": {},
   "outputs": [
    {
     "name": "stdout",
     "output_type": "stream",
     "text": [
      "R2: 0.7449700693152348 RMSE: 3.668146866331422\n"
     ]
    }
   ],
   "source": [
    "rg_l = Ridge(alpha = 10)\n",
    "rg_l.fit(X_train_s_left, y_train_left)\n",
    "r_pred_left = rg_l.predict(X_test_s_left)\n",
    "print(f\"R2: {r2_score(y_test_left, r_pred_left)} RMSE: {root_mean_squared_error(y_test_left, r_pred_left)}\")"
   ]
  },
  {
   "cell_type": "code",
   "execution_count": 27,
   "metadata": {},
   "outputs": [
    {
     "name": "stdout",
     "output_type": "stream",
     "text": [
      "Pendientes: [2.40516361 6.12636816]\n",
      "Intercepto: 163.49664429530202\n"
     ]
    }
   ],
   "source": [
    "print(f\"Pendientes: {rg_l.coef_}\")\n",
    "print(f\"Intercepto: {rg_l.intercept_}\")"
   ]
  },
  {
   "cell_type": "code",
   "execution_count": 28,
   "metadata": {},
   "outputs": [
    {
     "name": "stderr",
     "output_type": "stream",
     "text": [
      "c:\\Users\\Roi_f\\anaconda3\\envs\\personal\\Lib\\site-packages\\sklearn\\base.py:493: UserWarning:\n",
      "\n",
      "X does not have valid feature names, but StandardScaler was fitted with feature names\n",
      "\n"
     ]
    }
   ],
   "source": [
    "values_para_left = ss_left.transform([[36,22.5]])"
   ]
  },
  {
   "cell_type": "code",
   "execution_count": 29,
   "metadata": {},
   "outputs": [
    {
     "data": {
      "text/plain": [
       "array([154.28006044])"
      ]
     },
     "execution_count": 29,
     "metadata": {},
     "output_type": "execute_result"
    }
   ],
   "source": [
    "rg_l.predict(values_para_left)"
   ]
  },
  {
   "cell_type": "code",
   "execution_count": 30,
   "metadata": {},
   "outputs": [
    {
     "name": "stderr",
     "output_type": "stream",
     "text": [
      "c:\\Users\\Roi_f\\anaconda3\\envs\\personal\\Lib\\site-packages\\sklearn\\base.py:493: UserWarning:\n",
      "\n",
      "X does not have valid feature names, but StandardScaler was fitted with feature names\n",
      "\n"
     ]
    },
    {
     "data": {
      "application/vnd.plotly.v1+json": {
       "config": {
        "plotlyServerURL": "https://plot.ly"
       },
       "data": [
        {
         "marker": {
          "color": "red",
          "opacity": 0.7,
          "size": 8
         },
         "mode": "markers",
         "type": "scatter3d",
         "x": [
          38,
          50,
          45,
          43,
          42,
          40,
          38,
          38,
          36,
          41,
          42,
          39,
          42,
          36,
          36,
          39,
          41,
          36,
          43,
          46,
          42,
          42,
          41,
          40,
          45,
          39,
          47,
          48,
          42,
          41,
          39,
          41,
          40,
          61,
          39,
          49,
          34,
          43
         ],
         "y": [
          23,
          28,
          26,
          25,
          25,
          24,
          23,
          23,
          23,
          24,
          26,
          23,
          25,
          22,
          22,
          24.5,
          25,
          22.5,
          28,
          26,
          27,
          25,
          23.5,
          24,
          27.5,
          24,
          27,
          27,
          28,
          24,
          24,
          24,
          24,
          26,
          24,
          27,
          22,
          25
         ],
         "z": [
          157,
          173,
          165,
          163,
          162,
          161,
          157,
          157,
          164,
          161,
          170,
          158,
          162,
          154,
          155,
          166,
          161,
          153,
          182,
          166,
          177,
          162,
          153,
          159,
          172,
          158,
          168,
          172,
          177,
          161,
          158,
          161,
          160,
          168,
          158,
          176,
          153,
          163
         ]
        },
        {
         "colorscale": [
          [
           0,
           "#440154"
          ],
          [
           0.1111111111111111,
           "#482878"
          ],
          [
           0.2222222222222222,
           "#3e4989"
          ],
          [
           0.3333333333333333,
           "#31688e"
          ],
          [
           0.4444444444444444,
           "#26828e"
          ],
          [
           0.5555555555555556,
           "#1f9e89"
          ],
          [
           0.6666666666666666,
           "#35b779"
          ],
          [
           0.7777777777777778,
           "#6ece58"
          ],
          [
           0.8888888888888888,
           "#b5de2b"
          ],
          [
           1,
           "#fde725"
          ]
         ],
         "opacity": 0.5,
         "type": "surface",
         "x": [
          [
           31,
           32.26315789473684,
           33.526315789473685,
           34.78947368421053,
           36.05263157894737,
           37.31578947368421,
           38.578947368421055,
           39.84210526315789,
           41.10526315789474,
           42.368421052631575,
           43.631578947368425,
           44.89473684210526,
           46.1578947368421,
           47.421052631578945,
           48.68421052631579,
           49.94736842105263,
           51.21052631578947,
           52.473684210526315,
           53.73684210526316,
           55
          ],
          [
           31,
           32.26315789473684,
           33.526315789473685,
           34.78947368421053,
           36.05263157894737,
           37.31578947368421,
           38.578947368421055,
           39.84210526315789,
           41.10526315789474,
           42.368421052631575,
           43.631578947368425,
           44.89473684210526,
           46.1578947368421,
           47.421052631578945,
           48.68421052631579,
           49.94736842105263,
           51.21052631578947,
           52.473684210526315,
           53.73684210526316,
           55
          ],
          [
           31,
           32.26315789473684,
           33.526315789473685,
           34.78947368421053,
           36.05263157894737,
           37.31578947368421,
           38.578947368421055,
           39.84210526315789,
           41.10526315789474,
           42.368421052631575,
           43.631578947368425,
           44.89473684210526,
           46.1578947368421,
           47.421052631578945,
           48.68421052631579,
           49.94736842105263,
           51.21052631578947,
           52.473684210526315,
           53.73684210526316,
           55
          ],
          [
           31,
           32.26315789473684,
           33.526315789473685,
           34.78947368421053,
           36.05263157894737,
           37.31578947368421,
           38.578947368421055,
           39.84210526315789,
           41.10526315789474,
           42.368421052631575,
           43.631578947368425,
           44.89473684210526,
           46.1578947368421,
           47.421052631578945,
           48.68421052631579,
           49.94736842105263,
           51.21052631578947,
           52.473684210526315,
           53.73684210526316,
           55
          ],
          [
           31,
           32.26315789473684,
           33.526315789473685,
           34.78947368421053,
           36.05263157894737,
           37.31578947368421,
           38.578947368421055,
           39.84210526315789,
           41.10526315789474,
           42.368421052631575,
           43.631578947368425,
           44.89473684210526,
           46.1578947368421,
           47.421052631578945,
           48.68421052631579,
           49.94736842105263,
           51.21052631578947,
           52.473684210526315,
           53.73684210526316,
           55
          ],
          [
           31,
           32.26315789473684,
           33.526315789473685,
           34.78947368421053,
           36.05263157894737,
           37.31578947368421,
           38.578947368421055,
           39.84210526315789,
           41.10526315789474,
           42.368421052631575,
           43.631578947368425,
           44.89473684210526,
           46.1578947368421,
           47.421052631578945,
           48.68421052631579,
           49.94736842105263,
           51.21052631578947,
           52.473684210526315,
           53.73684210526316,
           55
          ],
          [
           31,
           32.26315789473684,
           33.526315789473685,
           34.78947368421053,
           36.05263157894737,
           37.31578947368421,
           38.578947368421055,
           39.84210526315789,
           41.10526315789474,
           42.368421052631575,
           43.631578947368425,
           44.89473684210526,
           46.1578947368421,
           47.421052631578945,
           48.68421052631579,
           49.94736842105263,
           51.21052631578947,
           52.473684210526315,
           53.73684210526316,
           55
          ],
          [
           31,
           32.26315789473684,
           33.526315789473685,
           34.78947368421053,
           36.05263157894737,
           37.31578947368421,
           38.578947368421055,
           39.84210526315789,
           41.10526315789474,
           42.368421052631575,
           43.631578947368425,
           44.89473684210526,
           46.1578947368421,
           47.421052631578945,
           48.68421052631579,
           49.94736842105263,
           51.21052631578947,
           52.473684210526315,
           53.73684210526316,
           55
          ],
          [
           31,
           32.26315789473684,
           33.526315789473685,
           34.78947368421053,
           36.05263157894737,
           37.31578947368421,
           38.578947368421055,
           39.84210526315789,
           41.10526315789474,
           42.368421052631575,
           43.631578947368425,
           44.89473684210526,
           46.1578947368421,
           47.421052631578945,
           48.68421052631579,
           49.94736842105263,
           51.21052631578947,
           52.473684210526315,
           53.73684210526316,
           55
          ],
          [
           31,
           32.26315789473684,
           33.526315789473685,
           34.78947368421053,
           36.05263157894737,
           37.31578947368421,
           38.578947368421055,
           39.84210526315789,
           41.10526315789474,
           42.368421052631575,
           43.631578947368425,
           44.89473684210526,
           46.1578947368421,
           47.421052631578945,
           48.68421052631579,
           49.94736842105263,
           51.21052631578947,
           52.473684210526315,
           53.73684210526316,
           55
          ],
          [
           31,
           32.26315789473684,
           33.526315789473685,
           34.78947368421053,
           36.05263157894737,
           37.31578947368421,
           38.578947368421055,
           39.84210526315789,
           41.10526315789474,
           42.368421052631575,
           43.631578947368425,
           44.89473684210526,
           46.1578947368421,
           47.421052631578945,
           48.68421052631579,
           49.94736842105263,
           51.21052631578947,
           52.473684210526315,
           53.73684210526316,
           55
          ],
          [
           31,
           32.26315789473684,
           33.526315789473685,
           34.78947368421053,
           36.05263157894737,
           37.31578947368421,
           38.578947368421055,
           39.84210526315789,
           41.10526315789474,
           42.368421052631575,
           43.631578947368425,
           44.89473684210526,
           46.1578947368421,
           47.421052631578945,
           48.68421052631579,
           49.94736842105263,
           51.21052631578947,
           52.473684210526315,
           53.73684210526316,
           55
          ],
          [
           31,
           32.26315789473684,
           33.526315789473685,
           34.78947368421053,
           36.05263157894737,
           37.31578947368421,
           38.578947368421055,
           39.84210526315789,
           41.10526315789474,
           42.368421052631575,
           43.631578947368425,
           44.89473684210526,
           46.1578947368421,
           47.421052631578945,
           48.68421052631579,
           49.94736842105263,
           51.21052631578947,
           52.473684210526315,
           53.73684210526316,
           55
          ],
          [
           31,
           32.26315789473684,
           33.526315789473685,
           34.78947368421053,
           36.05263157894737,
           37.31578947368421,
           38.578947368421055,
           39.84210526315789,
           41.10526315789474,
           42.368421052631575,
           43.631578947368425,
           44.89473684210526,
           46.1578947368421,
           47.421052631578945,
           48.68421052631579,
           49.94736842105263,
           51.21052631578947,
           52.473684210526315,
           53.73684210526316,
           55
          ],
          [
           31,
           32.26315789473684,
           33.526315789473685,
           34.78947368421053,
           36.05263157894737,
           37.31578947368421,
           38.578947368421055,
           39.84210526315789,
           41.10526315789474,
           42.368421052631575,
           43.631578947368425,
           44.89473684210526,
           46.1578947368421,
           47.421052631578945,
           48.68421052631579,
           49.94736842105263,
           51.21052631578947,
           52.473684210526315,
           53.73684210526316,
           55
          ],
          [
           31,
           32.26315789473684,
           33.526315789473685,
           34.78947368421053,
           36.05263157894737,
           37.31578947368421,
           38.578947368421055,
           39.84210526315789,
           41.10526315789474,
           42.368421052631575,
           43.631578947368425,
           44.89473684210526,
           46.1578947368421,
           47.421052631578945,
           48.68421052631579,
           49.94736842105263,
           51.21052631578947,
           52.473684210526315,
           53.73684210526316,
           55
          ],
          [
           31,
           32.26315789473684,
           33.526315789473685,
           34.78947368421053,
           36.05263157894737,
           37.31578947368421,
           38.578947368421055,
           39.84210526315789,
           41.10526315789474,
           42.368421052631575,
           43.631578947368425,
           44.89473684210526,
           46.1578947368421,
           47.421052631578945,
           48.68421052631579,
           49.94736842105263,
           51.21052631578947,
           52.473684210526315,
           53.73684210526316,
           55
          ],
          [
           31,
           32.26315789473684,
           33.526315789473685,
           34.78947368421053,
           36.05263157894737,
           37.31578947368421,
           38.578947368421055,
           39.84210526315789,
           41.10526315789474,
           42.368421052631575,
           43.631578947368425,
           44.89473684210526,
           46.1578947368421,
           47.421052631578945,
           48.68421052631579,
           49.94736842105263,
           51.21052631578947,
           52.473684210526315,
           53.73684210526316,
           55
          ],
          [
           31,
           32.26315789473684,
           33.526315789473685,
           34.78947368421053,
           36.05263157894737,
           37.31578947368421,
           38.578947368421055,
           39.84210526315789,
           41.10526315789474,
           42.368421052631575,
           43.631578947368425,
           44.89473684210526,
           46.1578947368421,
           47.421052631578945,
           48.68421052631579,
           49.94736842105263,
           51.21052631578947,
           52.473684210526315,
           53.73684210526316,
           55
          ],
          [
           31,
           32.26315789473684,
           33.526315789473685,
           34.78947368421053,
           36.05263157894737,
           37.31578947368421,
           38.578947368421055,
           39.84210526315789,
           41.10526315789474,
           42.368421052631575,
           43.631578947368425,
           44.89473684210526,
           46.1578947368421,
           47.421052631578945,
           48.68421052631579,
           49.94736842105263,
           51.21052631578947,
           52.473684210526315,
           53.73684210526316,
           55
          ]
         ],
         "y": [
          [
           21,
           21,
           21,
           21,
           21,
           21,
           21,
           21,
           21,
           21,
           21,
           21,
           21,
           21,
           21,
           21,
           21,
           21,
           21,
           21
          ],
          [
           21.473684210526315,
           21.473684210526315,
           21.473684210526315,
           21.473684210526315,
           21.473684210526315,
           21.473684210526315,
           21.473684210526315,
           21.473684210526315,
           21.473684210526315,
           21.473684210526315,
           21.473684210526315,
           21.473684210526315,
           21.473684210526315,
           21.473684210526315,
           21.473684210526315,
           21.473684210526315,
           21.473684210526315,
           21.473684210526315,
           21.473684210526315,
           21.473684210526315
          ],
          [
           21.94736842105263,
           21.94736842105263,
           21.94736842105263,
           21.94736842105263,
           21.94736842105263,
           21.94736842105263,
           21.94736842105263,
           21.94736842105263,
           21.94736842105263,
           21.94736842105263,
           21.94736842105263,
           21.94736842105263,
           21.94736842105263,
           21.94736842105263,
           21.94736842105263,
           21.94736842105263,
           21.94736842105263,
           21.94736842105263,
           21.94736842105263,
           21.94736842105263
          ],
          [
           22.42105263157895,
           22.42105263157895,
           22.42105263157895,
           22.42105263157895,
           22.42105263157895,
           22.42105263157895,
           22.42105263157895,
           22.42105263157895,
           22.42105263157895,
           22.42105263157895,
           22.42105263157895,
           22.42105263157895,
           22.42105263157895,
           22.42105263157895,
           22.42105263157895,
           22.42105263157895,
           22.42105263157895,
           22.42105263157895,
           22.42105263157895,
           22.42105263157895
          ],
          [
           22.894736842105264,
           22.894736842105264,
           22.894736842105264,
           22.894736842105264,
           22.894736842105264,
           22.894736842105264,
           22.894736842105264,
           22.894736842105264,
           22.894736842105264,
           22.894736842105264,
           22.894736842105264,
           22.894736842105264,
           22.894736842105264,
           22.894736842105264,
           22.894736842105264,
           22.894736842105264,
           22.894736842105264,
           22.894736842105264,
           22.894736842105264,
           22.894736842105264
          ],
          [
           23.36842105263158,
           23.36842105263158,
           23.36842105263158,
           23.36842105263158,
           23.36842105263158,
           23.36842105263158,
           23.36842105263158,
           23.36842105263158,
           23.36842105263158,
           23.36842105263158,
           23.36842105263158,
           23.36842105263158,
           23.36842105263158,
           23.36842105263158,
           23.36842105263158,
           23.36842105263158,
           23.36842105263158,
           23.36842105263158,
           23.36842105263158,
           23.36842105263158
          ],
          [
           23.842105263157894,
           23.842105263157894,
           23.842105263157894,
           23.842105263157894,
           23.842105263157894,
           23.842105263157894,
           23.842105263157894,
           23.842105263157894,
           23.842105263157894,
           23.842105263157894,
           23.842105263157894,
           23.842105263157894,
           23.842105263157894,
           23.842105263157894,
           23.842105263157894,
           23.842105263157894,
           23.842105263157894,
           23.842105263157894,
           23.842105263157894,
           23.842105263157894
          ],
          [
           24.31578947368421,
           24.31578947368421,
           24.31578947368421,
           24.31578947368421,
           24.31578947368421,
           24.31578947368421,
           24.31578947368421,
           24.31578947368421,
           24.31578947368421,
           24.31578947368421,
           24.31578947368421,
           24.31578947368421,
           24.31578947368421,
           24.31578947368421,
           24.31578947368421,
           24.31578947368421,
           24.31578947368421,
           24.31578947368421,
           24.31578947368421,
           24.31578947368421
          ],
          [
           24.789473684210527,
           24.789473684210527,
           24.789473684210527,
           24.789473684210527,
           24.789473684210527,
           24.789473684210527,
           24.789473684210527,
           24.789473684210527,
           24.789473684210527,
           24.789473684210527,
           24.789473684210527,
           24.789473684210527,
           24.789473684210527,
           24.789473684210527,
           24.789473684210527,
           24.789473684210527,
           24.789473684210527,
           24.789473684210527,
           24.789473684210527,
           24.789473684210527
          ],
          [
           25.263157894736842,
           25.263157894736842,
           25.263157894736842,
           25.263157894736842,
           25.263157894736842,
           25.263157894736842,
           25.263157894736842,
           25.263157894736842,
           25.263157894736842,
           25.263157894736842,
           25.263157894736842,
           25.263157894736842,
           25.263157894736842,
           25.263157894736842,
           25.263157894736842,
           25.263157894736842,
           25.263157894736842,
           25.263157894736842,
           25.263157894736842,
           25.263157894736842
          ],
          [
           25.736842105263158,
           25.736842105263158,
           25.736842105263158,
           25.736842105263158,
           25.736842105263158,
           25.736842105263158,
           25.736842105263158,
           25.736842105263158,
           25.736842105263158,
           25.736842105263158,
           25.736842105263158,
           25.736842105263158,
           25.736842105263158,
           25.736842105263158,
           25.736842105263158,
           25.736842105263158,
           25.736842105263158,
           25.736842105263158,
           25.736842105263158,
           25.736842105263158
          ],
          [
           26.210526315789473,
           26.210526315789473,
           26.210526315789473,
           26.210526315789473,
           26.210526315789473,
           26.210526315789473,
           26.210526315789473,
           26.210526315789473,
           26.210526315789473,
           26.210526315789473,
           26.210526315789473,
           26.210526315789473,
           26.210526315789473,
           26.210526315789473,
           26.210526315789473,
           26.210526315789473,
           26.210526315789473,
           26.210526315789473,
           26.210526315789473,
           26.210526315789473
          ],
          [
           26.684210526315788,
           26.684210526315788,
           26.684210526315788,
           26.684210526315788,
           26.684210526315788,
           26.684210526315788,
           26.684210526315788,
           26.684210526315788,
           26.684210526315788,
           26.684210526315788,
           26.684210526315788,
           26.684210526315788,
           26.684210526315788,
           26.684210526315788,
           26.684210526315788,
           26.684210526315788,
           26.684210526315788,
           26.684210526315788,
           26.684210526315788,
           26.684210526315788
          ],
          [
           27.157894736842106,
           27.157894736842106,
           27.157894736842106,
           27.157894736842106,
           27.157894736842106,
           27.157894736842106,
           27.157894736842106,
           27.157894736842106,
           27.157894736842106,
           27.157894736842106,
           27.157894736842106,
           27.157894736842106,
           27.157894736842106,
           27.157894736842106,
           27.157894736842106,
           27.157894736842106,
           27.157894736842106,
           27.157894736842106,
           27.157894736842106,
           27.157894736842106
          ],
          [
           27.63157894736842,
           27.63157894736842,
           27.63157894736842,
           27.63157894736842,
           27.63157894736842,
           27.63157894736842,
           27.63157894736842,
           27.63157894736842,
           27.63157894736842,
           27.63157894736842,
           27.63157894736842,
           27.63157894736842,
           27.63157894736842,
           27.63157894736842,
           27.63157894736842,
           27.63157894736842,
           27.63157894736842,
           27.63157894736842,
           27.63157894736842,
           27.63157894736842
          ],
          [
           28.105263157894736,
           28.105263157894736,
           28.105263157894736,
           28.105263157894736,
           28.105263157894736,
           28.105263157894736,
           28.105263157894736,
           28.105263157894736,
           28.105263157894736,
           28.105263157894736,
           28.105263157894736,
           28.105263157894736,
           28.105263157894736,
           28.105263157894736,
           28.105263157894736,
           28.105263157894736,
           28.105263157894736,
           28.105263157894736,
           28.105263157894736,
           28.105263157894736
          ],
          [
           28.57894736842105,
           28.57894736842105,
           28.57894736842105,
           28.57894736842105,
           28.57894736842105,
           28.57894736842105,
           28.57894736842105,
           28.57894736842105,
           28.57894736842105,
           28.57894736842105,
           28.57894736842105,
           28.57894736842105,
           28.57894736842105,
           28.57894736842105,
           28.57894736842105,
           28.57894736842105,
           28.57894736842105,
           28.57894736842105,
           28.57894736842105,
           28.57894736842105
          ],
          [
           29.05263157894737,
           29.05263157894737,
           29.05263157894737,
           29.05263157894737,
           29.05263157894737,
           29.05263157894737,
           29.05263157894737,
           29.05263157894737,
           29.05263157894737,
           29.05263157894737,
           29.05263157894737,
           29.05263157894737,
           29.05263157894737,
           29.05263157894737,
           29.05263157894737,
           29.05263157894737,
           29.05263157894737,
           29.05263157894737,
           29.05263157894737,
           29.05263157894737
          ],
          [
           29.526315789473685,
           29.526315789473685,
           29.526315789473685,
           29.526315789473685,
           29.526315789473685,
           29.526315789473685,
           29.526315789473685,
           29.526315789473685,
           29.526315789473685,
           29.526315789473685,
           29.526315789473685,
           29.526315789473685,
           29.526315789473685,
           29.526315789473685,
           29.526315789473685,
           29.526315789473685,
           29.526315789473685,
           29.526315789473685,
           29.526315789473685,
           29.526315789473685
          ],
          [
           30,
           30,
           30,
           30,
           30,
           30,
           30,
           30,
           30,
           30,
           30,
           30,
           30,
           30,
           30,
           30,
           30,
           30,
           30,
           30
          ]
         ],
         "z": [
          [
           147.16243663168132,
           147.79305662101854,
           148.42367661035576,
           149.05429659969298,
           149.68491658903017,
           150.3155365783674,
           150.9461565677046,
           151.5767765570418,
           152.20739654637902,
           152.83801653571624,
           153.46863652505345,
           154.09925651439067,
           154.72987650372787,
           155.36049649306509,
           155.9911164824023,
           156.6217364717395,
           157.25235646107672,
           157.88297645041393,
           158.51359643975115,
           159.14421642908835
          ],
          [
           148.62183232061196,
           149.25245230994915,
           149.88307229928637,
           150.5136922886236,
           151.1443122779608,
           151.774932267298,
           152.40555225663522,
           153.03617224597244,
           153.66679223530966,
           154.29741222464685,
           154.92803221398407,
           155.5586522033213,
           156.1892721926585,
           156.8198921819957,
           157.45051217133292,
           158.08113216067014,
           158.71175215000733,
           159.34237213934455,
           159.97299212868177,
           160.603612118019
          ],
          [
           150.08122800954257,
           150.7118479988798,
           151.34246798821698,
           151.9730879775542,
           152.60370796689142,
           153.23432795622864,
           153.86494794556583,
           154.49556793490305,
           155.12618792424027,
           155.75680791357746,
           156.38742790291468,
           157.0180478922519,
           157.64866788158912,
           158.2792878709263,
           158.90990786026353,
           159.54052784960075,
           160.17114783893797,
           160.80176782827516,
           161.43238781761238,
           162.0630078069496
          ],
          [
           151.5406236984732,
           152.1712436878104,
           152.80186367714762,
           153.43248366648484,
           154.06310365582206,
           154.69372364515925,
           155.32434363449647,
           155.9549636238337,
           156.5855836131709,
           157.2162036025081,
           157.84682359184532,
           158.47744358118254,
           159.10806357051973,
           159.73868355985695,
           160.36930354919417,
           160.9999235385314,
           161.63054352786858,
           162.2611635172058,
           162.89178350654302,
           163.52240349588024
          ],
          [
           153.00001938740382,
           153.63063937674104,
           154.26125936607824,
           154.89187935541545,
           155.52249934475267,
           156.1531193340899,
           156.78373932342708,
           157.4143593127643,
           158.04497930210152,
           158.67559929143871,
           159.30621928077593,
           159.93683927011315,
           160.56745925945037,
           161.19807924878756,
           161.82869923812478,
           162.459319227462,
           163.08993921679922,
           163.72055920613641,
           164.35117919547363,
           164.98179918481085
          ],
          [
           154.45941507633444,
           155.09003506567166,
           155.72065505500888,
           156.35127504434607,
           156.9818950336833,
           157.6125150230205,
           158.24313501235773,
           158.87375500169492,
           159.50437499103214,
           160.13499498036936,
           160.76561496970658,
           161.39623495904377,
           162.026854948381,
           162.6574749377182,
           163.2880949270554,
           163.91871491639262,
           164.54933490572984,
           165.17995489506706,
           165.81057488440425,
           166.44119487374147
          ],
          [
           155.91881076526505,
           156.54943075460227,
           157.1800507439395,
           157.8106707332767,
           158.4412907226139,
           159.07191071195112,
           159.70253070128834,
           160.33315069062553,
           160.96377067996275,
           161.59439066929997,
           162.2250106586372,
           162.85563064797438,
           163.4862506373116,
           164.11687062664882,
           164.74749061598604,
           165.37811060532323,
           166.00873059466045,
           166.63935058399767,
           167.2699705733349,
           167.90059056267208
          ],
          [
           157.3782064541957,
           158.00882644353288,
           158.6394464328701,
           159.27006642220732,
           159.90068641154454,
           160.53130640088173,
           161.16192639021895,
           161.79254637955617,
           162.4231663688934,
           163.05378635823058,
           163.6844063475678,
           164.31502633690502,
           164.9456463262422,
           165.57626631557943,
           166.20688630491665,
           166.83750629425387,
           167.46812628359106,
           168.09874627292828,
           168.7293662622655,
           169.35998625160272
          ],
          [
           158.8376021431263,
           159.46822213246352,
           160.09884212180074,
           160.72946211113793,
           161.36008210047515,
           161.99070208981237,
           162.6213220791496,
           163.25194206848678,
           163.882562057824,
           164.51318204716122,
           165.14380203649844,
           165.77442202583563,
           166.40504201517285,
           167.03566200451007,
           167.6662819938473,
           168.29690198318448,
           168.9275219725217,
           169.55814196185892,
           170.18876195119614,
           170.81938194053333
          ],
          [
           160.29699783205692,
           160.92761782139414,
           161.55823781073136,
           162.18885780006858,
           162.81947778940577,
           163.450097778743,
           164.0807177680802,
           164.71133775741743,
           165.34195774675462,
           165.97257773609184,
           166.60319772542906,
           167.23381771476627,
           167.86443770410347,
           168.49505769344069,
           169.1256776827779,
           169.75629767211512,
           170.38691766145232,
           171.01753765078954,
           171.64815764012675,
           172.27877762946397
          ],
          [
           161.75639352098756,
           162.38701351032478,
           163.01763349966197,
           163.6482534889992,
           164.2788734783364,
           164.9094934676736,
           165.54011345701082,
           166.17073344634804,
           166.80135343568526,
           167.43197342502245,
           168.06259341435967,
           168.6932134036969,
           169.3238333930341,
           169.9544533823713,
           170.58507337170852,
           171.21569336104574,
           171.84631335038296,
           172.47693333972015,
           173.10755332905737,
           173.7381733183946
          ],
          [
           163.21578920991817,
           163.8464091992554,
           164.47702918859258,
           165.1076491779298,
           165.73826916726702,
           166.36888915660424,
           166.99950914594143,
           167.63012913527865,
           168.26074912461587,
           168.8913691139531,
           169.52198910329028,
           170.1526090926275,
           170.78322908196472,
           171.41384907130194,
           172.04446906063913,
           172.67508904997635,
           173.30570903931357,
           173.9363290286508,
           174.56694901798798,
           175.1975690073252
          ],
          [
           164.67518489884878,
           165.305804888186,
           165.93642487752322,
           166.56704486686044,
           167.19766485619763,
           167.82828484553485,
           168.45890483487207,
           169.08952482420926,
           169.72014481354648,
           170.3507648028837,
           170.98138479222092,
           171.6120047815581,
           172.24262477089533,
           172.87324476023255,
           173.50386474956977,
           174.13448473890696,
           174.76510472824418,
           175.3957247175814,
           176.02634470691862,
           176.6569646962558
          ],
          [
           166.13458058777942,
           166.76520057711664,
           167.39582056645384,
           168.02644055579105,
           168.65706054512827,
           169.2876805344655,
           169.91830052380269,
           170.5489205131399,
           171.17954050247712,
           171.81016049181432,
           172.44078048115153,
           173.07140047048875,
           173.70202045982597,
           174.3326404491632,
           174.96326043850038,
           175.5938804278376,
           176.22450041717482,
           176.85512040651201,
           177.48574039584923,
           178.11636038518645
          ],
          [
           167.59397627671004,
           168.22459626604726,
           168.85521625538448,
           169.48583624472167,
           170.1164562340589,
           170.7470762233961,
           171.37769621273333,
           172.00831620207052,
           172.63893619140774,
           173.26955618074496,
           173.90017617008218,
           174.53079615941937,
           175.1614161487566,
           175.7920361380938,
           176.42265612743103,
           177.05327611676822,
           177.68389610610544,
           178.31451609544266,
           178.94513608477985,
           179.57575607411707
          ],
          [
           169.05337196564065,
           169.68399195497787,
           170.3146119443151,
           170.9452319336523,
           171.5758519229895,
           172.20647191232672,
           172.83709190166394,
           173.46771189100116,
           174.09833188033835,
           174.72895186967557,
           175.3595718590128,
           175.99019184835,
           176.6208118376872,
           177.25143182702442,
           177.88205181636164,
           178.51267180569886,
           179.14329179503605,
           179.77391178437327,
           180.4045317737105,
           181.03515176304768
          ],
          [
           170.5127676545713,
           171.14338764390848,
           171.7740076332457,
           172.40462762258292,
           173.03524761192014,
           173.66586760125733,
           174.29648759059455,
           174.92710757993177,
           175.557727569269,
           176.18834755860618,
           176.8189675479434,
           177.44958753728062,
           178.0802075266178,
           178.71082751595503,
           179.34144750529225,
           179.97206749462947,
           180.6026874839667,
           181.23330747330388,
           181.8639274626411,
           182.49454745197832
          ],
          [
           171.9721633435019,
           172.60278333283912,
           173.23340332217634,
           173.86402331151356,
           174.49464330085075,
           175.12526329018797,
           175.7558832795252,
           176.38650326886238,
           177.0171232581996,
           177.64774324753682,
           178.27836323687404,
           178.90898322621126,
           179.53960321554845,
           180.17022320488567,
           180.8008431942229,
           181.43146318356008,
           182.0620831728973,
           182.69270316223452,
           183.32332315157174,
           183.95394314090896
          ],
          [
           173.43155903243255,
           174.06217902176974,
           174.69279901110696,
           175.32341900044418,
           175.9540389897814,
           176.5846589791186,
           177.2152789684558,
           177.84589895779303,
           178.47651894713024,
           179.10713893646744,
           179.73775892580466,
           180.36837891514188,
           180.9989989044791,
           181.62961889381629,
           182.2602388831535,
           182.89085887249072,
           183.52147886182792,
           184.15209885116514,
           184.78271884050235,
           185.41333882983957
          ],
          [
           174.89095472136316,
           175.52157471070038,
           176.15219470003757,
           176.7828146893748,
           177.413434678712,
           178.04405466804923,
           178.67467465738642,
           179.30529464672364,
           179.93591463606086,
           180.56653462539805,
           181.19715461473527,
           181.8277746040725,
           182.4583945934097,
           183.0890145827469,
           183.71963457208412,
           184.35025456142134,
           184.98087455075856,
           185.61149454009575,
           186.24211452943297,
           186.8727345187702
          ]
         ]
        }
       ],
       "layout": {
        "scene": {
         "xaxis": {
          "title": {
           "text": "Ancho"
          }
         },
         "yaxis": {
          "title": {
           "text": "Pie"
          }
         },
         "zaxis": {
          "title": {
           "text": "Altura"
          }
         }
        },
        "template": {
         "data": {
          "bar": [
           {
            "error_x": {
             "color": "#2a3f5f"
            },
            "error_y": {
             "color": "#2a3f5f"
            },
            "marker": {
             "line": {
              "color": "#E5ECF6",
              "width": 0.5
             },
             "pattern": {
              "fillmode": "overlay",
              "size": 10,
              "solidity": 0.2
             }
            },
            "type": "bar"
           }
          ],
          "barpolar": [
           {
            "marker": {
             "line": {
              "color": "#E5ECF6",
              "width": 0.5
             },
             "pattern": {
              "fillmode": "overlay",
              "size": 10,
              "solidity": 0.2
             }
            },
            "type": "barpolar"
           }
          ],
          "carpet": [
           {
            "aaxis": {
             "endlinecolor": "#2a3f5f",
             "gridcolor": "white",
             "linecolor": "white",
             "minorgridcolor": "white",
             "startlinecolor": "#2a3f5f"
            },
            "baxis": {
             "endlinecolor": "#2a3f5f",
             "gridcolor": "white",
             "linecolor": "white",
             "minorgridcolor": "white",
             "startlinecolor": "#2a3f5f"
            },
            "type": "carpet"
           }
          ],
          "choropleth": [
           {
            "colorbar": {
             "outlinewidth": 0,
             "ticks": ""
            },
            "type": "choropleth"
           }
          ],
          "contour": [
           {
            "colorbar": {
             "outlinewidth": 0,
             "ticks": ""
            },
            "colorscale": [
             [
              0,
              "#0d0887"
             ],
             [
              0.1111111111111111,
              "#46039f"
             ],
             [
              0.2222222222222222,
              "#7201a8"
             ],
             [
              0.3333333333333333,
              "#9c179e"
             ],
             [
              0.4444444444444444,
              "#bd3786"
             ],
             [
              0.5555555555555556,
              "#d8576b"
             ],
             [
              0.6666666666666666,
              "#ed7953"
             ],
             [
              0.7777777777777778,
              "#fb9f3a"
             ],
             [
              0.8888888888888888,
              "#fdca26"
             ],
             [
              1,
              "#f0f921"
             ]
            ],
            "type": "contour"
           }
          ],
          "contourcarpet": [
           {
            "colorbar": {
             "outlinewidth": 0,
             "ticks": ""
            },
            "type": "contourcarpet"
           }
          ],
          "heatmap": [
           {
            "colorbar": {
             "outlinewidth": 0,
             "ticks": ""
            },
            "colorscale": [
             [
              0,
              "#0d0887"
             ],
             [
              0.1111111111111111,
              "#46039f"
             ],
             [
              0.2222222222222222,
              "#7201a8"
             ],
             [
              0.3333333333333333,
              "#9c179e"
             ],
             [
              0.4444444444444444,
              "#bd3786"
             ],
             [
              0.5555555555555556,
              "#d8576b"
             ],
             [
              0.6666666666666666,
              "#ed7953"
             ],
             [
              0.7777777777777778,
              "#fb9f3a"
             ],
             [
              0.8888888888888888,
              "#fdca26"
             ],
             [
              1,
              "#f0f921"
             ]
            ],
            "type": "heatmap"
           }
          ],
          "heatmapgl": [
           {
            "colorbar": {
             "outlinewidth": 0,
             "ticks": ""
            },
            "colorscale": [
             [
              0,
              "#0d0887"
             ],
             [
              0.1111111111111111,
              "#46039f"
             ],
             [
              0.2222222222222222,
              "#7201a8"
             ],
             [
              0.3333333333333333,
              "#9c179e"
             ],
             [
              0.4444444444444444,
              "#bd3786"
             ],
             [
              0.5555555555555556,
              "#d8576b"
             ],
             [
              0.6666666666666666,
              "#ed7953"
             ],
             [
              0.7777777777777778,
              "#fb9f3a"
             ],
             [
              0.8888888888888888,
              "#fdca26"
             ],
             [
              1,
              "#f0f921"
             ]
            ],
            "type": "heatmapgl"
           }
          ],
          "histogram": [
           {
            "marker": {
             "pattern": {
              "fillmode": "overlay",
              "size": 10,
              "solidity": 0.2
             }
            },
            "type": "histogram"
           }
          ],
          "histogram2d": [
           {
            "colorbar": {
             "outlinewidth": 0,
             "ticks": ""
            },
            "colorscale": [
             [
              0,
              "#0d0887"
             ],
             [
              0.1111111111111111,
              "#46039f"
             ],
             [
              0.2222222222222222,
              "#7201a8"
             ],
             [
              0.3333333333333333,
              "#9c179e"
             ],
             [
              0.4444444444444444,
              "#bd3786"
             ],
             [
              0.5555555555555556,
              "#d8576b"
             ],
             [
              0.6666666666666666,
              "#ed7953"
             ],
             [
              0.7777777777777778,
              "#fb9f3a"
             ],
             [
              0.8888888888888888,
              "#fdca26"
             ],
             [
              1,
              "#f0f921"
             ]
            ],
            "type": "histogram2d"
           }
          ],
          "histogram2dcontour": [
           {
            "colorbar": {
             "outlinewidth": 0,
             "ticks": ""
            },
            "colorscale": [
             [
              0,
              "#0d0887"
             ],
             [
              0.1111111111111111,
              "#46039f"
             ],
             [
              0.2222222222222222,
              "#7201a8"
             ],
             [
              0.3333333333333333,
              "#9c179e"
             ],
             [
              0.4444444444444444,
              "#bd3786"
             ],
             [
              0.5555555555555556,
              "#d8576b"
             ],
             [
              0.6666666666666666,
              "#ed7953"
             ],
             [
              0.7777777777777778,
              "#fb9f3a"
             ],
             [
              0.8888888888888888,
              "#fdca26"
             ],
             [
              1,
              "#f0f921"
             ]
            ],
            "type": "histogram2dcontour"
           }
          ],
          "mesh3d": [
           {
            "colorbar": {
             "outlinewidth": 0,
             "ticks": ""
            },
            "type": "mesh3d"
           }
          ],
          "parcoords": [
           {
            "line": {
             "colorbar": {
              "outlinewidth": 0,
              "ticks": ""
             }
            },
            "type": "parcoords"
           }
          ],
          "pie": [
           {
            "automargin": true,
            "type": "pie"
           }
          ],
          "scatter": [
           {
            "fillpattern": {
             "fillmode": "overlay",
             "size": 10,
             "solidity": 0.2
            },
            "type": "scatter"
           }
          ],
          "scatter3d": [
           {
            "line": {
             "colorbar": {
              "outlinewidth": 0,
              "ticks": ""
             }
            },
            "marker": {
             "colorbar": {
              "outlinewidth": 0,
              "ticks": ""
             }
            },
            "type": "scatter3d"
           }
          ],
          "scattercarpet": [
           {
            "marker": {
             "colorbar": {
              "outlinewidth": 0,
              "ticks": ""
             }
            },
            "type": "scattercarpet"
           }
          ],
          "scattergeo": [
           {
            "marker": {
             "colorbar": {
              "outlinewidth": 0,
              "ticks": ""
             }
            },
            "type": "scattergeo"
           }
          ],
          "scattergl": [
           {
            "marker": {
             "colorbar": {
              "outlinewidth": 0,
              "ticks": ""
             }
            },
            "type": "scattergl"
           }
          ],
          "scattermapbox": [
           {
            "marker": {
             "colorbar": {
              "outlinewidth": 0,
              "ticks": ""
             }
            },
            "type": "scattermapbox"
           }
          ],
          "scatterpolar": [
           {
            "marker": {
             "colorbar": {
              "outlinewidth": 0,
              "ticks": ""
             }
            },
            "type": "scatterpolar"
           }
          ],
          "scatterpolargl": [
           {
            "marker": {
             "colorbar": {
              "outlinewidth": 0,
              "ticks": ""
             }
            },
            "type": "scatterpolargl"
           }
          ],
          "scatterternary": [
           {
            "marker": {
             "colorbar": {
              "outlinewidth": 0,
              "ticks": ""
             }
            },
            "type": "scatterternary"
           }
          ],
          "surface": [
           {
            "colorbar": {
             "outlinewidth": 0,
             "ticks": ""
            },
            "colorscale": [
             [
              0,
              "#0d0887"
             ],
             [
              0.1111111111111111,
              "#46039f"
             ],
             [
              0.2222222222222222,
              "#7201a8"
             ],
             [
              0.3333333333333333,
              "#9c179e"
             ],
             [
              0.4444444444444444,
              "#bd3786"
             ],
             [
              0.5555555555555556,
              "#d8576b"
             ],
             [
              0.6666666666666666,
              "#ed7953"
             ],
             [
              0.7777777777777778,
              "#fb9f3a"
             ],
             [
              0.8888888888888888,
              "#fdca26"
             ],
             [
              1,
              "#f0f921"
             ]
            ],
            "type": "surface"
           }
          ],
          "table": [
           {
            "cells": {
             "fill": {
              "color": "#EBF0F8"
             },
             "line": {
              "color": "white"
             }
            },
            "header": {
             "fill": {
              "color": "#C8D4E3"
             },
             "line": {
              "color": "white"
             }
            },
            "type": "table"
           }
          ]
         },
         "layout": {
          "annotationdefaults": {
           "arrowcolor": "#2a3f5f",
           "arrowhead": 0,
           "arrowwidth": 1
          },
          "autotypenumbers": "strict",
          "coloraxis": {
           "colorbar": {
            "outlinewidth": 0,
            "ticks": ""
           }
          },
          "colorscale": {
           "diverging": [
            [
             0,
             "#8e0152"
            ],
            [
             0.1,
             "#c51b7d"
            ],
            [
             0.2,
             "#de77ae"
            ],
            [
             0.3,
             "#f1b6da"
            ],
            [
             0.4,
             "#fde0ef"
            ],
            [
             0.5,
             "#f7f7f7"
            ],
            [
             0.6,
             "#e6f5d0"
            ],
            [
             0.7,
             "#b8e186"
            ],
            [
             0.8,
             "#7fbc41"
            ],
            [
             0.9,
             "#4d9221"
            ],
            [
             1,
             "#276419"
            ]
           ],
           "sequential": [
            [
             0,
             "#0d0887"
            ],
            [
             0.1111111111111111,
             "#46039f"
            ],
            [
             0.2222222222222222,
             "#7201a8"
            ],
            [
             0.3333333333333333,
             "#9c179e"
            ],
            [
             0.4444444444444444,
             "#bd3786"
            ],
            [
             0.5555555555555556,
             "#d8576b"
            ],
            [
             0.6666666666666666,
             "#ed7953"
            ],
            [
             0.7777777777777778,
             "#fb9f3a"
            ],
            [
             0.8888888888888888,
             "#fdca26"
            ],
            [
             1,
             "#f0f921"
            ]
           ],
           "sequentialminus": [
            [
             0,
             "#0d0887"
            ],
            [
             0.1111111111111111,
             "#46039f"
            ],
            [
             0.2222222222222222,
             "#7201a8"
            ],
            [
             0.3333333333333333,
             "#9c179e"
            ],
            [
             0.4444444444444444,
             "#bd3786"
            ],
            [
             0.5555555555555556,
             "#d8576b"
            ],
            [
             0.6666666666666666,
             "#ed7953"
            ],
            [
             0.7777777777777778,
             "#fb9f3a"
            ],
            [
             0.8888888888888888,
             "#fdca26"
            ],
            [
             1,
             "#f0f921"
            ]
           ]
          },
          "colorway": [
           "#636efa",
           "#EF553B",
           "#00cc96",
           "#ab63fa",
           "#FFA15A",
           "#19d3f3",
           "#FF6692",
           "#B6E880",
           "#FF97FF",
           "#FECB52"
          ],
          "font": {
           "color": "#2a3f5f"
          },
          "geo": {
           "bgcolor": "white",
           "lakecolor": "white",
           "landcolor": "#E5ECF6",
           "showlakes": true,
           "showland": true,
           "subunitcolor": "white"
          },
          "hoverlabel": {
           "align": "left"
          },
          "hovermode": "closest",
          "mapbox": {
           "style": "light"
          },
          "paper_bgcolor": "white",
          "plot_bgcolor": "#E5ECF6",
          "polar": {
           "angularaxis": {
            "gridcolor": "white",
            "linecolor": "white",
            "ticks": ""
           },
           "bgcolor": "#E5ECF6",
           "radialaxis": {
            "gridcolor": "white",
            "linecolor": "white",
            "ticks": ""
           }
          },
          "scene": {
           "xaxis": {
            "backgroundcolor": "#E5ECF6",
            "gridcolor": "white",
            "gridwidth": 2,
            "linecolor": "white",
            "showbackground": true,
            "ticks": "",
            "zerolinecolor": "white"
           },
           "yaxis": {
            "backgroundcolor": "#E5ECF6",
            "gridcolor": "white",
            "gridwidth": 2,
            "linecolor": "white",
            "showbackground": true,
            "ticks": "",
            "zerolinecolor": "white"
           },
           "zaxis": {
            "backgroundcolor": "#E5ECF6",
            "gridcolor": "white",
            "gridwidth": 2,
            "linecolor": "white",
            "showbackground": true,
            "ticks": "",
            "zerolinecolor": "white"
           }
          },
          "shapedefaults": {
           "line": {
            "color": "#2a3f5f"
           }
          },
          "ternary": {
           "aaxis": {
            "gridcolor": "white",
            "linecolor": "white",
            "ticks": ""
           },
           "baxis": {
            "gridcolor": "white",
            "linecolor": "white",
            "ticks": ""
           },
           "bgcolor": "#E5ECF6",
           "caxis": {
            "gridcolor": "white",
            "linecolor": "white",
            "ticks": ""
           }
          },
          "title": {
           "x": 0.05
          },
          "xaxis": {
           "automargin": true,
           "gridcolor": "white",
           "linecolor": "white",
           "ticks": "",
           "title": {
            "standoff": 15
           },
           "zerolinecolor": "white",
           "zerolinewidth": 2
          },
          "yaxis": {
           "automargin": true,
           "gridcolor": "white",
           "linecolor": "white",
           "ticks": "",
           "title": {
            "standoff": 15
           },
           "zerolinecolor": "white",
           "zerolinewidth": 2
          }
         }
        },
        "title": {
         "text": "ITESO LEFT<br>R2: 0.7449700693152348 RMSE: 3.668146866331422"
        }
       }
      }
     },
     "metadata": {},
     "output_type": "display_data"
    }
   ],
   "source": [
    "# Definir rangos para las variables independientes\n",
    "x1_range = np.linspace(min(x_train_left['width']), max(x_train_left['width']), 20)\n",
    "x2_range = np.linspace(min(x_train_left['shoe_size']), max(x_train_left['shoe_size']), 20)\n",
    "x1_mesh, x2_mesh = np.meshgrid(x1_range, x2_range)\n",
    "\n",
    "# Escalar el meshgrid para predicción\n",
    "x_mesh_scaled = ss_left.transform(np.vstack((x1_mesh.ravel(), x2_mesh.ravel())).T)\n",
    "\n",
    "# Predecir los valores con el modelo escalado\n",
    "y_mesh_scaled = rg_l.predict(x_mesh_scaled)\n",
    "\n",
    "# Crear scatterplot 3D de los puntos reales\n",
    "scatter = go.Scatter3d(\n",
    "    x=x_test_left['width'], y=x_test_left['shoe_size'], z=y_test_left,\n",
    "    mode='markers',\n",
    "    marker=dict(size=8, color='red', opacity=0.7)\n",
    ")\n",
    "\n",
    "# Crear el plano de regresión\n",
    "surface = go.Surface(\n",
    "    x=x1_mesh, y=x2_mesh, z=y_mesh_scaled.reshape(x1_mesh.shape),\n",
    "    colorscale='Viridis', opacity=0.5\n",
    ")\n",
    "\n",
    "# Configuración del layout\n",
    "layout = go.Layout(\n",
    "    title=f\"ITESO LEFT<br>R2: {r2_score(y_test_left, r_pred_left)} RMSE: {root_mean_squared_error(y_test_left, r_pred_left)}\",\n",
    "    scene=dict(\n",
    "        xaxis_title='Ancho',\n",
    "        yaxis_title='Pie',\n",
    "        zaxis_title='Altura'\n",
    "    )\n",
    ")\n",
    "\n",
    "# Crear la figura\n",
    "fig = go.Figure(data=[scatter, surface], layout=layout)\n",
    "\n",
    "# Mostrar la figura interactiva\n",
    "fig.show()"
   ]
  },
  {
   "cell_type": "markdown",
   "metadata": {},
   "source": [
    "### Center model"
   ]
  },
  {
   "cell_type": "code",
   "execution_count": 31,
   "metadata": {},
   "outputs": [
    {
     "name": "stdout",
     "output_type": "stream",
     "text": [
      "R2: 0.8484303924224865 RMSE: 4.280983988385949\n"
     ]
    }
   ],
   "source": [
    "rg_c = Ridge(alpha = 1.26)\n",
    "rg_c.fit(X_train_s_center, y_train_center)\n",
    "r_pred_center = rg_c.predict(X_test_s_center)\n",
    "print(f\"R2: {r2_score(y_test_center, r_pred_center)} RMSE: {root_mean_squared_error(y_test_center, r_pred_center)}\")"
   ]
  },
  {
   "cell_type": "code",
   "execution_count": 32,
   "metadata": {},
   "outputs": [
    {
     "name": "stdout",
     "output_type": "stream",
     "text": [
      "Pendientes: [0.84705044 7.40777022]\n",
      "Intercepto: 169.1014492753623\n"
     ]
    }
   ],
   "source": [
    "print(f\"Pendientes: {rg_c.coef_}\")\n",
    "print(f\"Intercepto: {rg_c.intercept_}\")"
   ]
  },
  {
   "cell_type": "code",
   "execution_count": 33,
   "metadata": {},
   "outputs": [
    {
     "name": "stderr",
     "output_type": "stream",
     "text": [
      "c:\\Users\\Roi_f\\anaconda3\\envs\\personal\\Lib\\site-packages\\sklearn\\base.py:493: UserWarning:\n",
      "\n",
      "X does not have valid feature names, but StandardScaler was fitted with feature names\n",
      "\n"
     ]
    }
   ],
   "source": [
    "values_para_center = ss_center.transform([[36,22.5]])"
   ]
  },
  {
   "cell_type": "code",
   "execution_count": 34,
   "metadata": {},
   "outputs": [
    {
     "data": {
      "text/plain": [
       "array([155.08588937])"
      ]
     },
     "execution_count": 34,
     "metadata": {},
     "output_type": "execute_result"
    }
   ],
   "source": [
    "rg_c.predict(values_para_center)"
   ]
  },
  {
   "cell_type": "code",
   "execution_count": 35,
   "metadata": {},
   "outputs": [
    {
     "name": "stderr",
     "output_type": "stream",
     "text": [
      "c:\\Users\\Roi_f\\anaconda3\\envs\\personal\\Lib\\site-packages\\sklearn\\base.py:493: UserWarning:\n",
      "\n",
      "X does not have valid feature names, but StandardScaler was fitted with feature names\n",
      "\n"
     ]
    },
    {
     "data": {
      "application/vnd.plotly.v1+json": {
       "config": {
        "plotlyServerURL": "https://plot.ly"
       },
       "data": [
        {
         "marker": {
          "color": "red",
          "opacity": 0.7,
          "size": 8
         },
         "mode": "markers",
         "type": "scatter3d",
         "x": [
          42,
          46,
          40,
          48,
          34,
          48,
          42,
          46,
          44,
          45,
          39,
          49,
          52,
          50,
          36,
          46,
          41,
          43
         ],
         "y": [
          27,
          24,
          23,
          28,
          24,
          29,
          24,
          28,
          23,
          27.5,
          22.5,
          27.5,
          30,
          28,
          23,
          27,
          23,
          25
         ],
         "z": [
          177,
          170,
          159,
          176,
          154,
          187,
          162,
          182,
          162,
          175,
          150,
          175,
          190,
          173,
          164,
          172,
          154,
          168
         ]
        },
        {
         "colorscale": [
          [
           0,
           "#440154"
          ],
          [
           0.1111111111111111,
           "#482878"
          ],
          [
           0.2222222222222222,
           "#3e4989"
          ],
          [
           0.3333333333333333,
           "#31688e"
          ],
          [
           0.4444444444444444,
           "#26828e"
          ],
          [
           0.5555555555555556,
           "#1f9e89"
          ],
          [
           0.6666666666666666,
           "#35b779"
          ],
          [
           0.7777777777777778,
           "#6ece58"
          ],
          [
           0.8888888888888888,
           "#b5de2b"
          ],
          [
           1,
           "#fde725"
          ]
         ],
         "opacity": 0.5,
         "type": "surface",
         "x": [
          [
           33,
           34.473684210526315,
           35.94736842105263,
           37.421052631578945,
           38.89473684210526,
           40.368421052631575,
           41.84210526315789,
           43.31578947368421,
           44.78947368421053,
           46.26315789473684,
           47.73684210526316,
           49.21052631578947,
           50.68421052631579,
           52.1578947368421,
           53.631578947368425,
           55.10526315789474,
           56.578947368421055,
           58.05263157894737,
           59.526315789473685,
           61
          ],
          [
           33,
           34.473684210526315,
           35.94736842105263,
           37.421052631578945,
           38.89473684210526,
           40.368421052631575,
           41.84210526315789,
           43.31578947368421,
           44.78947368421053,
           46.26315789473684,
           47.73684210526316,
           49.21052631578947,
           50.68421052631579,
           52.1578947368421,
           53.631578947368425,
           55.10526315789474,
           56.578947368421055,
           58.05263157894737,
           59.526315789473685,
           61
          ],
          [
           33,
           34.473684210526315,
           35.94736842105263,
           37.421052631578945,
           38.89473684210526,
           40.368421052631575,
           41.84210526315789,
           43.31578947368421,
           44.78947368421053,
           46.26315789473684,
           47.73684210526316,
           49.21052631578947,
           50.68421052631579,
           52.1578947368421,
           53.631578947368425,
           55.10526315789474,
           56.578947368421055,
           58.05263157894737,
           59.526315789473685,
           61
          ],
          [
           33,
           34.473684210526315,
           35.94736842105263,
           37.421052631578945,
           38.89473684210526,
           40.368421052631575,
           41.84210526315789,
           43.31578947368421,
           44.78947368421053,
           46.26315789473684,
           47.73684210526316,
           49.21052631578947,
           50.68421052631579,
           52.1578947368421,
           53.631578947368425,
           55.10526315789474,
           56.578947368421055,
           58.05263157894737,
           59.526315789473685,
           61
          ],
          [
           33,
           34.473684210526315,
           35.94736842105263,
           37.421052631578945,
           38.89473684210526,
           40.368421052631575,
           41.84210526315789,
           43.31578947368421,
           44.78947368421053,
           46.26315789473684,
           47.73684210526316,
           49.21052631578947,
           50.68421052631579,
           52.1578947368421,
           53.631578947368425,
           55.10526315789474,
           56.578947368421055,
           58.05263157894737,
           59.526315789473685,
           61
          ],
          [
           33,
           34.473684210526315,
           35.94736842105263,
           37.421052631578945,
           38.89473684210526,
           40.368421052631575,
           41.84210526315789,
           43.31578947368421,
           44.78947368421053,
           46.26315789473684,
           47.73684210526316,
           49.21052631578947,
           50.68421052631579,
           52.1578947368421,
           53.631578947368425,
           55.10526315789474,
           56.578947368421055,
           58.05263157894737,
           59.526315789473685,
           61
          ],
          [
           33,
           34.473684210526315,
           35.94736842105263,
           37.421052631578945,
           38.89473684210526,
           40.368421052631575,
           41.84210526315789,
           43.31578947368421,
           44.78947368421053,
           46.26315789473684,
           47.73684210526316,
           49.21052631578947,
           50.68421052631579,
           52.1578947368421,
           53.631578947368425,
           55.10526315789474,
           56.578947368421055,
           58.05263157894737,
           59.526315789473685,
           61
          ],
          [
           33,
           34.473684210526315,
           35.94736842105263,
           37.421052631578945,
           38.89473684210526,
           40.368421052631575,
           41.84210526315789,
           43.31578947368421,
           44.78947368421053,
           46.26315789473684,
           47.73684210526316,
           49.21052631578947,
           50.68421052631579,
           52.1578947368421,
           53.631578947368425,
           55.10526315789474,
           56.578947368421055,
           58.05263157894737,
           59.526315789473685,
           61
          ],
          [
           33,
           34.473684210526315,
           35.94736842105263,
           37.421052631578945,
           38.89473684210526,
           40.368421052631575,
           41.84210526315789,
           43.31578947368421,
           44.78947368421053,
           46.26315789473684,
           47.73684210526316,
           49.21052631578947,
           50.68421052631579,
           52.1578947368421,
           53.631578947368425,
           55.10526315789474,
           56.578947368421055,
           58.05263157894737,
           59.526315789473685,
           61
          ],
          [
           33,
           34.473684210526315,
           35.94736842105263,
           37.421052631578945,
           38.89473684210526,
           40.368421052631575,
           41.84210526315789,
           43.31578947368421,
           44.78947368421053,
           46.26315789473684,
           47.73684210526316,
           49.21052631578947,
           50.68421052631579,
           52.1578947368421,
           53.631578947368425,
           55.10526315789474,
           56.578947368421055,
           58.05263157894737,
           59.526315789473685,
           61
          ],
          [
           33,
           34.473684210526315,
           35.94736842105263,
           37.421052631578945,
           38.89473684210526,
           40.368421052631575,
           41.84210526315789,
           43.31578947368421,
           44.78947368421053,
           46.26315789473684,
           47.73684210526316,
           49.21052631578947,
           50.68421052631579,
           52.1578947368421,
           53.631578947368425,
           55.10526315789474,
           56.578947368421055,
           58.05263157894737,
           59.526315789473685,
           61
          ],
          [
           33,
           34.473684210526315,
           35.94736842105263,
           37.421052631578945,
           38.89473684210526,
           40.368421052631575,
           41.84210526315789,
           43.31578947368421,
           44.78947368421053,
           46.26315789473684,
           47.73684210526316,
           49.21052631578947,
           50.68421052631579,
           52.1578947368421,
           53.631578947368425,
           55.10526315789474,
           56.578947368421055,
           58.05263157894737,
           59.526315789473685,
           61
          ],
          [
           33,
           34.473684210526315,
           35.94736842105263,
           37.421052631578945,
           38.89473684210526,
           40.368421052631575,
           41.84210526315789,
           43.31578947368421,
           44.78947368421053,
           46.26315789473684,
           47.73684210526316,
           49.21052631578947,
           50.68421052631579,
           52.1578947368421,
           53.631578947368425,
           55.10526315789474,
           56.578947368421055,
           58.05263157894737,
           59.526315789473685,
           61
          ],
          [
           33,
           34.473684210526315,
           35.94736842105263,
           37.421052631578945,
           38.89473684210526,
           40.368421052631575,
           41.84210526315789,
           43.31578947368421,
           44.78947368421053,
           46.26315789473684,
           47.73684210526316,
           49.21052631578947,
           50.68421052631579,
           52.1578947368421,
           53.631578947368425,
           55.10526315789474,
           56.578947368421055,
           58.05263157894737,
           59.526315789473685,
           61
          ],
          [
           33,
           34.473684210526315,
           35.94736842105263,
           37.421052631578945,
           38.89473684210526,
           40.368421052631575,
           41.84210526315789,
           43.31578947368421,
           44.78947368421053,
           46.26315789473684,
           47.73684210526316,
           49.21052631578947,
           50.68421052631579,
           52.1578947368421,
           53.631578947368425,
           55.10526315789474,
           56.578947368421055,
           58.05263157894737,
           59.526315789473685,
           61
          ],
          [
           33,
           34.473684210526315,
           35.94736842105263,
           37.421052631578945,
           38.89473684210526,
           40.368421052631575,
           41.84210526315789,
           43.31578947368421,
           44.78947368421053,
           46.26315789473684,
           47.73684210526316,
           49.21052631578947,
           50.68421052631579,
           52.1578947368421,
           53.631578947368425,
           55.10526315789474,
           56.578947368421055,
           58.05263157894737,
           59.526315789473685,
           61
          ],
          [
           33,
           34.473684210526315,
           35.94736842105263,
           37.421052631578945,
           38.89473684210526,
           40.368421052631575,
           41.84210526315789,
           43.31578947368421,
           44.78947368421053,
           46.26315789473684,
           47.73684210526316,
           49.21052631578947,
           50.68421052631579,
           52.1578947368421,
           53.631578947368425,
           55.10526315789474,
           56.578947368421055,
           58.05263157894737,
           59.526315789473685,
           61
          ],
          [
           33,
           34.473684210526315,
           35.94736842105263,
           37.421052631578945,
           38.89473684210526,
           40.368421052631575,
           41.84210526315789,
           43.31578947368421,
           44.78947368421053,
           46.26315789473684,
           47.73684210526316,
           49.21052631578947,
           50.68421052631579,
           52.1578947368421,
           53.631578947368425,
           55.10526315789474,
           56.578947368421055,
           58.05263157894737,
           59.526315789473685,
           61
          ],
          [
           33,
           34.473684210526315,
           35.94736842105263,
           37.421052631578945,
           38.89473684210526,
           40.368421052631575,
           41.84210526315789,
           43.31578947368421,
           44.78947368421053,
           46.26315789473684,
           47.73684210526316,
           49.21052631578947,
           50.68421052631579,
           52.1578947368421,
           53.631578947368425,
           55.10526315789474,
           56.578947368421055,
           58.05263157894737,
           59.526315789473685,
           61
          ],
          [
           33,
           34.473684210526315,
           35.94736842105263,
           37.421052631578945,
           38.89473684210526,
           40.368421052631575,
           41.84210526315789,
           43.31578947368421,
           44.78947368421053,
           46.26315789473684,
           47.73684210526316,
           49.21052631578947,
           50.68421052631579,
           52.1578947368421,
           53.631578947368425,
           55.10526315789474,
           56.578947368421055,
           58.05263157894737,
           59.526315789473685,
           61
          ]
         ],
         "y": [
          [
           22,
           22,
           22,
           22,
           22,
           22,
           22,
           22,
           22,
           22,
           22,
           22,
           22,
           22,
           22,
           22,
           22,
           22,
           22,
           22
          ],
          [
           22.42105263157895,
           22.42105263157895,
           22.42105263157895,
           22.42105263157895,
           22.42105263157895,
           22.42105263157895,
           22.42105263157895,
           22.42105263157895,
           22.42105263157895,
           22.42105263157895,
           22.42105263157895,
           22.42105263157895,
           22.42105263157895,
           22.42105263157895,
           22.42105263157895,
           22.42105263157895,
           22.42105263157895,
           22.42105263157895,
           22.42105263157895,
           22.42105263157895
          ],
          [
           22.842105263157894,
           22.842105263157894,
           22.842105263157894,
           22.842105263157894,
           22.842105263157894,
           22.842105263157894,
           22.842105263157894,
           22.842105263157894,
           22.842105263157894,
           22.842105263157894,
           22.842105263157894,
           22.842105263157894,
           22.842105263157894,
           22.842105263157894,
           22.842105263157894,
           22.842105263157894,
           22.842105263157894,
           22.842105263157894,
           22.842105263157894,
           22.842105263157894
          ],
          [
           23.263157894736842,
           23.263157894736842,
           23.263157894736842,
           23.263157894736842,
           23.263157894736842,
           23.263157894736842,
           23.263157894736842,
           23.263157894736842,
           23.263157894736842,
           23.263157894736842,
           23.263157894736842,
           23.263157894736842,
           23.263157894736842,
           23.263157894736842,
           23.263157894736842,
           23.263157894736842,
           23.263157894736842,
           23.263157894736842,
           23.263157894736842,
           23.263157894736842
          ],
          [
           23.684210526315788,
           23.684210526315788,
           23.684210526315788,
           23.684210526315788,
           23.684210526315788,
           23.684210526315788,
           23.684210526315788,
           23.684210526315788,
           23.684210526315788,
           23.684210526315788,
           23.684210526315788,
           23.684210526315788,
           23.684210526315788,
           23.684210526315788,
           23.684210526315788,
           23.684210526315788,
           23.684210526315788,
           23.684210526315788,
           23.684210526315788,
           23.684210526315788
          ],
          [
           24.105263157894736,
           24.105263157894736,
           24.105263157894736,
           24.105263157894736,
           24.105263157894736,
           24.105263157894736,
           24.105263157894736,
           24.105263157894736,
           24.105263157894736,
           24.105263157894736,
           24.105263157894736,
           24.105263157894736,
           24.105263157894736,
           24.105263157894736,
           24.105263157894736,
           24.105263157894736,
           24.105263157894736,
           24.105263157894736,
           24.105263157894736,
           24.105263157894736
          ],
          [
           24.526315789473685,
           24.526315789473685,
           24.526315789473685,
           24.526315789473685,
           24.526315789473685,
           24.526315789473685,
           24.526315789473685,
           24.526315789473685,
           24.526315789473685,
           24.526315789473685,
           24.526315789473685,
           24.526315789473685,
           24.526315789473685,
           24.526315789473685,
           24.526315789473685,
           24.526315789473685,
           24.526315789473685,
           24.526315789473685,
           24.526315789473685,
           24.526315789473685
          ],
          [
           24.94736842105263,
           24.94736842105263,
           24.94736842105263,
           24.94736842105263,
           24.94736842105263,
           24.94736842105263,
           24.94736842105263,
           24.94736842105263,
           24.94736842105263,
           24.94736842105263,
           24.94736842105263,
           24.94736842105263,
           24.94736842105263,
           24.94736842105263,
           24.94736842105263,
           24.94736842105263,
           24.94736842105263,
           24.94736842105263,
           24.94736842105263,
           24.94736842105263
          ],
          [
           25.36842105263158,
           25.36842105263158,
           25.36842105263158,
           25.36842105263158,
           25.36842105263158,
           25.36842105263158,
           25.36842105263158,
           25.36842105263158,
           25.36842105263158,
           25.36842105263158,
           25.36842105263158,
           25.36842105263158,
           25.36842105263158,
           25.36842105263158,
           25.36842105263158,
           25.36842105263158,
           25.36842105263158,
           25.36842105263158,
           25.36842105263158,
           25.36842105263158
          ],
          [
           25.789473684210527,
           25.789473684210527,
           25.789473684210527,
           25.789473684210527,
           25.789473684210527,
           25.789473684210527,
           25.789473684210527,
           25.789473684210527,
           25.789473684210527,
           25.789473684210527,
           25.789473684210527,
           25.789473684210527,
           25.789473684210527,
           25.789473684210527,
           25.789473684210527,
           25.789473684210527,
           25.789473684210527,
           25.789473684210527,
           25.789473684210527,
           25.789473684210527
          ],
          [
           26.210526315789473,
           26.210526315789473,
           26.210526315789473,
           26.210526315789473,
           26.210526315789473,
           26.210526315789473,
           26.210526315789473,
           26.210526315789473,
           26.210526315789473,
           26.210526315789473,
           26.210526315789473,
           26.210526315789473,
           26.210526315789473,
           26.210526315789473,
           26.210526315789473,
           26.210526315789473,
           26.210526315789473,
           26.210526315789473,
           26.210526315789473,
           26.210526315789473
          ],
          [
           26.63157894736842,
           26.63157894736842,
           26.63157894736842,
           26.63157894736842,
           26.63157894736842,
           26.63157894736842,
           26.63157894736842,
           26.63157894736842,
           26.63157894736842,
           26.63157894736842,
           26.63157894736842,
           26.63157894736842,
           26.63157894736842,
           26.63157894736842,
           26.63157894736842,
           26.63157894736842,
           26.63157894736842,
           26.63157894736842,
           26.63157894736842,
           26.63157894736842
          ],
          [
           27.05263157894737,
           27.05263157894737,
           27.05263157894737,
           27.05263157894737,
           27.05263157894737,
           27.05263157894737,
           27.05263157894737,
           27.05263157894737,
           27.05263157894737,
           27.05263157894737,
           27.05263157894737,
           27.05263157894737,
           27.05263157894737,
           27.05263157894737,
           27.05263157894737,
           27.05263157894737,
           27.05263157894737,
           27.05263157894737,
           27.05263157894737,
           27.05263157894737
          ],
          [
           27.473684210526315,
           27.473684210526315,
           27.473684210526315,
           27.473684210526315,
           27.473684210526315,
           27.473684210526315,
           27.473684210526315,
           27.473684210526315,
           27.473684210526315,
           27.473684210526315,
           27.473684210526315,
           27.473684210526315,
           27.473684210526315,
           27.473684210526315,
           27.473684210526315,
           27.473684210526315,
           27.473684210526315,
           27.473684210526315,
           27.473684210526315,
           27.473684210526315
          ],
          [
           27.894736842105264,
           27.894736842105264,
           27.894736842105264,
           27.894736842105264,
           27.894736842105264,
           27.894736842105264,
           27.894736842105264,
           27.894736842105264,
           27.894736842105264,
           27.894736842105264,
           27.894736842105264,
           27.894736842105264,
           27.894736842105264,
           27.894736842105264,
           27.894736842105264,
           27.894736842105264,
           27.894736842105264,
           27.894736842105264,
           27.894736842105264,
           27.894736842105264
          ],
          [
           28.315789473684212,
           28.315789473684212,
           28.315789473684212,
           28.315789473684212,
           28.315789473684212,
           28.315789473684212,
           28.315789473684212,
           28.315789473684212,
           28.315789473684212,
           28.315789473684212,
           28.315789473684212,
           28.315789473684212,
           28.315789473684212,
           28.315789473684212,
           28.315789473684212,
           28.315789473684212,
           28.315789473684212,
           28.315789473684212,
           28.315789473684212,
           28.315789473684212
          ],
          [
           28.736842105263158,
           28.736842105263158,
           28.736842105263158,
           28.736842105263158,
           28.736842105263158,
           28.736842105263158,
           28.736842105263158,
           28.736842105263158,
           28.736842105263158,
           28.736842105263158,
           28.736842105263158,
           28.736842105263158,
           28.736842105263158,
           28.736842105263158,
           28.736842105263158,
           28.736842105263158,
           28.736842105263158,
           28.736842105263158,
           28.736842105263158,
           28.736842105263158
          ],
          [
           29.157894736842103,
           29.157894736842103,
           29.157894736842103,
           29.157894736842103,
           29.157894736842103,
           29.157894736842103,
           29.157894736842103,
           29.157894736842103,
           29.157894736842103,
           29.157894736842103,
           29.157894736842103,
           29.157894736842103,
           29.157894736842103,
           29.157894736842103,
           29.157894736842103,
           29.157894736842103,
           29.157894736842103,
           29.157894736842103,
           29.157894736842103,
           29.157894736842103
          ],
          [
           29.57894736842105,
           29.57894736842105,
           29.57894736842105,
           29.57894736842105,
           29.57894736842105,
           29.57894736842105,
           29.57894736842105,
           29.57894736842105,
           29.57894736842105,
           29.57894736842105,
           29.57894736842105,
           29.57894736842105,
           29.57894736842105,
           29.57894736842105,
           29.57894736842105,
           29.57894736842105,
           29.57894736842105,
           29.57894736842105,
           29.57894736842105,
           29.57894736842105
          ],
          [
           30,
           30,
           30,
           30,
           30,
           30,
           30,
           30,
           30,
           30,
           30,
           30,
           30,
           30,
           30,
           30,
           30,
           30,
           30,
           30
          ]
         ],
         "z": [
          [
           152.71101036802503,
           152.9473434499566,
           153.18367653188818,
           153.42000961381976,
           153.65634269575133,
           153.8926757776829,
           154.1290088596145,
           154.3653419415461,
           154.60167502347767,
           154.83800810540924,
           155.07434118734082,
           155.3106742692724,
           155.54700735120397,
           155.78334043313555,
           156.01967351506715,
           156.25600659699873,
           156.4923396789303,
           156.72867276086188,
           156.96500584279346,
           157.20133892472504
          ],
          [
           154.30576605215074,
           154.54209913408232,
           154.7784322160139,
           155.01476529794547,
           155.25109837987708,
           155.48743146180865,
           155.72376454374023,
           155.9600976256718,
           156.19643070760338,
           156.43276378953496,
           156.66909687146654,
           156.9054299533981,
           157.1417630353297,
           157.3780961172613,
           157.61442919919287,
           157.85076228112445,
           158.08709536305602,
           158.3234284449876,
           158.55976152691917,
           158.79609460885075
          ],
          [
           155.90052173627646,
           156.13685481820804,
           156.3731879001396,
           156.6095209820712,
           156.84585406400276,
           157.08218714593437,
           157.31852022786595,
           157.55485330979752,
           157.7911863917291,
           158.02751947366067,
           158.26385255559225,
           158.50018563752383,
           158.7365187194554,
           158.97285180138698,
           159.20918488331858,
           159.44551796525016,
           159.68185104718174,
           159.9181841291133,
           160.1545172110449,
           160.39085029297647
          ],
          [
           157.49527742040218,
           157.73161050233375,
           157.96794358426533,
           158.20427666619693,
           158.4406097481285,
           158.67694283006009,
           158.91327591199166,
           159.14960899392324,
           159.3859420758548,
           159.6222751577864,
           159.85860823971797,
           160.09494132164957,
           160.33127440358115,
           160.56760748551272,
           160.8039405674443,
           161.04027364937588,
           161.27660673130745,
           161.51293981323903,
           161.7492728951706,
           161.9856059771022
          ],
          [
           159.0900331045279,
           159.32636618645947,
           159.56269926839104,
           159.79903235032262,
           160.0353654322542,
           160.2716985141858,
           160.50803159611738,
           160.74436467804895,
           160.98069775998053,
           161.2170308419121,
           161.45336392384368,
           161.68969700577526,
           161.92603008770686,
           162.16236316963844,
           162.39869625157002,
           162.6350293335016,
           162.87136241543317,
           163.10769549736474,
           163.34402857929632,
           163.5803616612279
          ],
          [
           160.6847887886536,
           160.92112187058518,
           161.1574549525168,
           161.39378803444836,
           161.63012111637994,
           161.86645419831152,
           162.1027872802431,
           162.33912036217467,
           162.57545344410624,
           162.81178652603782,
           163.04811960796943,
           163.284452689901,
           163.52078577183258,
           163.75711885376415,
           163.99345193569573,
           164.2297850176273,
           164.46611809955888,
           164.70245118149046,
           164.93878426342206,
           165.17511734535364
          ],
          [
           162.27954447277935,
           162.51587755471093,
           162.7522106366425,
           162.98854371857408,
           163.22487680050565,
           163.46120988243723,
           163.6975429643688,
           163.9338760463004,
           164.170209128232,
           164.40654221016356,
           164.64287529209514,
           164.87920837402672,
           165.1155414559583,
           165.35187453788987,
           165.58820761982145,
           165.82454070175305,
           166.06087378368463,
           166.2972068656162,
           166.53353994754778,
           166.76987302947936
          ],
          [
           163.87430015690506,
           164.11063323883664,
           164.34696632076822,
           164.5832994026998,
           164.81963248463137,
           165.05596556656295,
           165.29229864849452,
           165.5286317304261,
           165.76496481235768,
           166.00129789428928,
           166.23763097622086,
           166.47396405815243,
           166.710297140084,
           166.94663022201559,
           167.18296330394716,
           167.41929638587874,
           167.65562946781031,
           167.89196254974192,
           168.1282956316735,
           168.36462871360507
          ],
          [
           165.46905584103078,
           165.70538892296236,
           165.94172200489393,
           166.1780550868255,
           166.41438816875709,
           166.65072125068866,
           166.88705433262027,
           167.12338741455184,
           167.35972049648342,
           167.596053578415,
           167.83238666034657,
           168.06871974227815,
           168.30505282420972,
           168.5413859061413,
           168.7777189880729,
           169.01405207000448,
           169.25038515193606,
           169.48671823386763,
           169.7230513157992,
           169.9593843977308
          ],
          [
           167.0638115251565,
           167.30014460708807,
           167.53647768901965,
           167.77281077095125,
           168.00914385288283,
           168.2454769348144,
           168.48181001674598,
           168.71814309867756,
           168.95447618060913,
           169.1908092625407,
           169.4271423444723,
           169.66347542640386,
           169.89980850833547,
           170.13614159026704,
           170.37247467219862,
           170.6088077541302,
           170.84514083606177,
           171.08147391799335,
           171.31780699992493,
           171.5541400818565
          ],
          [
           168.6585672092822,
           168.8949002912138,
           169.13123337314536,
           169.36756645507694,
           169.60389953700852,
           169.84023261894012,
           170.0765657008717,
           170.31289878280327,
           170.54923186473485,
           170.78556494666643,
           171.021898028598,
           171.25823111052958,
           171.49456419246116,
           171.73089727439276,
           171.96723035632434,
           172.2035634382559,
           172.4398965201875,
           172.67622960211907,
           172.91256268405064,
           173.14889576598222
          ],
          [
           170.25332289340793,
           170.4896559753395,
           170.7259890572711,
           170.96232213920268,
           171.19865522113426,
           171.43498830306584,
           171.6713213849974,
           171.907654466929,
           172.14398754886057,
           172.38032063079214,
           172.61665371272375,
           172.85298679465532,
           173.0893198765869,
           173.32565295851848,
           173.56198604045005,
           173.79831912238163,
           174.0346522043132,
           174.27098528624478,
           174.50731836817636,
           174.74365145010796
          ],
          [
           171.84807857753367,
           172.08441165946525,
           172.32074474139682,
           172.5570778233284,
           172.79341090525998,
           173.02974398719155,
           173.26607706912313,
           173.50241015105473,
           173.7387432329863,
           173.97507631491789,
           174.21140939684946,
           174.44774247878104,
           174.6840755607126,
           174.9204086426442,
           175.15674172457577,
           175.39307480650734,
           175.62940788843895,
           175.86574097037052,
           176.1020740523021,
           176.33840713423368
          ],
          [
           173.44283426165936,
           173.67916734359096,
           173.91550042552254,
           174.1518335074541,
           174.3881665893857,
           174.62449967131727,
           174.86083275324884,
           175.09716583518042,
           175.333498917112,
           175.5698319990436,
           175.80616508097518,
           176.04249816290675,
           176.27883124483833,
           176.5151643267699,
           176.75149740870148,
           176.98783049063306,
           177.22416357256463,
           177.46049665449624,
           177.69682973642782,
           177.9331628183594
          ],
          [
           175.0375899457851,
           175.27392302771668,
           175.51025610964825,
           175.74658919157983,
           175.9829222735114,
           176.21925535544298,
           176.45558843737456,
           176.69192151930616,
           176.92825460123774,
           177.16458768316932,
           177.4009207651009,
           177.63725384703247,
           177.87358692896404,
           178.10992001089562,
           178.34625309282723,
           178.5825861747588,
           178.81891925669038,
           179.05525233862195,
           179.29158542055353,
           179.5279185024851
          ],
          [
           176.63234562991082,
           176.8686787118424,
           177.10501179377397,
           177.34134487570554,
           177.57767795763715,
           177.81401103956873,
           178.0503441215003,
           178.28667720343188,
           178.52301028536345,
           178.75934336729503,
           178.9956764492266,
           179.23200953115818,
           179.46834261308976,
           179.70467569502136,
           179.94100877695294,
           180.17734185888452,
           180.4136749408161,
           180.65000802274767,
           180.88634110467925,
           181.12267418661082
          ],
          [
           178.22710131403653,
           178.4634343959681,
           178.69976747789968,
           178.93610055983126,
           179.17243364176284,
           179.40876672369444,
           179.64509980562602,
           179.8814328875576,
           180.11776596948917,
           180.35409905142075,
           180.59043213335232,
           180.8267652152839,
           181.06309829721548,
           181.29943137914705,
           181.53576446107866,
           181.77209754301023,
           182.0084306249418,
           182.24476370687339,
           182.48109678880496,
           182.71742987073654
          ],
          [
           179.82185699816225,
           180.05819008009382,
           180.2945231620254,
           180.53085624395698,
           180.76718932588855,
           181.00352240782013,
           181.23985548975173,
           181.4761885716833,
           181.71252165361489,
           181.94885473554646,
           182.18518781747804,
           182.42152089940961,
           182.6578539813412,
           182.89418706327277,
           183.13052014520434,
           183.36685322713595,
           183.60318630906752,
           183.8395193909991,
           184.07585247293068,
           184.31218555486225
          ],
          [
           181.41661268228796,
           181.65294576421954,
           181.88927884615111,
           182.1256119280827,
           182.3619450100143,
           182.59827809194587,
           182.83461117387745,
           183.07094425580902,
           183.3072773377406,
           183.54361041967218,
           183.77994350160375,
           184.01627658353533,
           184.25260966546693,
           184.4889427473985,
           184.7252758293301,
           184.96160891126166,
           185.19794199319324,
           185.43427507512482,
           185.6706081570564,
           185.90694123898797
          ],
          [
           183.01136836641368,
           183.24770144834525,
           183.48403453027686,
           183.72036761220843,
           183.95670069414,
           184.1930337760716,
           184.42936685800316,
           184.66569993993474,
           184.90203302186632,
           185.13836610379792,
           185.3746991857295,
           185.61103226766107,
           185.84736534959265,
           186.08369843152423,
           186.3200315134558,
           186.55636459538738,
           186.79269767731896,
           187.02903075925053,
           187.26536384118214,
           187.5016969231137
          ]
         ]
        }
       ],
       "layout": {
        "scene": {
         "xaxis": {
          "title": {
           "text": "Ancho"
          }
         },
         "yaxis": {
          "title": {
           "text": "Pie"
          }
         },
         "zaxis": {
          "title": {
           "text": "Altura"
          }
         }
        },
        "template": {
         "data": {
          "bar": [
           {
            "error_x": {
             "color": "#2a3f5f"
            },
            "error_y": {
             "color": "#2a3f5f"
            },
            "marker": {
             "line": {
              "color": "#E5ECF6",
              "width": 0.5
             },
             "pattern": {
              "fillmode": "overlay",
              "size": 10,
              "solidity": 0.2
             }
            },
            "type": "bar"
           }
          ],
          "barpolar": [
           {
            "marker": {
             "line": {
              "color": "#E5ECF6",
              "width": 0.5
             },
             "pattern": {
              "fillmode": "overlay",
              "size": 10,
              "solidity": 0.2
             }
            },
            "type": "barpolar"
           }
          ],
          "carpet": [
           {
            "aaxis": {
             "endlinecolor": "#2a3f5f",
             "gridcolor": "white",
             "linecolor": "white",
             "minorgridcolor": "white",
             "startlinecolor": "#2a3f5f"
            },
            "baxis": {
             "endlinecolor": "#2a3f5f",
             "gridcolor": "white",
             "linecolor": "white",
             "minorgridcolor": "white",
             "startlinecolor": "#2a3f5f"
            },
            "type": "carpet"
           }
          ],
          "choropleth": [
           {
            "colorbar": {
             "outlinewidth": 0,
             "ticks": ""
            },
            "type": "choropleth"
           }
          ],
          "contour": [
           {
            "colorbar": {
             "outlinewidth": 0,
             "ticks": ""
            },
            "colorscale": [
             [
              0,
              "#0d0887"
             ],
             [
              0.1111111111111111,
              "#46039f"
             ],
             [
              0.2222222222222222,
              "#7201a8"
             ],
             [
              0.3333333333333333,
              "#9c179e"
             ],
             [
              0.4444444444444444,
              "#bd3786"
             ],
             [
              0.5555555555555556,
              "#d8576b"
             ],
             [
              0.6666666666666666,
              "#ed7953"
             ],
             [
              0.7777777777777778,
              "#fb9f3a"
             ],
             [
              0.8888888888888888,
              "#fdca26"
             ],
             [
              1,
              "#f0f921"
             ]
            ],
            "type": "contour"
           }
          ],
          "contourcarpet": [
           {
            "colorbar": {
             "outlinewidth": 0,
             "ticks": ""
            },
            "type": "contourcarpet"
           }
          ],
          "heatmap": [
           {
            "colorbar": {
             "outlinewidth": 0,
             "ticks": ""
            },
            "colorscale": [
             [
              0,
              "#0d0887"
             ],
             [
              0.1111111111111111,
              "#46039f"
             ],
             [
              0.2222222222222222,
              "#7201a8"
             ],
             [
              0.3333333333333333,
              "#9c179e"
             ],
             [
              0.4444444444444444,
              "#bd3786"
             ],
             [
              0.5555555555555556,
              "#d8576b"
             ],
             [
              0.6666666666666666,
              "#ed7953"
             ],
             [
              0.7777777777777778,
              "#fb9f3a"
             ],
             [
              0.8888888888888888,
              "#fdca26"
             ],
             [
              1,
              "#f0f921"
             ]
            ],
            "type": "heatmap"
           }
          ],
          "heatmapgl": [
           {
            "colorbar": {
             "outlinewidth": 0,
             "ticks": ""
            },
            "colorscale": [
             [
              0,
              "#0d0887"
             ],
             [
              0.1111111111111111,
              "#46039f"
             ],
             [
              0.2222222222222222,
              "#7201a8"
             ],
             [
              0.3333333333333333,
              "#9c179e"
             ],
             [
              0.4444444444444444,
              "#bd3786"
             ],
             [
              0.5555555555555556,
              "#d8576b"
             ],
             [
              0.6666666666666666,
              "#ed7953"
             ],
             [
              0.7777777777777778,
              "#fb9f3a"
             ],
             [
              0.8888888888888888,
              "#fdca26"
             ],
             [
              1,
              "#f0f921"
             ]
            ],
            "type": "heatmapgl"
           }
          ],
          "histogram": [
           {
            "marker": {
             "pattern": {
              "fillmode": "overlay",
              "size": 10,
              "solidity": 0.2
             }
            },
            "type": "histogram"
           }
          ],
          "histogram2d": [
           {
            "colorbar": {
             "outlinewidth": 0,
             "ticks": ""
            },
            "colorscale": [
             [
              0,
              "#0d0887"
             ],
             [
              0.1111111111111111,
              "#46039f"
             ],
             [
              0.2222222222222222,
              "#7201a8"
             ],
             [
              0.3333333333333333,
              "#9c179e"
             ],
             [
              0.4444444444444444,
              "#bd3786"
             ],
             [
              0.5555555555555556,
              "#d8576b"
             ],
             [
              0.6666666666666666,
              "#ed7953"
             ],
             [
              0.7777777777777778,
              "#fb9f3a"
             ],
             [
              0.8888888888888888,
              "#fdca26"
             ],
             [
              1,
              "#f0f921"
             ]
            ],
            "type": "histogram2d"
           }
          ],
          "histogram2dcontour": [
           {
            "colorbar": {
             "outlinewidth": 0,
             "ticks": ""
            },
            "colorscale": [
             [
              0,
              "#0d0887"
             ],
             [
              0.1111111111111111,
              "#46039f"
             ],
             [
              0.2222222222222222,
              "#7201a8"
             ],
             [
              0.3333333333333333,
              "#9c179e"
             ],
             [
              0.4444444444444444,
              "#bd3786"
             ],
             [
              0.5555555555555556,
              "#d8576b"
             ],
             [
              0.6666666666666666,
              "#ed7953"
             ],
             [
              0.7777777777777778,
              "#fb9f3a"
             ],
             [
              0.8888888888888888,
              "#fdca26"
             ],
             [
              1,
              "#f0f921"
             ]
            ],
            "type": "histogram2dcontour"
           }
          ],
          "mesh3d": [
           {
            "colorbar": {
             "outlinewidth": 0,
             "ticks": ""
            },
            "type": "mesh3d"
           }
          ],
          "parcoords": [
           {
            "line": {
             "colorbar": {
              "outlinewidth": 0,
              "ticks": ""
             }
            },
            "type": "parcoords"
           }
          ],
          "pie": [
           {
            "automargin": true,
            "type": "pie"
           }
          ],
          "scatter": [
           {
            "fillpattern": {
             "fillmode": "overlay",
             "size": 10,
             "solidity": 0.2
            },
            "type": "scatter"
           }
          ],
          "scatter3d": [
           {
            "line": {
             "colorbar": {
              "outlinewidth": 0,
              "ticks": ""
             }
            },
            "marker": {
             "colorbar": {
              "outlinewidth": 0,
              "ticks": ""
             }
            },
            "type": "scatter3d"
           }
          ],
          "scattercarpet": [
           {
            "marker": {
             "colorbar": {
              "outlinewidth": 0,
              "ticks": ""
             }
            },
            "type": "scattercarpet"
           }
          ],
          "scattergeo": [
           {
            "marker": {
             "colorbar": {
              "outlinewidth": 0,
              "ticks": ""
             }
            },
            "type": "scattergeo"
           }
          ],
          "scattergl": [
           {
            "marker": {
             "colorbar": {
              "outlinewidth": 0,
              "ticks": ""
             }
            },
            "type": "scattergl"
           }
          ],
          "scattermapbox": [
           {
            "marker": {
             "colorbar": {
              "outlinewidth": 0,
              "ticks": ""
             }
            },
            "type": "scattermapbox"
           }
          ],
          "scatterpolar": [
           {
            "marker": {
             "colorbar": {
              "outlinewidth": 0,
              "ticks": ""
             }
            },
            "type": "scatterpolar"
           }
          ],
          "scatterpolargl": [
           {
            "marker": {
             "colorbar": {
              "outlinewidth": 0,
              "ticks": ""
             }
            },
            "type": "scatterpolargl"
           }
          ],
          "scatterternary": [
           {
            "marker": {
             "colorbar": {
              "outlinewidth": 0,
              "ticks": ""
             }
            },
            "type": "scatterternary"
           }
          ],
          "surface": [
           {
            "colorbar": {
             "outlinewidth": 0,
             "ticks": ""
            },
            "colorscale": [
             [
              0,
              "#0d0887"
             ],
             [
              0.1111111111111111,
              "#46039f"
             ],
             [
              0.2222222222222222,
              "#7201a8"
             ],
             [
              0.3333333333333333,
              "#9c179e"
             ],
             [
              0.4444444444444444,
              "#bd3786"
             ],
             [
              0.5555555555555556,
              "#d8576b"
             ],
             [
              0.6666666666666666,
              "#ed7953"
             ],
             [
              0.7777777777777778,
              "#fb9f3a"
             ],
             [
              0.8888888888888888,
              "#fdca26"
             ],
             [
              1,
              "#f0f921"
             ]
            ],
            "type": "surface"
           }
          ],
          "table": [
           {
            "cells": {
             "fill": {
              "color": "#EBF0F8"
             },
             "line": {
              "color": "white"
             }
            },
            "header": {
             "fill": {
              "color": "#C8D4E3"
             },
             "line": {
              "color": "white"
             }
            },
            "type": "table"
           }
          ]
         },
         "layout": {
          "annotationdefaults": {
           "arrowcolor": "#2a3f5f",
           "arrowhead": 0,
           "arrowwidth": 1
          },
          "autotypenumbers": "strict",
          "coloraxis": {
           "colorbar": {
            "outlinewidth": 0,
            "ticks": ""
           }
          },
          "colorscale": {
           "diverging": [
            [
             0,
             "#8e0152"
            ],
            [
             0.1,
             "#c51b7d"
            ],
            [
             0.2,
             "#de77ae"
            ],
            [
             0.3,
             "#f1b6da"
            ],
            [
             0.4,
             "#fde0ef"
            ],
            [
             0.5,
             "#f7f7f7"
            ],
            [
             0.6,
             "#e6f5d0"
            ],
            [
             0.7,
             "#b8e186"
            ],
            [
             0.8,
             "#7fbc41"
            ],
            [
             0.9,
             "#4d9221"
            ],
            [
             1,
             "#276419"
            ]
           ],
           "sequential": [
            [
             0,
             "#0d0887"
            ],
            [
             0.1111111111111111,
             "#46039f"
            ],
            [
             0.2222222222222222,
             "#7201a8"
            ],
            [
             0.3333333333333333,
             "#9c179e"
            ],
            [
             0.4444444444444444,
             "#bd3786"
            ],
            [
             0.5555555555555556,
             "#d8576b"
            ],
            [
             0.6666666666666666,
             "#ed7953"
            ],
            [
             0.7777777777777778,
             "#fb9f3a"
            ],
            [
             0.8888888888888888,
             "#fdca26"
            ],
            [
             1,
             "#f0f921"
            ]
           ],
           "sequentialminus": [
            [
             0,
             "#0d0887"
            ],
            [
             0.1111111111111111,
             "#46039f"
            ],
            [
             0.2222222222222222,
             "#7201a8"
            ],
            [
             0.3333333333333333,
             "#9c179e"
            ],
            [
             0.4444444444444444,
             "#bd3786"
            ],
            [
             0.5555555555555556,
             "#d8576b"
            ],
            [
             0.6666666666666666,
             "#ed7953"
            ],
            [
             0.7777777777777778,
             "#fb9f3a"
            ],
            [
             0.8888888888888888,
             "#fdca26"
            ],
            [
             1,
             "#f0f921"
            ]
           ]
          },
          "colorway": [
           "#636efa",
           "#EF553B",
           "#00cc96",
           "#ab63fa",
           "#FFA15A",
           "#19d3f3",
           "#FF6692",
           "#B6E880",
           "#FF97FF",
           "#FECB52"
          ],
          "font": {
           "color": "#2a3f5f"
          },
          "geo": {
           "bgcolor": "white",
           "lakecolor": "white",
           "landcolor": "#E5ECF6",
           "showlakes": true,
           "showland": true,
           "subunitcolor": "white"
          },
          "hoverlabel": {
           "align": "left"
          },
          "hovermode": "closest",
          "mapbox": {
           "style": "light"
          },
          "paper_bgcolor": "white",
          "plot_bgcolor": "#E5ECF6",
          "polar": {
           "angularaxis": {
            "gridcolor": "white",
            "linecolor": "white",
            "ticks": ""
           },
           "bgcolor": "#E5ECF6",
           "radialaxis": {
            "gridcolor": "white",
            "linecolor": "white",
            "ticks": ""
           }
          },
          "scene": {
           "xaxis": {
            "backgroundcolor": "#E5ECF6",
            "gridcolor": "white",
            "gridwidth": 2,
            "linecolor": "white",
            "showbackground": true,
            "ticks": "",
            "zerolinecolor": "white"
           },
           "yaxis": {
            "backgroundcolor": "#E5ECF6",
            "gridcolor": "white",
            "gridwidth": 2,
            "linecolor": "white",
            "showbackground": true,
            "ticks": "",
            "zerolinecolor": "white"
           },
           "zaxis": {
            "backgroundcolor": "#E5ECF6",
            "gridcolor": "white",
            "gridwidth": 2,
            "linecolor": "white",
            "showbackground": true,
            "ticks": "",
            "zerolinecolor": "white"
           }
          },
          "shapedefaults": {
           "line": {
            "color": "#2a3f5f"
           }
          },
          "ternary": {
           "aaxis": {
            "gridcolor": "white",
            "linecolor": "white",
            "ticks": ""
           },
           "baxis": {
            "gridcolor": "white",
            "linecolor": "white",
            "ticks": ""
           },
           "bgcolor": "#E5ECF6",
           "caxis": {
            "gridcolor": "white",
            "linecolor": "white",
            "ticks": ""
           }
          },
          "title": {
           "x": 0.05
          },
          "xaxis": {
           "automargin": true,
           "gridcolor": "white",
           "linecolor": "white",
           "ticks": "",
           "title": {
            "standoff": 15
           },
           "zerolinecolor": "white",
           "zerolinewidth": 2
          },
          "yaxis": {
           "automargin": true,
           "gridcolor": "white",
           "linecolor": "white",
           "ticks": "",
           "title": {
            "standoff": 15
           },
           "zerolinecolor": "white",
           "zerolinewidth": 2
          }
         }
        },
        "title": {
         "text": "ITESO CENTER<br>R2: 0.8484303924224865 RMSE: 4.280983988385949"
        }
       }
      }
     },
     "metadata": {},
     "output_type": "display_data"
    }
   ],
   "source": [
    "# Definir rangos para las variables independientes\n",
    "x1_range = np.linspace(min(x_train_center['width']), max(x_train_center['width']), 20)\n",
    "x2_range = np.linspace(min(x_train_center['shoe_size']), max(x_train_center['shoe_size']), 20)\n",
    "x1_mesh, x2_mesh = np.meshgrid(x1_range, x2_range)\n",
    "\n",
    "# Escalar el meshgrid para predicción\n",
    "x_mesh_scaled = ss_center.transform(np.vstack((x1_mesh.ravel(), x2_mesh.ravel())).T)\n",
    "\n",
    "# Predecir los valores con el modelo escalado\n",
    "y_mesh_scaled = rg_c.predict(x_mesh_scaled)\n",
    "\n",
    "# Crear scatterplot 3D de los puntos reales\n",
    "scatter = go.Scatter3d(\n",
    "    x=x_test_center['width'], y=x_test_center['shoe_size'], z=y_test_center,\n",
    "    mode='markers',\n",
    "    marker=dict(size=8, color='red', opacity=0.7)\n",
    ")\n",
    "\n",
    "# Crear el plano de regresión\n",
    "surface = go.Surface(\n",
    "    x=x1_mesh, y=x2_mesh, z=y_mesh_scaled.reshape(x1_mesh.shape),\n",
    "    colorscale='Viridis', opacity=0.5\n",
    ")\n",
    "\n",
    "# Configuración del layout\n",
    "layout = go.Layout(\n",
    "    title=f\"ITESO CENTER<br>R2: {r2_score(y_test_center, r_pred_center)} RMSE: {root_mean_squared_error(y_test_center, r_pred_center)}\",\n",
    "    scene=dict(\n",
    "        xaxis_title='Ancho',\n",
    "        yaxis_title='Pie',\n",
    "        zaxis_title='Altura'\n",
    "    )\n",
    ")\n",
    "\n",
    "# Crear la figura\n",
    "fig = go.Figure(data=[scatter, surface], layout=layout)\n",
    "\n",
    "# Mostrar la figura interactiva\n",
    "fig.show()"
   ]
  },
  {
   "cell_type": "markdown",
   "metadata": {},
   "source": [
    "**¿Agregarías datos a tu base de datos para mejorar las predicciones del modelo?**\n",
    "\n",
    "Sí, al tener tan pocos datos, en específico 18 necesitamos más datos ya que las predicciones que se hagan con el modelo no van a ser tan confiables, ya que son más sensibles a datos atípicos."
   ]
  },
  {
   "cell_type": "markdown",
   "metadata": {},
   "source": [
    "**¿Cómo conseguirías dicha información?**\n",
    "\n",
    "Medimos a 70 personas más y como se muestra anteriormente se segmentaron los datos de la altura, se hicieron nuevos datos para los datos cuya altura fueran menor o igual al primer cuartil, para los que fueran mayor o igual al tercer cuartil y para los que estuvieran entre el primer y tercer cuartil, en específico se hicieron 100 para cada uno."
   ]
  },
  {
   "cell_type": "markdown",
   "metadata": {},
   "source": [
    "**¿Modificarías algún parámetro de tu modelo?**\n",
    "\n",
    "En este caso, al segmentar los datos por alturas, se hicieron 3 modelos. A los 3 modelos se le aplicó regularización Ridge con un alpha de 1.26, el cual se obtuvo mediante diferentes pruebas e intentos para obtener el valor óptimo."
   ]
  },
  {
   "cell_type": "markdown",
   "metadata": {},
   "source": [
    "## Parte 3"
   ]
  },
  {
   "cell_type": "markdown",
   "metadata": {},
   "source": [
    "### Países Bajos"
   ]
  },
  {
   "cell_type": "code",
   "execution_count": 36,
   "metadata": {},
   "outputs": [],
   "source": [
    "df = pd.read_csv('datos_gente_1.csv')"
   ]
  },
  {
   "cell_type": "code",
   "execution_count": 37,
   "metadata": {},
   "outputs": [
    {
     "data": {
      "text/html": [
       "<div>\n",
       "<style scoped>\n",
       "    .dataframe tbody tr th:only-of-type {\n",
       "        vertical-align: middle;\n",
       "    }\n",
       "\n",
       "    .dataframe tbody tr th {\n",
       "        vertical-align: top;\n",
       "    }\n",
       "\n",
       "    .dataframe thead th {\n",
       "        text-align: right;\n",
       "    }\n",
       "</style>\n",
       "<table border=\"1\" class=\"dataframe\">\n",
       "  <thead>\n",
       "    <tr style=\"text-align: right;\">\n",
       "      <th></th>\n",
       "      <th>height</th>\n",
       "      <th>width</th>\n",
       "      <th>shoe_size</th>\n",
       "    </tr>\n",
       "  </thead>\n",
       "  <tbody>\n",
       "    <tr>\n",
       "      <th>0</th>\n",
       "      <td>185</td>\n",
       "      <td>55</td>\n",
       "      <td>28.0</td>\n",
       "    </tr>\n",
       "    <tr>\n",
       "      <th>6</th>\n",
       "      <td>187</td>\n",
       "      <td>48</td>\n",
       "      <td>29.0</td>\n",
       "    </tr>\n",
       "    <tr>\n",
       "      <th>12</th>\n",
       "      <td>179</td>\n",
       "      <td>55</td>\n",
       "      <td>28.0</td>\n",
       "    </tr>\n",
       "    <tr>\n",
       "      <th>22</th>\n",
       "      <td>177</td>\n",
       "      <td>42</td>\n",
       "      <td>27.0</td>\n",
       "    </tr>\n",
       "    <tr>\n",
       "      <th>25</th>\n",
       "      <td>180</td>\n",
       "      <td>45</td>\n",
       "      <td>27.0</td>\n",
       "    </tr>\n",
       "    <tr>\n",
       "      <th>33</th>\n",
       "      <td>178</td>\n",
       "      <td>49</td>\n",
       "      <td>27.5</td>\n",
       "    </tr>\n",
       "    <tr>\n",
       "      <th>41</th>\n",
       "      <td>190</td>\n",
       "      <td>50</td>\n",
       "      <td>29.0</td>\n",
       "    </tr>\n",
       "    <tr>\n",
       "      <th>44</th>\n",
       "      <td>180</td>\n",
       "      <td>50</td>\n",
       "      <td>28.0</td>\n",
       "    </tr>\n",
       "    <tr>\n",
       "      <th>47</th>\n",
       "      <td>178</td>\n",
       "      <td>45</td>\n",
       "      <td>29.0</td>\n",
       "    </tr>\n",
       "    <tr>\n",
       "      <th>51</th>\n",
       "      <td>182</td>\n",
       "      <td>47</td>\n",
       "      <td>28.0</td>\n",
       "    </tr>\n",
       "    <tr>\n",
       "      <th>54</th>\n",
       "      <td>183</td>\n",
       "      <td>47</td>\n",
       "      <td>28.0</td>\n",
       "    </tr>\n",
       "    <tr>\n",
       "      <th>61</th>\n",
       "      <td>183</td>\n",
       "      <td>50</td>\n",
       "      <td>29.5</td>\n",
       "    </tr>\n",
       "    <tr>\n",
       "      <th>63</th>\n",
       "      <td>188</td>\n",
       "      <td>55</td>\n",
       "      <td>30.0</td>\n",
       "    </tr>\n",
       "    <tr>\n",
       "      <th>65</th>\n",
       "      <td>190</td>\n",
       "      <td>52</td>\n",
       "      <td>30.0</td>\n",
       "    </tr>\n",
       "    <tr>\n",
       "      <th>67</th>\n",
       "      <td>177</td>\n",
       "      <td>42</td>\n",
       "      <td>28.0</td>\n",
       "    </tr>\n",
       "    <tr>\n",
       "      <th>68</th>\n",
       "      <td>182</td>\n",
       "      <td>43</td>\n",
       "      <td>28.0</td>\n",
       "    </tr>\n",
       "    <tr>\n",
       "      <th>70</th>\n",
       "      <td>185</td>\n",
       "      <td>47</td>\n",
       "      <td>29.5</td>\n",
       "    </tr>\n",
       "    <tr>\n",
       "      <th>74</th>\n",
       "      <td>182</td>\n",
       "      <td>46</td>\n",
       "      <td>28.0</td>\n",
       "    </tr>\n",
       "  </tbody>\n",
       "</table>\n",
       "</div>"
      ],
      "text/plain": [
       "    height  width  shoe_size\n",
       "0      185     55       28.0\n",
       "6      187     48       29.0\n",
       "12     179     55       28.0\n",
       "22     177     42       27.0\n",
       "25     180     45       27.0\n",
       "33     178     49       27.5\n",
       "41     190     50       29.0\n",
       "44     180     50       28.0\n",
       "47     178     45       29.0\n",
       "51     182     47       28.0\n",
       "54     183     47       28.0\n",
       "61     183     50       29.5\n",
       "63     188     55       30.0\n",
       "65     190     52       30.0\n",
       "67     177     42       28.0\n",
       "68     182     43       28.0\n",
       "70     185     47       29.5\n",
       "74     182     46       28.0"
      ]
     },
     "execution_count": 37,
     "metadata": {},
     "output_type": "execute_result"
    }
   ],
   "source": [
    "df2 = df[df['height'] > 176.5]\n",
    "df2"
   ]
  },
  {
   "cell_type": "code",
   "execution_count": 38,
   "metadata": {},
   "outputs": [
    {
     "data": {
      "text/plain": [
       "array([[<Axes: title={'center': 'height'}>,\n",
       "        <Axes: title={'center': 'width'}>],\n",
       "       [<Axes: title={'center': 'shoe_size'}>, <Axes: >]], dtype=object)"
      ]
     },
     "execution_count": 38,
     "metadata": {},
     "output_type": "execute_result"
    },
    {
     "data": {
      "image/png": "[encoded data removed]",
      "text/plain": [
       "<Figure size 640x480 with 4 Axes>"
      ]
     },
     "metadata": {},
     "output_type": "display_data"
    }
   ],
   "source": [
    "df2.hist()"
   ]
  },
  {
   "cell_type": "code",
   "execution_count": 39,
   "metadata": {},
   "outputs": [
    {
     "data": {
      "text/plain": [
       "height       182.555556\n",
       "width         48.222222\n",
       "shoe_size     28.416667\n",
       "dtype: float64"
      ]
     },
     "execution_count": 39,
     "metadata": {},
     "output_type": "execute_result"
    }
   ],
   "source": [
    "df2.mean()"
   ]
  },
  {
   "cell_type": "code",
   "execution_count": 40,
   "metadata": {},
   "outputs": [
    {
     "data": {
      "text/plain": [
       "height       4.217920\n",
       "width        4.180565\n",
       "shoe_size    0.927520\n",
       "dtype: float64"
      ]
     },
     "execution_count": 40,
     "metadata": {},
     "output_type": "execute_result"
    }
   ],
   "source": [
    "df2.std()"
   ]
  },
  {
   "cell_type": "code",
   "execution_count": 41,
   "metadata": {},
   "outputs": [
    {
     "data": {
      "text/plain": [
       "array([172., 174., 174., 175., 175., 175., 176., 176., 177., 177., 177.,\n",
       "       177., 178., 178., 178., 178., 178., 178., 178., 179., 179., 179.,\n",
       "       179., 179., 179., 179., 179., 179., 179., 179., 179., 179., 179.,\n",
       "       180., 180., 180., 180., 180., 181., 181., 181., 181., 181., 181.,\n",
       "       181., 181., 182., 182., 182., 182., 182., 182., 182., 182., 183.,\n",
       "       183., 183., 183., 183., 183., 184., 184., 184., 184., 184., 184.,\n",
       "       184., 184., 184., 184., 184., 184., 185., 185., 185., 185., 185.,\n",
       "       185., 185., 185., 185., 185., 185., 185., 186., 186., 186., 186.,\n",
       "       186., 187., 187., 187., 188., 188., 189., 189., 189., 189., 192.,\n",
       "       192.])"
      ]
     },
     "execution_count": 41,
     "metadata": {},
     "output_type": "execute_result"
    }
   ],
   "source": [
    "df2_nuevo_altura = np.random.normal(loc=182.56, scale=4.22, size=100)\n",
    "df_altura_red= np.round(df2_nuevo_altura, 0)\n",
    "df_altura = np.sort(df_altura_red)\n",
    "df_altura"
   ]
  },
  {
   "cell_type": "code",
   "execution_count": 42,
   "metadata": {},
   "outputs": [
    {
     "data": {
      "text/plain": [
       "array([39., 40., 41., 42., 42., 42., 43., 43., 43., 43., 44., 44., 44.,\n",
       "       44., 44., 44., 44., 44., 44., 45., 45., 45., 45., 45., 45., 45.,\n",
       "       45., 46., 46., 46., 46., 46., 46., 46., 46., 46., 46., 46., 46.,\n",
       "       46., 46., 46., 47., 47., 47., 47., 47., 47., 47., 47., 47., 47.,\n",
       "       48., 48., 48., 48., 48., 48., 49., 49., 49., 49., 49., 49., 49.,\n",
       "       49., 49., 49., 50., 50., 50., 50., 50., 50., 51., 51., 51., 51.,\n",
       "       51., 52., 52., 52., 52., 52., 53., 53., 53., 54., 54., 54., 54.,\n",
       "       54., 55., 55., 55., 55., 56., 56., 57., 58.])"
      ]
     },
     "execution_count": 42,
     "metadata": {},
     "output_type": "execute_result"
    }
   ],
   "source": [
    "df2_nuevo_ancho = np.random.normal(loc=48.22, scale=4.18, size=100)\n",
    "df_ancho_red= np.round(df2_nuevo_ancho, 0)\n",
    "df_ancho = np.sort(df_ancho_red)\n",
    "df_ancho"
   ]
  },
  {
   "cell_type": "code",
   "execution_count": 43,
   "metadata": {},
   "outputs": [
    {
     "data": {
      "text/plain": [
       "array([25.2, 25.7, 26.3, 26.6, 26.7, 26.9, 26.9, 27. , 27. , 27. , 27.2,\n",
       "       27.3, 27.3, 27.4, 27.6, 27.6, 27.7, 27.7, 27.7, 27.7, 27.8, 27.8,\n",
       "       27.8, 27.8, 27.8, 27.8, 28. , 28. , 28.1, 28.1, 28.1, 28.1, 28.1,\n",
       "       28.2, 28.2, 28.2, 28.2, 28.2, 28.3, 28.3, 28.3, 28.3, 28.3, 28.4,\n",
       "       28.4, 28.4, 28.5, 28.5, 28.5, 28.6, 28.6, 28.6, 28.6, 28.6, 28.7,\n",
       "       28.7, 28.7, 28.7, 28.7, 28.7, 28.8, 28.8, 28.8, 28.9, 28.9, 28.9,\n",
       "       28.9, 28.9, 28.9, 28.9, 29. , 29. , 29. , 29. , 29.1, 29.1, 29.2,\n",
       "       29.2, 29.2, 29.2, 29.3, 29.3, 29.3, 29.4, 29.4, 29.4, 29.5, 29.5,\n",
       "       29.5, 29.6, 29.7, 29.7, 29.8, 29.8, 29.8, 29.9, 30. , 30. , 30.2,\n",
       "       30.3])"
      ]
     },
     "execution_count": 43,
     "metadata": {},
     "output_type": "execute_result"
    }
   ],
   "source": [
    "df2_nuevo_pie = np.random.normal(loc=28.42, scale=0.93, size=100)\n",
    "df_pie_red= np.round(df2_nuevo_pie, 1)\n",
    "df_pie= np.sort(df_pie_red)\n",
    "df_pie"
   ]
  },
  {
   "cell_type": "code",
   "execution_count": 44,
   "metadata": {},
   "outputs": [
    {
     "data": {
      "text/html": [
       "<div>\n",
       "<style scoped>\n",
       "    .dataframe tbody tr th:only-of-type {\n",
       "        vertical-align: middle;\n",
       "    }\n",
       "\n",
       "    .dataframe tbody tr th {\n",
       "        vertical-align: top;\n",
       "    }\n",
       "\n",
       "    .dataframe thead th {\n",
       "        text-align: right;\n",
       "    }\n",
       "</style>\n",
       "<table border=\"1\" class=\"dataframe\">\n",
       "  <thead>\n",
       "    <tr style=\"text-align: right;\">\n",
       "      <th></th>\n",
       "      <th>height</th>\n",
       "      <th>width</th>\n",
       "      <th>shoe_size</th>\n",
       "    </tr>\n",
       "  </thead>\n",
       "  <tbody>\n",
       "    <tr>\n",
       "      <th>0</th>\n",
       "      <td>172.0</td>\n",
       "      <td>39.0</td>\n",
       "      <td>25.2</td>\n",
       "    </tr>\n",
       "    <tr>\n",
       "      <th>1</th>\n",
       "      <td>174.0</td>\n",
       "      <td>40.0</td>\n",
       "      <td>25.7</td>\n",
       "    </tr>\n",
       "    <tr>\n",
       "      <th>2</th>\n",
       "      <td>174.0</td>\n",
       "      <td>41.0</td>\n",
       "      <td>26.3</td>\n",
       "    </tr>\n",
       "    <tr>\n",
       "      <th>3</th>\n",
       "      <td>175.0</td>\n",
       "      <td>42.0</td>\n",
       "      <td>26.6</td>\n",
       "    </tr>\n",
       "    <tr>\n",
       "      <th>4</th>\n",
       "      <td>175.0</td>\n",
       "      <td>42.0</td>\n",
       "      <td>26.7</td>\n",
       "    </tr>\n",
       "    <tr>\n",
       "      <th>...</th>\n",
       "      <td>...</td>\n",
       "      <td>...</td>\n",
       "      <td>...</td>\n",
       "    </tr>\n",
       "    <tr>\n",
       "      <th>95</th>\n",
       "      <td>189.0</td>\n",
       "      <td>55.0</td>\n",
       "      <td>29.9</td>\n",
       "    </tr>\n",
       "    <tr>\n",
       "      <th>96</th>\n",
       "      <td>189.0</td>\n",
       "      <td>56.0</td>\n",
       "      <td>30.0</td>\n",
       "    </tr>\n",
       "    <tr>\n",
       "      <th>97</th>\n",
       "      <td>189.0</td>\n",
       "      <td>56.0</td>\n",
       "      <td>30.0</td>\n",
       "    </tr>\n",
       "    <tr>\n",
       "      <th>98</th>\n",
       "      <td>192.0</td>\n",
       "      <td>57.0</td>\n",
       "      <td>30.2</td>\n",
       "    </tr>\n",
       "    <tr>\n",
       "      <th>99</th>\n",
       "      <td>192.0</td>\n",
       "      <td>58.0</td>\n",
       "      <td>30.3</td>\n",
       "    </tr>\n",
       "  </tbody>\n",
       "</table>\n",
       "<p>100 rows × 3 columns</p>\n",
       "</div>"
      ],
      "text/plain": [
       "    height  width  shoe_size\n",
       "0    172.0   39.0       25.2\n",
       "1    174.0   40.0       25.7\n",
       "2    174.0   41.0       26.3\n",
       "3    175.0   42.0       26.6\n",
       "4    175.0   42.0       26.7\n",
       "..     ...    ...        ...\n",
       "95   189.0   55.0       29.9\n",
       "96   189.0   56.0       30.0\n",
       "97   189.0   56.0       30.0\n",
       "98   192.0   57.0       30.2\n",
       "99   192.0   58.0       30.3\n",
       "\n",
       "[100 rows x 3 columns]"
      ]
     },
     "execution_count": 44,
     "metadata": {},
     "output_type": "execute_result"
    }
   ],
   "source": [
    "df_pb = pd.DataFrame({'height': df_altura, 'width': df_ancho, 'shoe_size': df_pie})\n",
    "df_pb"
   ]
  },
  {
   "cell_type": "code",
   "execution_count": 45,
   "metadata": {},
   "outputs": [
    {
     "data": {
      "text/plain": [
       "array([[<Axes: title={'center': 'height'}>,\n",
       "        <Axes: title={'center': 'width'}>],\n",
       "       [<Axes: title={'center': 'shoe_size'}>, <Axes: >]], dtype=object)"
      ]
     },
     "execution_count": 45,
     "metadata": {},
     "output_type": "execute_result"
    },
    {
     "data": {
      "image/png": "[encoded data removed]",
      "text/plain": [
       "<Figure size 640x480 with 4 Axes>"
      ]
     },
     "metadata": {},
     "output_type": "display_data"
    }
   ],
   "source": [
    "df_pb.hist()"
   ]
  },
  {
   "cell_type": "code",
   "execution_count": 46,
   "metadata": {},
   "outputs": [],
   "source": [
    "X = df_pb.drop(\"height\", axis=1)\n",
    "y = df_pb[\"height\"]"
   ]
  },
  {
   "cell_type": "code",
   "execution_count": 47,
   "metadata": {},
   "outputs": [],
   "source": [
    "x_train_pb, x_test_pb, y_train_pb, y_test_pb = train_test_split(X, y, test_size=0.20, random_state=48)"
   ]
  },
  {
   "cell_type": "code",
   "execution_count": 48,
   "metadata": {},
   "outputs": [],
   "source": [
    "ss_pb = StandardScaler()\n",
    "x_train_pb_ss = ss_pb.fit_transform(x_train_pb)\n",
    "x_test_pb_ss = ss_pb.transform(x_test_pb)"
   ]
  },
  {
   "cell_type": "code",
   "execution_count": 106,
   "metadata": {},
   "outputs": [
    {
     "name": "stdout",
     "output_type": "stream",
     "text": [
      "R2:0.9120656245828458, RMSE: 1.153831202479685\n"
     ]
    }
   ],
   "source": [
    "modelo_pb = Ridge(alpha=60)\n",
    "modelo_pb.fit(x_train_pb_ss, y_train_pb)\n",
    "pb_pred = modelo_pb.predict(x_test_pb_ss)\n",
    "r2 = r2_score(y_test_pb, pb_pred)\n",
    "print(f\"R2:{r2_score(y_test_pb, pb_pred)}, RMSE: {root_mean_squared_error(y_test_pb, pb_pred)}\")"
   ]
  },
  {
   "cell_type": "code",
   "execution_count": 108,
   "metadata": {},
   "outputs": [
    {
     "name": "stdout",
     "output_type": "stream",
     "text": [
      "Pendientes: [1.46661503 1.42816944]\n",
      "Intercepto: 181.825\n"
     ]
    }
   ],
   "source": [
    "print(f\"Pendientes: {modelo_pb.coef_}\")\n",
    "print(f\"Intercepto: {modelo_pb.intercept_}\")"
   ]
  },
  {
   "cell_type": "code",
   "execution_count": 109,
   "metadata": {},
   "outputs": [
    {
     "name": "stderr",
     "output_type": "stream",
     "text": [
      "c:\\Users\\Roi_f\\anaconda3\\envs\\personal\\Lib\\site-packages\\sklearn\\base.py:493: UserWarning:\n",
      "\n",
      "X does not have valid feature names, but StandardScaler was fitted with feature names\n",
      "\n"
     ]
    }
   ],
   "source": [
    "values_pb= ss_pb.transform([[44,27.5]])"
   ]
  },
  {
   "cell_type": "code",
   "execution_count": 110,
   "metadata": {},
   "outputs": [
    {
     "data": {
      "text/plain": [
       "array([179.00952091])"
      ]
     },
     "execution_count": 110,
     "metadata": {},
     "output_type": "execute_result"
    }
   ],
   "source": [
    "modelo_pb.predict(values_pb)"
   ]
  },
  {
   "cell_type": "code",
   "execution_count": 111,
   "metadata": {},
   "outputs": [],
   "source": [
    "x_train_pb = np.array(x_train_pb)\n",
    "x_test_pb = np.array(x_test_pb)"
   ]
  },
  {
   "cell_type": "code",
   "execution_count": 112,
   "metadata": {},
   "outputs": [
    {
     "name": "stderr",
     "output_type": "stream",
     "text": [
      "c:\\Users\\Roi_f\\anaconda3\\envs\\personal\\Lib\\site-packages\\sklearn\\base.py:493: UserWarning:\n",
      "\n",
      "X does not have valid feature names, but StandardScaler was fitted with feature names\n",
      "\n"
     ]
    },
    {
     "data": {
      "application/vnd.plotly.v1+json": {
       "config": {
        "plotlyServerURL": "https://plot.ly"
       },
       "data": [
        {
         "marker": {
          "color": "red",
          "opacity": 0.7,
          "size": 8
         },
         "mode": "markers",
         "type": "scatter3d",
         "x": [
          55,
          42,
          50,
          43,
          44,
          52,
          50,
          43,
          49,
          49,
          46,
          53,
          53,
          49,
          48,
          44,
          56,
          49,
          45,
          51
         ],
         "y": [
          29.8,
          26.9,
          29,
          27,
          27.3,
          29.2,
          28.9,
          27,
          28.7,
          28.9,
          28.3,
          29.4,
          29.4,
          28.8,
          28.6,
          27.7,
          30,
          28.8,
          27.8,
          29.1
         ],
         "z": [
          188,
          175,
          184,
          177,
          177,
          185,
          184,
          177,
          183,
          184,
          181,
          186,
          186,
          184,
          182,
          178,
          189,
          184,
          179,
          185
         ]
        },
        {
         "colorscale": [
          [
           0,
           "#440154"
          ],
          [
           0.1111111111111111,
           "#482878"
          ],
          [
           0.2222222222222222,
           "#3e4989"
          ],
          [
           0.3333333333333333,
           "#31688e"
          ],
          [
           0.4444444444444444,
           "#26828e"
          ],
          [
           0.5555555555555556,
           "#1f9e89"
          ],
          [
           0.6666666666666666,
           "#35b779"
          ],
          [
           0.7777777777777778,
           "#6ece58"
          ],
          [
           0.8888888888888888,
           "#b5de2b"
          ],
          [
           1,
           "#fde725"
          ]
         ],
         "opacity": 0.5,
         "type": "surface",
         "x": [
          [
           39,
           40,
           41,
           42,
           43,
           44,
           45,
           46,
           47,
           48,
           49,
           50,
           51,
           52,
           53,
           54,
           55,
           56,
           57,
           58
          ],
          [
           39,
           40,
           41,
           42,
           43,
           44,
           45,
           46,
           47,
           48,
           49,
           50,
           51,
           52,
           53,
           54,
           55,
           56,
           57,
           58
          ],
          [
           39,
           40,
           41,
           42,
           43,
           44,
           45,
           46,
           47,
           48,
           49,
           50,
           51,
           52,
           53,
           54,
           55,
           56,
           57,
           58
          ],
          [
           39,
           40,
           41,
           42,
           43,
           44,
           45,
           46,
           47,
           48,
           49,
           50,
           51,
           52,
           53,
           54,
           55,
           56,
           57,
           58
          ],
          [
           39,
           40,
           41,
           42,
           43,
           44,
           45,
           46,
           47,
           48,
           49,
           50,
           51,
           52,
           53,
           54,
           55,
           56,
           57,
           58
          ],
          [
           39,
           40,
           41,
           42,
           43,
           44,
           45,
           46,
           47,
           48,
           49,
           50,
           51,
           52,
           53,
           54,
           55,
           56,
           57,
           58
          ],
          [
           39,
           40,
           41,
           42,
           43,
           44,
           45,
           46,
           47,
           48,
           49,
           50,
           51,
           52,
           53,
           54,
           55,
           56,
           57,
           58
          ],
          [
           39,
           40,
           41,
           42,
           43,
           44,
           45,
           46,
           47,
           48,
           49,
           50,
           51,
           52,
           53,
           54,
           55,
           56,
           57,
           58
          ],
          [
           39,
           40,
           41,
           42,
           43,
           44,
           45,
           46,
           47,
           48,
           49,
           50,
           51,
           52,
           53,
           54,
           55,
           56,
           57,
           58
          ],
          [
           39,
           40,
           41,
           42,
           43,
           44,
           45,
           46,
           47,
           48,
           49,
           50,
           51,
           52,
           53,
           54,
           55,
           56,
           57,
           58
          ],
          [
           39,
           40,
           41,
           42,
           43,
           44,
           45,
           46,
           47,
           48,
           49,
           50,
           51,
           52,
           53,
           54,
           55,
           56,
           57,
           58
          ],
          [
           39,
           40,
           41,
           42,
           43,
           44,
           45,
           46,
           47,
           48,
           49,
           50,
           51,
           52,
           53,
           54,
           55,
           56,
           57,
           58
          ],
          [
           39,
           40,
           41,
           42,
           43,
           44,
           45,
           46,
           47,
           48,
           49,
           50,
           51,
           52,
           53,
           54,
           55,
           56,
           57,
           58
          ],
          [
           39,
           40,
           41,
           42,
           43,
           44,
           45,
           46,
           47,
           48,
           49,
           50,
           51,
           52,
           53,
           54,
           55,
           56,
           57,
           58
          ],
          [
           39,
           40,
           41,
           42,
           43,
           44,
           45,
           46,
           47,
           48,
           49,
           50,
           51,
           52,
           53,
           54,
           55,
           56,
           57,
           58
          ],
          [
           39,
           40,
           41,
           42,
           43,
           44,
           45,
           46,
           47,
           48,
           49,
           50,
           51,
           52,
           53,
           54,
           55,
           56,
           57,
           58
          ],
          [
           39,
           40,
           41,
           42,
           43,
           44,
           45,
           46,
           47,
           48,
           49,
           50,
           51,
           52,
           53,
           54,
           55,
           56,
           57,
           58
          ],
          [
           39,
           40,
           41,
           42,
           43,
           44,
           45,
           46,
           47,
           48,
           49,
           50,
           51,
           52,
           53,
           54,
           55,
           56,
           57,
           58
          ],
          [
           39,
           40,
           41,
           42,
           43,
           44,
           45,
           46,
           47,
           48,
           49,
           50,
           51,
           52,
           53,
           54,
           55,
           56,
           57,
           58
          ],
          [
           39,
           40,
           41,
           42,
           43,
           44,
           45,
           46,
           47,
           48,
           49,
           50,
           51,
           52,
           53,
           54,
           55,
           56,
           57,
           58
          ]
         ],
         "y": [
          [
           25.2,
           25.2,
           25.2,
           25.2,
           25.2,
           25.2,
           25.2,
           25.2,
           25.2,
           25.2,
           25.2,
           25.2,
           25.2,
           25.2,
           25.2,
           25.2,
           25.2,
           25.2,
           25.2,
           25.2
          ],
          [
           25.468421052631577,
           25.468421052631577,
           25.468421052631577,
           25.468421052631577,
           25.468421052631577,
           25.468421052631577,
           25.468421052631577,
           25.468421052631577,
           25.468421052631577,
           25.468421052631577,
           25.468421052631577,
           25.468421052631577,
           25.468421052631577,
           25.468421052631577,
           25.468421052631577,
           25.468421052631577,
           25.468421052631577,
           25.468421052631577,
           25.468421052631577,
           25.468421052631577
          ],
          [
           25.736842105263158,
           25.736842105263158,
           25.736842105263158,
           25.736842105263158,
           25.736842105263158,
           25.736842105263158,
           25.736842105263158,
           25.736842105263158,
           25.736842105263158,
           25.736842105263158,
           25.736842105263158,
           25.736842105263158,
           25.736842105263158,
           25.736842105263158,
           25.736842105263158,
           25.736842105263158,
           25.736842105263158,
           25.736842105263158,
           25.736842105263158,
           25.736842105263158
          ],
          [
           26.005263157894735,
           26.005263157894735,
           26.005263157894735,
           26.005263157894735,
           26.005263157894735,
           26.005263157894735,
           26.005263157894735,
           26.005263157894735,
           26.005263157894735,
           26.005263157894735,
           26.005263157894735,
           26.005263157894735,
           26.005263157894735,
           26.005263157894735,
           26.005263157894735,
           26.005263157894735,
           26.005263157894735,
           26.005263157894735,
           26.005263157894735,
           26.005263157894735
          ],
          [
           26.273684210526316,
           26.273684210526316,
           26.273684210526316,
           26.273684210526316,
           26.273684210526316,
           26.273684210526316,
           26.273684210526316,
           26.273684210526316,
           26.273684210526316,
           26.273684210526316,
           26.273684210526316,
           26.273684210526316,
           26.273684210526316,
           26.273684210526316,
           26.273684210526316,
           26.273684210526316,
           26.273684210526316,
           26.273684210526316,
           26.273684210526316,
           26.273684210526316
          ],
          [
           26.542105263157893,
           26.542105263157893,
           26.542105263157893,
           26.542105263157893,
           26.542105263157893,
           26.542105263157893,
           26.542105263157893,
           26.542105263157893,
           26.542105263157893,
           26.542105263157893,
           26.542105263157893,
           26.542105263157893,
           26.542105263157893,
           26.542105263157893,
           26.542105263157893,
           26.542105263157893,
           26.542105263157893,
           26.542105263157893,
           26.542105263157893,
           26.542105263157893
          ],
          [
           26.810526315789474,
           26.810526315789474,
           26.810526315789474,
           26.810526315789474,
           26.810526315789474,
           26.810526315789474,
           26.810526315789474,
           26.810526315789474,
           26.810526315789474,
           26.810526315789474,
           26.810526315789474,
           26.810526315789474,
           26.810526315789474,
           26.810526315789474,
           26.810526315789474,
           26.810526315789474,
           26.810526315789474,
           26.810526315789474,
           26.810526315789474,
           26.810526315789474
          ],
          [
           27.07894736842105,
           27.07894736842105,
           27.07894736842105,
           27.07894736842105,
           27.07894736842105,
           27.07894736842105,
           27.07894736842105,
           27.07894736842105,
           27.07894736842105,
           27.07894736842105,
           27.07894736842105,
           27.07894736842105,
           27.07894736842105,
           27.07894736842105,
           27.07894736842105,
           27.07894736842105,
           27.07894736842105,
           27.07894736842105,
           27.07894736842105,
           27.07894736842105
          ],
          [
           27.347368421052632,
           27.347368421052632,
           27.347368421052632,
           27.347368421052632,
           27.347368421052632,
           27.347368421052632,
           27.347368421052632,
           27.347368421052632,
           27.347368421052632,
           27.347368421052632,
           27.347368421052632,
           27.347368421052632,
           27.347368421052632,
           27.347368421052632,
           27.347368421052632,
           27.347368421052632,
           27.347368421052632,
           27.347368421052632,
           27.347368421052632,
           27.347368421052632
          ],
          [
           27.61578947368421,
           27.61578947368421,
           27.61578947368421,
           27.61578947368421,
           27.61578947368421,
           27.61578947368421,
           27.61578947368421,
           27.61578947368421,
           27.61578947368421,
           27.61578947368421,
           27.61578947368421,
           27.61578947368421,
           27.61578947368421,
           27.61578947368421,
           27.61578947368421,
           27.61578947368421,
           27.61578947368421,
           27.61578947368421,
           27.61578947368421,
           27.61578947368421
          ],
          [
           27.88421052631579,
           27.88421052631579,
           27.88421052631579,
           27.88421052631579,
           27.88421052631579,
           27.88421052631579,
           27.88421052631579,
           27.88421052631579,
           27.88421052631579,
           27.88421052631579,
           27.88421052631579,
           27.88421052631579,
           27.88421052631579,
           27.88421052631579,
           27.88421052631579,
           27.88421052631579,
           27.88421052631579,
           27.88421052631579,
           27.88421052631579,
           27.88421052631579
          ],
          [
           28.152631578947368,
           28.152631578947368,
           28.152631578947368,
           28.152631578947368,
           28.152631578947368,
           28.152631578947368,
           28.152631578947368,
           28.152631578947368,
           28.152631578947368,
           28.152631578947368,
           28.152631578947368,
           28.152631578947368,
           28.152631578947368,
           28.152631578947368,
           28.152631578947368,
           28.152631578947368,
           28.152631578947368,
           28.152631578947368,
           28.152631578947368,
           28.152631578947368
          ],
          [
           28.42105263157895,
           28.42105263157895,
           28.42105263157895,
           28.42105263157895,
           28.42105263157895,
           28.42105263157895,
           28.42105263157895,
           28.42105263157895,
           28.42105263157895,
           28.42105263157895,
           28.42105263157895,
           28.42105263157895,
           28.42105263157895,
           28.42105263157895,
           28.42105263157895,
           28.42105263157895,
           28.42105263157895,
           28.42105263157895,
           28.42105263157895,
           28.42105263157895
          ],
          [
           28.689473684210526,
           28.689473684210526,
           28.689473684210526,
           28.689473684210526,
           28.689473684210526,
           28.689473684210526,
           28.689473684210526,
           28.689473684210526,
           28.689473684210526,
           28.689473684210526,
           28.689473684210526,
           28.689473684210526,
           28.689473684210526,
           28.689473684210526,
           28.689473684210526,
           28.689473684210526,
           28.689473684210526,
           28.689473684210526,
           28.689473684210526,
           28.689473684210526
          ],
          [
           28.957894736842107,
           28.957894736842107,
           28.957894736842107,
           28.957894736842107,
           28.957894736842107,
           28.957894736842107,
           28.957894736842107,
           28.957894736842107,
           28.957894736842107,
           28.957894736842107,
           28.957894736842107,
           28.957894736842107,
           28.957894736842107,
           28.957894736842107,
           28.957894736842107,
           28.957894736842107,
           28.957894736842107,
           28.957894736842107,
           28.957894736842107,
           28.957894736842107
          ],
          [
           29.226315789473684,
           29.226315789473684,
           29.226315789473684,
           29.226315789473684,
           29.226315789473684,
           29.226315789473684,
           29.226315789473684,
           29.226315789473684,
           29.226315789473684,
           29.226315789473684,
           29.226315789473684,
           29.226315789473684,
           29.226315789473684,
           29.226315789473684,
           29.226315789473684,
           29.226315789473684,
           29.226315789473684,
           29.226315789473684,
           29.226315789473684,
           29.226315789473684
          ],
          [
           29.49473684210526,
           29.49473684210526,
           29.49473684210526,
           29.49473684210526,
           29.49473684210526,
           29.49473684210526,
           29.49473684210526,
           29.49473684210526,
           29.49473684210526,
           29.49473684210526,
           29.49473684210526,
           29.49473684210526,
           29.49473684210526,
           29.49473684210526,
           29.49473684210526,
           29.49473684210526,
           29.49473684210526,
           29.49473684210526,
           29.49473684210526,
           29.49473684210526
          ],
          [
           29.763157894736842,
           29.763157894736842,
           29.763157894736842,
           29.763157894736842,
           29.763157894736842,
           29.763157894736842,
           29.763157894736842,
           29.763157894736842,
           29.763157894736842,
           29.763157894736842,
           29.763157894736842,
           29.763157894736842,
           29.763157894736842,
           29.763157894736842,
           29.763157894736842,
           29.763157894736842,
           29.763157894736842,
           29.763157894736842,
           29.763157894736842,
           29.763157894736842
          ],
          [
           30.031578947368423,
           30.031578947368423,
           30.031578947368423,
           30.031578947368423,
           30.031578947368423,
           30.031578947368423,
           30.031578947368423,
           30.031578947368423,
           30.031578947368423,
           30.031578947368423,
           30.031578947368423,
           30.031578947368423,
           30.031578947368423,
           30.031578947368423,
           30.031578947368423,
           30.031578947368423,
           30.031578947368423,
           30.031578947368423,
           30.031578947368423,
           30.031578947368423
          ],
          [
           30.3,
           30.3,
           30.3,
           30.3,
           30.3,
           30.3,
           30.3,
           30.3,
           30.3,
           30.3,
           30.3,
           30.3,
           30.3,
           30.3,
           30.3,
           30.3,
           30.3,
           30.3,
           30.3,
           30.3
          ]
         ],
         "z": [
          [
           173.76661103534994,
           174.13395420737385,
           174.50129737939773,
           174.8686405514216,
           175.23598372344551,
           175.6033268954694,
           175.97067006749327,
           176.33801323951715,
           176.70535641154106,
           177.07269958356494,
           177.44004275558882,
           177.80738592761273,
           178.1747290996366,
           178.5420722716605,
           178.90941544368437,
           179.27675861570827,
           179.64410178773215,
           180.01144495975603,
           180.37878813177994,
           180.74613130380382
          ],
          [
           174.16413024502668,
           174.53147341705056,
           174.89881658907447,
           175.26615976109835,
           175.63350293312223,
           176.00084610514614,
           176.36818927717002,
           176.7355324491939,
           177.10287562121778,
           177.47021879324168,
           177.83756196526556,
           178.20490513728944,
           178.57224830931335,
           178.93959148133723,
           179.3069346533611,
           179.674277825385,
           180.0416209974089,
           180.40896416943278,
           180.77630734145666,
           181.14365051348057
          ],
          [
           174.56164945470343,
           174.9289926267273,
           175.29633579875122,
           175.6636789707751,
           176.03102214279897,
           176.39836531482285,
           176.76570848684676,
           177.13305165887064,
           177.50039483089452,
           177.86773800291843,
           178.2350811749423,
           178.6024243469662,
           178.9697675189901,
           179.33711069101398,
           179.70445386303786,
           180.07179703506173,
           180.43914020708564,
           180.80648337910952,
           181.1738265511334,
           181.5411697231573
          ],
          [
           174.95916866438017,
           175.32651183640405,
           175.69385500842793,
           176.06119818045184,
           176.42854135247572,
           176.7958845244996,
           177.1632276965235,
           177.5305708685474,
           177.89791404057127,
           178.26525721259515,
           178.63260038461905,
           178.99994355664293,
           179.3672867286668,
           179.73462990069072,
           180.1019730727146,
           180.46931624473848,
           180.83665941676236,
           181.20400258878627,
           181.57134576081015,
           181.93868893283403
          ],
          [
           175.35668787405692,
           175.7240310460808,
           176.09137421810468,
           176.45871739012858,
           176.82606056215246,
           177.19340373417634,
           177.56074690620022,
           177.92809007822413,
           178.295433250248,
           178.6627764222719,
           179.0301195942958,
           179.39746276631968,
           179.76480593834356,
           180.13214911036744,
           180.49949228239134,
           180.86683545441522,
           181.2341786264391,
           181.601521798463,
           181.9688649704869,
           182.33620814251077
          ],
          [
           175.75420708373363,
           176.12155025575754,
           176.48889342778142,
           176.8562365998053,
           177.2235797718292,
           177.5909229438531,
           177.95826611587697,
           178.32560928790085,
           178.69295245992475,
           179.06029563194863,
           179.4276388039725,
           179.79498197599642,
           180.1623251480203,
           180.52966832004418,
           180.89701149206806,
           181.26435466409197,
           181.63169783611585,
           181.99904100813973,
           182.36638418016364,
           182.73372735218751
          ],
          [
           176.15172629341038,
           176.51906946543428,
           176.88641263745816,
           177.25375580948204,
           177.62109898150595,
           177.98844215352983,
           178.3557853255537,
           178.7231284975776,
           179.0904716696015,
           179.45781484162538,
           179.82515801364926,
           180.19250118567317,
           180.55984435769705,
           180.92718752972092,
           181.2945307017448,
           181.6618738737687,
           182.0292170457926,
           182.39656021781647,
           182.76390338984038,
           183.13124656186426
          ],
          [
           176.54924550308712,
           176.916588675111,
           177.2839318471349,
           177.6512750191588,
           178.01861819118267,
           178.38596136320658,
           178.75330453523046,
           179.12064770725434,
           179.48799087927821,
           179.85533405130212,
           180.222677223326,
           180.59002039534988,
           180.9573635673738,
           181.32470673939767,
           181.69204991142155,
           182.05939308344543,
           182.42673625546934,
           182.79407942749322,
           183.1614225995171,
           183.528765771541
          ],
          [
           176.94676471276387,
           177.31410788478775,
           177.68145105681165,
           178.04879422883553,
           178.4161374008594,
           178.7834805728833,
           179.1508237449072,
           179.51816691693108,
           179.88551008895496,
           180.25285326097887,
           180.62019643300275,
           180.98753960502663,
           181.3548827770505,
           181.7222259490744,
           182.0895691210983,
           182.45691229312217,
           182.82425546514608,
           183.19159863716996,
           183.55894180919384,
           183.92628498121775
          ],
          [
           177.3442839224406,
           177.7116270944645,
           178.07897026648837,
           178.44631343851228,
           178.81365661053616,
           179.18099978256004,
           179.54834295458392,
           179.91568612660782,
           180.2830292986317,
           180.65037247065558,
           181.0177156426795,
           181.38505881470337,
           181.75240198672725,
           182.11974515875116,
           182.48708833077504,
           182.85443150279892,
           183.2217746748228,
           183.5891178468467,
           183.95646101887058,
           184.32380419089446
          ],
          [
           177.74180313211735,
           178.10914630414123,
           178.4764894761651,
           178.84383264818902,
           179.2111758202129,
           179.57851899223678,
           179.94586216426066,
           180.31320533628457,
           180.68054850830845,
           181.04789168033233,
           181.41523485235624,
           181.78257802438011,
           182.149921196404,
           182.51726436842787,
           182.88460754045178,
           183.25195071247566,
           183.61929388449954,
           183.98663705652345,
           184.35398022854733,
           184.7213234005712
          ],
          [
           178.13932234179407,
           178.50666551381798,
           178.87400868584186,
           179.24135185786574,
           179.60869502988965,
           179.97603820191352,
           180.3433813739374,
           180.71072454596128,
           181.0780677179852,
           181.44541089000907,
           181.81275406203295,
           182.18009723405686,
           182.54744040608074,
           182.91478357810462,
           183.2821267501285,
           183.6494699221524,
           184.01681309417629,
           184.38415626620016,
           184.75149943822407,
           185.11884261024795
          ],
          [
           178.53684155147081,
           178.90418472349472,
           179.2715278955186,
           179.63887106754248,
           180.00621423956636,
           180.37355741159027,
           180.74090058361415,
           181.10824375563803,
           181.47558692766194,
           181.84293009968582,
           182.2102732717097,
           182.5776164437336,
           182.94495961575748,
           183.31230278778136,
           183.67964595980524,
           184.04698913182915,
           184.41433230385303,
           184.7816754758769,
           185.14901864790082,
           185.5163618199247
          ],
          [
           178.93436076114756,
           179.30170393317144,
           179.66904710519535,
           180.03639027721923,
           180.4037334492431,
           180.771076621267,
           181.1384197932909,
           181.50576296531477,
           181.87310613733865,
           182.24044930936256,
           182.60779248138644,
           182.97513565341032,
           183.34247882543423,
           183.7098219974581,
           184.077165169482,
           184.44450834150587,
           184.81185151352977,
           185.17919468555365,
           185.54653785757753,
           185.91388102960144
          ],
          [
           179.3318799708243,
           179.69922314284818,
           180.0665663148721,
           180.43390948689597,
           180.80125265891985,
           181.16859583094373,
           181.53593900296764,
           181.90328217499152,
           182.2706253470154,
           182.6379685190393,
           183.00531169106318,
           183.37265486308706,
           183.73999803511094,
           184.10734120713485,
           184.47468437915873,
           184.8420275511826,
           185.20937072320652,
           185.5767138952304,
           185.94405706725428,
           186.31140023927816
          ],
          [
           179.72939918050105,
           180.09674235252493,
           180.4640855245488,
           180.83142869657271,
           181.1987718685966,
           181.56611504062047,
           181.93345821264435,
           182.30080138466826,
           182.66814455669214,
           183.03548772871602,
           183.40283090073993,
           183.7701740727638,
           184.1375172447877,
           184.50486041681157,
           184.87220358883548,
           185.23954676085935,
           185.60688993288323,
           185.97423310490714,
           186.34157627693102,
           186.7089194489549
          ],
          [
           180.12691839017776,
           180.49426156220167,
           180.86160473422555,
           181.22894790624943,
           181.59629107827334,
           181.96363425029722,
           182.3309774223211,
           182.69832059434498,
           183.06566376636889,
           183.43300693839277,
           183.80035011041664,
           184.16769328244055,
           184.53503645446443,
           184.9023796264883,
           185.2697227985122,
           185.6370659705361,
           186.00440914255998,
           186.37175231458386,
           186.73909548660777,
           187.10643865863165
          ],
          [
           180.5244375998545,
           180.89178077187842,
           181.2591239439023,
           181.62646711592618,
           181.99381028795008,
           182.36115345997396,
           182.72849663199784,
           183.09583980402172,
           183.46318297604563,
           183.8305261480695,
           184.1978693200934,
           184.5652124921173,
           184.93255566414118,
           185.29989883616506,
           185.66724200818894,
           186.03458518021284,
           186.40192835223672,
           186.7692715242606,
           187.1366146962845,
           187.5039578683084
          ],
          [
           180.92195680953125,
           181.28929998155516,
           181.65664315357904,
           182.02398632560292,
           182.3913294976268,
           182.7586726696507,
           183.1260158416746,
           183.49335901369847,
           183.86070218572237,
           184.22804535774625,
           184.59538852977013,
           184.962731701794,
           185.33007487381792,
           185.6974180458418,
           186.06476121786568,
           186.4321043898896,
           186.79944756191347,
           187.16679073393735,
           187.53413390596123,
           187.90147707798513
          ],
          [
           181.319476019208,
           181.68681919123188,
           182.05416236325578,
           182.42150553527966,
           182.78884870730354,
           183.15619187932742,
           183.52353505135133,
           183.8908782233752,
           184.2582213953991,
           184.625564567423,
           184.99290773944688,
           185.36025091147076,
           185.72759408349464,
           186.09493725551854,
           186.46228042754242,
           186.8296235995663,
           187.1969667715902,
           187.5643099436141,
           187.93165311563797,
           188.29899628766185
          ]
         ]
        }
       ],
       "layout": {
        "scene": {
         "xaxis": {
          "title": {
           "text": "Ancho"
          }
         },
         "yaxis": {
          "title": {
           "text": "Pie"
          }
         },
         "zaxis": {
          "title": {
           "text": "Altura"
          }
         }
        },
        "template": {
         "data": {
          "bar": [
           {
            "error_x": {
             "color": "#2a3f5f"
            },
            "error_y": {
             "color": "#2a3f5f"
            },
            "marker": {
             "line": {
              "color": "#E5ECF6",
              "width": 0.5
             },
             "pattern": {
              "fillmode": "overlay",
              "size": 10,
              "solidity": 0.2
             }
            },
            "type": "bar"
           }
          ],
          "barpolar": [
           {
            "marker": {
             "line": {
              "color": "#E5ECF6",
              "width": 0.5
             },
             "pattern": {
              "fillmode": "overlay",
              "size": 10,
              "solidity": 0.2
             }
            },
            "type": "barpolar"
           }
          ],
          "carpet": [
           {
            "aaxis": {
             "endlinecolor": "#2a3f5f",
             "gridcolor": "white",
             "linecolor": "white",
             "minorgridcolor": "white",
             "startlinecolor": "#2a3f5f"
            },
            "baxis": {
             "endlinecolor": "#2a3f5f",
             "gridcolor": "white",
             "linecolor": "white",
             "minorgridcolor": "white",
             "startlinecolor": "#2a3f5f"
            },
            "type": "carpet"
           }
          ],
          "choropleth": [
           {
            "colorbar": {
             "outlinewidth": 0,
             "ticks": ""
            },
            "type": "choropleth"
           }
          ],
          "contour": [
           {
            "colorbar": {
             "outlinewidth": 0,
             "ticks": ""
            },
            "colorscale": [
             [
              0,
              "#0d0887"
             ],
             [
              0.1111111111111111,
              "#46039f"
             ],
             [
              0.2222222222222222,
              "#7201a8"
             ],
             [
              0.3333333333333333,
              "#9c179e"
             ],
             [
              0.4444444444444444,
              "#bd3786"
             ],
             [
              0.5555555555555556,
              "#d8576b"
             ],
             [
              0.6666666666666666,
              "#ed7953"
             ],
             [
              0.7777777777777778,
              "#fb9f3a"
             ],
             [
              0.8888888888888888,
              "#fdca26"
             ],
             [
              1,
              "#f0f921"
             ]
            ],
            "type": "contour"
           }
          ],
          "contourcarpet": [
           {
            "colorbar": {
             "outlinewidth": 0,
             "ticks": ""
            },
            "type": "contourcarpet"
           }
          ],
          "heatmap": [
           {
            "colorbar": {
             "outlinewidth": 0,
             "ticks": ""
            },
            "colorscale": [
             [
              0,
              "#0d0887"
             ],
             [
              0.1111111111111111,
              "#46039f"
             ],
             [
              0.2222222222222222,
              "#7201a8"
             ],
             [
              0.3333333333333333,
              "#9c179e"
             ],
             [
              0.4444444444444444,
              "#bd3786"
             ],
             [
              0.5555555555555556,
              "#d8576b"
             ],
             [
              0.6666666666666666,
              "#ed7953"
             ],
             [
              0.7777777777777778,
              "#fb9f3a"
             ],
             [
              0.8888888888888888,
              "#fdca26"
             ],
             [
              1,
              "#f0f921"
             ]
            ],
            "type": "heatmap"
           }
          ],
          "heatmapgl": [
           {
            "colorbar": {
             "outlinewidth": 0,
             "ticks": ""
            },
            "colorscale": [
             [
              0,
              "#0d0887"
             ],
             [
              0.1111111111111111,
              "#46039f"
             ],
             [
              0.2222222222222222,
              "#7201a8"
             ],
             [
              0.3333333333333333,
              "#9c179e"
             ],
             [
              0.4444444444444444,
              "#bd3786"
             ],
             [
              0.5555555555555556,
              "#d8576b"
             ],
             [
              0.6666666666666666,
              "#ed7953"
             ],
             [
              0.7777777777777778,
              "#fb9f3a"
             ],
             [
              0.8888888888888888,
              "#fdca26"
             ],
             [
              1,
              "#f0f921"
             ]
            ],
            "type": "heatmapgl"
           }
          ],
          "histogram": [
           {
            "marker": {
             "pattern": {
              "fillmode": "overlay",
              "size": 10,
              "solidity": 0.2
             }
            },
            "type": "histogram"
           }
          ],
          "histogram2d": [
           {
            "colorbar": {
             "outlinewidth": 0,
             "ticks": ""
            },
            "colorscale": [
             [
              0,
              "#0d0887"
             ],
             [
              0.1111111111111111,
              "#46039f"
             ],
             [
              0.2222222222222222,
              "#7201a8"
             ],
             [
              0.3333333333333333,
              "#9c179e"
             ],
             [
              0.4444444444444444,
              "#bd3786"
             ],
             [
              0.5555555555555556,
              "#d8576b"
             ],
             [
              0.6666666666666666,
              "#ed7953"
             ],
             [
              0.7777777777777778,
              "#fb9f3a"
             ],
             [
              0.8888888888888888,
              "#fdca26"
             ],
             [
              1,
              "#f0f921"
             ]
            ],
            "type": "histogram2d"
           }
          ],
          "histogram2dcontour": [
           {
            "colorbar": {
             "outlinewidth": 0,
             "ticks": ""
            },
            "colorscale": [
             [
              0,
              "#0d0887"
             ],
             [
              0.1111111111111111,
              "#46039f"
             ],
             [
              0.2222222222222222,
              "#7201a8"
             ],
             [
              0.3333333333333333,
              "#9c179e"
             ],
             [
              0.4444444444444444,
              "#bd3786"
             ],
             [
              0.5555555555555556,
              "#d8576b"
             ],
             [
              0.6666666666666666,
              "#ed7953"
             ],
             [
              0.7777777777777778,
              "#fb9f3a"
             ],
             [
              0.8888888888888888,
              "#fdca26"
             ],
             [
              1,
              "#f0f921"
             ]
            ],
            "type": "histogram2dcontour"
           }
          ],
          "mesh3d": [
           {
            "colorbar": {
             "outlinewidth": 0,
             "ticks": ""
            },
            "type": "mesh3d"
           }
          ],
          "parcoords": [
           {
            "line": {
             "colorbar": {
              "outlinewidth": 0,
              "ticks": ""
             }
            },
            "type": "parcoords"
           }
          ],
          "pie": [
           {
            "automargin": true,
            "type": "pie"
           }
          ],
          "scatter": [
           {
            "fillpattern": {
             "fillmode": "overlay",
             "size": 10,
             "solidity": 0.2
            },
            "type": "scatter"
           }
          ],
          "scatter3d": [
           {
            "line": {
             "colorbar": {
              "outlinewidth": 0,
              "ticks": ""
             }
            },
            "marker": {
             "colorbar": {
              "outlinewidth": 0,
              "ticks": ""
             }
            },
            "type": "scatter3d"
           }
          ],
          "scattercarpet": [
           {
            "marker": {
             "colorbar": {
              "outlinewidth": 0,
              "ticks": ""
             }
            },
            "type": "scattercarpet"
           }
          ],
          "scattergeo": [
           {
            "marker": {
             "colorbar": {
              "outlinewidth": 0,
              "ticks": ""
             }
            },
            "type": "scattergeo"
           }
          ],
          "scattergl": [
           {
            "marker": {
             "colorbar": {
              "outlinewidth": 0,
              "ticks": ""
             }
            },
            "type": "scattergl"
           }
          ],
          "scattermapbox": [
           {
            "marker": {
             "colorbar": {
              "outlinewidth": 0,
              "ticks": ""
             }
            },
            "type": "scattermapbox"
           }
          ],
          "scatterpolar": [
           {
            "marker": {
             "colorbar": {
              "outlinewidth": 0,
              "ticks": ""
             }
            },
            "type": "scatterpolar"
           }
          ],
          "scatterpolargl": [
           {
            "marker": {
             "colorbar": {
              "outlinewidth": 0,
              "ticks": ""
             }
            },
            "type": "scatterpolargl"
           }
          ],
          "scatterternary": [
           {
            "marker": {
             "colorbar": {
              "outlinewidth": 0,
              "ticks": ""
             }
            },
            "type": "scatterternary"
           }
          ],
          "surface": [
           {
            "colorbar": {
             "outlinewidth": 0,
             "ticks": ""
            },
            "colorscale": [
             [
              0,
              "#0d0887"
             ],
             [
              0.1111111111111111,
              "#46039f"
             ],
             [
              0.2222222222222222,
              "#7201a8"
             ],
             [
              0.3333333333333333,
              "#9c179e"
             ],
             [
              0.4444444444444444,
              "#bd3786"
             ],
             [
              0.5555555555555556,
              "#d8576b"
             ],
             [
              0.6666666666666666,
              "#ed7953"
             ],
             [
              0.7777777777777778,
              "#fb9f3a"
             ],
             [
              0.8888888888888888,
              "#fdca26"
             ],
             [
              1,
              "#f0f921"
             ]
            ],
            "type": "surface"
           }
          ],
          "table": [
           {
            "cells": {
             "fill": {
              "color": "#EBF0F8"
             },
             "line": {
              "color": "white"
             }
            },
            "header": {
             "fill": {
              "color": "#C8D4E3"
             },
             "line": {
              "color": "white"
             }
            },
            "type": "table"
           }
          ]
         },
         "layout": {
          "annotationdefaults": {
           "arrowcolor": "#2a3f5f",
           "arrowhead": 0,
           "arrowwidth": 1
          },
          "autotypenumbers": "strict",
          "coloraxis": {
           "colorbar": {
            "outlinewidth": 0,
            "ticks": ""
           }
          },
          "colorscale": {
           "diverging": [
            [
             0,
             "#8e0152"
            ],
            [
             0.1,
             "#c51b7d"
            ],
            [
             0.2,
             "#de77ae"
            ],
            [
             0.3,
             "#f1b6da"
            ],
            [
             0.4,
             "#fde0ef"
            ],
            [
             0.5,
             "#f7f7f7"
            ],
            [
             0.6,
             "#e6f5d0"
            ],
            [
             0.7,
             "#b8e186"
            ],
            [
             0.8,
             "#7fbc41"
            ],
            [
             0.9,
             "#4d9221"
            ],
            [
             1,
             "#276419"
            ]
           ],
           "sequential": [
            [
             0,
             "#0d0887"
            ],
            [
             0.1111111111111111,
             "#46039f"
            ],
            [
             0.2222222222222222,
             "#7201a8"
            ],
            [
             0.3333333333333333,
             "#9c179e"
            ],
            [
             0.4444444444444444,
             "#bd3786"
            ],
            [
             0.5555555555555556,
             "#d8576b"
            ],
            [
             0.6666666666666666,
             "#ed7953"
            ],
            [
             0.7777777777777778,
             "#fb9f3a"
            ],
            [
             0.8888888888888888,
             "#fdca26"
            ],
            [
             1,
             "#f0f921"
            ]
           ],
           "sequentialminus": [
            [
             0,
             "#0d0887"
            ],
            [
             0.1111111111111111,
             "#46039f"
            ],
            [
             0.2222222222222222,
             "#7201a8"
            ],
            [
             0.3333333333333333,
             "#9c179e"
            ],
            [
             0.4444444444444444,
             "#bd3786"
            ],
            [
             0.5555555555555556,
             "#d8576b"
            ],
            [
             0.6666666666666666,
             "#ed7953"
            ],
            [
             0.7777777777777778,
             "#fb9f3a"
            ],
            [
             0.8888888888888888,
             "#fdca26"
            ],
            [
             1,
             "#f0f921"
            ]
           ]
          },
          "colorway": [
           "#636efa",
           "#EF553B",
           "#00cc96",
           "#ab63fa",
           "#FFA15A",
           "#19d3f3",
           "#FF6692",
           "#B6E880",
           "#FF97FF",
           "#FECB52"
          ],
          "font": {
           "color": "#2a3f5f"
          },
          "geo": {
           "bgcolor": "white",
           "lakecolor": "white",
           "landcolor": "#E5ECF6",
           "showlakes": true,
           "showland": true,
           "subunitcolor": "white"
          },
          "hoverlabel": {
           "align": "left"
          },
          "hovermode": "closest",
          "mapbox": {
           "style": "light"
          },
          "paper_bgcolor": "white",
          "plot_bgcolor": "#E5ECF6",
          "polar": {
           "angularaxis": {
            "gridcolor": "white",
            "linecolor": "white",
            "ticks": ""
           },
           "bgcolor": "#E5ECF6",
           "radialaxis": {
            "gridcolor": "white",
            "linecolor": "white",
            "ticks": ""
           }
          },
          "scene": {
           "xaxis": {
            "backgroundcolor": "#E5ECF6",
            "gridcolor": "white",
            "gridwidth": 2,
            "linecolor": "white",
            "showbackground": true,
            "ticks": "",
            "zerolinecolor": "white"
           },
           "yaxis": {
            "backgroundcolor": "#E5ECF6",
            "gridcolor": "white",
            "gridwidth": 2,
            "linecolor": "white",
            "showbackground": true,
            "ticks": "",
            "zerolinecolor": "white"
           },
           "zaxis": {
            "backgroundcolor": "#E5ECF6",
            "gridcolor": "white",
            "gridwidth": 2,
            "linecolor": "white",
            "showbackground": true,
            "ticks": "",
            "zerolinecolor": "white"
           }
          },
          "shapedefaults": {
           "line": {
            "color": "#2a3f5f"
           }
          },
          "ternary": {
           "aaxis": {
            "gridcolor": "white",
            "linecolor": "white",
            "ticks": ""
           },
           "baxis": {
            "gridcolor": "white",
            "linecolor": "white",
            "ticks": ""
           },
           "bgcolor": "#E5ECF6",
           "caxis": {
            "gridcolor": "white",
            "linecolor": "white",
            "ticks": ""
           }
          },
          "title": {
           "x": 0.05
          },
          "xaxis": {
           "automargin": true,
           "gridcolor": "white",
           "linecolor": "white",
           "ticks": "",
           "title": {
            "standoff": 15
           },
           "zerolinecolor": "white",
           "zerolinewidth": 2
          },
          "yaxis": {
           "automargin": true,
           "gridcolor": "white",
           "linecolor": "white",
           "ticks": "",
           "title": {
            "standoff": 15
           },
           "zerolinecolor": "white",
           "zerolinewidth": 2
          }
         }
        },
        "title": {
         "text": "REGRESION<br>R2: 0.9120656245828458 RMSE: 1.153831202479685"
        }
       }
      }
     },
     "metadata": {},
     "output_type": "display_data"
    }
   ],
   "source": [
    "# Definir rangos para las variables independientes\n",
    "x1_range = np.linspace(min(x_train_pb[:, 0]), max(x_train_pb[:, 0]), 20)\n",
    "x2_range = np.linspace(min(x_train_pb[:, 1]), max(x_train_pb[:, 1]), 20)\n",
    "x1_mesh, x2_mesh = np.meshgrid(x1_range, x2_range)\n",
    "\n",
    "# Escalar el meshgrid para predicción\n",
    "x_mesh_scaled = ss_pb.transform(np.vstack((x1_mesh.ravel(), x2_mesh.ravel())).T)\n",
    "\n",
    "# Predecir los valores con el modelo escalado\n",
    "y_mesh_scaled = modelo_pb.predict(x_mesh_scaled)\n",
    "\n",
    "# Crear scatterplot 3D de los puntos reales\n",
    "scatter = go.Scatter3d(\n",
    "    x=x_test_pb[:, 0], y=x_test_pb[:, 1], z=y_test_pb,\n",
    "    mode='markers',\n",
    "    marker=dict(size=8, color='red', opacity=0.7)\n",
    ")\n",
    "\n",
    "# Crear el plano de regresión\n",
    "surface = go.Surface(\n",
    "    x=x1_mesh, y=x2_mesh, z=y_mesh_scaled.reshape(x1_mesh.shape),\n",
    "    colorscale='Viridis', opacity=0.5\n",
    ")\n",
    "\n",
    "# Configuración del layout\n",
    "layout = go.Layout(\n",
    "    title=f\"REGRESION<br>R2: {r2_score(y_test_pb, pb_pred)} RMSE: {root_mean_squared_error(y_test_pb, pb_pred)}\",\n",
    "    scene=dict(\n",
    "        xaxis_title='Ancho',\n",
    "        yaxis_title='Pie',\n",
    "        zaxis_title='Altura'\n",
    "    )\n",
    ")\n",
    "\n",
    "# Crear la figura\n",
    "fig = go.Figure(data=[scatter, surface], layout=layout)\n",
    "\n",
    "# Mostrar la figura interactiva\n",
    "fig.show()\n"
   ]
  },
  {
   "cell_type": "markdown",
   "metadata": {},
   "source": [
    "**¿Agregarías datos a tu base de datos para mejorar las predicciones del modelo?**\n",
    "\n",
    "Sí, ya que la altura promedio de un mexicano no es la misma que la altura de una persona de Países Bajos."
   ]
  },
  {
   "cell_type": "markdown",
   "metadata": {},
   "source": [
    "**¿Cómo conseguirías dicha información?**\n",
    "\n",
    "Al tener que el promedio de altura de un hombre de Países Bajos es de 183 cm y la altura promedio de una mujer de Países Bajos es de 170 cm, promediamos las alturas y nos basamos en los datos originales y en los que recabamos de las 70 personas que medimos para crear nuevos datos."
   ]
  },
  {
   "cell_type": "markdown",
   "metadata": {},
   "source": [
    "**¿Modificarías algún parámetro de tu modelo?**\n",
    "\n",
    "En este caso, al no tener ningún dato de personas de países bajos y después de hacer gridsearch para obtener el modelo con las mejores métricas, llegamos a la conclusión de que una regresión lineal simple era el mejor modelo, por lo que no aplicamos ninguna regularización."
   ]
  },
  {
   "cell_type": "markdown",
   "metadata": {},
   "source": [
    "## Parte 4"
   ]
  },
  {
   "cell_type": "markdown",
   "metadata": {},
   "source": [
    "### Ambos contextos"
   ]
  },
  {
   "cell_type": "code",
   "execution_count": 55,
   "metadata": {},
   "outputs": [],
   "source": [
    "df_combined = pd.concat([df_center, data_left, data_right, df_pb])"
   ]
  },
  {
   "cell_type": "code",
   "execution_count": 56,
   "metadata": {},
   "outputs": [],
   "source": [
    "# Dividir los datos en entrenamiento y prueba\n",
    "X_c = df_combined.drop(\"height\", axis=1)\n",
    "y_c = df_combined[\"height\"]"
   ]
  },
  {
   "cell_type": "code",
   "execution_count": 57,
   "metadata": {},
   "outputs": [],
   "source": [
    "x_train, x_test, y_train, y_test = train_test_split(X_c, y_c, test_size=0.2, random_state=42)  "
   ]
  },
  {
   "cell_type": "code",
   "execution_count": 58,
   "metadata": {},
   "outputs": [
    {
     "name": "stdout",
     "output_type": "stream",
     "text": [
      "Ridge Regression:\n",
      "Best parameters: {'alpha': 1.0}\n",
      "RMSE: 0.87\n",
      "\n",
      "Lasso Regression:\n",
      "Best parameters: {'alpha': 1.0}\n",
      "RMSE: 1.15\n",
      "\n",
      "Elastic Net Regression:\n",
      "Best parameters: {'alpha': 1.0, 'l1_ratio': 0.1}\n",
      "RMSE: 1.07\n"
     ]
    }
   ],
   "source": [
    "ridge_params = {'alpha': np.logspace(0, 10, 20)}\n",
    "lasso_params = {'alpha': np.logspace(0, 6, 10)}\n",
    "enet_params = {'alpha': np.logspace(0, 6, 20), 'l1_ratio': [0.1, 0.2, 0.3, 0.5, 0.7, 0.9]}\n",
    "\n",
    "\n",
    "ridge = Ridge()\n",
    "lasso = Lasso()\n",
    "enet = ElasticNet()\n",
    "\n",
    "\n",
    "ridge_grid = GridSearchCV(ridge, ridge_params, scoring='neg_mean_squared_error', cv=5)\n",
    "lasso_grid = GridSearchCV(lasso, lasso_params, scoring='neg_mean_squared_error', cv=5)\n",
    "enet_grid = GridSearchCV(enet, enet_params, scoring='neg_mean_squared_error', cv=5)\n",
    "\n",
    "ridge_grid.fit(X, y)\n",
    "lasso_grid.fit(X, y)\n",
    "enet_grid.fit(X, y)\n",
    "\n",
    "\n",
    "print(\"Ridge Regression:\")\n",
    "print(f\"Best parameters: {ridge_grid.best_params_}\")\n",
    "print(f\"RMSE: {np.sqrt(-ridge_grid.best_score_):.2f}\")\n",
    "\n",
    "print(\"\\nLasso Regression:\")\n",
    "print(f\"Best parameters: {lasso_grid.best_params_}\")\n",
    "print(f\"RMSE: {np.sqrt(-lasso_grid.best_score_):.2f}\")\n",
    "\n",
    "print(\"\\nElastic Net Regression:\")\n",
    "print(f\"Best parameters: {enet_grid.best_params_}\")\n",
    "print(f\"RMSE: {np.sqrt(-enet_grid.best_score_):.2f}\")"
   ]
  },
  {
   "cell_type": "code",
   "execution_count": 59,
   "metadata": {},
   "outputs": [],
   "source": [
    "ss = StandardScaler()\n",
    "x_train_ss = ss.fit_transform(x_train)\n",
    "x_test_ss = ss.transform(x_test)"
   ]
  },
  {
   "cell_type": "code",
   "execution_count": 60,
   "metadata": {},
   "outputs": [
    {
     "data": {
      "text/html": [
       "<style>#sk-container-id-1 {\n",
       "  /* Definition of color scheme common for light and dark mode */\n",
       "  --sklearn-color-text: black;\n",
       "  --sklearn-color-line: gray;\n",
       "  /* Definition of color scheme for unfitted estimators */\n",
       "  --sklearn-color-unfitted-level-0: #fff5e6;\n",
       "  --sklearn-color-unfitted-level-1: #f6e4d2;\n",
       "  --sklearn-color-unfitted-level-2: #ffe0b3;\n",
       "  --sklearn-color-unfitted-level-3: chocolate;\n",
       "  /* Definition of color scheme for fitted estimators */\n",
       "  --sklearn-color-fitted-level-0: #f0f8ff;\n",
       "  --sklearn-color-fitted-level-1: #d4ebff;\n",
       "  --sklearn-color-fitted-level-2: #b3dbfd;\n",
       "  --sklearn-color-fitted-level-3: cornflowerblue;\n",
       "\n",
       "  /* Specific color for light theme */\n",
       "  --sklearn-color-text-on-default-background: var(--sg-text-color, var(--theme-code-foreground, var(--jp-content-font-color1, black)));\n",
       "  --sklearn-color-background: var(--sg-background-color, var(--theme-background, var(--jp-layout-color0, white)));\n",
       "  --sklearn-color-border-box: var(--sg-text-color, var(--theme-code-foreground, var(--jp-content-font-color1, black)));\n",
       "  --sklearn-color-icon: #696969;\n",
       "\n",
       "  @media (prefers-color-scheme: dark) {\n",
       "    /* Redefinition of color scheme for dark theme */\n",
       "    --sklearn-color-text-on-default-background: var(--sg-text-color, var(--theme-code-foreground, var(--jp-content-font-color1, white)));\n",
       "    --sklearn-color-background: var(--sg-background-color, var(--theme-background, var(--jp-layout-color0, #111)));\n",
       "    --sklearn-color-border-box: var(--sg-text-color, var(--theme-code-foreground, var(--jp-content-font-color1, white)));\n",
       "    --sklearn-color-icon: #878787;\n",
       "  }\n",
       "}\n",
       "\n",
       "#sk-container-id-1 {\n",
       "  color: var(--sklearn-color-text);\n",
       "}\n",
       "\n",
       "#sk-container-id-1 pre {\n",
       "  padding: 0;\n",
       "}\n",
       "\n",
       "#sk-container-id-1 input.sk-hidden--visually {\n",
       "  border: 0;\n",
       "  clip: rect(1px 1px 1px 1px);\n",
       "  clip: rect(1px, 1px, 1px, 1px);\n",
       "  height: 1px;\n",
       "  margin: -1px;\n",
       "  overflow: hidden;\n",
       "  padding: 0;\n",
       "  position: absolute;\n",
       "  width: 1px;\n",
       "}\n",
       "\n",
       "#sk-container-id-1 div.sk-dashed-wrapped {\n",
       "  border: 1px dashed var(--sklearn-color-line);\n",
       "  margin: 0 0.4em 0.5em 0.4em;\n",
       "  box-sizing: border-box;\n",
       "  padding-bottom: 0.4em;\n",
       "  background-color: var(--sklearn-color-background);\n",
       "}\n",
       "\n",
       "#sk-container-id-1 div.sk-container {\n",
       "  /* jupyter's `normalize.less` sets `[hidden] { display: none; }`\n",
       "     but bootstrap.min.css set `[hidden] { display: none !important; }`\n",
       "     so we also need the `!important` here to be able to override the\n",
       "     default hidden behavior on the sphinx rendered scikit-learn.org.\n",
       "     See: https://github.com/scikit-learn/scikit-learn/issues/21755 */\n",
       "  display: inline-block !important;\n",
       "  position: relative;\n",
       "}\n",
       "\n",
       "#sk-container-id-1 div.sk-text-repr-fallback {\n",
       "  display: none;\n",
       "}\n",
       "\n",
       "div.sk-parallel-item,\n",
       "div.sk-serial,\n",
       "div.sk-item {\n",
       "  /* draw centered vertical line to link estimators */\n",
       "  background-image: linear-gradient(var(--sklearn-color-text-on-default-background), var(--sklearn-color-text-on-default-background));\n",
       "  background-size: 2px 100%;\n",
       "  background-repeat: no-repeat;\n",
       "  background-position: center center;\n",
       "}\n",
       "\n",
       "/* Parallel-specific style estimator block */\n",
       "\n",
       "#sk-container-id-1 div.sk-parallel-item::after {\n",
       "  content: \"\";\n",
       "  width: 100%;\n",
       "  border-bottom: 2px solid var(--sklearn-color-text-on-default-background);\n",
       "  flex-grow: 1;\n",
       "}\n",
       "\n",
       "#sk-container-id-1 div.sk-parallel {\n",
       "  display: flex;\n",
       "  align-items: stretch;\n",
       "  justify-content: center;\n",
       "  background-color: var(--sklearn-color-background);\n",
       "  position: relative;\n",
       "}\n",
       "\n",
       "#sk-container-id-1 div.sk-parallel-item {\n",
       "  display: flex;\n",
       "  flex-direction: column;\n",
       "}\n",
       "\n",
       "#sk-container-id-1 div.sk-parallel-item:first-child::after {\n",
       "  align-self: flex-end;\n",
       "  width: 50%;\n",
       "}\n",
       "\n",
       "#sk-container-id-1 div.sk-parallel-item:last-child::after {\n",
       "  align-self: flex-start;\n",
       "  width: 50%;\n",
       "}\n",
       "\n",
       "#sk-container-id-1 div.sk-parallel-item:only-child::after {\n",
       "  width: 0;\n",
       "}\n",
       "\n",
       "/* Serial-specific style estimator block */\n",
       "\n",
       "#sk-container-id-1 div.sk-serial {\n",
       "  display: flex;\n",
       "  flex-direction: column;\n",
       "  align-items: center;\n",
       "  background-color: var(--sklearn-color-background);\n",
       "  padding-right: 1em;\n",
       "  padding-left: 1em;\n",
       "}\n",
       "\n",
       "\n",
       "/* Toggleable style: style used for estimator/Pipeline/ColumnTransformer box that is\n",
       "clickable and can be expanded/collapsed.\n",
       "- Pipeline and ColumnTransformer use this feature and define the default style\n",
       "- Estimators will overwrite some part of the style using the `sk-estimator` class\n",
       "*/\n",
       "\n",
       "/* Pipeline and ColumnTransformer style (default) */\n",
       "\n",
       "#sk-container-id-1 div.sk-toggleable {\n",
       "  /* Default theme specific background. It is overwritten whether we have a\n",
       "  specific estimator or a Pipeline/ColumnTransformer */\n",
       "  background-color: var(--sklearn-color-background);\n",
       "}\n",
       "\n",
       "/* Toggleable label */\n",
       "#sk-container-id-1 label.sk-toggleable__label {\n",
       "  cursor: pointer;\n",
       "  display: block;\n",
       "  width: 100%;\n",
       "  margin-bottom: 0;\n",
       "  padding: 0.5em;\n",
       "  box-sizing: border-box;\n",
       "  text-align: center;\n",
       "}\n",
       "\n",
       "#sk-container-id-1 label.sk-toggleable__label-arrow:before {\n",
       "  /* Arrow on the left of the label */\n",
       "  content: \"▸\";\n",
       "  float: left;\n",
       "  margin-right: 0.25em;\n",
       "  color: var(--sklearn-color-icon);\n",
       "}\n",
       "\n",
       "#sk-container-id-1 label.sk-toggleable__label-arrow:hover:before {\n",
       "  color: var(--sklearn-color-text);\n",
       "}\n",
       "\n",
       "/* Toggleable content - dropdown */\n",
       "\n",
       "#sk-container-id-1 div.sk-toggleable__content {\n",
       "  max-height: 0;\n",
       "  max-width: 0;\n",
       "  overflow: hidden;\n",
       "  text-align: left;\n",
       "  /* unfitted */\n",
       "  background-color: var(--sklearn-color-unfitted-level-0);\n",
       "}\n",
       "\n",
       "#sk-container-id-1 div.sk-toggleable__content.fitted {\n",
       "  /* fitted */\n",
       "  background-color: var(--sklearn-color-fitted-level-0);\n",
       "}\n",
       "\n",
       "#sk-container-id-1 div.sk-toggleable__content pre {\n",
       "  margin: 0.2em;\n",
       "  border-radius: 0.25em;\n",
       "  color: var(--sklearn-color-text);\n",
       "  /* unfitted */\n",
       "  background-color: var(--sklearn-color-unfitted-level-0);\n",
       "}\n",
       "\n",
       "#sk-container-id-1 div.sk-toggleable__content.fitted pre {\n",
       "  /* unfitted */\n",
       "  background-color: var(--sklearn-color-fitted-level-0);\n",
       "}\n",
       "\n",
       "#sk-container-id-1 input.sk-toggleable__control:checked~div.sk-toggleable__content {\n",
       "  /* Expand drop-down */\n",
       "  max-height: 200px;\n",
       "  max-width: 100%;\n",
       "  overflow: auto;\n",
       "}\n",
       "\n",
       "#sk-container-id-1 input.sk-toggleable__control:checked~label.sk-toggleable__label-arrow:before {\n",
       "  content: \"▾\";\n",
       "}\n",
       "\n",
       "/* Pipeline/ColumnTransformer-specific style */\n",
       "\n",
       "#sk-container-id-1 div.sk-label input.sk-toggleable__control:checked~label.sk-toggleable__label {\n",
       "  color: var(--sklearn-color-text);\n",
       "  background-color: var(--sklearn-color-unfitted-level-2);\n",
       "}\n",
       "\n",
       "#sk-container-id-1 div.sk-label.fitted input.sk-toggleable__control:checked~label.sk-toggleable__label {\n",
       "  background-color: var(--sklearn-color-fitted-level-2);\n",
       "}\n",
       "\n",
       "/* Estimator-specific style */\n",
       "\n",
       "/* Colorize estimator box */\n",
       "#sk-container-id-1 div.sk-estimator input.sk-toggleable__control:checked~label.sk-toggleable__label {\n",
       "  /* unfitted */\n",
       "  background-color: var(--sklearn-color-unfitted-level-2);\n",
       "}\n",
       "\n",
       "#sk-container-id-1 div.sk-estimator.fitted input.sk-toggleable__control:checked~label.sk-toggleable__label {\n",
       "  /* fitted */\n",
       "  background-color: var(--sklearn-color-fitted-level-2);\n",
       "}\n",
       "\n",
       "#sk-container-id-1 div.sk-label label.sk-toggleable__label,\n",
       "#sk-container-id-1 div.sk-label label {\n",
       "  /* The background is the default theme color */\n",
       "  color: var(--sklearn-color-text-on-default-background);\n",
       "}\n",
       "\n",
       "/* On hover, darken the color of the background */\n",
       "#sk-container-id-1 div.sk-label:hover label.sk-toggleable__label {\n",
       "  color: var(--sklearn-color-text);\n",
       "  background-color: var(--sklearn-color-unfitted-level-2);\n",
       "}\n",
       "\n",
       "/* Label box, darken color on hover, fitted */\n",
       "#sk-container-id-1 div.sk-label.fitted:hover label.sk-toggleable__label.fitted {\n",
       "  color: var(--sklearn-color-text);\n",
       "  background-color: var(--sklearn-color-fitted-level-2);\n",
       "}\n",
       "\n",
       "/* Estimator label */\n",
       "\n",
       "#sk-container-id-1 div.sk-label label {\n",
       "  font-family: monospace;\n",
       "  font-weight: bold;\n",
       "  display: inline-block;\n",
       "  line-height: 1.2em;\n",
       "}\n",
       "\n",
       "#sk-container-id-1 div.sk-label-container {\n",
       "  text-align: center;\n",
       "}\n",
       "\n",
       "/* Estimator-specific */\n",
       "#sk-container-id-1 div.sk-estimator {\n",
       "  font-family: monospace;\n",
       "  border: 1px dotted var(--sklearn-color-border-box);\n",
       "  border-radius: 0.25em;\n",
       "  box-sizing: border-box;\n",
       "  margin-bottom: 0.5em;\n",
       "  /* unfitted */\n",
       "  background-color: var(--sklearn-color-unfitted-level-0);\n",
       "}\n",
       "\n",
       "#sk-container-id-1 div.sk-estimator.fitted {\n",
       "  /* fitted */\n",
       "  background-color: var(--sklearn-color-fitted-level-0);\n",
       "}\n",
       "\n",
       "/* on hover */\n",
       "#sk-container-id-1 div.sk-estimator:hover {\n",
       "  /* unfitted */\n",
       "  background-color: var(--sklearn-color-unfitted-level-2);\n",
       "}\n",
       "\n",
       "#sk-container-id-1 div.sk-estimator.fitted:hover {\n",
       "  /* fitted */\n",
       "  background-color: var(--sklearn-color-fitted-level-2);\n",
       "}\n",
       "\n",
       "/* Specification for estimator info (e.g. \"i\" and \"?\") */\n",
       "\n",
       "/* Common style for \"i\" and \"?\" */\n",
       "\n",
       ".sk-estimator-doc-link,\n",
       "a:link.sk-estimator-doc-link,\n",
       "a:visited.sk-estimator-doc-link {\n",
       "  float: right;\n",
       "  font-size: smaller;\n",
       "  line-height: 1em;\n",
       "  font-family: monospace;\n",
       "  background-color: var(--sklearn-color-background);\n",
       "  border-radius: 1em;\n",
       "  height: 1em;\n",
       "  width: 1em;\n",
       "  text-decoration: none !important;\n",
       "  margin-left: 1ex;\n",
       "  /* unfitted */\n",
       "  border: var(--sklearn-color-unfitted-level-1) 1pt solid;\n",
       "  color: var(--sklearn-color-unfitted-level-1);\n",
       "}\n",
       "\n",
       ".sk-estimator-doc-link.fitted,\n",
       "a:link.sk-estimator-doc-link.fitted,\n",
       "a:visited.sk-estimator-doc-link.fitted {\n",
       "  /* fitted */\n",
       "  border: var(--sklearn-color-fitted-level-1) 1pt solid;\n",
       "  color: var(--sklearn-color-fitted-level-1);\n",
       "}\n",
       "\n",
       "/* On hover */\n",
       "div.sk-estimator:hover .sk-estimator-doc-link:hover,\n",
       ".sk-estimator-doc-link:hover,\n",
       "div.sk-label-container:hover .sk-estimator-doc-link:hover,\n",
       ".sk-estimator-doc-link:hover {\n",
       "  /* unfitted */\n",
       "  background-color: var(--sklearn-color-unfitted-level-3);\n",
       "  color: var(--sklearn-color-background);\n",
       "  text-decoration: none;\n",
       "}\n",
       "\n",
       "div.sk-estimator.fitted:hover .sk-estimator-doc-link.fitted:hover,\n",
       ".sk-estimator-doc-link.fitted:hover,\n",
       "div.sk-label-container:hover .sk-estimator-doc-link.fitted:hover,\n",
       ".sk-estimator-doc-link.fitted:hover {\n",
       "  /* fitted */\n",
       "  background-color: var(--sklearn-color-fitted-level-3);\n",
       "  color: var(--sklearn-color-background);\n",
       "  text-decoration: none;\n",
       "}\n",
       "\n",
       "/* Span, style for the box shown on hovering the info icon */\n",
       ".sk-estimator-doc-link span {\n",
       "  display: none;\n",
       "  z-index: 9999;\n",
       "  position: relative;\n",
       "  font-weight: normal;\n",
       "  right: .2ex;\n",
       "  padding: .5ex;\n",
       "  margin: .5ex;\n",
       "  width: min-content;\n",
       "  min-width: 20ex;\n",
       "  max-width: 50ex;\n",
       "  color: var(--sklearn-color-text);\n",
       "  box-shadow: 2pt 2pt 4pt #999;\n",
       "  /* unfitted */\n",
       "  background: var(--sklearn-color-unfitted-level-0);\n",
       "  border: .5pt solid var(--sklearn-color-unfitted-level-3);\n",
       "}\n",
       "\n",
       ".sk-estimator-doc-link.fitted span {\n",
       "  /* fitted */\n",
       "  background: var(--sklearn-color-fitted-level-0);\n",
       "  border: var(--sklearn-color-fitted-level-3);\n",
       "}\n",
       "\n",
       ".sk-estimator-doc-link:hover span {\n",
       "  display: block;\n",
       "}\n",
       "\n",
       "/* \"?\"-specific style due to the `<a>` HTML tag */\n",
       "\n",
       "#sk-container-id-1 a.estimator_doc_link {\n",
       "  float: right;\n",
       "  font-size: 1rem;\n",
       "  line-height: 1em;\n",
       "  font-family: monospace;\n",
       "  background-color: var(--sklearn-color-background);\n",
       "  border-radius: 1rem;\n",
       "  height: 1rem;\n",
       "  width: 1rem;\n",
       "  text-decoration: none;\n",
       "  /* unfitted */\n",
       "  color: var(--sklearn-color-unfitted-level-1);\n",
       "  border: var(--sklearn-color-unfitted-level-1) 1pt solid;\n",
       "}\n",
       "\n",
       "#sk-container-id-1 a.estimator_doc_link.fitted {\n",
       "  /* fitted */\n",
       "  border: var(--sklearn-color-fitted-level-1) 1pt solid;\n",
       "  color: var(--sklearn-color-fitted-level-1);\n",
       "}\n",
       "\n",
       "/* On hover */\n",
       "#sk-container-id-1 a.estimator_doc_link:hover {\n",
       "  /* unfitted */\n",
       "  background-color: var(--sklearn-color-unfitted-level-3);\n",
       "  color: var(--sklearn-color-background);\n",
       "  text-decoration: none;\n",
       "}\n",
       "\n",
       "#sk-container-id-1 a.estimator_doc_link.fitted:hover {\n",
       "  /* fitted */\n",
       "  background-color: var(--sklearn-color-fitted-level-3);\n",
       "}\n",
       "</style><div id=\"sk-container-id-1\" class=\"sk-top-container\"><div class=\"sk-text-repr-fallback\"><pre>GridSearchCV(cv=5, estimator=Ridge(),\n",
       "             param_grid={&#x27;alpha&#x27;: [0.1, 0.5, 1, 1.5, 2, 2.5, 3]}, scoring=&#x27;r2&#x27;)</pre><b>In a Jupyter environment, please rerun this cell to show the HTML representation or trust the notebook. <br />On GitHub, the HTML representation is unable to render, please try loading this page with nbviewer.org.</b></div><div class=\"sk-container\" hidden><div class=\"sk-item sk-dashed-wrapped\"><div class=\"sk-label-container\"><div class=\"sk-label fitted sk-toggleable\"><input class=\"sk-toggleable__control sk-hidden--visually\" id=\"sk-estimator-id-1\" type=\"checkbox\" ><label for=\"sk-estimator-id-1\" class=\"sk-toggleable__label fitted sk-toggleable__label-arrow fitted\">&nbsp;&nbsp;GridSearchCV<a class=\"sk-estimator-doc-link fitted\" rel=\"noreferrer\" target=\"_blank\" href=\"https://scikit-learn.org/1.5/modules/generated/sklearn.model_selection.GridSearchCV.html\">?<span>Documentation for GridSearchCV</span></a><span class=\"sk-estimator-doc-link fitted\">i<span>Fitted</span></span></label><div class=\"sk-toggleable__content fitted\"><pre>GridSearchCV(cv=5, estimator=Ridge(),\n",
       "             param_grid={&#x27;alpha&#x27;: [0.1, 0.5, 1, 1.5, 2, 2.5, 3]}, scoring=&#x27;r2&#x27;)</pre></div> </div></div><div class=\"sk-parallel\"><div class=\"sk-parallel-item\"><div class=\"sk-item\"><div class=\"sk-label-container\"><div class=\"sk-label fitted sk-toggleable\"><input class=\"sk-toggleable__control sk-hidden--visually\" id=\"sk-estimator-id-2\" type=\"checkbox\" ><label for=\"sk-estimator-id-2\" class=\"sk-toggleable__label fitted sk-toggleable__label-arrow fitted\">best_estimator_: Ridge</label><div class=\"sk-toggleable__content fitted\"><pre>Ridge(alpha=1.5)</pre></div> </div></div><div class=\"sk-serial\"><div class=\"sk-item\"><div class=\"sk-estimator fitted sk-toggleable\"><input class=\"sk-toggleable__control sk-hidden--visually\" id=\"sk-estimator-id-3\" type=\"checkbox\" ><label for=\"sk-estimator-id-3\" class=\"sk-toggleable__label fitted sk-toggleable__label-arrow fitted\">&nbsp;Ridge<a class=\"sk-estimator-doc-link fitted\" rel=\"noreferrer\" target=\"_blank\" href=\"https://scikit-learn.org/1.5/modules/generated/sklearn.linear_model.Ridge.html\">?<span>Documentation for Ridge</span></a></label><div class=\"sk-toggleable__content fitted\"><pre>Ridge(alpha=1.5)</pre></div> </div></div></div></div></div></div></div></div></div>"
      ],
      "text/plain": [
       "GridSearchCV(cv=5, estimator=Ridge(),\n",
       "             param_grid={'alpha': [0.1, 0.5, 1, 1.5, 2, 2.5, 3]}, scoring='r2')"
      ]
     },
     "execution_count": 60,
     "metadata": {},
     "output_type": "execute_result"
    }
   ],
   "source": [
    "param_grid = {'alpha': [0.1, 0.5, 1, 1.5, 2, 2.5, 3]}\n",
    "ridge = Ridge()\n",
    "grid_search = GridSearchCV(ridge, param_grid, cv=5, scoring='r2')\n",
    "grid_search.fit(x_train_ss, y_train)"
   ]
  },
  {
   "cell_type": "code",
   "execution_count": 61,
   "metadata": {},
   "outputs": [
    {
     "name": "stdout",
     "output_type": "stream",
     "text": [
      "Mejor alpha: 1.5\n"
     ]
    }
   ],
   "source": [
    "modelo_combinado = grid_search.best_estimator_\n",
    "print(f\"Mejor alpha: {grid_search.best_params_['alpha']}\")"
   ]
  },
  {
   "cell_type": "code",
   "execution_count": 62,
   "metadata": {},
   "outputs": [],
   "source": [
    "predicciones = modelo_combinado.predict(x_test_ss)\n",
    "r2 = r2_score(y_test, predicciones)\n",
    "rmse = np.sqrt(np.mean((y_test - predicciones)**2))"
   ]
  },
  {
   "cell_type": "code",
   "execution_count": 63,
   "metadata": {},
   "outputs": [
    {
     "name": "stdout",
     "output_type": "stream",
     "text": [
      "R2: 0.9233550728660553, RMSE: 3.0991792382411507\n"
     ]
    }
   ],
   "source": [
    "print(f\"R2: {r2}, RMSE: {rmse}\")"
   ]
  },
  {
   "cell_type": "code",
   "execution_count": 64,
   "metadata": {},
   "outputs": [
    {
     "name": "stdout",
     "output_type": "stream",
     "text": [
      "Pendientes: [0.25842167 9.91955419]\n",
      "Intercepto: 171.81127450980392\n"
     ]
    }
   ],
   "source": [
    "print(f\"Pendientes: {modelo_combinado.coef_}\")\n",
    "print(f\"Intercepto: {modelo_combinado.intercept_}\")"
   ]
  },
  {
   "cell_type": "code",
   "execution_count": 65,
   "metadata": {},
   "outputs": [
    {
     "name": "stderr",
     "output_type": "stream",
     "text": [
      "c:\\Users\\Roi_f\\anaconda3\\envs\\personal\\Lib\\site-packages\\sklearn\\base.py:493: UserWarning:\n",
      "\n",
      "X does not have valid feature names, but StandardScaler was fitted with feature names\n",
      "\n"
     ]
    }
   ],
   "source": [
    "values = ss.transform([[39,24.5]])"
   ]
  },
  {
   "cell_type": "code",
   "execution_count": 66,
   "metadata": {},
   "outputs": [
    {
     "data": {
      "text/plain": [
       "array([163.26416158])"
      ]
     },
     "execution_count": 66,
     "metadata": {},
     "output_type": "execute_result"
    }
   ],
   "source": [
    "modelo_combinado.predict(values)"
   ]
  },
  {
   "cell_type": "code",
   "execution_count": 67,
   "metadata": {},
   "outputs": [
    {
     "name": "stderr",
     "output_type": "stream",
     "text": [
      "c:\\Users\\Roi_f\\anaconda3\\envs\\personal\\Lib\\site-packages\\sklearn\\base.py:493: UserWarning:\n",
      "\n",
      "X does not have valid feature names, but StandardScaler was fitted with feature names\n",
      "\n"
     ]
    },
    {
     "data": {
      "application/vnd.plotly.v1+json": {
       "config": {
        "plotlyServerURL": "https://plot.ly"
       },
       "data": [
        {
         "marker": {
          "color": "red",
          "opacity": 0.7,
          "size": 8
         },
         "mode": "markers",
         "type": "scatter3d",
         "x": [
          31,
          45,
          45,
          41,
          41,
          39,
          47,
          53,
          37,
          37,
          37,
          49,
          49,
          47,
          53,
          50,
          45,
          38,
          42,
          39,
          46,
          42,
          50,
          44,
          43,
          46,
          46,
          45,
          40,
          55,
          39,
          51,
          50,
          47,
          45,
          37,
          53,
          37,
          40,
          51,
          39,
          50,
          44,
          44,
          49,
          45,
          35,
          56,
          40,
          45,
          57,
          40,
          49,
          42,
          52,
          46,
          45,
          57,
          42,
          54,
          43,
          46,
          45,
          48,
          50,
          41,
          44,
          45,
          36,
          46,
          50,
          37,
          35,
          45,
          54,
          40,
          44,
          48,
          36,
          38,
          42,
          44,
          47,
          44,
          45,
          44,
          55,
          42,
          42,
          42,
          38,
          46,
          49,
          44,
          42,
          35,
          49,
          55,
          52,
          50,
          47,
          47,
          43
         ],
         "y": [
          21,
          29,
          27.8,
          22.5,
          22.5,
          24,
          26.5,
          30,
          23,
          23,
          23,
          28.8,
          27.5,
          28.6,
          30,
          29,
          28,
          25,
          24,
          24,
          25.5,
          26.6,
          28,
          27.3,
          27,
          24,
          28.3,
          26.5,
          24,
          29.8,
          23,
          29,
          29,
          28.3,
          27.5,
          23,
          29.4,
          23,
          23,
          29.1,
          24,
          28.5,
          24.5,
          27.6,
          28.9,
          28,
          22,
          30,
          24,
          28,
          31,
          24,
          29,
          24,
          29.2,
          28.3,
          27,
          30.2,
          28,
          29.5,
          25,
          26.5,
          27.5,
          28,
          28.9,
          26,
          26.5,
          27.5,
          27,
          25.5,
          28,
          23,
          22,
          25,
          29.7,
          26,
          27,
          28.7,
          22,
          24,
          26.7,
          24,
          28.6,
          23,
          26.5,
          27.6,
          30,
          26,
          27,
          27,
          24,
          28,
          28.9,
          26,
          24,
          26,
          29,
          29.9,
          29.4,
          29,
          28,
          28.4,
          27
         ],
         "z": [
          149,
          178,
          179,
          155,
          155,
          158,
          168,
          186,
          157,
          157,
          156,
          184,
          178,
          182,
          186,
          190,
          180,
          170,
          162,
          159,
          168,
          175,
          173,
          178,
          176,
          170,
          181,
          170,
          159,
          189,
          158,
          183,
          190,
          181,
          172,
          157,
          186,
          158,
          153,
          185,
          158,
          175,
          162,
          178,
          184,
          180,
          153,
          191,
          165,
          180,
          193,
          159,
          182,
          160,
          185,
          181,
          180,
          192,
          177,
          186,
          164,
          167,
          175,
          182,
          184,
          170,
          173,
          172,
          170,
          168,
          173,
          161,
          153,
          174,
          187,
          171,
          175,
          183,
          154,
          164,
          175,
          163,
          182,
          162,
          170,
          178,
          187,
          170,
          174,
          173,
          159,
          182,
          184,
          161,
          162,
          159,
          182,
          189,
          185,
          185,
          182,
          181,
          176
         ]
        },
        {
         "colorscale": [
          [
           0,
           "#440154"
          ],
          [
           0.1111111111111111,
           "#482878"
          ],
          [
           0.2222222222222222,
           "#3e4989"
          ],
          [
           0.3333333333333333,
           "#31688e"
          ],
          [
           0.4444444444444444,
           "#26828e"
          ],
          [
           0.5555555555555556,
           "#1f9e89"
          ],
          [
           0.6666666666666666,
           "#35b779"
          ],
          [
           0.7777777777777778,
           "#6ece58"
          ],
          [
           0.8888888888888888,
           "#b5de2b"
          ],
          [
           1,
           "#fde725"
          ]
         ],
         "opacity": 0.5,
         "type": "surface",
         "x": [
          [
           33,
           34.473684210526315,
           35.94736842105263,
           37.421052631578945,
           38.89473684210526,
           40.368421052631575,
           41.84210526315789,
           43.31578947368421,
           44.78947368421053,
           46.26315789473684,
           47.73684210526316,
           49.21052631578947,
           50.68421052631579,
           52.1578947368421,
           53.631578947368425,
           55.10526315789474,
           56.578947368421055,
           58.05263157894737,
           59.526315789473685,
           61
          ],
          [
           33,
           34.473684210526315,
           35.94736842105263,
           37.421052631578945,
           38.89473684210526,
           40.368421052631575,
           41.84210526315789,
           43.31578947368421,
           44.78947368421053,
           46.26315789473684,
           47.73684210526316,
           49.21052631578947,
           50.68421052631579,
           52.1578947368421,
           53.631578947368425,
           55.10526315789474,
           56.578947368421055,
           58.05263157894737,
           59.526315789473685,
           61
          ],
          [
           33,
           34.473684210526315,
           35.94736842105263,
           37.421052631578945,
           38.89473684210526,
           40.368421052631575,
           41.84210526315789,
           43.31578947368421,
           44.78947368421053,
           46.26315789473684,
           47.73684210526316,
           49.21052631578947,
           50.68421052631579,
           52.1578947368421,
           53.631578947368425,
           55.10526315789474,
           56.578947368421055,
           58.05263157894737,
           59.526315789473685,
           61
          ],
          [
           33,
           34.473684210526315,
           35.94736842105263,
           37.421052631578945,
           38.89473684210526,
           40.368421052631575,
           41.84210526315789,
           43.31578947368421,
           44.78947368421053,
           46.26315789473684,
           47.73684210526316,
           49.21052631578947,
           50.68421052631579,
           52.1578947368421,
           53.631578947368425,
           55.10526315789474,
           56.578947368421055,
           58.05263157894737,
           59.526315789473685,
           61
          ],
          [
           33,
           34.473684210526315,
           35.94736842105263,
           37.421052631578945,
           38.89473684210526,
           40.368421052631575,
           41.84210526315789,
           43.31578947368421,
           44.78947368421053,
           46.26315789473684,
           47.73684210526316,
           49.21052631578947,
           50.68421052631579,
           52.1578947368421,
           53.631578947368425,
           55.10526315789474,
           56.578947368421055,
           58.05263157894737,
           59.526315789473685,
           61
          ],
          [
           33,
           34.473684210526315,
           35.94736842105263,
           37.421052631578945,
           38.89473684210526,
           40.368421052631575,
           41.84210526315789,
           43.31578947368421,
           44.78947368421053,
           46.26315789473684,
           47.73684210526316,
           49.21052631578947,
           50.68421052631579,
           52.1578947368421,
           53.631578947368425,
           55.10526315789474,
           56.578947368421055,
           58.05263157894737,
           59.526315789473685,
           61
          ],
          [
           33,
           34.473684210526315,
           35.94736842105263,
           37.421052631578945,
           38.89473684210526,
           40.368421052631575,
           41.84210526315789,
           43.31578947368421,
           44.78947368421053,
           46.26315789473684,
           47.73684210526316,
           49.21052631578947,
           50.68421052631579,
           52.1578947368421,
           53.631578947368425,
           55.10526315789474,
           56.578947368421055,
           58.05263157894737,
           59.526315789473685,
           61
          ],
          [
           33,
           34.473684210526315,
           35.94736842105263,
           37.421052631578945,
           38.89473684210526,
           40.368421052631575,
           41.84210526315789,
           43.31578947368421,
           44.78947368421053,
           46.26315789473684,
           47.73684210526316,
           49.21052631578947,
           50.68421052631579,
           52.1578947368421,
           53.631578947368425,
           55.10526315789474,
           56.578947368421055,
           58.05263157894737,
           59.526315789473685,
           61
          ],
          [
           33,
           34.473684210526315,
           35.94736842105263,
           37.421052631578945,
           38.89473684210526,
           40.368421052631575,
           41.84210526315789,
           43.31578947368421,
           44.78947368421053,
           46.26315789473684,
           47.73684210526316,
           49.21052631578947,
           50.68421052631579,
           52.1578947368421,
           53.631578947368425,
           55.10526315789474,
           56.578947368421055,
           58.05263157894737,
           59.526315789473685,
           61
          ],
          [
           33,
           34.473684210526315,
           35.94736842105263,
           37.421052631578945,
           38.89473684210526,
           40.368421052631575,
           41.84210526315789,
           43.31578947368421,
           44.78947368421053,
           46.26315789473684,
           47.73684210526316,
           49.21052631578947,
           50.68421052631579,
           52.1578947368421,
           53.631578947368425,
           55.10526315789474,
           56.578947368421055,
           58.05263157894737,
           59.526315789473685,
           61
          ],
          [
           33,
           34.473684210526315,
           35.94736842105263,
           37.421052631578945,
           38.89473684210526,
           40.368421052631575,
           41.84210526315789,
           43.31578947368421,
           44.78947368421053,
           46.26315789473684,
           47.73684210526316,
           49.21052631578947,
           50.68421052631579,
           52.1578947368421,
           53.631578947368425,
           55.10526315789474,
           56.578947368421055,
           58.05263157894737,
           59.526315789473685,
           61
          ],
          [
           33,
           34.473684210526315,
           35.94736842105263,
           37.421052631578945,
           38.89473684210526,
           40.368421052631575,
           41.84210526315789,
           43.31578947368421,
           44.78947368421053,
           46.26315789473684,
           47.73684210526316,
           49.21052631578947,
           50.68421052631579,
           52.1578947368421,
           53.631578947368425,
           55.10526315789474,
           56.578947368421055,
           58.05263157894737,
           59.526315789473685,
           61
          ],
          [
           33,
           34.473684210526315,
           35.94736842105263,
           37.421052631578945,
           38.89473684210526,
           40.368421052631575,
           41.84210526315789,
           43.31578947368421,
           44.78947368421053,
           46.26315789473684,
           47.73684210526316,
           49.21052631578947,
           50.68421052631579,
           52.1578947368421,
           53.631578947368425,
           55.10526315789474,
           56.578947368421055,
           58.05263157894737,
           59.526315789473685,
           61
          ],
          [
           33,
           34.473684210526315,
           35.94736842105263,
           37.421052631578945,
           38.89473684210526,
           40.368421052631575,
           41.84210526315789,
           43.31578947368421,
           44.78947368421053,
           46.26315789473684,
           47.73684210526316,
           49.21052631578947,
           50.68421052631579,
           52.1578947368421,
           53.631578947368425,
           55.10526315789474,
           56.578947368421055,
           58.05263157894737,
           59.526315789473685,
           61
          ],
          [
           33,
           34.473684210526315,
           35.94736842105263,
           37.421052631578945,
           38.89473684210526,
           40.368421052631575,
           41.84210526315789,
           43.31578947368421,
           44.78947368421053,
           46.26315789473684,
           47.73684210526316,
           49.21052631578947,
           50.68421052631579,
           52.1578947368421,
           53.631578947368425,
           55.10526315789474,
           56.578947368421055,
           58.05263157894737,
           59.526315789473685,
           61
          ],
          [
           33,
           34.473684210526315,
           35.94736842105263,
           37.421052631578945,
           38.89473684210526,
           40.368421052631575,
           41.84210526315789,
           43.31578947368421,
           44.78947368421053,
           46.26315789473684,
           47.73684210526316,
           49.21052631578947,
           50.68421052631579,
           52.1578947368421,
           53.631578947368425,
           55.10526315789474,
           56.578947368421055,
           58.05263157894737,
           59.526315789473685,
           61
          ],
          [
           33,
           34.473684210526315,
           35.94736842105263,
           37.421052631578945,
           38.89473684210526,
           40.368421052631575,
           41.84210526315789,
           43.31578947368421,
           44.78947368421053,
           46.26315789473684,
           47.73684210526316,
           49.21052631578947,
           50.68421052631579,
           52.1578947368421,
           53.631578947368425,
           55.10526315789474,
           56.578947368421055,
           58.05263157894737,
           59.526315789473685,
           61
          ],
          [
           33,
           34.473684210526315,
           35.94736842105263,
           37.421052631578945,
           38.89473684210526,
           40.368421052631575,
           41.84210526315789,
           43.31578947368421,
           44.78947368421053,
           46.26315789473684,
           47.73684210526316,
           49.21052631578947,
           50.68421052631579,
           52.1578947368421,
           53.631578947368425,
           55.10526315789474,
           56.578947368421055,
           58.05263157894737,
           59.526315789473685,
           61
          ],
          [
           33,
           34.473684210526315,
           35.94736842105263,
           37.421052631578945,
           38.89473684210526,
           40.368421052631575,
           41.84210526315789,
           43.31578947368421,
           44.78947368421053,
           46.26315789473684,
           47.73684210526316,
           49.21052631578947,
           50.68421052631579,
           52.1578947368421,
           53.631578947368425,
           55.10526315789474,
           56.578947368421055,
           58.05263157894737,
           59.526315789473685,
           61
          ],
          [
           33,
           34.473684210526315,
           35.94736842105263,
           37.421052631578945,
           38.89473684210526,
           40.368421052631575,
           41.84210526315789,
           43.31578947368421,
           44.78947368421053,
           46.26315789473684,
           47.73684210526316,
           49.21052631578947,
           50.68421052631579,
           52.1578947368421,
           53.631578947368425,
           55.10526315789474,
           56.578947368421055,
           58.05263157894737,
           59.526315789473685,
           61
          ]
         ],
         "y": [
          [
           22,
           22,
           22,
           22,
           22,
           22,
           22,
           22,
           22,
           22,
           22,
           22,
           22,
           22,
           22,
           22,
           22,
           22,
           22,
           22
          ],
          [
           22.436842105263157,
           22.436842105263157,
           22.436842105263157,
           22.436842105263157,
           22.436842105263157,
           22.436842105263157,
           22.436842105263157,
           22.436842105263157,
           22.436842105263157,
           22.436842105263157,
           22.436842105263157,
           22.436842105263157,
           22.436842105263157,
           22.436842105263157,
           22.436842105263157,
           22.436842105263157,
           22.436842105263157,
           22.436842105263157,
           22.436842105263157,
           22.436842105263157
          ],
          [
           22.873684210526317,
           22.873684210526317,
           22.873684210526317,
           22.873684210526317,
           22.873684210526317,
           22.873684210526317,
           22.873684210526317,
           22.873684210526317,
           22.873684210526317,
           22.873684210526317,
           22.873684210526317,
           22.873684210526317,
           22.873684210526317,
           22.873684210526317,
           22.873684210526317,
           22.873684210526317,
           22.873684210526317,
           22.873684210526317,
           22.873684210526317,
           22.873684210526317
          ],
          [
           23.310526315789474,
           23.310526315789474,
           23.310526315789474,
           23.310526315789474,
           23.310526315789474,
           23.310526315789474,
           23.310526315789474,
           23.310526315789474,
           23.310526315789474,
           23.310526315789474,
           23.310526315789474,
           23.310526315789474,
           23.310526315789474,
           23.310526315789474,
           23.310526315789474,
           23.310526315789474,
           23.310526315789474,
           23.310526315789474,
           23.310526315789474,
           23.310526315789474
          ],
          [
           23.74736842105263,
           23.74736842105263,
           23.74736842105263,
           23.74736842105263,
           23.74736842105263,
           23.74736842105263,
           23.74736842105263,
           23.74736842105263,
           23.74736842105263,
           23.74736842105263,
           23.74736842105263,
           23.74736842105263,
           23.74736842105263,
           23.74736842105263,
           23.74736842105263,
           23.74736842105263,
           23.74736842105263,
           23.74736842105263,
           23.74736842105263,
           23.74736842105263
          ],
          [
           24.184210526315788,
           24.184210526315788,
           24.184210526315788,
           24.184210526315788,
           24.184210526315788,
           24.184210526315788,
           24.184210526315788,
           24.184210526315788,
           24.184210526315788,
           24.184210526315788,
           24.184210526315788,
           24.184210526315788,
           24.184210526315788,
           24.184210526315788,
           24.184210526315788,
           24.184210526315788,
           24.184210526315788,
           24.184210526315788,
           24.184210526315788,
           24.184210526315788
          ],
          [
           24.621052631578948,
           24.621052631578948,
           24.621052631578948,
           24.621052631578948,
           24.621052631578948,
           24.621052631578948,
           24.621052631578948,
           24.621052631578948,
           24.621052631578948,
           24.621052631578948,
           24.621052631578948,
           24.621052631578948,
           24.621052631578948,
           24.621052631578948,
           24.621052631578948,
           24.621052631578948,
           24.621052631578948,
           24.621052631578948,
           24.621052631578948,
           24.621052631578948
          ],
          [
           25.057894736842105,
           25.057894736842105,
           25.057894736842105,
           25.057894736842105,
           25.057894736842105,
           25.057894736842105,
           25.057894736842105,
           25.057894736842105,
           25.057894736842105,
           25.057894736842105,
           25.057894736842105,
           25.057894736842105,
           25.057894736842105,
           25.057894736842105,
           25.057894736842105,
           25.057894736842105,
           25.057894736842105,
           25.057894736842105,
           25.057894736842105,
           25.057894736842105
          ],
          [
           25.49473684210526,
           25.49473684210526,
           25.49473684210526,
           25.49473684210526,
           25.49473684210526,
           25.49473684210526,
           25.49473684210526,
           25.49473684210526,
           25.49473684210526,
           25.49473684210526,
           25.49473684210526,
           25.49473684210526,
           25.49473684210526,
           25.49473684210526,
           25.49473684210526,
           25.49473684210526,
           25.49473684210526,
           25.49473684210526,
           25.49473684210526,
           25.49473684210526
          ],
          [
           25.931578947368422,
           25.931578947368422,
           25.931578947368422,
           25.931578947368422,
           25.931578947368422,
           25.931578947368422,
           25.931578947368422,
           25.931578947368422,
           25.931578947368422,
           25.931578947368422,
           25.931578947368422,
           25.931578947368422,
           25.931578947368422,
           25.931578947368422,
           25.931578947368422,
           25.931578947368422,
           25.931578947368422,
           25.931578947368422,
           25.931578947368422,
           25.931578947368422
          ],
          [
           26.36842105263158,
           26.36842105263158,
           26.36842105263158,
           26.36842105263158,
           26.36842105263158,
           26.36842105263158,
           26.36842105263158,
           26.36842105263158,
           26.36842105263158,
           26.36842105263158,
           26.36842105263158,
           26.36842105263158,
           26.36842105263158,
           26.36842105263158,
           26.36842105263158,
           26.36842105263158,
           26.36842105263158,
           26.36842105263158,
           26.36842105263158,
           26.36842105263158
          ],
          [
           26.805263157894736,
           26.805263157894736,
           26.805263157894736,
           26.805263157894736,
           26.805263157894736,
           26.805263157894736,
           26.805263157894736,
           26.805263157894736,
           26.805263157894736,
           26.805263157894736,
           26.805263157894736,
           26.805263157894736,
           26.805263157894736,
           26.805263157894736,
           26.805263157894736,
           26.805263157894736,
           26.805263157894736,
           26.805263157894736,
           26.805263157894736,
           26.805263157894736
          ],
          [
           27.242105263157896,
           27.242105263157896,
           27.242105263157896,
           27.242105263157896,
           27.242105263157896,
           27.242105263157896,
           27.242105263157896,
           27.242105263157896,
           27.242105263157896,
           27.242105263157896,
           27.242105263157896,
           27.242105263157896,
           27.242105263157896,
           27.242105263157896,
           27.242105263157896,
           27.242105263157896,
           27.242105263157896,
           27.242105263157896,
           27.242105263157896,
           27.242105263157896
          ],
          [
           27.678947368421053,
           27.678947368421053,
           27.678947368421053,
           27.678947368421053,
           27.678947368421053,
           27.678947368421053,
           27.678947368421053,
           27.678947368421053,
           27.678947368421053,
           27.678947368421053,
           27.678947368421053,
           27.678947368421053,
           27.678947368421053,
           27.678947368421053,
           27.678947368421053,
           27.678947368421053,
           27.678947368421053,
           27.678947368421053,
           27.678947368421053,
           27.678947368421053
          ],
          [
           28.11578947368421,
           28.11578947368421,
           28.11578947368421,
           28.11578947368421,
           28.11578947368421,
           28.11578947368421,
           28.11578947368421,
           28.11578947368421,
           28.11578947368421,
           28.11578947368421,
           28.11578947368421,
           28.11578947368421,
           28.11578947368421,
           28.11578947368421,
           28.11578947368421,
           28.11578947368421,
           28.11578947368421,
           28.11578947368421,
           28.11578947368421,
           28.11578947368421
          ],
          [
           28.55263157894737,
           28.55263157894737,
           28.55263157894737,
           28.55263157894737,
           28.55263157894737,
           28.55263157894737,
           28.55263157894737,
           28.55263157894737,
           28.55263157894737,
           28.55263157894737,
           28.55263157894737,
           28.55263157894737,
           28.55263157894737,
           28.55263157894737,
           28.55263157894737,
           28.55263157894737,
           28.55263157894737,
           28.55263157894737,
           28.55263157894737,
           28.55263157894737
          ],
          [
           28.989473684210527,
           28.989473684210527,
           28.989473684210527,
           28.989473684210527,
           28.989473684210527,
           28.989473684210527,
           28.989473684210527,
           28.989473684210527,
           28.989473684210527,
           28.989473684210527,
           28.989473684210527,
           28.989473684210527,
           28.989473684210527,
           28.989473684210527,
           28.989473684210527,
           28.989473684210527,
           28.989473684210527,
           28.989473684210527,
           28.989473684210527,
           28.989473684210527
          ],
          [
           29.426315789473684,
           29.426315789473684,
           29.426315789473684,
           29.426315789473684,
           29.426315789473684,
           29.426315789473684,
           29.426315789473684,
           29.426315789473684,
           29.426315789473684,
           29.426315789473684,
           29.426315789473684,
           29.426315789473684,
           29.426315789473684,
           29.426315789473684,
           29.426315789473684,
           29.426315789473684,
           29.426315789473684,
           29.426315789473684,
           29.426315789473684,
           29.426315789473684
          ],
          [
           29.863157894736844,
           29.863157894736844,
           29.863157894736844,
           29.863157894736844,
           29.863157894736844,
           29.863157894736844,
           29.863157894736844,
           29.863157894736844,
           29.863157894736844,
           29.863157894736844,
           29.863157894736844,
           29.863157894736844,
           29.863157894736844,
           29.863157894736844,
           29.863157894736844,
           29.863157894736844,
           29.863157894736844,
           29.863157894736844,
           29.863157894736844,
           29.863157894736844
          ],
          [
           30.3,
           30.3,
           30.3,
           30.3,
           30.3,
           30.3,
           30.3,
           30.3,
           30.3,
           30.3,
           30.3,
           30.3,
           30.3,
           30.3,
           30.3,
           30.3,
           30.3,
           30.3,
           30.3,
           30.3
          ]
         ],
         "z": [
          [
           151.98359820511246,
           152.05493240517737,
           152.1262666052423,
           152.19760080530725,
           152.26893500537216,
           152.3402692054371,
           152.41160340550204,
           152.48293760556695,
           152.55427180563188,
           152.62560600569682,
           152.69694020576173,
           152.76827440582667,
           152.8396086058916,
           152.91094280595655,
           152.98227700602146,
           153.0536112060864,
           153.1249454061513,
           153.19627960621625,
           153.2676138062812,
           153.33894800634613
          ],
          [
           153.90397903921564,
           153.97531323928055,
           154.0466474393455,
           154.11798163941043,
           154.18931583947534,
           154.26065003954028,
           154.33198423960522,
           154.40331843967013,
           154.47465263973507,
           154.5459868398,
           154.61732103986492,
           154.68865523992986,
           154.7599894399948,
           154.83132364005974,
           154.90265784012465,
           154.9739920401896,
           155.04532624025452,
           155.11666044031944,
           155.18799464038437,
           155.2593288404493
          ],
          [
           155.82435987331883,
           155.89569407338377,
           155.9670282734487,
           156.03836247351362,
           156.10969667357855,
           156.1810308736435,
           156.2523650737084,
           156.32369927377334,
           156.39503347383828,
           156.4663676739032,
           156.53770187396813,
           156.60903607403307,
           156.68037027409798,
           156.75170447416292,
           156.82303867422786,
           156.89437287429277,
           156.9657070743577,
           157.03704127442265,
           157.10837547448756,
           157.1797096745525
          ],
          [
           157.744740707422,
           157.81607490748695,
           157.8874091075519,
           157.9587433076168,
           158.03007750768174,
           158.10141170774668,
           158.1727459078116,
           158.24408010787653,
           158.31541430794147,
           158.38674850800638,
           158.45808270807132,
           158.52941690813626,
           158.60075110820117,
           158.6720853082661,
           158.74341950833104,
           158.81475370839598,
           158.8860879084609,
           158.95742210852583,
           159.02875630859077,
           159.10009050865568
          ],
          [
           159.6651215415252,
           159.73645574159013,
           159.80778994165507,
           159.87912414171998,
           159.95045834178492,
           160.02179254184986,
           160.09312674191477,
           160.1644609419797,
           160.23579514204465,
           160.30712934210956,
           160.3784635421745,
           160.44979774223944,
           160.52113194230435,
           160.5924661423693,
           160.66380034243423,
           160.73513454249917,
           160.80646874256408,
           160.87780294262902,
           160.94913714269396,
           161.02047134275887
          ],
          [
           161.58550237562838,
           161.65683657569332,
           161.72817077575826,
           161.79950497582317,
           161.8708391758881,
           161.94217337595305,
           162.01350757601796,
           162.0848417760829,
           162.15617597614784,
           162.22751017621277,
           162.29884437627769,
           162.37017857634262,
           162.44151277640756,
           162.51284697647247,
           162.5841811765374,
           162.65551537660235,
           162.72684957666726,
           162.7981837767322,
           162.86951797679714,
           162.94085217686205
          ],
          [
           163.5058832097316,
           163.57721740979653,
           163.64855160986144,
           163.71988580992638,
           163.79122000999132,
           163.86255421005623,
           163.93388841012117,
           164.0052226101861,
           164.07655681025102,
           164.14789101031596,
           164.2192252103809,
           164.2905594104458,
           164.36189361051075,
           164.4332278105757,
           164.5045620106406,
           164.57589621070554,
           164.64723041077048,
           164.71856461083541,
           164.78989881090033,
           164.86123301096526
          ],
          [
           165.42626404383478,
           165.49759824389972,
           165.56893244396463,
           165.64026664402957,
           165.7116008440945,
           165.78293504415942,
           165.85426924422435,
           165.9256034442893,
           165.9969376443542,
           166.06827184441914,
           166.13960604448408,
           166.210940244549,
           166.28227444461393,
           166.35360864467887,
           166.4249428447438,
           166.49627704480872,
           166.56761124487366,
           166.6389454449386,
           166.7102796450035,
           166.78161384506845
          ],
          [
           167.34664487793796,
           167.4179790780029,
           167.4893132780678,
           167.56064747813275,
           167.6319816781977,
           167.7033158782626,
           167.77465007832754,
           167.84598427839248,
           167.9173184784574,
           167.98865267852233,
           168.05998687858727,
           168.1313210786522,
           168.20265527871712,
           168.27398947878206,
           168.345323678847,
           168.4166578789119,
           168.48799207897684,
           168.55932627904178,
           168.6306604791067,
           168.70199467917163
          ],
          [
           169.26702571204117,
           169.33835991210609,
           169.40969411217102,
           169.48102831223596,
           169.55236251230087,
           169.6236967123658,
           169.69503091243075,
           169.76636511249566,
           169.8376993125606,
           169.90903351262554,
           169.98036771269045,
           170.0517019127554,
           170.12303611282033,
           170.19437031288524,
           170.26570451295018,
           170.33703871301512,
           170.40837291308006,
           170.47970711314497,
           170.5510413132099,
           170.62237551327485
          ],
          [
           171.18740654614436,
           171.25874074620927,
           171.3300749462742,
           171.40140914633915,
           171.47274334640406,
           171.544077546469,
           171.61541174653394,
           171.68674594659885,
           171.7580801466638,
           171.82941434672873,
           171.90074854679364,
           171.97208274685858,
           172.04341694692351,
           172.11475114698843,
           172.18608534705336,
           172.2574195471183,
           172.32875374718324,
           172.40008794724815,
           172.4714221473131,
           172.54275634737803
          ],
          [
           173.10778738024754,
           173.17912158031245,
           173.2504557803774,
           173.32178998044233,
           173.39312418050724,
           173.46445838057218,
           173.53579258063712,
           173.60712678070203,
           173.67846098076697,
           173.7497951808319,
           173.82112938089682,
           173.89246358096176,
           173.9637977810267,
           174.03513198109164,
           174.10646618115655,
           174.1778003812215,
           174.24913458128643,
           174.32046878135134,
           174.39180298141628,
           174.46313718148122
          ],
          [
           175.02816821435073,
           175.09950241441567,
           175.1708366144806,
           175.24217081454552,
           175.31350501461046,
           175.3848392146754,
           175.4561734147403,
           175.52750761480524,
           175.59884181487018,
           175.6701760149351,
           175.74151021500003,
           175.81284441506497,
           175.88417861512988,
           175.95551281519482,
           176.02684701525976,
           176.0981812153247,
           176.1695154153896,
           176.24084961545455,
           176.3121838155195,
           176.3835180155844
          ],
          [
           176.9485490484539,
           177.01988324851885,
           177.0912174485838,
           177.1625516486487,
           177.23388584871364,
           177.30522004877858,
           177.3765542488435,
           177.44788844890843,
           177.51922264897337,
           177.59055684903828,
           177.66189104910322,
           177.73322524916816,
           177.80455944923307,
           177.875893649298,
           177.94722784936295,
           178.01856204942789,
           178.0898962494928,
           178.16123044955773,
           178.23256464962267,
           178.30389884968758
          ],
          [
           178.8689298825571,
           178.94026408262204,
           179.01159828268698,
           179.0829324827519,
           179.15426668281683,
           179.22560088288176,
           179.29693508294667,
           179.3682692830116,
           179.43960348307655,
           179.51093768314146,
           179.5822718832064,
           179.65360608327134,
           179.72494028333625,
           179.7962744834012,
           179.86760868346613,
           179.93894288353107,
           180.01027708359598,
           180.08161128366092,
           180.15294548372586,
           180.22427968379077
          ],
          [
           180.7893107166603,
           180.86064491672522,
           180.93197911679016,
           181.0033133168551,
           181.07464751692004,
           181.14598171698495,
           181.2173159170499,
           181.28865011711483,
           181.35998431717974,
           181.43131851724468,
           181.50265271730962,
           181.57398691737453,
           181.64532111743947,
           181.7166553175044,
           181.78798951756932,
           181.85932371763425,
           181.9306579176992,
           182.00199211776413,
           182.07332631782904,
           182.14466051789398
          ],
          [
           182.7096915507635,
           182.78102575082843,
           182.85235995089334,
           182.92369415095828,
           182.99502835102322,
           183.06636255108813,
           183.13769675115307,
           183.209030951218,
           183.28036515128292,
           183.35169935134786,
           183.4230335514128,
           183.4943677514777,
           183.56570195154265,
           183.6370361516076,
           183.7083703516725,
           183.77970455173744,
           183.85103875180238,
           183.92237295186732,
           183.99370715193223,
           184.06504135199717
          ],
          [
           184.63007238486668,
           184.70140658493162,
           184.77274078499653,
           184.84407498506147,
           184.9154091851264,
           184.98674338519132,
           185.05807758525626,
           185.1294117853212,
           185.2007459853861,
           185.27208018545105,
           185.34341438551598,
           185.4147485855809,
           185.48608278564583,
           185.55741698571077,
           185.62875118577568,
           185.70008538584062,
           185.77141958590556,
           185.8427537859705,
           185.9140879860354,
           185.98542218610035
          ],
          [
           186.5504532189699,
           186.6217874190348,
           186.69312161909974,
           186.76445581916465,
           186.8357900192296,
           186.90712421929453,
           186.97845841935947,
           187.04979261942438,
           187.12112681948932,
           187.19246101955426,
           187.26379521961917,
           187.3351294196841,
           187.40646361974905,
           187.47779781981396,
           187.5491320198789,
           187.62046621994384,
           187.69180042000875,
           187.76313462007369,
           187.83446882013862,
           187.90580302020356
          ],
          [
           188.47083405307308,
           188.542168253138,
           188.61350245320293,
           188.68483665326787,
           188.75617085333278,
           188.82750505339772,
           188.89883925346265,
           188.97017345352756,
           189.0415076535925,
           189.11284185365744,
           189.18417605372235,
           189.2555102537873,
           189.32684445385223,
           189.39817865391717,
           189.46951285398208,
           189.54084705404702,
           189.61218125411193,
           189.68351545417687,
           189.7548496542418,
           189.82618385430675
          ]
         ]
        }
       ],
       "layout": {
        "scene": {
         "xaxis": {
          "title": {
           "text": "Ancho"
          }
         },
         "yaxis": {
          "title": {
           "text": "Pie"
          }
         },
         "zaxis": {
          "title": {
           "text": "Altura"
          }
         }
        },
        "template": {
         "data": {
          "bar": [
           {
            "error_x": {
             "color": "#2a3f5f"
            },
            "error_y": {
             "color": "#2a3f5f"
            },
            "marker": {
             "line": {
              "color": "#E5ECF6",
              "width": 0.5
             },
             "pattern": {
              "fillmode": "overlay",
              "size": 10,
              "solidity": 0.2
             }
            },
            "type": "bar"
           }
          ],
          "barpolar": [
           {
            "marker": {
             "line": {
              "color": "#E5ECF6",
              "width": 0.5
             },
             "pattern": {
              "fillmode": "overlay",
              "size": 10,
              "solidity": 0.2
             }
            },
            "type": "barpolar"
           }
          ],
          "carpet": [
           {
            "aaxis": {
             "endlinecolor": "#2a3f5f",
             "gridcolor": "white",
             "linecolor": "white",
             "minorgridcolor": "white",
             "startlinecolor": "#2a3f5f"
            },
            "baxis": {
             "endlinecolor": "#2a3f5f",
             "gridcolor": "white",
             "linecolor": "white",
             "minorgridcolor": "white",
             "startlinecolor": "#2a3f5f"
            },
            "type": "carpet"
           }
          ],
          "choropleth": [
           {
            "colorbar": {
             "outlinewidth": 0,
             "ticks": ""
            },
            "type": "choropleth"
           }
          ],
          "contour": [
           {
            "colorbar": {
             "outlinewidth": 0,
             "ticks": ""
            },
            "colorscale": [
             [
              0,
              "#0d0887"
             ],
             [
              0.1111111111111111,
              "#46039f"
             ],
             [
              0.2222222222222222,
              "#7201a8"
             ],
             [
              0.3333333333333333,
              "#9c179e"
             ],
             [
              0.4444444444444444,
              "#bd3786"
             ],
             [
              0.5555555555555556,
              "#d8576b"
             ],
             [
              0.6666666666666666,
              "#ed7953"
             ],
             [
              0.7777777777777778,
              "#fb9f3a"
             ],
             [
              0.8888888888888888,
              "#fdca26"
             ],
             [
              1,
              "#f0f921"
             ]
            ],
            "type": "contour"
           }
          ],
          "contourcarpet": [
           {
            "colorbar": {
             "outlinewidth": 0,
             "ticks": ""
            },
            "type": "contourcarpet"
           }
          ],
          "heatmap": [
           {
            "colorbar": {
             "outlinewidth": 0,
             "ticks": ""
            },
            "colorscale": [
             [
              0,
              "#0d0887"
             ],
             [
              0.1111111111111111,
              "#46039f"
             ],
             [
              0.2222222222222222,
              "#7201a8"
             ],
             [
              0.3333333333333333,
              "#9c179e"
             ],
             [
              0.4444444444444444,
              "#bd3786"
             ],
             [
              0.5555555555555556,
              "#d8576b"
             ],
             [
              0.6666666666666666,
              "#ed7953"
             ],
             [
              0.7777777777777778,
              "#fb9f3a"
             ],
             [
              0.8888888888888888,
              "#fdca26"
             ],
             [
              1,
              "#f0f921"
             ]
            ],
            "type": "heatmap"
           }
          ],
          "heatmapgl": [
           {
            "colorbar": {
             "outlinewidth": 0,
             "ticks": ""
            },
            "colorscale": [
             [
              0,
              "#0d0887"
             ],
             [
              0.1111111111111111,
              "#46039f"
             ],
             [
              0.2222222222222222,
              "#7201a8"
             ],
             [
              0.3333333333333333,
              "#9c179e"
             ],
             [
              0.4444444444444444,
              "#bd3786"
             ],
             [
              0.5555555555555556,
              "#d8576b"
             ],
             [
              0.6666666666666666,
              "#ed7953"
             ],
             [
              0.7777777777777778,
              "#fb9f3a"
             ],
             [
              0.8888888888888888,
              "#fdca26"
             ],
             [
              1,
              "#f0f921"
             ]
            ],
            "type": "heatmapgl"
           }
          ],
          "histogram": [
           {
            "marker": {
             "pattern": {
              "fillmode": "overlay",
              "size": 10,
              "solidity": 0.2
             }
            },
            "type": "histogram"
           }
          ],
          "histogram2d": [
           {
            "colorbar": {
             "outlinewidth": 0,
             "ticks": ""
            },
            "colorscale": [
             [
              0,
              "#0d0887"
             ],
             [
              0.1111111111111111,
              "#46039f"
             ],
             [
              0.2222222222222222,
              "#7201a8"
             ],
             [
              0.3333333333333333,
              "#9c179e"
             ],
             [
              0.4444444444444444,
              "#bd3786"
             ],
             [
              0.5555555555555556,
              "#d8576b"
             ],
             [
              0.6666666666666666,
              "#ed7953"
             ],
             [
              0.7777777777777778,
              "#fb9f3a"
             ],
             [
              0.8888888888888888,
              "#fdca26"
             ],
             [
              1,
              "#f0f921"
             ]
            ],
            "type": "histogram2d"
           }
          ],
          "histogram2dcontour": [
           {
            "colorbar": {
             "outlinewidth": 0,
             "ticks": ""
            },
            "colorscale": [
             [
              0,
              "#0d0887"
             ],
             [
              0.1111111111111111,
              "#46039f"
             ],
             [
              0.2222222222222222,
              "#7201a8"
             ],
             [
              0.3333333333333333,
              "#9c179e"
             ],
             [
              0.4444444444444444,
              "#bd3786"
             ],
             [
              0.5555555555555556,
              "#d8576b"
             ],
             [
              0.6666666666666666,
              "#ed7953"
             ],
             [
              0.7777777777777778,
              "#fb9f3a"
             ],
             [
              0.8888888888888888,
              "#fdca26"
             ],
             [
              1,
              "#f0f921"
             ]
            ],
            "type": "histogram2dcontour"
           }
          ],
          "mesh3d": [
           {
            "colorbar": {
             "outlinewidth": 0,
             "ticks": ""
            },
            "type": "mesh3d"
           }
          ],
          "parcoords": [
           {
            "line": {
             "colorbar": {
              "outlinewidth": 0,
              "ticks": ""
             }
            },
            "type": "parcoords"
           }
          ],
          "pie": [
           {
            "automargin": true,
            "type": "pie"
           }
          ],
          "scatter": [
           {
            "fillpattern": {
             "fillmode": "overlay",
             "size": 10,
             "solidity": 0.2
            },
            "type": "scatter"
           }
          ],
          "scatter3d": [
           {
            "line": {
             "colorbar": {
              "outlinewidth": 0,
              "ticks": ""
             }
            },
            "marker": {
             "colorbar": {
              "outlinewidth": 0,
              "ticks": ""
             }
            },
            "type": "scatter3d"
           }
          ],
          "scattercarpet": [
           {
            "marker": {
             "colorbar": {
              "outlinewidth": 0,
              "ticks": ""
             }
            },
            "type": "scattercarpet"
           }
          ],
          "scattergeo": [
           {
            "marker": {
             "colorbar": {
              "outlinewidth": 0,
              "ticks": ""
             }
            },
            "type": "scattergeo"
           }
          ],
          "scattergl": [
           {
            "marker": {
             "colorbar": {
              "outlinewidth": 0,
              "ticks": ""
             }
            },
            "type": "scattergl"
           }
          ],
          "scattermapbox": [
           {
            "marker": {
             "colorbar": {
              "outlinewidth": 0,
              "ticks": ""
             }
            },
            "type": "scattermapbox"
           }
          ],
          "scatterpolar": [
           {
            "marker": {
             "colorbar": {
              "outlinewidth": 0,
              "ticks": ""
             }
            },
            "type": "scatterpolar"
           }
          ],
          "scatterpolargl": [
           {
            "marker": {
             "colorbar": {
              "outlinewidth": 0,
              "ticks": ""
             }
            },
            "type": "scatterpolargl"
           }
          ],
          "scatterternary": [
           {
            "marker": {
             "colorbar": {
              "outlinewidth": 0,
              "ticks": ""
             }
            },
            "type": "scatterternary"
           }
          ],
          "surface": [
           {
            "colorbar": {
             "outlinewidth": 0,
             "ticks": ""
            },
            "colorscale": [
             [
              0,
              "#0d0887"
             ],
             [
              0.1111111111111111,
              "#46039f"
             ],
             [
              0.2222222222222222,
              "#7201a8"
             ],
             [
              0.3333333333333333,
              "#9c179e"
             ],
             [
              0.4444444444444444,
              "#bd3786"
             ],
             [
              0.5555555555555556,
              "#d8576b"
             ],
             [
              0.6666666666666666,
              "#ed7953"
             ],
             [
              0.7777777777777778,
              "#fb9f3a"
             ],
             [
              0.8888888888888888,
              "#fdca26"
             ],
             [
              1,
              "#f0f921"
             ]
            ],
            "type": "surface"
           }
          ],
          "table": [
           {
            "cells": {
             "fill": {
              "color": "#EBF0F8"
             },
             "line": {
              "color": "white"
             }
            },
            "header": {
             "fill": {
              "color": "#C8D4E3"
             },
             "line": {
              "color": "white"
             }
            },
            "type": "table"
           }
          ]
         },
         "layout": {
          "annotationdefaults": {
           "arrowcolor": "#2a3f5f",
           "arrowhead": 0,
           "arrowwidth": 1
          },
          "autotypenumbers": "strict",
          "coloraxis": {
           "colorbar": {
            "outlinewidth": 0,
            "ticks": ""
           }
          },
          "colorscale": {
           "diverging": [
            [
             0,
             "#8e0152"
            ],
            [
             0.1,
             "#c51b7d"
            ],
            [
             0.2,
             "#de77ae"
            ],
            [
             0.3,
             "#f1b6da"
            ],
            [
             0.4,
             "#fde0ef"
            ],
            [
             0.5,
             "#f7f7f7"
            ],
            [
             0.6,
             "#e6f5d0"
            ],
            [
             0.7,
             "#b8e186"
            ],
            [
             0.8,
             "#7fbc41"
            ],
            [
             0.9,
             "#4d9221"
            ],
            [
             1,
             "#276419"
            ]
           ],
           "sequential": [
            [
             0,
             "#0d0887"
            ],
            [
             0.1111111111111111,
             "#46039f"
            ],
            [
             0.2222222222222222,
             "#7201a8"
            ],
            [
             0.3333333333333333,
             "#9c179e"
            ],
            [
             0.4444444444444444,
             "#bd3786"
            ],
            [
             0.5555555555555556,
             "#d8576b"
            ],
            [
             0.6666666666666666,
             "#ed7953"
            ],
            [
             0.7777777777777778,
             "#fb9f3a"
            ],
            [
             0.8888888888888888,
             "#fdca26"
            ],
            [
             1,
             "#f0f921"
            ]
           ],
           "sequentialminus": [
            [
             0,
             "#0d0887"
            ],
            [
             0.1111111111111111,
             "#46039f"
            ],
            [
             0.2222222222222222,
             "#7201a8"
            ],
            [
             0.3333333333333333,
             "#9c179e"
            ],
            [
             0.4444444444444444,
             "#bd3786"
            ],
            [
             0.5555555555555556,
             "#d8576b"
            ],
            [
             0.6666666666666666,
             "#ed7953"
            ],
            [
             0.7777777777777778,
             "#fb9f3a"
            ],
            [
             0.8888888888888888,
             "#fdca26"
            ],
            [
             1,
             "#f0f921"
            ]
           ]
          },
          "colorway": [
           "#636efa",
           "#EF553B",
           "#00cc96",
           "#ab63fa",
           "#FFA15A",
           "#19d3f3",
           "#FF6692",
           "#B6E880",
           "#FF97FF",
           "#FECB52"
          ],
          "font": {
           "color": "#2a3f5f"
          },
          "geo": {
           "bgcolor": "white",
           "lakecolor": "white",
           "landcolor": "#E5ECF6",
           "showlakes": true,
           "showland": true,
           "subunitcolor": "white"
          },
          "hoverlabel": {
           "align": "left"
          },
          "hovermode": "closest",
          "mapbox": {
           "style": "light"
          },
          "paper_bgcolor": "white",
          "plot_bgcolor": "#E5ECF6",
          "polar": {
           "angularaxis": {
            "gridcolor": "white",
            "linecolor": "white",
            "ticks": ""
           },
           "bgcolor": "#E5ECF6",
           "radialaxis": {
            "gridcolor": "white",
            "linecolor": "white",
            "ticks": ""
           }
          },
          "scene": {
           "xaxis": {
            "backgroundcolor": "#E5ECF6",
            "gridcolor": "white",
            "gridwidth": 2,
            "linecolor": "white",
            "showbackground": true,
            "ticks": "",
            "zerolinecolor": "white"
           },
           "yaxis": {
            "backgroundcolor": "#E5ECF6",
            "gridcolor": "white",
            "gridwidth": 2,
            "linecolor": "white",
            "showbackground": true,
            "ticks": "",
            "zerolinecolor": "white"
           },
           "zaxis": {
            "backgroundcolor": "#E5ECF6",
            "gridcolor": "white",
            "gridwidth": 2,
            "linecolor": "white",
            "showbackground": true,
            "ticks": "",
            "zerolinecolor": "white"
           }
          },
          "shapedefaults": {
           "line": {
            "color": "#2a3f5f"
           }
          },
          "ternary": {
           "aaxis": {
            "gridcolor": "white",
            "linecolor": "white",
            "ticks": ""
           },
           "baxis": {
            "gridcolor": "white",
            "linecolor": "white",
            "ticks": ""
           },
           "bgcolor": "#E5ECF6",
           "caxis": {
            "gridcolor": "white",
            "linecolor": "white",
            "ticks": ""
           }
          },
          "title": {
           "x": 0.05
          },
          "xaxis": {
           "automargin": true,
           "gridcolor": "white",
           "linecolor": "white",
           "ticks": "",
           "title": {
            "standoff": 15
           },
           "zerolinecolor": "white",
           "zerolinewidth": 2
          },
          "yaxis": {
           "automargin": true,
           "gridcolor": "white",
           "linecolor": "white",
           "ticks": "",
           "title": {
            "standoff": 15
           },
           "zerolinecolor": "white",
           "zerolinewidth": 2
          }
         }
        },
        "title": {
         "text": "MODELO COMBINADO<br>R2: 0.9233550728660553 RMSE: 3.0991792382411507"
        }
       }
      }
     },
     "metadata": {},
     "output_type": "display_data"
    }
   ],
   "source": [
    "# Definir rangos para las variables independientes\n",
    "x1_range = np.linspace(min(x_train['width']), max(x_train['width']), 20)\n",
    "x2_range = np.linspace(min(x_train['shoe_size']), max(x_train['shoe_size']), 20)\n",
    "x1_mesh, x2_mesh = np.meshgrid(x1_range, x2_range)\n",
    "\n",
    "# Escalar el meshgrid para predicción\n",
    "x_mesh_scaled = ss.transform(np.vstack((x1_mesh.ravel(), x2_mesh.ravel())).T)\n",
    "\n",
    "# Predecir los valores con el modelo escalado\n",
    "y_mesh_scaled = modelo_combinado.predict(x_mesh_scaled)\n",
    "\n",
    "# Crear scatterplot 3D de los puntos reales\n",
    "scatter = go.Scatter3d(\n",
    "    x=x_test['width'], y=x_test['shoe_size'], z=y_test,\n",
    "    mode='markers',\n",
    "    marker=dict(size=8, color='red', opacity=0.7)\n",
    ")\n",
    "\n",
    "# Crear el plano de regresión\n",
    "surface = go.Surface(\n",
    "    x=x1_mesh, y=x2_mesh, z=y_mesh_scaled.reshape(x1_mesh.shape),\n",
    "    colorscale='Viridis', opacity=0.5\n",
    ")\n",
    "\n",
    "# Configuración del layout\n",
    "layout = go.Layout(\n",
    "     title=f\"MODELO COMBINADO<br>R2: {r2_score(y_test, predicciones)} RMSE: {root_mean_squared_error(y_test, predicciones)}\",\n",
    "    scene=dict(\n",
    "        xaxis_title='Ancho',\n",
    "        yaxis_title='Pie',\n",
    "        zaxis_title='Altura'\n",
    "    )\n",
    ")\n",
    "\n",
    "# Crear la figura\n",
    "fig = go.Figure(data=[scatter, surface], layout=layout)\n",
    "\n",
    "# Mostrar la figura interactiva\n",
    "fig.show()"
   ]
  },
  {
   "cell_type": "markdown",
   "metadata": {},
   "source": [
    "## Segunda Sección"
   ]
  },
  {
   "cell_type": "code",
   "execution_count": 73,
   "metadata": {},
   "outputs": [
    {
     "data": {
      "text/html": [
       "<div>\n",
       "<style scoped>\n",
       "    .dataframe tbody tr th:only-of-type {\n",
       "        vertical-align: middle;\n",
       "    }\n",
       "\n",
       "    .dataframe tbody tr th {\n",
       "        vertical-align: top;\n",
       "    }\n",
       "\n",
       "    .dataframe thead th {\n",
       "        text-align: right;\n",
       "    }\n",
       "</style>\n",
       "<table border=\"1\" class=\"dataframe\">\n",
       "  <thead>\n",
       "    <tr style=\"text-align: right;\">\n",
       "      <th></th>\n",
       "      <th>height</th>\n",
       "      <th>width</th>\n",
       "      <th>shoe_size</th>\n",
       "    </tr>\n",
       "  </thead>\n",
       "  <tbody>\n",
       "    <tr>\n",
       "      <th>0</th>\n",
       "      <td>159</td>\n",
       "      <td>39</td>\n",
       "      <td>24.0</td>\n",
       "    </tr>\n",
       "    <tr>\n",
       "      <th>1</th>\n",
       "      <td>168</td>\n",
       "      <td>40</td>\n",
       "      <td>26.5</td>\n",
       "    </tr>\n",
       "    <tr>\n",
       "      <th>2</th>\n",
       "      <td>174</td>\n",
       "      <td>43</td>\n",
       "      <td>26.5</td>\n",
       "    </tr>\n",
       "    <tr>\n",
       "      <th>3</th>\n",
       "      <td>169</td>\n",
       "      <td>46</td>\n",
       "      <td>26.0</td>\n",
       "    </tr>\n",
       "    <tr>\n",
       "      <th>4</th>\n",
       "      <td>175</td>\n",
       "      <td>43</td>\n",
       "      <td>28.0</td>\n",
       "    </tr>\n",
       "    <tr>\n",
       "      <th>5</th>\n",
       "      <td>181</td>\n",
       "      <td>49</td>\n",
       "      <td>28.5</td>\n",
       "    </tr>\n",
       "    <tr>\n",
       "      <th>6</th>\n",
       "      <td>160</td>\n",
       "      <td>37</td>\n",
       "      <td>23.5</td>\n",
       "    </tr>\n",
       "    <tr>\n",
       "      <th>7</th>\n",
       "      <td>162</td>\n",
       "      <td>42</td>\n",
       "      <td>24.0</td>\n",
       "    </tr>\n",
       "    <tr>\n",
       "      <th>8</th>\n",
       "      <td>175</td>\n",
       "      <td>46</td>\n",
       "      <td>27.5</td>\n",
       "    </tr>\n",
       "    <tr>\n",
       "      <th>9</th>\n",
       "      <td>189</td>\n",
       "      <td>49</td>\n",
       "      <td>30.0</td>\n",
       "    </tr>\n",
       "  </tbody>\n",
       "</table>\n",
       "</div>"
      ],
      "text/plain": [
       "   height  width  shoe_size\n",
       "0     159     39       24.0\n",
       "1     168     40       26.5\n",
       "2     174     43       26.5\n",
       "3     169     46       26.0\n",
       "4     175     43       28.0\n",
       "5     181     49       28.5\n",
       "6     160     37       23.5\n",
       "7     162     42       24.0\n",
       "8     175     46       27.5\n",
       "9     189     49       30.0"
      ]
     },
     "execution_count": 73,
     "metadata": {},
     "output_type": "execute_result"
    }
   ],
   "source": [
    "df_prueba = pd.read_csv(\"test examen.csv\")\n",
    "df_prueba"
   ]
  },
  {
   "cell_type": "code",
   "execution_count": 99,
   "metadata": {},
   "outputs": [],
   "source": [
    "class segunda_seccion():\n",
    "        \n",
    "    def __init__(self, df, target:str):\n",
    "        self.target = target\n",
    "        self.df = df\n",
    "        self.X = df.drop(columns=[target])\n",
    "        self.y_col = df[target]\n",
    "        self.lower_limit = 165\n",
    "        self.upper_limit = 180\n",
    "        \n",
    "    def sorter(self):\n",
    "    \n",
    "        df_filtrado_left = self.df[self.df[self.target] < self.lower_limit]\n",
    "        df_filtrado_center = self.df[(self.df[self.target] > self.lower_limit) & (self.df[self.target] < self.upper_limit)]\n",
    "        df_filtrado_right = self.df[self.df[self.target] > self.upper_limit]\n",
    "        \n",
    "        left = self.__iteso_left_regressor(df_filtrado_left.drop(self.target, axis=1), df_filtrado_left[self.target])\n",
    "        center = self.__iteso_center_regressor(df_filtrado_center.drop(self.target, axis=1), df_filtrado_center[self.target])\n",
    "        right = self.__iteso_right_regressor(df_filtrado_right.drop(self.target, axis=1), df_filtrado_right[self.target])\n",
    "        \n",
    "        print(f\"RMSE promedio: {(left + center + right) / 3}\")\n",
    "        \n",
    "    def __holanda_regressor(self, X, y):\n",
    "        modelo_pb_predict = modelo_pb.predict(ss_pb.transform(X))\n",
    "        print(\"Datos grandes:\")\n",
    "        print(f\"R2: {r2_score(modelo_pb_predict, y)}, RMSE: {root_mean_squared_error(modelo_pb_predict, y)}\\n\")\n",
    "    \n",
    "    def __iteso_left_regressor(self, X, y):\n",
    "        left_new_pred = rg_l.predict(ss_left.transform(X))\n",
    "        print(\"Datos chiquitos:\")\n",
    "        print(f\"R2: {r2_score(left_new_pred, y)}, RMSE: {root_mean_squared_error(left_new_pred, y)}\\n\")\n",
    "        self.rmse_left = root_mean_squared_error(left_new_pred, y)\n",
    "        return self.rmse_left\n",
    "        \n",
    "    def __iteso_center_regressor(self, X, y):\n",
    "        center_new_pred = rg_c.predict(ss_center.transform(X))\n",
    "        print(\"Datos medios:\")\n",
    "        print(f\"R2: {r2_score(center_new_pred, y)}, RMSE: {root_mean_squared_error(center_new_pred, y)}\\n\")\n",
    "        self.rmse_center = root_mean_squared_error(center_new_pred, y)\n",
    "        return self.rmse_center\n",
    "        \n",
    "    def __iteso_right_regressor(self, X, y):\n",
    "        X_trans = ss_right.transform(X)\n",
    "        right_new_pred = rg_r.predict(X_trans)\n",
    "        print(\"Datos altos\")\n",
    "        print(f\"R2: {r2_score(right_new_pred, y)}, RMSE: {root_mean_squared_error(right_new_pred, y)}\\n\")\n",
    "        self.rmse_right = root_mean_squared_error(right_new_pred, y)\n",
    "        return self.rmse_right\n",
    "        \n",
    "    def __combinado_regressor(self, X, y):\n",
    "        combinado_new_pred = modelo_combinado.predict(ss.transform(X))\n",
    "        print(f\"R2: {r2_score(combinado_new_pred, y)}, RMSE: {root_mean_squared_error(combinado_new_pred, y)}\")\n",
    "    "
   ]
  },
  {
   "cell_type": "code",
   "execution_count": 100,
   "metadata": {},
   "outputs": [
    {
     "name": "stdout",
     "output_type": "stream",
     "text": [
      "Datos chiquitos:\n",
      "R2: 0.21387220328578938, RMSE: 1.47726460877342\n",
      "\n",
      "Datos medios:\n",
      "R2: 0.4790124064594157, RMSE: 2.035035562954267\n",
      "\n",
      "Datos altos\n",
      "R2: 0.570767180506198, RMSE: 1.7068063482447318\n",
      "\n",
      "RMSE promedio: 1.7397021733241396\n"
     ]
    }
   ],
   "source": [
    "se_se = segunda_seccion(df_prueba, target=\"height\")\n",
    "se_se.sorter()"
   ]
  },
  {
   "cell_type": "code",
   "execution_count": 114,
   "metadata": {},
   "outputs": [
    {
     "name": "stderr",
     "output_type": "stream",
     "text": [
      "c:\\Users\\Roi_f\\anaconda3\\envs\\personal\\Lib\\site-packages\\sklearn\\base.py:493: UserWarning:\n",
      "\n",
      "X does not have valid feature names, but StandardScaler was fitted with feature names\n",
      "\n"
     ]
    },
    {
     "data": {
      "application/vnd.plotly.v1+json": {
       "config": {
        "plotlyServerURL": "https://plot.ly"
       },
       "data": [
        {
         "marker": {
          "color": "red",
          "opacity": 0.7,
          "size": 8
         },
         "mode": "markers",
         "type": "scatter3d",
         "x": [
          39,
          40,
          43,
          46,
          43,
          49,
          37,
          42,
          46,
          49
         ],
         "y": [
          24,
          26.5,
          26.5,
          26,
          28,
          28.5,
          23.5,
          24,
          27.5,
          30
         ],
         "z": [
          159,
          168,
          174,
          169,
          175,
          181,
          160,
          162,
          175,
          189
         ]
        },
        {
         "colorscale": [
          [
           0,
           "#440154"
          ],
          [
           0.1111111111111111,
           "#482878"
          ],
          [
           0.2222222222222222,
           "#3e4989"
          ],
          [
           0.3333333333333333,
           "#31688e"
          ],
          [
           0.4444444444444444,
           "#26828e"
          ],
          [
           0.5555555555555556,
           "#1f9e89"
          ],
          [
           0.6666666666666666,
           "#35b779"
          ],
          [
           0.7777777777777778,
           "#6ece58"
          ],
          [
           0.8888888888888888,
           "#b5de2b"
          ],
          [
           1,
           "#fde725"
          ]
         ],
         "opacity": 0.5,
         "type": "surface",
         "x": [
          [
           37,
           37.63157894736842,
           38.26315789473684,
           38.89473684210526,
           39.526315789473685,
           40.1578947368421,
           40.78947368421053,
           41.421052631578945,
           42.05263157894737,
           42.68421052631579,
           43.31578947368421,
           43.94736842105263,
           44.578947368421055,
           45.21052631578947,
           45.84210526315789,
           46.473684210526315,
           47.10526315789474,
           47.73684210526316,
           48.368421052631575,
           49
          ],
          [
           37,
           37.63157894736842,
           38.26315789473684,
           38.89473684210526,
           39.526315789473685,
           40.1578947368421,
           40.78947368421053,
           41.421052631578945,
           42.05263157894737,
           42.68421052631579,
           43.31578947368421,
           43.94736842105263,
           44.578947368421055,
           45.21052631578947,
           45.84210526315789,
           46.473684210526315,
           47.10526315789474,
           47.73684210526316,
           48.368421052631575,
           49
          ],
          [
           37,
           37.63157894736842,
           38.26315789473684,
           38.89473684210526,
           39.526315789473685,
           40.1578947368421,
           40.78947368421053,
           41.421052631578945,
           42.05263157894737,
           42.68421052631579,
           43.31578947368421,
           43.94736842105263,
           44.578947368421055,
           45.21052631578947,
           45.84210526315789,
           46.473684210526315,
           47.10526315789474,
           47.73684210526316,
           48.368421052631575,
           49
          ],
          [
           37,
           37.63157894736842,
           38.26315789473684,
           38.89473684210526,
           39.526315789473685,
           40.1578947368421,
           40.78947368421053,
           41.421052631578945,
           42.05263157894737,
           42.68421052631579,
           43.31578947368421,
           43.94736842105263,
           44.578947368421055,
           45.21052631578947,
           45.84210526315789,
           46.473684210526315,
           47.10526315789474,
           47.73684210526316,
           48.368421052631575,
           49
          ],
          [
           37,
           37.63157894736842,
           38.26315789473684,
           38.89473684210526,
           39.526315789473685,
           40.1578947368421,
           40.78947368421053,
           41.421052631578945,
           42.05263157894737,
           42.68421052631579,
           43.31578947368421,
           43.94736842105263,
           44.578947368421055,
           45.21052631578947,
           45.84210526315789,
           46.473684210526315,
           47.10526315789474,
           47.73684210526316,
           48.368421052631575,
           49
          ],
          [
           37,
           37.63157894736842,
           38.26315789473684,
           38.89473684210526,
           39.526315789473685,
           40.1578947368421,
           40.78947368421053,
           41.421052631578945,
           42.05263157894737,
           42.68421052631579,
           43.31578947368421,
           43.94736842105263,
           44.578947368421055,
           45.21052631578947,
           45.84210526315789,
           46.473684210526315,
           47.10526315789474,
           47.73684210526316,
           48.368421052631575,
           49
          ],
          [
           37,
           37.63157894736842,
           38.26315789473684,
           38.89473684210526,
           39.526315789473685,
           40.1578947368421,
           40.78947368421053,
           41.421052631578945,
           42.05263157894737,
           42.68421052631579,
           43.31578947368421,
           43.94736842105263,
           44.578947368421055,
           45.21052631578947,
           45.84210526315789,
           46.473684210526315,
           47.10526315789474,
           47.73684210526316,
           48.368421052631575,
           49
          ],
          [
           37,
           37.63157894736842,
           38.26315789473684,
           38.89473684210526,
           39.526315789473685,
           40.1578947368421,
           40.78947368421053,
           41.421052631578945,
           42.05263157894737,
           42.68421052631579,
           43.31578947368421,
           43.94736842105263,
           44.578947368421055,
           45.21052631578947,
           45.84210526315789,
           46.473684210526315,
           47.10526315789474,
           47.73684210526316,
           48.368421052631575,
           49
          ],
          [
           37,
           37.63157894736842,
           38.26315789473684,
           38.89473684210526,
           39.526315789473685,
           40.1578947368421,
           40.78947368421053,
           41.421052631578945,
           42.05263157894737,
           42.68421052631579,
           43.31578947368421,
           43.94736842105263,
           44.578947368421055,
           45.21052631578947,
           45.84210526315789,
           46.473684210526315,
           47.10526315789474,
           47.73684210526316,
           48.368421052631575,
           49
          ],
          [
           37,
           37.63157894736842,
           38.26315789473684,
           38.89473684210526,
           39.526315789473685,
           40.1578947368421,
           40.78947368421053,
           41.421052631578945,
           42.05263157894737,
           42.68421052631579,
           43.31578947368421,
           43.94736842105263,
           44.578947368421055,
           45.21052631578947,
           45.84210526315789,
           46.473684210526315,
           47.10526315789474,
           47.73684210526316,
           48.368421052631575,
           49
          ],
          [
           37,
           37.63157894736842,
           38.26315789473684,
           38.89473684210526,
           39.526315789473685,
           40.1578947368421,
           40.78947368421053,
           41.421052631578945,
           42.05263157894737,
           42.68421052631579,
           43.31578947368421,
           43.94736842105263,
           44.578947368421055,
           45.21052631578947,
           45.84210526315789,
           46.473684210526315,
           47.10526315789474,
           47.73684210526316,
           48.368421052631575,
           49
          ],
          [
           37,
           37.63157894736842,
           38.26315789473684,
           38.89473684210526,
           39.526315789473685,
           40.1578947368421,
           40.78947368421053,
           41.421052631578945,
           42.05263157894737,
           42.68421052631579,
           43.31578947368421,
           43.94736842105263,
           44.578947368421055,
           45.21052631578947,
           45.84210526315789,
           46.473684210526315,
           47.10526315789474,
           47.73684210526316,
           48.368421052631575,
           49
          ],
          [
           37,
           37.63157894736842,
           38.26315789473684,
           38.89473684210526,
           39.526315789473685,
           40.1578947368421,
           40.78947368421053,
           41.421052631578945,
           42.05263157894737,
           42.68421052631579,
           43.31578947368421,
           43.94736842105263,
           44.578947368421055,
           45.21052631578947,
           45.84210526315789,
           46.473684210526315,
           47.10526315789474,
           47.73684210526316,
           48.368421052631575,
           49
          ],
          [
           37,
           37.63157894736842,
           38.26315789473684,
           38.89473684210526,
           39.526315789473685,
           40.1578947368421,
           40.78947368421053,
           41.421052631578945,
           42.05263157894737,
           42.68421052631579,
           43.31578947368421,
           43.94736842105263,
           44.578947368421055,
           45.21052631578947,
           45.84210526315789,
           46.473684210526315,
           47.10526315789474,
           47.73684210526316,
           48.368421052631575,
           49
          ],
          [
           37,
           37.63157894736842,
           38.26315789473684,
           38.89473684210526,
           39.526315789473685,
           40.1578947368421,
           40.78947368421053,
           41.421052631578945,
           42.05263157894737,
           42.68421052631579,
           43.31578947368421,
           43.94736842105263,
           44.578947368421055,
           45.21052631578947,
           45.84210526315789,
           46.473684210526315,
           47.10526315789474,
           47.73684210526316,
           48.368421052631575,
           49
          ],
          [
           37,
           37.63157894736842,
           38.26315789473684,
           38.89473684210526,
           39.526315789473685,
           40.1578947368421,
           40.78947368421053,
           41.421052631578945,
           42.05263157894737,
           42.68421052631579,
           43.31578947368421,
           43.94736842105263,
           44.578947368421055,
           45.21052631578947,
           45.84210526315789,
           46.473684210526315,
           47.10526315789474,
           47.73684210526316,
           48.368421052631575,
           49
          ],
          [
           37,
           37.63157894736842,
           38.26315789473684,
           38.89473684210526,
           39.526315789473685,
           40.1578947368421,
           40.78947368421053,
           41.421052631578945,
           42.05263157894737,
           42.68421052631579,
           43.31578947368421,
           43.94736842105263,
           44.578947368421055,
           45.21052631578947,
           45.84210526315789,
           46.473684210526315,
           47.10526315789474,
           47.73684210526316,
           48.368421052631575,
           49
          ],
          [
           37,
           37.63157894736842,
           38.26315789473684,
           38.89473684210526,
           39.526315789473685,
           40.1578947368421,
           40.78947368421053,
           41.421052631578945,
           42.05263157894737,
           42.68421052631579,
           43.31578947368421,
           43.94736842105263,
           44.578947368421055,
           45.21052631578947,
           45.84210526315789,
           46.473684210526315,
           47.10526315789474,
           47.73684210526316,
           48.368421052631575,
           49
          ],
          [
           37,
           37.63157894736842,
           38.26315789473684,
           38.89473684210526,
           39.526315789473685,
           40.1578947368421,
           40.78947368421053,
           41.421052631578945,
           42.05263157894737,
           42.68421052631579,
           43.31578947368421,
           43.94736842105263,
           44.578947368421055,
           45.21052631578947,
           45.84210526315789,
           46.473684210526315,
           47.10526315789474,
           47.73684210526316,
           48.368421052631575,
           49
          ],
          [
           37,
           37.63157894736842,
           38.26315789473684,
           38.89473684210526,
           39.526315789473685,
           40.1578947368421,
           40.78947368421053,
           41.421052631578945,
           42.05263157894737,
           42.68421052631579,
           43.31578947368421,
           43.94736842105263,
           44.578947368421055,
           45.21052631578947,
           45.84210526315789,
           46.473684210526315,
           47.10526315789474,
           47.73684210526316,
           48.368421052631575,
           49
          ]
         ],
         "y": [
          [
           23.5,
           23.5,
           23.5,
           23.5,
           23.5,
           23.5,
           23.5,
           23.5,
           23.5,
           23.5,
           23.5,
           23.5,
           23.5,
           23.5,
           23.5,
           23.5,
           23.5,
           23.5,
           23.5,
           23.5
          ],
          [
           23.842105263157894,
           23.842105263157894,
           23.842105263157894,
           23.842105263157894,
           23.842105263157894,
           23.842105263157894,
           23.842105263157894,
           23.842105263157894,
           23.842105263157894,
           23.842105263157894,
           23.842105263157894,
           23.842105263157894,
           23.842105263157894,
           23.842105263157894,
           23.842105263157894,
           23.842105263157894,
           23.842105263157894,
           23.842105263157894,
           23.842105263157894,
           23.842105263157894
          ],
          [
           24.18421052631579,
           24.18421052631579,
           24.18421052631579,
           24.18421052631579,
           24.18421052631579,
           24.18421052631579,
           24.18421052631579,
           24.18421052631579,
           24.18421052631579,
           24.18421052631579,
           24.18421052631579,
           24.18421052631579,
           24.18421052631579,
           24.18421052631579,
           24.18421052631579,
           24.18421052631579,
           24.18421052631579,
           24.18421052631579,
           24.18421052631579,
           24.18421052631579
          ],
          [
           24.526315789473685,
           24.526315789473685,
           24.526315789473685,
           24.526315789473685,
           24.526315789473685,
           24.526315789473685,
           24.526315789473685,
           24.526315789473685,
           24.526315789473685,
           24.526315789473685,
           24.526315789473685,
           24.526315789473685,
           24.526315789473685,
           24.526315789473685,
           24.526315789473685,
           24.526315789473685,
           24.526315789473685,
           24.526315789473685,
           24.526315789473685,
           24.526315789473685
          ],
          [
           24.86842105263158,
           24.86842105263158,
           24.86842105263158,
           24.86842105263158,
           24.86842105263158,
           24.86842105263158,
           24.86842105263158,
           24.86842105263158,
           24.86842105263158,
           24.86842105263158,
           24.86842105263158,
           24.86842105263158,
           24.86842105263158,
           24.86842105263158,
           24.86842105263158,
           24.86842105263158,
           24.86842105263158,
           24.86842105263158,
           24.86842105263158,
           24.86842105263158
          ],
          [
           25.210526315789473,
           25.210526315789473,
           25.210526315789473,
           25.210526315789473,
           25.210526315789473,
           25.210526315789473,
           25.210526315789473,
           25.210526315789473,
           25.210526315789473,
           25.210526315789473,
           25.210526315789473,
           25.210526315789473,
           25.210526315789473,
           25.210526315789473,
           25.210526315789473,
           25.210526315789473,
           25.210526315789473,
           25.210526315789473,
           25.210526315789473,
           25.210526315789473
          ],
          [
           25.55263157894737,
           25.55263157894737,
           25.55263157894737,
           25.55263157894737,
           25.55263157894737,
           25.55263157894737,
           25.55263157894737,
           25.55263157894737,
           25.55263157894737,
           25.55263157894737,
           25.55263157894737,
           25.55263157894737,
           25.55263157894737,
           25.55263157894737,
           25.55263157894737,
           25.55263157894737,
           25.55263157894737,
           25.55263157894737,
           25.55263157894737,
           25.55263157894737
          ],
          [
           25.894736842105264,
           25.894736842105264,
           25.894736842105264,
           25.894736842105264,
           25.894736842105264,
           25.894736842105264,
           25.894736842105264,
           25.894736842105264,
           25.894736842105264,
           25.894736842105264,
           25.894736842105264,
           25.894736842105264,
           25.894736842105264,
           25.894736842105264,
           25.894736842105264,
           25.894736842105264,
           25.894736842105264,
           25.894736842105264,
           25.894736842105264,
           25.894736842105264
          ],
          [
           26.236842105263158,
           26.236842105263158,
           26.236842105263158,
           26.236842105263158,
           26.236842105263158,
           26.236842105263158,
           26.236842105263158,
           26.236842105263158,
           26.236842105263158,
           26.236842105263158,
           26.236842105263158,
           26.236842105263158,
           26.236842105263158,
           26.236842105263158,
           26.236842105263158,
           26.236842105263158,
           26.236842105263158,
           26.236842105263158,
           26.236842105263158,
           26.236842105263158
          ],
          [
           26.57894736842105,
           26.57894736842105,
           26.57894736842105,
           26.57894736842105,
           26.57894736842105,
           26.57894736842105,
           26.57894736842105,
           26.57894736842105,
           26.57894736842105,
           26.57894736842105,
           26.57894736842105,
           26.57894736842105,
           26.57894736842105,
           26.57894736842105,
           26.57894736842105,
           26.57894736842105,
           26.57894736842105,
           26.57894736842105,
           26.57894736842105,
           26.57894736842105
          ],
          [
           26.92105263157895,
           26.92105263157895,
           26.92105263157895,
           26.92105263157895,
           26.92105263157895,
           26.92105263157895,
           26.92105263157895,
           26.92105263157895,
           26.92105263157895,
           26.92105263157895,
           26.92105263157895,
           26.92105263157895,
           26.92105263157895,
           26.92105263157895,
           26.92105263157895,
           26.92105263157895,
           26.92105263157895,
           26.92105263157895,
           26.92105263157895,
           26.92105263157895
          ],
          [
           27.263157894736842,
           27.263157894736842,
           27.263157894736842,
           27.263157894736842,
           27.263157894736842,
           27.263157894736842,
           27.263157894736842,
           27.263157894736842,
           27.263157894736842,
           27.263157894736842,
           27.263157894736842,
           27.263157894736842,
           27.263157894736842,
           27.263157894736842,
           27.263157894736842,
           27.263157894736842,
           27.263157894736842,
           27.263157894736842,
           27.263157894736842,
           27.263157894736842
          ],
          [
           27.605263157894736,
           27.605263157894736,
           27.605263157894736,
           27.605263157894736,
           27.605263157894736,
           27.605263157894736,
           27.605263157894736,
           27.605263157894736,
           27.605263157894736,
           27.605263157894736,
           27.605263157894736,
           27.605263157894736,
           27.605263157894736,
           27.605263157894736,
           27.605263157894736,
           27.605263157894736,
           27.605263157894736,
           27.605263157894736,
           27.605263157894736,
           27.605263157894736
          ],
          [
           27.94736842105263,
           27.94736842105263,
           27.94736842105263,
           27.94736842105263,
           27.94736842105263,
           27.94736842105263,
           27.94736842105263,
           27.94736842105263,
           27.94736842105263,
           27.94736842105263,
           27.94736842105263,
           27.94736842105263,
           27.94736842105263,
           27.94736842105263,
           27.94736842105263,
           27.94736842105263,
           27.94736842105263,
           27.94736842105263,
           27.94736842105263,
           27.94736842105263
          ],
          [
           28.289473684210527,
           28.289473684210527,
           28.289473684210527,
           28.289473684210527,
           28.289473684210527,
           28.289473684210527,
           28.289473684210527,
           28.289473684210527,
           28.289473684210527,
           28.289473684210527,
           28.289473684210527,
           28.289473684210527,
           28.289473684210527,
           28.289473684210527,
           28.289473684210527,
           28.289473684210527,
           28.289473684210527,
           28.289473684210527,
           28.289473684210527,
           28.289473684210527
          ],
          [
           28.63157894736842,
           28.63157894736842,
           28.63157894736842,
           28.63157894736842,
           28.63157894736842,
           28.63157894736842,
           28.63157894736842,
           28.63157894736842,
           28.63157894736842,
           28.63157894736842,
           28.63157894736842,
           28.63157894736842,
           28.63157894736842,
           28.63157894736842,
           28.63157894736842,
           28.63157894736842,
           28.63157894736842,
           28.63157894736842,
           28.63157894736842,
           28.63157894736842
          ],
          [
           28.973684210526315,
           28.973684210526315,
           28.973684210526315,
           28.973684210526315,
           28.973684210526315,
           28.973684210526315,
           28.973684210526315,
           28.973684210526315,
           28.973684210526315,
           28.973684210526315,
           28.973684210526315,
           28.973684210526315,
           28.973684210526315,
           28.973684210526315,
           28.973684210526315,
           28.973684210526315,
           28.973684210526315,
           28.973684210526315,
           28.973684210526315,
           28.973684210526315
          ],
          [
           29.315789473684212,
           29.315789473684212,
           29.315789473684212,
           29.315789473684212,
           29.315789473684212,
           29.315789473684212,
           29.315789473684212,
           29.315789473684212,
           29.315789473684212,
           29.315789473684212,
           29.315789473684212,
           29.315789473684212,
           29.315789473684212,
           29.315789473684212,
           29.315789473684212,
           29.315789473684212,
           29.315789473684212,
           29.315789473684212,
           29.315789473684212,
           29.315789473684212
          ],
          [
           29.657894736842106,
           29.657894736842106,
           29.657894736842106,
           29.657894736842106,
           29.657894736842106,
           29.657894736842106,
           29.657894736842106,
           29.657894736842106,
           29.657894736842106,
           29.657894736842106,
           29.657894736842106,
           29.657894736842106,
           29.657894736842106,
           29.657894736842106,
           29.657894736842106,
           29.657894736842106,
           29.657894736842106,
           29.657894736842106,
           29.657894736842106,
           29.657894736842106
          ],
          [
           30,
           30,
           30,
           30,
           30,
           30,
           30,
           30,
           30,
           30,
           30,
           30,
           30,
           30,
           30,
           30,
           30,
           30,
           30,
           30
          ]
         ],
         "z": [
          [
           158.77129837299242,
           158.80187017302023,
           158.83244197304805,
           158.8630137730759,
           158.8935855731037,
           158.92415737313155,
           158.95472917315936,
           158.9853009731872,
           159.01587277321502,
           159.04644457324287,
           159.07701637327068,
           159.1075881732985,
           159.13815997332634,
           159.16873177335415,
           159.199303573382,
           159.2298753734098,
           159.26044717343765,
           159.29101897346547,
           159.3215907734933,
           159.35216257352113
          ],
          [
           160.27521107439853,
           160.30578287442634,
           160.33635467445418,
           160.366926474482,
           160.39749827450981,
           160.42807007453766,
           160.45864187456547,
           160.48921367459332,
           160.51978547462113,
           160.55035727464897,
           160.5809290746768,
           160.61150087470463,
           160.64207267473245,
           160.67264447476026,
           160.7032162747881,
           160.73378807481592,
           160.76435987484376,
           160.79493167487158,
           160.82550347489942,
           160.85607527492724
          ],
          [
           161.77912377580463,
           161.80969557583248,
           161.8402673758603,
           161.87083917588814,
           161.90141097591595,
           161.93198277594377,
           161.9625545759716,
           161.99312637599942,
           162.02369817602727,
           162.05426997605508,
           162.08484177608292,
           162.11541357611074,
           162.14598537613858,
           162.1765571761664,
           162.2071289761942,
           162.23770077622206,
           162.26827257624987,
           162.2988443762777,
           162.32941617630553,
           162.35998797633337
          ],
          [
           163.28303647721074,
           163.3136082772386,
           163.3441800772664,
           163.37475187729424,
           163.40532367732206,
           163.4358954773499,
           163.46646727737772,
           163.49703907740553,
           163.52761087743337,
           163.5581826774612,
           163.58875447748903,
           163.61932627751685,
           163.6498980775447,
           163.6804698775725,
           163.71104167760032,
           163.74161347762816,
           163.77218527765598,
           163.80275707768382,
           163.83332887771164,
           163.86390067773948
          ],
          [
           164.78694917861685,
           164.8175209786447,
           164.8480927786725,
           164.87866457870035,
           164.90923637872817,
           164.93980817875598,
           164.97037997878382,
           165.00095177881164,
           165.03152357883948,
           165.0620953788673,
           165.09266717889514,
           165.12323897892296,
           165.1538107789508,
           165.1843825789786,
           165.21495437900643,
           165.24552617903427,
           165.2760979790621,
           165.30666977908993,
           165.33724157911774,
           165.3678133791456
          ],
          [
           166.29086188002296,
           166.3214336800508,
           166.35200548007862,
           166.38257728010646,
           166.41314908013427,
           166.44372088016212,
           166.47429268018993,
           166.50486448021775,
           166.5354362802456,
           166.5660080802734,
           166.59657988030125,
           166.62715168032906,
           166.6577234803569,
           166.68829528038472,
           166.71886708041254,
           166.74943888044038,
           166.7800106804682,
           166.81058248049604,
           166.84115428052385,
           166.8717260805517
          ],
          [
           167.7947745814291,
           167.8253463814569,
           167.85591818148475,
           167.88648998151257,
           167.9170617815404,
           167.94763358156823,
           167.97820538159607,
           168.00877718162388,
           168.0393489816517,
           168.06992078167954,
           168.10049258170736,
           168.1310643817352,
           168.16163618176301,
           168.19220798179086,
           168.22277978181867,
           168.2533515818465,
           168.28392338187433,
           168.31449518190215,
           168.34506698193,
           168.3756387819578
          ],
          [
           169.2986872828352,
           169.32925908286302,
           169.35983088289086,
           169.39040268291868,
           169.42097448294652,
           169.45154628297433,
           169.48211808300218,
           169.51268988303,
           169.5432616830578,
           169.57383348308565,
           169.60440528311346,
           169.6349770831413,
           169.66554888316912,
           169.69612068319697,
           169.72669248322478,
           169.75726428325262,
           169.78783608328044,
           169.81840788330825,
           169.8489796833361,
           169.8795514833639
          ],
          [
           170.8025999842413,
           170.83317178426913,
           170.86374358429697,
           170.89431538432478,
           170.92488718435263,
           170.95545898438044,
           170.98603078440829,
           171.0166025844361,
           171.04717438446391,
           171.07774618449176,
           171.10831798451957,
           171.13888978454742,
           171.16946158457523,
           171.20003338460307,
           171.2306051846309,
           171.26117698465873,
           171.29174878468655,
           171.32232058471436,
           171.3528923847422,
           171.38346418477002
          ],
          [
           172.30651268564742,
           172.33708448567523,
           172.36765628570308,
           172.3982280857309,
           172.42879988575874,
           172.45937168578655,
           172.4899434858144,
           172.5205152858422,
           172.55108708587005,
           172.58165888589787,
           172.61223068592568,
           172.64280248595352,
           172.67337428598134,
           172.70394608600918,
           172.734517886037,
           172.76508968606484,
           172.79566148609265,
           172.82623328612047,
           172.8568050861483,
           172.88737688617613
          ],
          [
           173.81042538705356,
           173.84099718708137,
           173.87156898710919,
           173.90214078713703,
           173.93271258716484,
           173.9632843871927,
           173.9938561872205,
           174.02442798724834,
           174.05499978727616,
           174.085571587304,
           174.11614338733182,
           174.14671518735963,
           174.17728698738748,
           174.2078587874153,
           174.23843058744313,
           174.26900238747095,
           174.2995741874988,
           174.3301459875266,
           174.36071778755442,
           174.39128958758226
          ],
          [
           175.31433808845966,
           175.34490988848748,
           175.3754816885153,
           175.40605348854314,
           175.43662528857095,
           175.4671970885988,
           175.4977688886266,
           175.52834068865445,
           175.55891248868227,
           175.5894842887101,
           175.62005608873793,
           175.65062788876574,
           175.68119968879358,
           175.7117714888214,
           175.74234328884924,
           175.77291508887706,
           175.8034868889049,
           175.8340586889327,
           175.86463048896053,
           175.89520228898837
          ],
          [
           176.81825078986577,
           176.8488225898936,
           176.8793943899214,
           176.90996618994924,
           176.94053798997706,
           176.9711097900049,
           177.00168159003272,
           177.03225339006056,
           177.06282519008838,
           177.09339699011622,
           177.12396879014403,
           177.15454059017185,
           177.1851123901997,
           177.2156841902275,
           177.24625599025535,
           177.27682779028316,
           177.307399590311,
           177.33797139033882,
           177.36854319036664,
           177.39911499039448
          ],
          [
           178.32216349127188,
           178.3527352912997,
           178.38330709132754,
           178.41387889135535,
           178.44445069138317,
           178.475022491411,
           178.50559429143883,
           178.53616609146667,
           178.56673789149448,
           178.59730969152233,
           178.62788149155014,
           178.65845329157796,
           178.6890250916058,
           178.7195968916336,
           178.75016869166146,
           178.78074049168927,
           178.81131229171712,
           178.84188409174493,
           178.87245589177277,
           178.9030276918006
          ],
          [
           179.826076192678,
           179.85664799270583,
           179.88721979273365,
           179.9177915927615,
           179.9483633927893,
           179.97893519281712,
           180.00950699284496,
           180.04007879287278,
           180.07065059290062,
           180.10122239292843,
           180.13179419295628,
           180.1623659929841,
           180.19293779301194,
           180.22350959303975,
           180.25408139306757,
           180.2846531930954,
           180.31522499312322,
           180.34579679315107,
           180.37636859317888,
           180.40694039320672
          ],
          [
           181.3299888940841,
           181.36056069411194,
           181.39113249413975,
           181.4217042941676,
           181.4522760941954,
           181.48284789422323,
           181.51341969425107,
           181.54399149427888,
           181.57456329430673,
           181.60513509433454,
           181.6357068943624,
           181.6662786943902,
           181.69685049441802,
           181.72742229444586,
           181.75799409447367,
           181.78856589450152,
           181.81913769452933,
           181.84970949455717,
           181.880281294585,
           181.91085309461283
          ],
          [
           182.8339015954902,
           182.86447339551805,
           182.89504519554586,
           182.9256169955737,
           182.95618879560152,
           182.98676059562933,
           183.01733239565718,
           183.047904195685,
           183.07847599571284,
           183.10904779574065,
           183.1396195957685,
           183.1701913957963,
           183.20076319582415,
           183.23133499585197,
           183.26190679587978,
           183.29247859590762,
           183.32305039593544,
           183.35362219596328,
           183.3841939959911,
           183.41476579601894
          ],
          [
           184.33781429689634,
           184.36838609692416,
           184.398957896952,
           184.4295296969798,
           184.46010149700766,
           184.49067329703547,
           184.5212450970633,
           184.55181689709113,
           184.58238869711894,
           184.6129604971468,
           184.6435322971746,
           184.67410409720245,
           184.70467589723026,
           184.7352476972581,
           184.76581949728592,
           184.79639129731373,
           184.82696309734158,
           184.8575348973694,
           184.88810669739723,
           184.91867849742505
          ],
          [
           185.84172699830245,
           185.87229879833026,
           185.9028705983581,
           185.93344239838592,
           185.96401419841376,
           185.99458599844158,
           186.02515779846942,
           186.05572959849724,
           186.08630139852505,
           186.1168731985529,
           186.1474449985807,
           186.17801679860855,
           186.20858859863637,
           186.2391603986642,
           186.26973219869203,
           186.30030399871984,
           186.33087579874768,
           186.3614475987755,
           186.39201939880334,
           186.42259119883116
          ],
          [
           187.34563969970856,
           187.37621149973637,
           187.40678329976421,
           187.43735509979203,
           187.46792689981987,
           187.4984986998477,
           187.5290704998755,
           187.55964229990335,
           187.59021409993116,
           187.620785899959,
           187.65135769998682,
           187.68192950001466,
           187.71250130004248,
           187.74307310007032,
           187.77364490009813,
           187.80421670012595,
           187.8347885001538,
           187.8653603001816,
           187.89593210020945,
           187.92650390023726
          ]
         ]
        }
       ],
       "layout": {
        "scene": {
         "xaxis": {
          "title": {
           "text": "Ancho"
          }
         },
         "yaxis": {
          "title": {
           "text": "Pie"
          }
         },
         "zaxis": {
          "title": {
           "text": "Altura"
          }
         }
        },
        "template": {
         "data": {
          "bar": [
           {
            "error_x": {
             "color": "#2a3f5f"
            },
            "error_y": {
             "color": "#2a3f5f"
            },
            "marker": {
             "line": {
              "color": "#E5ECF6",
              "width": 0.5
             },
             "pattern": {
              "fillmode": "overlay",
              "size": 10,
              "solidity": 0.2
             }
            },
            "type": "bar"
           }
          ],
          "barpolar": [
           {
            "marker": {
             "line": {
              "color": "#E5ECF6",
              "width": 0.5
             },
             "pattern": {
              "fillmode": "overlay",
              "size": 10,
              "solidity": 0.2
             }
            },
            "type": "barpolar"
           }
          ],
          "carpet": [
           {
            "aaxis": {
             "endlinecolor": "#2a3f5f",
             "gridcolor": "white",
             "linecolor": "white",
             "minorgridcolor": "white",
             "startlinecolor": "#2a3f5f"
            },
            "baxis": {
             "endlinecolor": "#2a3f5f",
             "gridcolor": "white",
             "linecolor": "white",
             "minorgridcolor": "white",
             "startlinecolor": "#2a3f5f"
            },
            "type": "carpet"
           }
          ],
          "choropleth": [
           {
            "colorbar": {
             "outlinewidth": 0,
             "ticks": ""
            },
            "type": "choropleth"
           }
          ],
          "contour": [
           {
            "colorbar": {
             "outlinewidth": 0,
             "ticks": ""
            },
            "colorscale": [
             [
              0,
              "#0d0887"
             ],
             [
              0.1111111111111111,
              "#46039f"
             ],
             [
              0.2222222222222222,
              "#7201a8"
             ],
             [
              0.3333333333333333,
              "#9c179e"
             ],
             [
              0.4444444444444444,
              "#bd3786"
             ],
             [
              0.5555555555555556,
              "#d8576b"
             ],
             [
              0.6666666666666666,
              "#ed7953"
             ],
             [
              0.7777777777777778,
              "#fb9f3a"
             ],
             [
              0.8888888888888888,
              "#fdca26"
             ],
             [
              1,
              "#f0f921"
             ]
            ],
            "type": "contour"
           }
          ],
          "contourcarpet": [
           {
            "colorbar": {
             "outlinewidth": 0,
             "ticks": ""
            },
            "type": "contourcarpet"
           }
          ],
          "heatmap": [
           {
            "colorbar": {
             "outlinewidth": 0,
             "ticks": ""
            },
            "colorscale": [
             [
              0,
              "#0d0887"
             ],
             [
              0.1111111111111111,
              "#46039f"
             ],
             [
              0.2222222222222222,
              "#7201a8"
             ],
             [
              0.3333333333333333,
              "#9c179e"
             ],
             [
              0.4444444444444444,
              "#bd3786"
             ],
             [
              0.5555555555555556,
              "#d8576b"
             ],
             [
              0.6666666666666666,
              "#ed7953"
             ],
             [
              0.7777777777777778,
              "#fb9f3a"
             ],
             [
              0.8888888888888888,
              "#fdca26"
             ],
             [
              1,
              "#f0f921"
             ]
            ],
            "type": "heatmap"
           }
          ],
          "heatmapgl": [
           {
            "colorbar": {
             "outlinewidth": 0,
             "ticks": ""
            },
            "colorscale": [
             [
              0,
              "#0d0887"
             ],
             [
              0.1111111111111111,
              "#46039f"
             ],
             [
              0.2222222222222222,
              "#7201a8"
             ],
             [
              0.3333333333333333,
              "#9c179e"
             ],
             [
              0.4444444444444444,
              "#bd3786"
             ],
             [
              0.5555555555555556,
              "#d8576b"
             ],
             [
              0.6666666666666666,
              "#ed7953"
             ],
             [
              0.7777777777777778,
              "#fb9f3a"
             ],
             [
              0.8888888888888888,
              "#fdca26"
             ],
             [
              1,
              "#f0f921"
             ]
            ],
            "type": "heatmapgl"
           }
          ],
          "histogram": [
           {
            "marker": {
             "pattern": {
              "fillmode": "overlay",
              "size": 10,
              "solidity": 0.2
             }
            },
            "type": "histogram"
           }
          ],
          "histogram2d": [
           {
            "colorbar": {
             "outlinewidth": 0,
             "ticks": ""
            },
            "colorscale": [
             [
              0,
              "#0d0887"
             ],
             [
              0.1111111111111111,
              "#46039f"
             ],
             [
              0.2222222222222222,
              "#7201a8"
             ],
             [
              0.3333333333333333,
              "#9c179e"
             ],
             [
              0.4444444444444444,
              "#bd3786"
             ],
             [
              0.5555555555555556,
              "#d8576b"
             ],
             [
              0.6666666666666666,
              "#ed7953"
             ],
             [
              0.7777777777777778,
              "#fb9f3a"
             ],
             [
              0.8888888888888888,
              "#fdca26"
             ],
             [
              1,
              "#f0f921"
             ]
            ],
            "type": "histogram2d"
           }
          ],
          "histogram2dcontour": [
           {
            "colorbar": {
             "outlinewidth": 0,
             "ticks": ""
            },
            "colorscale": [
             [
              0,
              "#0d0887"
             ],
             [
              0.1111111111111111,
              "#46039f"
             ],
             [
              0.2222222222222222,
              "#7201a8"
             ],
             [
              0.3333333333333333,
              "#9c179e"
             ],
             [
              0.4444444444444444,
              "#bd3786"
             ],
             [
              0.5555555555555556,
              "#d8576b"
             ],
             [
              0.6666666666666666,
              "#ed7953"
             ],
             [
              0.7777777777777778,
              "#fb9f3a"
             ],
             [
              0.8888888888888888,
              "#fdca26"
             ],
             [
              1,
              "#f0f921"
             ]
            ],
            "type": "histogram2dcontour"
           }
          ],
          "mesh3d": [
           {
            "colorbar": {
             "outlinewidth": 0,
             "ticks": ""
            },
            "type": "mesh3d"
           }
          ],
          "parcoords": [
           {
            "line": {
             "colorbar": {
              "outlinewidth": 0,
              "ticks": ""
             }
            },
            "type": "parcoords"
           }
          ],
          "pie": [
           {
            "automargin": true,
            "type": "pie"
           }
          ],
          "scatter": [
           {
            "fillpattern": {
             "fillmode": "overlay",
             "size": 10,
             "solidity": 0.2
            },
            "type": "scatter"
           }
          ],
          "scatter3d": [
           {
            "line": {
             "colorbar": {
              "outlinewidth": 0,
              "ticks": ""
             }
            },
            "marker": {
             "colorbar": {
              "outlinewidth": 0,
              "ticks": ""
             }
            },
            "type": "scatter3d"
           }
          ],
          "scattercarpet": [
           {
            "marker": {
             "colorbar": {
              "outlinewidth": 0,
              "ticks": ""
             }
            },
            "type": "scattercarpet"
           }
          ],
          "scattergeo": [
           {
            "marker": {
             "colorbar": {
              "outlinewidth": 0,
              "ticks": ""
             }
            },
            "type": "scattergeo"
           }
          ],
          "scattergl": [
           {
            "marker": {
             "colorbar": {
              "outlinewidth": 0,
              "ticks": ""
             }
            },
            "type": "scattergl"
           }
          ],
          "scattermapbox": [
           {
            "marker": {
             "colorbar": {
              "outlinewidth": 0,
              "ticks": ""
             }
            },
            "type": "scattermapbox"
           }
          ],
          "scatterpolar": [
           {
            "marker": {
             "colorbar": {
              "outlinewidth": 0,
              "ticks": ""
             }
            },
            "type": "scatterpolar"
           }
          ],
          "scatterpolargl": [
           {
            "marker": {
             "colorbar": {
              "outlinewidth": 0,
              "ticks": ""
             }
            },
            "type": "scatterpolargl"
           }
          ],
          "scatterternary": [
           {
            "marker": {
             "colorbar": {
              "outlinewidth": 0,
              "ticks": ""
             }
            },
            "type": "scatterternary"
           }
          ],
          "surface": [
           {
            "colorbar": {
             "outlinewidth": 0,
             "ticks": ""
            },
            "colorscale": [
             [
              0,
              "#0d0887"
             ],
             [
              0.1111111111111111,
              "#46039f"
             ],
             [
              0.2222222222222222,
              "#7201a8"
             ],
             [
              0.3333333333333333,
              "#9c179e"
             ],
             [
              0.4444444444444444,
              "#bd3786"
             ],
             [
              0.5555555555555556,
              "#d8576b"
             ],
             [
              0.6666666666666666,
              "#ed7953"
             ],
             [
              0.7777777777777778,
              "#fb9f3a"
             ],
             [
              0.8888888888888888,
              "#fdca26"
             ],
             [
              1,
              "#f0f921"
             ]
            ],
            "type": "surface"
           }
          ],
          "table": [
           {
            "cells": {
             "fill": {
              "color": "#EBF0F8"
             },
             "line": {
              "color": "white"
             }
            },
            "header": {
             "fill": {
              "color": "#C8D4E3"
             },
             "line": {
              "color": "white"
             }
            },
            "type": "table"
           }
          ]
         },
         "layout": {
          "annotationdefaults": {
           "arrowcolor": "#2a3f5f",
           "arrowhead": 0,
           "arrowwidth": 1
          },
          "autotypenumbers": "strict",
          "coloraxis": {
           "colorbar": {
            "outlinewidth": 0,
            "ticks": ""
           }
          },
          "colorscale": {
           "diverging": [
            [
             0,
             "#8e0152"
            ],
            [
             0.1,
             "#c51b7d"
            ],
            [
             0.2,
             "#de77ae"
            ],
            [
             0.3,
             "#f1b6da"
            ],
            [
             0.4,
             "#fde0ef"
            ],
            [
             0.5,
             "#f7f7f7"
            ],
            [
             0.6,
             "#e6f5d0"
            ],
            [
             0.7,
             "#b8e186"
            ],
            [
             0.8,
             "#7fbc41"
            ],
            [
             0.9,
             "#4d9221"
            ],
            [
             1,
             "#276419"
            ]
           ],
           "sequential": [
            [
             0,
             "#0d0887"
            ],
            [
             0.1111111111111111,
             "#46039f"
            ],
            [
             0.2222222222222222,
             "#7201a8"
            ],
            [
             0.3333333333333333,
             "#9c179e"
            ],
            [
             0.4444444444444444,
             "#bd3786"
            ],
            [
             0.5555555555555556,
             "#d8576b"
            ],
            [
             0.6666666666666666,
             "#ed7953"
            ],
            [
             0.7777777777777778,
             "#fb9f3a"
            ],
            [
             0.8888888888888888,
             "#fdca26"
            ],
            [
             1,
             "#f0f921"
            ]
           ],
           "sequentialminus": [
            [
             0,
             "#0d0887"
            ],
            [
             0.1111111111111111,
             "#46039f"
            ],
            [
             0.2222222222222222,
             "#7201a8"
            ],
            [
             0.3333333333333333,
             "#9c179e"
            ],
            [
             0.4444444444444444,
             "#bd3786"
            ],
            [
             0.5555555555555556,
             "#d8576b"
            ],
            [
             0.6666666666666666,
             "#ed7953"
            ],
            [
             0.7777777777777778,
             "#fb9f3a"
            ],
            [
             0.8888888888888888,
             "#fdca26"
            ],
            [
             1,
             "#f0f921"
            ]
           ]
          },
          "colorway": [
           "#636efa",
           "#EF553B",
           "#00cc96",
           "#ab63fa",
           "#FFA15A",
           "#19d3f3",
           "#FF6692",
           "#B6E880",
           "#FF97FF",
           "#FECB52"
          ],
          "font": {
           "color": "#2a3f5f"
          },
          "geo": {
           "bgcolor": "white",
           "lakecolor": "white",
           "landcolor": "#E5ECF6",
           "showlakes": true,
           "showland": true,
           "subunitcolor": "white"
          },
          "hoverlabel": {
           "align": "left"
          },
          "hovermode": "closest",
          "mapbox": {
           "style": "light"
          },
          "paper_bgcolor": "white",
          "plot_bgcolor": "#E5ECF6",
          "polar": {
           "angularaxis": {
            "gridcolor": "white",
            "linecolor": "white",
            "ticks": ""
           },
           "bgcolor": "#E5ECF6",
           "radialaxis": {
            "gridcolor": "white",
            "linecolor": "white",
            "ticks": ""
           }
          },
          "scene": {
           "xaxis": {
            "backgroundcolor": "#E5ECF6",
            "gridcolor": "white",
            "gridwidth": 2,
            "linecolor": "white",
            "showbackground": true,
            "ticks": "",
            "zerolinecolor": "white"
           },
           "yaxis": {
            "backgroundcolor": "#E5ECF6",
            "gridcolor": "white",
            "gridwidth": 2,
            "linecolor": "white",
            "showbackground": true,
            "ticks": "",
            "zerolinecolor": "white"
           },
           "zaxis": {
            "backgroundcolor": "#E5ECF6",
            "gridcolor": "white",
            "gridwidth": 2,
            "linecolor": "white",
            "showbackground": true,
            "ticks": "",
            "zerolinecolor": "white"
           }
          },
          "shapedefaults": {
           "line": {
            "color": "#2a3f5f"
           }
          },
          "ternary": {
           "aaxis": {
            "gridcolor": "white",
            "linecolor": "white",
            "ticks": ""
           },
           "baxis": {
            "gridcolor": "white",
            "linecolor": "white",
            "ticks": ""
           },
           "bgcolor": "#E5ECF6",
           "caxis": {
            "gridcolor": "white",
            "linecolor": "white",
            "ticks": ""
           }
          },
          "title": {
           "x": 0.05
          },
          "xaxis": {
           "automargin": true,
           "gridcolor": "white",
           "linecolor": "white",
           "ticks": "",
           "title": {
            "standoff": 15
           },
           "zerolinecolor": "white",
           "zerolinewidth": 2
          },
          "yaxis": {
           "automargin": true,
           "gridcolor": "white",
           "linecolor": "white",
           "ticks": "",
           "title": {
            "standoff": 15
           },
           "zerolinecolor": "white",
           "zerolinewidth": 2
          }
         }
        },
        "title": {
         "text": "MODELO COMBINADO<br>"
        }
       }
      }
     },
     "metadata": {},
     "output_type": "display_data"
    }
   ],
   "source": [
    "# Definir rangos para las variables independientes\n",
    "x1_range = np.linspace(min(df_prueba['width']), max(df_prueba['width']), 20)\n",
    "x2_range = np.linspace(min(df_prueba['shoe_size']), max(df_prueba['shoe_size']), 20)\n",
    "x1_mesh, x2_mesh = np.meshgrid(x1_range, x2_range)\n",
    "\n",
    "# Crear una matriz con los valores combinados\n",
    "X_mesh = np.vstack((x1_mesh.ravel(), x2_mesh.ravel())).T\n",
    "\n",
    "# Escalar los datos con el scaler global\n",
    "X_mesh_scaled = ss.transform(X_mesh)\n",
    "\n",
    "# Predecir los valores con el modelo combinado\n",
    "y_mesh_scaled = modelo_combinado.predict(X_mesh_scaled)\n",
    "\n",
    "# Crear scatterplot 3D de los puntos reales\n",
    "scatter = go.Scatter3d(\n",
    "    x=df_prueba['width'], \n",
    "    y=df_prueba['shoe_size'], \n",
    "    z=df_prueba['height'],  # Usamos la variable real \"height\"\n",
    "    mode='markers',\n",
    "    marker=dict(size=8, color='red', opacity=0.7)\n",
    ")\n",
    "\n",
    "# Crear el plano de regresión (Superficie 3D)\n",
    "surface = go.Surface(\n",
    "    x=x1_mesh, \n",
    "    y=x2_mesh, \n",
    "    z=y_mesh_scaled.reshape(x1_mesh.shape),  # Ajustamos la forma de la predicción\n",
    "    colorscale='Viridis', \n",
    "    opacity=0.5\n",
    ")\n",
    "\n",
    "\n",
    "\n",
    "# Configuración del layout\n",
    "layout = go.Layout(\n",
    "    title=f\"MODELO COMBINADO<br>\",\n",
    "    scene=dict(\n",
    "        xaxis_title='Ancho',\n",
    "        yaxis_title='Pie',\n",
    "        zaxis_title='Altura'\n",
    "    )\n",
    ")\n",
    "\n",
    "# Crear la figura\n",
    "fig = go.Figure(data=[scatter, surface], layout=layout)\n",
    "\n",
    "# Mostrar la figura interactiva\n",
    "fig.show()"
   ]
  }
 ],
 "metadata": {
  "kernelspec": {
   "display_name": "personal",
   "language": "python",
   "name": "python3"
  },
  "language_info": {
   "codemirror_mode": {
    "name": "ipython",
    "version": 3
   },
   "file_extension": ".py",
   "mimetype": "text/x-python",
   "name": "python",
   "nbconvert_exporter": "python",
   "pygments_lexer": "ipython3",
   "version": "3.11.8"
  }
 },
 "nbformat": 4,
 "nbformat_minor": 2
}
