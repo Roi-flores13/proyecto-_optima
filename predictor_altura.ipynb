{
 "cells": [
  {
   "cell_type": "markdown",
   "metadata": {},
   "source": [
    "# Examen"
   ]
  },
  {
   "cell_type": "markdown",
   "metadata": {},
   "source": [
    "Integrantes:\n",
    "- Diego Canales Morales\n",
    "- Roi Jared Flores Graza Stone\n",
    "- Mónica Ibarra Herrera\n",
    "- Oscar Josué Rocha Hernández"
   ]
  },
  {
   "cell_type": "code",
   "execution_count": 571,
   "metadata": {},
   "outputs": [],
   "source": [
    "import pandas as pd\n",
    "from sklearn.linear_model import LinearRegression, Ridge, ElasticNet, Lasso\n",
    "from sklearn.model_selection import train_test_split, GridSearchCV\n",
    "import numpy as np\n",
    "from sklearn.metrics import root_mean_squared_error, r2_score\n",
    "from sklearn.preprocessing import StandardScaler, MinMaxScaler\n",
    "import matplotlib.pyplot as plt\n",
    "import plotly.graph_objects as go"
   ]
  },
  {
   "cell_type": "markdown",
   "metadata": {},
   "source": [
    "## Parte 1"
   ]
  },
  {
   "cell_type": "markdown",
   "metadata": {},
   "source": [
    "### Modelo Simple"
   ]
  },
  {
   "cell_type": "code",
   "execution_count": 572,
   "metadata": {},
   "outputs": [],
   "source": [
    "path = \"datos_gente.csv\"\n",
    "df_first = pd.read_csv(path)"
   ]
  },
  {
   "cell_type": "code",
   "execution_count": 573,
   "metadata": {},
   "outputs": [
    {
     "data": {
      "text/plain": [
       "array([[<Axes: title={'center': 'height'}>,\n",
       "        <Axes: title={'center': 'width'}>],\n",
       "       [<Axes: title={'center': 'shoe_size'}>, <Axes: >]], dtype=object)"
      ]
     },
     "execution_count": 573,
     "metadata": {},
     "output_type": "execute_result"
    },
    {
     "data": {
      "image/png": "[encoded data removed]",
      "text/plain": [
       "<Figure size 640x480 with 4 Axes>"
      ]
     },
     "metadata": {},
     "output_type": "display_data"
    }
   ],
   "source": [
    "df_first.hist()"
   ]
  },
  {
   "cell_type": "code",
   "execution_count": 574,
   "metadata": {},
   "outputs": [],
   "source": [
    "X = df_first[['width', 'shoe_size']]\n",
    "y = df_first['height']"
   ]
  },
  {
   "cell_type": "code",
   "execution_count": 575,
   "metadata": {},
   "outputs": [],
   "source": [
    "x_train_f, x_test_f, y_train_f, y_test_f = train_test_split(X,y, test_size=0.2, random_state=99)"
   ]
  },
  {
   "cell_type": "code",
   "execution_count": 576,
   "metadata": {},
   "outputs": [
    {
     "name": "stdout",
     "output_type": "stream",
     "text": [
      "R2: 0.8941176470588236 RMSE: 2.1213203435596424\n"
     ]
    }
   ],
   "source": [
    "lr_first = LinearRegression()\n",
    "lr_first.fit(x_test_f, y_test_f)\n",
    "pred_first = lr_first.predict(x_test_f)\n",
    "print(f\"R2: {r2_score(y_test_f, pred_first)} RMSE: {root_mean_squared_error(y_test_f, pred_first)}\")"
   ]
  },
  {
   "cell_type": "code",
   "execution_count": 577,
   "metadata": {},
   "outputs": [
    {
     "name": "stdout",
     "output_type": "stream",
     "text": [
      "Pendientes: [1.625 3.75 ]\n",
      "Intercepto: -12.375000000000057\n"
     ]
    }
   ],
   "source": [
    "print(f\"Pendientes: {lr_first.coef_}\")\n",
    "print(f\"Intercepto: {lr_first.intercept_}\")"
   ]
  },
  {
   "cell_type": "code",
   "execution_count": 578,
   "metadata": {},
   "outputs": [
    {
     "name": "stderr",
     "output_type": "stream",
     "text": [
      "c:\\Users\\Roi_f\\anaconda3\\envs\\personal\\Lib\\site-packages\\sklearn\\base.py:493: UserWarning:\n",
      "\n",
      "X does not have valid feature names, but LinearRegression was fitted with feature names\n",
      "\n"
     ]
    },
    {
     "data": {
      "application/vnd.plotly.v1+json": {
       "config": {
        "plotlyServerURL": "https://plot.ly"
       },
       "data": [
        {
         "marker": {
          "color": "red",
          "size": 8
         },
         "mode": "markers",
         "type": "scatter3d",
         "x": [
          55,
          44,
          44,
          44,
          46,
          40,
          58,
          40,
          49,
          44,
          40,
          51,
          55,
          50,
          38,
          39,
          38,
          39
         ],
         "y": [
          28,
          26.5,
          24,
          24.5,
          27,
          23,
          27,
          24,
          27.5,
          23,
          22,
          26,
          28,
          27.5,
          24,
          24.5,
          24,
          22.5
         ],
         "z": [
          185,
          173,
          163,
          162,
          172,
          159,
          187,
          165,
          175,
          162,
          155,
          168,
          179,
          172,
          159,
          166,
          156,
          151
         ]
        },
        {
         "colorscale": [
          [
           0,
           "#440154"
          ],
          [
           0.1111111111111111,
           "#482878"
          ],
          [
           0.2222222222222222,
           "#3e4989"
          ],
          [
           0.3333333333333333,
           "#31688e"
          ],
          [
           0.4444444444444444,
           "#26828e"
          ],
          [
           0.5555555555555556,
           "#1f9e89"
          ],
          [
           0.6666666666666666,
           "#35b779"
          ],
          [
           0.7777777777777778,
           "#6ece58"
          ],
          [
           0.8888888888888888,
           "#b5de2b"
          ],
          [
           1,
           "#fde725"
          ]
         ],
         "opacity": 0.5,
         "type": "surface",
         "x": [
          [
           38,
           39.05263157894737,
           40.10526315789474,
           41.1578947368421,
           42.21052631578947,
           43.26315789473684,
           44.31578947368421,
           45.368421052631575,
           46.421052631578945,
           47.473684210526315,
           48.526315789473685,
           49.578947368421055,
           50.631578947368425,
           51.68421052631579,
           52.73684210526316,
           53.78947368421053,
           54.84210526315789,
           55.89473684210526,
           56.94736842105263,
           58
          ],
          [
           38,
           39.05263157894737,
           40.10526315789474,
           41.1578947368421,
           42.21052631578947,
           43.26315789473684,
           44.31578947368421,
           45.368421052631575,
           46.421052631578945,
           47.473684210526315,
           48.526315789473685,
           49.578947368421055,
           50.631578947368425,
           51.68421052631579,
           52.73684210526316,
           53.78947368421053,
           54.84210526315789,
           55.89473684210526,
           56.94736842105263,
           58
          ],
          [
           38,
           39.05263157894737,
           40.10526315789474,
           41.1578947368421,
           42.21052631578947,
           43.26315789473684,
           44.31578947368421,
           45.368421052631575,
           46.421052631578945,
           47.473684210526315,
           48.526315789473685,
           49.578947368421055,
           50.631578947368425,
           51.68421052631579,
           52.73684210526316,
           53.78947368421053,
           54.84210526315789,
           55.89473684210526,
           56.94736842105263,
           58
          ],
          [
           38,
           39.05263157894737,
           40.10526315789474,
           41.1578947368421,
           42.21052631578947,
           43.26315789473684,
           44.31578947368421,
           45.368421052631575,
           46.421052631578945,
           47.473684210526315,
           48.526315789473685,
           49.578947368421055,
           50.631578947368425,
           51.68421052631579,
           52.73684210526316,
           53.78947368421053,
           54.84210526315789,
           55.89473684210526,
           56.94736842105263,
           58
          ],
          [
           38,
           39.05263157894737,
           40.10526315789474,
           41.1578947368421,
           42.21052631578947,
           43.26315789473684,
           44.31578947368421,
           45.368421052631575,
           46.421052631578945,
           47.473684210526315,
           48.526315789473685,
           49.578947368421055,
           50.631578947368425,
           51.68421052631579,
           52.73684210526316,
           53.78947368421053,
           54.84210526315789,
           55.89473684210526,
           56.94736842105263,
           58
          ],
          [
           38,
           39.05263157894737,
           40.10526315789474,
           41.1578947368421,
           42.21052631578947,
           43.26315789473684,
           44.31578947368421,
           45.368421052631575,
           46.421052631578945,
           47.473684210526315,
           48.526315789473685,
           49.578947368421055,
           50.631578947368425,
           51.68421052631579,
           52.73684210526316,
           53.78947368421053,
           54.84210526315789,
           55.89473684210526,
           56.94736842105263,
           58
          ],
          [
           38,
           39.05263157894737,
           40.10526315789474,
           41.1578947368421,
           42.21052631578947,
           43.26315789473684,
           44.31578947368421,
           45.368421052631575,
           46.421052631578945,
           47.473684210526315,
           48.526315789473685,
           49.578947368421055,
           50.631578947368425,
           51.68421052631579,
           52.73684210526316,
           53.78947368421053,
           54.84210526315789,
           55.89473684210526,
           56.94736842105263,
           58
          ],
          [
           38,
           39.05263157894737,
           40.10526315789474,
           41.1578947368421,
           42.21052631578947,
           43.26315789473684,
           44.31578947368421,
           45.368421052631575,
           46.421052631578945,
           47.473684210526315,
           48.526315789473685,
           49.578947368421055,
           50.631578947368425,
           51.68421052631579,
           52.73684210526316,
           53.78947368421053,
           54.84210526315789,
           55.89473684210526,
           56.94736842105263,
           58
          ],
          [
           38,
           39.05263157894737,
           40.10526315789474,
           41.1578947368421,
           42.21052631578947,
           43.26315789473684,
           44.31578947368421,
           45.368421052631575,
           46.421052631578945,
           47.473684210526315,
           48.526315789473685,
           49.578947368421055,
           50.631578947368425,
           51.68421052631579,
           52.73684210526316,
           53.78947368421053,
           54.84210526315789,
           55.89473684210526,
           56.94736842105263,
           58
          ],
          [
           38,
           39.05263157894737,
           40.10526315789474,
           41.1578947368421,
           42.21052631578947,
           43.26315789473684,
           44.31578947368421,
           45.368421052631575,
           46.421052631578945,
           47.473684210526315,
           48.526315789473685,
           49.578947368421055,
           50.631578947368425,
           51.68421052631579,
           52.73684210526316,
           53.78947368421053,
           54.84210526315789,
           55.89473684210526,
           56.94736842105263,
           58
          ],
          [
           38,
           39.05263157894737,
           40.10526315789474,
           41.1578947368421,
           42.21052631578947,
           43.26315789473684,
           44.31578947368421,
           45.368421052631575,
           46.421052631578945,
           47.473684210526315,
           48.526315789473685,
           49.578947368421055,
           50.631578947368425,
           51.68421052631579,
           52.73684210526316,
           53.78947368421053,
           54.84210526315789,
           55.89473684210526,
           56.94736842105263,
           58
          ],
          [
           38,
           39.05263157894737,
           40.10526315789474,
           41.1578947368421,
           42.21052631578947,
           43.26315789473684,
           44.31578947368421,
           45.368421052631575,
           46.421052631578945,
           47.473684210526315,
           48.526315789473685,
           49.578947368421055,
           50.631578947368425,
           51.68421052631579,
           52.73684210526316,
           53.78947368421053,
           54.84210526315789,
           55.89473684210526,
           56.94736842105263,
           58
          ],
          [
           38,
           39.05263157894737,
           40.10526315789474,
           41.1578947368421,
           42.21052631578947,
           43.26315789473684,
           44.31578947368421,
           45.368421052631575,
           46.421052631578945,
           47.473684210526315,
           48.526315789473685,
           49.578947368421055,
           50.631578947368425,
           51.68421052631579,
           52.73684210526316,
           53.78947368421053,
           54.84210526315789,
           55.89473684210526,
           56.94736842105263,
           58
          ],
          [
           38,
           39.05263157894737,
           40.10526315789474,
           41.1578947368421,
           42.21052631578947,
           43.26315789473684,
           44.31578947368421,
           45.368421052631575,
           46.421052631578945,
           47.473684210526315,
           48.526315789473685,
           49.578947368421055,
           50.631578947368425,
           51.68421052631579,
           52.73684210526316,
           53.78947368421053,
           54.84210526315789,
           55.89473684210526,
           56.94736842105263,
           58
          ],
          [
           38,
           39.05263157894737,
           40.10526315789474,
           41.1578947368421,
           42.21052631578947,
           43.26315789473684,
           44.31578947368421,
           45.368421052631575,
           46.421052631578945,
           47.473684210526315,
           48.526315789473685,
           49.578947368421055,
           50.631578947368425,
           51.68421052631579,
           52.73684210526316,
           53.78947368421053,
           54.84210526315789,
           55.89473684210526,
           56.94736842105263,
           58
          ],
          [
           38,
           39.05263157894737,
           40.10526315789474,
           41.1578947368421,
           42.21052631578947,
           43.26315789473684,
           44.31578947368421,
           45.368421052631575,
           46.421052631578945,
           47.473684210526315,
           48.526315789473685,
           49.578947368421055,
           50.631578947368425,
           51.68421052631579,
           52.73684210526316,
           53.78947368421053,
           54.84210526315789,
           55.89473684210526,
           56.94736842105263,
           58
          ],
          [
           38,
           39.05263157894737,
           40.10526315789474,
           41.1578947368421,
           42.21052631578947,
           43.26315789473684,
           44.31578947368421,
           45.368421052631575,
           46.421052631578945,
           47.473684210526315,
           48.526315789473685,
           49.578947368421055,
           50.631578947368425,
           51.68421052631579,
           52.73684210526316,
           53.78947368421053,
           54.84210526315789,
           55.89473684210526,
           56.94736842105263,
           58
          ],
          [
           38,
           39.05263157894737,
           40.10526315789474,
           41.1578947368421,
           42.21052631578947,
           43.26315789473684,
           44.31578947368421,
           45.368421052631575,
           46.421052631578945,
           47.473684210526315,
           48.526315789473685,
           49.578947368421055,
           50.631578947368425,
           51.68421052631579,
           52.73684210526316,
           53.78947368421053,
           54.84210526315789,
           55.89473684210526,
           56.94736842105263,
           58
          ],
          [
           38,
           39.05263157894737,
           40.10526315789474,
           41.1578947368421,
           42.21052631578947,
           43.26315789473684,
           44.31578947368421,
           45.368421052631575,
           46.421052631578945,
           47.473684210526315,
           48.526315789473685,
           49.578947368421055,
           50.631578947368425,
           51.68421052631579,
           52.73684210526316,
           53.78947368421053,
           54.84210526315789,
           55.89473684210526,
           56.94736842105263,
           58
          ],
          [
           38,
           39.05263157894737,
           40.10526315789474,
           41.1578947368421,
           42.21052631578947,
           43.26315789473684,
           44.31578947368421,
           45.368421052631575,
           46.421052631578945,
           47.473684210526315,
           48.526315789473685,
           49.578947368421055,
           50.631578947368425,
           51.68421052631579,
           52.73684210526316,
           53.78947368421053,
           54.84210526315789,
           55.89473684210526,
           56.94736842105263,
           58
          ]
         ],
         "y": [
          [
           22,
           22,
           22,
           22,
           22,
           22,
           22,
           22,
           22,
           22,
           22,
           22,
           22,
           22,
           22,
           22,
           22,
           22,
           22,
           22
          ],
          [
           22.31578947368421,
           22.31578947368421,
           22.31578947368421,
           22.31578947368421,
           22.31578947368421,
           22.31578947368421,
           22.31578947368421,
           22.31578947368421,
           22.31578947368421,
           22.31578947368421,
           22.31578947368421,
           22.31578947368421,
           22.31578947368421,
           22.31578947368421,
           22.31578947368421,
           22.31578947368421,
           22.31578947368421,
           22.31578947368421,
           22.31578947368421,
           22.31578947368421
          ],
          [
           22.63157894736842,
           22.63157894736842,
           22.63157894736842,
           22.63157894736842,
           22.63157894736842,
           22.63157894736842,
           22.63157894736842,
           22.63157894736842,
           22.63157894736842,
           22.63157894736842,
           22.63157894736842,
           22.63157894736842,
           22.63157894736842,
           22.63157894736842,
           22.63157894736842,
           22.63157894736842,
           22.63157894736842,
           22.63157894736842,
           22.63157894736842,
           22.63157894736842
          ],
          [
           22.94736842105263,
           22.94736842105263,
           22.94736842105263,
           22.94736842105263,
           22.94736842105263,
           22.94736842105263,
           22.94736842105263,
           22.94736842105263,
           22.94736842105263,
           22.94736842105263,
           22.94736842105263,
           22.94736842105263,
           22.94736842105263,
           22.94736842105263,
           22.94736842105263,
           22.94736842105263,
           22.94736842105263,
           22.94736842105263,
           22.94736842105263,
           22.94736842105263
          ],
          [
           23.263157894736842,
           23.263157894736842,
           23.263157894736842,
           23.263157894736842,
           23.263157894736842,
           23.263157894736842,
           23.263157894736842,
           23.263157894736842,
           23.263157894736842,
           23.263157894736842,
           23.263157894736842,
           23.263157894736842,
           23.263157894736842,
           23.263157894736842,
           23.263157894736842,
           23.263157894736842,
           23.263157894736842,
           23.263157894736842,
           23.263157894736842,
           23.263157894736842
          ],
          [
           23.57894736842105,
           23.57894736842105,
           23.57894736842105,
           23.57894736842105,
           23.57894736842105,
           23.57894736842105,
           23.57894736842105,
           23.57894736842105,
           23.57894736842105,
           23.57894736842105,
           23.57894736842105,
           23.57894736842105,
           23.57894736842105,
           23.57894736842105,
           23.57894736842105,
           23.57894736842105,
           23.57894736842105,
           23.57894736842105,
           23.57894736842105,
           23.57894736842105
          ],
          [
           23.894736842105264,
           23.894736842105264,
           23.894736842105264,
           23.894736842105264,
           23.894736842105264,
           23.894736842105264,
           23.894736842105264,
           23.894736842105264,
           23.894736842105264,
           23.894736842105264,
           23.894736842105264,
           23.894736842105264,
           23.894736842105264,
           23.894736842105264,
           23.894736842105264,
           23.894736842105264,
           23.894736842105264,
           23.894736842105264,
           23.894736842105264,
           23.894736842105264
          ],
          [
           24.210526315789473,
           24.210526315789473,
           24.210526315789473,
           24.210526315789473,
           24.210526315789473,
           24.210526315789473,
           24.210526315789473,
           24.210526315789473,
           24.210526315789473,
           24.210526315789473,
           24.210526315789473,
           24.210526315789473,
           24.210526315789473,
           24.210526315789473,
           24.210526315789473,
           24.210526315789473,
           24.210526315789473,
           24.210526315789473,
           24.210526315789473,
           24.210526315789473
          ],
          [
           24.526315789473685,
           24.526315789473685,
           24.526315789473685,
           24.526315789473685,
           24.526315789473685,
           24.526315789473685,
           24.526315789473685,
           24.526315789473685,
           24.526315789473685,
           24.526315789473685,
           24.526315789473685,
           24.526315789473685,
           24.526315789473685,
           24.526315789473685,
           24.526315789473685,
           24.526315789473685,
           24.526315789473685,
           24.526315789473685,
           24.526315789473685,
           24.526315789473685
          ],
          [
           24.842105263157894,
           24.842105263157894,
           24.842105263157894,
           24.842105263157894,
           24.842105263157894,
           24.842105263157894,
           24.842105263157894,
           24.842105263157894,
           24.842105263157894,
           24.842105263157894,
           24.842105263157894,
           24.842105263157894,
           24.842105263157894,
           24.842105263157894,
           24.842105263157894,
           24.842105263157894,
           24.842105263157894,
           24.842105263157894,
           24.842105263157894,
           24.842105263157894
          ],
          [
           25.157894736842106,
           25.157894736842106,
           25.157894736842106,
           25.157894736842106,
           25.157894736842106,
           25.157894736842106,
           25.157894736842106,
           25.157894736842106,
           25.157894736842106,
           25.157894736842106,
           25.157894736842106,
           25.157894736842106,
           25.157894736842106,
           25.157894736842106,
           25.157894736842106,
           25.157894736842106,
           25.157894736842106,
           25.157894736842106,
           25.157894736842106,
           25.157894736842106
          ],
          [
           25.473684210526315,
           25.473684210526315,
           25.473684210526315,
           25.473684210526315,
           25.473684210526315,
           25.473684210526315,
           25.473684210526315,
           25.473684210526315,
           25.473684210526315,
           25.473684210526315,
           25.473684210526315,
           25.473684210526315,
           25.473684210526315,
           25.473684210526315,
           25.473684210526315,
           25.473684210526315,
           25.473684210526315,
           25.473684210526315,
           25.473684210526315,
           25.473684210526315
          ],
          [
           25.789473684210527,
           25.789473684210527,
           25.789473684210527,
           25.789473684210527,
           25.789473684210527,
           25.789473684210527,
           25.789473684210527,
           25.789473684210527,
           25.789473684210527,
           25.789473684210527,
           25.789473684210527,
           25.789473684210527,
           25.789473684210527,
           25.789473684210527,
           25.789473684210527,
           25.789473684210527,
           25.789473684210527,
           25.789473684210527,
           25.789473684210527,
           25.789473684210527
          ],
          [
           26.105263157894736,
           26.105263157894736,
           26.105263157894736,
           26.105263157894736,
           26.105263157894736,
           26.105263157894736,
           26.105263157894736,
           26.105263157894736,
           26.105263157894736,
           26.105263157894736,
           26.105263157894736,
           26.105263157894736,
           26.105263157894736,
           26.105263157894736,
           26.105263157894736,
           26.105263157894736,
           26.105263157894736,
           26.105263157894736,
           26.105263157894736,
           26.105263157894736
          ],
          [
           26.421052631578945,
           26.421052631578945,
           26.421052631578945,
           26.421052631578945,
           26.421052631578945,
           26.421052631578945,
           26.421052631578945,
           26.421052631578945,
           26.421052631578945,
           26.421052631578945,
           26.421052631578945,
           26.421052631578945,
           26.421052631578945,
           26.421052631578945,
           26.421052631578945,
           26.421052631578945,
           26.421052631578945,
           26.421052631578945,
           26.421052631578945,
           26.421052631578945
          ],
          [
           26.736842105263158,
           26.736842105263158,
           26.736842105263158,
           26.736842105263158,
           26.736842105263158,
           26.736842105263158,
           26.736842105263158,
           26.736842105263158,
           26.736842105263158,
           26.736842105263158,
           26.736842105263158,
           26.736842105263158,
           26.736842105263158,
           26.736842105263158,
           26.736842105263158,
           26.736842105263158,
           26.736842105263158,
           26.736842105263158,
           26.736842105263158,
           26.736842105263158
          ],
          [
           27.05263157894737,
           27.05263157894737,
           27.05263157894737,
           27.05263157894737,
           27.05263157894737,
           27.05263157894737,
           27.05263157894737,
           27.05263157894737,
           27.05263157894737,
           27.05263157894737,
           27.05263157894737,
           27.05263157894737,
           27.05263157894737,
           27.05263157894737,
           27.05263157894737,
           27.05263157894737,
           27.05263157894737,
           27.05263157894737,
           27.05263157894737,
           27.05263157894737
          ],
          [
           27.36842105263158,
           27.36842105263158,
           27.36842105263158,
           27.36842105263158,
           27.36842105263158,
           27.36842105263158,
           27.36842105263158,
           27.36842105263158,
           27.36842105263158,
           27.36842105263158,
           27.36842105263158,
           27.36842105263158,
           27.36842105263158,
           27.36842105263158,
           27.36842105263158,
           27.36842105263158,
           27.36842105263158,
           27.36842105263158,
           27.36842105263158,
           27.36842105263158
          ],
          [
           27.684210526315788,
           27.684210526315788,
           27.684210526315788,
           27.684210526315788,
           27.684210526315788,
           27.684210526315788,
           27.684210526315788,
           27.684210526315788,
           27.684210526315788,
           27.684210526315788,
           27.684210526315788,
           27.684210526315788,
           27.684210526315788,
           27.684210526315788,
           27.684210526315788,
           27.684210526315788,
           27.684210526315788,
           27.684210526315788,
           27.684210526315788,
           27.684210526315788
          ],
          [
           28,
           28,
           28,
           28,
           28,
           28,
           28,
           28,
           28,
           28,
           28,
           28,
           28,
           28,
           28,
           28,
           28,
           28,
           28,
           28
          ]
         ],
         "z": [
          [
           131.87499999999997,
           133.58552631578945,
           135.29605263157893,
           137.0065789473684,
           138.7171052631579,
           140.42763157894737,
           142.13815789473682,
           143.8486842105263,
           145.55921052631578,
           147.26973684210526,
           148.98026315789474,
           150.6907894736842,
           152.40131578947367,
           154.11184210526315,
           155.82236842105263,
           157.5328947368421,
           159.24342105263156,
           160.95394736842104,
           162.66447368421052,
           164.375
          ],
          [
           133.05921052631575,
           134.76973684210523,
           136.4802631578947,
           138.1907894736842,
           139.90131578947367,
           141.61184210526315,
           143.3223684210526,
           145.03289473684208,
           146.74342105263156,
           148.45394736842104,
           150.16447368421052,
           151.87499999999997,
           153.58552631578945,
           155.29605263157893,
           157.0065789473684,
           158.7171052631579,
           160.42763157894734,
           162.13815789473682,
           163.8486842105263,
           165.55921052631578
          ],
          [
           134.24342105263156,
           135.95394736842104,
           137.66447368421052,
           139.37499999999997,
           141.08552631578945,
           142.79605263157893,
           144.5065789473684,
           146.21710526315786,
           147.92763157894734,
           149.63815789473682,
           151.3486842105263,
           153.05921052631578,
           154.76973684210526,
           156.4802631578947,
           158.1907894736842,
           159.90131578947367,
           161.61184210526315,
           163.3223684210526,
           165.03289473684208,
           166.74342105263156
          ],
          [
           135.42763157894734,
           137.13815789473682,
           138.8486842105263,
           140.55921052631575,
           142.26973684210523,
           143.9802631578947,
           145.6907894736842,
           147.40131578947364,
           149.11184210526312,
           150.8223684210526,
           152.53289473684208,
           154.24342105263156,
           155.95394736842104,
           157.6644736842105,
           159.37499999999997,
           161.08552631578945,
           162.79605263157893,
           164.50657894736838,
           166.21710526315786,
           167.92763157894734
          ],
          [
           136.61184210526315,
           138.32236842105263,
           140.03289473684208,
           141.74342105263156,
           143.45394736842104,
           145.16447368421052,
           146.87499999999997,
           148.58552631578945,
           150.29605263157893,
           152.0065789473684,
           153.7171052631579,
           155.42763157894734,
           157.13815789473682,
           158.8486842105263,
           160.55921052631578,
           162.26973684210526,
           163.9802631578947,
           165.6907894736842,
           167.40131578947367,
           169.11184210526315
          ],
          [
           137.79605263157893,
           139.5065789473684,
           141.2171052631579,
           142.92763157894734,
           144.63815789473682,
           146.3486842105263,
           148.05921052631578,
           149.76973684210523,
           151.4802631578947,
           153.1907894736842,
           154.90131578947367,
           156.61184210526315,
           158.32236842105263,
           160.03289473684208,
           161.74342105263156,
           163.45394736842104,
           165.16447368421052,
           166.87499999999997,
           168.58552631578945,
           170.29605263157893
          ],
          [
           138.9802631578947,
           140.6907894736842,
           142.40131578947367,
           144.11184210526315,
           145.82236842105263,
           147.5328947368421,
           149.24342105263156,
           150.95394736842104,
           152.66447368421052,
           154.375,
           156.08552631578948,
           157.79605263157893,
           159.5065789473684,
           161.2171052631579,
           162.92763157894737,
           164.63815789473685,
           166.3486842105263,
           168.05921052631578,
           169.76973684210526,
           171.48026315789474
          ],
          [
           140.1644736842105,
           141.87499999999997,
           143.58552631578945,
           145.29605263157893,
           147.0065789473684,
           148.7171052631579,
           150.42763157894734,
           152.13815789473682,
           153.8486842105263,
           155.55921052631578,
           157.26973684210526,
           158.9802631578947,
           160.6907894736842,
           162.40131578947367,
           164.11184210526315,
           165.82236842105263,
           167.53289473684208,
           169.24342105263156,
           170.95394736842104,
           172.66447368421052
          ],
          [
           141.3486842105263,
           143.05921052631578,
           144.76973684210526,
           146.4802631578947,
           148.1907894736842,
           149.90131578947367,
           151.61184210526315,
           153.3223684210526,
           155.03289473684208,
           156.74342105263156,
           158.45394736842104,
           160.16447368421052,
           161.875,
           163.58552631578945,
           165.29605263157893,
           167.0065789473684,
           168.7171052631579,
           170.42763157894734,
           172.13815789473682,
           173.8486842105263
          ],
          [
           142.53289473684208,
           144.24342105263156,
           145.95394736842104,
           147.6644736842105,
           149.37499999999997,
           151.08552631578945,
           152.79605263157893,
           154.50657894736838,
           156.21710526315786,
           157.92763157894734,
           159.63815789473682,
           161.3486842105263,
           163.05921052631578,
           164.76973684210523,
           166.4802631578947,
           168.1907894736842,
           169.90131578947367,
           171.61184210526312,
           173.3223684210526,
           175.03289473684208
          ],
          [
           143.7171052631579,
           145.42763157894737,
           147.13815789473682,
           148.8486842105263,
           150.55921052631578,
           152.26973684210526,
           153.9802631578947,
           155.6907894736842,
           157.40131578947367,
           159.11184210526315,
           160.82236842105263,
           162.53289473684208,
           164.24342105263156,
           165.95394736842104,
           167.66447368421052,
           169.375,
           171.08552631578945,
           172.79605263157893,
           174.5065789473684,
           176.2171052631579
          ],
          [
           144.90131578947367,
           146.61184210526315,
           148.32236842105263,
           150.03289473684208,
           151.74342105263156,
           153.45394736842104,
           155.16447368421052,
           156.87499999999997,
           158.58552631578945,
           160.29605263157893,
           162.0065789473684,
           163.7171052631579,
           165.42763157894737,
           167.13815789473682,
           168.8486842105263,
           170.55921052631578,
           172.26973684210526,
           173.9802631578947,
           175.6907894736842,
           177.40131578947367
          ],
          [
           146.08552631578945,
           147.79605263157893,
           149.5065789473684,
           151.2171052631579,
           152.92763157894737,
           154.63815789473685,
           156.3486842105263,
           158.05921052631578,
           159.76973684210526,
           161.48026315789474,
           163.19078947368422,
           164.90131578947367,
           166.61184210526315,
           168.32236842105263,
           170.0328947368421,
           171.7434210526316,
           173.45394736842104,
           175.16447368421052,
           176.875,
           178.58552631578948
          ],
          [
           147.26973684210526,
           148.98026315789474,
           150.6907894736842,
           152.40131578947367,
           154.11184210526315,
           155.82236842105263,
           157.53289473684208,
           159.24342105263156,
           160.95394736842104,
           162.66447368421052,
           164.375,
           166.08552631578945,
           167.79605263157893,
           169.5065789473684,
           171.2171052631579,
           172.92763157894737,
           174.63815789473682,
           176.3486842105263,
           178.05921052631578,
           179.76973684210526
          ],
          [
           148.45394736842104,
           150.16447368421052,
           151.87499999999997,
           153.58552631578945,
           155.29605263157893,
           157.0065789473684,
           158.71710526315786,
           160.42763157894734,
           162.13815789473682,
           163.8486842105263,
           165.55921052631578,
           167.26973684210523,
           168.9802631578947,
           170.6907894736842,
           172.40131578947367,
           174.11184210526315,
           175.8223684210526,
           177.53289473684208,
           179.24342105263156,
           180.95394736842104
          ],
          [
           149.63815789473682,
           151.3486842105263,
           153.05921052631578,
           154.76973684210523,
           156.4802631578947,
           158.1907894736842,
           159.90131578947367,
           161.61184210526312,
           163.3223684210526,
           165.03289473684208,
           166.74342105263156,
           168.45394736842104,
           170.16447368421052,
           171.87499999999997,
           173.58552631578945,
           175.29605263157893,
           177.0065789473684,
           178.71710526315786,
           180.42763157894734,
           182.13815789473682
          ],
          [
           150.82236842105263,
           152.5328947368421,
           154.2434210526316,
           155.95394736842104,
           157.66447368421052,
           159.375,
           161.08552631578948,
           162.79605263157893,
           164.5065789473684,
           166.2171052631579,
           167.92763157894737,
           169.63815789473685,
           171.34868421052633,
           173.05921052631578,
           174.76973684210526,
           176.48026315789474,
           178.19078947368422,
           179.90131578947367,
           181.61184210526315,
           183.32236842105263
          ],
          [
           152.0065789473684,
           153.7171052631579,
           155.42763157894737,
           157.13815789473682,
           158.8486842105263,
           160.55921052631578,
           162.26973684210526,
           163.9802631578947,
           165.6907894736842,
           167.40131578947367,
           169.11184210526315,
           170.82236842105263,
           172.5328947368421,
           174.24342105263156,
           175.95394736842104,
           177.66447368421052,
           179.375,
           181.08552631578945,
           182.79605263157893,
           184.5065789473684
          ],
          [
           153.1907894736842,
           154.90131578947367,
           156.61184210526315,
           158.3223684210526,
           160.03289473684208,
           161.74342105263156,
           163.45394736842104,
           165.1644736842105,
           166.87499999999997,
           168.58552631578945,
           170.29605263157893,
           172.0065789473684,
           173.7171052631579,
           175.42763157894734,
           177.13815789473682,
           178.8486842105263,
           180.55921052631578,
           182.26973684210523,
           183.9802631578947,
           185.6907894736842
          ],
          [
           154.375,
           156.08552631578948,
           157.79605263157893,
           159.5065789473684,
           161.2171052631579,
           162.92763157894737,
           164.63815789473682,
           166.3486842105263,
           168.05921052631578,
           169.76973684210526,
           171.48026315789474,
           173.1907894736842,
           174.90131578947367,
           176.61184210526315,
           178.32236842105263,
           180.0328947368421,
           181.74342105263156,
           183.45394736842104,
           185.16447368421052,
           186.875
          ]
         ]
        }
       ],
       "layout": {
        "scene": {
         "xaxis": {
          "title": {
           "text": "Variable X1"
          }
         },
         "yaxis": {
          "title": {
           "text": "Variable X2"
          }
         },
         "zaxis": {
          "title": {
           "text": "Variable Y"
          }
         }
        },
        "template": {
         "data": {
          "bar": [
           {
            "error_x": {
             "color": "#2a3f5f"
            },
            "error_y": {
             "color": "#2a3f5f"
            },
            "marker": {
             "line": {
              "color": "#E5ECF6",
              "width": 0.5
             },
             "pattern": {
              "fillmode": "overlay",
              "size": 10,
              "solidity": 0.2
             }
            },
            "type": "bar"
           }
          ],
          "barpolar": [
           {
            "marker": {
             "line": {
              "color": "#E5ECF6",
              "width": 0.5
             },
             "pattern": {
              "fillmode": "overlay",
              "size": 10,
              "solidity": 0.2
             }
            },
            "type": "barpolar"
           }
          ],
          "carpet": [
           {
            "aaxis": {
             "endlinecolor": "#2a3f5f",
             "gridcolor": "white",
             "linecolor": "white",
             "minorgridcolor": "white",
             "startlinecolor": "#2a3f5f"
            },
            "baxis": {
             "endlinecolor": "#2a3f5f",
             "gridcolor": "white",
             "linecolor": "white",
             "minorgridcolor": "white",
             "startlinecolor": "#2a3f5f"
            },
            "type": "carpet"
           }
          ],
          "choropleth": [
           {
            "colorbar": {
             "outlinewidth": 0,
             "ticks": ""
            },
            "type": "choropleth"
           }
          ],
          "contour": [
           {
            "colorbar": {
             "outlinewidth": 0,
             "ticks": ""
            },
            "colorscale": [
             [
              0,
              "#0d0887"
             ],
             [
              0.1111111111111111,
              "#46039f"
             ],
             [
              0.2222222222222222,
              "#7201a8"
             ],
             [
              0.3333333333333333,
              "#9c179e"
             ],
             [
              0.4444444444444444,
              "#bd3786"
             ],
             [
              0.5555555555555556,
              "#d8576b"
             ],
             [
              0.6666666666666666,
              "#ed7953"
             ],
             [
              0.7777777777777778,
              "#fb9f3a"
             ],
             [
              0.8888888888888888,
              "#fdca26"
             ],
             [
              1,
              "#f0f921"
             ]
            ],
            "type": "contour"
           }
          ],
          "contourcarpet": [
           {
            "colorbar": {
             "outlinewidth": 0,
             "ticks": ""
            },
            "type": "contourcarpet"
           }
          ],
          "heatmap": [
           {
            "colorbar": {
             "outlinewidth": 0,
             "ticks": ""
            },
            "colorscale": [
             [
              0,
              "#0d0887"
             ],
             [
              0.1111111111111111,
              "#46039f"
             ],
             [
              0.2222222222222222,
              "#7201a8"
             ],
             [
              0.3333333333333333,
              "#9c179e"
             ],
             [
              0.4444444444444444,
              "#bd3786"
             ],
             [
              0.5555555555555556,
              "#d8576b"
             ],
             [
              0.6666666666666666,
              "#ed7953"
             ],
             [
              0.7777777777777778,
              "#fb9f3a"
             ],
             [
              0.8888888888888888,
              "#fdca26"
             ],
             [
              1,
              "#f0f921"
             ]
            ],
            "type": "heatmap"
           }
          ],
          "heatmapgl": [
           {
            "colorbar": {
             "outlinewidth": 0,
             "ticks": ""
            },
            "colorscale": [
             [
              0,
              "#0d0887"
             ],
             [
              0.1111111111111111,
              "#46039f"
             ],
             [
              0.2222222222222222,
              "#7201a8"
             ],
             [
              0.3333333333333333,
              "#9c179e"
             ],
             [
              0.4444444444444444,
              "#bd3786"
             ],
             [
              0.5555555555555556,
              "#d8576b"
             ],
             [
              0.6666666666666666,
              "#ed7953"
             ],
             [
              0.7777777777777778,
              "#fb9f3a"
             ],
             [
              0.8888888888888888,
              "#fdca26"
             ],
             [
              1,
              "#f0f921"
             ]
            ],
            "type": "heatmapgl"
           }
          ],
          "histogram": [
           {
            "marker": {
             "pattern": {
              "fillmode": "overlay",
              "size": 10,
              "solidity": 0.2
             }
            },
            "type": "histogram"
           }
          ],
          "histogram2d": [
           {
            "colorbar": {
             "outlinewidth": 0,
             "ticks": ""
            },
            "colorscale": [
             [
              0,
              "#0d0887"
             ],
             [
              0.1111111111111111,
              "#46039f"
             ],
             [
              0.2222222222222222,
              "#7201a8"
             ],
             [
              0.3333333333333333,
              "#9c179e"
             ],
             [
              0.4444444444444444,
              "#bd3786"
             ],
             [
              0.5555555555555556,
              "#d8576b"
             ],
             [
              0.6666666666666666,
              "#ed7953"
             ],
             [
              0.7777777777777778,
              "#fb9f3a"
             ],
             [
              0.8888888888888888,
              "#fdca26"
             ],
             [
              1,
              "#f0f921"
             ]
            ],
            "type": "histogram2d"
           }
          ],
          "histogram2dcontour": [
           {
            "colorbar": {
             "outlinewidth": 0,
             "ticks": ""
            },
            "colorscale": [
             [
              0,
              "#0d0887"
             ],
             [
              0.1111111111111111,
              "#46039f"
             ],
             [
              0.2222222222222222,
              "#7201a8"
             ],
             [
              0.3333333333333333,
              "#9c179e"
             ],
             [
              0.4444444444444444,
              "#bd3786"
             ],
             [
              0.5555555555555556,
              "#d8576b"
             ],
             [
              0.6666666666666666,
              "#ed7953"
             ],
             [
              0.7777777777777778,
              "#fb9f3a"
             ],
             [
              0.8888888888888888,
              "#fdca26"
             ],
             [
              1,
              "#f0f921"
             ]
            ],
            "type": "histogram2dcontour"
           }
          ],
          "mesh3d": [
           {
            "colorbar": {
             "outlinewidth": 0,
             "ticks": ""
            },
            "type": "mesh3d"
           }
          ],
          "parcoords": [
           {
            "line": {
             "colorbar": {
              "outlinewidth": 0,
              "ticks": ""
             }
            },
            "type": "parcoords"
           }
          ],
          "pie": [
           {
            "automargin": true,
            "type": "pie"
           }
          ],
          "scatter": [
           {
            "fillpattern": {
             "fillmode": "overlay",
             "size": 10,
             "solidity": 0.2
            },
            "type": "scatter"
           }
          ],
          "scatter3d": [
           {
            "line": {
             "colorbar": {
              "outlinewidth": 0,
              "ticks": ""
             }
            },
            "marker": {
             "colorbar": {
              "outlinewidth": 0,
              "ticks": ""
             }
            },
            "type": "scatter3d"
           }
          ],
          "scattercarpet": [
           {
            "marker": {
             "colorbar": {
              "outlinewidth": 0,
              "ticks": ""
             }
            },
            "type": "scattercarpet"
           }
          ],
          "scattergeo": [
           {
            "marker": {
             "colorbar": {
              "outlinewidth": 0,
              "ticks": ""
             }
            },
            "type": "scattergeo"
           }
          ],
          "scattergl": [
           {
            "marker": {
             "colorbar": {
              "outlinewidth": 0,
              "ticks": ""
             }
            },
            "type": "scattergl"
           }
          ],
          "scattermapbox": [
           {
            "marker": {
             "colorbar": {
              "outlinewidth": 0,
              "ticks": ""
             }
            },
            "type": "scattermapbox"
           }
          ],
          "scatterpolar": [
           {
            "marker": {
             "colorbar": {
              "outlinewidth": 0,
              "ticks": ""
             }
            },
            "type": "scatterpolar"
           }
          ],
          "scatterpolargl": [
           {
            "marker": {
             "colorbar": {
              "outlinewidth": 0,
              "ticks": ""
             }
            },
            "type": "scatterpolargl"
           }
          ],
          "scatterternary": [
           {
            "marker": {
             "colorbar": {
              "outlinewidth": 0,
              "ticks": ""
             }
            },
            "type": "scatterternary"
           }
          ],
          "surface": [
           {
            "colorbar": {
             "outlinewidth": 0,
             "ticks": ""
            },
            "colorscale": [
             [
              0,
              "#0d0887"
             ],
             [
              0.1111111111111111,
              "#46039f"
             ],
             [
              0.2222222222222222,
              "#7201a8"
             ],
             [
              0.3333333333333333,
              "#9c179e"
             ],
             [
              0.4444444444444444,
              "#bd3786"
             ],
             [
              0.5555555555555556,
              "#d8576b"
             ],
             [
              0.6666666666666666,
              "#ed7953"
             ],
             [
              0.7777777777777778,
              "#fb9f3a"
             ],
             [
              0.8888888888888888,
              "#fdca26"
             ],
             [
              1,
              "#f0f921"
             ]
            ],
            "type": "surface"
           }
          ],
          "table": [
           {
            "cells": {
             "fill": {
              "color": "#EBF0F8"
             },
             "line": {
              "color": "white"
             }
            },
            "header": {
             "fill": {
              "color": "#C8D4E3"
             },
             "line": {
              "color": "white"
             }
            },
            "type": "table"
           }
          ]
         },
         "layout": {
          "annotationdefaults": {
           "arrowcolor": "#2a3f5f",
           "arrowhead": 0,
           "arrowwidth": 1
          },
          "autotypenumbers": "strict",
          "coloraxis": {
           "colorbar": {
            "outlinewidth": 0,
            "ticks": ""
           }
          },
          "colorscale": {
           "diverging": [
            [
             0,
             "#8e0152"
            ],
            [
             0.1,
             "#c51b7d"
            ],
            [
             0.2,
             "#de77ae"
            ],
            [
             0.3,
             "#f1b6da"
            ],
            [
             0.4,
             "#fde0ef"
            ],
            [
             0.5,
             "#f7f7f7"
            ],
            [
             0.6,
             "#e6f5d0"
            ],
            [
             0.7,
             "#b8e186"
            ],
            [
             0.8,
             "#7fbc41"
            ],
            [
             0.9,
             "#4d9221"
            ],
            [
             1,
             "#276419"
            ]
           ],
           "sequential": [
            [
             0,
             "#0d0887"
            ],
            [
             0.1111111111111111,
             "#46039f"
            ],
            [
             0.2222222222222222,
             "#7201a8"
            ],
            [
             0.3333333333333333,
             "#9c179e"
            ],
            [
             0.4444444444444444,
             "#bd3786"
            ],
            [
             0.5555555555555556,
             "#d8576b"
            ],
            [
             0.6666666666666666,
             "#ed7953"
            ],
            [
             0.7777777777777778,
             "#fb9f3a"
            ],
            [
             0.8888888888888888,
             "#fdca26"
            ],
            [
             1,
             "#f0f921"
            ]
           ],
           "sequentialminus": [
            [
             0,
             "#0d0887"
            ],
            [
             0.1111111111111111,
             "#46039f"
            ],
            [
             0.2222222222222222,
             "#7201a8"
            ],
            [
             0.3333333333333333,
             "#9c179e"
            ],
            [
             0.4444444444444444,
             "#bd3786"
            ],
            [
             0.5555555555555556,
             "#d8576b"
            ],
            [
             0.6666666666666666,
             "#ed7953"
            ],
            [
             0.7777777777777778,
             "#fb9f3a"
            ],
            [
             0.8888888888888888,
             "#fdca26"
            ],
            [
             1,
             "#f0f921"
            ]
           ]
          },
          "colorway": [
           "#636efa",
           "#EF553B",
           "#00cc96",
           "#ab63fa",
           "#FFA15A",
           "#19d3f3",
           "#FF6692",
           "#B6E880",
           "#FF97FF",
           "#FECB52"
          ],
          "font": {
           "color": "#2a3f5f"
          },
          "geo": {
           "bgcolor": "white",
           "lakecolor": "white",
           "landcolor": "#E5ECF6",
           "showlakes": true,
           "showland": true,
           "subunitcolor": "white"
          },
          "hoverlabel": {
           "align": "left"
          },
          "hovermode": "closest",
          "mapbox": {
           "style": "light"
          },
          "paper_bgcolor": "white",
          "plot_bgcolor": "#E5ECF6",
          "polar": {
           "angularaxis": {
            "gridcolor": "white",
            "linecolor": "white",
            "ticks": ""
           },
           "bgcolor": "#E5ECF6",
           "radialaxis": {
            "gridcolor": "white",
            "linecolor": "white",
            "ticks": ""
           }
          },
          "scene": {
           "xaxis": {
            "backgroundcolor": "#E5ECF6",
            "gridcolor": "white",
            "gridwidth": 2,
            "linecolor": "white",
            "showbackground": true,
            "ticks": "",
            "zerolinecolor": "white"
           },
           "yaxis": {
            "backgroundcolor": "#E5ECF6",
            "gridcolor": "white",
            "gridwidth": 2,
            "linecolor": "white",
            "showbackground": true,
            "ticks": "",
            "zerolinecolor": "white"
           },
           "zaxis": {
            "backgroundcolor": "#E5ECF6",
            "gridcolor": "white",
            "gridwidth": 2,
            "linecolor": "white",
            "showbackground": true,
            "ticks": "",
            "zerolinecolor": "white"
           }
          },
          "shapedefaults": {
           "line": {
            "color": "#2a3f5f"
           }
          },
          "ternary": {
           "aaxis": {
            "gridcolor": "white",
            "linecolor": "white",
            "ticks": ""
           },
           "baxis": {
            "gridcolor": "white",
            "linecolor": "white",
            "ticks": ""
           },
           "bgcolor": "#E5ECF6",
           "caxis": {
            "gridcolor": "white",
            "linecolor": "white",
            "ticks": ""
           }
          },
          "title": {
           "x": 0.05
          },
          "xaxis": {
           "automargin": true,
           "gridcolor": "white",
           "linecolor": "white",
           "ticks": "",
           "title": {
            "standoff": 15
           },
           "zerolinecolor": "white",
           "zerolinewidth": 2
          },
          "yaxis": {
           "automargin": true,
           "gridcolor": "white",
           "linecolor": "white",
           "ticks": "",
           "title": {
            "standoff": 15
           },
           "zerolinecolor": "white",
           "zerolinewidth": 2
          }
         }
        },
        "title": {
         "text": "REGRESION<br>R2: 0.8941176470588236 RMSE: 2.1213203435596424"
        }
       }
      }
     },
     "metadata": {},
     "output_type": "display_data"
    }
   ],
   "source": [
    "# Predecir valores para el plano de regresión\n",
    "x1_range = np.linspace(min(X['width']), max(X['width']), 20)\n",
    "x2_range = np.linspace(min(X['shoe_size']), max(X['shoe_size']), 20)\n",
    "x1_mesh, x2_mesh = np.meshgrid(x1_range, x2_range)\n",
    "y_mesh = lr_first.predict(np.vstack((x1_mesh.ravel(), x2_mesh.ravel())).T).reshape(x1_mesh.shape)\n",
    "\n",
    "# Crear scatterplot 3D de los puntos\n",
    "scatter = go.Scatter3d(\n",
    "    x=X['width'], y=X['shoe_size'], z=y,\n",
    "    mode='markers',\n",
    "    marker=dict(size=8, color='red')\n",
    ")\n",
    "\n",
    "# Crear el plano de regresión\n",
    "surface = go.Surface(\n",
    "    x=x1_mesh, y=x2_mesh, z=y_mesh,\n",
    "    colorscale='Viridis', opacity=0.5\n",
    ")\n",
    "\n",
    "# Configuración del layout\n",
    "layout = go.Layout(\n",
    "    title=f\"REGRESION<br>R2: {r2_score(y_test_f, pred_first)} RMSE: {root_mean_squared_error(y_test_f, pred_first)}\",\n",
    "    scene=dict(\n",
    "        xaxis_title='Variable X1',\n",
    "        yaxis_title='Variable X2',\n",
    "        zaxis_title='Variable Y'\n",
    "    )\n",
    ")\n",
    "\n",
    "# Crear la figura\n",
    "fig = go.Figure(data=[scatter, surface], layout=layout)\n",
    "\n",
    "# Mostrar la figura interactiva\n",
    "fig.show()\n"
   ]
  },
  {
   "cell_type": "markdown",
   "metadata": {},
   "source": [
    "**¿Por qué seleccionaste ese modelo?**\n",
    "\n",
    "Al tener pocos datos decidimos hacer una regresión simple ya que es un modelo fácil de interpretar y de aplicar. Modelos más complejos pueden sobreajustar los datos sobretodo con la poca cantidad de datos que hay."
   ]
  },
  {
   "cell_type": "markdown",
   "metadata": {},
   "source": [
    "**¿Utilizaste alguna regularización?**\n",
    "\n",
    "No, se hizo una regresión lineal simple, sin regularización."
   ]
  },
  {
   "cell_type": "markdown",
   "metadata": {},
   "source": [
    "## Parte 2"
   ]
  },
  {
   "cell_type": "markdown",
   "metadata": {},
   "source": [
    "### Modelo Iteso"
   ]
  },
  {
   "cell_type": "code",
   "execution_count": 579,
   "metadata": {},
   "outputs": [],
   "source": [
    "path = \"datos_gente_1.csv\"\n",
    "\n",
    "df_comb = pd.read_csv(path)"
   ]
  },
  {
   "cell_type": "code",
   "execution_count": 580,
   "metadata": {},
   "outputs": [
    {
     "data": {
      "text/plain": [
       "array([[<Axes: title={'center': 'height'}>,\n",
       "        <Axes: title={'center': 'width'}>],\n",
       "       [<Axes: title={'center': 'shoe_size'}>, <Axes: >]], dtype=object)"
      ]
     },
     "execution_count": 580,
     "metadata": {},
     "output_type": "execute_result"
    },
    {
     "data": {
      "image/png": "[encoded data removed]",
      "text/plain": [
       "<Figure size 640x480 with 4 Axes>"
      ]
     },
     "metadata": {},
     "output_type": "display_data"
    }
   ],
   "source": [
    "df_comb.hist(bins=20)"
   ]
  },
  {
   "cell_type": "code",
   "execution_count": 581,
   "metadata": {},
   "outputs": [],
   "source": [
    "X = df_comb[[\"width\", \"shoe_size\"]]\n",
    "y = df_comb[\"height\"]"
   ]
  },
  {
   "cell_type": "code",
   "execution_count": 582,
   "metadata": {},
   "outputs": [
    {
     "data": {
      "text/plain": [
       "<matplotlib.collections.PathCollection at 0x1d9cac09a10>"
      ]
     },
     "execution_count": 582,
     "metadata": {},
     "output_type": "execute_result"
    },
    {
     "data": {
      "image/png": "[encoded data removed]",
      "text/plain": [
       "<Figure size 640x480 with 1 Axes>"
      ]
     },
     "metadata": {},
     "output_type": "display_data"
    }
   ],
   "source": [
    "plt.scatter(df_comb[\"shoe_size\"], df_comb[\"height\"])"
   ]
  },
  {
   "cell_type": "code",
   "execution_count": 583,
   "metadata": {},
   "outputs": [
    {
     "name": "stdout",
     "output_type": "stream",
     "text": [
      "165\n",
      "175.0\n"
     ]
    }
   ],
   "source": [
    "q25 = 165\n",
    "q75 = np.quantile(y, 0.75)\n",
    "\n",
    "print(q25)\n",
    "print(q75)\n",
    "\n",
    "df_left = df_comb[df_comb[\"height\"] <= q25]\n",
    "df_right = df_comb[df_comb[\"height\"] >= q75]\n",
    "df_center = df_comb[(df_comb[\"height\"] >= q25) & (df_comb[\"height\"] <= q75)] "
   ]
  },
  {
   "cell_type": "code",
   "execution_count": 584,
   "metadata": {},
   "outputs": [],
   "source": [
    "def sintetizar_datos(df_a_combinar, df_new):\n",
    "    X_left = df_new[[\"width\", \"shoe_size\"]]\n",
    "    y_left = df_new[\"height\"]\n",
    "\n",
    "    w_m = np.mean(df_new[\"width\"])\n",
    "    s_m = np.mean(df_new[\"shoe_size\"])\n",
    "    h_m = np.mean(df_new[\"height\"])\n",
    "\n",
    "    w_s = np.std(df_new[\"width\"])\n",
    "    s_s = np.std(df_new[\"shoe_size\"])\n",
    "    h_s = np.std(df_new[\"height\"])\n",
    "\n",
    "    new_data_w = np.random.normal(loc=w_m, scale=w_s, size=100)\n",
    "    new_data_s = np.random.normal(loc=s_m, scale=s_s, size=100)\n",
    "    new_data_h = np.random.normal(loc=h_m, scale=h_s, size=100)\n",
    "\n",
    "    new_sorted_w = sorted(new_data_w)\n",
    "    new_sorted_s = sorted(new_data_s)\n",
    "    new_sorted_h = sorted(new_data_h)\n",
    "\n",
    "    df_new_1 = pd.DataFrame({\n",
    "        \"width\": new_sorted_w,\n",
    "        \"shoe_size\": new_sorted_s,\n",
    "        \"height\": new_sorted_h\n",
    "    })\n",
    "\n",
    "    df_new_1 = df_new_1.apply(lambda x: round(x, 0))\n",
    "\n",
    "    df_a_combinar = pd.concat([df_a_combinar, df_new_1])\n",
    "    return df_a_combinar"
   ]
  },
  {
   "cell_type": "code",
   "execution_count": 585,
   "metadata": {},
   "outputs": [],
   "source": [
    "data_left = sintetizar_datos(df_comb, df_left)\n",
    "data_right = sintetizar_datos(df_comb, df_right)"
   ]
  },
  {
   "cell_type": "code",
   "execution_count": 586,
   "metadata": {},
   "outputs": [
    {
     "data": {
      "text/plain": [
       "167.91434671865943"
      ]
     },
     "execution_count": 586,
     "metadata": {},
     "output_type": "execute_result"
    }
   ],
   "source": [
    "data_left.mean().iloc[0] + (data_left.std().iloc[0] / 2)"
   ]
  },
  {
   "cell_type": "code",
   "execution_count": 587,
   "metadata": {},
   "outputs": [
    {
     "data": {
      "text/plain": [
       "(array([[<Axes: title={'center': 'height'}>,\n",
       "         <Axes: title={'center': 'width'}>],\n",
       "        [<Axes: title={'center': 'shoe_size'}>, <Axes: >]], dtype=object),\n",
       " array([[<Axes: title={'center': 'height'}>,\n",
       "         <Axes: title={'center': 'width'}>],\n",
       "        [<Axes: title={'center': 'shoe_size'}>, <Axes: >]], dtype=object),\n",
       " array([[<Axes: title={'center': 'height'}>,\n",
       "         <Axes: title={'center': 'width'}>],\n",
       "        [<Axes: title={'center': 'shoe_size'}>, <Axes: >]], dtype=object))"
      ]
     },
     "execution_count": 587,
     "metadata": {},
     "output_type": "execute_result"
    },
    {
     "data": {
      "image/png": "[encoded data removed]",
      "text/plain": [
       "<Figure size 640x480 with 4 Axes>"
      ]
     },
     "metadata": {},
     "output_type": "display_data"
    },
    {
     "data": {
      "image/png": "[encoded data removed]",
      "text/plain": [
       "<Figure size 640x480 with 4 Axes>"
      ]
     },
     "metadata": {},
     "output_type": "display_data"
    },
    {
     "data": {
      "image/png": "[encoded data removed]",
      "text/plain": [
       "<Figure size 640x480 with 4 Axes>"
      ]
     },
     "metadata": {},
     "output_type": "display_data"
    }
   ],
   "source": [
    "data_left.hist(), data_right.hist(), df_center.hist()"
   ]
  },
  {
   "cell_type": "code",
   "execution_count": 588,
   "metadata": {},
   "outputs": [],
   "source": [
    "x_train_left, x_test_left, y_train_left, y_test_left = train_test_split(data_left.drop(\"height\", axis=1), data_left[\"height\"], test_size= 0.2, random_state=55)\n",
    "x_train_right, x_test_right, y_train_right, y_test_right = train_test_split(data_right.drop(\"height\", axis=1), data_right[\"height\"], test_size= 0.2, random_state=55)\n",
    "x_train_center, x_test_center, y_train_center, y_test_center = train_test_split(df_comb.drop(\"height\", axis=1), df_comb[\"height\"], test_size= 0.2, random_state=55)"
   ]
  },
  {
   "cell_type": "code",
   "execution_count": 589,
   "metadata": {},
   "outputs": [],
   "source": [
    "ss_left = StandardScaler()\n",
    "ss_right = StandardScaler()\n",
    "ss_center = StandardScaler()\n",
    "\n",
    "\n",
    "X_train_s_left = ss_left.fit_transform(x_train_left)\n",
    "X_test_s_left = ss_left.transform(x_test_left)\n",
    "\n",
    "X_train_s_right = ss_right.fit_transform(x_train_right)\n",
    "X_test_s_right = ss_right.transform(x_test_right)\n",
    "\n",
    "X_train_s_center = ss_center.fit_transform(x_train_center)\n",
    "X_test_s_center = ss_center.transform(x_test_center)"
   ]
  },
  {
   "cell_type": "markdown",
   "metadata": {},
   "source": [
    "### Right model\n",
    "\n",
    "Aqui se crea el modelo que predice de manera más adecuada los valores de la derecha"
   ]
  },
  {
   "cell_type": "code",
   "execution_count": 590,
   "metadata": {},
   "outputs": [
    {
     "name": "stdout",
     "output_type": "stream",
     "text": [
      "R2: 0.8407311950548979 RMSE: 3.3943024567198297\n"
     ]
    }
   ],
   "source": [
    "rg_r = Ridge(alpha = 10)\n",
    "rg_r.fit(X_train_s_right, y_train_right)\n",
    "r_pred_right = rg_r.predict(X_test_s_right)\n",
    "print(f\"R2: {r2_score(y_test_right, r_pred_right)} RMSE: {root_mean_squared_error(y_test_right, r_pred_right)}\")"
   ]
  },
  {
   "cell_type": "code",
   "execution_count": 591,
   "metadata": {},
   "outputs": [
    {
     "name": "stdout",
     "output_type": "stream",
     "text": [
      "Pendientes: [1.81414268 6.88172866]\n",
      "Intercepto: 174.59731543624162\n"
     ]
    }
   ],
   "source": [
    "print(f\"Pendientes: {rg_r.coef_}\")\n",
    "print(f\"Intercepto: {rg_r.intercept_}\")"
   ]
  },
  {
   "cell_type": "code",
   "execution_count": 592,
   "metadata": {},
   "outputs": [
    {
     "name": "stderr",
     "output_type": "stream",
     "text": [
      "c:\\Users\\Roi_f\\anaconda3\\envs\\personal\\Lib\\site-packages\\sklearn\\base.py:493: UserWarning:\n",
      "\n",
      "X does not have valid feature names, but StandardScaler was fitted with feature names\n",
      "\n"
     ]
    }
   ],
   "source": [
    "values_para_right = ss_right.transform([[36,22.5]])"
   ]
  },
  {
   "cell_type": "code",
   "execution_count": 593,
   "metadata": {},
   "outputs": [
    {
     "data": {
      "text/plain": [
       "array([155.85962249])"
      ]
     },
     "execution_count": 593,
     "metadata": {},
     "output_type": "execute_result"
    }
   ],
   "source": [
    "rg_r.predict(values_para_right)"
   ]
  },
  {
   "cell_type": "code",
   "execution_count": 594,
   "metadata": {},
   "outputs": [
    {
     "name": "stderr",
     "output_type": "stream",
     "text": [
      "c:\\Users\\Roi_f\\anaconda3\\envs\\personal\\Lib\\site-packages\\sklearn\\base.py:493: UserWarning:\n",
      "\n",
      "X does not have valid feature names, but StandardScaler was fitted with feature names\n",
      "\n"
     ]
    },
    {
     "data": {
      "application/vnd.plotly.v1+json": {
       "config": {
        "plotlyServerURL": "https://plot.ly"
       },
       "data": [
        {
         "marker": {
          "color": "red",
          "opacity": 0.7,
          "size": 8
         },
         "mode": "markers",
         "type": "scatter3d",
         "x": [
          45,
          50,
          56,
          52,
          51,
          49,
          45,
          46,
          36,
          49,
          42,
          47,
          50,
          42,
          43,
          39,
          50,
          36,
          43,
          56,
          42,
          50,
          41,
          48,
          45,
          47,
          47,
          48,
          42,
          49,
          47,
          49,
          48,
          61,
          47,
          49,
          40,
          52
         ],
         "y": [
          28,
          28,
          30,
          30,
          29,
          28,
          28,
          28,
          23,
          29,
          26,
          28,
          29,
          27,
          27,
          24.5,
          29,
          22.5,
          28,
          30,
          27,
          29,
          23.5,
          28,
          27.5,
          28,
          27,
          27,
          28,
          29,
          28,
          29,
          28,
          26,
          28,
          27,
          26,
          30
         ],
         "z": [
          178,
          173,
          189,
          186,
          185,
          183,
          179,
          179,
          164,
          183,
          170,
          180,
          184,
          174,
          175,
          166,
          184,
          153,
          182,
          191,
          177,
          185,
          153,
          181,
          172,
          180,
          168,
          172,
          177,
          183,
          180,
          183,
          182,
          168,
          180,
          176,
          173,
          187
         ]
        },
        {
         "colorscale": [
          [
           0,
           "#440154"
          ],
          [
           0.1111111111111111,
           "#482878"
          ],
          [
           0.2222222222222222,
           "#3e4989"
          ],
          [
           0.3333333333333333,
           "#31688e"
          ],
          [
           0.4444444444444444,
           "#26828e"
          ],
          [
           0.5555555555555556,
           "#1f9e89"
          ],
          [
           0.6666666666666666,
           "#35b779"
          ],
          [
           0.7777777777777778,
           "#6ece58"
          ],
          [
           0.8888888888888888,
           "#b5de2b"
          ],
          [
           1,
           "#fde725"
          ]
         ],
         "opacity": 0.5,
         "type": "surface",
         "x": [
          [
           33,
           34.26315789473684,
           35.526315789473685,
           36.78947368421053,
           38.05263157894737,
           39.31578947368421,
           40.578947368421055,
           41.84210526315789,
           43.10526315789474,
           44.368421052631575,
           45.631578947368425,
           46.89473684210526,
           48.1578947368421,
           49.421052631578945,
           50.68421052631579,
           51.94736842105263,
           53.21052631578947,
           54.473684210526315,
           55.73684210526316,
           57
          ],
          [
           33,
           34.26315789473684,
           35.526315789473685,
           36.78947368421053,
           38.05263157894737,
           39.31578947368421,
           40.578947368421055,
           41.84210526315789,
           43.10526315789474,
           44.368421052631575,
           45.631578947368425,
           46.89473684210526,
           48.1578947368421,
           49.421052631578945,
           50.68421052631579,
           51.94736842105263,
           53.21052631578947,
           54.473684210526315,
           55.73684210526316,
           57
          ],
          [
           33,
           34.26315789473684,
           35.526315789473685,
           36.78947368421053,
           38.05263157894737,
           39.31578947368421,
           40.578947368421055,
           41.84210526315789,
           43.10526315789474,
           44.368421052631575,
           45.631578947368425,
           46.89473684210526,
           48.1578947368421,
           49.421052631578945,
           50.68421052631579,
           51.94736842105263,
           53.21052631578947,
           54.473684210526315,
           55.73684210526316,
           57
          ],
          [
           33,
           34.26315789473684,
           35.526315789473685,
           36.78947368421053,
           38.05263157894737,
           39.31578947368421,
           40.578947368421055,
           41.84210526315789,
           43.10526315789474,
           44.368421052631575,
           45.631578947368425,
           46.89473684210526,
           48.1578947368421,
           49.421052631578945,
           50.68421052631579,
           51.94736842105263,
           53.21052631578947,
           54.473684210526315,
           55.73684210526316,
           57
          ],
          [
           33,
           34.26315789473684,
           35.526315789473685,
           36.78947368421053,
           38.05263157894737,
           39.31578947368421,
           40.578947368421055,
           41.84210526315789,
           43.10526315789474,
           44.368421052631575,
           45.631578947368425,
           46.89473684210526,
           48.1578947368421,
           49.421052631578945,
           50.68421052631579,
           51.94736842105263,
           53.21052631578947,
           54.473684210526315,
           55.73684210526316,
           57
          ],
          [
           33,
           34.26315789473684,
           35.526315789473685,
           36.78947368421053,
           38.05263157894737,
           39.31578947368421,
           40.578947368421055,
           41.84210526315789,
           43.10526315789474,
           44.368421052631575,
           45.631578947368425,
           46.89473684210526,
           48.1578947368421,
           49.421052631578945,
           50.68421052631579,
           51.94736842105263,
           53.21052631578947,
           54.473684210526315,
           55.73684210526316,
           57
          ],
          [
           33,
           34.26315789473684,
           35.526315789473685,
           36.78947368421053,
           38.05263157894737,
           39.31578947368421,
           40.578947368421055,
           41.84210526315789,
           43.10526315789474,
           44.368421052631575,
           45.631578947368425,
           46.89473684210526,
           48.1578947368421,
           49.421052631578945,
           50.68421052631579,
           51.94736842105263,
           53.21052631578947,
           54.473684210526315,
           55.73684210526316,
           57
          ],
          [
           33,
           34.26315789473684,
           35.526315789473685,
           36.78947368421053,
           38.05263157894737,
           39.31578947368421,
           40.578947368421055,
           41.84210526315789,
           43.10526315789474,
           44.368421052631575,
           45.631578947368425,
           46.89473684210526,
           48.1578947368421,
           49.421052631578945,
           50.68421052631579,
           51.94736842105263,
           53.21052631578947,
           54.473684210526315,
           55.73684210526316,
           57
          ],
          [
           33,
           34.26315789473684,
           35.526315789473685,
           36.78947368421053,
           38.05263157894737,
           39.31578947368421,
           40.578947368421055,
           41.84210526315789,
           43.10526315789474,
           44.368421052631575,
           45.631578947368425,
           46.89473684210526,
           48.1578947368421,
           49.421052631578945,
           50.68421052631579,
           51.94736842105263,
           53.21052631578947,
           54.473684210526315,
           55.73684210526316,
           57
          ],
          [
           33,
           34.26315789473684,
           35.526315789473685,
           36.78947368421053,
           38.05263157894737,
           39.31578947368421,
           40.578947368421055,
           41.84210526315789,
           43.10526315789474,
           44.368421052631575,
           45.631578947368425,
           46.89473684210526,
           48.1578947368421,
           49.421052631578945,
           50.68421052631579,
           51.94736842105263,
           53.21052631578947,
           54.473684210526315,
           55.73684210526316,
           57
          ],
          [
           33,
           34.26315789473684,
           35.526315789473685,
           36.78947368421053,
           38.05263157894737,
           39.31578947368421,
           40.578947368421055,
           41.84210526315789,
           43.10526315789474,
           44.368421052631575,
           45.631578947368425,
           46.89473684210526,
           48.1578947368421,
           49.421052631578945,
           50.68421052631579,
           51.94736842105263,
           53.21052631578947,
           54.473684210526315,
           55.73684210526316,
           57
          ],
          [
           33,
           34.26315789473684,
           35.526315789473685,
           36.78947368421053,
           38.05263157894737,
           39.31578947368421,
           40.578947368421055,
           41.84210526315789,
           43.10526315789474,
           44.368421052631575,
           45.631578947368425,
           46.89473684210526,
           48.1578947368421,
           49.421052631578945,
           50.68421052631579,
           51.94736842105263,
           53.21052631578947,
           54.473684210526315,
           55.73684210526316,
           57
          ],
          [
           33,
           34.26315789473684,
           35.526315789473685,
           36.78947368421053,
           38.05263157894737,
           39.31578947368421,
           40.578947368421055,
           41.84210526315789,
           43.10526315789474,
           44.368421052631575,
           45.631578947368425,
           46.89473684210526,
           48.1578947368421,
           49.421052631578945,
           50.68421052631579,
           51.94736842105263,
           53.21052631578947,
           54.473684210526315,
           55.73684210526316,
           57
          ],
          [
           33,
           34.26315789473684,
           35.526315789473685,
           36.78947368421053,
           38.05263157894737,
           39.31578947368421,
           40.578947368421055,
           41.84210526315789,
           43.10526315789474,
           44.368421052631575,
           45.631578947368425,
           46.89473684210526,
           48.1578947368421,
           49.421052631578945,
           50.68421052631579,
           51.94736842105263,
           53.21052631578947,
           54.473684210526315,
           55.73684210526316,
           57
          ],
          [
           33,
           34.26315789473684,
           35.526315789473685,
           36.78947368421053,
           38.05263157894737,
           39.31578947368421,
           40.578947368421055,
           41.84210526315789,
           43.10526315789474,
           44.368421052631575,
           45.631578947368425,
           46.89473684210526,
           48.1578947368421,
           49.421052631578945,
           50.68421052631579,
           51.94736842105263,
           53.21052631578947,
           54.473684210526315,
           55.73684210526316,
           57
          ],
          [
           33,
           34.26315789473684,
           35.526315789473685,
           36.78947368421053,
           38.05263157894737,
           39.31578947368421,
           40.578947368421055,
           41.84210526315789,
           43.10526315789474,
           44.368421052631575,
           45.631578947368425,
           46.89473684210526,
           48.1578947368421,
           49.421052631578945,
           50.68421052631579,
           51.94736842105263,
           53.21052631578947,
           54.473684210526315,
           55.73684210526316,
           57
          ],
          [
           33,
           34.26315789473684,
           35.526315789473685,
           36.78947368421053,
           38.05263157894737,
           39.31578947368421,
           40.578947368421055,
           41.84210526315789,
           43.10526315789474,
           44.368421052631575,
           45.631578947368425,
           46.89473684210526,
           48.1578947368421,
           49.421052631578945,
           50.68421052631579,
           51.94736842105263,
           53.21052631578947,
           54.473684210526315,
           55.73684210526316,
           57
          ],
          [
           33,
           34.26315789473684,
           35.526315789473685,
           36.78947368421053,
           38.05263157894737,
           39.31578947368421,
           40.578947368421055,
           41.84210526315789,
           43.10526315789474,
           44.368421052631575,
           45.631578947368425,
           46.89473684210526,
           48.1578947368421,
           49.421052631578945,
           50.68421052631579,
           51.94736842105263,
           53.21052631578947,
           54.473684210526315,
           55.73684210526316,
           57
          ],
          [
           33,
           34.26315789473684,
           35.526315789473685,
           36.78947368421053,
           38.05263157894737,
           39.31578947368421,
           40.578947368421055,
           41.84210526315789,
           43.10526315789474,
           44.368421052631575,
           45.631578947368425,
           46.89473684210526,
           48.1578947368421,
           49.421052631578945,
           50.68421052631579,
           51.94736842105263,
           53.21052631578947,
           54.473684210526315,
           55.73684210526316,
           57
          ],
          [
           33,
           34.26315789473684,
           35.526315789473685,
           36.78947368421053,
           38.05263157894737,
           39.31578947368421,
           40.578947368421055,
           41.84210526315789,
           43.10526315789474,
           44.368421052631575,
           45.631578947368425,
           46.89473684210526,
           48.1578947368421,
           49.421052631578945,
           50.68421052631579,
           51.94736842105263,
           53.21052631578947,
           54.473684210526315,
           55.73684210526316,
           57
          ]
         ],
         "y": [
          [
           22,
           22,
           22,
           22,
           22,
           22,
           22,
           22,
           22,
           22,
           22,
           22,
           22,
           22,
           22,
           22,
           22,
           22,
           22,
           22
          ],
          [
           22.42105263157895,
           22.42105263157895,
           22.42105263157895,
           22.42105263157895,
           22.42105263157895,
           22.42105263157895,
           22.42105263157895,
           22.42105263157895,
           22.42105263157895,
           22.42105263157895,
           22.42105263157895,
           22.42105263157895,
           22.42105263157895,
           22.42105263157895,
           22.42105263157895,
           22.42105263157895,
           22.42105263157895,
           22.42105263157895,
           22.42105263157895,
           22.42105263157895
          ],
          [
           22.842105263157894,
           22.842105263157894,
           22.842105263157894,
           22.842105263157894,
           22.842105263157894,
           22.842105263157894,
           22.842105263157894,
           22.842105263157894,
           22.842105263157894,
           22.842105263157894,
           22.842105263157894,
           22.842105263157894,
           22.842105263157894,
           22.842105263157894,
           22.842105263157894,
           22.842105263157894,
           22.842105263157894,
           22.842105263157894,
           22.842105263157894,
           22.842105263157894
          ],
          [
           23.263157894736842,
           23.263157894736842,
           23.263157894736842,
           23.263157894736842,
           23.263157894736842,
           23.263157894736842,
           23.263157894736842,
           23.263157894736842,
           23.263157894736842,
           23.263157894736842,
           23.263157894736842,
           23.263157894736842,
           23.263157894736842,
           23.263157894736842,
           23.263157894736842,
           23.263157894736842,
           23.263157894736842,
           23.263157894736842,
           23.263157894736842,
           23.263157894736842
          ],
          [
           23.684210526315788,
           23.684210526315788,
           23.684210526315788,
           23.684210526315788,
           23.684210526315788,
           23.684210526315788,
           23.684210526315788,
           23.684210526315788,
           23.684210526315788,
           23.684210526315788,
           23.684210526315788,
           23.684210526315788,
           23.684210526315788,
           23.684210526315788,
           23.684210526315788,
           23.684210526315788,
           23.684210526315788,
           23.684210526315788,
           23.684210526315788,
           23.684210526315788
          ],
          [
           24.105263157894736,
           24.105263157894736,
           24.105263157894736,
           24.105263157894736,
           24.105263157894736,
           24.105263157894736,
           24.105263157894736,
           24.105263157894736,
           24.105263157894736,
           24.105263157894736,
           24.105263157894736,
           24.105263157894736,
           24.105263157894736,
           24.105263157894736,
           24.105263157894736,
           24.105263157894736,
           24.105263157894736,
           24.105263157894736,
           24.105263157894736,
           24.105263157894736
          ],
          [
           24.526315789473685,
           24.526315789473685,
           24.526315789473685,
           24.526315789473685,
           24.526315789473685,
           24.526315789473685,
           24.526315789473685,
           24.526315789473685,
           24.526315789473685,
           24.526315789473685,
           24.526315789473685,
           24.526315789473685,
           24.526315789473685,
           24.526315789473685,
           24.526315789473685,
           24.526315789473685,
           24.526315789473685,
           24.526315789473685,
           24.526315789473685,
           24.526315789473685
          ],
          [
           24.94736842105263,
           24.94736842105263,
           24.94736842105263,
           24.94736842105263,
           24.94736842105263,
           24.94736842105263,
           24.94736842105263,
           24.94736842105263,
           24.94736842105263,
           24.94736842105263,
           24.94736842105263,
           24.94736842105263,
           24.94736842105263,
           24.94736842105263,
           24.94736842105263,
           24.94736842105263,
           24.94736842105263,
           24.94736842105263,
           24.94736842105263,
           24.94736842105263
          ],
          [
           25.36842105263158,
           25.36842105263158,
           25.36842105263158,
           25.36842105263158,
           25.36842105263158,
           25.36842105263158,
           25.36842105263158,
           25.36842105263158,
           25.36842105263158,
           25.36842105263158,
           25.36842105263158,
           25.36842105263158,
           25.36842105263158,
           25.36842105263158,
           25.36842105263158,
           25.36842105263158,
           25.36842105263158,
           25.36842105263158,
           25.36842105263158,
           25.36842105263158
          ],
          [
           25.789473684210527,
           25.789473684210527,
           25.789473684210527,
           25.789473684210527,
           25.789473684210527,
           25.789473684210527,
           25.789473684210527,
           25.789473684210527,
           25.789473684210527,
           25.789473684210527,
           25.789473684210527,
           25.789473684210527,
           25.789473684210527,
           25.789473684210527,
           25.789473684210527,
           25.789473684210527,
           25.789473684210527,
           25.789473684210527,
           25.789473684210527,
           25.789473684210527
          ],
          [
           26.210526315789473,
           26.210526315789473,
           26.210526315789473,
           26.210526315789473,
           26.210526315789473,
           26.210526315789473,
           26.210526315789473,
           26.210526315789473,
           26.210526315789473,
           26.210526315789473,
           26.210526315789473,
           26.210526315789473,
           26.210526315789473,
           26.210526315789473,
           26.210526315789473,
           26.210526315789473,
           26.210526315789473,
           26.210526315789473,
           26.210526315789473,
           26.210526315789473
          ],
          [
           26.63157894736842,
           26.63157894736842,
           26.63157894736842,
           26.63157894736842,
           26.63157894736842,
           26.63157894736842,
           26.63157894736842,
           26.63157894736842,
           26.63157894736842,
           26.63157894736842,
           26.63157894736842,
           26.63157894736842,
           26.63157894736842,
           26.63157894736842,
           26.63157894736842,
           26.63157894736842,
           26.63157894736842,
           26.63157894736842,
           26.63157894736842,
           26.63157894736842
          ],
          [
           27.05263157894737,
           27.05263157894737,
           27.05263157894737,
           27.05263157894737,
           27.05263157894737,
           27.05263157894737,
           27.05263157894737,
           27.05263157894737,
           27.05263157894737,
           27.05263157894737,
           27.05263157894737,
           27.05263157894737,
           27.05263157894737,
           27.05263157894737,
           27.05263157894737,
           27.05263157894737,
           27.05263157894737,
           27.05263157894737,
           27.05263157894737,
           27.05263157894737
          ],
          [
           27.473684210526315,
           27.473684210526315,
           27.473684210526315,
           27.473684210526315,
           27.473684210526315,
           27.473684210526315,
           27.473684210526315,
           27.473684210526315,
           27.473684210526315,
           27.473684210526315,
           27.473684210526315,
           27.473684210526315,
           27.473684210526315,
           27.473684210526315,
           27.473684210526315,
           27.473684210526315,
           27.473684210526315,
           27.473684210526315,
           27.473684210526315,
           27.473684210526315
          ],
          [
           27.894736842105264,
           27.894736842105264,
           27.894736842105264,
           27.894736842105264,
           27.894736842105264,
           27.894736842105264,
           27.894736842105264,
           27.894736842105264,
           27.894736842105264,
           27.894736842105264,
           27.894736842105264,
           27.894736842105264,
           27.894736842105264,
           27.894736842105264,
           27.894736842105264,
           27.894736842105264,
           27.894736842105264,
           27.894736842105264,
           27.894736842105264,
           27.894736842105264
          ],
          [
           28.315789473684212,
           28.315789473684212,
           28.315789473684212,
           28.315789473684212,
           28.315789473684212,
           28.315789473684212,
           28.315789473684212,
           28.315789473684212,
           28.315789473684212,
           28.315789473684212,
           28.315789473684212,
           28.315789473684212,
           28.315789473684212,
           28.315789473684212,
           28.315789473684212,
           28.315789473684212,
           28.315789473684212,
           28.315789473684212,
           28.315789473684212,
           28.315789473684212
          ],
          [
           28.736842105263158,
           28.736842105263158,
           28.736842105263158,
           28.736842105263158,
           28.736842105263158,
           28.736842105263158,
           28.736842105263158,
           28.736842105263158,
           28.736842105263158,
           28.736842105263158,
           28.736842105263158,
           28.736842105263158,
           28.736842105263158,
           28.736842105263158,
           28.736842105263158,
           28.736842105263158,
           28.736842105263158,
           28.736842105263158,
           28.736842105263158,
           28.736842105263158
          ],
          [
           29.157894736842103,
           29.157894736842103,
           29.157894736842103,
           29.157894736842103,
           29.157894736842103,
           29.157894736842103,
           29.157894736842103,
           29.157894736842103,
           29.157894736842103,
           29.157894736842103,
           29.157894736842103,
           29.157894736842103,
           29.157894736842103,
           29.157894736842103,
           29.157894736842103,
           29.157894736842103,
           29.157894736842103,
           29.157894736842103,
           29.157894736842103,
           29.157894736842103
          ],
          [
           29.57894736842105,
           29.57894736842105,
           29.57894736842105,
           29.57894736842105,
           29.57894736842105,
           29.57894736842105,
           29.57894736842105,
           29.57894736842105,
           29.57894736842105,
           29.57894736842105,
           29.57894736842105,
           29.57894736842105,
           29.57894736842105,
           29.57894736842105,
           29.57894736842105,
           29.57894736842105,
           29.57894736842105,
           29.57894736842105,
           29.57894736842105,
           29.57894736842105
          ],
          [
           30,
           30,
           30,
           30,
           30,
           30,
           30,
           30,
           30,
           30,
           30,
           30,
           30,
           30,
           30,
           30,
           30,
           30,
           30,
           30
          ]
         ],
         "z": [
          [
           152.97455230408204,
           153.45520215988066,
           153.9358520156793,
           154.41650187147792,
           154.89715172727657,
           155.3778015830752,
           155.85845143887383,
           156.33910129467245,
           156.8197511504711,
           157.30040100626974,
           157.78105086206835,
           158.261700717867,
           158.74235057366562,
           159.22300042946426,
           159.70365028526288,
           160.18430014106153,
           160.66494999686014,
           161.1455998526588,
           161.6262497084574,
           162.10689956425605
          ],
          [
           154.44278538104044,
           154.92343523683905,
           155.4040850926377,
           155.88473494843632,
           156.36538480423496,
           156.84603466003358,
           157.32668451583223,
           157.80733437163084,
           158.2879842274295,
           158.7686340832281,
           159.24928393902675,
           159.7299337948254,
           160.21058365062402,
           160.69123350642266,
           161.17188336222128,
           161.65253321801993,
           162.13318307381854,
           162.6138329296172,
           163.0944827854158,
           163.57513264121445
          ],
          [
           155.9110184579988,
           156.39166831379745,
           156.87231816959607,
           157.35296802539472,
           157.83361788119333,
           158.31426773699198,
           158.7949175927906,
           159.27556744858924,
           159.75621730438786,
           160.2368671601865,
           160.71751701598515,
           161.19816687178377,
           161.6788167275824,
           162.15946658338103,
           162.64011643917968,
           163.1207662949783,
           163.60141615077694,
           164.08206600657556,
           164.5627158623742,
           165.04336571817282
          ],
          [
           157.3792515349572,
           157.85990139075582,
           158.34055124655447,
           158.8212011023531,
           159.30185095815173,
           159.78250081395038,
           160.263150669749,
           160.74380052554764,
           161.22445038134626,
           161.7051002371449,
           162.18575009294352,
           162.66639994874217,
           163.14704980454079,
           163.62769966033943,
           164.10834951613805,
           164.5889993719367,
           165.0696492277353,
           165.55029908353396,
           166.03094893933257,
           166.51159879513122
          ],
          [
           158.84748461191558,
           159.32813446771422,
           159.80878432351284,
           160.28943417931148,
           160.7700840351101,
           161.25073389090875,
           161.73138374670737,
           162.212033602506,
           162.69268345830466,
           163.17333331410327,
           163.65398316990192,
           164.13463302570054,
           164.61528288149918,
           165.0959327372978,
           165.57658259309645,
           166.05723244889506,
           166.5378823046937,
           167.01853216049233,
           167.49918201629097,
           167.9798318720896
          ],
          [
           160.31571768887397,
           160.79636754467262,
           161.27701740047124,
           161.75766725626988,
           162.2383171120685,
           162.71896696786715,
           163.19961682366576,
           163.6802666794644,
           164.16091653526303,
           164.64156639106167,
           165.12221624686032,
           165.60286610265894,
           166.08351595845755,
           166.5641658142562,
           167.04481567005485,
           167.52546552585346,
           168.0061153816521,
           168.48676523745073,
           168.96741509324937,
           169.448064949048
          ],
          [
           161.78395076583237,
           162.264600621631,
           162.74525047742964,
           163.22590033322825,
           163.7065501890269,
           164.18720004482554,
           164.66784990062416,
           165.1484997564228,
           165.62914961222143,
           166.10979946802007,
           166.5904493238187,
           167.07109917961733,
           167.55174903541595,
           168.0323988912146,
           168.51304874701322,
           168.99369860281186,
           169.47434845861048,
           169.95499831440912,
           170.43564817020777,
           170.9162980260064
          ],
          [
           163.25218384279074,
           163.7328336985894,
           164.213483554388,
           164.69413341018665,
           165.17478326598527,
           165.65543312178391,
           166.13608297758253,
           166.61673283338118,
           167.09738268917982,
           167.57803254497844,
           168.0586824007771,
           168.5393322565757,
           169.01998211237435,
           169.50063196817297,
           169.9812818239716,
           170.46193167977023,
           170.94258153556888,
           171.4232313913675,
           171.90388124716614,
           172.38453110296476
          ],
          [
           164.72041691974914,
           165.2010667755478,
           165.6817166313464,
           166.16236648714505,
           166.64301634294367,
           167.1236661987423,
           167.60431605454093,
           168.08496591033958,
           168.5656157661382,
           169.04626562193684,
           169.52691547773546,
           170.0075653335341,
           170.48821518933272,
           170.96886504513137,
           171.44951490093,
           171.93016475672863,
           172.41081461252728,
           172.8914644683259,
           173.37211432412454,
           173.85276417992316
          ],
          [
           166.18864999670754,
           166.66929985250616,
           167.1499497083048,
           167.63059956410342,
           168.11124941990207,
           168.5918992757007,
           169.07254913149933,
           169.55319898729798,
           170.0338488430966,
           170.51449869889524,
           170.99514855469386,
           171.4757984104925,
           171.95644826629112,
           172.43709812208976,
           172.91774797788838,
           173.39839783368703,
           173.87904768948565,
           174.3596975452843,
           174.84034740108294,
           175.32099725688155
          ],
          [
           167.6568830736659,
           168.13753292946456,
           168.61818278526317,
           169.09883264106182,
           169.57948249686044,
           170.06013235265908,
           170.5407822084577,
           171.02143206425635,
           171.502081920055,
           171.9827317758536,
           172.46338163165225,
           172.94403148745087,
           173.42468134324952,
           173.90533119904813,
           174.38598105484678,
           174.8666309106454,
           175.34728076644404,
           175.82793062224266,
           176.3085804780413,
           176.78923033383992
          ],
          [
           169.1251161506243,
           169.60576600642295,
           170.08641586222157,
           170.56706571802022,
           171.04771557381883,
           171.52836542961748,
           172.0090152854161,
           172.48966514121474,
           172.97031499701336,
           173.450964852812,
           173.93161470861062,
           174.41226456440927,
           174.8929144202079,
           175.37356427600653,
           175.85421413180518,
           176.3348639876038,
           176.81551384340244,
           177.29616369920106,
           177.7768135549997,
           178.25746341079832
          ],
          [
           170.5933492275827,
           171.07399908338132,
           171.55464893917997,
           172.0352987949786,
           172.51594865077723,
           172.99659850657588,
           173.4772483623745,
           173.95789821817314,
           174.43854807397176,
           174.9191979297704,
           175.39984778556902,
           175.88049764136767,
           176.3611474971663,
           176.84179735296493,
           177.32244720876355,
           177.8030970645622,
           178.2837469203608,
           178.76439677615946,
           179.24504663195808,
           179.72569648775672
          ],
          [
           172.06158230454108,
           172.54223216033972,
           173.02288201613834,
           173.50353187193699,
           173.9841817277356,
           174.46483158353425,
           174.94548143933287,
           175.4261312951315,
           175.90678115093016,
           176.38743100672878,
           176.86808086252742,
           177.34873071832604,
           177.82938057412468,
           178.3100304299233,
           178.79068028572195,
           179.27133014152056,
           179.7519799973192,
           180.23262985311783,
           180.71327970891647,
           181.1939295647151
          ],
          [
           173.52981538149947,
           174.01046523729812,
           174.49111509309674,
           174.97176494889538,
           175.452414804694,
           175.93306466049265,
           176.41371451629126,
           176.8943643720899,
           177.37501422788853,
           177.85566408368717,
           178.3363139394858,
           178.81696379528444,
           179.29761365108305,
           179.7782635068817,
           180.25891336268035,
           180.73956321847896,
           181.2202130742776,
           181.70086293007623,
           182.18151278587487,
           182.6621626416735
          ],
          [
           174.99804845845787,
           175.4786983142565,
           175.95934817005514,
           176.43999802585375,
           176.9206478816524,
           177.40129773745105,
           177.88194759324966,
           178.3625974490483,
           178.84324730484693,
           179.32389716064557,
           179.8045470164442,
           180.28519687224284,
           180.76584672804145,
           181.2464965838401,
           181.72714643963872,
           182.20779629543736,
           182.68844615123598,
           183.16909600703463,
           183.64974586283324,
           184.1303957186319
          ],
          [
           176.46628153541624,
           176.9469313912149,
           177.4275812470135,
           177.90823110281215,
           178.38888095861077,
           178.86953081440942,
           179.35018067020803,
           179.83083052600668,
           180.31148038180532,
           180.79213023760394,
           181.2727800934026,
           181.7534299492012,
           182.23407980499985,
           182.71472966079847,
           183.19537951659711,
           183.67602937239573,
           184.15667922819438,
           184.637329083993,
           185.11797893979164,
           185.59862879559026
          ],
          [
           177.93451461237464,
           178.41516446817326,
           178.8958143239719,
           179.37646417977052,
           179.85711403556917,
           180.33776389136779,
           180.81841374716643,
           181.29906360296505,
           181.7797134587637,
           182.2603633145623,
           182.74101317036096,
           183.22166302615958,
           183.70231288195822,
           184.18296273775684,
           184.66361259355548,
           185.14426244935413,
           185.62491230515275,
           186.1055621609514,
           186.58621201675,
           187.06686187254866
          ],
          [
           179.402747689333,
           179.88339754513166,
           180.36404740093027,
           180.84469725672892,
           181.32534711252757,
           181.80599696832618,
           182.28664682412483,
           182.76729667992345,
           183.2479465357221,
           183.7285963915207,
           184.20924624731936,
           184.68989610311797,
           185.17054595891662,
           185.65119581471524,
           186.13184567051388,
           186.6124955263125,
           187.09314538211115,
           187.5737952379098,
           188.0544450937084,
           188.53509494950706
          ],
          [
           180.8709807662914,
           181.35163062209006,
           181.83228047788867,
           182.31293033368732,
           182.79358018948594,
           183.27423004528458,
           183.7548799010832,
           184.23552975688185,
           184.7161796126805,
           185.1968294684791,
           185.67747932427775,
           186.15812918007637,
           186.63877903587502,
           187.11942889167364,
           187.60007874747228,
           188.0807286032709,
           188.56137845906954,
           189.04202831486816,
           189.5226781706668,
           190.00332802646543
          ]
         ]
        }
       ],
       "layout": {
        "scene": {
         "xaxis": {
          "title": {
           "text": "Ancho"
          }
         },
         "yaxis": {
          "title": {
           "text": "Pie"
          }
         },
         "zaxis": {
          "title": {
           "text": "Altura"
          }
         }
        },
        "template": {
         "data": {
          "bar": [
           {
            "error_x": {
             "color": "#2a3f5f"
            },
            "error_y": {
             "color": "#2a3f5f"
            },
            "marker": {
             "line": {
              "color": "#E5ECF6",
              "width": 0.5
             },
             "pattern": {
              "fillmode": "overlay",
              "size": 10,
              "solidity": 0.2
             }
            },
            "type": "bar"
           }
          ],
          "barpolar": [
           {
            "marker": {
             "line": {
              "color": "#E5ECF6",
              "width": 0.5
             },
             "pattern": {
              "fillmode": "overlay",
              "size": 10,
              "solidity": 0.2
             }
            },
            "type": "barpolar"
           }
          ],
          "carpet": [
           {
            "aaxis": {
             "endlinecolor": "#2a3f5f",
             "gridcolor": "white",
             "linecolor": "white",
             "minorgridcolor": "white",
             "startlinecolor": "#2a3f5f"
            },
            "baxis": {
             "endlinecolor": "#2a3f5f",
             "gridcolor": "white",
             "linecolor": "white",
             "minorgridcolor": "white",
             "startlinecolor": "#2a3f5f"
            },
            "type": "carpet"
           }
          ],
          "choropleth": [
           {
            "colorbar": {
             "outlinewidth": 0,
             "ticks": ""
            },
            "type": "choropleth"
           }
          ],
          "contour": [
           {
            "colorbar": {
             "outlinewidth": 0,
             "ticks": ""
            },
            "colorscale": [
             [
              0,
              "#0d0887"
             ],
             [
              0.1111111111111111,
              "#46039f"
             ],
             [
              0.2222222222222222,
              "#7201a8"
             ],
             [
              0.3333333333333333,
              "#9c179e"
             ],
             [
              0.4444444444444444,
              "#bd3786"
             ],
             [
              0.5555555555555556,
              "#d8576b"
             ],
             [
              0.6666666666666666,
              "#ed7953"
             ],
             [
              0.7777777777777778,
              "#fb9f3a"
             ],
             [
              0.8888888888888888,
              "#fdca26"
             ],
             [
              1,
              "#f0f921"
             ]
            ],
            "type": "contour"
           }
          ],
          "contourcarpet": [
           {
            "colorbar": {
             "outlinewidth": 0,
             "ticks": ""
            },
            "type": "contourcarpet"
           }
          ],
          "heatmap": [
           {
            "colorbar": {
             "outlinewidth": 0,
             "ticks": ""
            },
            "colorscale": [
             [
              0,
              "#0d0887"
             ],
             [
              0.1111111111111111,
              "#46039f"
             ],
             [
              0.2222222222222222,
              "#7201a8"
             ],
             [
              0.3333333333333333,
              "#9c179e"
             ],
             [
              0.4444444444444444,
              "#bd3786"
             ],
             [
              0.5555555555555556,
              "#d8576b"
             ],
             [
              0.6666666666666666,
              "#ed7953"
             ],
             [
              0.7777777777777778,
              "#fb9f3a"
             ],
             [
              0.8888888888888888,
              "#fdca26"
             ],
             [
              1,
              "#f0f921"
             ]
            ],
            "type": "heatmap"
           }
          ],
          "heatmapgl": [
           {
            "colorbar": {
             "outlinewidth": 0,
             "ticks": ""
            },
            "colorscale": [
             [
              0,
              "#0d0887"
             ],
             [
              0.1111111111111111,
              "#46039f"
             ],
             [
              0.2222222222222222,
              "#7201a8"
             ],
             [
              0.3333333333333333,
              "#9c179e"
             ],
             [
              0.4444444444444444,
              "#bd3786"
             ],
             [
              0.5555555555555556,
              "#d8576b"
             ],
             [
              0.6666666666666666,
              "#ed7953"
             ],
             [
              0.7777777777777778,
              "#fb9f3a"
             ],
             [
              0.8888888888888888,
              "#fdca26"
             ],
             [
              1,
              "#f0f921"
             ]
            ],
            "type": "heatmapgl"
           }
          ],
          "histogram": [
           {
            "marker": {
             "pattern": {
              "fillmode": "overlay",
              "size": 10,
              "solidity": 0.2
             }
            },
            "type": "histogram"
           }
          ],
          "histogram2d": [
           {
            "colorbar": {
             "outlinewidth": 0,
             "ticks": ""
            },
            "colorscale": [
             [
              0,
              "#0d0887"
             ],
             [
              0.1111111111111111,
              "#46039f"
             ],
             [
              0.2222222222222222,
              "#7201a8"
             ],
             [
              0.3333333333333333,
              "#9c179e"
             ],
             [
              0.4444444444444444,
              "#bd3786"
             ],
             [
              0.5555555555555556,
              "#d8576b"
             ],
             [
              0.6666666666666666,
              "#ed7953"
             ],
             [
              0.7777777777777778,
              "#fb9f3a"
             ],
             [
              0.8888888888888888,
              "#fdca26"
             ],
             [
              1,
              "#f0f921"
             ]
            ],
            "type": "histogram2d"
           }
          ],
          "histogram2dcontour": [
           {
            "colorbar": {
             "outlinewidth": 0,
             "ticks": ""
            },
            "colorscale": [
             [
              0,
              "#0d0887"
             ],
             [
              0.1111111111111111,
              "#46039f"
             ],
             [
              0.2222222222222222,
              "#7201a8"
             ],
             [
              0.3333333333333333,
              "#9c179e"
             ],
             [
              0.4444444444444444,
              "#bd3786"
             ],
             [
              0.5555555555555556,
              "#d8576b"
             ],
             [
              0.6666666666666666,
              "#ed7953"
             ],
             [
              0.7777777777777778,
              "#fb9f3a"
             ],
             [
              0.8888888888888888,
              "#fdca26"
             ],
             [
              1,
              "#f0f921"
             ]
            ],
            "type": "histogram2dcontour"
           }
          ],
          "mesh3d": [
           {
            "colorbar": {
             "outlinewidth": 0,
             "ticks": ""
            },
            "type": "mesh3d"
           }
          ],
          "parcoords": [
           {
            "line": {
             "colorbar": {
              "outlinewidth": 0,
              "ticks": ""
             }
            },
            "type": "parcoords"
           }
          ],
          "pie": [
           {
            "automargin": true,
            "type": "pie"
           }
          ],
          "scatter": [
           {
            "fillpattern": {
             "fillmode": "overlay",
             "size": 10,
             "solidity": 0.2
            },
            "type": "scatter"
           }
          ],
          "scatter3d": [
           {
            "line": {
             "colorbar": {
              "outlinewidth": 0,
              "ticks": ""
             }
            },
            "marker": {
             "colorbar": {
              "outlinewidth": 0,
              "ticks": ""
             }
            },
            "type": "scatter3d"
           }
          ],
          "scattercarpet": [
           {
            "marker": {
             "colorbar": {
              "outlinewidth": 0,
              "ticks": ""
             }
            },
            "type": "scattercarpet"
           }
          ],
          "scattergeo": [
           {
            "marker": {
             "colorbar": {
              "outlinewidth": 0,
              "ticks": ""
             }
            },
            "type": "scattergeo"
           }
          ],
          "scattergl": [
           {
            "marker": {
             "colorbar": {
              "outlinewidth": 0,
              "ticks": ""
             }
            },
            "type": "scattergl"
           }
          ],
          "scattermapbox": [
           {
            "marker": {
             "colorbar": {
              "outlinewidth": 0,
              "ticks": ""
             }
            },
            "type": "scattermapbox"
           }
          ],
          "scatterpolar": [
           {
            "marker": {
             "colorbar": {
              "outlinewidth": 0,
              "ticks": ""
             }
            },
            "type": "scatterpolar"
           }
          ],
          "scatterpolargl": [
           {
            "marker": {
             "colorbar": {
              "outlinewidth": 0,
              "ticks": ""
             }
            },
            "type": "scatterpolargl"
           }
          ],
          "scatterternary": [
           {
            "marker": {
             "colorbar": {
              "outlinewidth": 0,
              "ticks": ""
             }
            },
            "type": "scatterternary"
           }
          ],
          "surface": [
           {
            "colorbar": {
             "outlinewidth": 0,
             "ticks": ""
            },
            "colorscale": [
             [
              0,
              "#0d0887"
             ],
             [
              0.1111111111111111,
              "#46039f"
             ],
             [
              0.2222222222222222,
              "#7201a8"
             ],
             [
              0.3333333333333333,
              "#9c179e"
             ],
             [
              0.4444444444444444,
              "#bd3786"
             ],
             [
              0.5555555555555556,
              "#d8576b"
             ],
             [
              0.6666666666666666,
              "#ed7953"
             ],
             [
              0.7777777777777778,
              "#fb9f3a"
             ],
             [
              0.8888888888888888,
              "#fdca26"
             ],
             [
              1,
              "#f0f921"
             ]
            ],
            "type": "surface"
           }
          ],
          "table": [
           {
            "cells": {
             "fill": {
              "color": "#EBF0F8"
             },
             "line": {
              "color": "white"
             }
            },
            "header": {
             "fill": {
              "color": "#C8D4E3"
             },
             "line": {
              "color": "white"
             }
            },
            "type": "table"
           }
          ]
         },
         "layout": {
          "annotationdefaults": {
           "arrowcolor": "#2a3f5f",
           "arrowhead": 0,
           "arrowwidth": 1
          },
          "autotypenumbers": "strict",
          "coloraxis": {
           "colorbar": {
            "outlinewidth": 0,
            "ticks": ""
           }
          },
          "colorscale": {
           "diverging": [
            [
             0,
             "#8e0152"
            ],
            [
             0.1,
             "#c51b7d"
            ],
            [
             0.2,
             "#de77ae"
            ],
            [
             0.3,
             "#f1b6da"
            ],
            [
             0.4,
             "#fde0ef"
            ],
            [
             0.5,
             "#f7f7f7"
            ],
            [
             0.6,
             "#e6f5d0"
            ],
            [
             0.7,
             "#b8e186"
            ],
            [
             0.8,
             "#7fbc41"
            ],
            [
             0.9,
             "#4d9221"
            ],
            [
             1,
             "#276419"
            ]
           ],
           "sequential": [
            [
             0,
             "#0d0887"
            ],
            [
             0.1111111111111111,
             "#46039f"
            ],
            [
             0.2222222222222222,
             "#7201a8"
            ],
            [
             0.3333333333333333,
             "#9c179e"
            ],
            [
             0.4444444444444444,
             "#bd3786"
            ],
            [
             0.5555555555555556,
             "#d8576b"
            ],
            [
             0.6666666666666666,
             "#ed7953"
            ],
            [
             0.7777777777777778,
             "#fb9f3a"
            ],
            [
             0.8888888888888888,
             "#fdca26"
            ],
            [
             1,
             "#f0f921"
            ]
           ],
           "sequentialminus": [
            [
             0,
             "#0d0887"
            ],
            [
             0.1111111111111111,
             "#46039f"
            ],
            [
             0.2222222222222222,
             "#7201a8"
            ],
            [
             0.3333333333333333,
             "#9c179e"
            ],
            [
             0.4444444444444444,
             "#bd3786"
            ],
            [
             0.5555555555555556,
             "#d8576b"
            ],
            [
             0.6666666666666666,
             "#ed7953"
            ],
            [
             0.7777777777777778,
             "#fb9f3a"
            ],
            [
             0.8888888888888888,
             "#fdca26"
            ],
            [
             1,
             "#f0f921"
            ]
           ]
          },
          "colorway": [
           "#636efa",
           "#EF553B",
           "#00cc96",
           "#ab63fa",
           "#FFA15A",
           "#19d3f3",
           "#FF6692",
           "#B6E880",
           "#FF97FF",
           "#FECB52"
          ],
          "font": {
           "color": "#2a3f5f"
          },
          "geo": {
           "bgcolor": "white",
           "lakecolor": "white",
           "landcolor": "#E5ECF6",
           "showlakes": true,
           "showland": true,
           "subunitcolor": "white"
          },
          "hoverlabel": {
           "align": "left"
          },
          "hovermode": "closest",
          "mapbox": {
           "style": "light"
          },
          "paper_bgcolor": "white",
          "plot_bgcolor": "#E5ECF6",
          "polar": {
           "angularaxis": {
            "gridcolor": "white",
            "linecolor": "white",
            "ticks": ""
           },
           "bgcolor": "#E5ECF6",
           "radialaxis": {
            "gridcolor": "white",
            "linecolor": "white",
            "ticks": ""
           }
          },
          "scene": {
           "xaxis": {
            "backgroundcolor": "#E5ECF6",
            "gridcolor": "white",
            "gridwidth": 2,
            "linecolor": "white",
            "showbackground": true,
            "ticks": "",
            "zerolinecolor": "white"
           },
           "yaxis": {
            "backgroundcolor": "#E5ECF6",
            "gridcolor": "white",
            "gridwidth": 2,
            "linecolor": "white",
            "showbackground": true,
            "ticks": "",
            "zerolinecolor": "white"
           },
           "zaxis": {
            "backgroundcolor": "#E5ECF6",
            "gridcolor": "white",
            "gridwidth": 2,
            "linecolor": "white",
            "showbackground": true,
            "ticks": "",
            "zerolinecolor": "white"
           }
          },
          "shapedefaults": {
           "line": {
            "color": "#2a3f5f"
           }
          },
          "ternary": {
           "aaxis": {
            "gridcolor": "white",
            "linecolor": "white",
            "ticks": ""
           },
           "baxis": {
            "gridcolor": "white",
            "linecolor": "white",
            "ticks": ""
           },
           "bgcolor": "#E5ECF6",
           "caxis": {
            "gridcolor": "white",
            "linecolor": "white",
            "ticks": ""
           }
          },
          "title": {
           "x": 0.05
          },
          "xaxis": {
           "automargin": true,
           "gridcolor": "white",
           "linecolor": "white",
           "ticks": "",
           "title": {
            "standoff": 15
           },
           "zerolinecolor": "white",
           "zerolinewidth": 2
          },
          "yaxis": {
           "automargin": true,
           "gridcolor": "white",
           "linecolor": "white",
           "ticks": "",
           "title": {
            "standoff": 15
           },
           "zerolinecolor": "white",
           "zerolinewidth": 2
          }
         }
        },
        "title": {
         "text": "ITESO RIGHT<br>R2: 0.8407311950548979 RMSE: 3.3943024567198297"
        }
       }
      }
     },
     "metadata": {},
     "output_type": "display_data"
    }
   ],
   "source": [
    "# Definir rangos para las variables independientes\n",
    "x1_range = np.linspace(min(x_train_right['width']), max(x_train_right['width']), 20)\n",
    "x2_range = np.linspace(min(x_train_right['shoe_size']), max(x_train_right['shoe_size']), 20)\n",
    "x1_mesh, x2_mesh = np.meshgrid(x1_range, x2_range)\n",
    "\n",
    "# Escalar el meshgrid para predicción\n",
    "x_mesh_scaled = ss_right.transform(np.vstack((x1_mesh.ravel(), x2_mesh.ravel())).T)\n",
    "\n",
    "# Predecir los valores con el modelo escalado\n",
    "y_mesh_scaled = rg_r.predict(x_mesh_scaled)\n",
    "\n",
    "# Crear scatterplot 3D de los puntos reales\n",
    "scatter = go.Scatter3d(\n",
    "    x=x_test_right['width'], y=x_test_right['shoe_size'], z=y_test_right,\n",
    "    mode='markers',\n",
    "    marker=dict(size=8, color='red', opacity=0.7)\n",
    ")\n",
    "\n",
    "# Crear el plano de regresión\n",
    "surface = go.Surface(\n",
    "    x=x1_mesh, y=x2_mesh, z=y_mesh_scaled.reshape(x1_mesh.shape),\n",
    "    colorscale='Viridis', opacity=0.5\n",
    ")\n",
    "\n",
    "# Configuración del layout\n",
    "layout = go.Layout(\n",
    "    title=f\"ITESO RIGHT<br>R2: {r2_score(y_test_right, r_pred_right)} RMSE: {root_mean_squared_error(y_test_right, r_pred_right)}\",\n",
    "    scene=dict(\n",
    "        xaxis_title='Ancho',\n",
    "        yaxis_title='Pie',\n",
    "        zaxis_title='Altura'\n",
    "    )\n",
    ")\n",
    "\n",
    "# Crear la figura\n",
    "fig = go.Figure(data=[scatter, surface], layout=layout)\n",
    "\n",
    "# Mostrar la figura interactiva\n",
    "fig.show()"
   ]
  },
  {
   "cell_type": "markdown",
   "metadata": {},
   "source": [
    "## Left model\n",
    "\n",
    "Modelo que predice mejor los valores del lado izquierdo"
   ]
  },
  {
   "cell_type": "code",
   "execution_count": 595,
   "metadata": {},
   "outputs": [
    {
     "name": "stdout",
     "output_type": "stream",
     "text": [
      "R2: 0.8065313268362285 RMSE: 3.2950606099508533\n"
     ]
    }
   ],
   "source": [
    "rg_l = Ridge(alpha = 10)\n",
    "rg_l.fit(X_train_s_left, y_train_left)\n",
    "r_pred_left = rg_l.predict(X_test_s_left)\n",
    "print(f\"R2: {r2_score(y_test_left, r_pred_left)} RMSE: {root_mean_squared_error(y_test_left, r_pred_left)}\")"
   ]
  },
  {
   "cell_type": "code",
   "execution_count": 596,
   "metadata": {},
   "outputs": [
    {
     "name": "stdout",
     "output_type": "stream",
     "text": [
      "Pendientes: [2.12385576 6.54602641]\n",
      "Intercepto: 163.4295302013423\n"
     ]
    }
   ],
   "source": [
    "print(f\"Pendientes: {rg_l.coef_}\")\n",
    "print(f\"Intercepto: {rg_l.intercept_}\")"
   ]
  },
  {
   "cell_type": "code",
   "execution_count": 597,
   "metadata": {},
   "outputs": [
    {
     "name": "stderr",
     "output_type": "stream",
     "text": [
      "c:\\Users\\Roi_f\\anaconda3\\envs\\personal\\Lib\\site-packages\\sklearn\\base.py:493: UserWarning:\n",
      "\n",
      "X does not have valid feature names, but StandardScaler was fitted with feature names\n",
      "\n"
     ]
    }
   ],
   "source": [
    "values_para_left = ss_left.transform([[36,22.5]])"
   ]
  },
  {
   "cell_type": "code",
   "execution_count": 598,
   "metadata": {},
   "outputs": [
    {
     "data": {
      "text/plain": [
       "array([154.34273007])"
      ]
     },
     "execution_count": 598,
     "metadata": {},
     "output_type": "execute_result"
    }
   ],
   "source": [
    "rg_l.predict(values_para_left)"
   ]
  },
  {
   "cell_type": "code",
   "execution_count": 599,
   "metadata": {},
   "outputs": [
    {
     "name": "stderr",
     "output_type": "stream",
     "text": [
      "c:\\Users\\Roi_f\\anaconda3\\envs\\personal\\Lib\\site-packages\\sklearn\\base.py:493: UserWarning:\n",
      "\n",
      "X does not have valid feature names, but StandardScaler was fitted with feature names\n",
      "\n"
     ]
    },
    {
     "data": {
      "application/vnd.plotly.v1+json": {
       "config": {
        "plotlyServerURL": "https://plot.ly"
       },
       "data": [
        {
         "marker": {
          "color": "red",
          "opacity": 0.7,
          "size": 8
         },
         "mode": "markers",
         "type": "scatter3d",
         "x": [
          38,
          50,
          47,
          45,
          43,
          42,
          38,
          38,
          36,
          42,
          42,
          39,
          43,
          36,
          36,
          39,
          43,
          36,
          43,
          49,
          42,
          43,
          41,
          40,
          45,
          40,
          47,
          48,
          42,
          42,
          39,
          42,
          41,
          61,
          39,
          49,
          34,
          45
         ],
         "y": [
          23,
          28,
          26,
          25,
          25,
          24,
          23,
          23,
          23,
          24,
          26,
          23,
          24,
          22,
          22,
          24.5,
          24,
          22.5,
          28,
          26,
          27,
          24,
          23.5,
          24,
          27.5,
          23,
          27,
          27,
          28,
          24,
          23,
          24,
          24,
          26,
          23,
          27,
          22,
          25
         ],
         "z": [
          156,
          173,
          168,
          164,
          163,
          160,
          156,
          157,
          164,
          160,
          170,
          158,
          163,
          154,
          154,
          166,
          162,
          153,
          182,
          169,
          177,
          163,
          153,
          159,
          172,
          158,
          168,
          172,
          177,
          161,
          158,
          160,
          159,
          168,
          158,
          176,
          152,
          164
         ]
        },
        {
         "colorscale": [
          [
           0,
           "#440154"
          ],
          [
           0.1111111111111111,
           "#482878"
          ],
          [
           0.2222222222222222,
           "#3e4989"
          ],
          [
           0.3333333333333333,
           "#31688e"
          ],
          [
           0.4444444444444444,
           "#26828e"
          ],
          [
           0.5555555555555556,
           "#1f9e89"
          ],
          [
           0.6666666666666666,
           "#35b779"
          ],
          [
           0.7777777777777778,
           "#6ece58"
          ],
          [
           0.8888888888888888,
           "#b5de2b"
          ],
          [
           1,
           "#fde725"
          ]
         ],
         "opacity": 0.5,
         "type": "surface",
         "x": [
          [
           33,
           34.1578947368421,
           35.31578947368421,
           36.473684210526315,
           37.631578947368425,
           38.78947368421053,
           39.94736842105263,
           41.10526315789474,
           42.26315789473684,
           43.421052631578945,
           44.578947368421055,
           45.73684210526316,
           46.89473684210526,
           48.05263157894737,
           49.21052631578947,
           50.368421052631575,
           51.526315789473685,
           52.684210526315795,
           53.8421052631579,
           55
          ],
          [
           33,
           34.1578947368421,
           35.31578947368421,
           36.473684210526315,
           37.631578947368425,
           38.78947368421053,
           39.94736842105263,
           41.10526315789474,
           42.26315789473684,
           43.421052631578945,
           44.578947368421055,
           45.73684210526316,
           46.89473684210526,
           48.05263157894737,
           49.21052631578947,
           50.368421052631575,
           51.526315789473685,
           52.684210526315795,
           53.8421052631579,
           55
          ],
          [
           33,
           34.1578947368421,
           35.31578947368421,
           36.473684210526315,
           37.631578947368425,
           38.78947368421053,
           39.94736842105263,
           41.10526315789474,
           42.26315789473684,
           43.421052631578945,
           44.578947368421055,
           45.73684210526316,
           46.89473684210526,
           48.05263157894737,
           49.21052631578947,
           50.368421052631575,
           51.526315789473685,
           52.684210526315795,
           53.8421052631579,
           55
          ],
          [
           33,
           34.1578947368421,
           35.31578947368421,
           36.473684210526315,
           37.631578947368425,
           38.78947368421053,
           39.94736842105263,
           41.10526315789474,
           42.26315789473684,
           43.421052631578945,
           44.578947368421055,
           45.73684210526316,
           46.89473684210526,
           48.05263157894737,
           49.21052631578947,
           50.368421052631575,
           51.526315789473685,
           52.684210526315795,
           53.8421052631579,
           55
          ],
          [
           33,
           34.1578947368421,
           35.31578947368421,
           36.473684210526315,
           37.631578947368425,
           38.78947368421053,
           39.94736842105263,
           41.10526315789474,
           42.26315789473684,
           43.421052631578945,
           44.578947368421055,
           45.73684210526316,
           46.89473684210526,
           48.05263157894737,
           49.21052631578947,
           50.368421052631575,
           51.526315789473685,
           52.684210526315795,
           53.8421052631579,
           55
          ],
          [
           33,
           34.1578947368421,
           35.31578947368421,
           36.473684210526315,
           37.631578947368425,
           38.78947368421053,
           39.94736842105263,
           41.10526315789474,
           42.26315789473684,
           43.421052631578945,
           44.578947368421055,
           45.73684210526316,
           46.89473684210526,
           48.05263157894737,
           49.21052631578947,
           50.368421052631575,
           51.526315789473685,
           52.684210526315795,
           53.8421052631579,
           55
          ],
          [
           33,
           34.1578947368421,
           35.31578947368421,
           36.473684210526315,
           37.631578947368425,
           38.78947368421053,
           39.94736842105263,
           41.10526315789474,
           42.26315789473684,
           43.421052631578945,
           44.578947368421055,
           45.73684210526316,
           46.89473684210526,
           48.05263157894737,
           49.21052631578947,
           50.368421052631575,
           51.526315789473685,
           52.684210526315795,
           53.8421052631579,
           55
          ],
          [
           33,
           34.1578947368421,
           35.31578947368421,
           36.473684210526315,
           37.631578947368425,
           38.78947368421053,
           39.94736842105263,
           41.10526315789474,
           42.26315789473684,
           43.421052631578945,
           44.578947368421055,
           45.73684210526316,
           46.89473684210526,
           48.05263157894737,
           49.21052631578947,
           50.368421052631575,
           51.526315789473685,
           52.684210526315795,
           53.8421052631579,
           55
          ],
          [
           33,
           34.1578947368421,
           35.31578947368421,
           36.473684210526315,
           37.631578947368425,
           38.78947368421053,
           39.94736842105263,
           41.10526315789474,
           42.26315789473684,
           43.421052631578945,
           44.578947368421055,
           45.73684210526316,
           46.89473684210526,
           48.05263157894737,
           49.21052631578947,
           50.368421052631575,
           51.526315789473685,
           52.684210526315795,
           53.8421052631579,
           55
          ],
          [
           33,
           34.1578947368421,
           35.31578947368421,
           36.473684210526315,
           37.631578947368425,
           38.78947368421053,
           39.94736842105263,
           41.10526315789474,
           42.26315789473684,
           43.421052631578945,
           44.578947368421055,
           45.73684210526316,
           46.89473684210526,
           48.05263157894737,
           49.21052631578947,
           50.368421052631575,
           51.526315789473685,
           52.684210526315795,
           53.8421052631579,
           55
          ],
          [
           33,
           34.1578947368421,
           35.31578947368421,
           36.473684210526315,
           37.631578947368425,
           38.78947368421053,
           39.94736842105263,
           41.10526315789474,
           42.26315789473684,
           43.421052631578945,
           44.578947368421055,
           45.73684210526316,
           46.89473684210526,
           48.05263157894737,
           49.21052631578947,
           50.368421052631575,
           51.526315789473685,
           52.684210526315795,
           53.8421052631579,
           55
          ],
          [
           33,
           34.1578947368421,
           35.31578947368421,
           36.473684210526315,
           37.631578947368425,
           38.78947368421053,
           39.94736842105263,
           41.10526315789474,
           42.26315789473684,
           43.421052631578945,
           44.578947368421055,
           45.73684210526316,
           46.89473684210526,
           48.05263157894737,
           49.21052631578947,
           50.368421052631575,
           51.526315789473685,
           52.684210526315795,
           53.8421052631579,
           55
          ],
          [
           33,
           34.1578947368421,
           35.31578947368421,
           36.473684210526315,
           37.631578947368425,
           38.78947368421053,
           39.94736842105263,
           41.10526315789474,
           42.26315789473684,
           43.421052631578945,
           44.578947368421055,
           45.73684210526316,
           46.89473684210526,
           48.05263157894737,
           49.21052631578947,
           50.368421052631575,
           51.526315789473685,
           52.684210526315795,
           53.8421052631579,
           55
          ],
          [
           33,
           34.1578947368421,
           35.31578947368421,
           36.473684210526315,
           37.631578947368425,
           38.78947368421053,
           39.94736842105263,
           41.10526315789474,
           42.26315789473684,
           43.421052631578945,
           44.578947368421055,
           45.73684210526316,
           46.89473684210526,
           48.05263157894737,
           49.21052631578947,
           50.368421052631575,
           51.526315789473685,
           52.684210526315795,
           53.8421052631579,
           55
          ],
          [
           33,
           34.1578947368421,
           35.31578947368421,
           36.473684210526315,
           37.631578947368425,
           38.78947368421053,
           39.94736842105263,
           41.10526315789474,
           42.26315789473684,
           43.421052631578945,
           44.578947368421055,
           45.73684210526316,
           46.89473684210526,
           48.05263157894737,
           49.21052631578947,
           50.368421052631575,
           51.526315789473685,
           52.684210526315795,
           53.8421052631579,
           55
          ],
          [
           33,
           34.1578947368421,
           35.31578947368421,
           36.473684210526315,
           37.631578947368425,
           38.78947368421053,
           39.94736842105263,
           41.10526315789474,
           42.26315789473684,
           43.421052631578945,
           44.578947368421055,
           45.73684210526316,
           46.89473684210526,
           48.05263157894737,
           49.21052631578947,
           50.368421052631575,
           51.526315789473685,
           52.684210526315795,
           53.8421052631579,
           55
          ],
          [
           33,
           34.1578947368421,
           35.31578947368421,
           36.473684210526315,
           37.631578947368425,
           38.78947368421053,
           39.94736842105263,
           41.10526315789474,
           42.26315789473684,
           43.421052631578945,
           44.578947368421055,
           45.73684210526316,
           46.89473684210526,
           48.05263157894737,
           49.21052631578947,
           50.368421052631575,
           51.526315789473685,
           52.684210526315795,
           53.8421052631579,
           55
          ],
          [
           33,
           34.1578947368421,
           35.31578947368421,
           36.473684210526315,
           37.631578947368425,
           38.78947368421053,
           39.94736842105263,
           41.10526315789474,
           42.26315789473684,
           43.421052631578945,
           44.578947368421055,
           45.73684210526316,
           46.89473684210526,
           48.05263157894737,
           49.21052631578947,
           50.368421052631575,
           51.526315789473685,
           52.684210526315795,
           53.8421052631579,
           55
          ],
          [
           33,
           34.1578947368421,
           35.31578947368421,
           36.473684210526315,
           37.631578947368425,
           38.78947368421053,
           39.94736842105263,
           41.10526315789474,
           42.26315789473684,
           43.421052631578945,
           44.578947368421055,
           45.73684210526316,
           46.89473684210526,
           48.05263157894737,
           49.21052631578947,
           50.368421052631575,
           51.526315789473685,
           52.684210526315795,
           53.8421052631579,
           55
          ],
          [
           33,
           34.1578947368421,
           35.31578947368421,
           36.473684210526315,
           37.631578947368425,
           38.78947368421053,
           39.94736842105263,
           41.10526315789474,
           42.26315789473684,
           43.421052631578945,
           44.578947368421055,
           45.73684210526316,
           46.89473684210526,
           48.05263157894737,
           49.21052631578947,
           50.368421052631575,
           51.526315789473685,
           52.684210526315795,
           53.8421052631579,
           55
          ]
         ],
         "y": [
          [
           21,
           21,
           21,
           21,
           21,
           21,
           21,
           21,
           21,
           21,
           21,
           21,
           21,
           21,
           21,
           21,
           21,
           21,
           21,
           21
          ],
          [
           21.473684210526315,
           21.473684210526315,
           21.473684210526315,
           21.473684210526315,
           21.473684210526315,
           21.473684210526315,
           21.473684210526315,
           21.473684210526315,
           21.473684210526315,
           21.473684210526315,
           21.473684210526315,
           21.473684210526315,
           21.473684210526315,
           21.473684210526315,
           21.473684210526315,
           21.473684210526315,
           21.473684210526315,
           21.473684210526315,
           21.473684210526315,
           21.473684210526315
          ],
          [
           21.94736842105263,
           21.94736842105263,
           21.94736842105263,
           21.94736842105263,
           21.94736842105263,
           21.94736842105263,
           21.94736842105263,
           21.94736842105263,
           21.94736842105263,
           21.94736842105263,
           21.94736842105263,
           21.94736842105263,
           21.94736842105263,
           21.94736842105263,
           21.94736842105263,
           21.94736842105263,
           21.94736842105263,
           21.94736842105263,
           21.94736842105263,
           21.94736842105263
          ],
          [
           22.42105263157895,
           22.42105263157895,
           22.42105263157895,
           22.42105263157895,
           22.42105263157895,
           22.42105263157895,
           22.42105263157895,
           22.42105263157895,
           22.42105263157895,
           22.42105263157895,
           22.42105263157895,
           22.42105263157895,
           22.42105263157895,
           22.42105263157895,
           22.42105263157895,
           22.42105263157895,
           22.42105263157895,
           22.42105263157895,
           22.42105263157895,
           22.42105263157895
          ],
          [
           22.894736842105264,
           22.894736842105264,
           22.894736842105264,
           22.894736842105264,
           22.894736842105264,
           22.894736842105264,
           22.894736842105264,
           22.894736842105264,
           22.894736842105264,
           22.894736842105264,
           22.894736842105264,
           22.894736842105264,
           22.894736842105264,
           22.894736842105264,
           22.894736842105264,
           22.894736842105264,
           22.894736842105264,
           22.894736842105264,
           22.894736842105264,
           22.894736842105264
          ],
          [
           23.36842105263158,
           23.36842105263158,
           23.36842105263158,
           23.36842105263158,
           23.36842105263158,
           23.36842105263158,
           23.36842105263158,
           23.36842105263158,
           23.36842105263158,
           23.36842105263158,
           23.36842105263158,
           23.36842105263158,
           23.36842105263158,
           23.36842105263158,
           23.36842105263158,
           23.36842105263158,
           23.36842105263158,
           23.36842105263158,
           23.36842105263158,
           23.36842105263158
          ],
          [
           23.842105263157894,
           23.842105263157894,
           23.842105263157894,
           23.842105263157894,
           23.842105263157894,
           23.842105263157894,
           23.842105263157894,
           23.842105263157894,
           23.842105263157894,
           23.842105263157894,
           23.842105263157894,
           23.842105263157894,
           23.842105263157894,
           23.842105263157894,
           23.842105263157894,
           23.842105263157894,
           23.842105263157894,
           23.842105263157894,
           23.842105263157894,
           23.842105263157894
          ],
          [
           24.31578947368421,
           24.31578947368421,
           24.31578947368421,
           24.31578947368421,
           24.31578947368421,
           24.31578947368421,
           24.31578947368421,
           24.31578947368421,
           24.31578947368421,
           24.31578947368421,
           24.31578947368421,
           24.31578947368421,
           24.31578947368421,
           24.31578947368421,
           24.31578947368421,
           24.31578947368421,
           24.31578947368421,
           24.31578947368421,
           24.31578947368421,
           24.31578947368421
          ],
          [
           24.789473684210527,
           24.789473684210527,
           24.789473684210527,
           24.789473684210527,
           24.789473684210527,
           24.789473684210527,
           24.789473684210527,
           24.789473684210527,
           24.789473684210527,
           24.789473684210527,
           24.789473684210527,
           24.789473684210527,
           24.789473684210527,
           24.789473684210527,
           24.789473684210527,
           24.789473684210527,
           24.789473684210527,
           24.789473684210527,
           24.789473684210527,
           24.789473684210527
          ],
          [
           25.263157894736842,
           25.263157894736842,
           25.263157894736842,
           25.263157894736842,
           25.263157894736842,
           25.263157894736842,
           25.263157894736842,
           25.263157894736842,
           25.263157894736842,
           25.263157894736842,
           25.263157894736842,
           25.263157894736842,
           25.263157894736842,
           25.263157894736842,
           25.263157894736842,
           25.263157894736842,
           25.263157894736842,
           25.263157894736842,
           25.263157894736842,
           25.263157894736842
          ],
          [
           25.736842105263158,
           25.736842105263158,
           25.736842105263158,
           25.736842105263158,
           25.736842105263158,
           25.736842105263158,
           25.736842105263158,
           25.736842105263158,
           25.736842105263158,
           25.736842105263158,
           25.736842105263158,
           25.736842105263158,
           25.736842105263158,
           25.736842105263158,
           25.736842105263158,
           25.736842105263158,
           25.736842105263158,
           25.736842105263158,
           25.736842105263158,
           25.736842105263158
          ],
          [
           26.210526315789473,
           26.210526315789473,
           26.210526315789473,
           26.210526315789473,
           26.210526315789473,
           26.210526315789473,
           26.210526315789473,
           26.210526315789473,
           26.210526315789473,
           26.210526315789473,
           26.210526315789473,
           26.210526315789473,
           26.210526315789473,
           26.210526315789473,
           26.210526315789473,
           26.210526315789473,
           26.210526315789473,
           26.210526315789473,
           26.210526315789473,
           26.210526315789473
          ],
          [
           26.684210526315788,
           26.684210526315788,
           26.684210526315788,
           26.684210526315788,
           26.684210526315788,
           26.684210526315788,
           26.684210526315788,
           26.684210526315788,
           26.684210526315788,
           26.684210526315788,
           26.684210526315788,
           26.684210526315788,
           26.684210526315788,
           26.684210526315788,
           26.684210526315788,
           26.684210526315788,
           26.684210526315788,
           26.684210526315788,
           26.684210526315788,
           26.684210526315788
          ],
          [
           27.157894736842106,
           27.157894736842106,
           27.157894736842106,
           27.157894736842106,
           27.157894736842106,
           27.157894736842106,
           27.157894736842106,
           27.157894736842106,
           27.157894736842106,
           27.157894736842106,
           27.157894736842106,
           27.157894736842106,
           27.157894736842106,
           27.157894736842106,
           27.157894736842106,
           27.157894736842106,
           27.157894736842106,
           27.157894736842106,
           27.157894736842106,
           27.157894736842106
          ],
          [
           27.63157894736842,
           27.63157894736842,
           27.63157894736842,
           27.63157894736842,
           27.63157894736842,
           27.63157894736842,
           27.63157894736842,
           27.63157894736842,
           27.63157894736842,
           27.63157894736842,
           27.63157894736842,
           27.63157894736842,
           27.63157894736842,
           27.63157894736842,
           27.63157894736842,
           27.63157894736842,
           27.63157894736842,
           27.63157894736842,
           27.63157894736842,
           27.63157894736842
          ],
          [
           28.105263157894736,
           28.105263157894736,
           28.105263157894736,
           28.105263157894736,
           28.105263157894736,
           28.105263157894736,
           28.105263157894736,
           28.105263157894736,
           28.105263157894736,
           28.105263157894736,
           28.105263157894736,
           28.105263157894736,
           28.105263157894736,
           28.105263157894736,
           28.105263157894736,
           28.105263157894736,
           28.105263157894736,
           28.105263157894736,
           28.105263157894736,
           28.105263157894736
          ],
          [
           28.57894736842105,
           28.57894736842105,
           28.57894736842105,
           28.57894736842105,
           28.57894736842105,
           28.57894736842105,
           28.57894736842105,
           28.57894736842105,
           28.57894736842105,
           28.57894736842105,
           28.57894736842105,
           28.57894736842105,
           28.57894736842105,
           28.57894736842105,
           28.57894736842105,
           28.57894736842105,
           28.57894736842105,
           28.57894736842105,
           28.57894736842105,
           28.57894736842105
          ],
          [
           29.05263157894737,
           29.05263157894737,
           29.05263157894737,
           29.05263157894737,
           29.05263157894737,
           29.05263157894737,
           29.05263157894737,
           29.05263157894737,
           29.05263157894737,
           29.05263157894737,
           29.05263157894737,
           29.05263157894737,
           29.05263157894737,
           29.05263157894737,
           29.05263157894737,
           29.05263157894737,
           29.05263157894737,
           29.05263157894737,
           29.05263157894737,
           29.05263157894737
          ],
          [
           29.526315789473685,
           29.526315789473685,
           29.526315789473685,
           29.526315789473685,
           29.526315789473685,
           29.526315789473685,
           29.526315789473685,
           29.526315789473685,
           29.526315789473685,
           29.526315789473685,
           29.526315789473685,
           29.526315789473685,
           29.526315789473685,
           29.526315789473685,
           29.526315789473685,
           29.526315789473685,
           29.526315789473685,
           29.526315789473685,
           29.526315789473685,
           29.526315789473685
          ],
          [
           30,
           30,
           30,
           30,
           30,
           30,
           30,
           30,
           30,
           30,
           30,
           30,
           30,
           30,
           30,
           30,
           30,
           30,
           30,
           30
          ]
         ],
         "z": [
          [
           148.22481995413543,
           148.73368992505834,
           149.2425598959813,
           149.7514298669042,
           150.26029983782712,
           150.76916980875006,
           151.27803977967298,
           151.7869097505959,
           152.2957797215188,
           152.80464969244176,
           153.31351966336467,
           153.8223896342876,
           154.33125960521053,
           154.84012957613345,
           155.34899954705637,
           155.85786951797928,
           156.36673948890223,
           156.87560945982514,
           157.38447943074806,
           157.893349401671
          ],
          [
           149.74044341259258,
           150.24931338351553,
           150.75818335443844,
           151.26705332536136,
           151.7759232962843,
           152.28479326720722,
           152.79366323813014,
           153.30253320905308,
           153.811403179976,
           154.3202731508989,
           154.82914312182183,
           155.33801309274477,
           155.8468830636677,
           156.3557530345906,
           156.86462300551355,
           157.37349297643647,
           157.88236294735938,
           158.3912329182823,
           158.90010288920524,
           159.40897286012816
          ],
          [
           151.25606687104977,
           151.76493684197268,
           152.27380681289563,
           152.78267678381854,
           153.29154675474146,
           153.80041672566438,
           154.30928669658732,
           154.81815666751024,
           155.32702663843315,
           155.8358966093561,
           156.344766580279,
           156.85363655120193,
           157.36250652212485,
           157.8713764930478,
           158.3802464639707,
           158.88911643489362,
           159.39798640581657,
           159.90685637673948,
           160.4157263476624,
           160.92459631858532
          ],
          [
           152.77169032950695,
           153.28056030042987,
           153.78943027135278,
           154.29830024227573,
           154.80717021319865,
           155.31604018412156,
           155.82491015504448,
           156.33378012596742,
           156.84265009689034,
           157.35152006781325,
           157.8603900387362,
           158.36926000965911,
           158.87812998058203,
           159.38699995150495,
           159.8958699224279,
           160.4047398933508,
           160.91360986427372,
           161.42247983519667,
           161.93134980611958,
           162.4402197770425
          ],
          [
           154.2873137879641,
           154.79618375888703,
           155.30505372980997,
           155.8139237007329,
           156.3227936716558,
           156.83166364257875,
           157.34053361350166,
           157.84940358442458,
           158.3582735553475,
           158.86714352627044,
           159.37601349719336,
           159.88488346811627,
           160.39375343903922,
           160.90262340996213,
           161.41149338088505,
           161.92036335180796,
           162.4292333227309,
           162.93810329365382,
           163.44697326457674,
           163.95584323549969
          ],
          [
           155.80293724642127,
           156.3118072173442,
           156.82067718826713,
           157.32954715919004,
           157.838417130113,
           158.3472871010359,
           158.85615707195882,
           159.36502704288176,
           159.87389701380468,
           160.3827669847276,
           160.8916369556505,
           161.40050692657346,
           161.90937689749637,
           162.4182468684193,
           162.92711683934223,
           163.43598681026515,
           163.94485678118807,
           164.453726752111,
           164.96259672303393,
           165.47146669395684
          ],
          [
           157.31856070487845,
           157.82743067580137,
           158.3363006467243,
           158.84517061764723,
           159.35404058857014,
           159.86291055949306,
           160.371780530416,
           160.88065050133892,
           161.38952047226184,
           161.89839044318475,
           162.4072604141077,
           162.9161303850306,
           163.42500035595353,
           163.93387032687647,
           164.4427402977994,
           164.9516102687223,
           165.46048023964525,
           165.96935021056817,
           166.47822018149108,
           166.987090152414
          ],
          [
           158.8341841633356,
           159.34305413425855,
           159.85192410518147,
           160.36079407610438,
           160.86966404702733,
           161.37853401795024,
           161.88740398887316,
           162.39627395979608,
           162.90514393071902,
           163.41401390164194,
           163.92288387256485,
           164.43175384348777,
           164.9406238144107,
           165.44949378533363,
           165.95836375625655,
           166.4672337271795,
           166.9761036981024,
           167.48497366902532,
           167.99384363994827,
           168.50271361087118
          ],
          [
           160.3498076217928,
           160.8586775927157,
           161.36754756363865,
           161.87641753456157,
           162.38528750548448,
           162.89415747640743,
           163.40302744733035,
           163.91189741825326,
           164.42076738917618,
           164.92963736009912,
           165.43850733102204,
           165.94737730194495,
           166.4562472728679,
           166.96511724379081,
           167.47398721471373,
           167.98285718563665,
           168.4917271565596,
           169.0005971274825,
           169.50946709840542,
           170.01833706932837
          ],
          [
           161.86543108024995,
           162.3743010511729,
           162.8831710220958,
           163.39204099301872,
           163.90091096394167,
           164.40978093486459,
           164.9186509057875,
           165.42752087671045,
           165.93639084763336,
           166.44526081855628,
           166.9541307894792,
           167.46300076040214,
           167.97187073132505,
           168.48074070224797,
           168.98961067317092,
           169.49848064409383,
           170.00735061501675,
           170.51622058593966,
           171.0250905568626,
           171.53396052778552
          ],
          [
           163.38105453870713,
           163.88992450963005,
           164.398794480553,
           164.9076644514759,
           165.41653442239883,
           165.92540439332174,
           166.4342743642447,
           166.9431443351676,
           167.45201430609052,
           167.96088427701343,
           168.46975424793638,
           168.9786242188593,
           169.4874941897822,
           169.99636416070516,
           170.50523413162807,
           171.014104102551,
           171.52297407347393,
           172.03184404439685,
           172.54071401531976,
           173.04958398624268
          ],
          [
           164.8966779971643,
           165.40554796808723,
           165.91441793901015,
           166.42328790993307,
           166.932157880856,
           167.44102785177893,
           167.94989782270184,
           168.45876779362476,
           168.9676377645477,
           169.47650773547062,
           169.98537770639354,
           170.49424767731645,
           171.0031176482394,
           171.5119876191623,
           172.02085759008523,
           172.52972756100817,
           173.0385975319311,
           173.547467502854,
           174.05633747377695,
           174.56520744469987
          ],
          [
           166.41230145562147,
           166.9211714265444,
           167.4300413974673,
           167.93891136839025,
           168.44778133931317,
           168.95665131023608,
           169.465521281159,
           169.97439125208194,
           170.48326122300486,
           170.99213119392778,
           171.50100116485072,
           172.00987113577364,
           172.51874110669655,
           173.0276110776195,
           173.5364810485424,
           174.04535101946533,
           174.55422099038825,
           175.0630909613112,
           175.5719609322341,
           176.08083090315702
          ],
          [
           167.92792491407863,
           168.43679488500158,
           168.9456648559245,
           169.4545348268474,
           169.96340479777035,
           170.47227476869327,
           170.98114473961618,
           171.49001471053913,
           171.99888468146204,
           172.50775465238496,
           173.01662462330788,
           173.52549459423082,
           174.03436456515374,
           174.54323453607665,
           175.05210450699957,
           175.5609744779225,
           176.06984444884543,
           176.57871441976835,
           177.0875843906913,
           177.5964543616142
          ],
          [
           169.44354837253582,
           169.95241834345873,
           170.46128831438165,
           170.9701582853046,
           171.4790282562275,
           171.98789822715042,
           172.49676819807337,
           173.00563816899628,
           173.5145081399192,
           174.02337811084212,
           174.53224808176506,
           175.04111805268798,
           175.5499880236109,
           176.05885799453384,
           176.56772796545675,
           177.07659793637967,
           177.58546790730261,
           178.09433787822553,
           178.60320784914845,
           179.11207782007136
          ],
          [
           170.95917183099297,
           171.46804180191592,
           171.97691177283883,
           172.48578174376175,
           172.99465171468466,
           173.5035216856076,
           174.01239165653053,
           174.52126162745344,
           175.03013159837639,
           175.5390015692993,
           176.04787154022222,
           176.55674151114516,
           177.06561148206808,
           177.574481452991,
           178.0833514239139,
           178.59222139483686,
           179.10109136575977,
           179.6099613366827,
           180.1188313076056,
           180.62770127852855
          ],
          [
           172.47479528945016,
           172.98366526037307,
           173.492535231296,
           174.00140520221893,
           174.51027517314185,
           175.01914514406477,
           175.52801511498768,
           176.03688508591063,
           176.54575505683354,
           177.05462502775646,
           177.5634949986794,
           178.07236496960232,
           178.58123494052523,
           179.09010491144818,
           179.5989748823711,
           180.107844853294,
           180.61671482421693,
           181.12558479513987,
           181.6344547660628,
           182.1433247369857
          ],
          [
           173.9904187479073,
           174.49928871883026,
           175.00815868975317,
           175.5170286606761,
           176.02589863159903,
           176.53476860252195,
           177.04363857344487,
           177.5525085443678,
           178.06137851529073,
           178.57024848621364,
           179.07911845713656,
           179.5879884280595,
           180.09685839898242,
           180.60572836990534,
           181.11459834082828,
           181.6234683117512,
           182.1323382826741,
           182.64120825359703,
           183.15007822451997,
           183.6589481954429
          ],
          [
           175.5060422063645,
           176.0149121772874,
           176.52378214821033,
           177.03265211913327,
           177.5415220900562,
           178.0503920609791,
           178.55926203190205,
           179.06813200282497,
           179.57700197374788,
           180.0858719446708,
           180.59474191559374,
           181.10361188651666,
           181.61248185743958,
           182.12135182836252,
           182.63022179928544,
           183.13909177020835,
           183.64796174113127,
           184.1568317120542,
           184.66570168297713,
           185.17457165390005
          ],
          [
           177.02166566482165,
           177.53053563574457,
           178.03940560666751,
           178.54827557759043,
           179.05714554851335,
           179.5660155194363,
           180.0748854903592,
           180.58375546128212,
           181.09262543220507,
           181.60149540312798,
           182.1103653740509,
           182.61923534497382,
           183.12810531589676,
           183.63697528681968,
           184.1458452577426,
           184.6547152286655,
           185.16358519958845,
           185.67245517051137,
           186.1813251414343,
           186.69019511235723
          ]
         ]
        }
       ],
       "layout": {
        "scene": {
         "xaxis": {
          "title": {
           "text": "Ancho"
          }
         },
         "yaxis": {
          "title": {
           "text": "Pie"
          }
         },
         "zaxis": {
          "title": {
           "text": "Altura"
          }
         }
        },
        "template": {
         "data": {
          "bar": [
           {
            "error_x": {
             "color": "#2a3f5f"
            },
            "error_y": {
             "color": "#2a3f5f"
            },
            "marker": {
             "line": {
              "color": "#E5ECF6",
              "width": 0.5
             },
             "pattern": {
              "fillmode": "overlay",
              "size": 10,
              "solidity": 0.2
             }
            },
            "type": "bar"
           }
          ],
          "barpolar": [
           {
            "marker": {
             "line": {
              "color": "#E5ECF6",
              "width": 0.5
             },
             "pattern": {
              "fillmode": "overlay",
              "size": 10,
              "solidity": 0.2
             }
            },
            "type": "barpolar"
           }
          ],
          "carpet": [
           {
            "aaxis": {
             "endlinecolor": "#2a3f5f",
             "gridcolor": "white",
             "linecolor": "white",
             "minorgridcolor": "white",
             "startlinecolor": "#2a3f5f"
            },
            "baxis": {
             "endlinecolor": "#2a3f5f",
             "gridcolor": "white",
             "linecolor": "white",
             "minorgridcolor": "white",
             "startlinecolor": "#2a3f5f"
            },
            "type": "carpet"
           }
          ],
          "choropleth": [
           {
            "colorbar": {
             "outlinewidth": 0,
             "ticks": ""
            },
            "type": "choropleth"
           }
          ],
          "contour": [
           {
            "colorbar": {
             "outlinewidth": 0,
             "ticks": ""
            },
            "colorscale": [
             [
              0,
              "#0d0887"
             ],
             [
              0.1111111111111111,
              "#46039f"
             ],
             [
              0.2222222222222222,
              "#7201a8"
             ],
             [
              0.3333333333333333,
              "#9c179e"
             ],
             [
              0.4444444444444444,
              "#bd3786"
             ],
             [
              0.5555555555555556,
              "#d8576b"
             ],
             [
              0.6666666666666666,
              "#ed7953"
             ],
             [
              0.7777777777777778,
              "#fb9f3a"
             ],
             [
              0.8888888888888888,
              "#fdca26"
             ],
             [
              1,
              "#f0f921"
             ]
            ],
            "type": "contour"
           }
          ],
          "contourcarpet": [
           {
            "colorbar": {
             "outlinewidth": 0,
             "ticks": ""
            },
            "type": "contourcarpet"
           }
          ],
          "heatmap": [
           {
            "colorbar": {
             "outlinewidth": 0,
             "ticks": ""
            },
            "colorscale": [
             [
              0,
              "#0d0887"
             ],
             [
              0.1111111111111111,
              "#46039f"
             ],
             [
              0.2222222222222222,
              "#7201a8"
             ],
             [
              0.3333333333333333,
              "#9c179e"
             ],
             [
              0.4444444444444444,
              "#bd3786"
             ],
             [
              0.5555555555555556,
              "#d8576b"
             ],
             [
              0.6666666666666666,
              "#ed7953"
             ],
             [
              0.7777777777777778,
              "#fb9f3a"
             ],
             [
              0.8888888888888888,
              "#fdca26"
             ],
             [
              1,
              "#f0f921"
             ]
            ],
            "type": "heatmap"
           }
          ],
          "heatmapgl": [
           {
            "colorbar": {
             "outlinewidth": 0,
             "ticks": ""
            },
            "colorscale": [
             [
              0,
              "#0d0887"
             ],
             [
              0.1111111111111111,
              "#46039f"
             ],
             [
              0.2222222222222222,
              "#7201a8"
             ],
             [
              0.3333333333333333,
              "#9c179e"
             ],
             [
              0.4444444444444444,
              "#bd3786"
             ],
             [
              0.5555555555555556,
              "#d8576b"
             ],
             [
              0.6666666666666666,
              "#ed7953"
             ],
             [
              0.7777777777777778,
              "#fb9f3a"
             ],
             [
              0.8888888888888888,
              "#fdca26"
             ],
             [
              1,
              "#f0f921"
             ]
            ],
            "type": "heatmapgl"
           }
          ],
          "histogram": [
           {
            "marker": {
             "pattern": {
              "fillmode": "overlay",
              "size": 10,
              "solidity": 0.2
             }
            },
            "type": "histogram"
           }
          ],
          "histogram2d": [
           {
            "colorbar": {
             "outlinewidth": 0,
             "ticks": ""
            },
            "colorscale": [
             [
              0,
              "#0d0887"
             ],
             [
              0.1111111111111111,
              "#46039f"
             ],
             [
              0.2222222222222222,
              "#7201a8"
             ],
             [
              0.3333333333333333,
              "#9c179e"
             ],
             [
              0.4444444444444444,
              "#bd3786"
             ],
             [
              0.5555555555555556,
              "#d8576b"
             ],
             [
              0.6666666666666666,
              "#ed7953"
             ],
             [
              0.7777777777777778,
              "#fb9f3a"
             ],
             [
              0.8888888888888888,
              "#fdca26"
             ],
             [
              1,
              "#f0f921"
             ]
            ],
            "type": "histogram2d"
           }
          ],
          "histogram2dcontour": [
           {
            "colorbar": {
             "outlinewidth": 0,
             "ticks": ""
            },
            "colorscale": [
             [
              0,
              "#0d0887"
             ],
             [
              0.1111111111111111,
              "#46039f"
             ],
             [
              0.2222222222222222,
              "#7201a8"
             ],
             [
              0.3333333333333333,
              "#9c179e"
             ],
             [
              0.4444444444444444,
              "#bd3786"
             ],
             [
              0.5555555555555556,
              "#d8576b"
             ],
             [
              0.6666666666666666,
              "#ed7953"
             ],
             [
              0.7777777777777778,
              "#fb9f3a"
             ],
             [
              0.8888888888888888,
              "#fdca26"
             ],
             [
              1,
              "#f0f921"
             ]
            ],
            "type": "histogram2dcontour"
           }
          ],
          "mesh3d": [
           {
            "colorbar": {
             "outlinewidth": 0,
             "ticks": ""
            },
            "type": "mesh3d"
           }
          ],
          "parcoords": [
           {
            "line": {
             "colorbar": {
              "outlinewidth": 0,
              "ticks": ""
             }
            },
            "type": "parcoords"
           }
          ],
          "pie": [
           {
            "automargin": true,
            "type": "pie"
           }
          ],
          "scatter": [
           {
            "fillpattern": {
             "fillmode": "overlay",
             "size": 10,
             "solidity": 0.2
            },
            "type": "scatter"
           }
          ],
          "scatter3d": [
           {
            "line": {
             "colorbar": {
              "outlinewidth": 0,
              "ticks": ""
             }
            },
            "marker": {
             "colorbar": {
              "outlinewidth": 0,
              "ticks": ""
             }
            },
            "type": "scatter3d"
           }
          ],
          "scattercarpet": [
           {
            "marker": {
             "colorbar": {
              "outlinewidth": 0,
              "ticks": ""
             }
            },
            "type": "scattercarpet"
           }
          ],
          "scattergeo": [
           {
            "marker": {
             "colorbar": {
              "outlinewidth": 0,
              "ticks": ""
             }
            },
            "type": "scattergeo"
           }
          ],
          "scattergl": [
           {
            "marker": {
             "colorbar": {
              "outlinewidth": 0,
              "ticks": ""
             }
            },
            "type": "scattergl"
           }
          ],
          "scattermapbox": [
           {
            "marker": {
             "colorbar": {
              "outlinewidth": 0,
              "ticks": ""
             }
            },
            "type": "scattermapbox"
           }
          ],
          "scatterpolar": [
           {
            "marker": {
             "colorbar": {
              "outlinewidth": 0,
              "ticks": ""
             }
            },
            "type": "scatterpolar"
           }
          ],
          "scatterpolargl": [
           {
            "marker": {
             "colorbar": {
              "outlinewidth": 0,
              "ticks": ""
             }
            },
            "type": "scatterpolargl"
           }
          ],
          "scatterternary": [
           {
            "marker": {
             "colorbar": {
              "outlinewidth": 0,
              "ticks": ""
             }
            },
            "type": "scatterternary"
           }
          ],
          "surface": [
           {
            "colorbar": {
             "outlinewidth": 0,
             "ticks": ""
            },
            "colorscale": [
             [
              0,
              "#0d0887"
             ],
             [
              0.1111111111111111,
              "#46039f"
             ],
             [
              0.2222222222222222,
              "#7201a8"
             ],
             [
              0.3333333333333333,
              "#9c179e"
             ],
             [
              0.4444444444444444,
              "#bd3786"
             ],
             [
              0.5555555555555556,
              "#d8576b"
             ],
             [
              0.6666666666666666,
              "#ed7953"
             ],
             [
              0.7777777777777778,
              "#fb9f3a"
             ],
             [
              0.8888888888888888,
              "#fdca26"
             ],
             [
              1,
              "#f0f921"
             ]
            ],
            "type": "surface"
           }
          ],
          "table": [
           {
            "cells": {
             "fill": {
              "color": "#EBF0F8"
             },
             "line": {
              "color": "white"
             }
            },
            "header": {
             "fill": {
              "color": "#C8D4E3"
             },
             "line": {
              "color": "white"
             }
            },
            "type": "table"
           }
          ]
         },
         "layout": {
          "annotationdefaults": {
           "arrowcolor": "#2a3f5f",
           "arrowhead": 0,
           "arrowwidth": 1
          },
          "autotypenumbers": "strict",
          "coloraxis": {
           "colorbar": {
            "outlinewidth": 0,
            "ticks": ""
           }
          },
          "colorscale": {
           "diverging": [
            [
             0,
             "#8e0152"
            ],
            [
             0.1,
             "#c51b7d"
            ],
            [
             0.2,
             "#de77ae"
            ],
            [
             0.3,
             "#f1b6da"
            ],
            [
             0.4,
             "#fde0ef"
            ],
            [
             0.5,
             "#f7f7f7"
            ],
            [
             0.6,
             "#e6f5d0"
            ],
            [
             0.7,
             "#b8e186"
            ],
            [
             0.8,
             "#7fbc41"
            ],
            [
             0.9,
             "#4d9221"
            ],
            [
             1,
             "#276419"
            ]
           ],
           "sequential": [
            [
             0,
             "#0d0887"
            ],
            [
             0.1111111111111111,
             "#46039f"
            ],
            [
             0.2222222222222222,
             "#7201a8"
            ],
            [
             0.3333333333333333,
             "#9c179e"
            ],
            [
             0.4444444444444444,
             "#bd3786"
            ],
            [
             0.5555555555555556,
             "#d8576b"
            ],
            [
             0.6666666666666666,
             "#ed7953"
            ],
            [
             0.7777777777777778,
             "#fb9f3a"
            ],
            [
             0.8888888888888888,
             "#fdca26"
            ],
            [
             1,
             "#f0f921"
            ]
           ],
           "sequentialminus": [
            [
             0,
             "#0d0887"
            ],
            [
             0.1111111111111111,
             "#46039f"
            ],
            [
             0.2222222222222222,
             "#7201a8"
            ],
            [
             0.3333333333333333,
             "#9c179e"
            ],
            [
             0.4444444444444444,
             "#bd3786"
            ],
            [
             0.5555555555555556,
             "#d8576b"
            ],
            [
             0.6666666666666666,
             "#ed7953"
            ],
            [
             0.7777777777777778,
             "#fb9f3a"
            ],
            [
             0.8888888888888888,
             "#fdca26"
            ],
            [
             1,
             "#f0f921"
            ]
           ]
          },
          "colorway": [
           "#636efa",
           "#EF553B",
           "#00cc96",
           "#ab63fa",
           "#FFA15A",
           "#19d3f3",
           "#FF6692",
           "#B6E880",
           "#FF97FF",
           "#FECB52"
          ],
          "font": {
           "color": "#2a3f5f"
          },
          "geo": {
           "bgcolor": "white",
           "lakecolor": "white",
           "landcolor": "#E5ECF6",
           "showlakes": true,
           "showland": true,
           "subunitcolor": "white"
          },
          "hoverlabel": {
           "align": "left"
          },
          "hovermode": "closest",
          "mapbox": {
           "style": "light"
          },
          "paper_bgcolor": "white",
          "plot_bgcolor": "#E5ECF6",
          "polar": {
           "angularaxis": {
            "gridcolor": "white",
            "linecolor": "white",
            "ticks": ""
           },
           "bgcolor": "#E5ECF6",
           "radialaxis": {
            "gridcolor": "white",
            "linecolor": "white",
            "ticks": ""
           }
          },
          "scene": {
           "xaxis": {
            "backgroundcolor": "#E5ECF6",
            "gridcolor": "white",
            "gridwidth": 2,
            "linecolor": "white",
            "showbackground": true,
            "ticks": "",
            "zerolinecolor": "white"
           },
           "yaxis": {
            "backgroundcolor": "#E5ECF6",
            "gridcolor": "white",
            "gridwidth": 2,
            "linecolor": "white",
            "showbackground": true,
            "ticks": "",
            "zerolinecolor": "white"
           },
           "zaxis": {
            "backgroundcolor": "#E5ECF6",
            "gridcolor": "white",
            "gridwidth": 2,
            "linecolor": "white",
            "showbackground": true,
            "ticks": "",
            "zerolinecolor": "white"
           }
          },
          "shapedefaults": {
           "line": {
            "color": "#2a3f5f"
           }
          },
          "ternary": {
           "aaxis": {
            "gridcolor": "white",
            "linecolor": "white",
            "ticks": ""
           },
           "baxis": {
            "gridcolor": "white",
            "linecolor": "white",
            "ticks": ""
           },
           "bgcolor": "#E5ECF6",
           "caxis": {
            "gridcolor": "white",
            "linecolor": "white",
            "ticks": ""
           }
          },
          "title": {
           "x": 0.05
          },
          "xaxis": {
           "automargin": true,
           "gridcolor": "white",
           "linecolor": "white",
           "ticks": "",
           "title": {
            "standoff": 15
           },
           "zerolinecolor": "white",
           "zerolinewidth": 2
          },
          "yaxis": {
           "automargin": true,
           "gridcolor": "white",
           "linecolor": "white",
           "ticks": "",
           "title": {
            "standoff": 15
           },
           "zerolinecolor": "white",
           "zerolinewidth": 2
          }
         }
        },
        "title": {
         "text": "ITESO LEFT<br>R2: 0.8065313268362285 RMSE: 3.2950606099508533"
        }
       }
      }
     },
     "metadata": {},
     "output_type": "display_data"
    }
   ],
   "source": [
    "# Definir rangos para las variables independientes\n",
    "x1_range = np.linspace(min(x_train_left['width']), max(x_train_left['width']), 20)\n",
    "x2_range = np.linspace(min(x_train_left['shoe_size']), max(x_train_left['shoe_size']), 20)\n",
    "x1_mesh, x2_mesh = np.meshgrid(x1_range, x2_range)\n",
    "\n",
    "# Escalar el meshgrid para predicción\n",
    "x_mesh_scaled = ss_left.transform(np.vstack((x1_mesh.ravel(), x2_mesh.ravel())).T)\n",
    "\n",
    "# Predecir los valores con el modelo escalado\n",
    "y_mesh_scaled = rg_l.predict(x_mesh_scaled)\n",
    "\n",
    "# Crear scatterplot 3D de los puntos reales\n",
    "scatter = go.Scatter3d(\n",
    "    x=x_test_left['width'], y=x_test_left['shoe_size'], z=y_test_left,\n",
    "    mode='markers',\n",
    "    marker=dict(size=8, color='red', opacity=0.7)\n",
    ")\n",
    "\n",
    "# Crear el plano de regresión\n",
    "surface = go.Surface(\n",
    "    x=x1_mesh, y=x2_mesh, z=y_mesh_scaled.reshape(x1_mesh.shape),\n",
    "    colorscale='Viridis', opacity=0.5\n",
    ")\n",
    "\n",
    "# Configuración del layout\n",
    "layout = go.Layout(\n",
    "    title=f\"ITESO LEFT<br>R2: {r2_score(y_test_left, r_pred_left)} RMSE: {root_mean_squared_error(y_test_left, r_pred_left)}\",\n",
    "    scene=dict(\n",
    "        xaxis_title='Ancho',\n",
    "        yaxis_title='Pie',\n",
    "        zaxis_title='Altura'\n",
    "    )\n",
    ")\n",
    "\n",
    "# Crear la figura\n",
    "fig = go.Figure(data=[scatter, surface], layout=layout)\n",
    "\n",
    "# Mostrar la figura interactiva\n",
    "fig.show()"
   ]
  },
  {
   "cell_type": "markdown",
   "metadata": {},
   "source": [
    "### Center model"
   ]
  },
  {
   "cell_type": "code",
   "execution_count": 600,
   "metadata": {},
   "outputs": [
    {
     "name": "stdout",
     "output_type": "stream",
     "text": [
      "R2: 0.8484303924224865 RMSE: 4.280983988385949\n"
     ]
    }
   ],
   "source": [
    "rg_c = Ridge(alpha = 1.26)\n",
    "rg_c.fit(X_train_s_center, y_train_center)\n",
    "r_pred_center = rg_c.predict(X_test_s_center)\n",
    "print(f\"R2: {r2_score(y_test_center, r_pred_center)} RMSE: {root_mean_squared_error(y_test_center, r_pred_center)}\")"
   ]
  },
  {
   "cell_type": "code",
   "execution_count": 601,
   "metadata": {},
   "outputs": [
    {
     "name": "stdout",
     "output_type": "stream",
     "text": [
      "Pendientes: [0.84705044 7.40777022]\n",
      "Intercepto: 169.1014492753623\n"
     ]
    }
   ],
   "source": [
    "print(f\"Pendientes: {rg_c.coef_}\")\n",
    "print(f\"Intercepto: {rg_c.intercept_}\")"
   ]
  },
  {
   "cell_type": "code",
   "execution_count": 602,
   "metadata": {},
   "outputs": [
    {
     "name": "stderr",
     "output_type": "stream",
     "text": [
      "c:\\Users\\Roi_f\\anaconda3\\envs\\personal\\Lib\\site-packages\\sklearn\\base.py:493: UserWarning:\n",
      "\n",
      "X does not have valid feature names, but StandardScaler was fitted with feature names\n",
      "\n"
     ]
    }
   ],
   "source": [
    "values_para_center = ss_center.transform([[36,22.5]])"
   ]
  },
  {
   "cell_type": "code",
   "execution_count": 603,
   "metadata": {},
   "outputs": [
    {
     "data": {
      "text/plain": [
       "array([155.08588937])"
      ]
     },
     "execution_count": 603,
     "metadata": {},
     "output_type": "execute_result"
    }
   ],
   "source": [
    "rg_c.predict(values_para_center)"
   ]
  },
  {
   "cell_type": "code",
   "execution_count": 604,
   "metadata": {},
   "outputs": [
    {
     "name": "stderr",
     "output_type": "stream",
     "text": [
      "c:\\Users\\Roi_f\\anaconda3\\envs\\personal\\Lib\\site-packages\\sklearn\\base.py:493: UserWarning:\n",
      "\n",
      "X does not have valid feature names, but StandardScaler was fitted with feature names\n",
      "\n"
     ]
    },
    {
     "data": {
      "application/vnd.plotly.v1+json": {
       "config": {
        "plotlyServerURL": "https://plot.ly"
       },
       "data": [
        {
         "marker": {
          "color": "red",
          "opacity": 0.7,
          "size": 8
         },
         "mode": "markers",
         "type": "scatter3d",
         "x": [
          42,
          46,
          40,
          48,
          34,
          48,
          42,
          46,
          44,
          45,
          39,
          49,
          52,
          50,
          36,
          46,
          41,
          43
         ],
         "y": [
          27,
          24,
          23,
          28,
          24,
          29,
          24,
          28,
          23,
          27.5,
          22.5,
          27.5,
          30,
          28,
          23,
          27,
          23,
          25
         ],
         "z": [
          177,
          170,
          159,
          176,
          154,
          187,
          162,
          182,
          162,
          175,
          150,
          175,
          190,
          173,
          164,
          172,
          154,
          168
         ]
        },
        {
         "colorscale": [
          [
           0,
           "#440154"
          ],
          [
           0.1111111111111111,
           "#482878"
          ],
          [
           0.2222222222222222,
           "#3e4989"
          ],
          [
           0.3333333333333333,
           "#31688e"
          ],
          [
           0.4444444444444444,
           "#26828e"
          ],
          [
           0.5555555555555556,
           "#1f9e89"
          ],
          [
           0.6666666666666666,
           "#35b779"
          ],
          [
           0.7777777777777778,
           "#6ece58"
          ],
          [
           0.8888888888888888,
           "#b5de2b"
          ],
          [
           1,
           "#fde725"
          ]
         ],
         "opacity": 0.5,
         "type": "surface",
         "x": [
          [
           33,
           34.473684210526315,
           35.94736842105263,
           37.421052631578945,
           38.89473684210526,
           40.368421052631575,
           41.84210526315789,
           43.31578947368421,
           44.78947368421053,
           46.26315789473684,
           47.73684210526316,
           49.21052631578947,
           50.68421052631579,
           52.1578947368421,
           53.631578947368425,
           55.10526315789474,
           56.578947368421055,
           58.05263157894737,
           59.526315789473685,
           61
          ],
          [
           33,
           34.473684210526315,
           35.94736842105263,
           37.421052631578945,
           38.89473684210526,
           40.368421052631575,
           41.84210526315789,
           43.31578947368421,
           44.78947368421053,
           46.26315789473684,
           47.73684210526316,
           49.21052631578947,
           50.68421052631579,
           52.1578947368421,
           53.631578947368425,
           55.10526315789474,
           56.578947368421055,
           58.05263157894737,
           59.526315789473685,
           61
          ],
          [
           33,
           34.473684210526315,
           35.94736842105263,
           37.421052631578945,
           38.89473684210526,
           40.368421052631575,
           41.84210526315789,
           43.31578947368421,
           44.78947368421053,
           46.26315789473684,
           47.73684210526316,
           49.21052631578947,
           50.68421052631579,
           52.1578947368421,
           53.631578947368425,
           55.10526315789474,
           56.578947368421055,
           58.05263157894737,
           59.526315789473685,
           61
          ],
          [
           33,
           34.473684210526315,
           35.94736842105263,
           37.421052631578945,
           38.89473684210526,
           40.368421052631575,
           41.84210526315789,
           43.31578947368421,
           44.78947368421053,
           46.26315789473684,
           47.73684210526316,
           49.21052631578947,
           50.68421052631579,
           52.1578947368421,
           53.631578947368425,
           55.10526315789474,
           56.578947368421055,
           58.05263157894737,
           59.526315789473685,
           61
          ],
          [
           33,
           34.473684210526315,
           35.94736842105263,
           37.421052631578945,
           38.89473684210526,
           40.368421052631575,
           41.84210526315789,
           43.31578947368421,
           44.78947368421053,
           46.26315789473684,
           47.73684210526316,
           49.21052631578947,
           50.68421052631579,
           52.1578947368421,
           53.631578947368425,
           55.10526315789474,
           56.578947368421055,
           58.05263157894737,
           59.526315789473685,
           61
          ],
          [
           33,
           34.473684210526315,
           35.94736842105263,
           37.421052631578945,
           38.89473684210526,
           40.368421052631575,
           41.84210526315789,
           43.31578947368421,
           44.78947368421053,
           46.26315789473684,
           47.73684210526316,
           49.21052631578947,
           50.68421052631579,
           52.1578947368421,
           53.631578947368425,
           55.10526315789474,
           56.578947368421055,
           58.05263157894737,
           59.526315789473685,
           61
          ],
          [
           33,
           34.473684210526315,
           35.94736842105263,
           37.421052631578945,
           38.89473684210526,
           40.368421052631575,
           41.84210526315789,
           43.31578947368421,
           44.78947368421053,
           46.26315789473684,
           47.73684210526316,
           49.21052631578947,
           50.68421052631579,
           52.1578947368421,
           53.631578947368425,
           55.10526315789474,
           56.578947368421055,
           58.05263157894737,
           59.526315789473685,
           61
          ],
          [
           33,
           34.473684210526315,
           35.94736842105263,
           37.421052631578945,
           38.89473684210526,
           40.368421052631575,
           41.84210526315789,
           43.31578947368421,
           44.78947368421053,
           46.26315789473684,
           47.73684210526316,
           49.21052631578947,
           50.68421052631579,
           52.1578947368421,
           53.631578947368425,
           55.10526315789474,
           56.578947368421055,
           58.05263157894737,
           59.526315789473685,
           61
          ],
          [
           33,
           34.473684210526315,
           35.94736842105263,
           37.421052631578945,
           38.89473684210526,
           40.368421052631575,
           41.84210526315789,
           43.31578947368421,
           44.78947368421053,
           46.26315789473684,
           47.73684210526316,
           49.21052631578947,
           50.68421052631579,
           52.1578947368421,
           53.631578947368425,
           55.10526315789474,
           56.578947368421055,
           58.05263157894737,
           59.526315789473685,
           61
          ],
          [
           33,
           34.473684210526315,
           35.94736842105263,
           37.421052631578945,
           38.89473684210526,
           40.368421052631575,
           41.84210526315789,
           43.31578947368421,
           44.78947368421053,
           46.26315789473684,
           47.73684210526316,
           49.21052631578947,
           50.68421052631579,
           52.1578947368421,
           53.631578947368425,
           55.10526315789474,
           56.578947368421055,
           58.05263157894737,
           59.526315789473685,
           61
          ],
          [
           33,
           34.473684210526315,
           35.94736842105263,
           37.421052631578945,
           38.89473684210526,
           40.368421052631575,
           41.84210526315789,
           43.31578947368421,
           44.78947368421053,
           46.26315789473684,
           47.73684210526316,
           49.21052631578947,
           50.68421052631579,
           52.1578947368421,
           53.631578947368425,
           55.10526315789474,
           56.578947368421055,
           58.05263157894737,
           59.526315789473685,
           61
          ],
          [
           33,
           34.473684210526315,
           35.94736842105263,
           37.421052631578945,
           38.89473684210526,
           40.368421052631575,
           41.84210526315789,
           43.31578947368421,
           44.78947368421053,
           46.26315789473684,
           47.73684210526316,
           49.21052631578947,
           50.68421052631579,
           52.1578947368421,
           53.631578947368425,
           55.10526315789474,
           56.578947368421055,
           58.05263157894737,
           59.526315789473685,
           61
          ],
          [
           33,
           34.473684210526315,
           35.94736842105263,
           37.421052631578945,
           38.89473684210526,
           40.368421052631575,
           41.84210526315789,
           43.31578947368421,
           44.78947368421053,
           46.26315789473684,
           47.73684210526316,
           49.21052631578947,
           50.68421052631579,
           52.1578947368421,
           53.631578947368425,
           55.10526315789474,
           56.578947368421055,
           58.05263157894737,
           59.526315789473685,
           61
          ],
          [
           33,
           34.473684210526315,
           35.94736842105263,
           37.421052631578945,
           38.89473684210526,
           40.368421052631575,
           41.84210526315789,
           43.31578947368421,
           44.78947368421053,
           46.26315789473684,
           47.73684210526316,
           49.21052631578947,
           50.68421052631579,
           52.1578947368421,
           53.631578947368425,
           55.10526315789474,
           56.578947368421055,
           58.05263157894737,
           59.526315789473685,
           61
          ],
          [
           33,
           34.473684210526315,
           35.94736842105263,
           37.421052631578945,
           38.89473684210526,
           40.368421052631575,
           41.84210526315789,
           43.31578947368421,
           44.78947368421053,
           46.26315789473684,
           47.73684210526316,
           49.21052631578947,
           50.68421052631579,
           52.1578947368421,
           53.631578947368425,
           55.10526315789474,
           56.578947368421055,
           58.05263157894737,
           59.526315789473685,
           61
          ],
          [
           33,
           34.473684210526315,
           35.94736842105263,
           37.421052631578945,
           38.89473684210526,
           40.368421052631575,
           41.84210526315789,
           43.31578947368421,
           44.78947368421053,
           46.26315789473684,
           47.73684210526316,
           49.21052631578947,
           50.68421052631579,
           52.1578947368421,
           53.631578947368425,
           55.10526315789474,
           56.578947368421055,
           58.05263157894737,
           59.526315789473685,
           61
          ],
          [
           33,
           34.473684210526315,
           35.94736842105263,
           37.421052631578945,
           38.89473684210526,
           40.368421052631575,
           41.84210526315789,
           43.31578947368421,
           44.78947368421053,
           46.26315789473684,
           47.73684210526316,
           49.21052631578947,
           50.68421052631579,
           52.1578947368421,
           53.631578947368425,
           55.10526315789474,
           56.578947368421055,
           58.05263157894737,
           59.526315789473685,
           61
          ],
          [
           33,
           34.473684210526315,
           35.94736842105263,
           37.421052631578945,
           38.89473684210526,
           40.368421052631575,
           41.84210526315789,
           43.31578947368421,
           44.78947368421053,
           46.26315789473684,
           47.73684210526316,
           49.21052631578947,
           50.68421052631579,
           52.1578947368421,
           53.631578947368425,
           55.10526315789474,
           56.578947368421055,
           58.05263157894737,
           59.526315789473685,
           61
          ],
          [
           33,
           34.473684210526315,
           35.94736842105263,
           37.421052631578945,
           38.89473684210526,
           40.368421052631575,
           41.84210526315789,
           43.31578947368421,
           44.78947368421053,
           46.26315789473684,
           47.73684210526316,
           49.21052631578947,
           50.68421052631579,
           52.1578947368421,
           53.631578947368425,
           55.10526315789474,
           56.578947368421055,
           58.05263157894737,
           59.526315789473685,
           61
          ],
          [
           33,
           34.473684210526315,
           35.94736842105263,
           37.421052631578945,
           38.89473684210526,
           40.368421052631575,
           41.84210526315789,
           43.31578947368421,
           44.78947368421053,
           46.26315789473684,
           47.73684210526316,
           49.21052631578947,
           50.68421052631579,
           52.1578947368421,
           53.631578947368425,
           55.10526315789474,
           56.578947368421055,
           58.05263157894737,
           59.526315789473685,
           61
          ]
         ],
         "y": [
          [
           22,
           22,
           22,
           22,
           22,
           22,
           22,
           22,
           22,
           22,
           22,
           22,
           22,
           22,
           22,
           22,
           22,
           22,
           22,
           22
          ],
          [
           22.42105263157895,
           22.42105263157895,
           22.42105263157895,
           22.42105263157895,
           22.42105263157895,
           22.42105263157895,
           22.42105263157895,
           22.42105263157895,
           22.42105263157895,
           22.42105263157895,
           22.42105263157895,
           22.42105263157895,
           22.42105263157895,
           22.42105263157895,
           22.42105263157895,
           22.42105263157895,
           22.42105263157895,
           22.42105263157895,
           22.42105263157895,
           22.42105263157895
          ],
          [
           22.842105263157894,
           22.842105263157894,
           22.842105263157894,
           22.842105263157894,
           22.842105263157894,
           22.842105263157894,
           22.842105263157894,
           22.842105263157894,
           22.842105263157894,
           22.842105263157894,
           22.842105263157894,
           22.842105263157894,
           22.842105263157894,
           22.842105263157894,
           22.842105263157894,
           22.842105263157894,
           22.842105263157894,
           22.842105263157894,
           22.842105263157894,
           22.842105263157894
          ],
          [
           23.263157894736842,
           23.263157894736842,
           23.263157894736842,
           23.263157894736842,
           23.263157894736842,
           23.263157894736842,
           23.263157894736842,
           23.263157894736842,
           23.263157894736842,
           23.263157894736842,
           23.263157894736842,
           23.263157894736842,
           23.263157894736842,
           23.263157894736842,
           23.263157894736842,
           23.263157894736842,
           23.263157894736842,
           23.263157894736842,
           23.263157894736842,
           23.263157894736842
          ],
          [
           23.684210526315788,
           23.684210526315788,
           23.684210526315788,
           23.684210526315788,
           23.684210526315788,
           23.684210526315788,
           23.684210526315788,
           23.684210526315788,
           23.684210526315788,
           23.684210526315788,
           23.684210526315788,
           23.684210526315788,
           23.684210526315788,
           23.684210526315788,
           23.684210526315788,
           23.684210526315788,
           23.684210526315788,
           23.684210526315788,
           23.684210526315788,
           23.684210526315788
          ],
          [
           24.105263157894736,
           24.105263157894736,
           24.105263157894736,
           24.105263157894736,
           24.105263157894736,
           24.105263157894736,
           24.105263157894736,
           24.105263157894736,
           24.105263157894736,
           24.105263157894736,
           24.105263157894736,
           24.105263157894736,
           24.105263157894736,
           24.105263157894736,
           24.105263157894736,
           24.105263157894736,
           24.105263157894736,
           24.105263157894736,
           24.105263157894736,
           24.105263157894736
          ],
          [
           24.526315789473685,
           24.526315789473685,
           24.526315789473685,
           24.526315789473685,
           24.526315789473685,
           24.526315789473685,
           24.526315789473685,
           24.526315789473685,
           24.526315789473685,
           24.526315789473685,
           24.526315789473685,
           24.526315789473685,
           24.526315789473685,
           24.526315789473685,
           24.526315789473685,
           24.526315789473685,
           24.526315789473685,
           24.526315789473685,
           24.526315789473685,
           24.526315789473685
          ],
          [
           24.94736842105263,
           24.94736842105263,
           24.94736842105263,
           24.94736842105263,
           24.94736842105263,
           24.94736842105263,
           24.94736842105263,
           24.94736842105263,
           24.94736842105263,
           24.94736842105263,
           24.94736842105263,
           24.94736842105263,
           24.94736842105263,
           24.94736842105263,
           24.94736842105263,
           24.94736842105263,
           24.94736842105263,
           24.94736842105263,
           24.94736842105263,
           24.94736842105263
          ],
          [
           25.36842105263158,
           25.36842105263158,
           25.36842105263158,
           25.36842105263158,
           25.36842105263158,
           25.36842105263158,
           25.36842105263158,
           25.36842105263158,
           25.36842105263158,
           25.36842105263158,
           25.36842105263158,
           25.36842105263158,
           25.36842105263158,
           25.36842105263158,
           25.36842105263158,
           25.36842105263158,
           25.36842105263158,
           25.36842105263158,
           25.36842105263158,
           25.36842105263158
          ],
          [
           25.789473684210527,
           25.789473684210527,
           25.789473684210527,
           25.789473684210527,
           25.789473684210527,
           25.789473684210527,
           25.789473684210527,
           25.789473684210527,
           25.789473684210527,
           25.789473684210527,
           25.789473684210527,
           25.789473684210527,
           25.789473684210527,
           25.789473684210527,
           25.789473684210527,
           25.789473684210527,
           25.789473684210527,
           25.789473684210527,
           25.789473684210527,
           25.789473684210527
          ],
          [
           26.210526315789473,
           26.210526315789473,
           26.210526315789473,
           26.210526315789473,
           26.210526315789473,
           26.210526315789473,
           26.210526315789473,
           26.210526315789473,
           26.210526315789473,
           26.210526315789473,
           26.210526315789473,
           26.210526315789473,
           26.210526315789473,
           26.210526315789473,
           26.210526315789473,
           26.210526315789473,
           26.210526315789473,
           26.210526315789473,
           26.210526315789473,
           26.210526315789473
          ],
          [
           26.63157894736842,
           26.63157894736842,
           26.63157894736842,
           26.63157894736842,
           26.63157894736842,
           26.63157894736842,
           26.63157894736842,
           26.63157894736842,
           26.63157894736842,
           26.63157894736842,
           26.63157894736842,
           26.63157894736842,
           26.63157894736842,
           26.63157894736842,
           26.63157894736842,
           26.63157894736842,
           26.63157894736842,
           26.63157894736842,
           26.63157894736842,
           26.63157894736842
          ],
          [
           27.05263157894737,
           27.05263157894737,
           27.05263157894737,
           27.05263157894737,
           27.05263157894737,
           27.05263157894737,
           27.05263157894737,
           27.05263157894737,
           27.05263157894737,
           27.05263157894737,
           27.05263157894737,
           27.05263157894737,
           27.05263157894737,
           27.05263157894737,
           27.05263157894737,
           27.05263157894737,
           27.05263157894737,
           27.05263157894737,
           27.05263157894737,
           27.05263157894737
          ],
          [
           27.473684210526315,
           27.473684210526315,
           27.473684210526315,
           27.473684210526315,
           27.473684210526315,
           27.473684210526315,
           27.473684210526315,
           27.473684210526315,
           27.473684210526315,
           27.473684210526315,
           27.473684210526315,
           27.473684210526315,
           27.473684210526315,
           27.473684210526315,
           27.473684210526315,
           27.473684210526315,
           27.473684210526315,
           27.473684210526315,
           27.473684210526315,
           27.473684210526315
          ],
          [
           27.894736842105264,
           27.894736842105264,
           27.894736842105264,
           27.894736842105264,
           27.894736842105264,
           27.894736842105264,
           27.894736842105264,
           27.894736842105264,
           27.894736842105264,
           27.894736842105264,
           27.894736842105264,
           27.894736842105264,
           27.894736842105264,
           27.894736842105264,
           27.894736842105264,
           27.894736842105264,
           27.894736842105264,
           27.894736842105264,
           27.894736842105264,
           27.894736842105264
          ],
          [
           28.315789473684212,
           28.315789473684212,
           28.315789473684212,
           28.315789473684212,
           28.315789473684212,
           28.315789473684212,
           28.315789473684212,
           28.315789473684212,
           28.315789473684212,
           28.315789473684212,
           28.315789473684212,
           28.315789473684212,
           28.315789473684212,
           28.315789473684212,
           28.315789473684212,
           28.315789473684212,
           28.315789473684212,
           28.315789473684212,
           28.315789473684212,
           28.315789473684212
          ],
          [
           28.736842105263158,
           28.736842105263158,
           28.736842105263158,
           28.736842105263158,
           28.736842105263158,
           28.736842105263158,
           28.736842105263158,
           28.736842105263158,
           28.736842105263158,
           28.736842105263158,
           28.736842105263158,
           28.736842105263158,
           28.736842105263158,
           28.736842105263158,
           28.736842105263158,
           28.736842105263158,
           28.736842105263158,
           28.736842105263158,
           28.736842105263158,
           28.736842105263158
          ],
          [
           29.157894736842103,
           29.157894736842103,
           29.157894736842103,
           29.157894736842103,
           29.157894736842103,
           29.157894736842103,
           29.157894736842103,
           29.157894736842103,
           29.157894736842103,
           29.157894736842103,
           29.157894736842103,
           29.157894736842103,
           29.157894736842103,
           29.157894736842103,
           29.157894736842103,
           29.157894736842103,
           29.157894736842103,
           29.157894736842103,
           29.157894736842103,
           29.157894736842103
          ],
          [
           29.57894736842105,
           29.57894736842105,
           29.57894736842105,
           29.57894736842105,
           29.57894736842105,
           29.57894736842105,
           29.57894736842105,
           29.57894736842105,
           29.57894736842105,
           29.57894736842105,
           29.57894736842105,
           29.57894736842105,
           29.57894736842105,
           29.57894736842105,
           29.57894736842105,
           29.57894736842105,
           29.57894736842105,
           29.57894736842105,
           29.57894736842105,
           29.57894736842105
          ],
          [
           30,
           30,
           30,
           30,
           30,
           30,
           30,
           30,
           30,
           30,
           30,
           30,
           30,
           30,
           30,
           30,
           30,
           30,
           30,
           30
          ]
         ],
         "z": [
          [
           152.71101036802503,
           152.9473434499566,
           153.18367653188818,
           153.42000961381976,
           153.65634269575133,
           153.8926757776829,
           154.1290088596145,
           154.3653419415461,
           154.60167502347767,
           154.83800810540924,
           155.07434118734082,
           155.3106742692724,
           155.54700735120397,
           155.78334043313555,
           156.01967351506715,
           156.25600659699873,
           156.4923396789303,
           156.72867276086188,
           156.96500584279346,
           157.20133892472504
          ],
          [
           154.30576605215074,
           154.54209913408232,
           154.7784322160139,
           155.01476529794547,
           155.25109837987708,
           155.48743146180865,
           155.72376454374023,
           155.9600976256718,
           156.19643070760338,
           156.43276378953496,
           156.66909687146654,
           156.9054299533981,
           157.1417630353297,
           157.3780961172613,
           157.61442919919287,
           157.85076228112445,
           158.08709536305602,
           158.3234284449876,
           158.55976152691917,
           158.79609460885075
          ],
          [
           155.90052173627646,
           156.13685481820804,
           156.3731879001396,
           156.6095209820712,
           156.84585406400276,
           157.08218714593437,
           157.31852022786595,
           157.55485330979752,
           157.7911863917291,
           158.02751947366067,
           158.26385255559225,
           158.50018563752383,
           158.7365187194554,
           158.97285180138698,
           159.20918488331858,
           159.44551796525016,
           159.68185104718174,
           159.9181841291133,
           160.1545172110449,
           160.39085029297647
          ],
          [
           157.49527742040218,
           157.73161050233375,
           157.96794358426533,
           158.20427666619693,
           158.4406097481285,
           158.67694283006009,
           158.91327591199166,
           159.14960899392324,
           159.3859420758548,
           159.6222751577864,
           159.85860823971797,
           160.09494132164957,
           160.33127440358115,
           160.56760748551272,
           160.8039405674443,
           161.04027364937588,
           161.27660673130745,
           161.51293981323903,
           161.7492728951706,
           161.9856059771022
          ],
          [
           159.0900331045279,
           159.32636618645947,
           159.56269926839104,
           159.79903235032262,
           160.0353654322542,
           160.2716985141858,
           160.50803159611738,
           160.74436467804895,
           160.98069775998053,
           161.2170308419121,
           161.45336392384368,
           161.68969700577526,
           161.92603008770686,
           162.16236316963844,
           162.39869625157002,
           162.6350293335016,
           162.87136241543317,
           163.10769549736474,
           163.34402857929632,
           163.5803616612279
          ],
          [
           160.6847887886536,
           160.92112187058518,
           161.1574549525168,
           161.39378803444836,
           161.63012111637994,
           161.86645419831152,
           162.1027872802431,
           162.33912036217467,
           162.57545344410624,
           162.81178652603782,
           163.04811960796943,
           163.284452689901,
           163.52078577183258,
           163.75711885376415,
           163.99345193569573,
           164.2297850176273,
           164.46611809955888,
           164.70245118149046,
           164.93878426342206,
           165.17511734535364
          ],
          [
           162.27954447277935,
           162.51587755471093,
           162.7522106366425,
           162.98854371857408,
           163.22487680050565,
           163.46120988243723,
           163.6975429643688,
           163.9338760463004,
           164.170209128232,
           164.40654221016356,
           164.64287529209514,
           164.87920837402672,
           165.1155414559583,
           165.35187453788987,
           165.58820761982145,
           165.82454070175305,
           166.06087378368463,
           166.2972068656162,
           166.53353994754778,
           166.76987302947936
          ],
          [
           163.87430015690506,
           164.11063323883664,
           164.34696632076822,
           164.5832994026998,
           164.81963248463137,
           165.05596556656295,
           165.29229864849452,
           165.5286317304261,
           165.76496481235768,
           166.00129789428928,
           166.23763097622086,
           166.47396405815243,
           166.710297140084,
           166.94663022201559,
           167.18296330394716,
           167.41929638587874,
           167.65562946781031,
           167.89196254974192,
           168.1282956316735,
           168.36462871360507
          ],
          [
           165.46905584103078,
           165.70538892296236,
           165.94172200489393,
           166.1780550868255,
           166.41438816875709,
           166.65072125068866,
           166.88705433262027,
           167.12338741455184,
           167.35972049648342,
           167.596053578415,
           167.83238666034657,
           168.06871974227815,
           168.30505282420972,
           168.5413859061413,
           168.7777189880729,
           169.01405207000448,
           169.25038515193606,
           169.48671823386763,
           169.7230513157992,
           169.9593843977308
          ],
          [
           167.0638115251565,
           167.30014460708807,
           167.53647768901965,
           167.77281077095125,
           168.00914385288283,
           168.2454769348144,
           168.48181001674598,
           168.71814309867756,
           168.95447618060913,
           169.1908092625407,
           169.4271423444723,
           169.66347542640386,
           169.89980850833547,
           170.13614159026704,
           170.37247467219862,
           170.6088077541302,
           170.84514083606177,
           171.08147391799335,
           171.31780699992493,
           171.5541400818565
          ],
          [
           168.6585672092822,
           168.8949002912138,
           169.13123337314536,
           169.36756645507694,
           169.60389953700852,
           169.84023261894012,
           170.0765657008717,
           170.31289878280327,
           170.54923186473485,
           170.78556494666643,
           171.021898028598,
           171.25823111052958,
           171.49456419246116,
           171.73089727439276,
           171.96723035632434,
           172.2035634382559,
           172.4398965201875,
           172.67622960211907,
           172.91256268405064,
           173.14889576598222
          ],
          [
           170.25332289340793,
           170.4896559753395,
           170.7259890572711,
           170.96232213920268,
           171.19865522113426,
           171.43498830306584,
           171.6713213849974,
           171.907654466929,
           172.14398754886057,
           172.38032063079214,
           172.61665371272375,
           172.85298679465532,
           173.0893198765869,
           173.32565295851848,
           173.56198604045005,
           173.79831912238163,
           174.0346522043132,
           174.27098528624478,
           174.50731836817636,
           174.74365145010796
          ],
          [
           171.84807857753367,
           172.08441165946525,
           172.32074474139682,
           172.5570778233284,
           172.79341090525998,
           173.02974398719155,
           173.26607706912313,
           173.50241015105473,
           173.7387432329863,
           173.97507631491789,
           174.21140939684946,
           174.44774247878104,
           174.6840755607126,
           174.9204086426442,
           175.15674172457577,
           175.39307480650734,
           175.62940788843895,
           175.86574097037052,
           176.1020740523021,
           176.33840713423368
          ],
          [
           173.44283426165936,
           173.67916734359096,
           173.91550042552254,
           174.1518335074541,
           174.3881665893857,
           174.62449967131727,
           174.86083275324884,
           175.09716583518042,
           175.333498917112,
           175.5698319990436,
           175.80616508097518,
           176.04249816290675,
           176.27883124483833,
           176.5151643267699,
           176.75149740870148,
           176.98783049063306,
           177.22416357256463,
           177.46049665449624,
           177.69682973642782,
           177.9331628183594
          ],
          [
           175.0375899457851,
           175.27392302771668,
           175.51025610964825,
           175.74658919157983,
           175.9829222735114,
           176.21925535544298,
           176.45558843737456,
           176.69192151930616,
           176.92825460123774,
           177.16458768316932,
           177.4009207651009,
           177.63725384703247,
           177.87358692896404,
           178.10992001089562,
           178.34625309282723,
           178.5825861747588,
           178.81891925669038,
           179.05525233862195,
           179.29158542055353,
           179.5279185024851
          ],
          [
           176.63234562991082,
           176.8686787118424,
           177.10501179377397,
           177.34134487570554,
           177.57767795763715,
           177.81401103956873,
           178.0503441215003,
           178.28667720343188,
           178.52301028536345,
           178.75934336729503,
           178.9956764492266,
           179.23200953115818,
           179.46834261308976,
           179.70467569502136,
           179.94100877695294,
           180.17734185888452,
           180.4136749408161,
           180.65000802274767,
           180.88634110467925,
           181.12267418661082
          ],
          [
           178.22710131403653,
           178.4634343959681,
           178.69976747789968,
           178.93610055983126,
           179.17243364176284,
           179.40876672369444,
           179.64509980562602,
           179.8814328875576,
           180.11776596948917,
           180.35409905142075,
           180.59043213335232,
           180.8267652152839,
           181.06309829721548,
           181.29943137914705,
           181.53576446107866,
           181.77209754301023,
           182.0084306249418,
           182.24476370687339,
           182.48109678880496,
           182.71742987073654
          ],
          [
           179.82185699816225,
           180.05819008009382,
           180.2945231620254,
           180.53085624395698,
           180.76718932588855,
           181.00352240782013,
           181.23985548975173,
           181.4761885716833,
           181.71252165361489,
           181.94885473554646,
           182.18518781747804,
           182.42152089940961,
           182.6578539813412,
           182.89418706327277,
           183.13052014520434,
           183.36685322713595,
           183.60318630906752,
           183.8395193909991,
           184.07585247293068,
           184.31218555486225
          ],
          [
           181.41661268228796,
           181.65294576421954,
           181.88927884615111,
           182.1256119280827,
           182.3619450100143,
           182.59827809194587,
           182.83461117387745,
           183.07094425580902,
           183.3072773377406,
           183.54361041967218,
           183.77994350160375,
           184.01627658353533,
           184.25260966546693,
           184.4889427473985,
           184.7252758293301,
           184.96160891126166,
           185.19794199319324,
           185.43427507512482,
           185.6706081570564,
           185.90694123898797
          ],
          [
           183.01136836641368,
           183.24770144834525,
           183.48403453027686,
           183.72036761220843,
           183.95670069414,
           184.1930337760716,
           184.42936685800316,
           184.66569993993474,
           184.90203302186632,
           185.13836610379792,
           185.3746991857295,
           185.61103226766107,
           185.84736534959265,
           186.08369843152423,
           186.3200315134558,
           186.55636459538738,
           186.79269767731896,
           187.02903075925053,
           187.26536384118214,
           187.5016969231137
          ]
         ]
        }
       ],
       "layout": {
        "scene": {
         "xaxis": {
          "title": {
           "text": "Ancho"
          }
         },
         "yaxis": {
          "title": {
           "text": "Pie"
          }
         },
         "zaxis": {
          "title": {
           "text": "Altura"
          }
         }
        },
        "template": {
         "data": {
          "bar": [
           {
            "error_x": {
             "color": "#2a3f5f"
            },
            "error_y": {
             "color": "#2a3f5f"
            },
            "marker": {
             "line": {
              "color": "#E5ECF6",
              "width": 0.5
             },
             "pattern": {
              "fillmode": "overlay",
              "size": 10,
              "solidity": 0.2
             }
            },
            "type": "bar"
           }
          ],
          "barpolar": [
           {
            "marker": {
             "line": {
              "color": "#E5ECF6",
              "width": 0.5
             },
             "pattern": {
              "fillmode": "overlay",
              "size": 10,
              "solidity": 0.2
             }
            },
            "type": "barpolar"
           }
          ],
          "carpet": [
           {
            "aaxis": {
             "endlinecolor": "#2a3f5f",
             "gridcolor": "white",
             "linecolor": "white",
             "minorgridcolor": "white",
             "startlinecolor": "#2a3f5f"
            },
            "baxis": {
             "endlinecolor": "#2a3f5f",
             "gridcolor": "white",
             "linecolor": "white",
             "minorgridcolor": "white",
             "startlinecolor": "#2a3f5f"
            },
            "type": "carpet"
           }
          ],
          "choropleth": [
           {
            "colorbar": {
             "outlinewidth": 0,
             "ticks": ""
            },
            "type": "choropleth"
           }
          ],
          "contour": [
           {
            "colorbar": {
             "outlinewidth": 0,
             "ticks": ""
            },
            "colorscale": [
             [
              0,
              "#0d0887"
             ],
             [
              0.1111111111111111,
              "#46039f"
             ],
             [
              0.2222222222222222,
              "#7201a8"
             ],
             [
              0.3333333333333333,
              "#9c179e"
             ],
             [
              0.4444444444444444,
              "#bd3786"
             ],
             [
              0.5555555555555556,
              "#d8576b"
             ],
             [
              0.6666666666666666,
              "#ed7953"
             ],
             [
              0.7777777777777778,
              "#fb9f3a"
             ],
             [
              0.8888888888888888,
              "#fdca26"
             ],
             [
              1,
              "#f0f921"
             ]
            ],
            "type": "contour"
           }
          ],
          "contourcarpet": [
           {
            "colorbar": {
             "outlinewidth": 0,
             "ticks": ""
            },
            "type": "contourcarpet"
           }
          ],
          "heatmap": [
           {
            "colorbar": {
             "outlinewidth": 0,
             "ticks": ""
            },
            "colorscale": [
             [
              0,
              "#0d0887"
             ],
             [
              0.1111111111111111,
              "#46039f"
             ],
             [
              0.2222222222222222,
              "#7201a8"
             ],
             [
              0.3333333333333333,
              "#9c179e"
             ],
             [
              0.4444444444444444,
              "#bd3786"
             ],
             [
              0.5555555555555556,
              "#d8576b"
             ],
             [
              0.6666666666666666,
              "#ed7953"
             ],
             [
              0.7777777777777778,
              "#fb9f3a"
             ],
             [
              0.8888888888888888,
              "#fdca26"
             ],
             [
              1,
              "#f0f921"
             ]
            ],
            "type": "heatmap"
           }
          ],
          "heatmapgl": [
           {
            "colorbar": {
             "outlinewidth": 0,
             "ticks": ""
            },
            "colorscale": [
             [
              0,
              "#0d0887"
             ],
             [
              0.1111111111111111,
              "#46039f"
             ],
             [
              0.2222222222222222,
              "#7201a8"
             ],
             [
              0.3333333333333333,
              "#9c179e"
             ],
             [
              0.4444444444444444,
              "#bd3786"
             ],
             [
              0.5555555555555556,
              "#d8576b"
             ],
             [
              0.6666666666666666,
              "#ed7953"
             ],
             [
              0.7777777777777778,
              "#fb9f3a"
             ],
             [
              0.8888888888888888,
              "#fdca26"
             ],
             [
              1,
              "#f0f921"
             ]
            ],
            "type": "heatmapgl"
           }
          ],
          "histogram": [
           {
            "marker": {
             "pattern": {
              "fillmode": "overlay",
              "size": 10,
              "solidity": 0.2
             }
            },
            "type": "histogram"
           }
          ],
          "histogram2d": [
           {
            "colorbar": {
             "outlinewidth": 0,
             "ticks": ""
            },
            "colorscale": [
             [
              0,
              "#0d0887"
             ],
             [
              0.1111111111111111,
              "#46039f"
             ],
             [
              0.2222222222222222,
              "#7201a8"
             ],
             [
              0.3333333333333333,
              "#9c179e"
             ],
             [
              0.4444444444444444,
              "#bd3786"
             ],
             [
              0.5555555555555556,
              "#d8576b"
             ],
             [
              0.6666666666666666,
              "#ed7953"
             ],
             [
              0.7777777777777778,
              "#fb9f3a"
             ],
             [
              0.8888888888888888,
              "#fdca26"
             ],
             [
              1,
              "#f0f921"
             ]
            ],
            "type": "histogram2d"
           }
          ],
          "histogram2dcontour": [
           {
            "colorbar": {
             "outlinewidth": 0,
             "ticks": ""
            },
            "colorscale": [
             [
              0,
              "#0d0887"
             ],
             [
              0.1111111111111111,
              "#46039f"
             ],
             [
              0.2222222222222222,
              "#7201a8"
             ],
             [
              0.3333333333333333,
              "#9c179e"
             ],
             [
              0.4444444444444444,
              "#bd3786"
             ],
             [
              0.5555555555555556,
              "#d8576b"
             ],
             [
              0.6666666666666666,
              "#ed7953"
             ],
             [
              0.7777777777777778,
              "#fb9f3a"
             ],
             [
              0.8888888888888888,
              "#fdca26"
             ],
             [
              1,
              "#f0f921"
             ]
            ],
            "type": "histogram2dcontour"
           }
          ],
          "mesh3d": [
           {
            "colorbar": {
             "outlinewidth": 0,
             "ticks": ""
            },
            "type": "mesh3d"
           }
          ],
          "parcoords": [
           {
            "line": {
             "colorbar": {
              "outlinewidth": 0,
              "ticks": ""
             }
            },
            "type": "parcoords"
           }
          ],
          "pie": [
           {
            "automargin": true,
            "type": "pie"
           }
          ],
          "scatter": [
           {
            "fillpattern": {
             "fillmode": "overlay",
             "size": 10,
             "solidity": 0.2
            },
            "type": "scatter"
           }
          ],
          "scatter3d": [
           {
            "line": {
             "colorbar": {
              "outlinewidth": 0,
              "ticks": ""
             }
            },
            "marker": {
             "colorbar": {
              "outlinewidth": 0,
              "ticks": ""
             }
            },
            "type": "scatter3d"
           }
          ],
          "scattercarpet": [
           {
            "marker": {
             "colorbar": {
              "outlinewidth": 0,
              "ticks": ""
             }
            },
            "type": "scattercarpet"
           }
          ],
          "scattergeo": [
           {
            "marker": {
             "colorbar": {
              "outlinewidth": 0,
              "ticks": ""
             }
            },
            "type": "scattergeo"
           }
          ],
          "scattergl": [
           {
            "marker": {
             "colorbar": {
              "outlinewidth": 0,
              "ticks": ""
             }
            },
            "type": "scattergl"
           }
          ],
          "scattermapbox": [
           {
            "marker": {
             "colorbar": {
              "outlinewidth": 0,
              "ticks": ""
             }
            },
            "type": "scattermapbox"
           }
          ],
          "scatterpolar": [
           {
            "marker": {
             "colorbar": {
              "outlinewidth": 0,
              "ticks": ""
             }
            },
            "type": "scatterpolar"
           }
          ],
          "scatterpolargl": [
           {
            "marker": {
             "colorbar": {
              "outlinewidth": 0,
              "ticks": ""
             }
            },
            "type": "scatterpolargl"
           }
          ],
          "scatterternary": [
           {
            "marker": {
             "colorbar": {
              "outlinewidth": 0,
              "ticks": ""
             }
            },
            "type": "scatterternary"
           }
          ],
          "surface": [
           {
            "colorbar": {
             "outlinewidth": 0,
             "ticks": ""
            },
            "colorscale": [
             [
              0,
              "#0d0887"
             ],
             [
              0.1111111111111111,
              "#46039f"
             ],
             [
              0.2222222222222222,
              "#7201a8"
             ],
             [
              0.3333333333333333,
              "#9c179e"
             ],
             [
              0.4444444444444444,
              "#bd3786"
             ],
             [
              0.5555555555555556,
              "#d8576b"
             ],
             [
              0.6666666666666666,
              "#ed7953"
             ],
             [
              0.7777777777777778,
              "#fb9f3a"
             ],
             [
              0.8888888888888888,
              "#fdca26"
             ],
             [
              1,
              "#f0f921"
             ]
            ],
            "type": "surface"
           }
          ],
          "table": [
           {
            "cells": {
             "fill": {
              "color": "#EBF0F8"
             },
             "line": {
              "color": "white"
             }
            },
            "header": {
             "fill": {
              "color": "#C8D4E3"
             },
             "line": {
              "color": "white"
             }
            },
            "type": "table"
           }
          ]
         },
         "layout": {
          "annotationdefaults": {
           "arrowcolor": "#2a3f5f",
           "arrowhead": 0,
           "arrowwidth": 1
          },
          "autotypenumbers": "strict",
          "coloraxis": {
           "colorbar": {
            "outlinewidth": 0,
            "ticks": ""
           }
          },
          "colorscale": {
           "diverging": [
            [
             0,
             "#8e0152"
            ],
            [
             0.1,
             "#c51b7d"
            ],
            [
             0.2,
             "#de77ae"
            ],
            [
             0.3,
             "#f1b6da"
            ],
            [
             0.4,
             "#fde0ef"
            ],
            [
             0.5,
             "#f7f7f7"
            ],
            [
             0.6,
             "#e6f5d0"
            ],
            [
             0.7,
             "#b8e186"
            ],
            [
             0.8,
             "#7fbc41"
            ],
            [
             0.9,
             "#4d9221"
            ],
            [
             1,
             "#276419"
            ]
           ],
           "sequential": [
            [
             0,
             "#0d0887"
            ],
            [
             0.1111111111111111,
             "#46039f"
            ],
            [
             0.2222222222222222,
             "#7201a8"
            ],
            [
             0.3333333333333333,
             "#9c179e"
            ],
            [
             0.4444444444444444,
             "#bd3786"
            ],
            [
             0.5555555555555556,
             "#d8576b"
            ],
            [
             0.6666666666666666,
             "#ed7953"
            ],
            [
             0.7777777777777778,
             "#fb9f3a"
            ],
            [
             0.8888888888888888,
             "#fdca26"
            ],
            [
             1,
             "#f0f921"
            ]
           ],
           "sequentialminus": [
            [
             0,
             "#0d0887"
            ],
            [
             0.1111111111111111,
             "#46039f"
            ],
            [
             0.2222222222222222,
             "#7201a8"
            ],
            [
             0.3333333333333333,
             "#9c179e"
            ],
            [
             0.4444444444444444,
             "#bd3786"
            ],
            [
             0.5555555555555556,
             "#d8576b"
            ],
            [
             0.6666666666666666,
             "#ed7953"
            ],
            [
             0.7777777777777778,
             "#fb9f3a"
            ],
            [
             0.8888888888888888,
             "#fdca26"
            ],
            [
             1,
             "#f0f921"
            ]
           ]
          },
          "colorway": [
           "#636efa",
           "#EF553B",
           "#00cc96",
           "#ab63fa",
           "#FFA15A",
           "#19d3f3",
           "#FF6692",
           "#B6E880",
           "#FF97FF",
           "#FECB52"
          ],
          "font": {
           "color": "#2a3f5f"
          },
          "geo": {
           "bgcolor": "white",
           "lakecolor": "white",
           "landcolor": "#E5ECF6",
           "showlakes": true,
           "showland": true,
           "subunitcolor": "white"
          },
          "hoverlabel": {
           "align": "left"
          },
          "hovermode": "closest",
          "mapbox": {
           "style": "light"
          },
          "paper_bgcolor": "white",
          "plot_bgcolor": "#E5ECF6",
          "polar": {
           "angularaxis": {
            "gridcolor": "white",
            "linecolor": "white",
            "ticks": ""
           },
           "bgcolor": "#E5ECF6",
           "radialaxis": {
            "gridcolor": "white",
            "linecolor": "white",
            "ticks": ""
           }
          },
          "scene": {
           "xaxis": {
            "backgroundcolor": "#E5ECF6",
            "gridcolor": "white",
            "gridwidth": 2,
            "linecolor": "white",
            "showbackground": true,
            "ticks": "",
            "zerolinecolor": "white"
           },
           "yaxis": {
            "backgroundcolor": "#E5ECF6",
            "gridcolor": "white",
            "gridwidth": 2,
            "linecolor": "white",
            "showbackground": true,
            "ticks": "",
            "zerolinecolor": "white"
           },
           "zaxis": {
            "backgroundcolor": "#E5ECF6",
            "gridcolor": "white",
            "gridwidth": 2,
            "linecolor": "white",
            "showbackground": true,
            "ticks": "",
            "zerolinecolor": "white"
           }
          },
          "shapedefaults": {
           "line": {
            "color": "#2a3f5f"
           }
          },
          "ternary": {
           "aaxis": {
            "gridcolor": "white",
            "linecolor": "white",
            "ticks": ""
           },
           "baxis": {
            "gridcolor": "white",
            "linecolor": "white",
            "ticks": ""
           },
           "bgcolor": "#E5ECF6",
           "caxis": {
            "gridcolor": "white",
            "linecolor": "white",
            "ticks": ""
           }
          },
          "title": {
           "x": 0.05
          },
          "xaxis": {
           "automargin": true,
           "gridcolor": "white",
           "linecolor": "white",
           "ticks": "",
           "title": {
            "standoff": 15
           },
           "zerolinecolor": "white",
           "zerolinewidth": 2
          },
          "yaxis": {
           "automargin": true,
           "gridcolor": "white",
           "linecolor": "white",
           "ticks": "",
           "title": {
            "standoff": 15
           },
           "zerolinecolor": "white",
           "zerolinewidth": 2
          }
         }
        },
        "title": {
         "text": "ITESO CENTER<br>R2: 0.8484303924224865 RMSE: 4.280983988385949"
        }
       }
      }
     },
     "metadata": {},
     "output_type": "display_data"
    }
   ],
   "source": [
    "# Definir rangos para las variables independientes\n",
    "x1_range = np.linspace(min(x_train_center['width']), max(x_train_center['width']), 20)\n",
    "x2_range = np.linspace(min(x_train_center['shoe_size']), max(x_train_center['shoe_size']), 20)\n",
    "x1_mesh, x2_mesh = np.meshgrid(x1_range, x2_range)\n",
    "\n",
    "# Escalar el meshgrid para predicción\n",
    "x_mesh_scaled = ss_center.transform(np.vstack((x1_mesh.ravel(), x2_mesh.ravel())).T)\n",
    "\n",
    "# Predecir los valores con el modelo escalado\n",
    "y_mesh_scaled = rg_c.predict(x_mesh_scaled)\n",
    "\n",
    "# Crear scatterplot 3D de los puntos reales\n",
    "scatter = go.Scatter3d(\n",
    "    x=x_test_center['width'], y=x_test_center['shoe_size'], z=y_test_center,\n",
    "    mode='markers',\n",
    "    marker=dict(size=8, color='red', opacity=0.7)\n",
    ")\n",
    "\n",
    "# Crear el plano de regresión\n",
    "surface = go.Surface(\n",
    "    x=x1_mesh, y=x2_mesh, z=y_mesh_scaled.reshape(x1_mesh.shape),\n",
    "    colorscale='Viridis', opacity=0.5\n",
    ")\n",
    "\n",
    "# Configuración del layout\n",
    "layout = go.Layout(\n",
    "    title=f\"ITESO CENTER<br>R2: {r2_score(y_test_center, r_pred_center)} RMSE: {root_mean_squared_error(y_test_center, r_pred_center)}\",\n",
    "    scene=dict(\n",
    "        xaxis_title='Ancho',\n",
    "        yaxis_title='Pie',\n",
    "        zaxis_title='Altura'\n",
    "    )\n",
    ")\n",
    "\n",
    "# Crear la figura\n",
    "fig = go.Figure(data=[scatter, surface], layout=layout)\n",
    "\n",
    "# Mostrar la figura interactiva\n",
    "fig.show()"
   ]
  },
  {
   "cell_type": "markdown",
   "metadata": {},
   "source": [
    "**¿Agregarías datos a tu base de datos para mejorar las predicciones del modelo?**\n",
    "\n",
    "Sí, al tener tan pocos datos, en específico 18 necesitamos más datos ya que las predicciones que se hagan con el modelo no van a ser tan confiables, ya que son más sensibles a datos atípicos."
   ]
  },
  {
   "cell_type": "markdown",
   "metadata": {},
   "source": [
    "**¿Cómo conseguirías dicha información?**\n",
    "\n",
    "Medimos a 70 personas más y como se muestra anteriormente se segmentaron los datos de la altura, se hicieron nuevos datos para los datos cuya altura fueran menor o igual al primer cuartil, para los que fueran mayor o igual al tercer cuartil y para los que estuvieran entre el primer y tercer cuartil, en específico se hicieron 100 para cada uno."
   ]
  },
  {
   "cell_type": "markdown",
   "metadata": {},
   "source": [
    "**¿Modificarías algún parámetro de tu modelo?**\n",
    "\n",
    "En este caso, al segmentar los datos por alturas, se hicieron 3 modelos. A los 3 modelos se le aplicó regularización Ridge con un alpha de 1.26, el cual se obtuvo mediante diferentes pruebas e intentos para obtener el valor óptimo."
   ]
  },
  {
   "cell_type": "markdown",
   "metadata": {},
   "source": [
    "## Parte 3"
   ]
  },
  {
   "cell_type": "markdown",
   "metadata": {},
   "source": [
    "### Países Bajos"
   ]
  },
  {
   "cell_type": "code",
   "execution_count": 605,
   "metadata": {},
   "outputs": [],
   "source": [
    "df = pd.read_csv('datos_gente_1.csv')"
   ]
  },
  {
   "cell_type": "code",
   "execution_count": 606,
   "metadata": {},
   "outputs": [
    {
     "data": {
      "text/html": [
       "<div>\n",
       "<style scoped>\n",
       "    .dataframe tbody tr th:only-of-type {\n",
       "        vertical-align: middle;\n",
       "    }\n",
       "\n",
       "    .dataframe tbody tr th {\n",
       "        vertical-align: top;\n",
       "    }\n",
       "\n",
       "    .dataframe thead th {\n",
       "        text-align: right;\n",
       "    }\n",
       "</style>\n",
       "<table border=\"1\" class=\"dataframe\">\n",
       "  <thead>\n",
       "    <tr style=\"text-align: right;\">\n",
       "      <th></th>\n",
       "      <th>height</th>\n",
       "      <th>width</th>\n",
       "      <th>shoe_size</th>\n",
       "    </tr>\n",
       "  </thead>\n",
       "  <tbody>\n",
       "    <tr>\n",
       "      <th>0</th>\n",
       "      <td>185</td>\n",
       "      <td>55</td>\n",
       "      <td>28.0</td>\n",
       "    </tr>\n",
       "    <tr>\n",
       "      <th>6</th>\n",
       "      <td>187</td>\n",
       "      <td>48</td>\n",
       "      <td>29.0</td>\n",
       "    </tr>\n",
       "    <tr>\n",
       "      <th>12</th>\n",
       "      <td>179</td>\n",
       "      <td>55</td>\n",
       "      <td>28.0</td>\n",
       "    </tr>\n",
       "    <tr>\n",
       "      <th>22</th>\n",
       "      <td>177</td>\n",
       "      <td>42</td>\n",
       "      <td>27.0</td>\n",
       "    </tr>\n",
       "    <tr>\n",
       "      <th>25</th>\n",
       "      <td>180</td>\n",
       "      <td>45</td>\n",
       "      <td>27.0</td>\n",
       "    </tr>\n",
       "    <tr>\n",
       "      <th>33</th>\n",
       "      <td>178</td>\n",
       "      <td>49</td>\n",
       "      <td>27.5</td>\n",
       "    </tr>\n",
       "    <tr>\n",
       "      <th>41</th>\n",
       "      <td>190</td>\n",
       "      <td>50</td>\n",
       "      <td>29.0</td>\n",
       "    </tr>\n",
       "    <tr>\n",
       "      <th>44</th>\n",
       "      <td>180</td>\n",
       "      <td>50</td>\n",
       "      <td>28.0</td>\n",
       "    </tr>\n",
       "    <tr>\n",
       "      <th>47</th>\n",
       "      <td>178</td>\n",
       "      <td>45</td>\n",
       "      <td>29.0</td>\n",
       "    </tr>\n",
       "    <tr>\n",
       "      <th>51</th>\n",
       "      <td>182</td>\n",
       "      <td>47</td>\n",
       "      <td>28.0</td>\n",
       "    </tr>\n",
       "    <tr>\n",
       "      <th>54</th>\n",
       "      <td>183</td>\n",
       "      <td>47</td>\n",
       "      <td>28.0</td>\n",
       "    </tr>\n",
       "    <tr>\n",
       "      <th>61</th>\n",
       "      <td>183</td>\n",
       "      <td>50</td>\n",
       "      <td>29.5</td>\n",
       "    </tr>\n",
       "    <tr>\n",
       "      <th>63</th>\n",
       "      <td>188</td>\n",
       "      <td>55</td>\n",
       "      <td>30.0</td>\n",
       "    </tr>\n",
       "    <tr>\n",
       "      <th>65</th>\n",
       "      <td>190</td>\n",
       "      <td>52</td>\n",
       "      <td>30.0</td>\n",
       "    </tr>\n",
       "    <tr>\n",
       "      <th>67</th>\n",
       "      <td>177</td>\n",
       "      <td>42</td>\n",
       "      <td>28.0</td>\n",
       "    </tr>\n",
       "    <tr>\n",
       "      <th>68</th>\n",
       "      <td>182</td>\n",
       "      <td>43</td>\n",
       "      <td>28.0</td>\n",
       "    </tr>\n",
       "    <tr>\n",
       "      <th>70</th>\n",
       "      <td>185</td>\n",
       "      <td>47</td>\n",
       "      <td>29.5</td>\n",
       "    </tr>\n",
       "    <tr>\n",
       "      <th>74</th>\n",
       "      <td>182</td>\n",
       "      <td>46</td>\n",
       "      <td>28.0</td>\n",
       "    </tr>\n",
       "  </tbody>\n",
       "</table>\n",
       "</div>"
      ],
      "text/plain": [
       "    height  width  shoe_size\n",
       "0      185     55       28.0\n",
       "6      187     48       29.0\n",
       "12     179     55       28.0\n",
       "22     177     42       27.0\n",
       "25     180     45       27.0\n",
       "33     178     49       27.5\n",
       "41     190     50       29.0\n",
       "44     180     50       28.0\n",
       "47     178     45       29.0\n",
       "51     182     47       28.0\n",
       "54     183     47       28.0\n",
       "61     183     50       29.5\n",
       "63     188     55       30.0\n",
       "65     190     52       30.0\n",
       "67     177     42       28.0\n",
       "68     182     43       28.0\n",
       "70     185     47       29.5\n",
       "74     182     46       28.0"
      ]
     },
     "execution_count": 606,
     "metadata": {},
     "output_type": "execute_result"
    }
   ],
   "source": [
    "df2 = df[df['height'] > 176.5]\n",
    "df2"
   ]
  },
  {
   "cell_type": "code",
   "execution_count": 607,
   "metadata": {},
   "outputs": [
    {
     "data": {
      "text/plain": [
       "array([[<Axes: title={'center': 'height'}>,\n",
       "        <Axes: title={'center': 'width'}>],\n",
       "       [<Axes: title={'center': 'shoe_size'}>, <Axes: >]], dtype=object)"
      ]
     },
     "execution_count": 607,
     "metadata": {},
     "output_type": "execute_result"
    },
    {
     "data": {
      "image/png": "[encoded data removed]",
      "text/plain": [
       "<Figure size 640x480 with 4 Axes>"
      ]
     },
     "metadata": {},
     "output_type": "display_data"
    }
   ],
   "source": [
    "df2.hist()"
   ]
  },
  {
   "cell_type": "code",
   "execution_count": 608,
   "metadata": {},
   "outputs": [
    {
     "data": {
      "text/plain": [
       "height       182.555556\n",
       "width         48.222222\n",
       "shoe_size     28.416667\n",
       "dtype: float64"
      ]
     },
     "execution_count": 608,
     "metadata": {},
     "output_type": "execute_result"
    }
   ],
   "source": [
    "df2.mean()"
   ]
  },
  {
   "cell_type": "code",
   "execution_count": 609,
   "metadata": {},
   "outputs": [
    {
     "data": {
      "text/plain": [
       "height       4.217920\n",
       "width        4.180565\n",
       "shoe_size    0.927520\n",
       "dtype: float64"
      ]
     },
     "execution_count": 609,
     "metadata": {},
     "output_type": "execute_result"
    }
   ],
   "source": [
    "df2.std()"
   ]
  },
  {
   "cell_type": "code",
   "execution_count": 610,
   "metadata": {},
   "outputs": [
    {
     "data": {
      "text/plain": [
       "array([171., 171., 172., 173., 173., 175., 176., 176., 176., 176., 176.,\n",
       "       177., 177., 177., 177., 177., 177., 178., 178., 178., 178., 179.,\n",
       "       179., 179., 180., 180., 180., 180., 180., 180., 181., 181., 181.,\n",
       "       181., 181., 181., 181., 181., 182., 182., 182., 182., 182., 183.,\n",
       "       183., 183., 183., 183., 183., 183., 183., 183., 183., 183., 183.,\n",
       "       183., 184., 184., 184., 184., 184., 184., 184., 184., 184., 185.,\n",
       "       185., 185., 185., 185., 185., 185., 186., 186., 186., 186., 186.,\n",
       "       186., 186., 186., 186., 186., 186., 187., 187., 187., 187., 187.,\n",
       "       188., 189., 189., 189., 189., 190., 190., 190., 191., 191., 192.,\n",
       "       193.])"
      ]
     },
     "execution_count": 610,
     "metadata": {},
     "output_type": "execute_result"
    }
   ],
   "source": [
    "df2_nuevo_altura = np.random.normal(loc=182.56, scale=4.22, size=100)\n",
    "df_altura_red= np.round(df2_nuevo_altura, 0)\n",
    "df_altura = np.sort(df_altura_red)\n",
    "df_altura"
   ]
  },
  {
   "cell_type": "code",
   "execution_count": 611,
   "metadata": {},
   "outputs": [
    {
     "data": {
      "text/plain": [
       "array([38., 39., 40., 40., 41., 41., 42., 42., 42., 42., 42., 42., 43.,\n",
       "       43., 43., 44., 44., 44., 44., 44., 45., 45., 45., 45., 45., 45.,\n",
       "       45., 45., 45., 45., 45., 46., 46., 46., 46., 46., 46., 46., 46.,\n",
       "       46., 46., 47., 47., 47., 47., 47., 47., 47., 48., 48., 48., 48.,\n",
       "       48., 48., 48., 48., 48., 48., 48., 48., 48., 49., 49., 49., 49.,\n",
       "       49., 49., 49., 49., 49., 49., 50., 50., 50., 50., 50., 50., 51.,\n",
       "       51., 51., 51., 51., 51., 51., 51., 51., 52., 52., 52., 53., 53.,\n",
       "       53., 53., 53., 54., 54., 55., 55., 56., 59.])"
      ]
     },
     "execution_count": 611,
     "metadata": {},
     "output_type": "execute_result"
    }
   ],
   "source": [
    "df2_nuevo_ancho = np.random.normal(loc=48.22, scale=4.18, size=100)\n",
    "df_ancho_red= np.round(df2_nuevo_ancho, 0)\n",
    "df_ancho = np.sort(df_ancho_red)\n",
    "df_ancho"
   ]
  },
  {
   "cell_type": "code",
   "execution_count": 612,
   "metadata": {},
   "outputs": [
    {
     "data": {
      "text/plain": [
       "array([26.3, 26.5, 26.5, 26.7, 26.8, 26.9, 26.9, 27. , 27. , 27.1, 27.1,\n",
       "       27.1, 27.1, 27.2, 27.2, 27.2, 27.3, 27.3, 27.3, 27.3, 27.4, 27.5,\n",
       "       27.5, 27.5, 27.5, 27.7, 27.7, 27.7, 27.7, 27.7, 27.7, 27.8, 27.8,\n",
       "       27.9, 27.9, 27.9, 27.9, 28. , 28. , 28.1, 28.1, 28.1, 28.1, 28.1,\n",
       "       28.2, 28.2, 28.2, 28.2, 28.2, 28.3, 28.3, 28.3, 28.3, 28.4, 28.4,\n",
       "       28.4, 28.4, 28.4, 28.5, 28.5, 28.5, 28.5, 28.6, 28.6, 28.6, 28.6,\n",
       "       28.6, 28.7, 28.7, 28.7, 28.8, 28.8, 28.9, 29.1, 29.1, 29.1, 29.2,\n",
       "       29.2, 29.2, 29.2, 29.2, 29.2, 29.2, 29.3, 29.3, 29.4, 29.4, 29.4,\n",
       "       29.5, 29.7, 29.8, 29.8, 29.8, 29.9, 30.1, 30.2, 30.4, 30.5, 30.8,\n",
       "       30.9])"
      ]
     },
     "execution_count": 612,
     "metadata": {},
     "output_type": "execute_result"
    }
   ],
   "source": [
    "df2_nuevo_pie = np.random.normal(loc=28.42, scale=0.93, size=100)\n",
    "df_pie_red= np.round(df2_nuevo_pie, 1)\n",
    "df_pie= np.sort(df_pie_red)\n",
    "df_pie"
   ]
  },
  {
   "cell_type": "code",
   "execution_count": 613,
   "metadata": {},
   "outputs": [
    {
     "data": {
      "text/html": [
       "<div>\n",
       "<style scoped>\n",
       "    .dataframe tbody tr th:only-of-type {\n",
       "        vertical-align: middle;\n",
       "    }\n",
       "\n",
       "    .dataframe tbody tr th {\n",
       "        vertical-align: top;\n",
       "    }\n",
       "\n",
       "    .dataframe thead th {\n",
       "        text-align: right;\n",
       "    }\n",
       "</style>\n",
       "<table border=\"1\" class=\"dataframe\">\n",
       "  <thead>\n",
       "    <tr style=\"text-align: right;\">\n",
       "      <th></th>\n",
       "      <th>height</th>\n",
       "      <th>width</th>\n",
       "      <th>shoe_size</th>\n",
       "    </tr>\n",
       "  </thead>\n",
       "  <tbody>\n",
       "    <tr>\n",
       "      <th>0</th>\n",
       "      <td>171.0</td>\n",
       "      <td>38.0</td>\n",
       "      <td>26.3</td>\n",
       "    </tr>\n",
       "    <tr>\n",
       "      <th>1</th>\n",
       "      <td>171.0</td>\n",
       "      <td>39.0</td>\n",
       "      <td>26.5</td>\n",
       "    </tr>\n",
       "    <tr>\n",
       "      <th>2</th>\n",
       "      <td>172.0</td>\n",
       "      <td>40.0</td>\n",
       "      <td>26.5</td>\n",
       "    </tr>\n",
       "    <tr>\n",
       "      <th>3</th>\n",
       "      <td>173.0</td>\n",
       "      <td>40.0</td>\n",
       "      <td>26.7</td>\n",
       "    </tr>\n",
       "    <tr>\n",
       "      <th>4</th>\n",
       "      <td>173.0</td>\n",
       "      <td>41.0</td>\n",
       "      <td>26.8</td>\n",
       "    </tr>\n",
       "    <tr>\n",
       "      <th>...</th>\n",
       "      <td>...</td>\n",
       "      <td>...</td>\n",
       "      <td>...</td>\n",
       "    </tr>\n",
       "    <tr>\n",
       "      <th>95</th>\n",
       "      <td>190.0</td>\n",
       "      <td>54.0</td>\n",
       "      <td>30.2</td>\n",
       "    </tr>\n",
       "    <tr>\n",
       "      <th>96</th>\n",
       "      <td>191.0</td>\n",
       "      <td>55.0</td>\n",
       "      <td>30.4</td>\n",
       "    </tr>\n",
       "    <tr>\n",
       "      <th>97</th>\n",
       "      <td>191.0</td>\n",
       "      <td>55.0</td>\n",
       "      <td>30.5</td>\n",
       "    </tr>\n",
       "    <tr>\n",
       "      <th>98</th>\n",
       "      <td>192.0</td>\n",
       "      <td>56.0</td>\n",
       "      <td>30.8</td>\n",
       "    </tr>\n",
       "    <tr>\n",
       "      <th>99</th>\n",
       "      <td>193.0</td>\n",
       "      <td>59.0</td>\n",
       "      <td>30.9</td>\n",
       "    </tr>\n",
       "  </tbody>\n",
       "</table>\n",
       "<p>100 rows × 3 columns</p>\n",
       "</div>"
      ],
      "text/plain": [
       "    height  width  shoe_size\n",
       "0    171.0   38.0       26.3\n",
       "1    171.0   39.0       26.5\n",
       "2    172.0   40.0       26.5\n",
       "3    173.0   40.0       26.7\n",
       "4    173.0   41.0       26.8\n",
       "..     ...    ...        ...\n",
       "95   190.0   54.0       30.2\n",
       "96   191.0   55.0       30.4\n",
       "97   191.0   55.0       30.5\n",
       "98   192.0   56.0       30.8\n",
       "99   193.0   59.0       30.9\n",
       "\n",
       "[100 rows x 3 columns]"
      ]
     },
     "execution_count": 613,
     "metadata": {},
     "output_type": "execute_result"
    }
   ],
   "source": [
    "df_pb = pd.DataFrame({'height': df_altura, 'width': df_ancho, 'shoe_size': df_pie})\n",
    "df_pb"
   ]
  },
  {
   "cell_type": "code",
   "execution_count": 614,
   "metadata": {},
   "outputs": [
    {
     "data": {
      "text/plain": [
       "array([[<Axes: title={'center': 'height'}>,\n",
       "        <Axes: title={'center': 'width'}>],\n",
       "       [<Axes: title={'center': 'shoe_size'}>, <Axes: >]], dtype=object)"
      ]
     },
     "execution_count": 614,
     "metadata": {},
     "output_type": "execute_result"
    },
    {
     "data": {
      "image/png": "[encoded data removed]",
      "text/plain": [
       "<Figure size 640x480 with 4 Axes>"
      ]
     },
     "metadata": {},
     "output_type": "display_data"
    }
   ],
   "source": [
    "df_pb.hist()"
   ]
  },
  {
   "cell_type": "code",
   "execution_count": 615,
   "metadata": {},
   "outputs": [],
   "source": [
    "X = df_pb.drop(\"height\", axis=1)\n",
    "y = df_pb[\"height\"]"
   ]
  },
  {
   "cell_type": "code",
   "execution_count": 616,
   "metadata": {},
   "outputs": [],
   "source": [
    "x_train_pb, x_test_pb, y_train_pb, y_test_pb = train_test_split(X, y, test_size=0.20, random_state=48)"
   ]
  },
  {
   "cell_type": "code",
   "execution_count": 617,
   "metadata": {},
   "outputs": [],
   "source": [
    "ss_pb = StandardScaler()\n",
    "x_train_pb_ss = ss_pb.fit_transform(x_train_pb)\n",
    "x_test_pb_ss = ss_pb.transform(x_test_pb)"
   ]
  },
  {
   "cell_type": "code",
   "execution_count": 618,
   "metadata": {},
   "outputs": [
    {
     "name": "stdout",
     "output_type": "stream",
     "text": [
      "R2:0.9868156201924916, RMSE: 0.5186148359555198\n"
     ]
    }
   ],
   "source": [
    "modelo_pb = LinearRegression()\n",
    "modelo_pb.fit(x_train_pb_ss, y_train_pb)\n",
    "pb_pred = modelo_pb.predict(x_test_pb_ss)\n",
    "r2 = r2_score(y_test_pb, pb_pred)\n",
    "print(f\"R2:{r2_score(y_test_pb, pb_pred)}, RMSE: {root_mean_squared_error(y_test_pb, pb_pred)}\")"
   ]
  },
  {
   "cell_type": "code",
   "execution_count": 619,
   "metadata": {},
   "outputs": [
    {
     "name": "stdout",
     "output_type": "stream",
     "text": [
      "Pendientes: [3.65322253 1.00936414]\n",
      "Intercepto: 182.45\n"
     ]
    }
   ],
   "source": [
    "print(f\"Pendientes: {modelo_pb.coef_}\")\n",
    "print(f\"Intercepto: {modelo_pb.intercept_}\")"
   ]
  },
  {
   "cell_type": "code",
   "execution_count": 620,
   "metadata": {},
   "outputs": [
    {
     "name": "stderr",
     "output_type": "stream",
     "text": [
      "c:\\Users\\Roi_f\\anaconda3\\envs\\personal\\Lib\\site-packages\\sklearn\\base.py:493: UserWarning:\n",
      "\n",
      "X does not have valid feature names, but StandardScaler was fitted with feature names\n",
      "\n"
     ]
    }
   ],
   "source": [
    "values_pb= ss_pb.transform([[44,27.5]])"
   ]
  },
  {
   "cell_type": "code",
   "execution_count": 621,
   "metadata": {},
   "outputs": [
    {
     "data": {
      "text/plain": [
       "array([178.44284134])"
      ]
     },
     "execution_count": 621,
     "metadata": {},
     "output_type": "execute_result"
    }
   ],
   "source": [
    "modelo_pb.predict(values_pb)"
   ]
  },
  {
   "cell_type": "code",
   "execution_count": 622,
   "metadata": {},
   "outputs": [],
   "source": [
    "x_train_pb = np.array(x_train_pb)\n",
    "x_test_pb = np.array(x_test_pb)"
   ]
  },
  {
   "cell_type": "code",
   "execution_count": 623,
   "metadata": {},
   "outputs": [
    {
     "name": "stderr",
     "output_type": "stream",
     "text": [
      "c:\\Users\\Roi_f\\anaconda3\\envs\\personal\\Lib\\site-packages\\sklearn\\base.py:493: UserWarning:\n",
      "\n",
      "X does not have valid feature names, but StandardScaler was fitted with feature names\n",
      "\n"
     ]
    },
    {
     "data": {
      "application/vnd.plotly.v1+json": {
       "config": {
        "plotlyServerURL": "https://plot.ly"
       },
       "data": [
        {
         "marker": {
          "color": "red",
          "opacity": 0.7,
          "size": 8
         },
         "mode": "markers",
         "type": "scatter3d",
         "x": [
          53,
          41,
          50,
          42,
          42,
          51,
          49,
          42,
          48,
          49,
          46,
          51,
          51,
          49,
          48,
          44,
          55,
          49,
          45,
          50
         ],
         "y": [
          29.9,
          26.9,
          28.8,
          27.1,
          27.1,
          29.2,
          28.7,
          27,
          28.5,
          28.6,
          28.1,
          29.3,
          29.4,
          28.6,
          28.3,
          27.3,
          30.4,
          28.5,
          27.5,
          29.1
         ],
         "z": [
          190,
          175,
          185,
          176,
          177,
          186,
          185,
          176,
          184,
          184,
          182,
          187,
          187,
          184,
          183,
          178,
          191,
          184,
          180,
          186
         ]
        },
        {
         "colorscale": [
          [
           0,
           "#440154"
          ],
          [
           0.1111111111111111,
           "#482878"
          ],
          [
           0.2222222222222222,
           "#3e4989"
          ],
          [
           0.3333333333333333,
           "#31688e"
          ],
          [
           0.4444444444444444,
           "#26828e"
          ],
          [
           0.5555555555555556,
           "#1f9e89"
          ],
          [
           0.6666666666666666,
           "#35b779"
          ],
          [
           0.7777777777777778,
           "#6ece58"
          ],
          [
           0.8888888888888888,
           "#b5de2b"
          ],
          [
           1,
           "#fde725"
          ]
         ],
         "opacity": 0.5,
         "type": "surface",
         "x": [
          [
           38,
           39.10526315789474,
           40.21052631578947,
           41.31578947368421,
           42.421052631578945,
           43.526315789473685,
           44.631578947368425,
           45.73684210526316,
           46.8421052631579,
           47.94736842105263,
           49.05263157894737,
           50.15789473684211,
           51.26315789473684,
           52.36842105263158,
           53.473684210526315,
           54.578947368421055,
           55.684210526315795,
           56.78947368421053,
           57.89473684210526,
           59
          ],
          [
           38,
           39.10526315789474,
           40.21052631578947,
           41.31578947368421,
           42.421052631578945,
           43.526315789473685,
           44.631578947368425,
           45.73684210526316,
           46.8421052631579,
           47.94736842105263,
           49.05263157894737,
           50.15789473684211,
           51.26315789473684,
           52.36842105263158,
           53.473684210526315,
           54.578947368421055,
           55.684210526315795,
           56.78947368421053,
           57.89473684210526,
           59
          ],
          [
           38,
           39.10526315789474,
           40.21052631578947,
           41.31578947368421,
           42.421052631578945,
           43.526315789473685,
           44.631578947368425,
           45.73684210526316,
           46.8421052631579,
           47.94736842105263,
           49.05263157894737,
           50.15789473684211,
           51.26315789473684,
           52.36842105263158,
           53.473684210526315,
           54.578947368421055,
           55.684210526315795,
           56.78947368421053,
           57.89473684210526,
           59
          ],
          [
           38,
           39.10526315789474,
           40.21052631578947,
           41.31578947368421,
           42.421052631578945,
           43.526315789473685,
           44.631578947368425,
           45.73684210526316,
           46.8421052631579,
           47.94736842105263,
           49.05263157894737,
           50.15789473684211,
           51.26315789473684,
           52.36842105263158,
           53.473684210526315,
           54.578947368421055,
           55.684210526315795,
           56.78947368421053,
           57.89473684210526,
           59
          ],
          [
           38,
           39.10526315789474,
           40.21052631578947,
           41.31578947368421,
           42.421052631578945,
           43.526315789473685,
           44.631578947368425,
           45.73684210526316,
           46.8421052631579,
           47.94736842105263,
           49.05263157894737,
           50.15789473684211,
           51.26315789473684,
           52.36842105263158,
           53.473684210526315,
           54.578947368421055,
           55.684210526315795,
           56.78947368421053,
           57.89473684210526,
           59
          ],
          [
           38,
           39.10526315789474,
           40.21052631578947,
           41.31578947368421,
           42.421052631578945,
           43.526315789473685,
           44.631578947368425,
           45.73684210526316,
           46.8421052631579,
           47.94736842105263,
           49.05263157894737,
           50.15789473684211,
           51.26315789473684,
           52.36842105263158,
           53.473684210526315,
           54.578947368421055,
           55.684210526315795,
           56.78947368421053,
           57.89473684210526,
           59
          ],
          [
           38,
           39.10526315789474,
           40.21052631578947,
           41.31578947368421,
           42.421052631578945,
           43.526315789473685,
           44.631578947368425,
           45.73684210526316,
           46.8421052631579,
           47.94736842105263,
           49.05263157894737,
           50.15789473684211,
           51.26315789473684,
           52.36842105263158,
           53.473684210526315,
           54.578947368421055,
           55.684210526315795,
           56.78947368421053,
           57.89473684210526,
           59
          ],
          [
           38,
           39.10526315789474,
           40.21052631578947,
           41.31578947368421,
           42.421052631578945,
           43.526315789473685,
           44.631578947368425,
           45.73684210526316,
           46.8421052631579,
           47.94736842105263,
           49.05263157894737,
           50.15789473684211,
           51.26315789473684,
           52.36842105263158,
           53.473684210526315,
           54.578947368421055,
           55.684210526315795,
           56.78947368421053,
           57.89473684210526,
           59
          ],
          [
           38,
           39.10526315789474,
           40.21052631578947,
           41.31578947368421,
           42.421052631578945,
           43.526315789473685,
           44.631578947368425,
           45.73684210526316,
           46.8421052631579,
           47.94736842105263,
           49.05263157894737,
           50.15789473684211,
           51.26315789473684,
           52.36842105263158,
           53.473684210526315,
           54.578947368421055,
           55.684210526315795,
           56.78947368421053,
           57.89473684210526,
           59
          ],
          [
           38,
           39.10526315789474,
           40.21052631578947,
           41.31578947368421,
           42.421052631578945,
           43.526315789473685,
           44.631578947368425,
           45.73684210526316,
           46.8421052631579,
           47.94736842105263,
           49.05263157894737,
           50.15789473684211,
           51.26315789473684,
           52.36842105263158,
           53.473684210526315,
           54.578947368421055,
           55.684210526315795,
           56.78947368421053,
           57.89473684210526,
           59
          ],
          [
           38,
           39.10526315789474,
           40.21052631578947,
           41.31578947368421,
           42.421052631578945,
           43.526315789473685,
           44.631578947368425,
           45.73684210526316,
           46.8421052631579,
           47.94736842105263,
           49.05263157894737,
           50.15789473684211,
           51.26315789473684,
           52.36842105263158,
           53.473684210526315,
           54.578947368421055,
           55.684210526315795,
           56.78947368421053,
           57.89473684210526,
           59
          ],
          [
           38,
           39.10526315789474,
           40.21052631578947,
           41.31578947368421,
           42.421052631578945,
           43.526315789473685,
           44.631578947368425,
           45.73684210526316,
           46.8421052631579,
           47.94736842105263,
           49.05263157894737,
           50.15789473684211,
           51.26315789473684,
           52.36842105263158,
           53.473684210526315,
           54.578947368421055,
           55.684210526315795,
           56.78947368421053,
           57.89473684210526,
           59
          ],
          [
           38,
           39.10526315789474,
           40.21052631578947,
           41.31578947368421,
           42.421052631578945,
           43.526315789473685,
           44.631578947368425,
           45.73684210526316,
           46.8421052631579,
           47.94736842105263,
           49.05263157894737,
           50.15789473684211,
           51.26315789473684,
           52.36842105263158,
           53.473684210526315,
           54.578947368421055,
           55.684210526315795,
           56.78947368421053,
           57.89473684210526,
           59
          ],
          [
           38,
           39.10526315789474,
           40.21052631578947,
           41.31578947368421,
           42.421052631578945,
           43.526315789473685,
           44.631578947368425,
           45.73684210526316,
           46.8421052631579,
           47.94736842105263,
           49.05263157894737,
           50.15789473684211,
           51.26315789473684,
           52.36842105263158,
           53.473684210526315,
           54.578947368421055,
           55.684210526315795,
           56.78947368421053,
           57.89473684210526,
           59
          ],
          [
           38,
           39.10526315789474,
           40.21052631578947,
           41.31578947368421,
           42.421052631578945,
           43.526315789473685,
           44.631578947368425,
           45.73684210526316,
           46.8421052631579,
           47.94736842105263,
           49.05263157894737,
           50.15789473684211,
           51.26315789473684,
           52.36842105263158,
           53.473684210526315,
           54.578947368421055,
           55.684210526315795,
           56.78947368421053,
           57.89473684210526,
           59
          ],
          [
           38,
           39.10526315789474,
           40.21052631578947,
           41.31578947368421,
           42.421052631578945,
           43.526315789473685,
           44.631578947368425,
           45.73684210526316,
           46.8421052631579,
           47.94736842105263,
           49.05263157894737,
           50.15789473684211,
           51.26315789473684,
           52.36842105263158,
           53.473684210526315,
           54.578947368421055,
           55.684210526315795,
           56.78947368421053,
           57.89473684210526,
           59
          ],
          [
           38,
           39.10526315789474,
           40.21052631578947,
           41.31578947368421,
           42.421052631578945,
           43.526315789473685,
           44.631578947368425,
           45.73684210526316,
           46.8421052631579,
           47.94736842105263,
           49.05263157894737,
           50.15789473684211,
           51.26315789473684,
           52.36842105263158,
           53.473684210526315,
           54.578947368421055,
           55.684210526315795,
           56.78947368421053,
           57.89473684210526,
           59
          ],
          [
           38,
           39.10526315789474,
           40.21052631578947,
           41.31578947368421,
           42.421052631578945,
           43.526315789473685,
           44.631578947368425,
           45.73684210526316,
           46.8421052631579,
           47.94736842105263,
           49.05263157894737,
           50.15789473684211,
           51.26315789473684,
           52.36842105263158,
           53.473684210526315,
           54.578947368421055,
           55.684210526315795,
           56.78947368421053,
           57.89473684210526,
           59
          ],
          [
           38,
           39.10526315789474,
           40.21052631578947,
           41.31578947368421,
           42.421052631578945,
           43.526315789473685,
           44.631578947368425,
           45.73684210526316,
           46.8421052631579,
           47.94736842105263,
           49.05263157894737,
           50.15789473684211,
           51.26315789473684,
           52.36842105263158,
           53.473684210526315,
           54.578947368421055,
           55.684210526315795,
           56.78947368421053,
           57.89473684210526,
           59
          ],
          [
           38,
           39.10526315789474,
           40.21052631578947,
           41.31578947368421,
           42.421052631578945,
           43.526315789473685,
           44.631578947368425,
           45.73684210526316,
           46.8421052631579,
           47.94736842105263,
           49.05263157894737,
           50.15789473684211,
           51.26315789473684,
           52.36842105263158,
           53.473684210526315,
           54.578947368421055,
           55.684210526315795,
           56.78947368421053,
           57.89473684210526,
           59
          ]
         ],
         "y": [
          [
           26.3,
           26.3,
           26.3,
           26.3,
           26.3,
           26.3,
           26.3,
           26.3,
           26.3,
           26.3,
           26.3,
           26.3,
           26.3,
           26.3,
           26.3,
           26.3,
           26.3,
           26.3,
           26.3,
           26.3
          ],
          [
           26.542105263157897,
           26.542105263157897,
           26.542105263157897,
           26.542105263157897,
           26.542105263157897,
           26.542105263157897,
           26.542105263157897,
           26.542105263157897,
           26.542105263157897,
           26.542105263157897,
           26.542105263157897,
           26.542105263157897,
           26.542105263157897,
           26.542105263157897,
           26.542105263157897,
           26.542105263157897,
           26.542105263157897,
           26.542105263157897,
           26.542105263157897,
           26.542105263157897
          ],
          [
           26.78421052631579,
           26.78421052631579,
           26.78421052631579,
           26.78421052631579,
           26.78421052631579,
           26.78421052631579,
           26.78421052631579,
           26.78421052631579,
           26.78421052631579,
           26.78421052631579,
           26.78421052631579,
           26.78421052631579,
           26.78421052631579,
           26.78421052631579,
           26.78421052631579,
           26.78421052631579,
           26.78421052631579,
           26.78421052631579,
           26.78421052631579,
           26.78421052631579
          ],
          [
           27.026315789473685,
           27.026315789473685,
           27.026315789473685,
           27.026315789473685,
           27.026315789473685,
           27.026315789473685,
           27.026315789473685,
           27.026315789473685,
           27.026315789473685,
           27.026315789473685,
           27.026315789473685,
           27.026315789473685,
           27.026315789473685,
           27.026315789473685,
           27.026315789473685,
           27.026315789473685,
           27.026315789473685,
           27.026315789473685,
           27.026315789473685,
           27.026315789473685
          ],
          [
           27.26842105263158,
           27.26842105263158,
           27.26842105263158,
           27.26842105263158,
           27.26842105263158,
           27.26842105263158,
           27.26842105263158,
           27.26842105263158,
           27.26842105263158,
           27.26842105263158,
           27.26842105263158,
           27.26842105263158,
           27.26842105263158,
           27.26842105263158,
           27.26842105263158,
           27.26842105263158,
           27.26842105263158,
           27.26842105263158,
           27.26842105263158,
           27.26842105263158
          ],
          [
           27.510526315789473,
           27.510526315789473,
           27.510526315789473,
           27.510526315789473,
           27.510526315789473,
           27.510526315789473,
           27.510526315789473,
           27.510526315789473,
           27.510526315789473,
           27.510526315789473,
           27.510526315789473,
           27.510526315789473,
           27.510526315789473,
           27.510526315789473,
           27.510526315789473,
           27.510526315789473,
           27.510526315789473,
           27.510526315789473,
           27.510526315789473,
           27.510526315789473
          ],
          [
           27.75263157894737,
           27.75263157894737,
           27.75263157894737,
           27.75263157894737,
           27.75263157894737,
           27.75263157894737,
           27.75263157894737,
           27.75263157894737,
           27.75263157894737,
           27.75263157894737,
           27.75263157894737,
           27.75263157894737,
           27.75263157894737,
           27.75263157894737,
           27.75263157894737,
           27.75263157894737,
           27.75263157894737,
           27.75263157894737,
           27.75263157894737,
           27.75263157894737
          ],
          [
           27.99473684210526,
           27.99473684210526,
           27.99473684210526,
           27.99473684210526,
           27.99473684210526,
           27.99473684210526,
           27.99473684210526,
           27.99473684210526,
           27.99473684210526,
           27.99473684210526,
           27.99473684210526,
           27.99473684210526,
           27.99473684210526,
           27.99473684210526,
           27.99473684210526,
           27.99473684210526,
           27.99473684210526,
           27.99473684210526,
           27.99473684210526,
           27.99473684210526
          ],
          [
           28.236842105263158,
           28.236842105263158,
           28.236842105263158,
           28.236842105263158,
           28.236842105263158,
           28.236842105263158,
           28.236842105263158,
           28.236842105263158,
           28.236842105263158,
           28.236842105263158,
           28.236842105263158,
           28.236842105263158,
           28.236842105263158,
           28.236842105263158,
           28.236842105263158,
           28.236842105263158,
           28.236842105263158,
           28.236842105263158,
           28.236842105263158,
           28.236842105263158
          ],
          [
           28.478947368421053,
           28.478947368421053,
           28.478947368421053,
           28.478947368421053,
           28.478947368421053,
           28.478947368421053,
           28.478947368421053,
           28.478947368421053,
           28.478947368421053,
           28.478947368421053,
           28.478947368421053,
           28.478947368421053,
           28.478947368421053,
           28.478947368421053,
           28.478947368421053,
           28.478947368421053,
           28.478947368421053,
           28.478947368421053,
           28.478947368421053,
           28.478947368421053
          ],
          [
           28.721052631578946,
           28.721052631578946,
           28.721052631578946,
           28.721052631578946,
           28.721052631578946,
           28.721052631578946,
           28.721052631578946,
           28.721052631578946,
           28.721052631578946,
           28.721052631578946,
           28.721052631578946,
           28.721052631578946,
           28.721052631578946,
           28.721052631578946,
           28.721052631578946,
           28.721052631578946,
           28.721052631578946,
           28.721052631578946,
           28.721052631578946,
           28.721052631578946
          ],
          [
           28.96315789473684,
           28.96315789473684,
           28.96315789473684,
           28.96315789473684,
           28.96315789473684,
           28.96315789473684,
           28.96315789473684,
           28.96315789473684,
           28.96315789473684,
           28.96315789473684,
           28.96315789473684,
           28.96315789473684,
           28.96315789473684,
           28.96315789473684,
           28.96315789473684,
           28.96315789473684,
           28.96315789473684,
           28.96315789473684,
           28.96315789473684,
           28.96315789473684
          ],
          [
           29.205263157894738,
           29.205263157894738,
           29.205263157894738,
           29.205263157894738,
           29.205263157894738,
           29.205263157894738,
           29.205263157894738,
           29.205263157894738,
           29.205263157894738,
           29.205263157894738,
           29.205263157894738,
           29.205263157894738,
           29.205263157894738,
           29.205263157894738,
           29.205263157894738,
           29.205263157894738,
           29.205263157894738,
           29.205263157894738,
           29.205263157894738,
           29.205263157894738
          ],
          [
           29.44736842105263,
           29.44736842105263,
           29.44736842105263,
           29.44736842105263,
           29.44736842105263,
           29.44736842105263,
           29.44736842105263,
           29.44736842105263,
           29.44736842105263,
           29.44736842105263,
           29.44736842105263,
           29.44736842105263,
           29.44736842105263,
           29.44736842105263,
           29.44736842105263,
           29.44736842105263,
           29.44736842105263,
           29.44736842105263,
           29.44736842105263,
           29.44736842105263
          ],
          [
           29.689473684210526,
           29.689473684210526,
           29.689473684210526,
           29.689473684210526,
           29.689473684210526,
           29.689473684210526,
           29.689473684210526,
           29.689473684210526,
           29.689473684210526,
           29.689473684210526,
           29.689473684210526,
           29.689473684210526,
           29.689473684210526,
           29.689473684210526,
           29.689473684210526,
           29.689473684210526,
           29.689473684210526,
           29.689473684210526,
           29.689473684210526,
           29.689473684210526
          ],
          [
           29.931578947368422,
           29.931578947368422,
           29.931578947368422,
           29.931578947368422,
           29.931578947368422,
           29.931578947368422,
           29.931578947368422,
           29.931578947368422,
           29.931578947368422,
           29.931578947368422,
           29.931578947368422,
           29.931578947368422,
           29.931578947368422,
           29.931578947368422,
           29.931578947368422,
           29.931578947368422,
           29.931578947368422,
           29.931578947368422,
           29.931578947368422,
           29.931578947368422
          ],
          [
           30.173684210526314,
           30.173684210526314,
           30.173684210526314,
           30.173684210526314,
           30.173684210526314,
           30.173684210526314,
           30.173684210526314,
           30.173684210526314,
           30.173684210526314,
           30.173684210526314,
           30.173684210526314,
           30.173684210526314,
           30.173684210526314,
           30.173684210526314,
           30.173684210526314,
           30.173684210526314,
           30.173684210526314,
           30.173684210526314,
           30.173684210526314,
           30.173684210526314
          ],
          [
           30.41578947368421,
           30.41578947368421,
           30.41578947368421,
           30.41578947368421,
           30.41578947368421,
           30.41578947368421,
           30.41578947368421,
           30.41578947368421,
           30.41578947368421,
           30.41578947368421,
           30.41578947368421,
           30.41578947368421,
           30.41578947368421,
           30.41578947368421,
           30.41578947368421,
           30.41578947368421,
           30.41578947368421,
           30.41578947368421,
           30.41578947368421,
           30.41578947368421
          ],
          [
           30.657894736842103,
           30.657894736842103,
           30.657894736842103,
           30.657894736842103,
           30.657894736842103,
           30.657894736842103,
           30.657894736842103,
           30.657894736842103,
           30.657894736842103,
           30.657894736842103,
           30.657894736842103,
           30.657894736842103,
           30.657894736842103,
           30.657894736842103,
           30.657894736842103,
           30.657894736842103,
           30.657894736842103,
           30.657894736842103,
           30.657894736842103,
           30.657894736842103
          ],
          [
           30.9,
           30.9,
           30.9,
           30.9,
           30.9,
           30.9,
           30.9,
           30.9,
           30.9,
           30.9,
           30.9,
           30.9,
           30.9,
           30.9,
           30.9,
           30.9,
           30.9,
           30.9,
           30.9,
           30.9
          ]
         ],
         "z": [
          [
           171.67716720175505,
           172.7011945087924,
           173.7252218158298,
           174.74924912286716,
           175.7732764299045,
           176.7973037369419,
           177.82133104397926,
           178.8453583510166,
           179.869385658054,
           180.89341296509136,
           181.91744027212872,
           182.9414675791661,
           183.96549488620346,
           184.98952219324082,
           186.01354950027817,
           187.03757680731556,
           188.06160411435292,
           189.08563142139027,
           190.10965872842763,
           191.13368603546502
          ],
          [
           171.92061791527917,
           172.94464522231652,
           173.96867252935388,
           174.99269983639127,
           176.01672714342862,
           177.04075445046598,
           178.06478175750337,
           179.08880906454073,
           180.11283637157808,
           181.13686367861547,
           182.16089098565283,
           183.18491829269018,
           184.20894559972757,
           185.23297290676493,
           186.25700021380229,
           187.28102752083967,
           188.30505482787703,
           189.3290821349144,
           190.35310944195174,
           191.37713674898913
          ],
          [
           172.16406862880328,
           173.18809593584064,
           174.212123242878,
           175.23615054991538,
           176.26017785695274,
           177.2842051639901,
           178.30823247102748,
           179.33225977806484,
           180.3562870851022,
           181.38031439213955,
           182.40434169917694,
           183.4283690062143,
           184.45239631325165,
           185.47642362028904,
           186.5004509273264,
           187.52447823436376,
           188.54850554140114,
           189.5725328484385,
           190.59656015547586,
           191.62058746251324
          ],
          [
           172.40751934232736,
           173.43154664936475,
           174.4555739564021,
           175.47960126343946,
           176.50362857047685,
           177.5276558775142,
           178.55168318455156,
           179.57571049158895,
           180.5997377986263,
           181.62376510566367,
           182.64779241270105,
           183.6718197197384,
           184.69584702677577,
           185.71987433381315,
           186.7439016408505,
           187.76792894788787,
           188.79195625492525,
           189.8159835619626,
           190.84001086899997,
           191.86403817603735
          ],
          [
           172.65097005585147,
           173.67499736288886,
           174.69902466992622,
           175.72305197696357,
           176.74707928400096,
           177.77110659103832,
           178.79513389807568,
           179.81916120511306,
           180.84318851215042,
           181.86721581918778,
           182.89124312622516,
           183.91527043326252,
           184.93929774029988,
           185.96332504733726,
           186.98735235437462,
           188.01137966141198,
           189.03540696844937,
           190.05943427548672,
           191.08346158252408,
           192.10748888956144
          ],
          [
           172.89442076937559,
           173.91844807641297,
           174.94247538345033,
           175.9665026904877,
           176.99052999752504,
           178.01455730456243,
           179.0385846115998,
           180.06261191863715,
           181.08663922567453,
           182.1106665327119,
           183.13469383974925,
           184.15872114678663,
           185.182748453824,
           186.20677576086135,
           187.23080306789873,
           188.2548303749361,
           189.27885768197345,
           190.30288498901083,
           191.3269122960482,
           192.35093960308555
          ],
          [
           173.1378714828997,
           174.16189878993706,
           175.18592609697444,
           176.2099534040118,
           177.23398071104916,
           178.25800801808654,
           179.2820353251239,
           180.30606263216126,
           181.33008993919864,
           182.354117246236,
           183.37814455327336,
           184.40217186031074,
           185.4261991673481,
           186.45022647438546,
           187.47425378142282,
           188.4982810884602,
           189.52230839549756,
           190.54633570253492,
           191.5703630095723,
           192.59439031660966
          ],
          [
           173.3813221964238,
           174.40534950346117,
           175.42937681049852,
           176.4534041175359,
           177.47743142457327,
           178.50145873161063,
           179.525486038648,
           180.54951334568537,
           181.57354065272273,
           182.5975679597601,
           183.62159526679747,
           184.64562257383483,
           185.6696498808722,
           186.69367718790957,
           187.71770449494693,
           188.74173180198432,
           189.76575910902167,
           190.78978641605903,
           191.8138137230964,
           192.83784103013377
          ],
          [
           173.62477290994792,
           174.64880021698528,
           175.67282752402264,
           176.69685483106002,
           177.72088213809738,
           178.74490944513474,
           179.76893675217212,
           180.79296405920948,
           181.81699136624684,
           182.8410186732842,
           183.86504598032158,
           184.88907328735894,
           185.91310059439633,
           186.93712790143368,
           187.96115520847104,
           188.98518251550843,
           190.00920982254578,
           191.03323712958314,
           192.0572644366205,
           193.08129174365789
          ],
          [
           173.86822362347203,
           174.8922509305094,
           175.91627823754675,
           176.94030554458413,
           177.9643328516215,
           178.98836015865885,
           180.01238746569624,
           181.0364147727336,
           182.06044207977095,
           183.0844693868083,
           184.1084966938457,
           185.13252400088305,
           186.1565513079204,
           187.1805786149578,
           188.20460592199515,
           189.2286332290325,
           190.2526605360699,
           191.27668784310725,
           192.3007151501446,
           193.324742457182
          ],
          [
           174.11167433699612,
           175.1357016440335,
           176.15972895107086,
           177.18375625810822,
           178.20778356514558,
           179.23181087218296,
           180.25583817922032,
           181.2798654862577,
           182.30389279329506,
           183.32792010033242,
           184.3519474073698,
           185.37597471440716,
           186.40000202144452,
           187.4240293284819,
           188.44805663551927,
           189.47208394255662,
           190.496111249594,
           191.52013855663137,
           192.54416586366872,
           193.56819317070608
          ],
          [
           174.35512505052023,
           175.37915235755762,
           176.40317966459497,
           177.42720697163233,
           178.4512342786697,
           179.47526158570707,
           180.49928889274443,
           181.5233161997818,
           182.54734350681917,
           183.57137081385653,
           184.5953981208939,
           185.61942542793128,
           186.64345273496863,
           187.667480042006,
           188.69150734904338,
           189.71553465608073,
           190.7395619631181,
           191.76358927015548,
           192.78761657719284,
           193.8116438842302
          ],
          [
           174.59857576404434,
           175.6226030710817,
           176.64663037811908,
           177.67065768515644,
           178.6946849921938,
           179.71871229923119,
           180.74273960626854,
           181.7667669133059,
           182.7907942203433,
           183.81482152738064,
           184.838848834418,
           185.8628761414554,
           186.88690344849275,
           187.9109307555301,
           188.9349580625675,
           189.95898536960485,
           190.9830126766422,
           192.0070399836796,
           193.03106729071695,
           194.0550945977543
          ],
          [
           174.84202647756845,
           175.8660537846058,
           176.89008109164317,
           177.91410839868055,
           178.9381357057179,
           179.96216301275527,
           180.98619031979266,
           182.01021762683,
           183.0342449338674,
           184.05827224090476,
           185.0822995479421,
           186.1063268549795,
           187.13035416201686,
           188.15438146905421,
           189.17840877609157,
           190.20243608312896,
           191.22646339016632,
           192.25049069720367,
           193.27451800424103,
           194.29854531127842
          ],
          [
           175.08547719109256,
           176.10950449812992,
           177.13353180516728,
           178.15755911220467,
           179.18158641924202,
           180.20561372627938,
           181.22964103331677,
           182.25366834035412,
           183.27769564739148,
           184.30172295442887,
           185.32575026146623,
           186.34977756850358,
           187.37380487554097,
           188.39783218257833,
           189.42185948961568,
           190.44588679665307,
           191.46991410369043,
           192.49394141072779,
           193.51796871776514,
           194.54199602480253
          ],
          [
           175.32892790461668,
           176.35295521165403,
           177.3769825186914,
           178.40100982572878,
           179.42503713276614,
           180.4490644398035,
           181.47309174684088,
           182.49711905387824,
           183.5211463609156,
           184.54517366795295,
           185.56920097499034,
           186.5932282820277,
           187.61725558906505,
           188.64128289610244,
           189.6653102031398,
           190.68933751017715,
           191.71336481721454,
           192.7373921242519,
           193.76141943128926,
           194.78544673832664
          ],
          [
           175.57237861814076,
           176.59640592517815,
           177.6204332322155,
           178.64446053925286,
           179.66848784629025,
           180.6925151533276,
           181.71654246036496,
           182.74056976740235,
           183.7645970744397,
           184.78862438147706,
           185.81265168851445,
           186.8366789955518,
           187.86070630258916,
           188.88473360962655,
           189.9087609166639,
           190.93278822370127,
           191.95681553073865,
           192.980842837776,
           194.00487014481337,
           195.02889745185072
          ],
          [
           175.81582933166487,
           176.83985663870226,
           177.86388394573962,
           178.88791125277697,
           179.91193855981436,
           180.93596586685172,
           181.95999317388907,
           182.98402048092646,
           184.00804778796382,
           185.03207509500118,
           186.05610240203856,
           187.08012970907592,
           188.10415701611328,
           189.12818432315066,
           190.15221163018802,
           191.17623893722538,
           192.20026624426276,
           193.22429355130012,
           194.24832085833748,
           195.27234816537484
          ],
          [
           176.05928004518898,
           177.08330735222634,
           178.10733465926373,
           179.13136196630109,
           180.15538927333844,
           181.17941658037583,
           182.2034438874132,
           183.22747119445054,
           184.25149850148793,
           185.2755258085253,
           186.29955311556265,
           187.32358042260003,
           188.3476077296374,
           189.37163503667475,
           190.3956623437121,
           191.4196896507495,
           192.44371695778685,
           193.4677442648242,
           194.4917715718616,
           195.51579887889895
          ],
          [
           176.3027307587131,
           177.32675806575045,
           178.35078537278784,
           179.3748126798252,
           180.39883998686255,
           181.42286729389994,
           182.4468946009373,
           183.47092190797466,
           184.49494921501204,
           185.5189765220494,
           186.54300382908676,
           187.56703113612414,
           188.5910584431615,
           189.61508575019886,
           190.63911305723622,
           191.6631403642736,
           192.68716767131096,
           193.71119497834832,
           194.7352222853857,
           195.75924959242306
          ]
         ]
        }
       ],
       "layout": {
        "scene": {
         "xaxis": {
          "title": {
           "text": "Ancho"
          }
         },
         "yaxis": {
          "title": {
           "text": "Pie"
          }
         },
         "zaxis": {
          "title": {
           "text": "Altura"
          }
         }
        },
        "template": {
         "data": {
          "bar": [
           {
            "error_x": {
             "color": "#2a3f5f"
            },
            "error_y": {
             "color": "#2a3f5f"
            },
            "marker": {
             "line": {
              "color": "#E5ECF6",
              "width": 0.5
             },
             "pattern": {
              "fillmode": "overlay",
              "size": 10,
              "solidity": 0.2
             }
            },
            "type": "bar"
           }
          ],
          "barpolar": [
           {
            "marker": {
             "line": {
              "color": "#E5ECF6",
              "width": 0.5
             },
             "pattern": {
              "fillmode": "overlay",
              "size": 10,
              "solidity": 0.2
             }
            },
            "type": "barpolar"
           }
          ],
          "carpet": [
           {
            "aaxis": {
             "endlinecolor": "#2a3f5f",
             "gridcolor": "white",
             "linecolor": "white",
             "minorgridcolor": "white",
             "startlinecolor": "#2a3f5f"
            },
            "baxis": {
             "endlinecolor": "#2a3f5f",
             "gridcolor": "white",
             "linecolor": "white",
             "minorgridcolor": "white",
             "startlinecolor": "#2a3f5f"
            },
            "type": "carpet"
           }
          ],
          "choropleth": [
           {
            "colorbar": {
             "outlinewidth": 0,
             "ticks": ""
            },
            "type": "choropleth"
           }
          ],
          "contour": [
           {
            "colorbar": {
             "outlinewidth": 0,
             "ticks": ""
            },
            "colorscale": [
             [
              0,
              "#0d0887"
             ],
             [
              0.1111111111111111,
              "#46039f"
             ],
             [
              0.2222222222222222,
              "#7201a8"
             ],
             [
              0.3333333333333333,
              "#9c179e"
             ],
             [
              0.4444444444444444,
              "#bd3786"
             ],
             [
              0.5555555555555556,
              "#d8576b"
             ],
             [
              0.6666666666666666,
              "#ed7953"
             ],
             [
              0.7777777777777778,
              "#fb9f3a"
             ],
             [
              0.8888888888888888,
              "#fdca26"
             ],
             [
              1,
              "#f0f921"
             ]
            ],
            "type": "contour"
           }
          ],
          "contourcarpet": [
           {
            "colorbar": {
             "outlinewidth": 0,
             "ticks": ""
            },
            "type": "contourcarpet"
           }
          ],
          "heatmap": [
           {
            "colorbar": {
             "outlinewidth": 0,
             "ticks": ""
            },
            "colorscale": [
             [
              0,
              "#0d0887"
             ],
             [
              0.1111111111111111,
              "#46039f"
             ],
             [
              0.2222222222222222,
              "#7201a8"
             ],
             [
              0.3333333333333333,
              "#9c179e"
             ],
             [
              0.4444444444444444,
              "#bd3786"
             ],
             [
              0.5555555555555556,
              "#d8576b"
             ],
             [
              0.6666666666666666,
              "#ed7953"
             ],
             [
              0.7777777777777778,
              "#fb9f3a"
             ],
             [
              0.8888888888888888,
              "#fdca26"
             ],
             [
              1,
              "#f0f921"
             ]
            ],
            "type": "heatmap"
           }
          ],
          "heatmapgl": [
           {
            "colorbar": {
             "outlinewidth": 0,
             "ticks": ""
            },
            "colorscale": [
             [
              0,
              "#0d0887"
             ],
             [
              0.1111111111111111,
              "#46039f"
             ],
             [
              0.2222222222222222,
              "#7201a8"
             ],
             [
              0.3333333333333333,
              "#9c179e"
             ],
             [
              0.4444444444444444,
              "#bd3786"
             ],
             [
              0.5555555555555556,
              "#d8576b"
             ],
             [
              0.6666666666666666,
              "#ed7953"
             ],
             [
              0.7777777777777778,
              "#fb9f3a"
             ],
             [
              0.8888888888888888,
              "#fdca26"
             ],
             [
              1,
              "#f0f921"
             ]
            ],
            "type": "heatmapgl"
           }
          ],
          "histogram": [
           {
            "marker": {
             "pattern": {
              "fillmode": "overlay",
              "size": 10,
              "solidity": 0.2
             }
            },
            "type": "histogram"
           }
          ],
          "histogram2d": [
           {
            "colorbar": {
             "outlinewidth": 0,
             "ticks": ""
            },
            "colorscale": [
             [
              0,
              "#0d0887"
             ],
             [
              0.1111111111111111,
              "#46039f"
             ],
             [
              0.2222222222222222,
              "#7201a8"
             ],
             [
              0.3333333333333333,
              "#9c179e"
             ],
             [
              0.4444444444444444,
              "#bd3786"
             ],
             [
              0.5555555555555556,
              "#d8576b"
             ],
             [
              0.6666666666666666,
              "#ed7953"
             ],
             [
              0.7777777777777778,
              "#fb9f3a"
             ],
             [
              0.8888888888888888,
              "#fdca26"
             ],
             [
              1,
              "#f0f921"
             ]
            ],
            "type": "histogram2d"
           }
          ],
          "histogram2dcontour": [
           {
            "colorbar": {
             "outlinewidth": 0,
             "ticks": ""
            },
            "colorscale": [
             [
              0,
              "#0d0887"
             ],
             [
              0.1111111111111111,
              "#46039f"
             ],
             [
              0.2222222222222222,
              "#7201a8"
             ],
             [
              0.3333333333333333,
              "#9c179e"
             ],
             [
              0.4444444444444444,
              "#bd3786"
             ],
             [
              0.5555555555555556,
              "#d8576b"
             ],
             [
              0.6666666666666666,
              "#ed7953"
             ],
             [
              0.7777777777777778,
              "#fb9f3a"
             ],
             [
              0.8888888888888888,
              "#fdca26"
             ],
             [
              1,
              "#f0f921"
             ]
            ],
            "type": "histogram2dcontour"
           }
          ],
          "mesh3d": [
           {
            "colorbar": {
             "outlinewidth": 0,
             "ticks": ""
            },
            "type": "mesh3d"
           }
          ],
          "parcoords": [
           {
            "line": {
             "colorbar": {
              "outlinewidth": 0,
              "ticks": ""
             }
            },
            "type": "parcoords"
           }
          ],
          "pie": [
           {
            "automargin": true,
            "type": "pie"
           }
          ],
          "scatter": [
           {
            "fillpattern": {
             "fillmode": "overlay",
             "size": 10,
             "solidity": 0.2
            },
            "type": "scatter"
           }
          ],
          "scatter3d": [
           {
            "line": {
             "colorbar": {
              "outlinewidth": 0,
              "ticks": ""
             }
            },
            "marker": {
             "colorbar": {
              "outlinewidth": 0,
              "ticks": ""
             }
            },
            "type": "scatter3d"
           }
          ],
          "scattercarpet": [
           {
            "marker": {
             "colorbar": {
              "outlinewidth": 0,
              "ticks": ""
             }
            },
            "type": "scattercarpet"
           }
          ],
          "scattergeo": [
           {
            "marker": {
             "colorbar": {
              "outlinewidth": 0,
              "ticks": ""
             }
            },
            "type": "scattergeo"
           }
          ],
          "scattergl": [
           {
            "marker": {
             "colorbar": {
              "outlinewidth": 0,
              "ticks": ""
             }
            },
            "type": "scattergl"
           }
          ],
          "scattermapbox": [
           {
            "marker": {
             "colorbar": {
              "outlinewidth": 0,
              "ticks": ""
             }
            },
            "type": "scattermapbox"
           }
          ],
          "scatterpolar": [
           {
            "marker": {
             "colorbar": {
              "outlinewidth": 0,
              "ticks": ""
             }
            },
            "type": "scatterpolar"
           }
          ],
          "scatterpolargl": [
           {
            "marker": {
             "colorbar": {
              "outlinewidth": 0,
              "ticks": ""
             }
            },
            "type": "scatterpolargl"
           }
          ],
          "scatterternary": [
           {
            "marker": {
             "colorbar": {
              "outlinewidth": 0,
              "ticks": ""
             }
            },
            "type": "scatterternary"
           }
          ],
          "surface": [
           {
            "colorbar": {
             "outlinewidth": 0,
             "ticks": ""
            },
            "colorscale": [
             [
              0,
              "#0d0887"
             ],
             [
              0.1111111111111111,
              "#46039f"
             ],
             [
              0.2222222222222222,
              "#7201a8"
             ],
             [
              0.3333333333333333,
              "#9c179e"
             ],
             [
              0.4444444444444444,
              "#bd3786"
             ],
             [
              0.5555555555555556,
              "#d8576b"
             ],
             [
              0.6666666666666666,
              "#ed7953"
             ],
             [
              0.7777777777777778,
              "#fb9f3a"
             ],
             [
              0.8888888888888888,
              "#fdca26"
             ],
             [
              1,
              "#f0f921"
             ]
            ],
            "type": "surface"
           }
          ],
          "table": [
           {
            "cells": {
             "fill": {
              "color": "#EBF0F8"
             },
             "line": {
              "color": "white"
             }
            },
            "header": {
             "fill": {
              "color": "#C8D4E3"
             },
             "line": {
              "color": "white"
             }
            },
            "type": "table"
           }
          ]
         },
         "layout": {
          "annotationdefaults": {
           "arrowcolor": "#2a3f5f",
           "arrowhead": 0,
           "arrowwidth": 1
          },
          "autotypenumbers": "strict",
          "coloraxis": {
           "colorbar": {
            "outlinewidth": 0,
            "ticks": ""
           }
          },
          "colorscale": {
           "diverging": [
            [
             0,
             "#8e0152"
            ],
            [
             0.1,
             "#c51b7d"
            ],
            [
             0.2,
             "#de77ae"
            ],
            [
             0.3,
             "#f1b6da"
            ],
            [
             0.4,
             "#fde0ef"
            ],
            [
             0.5,
             "#f7f7f7"
            ],
            [
             0.6,
             "#e6f5d0"
            ],
            [
             0.7,
             "#b8e186"
            ],
            [
             0.8,
             "#7fbc41"
            ],
            [
             0.9,
             "#4d9221"
            ],
            [
             1,
             "#276419"
            ]
           ],
           "sequential": [
            [
             0,
             "#0d0887"
            ],
            [
             0.1111111111111111,
             "#46039f"
            ],
            [
             0.2222222222222222,
             "#7201a8"
            ],
            [
             0.3333333333333333,
             "#9c179e"
            ],
            [
             0.4444444444444444,
             "#bd3786"
            ],
            [
             0.5555555555555556,
             "#d8576b"
            ],
            [
             0.6666666666666666,
             "#ed7953"
            ],
            [
             0.7777777777777778,
             "#fb9f3a"
            ],
            [
             0.8888888888888888,
             "#fdca26"
            ],
            [
             1,
             "#f0f921"
            ]
           ],
           "sequentialminus": [
            [
             0,
             "#0d0887"
            ],
            [
             0.1111111111111111,
             "#46039f"
            ],
            [
             0.2222222222222222,
             "#7201a8"
            ],
            [
             0.3333333333333333,
             "#9c179e"
            ],
            [
             0.4444444444444444,
             "#bd3786"
            ],
            [
             0.5555555555555556,
             "#d8576b"
            ],
            [
             0.6666666666666666,
             "#ed7953"
            ],
            [
             0.7777777777777778,
             "#fb9f3a"
            ],
            [
             0.8888888888888888,
             "#fdca26"
            ],
            [
             1,
             "#f0f921"
            ]
           ]
          },
          "colorway": [
           "#636efa",
           "#EF553B",
           "#00cc96",
           "#ab63fa",
           "#FFA15A",
           "#19d3f3",
           "#FF6692",
           "#B6E880",
           "#FF97FF",
           "#FECB52"
          ],
          "font": {
           "color": "#2a3f5f"
          },
          "geo": {
           "bgcolor": "white",
           "lakecolor": "white",
           "landcolor": "#E5ECF6",
           "showlakes": true,
           "showland": true,
           "subunitcolor": "white"
          },
          "hoverlabel": {
           "align": "left"
          },
          "hovermode": "closest",
          "mapbox": {
           "style": "light"
          },
          "paper_bgcolor": "white",
          "plot_bgcolor": "#E5ECF6",
          "polar": {
           "angularaxis": {
            "gridcolor": "white",
            "linecolor": "white",
            "ticks": ""
           },
           "bgcolor": "#E5ECF6",
           "radialaxis": {
            "gridcolor": "white",
            "linecolor": "white",
            "ticks": ""
           }
          },
          "scene": {
           "xaxis": {
            "backgroundcolor": "#E5ECF6",
            "gridcolor": "white",
            "gridwidth": 2,
            "linecolor": "white",
            "showbackground": true,
            "ticks": "",
            "zerolinecolor": "white"
           },
           "yaxis": {
            "backgroundcolor": "#E5ECF6",
            "gridcolor": "white",
            "gridwidth": 2,
            "linecolor": "white",
            "showbackground": true,
            "ticks": "",
            "zerolinecolor": "white"
           },
           "zaxis": {
            "backgroundcolor": "#E5ECF6",
            "gridcolor": "white",
            "gridwidth": 2,
            "linecolor": "white",
            "showbackground": true,
            "ticks": "",
            "zerolinecolor": "white"
           }
          },
          "shapedefaults": {
           "line": {
            "color": "#2a3f5f"
           }
          },
          "ternary": {
           "aaxis": {
            "gridcolor": "white",
            "linecolor": "white",
            "ticks": ""
           },
           "baxis": {
            "gridcolor": "white",
            "linecolor": "white",
            "ticks": ""
           },
           "bgcolor": "#E5ECF6",
           "caxis": {
            "gridcolor": "white",
            "linecolor": "white",
            "ticks": ""
           }
          },
          "title": {
           "x": 0.05
          },
          "xaxis": {
           "automargin": true,
           "gridcolor": "white",
           "linecolor": "white",
           "ticks": "",
           "title": {
            "standoff": 15
           },
           "zerolinecolor": "white",
           "zerolinewidth": 2
          },
          "yaxis": {
           "automargin": true,
           "gridcolor": "white",
           "linecolor": "white",
           "ticks": "",
           "title": {
            "standoff": 15
           },
           "zerolinecolor": "white",
           "zerolinewidth": 2
          }
         }
        },
        "title": {
         "text": "REGRESION<br>R2: 0.9868156201924916 RMSE: 0.5186148359555198"
        }
       }
      }
     },
     "metadata": {},
     "output_type": "display_data"
    }
   ],
   "source": [
    "# Definir rangos para las variables independientes\n",
    "x1_range = np.linspace(min(x_train_pb[:, 0]), max(x_train_pb[:, 0]), 20)\n",
    "x2_range = np.linspace(min(x_train_pb[:, 1]), max(x_train_pb[:, 1]), 20)\n",
    "x1_mesh, x2_mesh = np.meshgrid(x1_range, x2_range)\n",
    "\n",
    "# Escalar el meshgrid para predicción\n",
    "x_mesh_scaled = ss_pb.transform(np.vstack((x1_mesh.ravel(), x2_mesh.ravel())).T)\n",
    "\n",
    "# Predecir los valores con el modelo escalado\n",
    "y_mesh_scaled = modelo_pb.predict(x_mesh_scaled)\n",
    "\n",
    "# Crear scatterplot 3D de los puntos reales\n",
    "scatter = go.Scatter3d(\n",
    "    x=x_test_pb[:, 0], y=x_test_pb[:, 1], z=y_test_pb,\n",
    "    mode='markers',\n",
    "    marker=dict(size=8, color='red', opacity=0.7)\n",
    ")\n",
    "\n",
    "# Crear el plano de regresión\n",
    "surface = go.Surface(\n",
    "    x=x1_mesh, y=x2_mesh, z=y_mesh_scaled.reshape(x1_mesh.shape),\n",
    "    colorscale='Viridis', opacity=0.5\n",
    ")\n",
    "\n",
    "# Configuración del layout\n",
    "layout = go.Layout(\n",
    "    title=f\"REGRESION<br>R2: {r2_score(y_test_pb, pb_pred)} RMSE: {root_mean_squared_error(y_test_pb, pb_pred)}\",\n",
    "    scene=dict(\n",
    "        xaxis_title='Ancho',\n",
    "        yaxis_title='Pie',\n",
    "        zaxis_title='Altura'\n",
    "    )\n",
    ")\n",
    "\n",
    "# Crear la figura\n",
    "fig = go.Figure(data=[scatter, surface], layout=layout)\n",
    "\n",
    "# Mostrar la figura interactiva\n",
    "fig.show()\n"
   ]
  },
  {
   "cell_type": "markdown",
   "metadata": {},
   "source": [
    "**¿Agregarías datos a tu base de datos para mejorar las predicciones del modelo?**\n",
    "\n",
    "Sí, ya que la altura promedio de un mexicano no es la misma que la altura de una persona de Países Bajos."
   ]
  },
  {
   "cell_type": "markdown",
   "metadata": {},
   "source": [
    "**¿Cómo conseguirías dicha información?**\n",
    "\n",
    "Al tener que el promedio de altura de un hombre de Países Bajos es de 183 cm y la altura promedio de una mujer de Países Bajos es de 170 cm, promediamos las alturas y nos basamos en los datos originales y en los que recabamos de las 70 personas que medimos para crear nuevos datos."
   ]
  },
  {
   "cell_type": "markdown",
   "metadata": {},
   "source": [
    "**¿Modificarías algún parámetro de tu modelo?**\n",
    "\n",
    "En este caso, al no tener ningún dato de personas de países bajos y después de hacer gridsearch para obtener el modelo con las mejores métricas, llegamos a la conclusión de que una regresión lineal simple era el mejor modelo, por lo que no aplicamos ninguna regularización."
   ]
  },
  {
   "cell_type": "markdown",
   "metadata": {},
   "source": [
    "## Parte 4"
   ]
  },
  {
   "cell_type": "markdown",
   "metadata": {},
   "source": [
    "### Ambos contextos"
   ]
  },
  {
   "cell_type": "code",
   "execution_count": 624,
   "metadata": {},
   "outputs": [],
   "source": [
    "df_combined = pd.concat([df_center, data_left, data_right, df_pb])"
   ]
  },
  {
   "cell_type": "code",
   "execution_count": 625,
   "metadata": {},
   "outputs": [],
   "source": [
    "# Dividir los datos en entrenamiento y prueba\n",
    "X_c = df_combined.drop(\"height\", axis=1)\n",
    "y_c = df_combined[\"height\"]"
   ]
  },
  {
   "cell_type": "code",
   "execution_count": 626,
   "metadata": {},
   "outputs": [],
   "source": [
    "x_train, x_test, y_train, y_test = train_test_split(X_c, y_c, test_size=0.2, random_state=42)  "
   ]
  },
  {
   "cell_type": "code",
   "execution_count": 627,
   "metadata": {},
   "outputs": [
    {
     "name": "stdout",
     "output_type": "stream",
     "text": [
      "Ridge Regression:\n",
      "Best parameters: {'alpha': 11.28837891684689}\n",
      "RMSE: 1.11\n",
      "\n",
      "Lasso Regression:\n",
      "Best parameters: {'alpha': 1.0}\n",
      "RMSE: 1.21\n",
      "\n",
      "Elastic Net Regression:\n",
      "Best parameters: {'alpha': 1.0, 'l1_ratio': 0.1}\n",
      "RMSE: 1.20\n"
     ]
    }
   ],
   "source": [
    "ridge_params = {'alpha': np.logspace(0, 10, 20)}\n",
    "lasso_params = {'alpha': np.logspace(0, 6, 10)}\n",
    "enet_params = {'alpha': np.logspace(0, 6, 20), 'l1_ratio': [0.1, 0.2, 0.3, 0.5, 0.7, 0.9]}\n",
    "\n",
    "\n",
    "ridge = Ridge()\n",
    "lasso = Lasso()\n",
    "enet = ElasticNet()\n",
    "\n",
    "\n",
    "ridge_grid = GridSearchCV(ridge, ridge_params, scoring='neg_mean_squared_error', cv=5)\n",
    "lasso_grid = GridSearchCV(lasso, lasso_params, scoring='neg_mean_squared_error', cv=5)\n",
    "enet_grid = GridSearchCV(enet, enet_params, scoring='neg_mean_squared_error', cv=5)\n",
    "\n",
    "ridge_grid.fit(X, y)\n",
    "lasso_grid.fit(X, y)\n",
    "enet_grid.fit(X, y)\n",
    "\n",
    "\n",
    "print(\"Ridge Regression:\")\n",
    "print(f\"Best parameters: {ridge_grid.best_params_}\")\n",
    "print(f\"RMSE: {np.sqrt(-ridge_grid.best_score_):.2f}\")\n",
    "\n",
    "print(\"\\nLasso Regression:\")\n",
    "print(f\"Best parameters: {lasso_grid.best_params_}\")\n",
    "print(f\"RMSE: {np.sqrt(-lasso_grid.best_score_):.2f}\")\n",
    "\n",
    "print(\"\\nElastic Net Regression:\")\n",
    "print(f\"Best parameters: {enet_grid.best_params_}\")\n",
    "print(f\"RMSE: {np.sqrt(-enet_grid.best_score_):.2f}\")"
   ]
  },
  {
   "cell_type": "code",
   "execution_count": 628,
   "metadata": {},
   "outputs": [],
   "source": [
    "ss = StandardScaler()\n",
    "x_train_ss = ss.fit_transform(x_train)\n",
    "x_test_ss = ss.transform(x_test)"
   ]
  },
  {
   "cell_type": "code",
   "execution_count": 629,
   "metadata": {},
   "outputs": [
    {
     "data": {
      "text/html": [
       "<style>#sk-container-id-5 {\n",
       "  /* Definition of color scheme common for light and dark mode */\n",
       "  --sklearn-color-text: black;\n",
       "  --sklearn-color-line: gray;\n",
       "  /* Definition of color scheme for unfitted estimators */\n",
       "  --sklearn-color-unfitted-level-0: #fff5e6;\n",
       "  --sklearn-color-unfitted-level-1: #f6e4d2;\n",
       "  --sklearn-color-unfitted-level-2: #ffe0b3;\n",
       "  --sklearn-color-unfitted-level-3: chocolate;\n",
       "  /* Definition of color scheme for fitted estimators */\n",
       "  --sklearn-color-fitted-level-0: #f0f8ff;\n",
       "  --sklearn-color-fitted-level-1: #d4ebff;\n",
       "  --sklearn-color-fitted-level-2: #b3dbfd;\n",
       "  --sklearn-color-fitted-level-3: cornflowerblue;\n",
       "\n",
       "  /* Specific color for light theme */\n",
       "  --sklearn-color-text-on-default-background: var(--sg-text-color, var(--theme-code-foreground, var(--jp-content-font-color1, black)));\n",
       "  --sklearn-color-background: var(--sg-background-color, var(--theme-background, var(--jp-layout-color0, white)));\n",
       "  --sklearn-color-border-box: var(--sg-text-color, var(--theme-code-foreground, var(--jp-content-font-color1, black)));\n",
       "  --sklearn-color-icon: #696969;\n",
       "\n",
       "  @media (prefers-color-scheme: dark) {\n",
       "    /* Redefinition of color scheme for dark theme */\n",
       "    --sklearn-color-text-on-default-background: var(--sg-text-color, var(--theme-code-foreground, var(--jp-content-font-color1, white)));\n",
       "    --sklearn-color-background: var(--sg-background-color, var(--theme-background, var(--jp-layout-color0, #111)));\n",
       "    --sklearn-color-border-box: var(--sg-text-color, var(--theme-code-foreground, var(--jp-content-font-color1, white)));\n",
       "    --sklearn-color-icon: #878787;\n",
       "  }\n",
       "}\n",
       "\n",
       "#sk-container-id-5 {\n",
       "  color: var(--sklearn-color-text);\n",
       "}\n",
       "\n",
       "#sk-container-id-5 pre {\n",
       "  padding: 0;\n",
       "}\n",
       "\n",
       "#sk-container-id-5 input.sk-hidden--visually {\n",
       "  border: 0;\n",
       "  clip: rect(1px 1px 1px 1px);\n",
       "  clip: rect(1px, 1px, 1px, 1px);\n",
       "  height: 1px;\n",
       "  margin: -1px;\n",
       "  overflow: hidden;\n",
       "  padding: 0;\n",
       "  position: absolute;\n",
       "  width: 1px;\n",
       "}\n",
       "\n",
       "#sk-container-id-5 div.sk-dashed-wrapped {\n",
       "  border: 1px dashed var(--sklearn-color-line);\n",
       "  margin: 0 0.4em 0.5em 0.4em;\n",
       "  box-sizing: border-box;\n",
       "  padding-bottom: 0.4em;\n",
       "  background-color: var(--sklearn-color-background);\n",
       "}\n",
       "\n",
       "#sk-container-id-5 div.sk-container {\n",
       "  /* jupyter's `normalize.less` sets `[hidden] { display: none; }`\n",
       "     but bootstrap.min.css set `[hidden] { display: none !important; }`\n",
       "     so we also need the `!important` here to be able to override the\n",
       "     default hidden behavior on the sphinx rendered scikit-learn.org.\n",
       "     See: https://github.com/scikit-learn/scikit-learn/issues/21755 */\n",
       "  display: inline-block !important;\n",
       "  position: relative;\n",
       "}\n",
       "\n",
       "#sk-container-id-5 div.sk-text-repr-fallback {\n",
       "  display: none;\n",
       "}\n",
       "\n",
       "div.sk-parallel-item,\n",
       "div.sk-serial,\n",
       "div.sk-item {\n",
       "  /* draw centered vertical line to link estimators */\n",
       "  background-image: linear-gradient(var(--sklearn-color-text-on-default-background), var(--sklearn-color-text-on-default-background));\n",
       "  background-size: 2px 100%;\n",
       "  background-repeat: no-repeat;\n",
       "  background-position: center center;\n",
       "}\n",
       "\n",
       "/* Parallel-specific style estimator block */\n",
       "\n",
       "#sk-container-id-5 div.sk-parallel-item::after {\n",
       "  content: \"\";\n",
       "  width: 100%;\n",
       "  border-bottom: 2px solid var(--sklearn-color-text-on-default-background);\n",
       "  flex-grow: 1;\n",
       "}\n",
       "\n",
       "#sk-container-id-5 div.sk-parallel {\n",
       "  display: flex;\n",
       "  align-items: stretch;\n",
       "  justify-content: center;\n",
       "  background-color: var(--sklearn-color-background);\n",
       "  position: relative;\n",
       "}\n",
       "\n",
       "#sk-container-id-5 div.sk-parallel-item {\n",
       "  display: flex;\n",
       "  flex-direction: column;\n",
       "}\n",
       "\n",
       "#sk-container-id-5 div.sk-parallel-item:first-child::after {\n",
       "  align-self: flex-end;\n",
       "  width: 50%;\n",
       "}\n",
       "\n",
       "#sk-container-id-5 div.sk-parallel-item:last-child::after {\n",
       "  align-self: flex-start;\n",
       "  width: 50%;\n",
       "}\n",
       "\n",
       "#sk-container-id-5 div.sk-parallel-item:only-child::after {\n",
       "  width: 0;\n",
       "}\n",
       "\n",
       "/* Serial-specific style estimator block */\n",
       "\n",
       "#sk-container-id-5 div.sk-serial {\n",
       "  display: flex;\n",
       "  flex-direction: column;\n",
       "  align-items: center;\n",
       "  background-color: var(--sklearn-color-background);\n",
       "  padding-right: 1em;\n",
       "  padding-left: 1em;\n",
       "}\n",
       "\n",
       "\n",
       "/* Toggleable style: style used for estimator/Pipeline/ColumnTransformer box that is\n",
       "clickable and can be expanded/collapsed.\n",
       "- Pipeline and ColumnTransformer use this feature and define the default style\n",
       "- Estimators will overwrite some part of the style using the `sk-estimator` class\n",
       "*/\n",
       "\n",
       "/* Pipeline and ColumnTransformer style (default) */\n",
       "\n",
       "#sk-container-id-5 div.sk-toggleable {\n",
       "  /* Default theme specific background. It is overwritten whether we have a\n",
       "  specific estimator or a Pipeline/ColumnTransformer */\n",
       "  background-color: var(--sklearn-color-background);\n",
       "}\n",
       "\n",
       "/* Toggleable label */\n",
       "#sk-container-id-5 label.sk-toggleable__label {\n",
       "  cursor: pointer;\n",
       "  display: block;\n",
       "  width: 100%;\n",
       "  margin-bottom: 0;\n",
       "  padding: 0.5em;\n",
       "  box-sizing: border-box;\n",
       "  text-align: center;\n",
       "}\n",
       "\n",
       "#sk-container-id-5 label.sk-toggleable__label-arrow:before {\n",
       "  /* Arrow on the left of the label */\n",
       "  content: \"▸\";\n",
       "  float: left;\n",
       "  margin-right: 0.25em;\n",
       "  color: var(--sklearn-color-icon);\n",
       "}\n",
       "\n",
       "#sk-container-id-5 label.sk-toggleable__label-arrow:hover:before {\n",
       "  color: var(--sklearn-color-text);\n",
       "}\n",
       "\n",
       "/* Toggleable content - dropdown */\n",
       "\n",
       "#sk-container-id-5 div.sk-toggleable__content {\n",
       "  max-height: 0;\n",
       "  max-width: 0;\n",
       "  overflow: hidden;\n",
       "  text-align: left;\n",
       "  /* unfitted */\n",
       "  background-color: var(--sklearn-color-unfitted-level-0);\n",
       "}\n",
       "\n",
       "#sk-container-id-5 div.sk-toggleable__content.fitted {\n",
       "  /* fitted */\n",
       "  background-color: var(--sklearn-color-fitted-level-0);\n",
       "}\n",
       "\n",
       "#sk-container-id-5 div.sk-toggleable__content pre {\n",
       "  margin: 0.2em;\n",
       "  border-radius: 0.25em;\n",
       "  color: var(--sklearn-color-text);\n",
       "  /* unfitted */\n",
       "  background-color: var(--sklearn-color-unfitted-level-0);\n",
       "}\n",
       "\n",
       "#sk-container-id-5 div.sk-toggleable__content.fitted pre {\n",
       "  /* unfitted */\n",
       "  background-color: var(--sklearn-color-fitted-level-0);\n",
       "}\n",
       "\n",
       "#sk-container-id-5 input.sk-toggleable__control:checked~div.sk-toggleable__content {\n",
       "  /* Expand drop-down */\n",
       "  max-height: 200px;\n",
       "  max-width: 100%;\n",
       "  overflow: auto;\n",
       "}\n",
       "\n",
       "#sk-container-id-5 input.sk-toggleable__control:checked~label.sk-toggleable__label-arrow:before {\n",
       "  content: \"▾\";\n",
       "}\n",
       "\n",
       "/* Pipeline/ColumnTransformer-specific style */\n",
       "\n",
       "#sk-container-id-5 div.sk-label input.sk-toggleable__control:checked~label.sk-toggleable__label {\n",
       "  color: var(--sklearn-color-text);\n",
       "  background-color: var(--sklearn-color-unfitted-level-2);\n",
       "}\n",
       "\n",
       "#sk-container-id-5 div.sk-label.fitted input.sk-toggleable__control:checked~label.sk-toggleable__label {\n",
       "  background-color: var(--sklearn-color-fitted-level-2);\n",
       "}\n",
       "\n",
       "/* Estimator-specific style */\n",
       "\n",
       "/* Colorize estimator box */\n",
       "#sk-container-id-5 div.sk-estimator input.sk-toggleable__control:checked~label.sk-toggleable__label {\n",
       "  /* unfitted */\n",
       "  background-color: var(--sklearn-color-unfitted-level-2);\n",
       "}\n",
       "\n",
       "#sk-container-id-5 div.sk-estimator.fitted input.sk-toggleable__control:checked~label.sk-toggleable__label {\n",
       "  /* fitted */\n",
       "  background-color: var(--sklearn-color-fitted-level-2);\n",
       "}\n",
       "\n",
       "#sk-container-id-5 div.sk-label label.sk-toggleable__label,\n",
       "#sk-container-id-5 div.sk-label label {\n",
       "  /* The background is the default theme color */\n",
       "  color: var(--sklearn-color-text-on-default-background);\n",
       "}\n",
       "\n",
       "/* On hover, darken the color of the background */\n",
       "#sk-container-id-5 div.sk-label:hover label.sk-toggleable__label {\n",
       "  color: var(--sklearn-color-text);\n",
       "  background-color: var(--sklearn-color-unfitted-level-2);\n",
       "}\n",
       "\n",
       "/* Label box, darken color on hover, fitted */\n",
       "#sk-container-id-5 div.sk-label.fitted:hover label.sk-toggleable__label.fitted {\n",
       "  color: var(--sklearn-color-text);\n",
       "  background-color: var(--sklearn-color-fitted-level-2);\n",
       "}\n",
       "\n",
       "/* Estimator label */\n",
       "\n",
       "#sk-container-id-5 div.sk-label label {\n",
       "  font-family: monospace;\n",
       "  font-weight: bold;\n",
       "  display: inline-block;\n",
       "  line-height: 1.2em;\n",
       "}\n",
       "\n",
       "#sk-container-id-5 div.sk-label-container {\n",
       "  text-align: center;\n",
       "}\n",
       "\n",
       "/* Estimator-specific */\n",
       "#sk-container-id-5 div.sk-estimator {\n",
       "  font-family: monospace;\n",
       "  border: 1px dotted var(--sklearn-color-border-box);\n",
       "  border-radius: 0.25em;\n",
       "  box-sizing: border-box;\n",
       "  margin-bottom: 0.5em;\n",
       "  /* unfitted */\n",
       "  background-color: var(--sklearn-color-unfitted-level-0);\n",
       "}\n",
       "\n",
       "#sk-container-id-5 div.sk-estimator.fitted {\n",
       "  /* fitted */\n",
       "  background-color: var(--sklearn-color-fitted-level-0);\n",
       "}\n",
       "\n",
       "/* on hover */\n",
       "#sk-container-id-5 div.sk-estimator:hover {\n",
       "  /* unfitted */\n",
       "  background-color: var(--sklearn-color-unfitted-level-2);\n",
       "}\n",
       "\n",
       "#sk-container-id-5 div.sk-estimator.fitted:hover {\n",
       "  /* fitted */\n",
       "  background-color: var(--sklearn-color-fitted-level-2);\n",
       "}\n",
       "\n",
       "/* Specification for estimator info (e.g. \"i\" and \"?\") */\n",
       "\n",
       "/* Common style for \"i\" and \"?\" */\n",
       "\n",
       ".sk-estimator-doc-link,\n",
       "a:link.sk-estimator-doc-link,\n",
       "a:visited.sk-estimator-doc-link {\n",
       "  float: right;\n",
       "  font-size: smaller;\n",
       "  line-height: 1em;\n",
       "  font-family: monospace;\n",
       "  background-color: var(--sklearn-color-background);\n",
       "  border-radius: 1em;\n",
       "  height: 1em;\n",
       "  width: 1em;\n",
       "  text-decoration: none !important;\n",
       "  margin-left: 1ex;\n",
       "  /* unfitted */\n",
       "  border: var(--sklearn-color-unfitted-level-1) 1pt solid;\n",
       "  color: var(--sklearn-color-unfitted-level-1);\n",
       "}\n",
       "\n",
       ".sk-estimator-doc-link.fitted,\n",
       "a:link.sk-estimator-doc-link.fitted,\n",
       "a:visited.sk-estimator-doc-link.fitted {\n",
       "  /* fitted */\n",
       "  border: var(--sklearn-color-fitted-level-1) 1pt solid;\n",
       "  color: var(--sklearn-color-fitted-level-1);\n",
       "}\n",
       "\n",
       "/* On hover */\n",
       "div.sk-estimator:hover .sk-estimator-doc-link:hover,\n",
       ".sk-estimator-doc-link:hover,\n",
       "div.sk-label-container:hover .sk-estimator-doc-link:hover,\n",
       ".sk-estimator-doc-link:hover {\n",
       "  /* unfitted */\n",
       "  background-color: var(--sklearn-color-unfitted-level-3);\n",
       "  color: var(--sklearn-color-background);\n",
       "  text-decoration: none;\n",
       "}\n",
       "\n",
       "div.sk-estimator.fitted:hover .sk-estimator-doc-link.fitted:hover,\n",
       ".sk-estimator-doc-link.fitted:hover,\n",
       "div.sk-label-container:hover .sk-estimator-doc-link.fitted:hover,\n",
       ".sk-estimator-doc-link.fitted:hover {\n",
       "  /* fitted */\n",
       "  background-color: var(--sklearn-color-fitted-level-3);\n",
       "  color: var(--sklearn-color-background);\n",
       "  text-decoration: none;\n",
       "}\n",
       "\n",
       "/* Span, style for the box shown on hovering the info icon */\n",
       ".sk-estimator-doc-link span {\n",
       "  display: none;\n",
       "  z-index: 9999;\n",
       "  position: relative;\n",
       "  font-weight: normal;\n",
       "  right: .2ex;\n",
       "  padding: .5ex;\n",
       "  margin: .5ex;\n",
       "  width: min-content;\n",
       "  min-width: 20ex;\n",
       "  max-width: 50ex;\n",
       "  color: var(--sklearn-color-text);\n",
       "  box-shadow: 2pt 2pt 4pt #999;\n",
       "  /* unfitted */\n",
       "  background: var(--sklearn-color-unfitted-level-0);\n",
       "  border: .5pt solid var(--sklearn-color-unfitted-level-3);\n",
       "}\n",
       "\n",
       ".sk-estimator-doc-link.fitted span {\n",
       "  /* fitted */\n",
       "  background: var(--sklearn-color-fitted-level-0);\n",
       "  border: var(--sklearn-color-fitted-level-3);\n",
       "}\n",
       "\n",
       ".sk-estimator-doc-link:hover span {\n",
       "  display: block;\n",
       "}\n",
       "\n",
       "/* \"?\"-specific style due to the `<a>` HTML tag */\n",
       "\n",
       "#sk-container-id-5 a.estimator_doc_link {\n",
       "  float: right;\n",
       "  font-size: 1rem;\n",
       "  line-height: 1em;\n",
       "  font-family: monospace;\n",
       "  background-color: var(--sklearn-color-background);\n",
       "  border-radius: 1rem;\n",
       "  height: 1rem;\n",
       "  width: 1rem;\n",
       "  text-decoration: none;\n",
       "  /* unfitted */\n",
       "  color: var(--sklearn-color-unfitted-level-1);\n",
       "  border: var(--sklearn-color-unfitted-level-1) 1pt solid;\n",
       "}\n",
       "\n",
       "#sk-container-id-5 a.estimator_doc_link.fitted {\n",
       "  /* fitted */\n",
       "  border: var(--sklearn-color-fitted-level-1) 1pt solid;\n",
       "  color: var(--sklearn-color-fitted-level-1);\n",
       "}\n",
       "\n",
       "/* On hover */\n",
       "#sk-container-id-5 a.estimator_doc_link:hover {\n",
       "  /* unfitted */\n",
       "  background-color: var(--sklearn-color-unfitted-level-3);\n",
       "  color: var(--sklearn-color-background);\n",
       "  text-decoration: none;\n",
       "}\n",
       "\n",
       "#sk-container-id-5 a.estimator_doc_link.fitted:hover {\n",
       "  /* fitted */\n",
       "  background-color: var(--sklearn-color-fitted-level-3);\n",
       "}\n",
       "</style><div id=\"sk-container-id-5\" class=\"sk-top-container\"><div class=\"sk-text-repr-fallback\"><pre>GridSearchCV(cv=5, estimator=Ridge(),\n",
       "             param_grid={&#x27;alpha&#x27;: [0.1, 0.5, 1, 1.5, 2, 2.5, 3]}, scoring=&#x27;r2&#x27;)</pre><b>In a Jupyter environment, please rerun this cell to show the HTML representation or trust the notebook. <br />On GitHub, the HTML representation is unable to render, please try loading this page with nbviewer.org.</b></div><div class=\"sk-container\" hidden><div class=\"sk-item sk-dashed-wrapped\"><div class=\"sk-label-container\"><div class=\"sk-label fitted sk-toggleable\"><input class=\"sk-toggleable__control sk-hidden--visually\" id=\"sk-estimator-id-13\" type=\"checkbox\" ><label for=\"sk-estimator-id-13\" class=\"sk-toggleable__label fitted sk-toggleable__label-arrow fitted\">&nbsp;&nbsp;GridSearchCV<a class=\"sk-estimator-doc-link fitted\" rel=\"noreferrer\" target=\"_blank\" href=\"https://scikit-learn.org/1.5/modules/generated/sklearn.model_selection.GridSearchCV.html\">?<span>Documentation for GridSearchCV</span></a><span class=\"sk-estimator-doc-link fitted\">i<span>Fitted</span></span></label><div class=\"sk-toggleable__content fitted\"><pre>GridSearchCV(cv=5, estimator=Ridge(),\n",
       "             param_grid={&#x27;alpha&#x27;: [0.1, 0.5, 1, 1.5, 2, 2.5, 3]}, scoring=&#x27;r2&#x27;)</pre></div> </div></div><div class=\"sk-parallel\"><div class=\"sk-parallel-item\"><div class=\"sk-item\"><div class=\"sk-label-container\"><div class=\"sk-label fitted sk-toggleable\"><input class=\"sk-toggleable__control sk-hidden--visually\" id=\"sk-estimator-id-14\" type=\"checkbox\" ><label for=\"sk-estimator-id-14\" class=\"sk-toggleable__label fitted sk-toggleable__label-arrow fitted\">best_estimator_: Ridge</label><div class=\"sk-toggleable__content fitted\"><pre>Ridge(alpha=1.5)</pre></div> </div></div><div class=\"sk-serial\"><div class=\"sk-item\"><div class=\"sk-estimator fitted sk-toggleable\"><input class=\"sk-toggleable__control sk-hidden--visually\" id=\"sk-estimator-id-15\" type=\"checkbox\" ><label for=\"sk-estimator-id-15\" class=\"sk-toggleable__label fitted sk-toggleable__label-arrow fitted\">&nbsp;Ridge<a class=\"sk-estimator-doc-link fitted\" rel=\"noreferrer\" target=\"_blank\" href=\"https://scikit-learn.org/1.5/modules/generated/sklearn.linear_model.Ridge.html\">?<span>Documentation for Ridge</span></a></label><div class=\"sk-toggleable__content fitted\"><pre>Ridge(alpha=1.5)</pre></div> </div></div></div></div></div></div></div></div></div>"
      ],
      "text/plain": [
       "GridSearchCV(cv=5, estimator=Ridge(),\n",
       "             param_grid={'alpha': [0.1, 0.5, 1, 1.5, 2, 2.5, 3]}, scoring='r2')"
      ]
     },
     "execution_count": 629,
     "metadata": {},
     "output_type": "execute_result"
    }
   ],
   "source": [
    "param_grid = {'alpha': [0.1, 0.5, 1, 1.5, 2, 2.5, 3]}\n",
    "ridge = Ridge()\n",
    "grid_search = GridSearchCV(ridge, param_grid, cv=5, scoring='r2')\n",
    "grid_search.fit(x_train_ss, y_train)"
   ]
  },
  {
   "cell_type": "code",
   "execution_count": 630,
   "metadata": {},
   "outputs": [
    {
     "name": "stdout",
     "output_type": "stream",
     "text": [
      "Mejor alpha: 1.5\n"
     ]
    }
   ],
   "source": [
    "modelo_combinado = grid_search.best_estimator_\n",
    "print(f\"Mejor alpha: {grid_search.best_params_['alpha']}\")"
   ]
  },
  {
   "cell_type": "code",
   "execution_count": 631,
   "metadata": {},
   "outputs": [],
   "source": [
    "predicciones = modelo_combinado.predict(x_test_ss)\n",
    "r2 = r2_score(y_test, predicciones)\n",
    "rmse = np.sqrt(np.mean((y_test - predicciones)**2))"
   ]
  },
  {
   "cell_type": "code",
   "execution_count": 632,
   "metadata": {},
   "outputs": [
    {
     "name": "stdout",
     "output_type": "stream",
     "text": [
      "R2: 0.9188177597195739, RMSE: 3.259910223065826\n"
     ]
    }
   ],
   "source": [
    "print(f\"R2: {r2}, RMSE: {rmse}\")"
   ]
  },
  {
   "cell_type": "code",
   "execution_count": 633,
   "metadata": {},
   "outputs": [
    {
     "name": "stdout",
     "output_type": "stream",
     "text": [
      "Pendientes: [ 0.13036791 10.13967171]\n",
      "Intercepto: 171.73529411764707\n"
     ]
    }
   ],
   "source": [
    "print(f\"Pendientes: {modelo_combinado.coef_}\")\n",
    "print(f\"Intercepto: {modelo_combinado.intercept_}\")"
   ]
  },
  {
   "cell_type": "code",
   "execution_count": 634,
   "metadata": {},
   "outputs": [
    {
     "name": "stderr",
     "output_type": "stream",
     "text": [
      "c:\\Users\\Roi_f\\anaconda3\\envs\\personal\\Lib\\site-packages\\sklearn\\base.py:493: UserWarning:\n",
      "\n",
      "X does not have valid feature names, but StandardScaler was fitted with feature names\n",
      "\n"
     ]
    }
   ],
   "source": [
    "values = ss.transform([[39,24.5]])"
   ]
  },
  {
   "cell_type": "code",
   "execution_count": 635,
   "metadata": {},
   "outputs": [
    {
     "data": {
      "text/plain": [
       "array([163.63808337])"
      ]
     },
     "execution_count": 635,
     "metadata": {},
     "output_type": "execute_result"
    }
   ],
   "source": [
    "modelo_combinado.predict(values)"
   ]
  },
  {
   "cell_type": "code",
   "execution_count": 636,
   "metadata": {},
   "outputs": [
    {
     "name": "stderr",
     "output_type": "stream",
     "text": [
      "c:\\Users\\Roi_f\\anaconda3\\envs\\personal\\Lib\\site-packages\\sklearn\\base.py:493: UserWarning:\n",
      "\n",
      "X does not have valid feature names, but StandardScaler was fitted with feature names\n",
      "\n"
     ]
    },
    {
     "data": {
      "application/vnd.plotly.v1+json": {
       "config": {
        "plotlyServerURL": "https://plot.ly"
       },
       "data": [
        {
         "marker": {
          "color": "red",
          "opacity": 0.7,
          "size": 8
         },
         "mode": "markers",
         "type": "scatter3d",
         "x": [
          33,
          45,
          45,
          41,
          41,
          40,
          47,
          52,
          38,
          38,
          37,
          49,
          49,
          48,
          52,
          50,
          44,
          38,
          42,
          40,
          46,
          40,
          50,
          43,
          42,
          46,
          47,
          45,
          40,
          54,
          39,
          50,
          50,
          47,
          45,
          38,
          51,
          37,
          40,
          50,
          40,
          50,
          44,
          44,
          49,
          44,
          35,
          56,
          40,
          44,
          57,
          40,
          49,
          42,
          51,
          46,
          45,
          56,
          42,
          52,
          46,
          46,
          45,
          48,
          49,
          41,
          44,
          45,
          36,
          46,
          50,
          37,
          34,
          45,
          53,
          36,
          44,
          48,
          36,
          38,
          41,
          44,
          48,
          44,
          45,
          43,
          53,
          42,
          41,
          40,
          38,
          46,
          49,
          44,
          42,
          35,
          48,
          54,
          51,
          50,
          47,
          47,
          42
         ],
         "y": [
          21,
          29,
          27.5,
          22.5,
          22.5,
          23,
          26.5,
          30,
          23,
          23,
          23,
          28.5,
          27.5,
          28.3,
          29,
          29,
          28,
          25,
          24,
          24,
          25.5,
          26.7,
          28,
          27.1,
          27,
          24,
          28.1,
          26.5,
          24,
          30.1,
          23,
          29,
          29,
          28.1,
          27.5,
          23,
          29.4,
          23,
          23,
          29.1,
          23,
          28.5,
          24.5,
          27.2,
          28.6,
          28,
          22,
          30,
          24,
          28,
          30,
          24,
          28,
          24,
          29.2,
          28.1,
          27,
          30.8,
          28,
          29.4,
          25,
          26.5,
          27.5,
          28,
          28.7,
          26,
          26.5,
          27.5,
          27,
          25.5,
          28,
          23,
          22,
          25,
          29.8,
          25,
          27,
          28.4,
          22,
          24,
          26.8,
          24,
          28.3,
          23,
          26.5,
          27.2,
          30,
          26,
          26,
          26,
          24,
          28,
          28.6,
          26,
          24,
          26,
          28,
          30.2,
          29.3,
          28.9,
          28,
          28.1,
          27
         ],
         "z": [
          148,
          178,
          179,
          155,
          155,
          158,
          168,
          186,
          156,
          156,
          155,
          184,
          178,
          183,
          186,
          190,
          178,
          170,
          162,
          158,
          168,
          173,
          173,
          177,
          174,
          170,
          182,
          170,
          159,
          190,
          158,
          183,
          190,
          182,
          172,
          156,
          187,
          158,
          153,
          186,
          158,
          175,
          162,
          177,
          185,
          178,
          153,
          191,
          165,
          178,
          193,
          159,
          182,
          160,
          186,
          182,
          180,
          192,
          177,
          187,
          165,
          167,
          175,
          181,
          185,
          170,
          173,
          172,
          170,
          168,
          173,
          161,
          153,
          174,
          189,
          169,
          175,
          183,
          154,
          164,
          173,
          163,
          183,
          162,
          170,
          177,
          188,
          170,
          173,
          173,
          159,
          182,
          184,
          161,
          162,
          159,
          182,
          190,
          187,
          186,
          182,
          183,
          175
         ]
        },
        {
         "colorscale": [
          [
           0,
           "#440154"
          ],
          [
           0.1111111111111111,
           "#482878"
          ],
          [
           0.2222222222222222,
           "#3e4989"
          ],
          [
           0.3333333333333333,
           "#31688e"
          ],
          [
           0.4444444444444444,
           "#26828e"
          ],
          [
           0.5555555555555556,
           "#1f9e89"
          ],
          [
           0.6666666666666666,
           "#35b779"
          ],
          [
           0.7777777777777778,
           "#6ece58"
          ],
          [
           0.8888888888888888,
           "#b5de2b"
          ],
          [
           1,
           "#fde725"
          ]
         ],
         "opacity": 0.5,
         "type": "surface",
         "x": [
          [
           33,
           34.473684210526315,
           35.94736842105263,
           37.421052631578945,
           38.89473684210526,
           40.368421052631575,
           41.84210526315789,
           43.31578947368421,
           44.78947368421053,
           46.26315789473684,
           47.73684210526316,
           49.21052631578947,
           50.68421052631579,
           52.1578947368421,
           53.631578947368425,
           55.10526315789474,
           56.578947368421055,
           58.05263157894737,
           59.526315789473685,
           61
          ],
          [
           33,
           34.473684210526315,
           35.94736842105263,
           37.421052631578945,
           38.89473684210526,
           40.368421052631575,
           41.84210526315789,
           43.31578947368421,
           44.78947368421053,
           46.26315789473684,
           47.73684210526316,
           49.21052631578947,
           50.68421052631579,
           52.1578947368421,
           53.631578947368425,
           55.10526315789474,
           56.578947368421055,
           58.05263157894737,
           59.526315789473685,
           61
          ],
          [
           33,
           34.473684210526315,
           35.94736842105263,
           37.421052631578945,
           38.89473684210526,
           40.368421052631575,
           41.84210526315789,
           43.31578947368421,
           44.78947368421053,
           46.26315789473684,
           47.73684210526316,
           49.21052631578947,
           50.68421052631579,
           52.1578947368421,
           53.631578947368425,
           55.10526315789474,
           56.578947368421055,
           58.05263157894737,
           59.526315789473685,
           61
          ],
          [
           33,
           34.473684210526315,
           35.94736842105263,
           37.421052631578945,
           38.89473684210526,
           40.368421052631575,
           41.84210526315789,
           43.31578947368421,
           44.78947368421053,
           46.26315789473684,
           47.73684210526316,
           49.21052631578947,
           50.68421052631579,
           52.1578947368421,
           53.631578947368425,
           55.10526315789474,
           56.578947368421055,
           58.05263157894737,
           59.526315789473685,
           61
          ],
          [
           33,
           34.473684210526315,
           35.94736842105263,
           37.421052631578945,
           38.89473684210526,
           40.368421052631575,
           41.84210526315789,
           43.31578947368421,
           44.78947368421053,
           46.26315789473684,
           47.73684210526316,
           49.21052631578947,
           50.68421052631579,
           52.1578947368421,
           53.631578947368425,
           55.10526315789474,
           56.578947368421055,
           58.05263157894737,
           59.526315789473685,
           61
          ],
          [
           33,
           34.473684210526315,
           35.94736842105263,
           37.421052631578945,
           38.89473684210526,
           40.368421052631575,
           41.84210526315789,
           43.31578947368421,
           44.78947368421053,
           46.26315789473684,
           47.73684210526316,
           49.21052631578947,
           50.68421052631579,
           52.1578947368421,
           53.631578947368425,
           55.10526315789474,
           56.578947368421055,
           58.05263157894737,
           59.526315789473685,
           61
          ],
          [
           33,
           34.473684210526315,
           35.94736842105263,
           37.421052631578945,
           38.89473684210526,
           40.368421052631575,
           41.84210526315789,
           43.31578947368421,
           44.78947368421053,
           46.26315789473684,
           47.73684210526316,
           49.21052631578947,
           50.68421052631579,
           52.1578947368421,
           53.631578947368425,
           55.10526315789474,
           56.578947368421055,
           58.05263157894737,
           59.526315789473685,
           61
          ],
          [
           33,
           34.473684210526315,
           35.94736842105263,
           37.421052631578945,
           38.89473684210526,
           40.368421052631575,
           41.84210526315789,
           43.31578947368421,
           44.78947368421053,
           46.26315789473684,
           47.73684210526316,
           49.21052631578947,
           50.68421052631579,
           52.1578947368421,
           53.631578947368425,
           55.10526315789474,
           56.578947368421055,
           58.05263157894737,
           59.526315789473685,
           61
          ],
          [
           33,
           34.473684210526315,
           35.94736842105263,
           37.421052631578945,
           38.89473684210526,
           40.368421052631575,
           41.84210526315789,
           43.31578947368421,
           44.78947368421053,
           46.26315789473684,
           47.73684210526316,
           49.21052631578947,
           50.68421052631579,
           52.1578947368421,
           53.631578947368425,
           55.10526315789474,
           56.578947368421055,
           58.05263157894737,
           59.526315789473685,
           61
          ],
          [
           33,
           34.473684210526315,
           35.94736842105263,
           37.421052631578945,
           38.89473684210526,
           40.368421052631575,
           41.84210526315789,
           43.31578947368421,
           44.78947368421053,
           46.26315789473684,
           47.73684210526316,
           49.21052631578947,
           50.68421052631579,
           52.1578947368421,
           53.631578947368425,
           55.10526315789474,
           56.578947368421055,
           58.05263157894737,
           59.526315789473685,
           61
          ],
          [
           33,
           34.473684210526315,
           35.94736842105263,
           37.421052631578945,
           38.89473684210526,
           40.368421052631575,
           41.84210526315789,
           43.31578947368421,
           44.78947368421053,
           46.26315789473684,
           47.73684210526316,
           49.21052631578947,
           50.68421052631579,
           52.1578947368421,
           53.631578947368425,
           55.10526315789474,
           56.578947368421055,
           58.05263157894737,
           59.526315789473685,
           61
          ],
          [
           33,
           34.473684210526315,
           35.94736842105263,
           37.421052631578945,
           38.89473684210526,
           40.368421052631575,
           41.84210526315789,
           43.31578947368421,
           44.78947368421053,
           46.26315789473684,
           47.73684210526316,
           49.21052631578947,
           50.68421052631579,
           52.1578947368421,
           53.631578947368425,
           55.10526315789474,
           56.578947368421055,
           58.05263157894737,
           59.526315789473685,
           61
          ],
          [
           33,
           34.473684210526315,
           35.94736842105263,
           37.421052631578945,
           38.89473684210526,
           40.368421052631575,
           41.84210526315789,
           43.31578947368421,
           44.78947368421053,
           46.26315789473684,
           47.73684210526316,
           49.21052631578947,
           50.68421052631579,
           52.1578947368421,
           53.631578947368425,
           55.10526315789474,
           56.578947368421055,
           58.05263157894737,
           59.526315789473685,
           61
          ],
          [
           33,
           34.473684210526315,
           35.94736842105263,
           37.421052631578945,
           38.89473684210526,
           40.368421052631575,
           41.84210526315789,
           43.31578947368421,
           44.78947368421053,
           46.26315789473684,
           47.73684210526316,
           49.21052631578947,
           50.68421052631579,
           52.1578947368421,
           53.631578947368425,
           55.10526315789474,
           56.578947368421055,
           58.05263157894737,
           59.526315789473685,
           61
          ],
          [
           33,
           34.473684210526315,
           35.94736842105263,
           37.421052631578945,
           38.89473684210526,
           40.368421052631575,
           41.84210526315789,
           43.31578947368421,
           44.78947368421053,
           46.26315789473684,
           47.73684210526316,
           49.21052631578947,
           50.68421052631579,
           52.1578947368421,
           53.631578947368425,
           55.10526315789474,
           56.578947368421055,
           58.05263157894737,
           59.526315789473685,
           61
          ],
          [
           33,
           34.473684210526315,
           35.94736842105263,
           37.421052631578945,
           38.89473684210526,
           40.368421052631575,
           41.84210526315789,
           43.31578947368421,
           44.78947368421053,
           46.26315789473684,
           47.73684210526316,
           49.21052631578947,
           50.68421052631579,
           52.1578947368421,
           53.631578947368425,
           55.10526315789474,
           56.578947368421055,
           58.05263157894737,
           59.526315789473685,
           61
          ],
          [
           33,
           34.473684210526315,
           35.94736842105263,
           37.421052631578945,
           38.89473684210526,
           40.368421052631575,
           41.84210526315789,
           43.31578947368421,
           44.78947368421053,
           46.26315789473684,
           47.73684210526316,
           49.21052631578947,
           50.68421052631579,
           52.1578947368421,
           53.631578947368425,
           55.10526315789474,
           56.578947368421055,
           58.05263157894737,
           59.526315789473685,
           61
          ],
          [
           33,
           34.473684210526315,
           35.94736842105263,
           37.421052631578945,
           38.89473684210526,
           40.368421052631575,
           41.84210526315789,
           43.31578947368421,
           44.78947368421053,
           46.26315789473684,
           47.73684210526316,
           49.21052631578947,
           50.68421052631579,
           52.1578947368421,
           53.631578947368425,
           55.10526315789474,
           56.578947368421055,
           58.05263157894737,
           59.526315789473685,
           61
          ],
          [
           33,
           34.473684210526315,
           35.94736842105263,
           37.421052631578945,
           38.89473684210526,
           40.368421052631575,
           41.84210526315789,
           43.31578947368421,
           44.78947368421053,
           46.26315789473684,
           47.73684210526316,
           49.21052631578947,
           50.68421052631579,
           52.1578947368421,
           53.631578947368425,
           55.10526315789474,
           56.578947368421055,
           58.05263157894737,
           59.526315789473685,
           61
          ],
          [
           33,
           34.473684210526315,
           35.94736842105263,
           37.421052631578945,
           38.89473684210526,
           40.368421052631575,
           41.84210526315789,
           43.31578947368421,
           44.78947368421053,
           46.26315789473684,
           47.73684210526316,
           49.21052631578947,
           50.68421052631579,
           52.1578947368421,
           53.631578947368425,
           55.10526315789474,
           56.578947368421055,
           58.05263157894737,
           59.526315789473685,
           61
          ]
         ],
         "y": [
          [
           21,
           21,
           21,
           21,
           21,
           21,
           21,
           21,
           21,
           21,
           21,
           21,
           21,
           21,
           21,
           21,
           21,
           21,
           21,
           21
          ],
          [
           21.521052631578947,
           21.521052631578947,
           21.521052631578947,
           21.521052631578947,
           21.521052631578947,
           21.521052631578947,
           21.521052631578947,
           21.521052631578947,
           21.521052631578947,
           21.521052631578947,
           21.521052631578947,
           21.521052631578947,
           21.521052631578947,
           21.521052631578947,
           21.521052631578947,
           21.521052631578947,
           21.521052631578947,
           21.521052631578947,
           21.521052631578947,
           21.521052631578947
          ],
          [
           22.042105263157893,
           22.042105263157893,
           22.042105263157893,
           22.042105263157893,
           22.042105263157893,
           22.042105263157893,
           22.042105263157893,
           22.042105263157893,
           22.042105263157893,
           22.042105263157893,
           22.042105263157893,
           22.042105263157893,
           22.042105263157893,
           22.042105263157893,
           22.042105263157893,
           22.042105263157893,
           22.042105263157893,
           22.042105263157893,
           22.042105263157893,
           22.042105263157893
          ],
          [
           22.563157894736843,
           22.563157894736843,
           22.563157894736843,
           22.563157894736843,
           22.563157894736843,
           22.563157894736843,
           22.563157894736843,
           22.563157894736843,
           22.563157894736843,
           22.563157894736843,
           22.563157894736843,
           22.563157894736843,
           22.563157894736843,
           22.563157894736843,
           22.563157894736843,
           22.563157894736843,
           22.563157894736843,
           22.563157894736843,
           22.563157894736843,
           22.563157894736843
          ],
          [
           23.08421052631579,
           23.08421052631579,
           23.08421052631579,
           23.08421052631579,
           23.08421052631579,
           23.08421052631579,
           23.08421052631579,
           23.08421052631579,
           23.08421052631579,
           23.08421052631579,
           23.08421052631579,
           23.08421052631579,
           23.08421052631579,
           23.08421052631579,
           23.08421052631579,
           23.08421052631579,
           23.08421052631579,
           23.08421052631579,
           23.08421052631579,
           23.08421052631579
          ],
          [
           23.605263157894736,
           23.605263157894736,
           23.605263157894736,
           23.605263157894736,
           23.605263157894736,
           23.605263157894736,
           23.605263157894736,
           23.605263157894736,
           23.605263157894736,
           23.605263157894736,
           23.605263157894736,
           23.605263157894736,
           23.605263157894736,
           23.605263157894736,
           23.605263157894736,
           23.605263157894736,
           23.605263157894736,
           23.605263157894736,
           23.605263157894736,
           23.605263157894736
          ],
          [
           24.126315789473683,
           24.126315789473683,
           24.126315789473683,
           24.126315789473683,
           24.126315789473683,
           24.126315789473683,
           24.126315789473683,
           24.126315789473683,
           24.126315789473683,
           24.126315789473683,
           24.126315789473683,
           24.126315789473683,
           24.126315789473683,
           24.126315789473683,
           24.126315789473683,
           24.126315789473683,
           24.126315789473683,
           24.126315789473683,
           24.126315789473683,
           24.126315789473683
          ],
          [
           24.647368421052633,
           24.647368421052633,
           24.647368421052633,
           24.647368421052633,
           24.647368421052633,
           24.647368421052633,
           24.647368421052633,
           24.647368421052633,
           24.647368421052633,
           24.647368421052633,
           24.647368421052633,
           24.647368421052633,
           24.647368421052633,
           24.647368421052633,
           24.647368421052633,
           24.647368421052633,
           24.647368421052633,
           24.647368421052633,
           24.647368421052633,
           24.647368421052633
          ],
          [
           25.16842105263158,
           25.16842105263158,
           25.16842105263158,
           25.16842105263158,
           25.16842105263158,
           25.16842105263158,
           25.16842105263158,
           25.16842105263158,
           25.16842105263158,
           25.16842105263158,
           25.16842105263158,
           25.16842105263158,
           25.16842105263158,
           25.16842105263158,
           25.16842105263158,
           25.16842105263158,
           25.16842105263158,
           25.16842105263158,
           25.16842105263158,
           25.16842105263158
          ],
          [
           25.689473684210526,
           25.689473684210526,
           25.689473684210526,
           25.689473684210526,
           25.689473684210526,
           25.689473684210526,
           25.689473684210526,
           25.689473684210526,
           25.689473684210526,
           25.689473684210526,
           25.689473684210526,
           25.689473684210526,
           25.689473684210526,
           25.689473684210526,
           25.689473684210526,
           25.689473684210526,
           25.689473684210526,
           25.689473684210526,
           25.689473684210526,
           25.689473684210526
          ],
          [
           26.210526315789473,
           26.210526315789473,
           26.210526315789473,
           26.210526315789473,
           26.210526315789473,
           26.210526315789473,
           26.210526315789473,
           26.210526315789473,
           26.210526315789473,
           26.210526315789473,
           26.210526315789473,
           26.210526315789473,
           26.210526315789473,
           26.210526315789473,
           26.210526315789473,
           26.210526315789473,
           26.210526315789473,
           26.210526315789473,
           26.210526315789473,
           26.210526315789473
          ],
          [
           26.73157894736842,
           26.73157894736842,
           26.73157894736842,
           26.73157894736842,
           26.73157894736842,
           26.73157894736842,
           26.73157894736842,
           26.73157894736842,
           26.73157894736842,
           26.73157894736842,
           26.73157894736842,
           26.73157894736842,
           26.73157894736842,
           26.73157894736842,
           26.73157894736842,
           26.73157894736842,
           26.73157894736842,
           26.73157894736842,
           26.73157894736842,
           26.73157894736842
          ],
          [
           27.252631578947366,
           27.252631578947366,
           27.252631578947366,
           27.252631578947366,
           27.252631578947366,
           27.252631578947366,
           27.252631578947366,
           27.252631578947366,
           27.252631578947366,
           27.252631578947366,
           27.252631578947366,
           27.252631578947366,
           27.252631578947366,
           27.252631578947366,
           27.252631578947366,
           27.252631578947366,
           27.252631578947366,
           27.252631578947366,
           27.252631578947366,
           27.252631578947366
          ],
          [
           27.773684210526316,
           27.773684210526316,
           27.773684210526316,
           27.773684210526316,
           27.773684210526316,
           27.773684210526316,
           27.773684210526316,
           27.773684210526316,
           27.773684210526316,
           27.773684210526316,
           27.773684210526316,
           27.773684210526316,
           27.773684210526316,
           27.773684210526316,
           27.773684210526316,
           27.773684210526316,
           27.773684210526316,
           27.773684210526316,
           27.773684210526316,
           27.773684210526316
          ],
          [
           28.294736842105262,
           28.294736842105262,
           28.294736842105262,
           28.294736842105262,
           28.294736842105262,
           28.294736842105262,
           28.294736842105262,
           28.294736842105262,
           28.294736842105262,
           28.294736842105262,
           28.294736842105262,
           28.294736842105262,
           28.294736842105262,
           28.294736842105262,
           28.294736842105262,
           28.294736842105262,
           28.294736842105262,
           28.294736842105262,
           28.294736842105262,
           28.294736842105262
          ],
          [
           28.81578947368421,
           28.81578947368421,
           28.81578947368421,
           28.81578947368421,
           28.81578947368421,
           28.81578947368421,
           28.81578947368421,
           28.81578947368421,
           28.81578947368421,
           28.81578947368421,
           28.81578947368421,
           28.81578947368421,
           28.81578947368421,
           28.81578947368421,
           28.81578947368421,
           28.81578947368421,
           28.81578947368421,
           28.81578947368421,
           28.81578947368421,
           28.81578947368421
          ],
          [
           29.33684210526316,
           29.33684210526316,
           29.33684210526316,
           29.33684210526316,
           29.33684210526316,
           29.33684210526316,
           29.33684210526316,
           29.33684210526316,
           29.33684210526316,
           29.33684210526316,
           29.33684210526316,
           29.33684210526316,
           29.33684210526316,
           29.33684210526316,
           29.33684210526316,
           29.33684210526316,
           29.33684210526316,
           29.33684210526316,
           29.33684210526316,
           29.33684210526316
          ],
          [
           29.857894736842105,
           29.857894736842105,
           29.857894736842105,
           29.857894736842105,
           29.857894736842105,
           29.857894736842105,
           29.857894736842105,
           29.857894736842105,
           29.857894736842105,
           29.857894736842105,
           29.857894736842105,
           29.857894736842105,
           29.857894736842105,
           29.857894736842105,
           29.857894736842105,
           29.857894736842105,
           29.857894736842105,
           29.857894736842105,
           29.857894736842105,
           29.857894736842105
          ],
          [
           30.378947368421052,
           30.378947368421052,
           30.378947368421052,
           30.378947368421052,
           30.378947368421052,
           30.378947368421052,
           30.378947368421052,
           30.378947368421052,
           30.378947368421052,
           30.378947368421052,
           30.378947368421052,
           30.378947368421052,
           30.378947368421052,
           30.378947368421052,
           30.378947368421052,
           30.378947368421052,
           30.378947368421052,
           30.378947368421052,
           30.378947368421052,
           30.378947368421052
          ],
          [
           30.9,
           30.9,
           30.9,
           30.9,
           30.9,
           30.9,
           30.9,
           30.9,
           30.9,
           30.9,
           30.9,
           30.9,
           30.9,
           30.9,
           30.9,
           30.9,
           30.9,
           30.9,
           30.9,
           30.9
          ]
         ],
         "z": [
          [
           147.76421972981103,
           147.8015890553982,
           147.8389583809854,
           147.87632770657257,
           147.91369703215975,
           147.95106635774692,
           147.9884356833341,
           148.0258050089213,
           148.0631743345085,
           148.10054366009567,
           148.13791298568285,
           148.17528231127002,
           148.2126516368572,
           148.2500209624444,
           148.2873902880316,
           148.32475961361877,
           148.36212893920595,
           148.39949826479312,
           148.4368675903803,
           148.47423691596748
          ],
          [
           150.1047460354408,
           150.14211536102798,
           150.17948468661515,
           150.21685401220233,
           150.2542233377895,
           150.29159266337672,
           150.3289619889639,
           150.36633131455108,
           150.40370064013825,
           150.44106996572543,
           150.4784392913126,
           150.5158086168998,
           150.55317794248697,
           150.59054726807418,
           150.62791659366135,
           150.66528591924853,
           150.7026552448357,
           150.7400245704229,
           150.77739389601007,
           150.81476322159727
          ],
          [
           152.44527234107056,
           152.48264166665774,
           152.52001099224492,
           152.5573803178321,
           152.59474964341928,
           152.63211896900648,
           152.66948829459366,
           152.70685762018084,
           152.74422694576802,
           152.7815962713552,
           152.81896559694238,
           152.85633492252958,
           152.89370424811676,
           152.93107357370394,
           152.96844289929112,
           153.0058122248783,
           153.04318155046548,
           153.08055087605265,
           153.11792020163983,
           153.15528952722704
          ],
          [
           154.78579864670036,
           154.82316797228754,
           154.8605372978747,
           154.8979066234619,
           154.93527594904907,
           154.97264527463625,
           155.01001460022343,
           155.04738392581064,
           155.0847532513978,
           155.122122576985,
           155.15949190257217,
           155.19686122815935,
           155.23423055374653,
           155.27159987933373,
           155.3089692049209,
           155.3463385305081,
           155.38370785609527,
           155.42107718168245,
           155.45844650726963,
           155.4958158328568
          ],
          [
           157.12632495233012,
           157.1636942779173,
           157.20106360350448,
           157.23843292909166,
           157.27580225467884,
           157.31317158026604,
           157.35054090585322,
           157.3879102314404,
           157.42527955702758,
           157.46264888261476,
           157.50001820820194,
           157.53738753378911,
           157.5747568593763,
           157.6121261849635,
           157.64949551055068,
           157.68686483613786,
           157.72423416172504,
           157.76160348731221,
           157.7989728128994,
           157.83634213848657
          ],
          [
           159.4668512579599,
           159.50422058354707,
           159.54158990913425,
           159.57895923472142,
           159.6163285603086,
           159.6536978858958,
           159.691067211483,
           159.72843653707017,
           159.76580586265734,
           159.80317518824452,
           159.8405445138317,
           159.8779138394189,
           159.9152831650061,
           159.95265249059327,
           159.99002181618044,
           160.02739114176762,
           160.0647604673548,
           160.10212979294198,
           160.13949911852916,
           160.17686844411637
          ],
          [
           161.80737756358965,
           161.84474688917683,
           161.882116214764,
           161.91948554035122,
           161.9568548659384,
           161.99422419152557,
           162.03159351711275,
           162.06896284269993,
           162.1063321682871,
           162.1437014938743,
           162.18107081946147,
           162.21844014504867,
           162.25580947063585,
           162.29317879622303,
           162.3305481218102,
           162.3679174473974,
           162.40528677298457,
           162.44265609857175,
           162.48002542415895,
           162.51739474974613
          ],
          [
           164.14790386921945,
           164.18527319480663,
           164.2226425203938,
           164.26001184598098,
           164.29738117156816,
           164.33475049715534,
           164.37211982274255,
           164.40948914832973,
           164.4468584739169,
           164.48422779950408,
           164.52159712509126,
           164.55896645067844,
           164.59633577626562,
           164.63370510185283,
           164.67107442744,
           164.70844375302718,
           164.74581307861436,
           164.78318240420154,
           164.82055172978872,
           164.8579210553759
          ],
          [
           166.4884301748492,
           166.5257995004364,
           166.56316882602357,
           166.60053815161075,
           166.63790747719793,
           166.67527680278513,
           166.7126461283723,
           166.7500154539595,
           166.78738477954667,
           166.82475410513385,
           166.86212343072103,
           166.8994927563082,
           166.9368620818954,
           166.9742314074826,
           167.01160073306977,
           167.04897005865695,
           167.08633938424413,
           167.1237087098313,
           167.16107803541848,
           167.1984473610057
          ],
          [
           168.82895648047898,
           168.86632580606616,
           168.90369513165334,
           168.94106445724051,
           168.97843378282772,
           169.0158031084149,
           169.05317243400208,
           169.09054175958926,
           169.12791108517644,
           169.16528041076361,
           169.2026497363508,
           169.240019061938,
           169.27738838752518,
           169.31475771311236,
           169.35212703869954,
           169.3894963642867,
           169.4268656898739,
           169.46423501546107,
           169.50160434104828,
           169.53897366663546
          ],
          [
           171.16948278610874,
           171.20685211169592,
           171.2442214372831,
           171.2815907628703,
           171.3189600884575,
           171.35632941404467,
           171.39369873963184,
           171.43106806521902,
           171.4684373908062,
           171.50580671639338,
           171.5431760419806,
           171.58054536756777,
           171.61791469315494,
           171.65528401874212,
           171.6926533443293,
           171.73002266991648,
           171.76739199550366,
           171.80476132109087,
           171.84213064667804,
           171.87949997226522
          ],
          [
           173.5100090917385,
           173.5473784173257,
           173.5847477429129,
           173.62211706850007,
           173.65948639408725,
           173.69685571967443,
           173.7342250452616,
           173.7715943708488,
           173.80896369643597,
           173.84633302202317,
           173.88370234761035,
           173.92107167319753,
           173.9584409987847,
           173.9958103243719,
           174.03317964995907,
           174.07054897554625,
           174.10791830113345,
           174.14528762672063,
           174.1826569523078,
           174.220026277895
          ],
          [
           175.85053539736828,
           175.88790472295548,
           175.92527404854266,
           175.96264337412984,
           176.00001269971702,
           176.0373820253042,
           176.07475135089138,
           176.11212067647855,
           176.14949000206576,
           176.18685932765294,
           176.22422865324012,
           176.2615979788273,
           176.29896730441448,
           176.33633663000165,
           176.37370595558883,
           176.411075281176,
           176.44844460676322,
           176.4858139323504,
           176.52318325793757,
           176.56055258352475
          ],
          [
           178.19106170299807,
           178.22843102858525,
           178.26580035417243,
           178.3031696797596,
           178.3405390053468,
           178.377908330934,
           178.41527765652117,
           178.45264698210835,
           178.49001630769553,
           178.5273856332827,
           178.56475495886988,
           178.6021242844571,
           178.63949361004427,
           178.67686293563145,
           178.71423226121863,
           178.7516015868058,
           178.78897091239298,
           178.82634023798016,
           178.86370956356737,
           178.90107888915455
          ],
          [
           180.53158800862784,
           180.568957334215,
           180.60632665980222,
           180.6436959853894,
           180.68106531097658,
           180.71843463656376,
           180.75580396215094,
           180.7931732877381,
           180.8305426133253,
           180.86791193891247,
           180.90528126449968,
           180.94265059008686,
           180.98001991567403,
           181.0173892412612,
           181.0547585668484,
           181.09212789243557,
           181.12949721802275,
           181.16686654360996,
           181.20423586919713,
           181.2416051947843
          ],
          [
           182.8721143142576,
           182.90948363984478,
           182.946852965432,
           182.98422229101917,
           183.02159161660634,
           183.05896094219352,
           183.0963302677807,
           183.13369959336788,
           183.17106891895506,
           183.20843824454226,
           183.24580757012944,
           183.28317689571662,
           183.3205462213038,
           183.35791554689098,
           183.39528487247816,
           183.43265419806534,
           183.47002352365254,
           183.50739284923972,
           183.5447621748269,
           183.58213150041408
          ],
          [
           185.2126406198874,
           185.25000994547457,
           185.28737927106175,
           185.32474859664893,
           185.36211792223614,
           185.39948724782332,
           185.4368565734105,
           185.47422589899767,
           185.51159522458485,
           185.54896455017203,
           185.5863338757592,
           185.62370320134642,
           185.6610725269336,
           185.69844185252077,
           185.73581117810795,
           185.77318050369513,
           185.8105498292823,
           185.8479191548695,
           185.8852884804567,
           185.92265780604387
          ],
          [
           187.55316692551716,
           187.59053625110434,
           187.62790557669152,
           187.66527490227872,
           187.7026442278659,
           187.74001355345308,
           187.77738287904026,
           187.81475220462744,
           187.85212153021462,
           187.8894908558018,
           187.926860181389,
           187.96422950697618,
           188.00159883256336,
           188.03896815815054,
           188.07633748373772,
           188.1137068093249,
           188.15107613491207,
           188.18844546049928,
           188.22581478608646,
           188.26318411167364
          ],
          [
           189.89369323114693,
           189.9310625567341,
           189.9684318823213,
           190.0058012079085,
           190.04317053349567,
           190.08053985908285,
           190.11790918467003,
           190.1552785102572,
           190.19264783584438,
           190.2300171614316,
           190.26738648701877,
           190.30475581260595,
           190.34212513819313,
           190.3794944637803,
           190.41686378936748,
           190.45423311495466,
           190.49160244054187,
           190.52897176612905,
           190.56634109171623,
           190.6037104173034
          ],
          [
           192.2342195367767,
           192.2715888623639,
           192.30895818795108,
           192.34632751353826,
           192.38369683912543,
           192.4210661647126,
           192.4584354902998,
           192.49580481588697,
           192.53317414147415,
           192.57054346706136,
           192.60791279264853,
           192.6452821182357,
           192.6826514438229,
           192.72002076941007,
           192.75739009499725,
           192.79475942058446,
           192.83212874617163,
           192.8694980717588,
           192.906867397346,
           192.94423672293317
          ]
         ]
        }
       ],
       "layout": {
        "scene": {
         "xaxis": {
          "title": {
           "text": "Ancho"
          }
         },
         "yaxis": {
          "title": {
           "text": "Pie"
          }
         },
         "zaxis": {
          "title": {
           "text": "Altura"
          }
         }
        },
        "template": {
         "data": {
          "bar": [
           {
            "error_x": {
             "color": "#2a3f5f"
            },
            "error_y": {
             "color": "#2a3f5f"
            },
            "marker": {
             "line": {
              "color": "#E5ECF6",
              "width": 0.5
             },
             "pattern": {
              "fillmode": "overlay",
              "size": 10,
              "solidity": 0.2
             }
            },
            "type": "bar"
           }
          ],
          "barpolar": [
           {
            "marker": {
             "line": {
              "color": "#E5ECF6",
              "width": 0.5
             },
             "pattern": {
              "fillmode": "overlay",
              "size": 10,
              "solidity": 0.2
             }
            },
            "type": "barpolar"
           }
          ],
          "carpet": [
           {
            "aaxis": {
             "endlinecolor": "#2a3f5f",
             "gridcolor": "white",
             "linecolor": "white",
             "minorgridcolor": "white",
             "startlinecolor": "#2a3f5f"
            },
            "baxis": {
             "endlinecolor": "#2a3f5f",
             "gridcolor": "white",
             "linecolor": "white",
             "minorgridcolor": "white",
             "startlinecolor": "#2a3f5f"
            },
            "type": "carpet"
           }
          ],
          "choropleth": [
           {
            "colorbar": {
             "outlinewidth": 0,
             "ticks": ""
            },
            "type": "choropleth"
           }
          ],
          "contour": [
           {
            "colorbar": {
             "outlinewidth": 0,
             "ticks": ""
            },
            "colorscale": [
             [
              0,
              "#0d0887"
             ],
             [
              0.1111111111111111,
              "#46039f"
             ],
             [
              0.2222222222222222,
              "#7201a8"
             ],
             [
              0.3333333333333333,
              "#9c179e"
             ],
             [
              0.4444444444444444,
              "#bd3786"
             ],
             [
              0.5555555555555556,
              "#d8576b"
             ],
             [
              0.6666666666666666,
              "#ed7953"
             ],
             [
              0.7777777777777778,
              "#fb9f3a"
             ],
             [
              0.8888888888888888,
              "#fdca26"
             ],
             [
              1,
              "#f0f921"
             ]
            ],
            "type": "contour"
           }
          ],
          "contourcarpet": [
           {
            "colorbar": {
             "outlinewidth": 0,
             "ticks": ""
            },
            "type": "contourcarpet"
           }
          ],
          "heatmap": [
           {
            "colorbar": {
             "outlinewidth": 0,
             "ticks": ""
            },
            "colorscale": [
             [
              0,
              "#0d0887"
             ],
             [
              0.1111111111111111,
              "#46039f"
             ],
             [
              0.2222222222222222,
              "#7201a8"
             ],
             [
              0.3333333333333333,
              "#9c179e"
             ],
             [
              0.4444444444444444,
              "#bd3786"
             ],
             [
              0.5555555555555556,
              "#d8576b"
             ],
             [
              0.6666666666666666,
              "#ed7953"
             ],
             [
              0.7777777777777778,
              "#fb9f3a"
             ],
             [
              0.8888888888888888,
              "#fdca26"
             ],
             [
              1,
              "#f0f921"
             ]
            ],
            "type": "heatmap"
           }
          ],
          "heatmapgl": [
           {
            "colorbar": {
             "outlinewidth": 0,
             "ticks": ""
            },
            "colorscale": [
             [
              0,
              "#0d0887"
             ],
             [
              0.1111111111111111,
              "#46039f"
             ],
             [
              0.2222222222222222,
              "#7201a8"
             ],
             [
              0.3333333333333333,
              "#9c179e"
             ],
             [
              0.4444444444444444,
              "#bd3786"
             ],
             [
              0.5555555555555556,
              "#d8576b"
             ],
             [
              0.6666666666666666,
              "#ed7953"
             ],
             [
              0.7777777777777778,
              "#fb9f3a"
             ],
             [
              0.8888888888888888,
              "#fdca26"
             ],
             [
              1,
              "#f0f921"
             ]
            ],
            "type": "heatmapgl"
           }
          ],
          "histogram": [
           {
            "marker": {
             "pattern": {
              "fillmode": "overlay",
              "size": 10,
              "solidity": 0.2
             }
            },
            "type": "histogram"
           }
          ],
          "histogram2d": [
           {
            "colorbar": {
             "outlinewidth": 0,
             "ticks": ""
            },
            "colorscale": [
             [
              0,
              "#0d0887"
             ],
             [
              0.1111111111111111,
              "#46039f"
             ],
             [
              0.2222222222222222,
              "#7201a8"
             ],
             [
              0.3333333333333333,
              "#9c179e"
             ],
             [
              0.4444444444444444,
              "#bd3786"
             ],
             [
              0.5555555555555556,
              "#d8576b"
             ],
             [
              0.6666666666666666,
              "#ed7953"
             ],
             [
              0.7777777777777778,
              "#fb9f3a"
             ],
             [
              0.8888888888888888,
              "#fdca26"
             ],
             [
              1,
              "#f0f921"
             ]
            ],
            "type": "histogram2d"
           }
          ],
          "histogram2dcontour": [
           {
            "colorbar": {
             "outlinewidth": 0,
             "ticks": ""
            },
            "colorscale": [
             [
              0,
              "#0d0887"
             ],
             [
              0.1111111111111111,
              "#46039f"
             ],
             [
              0.2222222222222222,
              "#7201a8"
             ],
             [
              0.3333333333333333,
              "#9c179e"
             ],
             [
              0.4444444444444444,
              "#bd3786"
             ],
             [
              0.5555555555555556,
              "#d8576b"
             ],
             [
              0.6666666666666666,
              "#ed7953"
             ],
             [
              0.7777777777777778,
              "#fb9f3a"
             ],
             [
              0.8888888888888888,
              "#fdca26"
             ],
             [
              1,
              "#f0f921"
             ]
            ],
            "type": "histogram2dcontour"
           }
          ],
          "mesh3d": [
           {
            "colorbar": {
             "outlinewidth": 0,
             "ticks": ""
            },
            "type": "mesh3d"
           }
          ],
          "parcoords": [
           {
            "line": {
             "colorbar": {
              "outlinewidth": 0,
              "ticks": ""
             }
            },
            "type": "parcoords"
           }
          ],
          "pie": [
           {
            "automargin": true,
            "type": "pie"
           }
          ],
          "scatter": [
           {
            "fillpattern": {
             "fillmode": "overlay",
             "size": 10,
             "solidity": 0.2
            },
            "type": "scatter"
           }
          ],
          "scatter3d": [
           {
            "line": {
             "colorbar": {
              "outlinewidth": 0,
              "ticks": ""
             }
            },
            "marker": {
             "colorbar": {
              "outlinewidth": 0,
              "ticks": ""
             }
            },
            "type": "scatter3d"
           }
          ],
          "scattercarpet": [
           {
            "marker": {
             "colorbar": {
              "outlinewidth": 0,
              "ticks": ""
             }
            },
            "type": "scattercarpet"
           }
          ],
          "scattergeo": [
           {
            "marker": {
             "colorbar": {
              "outlinewidth": 0,
              "ticks": ""
             }
            },
            "type": "scattergeo"
           }
          ],
          "scattergl": [
           {
            "marker": {
             "colorbar": {
              "outlinewidth": 0,
              "ticks": ""
             }
            },
            "type": "scattergl"
           }
          ],
          "scattermapbox": [
           {
            "marker": {
             "colorbar": {
              "outlinewidth": 0,
              "ticks": ""
             }
            },
            "type": "scattermapbox"
           }
          ],
          "scatterpolar": [
           {
            "marker": {
             "colorbar": {
              "outlinewidth": 0,
              "ticks": ""
             }
            },
            "type": "scatterpolar"
           }
          ],
          "scatterpolargl": [
           {
            "marker": {
             "colorbar": {
              "outlinewidth": 0,
              "ticks": ""
             }
            },
            "type": "scatterpolargl"
           }
          ],
          "scatterternary": [
           {
            "marker": {
             "colorbar": {
              "outlinewidth": 0,
              "ticks": ""
             }
            },
            "type": "scatterternary"
           }
          ],
          "surface": [
           {
            "colorbar": {
             "outlinewidth": 0,
             "ticks": ""
            },
            "colorscale": [
             [
              0,
              "#0d0887"
             ],
             [
              0.1111111111111111,
              "#46039f"
             ],
             [
              0.2222222222222222,
              "#7201a8"
             ],
             [
              0.3333333333333333,
              "#9c179e"
             ],
             [
              0.4444444444444444,
              "#bd3786"
             ],
             [
              0.5555555555555556,
              "#d8576b"
             ],
             [
              0.6666666666666666,
              "#ed7953"
             ],
             [
              0.7777777777777778,
              "#fb9f3a"
             ],
             [
              0.8888888888888888,
              "#fdca26"
             ],
             [
              1,
              "#f0f921"
             ]
            ],
            "type": "surface"
           }
          ],
          "table": [
           {
            "cells": {
             "fill": {
              "color": "#EBF0F8"
             },
             "line": {
              "color": "white"
             }
            },
            "header": {
             "fill": {
              "color": "#C8D4E3"
             },
             "line": {
              "color": "white"
             }
            },
            "type": "table"
           }
          ]
         },
         "layout": {
          "annotationdefaults": {
           "arrowcolor": "#2a3f5f",
           "arrowhead": 0,
           "arrowwidth": 1
          },
          "autotypenumbers": "strict",
          "coloraxis": {
           "colorbar": {
            "outlinewidth": 0,
            "ticks": ""
           }
          },
          "colorscale": {
           "diverging": [
            [
             0,
             "#8e0152"
            ],
            [
             0.1,
             "#c51b7d"
            ],
            [
             0.2,
             "#de77ae"
            ],
            [
             0.3,
             "#f1b6da"
            ],
            [
             0.4,
             "#fde0ef"
            ],
            [
             0.5,
             "#f7f7f7"
            ],
            [
             0.6,
             "#e6f5d0"
            ],
            [
             0.7,
             "#b8e186"
            ],
            [
             0.8,
             "#7fbc41"
            ],
            [
             0.9,
             "#4d9221"
            ],
            [
             1,
             "#276419"
            ]
           ],
           "sequential": [
            [
             0,
             "#0d0887"
            ],
            [
             0.1111111111111111,
             "#46039f"
            ],
            [
             0.2222222222222222,
             "#7201a8"
            ],
            [
             0.3333333333333333,
             "#9c179e"
            ],
            [
             0.4444444444444444,
             "#bd3786"
            ],
            [
             0.5555555555555556,
             "#d8576b"
            ],
            [
             0.6666666666666666,
             "#ed7953"
            ],
            [
             0.7777777777777778,
             "#fb9f3a"
            ],
            [
             0.8888888888888888,
             "#fdca26"
            ],
            [
             1,
             "#f0f921"
            ]
           ],
           "sequentialminus": [
            [
             0,
             "#0d0887"
            ],
            [
             0.1111111111111111,
             "#46039f"
            ],
            [
             0.2222222222222222,
             "#7201a8"
            ],
            [
             0.3333333333333333,
             "#9c179e"
            ],
            [
             0.4444444444444444,
             "#bd3786"
            ],
            [
             0.5555555555555556,
             "#d8576b"
            ],
            [
             0.6666666666666666,
             "#ed7953"
            ],
            [
             0.7777777777777778,
             "#fb9f3a"
            ],
            [
             0.8888888888888888,
             "#fdca26"
            ],
            [
             1,
             "#f0f921"
            ]
           ]
          },
          "colorway": [
           "#636efa",
           "#EF553B",
           "#00cc96",
           "#ab63fa",
           "#FFA15A",
           "#19d3f3",
           "#FF6692",
           "#B6E880",
           "#FF97FF",
           "#FECB52"
          ],
          "font": {
           "color": "#2a3f5f"
          },
          "geo": {
           "bgcolor": "white",
           "lakecolor": "white",
           "landcolor": "#E5ECF6",
           "showlakes": true,
           "showland": true,
           "subunitcolor": "white"
          },
          "hoverlabel": {
           "align": "left"
          },
          "hovermode": "closest",
          "mapbox": {
           "style": "light"
          },
          "paper_bgcolor": "white",
          "plot_bgcolor": "#E5ECF6",
          "polar": {
           "angularaxis": {
            "gridcolor": "white",
            "linecolor": "white",
            "ticks": ""
           },
           "bgcolor": "#E5ECF6",
           "radialaxis": {
            "gridcolor": "white",
            "linecolor": "white",
            "ticks": ""
           }
          },
          "scene": {
           "xaxis": {
            "backgroundcolor": "#E5ECF6",
            "gridcolor": "white",
            "gridwidth": 2,
            "linecolor": "white",
            "showbackground": true,
            "ticks": "",
            "zerolinecolor": "white"
           },
           "yaxis": {
            "backgroundcolor": "#E5ECF6",
            "gridcolor": "white",
            "gridwidth": 2,
            "linecolor": "white",
            "showbackground": true,
            "ticks": "",
            "zerolinecolor": "white"
           },
           "zaxis": {
            "backgroundcolor": "#E5ECF6",
            "gridcolor": "white",
            "gridwidth": 2,
            "linecolor": "white",
            "showbackground": true,
            "ticks": "",
            "zerolinecolor": "white"
           }
          },
          "shapedefaults": {
           "line": {
            "color": "#2a3f5f"
           }
          },
          "ternary": {
           "aaxis": {
            "gridcolor": "white",
            "linecolor": "white",
            "ticks": ""
           },
           "baxis": {
            "gridcolor": "white",
            "linecolor": "white",
            "ticks": ""
           },
           "bgcolor": "#E5ECF6",
           "caxis": {
            "gridcolor": "white",
            "linecolor": "white",
            "ticks": ""
           }
          },
          "title": {
           "x": 0.05
          },
          "xaxis": {
           "automargin": true,
           "gridcolor": "white",
           "linecolor": "white",
           "ticks": "",
           "title": {
            "standoff": 15
           },
           "zerolinecolor": "white",
           "zerolinewidth": 2
          },
          "yaxis": {
           "automargin": true,
           "gridcolor": "white",
           "linecolor": "white",
           "ticks": "",
           "title": {
            "standoff": 15
           },
           "zerolinecolor": "white",
           "zerolinewidth": 2
          }
         }
        },
        "title": {
         "text": "MODELO COMBINADO<br>R2: 0.9188177597195739 RMSE: 3.259910223065826"
        }
       }
      }
     },
     "metadata": {},
     "output_type": "display_data"
    }
   ],
   "source": [
    "# Definir rangos para las variables independientes\n",
    "x1_range = np.linspace(min(x_train['width']), max(x_train['width']), 20)\n",
    "x2_range = np.linspace(min(x_train['shoe_size']), max(x_train['shoe_size']), 20)\n",
    "x1_mesh, x2_mesh = np.meshgrid(x1_range, x2_range)\n",
    "\n",
    "# Escalar el meshgrid para predicción\n",
    "x_mesh_scaled = ss.transform(np.vstack((x1_mesh.ravel(), x2_mesh.ravel())).T)\n",
    "\n",
    "# Predecir los valores con el modelo escalado\n",
    "y_mesh_scaled = modelo_combinado.predict(x_mesh_scaled)\n",
    "\n",
    "# Crear scatterplot 3D de los puntos reales\n",
    "scatter = go.Scatter3d(\n",
    "    x=x_test['width'], y=x_test['shoe_size'], z=y_test,\n",
    "    mode='markers',\n",
    "    marker=dict(size=8, color='red', opacity=0.7)\n",
    ")\n",
    "\n",
    "# Crear el plano de regresión\n",
    "surface = go.Surface(\n",
    "    x=x1_mesh, y=x2_mesh, z=y_mesh_scaled.reshape(x1_mesh.shape),\n",
    "    colorscale='Viridis', opacity=0.5\n",
    ")\n",
    "\n",
    "# Configuración del layout\n",
    "layout = go.Layout(\n",
    "     title=f\"MODELO COMBINADO<br>R2: {r2_score(y_test, predicciones)} RMSE: {root_mean_squared_error(y_test, predicciones)}\",\n",
    "    scene=dict(\n",
    "        xaxis_title='Ancho',\n",
    "        yaxis_title='Pie',\n",
    "        zaxis_title='Altura'\n",
    "    )\n",
    ")\n",
    "\n",
    "# Crear la figura\n",
    "fig = go.Figure(data=[scatter, surface], layout=layout)\n",
    "\n",
    "# Mostrar la figura interactiva\n",
    "fig.show()"
   ]
  },
  {
   "cell_type": "markdown",
   "metadata": {},
   "source": [
    "## Segunda Sección"
   ]
  },
  {
   "cell_type": "code",
   "execution_count": 637,
   "metadata": {},
   "outputs": [
    {
     "data": {
      "text/html": [
       "<div>\n",
       "<style scoped>\n",
       "    .dataframe tbody tr th:only-of-type {\n",
       "        vertical-align: middle;\n",
       "    }\n",
       "\n",
       "    .dataframe tbody tr th {\n",
       "        vertical-align: top;\n",
       "    }\n",
       "\n",
       "    .dataframe thead th {\n",
       "        text-align: right;\n",
       "    }\n",
       "</style>\n",
       "<table border=\"1\" class=\"dataframe\">\n",
       "  <thead>\n",
       "    <tr style=\"text-align: right;\">\n",
       "      <th></th>\n",
       "      <th>height</th>\n",
       "      <th>width</th>\n",
       "      <th>shoe_size</th>\n",
       "    </tr>\n",
       "  </thead>\n",
       "  <tbody>\n",
       "    <tr>\n",
       "      <th>0</th>\n",
       "      <td>185</td>\n",
       "      <td>55</td>\n",
       "      <td>28.0</td>\n",
       "    </tr>\n",
       "    <tr>\n",
       "      <th>1</th>\n",
       "      <td>173</td>\n",
       "      <td>44</td>\n",
       "      <td>26.5</td>\n",
       "    </tr>\n",
       "    <tr>\n",
       "      <th>2</th>\n",
       "      <td>163</td>\n",
       "      <td>44</td>\n",
       "      <td>24.0</td>\n",
       "    </tr>\n",
       "    <tr>\n",
       "      <th>3</th>\n",
       "      <td>162</td>\n",
       "      <td>44</td>\n",
       "      <td>24.5</td>\n",
       "    </tr>\n",
       "    <tr>\n",
       "      <th>4</th>\n",
       "      <td>172</td>\n",
       "      <td>46</td>\n",
       "      <td>27.0</td>\n",
       "    </tr>\n",
       "    <tr>\n",
       "      <th>...</th>\n",
       "      <td>...</td>\n",
       "      <td>...</td>\n",
       "      <td>...</td>\n",
       "    </tr>\n",
       "    <tr>\n",
       "      <th>82</th>\n",
       "      <td>158</td>\n",
       "      <td>40</td>\n",
       "      <td>24.0</td>\n",
       "    </tr>\n",
       "    <tr>\n",
       "      <th>83</th>\n",
       "      <td>162</td>\n",
       "      <td>40</td>\n",
       "      <td>25.5</td>\n",
       "    </tr>\n",
       "    <tr>\n",
       "      <th>84</th>\n",
       "      <td>152</td>\n",
       "      <td>33</td>\n",
       "      <td>22.0</td>\n",
       "    </tr>\n",
       "    <tr>\n",
       "      <th>85</th>\n",
       "      <td>164</td>\n",
       "      <td>36</td>\n",
       "      <td>23.0</td>\n",
       "    </tr>\n",
       "    <tr>\n",
       "      <th>86</th>\n",
       "      <td>153</td>\n",
       "      <td>36</td>\n",
       "      <td>22.5</td>\n",
       "    </tr>\n",
       "  </tbody>\n",
       "</table>\n",
       "<p>87 rows × 3 columns</p>\n",
       "</div>"
      ],
      "text/plain": [
       "    height  width  shoe_size\n",
       "0      185     55       28.0\n",
       "1      173     44       26.5\n",
       "2      163     44       24.0\n",
       "3      162     44       24.5\n",
       "4      172     46       27.0\n",
       "..     ...    ...        ...\n",
       "82     158     40       24.0\n",
       "83     162     40       25.5\n",
       "84     152     33       22.0\n",
       "85     164     36       23.0\n",
       "86     153     36       22.5\n",
       "\n",
       "[87 rows x 3 columns]"
      ]
     },
     "execution_count": 637,
     "metadata": {},
     "output_type": "execute_result"
    }
   ],
   "source": [
    "df_prueba = pd.read_csv(\"datos_gente_1.csv\")\n",
    "df_prueba"
   ]
  },
  {
   "cell_type": "code",
   "execution_count": 667,
   "metadata": {},
   "outputs": [],
   "source": [
    "class segunda_seccion():\n",
    "        \n",
    "    def __init__(self, df, target:str):\n",
    "        self.target = target\n",
    "        self.df = df\n",
    "        self.X = df.drop(columns=[target])\n",
    "        self.y_col = df[target]\n",
    "        self.lower_limit = 165\n",
    "        self.upper_limit = 180\n",
    "        \n",
    "    def sorter(self):\n",
    "    \n",
    "        df_filtrado_left = self.df[self.df[self.target] < self.lower_limit]\n",
    "        df_filtrado_center = self.df[(self.df[self.target] > self.lower_limit) & (self.df[self.target] < self.upper_limit)]\n",
    "        df_filtrado_right = self.df[self.df[self.target] > self.upper_limit]\n",
    "        \n",
    "        # self.__iteso_left_regressor(df_filtrado_left.drop(self.target, axis=1), df_filtrado_left[self.target])\n",
    "        # self.__combinado_regressor(df_filtrado_center.drop(self.target, axis=1), df_filtrado_center[self.target])\n",
    "        self.__holanda_regressor(df_filtrado_right.drop(self.target, axis=1), df_filtrado_right[self.target])\n",
    "        \n",
    "    def __holanda_regressor(self, X, y):\n",
    "        modelo_pb_predict = modelo_pb.predict(ss_pb.transform(X))\n",
    "        print(y)\n",
    "        print(modelo_pb_predict)\n",
    "        print(f\"R2: {r2_score(modelo_pb_predict, y)}, RMSE: {root_mean_squared_error(modelo_pb_predict, y)}\")\n",
    "    \n",
    "    def __iteso_left_regressor(self, X, y):\n",
    "        left_new_pred = rg_l.predict(ss_left.transform(X))\n",
    "        print(left_new_pred)\n",
    "        print(y)\n",
    "        print(f\"R2: {r2_score(left_new_pred, y)}, RMSE: {root_mean_squared_error(left_new_pred, y)}\")\n",
    "        \n",
    "    def __iteso_center_regressor(self, X, y):\n",
    "        center_new_pred = rg_c.predict(ss_center.transform(X))\n",
    "        print(center_new_pred)\n",
    "        print(y)\n",
    "        print(f\"R2: {r2_score(center_new_pred, y)}, RMSE: {root_mean_squared_error(center_new_pred, y)}\")\n",
    "        \n",
    "    def __iteso_right_regressor(self, X, y):\n",
    "        X_trans = ss_right.transform(X)\n",
    "        right_new_pred = rg_r.predict(X_trans)\n",
    "        print(y)\n",
    "        print(right_new_pred)\n",
    "        print(f\"R2: {r2_score(right_new_pred, y)}, RMSE: {root_mean_squared_error(right_new_pred, y)}\")\n",
    "        \n",
    "    def __simple_regressor(self, X, y):\n",
    "        first_new_pred = lr_first.predict(X)\n",
    "        print(f\"R2: {r2_score(first_new_pred, y)}, RMSE: {root_mean_squared_error(first_new_pred, y)}\")\n",
    "        \n",
    "    def __combinado_regressor(self, X, y):\n",
    "        combinado_new_pred = modelo_combinado.predict(ss.transform(X))\n",
    "        print(f\"R2: {r2_score(combinado_new_pred, y)}, RMSE: {root_mean_squared_error(combinado_new_pred, y)}\")\n",
    "    "
   ]
  },
  {
   "cell_type": "code",
   "execution_count": 666,
   "metadata": {},
   "outputs": [
    {
     "name": "stdout",
     "output_type": "stream",
     "text": [
      "0     185\n",
      "6     187\n",
      "41    190\n",
      "51    182\n",
      "54    183\n",
      "61    183\n",
      "63    188\n",
      "65    190\n",
      "68    182\n",
      "70    185\n",
      "74    182\n",
      "Name: height, dtype: int64\n",
      "[182.26819197 183.09164425 183.85267318 179.22407622 179.22407622\n",
      " 185.59619996 189.24229909 188.10075568 177.70201834 184.45465656\n",
      " 178.84356175]\n",
      "R2: 0.17257599740232976, RMSE: 3.3454832304237394\n"
     ]
    }
   ],
   "source": [
    "se_se = segunda_seccion(df_prueba, target=\"height\")\n",
    "se_se.sorter()"
   ]
  }
 ],
 "metadata": {
  "kernelspec": {
   "display_name": "personal",
   "language": "python",
   "name": "python3"
  },
  "language_info": {
   "codemirror_mode": {
    "name": "ipython",
    "version": 3
   },
   "file_extension": ".py",
   "mimetype": "text/x-python",
   "name": "python",
   "nbconvert_exporter": "python",
   "pygments_lexer": "ipython3",
   "version": "3.11.8"
  }
 },
 "nbformat": 4,
 "nbformat_minor": 2
}
