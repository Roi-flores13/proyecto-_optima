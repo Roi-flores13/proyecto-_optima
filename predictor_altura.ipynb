{
 "cells": [
  {
   "cell_type": "markdown",
   "metadata": {},
   "source": [
    "# Examen"
   ]
  },
  {
   "cell_type": "markdown",
   "metadata": {},
   "source": [
    "Integrantes:\n",
    "- Diego Canales Morales\n",
    "- Roi Jared Flores Graza Stone\n",
    "- Mónica Ibarra Herrera\n",
    "- Oscar Josué Rocha Hernández"
   ]
  },
  {
   "cell_type": "code",
   "execution_count": 49,
   "metadata": {},
   "outputs": [],
   "source": [
    "import pandas as pd\n",
    "from sklearn.linear_model import LinearRegression, Ridge, ElasticNet, Lasso\n",
    "from sklearn.model_selection import train_test_split, GridSearchCV\n",
    "import numpy as np\n",
    "from sklearn.metrics import root_mean_squared_error, r2_score\n",
    "from sklearn.preprocessing import StandardScaler, MinMaxScaler\n",
    "import matplotlib.pyplot as plt\n",
    "import plotly.graph_objects as go"
   ]
  },
  {
   "cell_type": "markdown",
   "metadata": {},
   "source": [
    "## Parte 1"
   ]
  },
  {
   "cell_type": "markdown",
   "metadata": {},
   "source": [
    "### Modelo Simple"
   ]
  },
  {
   "cell_type": "code",
   "execution_count": 52,
   "metadata": {},
   "outputs": [],
   "source": [
    "path = \"datos_gente.csv\"\n",
    "df_first = pd.read_csv(path)"
   ]
  },
  {
   "cell_type": "code",
   "execution_count": 60,
   "metadata": {},
   "outputs": [
    {
     "data": {
      "text/plain": [
       "array([[<Axes: title={'center': 'height'}>,\n",
       "        <Axes: title={'center': 'width'}>],\n",
       "       [<Axes: title={'center': 'shoe_size'}>, <Axes: >]], dtype=object)"
      ]
     },
     "execution_count": 60,
     "metadata": {},
     "output_type": "execute_result"
    },
    {
     "data": {
      "image/png": "[encoded data removed]",
      "text/plain": [
       "<Figure size 640x480 with 4 Axes>"
      ]
     },
     "metadata": {},
     "output_type": "display_data"
    }
   ],
   "source": [
    "df_first.hist()"
   ]
  },
  {
   "cell_type": "code",
   "execution_count": 53,
   "metadata": {},
   "outputs": [],
   "source": [
    "X = df_first[['width', 'shoe_size']]\n",
    "y = df_first['height']"
   ]
  },
  {
   "cell_type": "code",
   "execution_count": 54,
   "metadata": {},
   "outputs": [],
   "source": [
    "x_train_f, x_test_f, y_train_f, y_test_f = train_test_split(X,y, test_size=0.2, random_state=99)"
   ]
  },
  {
   "cell_type": "code",
   "execution_count": 55,
   "metadata": {},
   "outputs": [
    {
     "name": "stdout",
     "output_type": "stream",
     "text": [
      "R2: 0.8941176470588236 RMSE: 2.1213203435596424\n"
     ]
    }
   ],
   "source": [
    "lr_first = LinearRegression()\n",
    "lr_first.fit(x_test_f, y_test_f)\n",
    "pred_first = lr_first.predict(x_test_f)\n",
    "print(f\"R2: {r2_score(y_test_f, pred_first)} RMSE: {root_mean_squared_error(y_test_f, pred_first)}\")"
   ]
  },
  {
   "cell_type": "code",
   "execution_count": 59,
   "metadata": {},
   "outputs": [
    {
     "name": "stdout",
     "output_type": "stream",
     "text": [
      "Pendientes: [1.625 3.75 ]\n",
      "Intercepto: -12.375000000000057\n"
     ]
    }
   ],
   "source": [
    "print(f\"Pendientes: {lr_first.coef_}\")\n",
    "print(f\"Intercepto: {lr_first.intercept_}\")"
   ]
  },
  {
   "cell_type": "code",
   "execution_count": 56,
   "metadata": {},
   "outputs": [
    {
     "name": "stderr",
     "output_type": "stream",
     "text": [
      "c:\\Users\\cesar\\anaconda3\\envs\\iteso\\lib\\site-packages\\sklearn\\base.py:493: UserWarning:\n",
      "\n",
      "X does not have valid feature names, but LinearRegression was fitted with feature names\n",
      "\n"
     ]
    },
    {
     "data": {
      "application/vnd.plotly.v1+json": {
       "config": {
        "plotlyServerURL": "https://plot.ly"
       },
       "data": [
        {
         "marker": {
          "color": "red",
          "size": 8
         },
         "mode": "markers",
         "type": "scatter3d",
         "x": [
          55,
          44,
          44,
          44,
          46,
          40,
          58,
          40,
          49,
          44,
          40,
          51,
          55,
          50,
          38,
          39,
          38,
          39
         ],
         "y": [
          28,
          26.5,
          24,
          24.5,
          27,
          23,
          27,
          24,
          27.5,
          23,
          22,
          26,
          28,
          27.5,
          24,
          24.5,
          24,
          22.5
         ],
         "z": [
          185,
          173,
          163,
          162,
          172,
          159,
          187,
          165,
          175,
          162,
          155,
          168,
          179,
          172,
          159,
          166,
          156,
          151
         ]
        },
        {
         "colorscale": [
          [
           0,
           "#440154"
          ],
          [
           0.1111111111111111,
           "#482878"
          ],
          [
           0.2222222222222222,
           "#3e4989"
          ],
          [
           0.3333333333333333,
           "#31688e"
          ],
          [
           0.4444444444444444,
           "#26828e"
          ],
          [
           0.5555555555555556,
           "#1f9e89"
          ],
          [
           0.6666666666666666,
           "#35b779"
          ],
          [
           0.7777777777777778,
           "#6ece58"
          ],
          [
           0.8888888888888888,
           "#b5de2b"
          ],
          [
           1,
           "#fde725"
          ]
         ],
         "opacity": 0.5,
         "type": "surface",
         "x": [
          [
           38,
           39.05263157894737,
           40.10526315789474,
           41.1578947368421,
           42.21052631578947,
           43.26315789473684,
           44.31578947368421,
           45.368421052631575,
           46.421052631578945,
           47.473684210526315,
           48.526315789473685,
           49.578947368421055,
           50.631578947368425,
           51.68421052631579,
           52.73684210526316,
           53.78947368421053,
           54.84210526315789,
           55.89473684210526,
           56.94736842105263,
           58
          ],
          [
           38,
           39.05263157894737,
           40.10526315789474,
           41.1578947368421,
           42.21052631578947,
           43.26315789473684,
           44.31578947368421,
           45.368421052631575,
           46.421052631578945,
           47.473684210526315,
           48.526315789473685,
           49.578947368421055,
           50.631578947368425,
           51.68421052631579,
           52.73684210526316,
           53.78947368421053,
           54.84210526315789,
           55.89473684210526,
           56.94736842105263,
           58
          ],
          [
           38,
           39.05263157894737,
           40.10526315789474,
           41.1578947368421,
           42.21052631578947,
           43.26315789473684,
           44.31578947368421,
           45.368421052631575,
           46.421052631578945,
           47.473684210526315,
           48.526315789473685,
           49.578947368421055,
           50.631578947368425,
           51.68421052631579,
           52.73684210526316,
           53.78947368421053,
           54.84210526315789,
           55.89473684210526,
           56.94736842105263,
           58
          ],
          [
           38,
           39.05263157894737,
           40.10526315789474,
           41.1578947368421,
           42.21052631578947,
           43.26315789473684,
           44.31578947368421,
           45.368421052631575,
           46.421052631578945,
           47.473684210526315,
           48.526315789473685,
           49.578947368421055,
           50.631578947368425,
           51.68421052631579,
           52.73684210526316,
           53.78947368421053,
           54.84210526315789,
           55.89473684210526,
           56.94736842105263,
           58
          ],
          [
           38,
           39.05263157894737,
           40.10526315789474,
           41.1578947368421,
           42.21052631578947,
           43.26315789473684,
           44.31578947368421,
           45.368421052631575,
           46.421052631578945,
           47.473684210526315,
           48.526315789473685,
           49.578947368421055,
           50.631578947368425,
           51.68421052631579,
           52.73684210526316,
           53.78947368421053,
           54.84210526315789,
           55.89473684210526,
           56.94736842105263,
           58
          ],
          [
           38,
           39.05263157894737,
           40.10526315789474,
           41.1578947368421,
           42.21052631578947,
           43.26315789473684,
           44.31578947368421,
           45.368421052631575,
           46.421052631578945,
           47.473684210526315,
           48.526315789473685,
           49.578947368421055,
           50.631578947368425,
           51.68421052631579,
           52.73684210526316,
           53.78947368421053,
           54.84210526315789,
           55.89473684210526,
           56.94736842105263,
           58
          ],
          [
           38,
           39.05263157894737,
           40.10526315789474,
           41.1578947368421,
           42.21052631578947,
           43.26315789473684,
           44.31578947368421,
           45.368421052631575,
           46.421052631578945,
           47.473684210526315,
           48.526315789473685,
           49.578947368421055,
           50.631578947368425,
           51.68421052631579,
           52.73684210526316,
           53.78947368421053,
           54.84210526315789,
           55.89473684210526,
           56.94736842105263,
           58
          ],
          [
           38,
           39.05263157894737,
           40.10526315789474,
           41.1578947368421,
           42.21052631578947,
           43.26315789473684,
           44.31578947368421,
           45.368421052631575,
           46.421052631578945,
           47.473684210526315,
           48.526315789473685,
           49.578947368421055,
           50.631578947368425,
           51.68421052631579,
           52.73684210526316,
           53.78947368421053,
           54.84210526315789,
           55.89473684210526,
           56.94736842105263,
           58
          ],
          [
           38,
           39.05263157894737,
           40.10526315789474,
           41.1578947368421,
           42.21052631578947,
           43.26315789473684,
           44.31578947368421,
           45.368421052631575,
           46.421052631578945,
           47.473684210526315,
           48.526315789473685,
           49.578947368421055,
           50.631578947368425,
           51.68421052631579,
           52.73684210526316,
           53.78947368421053,
           54.84210526315789,
           55.89473684210526,
           56.94736842105263,
           58
          ],
          [
           38,
           39.05263157894737,
           40.10526315789474,
           41.1578947368421,
           42.21052631578947,
           43.26315789473684,
           44.31578947368421,
           45.368421052631575,
           46.421052631578945,
           47.473684210526315,
           48.526315789473685,
           49.578947368421055,
           50.631578947368425,
           51.68421052631579,
           52.73684210526316,
           53.78947368421053,
           54.84210526315789,
           55.89473684210526,
           56.94736842105263,
           58
          ],
          [
           38,
           39.05263157894737,
           40.10526315789474,
           41.1578947368421,
           42.21052631578947,
           43.26315789473684,
           44.31578947368421,
           45.368421052631575,
           46.421052631578945,
           47.473684210526315,
           48.526315789473685,
           49.578947368421055,
           50.631578947368425,
           51.68421052631579,
           52.73684210526316,
           53.78947368421053,
           54.84210526315789,
           55.89473684210526,
           56.94736842105263,
           58
          ],
          [
           38,
           39.05263157894737,
           40.10526315789474,
           41.1578947368421,
           42.21052631578947,
           43.26315789473684,
           44.31578947368421,
           45.368421052631575,
           46.421052631578945,
           47.473684210526315,
           48.526315789473685,
           49.578947368421055,
           50.631578947368425,
           51.68421052631579,
           52.73684210526316,
           53.78947368421053,
           54.84210526315789,
           55.89473684210526,
           56.94736842105263,
           58
          ],
          [
           38,
           39.05263157894737,
           40.10526315789474,
           41.1578947368421,
           42.21052631578947,
           43.26315789473684,
           44.31578947368421,
           45.368421052631575,
           46.421052631578945,
           47.473684210526315,
           48.526315789473685,
           49.578947368421055,
           50.631578947368425,
           51.68421052631579,
           52.73684210526316,
           53.78947368421053,
           54.84210526315789,
           55.89473684210526,
           56.94736842105263,
           58
          ],
          [
           38,
           39.05263157894737,
           40.10526315789474,
           41.1578947368421,
           42.21052631578947,
           43.26315789473684,
           44.31578947368421,
           45.368421052631575,
           46.421052631578945,
           47.473684210526315,
           48.526315789473685,
           49.578947368421055,
           50.631578947368425,
           51.68421052631579,
           52.73684210526316,
           53.78947368421053,
           54.84210526315789,
           55.89473684210526,
           56.94736842105263,
           58
          ],
          [
           38,
           39.05263157894737,
           40.10526315789474,
           41.1578947368421,
           42.21052631578947,
           43.26315789473684,
           44.31578947368421,
           45.368421052631575,
           46.421052631578945,
           47.473684210526315,
           48.526315789473685,
           49.578947368421055,
           50.631578947368425,
           51.68421052631579,
           52.73684210526316,
           53.78947368421053,
           54.84210526315789,
           55.89473684210526,
           56.94736842105263,
           58
          ],
          [
           38,
           39.05263157894737,
           40.10526315789474,
           41.1578947368421,
           42.21052631578947,
           43.26315789473684,
           44.31578947368421,
           45.368421052631575,
           46.421052631578945,
           47.473684210526315,
           48.526315789473685,
           49.578947368421055,
           50.631578947368425,
           51.68421052631579,
           52.73684210526316,
           53.78947368421053,
           54.84210526315789,
           55.89473684210526,
           56.94736842105263,
           58
          ],
          [
           38,
           39.05263157894737,
           40.10526315789474,
           41.1578947368421,
           42.21052631578947,
           43.26315789473684,
           44.31578947368421,
           45.368421052631575,
           46.421052631578945,
           47.473684210526315,
           48.526315789473685,
           49.578947368421055,
           50.631578947368425,
           51.68421052631579,
           52.73684210526316,
           53.78947368421053,
           54.84210526315789,
           55.89473684210526,
           56.94736842105263,
           58
          ],
          [
           38,
           39.05263157894737,
           40.10526315789474,
           41.1578947368421,
           42.21052631578947,
           43.26315789473684,
           44.31578947368421,
           45.368421052631575,
           46.421052631578945,
           47.473684210526315,
           48.526315789473685,
           49.578947368421055,
           50.631578947368425,
           51.68421052631579,
           52.73684210526316,
           53.78947368421053,
           54.84210526315789,
           55.89473684210526,
           56.94736842105263,
           58
          ],
          [
           38,
           39.05263157894737,
           40.10526315789474,
           41.1578947368421,
           42.21052631578947,
           43.26315789473684,
           44.31578947368421,
           45.368421052631575,
           46.421052631578945,
           47.473684210526315,
           48.526315789473685,
           49.578947368421055,
           50.631578947368425,
           51.68421052631579,
           52.73684210526316,
           53.78947368421053,
           54.84210526315789,
           55.89473684210526,
           56.94736842105263,
           58
          ],
          [
           38,
           39.05263157894737,
           40.10526315789474,
           41.1578947368421,
           42.21052631578947,
           43.26315789473684,
           44.31578947368421,
           45.368421052631575,
           46.421052631578945,
           47.473684210526315,
           48.526315789473685,
           49.578947368421055,
           50.631578947368425,
           51.68421052631579,
           52.73684210526316,
           53.78947368421053,
           54.84210526315789,
           55.89473684210526,
           56.94736842105263,
           58
          ]
         ],
         "y": [
          [
           22,
           22,
           22,
           22,
           22,
           22,
           22,
           22,
           22,
           22,
           22,
           22,
           22,
           22,
           22,
           22,
           22,
           22,
           22,
           22
          ],
          [
           22.31578947368421,
           22.31578947368421,
           22.31578947368421,
           22.31578947368421,
           22.31578947368421,
           22.31578947368421,
           22.31578947368421,
           22.31578947368421,
           22.31578947368421,
           22.31578947368421,
           22.31578947368421,
           22.31578947368421,
           22.31578947368421,
           22.31578947368421,
           22.31578947368421,
           22.31578947368421,
           22.31578947368421,
           22.31578947368421,
           22.31578947368421,
           22.31578947368421
          ],
          [
           22.63157894736842,
           22.63157894736842,
           22.63157894736842,
           22.63157894736842,
           22.63157894736842,
           22.63157894736842,
           22.63157894736842,
           22.63157894736842,
           22.63157894736842,
           22.63157894736842,
           22.63157894736842,
           22.63157894736842,
           22.63157894736842,
           22.63157894736842,
           22.63157894736842,
           22.63157894736842,
           22.63157894736842,
           22.63157894736842,
           22.63157894736842,
           22.63157894736842
          ],
          [
           22.94736842105263,
           22.94736842105263,
           22.94736842105263,
           22.94736842105263,
           22.94736842105263,
           22.94736842105263,
           22.94736842105263,
           22.94736842105263,
           22.94736842105263,
           22.94736842105263,
           22.94736842105263,
           22.94736842105263,
           22.94736842105263,
           22.94736842105263,
           22.94736842105263,
           22.94736842105263,
           22.94736842105263,
           22.94736842105263,
           22.94736842105263,
           22.94736842105263
          ],
          [
           23.263157894736842,
           23.263157894736842,
           23.263157894736842,
           23.263157894736842,
           23.263157894736842,
           23.263157894736842,
           23.263157894736842,
           23.263157894736842,
           23.263157894736842,
           23.263157894736842,
           23.263157894736842,
           23.263157894736842,
           23.263157894736842,
           23.263157894736842,
           23.263157894736842,
           23.263157894736842,
           23.263157894736842,
           23.263157894736842,
           23.263157894736842,
           23.263157894736842
          ],
          [
           23.57894736842105,
           23.57894736842105,
           23.57894736842105,
           23.57894736842105,
           23.57894736842105,
           23.57894736842105,
           23.57894736842105,
           23.57894736842105,
           23.57894736842105,
           23.57894736842105,
           23.57894736842105,
           23.57894736842105,
           23.57894736842105,
           23.57894736842105,
           23.57894736842105,
           23.57894736842105,
           23.57894736842105,
           23.57894736842105,
           23.57894736842105,
           23.57894736842105
          ],
          [
           23.894736842105264,
           23.894736842105264,
           23.894736842105264,
           23.894736842105264,
           23.894736842105264,
           23.894736842105264,
           23.894736842105264,
           23.894736842105264,
           23.894736842105264,
           23.894736842105264,
           23.894736842105264,
           23.894736842105264,
           23.894736842105264,
           23.894736842105264,
           23.894736842105264,
           23.894736842105264,
           23.894736842105264,
           23.894736842105264,
           23.894736842105264,
           23.894736842105264
          ],
          [
           24.210526315789473,
           24.210526315789473,
           24.210526315789473,
           24.210526315789473,
           24.210526315789473,
           24.210526315789473,
           24.210526315789473,
           24.210526315789473,
           24.210526315789473,
           24.210526315789473,
           24.210526315789473,
           24.210526315789473,
           24.210526315789473,
           24.210526315789473,
           24.210526315789473,
           24.210526315789473,
           24.210526315789473,
           24.210526315789473,
           24.210526315789473,
           24.210526315789473
          ],
          [
           24.526315789473685,
           24.526315789473685,
           24.526315789473685,
           24.526315789473685,
           24.526315789473685,
           24.526315789473685,
           24.526315789473685,
           24.526315789473685,
           24.526315789473685,
           24.526315789473685,
           24.526315789473685,
           24.526315789473685,
           24.526315789473685,
           24.526315789473685,
           24.526315789473685,
           24.526315789473685,
           24.526315789473685,
           24.526315789473685,
           24.526315789473685,
           24.526315789473685
          ],
          [
           24.842105263157894,
           24.842105263157894,
           24.842105263157894,
           24.842105263157894,
           24.842105263157894,
           24.842105263157894,
           24.842105263157894,
           24.842105263157894,
           24.842105263157894,
           24.842105263157894,
           24.842105263157894,
           24.842105263157894,
           24.842105263157894,
           24.842105263157894,
           24.842105263157894,
           24.842105263157894,
           24.842105263157894,
           24.842105263157894,
           24.842105263157894,
           24.842105263157894
          ],
          [
           25.157894736842106,
           25.157894736842106,
           25.157894736842106,
           25.157894736842106,
           25.157894736842106,
           25.157894736842106,
           25.157894736842106,
           25.157894736842106,
           25.157894736842106,
           25.157894736842106,
           25.157894736842106,
           25.157894736842106,
           25.157894736842106,
           25.157894736842106,
           25.157894736842106,
           25.157894736842106,
           25.157894736842106,
           25.157894736842106,
           25.157894736842106,
           25.157894736842106
          ],
          [
           25.473684210526315,
           25.473684210526315,
           25.473684210526315,
           25.473684210526315,
           25.473684210526315,
           25.473684210526315,
           25.473684210526315,
           25.473684210526315,
           25.473684210526315,
           25.473684210526315,
           25.473684210526315,
           25.473684210526315,
           25.473684210526315,
           25.473684210526315,
           25.473684210526315,
           25.473684210526315,
           25.473684210526315,
           25.473684210526315,
           25.473684210526315,
           25.473684210526315
          ],
          [
           25.789473684210527,
           25.789473684210527,
           25.789473684210527,
           25.789473684210527,
           25.789473684210527,
           25.789473684210527,
           25.789473684210527,
           25.789473684210527,
           25.789473684210527,
           25.789473684210527,
           25.789473684210527,
           25.789473684210527,
           25.789473684210527,
           25.789473684210527,
           25.789473684210527,
           25.789473684210527,
           25.789473684210527,
           25.789473684210527,
           25.789473684210527,
           25.789473684210527
          ],
          [
           26.105263157894736,
           26.105263157894736,
           26.105263157894736,
           26.105263157894736,
           26.105263157894736,
           26.105263157894736,
           26.105263157894736,
           26.105263157894736,
           26.105263157894736,
           26.105263157894736,
           26.105263157894736,
           26.105263157894736,
           26.105263157894736,
           26.105263157894736,
           26.105263157894736,
           26.105263157894736,
           26.105263157894736,
           26.105263157894736,
           26.105263157894736,
           26.105263157894736
          ],
          [
           26.421052631578945,
           26.421052631578945,
           26.421052631578945,
           26.421052631578945,
           26.421052631578945,
           26.421052631578945,
           26.421052631578945,
           26.421052631578945,
           26.421052631578945,
           26.421052631578945,
           26.421052631578945,
           26.421052631578945,
           26.421052631578945,
           26.421052631578945,
           26.421052631578945,
           26.421052631578945,
           26.421052631578945,
           26.421052631578945,
           26.421052631578945,
           26.421052631578945
          ],
          [
           26.736842105263158,
           26.736842105263158,
           26.736842105263158,
           26.736842105263158,
           26.736842105263158,
           26.736842105263158,
           26.736842105263158,
           26.736842105263158,
           26.736842105263158,
           26.736842105263158,
           26.736842105263158,
           26.736842105263158,
           26.736842105263158,
           26.736842105263158,
           26.736842105263158,
           26.736842105263158,
           26.736842105263158,
           26.736842105263158,
           26.736842105263158,
           26.736842105263158
          ],
          [
           27.05263157894737,
           27.05263157894737,
           27.05263157894737,
           27.05263157894737,
           27.05263157894737,
           27.05263157894737,
           27.05263157894737,
           27.05263157894737,
           27.05263157894737,
           27.05263157894737,
           27.05263157894737,
           27.05263157894737,
           27.05263157894737,
           27.05263157894737,
           27.05263157894737,
           27.05263157894737,
           27.05263157894737,
           27.05263157894737,
           27.05263157894737,
           27.05263157894737
          ],
          [
           27.36842105263158,
           27.36842105263158,
           27.36842105263158,
           27.36842105263158,
           27.36842105263158,
           27.36842105263158,
           27.36842105263158,
           27.36842105263158,
           27.36842105263158,
           27.36842105263158,
           27.36842105263158,
           27.36842105263158,
           27.36842105263158,
           27.36842105263158,
           27.36842105263158,
           27.36842105263158,
           27.36842105263158,
           27.36842105263158,
           27.36842105263158,
           27.36842105263158
          ],
          [
           27.684210526315788,
           27.684210526315788,
           27.684210526315788,
           27.684210526315788,
           27.684210526315788,
           27.684210526315788,
           27.684210526315788,
           27.684210526315788,
           27.684210526315788,
           27.684210526315788,
           27.684210526315788,
           27.684210526315788,
           27.684210526315788,
           27.684210526315788,
           27.684210526315788,
           27.684210526315788,
           27.684210526315788,
           27.684210526315788,
           27.684210526315788,
           27.684210526315788
          ],
          [
           28,
           28,
           28,
           28,
           28,
           28,
           28,
           28,
           28,
           28,
           28,
           28,
           28,
           28,
           28,
           28,
           28,
           28,
           28,
           28
          ]
         ],
         "z": [
          [
           131.87499999999997,
           133.58552631578945,
           135.29605263157893,
           137.00657894736838,
           138.71710526315786,
           140.42763157894734,
           142.13815789473682,
           143.8486842105263,
           145.55921052631578,
           147.26973684210526,
           148.9802631578947,
           150.6907894736842,
           152.40131578947367,
           154.11184210526312,
           155.8223684210526,
           157.53289473684208,
           159.24342105263156,
           160.95394736842104,
           162.66447368421052,
           164.375
          ],
          [
           133.05921052631575,
           134.76973684210523,
           136.4802631578947,
           138.19078947368416,
           139.90131578947364,
           141.61184210526312,
           143.3223684210526,
           145.03289473684208,
           146.74342105263156,
           148.45394736842104,
           150.1644736842105,
           151.87499999999997,
           153.58552631578945,
           155.2960526315789,
           157.00657894736838,
           158.71710526315786,
           160.42763157894734,
           162.13815789473682,
           163.8486842105263,
           165.55921052631578
          ],
          [
           134.24342105263156,
           135.95394736842104,
           137.66447368421052,
           139.37499999999997,
           141.08552631578945,
           142.7960526315789,
           144.50657894736838,
           146.21710526315786,
           147.92763157894734,
           149.63815789473682,
           151.3486842105263,
           153.05921052631578,
           154.76973684210526,
           156.4802631578947,
           158.1907894736842,
           159.90131578947364,
           161.61184210526312,
           163.3223684210526,
           165.03289473684208,
           166.74342105263156
          ],
          [
           135.42763157894734,
           137.13815789473682,
           138.8486842105263,
           140.55921052631575,
           142.26973684210523,
           143.98026315789468,
           145.69078947368416,
           147.40131578947364,
           149.11184210526312,
           150.8223684210526,
           152.53289473684208,
           154.24342105263156,
           155.95394736842104,
           157.6644736842105,
           159.37499999999997,
           161.08552631578942,
           162.7960526315789,
           164.50657894736838,
           166.21710526315786,
           167.92763157894734
          ],
          [
           136.61184210526312,
           138.3223684210526,
           140.03289473684208,
           141.74342105263156,
           143.45394736842104,
           145.1644736842105,
           146.87499999999997,
           148.58552631578942,
           150.2960526315789,
           152.00657894736838,
           153.71710526315786,
           155.42763157894734,
           157.13815789473682,
           158.8486842105263,
           160.55921052631578,
           162.26973684210523,
           163.98026315789468,
           165.69078947368416,
           167.40131578947364,
           169.11184210526312
          ],
          [
           137.7960526315789,
           139.50657894736838,
           141.21710526315786,
           142.92763157894734,
           144.63815789473682,
           146.3486842105263,
           148.05921052631578,
           149.76973684210523,
           151.4802631578947,
           153.1907894736842,
           154.90131578947364,
           156.61184210526312,
           158.3223684210526,
           160.03289473684208,
           161.74342105263156,
           163.45394736842104,
           165.1644736842105,
           166.87499999999997,
           168.58552631578945,
           170.29605263157893
          ],
          [
           138.9802631578947,
           140.6907894736842,
           142.40131578947367,
           144.11184210526312,
           145.8223684210526,
           147.53289473684208,
           149.24342105263156,
           150.95394736842104,
           152.66447368421052,
           154.375,
           156.08552631578945,
           157.79605263157893,
           159.5065789473684,
           161.21710526315786,
           162.92763157894734,
           164.63815789473682,
           166.3486842105263,
           168.05921052631578,
           169.76973684210526,
           171.48026315789474
          ],
          [
           140.1644736842105,
           141.87499999999997,
           143.58552631578945,
           145.2960526315789,
           147.00657894736838,
           148.71710526315786,
           150.42763157894734,
           152.13815789473682,
           153.8486842105263,
           155.55921052631578,
           157.26973684210523,
           158.9802631578947,
           160.6907894736842,
           162.40131578947364,
           164.11184210526312,
           165.8223684210526,
           167.53289473684208,
           169.24342105263156,
           170.95394736842104,
           172.66447368421052
          ],
          [
           141.3486842105263,
           143.05921052631578,
           144.76973684210526,
           146.4802631578947,
           148.1907894736842,
           149.90131578947364,
           151.61184210526312,
           153.3223684210526,
           155.03289473684208,
           156.74342105263156,
           158.45394736842104,
           160.16447368421052,
           161.875,
           163.58552631578945,
           165.29605263157893,
           167.00657894736838,
           168.71710526315786,
           170.42763157894734,
           172.13815789473682,
           173.8486842105263
          ],
          [
           142.53289473684208,
           144.24342105263156,
           145.95394736842104,
           147.6644736842105,
           149.37499999999997,
           151.08552631578942,
           152.7960526315789,
           154.50657894736838,
           156.21710526315786,
           157.92763157894734,
           159.63815789473682,
           161.3486842105263,
           163.05921052631578,
           164.76973684210523,
           166.4802631578947,
           168.19078947368416,
           169.90131578947364,
           171.61184210526312,
           173.3223684210526,
           175.03289473684208
          ],
          [
           143.71710526315786,
           145.42763157894734,
           147.13815789473682,
           148.8486842105263,
           150.55921052631578,
           152.26973684210523,
           153.9802631578947,
           155.69078947368416,
           157.40131578947364,
           159.11184210526312,
           160.8223684210526,
           162.53289473684208,
           164.24342105263156,
           165.95394736842104,
           167.66447368421052,
           169.37499999999997,
           171.08552631578942,
           172.7960526315789,
           174.50657894736838,
           176.21710526315786
          ],
          [
           144.90131578947364,
           146.61184210526312,
           148.3223684210526,
           150.03289473684208,
           151.74342105263156,
           153.45394736842104,
           155.16447368421052,
           156.87499999999997,
           158.58552631578945,
           160.29605263157893,
           162.00657894736838,
           163.71710526315786,
           165.42763157894734,
           167.13815789473682,
           168.8486842105263,
           170.55921052631578,
           172.26973684210523,
           173.9802631578947,
           175.6907894736842,
           177.40131578947367
          ],
          [
           146.08552631578945,
           147.79605263157893,
           149.5065789473684,
           151.21710526315786,
           152.92763157894734,
           154.63815789473682,
           156.3486842105263,
           158.05921052631578,
           159.76973684210526,
           161.48026315789474,
           163.1907894736842,
           164.90131578947367,
           166.61184210526315,
           168.3223684210526,
           170.03289473684208,
           171.74342105263156,
           173.45394736842104,
           175.16447368421052,
           176.875,
           178.58552631578948
          ],
          [
           147.26973684210523,
           148.9802631578947,
           150.6907894736842,
           152.40131578947364,
           154.11184210526312,
           155.8223684210526,
           157.53289473684208,
           159.24342105263156,
           160.95394736842104,
           162.66447368421052,
           164.37499999999997,
           166.08552631578945,
           167.79605263157893,
           169.50657894736838,
           171.21710526315786,
           172.92763157894734,
           174.63815789473682,
           176.3486842105263,
           178.05921052631578,
           179.76973684210526
          ],
          [
           148.453947368421,
           150.1644736842105,
           151.87499999999997,
           153.58552631578942,
           155.2960526315789,
           157.00657894736838,
           158.71710526315786,
           160.42763157894734,
           162.13815789473682,
           163.8486842105263,
           165.55921052631575,
           167.26973684210523,
           168.9802631578947,
           170.69078947368416,
           172.40131578947364,
           174.11184210526312,
           175.8223684210526,
           177.53289473684208,
           179.24342105263156,
           180.95394736842104
          ],
          [
           149.63815789473682,
           151.3486842105263,
           153.05921052631578,
           154.76973684210523,
           156.4802631578947,
           158.19078947368416,
           159.90131578947364,
           161.61184210526312,
           163.3223684210526,
           165.03289473684208,
           166.74342105263156,
           168.45394736842104,
           170.16447368421052,
           171.87499999999997,
           173.58552631578945,
           175.2960526315789,
           177.00657894736838,
           178.71710526315786,
           180.42763157894734,
           182.13815789473682
          ],
          [
           150.8223684210526,
           152.53289473684208,
           154.24342105263156,
           155.95394736842104,
           157.66447368421052,
           159.37499999999997,
           161.08552631578945,
           162.7960526315789,
           164.50657894736838,
           166.21710526315786,
           167.92763157894734,
           169.63815789473682,
           171.3486842105263,
           173.05921052631578,
           174.76973684210526,
           176.4802631578947,
           178.19078947368416,
           179.90131578947364,
           181.61184210526312,
           183.3223684210526
          ],
          [
           152.00657894736838,
           153.71710526315786,
           155.42763157894734,
           157.13815789473682,
           158.8486842105263,
           160.55921052631578,
           162.26973684210526,
           163.9802631578947,
           165.6907894736842,
           167.40131578947367,
           169.11184210526312,
           170.8223684210526,
           172.53289473684208,
           174.24342105263156,
           175.95394736842104,
           177.66447368421052,
           179.37499999999997,
           181.08552631578945,
           182.79605263157893,
           184.5065789473684
          ],
          [
           153.19078947368416,
           154.90131578947364,
           156.61184210526312,
           158.3223684210526,
           160.03289473684208,
           161.74342105263156,
           163.45394736842104,
           165.1644736842105,
           166.87499999999997,
           168.58552631578945,
           170.2960526315789,
           172.00657894736838,
           173.71710526315786,
           175.42763157894734,
           177.13815789473682,
           178.8486842105263,
           180.55921052631575,
           182.26973684210523,
           183.9802631578947,
           185.6907894736842
          ],
          [
           154.37499999999997,
           156.08552631578945,
           157.79605263157893,
           159.50657894736838,
           161.21710526315786,
           162.92763157894734,
           164.63815789473682,
           166.3486842105263,
           168.05921052631578,
           169.76973684210526,
           171.4802631578947,
           173.1907894736842,
           174.90131578947367,
           176.61184210526312,
           178.3223684210526,
           180.03289473684208,
           181.74342105263156,
           183.45394736842104,
           185.16447368421052,
           186.875
          ]
         ]
        }
       ],
       "layout": {
        "scene": {
         "xaxis": {
          "title": {
           "text": "Variable X1"
          }
         },
         "yaxis": {
          "title": {
           "text": "Variable X2"
          }
         },
         "zaxis": {
          "title": {
           "text": "Variable Y"
          }
         }
        },
        "template": {
         "data": {
          "bar": [
           {
            "error_x": {
             "color": "#2a3f5f"
            },
            "error_y": {
             "color": "#2a3f5f"
            },
            "marker": {
             "line": {
              "color": "#E5ECF6",
              "width": 0.5
             },
             "pattern": {
              "fillmode": "overlay",
              "size": 10,
              "solidity": 0.2
             }
            },
            "type": "bar"
           }
          ],
          "barpolar": [
           {
            "marker": {
             "line": {
              "color": "#E5ECF6",
              "width": 0.5
             },
             "pattern": {
              "fillmode": "overlay",
              "size": 10,
              "solidity": 0.2
             }
            },
            "type": "barpolar"
           }
          ],
          "carpet": [
           {
            "aaxis": {
             "endlinecolor": "#2a3f5f",
             "gridcolor": "white",
             "linecolor": "white",
             "minorgridcolor": "white",
             "startlinecolor": "#2a3f5f"
            },
            "baxis": {
             "endlinecolor": "#2a3f5f",
             "gridcolor": "white",
             "linecolor": "white",
             "minorgridcolor": "white",
             "startlinecolor": "#2a3f5f"
            },
            "type": "carpet"
           }
          ],
          "choropleth": [
           {
            "colorbar": {
             "outlinewidth": 0,
             "ticks": ""
            },
            "type": "choropleth"
           }
          ],
          "contour": [
           {
            "colorbar": {
             "outlinewidth": 0,
             "ticks": ""
            },
            "colorscale": [
             [
              0,
              "#0d0887"
             ],
             [
              0.1111111111111111,
              "#46039f"
             ],
             [
              0.2222222222222222,
              "#7201a8"
             ],
             [
              0.3333333333333333,
              "#9c179e"
             ],
             [
              0.4444444444444444,
              "#bd3786"
             ],
             [
              0.5555555555555556,
              "#d8576b"
             ],
             [
              0.6666666666666666,
              "#ed7953"
             ],
             [
              0.7777777777777778,
              "#fb9f3a"
             ],
             [
              0.8888888888888888,
              "#fdca26"
             ],
             [
              1,
              "#f0f921"
             ]
            ],
            "type": "contour"
           }
          ],
          "contourcarpet": [
           {
            "colorbar": {
             "outlinewidth": 0,
             "ticks": ""
            },
            "type": "contourcarpet"
           }
          ],
          "heatmap": [
           {
            "colorbar": {
             "outlinewidth": 0,
             "ticks": ""
            },
            "colorscale": [
             [
              0,
              "#0d0887"
             ],
             [
              0.1111111111111111,
              "#46039f"
             ],
             [
              0.2222222222222222,
              "#7201a8"
             ],
             [
              0.3333333333333333,
              "#9c179e"
             ],
             [
              0.4444444444444444,
              "#bd3786"
             ],
             [
              0.5555555555555556,
              "#d8576b"
             ],
             [
              0.6666666666666666,
              "#ed7953"
             ],
             [
              0.7777777777777778,
              "#fb9f3a"
             ],
             [
              0.8888888888888888,
              "#fdca26"
             ],
             [
              1,
              "#f0f921"
             ]
            ],
            "type": "heatmap"
           }
          ],
          "heatmapgl": [
           {
            "colorbar": {
             "outlinewidth": 0,
             "ticks": ""
            },
            "colorscale": [
             [
              0,
              "#0d0887"
             ],
             [
              0.1111111111111111,
              "#46039f"
             ],
             [
              0.2222222222222222,
              "#7201a8"
             ],
             [
              0.3333333333333333,
              "#9c179e"
             ],
             [
              0.4444444444444444,
              "#bd3786"
             ],
             [
              0.5555555555555556,
              "#d8576b"
             ],
             [
              0.6666666666666666,
              "#ed7953"
             ],
             [
              0.7777777777777778,
              "#fb9f3a"
             ],
             [
              0.8888888888888888,
              "#fdca26"
             ],
             [
              1,
              "#f0f921"
             ]
            ],
            "type": "heatmapgl"
           }
          ],
          "histogram": [
           {
            "marker": {
             "pattern": {
              "fillmode": "overlay",
              "size": 10,
              "solidity": 0.2
             }
            },
            "type": "histogram"
           }
          ],
          "histogram2d": [
           {
            "colorbar": {
             "outlinewidth": 0,
             "ticks": ""
            },
            "colorscale": [
             [
              0,
              "#0d0887"
             ],
             [
              0.1111111111111111,
              "#46039f"
             ],
             [
              0.2222222222222222,
              "#7201a8"
             ],
             [
              0.3333333333333333,
              "#9c179e"
             ],
             [
              0.4444444444444444,
              "#bd3786"
             ],
             [
              0.5555555555555556,
              "#d8576b"
             ],
             [
              0.6666666666666666,
              "#ed7953"
             ],
             [
              0.7777777777777778,
              "#fb9f3a"
             ],
             [
              0.8888888888888888,
              "#fdca26"
             ],
             [
              1,
              "#f0f921"
             ]
            ],
            "type": "histogram2d"
           }
          ],
          "histogram2dcontour": [
           {
            "colorbar": {
             "outlinewidth": 0,
             "ticks": ""
            },
            "colorscale": [
             [
              0,
              "#0d0887"
             ],
             [
              0.1111111111111111,
              "#46039f"
             ],
             [
              0.2222222222222222,
              "#7201a8"
             ],
             [
              0.3333333333333333,
              "#9c179e"
             ],
             [
              0.4444444444444444,
              "#bd3786"
             ],
             [
              0.5555555555555556,
              "#d8576b"
             ],
             [
              0.6666666666666666,
              "#ed7953"
             ],
             [
              0.7777777777777778,
              "#fb9f3a"
             ],
             [
              0.8888888888888888,
              "#fdca26"
             ],
             [
              1,
              "#f0f921"
             ]
            ],
            "type": "histogram2dcontour"
           }
          ],
          "mesh3d": [
           {
            "colorbar": {
             "outlinewidth": 0,
             "ticks": ""
            },
            "type": "mesh3d"
           }
          ],
          "parcoords": [
           {
            "line": {
             "colorbar": {
              "outlinewidth": 0,
              "ticks": ""
             }
            },
            "type": "parcoords"
           }
          ],
          "pie": [
           {
            "automargin": true,
            "type": "pie"
           }
          ],
          "scatter": [
           {
            "fillpattern": {
             "fillmode": "overlay",
             "size": 10,
             "solidity": 0.2
            },
            "type": "scatter"
           }
          ],
          "scatter3d": [
           {
            "line": {
             "colorbar": {
              "outlinewidth": 0,
              "ticks": ""
             }
            },
            "marker": {
             "colorbar": {
              "outlinewidth": 0,
              "ticks": ""
             }
            },
            "type": "scatter3d"
           }
          ],
          "scattercarpet": [
           {
            "marker": {
             "colorbar": {
              "outlinewidth": 0,
              "ticks": ""
             }
            },
            "type": "scattercarpet"
           }
          ],
          "scattergeo": [
           {
            "marker": {
             "colorbar": {
              "outlinewidth": 0,
              "ticks": ""
             }
            },
            "type": "scattergeo"
           }
          ],
          "scattergl": [
           {
            "marker": {
             "colorbar": {
              "outlinewidth": 0,
              "ticks": ""
             }
            },
            "type": "scattergl"
           }
          ],
          "scattermapbox": [
           {
            "marker": {
             "colorbar": {
              "outlinewidth": 0,
              "ticks": ""
             }
            },
            "type": "scattermapbox"
           }
          ],
          "scatterpolar": [
           {
            "marker": {
             "colorbar": {
              "outlinewidth": 0,
              "ticks": ""
             }
            },
            "type": "scatterpolar"
           }
          ],
          "scatterpolargl": [
           {
            "marker": {
             "colorbar": {
              "outlinewidth": 0,
              "ticks": ""
             }
            },
            "type": "scatterpolargl"
           }
          ],
          "scatterternary": [
           {
            "marker": {
             "colorbar": {
              "outlinewidth": 0,
              "ticks": ""
             }
            },
            "type": "scatterternary"
           }
          ],
          "surface": [
           {
            "colorbar": {
             "outlinewidth": 0,
             "ticks": ""
            },
            "colorscale": [
             [
              0,
              "#0d0887"
             ],
             [
              0.1111111111111111,
              "#46039f"
             ],
             [
              0.2222222222222222,
              "#7201a8"
             ],
             [
              0.3333333333333333,
              "#9c179e"
             ],
             [
              0.4444444444444444,
              "#bd3786"
             ],
             [
              0.5555555555555556,
              "#d8576b"
             ],
             [
              0.6666666666666666,
              "#ed7953"
             ],
             [
              0.7777777777777778,
              "#fb9f3a"
             ],
             [
              0.8888888888888888,
              "#fdca26"
             ],
             [
              1,
              "#f0f921"
             ]
            ],
            "type": "surface"
           }
          ],
          "table": [
           {
            "cells": {
             "fill": {
              "color": "#EBF0F8"
             },
             "line": {
              "color": "white"
             }
            },
            "header": {
             "fill": {
              "color": "#C8D4E3"
             },
             "line": {
              "color": "white"
             }
            },
            "type": "table"
           }
          ]
         },
         "layout": {
          "annotationdefaults": {
           "arrowcolor": "#2a3f5f",
           "arrowhead": 0,
           "arrowwidth": 1
          },
          "autotypenumbers": "strict",
          "coloraxis": {
           "colorbar": {
            "outlinewidth": 0,
            "ticks": ""
           }
          },
          "colorscale": {
           "diverging": [
            [
             0,
             "#8e0152"
            ],
            [
             0.1,
             "#c51b7d"
            ],
            [
             0.2,
             "#de77ae"
            ],
            [
             0.3,
             "#f1b6da"
            ],
            [
             0.4,
             "#fde0ef"
            ],
            [
             0.5,
             "#f7f7f7"
            ],
            [
             0.6,
             "#e6f5d0"
            ],
            [
             0.7,
             "#b8e186"
            ],
            [
             0.8,
             "#7fbc41"
            ],
            [
             0.9,
             "#4d9221"
            ],
            [
             1,
             "#276419"
            ]
           ],
           "sequential": [
            [
             0,
             "#0d0887"
            ],
            [
             0.1111111111111111,
             "#46039f"
            ],
            [
             0.2222222222222222,
             "#7201a8"
            ],
            [
             0.3333333333333333,
             "#9c179e"
            ],
            [
             0.4444444444444444,
             "#bd3786"
            ],
            [
             0.5555555555555556,
             "#d8576b"
            ],
            [
             0.6666666666666666,
             "#ed7953"
            ],
            [
             0.7777777777777778,
             "#fb9f3a"
            ],
            [
             0.8888888888888888,
             "#fdca26"
            ],
            [
             1,
             "#f0f921"
            ]
           ],
           "sequentialminus": [
            [
             0,
             "#0d0887"
            ],
            [
             0.1111111111111111,
             "#46039f"
            ],
            [
             0.2222222222222222,
             "#7201a8"
            ],
            [
             0.3333333333333333,
             "#9c179e"
            ],
            [
             0.4444444444444444,
             "#bd3786"
            ],
            [
             0.5555555555555556,
             "#d8576b"
            ],
            [
             0.6666666666666666,
             "#ed7953"
            ],
            [
             0.7777777777777778,
             "#fb9f3a"
            ],
            [
             0.8888888888888888,
             "#fdca26"
            ],
            [
             1,
             "#f0f921"
            ]
           ]
          },
          "colorway": [
           "#636efa",
           "#EF553B",
           "#00cc96",
           "#ab63fa",
           "#FFA15A",
           "#19d3f3",
           "#FF6692",
           "#B6E880",
           "#FF97FF",
           "#FECB52"
          ],
          "font": {
           "color": "#2a3f5f"
          },
          "geo": {
           "bgcolor": "white",
           "lakecolor": "white",
           "landcolor": "#E5ECF6",
           "showlakes": true,
           "showland": true,
           "subunitcolor": "white"
          },
          "hoverlabel": {
           "align": "left"
          },
          "hovermode": "closest",
          "mapbox": {
           "style": "light"
          },
          "paper_bgcolor": "white",
          "plot_bgcolor": "#E5ECF6",
          "polar": {
           "angularaxis": {
            "gridcolor": "white",
            "linecolor": "white",
            "ticks": ""
           },
           "bgcolor": "#E5ECF6",
           "radialaxis": {
            "gridcolor": "white",
            "linecolor": "white",
            "ticks": ""
           }
          },
          "scene": {
           "xaxis": {
            "backgroundcolor": "#E5ECF6",
            "gridcolor": "white",
            "gridwidth": 2,
            "linecolor": "white",
            "showbackground": true,
            "ticks": "",
            "zerolinecolor": "white"
           },
           "yaxis": {
            "backgroundcolor": "#E5ECF6",
            "gridcolor": "white",
            "gridwidth": 2,
            "linecolor": "white",
            "showbackground": true,
            "ticks": "",
            "zerolinecolor": "white"
           },
           "zaxis": {
            "backgroundcolor": "#E5ECF6",
            "gridcolor": "white",
            "gridwidth": 2,
            "linecolor": "white",
            "showbackground": true,
            "ticks": "",
            "zerolinecolor": "white"
           }
          },
          "shapedefaults": {
           "line": {
            "color": "#2a3f5f"
           }
          },
          "ternary": {
           "aaxis": {
            "gridcolor": "white",
            "linecolor": "white",
            "ticks": ""
           },
           "baxis": {
            "gridcolor": "white",
            "linecolor": "white",
            "ticks": ""
           },
           "bgcolor": "#E5ECF6",
           "caxis": {
            "gridcolor": "white",
            "linecolor": "white",
            "ticks": ""
           }
          },
          "title": {
           "x": 0.05
          },
          "xaxis": {
           "automargin": true,
           "gridcolor": "white",
           "linecolor": "white",
           "ticks": "",
           "title": {
            "standoff": 15
           },
           "zerolinecolor": "white",
           "zerolinewidth": 2
          },
          "yaxis": {
           "automargin": true,
           "gridcolor": "white",
           "linecolor": "white",
           "ticks": "",
           "title": {
            "standoff": 15
           },
           "zerolinecolor": "white",
           "zerolinewidth": 2
          }
         }
        },
        "title": {
         "text": "REGRESION<br>R2: 0.8941176470588236 RMSE: 2.1213203435596424"
        }
       }
      }
     },
     "metadata": {},
     "output_type": "display_data"
    }
   ],
   "source": [
    "# Predecir valores para el plano de regresión\n",
    "x1_range = np.linspace(min(X['width']), max(X['width']), 20)\n",
    "x2_range = np.linspace(min(X['shoe_size']), max(X['shoe_size']), 20)\n",
    "x1_mesh, x2_mesh = np.meshgrid(x1_range, x2_range)\n",
    "y_mesh = lr_first.predict(np.vstack((x1_mesh.ravel(), x2_mesh.ravel())).T).reshape(x1_mesh.shape)\n",
    "\n",
    "# Crear scatterplot 3D de los puntos\n",
    "scatter = go.Scatter3d(\n",
    "    x=X['width'], y=X['shoe_size'], z=y,\n",
    "    mode='markers',\n",
    "    marker=dict(size=8, color='red')\n",
    ")\n",
    "\n",
    "# Crear el plano de regresión\n",
    "surface = go.Surface(\n",
    "    x=x1_mesh, y=x2_mesh, z=y_mesh,\n",
    "    colorscale='Viridis', opacity=0.5\n",
    ")\n",
    "\n",
    "# Configuración del layout\n",
    "layout = go.Layout(\n",
    "    title=f\"REGRESION<br>R2: {r2_score(y_test_f, pred_first)} RMSE: {root_mean_squared_error(y_test_f, pred_first)}\",\n",
    "    scene=dict(\n",
    "        xaxis_title='Variable X1',\n",
    "        yaxis_title='Variable X2',\n",
    "        zaxis_title='Variable Y'\n",
    "    )\n",
    ")\n",
    "\n",
    "# Crear la figura\n",
    "fig = go.Figure(data=[scatter, surface], layout=layout)\n",
    "\n",
    "# Mostrar la figura interactiva\n",
    "fig.show()\n"
   ]
  },
  {
   "cell_type": "markdown",
   "metadata": {},
   "source": [
    "**¿Por qué seleccionaste ese modelo?**\n",
    "\n",
    "Al tener pocos datos decidimos hacer una regresión simple ya que es un modelo fácil de interpretar y de aplicar. Modelos más complejos pueden sobreajustar los datos sobretodo con la poca cantidad de datos que hay."
   ]
  },
  {
   "cell_type": "markdown",
   "metadata": {},
   "source": [
    "**¿Utilizaste alguna regularización?**\n",
    "\n",
    "No, se hizo una regresión lineal simple, sin regularización."
   ]
  },
  {
   "cell_type": "markdown",
   "metadata": {},
   "source": [
    "## Parte 2"
   ]
  },
  {
   "cell_type": "markdown",
   "metadata": {},
   "source": [
    "### Modelo Iteso"
   ]
  },
  {
   "cell_type": "code",
   "execution_count": 6,
   "metadata": {},
   "outputs": [],
   "source": [
    "path = \"datos_gente_1.csv\"\n",
    "\n",
    "df_comb = pd.read_csv(path)"
   ]
  },
  {
   "cell_type": "code",
   "execution_count": 7,
   "metadata": {},
   "outputs": [
    {
     "data": {
      "text/plain": [
       "array([[<Axes: title={'center': 'height'}>,\n",
       "        <Axes: title={'center': 'width'}>],\n",
       "       [<Axes: title={'center': 'shoe_size'}>, <Axes: >]], dtype=object)"
      ]
     },
     "execution_count": 7,
     "metadata": {},
     "output_type": "execute_result"
    },
    {
     "data": {
      "image/png": "[encoded data removed]",
      "text/plain": [
       "<Figure size 640x480 with 4 Axes>"
      ]
     },
     "metadata": {},
     "output_type": "display_data"
    }
   ],
   "source": [
    "df_comb.hist(bins=20)"
   ]
  },
  {
   "cell_type": "code",
   "execution_count": 8,
   "metadata": {},
   "outputs": [],
   "source": [
    "X = df_comb[[\"width\", \"shoe_size\"]]\n",
    "y = df_comb[\"height\"]"
   ]
  },
  {
   "cell_type": "code",
   "execution_count": 9,
   "metadata": {},
   "outputs": [
    {
     "data": {
      "text/plain": [
       "<matplotlib.collections.PathCollection at 0x1971f6ed090>"
      ]
     },
     "execution_count": 9,
     "metadata": {},
     "output_type": "execute_result"
    },
    {
     "data": {
      "image/png": "[encoded data removed]",
      "text/plain": [
       "<Figure size 640x480 with 1 Axes>"
      ]
     },
     "metadata": {},
     "output_type": "display_data"
    }
   ],
   "source": [
    "plt.scatter(df_comb[\"shoe_size\"], df_comb[\"height\"])"
   ]
  },
  {
   "cell_type": "code",
   "execution_count": 10,
   "metadata": {},
   "outputs": [],
   "source": [
    "q25 = np.quantile(y, 0.25)\n",
    "q75 = np.quantile(y, 0.75)\n",
    "\n",
    "df_left = df_comb[df_comb[\"height\"] <= q25]\n",
    "df_right = df_comb[df_comb[\"height\"] >= q75]\n",
    "df_center = df_comb[(df_comb[\"height\"] >= q25) & (df_comb[\"height\"] <= q75)] "
   ]
  },
  {
   "cell_type": "code",
   "execution_count": 11,
   "metadata": {},
   "outputs": [],
   "source": [
    "def sintetizar_datos(df_a_combinar, df_new):\n",
    "    X_left = df_new[[\"width\", \"shoe_size\"]]\n",
    "    y_left = df_new[\"height\"]\n",
    "\n",
    "    w_m = np.mean(df_new[\"width\"])\n",
    "    s_m = np.mean(df_new[\"shoe_size\"])\n",
    "    h_m = np.mean(df_new[\"height\"])\n",
    "\n",
    "    w_s = np.std(df_new[\"width\"])\n",
    "    s_s = np.std(df_new[\"shoe_size\"])\n",
    "    h_s = np.std(df_new[\"height\"])\n",
    "\n",
    "    new_data_w = np.random.normal(loc=w_m, scale=w_s, size=100)\n",
    "    new_data_s = np.random.normal(loc=s_m, scale=s_s, size=100)\n",
    "    new_data_h = np.random.normal(loc=h_m, scale=h_s, size=100)\n",
    "\n",
    "    new_sorted_w = sorted(new_data_w)\n",
    "    new_sorted_s = sorted(new_data_s)\n",
    "    new_sorted_h = sorted(new_data_h)\n",
    "\n",
    "    df_new_1 = pd.DataFrame({\n",
    "        \"width\": new_sorted_w,\n",
    "        \"shoe_size\": new_sorted_s,\n",
    "        \"height\": new_sorted_h\n",
    "    })\n",
    "\n",
    "    df_new_1 = df_new_1.apply(lambda x: round(x, 0))\n",
    "\n",
    "    df_a_combinar = pd.concat([df_a_combinar, df_new_1])\n",
    "    return df_a_combinar"
   ]
  },
  {
   "cell_type": "code",
   "execution_count": 12,
   "metadata": {},
   "outputs": [],
   "source": [
    "data_left = sintetizar_datos(df_comb, df_left)\n",
    "data_right = sintetizar_datos(df_comb, df_right)"
   ]
  },
  {
   "cell_type": "code",
   "execution_count": 13,
   "metadata": {},
   "outputs": [
    {
     "data": {
      "text/plain": [
       "(array([[<Axes: title={'center': 'height'}>,\n",
       "         <Axes: title={'center': 'width'}>],\n",
       "        [<Axes: title={'center': 'shoe_size'}>, <Axes: >]], dtype=object),\n",
       " array([[<Axes: title={'center': 'height'}>,\n",
       "         <Axes: title={'center': 'width'}>],\n",
       "        [<Axes: title={'center': 'shoe_size'}>, <Axes: >]], dtype=object))"
      ]
     },
     "execution_count": 13,
     "metadata": {},
     "output_type": "execute_result"
    },
    {
     "data": {
      "image/png": "[encoded data removed]",
      "text/plain": [
       "<Figure size 640x480 with 4 Axes>"
      ]
     },
     "metadata": {},
     "output_type": "display_data"
    },
    {
     "data": {
      "image/png": "[encoded data removed]",
      "text/plain": [
       "<Figure size 640x480 with 4 Axes>"
      ]
     },
     "metadata": {},
     "output_type": "display_data"
    }
   ],
   "source": [
    "data_left.hist(), data_right.hist()"
   ]
  },
  {
   "cell_type": "code",
   "execution_count": 14,
   "metadata": {},
   "outputs": [],
   "source": [
    "x_train_left, x_test_left, y_train_left, y_test_left = train_test_split(data_left.drop(\"height\", axis=1), data_left[\"height\"], test_size= 0.2, random_state=55)\n",
    "x_train_right, x_test_right, y_train_right, y_test_right = train_test_split(data_right.drop(\"height\", axis=1), data_right[\"height\"], test_size= 0.2, random_state=55)\n",
    "x_train_center, x_test_center, y_train_center, y_test_center = train_test_split(df_comb.drop(\"height\", axis=1), df_comb[\"height\"], test_size= 0.2, random_state=55)"
   ]
  },
  {
   "cell_type": "code",
   "execution_count": 15,
   "metadata": {},
   "outputs": [],
   "source": [
    "ss_left = StandardScaler()\n",
    "ss_right = StandardScaler()\n",
    "ss_center = StandardScaler()\n",
    "\n",
    "\n",
    "X_train_s_left = ss_left.fit_transform(x_train_left)\n",
    "X_test_s_left = ss_left.transform(x_test_left)\n",
    "\n",
    "X_train_s_right = ss_right.fit_transform(x_train_right)\n",
    "X_test_s_right = ss_right.transform(x_test_right)\n",
    "\n",
    "X_train_s_center = ss_center.fit_transform(x_train_center)\n",
    "X_test_s_center = ss_center.transform(x_test_center)"
   ]
  },
  {
   "cell_type": "markdown",
   "metadata": {},
   "source": [
    "### Right model\n",
    "\n",
    "Aqui se crea el modelo que predice de manera más adecuada los valores de la derecha"
   ]
  },
  {
   "cell_type": "code",
   "execution_count": 16,
   "metadata": {},
   "outputs": [
    {
     "name": "stdout",
     "output_type": "stream",
     "text": [
      "R2: 0.8434525173790648 RMSE: 3.3807199203627194\n"
     ]
    }
   ],
   "source": [
    "rg_r = Ridge(alpha = 1.26)\n",
    "rg_r.fit(X_train_s_right, y_train_right)\n",
    "r_pred_right = rg_r.predict(X_test_s_right)\n",
    "print(f\"R2: {r2_score(y_test_right, r_pred_right)} RMSE: {root_mean_squared_error(y_test_right, r_pred_right)}\")"
   ]
  },
  {
   "cell_type": "code",
   "execution_count": 61,
   "metadata": {},
   "outputs": [
    {
     "name": "stdout",
     "output_type": "stream",
     "text": [
      "Pendientes: [1.96322872 7.19888404]\n",
      "Intercepto: 174.5234899328859\n"
     ]
    }
   ],
   "source": [
    "print(f\"Pendientes: {rg_r.coef_}\")\n",
    "print(f\"Intercepto: {rg_r.intercept_}\")"
   ]
  },
  {
   "cell_type": "code",
   "execution_count": 17,
   "metadata": {},
   "outputs": [
    {
     "name": "stderr",
     "output_type": "stream",
     "text": [
      "c:\\Users\\cesar\\anaconda3\\envs\\iteso\\lib\\site-packages\\sklearn\\base.py:493: UserWarning: X does not have valid feature names, but StandardScaler was fitted with feature names\n",
      "  warnings.warn(\n"
     ]
    }
   ],
   "source": [
    "values_para_right = ss_right.transform([[36,22.5]])"
   ]
  },
  {
   "cell_type": "code",
   "execution_count": 18,
   "metadata": {},
   "outputs": [
    {
     "data": {
      "text/plain": [
       "array([154.39225699])"
      ]
     },
     "execution_count": 18,
     "metadata": {},
     "output_type": "execute_result"
    }
   ],
   "source": [
    "rg_r.predict(values_para_right)"
   ]
  },
  {
   "cell_type": "markdown",
   "metadata": {},
   "source": [
    "## Left model\n",
    "\n",
    "Modelo que predice mejor los valores del lado izquierdo"
   ]
  },
  {
   "cell_type": "code",
   "execution_count": 19,
   "metadata": {},
   "outputs": [
    {
     "name": "stdout",
     "output_type": "stream",
     "text": [
      "R2: 0.7749824510343462 RMSE: 3.54925947744254\n"
     ]
    }
   ],
   "source": [
    "rg_l = Ridge(alpha = 1.26)\n",
    "rg_l.fit(X_train_s_left, y_train_left)\n",
    "r_pred_left = rg_l.predict(X_test_s_left)\n",
    "print(f\"R2: {r2_score(y_test_left, r_pred_left)} RMSE: {root_mean_squared_error(y_test_left, r_pred_left)}\")"
   ]
  },
  {
   "cell_type": "code",
   "execution_count": 62,
   "metadata": {},
   "outputs": [
    {
     "name": "stdout",
     "output_type": "stream",
     "text": [
      "Pendientes: [1.5894818  7.19706933]\n",
      "Intercepto: 163.23489932885906\n"
     ]
    }
   ],
   "source": [
    "print(f\"Pendientes: {rg_l.coef_}\")\n",
    "print(f\"Intercepto: {rg_l.intercept_}\")"
   ]
  },
  {
   "cell_type": "code",
   "execution_count": 20,
   "metadata": {},
   "outputs": [
    {
     "name": "stderr",
     "output_type": "stream",
     "text": [
      "c:\\Users\\cesar\\anaconda3\\envs\\iteso\\lib\\site-packages\\sklearn\\base.py:493: UserWarning: X does not have valid feature names, but StandardScaler was fitted with feature names\n",
      "  warnings.warn(\n"
     ]
    }
   ],
   "source": [
    "values_para_left = ss_left.transform([[36,22.5]])"
   ]
  },
  {
   "cell_type": "code",
   "execution_count": 21,
   "metadata": {},
   "outputs": [
    {
     "data": {
      "text/plain": [
       "array([153.06356688])"
      ]
     },
     "execution_count": 21,
     "metadata": {},
     "output_type": "execute_result"
    }
   ],
   "source": [
    "rg_l.predict(values_para_left)"
   ]
  },
  {
   "cell_type": "markdown",
   "metadata": {},
   "source": [
    "### Center model"
   ]
  },
  {
   "cell_type": "code",
   "execution_count": 22,
   "metadata": {},
   "outputs": [
    {
     "name": "stdout",
     "output_type": "stream",
     "text": [
      "R2: 0.8484303924224865 RMSE: 4.280983988385949\n"
     ]
    }
   ],
   "source": [
    "rg_c = Ridge(alpha = 1.26)\n",
    "rg_c.fit(X_train_s_center, y_train_center)\n",
    "r_pred_center = rg_c.predict(X_test_s_center)\n",
    "print(f\"R2: {r2_score(y_test_center, r_pred_center)} RMSE: {root_mean_squared_error(y_test_center, r_pred_center)}\")"
   ]
  },
  {
   "cell_type": "code",
   "execution_count": 63,
   "metadata": {},
   "outputs": [
    {
     "name": "stdout",
     "output_type": "stream",
     "text": [
      "Pendientes: [0.84705044 7.40777022]\n",
      "Intercepto: 169.1014492753623\n"
     ]
    }
   ],
   "source": [
    "print(f\"Pendientes: {rg_c.coef_}\")\n",
    "print(f\"Intercepto: {rg_c.intercept_}\")"
   ]
  },
  {
   "cell_type": "code",
   "execution_count": 23,
   "metadata": {},
   "outputs": [
    {
     "name": "stderr",
     "output_type": "stream",
     "text": [
      "c:\\Users\\cesar\\anaconda3\\envs\\iteso\\lib\\site-packages\\sklearn\\base.py:493: UserWarning: X does not have valid feature names, but StandardScaler was fitted with feature names\n",
      "  warnings.warn(\n"
     ]
    }
   ],
   "source": [
    "values_para_center = ss_center.transform([[36,22.5]])"
   ]
  },
  {
   "cell_type": "code",
   "execution_count": 24,
   "metadata": {},
   "outputs": [
    {
     "data": {
      "text/plain": [
       "array([155.08588937])"
      ]
     },
     "execution_count": 24,
     "metadata": {},
     "output_type": "execute_result"
    }
   ],
   "source": [
    "rg_c.predict(values_para_center)"
   ]
  },
  {
   "cell_type": "markdown",
   "metadata": {},
   "source": [
    "**¿Agregarías datos a tu base de datos para mejorar las predicciones del modelo?**\n",
    "\n",
    "Sí, al tener tan pocos datos, en específico 18 necesitamos más datos ya que las predicciones que se hagan con el modelo no van a ser tan confiables, ya que son más sensibles a datos atípicos."
   ]
  },
  {
   "cell_type": "markdown",
   "metadata": {},
   "source": [
    "**¿Cómo conseguirías dicha información?**\n",
    "\n",
    "Medimos a 70 personas más y como se muestra anteriormente se segmentaron los datos de la altura, se hicieron nuevos datos para los datos cuya altura fueran menor o igual al primer cuartil, para los que fueran mayor o igual al tercer cuartil y para los que estuvieran entre el primer y tercer cuartil, en específico se hicieron 100 para cada uno."
   ]
  },
  {
   "cell_type": "markdown",
   "metadata": {},
   "source": [
    "**¿Modificarías algún parámetro de tu modelo?**\n",
    "\n",
    "En este caso, al segmentar los datos por alturas, se hicieron 3 modelos. A los 3 modelos se le aplicó regularización Ridge con un alpha de 1.26, el cual se obtuvo mediante diferentes pruebas e intentos para obtener el valor óptimo."
   ]
  },
  {
   "cell_type": "markdown",
   "metadata": {},
   "source": [
    "## Parte 3"
   ]
  },
  {
   "cell_type": "markdown",
   "metadata": {},
   "source": [
    "### Países Bajos"
   ]
  },
  {
   "cell_type": "code",
   "execution_count": 25,
   "metadata": {},
   "outputs": [],
   "source": [
    "df = pd.read_csv('datos_gente_1.csv')"
   ]
  },
  {
   "cell_type": "code",
   "execution_count": 26,
   "metadata": {},
   "outputs": [
    {
     "data": {
      "text/html": [
       "<div>\n",
       "<style scoped>\n",
       "    .dataframe tbody tr th:only-of-type {\n",
       "        vertical-align: middle;\n",
       "    }\n",
       "\n",
       "    .dataframe tbody tr th {\n",
       "        vertical-align: top;\n",
       "    }\n",
       "\n",
       "    .dataframe thead th {\n",
       "        text-align: right;\n",
       "    }\n",
       "</style>\n",
       "<table border=\"1\" class=\"dataframe\">\n",
       "  <thead>\n",
       "    <tr style=\"text-align: right;\">\n",
       "      <th></th>\n",
       "      <th>height</th>\n",
       "      <th>width</th>\n",
       "      <th>shoe_size</th>\n",
       "    </tr>\n",
       "  </thead>\n",
       "  <tbody>\n",
       "    <tr>\n",
       "      <th>0</th>\n",
       "      <td>185</td>\n",
       "      <td>55</td>\n",
       "      <td>28.0</td>\n",
       "    </tr>\n",
       "    <tr>\n",
       "      <th>6</th>\n",
       "      <td>187</td>\n",
       "      <td>48</td>\n",
       "      <td>29.0</td>\n",
       "    </tr>\n",
       "    <tr>\n",
       "      <th>12</th>\n",
       "      <td>179</td>\n",
       "      <td>55</td>\n",
       "      <td>28.0</td>\n",
       "    </tr>\n",
       "    <tr>\n",
       "      <th>22</th>\n",
       "      <td>177</td>\n",
       "      <td>42</td>\n",
       "      <td>27.0</td>\n",
       "    </tr>\n",
       "    <tr>\n",
       "      <th>25</th>\n",
       "      <td>180</td>\n",
       "      <td>45</td>\n",
       "      <td>27.0</td>\n",
       "    </tr>\n",
       "    <tr>\n",
       "      <th>33</th>\n",
       "      <td>178</td>\n",
       "      <td>49</td>\n",
       "      <td>27.5</td>\n",
       "    </tr>\n",
       "    <tr>\n",
       "      <th>41</th>\n",
       "      <td>190</td>\n",
       "      <td>50</td>\n",
       "      <td>29.0</td>\n",
       "    </tr>\n",
       "    <tr>\n",
       "      <th>44</th>\n",
       "      <td>180</td>\n",
       "      <td>50</td>\n",
       "      <td>28.0</td>\n",
       "    </tr>\n",
       "    <tr>\n",
       "      <th>47</th>\n",
       "      <td>178</td>\n",
       "      <td>45</td>\n",
       "      <td>29.0</td>\n",
       "    </tr>\n",
       "    <tr>\n",
       "      <th>51</th>\n",
       "      <td>182</td>\n",
       "      <td>47</td>\n",
       "      <td>28.0</td>\n",
       "    </tr>\n",
       "    <tr>\n",
       "      <th>54</th>\n",
       "      <td>183</td>\n",
       "      <td>47</td>\n",
       "      <td>28.0</td>\n",
       "    </tr>\n",
       "    <tr>\n",
       "      <th>61</th>\n",
       "      <td>183</td>\n",
       "      <td>50</td>\n",
       "      <td>29.5</td>\n",
       "    </tr>\n",
       "    <tr>\n",
       "      <th>63</th>\n",
       "      <td>188</td>\n",
       "      <td>55</td>\n",
       "      <td>30.0</td>\n",
       "    </tr>\n",
       "    <tr>\n",
       "      <th>65</th>\n",
       "      <td>190</td>\n",
       "      <td>52</td>\n",
       "      <td>30.0</td>\n",
       "    </tr>\n",
       "    <tr>\n",
       "      <th>67</th>\n",
       "      <td>177</td>\n",
       "      <td>42</td>\n",
       "      <td>28.0</td>\n",
       "    </tr>\n",
       "    <tr>\n",
       "      <th>68</th>\n",
       "      <td>182</td>\n",
       "      <td>43</td>\n",
       "      <td>28.0</td>\n",
       "    </tr>\n",
       "    <tr>\n",
       "      <th>70</th>\n",
       "      <td>185</td>\n",
       "      <td>47</td>\n",
       "      <td>29.5</td>\n",
       "    </tr>\n",
       "    <tr>\n",
       "      <th>74</th>\n",
       "      <td>182</td>\n",
       "      <td>46</td>\n",
       "      <td>28.0</td>\n",
       "    </tr>\n",
       "  </tbody>\n",
       "</table>\n",
       "</div>"
      ],
      "text/plain": [
       "    height  width  shoe_size\n",
       "0      185     55       28.0\n",
       "6      187     48       29.0\n",
       "12     179     55       28.0\n",
       "22     177     42       27.0\n",
       "25     180     45       27.0\n",
       "33     178     49       27.5\n",
       "41     190     50       29.0\n",
       "44     180     50       28.0\n",
       "47     178     45       29.0\n",
       "51     182     47       28.0\n",
       "54     183     47       28.0\n",
       "61     183     50       29.5\n",
       "63     188     55       30.0\n",
       "65     190     52       30.0\n",
       "67     177     42       28.0\n",
       "68     182     43       28.0\n",
       "70     185     47       29.5\n",
       "74     182     46       28.0"
      ]
     },
     "execution_count": 26,
     "metadata": {},
     "output_type": "execute_result"
    }
   ],
   "source": [
    "df2 = df[df['height'] > 176.5]\n",
    "df2"
   ]
  },
  {
   "cell_type": "code",
   "execution_count": 64,
   "metadata": {},
   "outputs": [
    {
     "data": {
      "text/plain": [
       "array([[<Axes: title={'center': 'height'}>,\n",
       "        <Axes: title={'center': 'width'}>],\n",
       "       [<Axes: title={'center': 'shoe_size'}>, <Axes: >]], dtype=object)"
      ]
     },
     "execution_count": 64,
     "metadata": {},
     "output_type": "execute_result"
    },
    {
     "data": {
      "image/png": "[encoded data removed]",
      "text/plain": [
       "<Figure size 640x480 with 4 Axes>"
      ]
     },
     "metadata": {},
     "output_type": "display_data"
    }
   ],
   "source": [
    "df2.hist()"
   ]
  },
  {
   "cell_type": "code",
   "execution_count": 27,
   "metadata": {},
   "outputs": [
    {
     "data": {
      "text/plain": [
       "height       182.555556\n",
       "width         48.222222\n",
       "shoe_size     28.416667\n",
       "dtype: float64"
      ]
     },
     "execution_count": 27,
     "metadata": {},
     "output_type": "execute_result"
    }
   ],
   "source": [
    "df2.mean()"
   ]
  },
  {
   "cell_type": "code",
   "execution_count": 28,
   "metadata": {},
   "outputs": [
    {
     "data": {
      "text/plain": [
       "height       4.217920\n",
       "width        4.180565\n",
       "shoe_size    0.927520\n",
       "dtype: float64"
      ]
     },
     "execution_count": 28,
     "metadata": {},
     "output_type": "execute_result"
    }
   ],
   "source": [
    "df2.std()"
   ]
  },
  {
   "cell_type": "code",
   "execution_count": 29,
   "metadata": {},
   "outputs": [
    {
     "data": {
      "text/plain": [
       "array([172., 172., 174., 175., 175., 175., 176., 177., 178., 178., 178.,\n",
       "       179., 179., 179., 179., 179., 179., 179., 179., 179., 179., 180.,\n",
       "       180., 180., 180., 180., 181., 181., 181., 181., 181., 181., 181.,\n",
       "       181., 182., 182., 182., 182., 182., 182., 182., 182., 182., 182.,\n",
       "       182., 183., 183., 183., 183., 183., 183., 184., 184., 184., 184.,\n",
       "       184., 184., 184., 184., 184., 184., 184., 184., 184., 185., 185.,\n",
       "       185., 185., 185., 185., 185., 185., 185., 186., 186., 186., 186.,\n",
       "       186., 186., 186., 186., 186., 186., 187., 187., 187., 187., 187.,\n",
       "       187., 188., 188., 188., 188., 188., 189., 189., 191., 191., 193.,\n",
       "       193.])"
      ]
     },
     "execution_count": 29,
     "metadata": {},
     "output_type": "execute_result"
    }
   ],
   "source": [
    "df2_nuevo_altura = np.random.normal(loc=182.56, scale=4.22, size=100)\n",
    "df_altura_red= np.round(df2_nuevo_altura, 0)\n",
    "df_altura = np.sort(df_altura_red)\n",
    "df_altura"
   ]
  },
  {
   "cell_type": "code",
   "execution_count": 30,
   "metadata": {},
   "outputs": [
    {
     "data": {
      "text/plain": [
       "array([39., 39., 40., 40., 41., 42., 42., 43., 43., 43., 44., 44., 44.,\n",
       "       44., 44., 44., 44., 45., 45., 45., 45., 45., 45., 45., 45., 45.,\n",
       "       46., 46., 46., 46., 46., 46., 47., 47., 47., 47., 47., 48., 48.,\n",
       "       48., 48., 48., 48., 48., 48., 48., 48., 48., 48., 48., 48., 48.,\n",
       "       48., 48., 48., 49., 49., 49., 49., 49., 49., 49., 50., 50., 50.,\n",
       "       50., 50., 50., 51., 51., 51., 51., 51., 51., 51., 52., 52., 52.,\n",
       "       52., 52., 52., 52., 52., 52., 52., 53., 53., 53., 53., 53., 54.,\n",
       "       54., 54., 54., 55., 55., 55., 55., 55., 56.])"
      ]
     },
     "execution_count": 30,
     "metadata": {},
     "output_type": "execute_result"
    }
   ],
   "source": [
    "df2_nuevo_ancho = np.random.normal(loc=48.22, scale=4.18, size=100)\n",
    "df_ancho_red= np.round(df2_nuevo_ancho, 0)\n",
    "df_ancho = np.sort(df_ancho_red)\n",
    "df_ancho"
   ]
  },
  {
   "cell_type": "code",
   "execution_count": 31,
   "metadata": {},
   "outputs": [
    {
     "data": {
      "text/plain": [
       "array([25.7, 26. , 26.4, 26.7, 26.7, 26.7, 27. , 27.1, 27.1, 27.2, 27.3,\n",
       "       27.3, 27.5, 27.5, 27.5, 27.5, 27.5, 27.5, 27.6, 27.6, 27.6, 27.7,\n",
       "       27.7, 27.8, 27.8, 27.8, 27.9, 27.9, 27.9, 28. , 28. , 28. , 28.1,\n",
       "       28.1, 28.1, 28.1, 28.1, 28.1, 28.2, 28.2, 28.2, 28.2, 28.3, 28.3,\n",
       "       28.4, 28.4, 28.4, 28.4, 28.4, 28.5, 28.5, 28.5, 28.5, 28.6, 28.6,\n",
       "       28.6, 28.6, 28.6, 28.7, 28.7, 28.7, 28.7, 28.7, 28.7, 28.8, 28.8,\n",
       "       28.8, 28.8, 28.8, 28.8, 28.9, 28.9, 28.9, 28.9, 28.9, 28.9, 28.9,\n",
       "       29. , 29. , 29. , 29. , 29.1, 29.1, 29.1, 29.2, 29.2, 29.3, 29.3,\n",
       "       29.5, 29.5, 29.6, 29.6, 29.7, 29.8, 29.8, 29.8, 29.9, 30. , 30. ,\n",
       "       30.2])"
      ]
     },
     "execution_count": 31,
     "metadata": {},
     "output_type": "execute_result"
    }
   ],
   "source": [
    "df2_nuevo_pie = np.random.normal(loc=28.42, scale=0.93, size=100)\n",
    "df_pie_red= np.round(df2_nuevo_pie, 1)\n",
    "df_pie= np.sort(df_pie_red)\n",
    "df_pie"
   ]
  },
  {
   "cell_type": "code",
   "execution_count": 32,
   "metadata": {},
   "outputs": [
    {
     "data": {
      "text/html": [
       "<div>\n",
       "<style scoped>\n",
       "    .dataframe tbody tr th:only-of-type {\n",
       "        vertical-align: middle;\n",
       "    }\n",
       "\n",
       "    .dataframe tbody tr th {\n",
       "        vertical-align: top;\n",
       "    }\n",
       "\n",
       "    .dataframe thead th {\n",
       "        text-align: right;\n",
       "    }\n",
       "</style>\n",
       "<table border=\"1\" class=\"dataframe\">\n",
       "  <thead>\n",
       "    <tr style=\"text-align: right;\">\n",
       "      <th></th>\n",
       "      <th>height</th>\n",
       "      <th>width</th>\n",
       "      <th>shoe_size</th>\n",
       "    </tr>\n",
       "  </thead>\n",
       "  <tbody>\n",
       "    <tr>\n",
       "      <th>0</th>\n",
       "      <td>172.0</td>\n",
       "      <td>39.0</td>\n",
       "      <td>25.7</td>\n",
       "    </tr>\n",
       "    <tr>\n",
       "      <th>1</th>\n",
       "      <td>172.0</td>\n",
       "      <td>39.0</td>\n",
       "      <td>26.0</td>\n",
       "    </tr>\n",
       "    <tr>\n",
       "      <th>2</th>\n",
       "      <td>174.0</td>\n",
       "      <td>40.0</td>\n",
       "      <td>26.4</td>\n",
       "    </tr>\n",
       "    <tr>\n",
       "      <th>3</th>\n",
       "      <td>175.0</td>\n",
       "      <td>40.0</td>\n",
       "      <td>26.7</td>\n",
       "    </tr>\n",
       "    <tr>\n",
       "      <th>4</th>\n",
       "      <td>175.0</td>\n",
       "      <td>41.0</td>\n",
       "      <td>26.7</td>\n",
       "    </tr>\n",
       "    <tr>\n",
       "      <th>...</th>\n",
       "      <td>...</td>\n",
       "      <td>...</td>\n",
       "      <td>...</td>\n",
       "    </tr>\n",
       "    <tr>\n",
       "      <th>95</th>\n",
       "      <td>189.0</td>\n",
       "      <td>55.0</td>\n",
       "      <td>29.8</td>\n",
       "    </tr>\n",
       "    <tr>\n",
       "      <th>96</th>\n",
       "      <td>191.0</td>\n",
       "      <td>55.0</td>\n",
       "      <td>29.9</td>\n",
       "    </tr>\n",
       "    <tr>\n",
       "      <th>97</th>\n",
       "      <td>191.0</td>\n",
       "      <td>55.0</td>\n",
       "      <td>30.0</td>\n",
       "    </tr>\n",
       "    <tr>\n",
       "      <th>98</th>\n",
       "      <td>193.0</td>\n",
       "      <td>55.0</td>\n",
       "      <td>30.0</td>\n",
       "    </tr>\n",
       "    <tr>\n",
       "      <th>99</th>\n",
       "      <td>193.0</td>\n",
       "      <td>56.0</td>\n",
       "      <td>30.2</td>\n",
       "    </tr>\n",
       "  </tbody>\n",
       "</table>\n",
       "<p>100 rows × 3 columns</p>\n",
       "</div>"
      ],
      "text/plain": [
       "    height  width  shoe_size\n",
       "0    172.0   39.0       25.7\n",
       "1    172.0   39.0       26.0\n",
       "2    174.0   40.0       26.4\n",
       "3    175.0   40.0       26.7\n",
       "4    175.0   41.0       26.7\n",
       "..     ...    ...        ...\n",
       "95   189.0   55.0       29.8\n",
       "96   191.0   55.0       29.9\n",
       "97   191.0   55.0       30.0\n",
       "98   193.0   55.0       30.0\n",
       "99   193.0   56.0       30.2\n",
       "\n",
       "[100 rows x 3 columns]"
      ]
     },
     "execution_count": 32,
     "metadata": {},
     "output_type": "execute_result"
    }
   ],
   "source": [
    "df_pb = pd.DataFrame({'height': df_altura, 'width': df_ancho, 'shoe_size': df_pie})\n",
    "df_pb"
   ]
  },
  {
   "cell_type": "code",
   "execution_count": 65,
   "metadata": {},
   "outputs": [
    {
     "data": {
      "text/plain": [
       "array([[<Axes: title={'center': 'height'}>,\n",
       "        <Axes: title={'center': 'width'}>],\n",
       "       [<Axes: title={'center': 'shoe_size'}>, <Axes: >]], dtype=object)"
      ]
     },
     "execution_count": 65,
     "metadata": {},
     "output_type": "execute_result"
    },
    {
     "data": {
      "image/png": "[encoded data removed]",
      "text/plain": [
       "<Figure size 640x480 with 4 Axes>"
      ]
     },
     "metadata": {},
     "output_type": "display_data"
    }
   ],
   "source": [
    "df_pb.hist()"
   ]
  },
  {
   "cell_type": "code",
   "execution_count": null,
   "metadata": {},
   "outputs": [],
   "source": [
    "X = df_pb.drop(\"height\", axis=1)\n",
    "y = df_pb[\"height\"]"
   ]
  },
  {
   "cell_type": "code",
   "execution_count": 36,
   "metadata": {},
   "outputs": [],
   "source": [
    "x_train_pb, x_test_pb, y_train_pb, y_test_pb = train_test_split(X, y, test_size=0.20, random_state=48)"
   ]
  },
  {
   "cell_type": "code",
   "execution_count": 37,
   "metadata": {},
   "outputs": [],
   "source": [
    "ss_pb = StandardScaler()\n",
    "x_train_pb_ss = ss_pb.fit_transform(x_train_pb)\n",
    "x_test_pb_ss = ss_pb.transform(x_test_pb)"
   ]
  },
  {
   "cell_type": "code",
   "execution_count": 38,
   "metadata": {},
   "outputs": [
    {
     "name": "stdout",
     "output_type": "stream",
     "text": [
      "R2:0.9775750164923755, RMSE: 0.5859406945261018\n"
     ]
    }
   ],
   "source": [
    "modelo_pb = LinearRegression()\n",
    "modelo_pb.fit(x_train_pb_ss, y_train_pb)\n",
    "pb_pred = modelo_pb.predict(x_test_pb_ss)\n",
    "r2 = r2_score(y_test_pb, pb_pred)\n",
    "print(f\"R2:{r2_score(y_test_pb, pb_pred)}, RMSE: {root_mean_squared_error(y_test_pb, pb_pred)}\")"
   ]
  },
  {
   "cell_type": "code",
   "execution_count": 66,
   "metadata": {},
   "outputs": [
    {
     "name": "stdout",
     "output_type": "stream",
     "text": [
      "Pendientes: [0.6259349  3.48911921]\n",
      "Intercepto: 182.8375\n"
     ]
    }
   ],
   "source": [
    "print(f\"Pendientes: {modelo_pb.coef_}\")\n",
    "print(f\"Intercepto: {modelo_pb.intercept_}\")"
   ]
  },
  {
   "cell_type": "code",
   "execution_count": 39,
   "metadata": {},
   "outputs": [
    {
     "name": "stderr",
     "output_type": "stream",
     "text": [
      "c:\\Users\\cesar\\anaconda3\\envs\\iteso\\lib\\site-packages\\sklearn\\base.py:493: UserWarning: X does not have valid feature names, but StandardScaler was fitted with feature names\n",
      "  warnings.warn(\n"
     ]
    }
   ],
   "source": [
    "values_pb= ss_pb.transform([[44,27.5]])"
   ]
  },
  {
   "cell_type": "code",
   "execution_count": 40,
   "metadata": {},
   "outputs": [
    {
     "data": {
      "text/plain": [
       "array([178.79174204])"
      ]
     },
     "execution_count": 40,
     "metadata": {},
     "output_type": "execute_result"
    }
   ],
   "source": [
    "modelo_pb.predict(values_pb)"
   ]
  },
  {
   "cell_type": "code",
   "execution_count": 47,
   "metadata": {},
   "outputs": [],
   "source": [
    "x_train_pb = np.array(x_train_pb)\n",
    "x_test_pb = np.array(x_test_pb)"
   ]
  },
  {
   "cell_type": "code",
   "execution_count": 67,
   "metadata": {},
   "outputs": [
    {
     "name": "stderr",
     "output_type": "stream",
     "text": [
      "c:\\Users\\cesar\\anaconda3\\envs\\iteso\\lib\\site-packages\\sklearn\\base.py:493: UserWarning:\n",
      "\n",
      "X does not have valid feature names, but StandardScaler was fitted with feature names\n",
      "\n"
     ]
    },
    {
     "data": {
      "application/vnd.plotly.v1+json": {
       "config": {
        "plotlyServerURL": "https://plot.ly"
       },
       "data": [
        {
         "marker": {
          "color": "red",
          "opacity": 0.7,
          "size": 8
         },
         "mode": "markers",
         "type": "scatter3d",
         "x": [
          54,
          42,
          51,
          43,
          44,
          52,
          51,
          43,
          49,
          50,
          48,
          52,
          53,
          50,
          48,
          45,
          55,
          49,
          45,
          52
         ],
         "y": [
          29.8,
          26.7,
          28.9,
          27.2,
          27.3,
          29,
          28.8,
          27.1,
          28.7,
          28.7,
          28.2,
          29.2,
          29.2,
          28.7,
          28.5,
          27.5,
          29.9,
          28.7,
          27.8,
          28.9
         ],
         "z": [
          188,
          175,
          185,
          178,
          179,
          186,
          185,
          178,
          184,
          184,
          182,
          187,
          187,
          184,
          184,
          179,
          191,
          184,
          180,
          186
         ]
        },
        {
         "colorscale": [
          [
           0,
           "#440154"
          ],
          [
           0.1111111111111111,
           "#482878"
          ],
          [
           0.2222222222222222,
           "#3e4989"
          ],
          [
           0.3333333333333333,
           "#31688e"
          ],
          [
           0.4444444444444444,
           "#26828e"
          ],
          [
           0.5555555555555556,
           "#1f9e89"
          ],
          [
           0.6666666666666666,
           "#35b779"
          ],
          [
           0.7777777777777778,
           "#6ece58"
          ],
          [
           0.8888888888888888,
           "#b5de2b"
          ],
          [
           1,
           "#fde725"
          ]
         ],
         "opacity": 0.5,
         "type": "surface",
         "x": [
          [
           39,
           39.89473684210526,
           40.78947368421053,
           41.68421052631579,
           42.578947368421055,
           43.473684210526315,
           44.368421052631575,
           45.26315789473684,
           46.1578947368421,
           47.05263157894737,
           47.94736842105263,
           48.8421052631579,
           49.73684210526316,
           50.631578947368425,
           51.526315789473685,
           52.421052631578945,
           53.31578947368421,
           54.21052631578947,
           55.10526315789474,
           56
          ],
          [
           39,
           39.89473684210526,
           40.78947368421053,
           41.68421052631579,
           42.578947368421055,
           43.473684210526315,
           44.368421052631575,
           45.26315789473684,
           46.1578947368421,
           47.05263157894737,
           47.94736842105263,
           48.8421052631579,
           49.73684210526316,
           50.631578947368425,
           51.526315789473685,
           52.421052631578945,
           53.31578947368421,
           54.21052631578947,
           55.10526315789474,
           56
          ],
          [
           39,
           39.89473684210526,
           40.78947368421053,
           41.68421052631579,
           42.578947368421055,
           43.473684210526315,
           44.368421052631575,
           45.26315789473684,
           46.1578947368421,
           47.05263157894737,
           47.94736842105263,
           48.8421052631579,
           49.73684210526316,
           50.631578947368425,
           51.526315789473685,
           52.421052631578945,
           53.31578947368421,
           54.21052631578947,
           55.10526315789474,
           56
          ],
          [
           39,
           39.89473684210526,
           40.78947368421053,
           41.68421052631579,
           42.578947368421055,
           43.473684210526315,
           44.368421052631575,
           45.26315789473684,
           46.1578947368421,
           47.05263157894737,
           47.94736842105263,
           48.8421052631579,
           49.73684210526316,
           50.631578947368425,
           51.526315789473685,
           52.421052631578945,
           53.31578947368421,
           54.21052631578947,
           55.10526315789474,
           56
          ],
          [
           39,
           39.89473684210526,
           40.78947368421053,
           41.68421052631579,
           42.578947368421055,
           43.473684210526315,
           44.368421052631575,
           45.26315789473684,
           46.1578947368421,
           47.05263157894737,
           47.94736842105263,
           48.8421052631579,
           49.73684210526316,
           50.631578947368425,
           51.526315789473685,
           52.421052631578945,
           53.31578947368421,
           54.21052631578947,
           55.10526315789474,
           56
          ],
          [
           39,
           39.89473684210526,
           40.78947368421053,
           41.68421052631579,
           42.578947368421055,
           43.473684210526315,
           44.368421052631575,
           45.26315789473684,
           46.1578947368421,
           47.05263157894737,
           47.94736842105263,
           48.8421052631579,
           49.73684210526316,
           50.631578947368425,
           51.526315789473685,
           52.421052631578945,
           53.31578947368421,
           54.21052631578947,
           55.10526315789474,
           56
          ],
          [
           39,
           39.89473684210526,
           40.78947368421053,
           41.68421052631579,
           42.578947368421055,
           43.473684210526315,
           44.368421052631575,
           45.26315789473684,
           46.1578947368421,
           47.05263157894737,
           47.94736842105263,
           48.8421052631579,
           49.73684210526316,
           50.631578947368425,
           51.526315789473685,
           52.421052631578945,
           53.31578947368421,
           54.21052631578947,
           55.10526315789474,
           56
          ],
          [
           39,
           39.89473684210526,
           40.78947368421053,
           41.68421052631579,
           42.578947368421055,
           43.473684210526315,
           44.368421052631575,
           45.26315789473684,
           46.1578947368421,
           47.05263157894737,
           47.94736842105263,
           48.8421052631579,
           49.73684210526316,
           50.631578947368425,
           51.526315789473685,
           52.421052631578945,
           53.31578947368421,
           54.21052631578947,
           55.10526315789474,
           56
          ],
          [
           39,
           39.89473684210526,
           40.78947368421053,
           41.68421052631579,
           42.578947368421055,
           43.473684210526315,
           44.368421052631575,
           45.26315789473684,
           46.1578947368421,
           47.05263157894737,
           47.94736842105263,
           48.8421052631579,
           49.73684210526316,
           50.631578947368425,
           51.526315789473685,
           52.421052631578945,
           53.31578947368421,
           54.21052631578947,
           55.10526315789474,
           56
          ],
          [
           39,
           39.89473684210526,
           40.78947368421053,
           41.68421052631579,
           42.578947368421055,
           43.473684210526315,
           44.368421052631575,
           45.26315789473684,
           46.1578947368421,
           47.05263157894737,
           47.94736842105263,
           48.8421052631579,
           49.73684210526316,
           50.631578947368425,
           51.526315789473685,
           52.421052631578945,
           53.31578947368421,
           54.21052631578947,
           55.10526315789474,
           56
          ],
          [
           39,
           39.89473684210526,
           40.78947368421053,
           41.68421052631579,
           42.578947368421055,
           43.473684210526315,
           44.368421052631575,
           45.26315789473684,
           46.1578947368421,
           47.05263157894737,
           47.94736842105263,
           48.8421052631579,
           49.73684210526316,
           50.631578947368425,
           51.526315789473685,
           52.421052631578945,
           53.31578947368421,
           54.21052631578947,
           55.10526315789474,
           56
          ],
          [
           39,
           39.89473684210526,
           40.78947368421053,
           41.68421052631579,
           42.578947368421055,
           43.473684210526315,
           44.368421052631575,
           45.26315789473684,
           46.1578947368421,
           47.05263157894737,
           47.94736842105263,
           48.8421052631579,
           49.73684210526316,
           50.631578947368425,
           51.526315789473685,
           52.421052631578945,
           53.31578947368421,
           54.21052631578947,
           55.10526315789474,
           56
          ],
          [
           39,
           39.89473684210526,
           40.78947368421053,
           41.68421052631579,
           42.578947368421055,
           43.473684210526315,
           44.368421052631575,
           45.26315789473684,
           46.1578947368421,
           47.05263157894737,
           47.94736842105263,
           48.8421052631579,
           49.73684210526316,
           50.631578947368425,
           51.526315789473685,
           52.421052631578945,
           53.31578947368421,
           54.21052631578947,
           55.10526315789474,
           56
          ],
          [
           39,
           39.89473684210526,
           40.78947368421053,
           41.68421052631579,
           42.578947368421055,
           43.473684210526315,
           44.368421052631575,
           45.26315789473684,
           46.1578947368421,
           47.05263157894737,
           47.94736842105263,
           48.8421052631579,
           49.73684210526316,
           50.631578947368425,
           51.526315789473685,
           52.421052631578945,
           53.31578947368421,
           54.21052631578947,
           55.10526315789474,
           56
          ],
          [
           39,
           39.89473684210526,
           40.78947368421053,
           41.68421052631579,
           42.578947368421055,
           43.473684210526315,
           44.368421052631575,
           45.26315789473684,
           46.1578947368421,
           47.05263157894737,
           47.94736842105263,
           48.8421052631579,
           49.73684210526316,
           50.631578947368425,
           51.526315789473685,
           52.421052631578945,
           53.31578947368421,
           54.21052631578947,
           55.10526315789474,
           56
          ],
          [
           39,
           39.89473684210526,
           40.78947368421053,
           41.68421052631579,
           42.578947368421055,
           43.473684210526315,
           44.368421052631575,
           45.26315789473684,
           46.1578947368421,
           47.05263157894737,
           47.94736842105263,
           48.8421052631579,
           49.73684210526316,
           50.631578947368425,
           51.526315789473685,
           52.421052631578945,
           53.31578947368421,
           54.21052631578947,
           55.10526315789474,
           56
          ],
          [
           39,
           39.89473684210526,
           40.78947368421053,
           41.68421052631579,
           42.578947368421055,
           43.473684210526315,
           44.368421052631575,
           45.26315789473684,
           46.1578947368421,
           47.05263157894737,
           47.94736842105263,
           48.8421052631579,
           49.73684210526316,
           50.631578947368425,
           51.526315789473685,
           52.421052631578945,
           53.31578947368421,
           54.21052631578947,
           55.10526315789474,
           56
          ],
          [
           39,
           39.89473684210526,
           40.78947368421053,
           41.68421052631579,
           42.578947368421055,
           43.473684210526315,
           44.368421052631575,
           45.26315789473684,
           46.1578947368421,
           47.05263157894737,
           47.94736842105263,
           48.8421052631579,
           49.73684210526316,
           50.631578947368425,
           51.526315789473685,
           52.421052631578945,
           53.31578947368421,
           54.21052631578947,
           55.10526315789474,
           56
          ],
          [
           39,
           39.89473684210526,
           40.78947368421053,
           41.68421052631579,
           42.578947368421055,
           43.473684210526315,
           44.368421052631575,
           45.26315789473684,
           46.1578947368421,
           47.05263157894737,
           47.94736842105263,
           48.8421052631579,
           49.73684210526316,
           50.631578947368425,
           51.526315789473685,
           52.421052631578945,
           53.31578947368421,
           54.21052631578947,
           55.10526315789474,
           56
          ],
          [
           39,
           39.89473684210526,
           40.78947368421053,
           41.68421052631579,
           42.578947368421055,
           43.473684210526315,
           44.368421052631575,
           45.26315789473684,
           46.1578947368421,
           47.05263157894737,
           47.94736842105263,
           48.8421052631579,
           49.73684210526316,
           50.631578947368425,
           51.526315789473685,
           52.421052631578945,
           53.31578947368421,
           54.21052631578947,
           55.10526315789474,
           56
          ]
         ],
         "y": [
          [
           25.7,
           25.7,
           25.7,
           25.7,
           25.7,
           25.7,
           25.7,
           25.7,
           25.7,
           25.7,
           25.7,
           25.7,
           25.7,
           25.7,
           25.7,
           25.7,
           25.7,
           25.7,
           25.7,
           25.7
          ],
          [
           25.936842105263157,
           25.936842105263157,
           25.936842105263157,
           25.936842105263157,
           25.936842105263157,
           25.936842105263157,
           25.936842105263157,
           25.936842105263157,
           25.936842105263157,
           25.936842105263157,
           25.936842105263157,
           25.936842105263157,
           25.936842105263157,
           25.936842105263157,
           25.936842105263157,
           25.936842105263157,
           25.936842105263157,
           25.936842105263157,
           25.936842105263157,
           25.936842105263157
          ],
          [
           26.173684210526314,
           26.173684210526314,
           26.173684210526314,
           26.173684210526314,
           26.173684210526314,
           26.173684210526314,
           26.173684210526314,
           26.173684210526314,
           26.173684210526314,
           26.173684210526314,
           26.173684210526314,
           26.173684210526314,
           26.173684210526314,
           26.173684210526314,
           26.173684210526314,
           26.173684210526314,
           26.173684210526314,
           26.173684210526314,
           26.173684210526314,
           26.173684210526314
          ],
          [
           26.410526315789472,
           26.410526315789472,
           26.410526315789472,
           26.410526315789472,
           26.410526315789472,
           26.410526315789472,
           26.410526315789472,
           26.410526315789472,
           26.410526315789472,
           26.410526315789472,
           26.410526315789472,
           26.410526315789472,
           26.410526315789472,
           26.410526315789472,
           26.410526315789472,
           26.410526315789472,
           26.410526315789472,
           26.410526315789472,
           26.410526315789472,
           26.410526315789472
          ],
          [
           26.64736842105263,
           26.64736842105263,
           26.64736842105263,
           26.64736842105263,
           26.64736842105263,
           26.64736842105263,
           26.64736842105263,
           26.64736842105263,
           26.64736842105263,
           26.64736842105263,
           26.64736842105263,
           26.64736842105263,
           26.64736842105263,
           26.64736842105263,
           26.64736842105263,
           26.64736842105263,
           26.64736842105263,
           26.64736842105263,
           26.64736842105263,
           26.64736842105263
          ],
          [
           26.88421052631579,
           26.88421052631579,
           26.88421052631579,
           26.88421052631579,
           26.88421052631579,
           26.88421052631579,
           26.88421052631579,
           26.88421052631579,
           26.88421052631579,
           26.88421052631579,
           26.88421052631579,
           26.88421052631579,
           26.88421052631579,
           26.88421052631579,
           26.88421052631579,
           26.88421052631579,
           26.88421052631579,
           26.88421052631579,
           26.88421052631579,
           26.88421052631579
          ],
          [
           27.121052631578948,
           27.121052631578948,
           27.121052631578948,
           27.121052631578948,
           27.121052631578948,
           27.121052631578948,
           27.121052631578948,
           27.121052631578948,
           27.121052631578948,
           27.121052631578948,
           27.121052631578948,
           27.121052631578948,
           27.121052631578948,
           27.121052631578948,
           27.121052631578948,
           27.121052631578948,
           27.121052631578948,
           27.121052631578948,
           27.121052631578948,
           27.121052631578948
          ],
          [
           27.357894736842105,
           27.357894736842105,
           27.357894736842105,
           27.357894736842105,
           27.357894736842105,
           27.357894736842105,
           27.357894736842105,
           27.357894736842105,
           27.357894736842105,
           27.357894736842105,
           27.357894736842105,
           27.357894736842105,
           27.357894736842105,
           27.357894736842105,
           27.357894736842105,
           27.357894736842105,
           27.357894736842105,
           27.357894736842105,
           27.357894736842105,
           27.357894736842105
          ],
          [
           27.594736842105263,
           27.594736842105263,
           27.594736842105263,
           27.594736842105263,
           27.594736842105263,
           27.594736842105263,
           27.594736842105263,
           27.594736842105263,
           27.594736842105263,
           27.594736842105263,
           27.594736842105263,
           27.594736842105263,
           27.594736842105263,
           27.594736842105263,
           27.594736842105263,
           27.594736842105263,
           27.594736842105263,
           27.594736842105263,
           27.594736842105263,
           27.594736842105263
          ],
          [
           27.83157894736842,
           27.83157894736842,
           27.83157894736842,
           27.83157894736842,
           27.83157894736842,
           27.83157894736842,
           27.83157894736842,
           27.83157894736842,
           27.83157894736842,
           27.83157894736842,
           27.83157894736842,
           27.83157894736842,
           27.83157894736842,
           27.83157894736842,
           27.83157894736842,
           27.83157894736842,
           27.83157894736842,
           27.83157894736842,
           27.83157894736842,
           27.83157894736842
          ],
          [
           28.068421052631578,
           28.068421052631578,
           28.068421052631578,
           28.068421052631578,
           28.068421052631578,
           28.068421052631578,
           28.068421052631578,
           28.068421052631578,
           28.068421052631578,
           28.068421052631578,
           28.068421052631578,
           28.068421052631578,
           28.068421052631578,
           28.068421052631578,
           28.068421052631578,
           28.068421052631578,
           28.068421052631578,
           28.068421052631578,
           28.068421052631578,
           28.068421052631578
          ],
          [
           28.305263157894736,
           28.305263157894736,
           28.305263157894736,
           28.305263157894736,
           28.305263157894736,
           28.305263157894736,
           28.305263157894736,
           28.305263157894736,
           28.305263157894736,
           28.305263157894736,
           28.305263157894736,
           28.305263157894736,
           28.305263157894736,
           28.305263157894736,
           28.305263157894736,
           28.305263157894736,
           28.305263157894736,
           28.305263157894736,
           28.305263157894736,
           28.305263157894736
          ],
          [
           28.542105263157893,
           28.542105263157893,
           28.542105263157893,
           28.542105263157893,
           28.542105263157893,
           28.542105263157893,
           28.542105263157893,
           28.542105263157893,
           28.542105263157893,
           28.542105263157893,
           28.542105263157893,
           28.542105263157893,
           28.542105263157893,
           28.542105263157893,
           28.542105263157893,
           28.542105263157893,
           28.542105263157893,
           28.542105263157893,
           28.542105263157893,
           28.542105263157893
          ],
          [
           28.77894736842105,
           28.77894736842105,
           28.77894736842105,
           28.77894736842105,
           28.77894736842105,
           28.77894736842105,
           28.77894736842105,
           28.77894736842105,
           28.77894736842105,
           28.77894736842105,
           28.77894736842105,
           28.77894736842105,
           28.77894736842105,
           28.77894736842105,
           28.77894736842105,
           28.77894736842105,
           28.77894736842105,
           28.77894736842105,
           28.77894736842105,
           28.77894736842105
          ],
          [
           29.015789473684208,
           29.015789473684208,
           29.015789473684208,
           29.015789473684208,
           29.015789473684208,
           29.015789473684208,
           29.015789473684208,
           29.015789473684208,
           29.015789473684208,
           29.015789473684208,
           29.015789473684208,
           29.015789473684208,
           29.015789473684208,
           29.015789473684208,
           29.015789473684208,
           29.015789473684208,
           29.015789473684208,
           29.015789473684208,
           29.015789473684208,
           29.015789473684208
          ],
          [
           29.252631578947366,
           29.252631578947366,
           29.252631578947366,
           29.252631578947366,
           29.252631578947366,
           29.252631578947366,
           29.252631578947366,
           29.252631578947366,
           29.252631578947366,
           29.252631578947366,
           29.252631578947366,
           29.252631578947366,
           29.252631578947366,
           29.252631578947366,
           29.252631578947366,
           29.252631578947366,
           29.252631578947366,
           29.252631578947366,
           29.252631578947366,
           29.252631578947366
          ],
          [
           29.489473684210527,
           29.489473684210527,
           29.489473684210527,
           29.489473684210527,
           29.489473684210527,
           29.489473684210527,
           29.489473684210527,
           29.489473684210527,
           29.489473684210527,
           29.489473684210527,
           29.489473684210527,
           29.489473684210527,
           29.489473684210527,
           29.489473684210527,
           29.489473684210527,
           29.489473684210527,
           29.489473684210527,
           29.489473684210527,
           29.489473684210527,
           29.489473684210527
          ],
          [
           29.726315789473684,
           29.726315789473684,
           29.726315789473684,
           29.726315789473684,
           29.726315789473684,
           29.726315789473684,
           29.726315789473684,
           29.726315789473684,
           29.726315789473684,
           29.726315789473684,
           29.726315789473684,
           29.726315789473684,
           29.726315789473684,
           29.726315789473684,
           29.726315789473684,
           29.726315789473684,
           29.726315789473684,
           29.726315789473684,
           29.726315789473684,
           29.726315789473684
          ],
          [
           29.96315789473684,
           29.96315789473684,
           29.96315789473684,
           29.96315789473684,
           29.96315789473684,
           29.96315789473684,
           29.96315789473684,
           29.96315789473684,
           29.96315789473684,
           29.96315789473684,
           29.96315789473684,
           29.96315789473684,
           29.96315789473684,
           29.96315789473684,
           29.96315789473684,
           29.96315789473684,
           29.96315789473684,
           29.96315789473684,
           29.96315789473684,
           29.96315789473684
          ],
          [
           30.2,
           30.2,
           30.2,
           30.2,
           30.2,
           30.2,
           30.2,
           30.2,
           30.2,
           30.2,
           30.2,
           30.2,
           30.2,
           30.2,
           30.2,
           30.2,
           30.2,
           30.2,
           30.2,
           30.2
          ]
         ],
         "z": [
          [
           170.91851491075198,
           171.06129765899354,
           171.2040804072351,
           171.34686315547665,
           171.4896459037182,
           171.6324286519598,
           171.77521140020136,
           171.91799414844292,
           172.06077689668447,
           172.20355964492603,
           172.34634239316762,
           172.48912514140918,
           172.63190788965073,
           172.7746906378923,
           172.91747338613385,
           173.06025613437544,
           173.203038882617,
           173.34582163085855,
           173.4886043791001,
           173.63138712734167
          ],
          [
           171.84947853435085,
           171.9922612825924,
           172.135044030834,
           172.27782677907555,
           172.4206095273171,
           172.56339227555867,
           172.70617502380023,
           172.84895777204179,
           172.99174052028337,
           173.13452326852493,
           173.2773060167665,
           173.42008876500805,
           173.5628715132496,
           173.7056542614912,
           173.84843700973275,
           173.9912197579743,
           174.13400250621586,
           174.27678525445742,
           174.419568002699,
           174.56235075094057
          ],
          [
           172.78044215794975,
           172.9232249061913,
           173.06600765443287,
           173.20879040267442,
           173.35157315091598,
           173.49435589915754,
           173.63713864739913,
           173.77992139564068,
           173.92270414388224,
           174.0654868921238,
           174.20826964036536,
           174.35105238860694,
           174.4938351368485,
           174.63661788509006,
           174.77940063333162,
           174.92218338157318,
           175.06496612981476,
           175.20774887805632,
           175.35053162629788,
           175.49331437453944
          ],
          [
           173.71140578154862,
           173.85418852979018,
           173.99697127803174,
           174.13975402627332,
           174.28253677451488,
           174.42531952275644,
           174.568102270998,
           174.71088501923956,
           174.8536677674811,
           174.9964505157227,
           175.13923326396426,
           175.28201601220582,
           175.42479876044737,
           175.56758150868893,
           175.71036425693052,
           175.85314700517208,
           175.99592975341363,
           176.1387125016552,
           176.28149524989675,
           176.42427799813834
          ],
          [
           174.6423694051475,
           174.78515215338908,
           174.92793490163064,
           175.0707176498722,
           175.21350039811375,
           175.3562831463553,
           175.4990658945969,
           175.64184864283845,
           175.78463139108,
           175.92741413932157,
           176.07019688756313,
           176.21297963580471,
           176.35576238404627,
           176.49854513228783,
           176.6413278805294,
           176.78411062877095,
           176.9268933770125,
           177.0696761252541,
           177.21245887349565,
           177.3552416217372
          ],
          [
           175.5733330287464,
           175.71611577698798,
           175.85889852522953,
           176.0016812734711,
           176.14446402171265,
           176.2872467699542,
           176.4300295181958,
           176.57281226643735,
           176.7155950146789,
           176.85837776292047,
           177.00116051116203,
           177.14394325940358,
           177.28672600764517,
           177.42950875588673,
           177.5722915041283,
           177.71507425236985,
           177.8578570006114,
           178.000639748853,
           178.14342249709455,
           178.2862052453361
          ],
          [
           176.5042966523453,
           176.64707940058685,
           176.7898621488284,
           176.93264489706996,
           177.07542764531155,
           177.2182103935531,
           177.36099314179467,
           177.50377589003622,
           177.64655863827778,
           177.78934138651937,
           177.93212413476093,
           178.07490688300248,
           178.21768963124404,
           178.3604723794856,
           178.50325512772716,
           178.64603787596874,
           178.7888206242103,
           178.93160337245186,
           179.07438612069342,
           179.21716886893498
          ],
          [
           177.43526027594416,
           177.57804302418572,
           177.7208257724273,
           177.86360852066886,
           178.00639126891042,
           178.14917401715198,
           178.29195676539354,
           178.43473951363512,
           178.57752226187668,
           178.72030501011824,
           178.8630877583598,
           179.00587050660135,
           179.14865325484294,
           179.2914360030845,
           179.43421875132606,
           179.57700149956761,
           179.71978424780917,
           179.86256699605073,
           180.00534974429232,
           180.14813249253388
          ],
          [
           178.36622389954306,
           178.50900664778462,
           178.65178939602617,
           178.79457214426773,
           178.9373548925093,
           179.08013764075088,
           179.22292038899243,
           179.365703137234,
           179.50848588547555,
           179.6512686337171,
           179.7940513819587,
           179.93683413020025,
           180.0796168784418,
           180.22239962668337,
           180.36518237492493,
           180.5079651231665,
           180.65074787140807,
           180.79353061964963,
           180.9363133678912,
           181.07909611613275
          ],
          [
           179.29718752314193,
           179.4399702713835,
           179.58275301962507,
           179.72553576786663,
           179.8683185161082,
           180.01110126434975,
           180.1538840125913,
           180.29666676083286,
           180.43944950907445,
           180.582232257316,
           180.72501500555757,
           180.86779775379912,
           181.01058050204068,
           181.15336325028227,
           181.29614599852383,
           181.43892874676538,
           181.58171149500694,
           181.7244942432485,
           181.8672769914901,
           182.01005973973164
          ],
          [
           180.22815114674083,
           180.3709338949824,
           180.51371664322394,
           180.6564993914655,
           180.79928213970706,
           180.94206488794865,
           181.0848476361902,
           181.22763038443176,
           181.37041313267332,
           181.51319588091488,
           181.65597862915644,
           181.79876137739802,
           181.94154412563958,
           182.08432687388114,
           182.2271096221227,
           182.36989237036425,
           182.51267511860584,
           182.6554578668474,
           182.79824061508896,
           182.94102336333052
          ],
          [
           181.1591147703397,
           181.30189751858126,
           181.44468026682281,
           181.5874630150644,
           181.73024576330596,
           181.87302851154752,
           182.01581125978907,
           182.15859400803063,
           182.30137675627222,
           182.44415950451378,
           182.58694225275534,
           182.7297250009969,
           182.87250774923845,
           183.01529049748,
           183.1580732457216,
           183.30085599396315,
           183.4436387422047,
           183.58642149044627,
           183.72920423868783,
           183.87198698692941
          ],
          [
           182.09007839393857,
           182.23286114218016,
           182.3756438904217,
           182.51842663866327,
           182.66120938690483,
           182.8039921351464,
           182.94677488338797,
           183.08955763162953,
           183.2323403798711,
           183.37512312811265,
           183.5179058763542,
           183.6606886245958,
           183.80347137283735,
           183.9462541210789,
           184.08903686932047,
           184.23181961756202,
           184.37460236580358,
           184.51738511404517,
           184.66016786228673,
           184.80295061052828
          ],
          [
           183.02104201753747,
           183.16382476577903,
           183.30660751402058,
           183.44939026226214,
           183.59217301050373,
           183.7349557587453,
           183.87773850698684,
           184.0205212552284,
           184.16330400346996,
           184.30608675171155,
           184.4488694999531,
           184.59165224819466,
           184.73443499643622,
           184.87721774467778,
           185.02000049291937,
           185.16278324116092,
           185.30556598940248,
           185.44834873764404,
           185.5911314858856,
           185.73391423412716
          ],
          [
           183.95200564113634,
           184.09478838937792,
           184.23757113761948,
           184.38035388586104,
           184.5231366341026,
           184.66591938234416,
           184.80870213058571,
           184.9514848788273,
           185.09426762706886,
           185.23705037531042,
           185.37983312355198,
           185.52261587179353,
           185.66539862003512,
           185.80818136827668,
           185.95096411651824,
           186.0937468647598,
           186.23652961300135,
           186.3793123612429,
           186.5220951094845,
           186.66487785772605
          ],
          [
           184.88296926473524,
           185.0257520129768,
           185.16853476121835,
           185.3113175094599,
           185.4541002577015,
           185.59688300594306,
           185.7396657541846,
           185.88244850242617,
           186.02523125066773,
           186.1680139989093,
           186.31079674715087,
           186.45357949539243,
           186.596362243634,
           186.73914499187555,
           186.8819277401171,
           187.0247104883587,
           187.16749323660025,
           187.3102759848418,
           187.45305873308337,
           187.59584148132492
          ],
          [
           185.81393288833414,
           185.9567156365757,
           186.09949838481725,
           186.2422811330588,
           186.38506388130037,
           186.52784662954195,
           186.6706293777835,
           186.81341212602507,
           186.95619487426663,
           187.0989776225082,
           187.24176037074977,
           187.38454311899133,
           187.5273258672329,
           187.67010861547445,
           187.812891363716,
           187.9556741119576,
           188.09845686019915,
           188.2412396084407,
           188.38402235668227,
           188.52680510492382
          ],
          [
           186.744896511933,
           186.88767926017456,
           187.03046200841615,
           187.1732447566577,
           187.31602750489927,
           187.45881025314083,
           187.60159300138238,
           187.74437574962394,
           187.88715849786553,
           188.0299412461071,
           188.17272399434864,
           188.3155067425902,
           188.45828949083176,
           188.60107223907335,
           188.7438549873149,
           188.88663773555646,
           189.02942048379802,
           189.17220323203958,
           189.31498598028116,
           189.45776872852272
          ],
          [
           187.6758601355319,
           187.81864288377346,
           187.96142563201502,
           188.10420838025658,
           188.24699112849814,
           188.38977387673972,
           188.53255662498128,
           188.67533937322284,
           188.8181221214644,
           188.96090486970596,
           189.10368761794751,
           189.2464703661891,
           189.38925311443066,
           189.53203586267222,
           189.67481861091377,
           189.81760135915533,
           189.96038410739692,
           190.10316685563848,
           190.24594960388004,
           190.3887323521216
          ],
          [
           188.60682375913078,
           188.74960650737233,
           188.8923892556139,
           189.03517200385548,
           189.17795475209704,
           189.3207375003386,
           189.46352024858015,
           189.6063029968217,
           189.7490857450633,
           189.89186849330486,
           190.0346512415464,
           190.17743398978797,
           190.32021673802953,
           190.4629994862711,
           190.60578223451267,
           190.74856498275423,
           190.8913477309958,
           191.03413047923735,
           191.1769132274789,
           191.3196959757205
          ]
         ]
        }
       ],
       "layout": {
        "scene": {
         "xaxis": {
          "title": {
           "text": "Ancho"
          }
         },
         "yaxis": {
          "title": {
           "text": "Pie"
          }
         },
         "zaxis": {
          "title": {
           "text": "Altura"
          }
         }
        },
        "template": {
         "data": {
          "bar": [
           {
            "error_x": {
             "color": "#2a3f5f"
            },
            "error_y": {
             "color": "#2a3f5f"
            },
            "marker": {
             "line": {
              "color": "#E5ECF6",
              "width": 0.5
             },
             "pattern": {
              "fillmode": "overlay",
              "size": 10,
              "solidity": 0.2
             }
            },
            "type": "bar"
           }
          ],
          "barpolar": [
           {
            "marker": {
             "line": {
              "color": "#E5ECF6",
              "width": 0.5
             },
             "pattern": {
              "fillmode": "overlay",
              "size": 10,
              "solidity": 0.2
             }
            },
            "type": "barpolar"
           }
          ],
          "carpet": [
           {
            "aaxis": {
             "endlinecolor": "#2a3f5f",
             "gridcolor": "white",
             "linecolor": "white",
             "minorgridcolor": "white",
             "startlinecolor": "#2a3f5f"
            },
            "baxis": {
             "endlinecolor": "#2a3f5f",
             "gridcolor": "white",
             "linecolor": "white",
             "minorgridcolor": "white",
             "startlinecolor": "#2a3f5f"
            },
            "type": "carpet"
           }
          ],
          "choropleth": [
           {
            "colorbar": {
             "outlinewidth": 0,
             "ticks": ""
            },
            "type": "choropleth"
           }
          ],
          "contour": [
           {
            "colorbar": {
             "outlinewidth": 0,
             "ticks": ""
            },
            "colorscale": [
             [
              0,
              "#0d0887"
             ],
             [
              0.1111111111111111,
              "#46039f"
             ],
             [
              0.2222222222222222,
              "#7201a8"
             ],
             [
              0.3333333333333333,
              "#9c179e"
             ],
             [
              0.4444444444444444,
              "#bd3786"
             ],
             [
              0.5555555555555556,
              "#d8576b"
             ],
             [
              0.6666666666666666,
              "#ed7953"
             ],
             [
              0.7777777777777778,
              "#fb9f3a"
             ],
             [
              0.8888888888888888,
              "#fdca26"
             ],
             [
              1,
              "#f0f921"
             ]
            ],
            "type": "contour"
           }
          ],
          "contourcarpet": [
           {
            "colorbar": {
             "outlinewidth": 0,
             "ticks": ""
            },
            "type": "contourcarpet"
           }
          ],
          "heatmap": [
           {
            "colorbar": {
             "outlinewidth": 0,
             "ticks": ""
            },
            "colorscale": [
             [
              0,
              "#0d0887"
             ],
             [
              0.1111111111111111,
              "#46039f"
             ],
             [
              0.2222222222222222,
              "#7201a8"
             ],
             [
              0.3333333333333333,
              "#9c179e"
             ],
             [
              0.4444444444444444,
              "#bd3786"
             ],
             [
              0.5555555555555556,
              "#d8576b"
             ],
             [
              0.6666666666666666,
              "#ed7953"
             ],
             [
              0.7777777777777778,
              "#fb9f3a"
             ],
             [
              0.8888888888888888,
              "#fdca26"
             ],
             [
              1,
              "#f0f921"
             ]
            ],
            "type": "heatmap"
           }
          ],
          "heatmapgl": [
           {
            "colorbar": {
             "outlinewidth": 0,
             "ticks": ""
            },
            "colorscale": [
             [
              0,
              "#0d0887"
             ],
             [
              0.1111111111111111,
              "#46039f"
             ],
             [
              0.2222222222222222,
              "#7201a8"
             ],
             [
              0.3333333333333333,
              "#9c179e"
             ],
             [
              0.4444444444444444,
              "#bd3786"
             ],
             [
              0.5555555555555556,
              "#d8576b"
             ],
             [
              0.6666666666666666,
              "#ed7953"
             ],
             [
              0.7777777777777778,
              "#fb9f3a"
             ],
             [
              0.8888888888888888,
              "#fdca26"
             ],
             [
              1,
              "#f0f921"
             ]
            ],
            "type": "heatmapgl"
           }
          ],
          "histogram": [
           {
            "marker": {
             "pattern": {
              "fillmode": "overlay",
              "size": 10,
              "solidity": 0.2
             }
            },
            "type": "histogram"
           }
          ],
          "histogram2d": [
           {
            "colorbar": {
             "outlinewidth": 0,
             "ticks": ""
            },
            "colorscale": [
             [
              0,
              "#0d0887"
             ],
             [
              0.1111111111111111,
              "#46039f"
             ],
             [
              0.2222222222222222,
              "#7201a8"
             ],
             [
              0.3333333333333333,
              "#9c179e"
             ],
             [
              0.4444444444444444,
              "#bd3786"
             ],
             [
              0.5555555555555556,
              "#d8576b"
             ],
             [
              0.6666666666666666,
              "#ed7953"
             ],
             [
              0.7777777777777778,
              "#fb9f3a"
             ],
             [
              0.8888888888888888,
              "#fdca26"
             ],
             [
              1,
              "#f0f921"
             ]
            ],
            "type": "histogram2d"
           }
          ],
          "histogram2dcontour": [
           {
            "colorbar": {
             "outlinewidth": 0,
             "ticks": ""
            },
            "colorscale": [
             [
              0,
              "#0d0887"
             ],
             [
              0.1111111111111111,
              "#46039f"
             ],
             [
              0.2222222222222222,
              "#7201a8"
             ],
             [
              0.3333333333333333,
              "#9c179e"
             ],
             [
              0.4444444444444444,
              "#bd3786"
             ],
             [
              0.5555555555555556,
              "#d8576b"
             ],
             [
              0.6666666666666666,
              "#ed7953"
             ],
             [
              0.7777777777777778,
              "#fb9f3a"
             ],
             [
              0.8888888888888888,
              "#fdca26"
             ],
             [
              1,
              "#f0f921"
             ]
            ],
            "type": "histogram2dcontour"
           }
          ],
          "mesh3d": [
           {
            "colorbar": {
             "outlinewidth": 0,
             "ticks": ""
            },
            "type": "mesh3d"
           }
          ],
          "parcoords": [
           {
            "line": {
             "colorbar": {
              "outlinewidth": 0,
              "ticks": ""
             }
            },
            "type": "parcoords"
           }
          ],
          "pie": [
           {
            "automargin": true,
            "type": "pie"
           }
          ],
          "scatter": [
           {
            "fillpattern": {
             "fillmode": "overlay",
             "size": 10,
             "solidity": 0.2
            },
            "type": "scatter"
           }
          ],
          "scatter3d": [
           {
            "line": {
             "colorbar": {
              "outlinewidth": 0,
              "ticks": ""
             }
            },
            "marker": {
             "colorbar": {
              "outlinewidth": 0,
              "ticks": ""
             }
            },
            "type": "scatter3d"
           }
          ],
          "scattercarpet": [
           {
            "marker": {
             "colorbar": {
              "outlinewidth": 0,
              "ticks": ""
             }
            },
            "type": "scattercarpet"
           }
          ],
          "scattergeo": [
           {
            "marker": {
             "colorbar": {
              "outlinewidth": 0,
              "ticks": ""
             }
            },
            "type": "scattergeo"
           }
          ],
          "scattergl": [
           {
            "marker": {
             "colorbar": {
              "outlinewidth": 0,
              "ticks": ""
             }
            },
            "type": "scattergl"
           }
          ],
          "scattermapbox": [
           {
            "marker": {
             "colorbar": {
              "outlinewidth": 0,
              "ticks": ""
             }
            },
            "type": "scattermapbox"
           }
          ],
          "scatterpolar": [
           {
            "marker": {
             "colorbar": {
              "outlinewidth": 0,
              "ticks": ""
             }
            },
            "type": "scatterpolar"
           }
          ],
          "scatterpolargl": [
           {
            "marker": {
             "colorbar": {
              "outlinewidth": 0,
              "ticks": ""
             }
            },
            "type": "scatterpolargl"
           }
          ],
          "scatterternary": [
           {
            "marker": {
             "colorbar": {
              "outlinewidth": 0,
              "ticks": ""
             }
            },
            "type": "scatterternary"
           }
          ],
          "surface": [
           {
            "colorbar": {
             "outlinewidth": 0,
             "ticks": ""
            },
            "colorscale": [
             [
              0,
              "#0d0887"
             ],
             [
              0.1111111111111111,
              "#46039f"
             ],
             [
              0.2222222222222222,
              "#7201a8"
             ],
             [
              0.3333333333333333,
              "#9c179e"
             ],
             [
              0.4444444444444444,
              "#bd3786"
             ],
             [
              0.5555555555555556,
              "#d8576b"
             ],
             [
              0.6666666666666666,
              "#ed7953"
             ],
             [
              0.7777777777777778,
              "#fb9f3a"
             ],
             [
              0.8888888888888888,
              "#fdca26"
             ],
             [
              1,
              "#f0f921"
             ]
            ],
            "type": "surface"
           }
          ],
          "table": [
           {
            "cells": {
             "fill": {
              "color": "#EBF0F8"
             },
             "line": {
              "color": "white"
             }
            },
            "header": {
             "fill": {
              "color": "#C8D4E3"
             },
             "line": {
              "color": "white"
             }
            },
            "type": "table"
           }
          ]
         },
         "layout": {
          "annotationdefaults": {
           "arrowcolor": "#2a3f5f",
           "arrowhead": 0,
           "arrowwidth": 1
          },
          "autotypenumbers": "strict",
          "coloraxis": {
           "colorbar": {
            "outlinewidth": 0,
            "ticks": ""
           }
          },
          "colorscale": {
           "diverging": [
            [
             0,
             "#8e0152"
            ],
            [
             0.1,
             "#c51b7d"
            ],
            [
             0.2,
             "#de77ae"
            ],
            [
             0.3,
             "#f1b6da"
            ],
            [
             0.4,
             "#fde0ef"
            ],
            [
             0.5,
             "#f7f7f7"
            ],
            [
             0.6,
             "#e6f5d0"
            ],
            [
             0.7,
             "#b8e186"
            ],
            [
             0.8,
             "#7fbc41"
            ],
            [
             0.9,
             "#4d9221"
            ],
            [
             1,
             "#276419"
            ]
           ],
           "sequential": [
            [
             0,
             "#0d0887"
            ],
            [
             0.1111111111111111,
             "#46039f"
            ],
            [
             0.2222222222222222,
             "#7201a8"
            ],
            [
             0.3333333333333333,
             "#9c179e"
            ],
            [
             0.4444444444444444,
             "#bd3786"
            ],
            [
             0.5555555555555556,
             "#d8576b"
            ],
            [
             0.6666666666666666,
             "#ed7953"
            ],
            [
             0.7777777777777778,
             "#fb9f3a"
            ],
            [
             0.8888888888888888,
             "#fdca26"
            ],
            [
             1,
             "#f0f921"
            ]
           ],
           "sequentialminus": [
            [
             0,
             "#0d0887"
            ],
            [
             0.1111111111111111,
             "#46039f"
            ],
            [
             0.2222222222222222,
             "#7201a8"
            ],
            [
             0.3333333333333333,
             "#9c179e"
            ],
            [
             0.4444444444444444,
             "#bd3786"
            ],
            [
             0.5555555555555556,
             "#d8576b"
            ],
            [
             0.6666666666666666,
             "#ed7953"
            ],
            [
             0.7777777777777778,
             "#fb9f3a"
            ],
            [
             0.8888888888888888,
             "#fdca26"
            ],
            [
             1,
             "#f0f921"
            ]
           ]
          },
          "colorway": [
           "#636efa",
           "#EF553B",
           "#00cc96",
           "#ab63fa",
           "#FFA15A",
           "#19d3f3",
           "#FF6692",
           "#B6E880",
           "#FF97FF",
           "#FECB52"
          ],
          "font": {
           "color": "#2a3f5f"
          },
          "geo": {
           "bgcolor": "white",
           "lakecolor": "white",
           "landcolor": "#E5ECF6",
           "showlakes": true,
           "showland": true,
           "subunitcolor": "white"
          },
          "hoverlabel": {
           "align": "left"
          },
          "hovermode": "closest",
          "mapbox": {
           "style": "light"
          },
          "paper_bgcolor": "white",
          "plot_bgcolor": "#E5ECF6",
          "polar": {
           "angularaxis": {
            "gridcolor": "white",
            "linecolor": "white",
            "ticks": ""
           },
           "bgcolor": "#E5ECF6",
           "radialaxis": {
            "gridcolor": "white",
            "linecolor": "white",
            "ticks": ""
           }
          },
          "scene": {
           "xaxis": {
            "backgroundcolor": "#E5ECF6",
            "gridcolor": "white",
            "gridwidth": 2,
            "linecolor": "white",
            "showbackground": true,
            "ticks": "",
            "zerolinecolor": "white"
           },
           "yaxis": {
            "backgroundcolor": "#E5ECF6",
            "gridcolor": "white",
            "gridwidth": 2,
            "linecolor": "white",
            "showbackground": true,
            "ticks": "",
            "zerolinecolor": "white"
           },
           "zaxis": {
            "backgroundcolor": "#E5ECF6",
            "gridcolor": "white",
            "gridwidth": 2,
            "linecolor": "white",
            "showbackground": true,
            "ticks": "",
            "zerolinecolor": "white"
           }
          },
          "shapedefaults": {
           "line": {
            "color": "#2a3f5f"
           }
          },
          "ternary": {
           "aaxis": {
            "gridcolor": "white",
            "linecolor": "white",
            "ticks": ""
           },
           "baxis": {
            "gridcolor": "white",
            "linecolor": "white",
            "ticks": ""
           },
           "bgcolor": "#E5ECF6",
           "caxis": {
            "gridcolor": "white",
            "linecolor": "white",
            "ticks": ""
           }
          },
          "title": {
           "x": 0.05
          },
          "xaxis": {
           "automargin": true,
           "gridcolor": "white",
           "linecolor": "white",
           "ticks": "",
           "title": {
            "standoff": 15
           },
           "zerolinecolor": "white",
           "zerolinewidth": 2
          },
          "yaxis": {
           "automargin": true,
           "gridcolor": "white",
           "linecolor": "white",
           "ticks": "",
           "title": {
            "standoff": 15
           },
           "zerolinecolor": "white",
           "zerolinewidth": 2
          }
         }
        },
        "title": {
         "text": "REGRESION<br>R2: 0.9775750164923755 RMSE: 0.5859406945261018"
        }
       }
      }
     },
     "metadata": {},
     "output_type": "display_data"
    }
   ],
   "source": [
    "# Definir rangos para las variables independientes\n",
    "x1_range = np.linspace(min(x_train_pb[:, 0]), max(x_train_pb[:, 0]), 20)\n",
    "x2_range = np.linspace(min(x_train_pb[:, 1]), max(x_train_pb[:, 1]), 20)\n",
    "x1_mesh, x2_mesh = np.meshgrid(x1_range, x2_range)\n",
    "\n",
    "# Escalar el meshgrid para predicción\n",
    "x_mesh_scaled = ss_pb.transform(np.vstack((x1_mesh.ravel(), x2_mesh.ravel())).T)\n",
    "\n",
    "# Predecir los valores con el modelo escalado\n",
    "y_mesh_scaled = modelo_pb.predict(x_mesh_scaled)\n",
    "\n",
    "# Crear scatterplot 3D de los puntos reales\n",
    "scatter = go.Scatter3d(\n",
    "    x=x_test_pb[:, 0], y=x_test_pb[:, 1], z=y_test_pb,\n",
    "    mode='markers',\n",
    "    marker=dict(size=8, color='red', opacity=0.7)\n",
    ")\n",
    "\n",
    "# Crear el plano de regresión\n",
    "surface = go.Surface(\n",
    "    x=x1_mesh, y=x2_mesh, z=y_mesh_scaled.reshape(x1_mesh.shape),\n",
    "    colorscale='Viridis', opacity=0.5\n",
    ")\n",
    "\n",
    "# Configuración del layout\n",
    "layout = go.Layout(\n",
    "    title=f\"REGRESION<br>R2: {r2_score(y_test_pb, pb_pred)} RMSE: {root_mean_squared_error(y_test_pb, pb_pred)}\",\n",
    "    scene=dict(\n",
    "        xaxis_title='Ancho',\n",
    "        yaxis_title='Pie',\n",
    "        zaxis_title='Altura'\n",
    "    )\n",
    ")\n",
    "\n",
    "# Crear la figura\n",
    "fig = go.Figure(data=[scatter, surface], layout=layout)\n",
    "\n",
    "# Mostrar la figura interactiva\n",
    "fig.show()\n"
   ]
  },
  {
   "cell_type": "markdown",
   "metadata": {},
   "source": [
    "**¿Agregarías datos a tu base de datos para mejorar las predicciones del modelo?**\n",
    "\n",
    "Sí, ya que la altura promedio de un mexicano no es la misma que la altura de una persona de Países Bajos."
   ]
  },
  {
   "cell_type": "markdown",
   "metadata": {},
   "source": [
    "**¿Cómo conseguirías dicha información?**\n",
    "\n",
    "Al tener que el promedio de altura de un hombre de Países Bajos es de 183 cm y la altura promedio de una mujer de Países Bajos es de 170 cm, promediamos las alturas y nos basamos en los datos originales y en los que recabamos de las 70 personas que medimos para crear nuevos datos."
   ]
  },
  {
   "cell_type": "markdown",
   "metadata": {},
   "source": [
    "**¿Modificarías algún parámetro de tu modelo?**\n",
    "\n",
    "En este caso, al no tener ningún dato de personas de países bajos y después de hacer gridsearch para obtener el modelo con las mejores métricas, llegamos a la conclusión de que una regresión lineal simple era el mejor modelo, por lo que no aplicamos ninguna regularización."
   ]
  },
  {
   "cell_type": "code",
   "execution_count": 43,
   "metadata": {},
   "outputs": [],
   "source": [
    "import plotly.express as px\n",
    "import plotly.graph_objects as go"
   ]
  },
  {
   "cell_type": "code",
   "execution_count": 44,
   "metadata": {},
   "outputs": [],
   "source": [
    "fig = px.scatter_3d(df_pb, x=df_pb[\"width\"], y=df_pb[\"shoe_size\"], z=df_pb[\"height\"])\n",
    "fig = go.Figure(data=[go.Surface()])\n",
    "# fig.show()\n"
   ]
  },
  {
   "cell_type": "code",
   "execution_count": 45,
   "metadata": {},
   "outputs": [],
   "source": [
    "class segunda_seccion():\n",
    "    \n",
    "    def __init__(self, df):\n",
    "        self.df = df\n",
    "        \n",
    "    def holanda_regressor(self):\n",
    "        self.pb_pred = r_pb.predict(self.df)\n",
    "    \n",
    "    def iteso_regressor(self):\n",
    "        self.new_pred = rg.predict(self.df)\n",
    "        print(self.new_pred)\n",
    "        \n",
    "    def combined_regressor(self):\n",
    "        pass\n",
    "        \n",
    "    def plotter(self, df, x1, x2, y):\n",
    "        fig = plt.figure(figsize=((10,8)))    \n",
    "        ax = fig.add_subplot(projection=\"3d\")\n",
    "        \n",
    "        ax.scatter(df[x1], df[x2], df[y])\n",
    "        ax.plot_surface(df[x1], df[x2], self.new_pred)\n",
    "        \n",
    "    \n",
    "    \n",
    "    \n",
    "    # return fig\n",
    "    \n",
    "# segunda_seccion(df_center)"
   ]
  },
  {
   "cell_type": "code",
   "execution_count": null,
   "metadata": {},
   "outputs": [],
   "source": []
  }
 ],
 "metadata": {
  "kernelspec": {
   "display_name": "iteso",
   "language": "python",
   "name": "python3"
  },
  "language_info": {
   "codemirror_mode": {
    "name": "ipython",
    "version": 3
   },
   "file_extension": ".py",
   "mimetype": "text/x-python",
   "name": "python",
   "nbconvert_exporter": "python",
   "pygments_lexer": "ipython3",
   "version": "3.10.13"
  }
 },
 "nbformat": 4,
 "nbformat_minor": 2
}
