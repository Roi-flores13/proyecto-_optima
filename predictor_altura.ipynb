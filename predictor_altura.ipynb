{
 "cells": [
  {
   "cell_type": "markdown",
   "metadata": {},
   "source": [
    "# Examen"
   ]
  },
  {
   "cell_type": "markdown",
   "metadata": {},
   "source": [
    "Integrantes:\n",
    "- Diego Canales Morales\n",
    "- Roi Jared Flores Graza Stone\n",
    "- Mónica Ibarra Herrera\n",
    "- Oscar Josué Rocha Hernández"
   ]
  },
  {
   "cell_type": "code",
   "execution_count": 81,
   "metadata": {},
   "outputs": [],
   "source": [
    "import pandas as pd\n",
    "from sklearn.linear_model import LinearRegression, Ridge, ElasticNet, Lasso\n",
    "from sklearn.model_selection import train_test_split, GridSearchCV\n",
    "import numpy as np\n",
    "from sklearn.metrics import root_mean_squared_error, r2_score\n",
    "from sklearn.preprocessing import StandardScaler, MinMaxScaler\n",
    "import matplotlib.pyplot as plt\n",
    "import plotly.graph_objects as go"
   ]
  },
  {
   "cell_type": "markdown",
   "metadata": {},
   "source": [
    "## Parte 1"
   ]
  },
  {
   "cell_type": "markdown",
   "metadata": {},
   "source": [
    "### Modelo Simple"
   ]
  },
  {
   "cell_type": "code",
   "execution_count": 82,
   "metadata": {},
   "outputs": [],
   "source": [
    "path = \"datos_gente.csv\"\n",
    "df_first = pd.read_csv(path)"
   ]
  },
  {
   "cell_type": "code",
   "execution_count": 83,
   "metadata": {},
   "outputs": [
    {
     "data": {
      "text/plain": [
       "array([[<Axes: title={'center': 'height'}>,\n",
       "        <Axes: title={'center': 'width'}>],\n",
       "       [<Axes: title={'center': 'shoe_size'}>, <Axes: >]], dtype=object)"
      ]
     },
     "execution_count": 83,
     "metadata": {},
     "output_type": "execute_result"
    },
    {
     "data": {
      "image/png": "[encoded data removed]",
      "text/plain": [
       "<Figure size 640x480 with 4 Axes>"
      ]
     },
     "metadata": {},
     "output_type": "display_data"
    }
   ],
   "source": [
    "df_first.hist()"
   ]
  },
  {
   "cell_type": "code",
   "execution_count": 84,
   "metadata": {},
   "outputs": [],
   "source": [
    "X = df_first[['width', 'shoe_size']]\n",
    "y = df_first['height']"
   ]
  },
  {
   "cell_type": "code",
   "execution_count": 85,
   "metadata": {},
   "outputs": [],
   "source": [
    "x_train_f, x_test_f, y_train_f, y_test_f = train_test_split(X,y, test_size=0.2, random_state=99)"
   ]
  },
  {
   "cell_type": "code",
   "execution_count": 86,
   "metadata": {},
   "outputs": [
    {
     "name": "stdout",
     "output_type": "stream",
     "text": [
      "R2: 0.8941176470588236 RMSE: 2.1213203435596424\n"
     ]
    }
   ],
   "source": [
    "lr_first = LinearRegression()\n",
    "lr_first.fit(x_test_f, y_test_f)\n",
    "pred_first = lr_first.predict(x_test_f)\n",
    "print(f\"R2: {r2_score(y_test_f, pred_first)} RMSE: {root_mean_squared_error(y_test_f, pred_first)}\")"
   ]
  },
  {
   "cell_type": "code",
   "execution_count": 87,
   "metadata": {},
   "outputs": [
    {
     "name": "stdout",
     "output_type": "stream",
     "text": [
      "Pendientes: [1.625 3.75 ]\n",
      "Intercepto: -12.375000000000057\n"
     ]
    }
   ],
   "source": [
    "print(f\"Pendientes: {lr_first.coef_}\")\n",
    "print(f\"Intercepto: {lr_first.intercept_}\")"
   ]
  },
  {
   "cell_type": "code",
   "execution_count": 88,
   "metadata": {},
   "outputs": [
    {
     "name": "stderr",
     "output_type": "stream",
     "text": [
      "c:\\Users\\cesar\\anaconda3\\envs\\iteso\\lib\\site-packages\\sklearn\\base.py:493: UserWarning:\n",
      "\n",
      "X does not have valid feature names, but LinearRegression was fitted with feature names\n",
      "\n"
     ]
    },
    {
     "data": {
      "application/vnd.plotly.v1+json": {
       "config": {
        "plotlyServerURL": "https://plot.ly"
       },
       "data": [
        {
         "marker": {
          "color": "red",
          "size": 8
         },
         "mode": "markers",
         "type": "scatter3d",
         "x": [
          55,
          44,
          44,
          44,
          46,
          40,
          58,
          40,
          49,
          44,
          40,
          51,
          55,
          50,
          38,
          39,
          38,
          39
         ],
         "y": [
          28,
          26.5,
          24,
          24.5,
          27,
          23,
          27,
          24,
          27.5,
          23,
          22,
          26,
          28,
          27.5,
          24,
          24.5,
          24,
          22.5
         ],
         "z": [
          185,
          173,
          163,
          162,
          172,
          159,
          187,
          165,
          175,
          162,
          155,
          168,
          179,
          172,
          159,
          166,
          156,
          151
         ]
        },
        {
         "colorscale": [
          [
           0,
           "#440154"
          ],
          [
           0.1111111111111111,
           "#482878"
          ],
          [
           0.2222222222222222,
           "#3e4989"
          ],
          [
           0.3333333333333333,
           "#31688e"
          ],
          [
           0.4444444444444444,
           "#26828e"
          ],
          [
           0.5555555555555556,
           "#1f9e89"
          ],
          [
           0.6666666666666666,
           "#35b779"
          ],
          [
           0.7777777777777778,
           "#6ece58"
          ],
          [
           0.8888888888888888,
           "#b5de2b"
          ],
          [
           1,
           "#fde725"
          ]
         ],
         "opacity": 0.5,
         "type": "surface",
         "x": [
          [
           38,
           39.05263157894737,
           40.10526315789474,
           41.1578947368421,
           42.21052631578947,
           43.26315789473684,
           44.31578947368421,
           45.368421052631575,
           46.421052631578945,
           47.473684210526315,
           48.526315789473685,
           49.578947368421055,
           50.631578947368425,
           51.68421052631579,
           52.73684210526316,
           53.78947368421053,
           54.84210526315789,
           55.89473684210526,
           56.94736842105263,
           58
          ],
          [
           38,
           39.05263157894737,
           40.10526315789474,
           41.1578947368421,
           42.21052631578947,
           43.26315789473684,
           44.31578947368421,
           45.368421052631575,
           46.421052631578945,
           47.473684210526315,
           48.526315789473685,
           49.578947368421055,
           50.631578947368425,
           51.68421052631579,
           52.73684210526316,
           53.78947368421053,
           54.84210526315789,
           55.89473684210526,
           56.94736842105263,
           58
          ],
          [
           38,
           39.05263157894737,
           40.10526315789474,
           41.1578947368421,
           42.21052631578947,
           43.26315789473684,
           44.31578947368421,
           45.368421052631575,
           46.421052631578945,
           47.473684210526315,
           48.526315789473685,
           49.578947368421055,
           50.631578947368425,
           51.68421052631579,
           52.73684210526316,
           53.78947368421053,
           54.84210526315789,
           55.89473684210526,
           56.94736842105263,
           58
          ],
          [
           38,
           39.05263157894737,
           40.10526315789474,
           41.1578947368421,
           42.21052631578947,
           43.26315789473684,
           44.31578947368421,
           45.368421052631575,
           46.421052631578945,
           47.473684210526315,
           48.526315789473685,
           49.578947368421055,
           50.631578947368425,
           51.68421052631579,
           52.73684210526316,
           53.78947368421053,
           54.84210526315789,
           55.89473684210526,
           56.94736842105263,
           58
          ],
          [
           38,
           39.05263157894737,
           40.10526315789474,
           41.1578947368421,
           42.21052631578947,
           43.26315789473684,
           44.31578947368421,
           45.368421052631575,
           46.421052631578945,
           47.473684210526315,
           48.526315789473685,
           49.578947368421055,
           50.631578947368425,
           51.68421052631579,
           52.73684210526316,
           53.78947368421053,
           54.84210526315789,
           55.89473684210526,
           56.94736842105263,
           58
          ],
          [
           38,
           39.05263157894737,
           40.10526315789474,
           41.1578947368421,
           42.21052631578947,
           43.26315789473684,
           44.31578947368421,
           45.368421052631575,
           46.421052631578945,
           47.473684210526315,
           48.526315789473685,
           49.578947368421055,
           50.631578947368425,
           51.68421052631579,
           52.73684210526316,
           53.78947368421053,
           54.84210526315789,
           55.89473684210526,
           56.94736842105263,
           58
          ],
          [
           38,
           39.05263157894737,
           40.10526315789474,
           41.1578947368421,
           42.21052631578947,
           43.26315789473684,
           44.31578947368421,
           45.368421052631575,
           46.421052631578945,
           47.473684210526315,
           48.526315789473685,
           49.578947368421055,
           50.631578947368425,
           51.68421052631579,
           52.73684210526316,
           53.78947368421053,
           54.84210526315789,
           55.89473684210526,
           56.94736842105263,
           58
          ],
          [
           38,
           39.05263157894737,
           40.10526315789474,
           41.1578947368421,
           42.21052631578947,
           43.26315789473684,
           44.31578947368421,
           45.368421052631575,
           46.421052631578945,
           47.473684210526315,
           48.526315789473685,
           49.578947368421055,
           50.631578947368425,
           51.68421052631579,
           52.73684210526316,
           53.78947368421053,
           54.84210526315789,
           55.89473684210526,
           56.94736842105263,
           58
          ],
          [
           38,
           39.05263157894737,
           40.10526315789474,
           41.1578947368421,
           42.21052631578947,
           43.26315789473684,
           44.31578947368421,
           45.368421052631575,
           46.421052631578945,
           47.473684210526315,
           48.526315789473685,
           49.578947368421055,
           50.631578947368425,
           51.68421052631579,
           52.73684210526316,
           53.78947368421053,
           54.84210526315789,
           55.89473684210526,
           56.94736842105263,
           58
          ],
          [
           38,
           39.05263157894737,
           40.10526315789474,
           41.1578947368421,
           42.21052631578947,
           43.26315789473684,
           44.31578947368421,
           45.368421052631575,
           46.421052631578945,
           47.473684210526315,
           48.526315789473685,
           49.578947368421055,
           50.631578947368425,
           51.68421052631579,
           52.73684210526316,
           53.78947368421053,
           54.84210526315789,
           55.89473684210526,
           56.94736842105263,
           58
          ],
          [
           38,
           39.05263157894737,
           40.10526315789474,
           41.1578947368421,
           42.21052631578947,
           43.26315789473684,
           44.31578947368421,
           45.368421052631575,
           46.421052631578945,
           47.473684210526315,
           48.526315789473685,
           49.578947368421055,
           50.631578947368425,
           51.68421052631579,
           52.73684210526316,
           53.78947368421053,
           54.84210526315789,
           55.89473684210526,
           56.94736842105263,
           58
          ],
          [
           38,
           39.05263157894737,
           40.10526315789474,
           41.1578947368421,
           42.21052631578947,
           43.26315789473684,
           44.31578947368421,
           45.368421052631575,
           46.421052631578945,
           47.473684210526315,
           48.526315789473685,
           49.578947368421055,
           50.631578947368425,
           51.68421052631579,
           52.73684210526316,
           53.78947368421053,
           54.84210526315789,
           55.89473684210526,
           56.94736842105263,
           58
          ],
          [
           38,
           39.05263157894737,
           40.10526315789474,
           41.1578947368421,
           42.21052631578947,
           43.26315789473684,
           44.31578947368421,
           45.368421052631575,
           46.421052631578945,
           47.473684210526315,
           48.526315789473685,
           49.578947368421055,
           50.631578947368425,
           51.68421052631579,
           52.73684210526316,
           53.78947368421053,
           54.84210526315789,
           55.89473684210526,
           56.94736842105263,
           58
          ],
          [
           38,
           39.05263157894737,
           40.10526315789474,
           41.1578947368421,
           42.21052631578947,
           43.26315789473684,
           44.31578947368421,
           45.368421052631575,
           46.421052631578945,
           47.473684210526315,
           48.526315789473685,
           49.578947368421055,
           50.631578947368425,
           51.68421052631579,
           52.73684210526316,
           53.78947368421053,
           54.84210526315789,
           55.89473684210526,
           56.94736842105263,
           58
          ],
          [
           38,
           39.05263157894737,
           40.10526315789474,
           41.1578947368421,
           42.21052631578947,
           43.26315789473684,
           44.31578947368421,
           45.368421052631575,
           46.421052631578945,
           47.473684210526315,
           48.526315789473685,
           49.578947368421055,
           50.631578947368425,
           51.68421052631579,
           52.73684210526316,
           53.78947368421053,
           54.84210526315789,
           55.89473684210526,
           56.94736842105263,
           58
          ],
          [
           38,
           39.05263157894737,
           40.10526315789474,
           41.1578947368421,
           42.21052631578947,
           43.26315789473684,
           44.31578947368421,
           45.368421052631575,
           46.421052631578945,
           47.473684210526315,
           48.526315789473685,
           49.578947368421055,
           50.631578947368425,
           51.68421052631579,
           52.73684210526316,
           53.78947368421053,
           54.84210526315789,
           55.89473684210526,
           56.94736842105263,
           58
          ],
          [
           38,
           39.05263157894737,
           40.10526315789474,
           41.1578947368421,
           42.21052631578947,
           43.26315789473684,
           44.31578947368421,
           45.368421052631575,
           46.421052631578945,
           47.473684210526315,
           48.526315789473685,
           49.578947368421055,
           50.631578947368425,
           51.68421052631579,
           52.73684210526316,
           53.78947368421053,
           54.84210526315789,
           55.89473684210526,
           56.94736842105263,
           58
          ],
          [
           38,
           39.05263157894737,
           40.10526315789474,
           41.1578947368421,
           42.21052631578947,
           43.26315789473684,
           44.31578947368421,
           45.368421052631575,
           46.421052631578945,
           47.473684210526315,
           48.526315789473685,
           49.578947368421055,
           50.631578947368425,
           51.68421052631579,
           52.73684210526316,
           53.78947368421053,
           54.84210526315789,
           55.89473684210526,
           56.94736842105263,
           58
          ],
          [
           38,
           39.05263157894737,
           40.10526315789474,
           41.1578947368421,
           42.21052631578947,
           43.26315789473684,
           44.31578947368421,
           45.368421052631575,
           46.421052631578945,
           47.473684210526315,
           48.526315789473685,
           49.578947368421055,
           50.631578947368425,
           51.68421052631579,
           52.73684210526316,
           53.78947368421053,
           54.84210526315789,
           55.89473684210526,
           56.94736842105263,
           58
          ],
          [
           38,
           39.05263157894737,
           40.10526315789474,
           41.1578947368421,
           42.21052631578947,
           43.26315789473684,
           44.31578947368421,
           45.368421052631575,
           46.421052631578945,
           47.473684210526315,
           48.526315789473685,
           49.578947368421055,
           50.631578947368425,
           51.68421052631579,
           52.73684210526316,
           53.78947368421053,
           54.84210526315789,
           55.89473684210526,
           56.94736842105263,
           58
          ]
         ],
         "y": [
          [
           22,
           22,
           22,
           22,
           22,
           22,
           22,
           22,
           22,
           22,
           22,
           22,
           22,
           22,
           22,
           22,
           22,
           22,
           22,
           22
          ],
          [
           22.31578947368421,
           22.31578947368421,
           22.31578947368421,
           22.31578947368421,
           22.31578947368421,
           22.31578947368421,
           22.31578947368421,
           22.31578947368421,
           22.31578947368421,
           22.31578947368421,
           22.31578947368421,
           22.31578947368421,
           22.31578947368421,
           22.31578947368421,
           22.31578947368421,
           22.31578947368421,
           22.31578947368421,
           22.31578947368421,
           22.31578947368421,
           22.31578947368421
          ],
          [
           22.63157894736842,
           22.63157894736842,
           22.63157894736842,
           22.63157894736842,
           22.63157894736842,
           22.63157894736842,
           22.63157894736842,
           22.63157894736842,
           22.63157894736842,
           22.63157894736842,
           22.63157894736842,
           22.63157894736842,
           22.63157894736842,
           22.63157894736842,
           22.63157894736842,
           22.63157894736842,
           22.63157894736842,
           22.63157894736842,
           22.63157894736842,
           22.63157894736842
          ],
          [
           22.94736842105263,
           22.94736842105263,
           22.94736842105263,
           22.94736842105263,
           22.94736842105263,
           22.94736842105263,
           22.94736842105263,
           22.94736842105263,
           22.94736842105263,
           22.94736842105263,
           22.94736842105263,
           22.94736842105263,
           22.94736842105263,
           22.94736842105263,
           22.94736842105263,
           22.94736842105263,
           22.94736842105263,
           22.94736842105263,
           22.94736842105263,
           22.94736842105263
          ],
          [
           23.263157894736842,
           23.263157894736842,
           23.263157894736842,
           23.263157894736842,
           23.263157894736842,
           23.263157894736842,
           23.263157894736842,
           23.263157894736842,
           23.263157894736842,
           23.263157894736842,
           23.263157894736842,
           23.263157894736842,
           23.263157894736842,
           23.263157894736842,
           23.263157894736842,
           23.263157894736842,
           23.263157894736842,
           23.263157894736842,
           23.263157894736842,
           23.263157894736842
          ],
          [
           23.57894736842105,
           23.57894736842105,
           23.57894736842105,
           23.57894736842105,
           23.57894736842105,
           23.57894736842105,
           23.57894736842105,
           23.57894736842105,
           23.57894736842105,
           23.57894736842105,
           23.57894736842105,
           23.57894736842105,
           23.57894736842105,
           23.57894736842105,
           23.57894736842105,
           23.57894736842105,
           23.57894736842105,
           23.57894736842105,
           23.57894736842105,
           23.57894736842105
          ],
          [
           23.894736842105264,
           23.894736842105264,
           23.894736842105264,
           23.894736842105264,
           23.894736842105264,
           23.894736842105264,
           23.894736842105264,
           23.894736842105264,
           23.894736842105264,
           23.894736842105264,
           23.894736842105264,
           23.894736842105264,
           23.894736842105264,
           23.894736842105264,
           23.894736842105264,
           23.894736842105264,
           23.894736842105264,
           23.894736842105264,
           23.894736842105264,
           23.894736842105264
          ],
          [
           24.210526315789473,
           24.210526315789473,
           24.210526315789473,
           24.210526315789473,
           24.210526315789473,
           24.210526315789473,
           24.210526315789473,
           24.210526315789473,
           24.210526315789473,
           24.210526315789473,
           24.210526315789473,
           24.210526315789473,
           24.210526315789473,
           24.210526315789473,
           24.210526315789473,
           24.210526315789473,
           24.210526315789473,
           24.210526315789473,
           24.210526315789473,
           24.210526315789473
          ],
          [
           24.526315789473685,
           24.526315789473685,
           24.526315789473685,
           24.526315789473685,
           24.526315789473685,
           24.526315789473685,
           24.526315789473685,
           24.526315789473685,
           24.526315789473685,
           24.526315789473685,
           24.526315789473685,
           24.526315789473685,
           24.526315789473685,
           24.526315789473685,
           24.526315789473685,
           24.526315789473685,
           24.526315789473685,
           24.526315789473685,
           24.526315789473685,
           24.526315789473685
          ],
          [
           24.842105263157894,
           24.842105263157894,
           24.842105263157894,
           24.842105263157894,
           24.842105263157894,
           24.842105263157894,
           24.842105263157894,
           24.842105263157894,
           24.842105263157894,
           24.842105263157894,
           24.842105263157894,
           24.842105263157894,
           24.842105263157894,
           24.842105263157894,
           24.842105263157894,
           24.842105263157894,
           24.842105263157894,
           24.842105263157894,
           24.842105263157894,
           24.842105263157894
          ],
          [
           25.157894736842106,
           25.157894736842106,
           25.157894736842106,
           25.157894736842106,
           25.157894736842106,
           25.157894736842106,
           25.157894736842106,
           25.157894736842106,
           25.157894736842106,
           25.157894736842106,
           25.157894736842106,
           25.157894736842106,
           25.157894736842106,
           25.157894736842106,
           25.157894736842106,
           25.157894736842106,
           25.157894736842106,
           25.157894736842106,
           25.157894736842106,
           25.157894736842106
          ],
          [
           25.473684210526315,
           25.473684210526315,
           25.473684210526315,
           25.473684210526315,
           25.473684210526315,
           25.473684210526315,
           25.473684210526315,
           25.473684210526315,
           25.473684210526315,
           25.473684210526315,
           25.473684210526315,
           25.473684210526315,
           25.473684210526315,
           25.473684210526315,
           25.473684210526315,
           25.473684210526315,
           25.473684210526315,
           25.473684210526315,
           25.473684210526315,
           25.473684210526315
          ],
          [
           25.789473684210527,
           25.789473684210527,
           25.789473684210527,
           25.789473684210527,
           25.789473684210527,
           25.789473684210527,
           25.789473684210527,
           25.789473684210527,
           25.789473684210527,
           25.789473684210527,
           25.789473684210527,
           25.789473684210527,
           25.789473684210527,
           25.789473684210527,
           25.789473684210527,
           25.789473684210527,
           25.789473684210527,
           25.789473684210527,
           25.789473684210527,
           25.789473684210527
          ],
          [
           26.105263157894736,
           26.105263157894736,
           26.105263157894736,
           26.105263157894736,
           26.105263157894736,
           26.105263157894736,
           26.105263157894736,
           26.105263157894736,
           26.105263157894736,
           26.105263157894736,
           26.105263157894736,
           26.105263157894736,
           26.105263157894736,
           26.105263157894736,
           26.105263157894736,
           26.105263157894736,
           26.105263157894736,
           26.105263157894736,
           26.105263157894736,
           26.105263157894736
          ],
          [
           26.421052631578945,
           26.421052631578945,
           26.421052631578945,
           26.421052631578945,
           26.421052631578945,
           26.421052631578945,
           26.421052631578945,
           26.421052631578945,
           26.421052631578945,
           26.421052631578945,
           26.421052631578945,
           26.421052631578945,
           26.421052631578945,
           26.421052631578945,
           26.421052631578945,
           26.421052631578945,
           26.421052631578945,
           26.421052631578945,
           26.421052631578945,
           26.421052631578945
          ],
          [
           26.736842105263158,
           26.736842105263158,
           26.736842105263158,
           26.736842105263158,
           26.736842105263158,
           26.736842105263158,
           26.736842105263158,
           26.736842105263158,
           26.736842105263158,
           26.736842105263158,
           26.736842105263158,
           26.736842105263158,
           26.736842105263158,
           26.736842105263158,
           26.736842105263158,
           26.736842105263158,
           26.736842105263158,
           26.736842105263158,
           26.736842105263158,
           26.736842105263158
          ],
          [
           27.05263157894737,
           27.05263157894737,
           27.05263157894737,
           27.05263157894737,
           27.05263157894737,
           27.05263157894737,
           27.05263157894737,
           27.05263157894737,
           27.05263157894737,
           27.05263157894737,
           27.05263157894737,
           27.05263157894737,
           27.05263157894737,
           27.05263157894737,
           27.05263157894737,
           27.05263157894737,
           27.05263157894737,
           27.05263157894737,
           27.05263157894737,
           27.05263157894737
          ],
          [
           27.36842105263158,
           27.36842105263158,
           27.36842105263158,
           27.36842105263158,
           27.36842105263158,
           27.36842105263158,
           27.36842105263158,
           27.36842105263158,
           27.36842105263158,
           27.36842105263158,
           27.36842105263158,
           27.36842105263158,
           27.36842105263158,
           27.36842105263158,
           27.36842105263158,
           27.36842105263158,
           27.36842105263158,
           27.36842105263158,
           27.36842105263158,
           27.36842105263158
          ],
          [
           27.684210526315788,
           27.684210526315788,
           27.684210526315788,
           27.684210526315788,
           27.684210526315788,
           27.684210526315788,
           27.684210526315788,
           27.684210526315788,
           27.684210526315788,
           27.684210526315788,
           27.684210526315788,
           27.684210526315788,
           27.684210526315788,
           27.684210526315788,
           27.684210526315788,
           27.684210526315788,
           27.684210526315788,
           27.684210526315788,
           27.684210526315788,
           27.684210526315788
          ],
          [
           28,
           28,
           28,
           28,
           28,
           28,
           28,
           28,
           28,
           28,
           28,
           28,
           28,
           28,
           28,
           28,
           28,
           28,
           28,
           28
          ]
         ],
         "z": [
          [
           131.87499999999997,
           133.58552631578945,
           135.29605263157893,
           137.00657894736838,
           138.71710526315786,
           140.42763157894734,
           142.13815789473682,
           143.8486842105263,
           145.55921052631578,
           147.26973684210526,
           148.9802631578947,
           150.6907894736842,
           152.40131578947367,
           154.11184210526312,
           155.8223684210526,
           157.53289473684208,
           159.24342105263156,
           160.95394736842104,
           162.66447368421052,
           164.375
          ],
          [
           133.05921052631575,
           134.76973684210523,
           136.4802631578947,
           138.19078947368416,
           139.90131578947364,
           141.61184210526312,
           143.3223684210526,
           145.03289473684208,
           146.74342105263156,
           148.45394736842104,
           150.1644736842105,
           151.87499999999997,
           153.58552631578945,
           155.2960526315789,
           157.00657894736838,
           158.71710526315786,
           160.42763157894734,
           162.13815789473682,
           163.8486842105263,
           165.55921052631578
          ],
          [
           134.24342105263156,
           135.95394736842104,
           137.66447368421052,
           139.37499999999997,
           141.08552631578945,
           142.7960526315789,
           144.50657894736838,
           146.21710526315786,
           147.92763157894734,
           149.63815789473682,
           151.3486842105263,
           153.05921052631578,
           154.76973684210526,
           156.4802631578947,
           158.1907894736842,
           159.90131578947364,
           161.61184210526312,
           163.3223684210526,
           165.03289473684208,
           166.74342105263156
          ],
          [
           135.42763157894734,
           137.13815789473682,
           138.8486842105263,
           140.55921052631575,
           142.26973684210523,
           143.98026315789468,
           145.69078947368416,
           147.40131578947364,
           149.11184210526312,
           150.8223684210526,
           152.53289473684208,
           154.24342105263156,
           155.95394736842104,
           157.6644736842105,
           159.37499999999997,
           161.08552631578942,
           162.7960526315789,
           164.50657894736838,
           166.21710526315786,
           167.92763157894734
          ],
          [
           136.61184210526312,
           138.3223684210526,
           140.03289473684208,
           141.74342105263156,
           143.45394736842104,
           145.1644736842105,
           146.87499999999997,
           148.58552631578942,
           150.2960526315789,
           152.00657894736838,
           153.71710526315786,
           155.42763157894734,
           157.13815789473682,
           158.8486842105263,
           160.55921052631578,
           162.26973684210523,
           163.98026315789468,
           165.69078947368416,
           167.40131578947364,
           169.11184210526312
          ],
          [
           137.7960526315789,
           139.50657894736838,
           141.21710526315786,
           142.92763157894734,
           144.63815789473682,
           146.3486842105263,
           148.05921052631578,
           149.76973684210523,
           151.4802631578947,
           153.1907894736842,
           154.90131578947364,
           156.61184210526312,
           158.3223684210526,
           160.03289473684208,
           161.74342105263156,
           163.45394736842104,
           165.1644736842105,
           166.87499999999997,
           168.58552631578945,
           170.29605263157893
          ],
          [
           138.9802631578947,
           140.6907894736842,
           142.40131578947367,
           144.11184210526312,
           145.8223684210526,
           147.53289473684208,
           149.24342105263156,
           150.95394736842104,
           152.66447368421052,
           154.375,
           156.08552631578945,
           157.79605263157893,
           159.5065789473684,
           161.21710526315786,
           162.92763157894734,
           164.63815789473682,
           166.3486842105263,
           168.05921052631578,
           169.76973684210526,
           171.48026315789474
          ],
          [
           140.1644736842105,
           141.87499999999997,
           143.58552631578945,
           145.2960526315789,
           147.00657894736838,
           148.71710526315786,
           150.42763157894734,
           152.13815789473682,
           153.8486842105263,
           155.55921052631578,
           157.26973684210523,
           158.9802631578947,
           160.6907894736842,
           162.40131578947364,
           164.11184210526312,
           165.8223684210526,
           167.53289473684208,
           169.24342105263156,
           170.95394736842104,
           172.66447368421052
          ],
          [
           141.3486842105263,
           143.05921052631578,
           144.76973684210526,
           146.4802631578947,
           148.1907894736842,
           149.90131578947364,
           151.61184210526312,
           153.3223684210526,
           155.03289473684208,
           156.74342105263156,
           158.45394736842104,
           160.16447368421052,
           161.875,
           163.58552631578945,
           165.29605263157893,
           167.00657894736838,
           168.71710526315786,
           170.42763157894734,
           172.13815789473682,
           173.8486842105263
          ],
          [
           142.53289473684208,
           144.24342105263156,
           145.95394736842104,
           147.6644736842105,
           149.37499999999997,
           151.08552631578942,
           152.7960526315789,
           154.50657894736838,
           156.21710526315786,
           157.92763157894734,
           159.63815789473682,
           161.3486842105263,
           163.05921052631578,
           164.76973684210523,
           166.4802631578947,
           168.19078947368416,
           169.90131578947364,
           171.61184210526312,
           173.3223684210526,
           175.03289473684208
          ],
          [
           143.71710526315786,
           145.42763157894734,
           147.13815789473682,
           148.8486842105263,
           150.55921052631578,
           152.26973684210523,
           153.9802631578947,
           155.69078947368416,
           157.40131578947364,
           159.11184210526312,
           160.8223684210526,
           162.53289473684208,
           164.24342105263156,
           165.95394736842104,
           167.66447368421052,
           169.37499999999997,
           171.08552631578942,
           172.7960526315789,
           174.50657894736838,
           176.21710526315786
          ],
          [
           144.90131578947364,
           146.61184210526312,
           148.3223684210526,
           150.03289473684208,
           151.74342105263156,
           153.45394736842104,
           155.16447368421052,
           156.87499999999997,
           158.58552631578945,
           160.29605263157893,
           162.00657894736838,
           163.71710526315786,
           165.42763157894734,
           167.13815789473682,
           168.8486842105263,
           170.55921052631578,
           172.26973684210523,
           173.9802631578947,
           175.6907894736842,
           177.40131578947367
          ],
          [
           146.08552631578945,
           147.79605263157893,
           149.5065789473684,
           151.21710526315786,
           152.92763157894734,
           154.63815789473682,
           156.3486842105263,
           158.05921052631578,
           159.76973684210526,
           161.48026315789474,
           163.1907894736842,
           164.90131578947367,
           166.61184210526315,
           168.3223684210526,
           170.03289473684208,
           171.74342105263156,
           173.45394736842104,
           175.16447368421052,
           176.875,
           178.58552631578948
          ],
          [
           147.26973684210523,
           148.9802631578947,
           150.6907894736842,
           152.40131578947364,
           154.11184210526312,
           155.8223684210526,
           157.53289473684208,
           159.24342105263156,
           160.95394736842104,
           162.66447368421052,
           164.37499999999997,
           166.08552631578945,
           167.79605263157893,
           169.50657894736838,
           171.21710526315786,
           172.92763157894734,
           174.63815789473682,
           176.3486842105263,
           178.05921052631578,
           179.76973684210526
          ],
          [
           148.453947368421,
           150.1644736842105,
           151.87499999999997,
           153.58552631578942,
           155.2960526315789,
           157.00657894736838,
           158.71710526315786,
           160.42763157894734,
           162.13815789473682,
           163.8486842105263,
           165.55921052631575,
           167.26973684210523,
           168.9802631578947,
           170.69078947368416,
           172.40131578947364,
           174.11184210526312,
           175.8223684210526,
           177.53289473684208,
           179.24342105263156,
           180.95394736842104
          ],
          [
           149.63815789473682,
           151.3486842105263,
           153.05921052631578,
           154.76973684210523,
           156.4802631578947,
           158.19078947368416,
           159.90131578947364,
           161.61184210526312,
           163.3223684210526,
           165.03289473684208,
           166.74342105263156,
           168.45394736842104,
           170.16447368421052,
           171.87499999999997,
           173.58552631578945,
           175.2960526315789,
           177.00657894736838,
           178.71710526315786,
           180.42763157894734,
           182.13815789473682
          ],
          [
           150.8223684210526,
           152.53289473684208,
           154.24342105263156,
           155.95394736842104,
           157.66447368421052,
           159.37499999999997,
           161.08552631578945,
           162.7960526315789,
           164.50657894736838,
           166.21710526315786,
           167.92763157894734,
           169.63815789473682,
           171.3486842105263,
           173.05921052631578,
           174.76973684210526,
           176.4802631578947,
           178.19078947368416,
           179.90131578947364,
           181.61184210526312,
           183.3223684210526
          ],
          [
           152.00657894736838,
           153.71710526315786,
           155.42763157894734,
           157.13815789473682,
           158.8486842105263,
           160.55921052631578,
           162.26973684210526,
           163.9802631578947,
           165.6907894736842,
           167.40131578947367,
           169.11184210526312,
           170.8223684210526,
           172.53289473684208,
           174.24342105263156,
           175.95394736842104,
           177.66447368421052,
           179.37499999999997,
           181.08552631578945,
           182.79605263157893,
           184.5065789473684
          ],
          [
           153.19078947368416,
           154.90131578947364,
           156.61184210526312,
           158.3223684210526,
           160.03289473684208,
           161.74342105263156,
           163.45394736842104,
           165.1644736842105,
           166.87499999999997,
           168.58552631578945,
           170.2960526315789,
           172.00657894736838,
           173.71710526315786,
           175.42763157894734,
           177.13815789473682,
           178.8486842105263,
           180.55921052631575,
           182.26973684210523,
           183.9802631578947,
           185.6907894736842
          ],
          [
           154.37499999999997,
           156.08552631578945,
           157.79605263157893,
           159.50657894736838,
           161.21710526315786,
           162.92763157894734,
           164.63815789473682,
           166.3486842105263,
           168.05921052631578,
           169.76973684210526,
           171.4802631578947,
           173.1907894736842,
           174.90131578947367,
           176.61184210526312,
           178.3223684210526,
           180.03289473684208,
           181.74342105263156,
           183.45394736842104,
           185.16447368421052,
           186.875
          ]
         ]
        }
       ],
       "layout": {
        "scene": {
         "xaxis": {
          "title": {
           "text": "Variable X1"
          }
         },
         "yaxis": {
          "title": {
           "text": "Variable X2"
          }
         },
         "zaxis": {
          "title": {
           "text": "Variable Y"
          }
         }
        },
        "template": {
         "data": {
          "bar": [
           {
            "error_x": {
             "color": "#2a3f5f"
            },
            "error_y": {
             "color": "#2a3f5f"
            },
            "marker": {
             "line": {
              "color": "#E5ECF6",
              "width": 0.5
             },
             "pattern": {
              "fillmode": "overlay",
              "size": 10,
              "solidity": 0.2
             }
            },
            "type": "bar"
           }
          ],
          "barpolar": [
           {
            "marker": {
             "line": {
              "color": "#E5ECF6",
              "width": 0.5
             },
             "pattern": {
              "fillmode": "overlay",
              "size": 10,
              "solidity": 0.2
             }
            },
            "type": "barpolar"
           }
          ],
          "carpet": [
           {
            "aaxis": {
             "endlinecolor": "#2a3f5f",
             "gridcolor": "white",
             "linecolor": "white",
             "minorgridcolor": "white",
             "startlinecolor": "#2a3f5f"
            },
            "baxis": {
             "endlinecolor": "#2a3f5f",
             "gridcolor": "white",
             "linecolor": "white",
             "minorgridcolor": "white",
             "startlinecolor": "#2a3f5f"
            },
            "type": "carpet"
           }
          ],
          "choropleth": [
           {
            "colorbar": {
             "outlinewidth": 0,
             "ticks": ""
            },
            "type": "choropleth"
           }
          ],
          "contour": [
           {
            "colorbar": {
             "outlinewidth": 0,
             "ticks": ""
            },
            "colorscale": [
             [
              0,
              "#0d0887"
             ],
             [
              0.1111111111111111,
              "#46039f"
             ],
             [
              0.2222222222222222,
              "#7201a8"
             ],
             [
              0.3333333333333333,
              "#9c179e"
             ],
             [
              0.4444444444444444,
              "#bd3786"
             ],
             [
              0.5555555555555556,
              "#d8576b"
             ],
             [
              0.6666666666666666,
              "#ed7953"
             ],
             [
              0.7777777777777778,
              "#fb9f3a"
             ],
             [
              0.8888888888888888,
              "#fdca26"
             ],
             [
              1,
              "#f0f921"
             ]
            ],
            "type": "contour"
           }
          ],
          "contourcarpet": [
           {
            "colorbar": {
             "outlinewidth": 0,
             "ticks": ""
            },
            "type": "contourcarpet"
           }
          ],
          "heatmap": [
           {
            "colorbar": {
             "outlinewidth": 0,
             "ticks": ""
            },
            "colorscale": [
             [
              0,
              "#0d0887"
             ],
             [
              0.1111111111111111,
              "#46039f"
             ],
             [
              0.2222222222222222,
              "#7201a8"
             ],
             [
              0.3333333333333333,
              "#9c179e"
             ],
             [
              0.4444444444444444,
              "#bd3786"
             ],
             [
              0.5555555555555556,
              "#d8576b"
             ],
             [
              0.6666666666666666,
              "#ed7953"
             ],
             [
              0.7777777777777778,
              "#fb9f3a"
             ],
             [
              0.8888888888888888,
              "#fdca26"
             ],
             [
              1,
              "#f0f921"
             ]
            ],
            "type": "heatmap"
           }
          ],
          "heatmapgl": [
           {
            "colorbar": {
             "outlinewidth": 0,
             "ticks": ""
            },
            "colorscale": [
             [
              0,
              "#0d0887"
             ],
             [
              0.1111111111111111,
              "#46039f"
             ],
             [
              0.2222222222222222,
              "#7201a8"
             ],
             [
              0.3333333333333333,
              "#9c179e"
             ],
             [
              0.4444444444444444,
              "#bd3786"
             ],
             [
              0.5555555555555556,
              "#d8576b"
             ],
             [
              0.6666666666666666,
              "#ed7953"
             ],
             [
              0.7777777777777778,
              "#fb9f3a"
             ],
             [
              0.8888888888888888,
              "#fdca26"
             ],
             [
              1,
              "#f0f921"
             ]
            ],
            "type": "heatmapgl"
           }
          ],
          "histogram": [
           {
            "marker": {
             "pattern": {
              "fillmode": "overlay",
              "size": 10,
              "solidity": 0.2
             }
            },
            "type": "histogram"
           }
          ],
          "histogram2d": [
           {
            "colorbar": {
             "outlinewidth": 0,
             "ticks": ""
            },
            "colorscale": [
             [
              0,
              "#0d0887"
             ],
             [
              0.1111111111111111,
              "#46039f"
             ],
             [
              0.2222222222222222,
              "#7201a8"
             ],
             [
              0.3333333333333333,
              "#9c179e"
             ],
             [
              0.4444444444444444,
              "#bd3786"
             ],
             [
              0.5555555555555556,
              "#d8576b"
             ],
             [
              0.6666666666666666,
              "#ed7953"
             ],
             [
              0.7777777777777778,
              "#fb9f3a"
             ],
             [
              0.8888888888888888,
              "#fdca26"
             ],
             [
              1,
              "#f0f921"
             ]
            ],
            "type": "histogram2d"
           }
          ],
          "histogram2dcontour": [
           {
            "colorbar": {
             "outlinewidth": 0,
             "ticks": ""
            },
            "colorscale": [
             [
              0,
              "#0d0887"
             ],
             [
              0.1111111111111111,
              "#46039f"
             ],
             [
              0.2222222222222222,
              "#7201a8"
             ],
             [
              0.3333333333333333,
              "#9c179e"
             ],
             [
              0.4444444444444444,
              "#bd3786"
             ],
             [
              0.5555555555555556,
              "#d8576b"
             ],
             [
              0.6666666666666666,
              "#ed7953"
             ],
             [
              0.7777777777777778,
              "#fb9f3a"
             ],
             [
              0.8888888888888888,
              "#fdca26"
             ],
             [
              1,
              "#f0f921"
             ]
            ],
            "type": "histogram2dcontour"
           }
          ],
          "mesh3d": [
           {
            "colorbar": {
             "outlinewidth": 0,
             "ticks": ""
            },
            "type": "mesh3d"
           }
          ],
          "parcoords": [
           {
            "line": {
             "colorbar": {
              "outlinewidth": 0,
              "ticks": ""
             }
            },
            "type": "parcoords"
           }
          ],
          "pie": [
           {
            "automargin": true,
            "type": "pie"
           }
          ],
          "scatter": [
           {
            "fillpattern": {
             "fillmode": "overlay",
             "size": 10,
             "solidity": 0.2
            },
            "type": "scatter"
           }
          ],
          "scatter3d": [
           {
            "line": {
             "colorbar": {
              "outlinewidth": 0,
              "ticks": ""
             }
            },
            "marker": {
             "colorbar": {
              "outlinewidth": 0,
              "ticks": ""
             }
            },
            "type": "scatter3d"
           }
          ],
          "scattercarpet": [
           {
            "marker": {
             "colorbar": {
              "outlinewidth": 0,
              "ticks": ""
             }
            },
            "type": "scattercarpet"
           }
          ],
          "scattergeo": [
           {
            "marker": {
             "colorbar": {
              "outlinewidth": 0,
              "ticks": ""
             }
            },
            "type": "scattergeo"
           }
          ],
          "scattergl": [
           {
            "marker": {
             "colorbar": {
              "outlinewidth": 0,
              "ticks": ""
             }
            },
            "type": "scattergl"
           }
          ],
          "scattermapbox": [
           {
            "marker": {
             "colorbar": {
              "outlinewidth": 0,
              "ticks": ""
             }
            },
            "type": "scattermapbox"
           }
          ],
          "scatterpolar": [
           {
            "marker": {
             "colorbar": {
              "outlinewidth": 0,
              "ticks": ""
             }
            },
            "type": "scatterpolar"
           }
          ],
          "scatterpolargl": [
           {
            "marker": {
             "colorbar": {
              "outlinewidth": 0,
              "ticks": ""
             }
            },
            "type": "scatterpolargl"
           }
          ],
          "scatterternary": [
           {
            "marker": {
             "colorbar": {
              "outlinewidth": 0,
              "ticks": ""
             }
            },
            "type": "scatterternary"
           }
          ],
          "surface": [
           {
            "colorbar": {
             "outlinewidth": 0,
             "ticks": ""
            },
            "colorscale": [
             [
              0,
              "#0d0887"
             ],
             [
              0.1111111111111111,
              "#46039f"
             ],
             [
              0.2222222222222222,
              "#7201a8"
             ],
             [
              0.3333333333333333,
              "#9c179e"
             ],
             [
              0.4444444444444444,
              "#bd3786"
             ],
             [
              0.5555555555555556,
              "#d8576b"
             ],
             [
              0.6666666666666666,
              "#ed7953"
             ],
             [
              0.7777777777777778,
              "#fb9f3a"
             ],
             [
              0.8888888888888888,
              "#fdca26"
             ],
             [
              1,
              "#f0f921"
             ]
            ],
            "type": "surface"
           }
          ],
          "table": [
           {
            "cells": {
             "fill": {
              "color": "#EBF0F8"
             },
             "line": {
              "color": "white"
             }
            },
            "header": {
             "fill": {
              "color": "#C8D4E3"
             },
             "line": {
              "color": "white"
             }
            },
            "type": "table"
           }
          ]
         },
         "layout": {
          "annotationdefaults": {
           "arrowcolor": "#2a3f5f",
           "arrowhead": 0,
           "arrowwidth": 1
          },
          "autotypenumbers": "strict",
          "coloraxis": {
           "colorbar": {
            "outlinewidth": 0,
            "ticks": ""
           }
          },
          "colorscale": {
           "diverging": [
            [
             0,
             "#8e0152"
            ],
            [
             0.1,
             "#c51b7d"
            ],
            [
             0.2,
             "#de77ae"
            ],
            [
             0.3,
             "#f1b6da"
            ],
            [
             0.4,
             "#fde0ef"
            ],
            [
             0.5,
             "#f7f7f7"
            ],
            [
             0.6,
             "#e6f5d0"
            ],
            [
             0.7,
             "#b8e186"
            ],
            [
             0.8,
             "#7fbc41"
            ],
            [
             0.9,
             "#4d9221"
            ],
            [
             1,
             "#276419"
            ]
           ],
           "sequential": [
            [
             0,
             "#0d0887"
            ],
            [
             0.1111111111111111,
             "#46039f"
            ],
            [
             0.2222222222222222,
             "#7201a8"
            ],
            [
             0.3333333333333333,
             "#9c179e"
            ],
            [
             0.4444444444444444,
             "#bd3786"
            ],
            [
             0.5555555555555556,
             "#d8576b"
            ],
            [
             0.6666666666666666,
             "#ed7953"
            ],
            [
             0.7777777777777778,
             "#fb9f3a"
            ],
            [
             0.8888888888888888,
             "#fdca26"
            ],
            [
             1,
             "#f0f921"
            ]
           ],
           "sequentialminus": [
            [
             0,
             "#0d0887"
            ],
            [
             0.1111111111111111,
             "#46039f"
            ],
            [
             0.2222222222222222,
             "#7201a8"
            ],
            [
             0.3333333333333333,
             "#9c179e"
            ],
            [
             0.4444444444444444,
             "#bd3786"
            ],
            [
             0.5555555555555556,
             "#d8576b"
            ],
            [
             0.6666666666666666,
             "#ed7953"
            ],
            [
             0.7777777777777778,
             "#fb9f3a"
            ],
            [
             0.8888888888888888,
             "#fdca26"
            ],
            [
             1,
             "#f0f921"
            ]
           ]
          },
          "colorway": [
           "#636efa",
           "#EF553B",
           "#00cc96",
           "#ab63fa",
           "#FFA15A",
           "#19d3f3",
           "#FF6692",
           "#B6E880",
           "#FF97FF",
           "#FECB52"
          ],
          "font": {
           "color": "#2a3f5f"
          },
          "geo": {
           "bgcolor": "white",
           "lakecolor": "white",
           "landcolor": "#E5ECF6",
           "showlakes": true,
           "showland": true,
           "subunitcolor": "white"
          },
          "hoverlabel": {
           "align": "left"
          },
          "hovermode": "closest",
          "mapbox": {
           "style": "light"
          },
          "paper_bgcolor": "white",
          "plot_bgcolor": "#E5ECF6",
          "polar": {
           "angularaxis": {
            "gridcolor": "white",
            "linecolor": "white",
            "ticks": ""
           },
           "bgcolor": "#E5ECF6",
           "radialaxis": {
            "gridcolor": "white",
            "linecolor": "white",
            "ticks": ""
           }
          },
          "scene": {
           "xaxis": {
            "backgroundcolor": "#E5ECF6",
            "gridcolor": "white",
            "gridwidth": 2,
            "linecolor": "white",
            "showbackground": true,
            "ticks": "",
            "zerolinecolor": "white"
           },
           "yaxis": {
            "backgroundcolor": "#E5ECF6",
            "gridcolor": "white",
            "gridwidth": 2,
            "linecolor": "white",
            "showbackground": true,
            "ticks": "",
            "zerolinecolor": "white"
           },
           "zaxis": {
            "backgroundcolor": "#E5ECF6",
            "gridcolor": "white",
            "gridwidth": 2,
            "linecolor": "white",
            "showbackground": true,
            "ticks": "",
            "zerolinecolor": "white"
           }
          },
          "shapedefaults": {
           "line": {
            "color": "#2a3f5f"
           }
          },
          "ternary": {
           "aaxis": {
            "gridcolor": "white",
            "linecolor": "white",
            "ticks": ""
           },
           "baxis": {
            "gridcolor": "white",
            "linecolor": "white",
            "ticks": ""
           },
           "bgcolor": "#E5ECF6",
           "caxis": {
            "gridcolor": "white",
            "linecolor": "white",
            "ticks": ""
           }
          },
          "title": {
           "x": 0.05
          },
          "xaxis": {
           "automargin": true,
           "gridcolor": "white",
           "linecolor": "white",
           "ticks": "",
           "title": {
            "standoff": 15
           },
           "zerolinecolor": "white",
           "zerolinewidth": 2
          },
          "yaxis": {
           "automargin": true,
           "gridcolor": "white",
           "linecolor": "white",
           "ticks": "",
           "title": {
            "standoff": 15
           },
           "zerolinecolor": "white",
           "zerolinewidth": 2
          }
         }
        },
        "title": {
         "text": "REGRESION<br>R2: 0.8941176470588236 RMSE: 2.1213203435596424"
        }
       }
      }
     },
     "metadata": {},
     "output_type": "display_data"
    }
   ],
   "source": [
    "# Predecir valores para el plano de regresión\n",
    "x1_range = np.linspace(min(X['width']), max(X['width']), 20)\n",
    "x2_range = np.linspace(min(X['shoe_size']), max(X['shoe_size']), 20)\n",
    "x1_mesh, x2_mesh = np.meshgrid(x1_range, x2_range)\n",
    "y_mesh = lr_first.predict(np.vstack((x1_mesh.ravel(), x2_mesh.ravel())).T).reshape(x1_mesh.shape)\n",
    "\n",
    "# Crear scatterplot 3D de los puntos\n",
    "scatter = go.Scatter3d(\n",
    "    x=X['width'], y=X['shoe_size'], z=y,\n",
    "    mode='markers',\n",
    "    marker=dict(size=8, color='red')\n",
    ")\n",
    "\n",
    "# Crear el plano de regresión\n",
    "surface = go.Surface(\n",
    "    x=x1_mesh, y=x2_mesh, z=y_mesh,\n",
    "    colorscale='Viridis', opacity=0.5\n",
    ")\n",
    "\n",
    "# Configuración del layout\n",
    "layout = go.Layout(\n",
    "    title=f\"REGRESION<br>R2: {r2_score(y_test_f, pred_first)} RMSE: {root_mean_squared_error(y_test_f, pred_first)}\",\n",
    "    scene=dict(\n",
    "        xaxis_title='Variable X1',\n",
    "        yaxis_title='Variable X2',\n",
    "        zaxis_title='Variable Y'\n",
    "    )\n",
    ")\n",
    "\n",
    "# Crear la figura\n",
    "fig = go.Figure(data=[scatter, surface], layout=layout)\n",
    "\n",
    "# Mostrar la figura interactiva\n",
    "fig.show()\n"
   ]
  },
  {
   "cell_type": "markdown",
   "metadata": {},
   "source": [
    "**¿Por qué seleccionaste ese modelo?**\n",
    "\n",
    "Al tener pocos datos decidimos hacer una regresión simple ya que es un modelo fácil de interpretar y de aplicar. Modelos más complejos pueden sobreajustar los datos sobretodo con la poca cantidad de datos que hay."
   ]
  },
  {
   "cell_type": "markdown",
   "metadata": {},
   "source": [
    "**¿Utilizaste alguna regularización?**\n",
    "\n",
    "No, se hizo una regresión lineal simple, sin regularización."
   ]
  },
  {
   "cell_type": "markdown",
   "metadata": {},
   "source": [
    "## Parte 2"
   ]
  },
  {
   "cell_type": "markdown",
   "metadata": {},
   "source": [
    "### Modelo Iteso"
   ]
  },
  {
   "cell_type": "code",
   "execution_count": 89,
   "metadata": {},
   "outputs": [],
   "source": [
    "path = \"datos_gente_1.csv\"\n",
    "\n",
    "df_comb = pd.read_csv(path)"
   ]
  },
  {
   "cell_type": "code",
   "execution_count": 90,
   "metadata": {},
   "outputs": [
    {
     "data": {
      "text/plain": [
       "array([[<Axes: title={'center': 'height'}>,\n",
       "        <Axes: title={'center': 'width'}>],\n",
       "       [<Axes: title={'center': 'shoe_size'}>, <Axes: >]], dtype=object)"
      ]
     },
     "execution_count": 90,
     "metadata": {},
     "output_type": "execute_result"
    },
    {
     "data": {
      "image/png": "[encoded data removed]",
      "text/plain": [
       "<Figure size 640x480 with 4 Axes>"
      ]
     },
     "metadata": {},
     "output_type": "display_data"
    }
   ],
   "source": [
    "df_comb.hist(bins=20)"
   ]
  },
  {
   "cell_type": "code",
   "execution_count": 91,
   "metadata": {},
   "outputs": [],
   "source": [
    "X = df_comb[[\"width\", \"shoe_size\"]]\n",
    "y = df_comb[\"height\"]"
   ]
  },
  {
   "cell_type": "code",
   "execution_count": 92,
   "metadata": {},
   "outputs": [
    {
     "data": {
      "text/plain": [
       "<matplotlib.collections.PathCollection at 0x19725fd3f10>"
      ]
     },
     "execution_count": 92,
     "metadata": {},
     "output_type": "execute_result"
    },
    {
     "data": {
      "image/png": "[encoded data removed]",
      "text/plain": [
       "<Figure size 640x480 with 1 Axes>"
      ]
     },
     "metadata": {},
     "output_type": "display_data"
    }
   ],
   "source": [
    "plt.scatter(df_comb[\"shoe_size\"], df_comb[\"height\"])"
   ]
  },
  {
   "cell_type": "code",
   "execution_count": 93,
   "metadata": {},
   "outputs": [],
   "source": [
    "q25 = np.quantile(y, 0.25)\n",
    "q75 = np.quantile(y, 0.75)\n",
    "\n",
    "df_left = df_comb[df_comb[\"height\"] <= q25]\n",
    "df_right = df_comb[df_comb[\"height\"] >= q75]\n",
    "df_center = df_comb[(df_comb[\"height\"] >= q25) & (df_comb[\"height\"] <= q75)] "
   ]
  },
  {
   "cell_type": "code",
   "execution_count": 94,
   "metadata": {},
   "outputs": [],
   "source": [
    "def sintetizar_datos(df_a_combinar, df_new):\n",
    "    X_left = df_new[[\"width\", \"shoe_size\"]]\n",
    "    y_left = df_new[\"height\"]\n",
    "\n",
    "    w_m = np.mean(df_new[\"width\"])\n",
    "    s_m = np.mean(df_new[\"shoe_size\"])\n",
    "    h_m = np.mean(df_new[\"height\"])\n",
    "\n",
    "    w_s = np.std(df_new[\"width\"])\n",
    "    s_s = np.std(df_new[\"shoe_size\"])\n",
    "    h_s = np.std(df_new[\"height\"])\n",
    "\n",
    "    new_data_w = np.random.normal(loc=w_m, scale=w_s, size=100)\n",
    "    new_data_s = np.random.normal(loc=s_m, scale=s_s, size=100)\n",
    "    new_data_h = np.random.normal(loc=h_m, scale=h_s, size=100)\n",
    "\n",
    "    new_sorted_w = sorted(new_data_w)\n",
    "    new_sorted_s = sorted(new_data_s)\n",
    "    new_sorted_h = sorted(new_data_h)\n",
    "\n",
    "    df_new_1 = pd.DataFrame({\n",
    "        \"width\": new_sorted_w,\n",
    "        \"shoe_size\": new_sorted_s,\n",
    "        \"height\": new_sorted_h\n",
    "    })\n",
    "\n",
    "    df_new_1 = df_new_1.apply(lambda x: round(x, 0))\n",
    "\n",
    "    df_a_combinar = pd.concat([df_a_combinar, df_new_1])\n",
    "    return df_a_combinar"
   ]
  },
  {
   "cell_type": "code",
   "execution_count": 95,
   "metadata": {},
   "outputs": [],
   "source": [
    "data_left = sintetizar_datos(df_comb, df_left)\n",
    "data_right = sintetizar_datos(df_comb, df_right)"
   ]
  },
  {
   "cell_type": "code",
   "execution_count": 96,
   "metadata": {},
   "outputs": [
    {
     "data": {
      "text/plain": [
       "(array([[<Axes: title={'center': 'height'}>,\n",
       "         <Axes: title={'center': 'width'}>],\n",
       "        [<Axes: title={'center': 'shoe_size'}>, <Axes: >]], dtype=object),\n",
       " array([[<Axes: title={'center': 'height'}>,\n",
       "         <Axes: title={'center': 'width'}>],\n",
       "        [<Axes: title={'center': 'shoe_size'}>, <Axes: >]], dtype=object))"
      ]
     },
     "execution_count": 96,
     "metadata": {},
     "output_type": "execute_result"
    },
    {
     "data": {
      "image/png": "[encoded data removed]",
      "text/plain": [
       "<Figure size 640x480 with 4 Axes>"
      ]
     },
     "metadata": {},
     "output_type": "display_data"
    },
    {
     "data": {
      "image/png": "[encoded data removed]",
      "text/plain": [
       "<Figure size 640x480 with 4 Axes>"
      ]
     },
     "metadata": {},
     "output_type": "display_data"
    }
   ],
   "source": [
    "data_left.hist(), data_right.hist()"
   ]
  },
  {
   "cell_type": "code",
   "execution_count": 97,
   "metadata": {},
   "outputs": [],
   "source": [
    "x_train_left, x_test_left, y_train_left, y_test_left = train_test_split(data_left.drop(\"height\", axis=1), data_left[\"height\"], test_size= 0.2, random_state=55)\n",
    "x_train_right, x_test_right, y_train_right, y_test_right = train_test_split(data_right.drop(\"height\", axis=1), data_right[\"height\"], test_size= 0.2, random_state=55)\n",
    "x_train_center, x_test_center, y_train_center, y_test_center = train_test_split(df_comb.drop(\"height\", axis=1), df_comb[\"height\"], test_size= 0.2, random_state=55)"
   ]
  },
  {
   "cell_type": "code",
   "execution_count": 98,
   "metadata": {},
   "outputs": [],
   "source": [
    "ss_left = StandardScaler()\n",
    "ss_right = StandardScaler()\n",
    "ss_center = StandardScaler()\n",
    "\n",
    "\n",
    "X_train_s_left = ss_left.fit_transform(x_train_left)\n",
    "X_test_s_left = ss_left.transform(x_test_left)\n",
    "\n",
    "X_train_s_right = ss_right.fit_transform(x_train_right)\n",
    "X_test_s_right = ss_right.transform(x_test_right)\n",
    "\n",
    "X_train_s_center = ss_center.fit_transform(x_train_center)\n",
    "X_test_s_center = ss_center.transform(x_test_center)"
   ]
  },
  {
   "cell_type": "markdown",
   "metadata": {},
   "source": [
    "### Right model\n",
    "\n",
    "Aqui se crea el modelo que predice de manera más adecuada los valores de la derecha"
   ]
  },
  {
   "cell_type": "code",
   "execution_count": 99,
   "metadata": {},
   "outputs": [
    {
     "name": "stdout",
     "output_type": "stream",
     "text": [
      "R2: 0.8449792894785325 RMSE: 3.333370117954255\n"
     ]
    }
   ],
   "source": [
    "rg_r = Ridge(alpha = 1.26)\n",
    "rg_r.fit(X_train_s_right, y_train_right)\n",
    "r_pred_right = rg_r.predict(X_test_s_right)\n",
    "print(f\"R2: {r2_score(y_test_right, r_pred_right)} RMSE: {root_mean_squared_error(y_test_right, r_pred_right)}\")"
   ]
  },
  {
   "cell_type": "code",
   "execution_count": 100,
   "metadata": {},
   "outputs": [
    {
     "name": "stdout",
     "output_type": "stream",
     "text": [
      "Pendientes: [1.84260725 7.22713543]\n",
      "Intercepto: 174.46979865771812\n"
     ]
    }
   ],
   "source": [
    "print(f\"Pendientes: {rg_r.coef_}\")\n",
    "print(f\"Intercepto: {rg_r.intercept_}\")"
   ]
  },
  {
   "cell_type": "code",
   "execution_count": 101,
   "metadata": {},
   "outputs": [
    {
     "name": "stderr",
     "output_type": "stream",
     "text": [
      "c:\\Users\\cesar\\anaconda3\\envs\\iteso\\lib\\site-packages\\sklearn\\base.py:493: UserWarning:\n",
      "\n",
      "X does not have valid feature names, but StandardScaler was fitted with feature names\n",
      "\n"
     ]
    }
   ],
   "source": [
    "values_para_right = ss_right.transform([[36,22.5]])"
   ]
  },
  {
   "cell_type": "code",
   "execution_count": 102,
   "metadata": {},
   "outputs": [
    {
     "data": {
      "text/plain": [
       "array([154.28366413])"
      ]
     },
     "execution_count": 102,
     "metadata": {},
     "output_type": "execute_result"
    }
   ],
   "source": [
    "rg_r.predict(values_para_right)"
   ]
  },
  {
   "cell_type": "code",
   "execution_count": 103,
   "metadata": {},
   "outputs": [
    {
     "name": "stderr",
     "output_type": "stream",
     "text": [
      "c:\\Users\\cesar\\anaconda3\\envs\\iteso\\lib\\site-packages\\sklearn\\base.py:493: UserWarning:\n",
      "\n",
      "X does not have valid feature names, but StandardScaler was fitted with feature names\n",
      "\n"
     ]
    },
    {
     "data": {
      "application/vnd.plotly.v1+json": {
       "config": {
        "plotlyServerURL": "https://plot.ly"
       },
       "data": [
        {
         "marker": {
          "color": "red",
          "opacity": 0.7,
          "size": 8
         },
         "mode": "markers",
         "type": "scatter3d",
         "x": [
          46,
          50,
          54,
          52,
          50,
          49,
          46,
          46,
          36,
          49,
          42,
          46,
          50,
          43,
          43,
          39,
          50,
          36,
          43,
          55,
          42,
          50,
          41,
          47,
          45,
          47,
          47,
          48,
          42,
          49,
          47,
          49,
          48,
          61,
          47,
          49,
          42,
          52
         ],
         "y": [
          28,
          28,
          30,
          29,
          29,
          29,
          28,
          28,
          23,
          29,
          26,
          28,
          29,
          27,
          27,
          24.5,
          29,
          22.5,
          28,
          30,
          27,
          29,
          23.5,
          28,
          27.5,
          28,
          27,
          27,
          28,
          29,
          28,
          29,
          28,
          26,
          28,
          27,
          27,
          29
         ],
         "z": [
          178,
          173,
          189,
          186,
          185,
          183,
          178,
          179,
          164,
          183,
          170,
          180,
          184,
          175,
          175,
          166,
          184,
          153,
          182,
          190,
          177,
          185,
          153,
          181,
          172,
          180,
          168,
          172,
          177,
          183,
          180,
          183,
          182,
          168,
          180,
          176,
          172,
          187
         ]
        },
        {
         "colorscale": [
          [
           0,
           "#440154"
          ],
          [
           0.1111111111111111,
           "#482878"
          ],
          [
           0.2222222222222222,
           "#3e4989"
          ],
          [
           0.3333333333333333,
           "#31688e"
          ],
          [
           0.4444444444444444,
           "#26828e"
          ],
          [
           0.5555555555555556,
           "#1f9e89"
          ],
          [
           0.6666666666666666,
           "#35b779"
          ],
          [
           0.7777777777777778,
           "#6ece58"
          ],
          [
           0.8888888888888888,
           "#b5de2b"
          ],
          [
           1,
           "#fde725"
          ]
         ],
         "opacity": 0.5,
         "type": "surface",
         "x": [
          [
           33,
           34.1578947368421,
           35.31578947368421,
           36.473684210526315,
           37.631578947368425,
           38.78947368421053,
           39.94736842105263,
           41.10526315789474,
           42.26315789473684,
           43.421052631578945,
           44.578947368421055,
           45.73684210526316,
           46.89473684210526,
           48.05263157894737,
           49.21052631578947,
           50.368421052631575,
           51.526315789473685,
           52.684210526315795,
           53.8421052631579,
           55
          ],
          [
           33,
           34.1578947368421,
           35.31578947368421,
           36.473684210526315,
           37.631578947368425,
           38.78947368421053,
           39.94736842105263,
           41.10526315789474,
           42.26315789473684,
           43.421052631578945,
           44.578947368421055,
           45.73684210526316,
           46.89473684210526,
           48.05263157894737,
           49.21052631578947,
           50.368421052631575,
           51.526315789473685,
           52.684210526315795,
           53.8421052631579,
           55
          ],
          [
           33,
           34.1578947368421,
           35.31578947368421,
           36.473684210526315,
           37.631578947368425,
           38.78947368421053,
           39.94736842105263,
           41.10526315789474,
           42.26315789473684,
           43.421052631578945,
           44.578947368421055,
           45.73684210526316,
           46.89473684210526,
           48.05263157894737,
           49.21052631578947,
           50.368421052631575,
           51.526315789473685,
           52.684210526315795,
           53.8421052631579,
           55
          ],
          [
           33,
           34.1578947368421,
           35.31578947368421,
           36.473684210526315,
           37.631578947368425,
           38.78947368421053,
           39.94736842105263,
           41.10526315789474,
           42.26315789473684,
           43.421052631578945,
           44.578947368421055,
           45.73684210526316,
           46.89473684210526,
           48.05263157894737,
           49.21052631578947,
           50.368421052631575,
           51.526315789473685,
           52.684210526315795,
           53.8421052631579,
           55
          ],
          [
           33,
           34.1578947368421,
           35.31578947368421,
           36.473684210526315,
           37.631578947368425,
           38.78947368421053,
           39.94736842105263,
           41.10526315789474,
           42.26315789473684,
           43.421052631578945,
           44.578947368421055,
           45.73684210526316,
           46.89473684210526,
           48.05263157894737,
           49.21052631578947,
           50.368421052631575,
           51.526315789473685,
           52.684210526315795,
           53.8421052631579,
           55
          ],
          [
           33,
           34.1578947368421,
           35.31578947368421,
           36.473684210526315,
           37.631578947368425,
           38.78947368421053,
           39.94736842105263,
           41.10526315789474,
           42.26315789473684,
           43.421052631578945,
           44.578947368421055,
           45.73684210526316,
           46.89473684210526,
           48.05263157894737,
           49.21052631578947,
           50.368421052631575,
           51.526315789473685,
           52.684210526315795,
           53.8421052631579,
           55
          ],
          [
           33,
           34.1578947368421,
           35.31578947368421,
           36.473684210526315,
           37.631578947368425,
           38.78947368421053,
           39.94736842105263,
           41.10526315789474,
           42.26315789473684,
           43.421052631578945,
           44.578947368421055,
           45.73684210526316,
           46.89473684210526,
           48.05263157894737,
           49.21052631578947,
           50.368421052631575,
           51.526315789473685,
           52.684210526315795,
           53.8421052631579,
           55
          ],
          [
           33,
           34.1578947368421,
           35.31578947368421,
           36.473684210526315,
           37.631578947368425,
           38.78947368421053,
           39.94736842105263,
           41.10526315789474,
           42.26315789473684,
           43.421052631578945,
           44.578947368421055,
           45.73684210526316,
           46.89473684210526,
           48.05263157894737,
           49.21052631578947,
           50.368421052631575,
           51.526315789473685,
           52.684210526315795,
           53.8421052631579,
           55
          ],
          [
           33,
           34.1578947368421,
           35.31578947368421,
           36.473684210526315,
           37.631578947368425,
           38.78947368421053,
           39.94736842105263,
           41.10526315789474,
           42.26315789473684,
           43.421052631578945,
           44.578947368421055,
           45.73684210526316,
           46.89473684210526,
           48.05263157894737,
           49.21052631578947,
           50.368421052631575,
           51.526315789473685,
           52.684210526315795,
           53.8421052631579,
           55
          ],
          [
           33,
           34.1578947368421,
           35.31578947368421,
           36.473684210526315,
           37.631578947368425,
           38.78947368421053,
           39.94736842105263,
           41.10526315789474,
           42.26315789473684,
           43.421052631578945,
           44.578947368421055,
           45.73684210526316,
           46.89473684210526,
           48.05263157894737,
           49.21052631578947,
           50.368421052631575,
           51.526315789473685,
           52.684210526315795,
           53.8421052631579,
           55
          ],
          [
           33,
           34.1578947368421,
           35.31578947368421,
           36.473684210526315,
           37.631578947368425,
           38.78947368421053,
           39.94736842105263,
           41.10526315789474,
           42.26315789473684,
           43.421052631578945,
           44.578947368421055,
           45.73684210526316,
           46.89473684210526,
           48.05263157894737,
           49.21052631578947,
           50.368421052631575,
           51.526315789473685,
           52.684210526315795,
           53.8421052631579,
           55
          ],
          [
           33,
           34.1578947368421,
           35.31578947368421,
           36.473684210526315,
           37.631578947368425,
           38.78947368421053,
           39.94736842105263,
           41.10526315789474,
           42.26315789473684,
           43.421052631578945,
           44.578947368421055,
           45.73684210526316,
           46.89473684210526,
           48.05263157894737,
           49.21052631578947,
           50.368421052631575,
           51.526315789473685,
           52.684210526315795,
           53.8421052631579,
           55
          ],
          [
           33,
           34.1578947368421,
           35.31578947368421,
           36.473684210526315,
           37.631578947368425,
           38.78947368421053,
           39.94736842105263,
           41.10526315789474,
           42.26315789473684,
           43.421052631578945,
           44.578947368421055,
           45.73684210526316,
           46.89473684210526,
           48.05263157894737,
           49.21052631578947,
           50.368421052631575,
           51.526315789473685,
           52.684210526315795,
           53.8421052631579,
           55
          ],
          [
           33,
           34.1578947368421,
           35.31578947368421,
           36.473684210526315,
           37.631578947368425,
           38.78947368421053,
           39.94736842105263,
           41.10526315789474,
           42.26315789473684,
           43.421052631578945,
           44.578947368421055,
           45.73684210526316,
           46.89473684210526,
           48.05263157894737,
           49.21052631578947,
           50.368421052631575,
           51.526315789473685,
           52.684210526315795,
           53.8421052631579,
           55
          ],
          [
           33,
           34.1578947368421,
           35.31578947368421,
           36.473684210526315,
           37.631578947368425,
           38.78947368421053,
           39.94736842105263,
           41.10526315789474,
           42.26315789473684,
           43.421052631578945,
           44.578947368421055,
           45.73684210526316,
           46.89473684210526,
           48.05263157894737,
           49.21052631578947,
           50.368421052631575,
           51.526315789473685,
           52.684210526315795,
           53.8421052631579,
           55
          ],
          [
           33,
           34.1578947368421,
           35.31578947368421,
           36.473684210526315,
           37.631578947368425,
           38.78947368421053,
           39.94736842105263,
           41.10526315789474,
           42.26315789473684,
           43.421052631578945,
           44.578947368421055,
           45.73684210526316,
           46.89473684210526,
           48.05263157894737,
           49.21052631578947,
           50.368421052631575,
           51.526315789473685,
           52.684210526315795,
           53.8421052631579,
           55
          ],
          [
           33,
           34.1578947368421,
           35.31578947368421,
           36.473684210526315,
           37.631578947368425,
           38.78947368421053,
           39.94736842105263,
           41.10526315789474,
           42.26315789473684,
           43.421052631578945,
           44.578947368421055,
           45.73684210526316,
           46.89473684210526,
           48.05263157894737,
           49.21052631578947,
           50.368421052631575,
           51.526315789473685,
           52.684210526315795,
           53.8421052631579,
           55
          ],
          [
           33,
           34.1578947368421,
           35.31578947368421,
           36.473684210526315,
           37.631578947368425,
           38.78947368421053,
           39.94736842105263,
           41.10526315789474,
           42.26315789473684,
           43.421052631578945,
           44.578947368421055,
           45.73684210526316,
           46.89473684210526,
           48.05263157894737,
           49.21052631578947,
           50.368421052631575,
           51.526315789473685,
           52.684210526315795,
           53.8421052631579,
           55
          ],
          [
           33,
           34.1578947368421,
           35.31578947368421,
           36.473684210526315,
           37.631578947368425,
           38.78947368421053,
           39.94736842105263,
           41.10526315789474,
           42.26315789473684,
           43.421052631578945,
           44.578947368421055,
           45.73684210526316,
           46.89473684210526,
           48.05263157894737,
           49.21052631578947,
           50.368421052631575,
           51.526315789473685,
           52.684210526315795,
           53.8421052631579,
           55
          ],
          [
           33,
           34.1578947368421,
           35.31578947368421,
           36.473684210526315,
           37.631578947368425,
           38.78947368421053,
           39.94736842105263,
           41.10526315789474,
           42.26315789473684,
           43.421052631578945,
           44.578947368421055,
           45.73684210526316,
           46.89473684210526,
           48.05263157894737,
           49.21052631578947,
           50.368421052631575,
           51.526315789473685,
           52.684210526315795,
           53.8421052631579,
           55
          ]
         ],
         "y": [
          [
           22,
           22,
           22,
           22,
           22,
           22,
           22,
           22,
           22,
           22,
           22,
           22,
           22,
           22,
           22,
           22,
           22,
           22,
           22,
           22
          ],
          [
           22.473684210526315,
           22.473684210526315,
           22.473684210526315,
           22.473684210526315,
           22.473684210526315,
           22.473684210526315,
           22.473684210526315,
           22.473684210526315,
           22.473684210526315,
           22.473684210526315,
           22.473684210526315,
           22.473684210526315,
           22.473684210526315,
           22.473684210526315,
           22.473684210526315,
           22.473684210526315,
           22.473684210526315,
           22.473684210526315,
           22.473684210526315,
           22.473684210526315
          ],
          [
           22.94736842105263,
           22.94736842105263,
           22.94736842105263,
           22.94736842105263,
           22.94736842105263,
           22.94736842105263,
           22.94736842105263,
           22.94736842105263,
           22.94736842105263,
           22.94736842105263,
           22.94736842105263,
           22.94736842105263,
           22.94736842105263,
           22.94736842105263,
           22.94736842105263,
           22.94736842105263,
           22.94736842105263,
           22.94736842105263,
           22.94736842105263,
           22.94736842105263
          ],
          [
           23.42105263157895,
           23.42105263157895,
           23.42105263157895,
           23.42105263157895,
           23.42105263157895,
           23.42105263157895,
           23.42105263157895,
           23.42105263157895,
           23.42105263157895,
           23.42105263157895,
           23.42105263157895,
           23.42105263157895,
           23.42105263157895,
           23.42105263157895,
           23.42105263157895,
           23.42105263157895,
           23.42105263157895,
           23.42105263157895,
           23.42105263157895,
           23.42105263157895
          ],
          [
           23.894736842105264,
           23.894736842105264,
           23.894736842105264,
           23.894736842105264,
           23.894736842105264,
           23.894736842105264,
           23.894736842105264,
           23.894736842105264,
           23.894736842105264,
           23.894736842105264,
           23.894736842105264,
           23.894736842105264,
           23.894736842105264,
           23.894736842105264,
           23.894736842105264,
           23.894736842105264,
           23.894736842105264,
           23.894736842105264,
           23.894736842105264,
           23.894736842105264
          ],
          [
           24.36842105263158,
           24.36842105263158,
           24.36842105263158,
           24.36842105263158,
           24.36842105263158,
           24.36842105263158,
           24.36842105263158,
           24.36842105263158,
           24.36842105263158,
           24.36842105263158,
           24.36842105263158,
           24.36842105263158,
           24.36842105263158,
           24.36842105263158,
           24.36842105263158,
           24.36842105263158,
           24.36842105263158,
           24.36842105263158,
           24.36842105263158,
           24.36842105263158
          ],
          [
           24.842105263157894,
           24.842105263157894,
           24.842105263157894,
           24.842105263157894,
           24.842105263157894,
           24.842105263157894,
           24.842105263157894,
           24.842105263157894,
           24.842105263157894,
           24.842105263157894,
           24.842105263157894,
           24.842105263157894,
           24.842105263157894,
           24.842105263157894,
           24.842105263157894,
           24.842105263157894,
           24.842105263157894,
           24.842105263157894,
           24.842105263157894,
           24.842105263157894
          ],
          [
           25.31578947368421,
           25.31578947368421,
           25.31578947368421,
           25.31578947368421,
           25.31578947368421,
           25.31578947368421,
           25.31578947368421,
           25.31578947368421,
           25.31578947368421,
           25.31578947368421,
           25.31578947368421,
           25.31578947368421,
           25.31578947368421,
           25.31578947368421,
           25.31578947368421,
           25.31578947368421,
           25.31578947368421,
           25.31578947368421,
           25.31578947368421,
           25.31578947368421
          ],
          [
           25.789473684210527,
           25.789473684210527,
           25.789473684210527,
           25.789473684210527,
           25.789473684210527,
           25.789473684210527,
           25.789473684210527,
           25.789473684210527,
           25.789473684210527,
           25.789473684210527,
           25.789473684210527,
           25.789473684210527,
           25.789473684210527,
           25.789473684210527,
           25.789473684210527,
           25.789473684210527,
           25.789473684210527,
           25.789473684210527,
           25.789473684210527,
           25.789473684210527
          ],
          [
           26.263157894736842,
           26.263157894736842,
           26.263157894736842,
           26.263157894736842,
           26.263157894736842,
           26.263157894736842,
           26.263157894736842,
           26.263157894736842,
           26.263157894736842,
           26.263157894736842,
           26.263157894736842,
           26.263157894736842,
           26.263157894736842,
           26.263157894736842,
           26.263157894736842,
           26.263157894736842,
           26.263157894736842,
           26.263157894736842,
           26.263157894736842,
           26.263157894736842
          ],
          [
           26.736842105263158,
           26.736842105263158,
           26.736842105263158,
           26.736842105263158,
           26.736842105263158,
           26.736842105263158,
           26.736842105263158,
           26.736842105263158,
           26.736842105263158,
           26.736842105263158,
           26.736842105263158,
           26.736842105263158,
           26.736842105263158,
           26.736842105263158,
           26.736842105263158,
           26.736842105263158,
           26.736842105263158,
           26.736842105263158,
           26.736842105263158,
           26.736842105263158
          ],
          [
           27.210526315789473,
           27.210526315789473,
           27.210526315789473,
           27.210526315789473,
           27.210526315789473,
           27.210526315789473,
           27.210526315789473,
           27.210526315789473,
           27.210526315789473,
           27.210526315789473,
           27.210526315789473,
           27.210526315789473,
           27.210526315789473,
           27.210526315789473,
           27.210526315789473,
           27.210526315789473,
           27.210526315789473,
           27.210526315789473,
           27.210526315789473,
           27.210526315789473
          ],
          [
           27.684210526315788,
           27.684210526315788,
           27.684210526315788,
           27.684210526315788,
           27.684210526315788,
           27.684210526315788,
           27.684210526315788,
           27.684210526315788,
           27.684210526315788,
           27.684210526315788,
           27.684210526315788,
           27.684210526315788,
           27.684210526315788,
           27.684210526315788,
           27.684210526315788,
           27.684210526315788,
           27.684210526315788,
           27.684210526315788,
           27.684210526315788,
           27.684210526315788
          ],
          [
           28.157894736842106,
           28.157894736842106,
           28.157894736842106,
           28.157894736842106,
           28.157894736842106,
           28.157894736842106,
           28.157894736842106,
           28.157894736842106,
           28.157894736842106,
           28.157894736842106,
           28.157894736842106,
           28.157894736842106,
           28.157894736842106,
           28.157894736842106,
           28.157894736842106,
           28.157894736842106,
           28.157894736842106,
           28.157894736842106,
           28.157894736842106,
           28.157894736842106
          ],
          [
           28.63157894736842,
           28.63157894736842,
           28.63157894736842,
           28.63157894736842,
           28.63157894736842,
           28.63157894736842,
           28.63157894736842,
           28.63157894736842,
           28.63157894736842,
           28.63157894736842,
           28.63157894736842,
           28.63157894736842,
           28.63157894736842,
           28.63157894736842,
           28.63157894736842,
           28.63157894736842,
           28.63157894736842,
           28.63157894736842,
           28.63157894736842,
           28.63157894736842
          ],
          [
           29.105263157894736,
           29.105263157894736,
           29.105263157894736,
           29.105263157894736,
           29.105263157894736,
           29.105263157894736,
           29.105263157894736,
           29.105263157894736,
           29.105263157894736,
           29.105263157894736,
           29.105263157894736,
           29.105263157894736,
           29.105263157894736,
           29.105263157894736,
           29.105263157894736,
           29.105263157894736,
           29.105263157894736,
           29.105263157894736,
           29.105263157894736,
           29.105263157894736
          ],
          [
           29.57894736842105,
           29.57894736842105,
           29.57894736842105,
           29.57894736842105,
           29.57894736842105,
           29.57894736842105,
           29.57894736842105,
           29.57894736842105,
           29.57894736842105,
           29.57894736842105,
           29.57894736842105,
           29.57894736842105,
           29.57894736842105,
           29.57894736842105,
           29.57894736842105,
           29.57894736842105,
           29.57894736842105,
           29.57894736842105,
           29.57894736842105,
           29.57894736842105
          ],
          [
           30.05263157894737,
           30.05263157894737,
           30.05263157894737,
           30.05263157894737,
           30.05263157894737,
           30.05263157894737,
           30.05263157894737,
           30.05263157894737,
           30.05263157894737,
           30.05263157894737,
           30.05263157894737,
           30.05263157894737,
           30.05263157894737,
           30.05263157894737,
           30.05263157894737,
           30.05263157894737,
           30.05263157894737,
           30.05263157894737,
           30.05263157894737,
           30.05263157894737
          ],
          [
           30.526315789473685,
           30.526315789473685,
           30.526315789473685,
           30.526315789473685,
           30.526315789473685,
           30.526315789473685,
           30.526315789473685,
           30.526315789473685,
           30.526315789473685,
           30.526315789473685,
           30.526315789473685,
           30.526315789473685,
           30.526315789473685,
           30.526315789473685,
           30.526315789473685,
           30.526315789473685,
           30.526315789473685,
           30.526315789473685,
           30.526315789473685,
           30.526315789473685
          ],
          [
           31,
           31,
           31,
           31,
           31,
           31,
           31,
           31,
           31,
           31,
           31,
           31,
           31,
           31,
           31,
           31,
           31,
           31,
           31,
           31
          ]
         ],
         "z": [
          [
           151.19458614316292,
           151.67893282159483,
           152.16327950002676,
           152.6476261784587,
           153.13197285689063,
           153.61631953532253,
           154.10066621375447,
           154.5850128921864,
           155.0693595706183,
           155.55370624905024,
           156.03805292748214,
           156.52239960591407,
           157.006746284346,
           157.4910929627779,
           157.97543964120985,
           158.45978631964178,
           158.94413299807368,
           159.42847967650562,
           159.91282635493755,
           160.39717303336946
          ],
          [
           152.9322301372147,
           153.4165768156466,
           153.90092349407854,
           154.38527017251047,
           154.86961685094238,
           155.3539635293743,
           155.83831020780624,
           156.32265688623815,
           156.80700356467008,
           157.29135024310202,
           157.77569692153392,
           158.26004359996585,
           158.7443902783978,
           159.2287369568297,
           159.71308363526163,
           160.19743031369353,
           160.68177699212546,
           161.1661236705574,
           161.65047034898933,
           162.13481702742124
          ],
          [
           154.66987413126645,
           155.1542208096984,
           155.63856748813032,
           156.12291416656223,
           156.60726084499416,
           157.0916075234261,
           157.575954201858,
           158.06030088028993,
           158.54464755872186,
           159.02899423715377,
           159.5133409155857,
           159.99768759401763,
           160.48203427244954,
           160.96638095088147,
           161.4507276293134,
           161.9350743077453,
           162.41942098617724,
           162.90376766460918,
           163.38811434304108,
           163.87246102147301
          ],
          [
           156.40751812531826,
           156.89186480375017,
           157.3762114821821,
           157.86055816061403,
           158.34490483904597,
           158.82925151747787,
           159.3135981959098,
           159.7979448743417,
           160.28229155277364,
           160.76663823120558,
           161.25098490963748,
           161.7353315880694,
           162.21967826650135,
           162.70402494493325,
           163.18837162336519,
           163.67271830179712,
           164.15706498022902,
           164.64141165866096,
           165.1257583370929,
           165.6101050155248
          ],
          [
           158.14516211937,
           158.62950879780195,
           159.11385547623388,
           159.59820215466578,
           160.08254883309772,
           160.56689551152965,
           161.05124218996156,
           161.5355888683935,
           162.01993554682542,
           162.50428222525733,
           162.98862890368926,
           163.4729755821212,
           163.9573222605531,
           164.44166893898503,
           164.92601561741697,
           165.41036229584887,
           165.8947089742808,
           166.37905565271274,
           166.86340233114467,
           167.34774900957657
          ],
          [
           159.8828061134218,
           160.36715279185373,
           160.85149947028566,
           161.33584614871756,
           161.8201928271495,
           162.30453950558143,
           162.78888618401334,
           163.27323286244527,
           163.7575795408772,
           164.2419262193091,
           164.72627289774104,
           165.21061957617297,
           165.69496625460488,
           166.1793129330368,
           166.66365961146874,
           167.14800628990065,
           167.63235296833258,
           168.11669964676452,
           168.60104632519642,
           169.08539300362835
          ],
          [
           161.62045010747357,
           162.1047967859055,
           162.58914346433744,
           163.07349014276934,
           163.55783682120128,
           164.0421834996332,
           164.52653017806512,
           165.01087685649705,
           165.49522353492898,
           165.9795702133609,
           166.46391689179282,
           166.94826357022475,
           167.43261024865666,
           167.9169569270886,
           168.4013036055205,
           168.88565028395243,
           169.36999696238436,
           169.8543436408163,
           170.3386903192482,
           170.82303699768013
          ],
          [
           163.35809410152535,
           163.8424407799573,
           164.3267874583892,
           164.81113413682112,
           165.29548081525306,
           165.77982749368496,
           166.2641741721169,
           166.74852085054883,
           167.23286752898073,
           167.71721420741267,
           168.2015608858446,
           168.6859075642765,
           169.17025424270844,
           169.65460092114037,
           170.13894759957228,
           170.6232942780042,
           171.10764095643614,
           171.59198763486805,
           172.07633431329998,
           172.5606809917319
          ],
          [
           165.09573809557713,
           165.58008477400907,
           166.064431452441,
           166.5487781308729,
           167.03312480930484,
           167.51747148773677,
           168.00181816616868,
           168.4861648446006,
           168.97051152303254,
           169.45485820146445,
           169.93920487989638,
           170.4235515583283,
           170.90789823676022,
           171.39224491519215,
           171.87659159362408,
           172.360938272056,
           172.84528495048792,
           173.32963162891986,
           173.81397830735176,
           174.2983249857837
          ],
          [
           166.8333820896289,
           167.31772876806085,
           167.80207544649275,
           168.28642212492468,
           168.77076880335662,
           169.25511548178852,
           169.73946216022046,
           170.2238088386524,
           170.7081555170843,
           171.19250219551623,
           171.67684887394816,
           172.16119555238006,
           172.645542230812,
           173.12988890924393,
           173.61423558767584,
           174.09858226610777,
           174.5829289445397,
           175.0672756229716,
           175.55162230140354,
           176.03596897983547
          ],
          [
           168.5710260836807,
           169.05537276211263,
           169.53971944054453,
           170.02406611897646,
           170.5084127974084,
           170.9927594758403,
           171.47710615427224,
           171.96145283270417,
           172.44579951113607,
           172.930146189568,
           173.41449286799994,
           173.89883954643184,
           174.38318622486378,
           174.8675329032957,
           175.35187958172762,
           175.83622626015955,
           176.32057293859148,
           176.8049196170234,
           177.28926629545532,
           177.77361297388725
          ],
          [
           170.30867007773247,
           170.79301675616438,
           171.2773634345963,
           171.76171011302824,
           172.24605679146015,
           172.73040346989208,
           173.21475014832401,
           173.69909682675592,
           174.18344350518785,
           174.6677901836198,
           175.1521368620517,
           175.63648354048362,
           176.12083021891556,
           176.60517689734746,
           177.0895235757794,
           177.57387025421133,
           178.05821693264323,
           178.54256361107517,
           179.0269102895071,
           179.511256967939
          ],
          [
           172.04631407178425,
           172.53066075021616,
           173.0150074286481,
           173.49935410708002,
           173.98370078551193,
           174.46804746394386,
           174.9523941423758,
           175.4367408208077,
           175.92108749923963,
           176.40543417767157,
           176.88978085610347,
           177.3741275345354,
           177.8584742129673,
           178.34282089139924,
           178.82716756983118,
           179.31151424826308,
           179.795860926695,
           180.28020760512695,
           180.76455428355888,
           181.24890096199078
          ],
          [
           173.78395806583603,
           174.26830474426794,
           174.75265142269987,
           175.2369981011318,
           175.72134477956374,
           176.20569145799564,
           176.69003813642757,
           177.1743848148595,
           177.6587314932914,
           178.14307817172335,
           178.62742485015528,
           179.11177152858718,
           179.59611820701912,
           180.08046488545102,
           180.56481156388296,
           181.0491582423149,
           181.5335049207468,
           182.01785159917873,
           182.50219827761066,
           182.98654495604256
          ],
          [
           175.5216020598878,
           176.00594873831972,
           176.49029541675165,
           176.97464209518358,
           177.4589887736155,
           177.94333545204742,
           178.42768213047935,
           178.91202880891126,
           179.3963754873432,
           179.88072216577513,
           180.36506884420703,
           180.84941552263896,
           181.3337622010709,
           181.8181088795028,
           182.30245555793473,
           182.78680223636667,
           183.27114891479857,
           183.7554955932305,
           184.23984227166244,
           184.72418895009434
          ],
          [
           177.25924605393956,
           177.7435927323715,
           178.22793941080343,
           178.71228608923533,
           179.19663276766727,
           179.6809794460992,
           180.1653261245311,
           180.64967280296304,
           181.13401948139497,
           181.61836615982688,
           182.1027128382588,
           182.58705951669074,
           183.07140619512265,
           183.55575287355458,
           184.04009955198651,
           184.52444623041842,
           185.00879290885035,
           185.4931395872823,
           185.97748626571422,
           186.46183294414612
          ],
          [
           178.99689004799134,
           179.48123672642328,
           179.9655834048552,
           180.44993008328711,
           180.93427676171905,
           181.41862344015098,
           181.90297011858289,
           182.38731679701482,
           182.87166347544675,
           183.35601015387866,
           183.8403568323106,
           184.32470351074252,
           184.80905018917443,
           185.29339686760636,
           185.7777435460383,
           186.2620902244702,
           186.74643690290213,
           187.23078358133407,
           187.71513025976597,
           188.1994769381979
          ],
          [
           180.73453404204315,
           181.21888072047506,
           181.703227398907,
           182.18757407733892,
           182.67192075577083,
           183.15626743420276,
           183.6406141126347,
           184.1249607910666,
           184.60930746949853,
           185.09365414793047,
           185.57800082636237,
           186.0623475047943,
           186.54669418322624,
           187.03104086165814,
           187.51538754009007,
           187.999734218522,
           188.4840808969539,
           188.96842757538585,
           189.45277425381778,
           189.93712093224968
          ],
          [
           182.4721780360949,
           182.95652471452684,
           183.44087139295877,
           183.92521807139067,
           184.4095647498226,
           184.89391142825454,
           185.37825810668645,
           185.86260478511838,
           186.3469514635503,
           186.83129814198222,
           187.31564482041415,
           187.79999149884608,
           188.284338177278,
           188.76868485570992,
           189.25303153414185,
           189.73737821257376,
           190.2217248910057,
           190.70607156943763,
           191.19041824786956,
           191.67476492630146
          ],
          [
           184.20982203014668,
           184.69416870857862,
           185.17851538701055,
           185.66286206544245,
           186.1472087438744,
           186.63155542230632,
           187.11590210073823,
           187.60024877917016,
           188.0845954576021,
           188.568942136034,
           189.05328881446593,
           189.53763549289786,
           190.02198217132977,
           190.5063288497617,
           190.9906755281936,
           191.47502220662554,
           191.95936888505747,
           192.4437155634894,
           192.9280622419213,
           193.41240892035324
          ]
         ]
        }
       ],
       "layout": {
        "scene": {
         "xaxis": {
          "title": {
           "text": "Ancho"
          }
         },
         "yaxis": {
          "title": {
           "text": "Pie"
          }
         },
         "zaxis": {
          "title": {
           "text": "Altura"
          }
         }
        },
        "template": {
         "data": {
          "bar": [
           {
            "error_x": {
             "color": "#2a3f5f"
            },
            "error_y": {
             "color": "#2a3f5f"
            },
            "marker": {
             "line": {
              "color": "#E5ECF6",
              "width": 0.5
             },
             "pattern": {
              "fillmode": "overlay",
              "size": 10,
              "solidity": 0.2
             }
            },
            "type": "bar"
           }
          ],
          "barpolar": [
           {
            "marker": {
             "line": {
              "color": "#E5ECF6",
              "width": 0.5
             },
             "pattern": {
              "fillmode": "overlay",
              "size": 10,
              "solidity": 0.2
             }
            },
            "type": "barpolar"
           }
          ],
          "carpet": [
           {
            "aaxis": {
             "endlinecolor": "#2a3f5f",
             "gridcolor": "white",
             "linecolor": "white",
             "minorgridcolor": "white",
             "startlinecolor": "#2a3f5f"
            },
            "baxis": {
             "endlinecolor": "#2a3f5f",
             "gridcolor": "white",
             "linecolor": "white",
             "minorgridcolor": "white",
             "startlinecolor": "#2a3f5f"
            },
            "type": "carpet"
           }
          ],
          "choropleth": [
           {
            "colorbar": {
             "outlinewidth": 0,
             "ticks": ""
            },
            "type": "choropleth"
           }
          ],
          "contour": [
           {
            "colorbar": {
             "outlinewidth": 0,
             "ticks": ""
            },
            "colorscale": [
             [
              0,
              "#0d0887"
             ],
             [
              0.1111111111111111,
              "#46039f"
             ],
             [
              0.2222222222222222,
              "#7201a8"
             ],
             [
              0.3333333333333333,
              "#9c179e"
             ],
             [
              0.4444444444444444,
              "#bd3786"
             ],
             [
              0.5555555555555556,
              "#d8576b"
             ],
             [
              0.6666666666666666,
              "#ed7953"
             ],
             [
              0.7777777777777778,
              "#fb9f3a"
             ],
             [
              0.8888888888888888,
              "#fdca26"
             ],
             [
              1,
              "#f0f921"
             ]
            ],
            "type": "contour"
           }
          ],
          "contourcarpet": [
           {
            "colorbar": {
             "outlinewidth": 0,
             "ticks": ""
            },
            "type": "contourcarpet"
           }
          ],
          "heatmap": [
           {
            "colorbar": {
             "outlinewidth": 0,
             "ticks": ""
            },
            "colorscale": [
             [
              0,
              "#0d0887"
             ],
             [
              0.1111111111111111,
              "#46039f"
             ],
             [
              0.2222222222222222,
              "#7201a8"
             ],
             [
              0.3333333333333333,
              "#9c179e"
             ],
             [
              0.4444444444444444,
              "#bd3786"
             ],
             [
              0.5555555555555556,
              "#d8576b"
             ],
             [
              0.6666666666666666,
              "#ed7953"
             ],
             [
              0.7777777777777778,
              "#fb9f3a"
             ],
             [
              0.8888888888888888,
              "#fdca26"
             ],
             [
              1,
              "#f0f921"
             ]
            ],
            "type": "heatmap"
           }
          ],
          "heatmapgl": [
           {
            "colorbar": {
             "outlinewidth": 0,
             "ticks": ""
            },
            "colorscale": [
             [
              0,
              "#0d0887"
             ],
             [
              0.1111111111111111,
              "#46039f"
             ],
             [
              0.2222222222222222,
              "#7201a8"
             ],
             [
              0.3333333333333333,
              "#9c179e"
             ],
             [
              0.4444444444444444,
              "#bd3786"
             ],
             [
              0.5555555555555556,
              "#d8576b"
             ],
             [
              0.6666666666666666,
              "#ed7953"
             ],
             [
              0.7777777777777778,
              "#fb9f3a"
             ],
             [
              0.8888888888888888,
              "#fdca26"
             ],
             [
              1,
              "#f0f921"
             ]
            ],
            "type": "heatmapgl"
           }
          ],
          "histogram": [
           {
            "marker": {
             "pattern": {
              "fillmode": "overlay",
              "size": 10,
              "solidity": 0.2
             }
            },
            "type": "histogram"
           }
          ],
          "histogram2d": [
           {
            "colorbar": {
             "outlinewidth": 0,
             "ticks": ""
            },
            "colorscale": [
             [
              0,
              "#0d0887"
             ],
             [
              0.1111111111111111,
              "#46039f"
             ],
             [
              0.2222222222222222,
              "#7201a8"
             ],
             [
              0.3333333333333333,
              "#9c179e"
             ],
             [
              0.4444444444444444,
              "#bd3786"
             ],
             [
              0.5555555555555556,
              "#d8576b"
             ],
             [
              0.6666666666666666,
              "#ed7953"
             ],
             [
              0.7777777777777778,
              "#fb9f3a"
             ],
             [
              0.8888888888888888,
              "#fdca26"
             ],
             [
              1,
              "#f0f921"
             ]
            ],
            "type": "histogram2d"
           }
          ],
          "histogram2dcontour": [
           {
            "colorbar": {
             "outlinewidth": 0,
             "ticks": ""
            },
            "colorscale": [
             [
              0,
              "#0d0887"
             ],
             [
              0.1111111111111111,
              "#46039f"
             ],
             [
              0.2222222222222222,
              "#7201a8"
             ],
             [
              0.3333333333333333,
              "#9c179e"
             ],
             [
              0.4444444444444444,
              "#bd3786"
             ],
             [
              0.5555555555555556,
              "#d8576b"
             ],
             [
              0.6666666666666666,
              "#ed7953"
             ],
             [
              0.7777777777777778,
              "#fb9f3a"
             ],
             [
              0.8888888888888888,
              "#fdca26"
             ],
             [
              1,
              "#f0f921"
             ]
            ],
            "type": "histogram2dcontour"
           }
          ],
          "mesh3d": [
           {
            "colorbar": {
             "outlinewidth": 0,
             "ticks": ""
            },
            "type": "mesh3d"
           }
          ],
          "parcoords": [
           {
            "line": {
             "colorbar": {
              "outlinewidth": 0,
              "ticks": ""
             }
            },
            "type": "parcoords"
           }
          ],
          "pie": [
           {
            "automargin": true,
            "type": "pie"
           }
          ],
          "scatter": [
           {
            "fillpattern": {
             "fillmode": "overlay",
             "size": 10,
             "solidity": 0.2
            },
            "type": "scatter"
           }
          ],
          "scatter3d": [
           {
            "line": {
             "colorbar": {
              "outlinewidth": 0,
              "ticks": ""
             }
            },
            "marker": {
             "colorbar": {
              "outlinewidth": 0,
              "ticks": ""
             }
            },
            "type": "scatter3d"
           }
          ],
          "scattercarpet": [
           {
            "marker": {
             "colorbar": {
              "outlinewidth": 0,
              "ticks": ""
             }
            },
            "type": "scattercarpet"
           }
          ],
          "scattergeo": [
           {
            "marker": {
             "colorbar": {
              "outlinewidth": 0,
              "ticks": ""
             }
            },
            "type": "scattergeo"
           }
          ],
          "scattergl": [
           {
            "marker": {
             "colorbar": {
              "outlinewidth": 0,
              "ticks": ""
             }
            },
            "type": "scattergl"
           }
          ],
          "scattermapbox": [
           {
            "marker": {
             "colorbar": {
              "outlinewidth": 0,
              "ticks": ""
             }
            },
            "type": "scattermapbox"
           }
          ],
          "scatterpolar": [
           {
            "marker": {
             "colorbar": {
              "outlinewidth": 0,
              "ticks": ""
             }
            },
            "type": "scatterpolar"
           }
          ],
          "scatterpolargl": [
           {
            "marker": {
             "colorbar": {
              "outlinewidth": 0,
              "ticks": ""
             }
            },
            "type": "scatterpolargl"
           }
          ],
          "scatterternary": [
           {
            "marker": {
             "colorbar": {
              "outlinewidth": 0,
              "ticks": ""
             }
            },
            "type": "scatterternary"
           }
          ],
          "surface": [
           {
            "colorbar": {
             "outlinewidth": 0,
             "ticks": ""
            },
            "colorscale": [
             [
              0,
              "#0d0887"
             ],
             [
              0.1111111111111111,
              "#46039f"
             ],
             [
              0.2222222222222222,
              "#7201a8"
             ],
             [
              0.3333333333333333,
              "#9c179e"
             ],
             [
              0.4444444444444444,
              "#bd3786"
             ],
             [
              0.5555555555555556,
              "#d8576b"
             ],
             [
              0.6666666666666666,
              "#ed7953"
             ],
             [
              0.7777777777777778,
              "#fb9f3a"
             ],
             [
              0.8888888888888888,
              "#fdca26"
             ],
             [
              1,
              "#f0f921"
             ]
            ],
            "type": "surface"
           }
          ],
          "table": [
           {
            "cells": {
             "fill": {
              "color": "#EBF0F8"
             },
             "line": {
              "color": "white"
             }
            },
            "header": {
             "fill": {
              "color": "#C8D4E3"
             },
             "line": {
              "color": "white"
             }
            },
            "type": "table"
           }
          ]
         },
         "layout": {
          "annotationdefaults": {
           "arrowcolor": "#2a3f5f",
           "arrowhead": 0,
           "arrowwidth": 1
          },
          "autotypenumbers": "strict",
          "coloraxis": {
           "colorbar": {
            "outlinewidth": 0,
            "ticks": ""
           }
          },
          "colorscale": {
           "diverging": [
            [
             0,
             "#8e0152"
            ],
            [
             0.1,
             "#c51b7d"
            ],
            [
             0.2,
             "#de77ae"
            ],
            [
             0.3,
             "#f1b6da"
            ],
            [
             0.4,
             "#fde0ef"
            ],
            [
             0.5,
             "#f7f7f7"
            ],
            [
             0.6,
             "#e6f5d0"
            ],
            [
             0.7,
             "#b8e186"
            ],
            [
             0.8,
             "#7fbc41"
            ],
            [
             0.9,
             "#4d9221"
            ],
            [
             1,
             "#276419"
            ]
           ],
           "sequential": [
            [
             0,
             "#0d0887"
            ],
            [
             0.1111111111111111,
             "#46039f"
            ],
            [
             0.2222222222222222,
             "#7201a8"
            ],
            [
             0.3333333333333333,
             "#9c179e"
            ],
            [
             0.4444444444444444,
             "#bd3786"
            ],
            [
             0.5555555555555556,
             "#d8576b"
            ],
            [
             0.6666666666666666,
             "#ed7953"
            ],
            [
             0.7777777777777778,
             "#fb9f3a"
            ],
            [
             0.8888888888888888,
             "#fdca26"
            ],
            [
             1,
             "#f0f921"
            ]
           ],
           "sequentialminus": [
            [
             0,
             "#0d0887"
            ],
            [
             0.1111111111111111,
             "#46039f"
            ],
            [
             0.2222222222222222,
             "#7201a8"
            ],
            [
             0.3333333333333333,
             "#9c179e"
            ],
            [
             0.4444444444444444,
             "#bd3786"
            ],
            [
             0.5555555555555556,
             "#d8576b"
            ],
            [
             0.6666666666666666,
             "#ed7953"
            ],
            [
             0.7777777777777778,
             "#fb9f3a"
            ],
            [
             0.8888888888888888,
             "#fdca26"
            ],
            [
             1,
             "#f0f921"
            ]
           ]
          },
          "colorway": [
           "#636efa",
           "#EF553B",
           "#00cc96",
           "#ab63fa",
           "#FFA15A",
           "#19d3f3",
           "#FF6692",
           "#B6E880",
           "#FF97FF",
           "#FECB52"
          ],
          "font": {
           "color": "#2a3f5f"
          },
          "geo": {
           "bgcolor": "white",
           "lakecolor": "white",
           "landcolor": "#E5ECF6",
           "showlakes": true,
           "showland": true,
           "subunitcolor": "white"
          },
          "hoverlabel": {
           "align": "left"
          },
          "hovermode": "closest",
          "mapbox": {
           "style": "light"
          },
          "paper_bgcolor": "white",
          "plot_bgcolor": "#E5ECF6",
          "polar": {
           "angularaxis": {
            "gridcolor": "white",
            "linecolor": "white",
            "ticks": ""
           },
           "bgcolor": "#E5ECF6",
           "radialaxis": {
            "gridcolor": "white",
            "linecolor": "white",
            "ticks": ""
           }
          },
          "scene": {
           "xaxis": {
            "backgroundcolor": "#E5ECF6",
            "gridcolor": "white",
            "gridwidth": 2,
            "linecolor": "white",
            "showbackground": true,
            "ticks": "",
            "zerolinecolor": "white"
           },
           "yaxis": {
            "backgroundcolor": "#E5ECF6",
            "gridcolor": "white",
            "gridwidth": 2,
            "linecolor": "white",
            "showbackground": true,
            "ticks": "",
            "zerolinecolor": "white"
           },
           "zaxis": {
            "backgroundcolor": "#E5ECF6",
            "gridcolor": "white",
            "gridwidth": 2,
            "linecolor": "white",
            "showbackground": true,
            "ticks": "",
            "zerolinecolor": "white"
           }
          },
          "shapedefaults": {
           "line": {
            "color": "#2a3f5f"
           }
          },
          "ternary": {
           "aaxis": {
            "gridcolor": "white",
            "linecolor": "white",
            "ticks": ""
           },
           "baxis": {
            "gridcolor": "white",
            "linecolor": "white",
            "ticks": ""
           },
           "bgcolor": "#E5ECF6",
           "caxis": {
            "gridcolor": "white",
            "linecolor": "white",
            "ticks": ""
           }
          },
          "title": {
           "x": 0.05
          },
          "xaxis": {
           "automargin": true,
           "gridcolor": "white",
           "linecolor": "white",
           "ticks": "",
           "title": {
            "standoff": 15
           },
           "zerolinecolor": "white",
           "zerolinewidth": 2
          },
          "yaxis": {
           "automargin": true,
           "gridcolor": "white",
           "linecolor": "white",
           "ticks": "",
           "title": {
            "standoff": 15
           },
           "zerolinecolor": "white",
           "zerolinewidth": 2
          }
         }
        },
        "title": {
         "text": "ITESO RIGHT<br>R2: 0.8449792894785325 RMSE: 3.333370117954255"
        }
       }
      }
     },
     "metadata": {},
     "output_type": "display_data"
    }
   ],
   "source": [
    "# Definir rangos para las variables independientes\n",
    "x1_range = np.linspace(min(x_train_right['width']), max(x_train_right['width']), 20)\n",
    "x2_range = np.linspace(min(x_train_right['shoe_size']), max(x_train_right['shoe_size']), 20)\n",
    "x1_mesh, x2_mesh = np.meshgrid(x1_range, x2_range)\n",
    "\n",
    "# Escalar el meshgrid para predicción\n",
    "x_mesh_scaled = ss_right.transform(np.vstack((x1_mesh.ravel(), x2_mesh.ravel())).T)\n",
    "\n",
    "# Predecir los valores con el modelo escalado\n",
    "y_mesh_scaled = rg_r.predict(x_mesh_scaled)\n",
    "\n",
    "# Crear scatterplot 3D de los puntos reales\n",
    "scatter = go.Scatter3d(\n",
    "    x=x_test_right['width'], y=x_test_right['shoe_size'], z=y_test_right,\n",
    "    mode='markers',\n",
    "    marker=dict(size=8, color='red', opacity=0.7)\n",
    ")\n",
    "\n",
    "# Crear el plano de regresión\n",
    "surface = go.Surface(\n",
    "    x=x1_mesh, y=x2_mesh, z=y_mesh_scaled.reshape(x1_mesh.shape),\n",
    "    colorscale='Viridis', opacity=0.5\n",
    ")\n",
    "\n",
    "# Configuración del layout\n",
    "layout = go.Layout(\n",
    "    title=f\"ITESO RIGHT<br>R2: {r2_score(y_test_right, r_pred_right)} RMSE: {root_mean_squared_error(y_test_right, r_pred_right)}\",\n",
    "    scene=dict(\n",
    "        xaxis_title='Ancho',\n",
    "        yaxis_title='Pie',\n",
    "        zaxis_title='Altura'\n",
    "    )\n",
    ")\n",
    "\n",
    "# Crear la figura\n",
    "fig = go.Figure(data=[scatter, surface], layout=layout)\n",
    "\n",
    "# Mostrar la figura interactiva\n",
    "fig.show()"
   ]
  },
  {
   "cell_type": "markdown",
   "metadata": {},
   "source": [
    "## Left model\n",
    "\n",
    "Modelo que predice mejor los valores del lado izquierdo"
   ]
  },
  {
   "cell_type": "code",
   "execution_count": 104,
   "metadata": {},
   "outputs": [
    {
     "name": "stdout",
     "output_type": "stream",
     "text": [
      "R2: 0.7580750852187871 RMSE: 3.7036253994756874\n"
     ]
    }
   ],
   "source": [
    "rg_l = Ridge(alpha = 1.26)\n",
    "rg_l.fit(X_train_s_left, y_train_left)\n",
    "r_pred_left = rg_l.predict(X_test_s_left)\n",
    "print(f\"R2: {r2_score(y_test_left, r_pred_left)} RMSE: {root_mean_squared_error(y_test_left, r_pred_left)}\")"
   ]
  },
  {
   "cell_type": "code",
   "execution_count": 105,
   "metadata": {},
   "outputs": [
    {
     "name": "stdout",
     "output_type": "stream",
     "text": [
      "Pendientes: [1.68502861 7.20901971]\n",
      "Intercepto: 163.13422818791946\n"
     ]
    }
   ],
   "source": [
    "print(f\"Pendientes: {rg_l.coef_}\")\n",
    "print(f\"Intercepto: {rg_l.intercept_}\")"
   ]
  },
  {
   "cell_type": "code",
   "execution_count": 106,
   "metadata": {},
   "outputs": [
    {
     "name": "stderr",
     "output_type": "stream",
     "text": [
      "c:\\Users\\cesar\\anaconda3\\envs\\iteso\\lib\\site-packages\\sklearn\\base.py:493: UserWarning:\n",
      "\n",
      "X does not have valid feature names, but StandardScaler was fitted with feature names\n",
      "\n"
     ]
    }
   ],
   "source": [
    "values_para_left = ss_left.transform([[36,22.5]])"
   ]
  },
  {
   "cell_type": "code",
   "execution_count": 107,
   "metadata": {},
   "outputs": [
    {
     "data": {
      "text/plain": [
       "array([153.29551965])"
      ]
     },
     "execution_count": 107,
     "metadata": {},
     "output_type": "execute_result"
    }
   ],
   "source": [
    "rg_l.predict(values_para_left)"
   ]
  },
  {
   "cell_type": "code",
   "execution_count": 108,
   "metadata": {},
   "outputs": [
    {
     "name": "stderr",
     "output_type": "stream",
     "text": [
      "c:\\Users\\cesar\\anaconda3\\envs\\iteso\\lib\\site-packages\\sklearn\\base.py:493: UserWarning:\n",
      "\n",
      "X does not have valid feature names, but StandardScaler was fitted with feature names\n",
      "\n"
     ]
    },
    {
     "data": {
      "application/vnd.plotly.v1+json": {
       "config": {
        "plotlyServerURL": "https://plot.ly"
       },
       "data": [
        {
         "marker": {
          "color": "red",
          "opacity": 0.7,
          "size": 8
         },
         "mode": "markers",
         "type": "scatter3d",
         "x": [
          38,
          50,
          46,
          43,
          42,
          41,
          38,
          39,
          36,
          41,
          42,
          39,
          42,
          36,
          36,
          39,
          42,
          36,
          43,
          46,
          42,
          42,
          41,
          40,
          45,
          39,
          47,
          48,
          42,
          41,
          39,
          41,
          40,
          61,
          39,
          49,
          35,
          44
         ],
         "y": [
          23,
          28,
          26,
          25,
          25,
          24,
          23,
          23,
          23,
          24,
          26,
          24,
          24,
          23,
          23,
          24.5,
          24,
          22.5,
          28,
          27,
          27,
          24,
          23.5,
          24,
          27.5,
          24,
          27,
          27,
          28,
          24,
          24,
          24,
          24,
          26,
          24,
          27,
          22,
          25
         ],
         "z": [
          156,
          173,
          164,
          162,
          162,
          159,
          156,
          157,
          164,
          160,
          170,
          157,
          161,
          153,
          154,
          166,
          161,
          153,
          182,
          164,
          177,
          162,
          153,
          158,
          172,
          157,
          168,
          172,
          177,
          160,
          157,
          160,
          158,
          168,
          157,
          176,
          153,
          162
         ]
        },
        {
         "colorscale": [
          [
           0,
           "#440154"
          ],
          [
           0.1111111111111111,
           "#482878"
          ],
          [
           0.2222222222222222,
           "#3e4989"
          ],
          [
           0.3333333333333333,
           "#31688e"
          ],
          [
           0.4444444444444444,
           "#26828e"
          ],
          [
           0.5555555555555556,
           "#1f9e89"
          ],
          [
           0.6666666666666666,
           "#35b779"
          ],
          [
           0.7777777777777778,
           "#6ece58"
          ],
          [
           0.8888888888888888,
           "#b5de2b"
          ],
          [
           1,
           "#fde725"
          ]
         ],
         "opacity": 0.5,
         "type": "surface",
         "x": [
          [
           32,
           33.21052631578947,
           34.421052631578945,
           35.631578947368425,
           36.8421052631579,
           38.05263157894737,
           39.26315789473684,
           40.473684210526315,
           41.68421052631579,
           42.89473684210526,
           44.10526315789474,
           45.31578947368421,
           46.526315789473685,
           47.73684210526316,
           48.94736842105263,
           50.15789473684211,
           51.368421052631575,
           52.578947368421055,
           53.78947368421053,
           55
          ],
          [
           32,
           33.21052631578947,
           34.421052631578945,
           35.631578947368425,
           36.8421052631579,
           38.05263157894737,
           39.26315789473684,
           40.473684210526315,
           41.68421052631579,
           42.89473684210526,
           44.10526315789474,
           45.31578947368421,
           46.526315789473685,
           47.73684210526316,
           48.94736842105263,
           50.15789473684211,
           51.368421052631575,
           52.578947368421055,
           53.78947368421053,
           55
          ],
          [
           32,
           33.21052631578947,
           34.421052631578945,
           35.631578947368425,
           36.8421052631579,
           38.05263157894737,
           39.26315789473684,
           40.473684210526315,
           41.68421052631579,
           42.89473684210526,
           44.10526315789474,
           45.31578947368421,
           46.526315789473685,
           47.73684210526316,
           48.94736842105263,
           50.15789473684211,
           51.368421052631575,
           52.578947368421055,
           53.78947368421053,
           55
          ],
          [
           32,
           33.21052631578947,
           34.421052631578945,
           35.631578947368425,
           36.8421052631579,
           38.05263157894737,
           39.26315789473684,
           40.473684210526315,
           41.68421052631579,
           42.89473684210526,
           44.10526315789474,
           45.31578947368421,
           46.526315789473685,
           47.73684210526316,
           48.94736842105263,
           50.15789473684211,
           51.368421052631575,
           52.578947368421055,
           53.78947368421053,
           55
          ],
          [
           32,
           33.21052631578947,
           34.421052631578945,
           35.631578947368425,
           36.8421052631579,
           38.05263157894737,
           39.26315789473684,
           40.473684210526315,
           41.68421052631579,
           42.89473684210526,
           44.10526315789474,
           45.31578947368421,
           46.526315789473685,
           47.73684210526316,
           48.94736842105263,
           50.15789473684211,
           51.368421052631575,
           52.578947368421055,
           53.78947368421053,
           55
          ],
          [
           32,
           33.21052631578947,
           34.421052631578945,
           35.631578947368425,
           36.8421052631579,
           38.05263157894737,
           39.26315789473684,
           40.473684210526315,
           41.68421052631579,
           42.89473684210526,
           44.10526315789474,
           45.31578947368421,
           46.526315789473685,
           47.73684210526316,
           48.94736842105263,
           50.15789473684211,
           51.368421052631575,
           52.578947368421055,
           53.78947368421053,
           55
          ],
          [
           32,
           33.21052631578947,
           34.421052631578945,
           35.631578947368425,
           36.8421052631579,
           38.05263157894737,
           39.26315789473684,
           40.473684210526315,
           41.68421052631579,
           42.89473684210526,
           44.10526315789474,
           45.31578947368421,
           46.526315789473685,
           47.73684210526316,
           48.94736842105263,
           50.15789473684211,
           51.368421052631575,
           52.578947368421055,
           53.78947368421053,
           55
          ],
          [
           32,
           33.21052631578947,
           34.421052631578945,
           35.631578947368425,
           36.8421052631579,
           38.05263157894737,
           39.26315789473684,
           40.473684210526315,
           41.68421052631579,
           42.89473684210526,
           44.10526315789474,
           45.31578947368421,
           46.526315789473685,
           47.73684210526316,
           48.94736842105263,
           50.15789473684211,
           51.368421052631575,
           52.578947368421055,
           53.78947368421053,
           55
          ],
          [
           32,
           33.21052631578947,
           34.421052631578945,
           35.631578947368425,
           36.8421052631579,
           38.05263157894737,
           39.26315789473684,
           40.473684210526315,
           41.68421052631579,
           42.89473684210526,
           44.10526315789474,
           45.31578947368421,
           46.526315789473685,
           47.73684210526316,
           48.94736842105263,
           50.15789473684211,
           51.368421052631575,
           52.578947368421055,
           53.78947368421053,
           55
          ],
          [
           32,
           33.21052631578947,
           34.421052631578945,
           35.631578947368425,
           36.8421052631579,
           38.05263157894737,
           39.26315789473684,
           40.473684210526315,
           41.68421052631579,
           42.89473684210526,
           44.10526315789474,
           45.31578947368421,
           46.526315789473685,
           47.73684210526316,
           48.94736842105263,
           50.15789473684211,
           51.368421052631575,
           52.578947368421055,
           53.78947368421053,
           55
          ],
          [
           32,
           33.21052631578947,
           34.421052631578945,
           35.631578947368425,
           36.8421052631579,
           38.05263157894737,
           39.26315789473684,
           40.473684210526315,
           41.68421052631579,
           42.89473684210526,
           44.10526315789474,
           45.31578947368421,
           46.526315789473685,
           47.73684210526316,
           48.94736842105263,
           50.15789473684211,
           51.368421052631575,
           52.578947368421055,
           53.78947368421053,
           55
          ],
          [
           32,
           33.21052631578947,
           34.421052631578945,
           35.631578947368425,
           36.8421052631579,
           38.05263157894737,
           39.26315789473684,
           40.473684210526315,
           41.68421052631579,
           42.89473684210526,
           44.10526315789474,
           45.31578947368421,
           46.526315789473685,
           47.73684210526316,
           48.94736842105263,
           50.15789473684211,
           51.368421052631575,
           52.578947368421055,
           53.78947368421053,
           55
          ],
          [
           32,
           33.21052631578947,
           34.421052631578945,
           35.631578947368425,
           36.8421052631579,
           38.05263157894737,
           39.26315789473684,
           40.473684210526315,
           41.68421052631579,
           42.89473684210526,
           44.10526315789474,
           45.31578947368421,
           46.526315789473685,
           47.73684210526316,
           48.94736842105263,
           50.15789473684211,
           51.368421052631575,
           52.578947368421055,
           53.78947368421053,
           55
          ],
          [
           32,
           33.21052631578947,
           34.421052631578945,
           35.631578947368425,
           36.8421052631579,
           38.05263157894737,
           39.26315789473684,
           40.473684210526315,
           41.68421052631579,
           42.89473684210526,
           44.10526315789474,
           45.31578947368421,
           46.526315789473685,
           47.73684210526316,
           48.94736842105263,
           50.15789473684211,
           51.368421052631575,
           52.578947368421055,
           53.78947368421053,
           55
          ],
          [
           32,
           33.21052631578947,
           34.421052631578945,
           35.631578947368425,
           36.8421052631579,
           38.05263157894737,
           39.26315789473684,
           40.473684210526315,
           41.68421052631579,
           42.89473684210526,
           44.10526315789474,
           45.31578947368421,
           46.526315789473685,
           47.73684210526316,
           48.94736842105263,
           50.15789473684211,
           51.368421052631575,
           52.578947368421055,
           53.78947368421053,
           55
          ],
          [
           32,
           33.21052631578947,
           34.421052631578945,
           35.631578947368425,
           36.8421052631579,
           38.05263157894737,
           39.26315789473684,
           40.473684210526315,
           41.68421052631579,
           42.89473684210526,
           44.10526315789474,
           45.31578947368421,
           46.526315789473685,
           47.73684210526316,
           48.94736842105263,
           50.15789473684211,
           51.368421052631575,
           52.578947368421055,
           53.78947368421053,
           55
          ],
          [
           32,
           33.21052631578947,
           34.421052631578945,
           35.631578947368425,
           36.8421052631579,
           38.05263157894737,
           39.26315789473684,
           40.473684210526315,
           41.68421052631579,
           42.89473684210526,
           44.10526315789474,
           45.31578947368421,
           46.526315789473685,
           47.73684210526316,
           48.94736842105263,
           50.15789473684211,
           51.368421052631575,
           52.578947368421055,
           53.78947368421053,
           55
          ],
          [
           32,
           33.21052631578947,
           34.421052631578945,
           35.631578947368425,
           36.8421052631579,
           38.05263157894737,
           39.26315789473684,
           40.473684210526315,
           41.68421052631579,
           42.89473684210526,
           44.10526315789474,
           45.31578947368421,
           46.526315789473685,
           47.73684210526316,
           48.94736842105263,
           50.15789473684211,
           51.368421052631575,
           52.578947368421055,
           53.78947368421053,
           55
          ],
          [
           32,
           33.21052631578947,
           34.421052631578945,
           35.631578947368425,
           36.8421052631579,
           38.05263157894737,
           39.26315789473684,
           40.473684210526315,
           41.68421052631579,
           42.89473684210526,
           44.10526315789474,
           45.31578947368421,
           46.526315789473685,
           47.73684210526316,
           48.94736842105263,
           50.15789473684211,
           51.368421052631575,
           52.578947368421055,
           53.78947368421053,
           55
          ],
          [
           32,
           33.21052631578947,
           34.421052631578945,
           35.631578947368425,
           36.8421052631579,
           38.05263157894737,
           39.26315789473684,
           40.473684210526315,
           41.68421052631579,
           42.89473684210526,
           44.10526315789474,
           45.31578947368421,
           46.526315789473685,
           47.73684210526316,
           48.94736842105263,
           50.15789473684211,
           51.368421052631575,
           52.578947368421055,
           53.78947368421053,
           55
          ]
         ],
         "y": [
          [
           21,
           21,
           21,
           21,
           21,
           21,
           21,
           21,
           21,
           21,
           21,
           21,
           21,
           21,
           21,
           21,
           21,
           21,
           21,
           21
          ],
          [
           21.473684210526315,
           21.473684210526315,
           21.473684210526315,
           21.473684210526315,
           21.473684210526315,
           21.473684210526315,
           21.473684210526315,
           21.473684210526315,
           21.473684210526315,
           21.473684210526315,
           21.473684210526315,
           21.473684210526315,
           21.473684210526315,
           21.473684210526315,
           21.473684210526315,
           21.473684210526315,
           21.473684210526315,
           21.473684210526315,
           21.473684210526315,
           21.473684210526315
          ],
          [
           21.94736842105263,
           21.94736842105263,
           21.94736842105263,
           21.94736842105263,
           21.94736842105263,
           21.94736842105263,
           21.94736842105263,
           21.94736842105263,
           21.94736842105263,
           21.94736842105263,
           21.94736842105263,
           21.94736842105263,
           21.94736842105263,
           21.94736842105263,
           21.94736842105263,
           21.94736842105263,
           21.94736842105263,
           21.94736842105263,
           21.94736842105263,
           21.94736842105263
          ],
          [
           22.42105263157895,
           22.42105263157895,
           22.42105263157895,
           22.42105263157895,
           22.42105263157895,
           22.42105263157895,
           22.42105263157895,
           22.42105263157895,
           22.42105263157895,
           22.42105263157895,
           22.42105263157895,
           22.42105263157895,
           22.42105263157895,
           22.42105263157895,
           22.42105263157895,
           22.42105263157895,
           22.42105263157895,
           22.42105263157895,
           22.42105263157895,
           22.42105263157895
          ],
          [
           22.894736842105264,
           22.894736842105264,
           22.894736842105264,
           22.894736842105264,
           22.894736842105264,
           22.894736842105264,
           22.894736842105264,
           22.894736842105264,
           22.894736842105264,
           22.894736842105264,
           22.894736842105264,
           22.894736842105264,
           22.894736842105264,
           22.894736842105264,
           22.894736842105264,
           22.894736842105264,
           22.894736842105264,
           22.894736842105264,
           22.894736842105264,
           22.894736842105264
          ],
          [
           23.36842105263158,
           23.36842105263158,
           23.36842105263158,
           23.36842105263158,
           23.36842105263158,
           23.36842105263158,
           23.36842105263158,
           23.36842105263158,
           23.36842105263158,
           23.36842105263158,
           23.36842105263158,
           23.36842105263158,
           23.36842105263158,
           23.36842105263158,
           23.36842105263158,
           23.36842105263158,
           23.36842105263158,
           23.36842105263158,
           23.36842105263158,
           23.36842105263158
          ],
          [
           23.842105263157894,
           23.842105263157894,
           23.842105263157894,
           23.842105263157894,
           23.842105263157894,
           23.842105263157894,
           23.842105263157894,
           23.842105263157894,
           23.842105263157894,
           23.842105263157894,
           23.842105263157894,
           23.842105263157894,
           23.842105263157894,
           23.842105263157894,
           23.842105263157894,
           23.842105263157894,
           23.842105263157894,
           23.842105263157894,
           23.842105263157894,
           23.842105263157894
          ],
          [
           24.31578947368421,
           24.31578947368421,
           24.31578947368421,
           24.31578947368421,
           24.31578947368421,
           24.31578947368421,
           24.31578947368421,
           24.31578947368421,
           24.31578947368421,
           24.31578947368421,
           24.31578947368421,
           24.31578947368421,
           24.31578947368421,
           24.31578947368421,
           24.31578947368421,
           24.31578947368421,
           24.31578947368421,
           24.31578947368421,
           24.31578947368421,
           24.31578947368421
          ],
          [
           24.789473684210527,
           24.789473684210527,
           24.789473684210527,
           24.789473684210527,
           24.789473684210527,
           24.789473684210527,
           24.789473684210527,
           24.789473684210527,
           24.789473684210527,
           24.789473684210527,
           24.789473684210527,
           24.789473684210527,
           24.789473684210527,
           24.789473684210527,
           24.789473684210527,
           24.789473684210527,
           24.789473684210527,
           24.789473684210527,
           24.789473684210527,
           24.789473684210527
          ],
          [
           25.263157894736842,
           25.263157894736842,
           25.263157894736842,
           25.263157894736842,
           25.263157894736842,
           25.263157894736842,
           25.263157894736842,
           25.263157894736842,
           25.263157894736842,
           25.263157894736842,
           25.263157894736842,
           25.263157894736842,
           25.263157894736842,
           25.263157894736842,
           25.263157894736842,
           25.263157894736842,
           25.263157894736842,
           25.263157894736842,
           25.263157894736842,
           25.263157894736842
          ],
          [
           25.736842105263158,
           25.736842105263158,
           25.736842105263158,
           25.736842105263158,
           25.736842105263158,
           25.736842105263158,
           25.736842105263158,
           25.736842105263158,
           25.736842105263158,
           25.736842105263158,
           25.736842105263158,
           25.736842105263158,
           25.736842105263158,
           25.736842105263158,
           25.736842105263158,
           25.736842105263158,
           25.736842105263158,
           25.736842105263158,
           25.736842105263158,
           25.736842105263158
          ],
          [
           26.210526315789473,
           26.210526315789473,
           26.210526315789473,
           26.210526315789473,
           26.210526315789473,
           26.210526315789473,
           26.210526315789473,
           26.210526315789473,
           26.210526315789473,
           26.210526315789473,
           26.210526315789473,
           26.210526315789473,
           26.210526315789473,
           26.210526315789473,
           26.210526315789473,
           26.210526315789473,
           26.210526315789473,
           26.210526315789473,
           26.210526315789473,
           26.210526315789473
          ],
          [
           26.684210526315788,
           26.684210526315788,
           26.684210526315788,
           26.684210526315788,
           26.684210526315788,
           26.684210526315788,
           26.684210526315788,
           26.684210526315788,
           26.684210526315788,
           26.684210526315788,
           26.684210526315788,
           26.684210526315788,
           26.684210526315788,
           26.684210526315788,
           26.684210526315788,
           26.684210526315788,
           26.684210526315788,
           26.684210526315788,
           26.684210526315788,
           26.684210526315788
          ],
          [
           27.157894736842106,
           27.157894736842106,
           27.157894736842106,
           27.157894736842106,
           27.157894736842106,
           27.157894736842106,
           27.157894736842106,
           27.157894736842106,
           27.157894736842106,
           27.157894736842106,
           27.157894736842106,
           27.157894736842106,
           27.157894736842106,
           27.157894736842106,
           27.157894736842106,
           27.157894736842106,
           27.157894736842106,
           27.157894736842106,
           27.157894736842106,
           27.157894736842106
          ],
          [
           27.63157894736842,
           27.63157894736842,
           27.63157894736842,
           27.63157894736842,
           27.63157894736842,
           27.63157894736842,
           27.63157894736842,
           27.63157894736842,
           27.63157894736842,
           27.63157894736842,
           27.63157894736842,
           27.63157894736842,
           27.63157894736842,
           27.63157894736842,
           27.63157894736842,
           27.63157894736842,
           27.63157894736842,
           27.63157894736842,
           27.63157894736842,
           27.63157894736842
          ],
          [
           28.105263157894736,
           28.105263157894736,
           28.105263157894736,
           28.105263157894736,
           28.105263157894736,
           28.105263157894736,
           28.105263157894736,
           28.105263157894736,
           28.105263157894736,
           28.105263157894736,
           28.105263157894736,
           28.105263157894736,
           28.105263157894736,
           28.105263157894736,
           28.105263157894736,
           28.105263157894736,
           28.105263157894736,
           28.105263157894736,
           28.105263157894736,
           28.105263157894736
          ],
          [
           28.57894736842105,
           28.57894736842105,
           28.57894736842105,
           28.57894736842105,
           28.57894736842105,
           28.57894736842105,
           28.57894736842105,
           28.57894736842105,
           28.57894736842105,
           28.57894736842105,
           28.57894736842105,
           28.57894736842105,
           28.57894736842105,
           28.57894736842105,
           28.57894736842105,
           28.57894736842105,
           28.57894736842105,
           28.57894736842105,
           28.57894736842105,
           28.57894736842105
          ],
          [
           29.05263157894737,
           29.05263157894737,
           29.05263157894737,
           29.05263157894737,
           29.05263157894737,
           29.05263157894737,
           29.05263157894737,
           29.05263157894737,
           29.05263157894737,
           29.05263157894737,
           29.05263157894737,
           29.05263157894737,
           29.05263157894737,
           29.05263157894737,
           29.05263157894737,
           29.05263157894737,
           29.05263157894737,
           29.05263157894737,
           29.05263157894737,
           29.05263157894737
          ],
          [
           29.526315789473685,
           29.526315789473685,
           29.526315789473685,
           29.526315789473685,
           29.526315789473685,
           29.526315789473685,
           29.526315789473685,
           29.526315789473685,
           29.526315789473685,
           29.526315789473685,
           29.526315789473685,
           29.526315789473685,
           29.526315789473685,
           29.526315789473685,
           29.526315789473685,
           29.526315789473685,
           29.526315789473685,
           29.526315789473685,
           29.526315789473685,
           29.526315789473685
          ],
          [
           30,
           30,
           30,
           30,
           30,
           30,
           30,
           30,
           30,
           30,
           30,
           30,
           30,
           30,
           30,
           30,
           30,
           30,
           30,
           30
          ]
         ],
         "z": [
          [
           146.42317333381436,
           146.86149301568202,
           147.2998126975497,
           147.73813237941738,
           148.17645206128503,
           148.61477174315272,
           149.0530914250204,
           149.49141110688805,
           149.92973078875573,
           150.36805047062342,
           150.80637015249107,
           151.24468983435875,
           151.68300951622643,
           152.1213291980941,
           152.55964887996177,
           152.99796856182945,
           153.4362882436971,
           153.8746079255648,
           154.31292760743247,
           154.75124728930012
          ],
          [
           148.13601090035468,
           148.57433058222236,
           149.01265026409004,
           149.4509699459577,
           149.88928962782538,
           150.32760930969306,
           150.7659289915607,
           151.2042486734284,
           151.64256835529608,
           152.08088803716373,
           152.5192077190314,
           152.9575274008991,
           153.39584708276675,
           153.83416676463443,
           154.2724864465021,
           154.71080612836977,
           155.14912581023745,
           155.58744549210513,
           156.0257651739728,
           156.46408485584047
          ],
          [
           149.84884846689502,
           150.2871681487627,
           150.72548783063036,
           151.16380751249804,
           151.60212719436572,
           152.04044687623337,
           152.47876655810106,
           152.91708623996874,
           153.3554059218364,
           153.79372560370408,
           154.23204528557176,
           154.6703649674394,
           155.1086846493071,
           155.54700433117478,
           155.98532401304243,
           156.4236436949101,
           156.8619633767778,
           157.30028305864545,
           157.73860274051313,
           158.1769224223808
          ],
          [
           151.56168603343536,
           152.00000571530305,
           152.43832539717073,
           152.87664507903838,
           153.31496476090607,
           153.75328444277375,
           154.1916041246414,
           154.62992380650908,
           155.06824348837677,
           155.50656317024442,
           155.9448828521121,
           156.38320253397978,
           156.82152221584744,
           157.25984189771512,
           157.6981615795828,
           158.13648126145046,
           158.57480094331814,
           159.01312062518582,
           159.45144030705347,
           159.88975998892116
          ],
          [
           153.2745235999757,
           153.7128432818434,
           154.15116296371104,
           154.58948264557873,
           155.0278023274464,
           155.46612200931406,
           155.90444169118174,
           156.34276137304943,
           156.78108105491708,
           157.21940073678476,
           157.65772041865245,
           158.0960401005201,
           158.53435978238778,
           158.97267946425546,
           159.41099914612312,
           159.8493188279908,
           160.28763850985848,
           160.72595819172614,
           161.16427787359382,
           161.6025975554615
          ],
          [
           154.98736116651605,
           155.4256808483837,
           155.8640005302514,
           156.30232021211907,
           156.74063989398675,
           157.1789595758544,
           157.6172792577221,
           158.05559893958974,
           158.49391862145742,
           158.9322383033251,
           159.3705579851928,
           159.80887766706044,
           160.24719734892813,
           160.68551703079578,
           161.12383671266346,
           161.56215639453114,
           162.0004760763988,
           162.43879575826648,
           162.87711544013416,
           163.31543512200182
          ],
          [
           156.7001987330564,
           157.13851841492405,
           157.57683809679173,
           158.01515777865941,
           158.45347746052707,
           158.89179714239475,
           159.33011682426243,
           159.7684365061301,
           160.20675618799777,
           160.64507586986545,
           161.0833955517331,
           161.5217152336008,
           161.96003491546847,
           162.39835459733612,
           162.8366742792038,
           163.2749939610715,
           163.71331364293914,
           164.15163332480682,
           164.5899530066745,
           165.02827268854216
          ],
          [
           158.4130362995967,
           158.8513559814644,
           159.28967566333208,
           159.72799534519973,
           160.1663150270674,
           160.6046347089351,
           161.04295439080275,
           161.48127407267043,
           161.9195937545381,
           162.35791343640577,
           162.79623311827345,
           163.23455280014113,
           163.67287248200878,
           164.11119216387647,
           164.54951184574415,
           164.9878315276118,
           165.42615120947949,
           165.86447089134717,
           166.30279057321482,
           166.7411102550825
          ],
          [
           160.12587386613708,
           160.56419354800474,
           161.00251322987242,
           161.4408329117401,
           161.87915259360776,
           162.31747227547544,
           162.75579195734312,
           163.19411163921077,
           163.63243132107846,
           164.0707510029461,
           164.5090706848138,
           164.94739036668147,
           165.38571004854916,
           165.8240297304168,
           166.2623494122845,
           166.70066909415218,
           167.13898877601983,
           167.5773084578875,
           168.01562813975517,
           168.45394782162285
          ],
          [
           161.8387114326774,
           162.27703111454508,
           162.71535079641276,
           163.15367047828042,
           163.5919901601481,
           164.03030984201578,
           164.46862952388344,
           164.90694920575112,
           165.3452688876188,
           165.78358856948645,
           166.22190825135414,
           166.66022793322182,
           167.09854761508947,
           167.53686729695715,
           167.97518697882484,
           168.4135066606925,
           168.85182634256017,
           169.29014602442786,
           169.7284657062955,
           170.1667853881632
          ],
          [
           163.55154899921774,
           163.98986868108543,
           164.42818836295308,
           164.86650804482076,
           165.30482772668844,
           165.7431474085561,
           166.18146709042378,
           166.61978677229146,
           167.05810645415912,
           167.4964261360268,
           167.93474581789448,
           168.37306549976213,
           168.81138518162982,
           169.2497048634975,
           169.68802454536515,
           170.12634422723283,
           170.56466390910052,
           171.00298359096817,
           171.44130327283585,
           171.87962295470354
          ],
          [
           165.2643865657581,
           165.70270624762574,
           166.14102592949342,
           166.5793456113611,
           167.0176652932288,
           167.45598497509644,
           167.89430465696412,
           168.33262433883178,
           168.77094402069946,
           169.20926370256714,
           169.64758338443482,
           170.08590306630248,
           170.52422274817016,
           170.96254243003781,
           171.4008621119055,
           171.83918179377318,
           172.27750147564083,
           172.71582115750851,
           173.1541408393762,
           173.59246052124385
          ],
          [
           166.97722413229843,
           167.41554381416609,
           167.85386349603377,
           168.29218317790145,
           168.7305028597691,
           169.16882254163679,
           169.60714222350447,
           170.04546190537212,
           170.4837815872398,
           170.9221012691075,
           171.36042095097514,
           171.79874063284282,
           172.2370603147105,
           172.67537999657816,
           173.11369967844584,
           173.55201936031352,
           173.99033904218118,
           174.42865872404886,
           174.86697840591654,
           175.3052980877842
          ],
          [
           168.69006169883878,
           169.12838138070643,
           169.5667010625741,
           170.0050207444418,
           170.44334042630948,
           170.88166010817713,
           171.3199797900448,
           171.75829947191247,
           172.19661915378015,
           172.63493883564783,
           173.07325851751548,
           173.51157819938317,
           173.94989788125085,
           174.3882175631185,
           174.82653724498618,
           175.26485692685387,
           175.70317660872152,
           176.1414962905892,
           176.57981597245688,
           177.01813565432454
          ],
          [
           170.40289926537912,
           170.84121894724677,
           171.27953862911446,
           171.71785831098214,
           172.1561779928498,
           172.59449767471747,
           173.03281735658516,
           173.4711370384528,
           173.9094567203205,
           174.34777640218817,
           174.78609608405583,
           175.2244157659235,
           175.6627354477912,
           176.10105512965885,
           176.53937481152653,
           176.9776944933942,
           177.41601417526186,
           177.85433385712955,
           178.29265353899723,
           178.73097322086488
          ],
          [
           172.11573683191943,
           172.55405651378712,
           172.9923761956548,
           173.43069587752245,
           173.86901555939014,
           174.30733524125782,
           174.74565492312547,
           175.18397460499315,
           175.62229428686084,
           176.0606139687285,
           176.49893365059617,
           176.93725333246385,
           177.3755730143315,
           177.8138926961992,
           178.25221237806687,
           178.69053205993453,
           179.1288517418022,
           179.5671714236699,
           180.00549110553754,
           180.44381078740523
          ],
          [
           173.82857439845978,
           174.26689408032746,
           174.70521376219511,
           175.1435334440628,
           175.58185312593048,
           176.02017280779813,
           176.45849248966582,
           176.8968121715335,
           177.33513185340115,
           177.77345153526883,
           178.21177121713652,
           178.65009089900417,
           179.08841058087185,
           179.52673026273953,
           179.9650499446072,
           180.40336962647487,
           180.84168930834255,
           181.2800089902102,
           181.7183286720779,
           182.15664835394557
          ],
          [
           175.54141196500012,
           175.9797316468678,
           176.4180513287355,
           176.85637101060314,
           177.29469069247082,
           177.7330103743385,
           178.17133005620616,
           178.60964973807384,
           179.04796941994152,
           179.48628910180918,
           179.92460878367686,
           180.36292846554454,
           180.8012481474122,
           181.23956782927988,
           181.67788751114756,
           182.1162071930152,
           182.5545268748829,
           182.99284655675058,
           183.43116623861823,
           183.86948592048591
          ],
          [
           177.25424953154047,
           177.69256921340815,
           178.1308888952758,
           178.56920857714348,
           179.00752825901117,
           179.44584794087882,
           179.8841676227465,
           180.32248730461419,
           180.76080698648184,
           181.19912666834952,
           181.6374463502172,
           182.07576603208486,
           182.51408571395254,
           182.95240539582022,
           183.39072507768788,
           183.82904475955556,
           184.26736444142324,
           184.7056841232909,
           185.14400380515858,
           185.58232348702626
          ],
          [
           178.9670870980808,
           179.40540677994846,
           179.84372646181615,
           180.28204614368383,
           180.72036582555148,
           181.15868550741916,
           181.59700518928685,
           182.0353248711545,
           182.47364455302218,
           182.91196423488987,
           183.35028391675752,
           183.7886035986252,
           184.22692328049288,
           184.66524296236054,
           185.10356264422822,
           185.5418823260959,
           185.98020200796356,
           186.41852168983124,
           186.85684137169892,
           187.29516105356657
          ]
         ]
        }
       ],
       "layout": {
        "scene": {
         "xaxis": {
          "title": {
           "text": "Ancho"
          }
         },
         "yaxis": {
          "title": {
           "text": "Pie"
          }
         },
         "zaxis": {
          "title": {
           "text": "Altura"
          }
         }
        },
        "template": {
         "data": {
          "bar": [
           {
            "error_x": {
             "color": "#2a3f5f"
            },
            "error_y": {
             "color": "#2a3f5f"
            },
            "marker": {
             "line": {
              "color": "#E5ECF6",
              "width": 0.5
             },
             "pattern": {
              "fillmode": "overlay",
              "size": 10,
              "solidity": 0.2
             }
            },
            "type": "bar"
           }
          ],
          "barpolar": [
           {
            "marker": {
             "line": {
              "color": "#E5ECF6",
              "width": 0.5
             },
             "pattern": {
              "fillmode": "overlay",
              "size": 10,
              "solidity": 0.2
             }
            },
            "type": "barpolar"
           }
          ],
          "carpet": [
           {
            "aaxis": {
             "endlinecolor": "#2a3f5f",
             "gridcolor": "white",
             "linecolor": "white",
             "minorgridcolor": "white",
             "startlinecolor": "#2a3f5f"
            },
            "baxis": {
             "endlinecolor": "#2a3f5f",
             "gridcolor": "white",
             "linecolor": "white",
             "minorgridcolor": "white",
             "startlinecolor": "#2a3f5f"
            },
            "type": "carpet"
           }
          ],
          "choropleth": [
           {
            "colorbar": {
             "outlinewidth": 0,
             "ticks": ""
            },
            "type": "choropleth"
           }
          ],
          "contour": [
           {
            "colorbar": {
             "outlinewidth": 0,
             "ticks": ""
            },
            "colorscale": [
             [
              0,
              "#0d0887"
             ],
             [
              0.1111111111111111,
              "#46039f"
             ],
             [
              0.2222222222222222,
              "#7201a8"
             ],
             [
              0.3333333333333333,
              "#9c179e"
             ],
             [
              0.4444444444444444,
              "#bd3786"
             ],
             [
              0.5555555555555556,
              "#d8576b"
             ],
             [
              0.6666666666666666,
              "#ed7953"
             ],
             [
              0.7777777777777778,
              "#fb9f3a"
             ],
             [
              0.8888888888888888,
              "#fdca26"
             ],
             [
              1,
              "#f0f921"
             ]
            ],
            "type": "contour"
           }
          ],
          "contourcarpet": [
           {
            "colorbar": {
             "outlinewidth": 0,
             "ticks": ""
            },
            "type": "contourcarpet"
           }
          ],
          "heatmap": [
           {
            "colorbar": {
             "outlinewidth": 0,
             "ticks": ""
            },
            "colorscale": [
             [
              0,
              "#0d0887"
             ],
             [
              0.1111111111111111,
              "#46039f"
             ],
             [
              0.2222222222222222,
              "#7201a8"
             ],
             [
              0.3333333333333333,
              "#9c179e"
             ],
             [
              0.4444444444444444,
              "#bd3786"
             ],
             [
              0.5555555555555556,
              "#d8576b"
             ],
             [
              0.6666666666666666,
              "#ed7953"
             ],
             [
              0.7777777777777778,
              "#fb9f3a"
             ],
             [
              0.8888888888888888,
              "#fdca26"
             ],
             [
              1,
              "#f0f921"
             ]
            ],
            "type": "heatmap"
           }
          ],
          "heatmapgl": [
           {
            "colorbar": {
             "outlinewidth": 0,
             "ticks": ""
            },
            "colorscale": [
             [
              0,
              "#0d0887"
             ],
             [
              0.1111111111111111,
              "#46039f"
             ],
             [
              0.2222222222222222,
              "#7201a8"
             ],
             [
              0.3333333333333333,
              "#9c179e"
             ],
             [
              0.4444444444444444,
              "#bd3786"
             ],
             [
              0.5555555555555556,
              "#d8576b"
             ],
             [
              0.6666666666666666,
              "#ed7953"
             ],
             [
              0.7777777777777778,
              "#fb9f3a"
             ],
             [
              0.8888888888888888,
              "#fdca26"
             ],
             [
              1,
              "#f0f921"
             ]
            ],
            "type": "heatmapgl"
           }
          ],
          "histogram": [
           {
            "marker": {
             "pattern": {
              "fillmode": "overlay",
              "size": 10,
              "solidity": 0.2
             }
            },
            "type": "histogram"
           }
          ],
          "histogram2d": [
           {
            "colorbar": {
             "outlinewidth": 0,
             "ticks": ""
            },
            "colorscale": [
             [
              0,
              "#0d0887"
             ],
             [
              0.1111111111111111,
              "#46039f"
             ],
             [
              0.2222222222222222,
              "#7201a8"
             ],
             [
              0.3333333333333333,
              "#9c179e"
             ],
             [
              0.4444444444444444,
              "#bd3786"
             ],
             [
              0.5555555555555556,
              "#d8576b"
             ],
             [
              0.6666666666666666,
              "#ed7953"
             ],
             [
              0.7777777777777778,
              "#fb9f3a"
             ],
             [
              0.8888888888888888,
              "#fdca26"
             ],
             [
              1,
              "#f0f921"
             ]
            ],
            "type": "histogram2d"
           }
          ],
          "histogram2dcontour": [
           {
            "colorbar": {
             "outlinewidth": 0,
             "ticks": ""
            },
            "colorscale": [
             [
              0,
              "#0d0887"
             ],
             [
              0.1111111111111111,
              "#46039f"
             ],
             [
              0.2222222222222222,
              "#7201a8"
             ],
             [
              0.3333333333333333,
              "#9c179e"
             ],
             [
              0.4444444444444444,
              "#bd3786"
             ],
             [
              0.5555555555555556,
              "#d8576b"
             ],
             [
              0.6666666666666666,
              "#ed7953"
             ],
             [
              0.7777777777777778,
              "#fb9f3a"
             ],
             [
              0.8888888888888888,
              "#fdca26"
             ],
             [
              1,
              "#f0f921"
             ]
            ],
            "type": "histogram2dcontour"
           }
          ],
          "mesh3d": [
           {
            "colorbar": {
             "outlinewidth": 0,
             "ticks": ""
            },
            "type": "mesh3d"
           }
          ],
          "parcoords": [
           {
            "line": {
             "colorbar": {
              "outlinewidth": 0,
              "ticks": ""
             }
            },
            "type": "parcoords"
           }
          ],
          "pie": [
           {
            "automargin": true,
            "type": "pie"
           }
          ],
          "scatter": [
           {
            "fillpattern": {
             "fillmode": "overlay",
             "size": 10,
             "solidity": 0.2
            },
            "type": "scatter"
           }
          ],
          "scatter3d": [
           {
            "line": {
             "colorbar": {
              "outlinewidth": 0,
              "ticks": ""
             }
            },
            "marker": {
             "colorbar": {
              "outlinewidth": 0,
              "ticks": ""
             }
            },
            "type": "scatter3d"
           }
          ],
          "scattercarpet": [
           {
            "marker": {
             "colorbar": {
              "outlinewidth": 0,
              "ticks": ""
             }
            },
            "type": "scattercarpet"
           }
          ],
          "scattergeo": [
           {
            "marker": {
             "colorbar": {
              "outlinewidth": 0,
              "ticks": ""
             }
            },
            "type": "scattergeo"
           }
          ],
          "scattergl": [
           {
            "marker": {
             "colorbar": {
              "outlinewidth": 0,
              "ticks": ""
             }
            },
            "type": "scattergl"
           }
          ],
          "scattermapbox": [
           {
            "marker": {
             "colorbar": {
              "outlinewidth": 0,
              "ticks": ""
             }
            },
            "type": "scattermapbox"
           }
          ],
          "scatterpolar": [
           {
            "marker": {
             "colorbar": {
              "outlinewidth": 0,
              "ticks": ""
             }
            },
            "type": "scatterpolar"
           }
          ],
          "scatterpolargl": [
           {
            "marker": {
             "colorbar": {
              "outlinewidth": 0,
              "ticks": ""
             }
            },
            "type": "scatterpolargl"
           }
          ],
          "scatterternary": [
           {
            "marker": {
             "colorbar": {
              "outlinewidth": 0,
              "ticks": ""
             }
            },
            "type": "scatterternary"
           }
          ],
          "surface": [
           {
            "colorbar": {
             "outlinewidth": 0,
             "ticks": ""
            },
            "colorscale": [
             [
              0,
              "#0d0887"
             ],
             [
              0.1111111111111111,
              "#46039f"
             ],
             [
              0.2222222222222222,
              "#7201a8"
             ],
             [
              0.3333333333333333,
              "#9c179e"
             ],
             [
              0.4444444444444444,
              "#bd3786"
             ],
             [
              0.5555555555555556,
              "#d8576b"
             ],
             [
              0.6666666666666666,
              "#ed7953"
             ],
             [
              0.7777777777777778,
              "#fb9f3a"
             ],
             [
              0.8888888888888888,
              "#fdca26"
             ],
             [
              1,
              "#f0f921"
             ]
            ],
            "type": "surface"
           }
          ],
          "table": [
           {
            "cells": {
             "fill": {
              "color": "#EBF0F8"
             },
             "line": {
              "color": "white"
             }
            },
            "header": {
             "fill": {
              "color": "#C8D4E3"
             },
             "line": {
              "color": "white"
             }
            },
            "type": "table"
           }
          ]
         },
         "layout": {
          "annotationdefaults": {
           "arrowcolor": "#2a3f5f",
           "arrowhead": 0,
           "arrowwidth": 1
          },
          "autotypenumbers": "strict",
          "coloraxis": {
           "colorbar": {
            "outlinewidth": 0,
            "ticks": ""
           }
          },
          "colorscale": {
           "diverging": [
            [
             0,
             "#8e0152"
            ],
            [
             0.1,
             "#c51b7d"
            ],
            [
             0.2,
             "#de77ae"
            ],
            [
             0.3,
             "#f1b6da"
            ],
            [
             0.4,
             "#fde0ef"
            ],
            [
             0.5,
             "#f7f7f7"
            ],
            [
             0.6,
             "#e6f5d0"
            ],
            [
             0.7,
             "#b8e186"
            ],
            [
             0.8,
             "#7fbc41"
            ],
            [
             0.9,
             "#4d9221"
            ],
            [
             1,
             "#276419"
            ]
           ],
           "sequential": [
            [
             0,
             "#0d0887"
            ],
            [
             0.1111111111111111,
             "#46039f"
            ],
            [
             0.2222222222222222,
             "#7201a8"
            ],
            [
             0.3333333333333333,
             "#9c179e"
            ],
            [
             0.4444444444444444,
             "#bd3786"
            ],
            [
             0.5555555555555556,
             "#d8576b"
            ],
            [
             0.6666666666666666,
             "#ed7953"
            ],
            [
             0.7777777777777778,
             "#fb9f3a"
            ],
            [
             0.8888888888888888,
             "#fdca26"
            ],
            [
             1,
             "#f0f921"
            ]
           ],
           "sequentialminus": [
            [
             0,
             "#0d0887"
            ],
            [
             0.1111111111111111,
             "#46039f"
            ],
            [
             0.2222222222222222,
             "#7201a8"
            ],
            [
             0.3333333333333333,
             "#9c179e"
            ],
            [
             0.4444444444444444,
             "#bd3786"
            ],
            [
             0.5555555555555556,
             "#d8576b"
            ],
            [
             0.6666666666666666,
             "#ed7953"
            ],
            [
             0.7777777777777778,
             "#fb9f3a"
            ],
            [
             0.8888888888888888,
             "#fdca26"
            ],
            [
             1,
             "#f0f921"
            ]
           ]
          },
          "colorway": [
           "#636efa",
           "#EF553B",
           "#00cc96",
           "#ab63fa",
           "#FFA15A",
           "#19d3f3",
           "#FF6692",
           "#B6E880",
           "#FF97FF",
           "#FECB52"
          ],
          "font": {
           "color": "#2a3f5f"
          },
          "geo": {
           "bgcolor": "white",
           "lakecolor": "white",
           "landcolor": "#E5ECF6",
           "showlakes": true,
           "showland": true,
           "subunitcolor": "white"
          },
          "hoverlabel": {
           "align": "left"
          },
          "hovermode": "closest",
          "mapbox": {
           "style": "light"
          },
          "paper_bgcolor": "white",
          "plot_bgcolor": "#E5ECF6",
          "polar": {
           "angularaxis": {
            "gridcolor": "white",
            "linecolor": "white",
            "ticks": ""
           },
           "bgcolor": "#E5ECF6",
           "radialaxis": {
            "gridcolor": "white",
            "linecolor": "white",
            "ticks": ""
           }
          },
          "scene": {
           "xaxis": {
            "backgroundcolor": "#E5ECF6",
            "gridcolor": "white",
            "gridwidth": 2,
            "linecolor": "white",
            "showbackground": true,
            "ticks": "",
            "zerolinecolor": "white"
           },
           "yaxis": {
            "backgroundcolor": "#E5ECF6",
            "gridcolor": "white",
            "gridwidth": 2,
            "linecolor": "white",
            "showbackground": true,
            "ticks": "",
            "zerolinecolor": "white"
           },
           "zaxis": {
            "backgroundcolor": "#E5ECF6",
            "gridcolor": "white",
            "gridwidth": 2,
            "linecolor": "white",
            "showbackground": true,
            "ticks": "",
            "zerolinecolor": "white"
           }
          },
          "shapedefaults": {
           "line": {
            "color": "#2a3f5f"
           }
          },
          "ternary": {
           "aaxis": {
            "gridcolor": "white",
            "linecolor": "white",
            "ticks": ""
           },
           "baxis": {
            "gridcolor": "white",
            "linecolor": "white",
            "ticks": ""
           },
           "bgcolor": "#E5ECF6",
           "caxis": {
            "gridcolor": "white",
            "linecolor": "white",
            "ticks": ""
           }
          },
          "title": {
           "x": 0.05
          },
          "xaxis": {
           "automargin": true,
           "gridcolor": "white",
           "linecolor": "white",
           "ticks": "",
           "title": {
            "standoff": 15
           },
           "zerolinecolor": "white",
           "zerolinewidth": 2
          },
          "yaxis": {
           "automargin": true,
           "gridcolor": "white",
           "linecolor": "white",
           "ticks": "",
           "title": {
            "standoff": 15
           },
           "zerolinecolor": "white",
           "zerolinewidth": 2
          }
         }
        },
        "title": {
         "text": "ITESO LEFT<br>R2: 0.7580750852187871 RMSE: 3.7036253994756874"
        }
       }
      }
     },
     "metadata": {},
     "output_type": "display_data"
    }
   ],
   "source": [
    "# Definir rangos para las variables independientes\n",
    "x1_range = np.linspace(min(x_train_left['width']), max(x_train_left['width']), 20)\n",
    "x2_range = np.linspace(min(x_train_left['shoe_size']), max(x_train_left['shoe_size']), 20)\n",
    "x1_mesh, x2_mesh = np.meshgrid(x1_range, x2_range)\n",
    "\n",
    "# Escalar el meshgrid para predicción\n",
    "x_mesh_scaled = ss_left.transform(np.vstack((x1_mesh.ravel(), x2_mesh.ravel())).T)\n",
    "\n",
    "# Predecir los valores con el modelo escalado\n",
    "y_mesh_scaled = rg_l.predict(x_mesh_scaled)\n",
    "\n",
    "# Crear scatterplot 3D de los puntos reales\n",
    "scatter = go.Scatter3d(\n",
    "    x=x_test_left['width'], y=x_test_left['shoe_size'], z=y_test_left,\n",
    "    mode='markers',\n",
    "    marker=dict(size=8, color='red', opacity=0.7)\n",
    ")\n",
    "\n",
    "# Crear el plano de regresión\n",
    "surface = go.Surface(\n",
    "    x=x1_mesh, y=x2_mesh, z=y_mesh_scaled.reshape(x1_mesh.shape),\n",
    "    colorscale='Viridis', opacity=0.5\n",
    ")\n",
    "\n",
    "# Configuración del layout\n",
    "layout = go.Layout(\n",
    "    title=f\"ITESO LEFT<br>R2: {r2_score(y_test_left, r_pred_left)} RMSE: {root_mean_squared_error(y_test_left, r_pred_left)}\",\n",
    "    scene=dict(\n",
    "        xaxis_title='Ancho',\n",
    "        yaxis_title='Pie',\n",
    "        zaxis_title='Altura'\n",
    "    )\n",
    ")\n",
    "\n",
    "# Crear la figura\n",
    "fig = go.Figure(data=[scatter, surface], layout=layout)\n",
    "\n",
    "# Mostrar la figura interactiva\n",
    "fig.show()"
   ]
  },
  {
   "cell_type": "markdown",
   "metadata": {},
   "source": [
    "### Center model"
   ]
  },
  {
   "cell_type": "code",
   "execution_count": 109,
   "metadata": {},
   "outputs": [
    {
     "name": "stdout",
     "output_type": "stream",
     "text": [
      "R2: 0.8484303924224865 RMSE: 4.280983988385949\n"
     ]
    }
   ],
   "source": [
    "rg_c = Ridge(alpha = 1.26)\n",
    "rg_c.fit(X_train_s_center, y_train_center)\n",
    "r_pred_center = rg_c.predict(X_test_s_center)\n",
    "print(f\"R2: {r2_score(y_test_center, r_pred_center)} RMSE: {root_mean_squared_error(y_test_center, r_pred_center)}\")"
   ]
  },
  {
   "cell_type": "code",
   "execution_count": 110,
   "metadata": {},
   "outputs": [
    {
     "name": "stdout",
     "output_type": "stream",
     "text": [
      "Pendientes: [0.84705044 7.40777022]\n",
      "Intercepto: 169.1014492753623\n"
     ]
    }
   ],
   "source": [
    "print(f\"Pendientes: {rg_c.coef_}\")\n",
    "print(f\"Intercepto: {rg_c.intercept_}\")"
   ]
  },
  {
   "cell_type": "code",
   "execution_count": 111,
   "metadata": {},
   "outputs": [
    {
     "name": "stderr",
     "output_type": "stream",
     "text": [
      "c:\\Users\\cesar\\anaconda3\\envs\\iteso\\lib\\site-packages\\sklearn\\base.py:493: UserWarning:\n",
      "\n",
      "X does not have valid feature names, but StandardScaler was fitted with feature names\n",
      "\n"
     ]
    }
   ],
   "source": [
    "values_para_center = ss_center.transform([[36,22.5]])"
   ]
  },
  {
   "cell_type": "code",
   "execution_count": 112,
   "metadata": {},
   "outputs": [
    {
     "data": {
      "text/plain": [
       "array([155.08588937])"
      ]
     },
     "execution_count": 112,
     "metadata": {},
     "output_type": "execute_result"
    }
   ],
   "source": [
    "rg_c.predict(values_para_center)"
   ]
  },
  {
   "cell_type": "code",
   "execution_count": 113,
   "metadata": {},
   "outputs": [
    {
     "name": "stderr",
     "output_type": "stream",
     "text": [
      "c:\\Users\\cesar\\anaconda3\\envs\\iteso\\lib\\site-packages\\sklearn\\base.py:493: UserWarning:\n",
      "\n",
      "X does not have valid feature names, but StandardScaler was fitted with feature names\n",
      "\n"
     ]
    },
    {
     "data": {
      "application/vnd.plotly.v1+json": {
       "config": {
        "plotlyServerURL": "https://plot.ly"
       },
       "data": [
        {
         "marker": {
          "color": "red",
          "opacity": 0.7,
          "size": 8
         },
         "mode": "markers",
         "type": "scatter3d",
         "x": [
          42,
          46,
          40,
          48,
          34,
          48,
          42,
          46,
          44,
          45,
          39,
          49,
          52,
          50,
          36,
          46,
          41,
          43
         ],
         "y": [
          27,
          24,
          23,
          28,
          24,
          29,
          24,
          28,
          23,
          27.5,
          22.5,
          27.5,
          30,
          28,
          23,
          27,
          23,
          25
         ],
         "z": [
          177,
          170,
          159,
          176,
          154,
          187,
          162,
          182,
          162,
          175,
          150,
          175,
          190,
          173,
          164,
          172,
          154,
          168
         ]
        },
        {
         "colorscale": [
          [
           0,
           "#440154"
          ],
          [
           0.1111111111111111,
           "#482878"
          ],
          [
           0.2222222222222222,
           "#3e4989"
          ],
          [
           0.3333333333333333,
           "#31688e"
          ],
          [
           0.4444444444444444,
           "#26828e"
          ],
          [
           0.5555555555555556,
           "#1f9e89"
          ],
          [
           0.6666666666666666,
           "#35b779"
          ],
          [
           0.7777777777777778,
           "#6ece58"
          ],
          [
           0.8888888888888888,
           "#b5de2b"
          ],
          [
           1,
           "#fde725"
          ]
         ],
         "opacity": 0.5,
         "type": "surface",
         "x": [
          [
           33,
           34.473684210526315,
           35.94736842105263,
           37.421052631578945,
           38.89473684210526,
           40.368421052631575,
           41.84210526315789,
           43.31578947368421,
           44.78947368421053,
           46.26315789473684,
           47.73684210526316,
           49.21052631578947,
           50.68421052631579,
           52.1578947368421,
           53.631578947368425,
           55.10526315789474,
           56.578947368421055,
           58.05263157894737,
           59.526315789473685,
           61
          ],
          [
           33,
           34.473684210526315,
           35.94736842105263,
           37.421052631578945,
           38.89473684210526,
           40.368421052631575,
           41.84210526315789,
           43.31578947368421,
           44.78947368421053,
           46.26315789473684,
           47.73684210526316,
           49.21052631578947,
           50.68421052631579,
           52.1578947368421,
           53.631578947368425,
           55.10526315789474,
           56.578947368421055,
           58.05263157894737,
           59.526315789473685,
           61
          ],
          [
           33,
           34.473684210526315,
           35.94736842105263,
           37.421052631578945,
           38.89473684210526,
           40.368421052631575,
           41.84210526315789,
           43.31578947368421,
           44.78947368421053,
           46.26315789473684,
           47.73684210526316,
           49.21052631578947,
           50.68421052631579,
           52.1578947368421,
           53.631578947368425,
           55.10526315789474,
           56.578947368421055,
           58.05263157894737,
           59.526315789473685,
           61
          ],
          [
           33,
           34.473684210526315,
           35.94736842105263,
           37.421052631578945,
           38.89473684210526,
           40.368421052631575,
           41.84210526315789,
           43.31578947368421,
           44.78947368421053,
           46.26315789473684,
           47.73684210526316,
           49.21052631578947,
           50.68421052631579,
           52.1578947368421,
           53.631578947368425,
           55.10526315789474,
           56.578947368421055,
           58.05263157894737,
           59.526315789473685,
           61
          ],
          [
           33,
           34.473684210526315,
           35.94736842105263,
           37.421052631578945,
           38.89473684210526,
           40.368421052631575,
           41.84210526315789,
           43.31578947368421,
           44.78947368421053,
           46.26315789473684,
           47.73684210526316,
           49.21052631578947,
           50.68421052631579,
           52.1578947368421,
           53.631578947368425,
           55.10526315789474,
           56.578947368421055,
           58.05263157894737,
           59.526315789473685,
           61
          ],
          [
           33,
           34.473684210526315,
           35.94736842105263,
           37.421052631578945,
           38.89473684210526,
           40.368421052631575,
           41.84210526315789,
           43.31578947368421,
           44.78947368421053,
           46.26315789473684,
           47.73684210526316,
           49.21052631578947,
           50.68421052631579,
           52.1578947368421,
           53.631578947368425,
           55.10526315789474,
           56.578947368421055,
           58.05263157894737,
           59.526315789473685,
           61
          ],
          [
           33,
           34.473684210526315,
           35.94736842105263,
           37.421052631578945,
           38.89473684210526,
           40.368421052631575,
           41.84210526315789,
           43.31578947368421,
           44.78947368421053,
           46.26315789473684,
           47.73684210526316,
           49.21052631578947,
           50.68421052631579,
           52.1578947368421,
           53.631578947368425,
           55.10526315789474,
           56.578947368421055,
           58.05263157894737,
           59.526315789473685,
           61
          ],
          [
           33,
           34.473684210526315,
           35.94736842105263,
           37.421052631578945,
           38.89473684210526,
           40.368421052631575,
           41.84210526315789,
           43.31578947368421,
           44.78947368421053,
           46.26315789473684,
           47.73684210526316,
           49.21052631578947,
           50.68421052631579,
           52.1578947368421,
           53.631578947368425,
           55.10526315789474,
           56.578947368421055,
           58.05263157894737,
           59.526315789473685,
           61
          ],
          [
           33,
           34.473684210526315,
           35.94736842105263,
           37.421052631578945,
           38.89473684210526,
           40.368421052631575,
           41.84210526315789,
           43.31578947368421,
           44.78947368421053,
           46.26315789473684,
           47.73684210526316,
           49.21052631578947,
           50.68421052631579,
           52.1578947368421,
           53.631578947368425,
           55.10526315789474,
           56.578947368421055,
           58.05263157894737,
           59.526315789473685,
           61
          ],
          [
           33,
           34.473684210526315,
           35.94736842105263,
           37.421052631578945,
           38.89473684210526,
           40.368421052631575,
           41.84210526315789,
           43.31578947368421,
           44.78947368421053,
           46.26315789473684,
           47.73684210526316,
           49.21052631578947,
           50.68421052631579,
           52.1578947368421,
           53.631578947368425,
           55.10526315789474,
           56.578947368421055,
           58.05263157894737,
           59.526315789473685,
           61
          ],
          [
           33,
           34.473684210526315,
           35.94736842105263,
           37.421052631578945,
           38.89473684210526,
           40.368421052631575,
           41.84210526315789,
           43.31578947368421,
           44.78947368421053,
           46.26315789473684,
           47.73684210526316,
           49.21052631578947,
           50.68421052631579,
           52.1578947368421,
           53.631578947368425,
           55.10526315789474,
           56.578947368421055,
           58.05263157894737,
           59.526315789473685,
           61
          ],
          [
           33,
           34.473684210526315,
           35.94736842105263,
           37.421052631578945,
           38.89473684210526,
           40.368421052631575,
           41.84210526315789,
           43.31578947368421,
           44.78947368421053,
           46.26315789473684,
           47.73684210526316,
           49.21052631578947,
           50.68421052631579,
           52.1578947368421,
           53.631578947368425,
           55.10526315789474,
           56.578947368421055,
           58.05263157894737,
           59.526315789473685,
           61
          ],
          [
           33,
           34.473684210526315,
           35.94736842105263,
           37.421052631578945,
           38.89473684210526,
           40.368421052631575,
           41.84210526315789,
           43.31578947368421,
           44.78947368421053,
           46.26315789473684,
           47.73684210526316,
           49.21052631578947,
           50.68421052631579,
           52.1578947368421,
           53.631578947368425,
           55.10526315789474,
           56.578947368421055,
           58.05263157894737,
           59.526315789473685,
           61
          ],
          [
           33,
           34.473684210526315,
           35.94736842105263,
           37.421052631578945,
           38.89473684210526,
           40.368421052631575,
           41.84210526315789,
           43.31578947368421,
           44.78947368421053,
           46.26315789473684,
           47.73684210526316,
           49.21052631578947,
           50.68421052631579,
           52.1578947368421,
           53.631578947368425,
           55.10526315789474,
           56.578947368421055,
           58.05263157894737,
           59.526315789473685,
           61
          ],
          [
           33,
           34.473684210526315,
           35.94736842105263,
           37.421052631578945,
           38.89473684210526,
           40.368421052631575,
           41.84210526315789,
           43.31578947368421,
           44.78947368421053,
           46.26315789473684,
           47.73684210526316,
           49.21052631578947,
           50.68421052631579,
           52.1578947368421,
           53.631578947368425,
           55.10526315789474,
           56.578947368421055,
           58.05263157894737,
           59.526315789473685,
           61
          ],
          [
           33,
           34.473684210526315,
           35.94736842105263,
           37.421052631578945,
           38.89473684210526,
           40.368421052631575,
           41.84210526315789,
           43.31578947368421,
           44.78947368421053,
           46.26315789473684,
           47.73684210526316,
           49.21052631578947,
           50.68421052631579,
           52.1578947368421,
           53.631578947368425,
           55.10526315789474,
           56.578947368421055,
           58.05263157894737,
           59.526315789473685,
           61
          ],
          [
           33,
           34.473684210526315,
           35.94736842105263,
           37.421052631578945,
           38.89473684210526,
           40.368421052631575,
           41.84210526315789,
           43.31578947368421,
           44.78947368421053,
           46.26315789473684,
           47.73684210526316,
           49.21052631578947,
           50.68421052631579,
           52.1578947368421,
           53.631578947368425,
           55.10526315789474,
           56.578947368421055,
           58.05263157894737,
           59.526315789473685,
           61
          ],
          [
           33,
           34.473684210526315,
           35.94736842105263,
           37.421052631578945,
           38.89473684210526,
           40.368421052631575,
           41.84210526315789,
           43.31578947368421,
           44.78947368421053,
           46.26315789473684,
           47.73684210526316,
           49.21052631578947,
           50.68421052631579,
           52.1578947368421,
           53.631578947368425,
           55.10526315789474,
           56.578947368421055,
           58.05263157894737,
           59.526315789473685,
           61
          ],
          [
           33,
           34.473684210526315,
           35.94736842105263,
           37.421052631578945,
           38.89473684210526,
           40.368421052631575,
           41.84210526315789,
           43.31578947368421,
           44.78947368421053,
           46.26315789473684,
           47.73684210526316,
           49.21052631578947,
           50.68421052631579,
           52.1578947368421,
           53.631578947368425,
           55.10526315789474,
           56.578947368421055,
           58.05263157894737,
           59.526315789473685,
           61
          ],
          [
           33,
           34.473684210526315,
           35.94736842105263,
           37.421052631578945,
           38.89473684210526,
           40.368421052631575,
           41.84210526315789,
           43.31578947368421,
           44.78947368421053,
           46.26315789473684,
           47.73684210526316,
           49.21052631578947,
           50.68421052631579,
           52.1578947368421,
           53.631578947368425,
           55.10526315789474,
           56.578947368421055,
           58.05263157894737,
           59.526315789473685,
           61
          ]
         ],
         "y": [
          [
           22,
           22,
           22,
           22,
           22,
           22,
           22,
           22,
           22,
           22,
           22,
           22,
           22,
           22,
           22,
           22,
           22,
           22,
           22,
           22
          ],
          [
           22.42105263157895,
           22.42105263157895,
           22.42105263157895,
           22.42105263157895,
           22.42105263157895,
           22.42105263157895,
           22.42105263157895,
           22.42105263157895,
           22.42105263157895,
           22.42105263157895,
           22.42105263157895,
           22.42105263157895,
           22.42105263157895,
           22.42105263157895,
           22.42105263157895,
           22.42105263157895,
           22.42105263157895,
           22.42105263157895,
           22.42105263157895,
           22.42105263157895
          ],
          [
           22.842105263157894,
           22.842105263157894,
           22.842105263157894,
           22.842105263157894,
           22.842105263157894,
           22.842105263157894,
           22.842105263157894,
           22.842105263157894,
           22.842105263157894,
           22.842105263157894,
           22.842105263157894,
           22.842105263157894,
           22.842105263157894,
           22.842105263157894,
           22.842105263157894,
           22.842105263157894,
           22.842105263157894,
           22.842105263157894,
           22.842105263157894,
           22.842105263157894
          ],
          [
           23.263157894736842,
           23.263157894736842,
           23.263157894736842,
           23.263157894736842,
           23.263157894736842,
           23.263157894736842,
           23.263157894736842,
           23.263157894736842,
           23.263157894736842,
           23.263157894736842,
           23.263157894736842,
           23.263157894736842,
           23.263157894736842,
           23.263157894736842,
           23.263157894736842,
           23.263157894736842,
           23.263157894736842,
           23.263157894736842,
           23.263157894736842,
           23.263157894736842
          ],
          [
           23.684210526315788,
           23.684210526315788,
           23.684210526315788,
           23.684210526315788,
           23.684210526315788,
           23.684210526315788,
           23.684210526315788,
           23.684210526315788,
           23.684210526315788,
           23.684210526315788,
           23.684210526315788,
           23.684210526315788,
           23.684210526315788,
           23.684210526315788,
           23.684210526315788,
           23.684210526315788,
           23.684210526315788,
           23.684210526315788,
           23.684210526315788,
           23.684210526315788
          ],
          [
           24.105263157894736,
           24.105263157894736,
           24.105263157894736,
           24.105263157894736,
           24.105263157894736,
           24.105263157894736,
           24.105263157894736,
           24.105263157894736,
           24.105263157894736,
           24.105263157894736,
           24.105263157894736,
           24.105263157894736,
           24.105263157894736,
           24.105263157894736,
           24.105263157894736,
           24.105263157894736,
           24.105263157894736,
           24.105263157894736,
           24.105263157894736,
           24.105263157894736
          ],
          [
           24.526315789473685,
           24.526315789473685,
           24.526315789473685,
           24.526315789473685,
           24.526315789473685,
           24.526315789473685,
           24.526315789473685,
           24.526315789473685,
           24.526315789473685,
           24.526315789473685,
           24.526315789473685,
           24.526315789473685,
           24.526315789473685,
           24.526315789473685,
           24.526315789473685,
           24.526315789473685,
           24.526315789473685,
           24.526315789473685,
           24.526315789473685,
           24.526315789473685
          ],
          [
           24.94736842105263,
           24.94736842105263,
           24.94736842105263,
           24.94736842105263,
           24.94736842105263,
           24.94736842105263,
           24.94736842105263,
           24.94736842105263,
           24.94736842105263,
           24.94736842105263,
           24.94736842105263,
           24.94736842105263,
           24.94736842105263,
           24.94736842105263,
           24.94736842105263,
           24.94736842105263,
           24.94736842105263,
           24.94736842105263,
           24.94736842105263,
           24.94736842105263
          ],
          [
           25.36842105263158,
           25.36842105263158,
           25.36842105263158,
           25.36842105263158,
           25.36842105263158,
           25.36842105263158,
           25.36842105263158,
           25.36842105263158,
           25.36842105263158,
           25.36842105263158,
           25.36842105263158,
           25.36842105263158,
           25.36842105263158,
           25.36842105263158,
           25.36842105263158,
           25.36842105263158,
           25.36842105263158,
           25.36842105263158,
           25.36842105263158,
           25.36842105263158
          ],
          [
           25.789473684210527,
           25.789473684210527,
           25.789473684210527,
           25.789473684210527,
           25.789473684210527,
           25.789473684210527,
           25.789473684210527,
           25.789473684210527,
           25.789473684210527,
           25.789473684210527,
           25.789473684210527,
           25.789473684210527,
           25.789473684210527,
           25.789473684210527,
           25.789473684210527,
           25.789473684210527,
           25.789473684210527,
           25.789473684210527,
           25.789473684210527,
           25.789473684210527
          ],
          [
           26.210526315789473,
           26.210526315789473,
           26.210526315789473,
           26.210526315789473,
           26.210526315789473,
           26.210526315789473,
           26.210526315789473,
           26.210526315789473,
           26.210526315789473,
           26.210526315789473,
           26.210526315789473,
           26.210526315789473,
           26.210526315789473,
           26.210526315789473,
           26.210526315789473,
           26.210526315789473,
           26.210526315789473,
           26.210526315789473,
           26.210526315789473,
           26.210526315789473
          ],
          [
           26.63157894736842,
           26.63157894736842,
           26.63157894736842,
           26.63157894736842,
           26.63157894736842,
           26.63157894736842,
           26.63157894736842,
           26.63157894736842,
           26.63157894736842,
           26.63157894736842,
           26.63157894736842,
           26.63157894736842,
           26.63157894736842,
           26.63157894736842,
           26.63157894736842,
           26.63157894736842,
           26.63157894736842,
           26.63157894736842,
           26.63157894736842,
           26.63157894736842
          ],
          [
           27.05263157894737,
           27.05263157894737,
           27.05263157894737,
           27.05263157894737,
           27.05263157894737,
           27.05263157894737,
           27.05263157894737,
           27.05263157894737,
           27.05263157894737,
           27.05263157894737,
           27.05263157894737,
           27.05263157894737,
           27.05263157894737,
           27.05263157894737,
           27.05263157894737,
           27.05263157894737,
           27.05263157894737,
           27.05263157894737,
           27.05263157894737,
           27.05263157894737
          ],
          [
           27.473684210526315,
           27.473684210526315,
           27.473684210526315,
           27.473684210526315,
           27.473684210526315,
           27.473684210526315,
           27.473684210526315,
           27.473684210526315,
           27.473684210526315,
           27.473684210526315,
           27.473684210526315,
           27.473684210526315,
           27.473684210526315,
           27.473684210526315,
           27.473684210526315,
           27.473684210526315,
           27.473684210526315,
           27.473684210526315,
           27.473684210526315,
           27.473684210526315
          ],
          [
           27.894736842105264,
           27.894736842105264,
           27.894736842105264,
           27.894736842105264,
           27.894736842105264,
           27.894736842105264,
           27.894736842105264,
           27.894736842105264,
           27.894736842105264,
           27.894736842105264,
           27.894736842105264,
           27.894736842105264,
           27.894736842105264,
           27.894736842105264,
           27.894736842105264,
           27.894736842105264,
           27.894736842105264,
           27.894736842105264,
           27.894736842105264,
           27.894736842105264
          ],
          [
           28.315789473684212,
           28.315789473684212,
           28.315789473684212,
           28.315789473684212,
           28.315789473684212,
           28.315789473684212,
           28.315789473684212,
           28.315789473684212,
           28.315789473684212,
           28.315789473684212,
           28.315789473684212,
           28.315789473684212,
           28.315789473684212,
           28.315789473684212,
           28.315789473684212,
           28.315789473684212,
           28.315789473684212,
           28.315789473684212,
           28.315789473684212,
           28.315789473684212
          ],
          [
           28.736842105263158,
           28.736842105263158,
           28.736842105263158,
           28.736842105263158,
           28.736842105263158,
           28.736842105263158,
           28.736842105263158,
           28.736842105263158,
           28.736842105263158,
           28.736842105263158,
           28.736842105263158,
           28.736842105263158,
           28.736842105263158,
           28.736842105263158,
           28.736842105263158,
           28.736842105263158,
           28.736842105263158,
           28.736842105263158,
           28.736842105263158,
           28.736842105263158
          ],
          [
           29.157894736842103,
           29.157894736842103,
           29.157894736842103,
           29.157894736842103,
           29.157894736842103,
           29.157894736842103,
           29.157894736842103,
           29.157894736842103,
           29.157894736842103,
           29.157894736842103,
           29.157894736842103,
           29.157894736842103,
           29.157894736842103,
           29.157894736842103,
           29.157894736842103,
           29.157894736842103,
           29.157894736842103,
           29.157894736842103,
           29.157894736842103,
           29.157894736842103
          ],
          [
           29.57894736842105,
           29.57894736842105,
           29.57894736842105,
           29.57894736842105,
           29.57894736842105,
           29.57894736842105,
           29.57894736842105,
           29.57894736842105,
           29.57894736842105,
           29.57894736842105,
           29.57894736842105,
           29.57894736842105,
           29.57894736842105,
           29.57894736842105,
           29.57894736842105,
           29.57894736842105,
           29.57894736842105,
           29.57894736842105,
           29.57894736842105,
           29.57894736842105
          ],
          [
           30,
           30,
           30,
           30,
           30,
           30,
           30,
           30,
           30,
           30,
           30,
           30,
           30,
           30,
           30,
           30,
           30,
           30,
           30,
           30
          ]
         ],
         "z": [
          [
           152.71101036802503,
           152.9473434499566,
           153.18367653188818,
           153.42000961381976,
           153.65634269575133,
           153.8926757776829,
           154.1290088596145,
           154.3653419415461,
           154.60167502347767,
           154.83800810540924,
           155.07434118734082,
           155.3106742692724,
           155.54700735120397,
           155.78334043313555,
           156.01967351506713,
           156.25600659699873,
           156.4923396789303,
           156.72867276086188,
           156.96500584279346,
           157.20133892472504
          ],
          [
           154.30576605215074,
           154.54209913408232,
           154.7784322160139,
           155.01476529794547,
           155.25109837987708,
           155.48743146180865,
           155.72376454374023,
           155.9600976256718,
           156.19643070760338,
           156.43276378953496,
           156.66909687146654,
           156.9054299533981,
           157.1417630353297,
           157.3780961172613,
           157.61442919919287,
           157.85076228112445,
           158.08709536305602,
           158.3234284449876,
           158.55976152691917,
           158.79609460885075
          ],
          [
           155.90052173627646,
           156.13685481820804,
           156.3731879001396,
           156.6095209820712,
           156.84585406400276,
           157.08218714593437,
           157.31852022786595,
           157.55485330979752,
           157.7911863917291,
           158.02751947366067,
           158.26385255559225,
           158.50018563752383,
           158.7365187194554,
           158.97285180138698,
           159.20918488331858,
           159.44551796525016,
           159.68185104718174,
           159.9181841291133,
           160.1545172110449,
           160.39085029297647
          ],
          [
           157.49527742040218,
           157.73161050233375,
           157.96794358426536,
           158.20427666619693,
           158.4406097481285,
           158.67694283006009,
           158.91327591199166,
           159.14960899392324,
           159.3859420758548,
           159.6222751577864,
           159.85860823971797,
           160.09494132164957,
           160.33127440358115,
           160.56760748551272,
           160.8039405674443,
           161.04027364937588,
           161.27660673130745,
           161.51293981323903,
           161.7492728951706,
           161.98560597710218
          ],
          [
           159.0900331045279,
           159.32636618645947,
           159.56269926839104,
           159.79903235032262,
           160.0353654322542,
           160.2716985141858,
           160.50803159611738,
           160.74436467804895,
           160.98069775998053,
           161.2170308419121,
           161.45336392384368,
           161.68969700577526,
           161.92603008770683,
           162.16236316963844,
           162.39869625157002,
           162.6350293335016,
           162.87136241543317,
           163.10769549736474,
           163.34402857929632,
           163.5803616612279
          ],
          [
           160.6847887886536,
           160.92112187058518,
           161.1574549525168,
           161.39378803444836,
           161.63012111637994,
           161.86645419831152,
           162.1027872802431,
           162.33912036217467,
           162.57545344410624,
           162.81178652603782,
           163.04811960796943,
           163.284452689901,
           163.52078577183258,
           163.75711885376415,
           163.99345193569573,
           164.2297850176273,
           164.46611809955888,
           164.70245118149046,
           164.93878426342204,
           165.17511734535364
          ],
          [
           162.27954447277935,
           162.51587755471093,
           162.7522106366425,
           162.98854371857408,
           163.22487680050565,
           163.46120988243723,
           163.6975429643688,
           163.9338760463004,
           164.170209128232,
           164.40654221016356,
           164.64287529209514,
           164.87920837402672,
           165.1155414559583,
           165.35187453788987,
           165.58820761982145,
           165.82454070175302,
           166.06087378368463,
           166.2972068656162,
           166.53353994754778,
           166.76987302947936
          ],
          [
           163.87430015690506,
           164.11063323883664,
           164.34696632076822,
           164.5832994026998,
           164.81963248463137,
           165.05596556656295,
           165.29229864849452,
           165.5286317304261,
           165.76496481235768,
           166.00129789428928,
           166.23763097622086,
           166.47396405815243,
           166.710297140084,
           166.94663022201559,
           167.18296330394716,
           167.41929638587874,
           167.65562946781031,
           167.8919625497419,
           168.1282956316735,
           168.36462871360507
          ],
          [
           165.46905584103078,
           165.70538892296236,
           165.94172200489393,
           166.1780550868255,
           166.41438816875709,
           166.65072125068866,
           166.88705433262027,
           167.12338741455184,
           167.35972049648342,
           167.596053578415,
           167.83238666034657,
           168.06871974227815,
           168.30505282420972,
           168.5413859061413,
           168.7777189880729,
           169.01405207000448,
           169.25038515193606,
           169.48671823386763,
           169.7230513157992,
           169.9593843977308
          ],
          [
           167.0638115251565,
           167.30014460708807,
           167.53647768901965,
           167.77281077095125,
           168.00914385288283,
           168.2454769348144,
           168.48181001674598,
           168.71814309867756,
           168.95447618060913,
           169.1908092625407,
           169.4271423444723,
           169.66347542640386,
           169.89980850833547,
           170.13614159026704,
           170.37247467219862,
           170.6088077541302,
           170.84514083606177,
           171.08147391799335,
           171.31780699992493,
           171.5541400818565
          ],
          [
           168.6585672092822,
           168.8949002912138,
           169.13123337314536,
           169.36756645507694,
           169.60389953700854,
           169.84023261894012,
           170.0765657008717,
           170.31289878280327,
           170.54923186473485,
           170.78556494666643,
           171.021898028598,
           171.25823111052958,
           171.49456419246116,
           171.73089727439276,
           171.96723035632434,
           172.2035634382559,
           172.4398965201875,
           172.67622960211907,
           172.91256268405064,
           173.14889576598222
          ],
          [
           170.25332289340793,
           170.4896559753395,
           170.7259890572711,
           170.96232213920268,
           171.19865522113426,
           171.43498830306584,
           171.6713213849974,
           171.907654466929,
           172.14398754886057,
           172.38032063079214,
           172.61665371272375,
           172.85298679465532,
           173.0893198765869,
           173.32565295851848,
           173.56198604045005,
           173.79831912238163,
           174.0346522043132,
           174.27098528624478,
           174.50731836817636,
           174.74365145010796
          ],
          [
           171.84807857753367,
           172.08441165946525,
           172.32074474139682,
           172.5570778233284,
           172.79341090525998,
           173.02974398719155,
           173.26607706912313,
           173.50241015105473,
           173.7387432329863,
           173.97507631491789,
           174.21140939684946,
           174.44774247878104,
           174.6840755607126,
           174.9204086426442,
           175.15674172457577,
           175.39307480650734,
           175.62940788843895,
           175.86574097037052,
           176.1020740523021,
           176.33840713423368
          ],
          [
           173.44283426165936,
           173.67916734359096,
           173.91550042552254,
           174.1518335074541,
           174.3881665893857,
           174.62449967131727,
           174.86083275324884,
           175.09716583518042,
           175.333498917112,
           175.5698319990436,
           175.80616508097518,
           176.04249816290675,
           176.27883124483833,
           176.5151643267699,
           176.75149740870148,
           176.98783049063306,
           177.22416357256463,
           177.4604966544962,
           177.69682973642782,
           177.9331628183594
          ],
          [
           175.0375899457851,
           175.27392302771668,
           175.51025610964825,
           175.74658919157983,
           175.9829222735114,
           176.21925535544298,
           176.45558843737456,
           176.69192151930616,
           176.92825460123774,
           177.16458768316932,
           177.4009207651009,
           177.63725384703247,
           177.87358692896404,
           178.10992001089562,
           178.3462530928272,
           178.5825861747588,
           178.81891925669038,
           179.05525233862195,
           179.29158542055353,
           179.5279185024851
          ],
          [
           176.63234562991082,
           176.8686787118424,
           177.10501179377397,
           177.34134487570554,
           177.57767795763715,
           177.81401103956873,
           178.0503441215003,
           178.28667720343188,
           178.52301028536345,
           178.75934336729503,
           178.9956764492266,
           179.23200953115818,
           179.46834261308976,
           179.70467569502136,
           179.94100877695294,
           180.17734185888452,
           180.4136749408161,
           180.65000802274767,
           180.88634110467925,
           181.12267418661082
          ],
          [
           178.22710131403653,
           178.4634343959681,
           178.69976747789968,
           178.93610055983126,
           179.17243364176284,
           179.40876672369444,
           179.64509980562602,
           179.8814328875576,
           180.11776596948917,
           180.35409905142075,
           180.59043213335232,
           180.8267652152839,
           181.06309829721548,
           181.29943137914705,
           181.53576446107866,
           181.77209754301023,
           182.0084306249418,
           182.24476370687339,
           182.48109678880496,
           182.71742987073654
          ],
          [
           179.82185699816225,
           180.05819008009382,
           180.2945231620254,
           180.53085624395698,
           180.76718932588855,
           181.00352240782013,
           181.23985548975173,
           181.4761885716833,
           181.71252165361489,
           181.94885473554646,
           182.18518781747804,
           182.42152089940961,
           182.6578539813412,
           182.89418706327277,
           183.13052014520434,
           183.36685322713595,
           183.60318630906752,
           183.8395193909991,
           184.07585247293068,
           184.31218555486225
          ],
          [
           181.41661268228796,
           181.65294576421954,
           181.88927884615111,
           182.12561192808272,
           182.3619450100143,
           182.59827809194587,
           182.83461117387745,
           183.07094425580902,
           183.3072773377406,
           183.54361041967218,
           183.77994350160375,
           184.01627658353533,
           184.25260966546693,
           184.4889427473985,
           184.7252758293301,
           184.96160891126166,
           185.19794199319324,
           185.43427507512482,
           185.6706081570564,
           185.90694123898797
          ],
          [
           183.01136836641368,
           183.24770144834525,
           183.48403453027686,
           183.72036761220843,
           183.95670069414,
           184.1930337760716,
           184.42936685800316,
           184.66569993993474,
           184.90203302186632,
           185.1383661037979,
           185.37469918572947,
           185.61103226766107,
           185.84736534959265,
           186.08369843152423,
           186.3200315134558,
           186.55636459538738,
           186.79269767731896,
           187.02903075925053,
           187.26536384118214,
           187.50169692311368
          ]
         ]
        }
       ],
       "layout": {
        "scene": {
         "xaxis": {
          "title": {
           "text": "Ancho"
          }
         },
         "yaxis": {
          "title": {
           "text": "Pie"
          }
         },
         "zaxis": {
          "title": {
           "text": "Altura"
          }
         }
        },
        "template": {
         "data": {
          "bar": [
           {
            "error_x": {
             "color": "#2a3f5f"
            },
            "error_y": {
             "color": "#2a3f5f"
            },
            "marker": {
             "line": {
              "color": "#E5ECF6",
              "width": 0.5
             },
             "pattern": {
              "fillmode": "overlay",
              "size": 10,
              "solidity": 0.2
             }
            },
            "type": "bar"
           }
          ],
          "barpolar": [
           {
            "marker": {
             "line": {
              "color": "#E5ECF6",
              "width": 0.5
             },
             "pattern": {
              "fillmode": "overlay",
              "size": 10,
              "solidity": 0.2
             }
            },
            "type": "barpolar"
           }
          ],
          "carpet": [
           {
            "aaxis": {
             "endlinecolor": "#2a3f5f",
             "gridcolor": "white",
             "linecolor": "white",
             "minorgridcolor": "white",
             "startlinecolor": "#2a3f5f"
            },
            "baxis": {
             "endlinecolor": "#2a3f5f",
             "gridcolor": "white",
             "linecolor": "white",
             "minorgridcolor": "white",
             "startlinecolor": "#2a3f5f"
            },
            "type": "carpet"
           }
          ],
          "choropleth": [
           {
            "colorbar": {
             "outlinewidth": 0,
             "ticks": ""
            },
            "type": "choropleth"
           }
          ],
          "contour": [
           {
            "colorbar": {
             "outlinewidth": 0,
             "ticks": ""
            },
            "colorscale": [
             [
              0,
              "#0d0887"
             ],
             [
              0.1111111111111111,
              "#46039f"
             ],
             [
              0.2222222222222222,
              "#7201a8"
             ],
             [
              0.3333333333333333,
              "#9c179e"
             ],
             [
              0.4444444444444444,
              "#bd3786"
             ],
             [
              0.5555555555555556,
              "#d8576b"
             ],
             [
              0.6666666666666666,
              "#ed7953"
             ],
             [
              0.7777777777777778,
              "#fb9f3a"
             ],
             [
              0.8888888888888888,
              "#fdca26"
             ],
             [
              1,
              "#f0f921"
             ]
            ],
            "type": "contour"
           }
          ],
          "contourcarpet": [
           {
            "colorbar": {
             "outlinewidth": 0,
             "ticks": ""
            },
            "type": "contourcarpet"
           }
          ],
          "heatmap": [
           {
            "colorbar": {
             "outlinewidth": 0,
             "ticks": ""
            },
            "colorscale": [
             [
              0,
              "#0d0887"
             ],
             [
              0.1111111111111111,
              "#46039f"
             ],
             [
              0.2222222222222222,
              "#7201a8"
             ],
             [
              0.3333333333333333,
              "#9c179e"
             ],
             [
              0.4444444444444444,
              "#bd3786"
             ],
             [
              0.5555555555555556,
              "#d8576b"
             ],
             [
              0.6666666666666666,
              "#ed7953"
             ],
             [
              0.7777777777777778,
              "#fb9f3a"
             ],
             [
              0.8888888888888888,
              "#fdca26"
             ],
             [
              1,
              "#f0f921"
             ]
            ],
            "type": "heatmap"
           }
          ],
          "heatmapgl": [
           {
            "colorbar": {
             "outlinewidth": 0,
             "ticks": ""
            },
            "colorscale": [
             [
              0,
              "#0d0887"
             ],
             [
              0.1111111111111111,
              "#46039f"
             ],
             [
              0.2222222222222222,
              "#7201a8"
             ],
             [
              0.3333333333333333,
              "#9c179e"
             ],
             [
              0.4444444444444444,
              "#bd3786"
             ],
             [
              0.5555555555555556,
              "#d8576b"
             ],
             [
              0.6666666666666666,
              "#ed7953"
             ],
             [
              0.7777777777777778,
              "#fb9f3a"
             ],
             [
              0.8888888888888888,
              "#fdca26"
             ],
             [
              1,
              "#f0f921"
             ]
            ],
            "type": "heatmapgl"
           }
          ],
          "histogram": [
           {
            "marker": {
             "pattern": {
              "fillmode": "overlay",
              "size": 10,
              "solidity": 0.2
             }
            },
            "type": "histogram"
           }
          ],
          "histogram2d": [
           {
            "colorbar": {
             "outlinewidth": 0,
             "ticks": ""
            },
            "colorscale": [
             [
              0,
              "#0d0887"
             ],
             [
              0.1111111111111111,
              "#46039f"
             ],
             [
              0.2222222222222222,
              "#7201a8"
             ],
             [
              0.3333333333333333,
              "#9c179e"
             ],
             [
              0.4444444444444444,
              "#bd3786"
             ],
             [
              0.5555555555555556,
              "#d8576b"
             ],
             [
              0.6666666666666666,
              "#ed7953"
             ],
             [
              0.7777777777777778,
              "#fb9f3a"
             ],
             [
              0.8888888888888888,
              "#fdca26"
             ],
             [
              1,
              "#f0f921"
             ]
            ],
            "type": "histogram2d"
           }
          ],
          "histogram2dcontour": [
           {
            "colorbar": {
             "outlinewidth": 0,
             "ticks": ""
            },
            "colorscale": [
             [
              0,
              "#0d0887"
             ],
             [
              0.1111111111111111,
              "#46039f"
             ],
             [
              0.2222222222222222,
              "#7201a8"
             ],
             [
              0.3333333333333333,
              "#9c179e"
             ],
             [
              0.4444444444444444,
              "#bd3786"
             ],
             [
              0.5555555555555556,
              "#d8576b"
             ],
             [
              0.6666666666666666,
              "#ed7953"
             ],
             [
              0.7777777777777778,
              "#fb9f3a"
             ],
             [
              0.8888888888888888,
              "#fdca26"
             ],
             [
              1,
              "#f0f921"
             ]
            ],
            "type": "histogram2dcontour"
           }
          ],
          "mesh3d": [
           {
            "colorbar": {
             "outlinewidth": 0,
             "ticks": ""
            },
            "type": "mesh3d"
           }
          ],
          "parcoords": [
           {
            "line": {
             "colorbar": {
              "outlinewidth": 0,
              "ticks": ""
             }
            },
            "type": "parcoords"
           }
          ],
          "pie": [
           {
            "automargin": true,
            "type": "pie"
           }
          ],
          "scatter": [
           {
            "fillpattern": {
             "fillmode": "overlay",
             "size": 10,
             "solidity": 0.2
            },
            "type": "scatter"
           }
          ],
          "scatter3d": [
           {
            "line": {
             "colorbar": {
              "outlinewidth": 0,
              "ticks": ""
             }
            },
            "marker": {
             "colorbar": {
              "outlinewidth": 0,
              "ticks": ""
             }
            },
            "type": "scatter3d"
           }
          ],
          "scattercarpet": [
           {
            "marker": {
             "colorbar": {
              "outlinewidth": 0,
              "ticks": ""
             }
            },
            "type": "scattercarpet"
           }
          ],
          "scattergeo": [
           {
            "marker": {
             "colorbar": {
              "outlinewidth": 0,
              "ticks": ""
             }
            },
            "type": "scattergeo"
           }
          ],
          "scattergl": [
           {
            "marker": {
             "colorbar": {
              "outlinewidth": 0,
              "ticks": ""
             }
            },
            "type": "scattergl"
           }
          ],
          "scattermapbox": [
           {
            "marker": {
             "colorbar": {
              "outlinewidth": 0,
              "ticks": ""
             }
            },
            "type": "scattermapbox"
           }
          ],
          "scatterpolar": [
           {
            "marker": {
             "colorbar": {
              "outlinewidth": 0,
              "ticks": ""
             }
            },
            "type": "scatterpolar"
           }
          ],
          "scatterpolargl": [
           {
            "marker": {
             "colorbar": {
              "outlinewidth": 0,
              "ticks": ""
             }
            },
            "type": "scatterpolargl"
           }
          ],
          "scatterternary": [
           {
            "marker": {
             "colorbar": {
              "outlinewidth": 0,
              "ticks": ""
             }
            },
            "type": "scatterternary"
           }
          ],
          "surface": [
           {
            "colorbar": {
             "outlinewidth": 0,
             "ticks": ""
            },
            "colorscale": [
             [
              0,
              "#0d0887"
             ],
             [
              0.1111111111111111,
              "#46039f"
             ],
             [
              0.2222222222222222,
              "#7201a8"
             ],
             [
              0.3333333333333333,
              "#9c179e"
             ],
             [
              0.4444444444444444,
              "#bd3786"
             ],
             [
              0.5555555555555556,
              "#d8576b"
             ],
             [
              0.6666666666666666,
              "#ed7953"
             ],
             [
              0.7777777777777778,
              "#fb9f3a"
             ],
             [
              0.8888888888888888,
              "#fdca26"
             ],
             [
              1,
              "#f0f921"
             ]
            ],
            "type": "surface"
           }
          ],
          "table": [
           {
            "cells": {
             "fill": {
              "color": "#EBF0F8"
             },
             "line": {
              "color": "white"
             }
            },
            "header": {
             "fill": {
              "color": "#C8D4E3"
             },
             "line": {
              "color": "white"
             }
            },
            "type": "table"
           }
          ]
         },
         "layout": {
          "annotationdefaults": {
           "arrowcolor": "#2a3f5f",
           "arrowhead": 0,
           "arrowwidth": 1
          },
          "autotypenumbers": "strict",
          "coloraxis": {
           "colorbar": {
            "outlinewidth": 0,
            "ticks": ""
           }
          },
          "colorscale": {
           "diverging": [
            [
             0,
             "#8e0152"
            ],
            [
             0.1,
             "#c51b7d"
            ],
            [
             0.2,
             "#de77ae"
            ],
            [
             0.3,
             "#f1b6da"
            ],
            [
             0.4,
             "#fde0ef"
            ],
            [
             0.5,
             "#f7f7f7"
            ],
            [
             0.6,
             "#e6f5d0"
            ],
            [
             0.7,
             "#b8e186"
            ],
            [
             0.8,
             "#7fbc41"
            ],
            [
             0.9,
             "#4d9221"
            ],
            [
             1,
             "#276419"
            ]
           ],
           "sequential": [
            [
             0,
             "#0d0887"
            ],
            [
             0.1111111111111111,
             "#46039f"
            ],
            [
             0.2222222222222222,
             "#7201a8"
            ],
            [
             0.3333333333333333,
             "#9c179e"
            ],
            [
             0.4444444444444444,
             "#bd3786"
            ],
            [
             0.5555555555555556,
             "#d8576b"
            ],
            [
             0.6666666666666666,
             "#ed7953"
            ],
            [
             0.7777777777777778,
             "#fb9f3a"
            ],
            [
             0.8888888888888888,
             "#fdca26"
            ],
            [
             1,
             "#f0f921"
            ]
           ],
           "sequentialminus": [
            [
             0,
             "#0d0887"
            ],
            [
             0.1111111111111111,
             "#46039f"
            ],
            [
             0.2222222222222222,
             "#7201a8"
            ],
            [
             0.3333333333333333,
             "#9c179e"
            ],
            [
             0.4444444444444444,
             "#bd3786"
            ],
            [
             0.5555555555555556,
             "#d8576b"
            ],
            [
             0.6666666666666666,
             "#ed7953"
            ],
            [
             0.7777777777777778,
             "#fb9f3a"
            ],
            [
             0.8888888888888888,
             "#fdca26"
            ],
            [
             1,
             "#f0f921"
            ]
           ]
          },
          "colorway": [
           "#636efa",
           "#EF553B",
           "#00cc96",
           "#ab63fa",
           "#FFA15A",
           "#19d3f3",
           "#FF6692",
           "#B6E880",
           "#FF97FF",
           "#FECB52"
          ],
          "font": {
           "color": "#2a3f5f"
          },
          "geo": {
           "bgcolor": "white",
           "lakecolor": "white",
           "landcolor": "#E5ECF6",
           "showlakes": true,
           "showland": true,
           "subunitcolor": "white"
          },
          "hoverlabel": {
           "align": "left"
          },
          "hovermode": "closest",
          "mapbox": {
           "style": "light"
          },
          "paper_bgcolor": "white",
          "plot_bgcolor": "#E5ECF6",
          "polar": {
           "angularaxis": {
            "gridcolor": "white",
            "linecolor": "white",
            "ticks": ""
           },
           "bgcolor": "#E5ECF6",
           "radialaxis": {
            "gridcolor": "white",
            "linecolor": "white",
            "ticks": ""
           }
          },
          "scene": {
           "xaxis": {
            "backgroundcolor": "#E5ECF6",
            "gridcolor": "white",
            "gridwidth": 2,
            "linecolor": "white",
            "showbackground": true,
            "ticks": "",
            "zerolinecolor": "white"
           },
           "yaxis": {
            "backgroundcolor": "#E5ECF6",
            "gridcolor": "white",
            "gridwidth": 2,
            "linecolor": "white",
            "showbackground": true,
            "ticks": "",
            "zerolinecolor": "white"
           },
           "zaxis": {
            "backgroundcolor": "#E5ECF6",
            "gridcolor": "white",
            "gridwidth": 2,
            "linecolor": "white",
            "showbackground": true,
            "ticks": "",
            "zerolinecolor": "white"
           }
          },
          "shapedefaults": {
           "line": {
            "color": "#2a3f5f"
           }
          },
          "ternary": {
           "aaxis": {
            "gridcolor": "white",
            "linecolor": "white",
            "ticks": ""
           },
           "baxis": {
            "gridcolor": "white",
            "linecolor": "white",
            "ticks": ""
           },
           "bgcolor": "#E5ECF6",
           "caxis": {
            "gridcolor": "white",
            "linecolor": "white",
            "ticks": ""
           }
          },
          "title": {
           "x": 0.05
          },
          "xaxis": {
           "automargin": true,
           "gridcolor": "white",
           "linecolor": "white",
           "ticks": "",
           "title": {
            "standoff": 15
           },
           "zerolinecolor": "white",
           "zerolinewidth": 2
          },
          "yaxis": {
           "automargin": true,
           "gridcolor": "white",
           "linecolor": "white",
           "ticks": "",
           "title": {
            "standoff": 15
           },
           "zerolinecolor": "white",
           "zerolinewidth": 2
          }
         }
        },
        "title": {
         "text": "ITESO CENTER<br>R2: 0.8484303924224865 RMSE: 4.280983988385949"
        }
       }
      }
     },
     "metadata": {},
     "output_type": "display_data"
    }
   ],
   "source": [
    "# Definir rangos para las variables independientes\n",
    "x1_range = np.linspace(min(x_train_center['width']), max(x_train_center['width']), 20)\n",
    "x2_range = np.linspace(min(x_train_center['shoe_size']), max(x_train_center['shoe_size']), 20)\n",
    "x1_mesh, x2_mesh = np.meshgrid(x1_range, x2_range)\n",
    "\n",
    "# Escalar el meshgrid para predicción\n",
    "x_mesh_scaled = ss_center.transform(np.vstack((x1_mesh.ravel(), x2_mesh.ravel())).T)\n",
    "\n",
    "# Predecir los valores con el modelo escalado\n",
    "y_mesh_scaled = rg_c.predict(x_mesh_scaled)\n",
    "\n",
    "# Crear scatterplot 3D de los puntos reales\n",
    "scatter = go.Scatter3d(\n",
    "    x=x_test_center['width'], y=x_test_center['shoe_size'], z=y_test_center,\n",
    "    mode='markers',\n",
    "    marker=dict(size=8, color='red', opacity=0.7)\n",
    ")\n",
    "\n",
    "# Crear el plano de regresión\n",
    "surface = go.Surface(\n",
    "    x=x1_mesh, y=x2_mesh, z=y_mesh_scaled.reshape(x1_mesh.shape),\n",
    "    colorscale='Viridis', opacity=0.5\n",
    ")\n",
    "\n",
    "# Configuración del layout\n",
    "layout = go.Layout(\n",
    "    title=f\"ITESO CENTER<br>R2: {r2_score(y_test_center, r_pred_center)} RMSE: {root_mean_squared_error(y_test_center, r_pred_center)}\",\n",
    "    scene=dict(\n",
    "        xaxis_title='Ancho',\n",
    "        yaxis_title='Pie',\n",
    "        zaxis_title='Altura'\n",
    "    )\n",
    ")\n",
    "\n",
    "# Crear la figura\n",
    "fig = go.Figure(data=[scatter, surface], layout=layout)\n",
    "\n",
    "# Mostrar la figura interactiva\n",
    "fig.show()"
   ]
  },
  {
   "cell_type": "markdown",
   "metadata": {},
   "source": [
    "**¿Agregarías datos a tu base de datos para mejorar las predicciones del modelo?**\n",
    "\n",
    "Sí, al tener tan pocos datos, en específico 18 necesitamos más datos ya que las predicciones que se hagan con el modelo no van a ser tan confiables, ya que son más sensibles a datos atípicos."
   ]
  },
  {
   "cell_type": "markdown",
   "metadata": {},
   "source": [
    "**¿Cómo conseguirías dicha información?**\n",
    "\n",
    "Medimos a 70 personas más y como se muestra anteriormente se segmentaron los datos de la altura, se hicieron nuevos datos para los datos cuya altura fueran menor o igual al primer cuartil, para los que fueran mayor o igual al tercer cuartil y para los que estuvieran entre el primer y tercer cuartil, en específico se hicieron 100 para cada uno."
   ]
  },
  {
   "cell_type": "markdown",
   "metadata": {},
   "source": [
    "**¿Modificarías algún parámetro de tu modelo?**\n",
    "\n",
    "En este caso, al segmentar los datos por alturas, se hicieron 3 modelos. A los 3 modelos se le aplicó regularización Ridge con un alpha de 1.26, el cual se obtuvo mediante diferentes pruebas e intentos para obtener el valor óptimo."
   ]
  },
  {
   "cell_type": "markdown",
   "metadata": {},
   "source": [
    "## Parte 3"
   ]
  },
  {
   "cell_type": "markdown",
   "metadata": {},
   "source": [
    "### Países Bajos"
   ]
  },
  {
   "cell_type": "code",
   "execution_count": 114,
   "metadata": {},
   "outputs": [],
   "source": [
    "df = pd.read_csv('datos_gente_1.csv')"
   ]
  },
  {
   "cell_type": "code",
   "execution_count": 115,
   "metadata": {},
   "outputs": [
    {
     "data": {
      "text/html": [
       "<div>\n",
       "<style scoped>\n",
       "    .dataframe tbody tr th:only-of-type {\n",
       "        vertical-align: middle;\n",
       "    }\n",
       "\n",
       "    .dataframe tbody tr th {\n",
       "        vertical-align: top;\n",
       "    }\n",
       "\n",
       "    .dataframe thead th {\n",
       "        text-align: right;\n",
       "    }\n",
       "</style>\n",
       "<table border=\"1\" class=\"dataframe\">\n",
       "  <thead>\n",
       "    <tr style=\"text-align: right;\">\n",
       "      <th></th>\n",
       "      <th>height</th>\n",
       "      <th>width</th>\n",
       "      <th>shoe_size</th>\n",
       "    </tr>\n",
       "  </thead>\n",
       "  <tbody>\n",
       "    <tr>\n",
       "      <th>0</th>\n",
       "      <td>185</td>\n",
       "      <td>55</td>\n",
       "      <td>28.0</td>\n",
       "    </tr>\n",
       "    <tr>\n",
       "      <th>6</th>\n",
       "      <td>187</td>\n",
       "      <td>48</td>\n",
       "      <td>29.0</td>\n",
       "    </tr>\n",
       "    <tr>\n",
       "      <th>12</th>\n",
       "      <td>179</td>\n",
       "      <td>55</td>\n",
       "      <td>28.0</td>\n",
       "    </tr>\n",
       "    <tr>\n",
       "      <th>22</th>\n",
       "      <td>177</td>\n",
       "      <td>42</td>\n",
       "      <td>27.0</td>\n",
       "    </tr>\n",
       "    <tr>\n",
       "      <th>25</th>\n",
       "      <td>180</td>\n",
       "      <td>45</td>\n",
       "      <td>27.0</td>\n",
       "    </tr>\n",
       "    <tr>\n",
       "      <th>33</th>\n",
       "      <td>178</td>\n",
       "      <td>49</td>\n",
       "      <td>27.5</td>\n",
       "    </tr>\n",
       "    <tr>\n",
       "      <th>41</th>\n",
       "      <td>190</td>\n",
       "      <td>50</td>\n",
       "      <td>29.0</td>\n",
       "    </tr>\n",
       "    <tr>\n",
       "      <th>44</th>\n",
       "      <td>180</td>\n",
       "      <td>50</td>\n",
       "      <td>28.0</td>\n",
       "    </tr>\n",
       "    <tr>\n",
       "      <th>47</th>\n",
       "      <td>178</td>\n",
       "      <td>45</td>\n",
       "      <td>29.0</td>\n",
       "    </tr>\n",
       "    <tr>\n",
       "      <th>51</th>\n",
       "      <td>182</td>\n",
       "      <td>47</td>\n",
       "      <td>28.0</td>\n",
       "    </tr>\n",
       "    <tr>\n",
       "      <th>54</th>\n",
       "      <td>183</td>\n",
       "      <td>47</td>\n",
       "      <td>28.0</td>\n",
       "    </tr>\n",
       "    <tr>\n",
       "      <th>61</th>\n",
       "      <td>183</td>\n",
       "      <td>50</td>\n",
       "      <td>29.5</td>\n",
       "    </tr>\n",
       "    <tr>\n",
       "      <th>63</th>\n",
       "      <td>188</td>\n",
       "      <td>55</td>\n",
       "      <td>30.0</td>\n",
       "    </tr>\n",
       "    <tr>\n",
       "      <th>65</th>\n",
       "      <td>190</td>\n",
       "      <td>52</td>\n",
       "      <td>30.0</td>\n",
       "    </tr>\n",
       "    <tr>\n",
       "      <th>67</th>\n",
       "      <td>177</td>\n",
       "      <td>42</td>\n",
       "      <td>28.0</td>\n",
       "    </tr>\n",
       "    <tr>\n",
       "      <th>68</th>\n",
       "      <td>182</td>\n",
       "      <td>43</td>\n",
       "      <td>28.0</td>\n",
       "    </tr>\n",
       "    <tr>\n",
       "      <th>70</th>\n",
       "      <td>185</td>\n",
       "      <td>47</td>\n",
       "      <td>29.5</td>\n",
       "    </tr>\n",
       "    <tr>\n",
       "      <th>74</th>\n",
       "      <td>182</td>\n",
       "      <td>46</td>\n",
       "      <td>28.0</td>\n",
       "    </tr>\n",
       "  </tbody>\n",
       "</table>\n",
       "</div>"
      ],
      "text/plain": [
       "    height  width  shoe_size\n",
       "0      185     55       28.0\n",
       "6      187     48       29.0\n",
       "12     179     55       28.0\n",
       "22     177     42       27.0\n",
       "25     180     45       27.0\n",
       "33     178     49       27.5\n",
       "41     190     50       29.0\n",
       "44     180     50       28.0\n",
       "47     178     45       29.0\n",
       "51     182     47       28.0\n",
       "54     183     47       28.0\n",
       "61     183     50       29.5\n",
       "63     188     55       30.0\n",
       "65     190     52       30.0\n",
       "67     177     42       28.0\n",
       "68     182     43       28.0\n",
       "70     185     47       29.5\n",
       "74     182     46       28.0"
      ]
     },
     "execution_count": 115,
     "metadata": {},
     "output_type": "execute_result"
    }
   ],
   "source": [
    "df2 = df[df['height'] > 176.5]\n",
    "df2"
   ]
  },
  {
   "cell_type": "code",
   "execution_count": 116,
   "metadata": {},
   "outputs": [
    {
     "data": {
      "text/plain": [
       "array([[<Axes: title={'center': 'height'}>,\n",
       "        <Axes: title={'center': 'width'}>],\n",
       "       [<Axes: title={'center': 'shoe_size'}>, <Axes: >]], dtype=object)"
      ]
     },
     "execution_count": 116,
     "metadata": {},
     "output_type": "execute_result"
    },
    {
     "data": {
      "image/png": "[encoded data removed]",
      "text/plain": [
       "<Figure size 640x480 with 4 Axes>"
      ]
     },
     "metadata": {},
     "output_type": "display_data"
    }
   ],
   "source": [
    "df2.hist()"
   ]
  },
  {
   "cell_type": "code",
   "execution_count": 117,
   "metadata": {},
   "outputs": [
    {
     "data": {
      "text/plain": [
       "height       182.555556\n",
       "width         48.222222\n",
       "shoe_size     28.416667\n",
       "dtype: float64"
      ]
     },
     "execution_count": 117,
     "metadata": {},
     "output_type": "execute_result"
    }
   ],
   "source": [
    "df2.mean()"
   ]
  },
  {
   "cell_type": "code",
   "execution_count": 118,
   "metadata": {},
   "outputs": [
    {
     "data": {
      "text/plain": [
       "height       4.217920\n",
       "width        4.180565\n",
       "shoe_size    0.927520\n",
       "dtype: float64"
      ]
     },
     "execution_count": 118,
     "metadata": {},
     "output_type": "execute_result"
    }
   ],
   "source": [
    "df2.std()"
   ]
  },
  {
   "cell_type": "code",
   "execution_count": 119,
   "metadata": {},
   "outputs": [
    {
     "data": {
      "text/plain": [
       "array([170., 174., 174., 174., 174., 176., 176., 176., 176., 176., 177.,\n",
       "       177., 177., 177., 177., 177., 177., 177., 177., 177., 178., 178.,\n",
       "       178., 178., 178., 179., 179., 179., 179., 179., 179., 180., 180.,\n",
       "       180., 180., 180., 180., 180., 180., 180., 181., 181., 181., 181.,\n",
       "       181., 181., 181., 181., 182., 182., 182., 182., 182., 182., 182.,\n",
       "       182., 182., 183., 183., 183., 183., 183., 184., 184., 184., 184.,\n",
       "       184., 184., 184., 184., 184., 184., 184., 185., 185., 185., 185.,\n",
       "       185., 186., 186., 186., 186., 186., 186., 187., 187., 188., 188.,\n",
       "       188., 188., 189., 189., 189., 189., 190., 190., 190., 191., 192.,\n",
       "       192.])"
      ]
     },
     "execution_count": 119,
     "metadata": {},
     "output_type": "execute_result"
    }
   ],
   "source": [
    "df2_nuevo_altura = np.random.normal(loc=182.56, scale=4.22, size=100)\n",
    "df_altura_red= np.round(df2_nuevo_altura, 0)\n",
    "df_altura = np.sort(df_altura_red)\n",
    "df_altura"
   ]
  },
  {
   "cell_type": "code",
   "execution_count": 120,
   "metadata": {},
   "outputs": [
    {
     "data": {
      "text/plain": [
       "array([40., 41., 41., 42., 42., 42., 43., 43., 43., 43., 43., 43., 44.,\n",
       "       44., 44., 45., 45., 45., 45., 45., 45., 46., 46., 46., 46., 46.,\n",
       "       46., 46., 47., 47., 47., 47., 47., 47., 47., 47., 47., 47., 47.,\n",
       "       47., 47., 48., 48., 48., 48., 48., 48., 48., 48., 48., 49., 49.,\n",
       "       49., 49., 49., 49., 49., 50., 50., 50., 50., 50., 50., 50., 50.,\n",
       "       51., 51., 51., 51., 51., 52., 52., 52., 52., 52., 52., 52., 52.,\n",
       "       52., 53., 53., 53., 54., 54., 54., 54., 54., 54., 54., 55., 55.,\n",
       "       55., 55., 56., 56., 56., 56., 58., 58., 60.])"
      ]
     },
     "execution_count": 120,
     "metadata": {},
     "output_type": "execute_result"
    }
   ],
   "source": [
    "df2_nuevo_ancho = np.random.normal(loc=48.22, scale=4.18, size=100)\n",
    "df_ancho_red= np.round(df2_nuevo_ancho, 0)\n",
    "df_ancho = np.sort(df_ancho_red)\n",
    "df_ancho"
   ]
  },
  {
   "cell_type": "code",
   "execution_count": 121,
   "metadata": {},
   "outputs": [
    {
     "data": {
      "text/plain": [
       "array([26.5, 26.7, 26.7, 26.7, 26.8, 26.8, 26.8, 27. , 27.1, 27.3, 27.3,\n",
       "       27.3, 27.4, 27.4, 27.5, 27.6, 27.7, 27.7, 27.7, 27.7, 27.7, 27.7,\n",
       "       27.7, 27.8, 27.8, 27.8, 27.9, 27.9, 27.9, 27.9, 27.9, 28. , 28. ,\n",
       "       28. , 28.1, 28.1, 28.1, 28.1, 28.1, 28.1, 28.2, 28.2, 28.2, 28.2,\n",
       "       28.2, 28.2, 28.2, 28.4, 28.4, 28.4, 28.4, 28.4, 28.5, 28.5, 28.5,\n",
       "       28.5, 28.6, 28.6, 28.6, 28.6, 28.6, 28.6, 28.7, 28.7, 28.7, 28.7,\n",
       "       28.8, 28.8, 28.8, 28.8, 28.8, 28.8, 28.8, 28.9, 28.9, 29. , 29. ,\n",
       "       29. , 29.1, 29.2, 29.2, 29.3, 29.3, 29.4, 29.5, 29.5, 29.6, 29.7,\n",
       "       29.7, 29.9, 29.9, 29.9, 30. , 30.1, 30.3, 30.4, 30.4, 30.4, 30.6,\n",
       "       30.8])"
      ]
     },
     "execution_count": 121,
     "metadata": {},
     "output_type": "execute_result"
    }
   ],
   "source": [
    "df2_nuevo_pie = np.random.normal(loc=28.42, scale=0.93, size=100)\n",
    "df_pie_red= np.round(df2_nuevo_pie, 1)\n",
    "df_pie= np.sort(df_pie_red)\n",
    "df_pie"
   ]
  },
  {
   "cell_type": "code",
   "execution_count": 122,
   "metadata": {},
   "outputs": [
    {
     "data": {
      "text/html": [
       "<div>\n",
       "<style scoped>\n",
       "    .dataframe tbody tr th:only-of-type {\n",
       "        vertical-align: middle;\n",
       "    }\n",
       "\n",
       "    .dataframe tbody tr th {\n",
       "        vertical-align: top;\n",
       "    }\n",
       "\n",
       "    .dataframe thead th {\n",
       "        text-align: right;\n",
       "    }\n",
       "</style>\n",
       "<table border=\"1\" class=\"dataframe\">\n",
       "  <thead>\n",
       "    <tr style=\"text-align: right;\">\n",
       "      <th></th>\n",
       "      <th>height</th>\n",
       "      <th>width</th>\n",
       "      <th>shoe_size</th>\n",
       "    </tr>\n",
       "  </thead>\n",
       "  <tbody>\n",
       "    <tr>\n",
       "      <th>0</th>\n",
       "      <td>170.0</td>\n",
       "      <td>40.0</td>\n",
       "      <td>26.5</td>\n",
       "    </tr>\n",
       "    <tr>\n",
       "      <th>1</th>\n",
       "      <td>174.0</td>\n",
       "      <td>41.0</td>\n",
       "      <td>26.7</td>\n",
       "    </tr>\n",
       "    <tr>\n",
       "      <th>2</th>\n",
       "      <td>174.0</td>\n",
       "      <td>41.0</td>\n",
       "      <td>26.7</td>\n",
       "    </tr>\n",
       "    <tr>\n",
       "      <th>3</th>\n",
       "      <td>174.0</td>\n",
       "      <td>42.0</td>\n",
       "      <td>26.7</td>\n",
       "    </tr>\n",
       "    <tr>\n",
       "      <th>4</th>\n",
       "      <td>174.0</td>\n",
       "      <td>42.0</td>\n",
       "      <td>26.8</td>\n",
       "    </tr>\n",
       "    <tr>\n",
       "      <th>...</th>\n",
       "      <td>...</td>\n",
       "      <td>...</td>\n",
       "      <td>...</td>\n",
       "    </tr>\n",
       "    <tr>\n",
       "      <th>95</th>\n",
       "      <td>190.0</td>\n",
       "      <td>56.0</td>\n",
       "      <td>30.4</td>\n",
       "    </tr>\n",
       "    <tr>\n",
       "      <th>96</th>\n",
       "      <td>190.0</td>\n",
       "      <td>56.0</td>\n",
       "      <td>30.4</td>\n",
       "    </tr>\n",
       "    <tr>\n",
       "      <th>97</th>\n",
       "      <td>191.0</td>\n",
       "      <td>58.0</td>\n",
       "      <td>30.4</td>\n",
       "    </tr>\n",
       "    <tr>\n",
       "      <th>98</th>\n",
       "      <td>192.0</td>\n",
       "      <td>58.0</td>\n",
       "      <td>30.6</td>\n",
       "    </tr>\n",
       "    <tr>\n",
       "      <th>99</th>\n",
       "      <td>192.0</td>\n",
       "      <td>60.0</td>\n",
       "      <td>30.8</td>\n",
       "    </tr>\n",
       "  </tbody>\n",
       "</table>\n",
       "<p>100 rows × 3 columns</p>\n",
       "</div>"
      ],
      "text/plain": [
       "    height  width  shoe_size\n",
       "0    170.0   40.0       26.5\n",
       "1    174.0   41.0       26.7\n",
       "2    174.0   41.0       26.7\n",
       "3    174.0   42.0       26.7\n",
       "4    174.0   42.0       26.8\n",
       "..     ...    ...        ...\n",
       "95   190.0   56.0       30.4\n",
       "96   190.0   56.0       30.4\n",
       "97   191.0   58.0       30.4\n",
       "98   192.0   58.0       30.6\n",
       "99   192.0   60.0       30.8\n",
       "\n",
       "[100 rows x 3 columns]"
      ]
     },
     "execution_count": 122,
     "metadata": {},
     "output_type": "execute_result"
    }
   ],
   "source": [
    "df_pb = pd.DataFrame({'height': df_altura, 'width': df_ancho, 'shoe_size': df_pie})\n",
    "df_pb"
   ]
  },
  {
   "cell_type": "code",
   "execution_count": 123,
   "metadata": {},
   "outputs": [
    {
     "data": {
      "text/plain": [
       "array([[<Axes: title={'center': 'height'}>,\n",
       "        <Axes: title={'center': 'width'}>],\n",
       "       [<Axes: title={'center': 'shoe_size'}>, <Axes: >]], dtype=object)"
      ]
     },
     "execution_count": 123,
     "metadata": {},
     "output_type": "execute_result"
    },
    {
     "data": {
      "image/png": "[encoded data removed]",
      "text/plain": [
       "<Figure size 640x480 with 4 Axes>"
      ]
     },
     "metadata": {},
     "output_type": "display_data"
    }
   ],
   "source": [
    "df_pb.hist()"
   ]
  },
  {
   "cell_type": "code",
   "execution_count": 124,
   "metadata": {},
   "outputs": [],
   "source": [
    "X = df_pb.drop(\"height\", axis=1)\n",
    "y = df_pb[\"height\"]"
   ]
  },
  {
   "cell_type": "code",
   "execution_count": 125,
   "metadata": {},
   "outputs": [],
   "source": [
    "x_train_pb, x_test_pb, y_train_pb, y_test_pb = train_test_split(X, y, test_size=0.20, random_state=48)"
   ]
  },
  {
   "cell_type": "code",
   "execution_count": 126,
   "metadata": {},
   "outputs": [],
   "source": [
    "ss_pb = StandardScaler()\n",
    "x_train_pb_ss = ss_pb.fit_transform(x_train_pb)\n",
    "x_test_pb_ss = ss_pb.transform(x_test_pb)"
   ]
  },
  {
   "cell_type": "code",
   "execution_count": 127,
   "metadata": {},
   "outputs": [
    {
     "name": "stdout",
     "output_type": "stream",
     "text": [
      "R2:0.9774805790776366, RMSE: 0.6548051422841754\n"
     ]
    }
   ],
   "source": [
    "modelo_pb = LinearRegression()\n",
    "modelo_pb.fit(x_train_pb_ss, y_train_pb)\n",
    "pb_pred = modelo_pb.predict(x_test_pb_ss)\n",
    "r2 = r2_score(y_test_pb, pb_pred)\n",
    "print(f\"R2:{r2_score(y_test_pb, pb_pred)}, RMSE: {root_mean_squared_error(y_test_pb, pb_pred)}\")"
   ]
  },
  {
   "cell_type": "code",
   "execution_count": 128,
   "metadata": {},
   "outputs": [
    {
     "name": "stdout",
     "output_type": "stream",
     "text": [
      "Pendientes: [2.22117568 2.33052832]\n",
      "Intercepto: 181.8125\n"
     ]
    }
   ],
   "source": [
    "print(f\"Pendientes: {modelo_pb.coef_}\")\n",
    "print(f\"Intercepto: {modelo_pb.intercept_}\")"
   ]
  },
  {
   "cell_type": "code",
   "execution_count": 129,
   "metadata": {},
   "outputs": [
    {
     "name": "stderr",
     "output_type": "stream",
     "text": [
      "c:\\Users\\cesar\\anaconda3\\envs\\iteso\\lib\\site-packages\\sklearn\\base.py:493: UserWarning:\n",
      "\n",
      "X does not have valid feature names, but StandardScaler was fitted with feature names\n",
      "\n"
     ]
    }
   ],
   "source": [
    "values_pb= ss_pb.transform([[44,27.5]])"
   ]
  },
  {
   "cell_type": "code",
   "execution_count": 130,
   "metadata": {},
   "outputs": [
    {
     "data": {
      "text/plain": [
       "array([176.99477245])"
      ]
     },
     "execution_count": 130,
     "metadata": {},
     "output_type": "execute_result"
    }
   ],
   "source": [
    "modelo_pb.predict(values_pb)"
   ]
  },
  {
   "cell_type": "code",
   "execution_count": 131,
   "metadata": {},
   "outputs": [],
   "source": [
    "x_train_pb = np.array(x_train_pb)\n",
    "x_test_pb = np.array(x_test_pb)"
   ]
  },
  {
   "cell_type": "code",
   "execution_count": 132,
   "metadata": {},
   "outputs": [
    {
     "name": "stderr",
     "output_type": "stream",
     "text": [
      "c:\\Users\\cesar\\anaconda3\\envs\\iteso\\lib\\site-packages\\sklearn\\base.py:493: UserWarning:\n",
      "\n",
      "X does not have valid feature names, but StandardScaler was fitted with feature names\n",
      "\n"
     ]
    },
    {
     "data": {
      "application/vnd.plotly.v1+json": {
       "config": {
        "plotlyServerURL": "https://plot.ly"
       },
       "data": [
        {
         "marker": {
          "color": "red",
          "opacity": 0.7,
          "size": 8
         },
         "mode": "markers",
         "type": "scatter3d",
         "x": [
          56,
          42,
          52,
          43,
          43,
          53,
          51,
          43,
          50,
          50,
          47,
          54,
          54,
          50,
          49,
          45,
          56,
          50,
          46,
          52
         ],
         "y": [
          30.1,
          26.8,
          28.8,
          27.3,
          27.3,
          29.2,
          28.8,
          27.1,
          28.6,
          28.7,
          28.1,
          29.5,
          29.5,
          28.7,
          28.5,
          27.7,
          30.4,
          28.6,
          27.8,
          29
         ],
         "z": [
          189,
          176,
          184,
          176,
          177,
          186,
          184,
          176,
          183,
          184,
          180,
          187,
          187,
          184,
          182,
          177,
          190,
          183,
          178,
          185
         ]
        },
        {
         "colorscale": [
          [
           0,
           "#440154"
          ],
          [
           0.1111111111111111,
           "#482878"
          ],
          [
           0.2222222222222222,
           "#3e4989"
          ],
          [
           0.3333333333333333,
           "#31688e"
          ],
          [
           0.4444444444444444,
           "#26828e"
          ],
          [
           0.5555555555555556,
           "#1f9e89"
          ],
          [
           0.6666666666666666,
           "#35b779"
          ],
          [
           0.7777777777777778,
           "#6ece58"
          ],
          [
           0.8888888888888888,
           "#b5de2b"
          ],
          [
           1,
           "#fde725"
          ]
         ],
         "opacity": 0.5,
         "type": "surface",
         "x": [
          [
           40,
           41.05263157894737,
           42.10526315789474,
           43.1578947368421,
           44.21052631578947,
           45.26315789473684,
           46.31578947368421,
           47.368421052631575,
           48.421052631578945,
           49.473684210526315,
           50.526315789473685,
           51.578947368421055,
           52.631578947368425,
           53.68421052631579,
           54.73684210526316,
           55.78947368421053,
           56.84210526315789,
           57.89473684210526,
           58.94736842105263,
           60
          ],
          [
           40,
           41.05263157894737,
           42.10526315789474,
           43.1578947368421,
           44.21052631578947,
           45.26315789473684,
           46.31578947368421,
           47.368421052631575,
           48.421052631578945,
           49.473684210526315,
           50.526315789473685,
           51.578947368421055,
           52.631578947368425,
           53.68421052631579,
           54.73684210526316,
           55.78947368421053,
           56.84210526315789,
           57.89473684210526,
           58.94736842105263,
           60
          ],
          [
           40,
           41.05263157894737,
           42.10526315789474,
           43.1578947368421,
           44.21052631578947,
           45.26315789473684,
           46.31578947368421,
           47.368421052631575,
           48.421052631578945,
           49.473684210526315,
           50.526315789473685,
           51.578947368421055,
           52.631578947368425,
           53.68421052631579,
           54.73684210526316,
           55.78947368421053,
           56.84210526315789,
           57.89473684210526,
           58.94736842105263,
           60
          ],
          [
           40,
           41.05263157894737,
           42.10526315789474,
           43.1578947368421,
           44.21052631578947,
           45.26315789473684,
           46.31578947368421,
           47.368421052631575,
           48.421052631578945,
           49.473684210526315,
           50.526315789473685,
           51.578947368421055,
           52.631578947368425,
           53.68421052631579,
           54.73684210526316,
           55.78947368421053,
           56.84210526315789,
           57.89473684210526,
           58.94736842105263,
           60
          ],
          [
           40,
           41.05263157894737,
           42.10526315789474,
           43.1578947368421,
           44.21052631578947,
           45.26315789473684,
           46.31578947368421,
           47.368421052631575,
           48.421052631578945,
           49.473684210526315,
           50.526315789473685,
           51.578947368421055,
           52.631578947368425,
           53.68421052631579,
           54.73684210526316,
           55.78947368421053,
           56.84210526315789,
           57.89473684210526,
           58.94736842105263,
           60
          ],
          [
           40,
           41.05263157894737,
           42.10526315789474,
           43.1578947368421,
           44.21052631578947,
           45.26315789473684,
           46.31578947368421,
           47.368421052631575,
           48.421052631578945,
           49.473684210526315,
           50.526315789473685,
           51.578947368421055,
           52.631578947368425,
           53.68421052631579,
           54.73684210526316,
           55.78947368421053,
           56.84210526315789,
           57.89473684210526,
           58.94736842105263,
           60
          ],
          [
           40,
           41.05263157894737,
           42.10526315789474,
           43.1578947368421,
           44.21052631578947,
           45.26315789473684,
           46.31578947368421,
           47.368421052631575,
           48.421052631578945,
           49.473684210526315,
           50.526315789473685,
           51.578947368421055,
           52.631578947368425,
           53.68421052631579,
           54.73684210526316,
           55.78947368421053,
           56.84210526315789,
           57.89473684210526,
           58.94736842105263,
           60
          ],
          [
           40,
           41.05263157894737,
           42.10526315789474,
           43.1578947368421,
           44.21052631578947,
           45.26315789473684,
           46.31578947368421,
           47.368421052631575,
           48.421052631578945,
           49.473684210526315,
           50.526315789473685,
           51.578947368421055,
           52.631578947368425,
           53.68421052631579,
           54.73684210526316,
           55.78947368421053,
           56.84210526315789,
           57.89473684210526,
           58.94736842105263,
           60
          ],
          [
           40,
           41.05263157894737,
           42.10526315789474,
           43.1578947368421,
           44.21052631578947,
           45.26315789473684,
           46.31578947368421,
           47.368421052631575,
           48.421052631578945,
           49.473684210526315,
           50.526315789473685,
           51.578947368421055,
           52.631578947368425,
           53.68421052631579,
           54.73684210526316,
           55.78947368421053,
           56.84210526315789,
           57.89473684210526,
           58.94736842105263,
           60
          ],
          [
           40,
           41.05263157894737,
           42.10526315789474,
           43.1578947368421,
           44.21052631578947,
           45.26315789473684,
           46.31578947368421,
           47.368421052631575,
           48.421052631578945,
           49.473684210526315,
           50.526315789473685,
           51.578947368421055,
           52.631578947368425,
           53.68421052631579,
           54.73684210526316,
           55.78947368421053,
           56.84210526315789,
           57.89473684210526,
           58.94736842105263,
           60
          ],
          [
           40,
           41.05263157894737,
           42.10526315789474,
           43.1578947368421,
           44.21052631578947,
           45.26315789473684,
           46.31578947368421,
           47.368421052631575,
           48.421052631578945,
           49.473684210526315,
           50.526315789473685,
           51.578947368421055,
           52.631578947368425,
           53.68421052631579,
           54.73684210526316,
           55.78947368421053,
           56.84210526315789,
           57.89473684210526,
           58.94736842105263,
           60
          ],
          [
           40,
           41.05263157894737,
           42.10526315789474,
           43.1578947368421,
           44.21052631578947,
           45.26315789473684,
           46.31578947368421,
           47.368421052631575,
           48.421052631578945,
           49.473684210526315,
           50.526315789473685,
           51.578947368421055,
           52.631578947368425,
           53.68421052631579,
           54.73684210526316,
           55.78947368421053,
           56.84210526315789,
           57.89473684210526,
           58.94736842105263,
           60
          ],
          [
           40,
           41.05263157894737,
           42.10526315789474,
           43.1578947368421,
           44.21052631578947,
           45.26315789473684,
           46.31578947368421,
           47.368421052631575,
           48.421052631578945,
           49.473684210526315,
           50.526315789473685,
           51.578947368421055,
           52.631578947368425,
           53.68421052631579,
           54.73684210526316,
           55.78947368421053,
           56.84210526315789,
           57.89473684210526,
           58.94736842105263,
           60
          ],
          [
           40,
           41.05263157894737,
           42.10526315789474,
           43.1578947368421,
           44.21052631578947,
           45.26315789473684,
           46.31578947368421,
           47.368421052631575,
           48.421052631578945,
           49.473684210526315,
           50.526315789473685,
           51.578947368421055,
           52.631578947368425,
           53.68421052631579,
           54.73684210526316,
           55.78947368421053,
           56.84210526315789,
           57.89473684210526,
           58.94736842105263,
           60
          ],
          [
           40,
           41.05263157894737,
           42.10526315789474,
           43.1578947368421,
           44.21052631578947,
           45.26315789473684,
           46.31578947368421,
           47.368421052631575,
           48.421052631578945,
           49.473684210526315,
           50.526315789473685,
           51.578947368421055,
           52.631578947368425,
           53.68421052631579,
           54.73684210526316,
           55.78947368421053,
           56.84210526315789,
           57.89473684210526,
           58.94736842105263,
           60
          ],
          [
           40,
           41.05263157894737,
           42.10526315789474,
           43.1578947368421,
           44.21052631578947,
           45.26315789473684,
           46.31578947368421,
           47.368421052631575,
           48.421052631578945,
           49.473684210526315,
           50.526315789473685,
           51.578947368421055,
           52.631578947368425,
           53.68421052631579,
           54.73684210526316,
           55.78947368421053,
           56.84210526315789,
           57.89473684210526,
           58.94736842105263,
           60
          ],
          [
           40,
           41.05263157894737,
           42.10526315789474,
           43.1578947368421,
           44.21052631578947,
           45.26315789473684,
           46.31578947368421,
           47.368421052631575,
           48.421052631578945,
           49.473684210526315,
           50.526315789473685,
           51.578947368421055,
           52.631578947368425,
           53.68421052631579,
           54.73684210526316,
           55.78947368421053,
           56.84210526315789,
           57.89473684210526,
           58.94736842105263,
           60
          ],
          [
           40,
           41.05263157894737,
           42.10526315789474,
           43.1578947368421,
           44.21052631578947,
           45.26315789473684,
           46.31578947368421,
           47.368421052631575,
           48.421052631578945,
           49.473684210526315,
           50.526315789473685,
           51.578947368421055,
           52.631578947368425,
           53.68421052631579,
           54.73684210526316,
           55.78947368421053,
           56.84210526315789,
           57.89473684210526,
           58.94736842105263,
           60
          ],
          [
           40,
           41.05263157894737,
           42.10526315789474,
           43.1578947368421,
           44.21052631578947,
           45.26315789473684,
           46.31578947368421,
           47.368421052631575,
           48.421052631578945,
           49.473684210526315,
           50.526315789473685,
           51.578947368421055,
           52.631578947368425,
           53.68421052631579,
           54.73684210526316,
           55.78947368421053,
           56.84210526315789,
           57.89473684210526,
           58.94736842105263,
           60
          ],
          [
           40,
           41.05263157894737,
           42.10526315789474,
           43.1578947368421,
           44.21052631578947,
           45.26315789473684,
           46.31578947368421,
           47.368421052631575,
           48.421052631578945,
           49.473684210526315,
           50.526315789473685,
           51.578947368421055,
           52.631578947368425,
           53.68421052631579,
           54.73684210526316,
           55.78947368421053,
           56.84210526315789,
           57.89473684210526,
           58.94736842105263,
           60
          ]
         ],
         "y": [
          [
           26.5,
           26.5,
           26.5,
           26.5,
           26.5,
           26.5,
           26.5,
           26.5,
           26.5,
           26.5,
           26.5,
           26.5,
           26.5,
           26.5,
           26.5,
           26.5,
           26.5,
           26.5,
           26.5,
           26.5
          ],
          [
           26.726315789473684,
           26.726315789473684,
           26.726315789473684,
           26.726315789473684,
           26.726315789473684,
           26.726315789473684,
           26.726315789473684,
           26.726315789473684,
           26.726315789473684,
           26.726315789473684,
           26.726315789473684,
           26.726315789473684,
           26.726315789473684,
           26.726315789473684,
           26.726315789473684,
           26.726315789473684,
           26.726315789473684,
           26.726315789473684,
           26.726315789473684,
           26.726315789473684
          ],
          [
           26.95263157894737,
           26.95263157894737,
           26.95263157894737,
           26.95263157894737,
           26.95263157894737,
           26.95263157894737,
           26.95263157894737,
           26.95263157894737,
           26.95263157894737,
           26.95263157894737,
           26.95263157894737,
           26.95263157894737,
           26.95263157894737,
           26.95263157894737,
           26.95263157894737,
           26.95263157894737,
           26.95263157894737,
           26.95263157894737,
           26.95263157894737,
           26.95263157894737
          ],
          [
           27.178947368421053,
           27.178947368421053,
           27.178947368421053,
           27.178947368421053,
           27.178947368421053,
           27.178947368421053,
           27.178947368421053,
           27.178947368421053,
           27.178947368421053,
           27.178947368421053,
           27.178947368421053,
           27.178947368421053,
           27.178947368421053,
           27.178947368421053,
           27.178947368421053,
           27.178947368421053,
           27.178947368421053,
           27.178947368421053,
           27.178947368421053,
           27.178947368421053
          ],
          [
           27.405263157894737,
           27.405263157894737,
           27.405263157894737,
           27.405263157894737,
           27.405263157894737,
           27.405263157894737,
           27.405263157894737,
           27.405263157894737,
           27.405263157894737,
           27.405263157894737,
           27.405263157894737,
           27.405263157894737,
           27.405263157894737,
           27.405263157894737,
           27.405263157894737,
           27.405263157894737,
           27.405263157894737,
           27.405263157894737,
           27.405263157894737,
           27.405263157894737
          ],
          [
           27.63157894736842,
           27.63157894736842,
           27.63157894736842,
           27.63157894736842,
           27.63157894736842,
           27.63157894736842,
           27.63157894736842,
           27.63157894736842,
           27.63157894736842,
           27.63157894736842,
           27.63157894736842,
           27.63157894736842,
           27.63157894736842,
           27.63157894736842,
           27.63157894736842,
           27.63157894736842,
           27.63157894736842,
           27.63157894736842,
           27.63157894736842,
           27.63157894736842
          ],
          [
           27.857894736842105,
           27.857894736842105,
           27.857894736842105,
           27.857894736842105,
           27.857894736842105,
           27.857894736842105,
           27.857894736842105,
           27.857894736842105,
           27.857894736842105,
           27.857894736842105,
           27.857894736842105,
           27.857894736842105,
           27.857894736842105,
           27.857894736842105,
           27.857894736842105,
           27.857894736842105,
           27.857894736842105,
           27.857894736842105,
           27.857894736842105,
           27.857894736842105
          ],
          [
           28.08421052631579,
           28.08421052631579,
           28.08421052631579,
           28.08421052631579,
           28.08421052631579,
           28.08421052631579,
           28.08421052631579,
           28.08421052631579,
           28.08421052631579,
           28.08421052631579,
           28.08421052631579,
           28.08421052631579,
           28.08421052631579,
           28.08421052631579,
           28.08421052631579,
           28.08421052631579,
           28.08421052631579,
           28.08421052631579,
           28.08421052631579,
           28.08421052631579
          ],
          [
           28.310526315789474,
           28.310526315789474,
           28.310526315789474,
           28.310526315789474,
           28.310526315789474,
           28.310526315789474,
           28.310526315789474,
           28.310526315789474,
           28.310526315789474,
           28.310526315789474,
           28.310526315789474,
           28.310526315789474,
           28.310526315789474,
           28.310526315789474,
           28.310526315789474,
           28.310526315789474,
           28.310526315789474,
           28.310526315789474,
           28.310526315789474,
           28.310526315789474
          ],
          [
           28.53684210526316,
           28.53684210526316,
           28.53684210526316,
           28.53684210526316,
           28.53684210526316,
           28.53684210526316,
           28.53684210526316,
           28.53684210526316,
           28.53684210526316,
           28.53684210526316,
           28.53684210526316,
           28.53684210526316,
           28.53684210526316,
           28.53684210526316,
           28.53684210526316,
           28.53684210526316,
           28.53684210526316,
           28.53684210526316,
           28.53684210526316,
           28.53684210526316
          ],
          [
           28.763157894736842,
           28.763157894736842,
           28.763157894736842,
           28.763157894736842,
           28.763157894736842,
           28.763157894736842,
           28.763157894736842,
           28.763157894736842,
           28.763157894736842,
           28.763157894736842,
           28.763157894736842,
           28.763157894736842,
           28.763157894736842,
           28.763157894736842,
           28.763157894736842,
           28.763157894736842,
           28.763157894736842,
           28.763157894736842,
           28.763157894736842,
           28.763157894736842
          ],
          [
           28.989473684210527,
           28.989473684210527,
           28.989473684210527,
           28.989473684210527,
           28.989473684210527,
           28.989473684210527,
           28.989473684210527,
           28.989473684210527,
           28.989473684210527,
           28.989473684210527,
           28.989473684210527,
           28.989473684210527,
           28.989473684210527,
           28.989473684210527,
           28.989473684210527,
           28.989473684210527,
           28.989473684210527,
           28.989473684210527,
           28.989473684210527,
           28.989473684210527
          ],
          [
           29.21578947368421,
           29.21578947368421,
           29.21578947368421,
           29.21578947368421,
           29.21578947368421,
           29.21578947368421,
           29.21578947368421,
           29.21578947368421,
           29.21578947368421,
           29.21578947368421,
           29.21578947368421,
           29.21578947368421,
           29.21578947368421,
           29.21578947368421,
           29.21578947368421,
           29.21578947368421,
           29.21578947368421,
           29.21578947368421,
           29.21578947368421,
           29.21578947368421
          ],
          [
           29.442105263157895,
           29.442105263157895,
           29.442105263157895,
           29.442105263157895,
           29.442105263157895,
           29.442105263157895,
           29.442105263157895,
           29.442105263157895,
           29.442105263157895,
           29.442105263157895,
           29.442105263157895,
           29.442105263157895,
           29.442105263157895,
           29.442105263157895,
           29.442105263157895,
           29.442105263157895,
           29.442105263157895,
           29.442105263157895,
           29.442105263157895,
           29.442105263157895
          ],
          [
           29.66842105263158,
           29.66842105263158,
           29.66842105263158,
           29.66842105263158,
           29.66842105263158,
           29.66842105263158,
           29.66842105263158,
           29.66842105263158,
           29.66842105263158,
           29.66842105263158,
           29.66842105263158,
           29.66842105263158,
           29.66842105263158,
           29.66842105263158,
           29.66842105263158,
           29.66842105263158,
           29.66842105263158,
           29.66842105263158,
           29.66842105263158,
           29.66842105263158
          ],
          [
           29.894736842105264,
           29.894736842105264,
           29.894736842105264,
           29.894736842105264,
           29.894736842105264,
           29.894736842105264,
           29.894736842105264,
           29.894736842105264,
           29.894736842105264,
           29.894736842105264,
           29.894736842105264,
           29.894736842105264,
           29.894736842105264,
           29.894736842105264,
           29.894736842105264,
           29.894736842105264,
           29.894736842105264,
           29.894736842105264,
           29.894736842105264,
           29.894736842105264
          ],
          [
           30.121052631578948,
           30.121052631578948,
           30.121052631578948,
           30.121052631578948,
           30.121052631578948,
           30.121052631578948,
           30.121052631578948,
           30.121052631578948,
           30.121052631578948,
           30.121052631578948,
           30.121052631578948,
           30.121052631578948,
           30.121052631578948,
           30.121052631578948,
           30.121052631578948,
           30.121052631578948,
           30.121052631578948,
           30.121052631578948,
           30.121052631578948,
           30.121052631578948
          ],
          [
           30.347368421052632,
           30.347368421052632,
           30.347368421052632,
           30.347368421052632,
           30.347368421052632,
           30.347368421052632,
           30.347368421052632,
           30.347368421052632,
           30.347368421052632,
           30.347368421052632,
           30.347368421052632,
           30.347368421052632,
           30.347368421052632,
           30.347368421052632,
           30.347368421052632,
           30.347368421052632,
           30.347368421052632,
           30.347368421052632,
           30.347368421052632,
           30.347368421052632
          ],
          [
           30.573684210526316,
           30.573684210526316,
           30.573684210526316,
           30.573684210526316,
           30.573684210526316,
           30.573684210526316,
           30.573684210526316,
           30.573684210526316,
           30.573684210526316,
           30.573684210526316,
           30.573684210526316,
           30.573684210526316,
           30.573684210526316,
           30.573684210526316,
           30.573684210526316,
           30.573684210526316,
           30.573684210526316,
           30.573684210526316,
           30.573684210526316,
           30.573684210526316
          ],
          [
           30.8,
           30.8,
           30.8,
           30.8,
           30.8,
           30.8,
           30.8,
           30.8,
           30.8,
           30.8,
           30.8,
           30.8,
           30.8,
           30.8,
           30.8,
           30.8,
           30.8,
           30.8,
           30.8,
           30.8
          ]
         ],
         "z": [
          [
           172.45697036613603,
           173.00715435222926,
           173.55733833832252,
           174.10752232441575,
           174.657706310509,
           175.20789029660227,
           175.7580742826955,
           176.30825826878876,
           176.858442254882,
           177.40862624097525,
           177.95881022706848,
           178.50899421316174,
           179.059178199255,
           179.60936218534823,
           180.1595461714415,
           180.70973015753472,
           181.25991414362798,
           181.8100981297212,
           182.36028211581447,
           182.91046610190773
          ],
          [
           173.010788398078,
           173.56097238417127,
           174.11115637026452,
           174.66134035635775,
           175.211524342451,
           175.76170832854424,
           176.3118923146375,
           176.86207630073073,
           177.412260286824,
           177.96244427291725,
           178.51262825901048,
           179.06281224510374,
           179.61299623119697,
           180.16318021729023,
           180.7133642033835,
           181.26354818947672,
           181.81373217556998,
           182.3639161616632,
           182.91410014775647,
           183.4642841338497
          ],
          [
           173.56460643002,
           174.11479041611327,
           174.6649744022065,
           175.21515838829976,
           175.76534237439301,
           176.31552636048625,
           176.8657103465795,
           177.41589433267274,
           177.966078318766,
           178.51626230485923,
           179.06644629095248,
           179.61663027704574,
           180.16681426313897,
           180.71699824923223,
           181.26718223532546,
           181.81736622141872,
           182.36755020751195,
           182.9177341936052,
           183.46791817969847,
           184.0181021657917
          ],
          [
           174.118424461962,
           174.66860844805527,
           175.2187924341485,
           175.76897642024176,
           176.319160406335,
           176.86934439242825,
           177.4195283785215,
           177.96971236461474,
           178.519896350708,
           179.07008033680123,
           179.62026432289449,
           180.17044830898774,
           180.72063229508097,
           181.27081628117423,
           181.82100026726746,
           182.37118425336072,
           182.92136823945395,
           183.4715522255472,
           184.02173621164047,
           184.5719201977337
          ],
          [
           174.672242493904,
           175.22242647999724,
           175.7726104660905,
           176.32279445218376,
           176.872978438277,
           177.42316242437025,
           177.97334641046348,
           178.52353039655674,
           179.07371438265,
           179.62389836874323,
           180.1740823548365,
           180.72426634092972,
           181.27445032702298,
           181.8246343131162,
           182.37481829920947,
           182.92500228530272,
           183.47518627139596,
           184.02537025748921,
           184.57555424358245,
           185.1257382296757
          ],
          [
           175.226060525846,
           175.77624451193924,
           176.3264284980325,
           176.87661248412573,
           177.426796470219,
           177.97698045631225,
           178.52716444240548,
           179.07734842849874,
           179.62753241459197,
           180.17771640068523,
           180.7279003867785,
           181.27808437287172,
           181.82826835896498,
           182.3784523450582,
           182.92863633115147,
           183.47882031724473,
           184.02900430333796,
           184.57918828943122,
           185.12937227552445,
           185.6795562616177
          ],
          [
           175.779878557788,
           176.33006254388124,
           176.8802465299745,
           177.43043051606773,
           177.980614502161,
           178.53079848825425,
           179.08098247434748,
           179.63116646044074,
           180.18135044653397,
           180.73153443262723,
           181.28171841872046,
           181.83190240481372,
           182.38208639090698,
           182.9322703770002,
           183.48245436309347,
           184.0326383491867,
           184.58282233527996,
           185.1330063213732,
           185.68319030746645,
           186.2333742935597
          ],
          [
           176.33369658972998,
           176.88388057582324,
           177.4340645619165,
           177.98424854800973,
           178.534432534103,
           179.08461652019622,
           179.63480050628948,
           180.1849844923827,
           180.73516847847597,
           181.28535246456923,
           181.83553645066246,
           182.38572043675572,
           182.93590442284898,
           183.4860884089422,
           184.03627239503547,
           184.5864563811287,
           185.13664036722196,
           185.6868243533152,
           186.23700833940845,
           186.78719232550168
          ],
          [
           176.88751462167198,
           177.43769860776524,
           177.9878825938585,
           178.53806657995173,
           179.088250566045,
           179.63843455213822,
           180.18861853823148,
           180.7388025243247,
           181.28898651041797,
           181.83917049651123,
           182.38935448260446,
           182.93953846869772,
           183.48972245479095,
           184.0399064408842,
           184.59009042697744,
           185.1402744130707,
           185.69045839916396,
           186.2406423852572,
           186.79082637135045,
           187.34101035744368
          ],
          [
           177.44133265361398,
           177.99151663970724,
           178.54170062580047,
           179.09188461189373,
           179.64206859798696,
           180.19225258408022,
           180.74243657017348,
           181.2926205562667,
           181.84280454235997,
           182.3929885284532,
           182.94317251454646,
           183.49335650063972,
           184.04354048673295,
           184.5937244728262,
           185.14390845891944,
           185.6940924450127,
           186.24427643110593,
           186.7944604171992,
           187.34464440329245,
           187.89482838938568
          ],
          [
           177.99515068555598,
           178.54533467164924,
           179.09551865774247,
           179.64570264383573,
           180.19588662992896,
           180.74607061602222,
           181.29625460211548,
           181.8464385882087,
           182.39662257430197,
           182.9468065603952,
           183.49699054648846,
           184.0471745325817,
           184.59735851867495,
           185.1475425047682,
           185.69772649086144,
           186.2479104769547,
           186.79809446304793,
           187.3482784491412,
           187.89846243523442,
           188.44864642132768
          ],
          [
           178.54896871749798,
           179.09915270359122,
           179.64933668968447,
           180.19952067577773,
           180.74970466187096,
           181.29988864796422,
           181.85007263405745,
           182.4002566201507,
           182.95044060624394,
           183.5006245923372,
           184.05080857843046,
           184.6009925645237,
           185.15117655061695,
           185.70136053671018,
           186.25154452280344,
           186.8017285088967,
           187.35191249498993,
           187.9020964810832,
           188.45228046717642,
           189.00246445326968
          ],
          [
           179.10278674943999,
           179.65297073553322,
           180.20315472162648,
           180.7533387077197,
           181.30352269381297,
           181.85370667990622,
           182.40389066599946,
           182.95407465209271,
           183.50425863818595,
           184.0544426242792,
           184.60462661037246,
           185.1548105964657,
           185.70499458255895,
           186.25517856865218,
           186.80536255474544,
           187.35554654083867,
           187.90573052693193,
           188.45591451302516,
           189.00609849911842,
           189.55628248521168
          ],
          [
           179.656604781382,
           180.20678876747522,
           180.75697275356848,
           181.3071567396617,
           181.85734072575497,
           182.4075247118482,
           182.95770869794146,
           183.50789268403472,
           184.05807667012795,
           184.6082606562212,
           185.15844464231444,
           185.7086286284077,
           186.25881261450095,
           186.80899660059418,
           187.35918058668744,
           187.90936457278067,
           188.45954855887393,
           189.00973254496716,
           189.55991653106042,
           190.11010051715368
          ],
          [
           180.21042281332396,
           180.76060679941722,
           181.31079078551048,
           181.8609747716037,
           182.41115875769697,
           182.9613427437902,
           183.51152672988346,
           184.0617107159767,
           184.61189470206995,
           185.1620786881632,
           185.71226267425644,
           186.2624466603497,
           186.81263064644293,
           187.36281463253619,
           187.91299861862944,
           188.46318260472268,
           189.01336659081593,
           189.56355057690917,
           190.11373456300242,
           190.66391854909565
          ],
          [
           180.76424084526596,
           181.31442483135922,
           181.86460881745245,
           182.4147928035457,
           182.96497678963894,
           183.5151607757322,
           184.06534476182546,
           184.6155287479187,
           185.16571273401195,
           185.71589672010518,
           186.26608070619844,
           186.8162646922917,
           187.36644867838493,
           187.9166326644782,
           188.46681665057142,
           189.01700063666468,
           189.5671846227579,
           190.11736860885117,
           190.66755259494442,
           191.21773658103766
          ],
          [
           181.31805887720796,
           181.86824286330122,
           182.41842684939445,
           182.9686108354877,
           183.51879482158094,
           184.0689788076742,
           184.61916279376746,
           185.1693467798607,
           185.71953076595395,
           186.26971475204718,
           186.81989873814044,
           187.37008272423367,
           187.92026671032693,
           188.4704506964202,
           189.02063468251342,
           189.57081866860668,
           190.1210026546999,
           190.67118664079317,
           191.22137062688643,
           191.77155461297966
          ],
          [
           181.87187690914996,
           182.4220608952432,
           182.97224488133645,
           183.5224288674297,
           184.07261285352294,
           184.6227968396162,
           185.17298082570943,
           185.7231648118027,
           186.27334879789592,
           186.82353278398918,
           187.37371677008244,
           187.92390075617567,
           188.47408474226893,
           189.02426872836216,
           189.57445271445542,
           190.12463670054868,
           190.6748206866419,
           191.22500467273517,
           191.7751886588284,
           192.32537264492166
          ],
          [
           182.42569494109196,
           182.9758789271852,
           183.52606291327845,
           184.07624689937168,
           184.62643088546494,
           185.1766148715582,
           185.72679885765143,
           186.2769828437447,
           186.82716682983792,
           187.37735081593118,
           187.92753480202444,
           188.47771878811767,
           189.02790277421093,
           189.57808676030416,
           190.12827074639742,
           190.67845473249065,
           191.2286387185839,
           191.77882270467717,
           192.3290066907704,
           192.87919067686366
          ],
          [
           182.97951297303396,
           183.5296969591272,
           184.07988094522045,
           184.63006493131368,
           185.18024891740694,
           185.73043290350017,
           186.28061688959343,
           186.8308008756867,
           187.38098486177992,
           187.93116884787318,
           188.4813528339664,
           189.03153682005967,
           189.58172080615293,
           190.13190479224616,
           190.68208877833942,
           191.23227276443265,
           191.7824567505259,
           192.33264073661914,
           192.8828247227124,
           193.43300870880566
          ]
         ]
        }
       ],
       "layout": {
        "scene": {
         "xaxis": {
          "title": {
           "text": "Ancho"
          }
         },
         "yaxis": {
          "title": {
           "text": "Pie"
          }
         },
         "zaxis": {
          "title": {
           "text": "Altura"
          }
         }
        },
        "template": {
         "data": {
          "bar": [
           {
            "error_x": {
             "color": "#2a3f5f"
            },
            "error_y": {
             "color": "#2a3f5f"
            },
            "marker": {
             "line": {
              "color": "#E5ECF6",
              "width": 0.5
             },
             "pattern": {
              "fillmode": "overlay",
              "size": 10,
              "solidity": 0.2
             }
            },
            "type": "bar"
           }
          ],
          "barpolar": [
           {
            "marker": {
             "line": {
              "color": "#E5ECF6",
              "width": 0.5
             },
             "pattern": {
              "fillmode": "overlay",
              "size": 10,
              "solidity": 0.2
             }
            },
            "type": "barpolar"
           }
          ],
          "carpet": [
           {
            "aaxis": {
             "endlinecolor": "#2a3f5f",
             "gridcolor": "white",
             "linecolor": "white",
             "minorgridcolor": "white",
             "startlinecolor": "#2a3f5f"
            },
            "baxis": {
             "endlinecolor": "#2a3f5f",
             "gridcolor": "white",
             "linecolor": "white",
             "minorgridcolor": "white",
             "startlinecolor": "#2a3f5f"
            },
            "type": "carpet"
           }
          ],
          "choropleth": [
           {
            "colorbar": {
             "outlinewidth": 0,
             "ticks": ""
            },
            "type": "choropleth"
           }
          ],
          "contour": [
           {
            "colorbar": {
             "outlinewidth": 0,
             "ticks": ""
            },
            "colorscale": [
             [
              0,
              "#0d0887"
             ],
             [
              0.1111111111111111,
              "#46039f"
             ],
             [
              0.2222222222222222,
              "#7201a8"
             ],
             [
              0.3333333333333333,
              "#9c179e"
             ],
             [
              0.4444444444444444,
              "#bd3786"
             ],
             [
              0.5555555555555556,
              "#d8576b"
             ],
             [
              0.6666666666666666,
              "#ed7953"
             ],
             [
              0.7777777777777778,
              "#fb9f3a"
             ],
             [
              0.8888888888888888,
              "#fdca26"
             ],
             [
              1,
              "#f0f921"
             ]
            ],
            "type": "contour"
           }
          ],
          "contourcarpet": [
           {
            "colorbar": {
             "outlinewidth": 0,
             "ticks": ""
            },
            "type": "contourcarpet"
           }
          ],
          "heatmap": [
           {
            "colorbar": {
             "outlinewidth": 0,
             "ticks": ""
            },
            "colorscale": [
             [
              0,
              "#0d0887"
             ],
             [
              0.1111111111111111,
              "#46039f"
             ],
             [
              0.2222222222222222,
              "#7201a8"
             ],
             [
              0.3333333333333333,
              "#9c179e"
             ],
             [
              0.4444444444444444,
              "#bd3786"
             ],
             [
              0.5555555555555556,
              "#d8576b"
             ],
             [
              0.6666666666666666,
              "#ed7953"
             ],
             [
              0.7777777777777778,
              "#fb9f3a"
             ],
             [
              0.8888888888888888,
              "#fdca26"
             ],
             [
              1,
              "#f0f921"
             ]
            ],
            "type": "heatmap"
           }
          ],
          "heatmapgl": [
           {
            "colorbar": {
             "outlinewidth": 0,
             "ticks": ""
            },
            "colorscale": [
             [
              0,
              "#0d0887"
             ],
             [
              0.1111111111111111,
              "#46039f"
             ],
             [
              0.2222222222222222,
              "#7201a8"
             ],
             [
              0.3333333333333333,
              "#9c179e"
             ],
             [
              0.4444444444444444,
              "#bd3786"
             ],
             [
              0.5555555555555556,
              "#d8576b"
             ],
             [
              0.6666666666666666,
              "#ed7953"
             ],
             [
              0.7777777777777778,
              "#fb9f3a"
             ],
             [
              0.8888888888888888,
              "#fdca26"
             ],
             [
              1,
              "#f0f921"
             ]
            ],
            "type": "heatmapgl"
           }
          ],
          "histogram": [
           {
            "marker": {
             "pattern": {
              "fillmode": "overlay",
              "size": 10,
              "solidity": 0.2
             }
            },
            "type": "histogram"
           }
          ],
          "histogram2d": [
           {
            "colorbar": {
             "outlinewidth": 0,
             "ticks": ""
            },
            "colorscale": [
             [
              0,
              "#0d0887"
             ],
             [
              0.1111111111111111,
              "#46039f"
             ],
             [
              0.2222222222222222,
              "#7201a8"
             ],
             [
              0.3333333333333333,
              "#9c179e"
             ],
             [
              0.4444444444444444,
              "#bd3786"
             ],
             [
              0.5555555555555556,
              "#d8576b"
             ],
             [
              0.6666666666666666,
              "#ed7953"
             ],
             [
              0.7777777777777778,
              "#fb9f3a"
             ],
             [
              0.8888888888888888,
              "#fdca26"
             ],
             [
              1,
              "#f0f921"
             ]
            ],
            "type": "histogram2d"
           }
          ],
          "histogram2dcontour": [
           {
            "colorbar": {
             "outlinewidth": 0,
             "ticks": ""
            },
            "colorscale": [
             [
              0,
              "#0d0887"
             ],
             [
              0.1111111111111111,
              "#46039f"
             ],
             [
              0.2222222222222222,
              "#7201a8"
             ],
             [
              0.3333333333333333,
              "#9c179e"
             ],
             [
              0.4444444444444444,
              "#bd3786"
             ],
             [
              0.5555555555555556,
              "#d8576b"
             ],
             [
              0.6666666666666666,
              "#ed7953"
             ],
             [
              0.7777777777777778,
              "#fb9f3a"
             ],
             [
              0.8888888888888888,
              "#fdca26"
             ],
             [
              1,
              "#f0f921"
             ]
            ],
            "type": "histogram2dcontour"
           }
          ],
          "mesh3d": [
           {
            "colorbar": {
             "outlinewidth": 0,
             "ticks": ""
            },
            "type": "mesh3d"
           }
          ],
          "parcoords": [
           {
            "line": {
             "colorbar": {
              "outlinewidth": 0,
              "ticks": ""
             }
            },
            "type": "parcoords"
           }
          ],
          "pie": [
           {
            "automargin": true,
            "type": "pie"
           }
          ],
          "scatter": [
           {
            "fillpattern": {
             "fillmode": "overlay",
             "size": 10,
             "solidity": 0.2
            },
            "type": "scatter"
           }
          ],
          "scatter3d": [
           {
            "line": {
             "colorbar": {
              "outlinewidth": 0,
              "ticks": ""
             }
            },
            "marker": {
             "colorbar": {
              "outlinewidth": 0,
              "ticks": ""
             }
            },
            "type": "scatter3d"
           }
          ],
          "scattercarpet": [
           {
            "marker": {
             "colorbar": {
              "outlinewidth": 0,
              "ticks": ""
             }
            },
            "type": "scattercarpet"
           }
          ],
          "scattergeo": [
           {
            "marker": {
             "colorbar": {
              "outlinewidth": 0,
              "ticks": ""
             }
            },
            "type": "scattergeo"
           }
          ],
          "scattergl": [
           {
            "marker": {
             "colorbar": {
              "outlinewidth": 0,
              "ticks": ""
             }
            },
            "type": "scattergl"
           }
          ],
          "scattermapbox": [
           {
            "marker": {
             "colorbar": {
              "outlinewidth": 0,
              "ticks": ""
             }
            },
            "type": "scattermapbox"
           }
          ],
          "scatterpolar": [
           {
            "marker": {
             "colorbar": {
              "outlinewidth": 0,
              "ticks": ""
             }
            },
            "type": "scatterpolar"
           }
          ],
          "scatterpolargl": [
           {
            "marker": {
             "colorbar": {
              "outlinewidth": 0,
              "ticks": ""
             }
            },
            "type": "scatterpolargl"
           }
          ],
          "scatterternary": [
           {
            "marker": {
             "colorbar": {
              "outlinewidth": 0,
              "ticks": ""
             }
            },
            "type": "scatterternary"
           }
          ],
          "surface": [
           {
            "colorbar": {
             "outlinewidth": 0,
             "ticks": ""
            },
            "colorscale": [
             [
              0,
              "#0d0887"
             ],
             [
              0.1111111111111111,
              "#46039f"
             ],
             [
              0.2222222222222222,
              "#7201a8"
             ],
             [
              0.3333333333333333,
              "#9c179e"
             ],
             [
              0.4444444444444444,
              "#bd3786"
             ],
             [
              0.5555555555555556,
              "#d8576b"
             ],
             [
              0.6666666666666666,
              "#ed7953"
             ],
             [
              0.7777777777777778,
              "#fb9f3a"
             ],
             [
              0.8888888888888888,
              "#fdca26"
             ],
             [
              1,
              "#f0f921"
             ]
            ],
            "type": "surface"
           }
          ],
          "table": [
           {
            "cells": {
             "fill": {
              "color": "#EBF0F8"
             },
             "line": {
              "color": "white"
             }
            },
            "header": {
             "fill": {
              "color": "#C8D4E3"
             },
             "line": {
              "color": "white"
             }
            },
            "type": "table"
           }
          ]
         },
         "layout": {
          "annotationdefaults": {
           "arrowcolor": "#2a3f5f",
           "arrowhead": 0,
           "arrowwidth": 1
          },
          "autotypenumbers": "strict",
          "coloraxis": {
           "colorbar": {
            "outlinewidth": 0,
            "ticks": ""
           }
          },
          "colorscale": {
           "diverging": [
            [
             0,
             "#8e0152"
            ],
            [
             0.1,
             "#c51b7d"
            ],
            [
             0.2,
             "#de77ae"
            ],
            [
             0.3,
             "#f1b6da"
            ],
            [
             0.4,
             "#fde0ef"
            ],
            [
             0.5,
             "#f7f7f7"
            ],
            [
             0.6,
             "#e6f5d0"
            ],
            [
             0.7,
             "#b8e186"
            ],
            [
             0.8,
             "#7fbc41"
            ],
            [
             0.9,
             "#4d9221"
            ],
            [
             1,
             "#276419"
            ]
           ],
           "sequential": [
            [
             0,
             "#0d0887"
            ],
            [
             0.1111111111111111,
             "#46039f"
            ],
            [
             0.2222222222222222,
             "#7201a8"
            ],
            [
             0.3333333333333333,
             "#9c179e"
            ],
            [
             0.4444444444444444,
             "#bd3786"
            ],
            [
             0.5555555555555556,
             "#d8576b"
            ],
            [
             0.6666666666666666,
             "#ed7953"
            ],
            [
             0.7777777777777778,
             "#fb9f3a"
            ],
            [
             0.8888888888888888,
             "#fdca26"
            ],
            [
             1,
             "#f0f921"
            ]
           ],
           "sequentialminus": [
            [
             0,
             "#0d0887"
            ],
            [
             0.1111111111111111,
             "#46039f"
            ],
            [
             0.2222222222222222,
             "#7201a8"
            ],
            [
             0.3333333333333333,
             "#9c179e"
            ],
            [
             0.4444444444444444,
             "#bd3786"
            ],
            [
             0.5555555555555556,
             "#d8576b"
            ],
            [
             0.6666666666666666,
             "#ed7953"
            ],
            [
             0.7777777777777778,
             "#fb9f3a"
            ],
            [
             0.8888888888888888,
             "#fdca26"
            ],
            [
             1,
             "#f0f921"
            ]
           ]
          },
          "colorway": [
           "#636efa",
           "#EF553B",
           "#00cc96",
           "#ab63fa",
           "#FFA15A",
           "#19d3f3",
           "#FF6692",
           "#B6E880",
           "#FF97FF",
           "#FECB52"
          ],
          "font": {
           "color": "#2a3f5f"
          },
          "geo": {
           "bgcolor": "white",
           "lakecolor": "white",
           "landcolor": "#E5ECF6",
           "showlakes": true,
           "showland": true,
           "subunitcolor": "white"
          },
          "hoverlabel": {
           "align": "left"
          },
          "hovermode": "closest",
          "mapbox": {
           "style": "light"
          },
          "paper_bgcolor": "white",
          "plot_bgcolor": "#E5ECF6",
          "polar": {
           "angularaxis": {
            "gridcolor": "white",
            "linecolor": "white",
            "ticks": ""
           },
           "bgcolor": "#E5ECF6",
           "radialaxis": {
            "gridcolor": "white",
            "linecolor": "white",
            "ticks": ""
           }
          },
          "scene": {
           "xaxis": {
            "backgroundcolor": "#E5ECF6",
            "gridcolor": "white",
            "gridwidth": 2,
            "linecolor": "white",
            "showbackground": true,
            "ticks": "",
            "zerolinecolor": "white"
           },
           "yaxis": {
            "backgroundcolor": "#E5ECF6",
            "gridcolor": "white",
            "gridwidth": 2,
            "linecolor": "white",
            "showbackground": true,
            "ticks": "",
            "zerolinecolor": "white"
           },
           "zaxis": {
            "backgroundcolor": "#E5ECF6",
            "gridcolor": "white",
            "gridwidth": 2,
            "linecolor": "white",
            "showbackground": true,
            "ticks": "",
            "zerolinecolor": "white"
           }
          },
          "shapedefaults": {
           "line": {
            "color": "#2a3f5f"
           }
          },
          "ternary": {
           "aaxis": {
            "gridcolor": "white",
            "linecolor": "white",
            "ticks": ""
           },
           "baxis": {
            "gridcolor": "white",
            "linecolor": "white",
            "ticks": ""
           },
           "bgcolor": "#E5ECF6",
           "caxis": {
            "gridcolor": "white",
            "linecolor": "white",
            "ticks": ""
           }
          },
          "title": {
           "x": 0.05
          },
          "xaxis": {
           "automargin": true,
           "gridcolor": "white",
           "linecolor": "white",
           "ticks": "",
           "title": {
            "standoff": 15
           },
           "zerolinecolor": "white",
           "zerolinewidth": 2
          },
          "yaxis": {
           "automargin": true,
           "gridcolor": "white",
           "linecolor": "white",
           "ticks": "",
           "title": {
            "standoff": 15
           },
           "zerolinecolor": "white",
           "zerolinewidth": 2
          }
         }
        },
        "title": {
         "text": "REGRESION<br>R2: 0.9774805790776366 RMSE: 0.6548051422841754"
        }
       }
      }
     },
     "metadata": {},
     "output_type": "display_data"
    }
   ],
   "source": [
    "# Definir rangos para las variables independientes\n",
    "x1_range = np.linspace(min(x_train_pb[:, 0]), max(x_train_pb[:, 0]), 20)\n",
    "x2_range = np.linspace(min(x_train_pb[:, 1]), max(x_train_pb[:, 1]), 20)\n",
    "x1_mesh, x2_mesh = np.meshgrid(x1_range, x2_range)\n",
    "\n",
    "# Escalar el meshgrid para predicción\n",
    "x_mesh_scaled = ss_pb.transform(np.vstack((x1_mesh.ravel(), x2_mesh.ravel())).T)\n",
    "\n",
    "# Predecir los valores con el modelo escalado\n",
    "y_mesh_scaled = modelo_pb.predict(x_mesh_scaled)\n",
    "\n",
    "# Crear scatterplot 3D de los puntos reales\n",
    "scatter = go.Scatter3d(\n",
    "    x=x_test_pb[:, 0], y=x_test_pb[:, 1], z=y_test_pb,\n",
    "    mode='markers',\n",
    "    marker=dict(size=8, color='red', opacity=0.7)\n",
    ")\n",
    "\n",
    "# Crear el plano de regresión\n",
    "surface = go.Surface(\n",
    "    x=x1_mesh, y=x2_mesh, z=y_mesh_scaled.reshape(x1_mesh.shape),\n",
    "    colorscale='Viridis', opacity=0.5\n",
    ")\n",
    "\n",
    "# Configuración del layout\n",
    "layout = go.Layout(\n",
    "    title=f\"REGRESION<br>R2: {r2_score(y_test_pb, pb_pred)} RMSE: {root_mean_squared_error(y_test_pb, pb_pred)}\",\n",
    "    scene=dict(\n",
    "        xaxis_title='Ancho',\n",
    "        yaxis_title='Pie',\n",
    "        zaxis_title='Altura'\n",
    "    )\n",
    ")\n",
    "\n",
    "# Crear la figura\n",
    "fig = go.Figure(data=[scatter, surface], layout=layout)\n",
    "\n",
    "# Mostrar la figura interactiva\n",
    "fig.show()\n"
   ]
  },
  {
   "cell_type": "markdown",
   "metadata": {},
   "source": [
    "**¿Agregarías datos a tu base de datos para mejorar las predicciones del modelo?**\n",
    "\n",
    "Sí, ya que la altura promedio de un mexicano no es la misma que la altura de una persona de Países Bajos."
   ]
  },
  {
   "cell_type": "markdown",
   "metadata": {},
   "source": [
    "**¿Cómo conseguirías dicha información?**\n",
    "\n",
    "Al tener que el promedio de altura de un hombre de Países Bajos es de 183 cm y la altura promedio de una mujer de Países Bajos es de 170 cm, promediamos las alturas y nos basamos en los datos originales y en los que recabamos de las 70 personas que medimos para crear nuevos datos."
   ]
  },
  {
   "cell_type": "markdown",
   "metadata": {},
   "source": [
    "**¿Modificarías algún parámetro de tu modelo?**\n",
    "\n",
    "En este caso, al no tener ningún dato de personas de países bajos y después de hacer gridsearch para obtener el modelo con las mejores métricas, llegamos a la conclusión de que una regresión lineal simple era el mejor modelo, por lo que no aplicamos ninguna regularización."
   ]
  },
  {
   "cell_type": "markdown",
   "metadata": {},
   "source": [
    "## Parte 4"
   ]
  },
  {
   "cell_type": "markdown",
   "metadata": {},
   "source": [
    "### Ambos contextos"
   ]
  },
  {
   "cell_type": "code",
   "execution_count": 133,
   "metadata": {},
   "outputs": [],
   "source": [
    "df_combined = pd.concat([df_center, data_left, data_right, df_pb])"
   ]
  },
  {
   "cell_type": "code",
   "execution_count": 134,
   "metadata": {},
   "outputs": [],
   "source": [
    "# Dividir los datos en entrenamiento y prueba\n",
    "X_c = df_combined.drop(\"height\", axis=1)\n",
    "y_c = df_combined[\"height\"]"
   ]
  },
  {
   "cell_type": "code",
   "execution_count": 135,
   "metadata": {},
   "outputs": [],
   "source": [
    "x_train, x_test, y_train, y_test = train_test_split(X_c, y_c, test_size=0.2, random_state=42)  "
   ]
  },
  {
   "cell_type": "code",
   "execution_count": 136,
   "metadata": {},
   "outputs": [],
   "source": [
    "ss = StandardScaler()\n",
    "x_train_ss = ss.fit_transform(x_train)\n",
    "x_test_ss = ss.transform(x_test)"
   ]
  },
  {
   "cell_type": "code",
   "execution_count": 137,
   "metadata": {},
   "outputs": [
    {
     "data": {
      "text/html": [
       "<style>#sk-container-id-2 {\n",
       "  /* Definition of color scheme common for light and dark mode */\n",
       "  --sklearn-color-text: black;\n",
       "  --sklearn-color-line: gray;\n",
       "  /* Definition of color scheme for unfitted estimators */\n",
       "  --sklearn-color-unfitted-level-0: #fff5e6;\n",
       "  --sklearn-color-unfitted-level-1: #f6e4d2;\n",
       "  --sklearn-color-unfitted-level-2: #ffe0b3;\n",
       "  --sklearn-color-unfitted-level-3: chocolate;\n",
       "  /* Definition of color scheme for fitted estimators */\n",
       "  --sklearn-color-fitted-level-0: #f0f8ff;\n",
       "  --sklearn-color-fitted-level-1: #d4ebff;\n",
       "  --sklearn-color-fitted-level-2: #b3dbfd;\n",
       "  --sklearn-color-fitted-level-3: cornflowerblue;\n",
       "\n",
       "  /* Specific color for light theme */\n",
       "  --sklearn-color-text-on-default-background: var(--sg-text-color, var(--theme-code-foreground, var(--jp-content-font-color1, black)));\n",
       "  --sklearn-color-background: var(--sg-background-color, var(--theme-background, var(--jp-layout-color0, white)));\n",
       "  --sklearn-color-border-box: var(--sg-text-color, var(--theme-code-foreground, var(--jp-content-font-color1, black)));\n",
       "  --sklearn-color-icon: #696969;\n",
       "\n",
       "  @media (prefers-color-scheme: dark) {\n",
       "    /* Redefinition of color scheme for dark theme */\n",
       "    --sklearn-color-text-on-default-background: var(--sg-text-color, var(--theme-code-foreground, var(--jp-content-font-color1, white)));\n",
       "    --sklearn-color-background: var(--sg-background-color, var(--theme-background, var(--jp-layout-color0, #111)));\n",
       "    --sklearn-color-border-box: var(--sg-text-color, var(--theme-code-foreground, var(--jp-content-font-color1, white)));\n",
       "    --sklearn-color-icon: #878787;\n",
       "  }\n",
       "}\n",
       "\n",
       "#sk-container-id-2 {\n",
       "  color: var(--sklearn-color-text);\n",
       "}\n",
       "\n",
       "#sk-container-id-2 pre {\n",
       "  padding: 0;\n",
       "}\n",
       "\n",
       "#sk-container-id-2 input.sk-hidden--visually {\n",
       "  border: 0;\n",
       "  clip: rect(1px 1px 1px 1px);\n",
       "  clip: rect(1px, 1px, 1px, 1px);\n",
       "  height: 1px;\n",
       "  margin: -1px;\n",
       "  overflow: hidden;\n",
       "  padding: 0;\n",
       "  position: absolute;\n",
       "  width: 1px;\n",
       "}\n",
       "\n",
       "#sk-container-id-2 div.sk-dashed-wrapped {\n",
       "  border: 1px dashed var(--sklearn-color-line);\n",
       "  margin: 0 0.4em 0.5em 0.4em;\n",
       "  box-sizing: border-box;\n",
       "  padding-bottom: 0.4em;\n",
       "  background-color: var(--sklearn-color-background);\n",
       "}\n",
       "\n",
       "#sk-container-id-2 div.sk-container {\n",
       "  /* jupyter's `normalize.less` sets `[hidden] { display: none; }`\n",
       "     but bootstrap.min.css set `[hidden] { display: none !important; }`\n",
       "     so we also need the `!important` here to be able to override the\n",
       "     default hidden behavior on the sphinx rendered scikit-learn.org.\n",
       "     See: https://github.com/scikit-learn/scikit-learn/issues/21755 */\n",
       "  display: inline-block !important;\n",
       "  position: relative;\n",
       "}\n",
       "\n",
       "#sk-container-id-2 div.sk-text-repr-fallback {\n",
       "  display: none;\n",
       "}\n",
       "\n",
       "div.sk-parallel-item,\n",
       "div.sk-serial,\n",
       "div.sk-item {\n",
       "  /* draw centered vertical line to link estimators */\n",
       "  background-image: linear-gradient(var(--sklearn-color-text-on-default-background), var(--sklearn-color-text-on-default-background));\n",
       "  background-size: 2px 100%;\n",
       "  background-repeat: no-repeat;\n",
       "  background-position: center center;\n",
       "}\n",
       "\n",
       "/* Parallel-specific style estimator block */\n",
       "\n",
       "#sk-container-id-2 div.sk-parallel-item::after {\n",
       "  content: \"\";\n",
       "  width: 100%;\n",
       "  border-bottom: 2px solid var(--sklearn-color-text-on-default-background);\n",
       "  flex-grow: 1;\n",
       "}\n",
       "\n",
       "#sk-container-id-2 div.sk-parallel {\n",
       "  display: flex;\n",
       "  align-items: stretch;\n",
       "  justify-content: center;\n",
       "  background-color: var(--sklearn-color-background);\n",
       "  position: relative;\n",
       "}\n",
       "\n",
       "#sk-container-id-2 div.sk-parallel-item {\n",
       "  display: flex;\n",
       "  flex-direction: column;\n",
       "}\n",
       "\n",
       "#sk-container-id-2 div.sk-parallel-item:first-child::after {\n",
       "  align-self: flex-end;\n",
       "  width: 50%;\n",
       "}\n",
       "\n",
       "#sk-container-id-2 div.sk-parallel-item:last-child::after {\n",
       "  align-self: flex-start;\n",
       "  width: 50%;\n",
       "}\n",
       "\n",
       "#sk-container-id-2 div.sk-parallel-item:only-child::after {\n",
       "  width: 0;\n",
       "}\n",
       "\n",
       "/* Serial-specific style estimator block */\n",
       "\n",
       "#sk-container-id-2 div.sk-serial {\n",
       "  display: flex;\n",
       "  flex-direction: column;\n",
       "  align-items: center;\n",
       "  background-color: var(--sklearn-color-background);\n",
       "  padding-right: 1em;\n",
       "  padding-left: 1em;\n",
       "}\n",
       "\n",
       "\n",
       "/* Toggleable style: style used for estimator/Pipeline/ColumnTransformer box that is\n",
       "clickable and can be expanded/collapsed.\n",
       "- Pipeline and ColumnTransformer use this feature and define the default style\n",
       "- Estimators will overwrite some part of the style using the `sk-estimator` class\n",
       "*/\n",
       "\n",
       "/* Pipeline and ColumnTransformer style (default) */\n",
       "\n",
       "#sk-container-id-2 div.sk-toggleable {\n",
       "  /* Default theme specific background. It is overwritten whether we have a\n",
       "  specific estimator or a Pipeline/ColumnTransformer */\n",
       "  background-color: var(--sklearn-color-background);\n",
       "}\n",
       "\n",
       "/* Toggleable label */\n",
       "#sk-container-id-2 label.sk-toggleable__label {\n",
       "  cursor: pointer;\n",
       "  display: block;\n",
       "  width: 100%;\n",
       "  margin-bottom: 0;\n",
       "  padding: 0.5em;\n",
       "  box-sizing: border-box;\n",
       "  text-align: center;\n",
       "}\n",
       "\n",
       "#sk-container-id-2 label.sk-toggleable__label-arrow:before {\n",
       "  /* Arrow on the left of the label */\n",
       "  content: \"▸\";\n",
       "  float: left;\n",
       "  margin-right: 0.25em;\n",
       "  color: var(--sklearn-color-icon);\n",
       "}\n",
       "\n",
       "#sk-container-id-2 label.sk-toggleable__label-arrow:hover:before {\n",
       "  color: var(--sklearn-color-text);\n",
       "}\n",
       "\n",
       "/* Toggleable content - dropdown */\n",
       "\n",
       "#sk-container-id-2 div.sk-toggleable__content {\n",
       "  max-height: 0;\n",
       "  max-width: 0;\n",
       "  overflow: hidden;\n",
       "  text-align: left;\n",
       "  /* unfitted */\n",
       "  background-color: var(--sklearn-color-unfitted-level-0);\n",
       "}\n",
       "\n",
       "#sk-container-id-2 div.sk-toggleable__content.fitted {\n",
       "  /* fitted */\n",
       "  background-color: var(--sklearn-color-fitted-level-0);\n",
       "}\n",
       "\n",
       "#sk-container-id-2 div.sk-toggleable__content pre {\n",
       "  margin: 0.2em;\n",
       "  border-radius: 0.25em;\n",
       "  color: var(--sklearn-color-text);\n",
       "  /* unfitted */\n",
       "  background-color: var(--sklearn-color-unfitted-level-0);\n",
       "}\n",
       "\n",
       "#sk-container-id-2 div.sk-toggleable__content.fitted pre {\n",
       "  /* unfitted */\n",
       "  background-color: var(--sklearn-color-fitted-level-0);\n",
       "}\n",
       "\n",
       "#sk-container-id-2 input.sk-toggleable__control:checked~div.sk-toggleable__content {\n",
       "  /* Expand drop-down */\n",
       "  max-height: 200px;\n",
       "  max-width: 100%;\n",
       "  overflow: auto;\n",
       "}\n",
       "\n",
       "#sk-container-id-2 input.sk-toggleable__control:checked~label.sk-toggleable__label-arrow:before {\n",
       "  content: \"▾\";\n",
       "}\n",
       "\n",
       "/* Pipeline/ColumnTransformer-specific style */\n",
       "\n",
       "#sk-container-id-2 div.sk-label input.sk-toggleable__control:checked~label.sk-toggleable__label {\n",
       "  color: var(--sklearn-color-text);\n",
       "  background-color: var(--sklearn-color-unfitted-level-2);\n",
       "}\n",
       "\n",
       "#sk-container-id-2 div.sk-label.fitted input.sk-toggleable__control:checked~label.sk-toggleable__label {\n",
       "  background-color: var(--sklearn-color-fitted-level-2);\n",
       "}\n",
       "\n",
       "/* Estimator-specific style */\n",
       "\n",
       "/* Colorize estimator box */\n",
       "#sk-container-id-2 div.sk-estimator input.sk-toggleable__control:checked~label.sk-toggleable__label {\n",
       "  /* unfitted */\n",
       "  background-color: var(--sklearn-color-unfitted-level-2);\n",
       "}\n",
       "\n",
       "#sk-container-id-2 div.sk-estimator.fitted input.sk-toggleable__control:checked~label.sk-toggleable__label {\n",
       "  /* fitted */\n",
       "  background-color: var(--sklearn-color-fitted-level-2);\n",
       "}\n",
       "\n",
       "#sk-container-id-2 div.sk-label label.sk-toggleable__label,\n",
       "#sk-container-id-2 div.sk-label label {\n",
       "  /* The background is the default theme color */\n",
       "  color: var(--sklearn-color-text-on-default-background);\n",
       "}\n",
       "\n",
       "/* On hover, darken the color of the background */\n",
       "#sk-container-id-2 div.sk-label:hover label.sk-toggleable__label {\n",
       "  color: var(--sklearn-color-text);\n",
       "  background-color: var(--sklearn-color-unfitted-level-2);\n",
       "}\n",
       "\n",
       "/* Label box, darken color on hover, fitted */\n",
       "#sk-container-id-2 div.sk-label.fitted:hover label.sk-toggleable__label.fitted {\n",
       "  color: var(--sklearn-color-text);\n",
       "  background-color: var(--sklearn-color-fitted-level-2);\n",
       "}\n",
       "\n",
       "/* Estimator label */\n",
       "\n",
       "#sk-container-id-2 div.sk-label label {\n",
       "  font-family: monospace;\n",
       "  font-weight: bold;\n",
       "  display: inline-block;\n",
       "  line-height: 1.2em;\n",
       "}\n",
       "\n",
       "#sk-container-id-2 div.sk-label-container {\n",
       "  text-align: center;\n",
       "}\n",
       "\n",
       "/* Estimator-specific */\n",
       "#sk-container-id-2 div.sk-estimator {\n",
       "  font-family: monospace;\n",
       "  border: 1px dotted var(--sklearn-color-border-box);\n",
       "  border-radius: 0.25em;\n",
       "  box-sizing: border-box;\n",
       "  margin-bottom: 0.5em;\n",
       "  /* unfitted */\n",
       "  background-color: var(--sklearn-color-unfitted-level-0);\n",
       "}\n",
       "\n",
       "#sk-container-id-2 div.sk-estimator.fitted {\n",
       "  /* fitted */\n",
       "  background-color: var(--sklearn-color-fitted-level-0);\n",
       "}\n",
       "\n",
       "/* on hover */\n",
       "#sk-container-id-2 div.sk-estimator:hover {\n",
       "  /* unfitted */\n",
       "  background-color: var(--sklearn-color-unfitted-level-2);\n",
       "}\n",
       "\n",
       "#sk-container-id-2 div.sk-estimator.fitted:hover {\n",
       "  /* fitted */\n",
       "  background-color: var(--sklearn-color-fitted-level-2);\n",
       "}\n",
       "\n",
       "/* Specification for estimator info (e.g. \"i\" and \"?\") */\n",
       "\n",
       "/* Common style for \"i\" and \"?\" */\n",
       "\n",
       ".sk-estimator-doc-link,\n",
       "a:link.sk-estimator-doc-link,\n",
       "a:visited.sk-estimator-doc-link {\n",
       "  float: right;\n",
       "  font-size: smaller;\n",
       "  line-height: 1em;\n",
       "  font-family: monospace;\n",
       "  background-color: var(--sklearn-color-background);\n",
       "  border-radius: 1em;\n",
       "  height: 1em;\n",
       "  width: 1em;\n",
       "  text-decoration: none !important;\n",
       "  margin-left: 1ex;\n",
       "  /* unfitted */\n",
       "  border: var(--sklearn-color-unfitted-level-1) 1pt solid;\n",
       "  color: var(--sklearn-color-unfitted-level-1);\n",
       "}\n",
       "\n",
       ".sk-estimator-doc-link.fitted,\n",
       "a:link.sk-estimator-doc-link.fitted,\n",
       "a:visited.sk-estimator-doc-link.fitted {\n",
       "  /* fitted */\n",
       "  border: var(--sklearn-color-fitted-level-1) 1pt solid;\n",
       "  color: var(--sklearn-color-fitted-level-1);\n",
       "}\n",
       "\n",
       "/* On hover */\n",
       "div.sk-estimator:hover .sk-estimator-doc-link:hover,\n",
       ".sk-estimator-doc-link:hover,\n",
       "div.sk-label-container:hover .sk-estimator-doc-link:hover,\n",
       ".sk-estimator-doc-link:hover {\n",
       "  /* unfitted */\n",
       "  background-color: var(--sklearn-color-unfitted-level-3);\n",
       "  color: var(--sklearn-color-background);\n",
       "  text-decoration: none;\n",
       "}\n",
       "\n",
       "div.sk-estimator.fitted:hover .sk-estimator-doc-link.fitted:hover,\n",
       ".sk-estimator-doc-link.fitted:hover,\n",
       "div.sk-label-container:hover .sk-estimator-doc-link.fitted:hover,\n",
       ".sk-estimator-doc-link.fitted:hover {\n",
       "  /* fitted */\n",
       "  background-color: var(--sklearn-color-fitted-level-3);\n",
       "  color: var(--sklearn-color-background);\n",
       "  text-decoration: none;\n",
       "}\n",
       "\n",
       "/* Span, style for the box shown on hovering the info icon */\n",
       ".sk-estimator-doc-link span {\n",
       "  display: none;\n",
       "  z-index: 9999;\n",
       "  position: relative;\n",
       "  font-weight: normal;\n",
       "  right: .2ex;\n",
       "  padding: .5ex;\n",
       "  margin: .5ex;\n",
       "  width: min-content;\n",
       "  min-width: 20ex;\n",
       "  max-width: 50ex;\n",
       "  color: var(--sklearn-color-text);\n",
       "  box-shadow: 2pt 2pt 4pt #999;\n",
       "  /* unfitted */\n",
       "  background: var(--sklearn-color-unfitted-level-0);\n",
       "  border: .5pt solid var(--sklearn-color-unfitted-level-3);\n",
       "}\n",
       "\n",
       ".sk-estimator-doc-link.fitted span {\n",
       "  /* fitted */\n",
       "  background: var(--sklearn-color-fitted-level-0);\n",
       "  border: var(--sklearn-color-fitted-level-3);\n",
       "}\n",
       "\n",
       ".sk-estimator-doc-link:hover span {\n",
       "  display: block;\n",
       "}\n",
       "\n",
       "/* \"?\"-specific style due to the `<a>` HTML tag */\n",
       "\n",
       "#sk-container-id-2 a.estimator_doc_link {\n",
       "  float: right;\n",
       "  font-size: 1rem;\n",
       "  line-height: 1em;\n",
       "  font-family: monospace;\n",
       "  background-color: var(--sklearn-color-background);\n",
       "  border-radius: 1rem;\n",
       "  height: 1rem;\n",
       "  width: 1rem;\n",
       "  text-decoration: none;\n",
       "  /* unfitted */\n",
       "  color: var(--sklearn-color-unfitted-level-1);\n",
       "  border: var(--sklearn-color-unfitted-level-1) 1pt solid;\n",
       "}\n",
       "\n",
       "#sk-container-id-2 a.estimator_doc_link.fitted {\n",
       "  /* fitted */\n",
       "  border: var(--sklearn-color-fitted-level-1) 1pt solid;\n",
       "  color: var(--sklearn-color-fitted-level-1);\n",
       "}\n",
       "\n",
       "/* On hover */\n",
       "#sk-container-id-2 a.estimator_doc_link:hover {\n",
       "  /* unfitted */\n",
       "  background-color: var(--sklearn-color-unfitted-level-3);\n",
       "  color: var(--sklearn-color-background);\n",
       "  text-decoration: none;\n",
       "}\n",
       "\n",
       "#sk-container-id-2 a.estimator_doc_link.fitted:hover {\n",
       "  /* fitted */\n",
       "  background-color: var(--sklearn-color-fitted-level-3);\n",
       "}\n",
       "</style><div id=\"sk-container-id-2\" class=\"sk-top-container\"><div class=\"sk-text-repr-fallback\"><pre>GridSearchCV(cv=5, estimator=Ridge(),\n",
       "             param_grid={&#x27;alpha&#x27;: [0.1, 0.5, 1, 1.5, 2, 2.5, 3]}, scoring=&#x27;r2&#x27;)</pre><b>In a Jupyter environment, please rerun this cell to show the HTML representation or trust the notebook. <br />On GitHub, the HTML representation is unable to render, please try loading this page with nbviewer.org.</b></div><div class=\"sk-container\" hidden><div class=\"sk-item sk-dashed-wrapped\"><div class=\"sk-label-container\"><div class=\"sk-label fitted sk-toggleable\"><input class=\"sk-toggleable__control sk-hidden--visually\" id=\"sk-estimator-id-4\" type=\"checkbox\" ><label for=\"sk-estimator-id-4\" class=\"sk-toggleable__label fitted sk-toggleable__label-arrow fitted\">&nbsp;&nbsp;GridSearchCV<a class=\"sk-estimator-doc-link fitted\" rel=\"noreferrer\" target=\"_blank\" href=\"https://scikit-learn.org/1.5/modules/generated/sklearn.model_selection.GridSearchCV.html\">?<span>Documentation for GridSearchCV</span></a><span class=\"sk-estimator-doc-link fitted\">i<span>Fitted</span></span></label><div class=\"sk-toggleable__content fitted\"><pre>GridSearchCV(cv=5, estimator=Ridge(),\n",
       "             param_grid={&#x27;alpha&#x27;: [0.1, 0.5, 1, 1.5, 2, 2.5, 3]}, scoring=&#x27;r2&#x27;)</pre></div> </div></div><div class=\"sk-parallel\"><div class=\"sk-parallel-item\"><div class=\"sk-item\"><div class=\"sk-label-container\"><div class=\"sk-label fitted sk-toggleable\"><input class=\"sk-toggleable__control sk-hidden--visually\" id=\"sk-estimator-id-5\" type=\"checkbox\" ><label for=\"sk-estimator-id-5\" class=\"sk-toggleable__label fitted sk-toggleable__label-arrow fitted\">best_estimator_: Ridge</label><div class=\"sk-toggleable__content fitted\"><pre>Ridge(alpha=0.1)</pre></div> </div></div><div class=\"sk-serial\"><div class=\"sk-item\"><div class=\"sk-estimator fitted sk-toggleable\"><input class=\"sk-toggleable__control sk-hidden--visually\" id=\"sk-estimator-id-6\" type=\"checkbox\" ><label for=\"sk-estimator-id-6\" class=\"sk-toggleable__label fitted sk-toggleable__label-arrow fitted\">&nbsp;Ridge<a class=\"sk-estimator-doc-link fitted\" rel=\"noreferrer\" target=\"_blank\" href=\"https://scikit-learn.org/1.5/modules/generated/sklearn.linear_model.Ridge.html\">?<span>Documentation for Ridge</span></a></label><div class=\"sk-toggleable__content fitted\"><pre>Ridge(alpha=0.1)</pre></div> </div></div></div></div></div></div></div></div></div>"
      ],
      "text/plain": [
       "GridSearchCV(cv=5, estimator=Ridge(),\n",
       "             param_grid={'alpha': [0.1, 0.5, 1, 1.5, 2, 2.5, 3]}, scoring='r2')"
      ]
     },
     "execution_count": 137,
     "metadata": {},
     "output_type": "execute_result"
    }
   ],
   "source": [
    "param_grid = {'alpha': [0.1, 0.5, 1, 1.5, 2, 2.5, 3]}\n",
    "ridge = Ridge()\n",
    "grid_search = GridSearchCV(ridge, param_grid, cv=5, scoring='r2')\n",
    "grid_search.fit(x_train_ss, y_train)"
   ]
  },
  {
   "cell_type": "code",
   "execution_count": 138,
   "metadata": {},
   "outputs": [
    {
     "name": "stdout",
     "output_type": "stream",
     "text": [
      "Mejor alpha: 0.1\n"
     ]
    }
   ],
   "source": [
    "modelo_combinado = grid_search.best_estimator_\n",
    "print(f\"Mejor alpha: {grid_search.best_params_['alpha']}\")"
   ]
  },
  {
   "cell_type": "code",
   "execution_count": 139,
   "metadata": {},
   "outputs": [],
   "source": [
    "predicciones = modelo_combinado.predict(x_test_ss)\n",
    "r2 = r2_score(y_test, predicciones)\n",
    "rmse = np.sqrt(np.mean((y_test - predicciones)**2))"
   ]
  },
  {
   "cell_type": "code",
   "execution_count": 140,
   "metadata": {},
   "outputs": [
    {
     "name": "stdout",
     "output_type": "stream",
     "text": [
      "R2: 0.8974527858711986, RMSE: 3.38826627448817\n"
     ]
    }
   ],
   "source": [
    "print(f\"R2: {r2}, RMSE: {rmse}\")"
   ]
  },
  {
   "cell_type": "code",
   "execution_count": 144,
   "metadata": {},
   "outputs": [
    {
     "name": "stdout",
     "output_type": "stream",
     "text": [
      "Pendientes: [0.79810866 9.74290283]\n",
      "Intercepto: 171.63942307692307\n"
     ]
    }
   ],
   "source": [
    "print(f\"Pendientes: {modelo_combinado.coef_}\")\n",
    "print(f\"Intercepto: {modelo_combinado.intercept_}\")"
   ]
  },
  {
   "cell_type": "code",
   "execution_count": 141,
   "metadata": {},
   "outputs": [
    {
     "name": "stderr",
     "output_type": "stream",
     "text": [
      "c:\\Users\\cesar\\anaconda3\\envs\\iteso\\lib\\site-packages\\sklearn\\base.py:493: UserWarning:\n",
      "\n",
      "X does not have valid feature names, but StandardScaler was fitted with feature names\n",
      "\n"
     ]
    }
   ],
   "source": [
    "values = ss.transform([[39,24.5]])"
   ]
  },
  {
   "cell_type": "code",
   "execution_count": 142,
   "metadata": {},
   "outputs": [
    {
     "data": {
      "text/plain": [
       "array([162.64882053])"
      ]
     },
     "execution_count": 142,
     "metadata": {},
     "output_type": "execute_result"
    }
   ],
   "source": [
    "modelo_combinado.predict(values)"
   ]
  },
  {
   "cell_type": "code",
   "execution_count": 143,
   "metadata": {},
   "outputs": [
    {
     "name": "stderr",
     "output_type": "stream",
     "text": [
      "c:\\Users\\cesar\\anaconda3\\envs\\iteso\\lib\\site-packages\\sklearn\\base.py:493: UserWarning:\n",
      "\n",
      "X does not have valid feature names, but StandardScaler was fitted with feature names\n",
      "\n"
     ]
    },
    {
     "data": {
      "application/vnd.plotly.v1+json": {
       "config": {
        "plotlyServerURL": "https://plot.ly"
       },
       "data": [
        {
         "marker": {
          "color": "red",
          "opacity": 0.7,
          "size": 8
         },
         "mode": "markers",
         "type": "scatter3d",
         "x": [
          42,
          45,
          44,
          39,
          50,
          56,
          46,
          45,
          40,
          50,
          42,
          39,
          46,
          54,
          38,
          48,
          47,
          42,
          52,
          35,
          37,
          43,
          33,
          39,
          42,
          43,
          49,
          47,
          54,
          46,
          38,
          44,
          43,
          39,
          37,
          42,
          54,
          41,
          49,
          49,
          43,
          45,
          44,
          56,
          60,
          37,
          43,
          42,
          37,
          39,
          42,
          45,
          47,
          46,
          46,
          37,
          46,
          48,
          44,
          41,
          50,
          56,
          51,
          50,
          39,
          50,
          42,
          48,
          39,
          47,
          45,
          44,
          44,
          49,
          44,
          43,
          50,
          52,
          48,
          42,
          40,
          35,
          47,
          46,
          36,
          36,
          48,
          49,
          49,
          55,
          44,
          47,
          47,
          39,
          42,
          45,
          36,
          44,
          47,
          42,
          46,
          42,
          43,
          44
         ],
         "y": [
          24,
          29,
          23,
          23,
          28,
          30.1,
          28,
          26,
          24,
          28.7,
          25,
          24,
          28,
          29.7,
          25,
          28,
          28,
          26,
          28.9,
          22,
          23,
          25,
          23,
          23,
          27,
          27,
          27.5,
          28,
          29.6,
          24,
          24,
          27,
          27,
          24.5,
          23,
          27,
          30,
          24,
          29,
          26.5,
          25,
          28,
          23,
          30.4,
          30.8,
          23,
          25,
          27,
          23,
          24,
          24,
          26.5,
          27,
          27.9,
          28,
          23,
          27.9,
          27,
          24.5,
          22.5,
          29,
          30.4,
          28.8,
          28,
          22.5,
          28.7,
          26,
          25,
          23,
          27,
          27.5,
          26,
          26.5,
          27.5,
          27,
          25,
          28.6,
          28.8,
          28,
          24,
          24,
          22,
          27,
          28,
          22.5,
          27,
          27.5,
          26.5,
          28.4,
          28,
          24,
          27.9,
          28,
          24,
          26,
          28,
          23,
          27.4,
          28.1,
          24,
          28,
          26.7,
          27,
          26
         ],
         "z": [
          160,
          178,
          162,
          156,
          180,
          189,
          179,
          163,
          158,
          184,
          162,
          157,
          182,
          188,
          170,
          182,
          181,
          170,
          185,
          152,
          155,
          172,
          163,
          157,
          170,
          175,
          178,
          180,
          188,
          170,
          156,
          176,
          175,
          166,
          161,
          177,
          189,
          160,
          183,
          166,
          168,
          177,
          162,
          190,
          192,
          155,
          162,
          177,
          155,
          157,
          161,
          170,
          174,
          179,
          177,
          154,
          179,
          172,
          162,
          155,
          184,
          190,
          184,
          173,
          150,
          184,
          174,
          171,
          157,
          168,
          172,
          161,
          173,
          172,
          176,
          172,
          183,
          184,
          176,
          162,
          158,
          153,
          174,
          178,
          153,
          170,
          171,
          166,
          182,
          185,
          160,
          179,
          180,
          157,
          170,
          177,
          164,
          177,
          180,
          162,
          178,
          174,
          175,
          163
         ]
        },
        {
         "colorscale": [
          [
           0,
           "#440154"
          ],
          [
           0.1111111111111111,
           "#482878"
          ],
          [
           0.2222222222222222,
           "#3e4989"
          ],
          [
           0.3333333333333333,
           "#31688e"
          ],
          [
           0.4444444444444444,
           "#26828e"
          ],
          [
           0.5555555555555556,
           "#1f9e89"
          ],
          [
           0.6666666666666666,
           "#35b779"
          ],
          [
           0.7777777777777778,
           "#6ece58"
          ],
          [
           0.8888888888888888,
           "#b5de2b"
          ],
          [
           1,
           "#fde725"
          ]
         ],
         "opacity": 0.5,
         "type": "surface",
         "x": [
          [
           32,
           33.526315789473685,
           35.05263157894737,
           36.578947368421055,
           38.10526315789474,
           39.631578947368425,
           41.15789473684211,
           42.68421052631579,
           44.21052631578947,
           45.73684210526316,
           47.26315789473684,
           48.78947368421053,
           50.31578947368421,
           51.8421052631579,
           53.368421052631575,
           54.89473684210526,
           56.421052631578945,
           57.94736842105263,
           59.473684210526315,
           61
          ],
          [
           32,
           33.526315789473685,
           35.05263157894737,
           36.578947368421055,
           38.10526315789474,
           39.631578947368425,
           41.15789473684211,
           42.68421052631579,
           44.21052631578947,
           45.73684210526316,
           47.26315789473684,
           48.78947368421053,
           50.31578947368421,
           51.8421052631579,
           53.368421052631575,
           54.89473684210526,
           56.421052631578945,
           57.94736842105263,
           59.473684210526315,
           61
          ],
          [
           32,
           33.526315789473685,
           35.05263157894737,
           36.578947368421055,
           38.10526315789474,
           39.631578947368425,
           41.15789473684211,
           42.68421052631579,
           44.21052631578947,
           45.73684210526316,
           47.26315789473684,
           48.78947368421053,
           50.31578947368421,
           51.8421052631579,
           53.368421052631575,
           54.89473684210526,
           56.421052631578945,
           57.94736842105263,
           59.473684210526315,
           61
          ],
          [
           32,
           33.526315789473685,
           35.05263157894737,
           36.578947368421055,
           38.10526315789474,
           39.631578947368425,
           41.15789473684211,
           42.68421052631579,
           44.21052631578947,
           45.73684210526316,
           47.26315789473684,
           48.78947368421053,
           50.31578947368421,
           51.8421052631579,
           53.368421052631575,
           54.89473684210526,
           56.421052631578945,
           57.94736842105263,
           59.473684210526315,
           61
          ],
          [
           32,
           33.526315789473685,
           35.05263157894737,
           36.578947368421055,
           38.10526315789474,
           39.631578947368425,
           41.15789473684211,
           42.68421052631579,
           44.21052631578947,
           45.73684210526316,
           47.26315789473684,
           48.78947368421053,
           50.31578947368421,
           51.8421052631579,
           53.368421052631575,
           54.89473684210526,
           56.421052631578945,
           57.94736842105263,
           59.473684210526315,
           61
          ],
          [
           32,
           33.526315789473685,
           35.05263157894737,
           36.578947368421055,
           38.10526315789474,
           39.631578947368425,
           41.15789473684211,
           42.68421052631579,
           44.21052631578947,
           45.73684210526316,
           47.26315789473684,
           48.78947368421053,
           50.31578947368421,
           51.8421052631579,
           53.368421052631575,
           54.89473684210526,
           56.421052631578945,
           57.94736842105263,
           59.473684210526315,
           61
          ],
          [
           32,
           33.526315789473685,
           35.05263157894737,
           36.578947368421055,
           38.10526315789474,
           39.631578947368425,
           41.15789473684211,
           42.68421052631579,
           44.21052631578947,
           45.73684210526316,
           47.26315789473684,
           48.78947368421053,
           50.31578947368421,
           51.8421052631579,
           53.368421052631575,
           54.89473684210526,
           56.421052631578945,
           57.94736842105263,
           59.473684210526315,
           61
          ],
          [
           32,
           33.526315789473685,
           35.05263157894737,
           36.578947368421055,
           38.10526315789474,
           39.631578947368425,
           41.15789473684211,
           42.68421052631579,
           44.21052631578947,
           45.73684210526316,
           47.26315789473684,
           48.78947368421053,
           50.31578947368421,
           51.8421052631579,
           53.368421052631575,
           54.89473684210526,
           56.421052631578945,
           57.94736842105263,
           59.473684210526315,
           61
          ],
          [
           32,
           33.526315789473685,
           35.05263157894737,
           36.578947368421055,
           38.10526315789474,
           39.631578947368425,
           41.15789473684211,
           42.68421052631579,
           44.21052631578947,
           45.73684210526316,
           47.26315789473684,
           48.78947368421053,
           50.31578947368421,
           51.8421052631579,
           53.368421052631575,
           54.89473684210526,
           56.421052631578945,
           57.94736842105263,
           59.473684210526315,
           61
          ],
          [
           32,
           33.526315789473685,
           35.05263157894737,
           36.578947368421055,
           38.10526315789474,
           39.631578947368425,
           41.15789473684211,
           42.68421052631579,
           44.21052631578947,
           45.73684210526316,
           47.26315789473684,
           48.78947368421053,
           50.31578947368421,
           51.8421052631579,
           53.368421052631575,
           54.89473684210526,
           56.421052631578945,
           57.94736842105263,
           59.473684210526315,
           61
          ],
          [
           32,
           33.526315789473685,
           35.05263157894737,
           36.578947368421055,
           38.10526315789474,
           39.631578947368425,
           41.15789473684211,
           42.68421052631579,
           44.21052631578947,
           45.73684210526316,
           47.26315789473684,
           48.78947368421053,
           50.31578947368421,
           51.8421052631579,
           53.368421052631575,
           54.89473684210526,
           56.421052631578945,
           57.94736842105263,
           59.473684210526315,
           61
          ],
          [
           32,
           33.526315789473685,
           35.05263157894737,
           36.578947368421055,
           38.10526315789474,
           39.631578947368425,
           41.15789473684211,
           42.68421052631579,
           44.21052631578947,
           45.73684210526316,
           47.26315789473684,
           48.78947368421053,
           50.31578947368421,
           51.8421052631579,
           53.368421052631575,
           54.89473684210526,
           56.421052631578945,
           57.94736842105263,
           59.473684210526315,
           61
          ],
          [
           32,
           33.526315789473685,
           35.05263157894737,
           36.578947368421055,
           38.10526315789474,
           39.631578947368425,
           41.15789473684211,
           42.68421052631579,
           44.21052631578947,
           45.73684210526316,
           47.26315789473684,
           48.78947368421053,
           50.31578947368421,
           51.8421052631579,
           53.368421052631575,
           54.89473684210526,
           56.421052631578945,
           57.94736842105263,
           59.473684210526315,
           61
          ],
          [
           32,
           33.526315789473685,
           35.05263157894737,
           36.578947368421055,
           38.10526315789474,
           39.631578947368425,
           41.15789473684211,
           42.68421052631579,
           44.21052631578947,
           45.73684210526316,
           47.26315789473684,
           48.78947368421053,
           50.31578947368421,
           51.8421052631579,
           53.368421052631575,
           54.89473684210526,
           56.421052631578945,
           57.94736842105263,
           59.473684210526315,
           61
          ],
          [
           32,
           33.526315789473685,
           35.05263157894737,
           36.578947368421055,
           38.10526315789474,
           39.631578947368425,
           41.15789473684211,
           42.68421052631579,
           44.21052631578947,
           45.73684210526316,
           47.26315789473684,
           48.78947368421053,
           50.31578947368421,
           51.8421052631579,
           53.368421052631575,
           54.89473684210526,
           56.421052631578945,
           57.94736842105263,
           59.473684210526315,
           61
          ],
          [
           32,
           33.526315789473685,
           35.05263157894737,
           36.578947368421055,
           38.10526315789474,
           39.631578947368425,
           41.15789473684211,
           42.68421052631579,
           44.21052631578947,
           45.73684210526316,
           47.26315789473684,
           48.78947368421053,
           50.31578947368421,
           51.8421052631579,
           53.368421052631575,
           54.89473684210526,
           56.421052631578945,
           57.94736842105263,
           59.473684210526315,
           61
          ],
          [
           32,
           33.526315789473685,
           35.05263157894737,
           36.578947368421055,
           38.10526315789474,
           39.631578947368425,
           41.15789473684211,
           42.68421052631579,
           44.21052631578947,
           45.73684210526316,
           47.26315789473684,
           48.78947368421053,
           50.31578947368421,
           51.8421052631579,
           53.368421052631575,
           54.89473684210526,
           56.421052631578945,
           57.94736842105263,
           59.473684210526315,
           61
          ],
          [
           32,
           33.526315789473685,
           35.05263157894737,
           36.578947368421055,
           38.10526315789474,
           39.631578947368425,
           41.15789473684211,
           42.68421052631579,
           44.21052631578947,
           45.73684210526316,
           47.26315789473684,
           48.78947368421053,
           50.31578947368421,
           51.8421052631579,
           53.368421052631575,
           54.89473684210526,
           56.421052631578945,
           57.94736842105263,
           59.473684210526315,
           61
          ],
          [
           32,
           33.526315789473685,
           35.05263157894737,
           36.578947368421055,
           38.10526315789474,
           39.631578947368425,
           41.15789473684211,
           42.68421052631579,
           44.21052631578947,
           45.73684210526316,
           47.26315789473684,
           48.78947368421053,
           50.31578947368421,
           51.8421052631579,
           53.368421052631575,
           54.89473684210526,
           56.421052631578945,
           57.94736842105263,
           59.473684210526315,
           61
          ],
          [
           32,
           33.526315789473685,
           35.05263157894737,
           36.578947368421055,
           38.10526315789474,
           39.631578947368425,
           41.15789473684211,
           42.68421052631579,
           44.21052631578947,
           45.73684210526316,
           47.26315789473684,
           48.78947368421053,
           50.31578947368421,
           51.8421052631579,
           53.368421052631575,
           54.89473684210526,
           56.421052631578945,
           57.94736842105263,
           59.473684210526315,
           61
          ]
         ],
         "y": [
          [
           21,
           21,
           21,
           21,
           21,
           21,
           21,
           21,
           21,
           21,
           21,
           21,
           21,
           21,
           21,
           21,
           21,
           21,
           21,
           21
          ],
          [
           21.526315789473685,
           21.526315789473685,
           21.526315789473685,
           21.526315789473685,
           21.526315789473685,
           21.526315789473685,
           21.526315789473685,
           21.526315789473685,
           21.526315789473685,
           21.526315789473685,
           21.526315789473685,
           21.526315789473685,
           21.526315789473685,
           21.526315789473685,
           21.526315789473685,
           21.526315789473685,
           21.526315789473685,
           21.526315789473685,
           21.526315789473685,
           21.526315789473685
          ],
          [
           22.05263157894737,
           22.05263157894737,
           22.05263157894737,
           22.05263157894737,
           22.05263157894737,
           22.05263157894737,
           22.05263157894737,
           22.05263157894737,
           22.05263157894737,
           22.05263157894737,
           22.05263157894737,
           22.05263157894737,
           22.05263157894737,
           22.05263157894737,
           22.05263157894737,
           22.05263157894737,
           22.05263157894737,
           22.05263157894737,
           22.05263157894737,
           22.05263157894737
          ],
          [
           22.57894736842105,
           22.57894736842105,
           22.57894736842105,
           22.57894736842105,
           22.57894736842105,
           22.57894736842105,
           22.57894736842105,
           22.57894736842105,
           22.57894736842105,
           22.57894736842105,
           22.57894736842105,
           22.57894736842105,
           22.57894736842105,
           22.57894736842105,
           22.57894736842105,
           22.57894736842105,
           22.57894736842105,
           22.57894736842105,
           22.57894736842105,
           22.57894736842105
          ],
          [
           23.105263157894736,
           23.105263157894736,
           23.105263157894736,
           23.105263157894736,
           23.105263157894736,
           23.105263157894736,
           23.105263157894736,
           23.105263157894736,
           23.105263157894736,
           23.105263157894736,
           23.105263157894736,
           23.105263157894736,
           23.105263157894736,
           23.105263157894736,
           23.105263157894736,
           23.105263157894736,
           23.105263157894736,
           23.105263157894736,
           23.105263157894736,
           23.105263157894736
          ],
          [
           23.63157894736842,
           23.63157894736842,
           23.63157894736842,
           23.63157894736842,
           23.63157894736842,
           23.63157894736842,
           23.63157894736842,
           23.63157894736842,
           23.63157894736842,
           23.63157894736842,
           23.63157894736842,
           23.63157894736842,
           23.63157894736842,
           23.63157894736842,
           23.63157894736842,
           23.63157894736842,
           23.63157894736842,
           23.63157894736842,
           23.63157894736842,
           23.63157894736842
          ],
          [
           24.157894736842106,
           24.157894736842106,
           24.157894736842106,
           24.157894736842106,
           24.157894736842106,
           24.157894736842106,
           24.157894736842106,
           24.157894736842106,
           24.157894736842106,
           24.157894736842106,
           24.157894736842106,
           24.157894736842106,
           24.157894736842106,
           24.157894736842106,
           24.157894736842106,
           24.157894736842106,
           24.157894736842106,
           24.157894736842106,
           24.157894736842106,
           24.157894736842106
          ],
          [
           24.684210526315788,
           24.684210526315788,
           24.684210526315788,
           24.684210526315788,
           24.684210526315788,
           24.684210526315788,
           24.684210526315788,
           24.684210526315788,
           24.684210526315788,
           24.684210526315788,
           24.684210526315788,
           24.684210526315788,
           24.684210526315788,
           24.684210526315788,
           24.684210526315788,
           24.684210526315788,
           24.684210526315788,
           24.684210526315788,
           24.684210526315788,
           24.684210526315788
          ],
          [
           25.210526315789473,
           25.210526315789473,
           25.210526315789473,
           25.210526315789473,
           25.210526315789473,
           25.210526315789473,
           25.210526315789473,
           25.210526315789473,
           25.210526315789473,
           25.210526315789473,
           25.210526315789473,
           25.210526315789473,
           25.210526315789473,
           25.210526315789473,
           25.210526315789473,
           25.210526315789473,
           25.210526315789473,
           25.210526315789473,
           25.210526315789473,
           25.210526315789473
          ],
          [
           25.736842105263158,
           25.736842105263158,
           25.736842105263158,
           25.736842105263158,
           25.736842105263158,
           25.736842105263158,
           25.736842105263158,
           25.736842105263158,
           25.736842105263158,
           25.736842105263158,
           25.736842105263158,
           25.736842105263158,
           25.736842105263158,
           25.736842105263158,
           25.736842105263158,
           25.736842105263158,
           25.736842105263158,
           25.736842105263158,
           25.736842105263158,
           25.736842105263158
          ],
          [
           26.263157894736842,
           26.263157894736842,
           26.263157894736842,
           26.263157894736842,
           26.263157894736842,
           26.263157894736842,
           26.263157894736842,
           26.263157894736842,
           26.263157894736842,
           26.263157894736842,
           26.263157894736842,
           26.263157894736842,
           26.263157894736842,
           26.263157894736842,
           26.263157894736842,
           26.263157894736842,
           26.263157894736842,
           26.263157894736842,
           26.263157894736842,
           26.263157894736842
          ],
          [
           26.789473684210527,
           26.789473684210527,
           26.789473684210527,
           26.789473684210527,
           26.789473684210527,
           26.789473684210527,
           26.789473684210527,
           26.789473684210527,
           26.789473684210527,
           26.789473684210527,
           26.789473684210527,
           26.789473684210527,
           26.789473684210527,
           26.789473684210527,
           26.789473684210527,
           26.789473684210527,
           26.789473684210527,
           26.789473684210527,
           26.789473684210527,
           26.789473684210527
          ],
          [
           27.315789473684212,
           27.315789473684212,
           27.315789473684212,
           27.315789473684212,
           27.315789473684212,
           27.315789473684212,
           27.315789473684212,
           27.315789473684212,
           27.315789473684212,
           27.315789473684212,
           27.315789473684212,
           27.315789473684212,
           27.315789473684212,
           27.315789473684212,
           27.315789473684212,
           27.315789473684212,
           27.315789473684212,
           27.315789473684212,
           27.315789473684212,
           27.315789473684212
          ],
          [
           27.842105263157894,
           27.842105263157894,
           27.842105263157894,
           27.842105263157894,
           27.842105263157894,
           27.842105263157894,
           27.842105263157894,
           27.842105263157894,
           27.842105263157894,
           27.842105263157894,
           27.842105263157894,
           27.842105263157894,
           27.842105263157894,
           27.842105263157894,
           27.842105263157894,
           27.842105263157894,
           27.842105263157894,
           27.842105263157894,
           27.842105263157894,
           27.842105263157894
          ],
          [
           28.36842105263158,
           28.36842105263158,
           28.36842105263158,
           28.36842105263158,
           28.36842105263158,
           28.36842105263158,
           28.36842105263158,
           28.36842105263158,
           28.36842105263158,
           28.36842105263158,
           28.36842105263158,
           28.36842105263158,
           28.36842105263158,
           28.36842105263158,
           28.36842105263158,
           28.36842105263158,
           28.36842105263158,
           28.36842105263158,
           28.36842105263158,
           28.36842105263158
          ],
          [
           28.894736842105264,
           28.894736842105264,
           28.894736842105264,
           28.894736842105264,
           28.894736842105264,
           28.894736842105264,
           28.894736842105264,
           28.894736842105264,
           28.894736842105264,
           28.894736842105264,
           28.894736842105264,
           28.894736842105264,
           28.894736842105264,
           28.894736842105264,
           28.894736842105264,
           28.894736842105264,
           28.894736842105264,
           28.894736842105264,
           28.894736842105264,
           28.894736842105264
          ],
          [
           29.421052631578945,
           29.421052631578945,
           29.421052631578945,
           29.421052631578945,
           29.421052631578945,
           29.421052631578945,
           29.421052631578945,
           29.421052631578945,
           29.421052631578945,
           29.421052631578945,
           29.421052631578945,
           29.421052631578945,
           29.421052631578945,
           29.421052631578945,
           29.421052631578945,
           29.421052631578945,
           29.421052631578945,
           29.421052631578945,
           29.421052631578945,
           29.421052631578945
          ],
          [
           29.94736842105263,
           29.94736842105263,
           29.94736842105263,
           29.94736842105263,
           29.94736842105263,
           29.94736842105263,
           29.94736842105263,
           29.94736842105263,
           29.94736842105263,
           29.94736842105263,
           29.94736842105263,
           29.94736842105263,
           29.94736842105263,
           29.94736842105263,
           29.94736842105263,
           29.94736842105263,
           29.94736842105263,
           29.94736842105263,
           29.94736842105263,
           29.94736842105263
          ],
          [
           30.473684210526315,
           30.473684210526315,
           30.473684210526315,
           30.473684210526315,
           30.473684210526315,
           30.473684210526315,
           30.473684210526315,
           30.473684210526315,
           30.473684210526315,
           30.473684210526315,
           30.473684210526315,
           30.473684210526315,
           30.473684210526315,
           30.473684210526315,
           30.473684210526315,
           30.473684210526315,
           30.473684210526315,
           30.473684210526315,
           30.473684210526315,
           30.473684210526315
          ],
          [
           31,
           31,
           31,
           31,
           31,
           31,
           31,
           31,
           31,
           31,
           31,
           31,
           31,
           31,
           31,
           31,
           31,
           31,
           31,
           31
          ]
         ],
         "z": [
          [
           146.51184431045374,
           146.74178495399534,
           146.97172559753696,
           147.20166624107856,
           147.43160688462018,
           147.6615475281618,
           147.8914881717034,
           148.12142881524503,
           148.35136945878662,
           148.58131010232825,
           148.81125074586987,
           149.04119138941147,
           149.2711320329531,
           149.5010726764947,
           149.7310133200363,
           149.96095396357794,
           150.19089460711953,
           150.42083525066116,
           150.65077589420275,
           150.88071653774438
          ],
          [
           148.7798775220644,
           149.00981816560602,
           149.23975880914762,
           149.46969945268924,
           149.69964009623084,
           149.92958073977246,
           150.1595213833141,
           150.38946202685568,
           150.6194026703973,
           150.8493433139389,
           151.07928395748053,
           151.30922460102215,
           151.53916524456375,
           151.76910588810537,
           151.99904653164697,
           152.2289871751886,
           152.45892781873022,
           152.6888684622718,
           152.91880910581344,
           153.14874974935503
          ],
          [
           151.04791073367505,
           151.27785137721668,
           151.50779202075827,
           151.7377326642999,
           151.9676733078415,
           152.19761395138312,
           152.42755459492474,
           152.65749523846634,
           152.88743588200796,
           153.11737652554956,
           153.34731716909118,
           153.5772578126328,
           153.8071984561744,
           154.03713909971603,
           154.26707974325763,
           154.49702038679925,
           154.72696103034087,
           154.95690167388247,
           155.1868423174241,
           155.4167829609657
          ],
          [
           153.3159439452857,
           153.54588458882733,
           153.77582523236893,
           154.00576587591055,
           154.23570651945215,
           154.46564716299378,
           154.6955878065354,
           154.925528450077,
           155.15546909361862,
           155.38540973716022,
           155.61535038070184,
           155.84529102424347,
           156.07523166778506,
           156.3051723113267,
           156.53511295486828,
           156.7650535984099,
           156.99499424195153,
           157.22493488549313,
           157.45487552903475,
           157.68481617257635
          ],
          [
           155.58397715689637,
           155.813917800438,
           156.0438584439796,
           156.2737990875212,
           156.50373973106284,
           156.73368037460443,
           156.96362101814606,
           157.19356166168765,
           157.42350230522928,
           157.6534429487709,
           157.8833835923125,
           158.11332423585412,
           158.34326487939575,
           158.57320552293734,
           158.80314616647897,
           159.03308681002056,
           159.2630274535622,
           159.4929680971038,
           159.7229087406454,
           159.95284938418703
          ],
          [
           157.85201036850702,
           158.08195101204865,
           158.31189165559027,
           158.54183229913187,
           158.7717729426735,
           159.0017135862151,
           159.2316542297567,
           159.46159487329834,
           159.69153551683993,
           159.92147616038156,
           160.15141680392315,
           160.38135744746478,
           160.6112980910064,
           160.841238734548,
           161.07117937808962,
           161.30112002163122,
           161.53106066517284,
           161.76100130871447,
           161.99094195225607,
           162.2208825957977
          ],
          [
           160.1200435801177,
           160.3499842236593,
           160.57992486720093,
           160.80986551074255,
           161.03980615428415,
           161.26974679782577,
           161.49968744136737,
           161.729628084909,
           161.95956872845062,
           162.18950937199222,
           162.41945001553384,
           162.64939065907544,
           162.87933130261706,
           163.10927194615869,
           163.33921258970028,
           163.5691532332419,
           163.7990938767835,
           164.02903452032513,
           164.25897516386675,
           164.48891580740835
          ],
          [
           162.38807679172834,
           162.61801743526996,
           162.8479580788116,
           163.07789872235318,
           163.3078393658948,
           163.53778000943643,
           163.76772065297803,
           163.99766129651965,
           164.22760194006125,
           164.45754258360287,
           164.6874832271445,
           164.9174238706861,
           165.14736451422772,
           165.3773051577693,
           165.60724580131094,
           165.83718644485256,
           166.06712708839416,
           166.29706773193578,
           166.52700837547738,
           166.756949019019
          ],
          [
           164.65611000333902,
           164.88605064688062,
           165.11599129042224,
           165.34593193396387,
           165.57587257750546,
           165.8058132210471,
           166.03575386458868,
           166.2656945081303,
           166.49563515167193,
           166.72557579521353,
           166.95551643875515,
           167.18545708229675,
           167.41539772583837,
           167.64533836938,
           167.8752790129216,
           168.10521965646322,
           168.33516030000482,
           168.56510094354644,
           168.79504158708806,
           169.02498223062966
          ],
          [
           166.92414321494968,
           167.1540838584913,
           167.3840245020329,
           167.61396514557453,
           167.84390578911615,
           168.07384643265775,
           168.30378707619937,
           168.53372771974097,
           168.7636683632826,
           168.99360900682422,
           169.2235496503658,
           169.45349029390744,
           169.68343093744903,
           169.91337158099066,
           170.14331222453228,
           170.37325286807388,
           170.6031935116155,
           170.8331341551571,
           171.06307479869872,
           171.29301544224035
          ],
          [
           169.19217642656034,
           169.42211707010196,
           169.6520577136436,
           169.88199835718518,
           170.1119390007268,
           170.3418796442684,
           170.57182028781003,
           170.80176093135165,
           171.03170157489325,
           171.26164221843487,
           171.49158286197647,
           171.7215235055181,
           171.95146414905972,
           172.1814047926013,
           172.41134543614294,
           172.64128607968453,
           172.87122672322616,
           173.10116736676778,
           173.33110801030938,
           173.561048653851
          ],
          [
           171.46020963817102,
           171.69015028171262,
           171.92009092525424,
           172.15003156879587,
           172.37997221233746,
           172.6099128558791,
           172.83985349942068,
           173.0697941429623,
           173.29973478650393,
           173.52967543004553,
           173.75961607358715,
           173.98955671712875,
           174.21949736067037,
           174.449438004212,
           174.6793786477536,
           174.90931929129522,
           175.13925993483682,
           175.36920057837844,
           175.59914122192006,
           175.82908186546166
          ],
          [
           173.72824284978168,
           173.9581834933233,
           174.1881241368649,
           174.41806478040652,
           174.64800542394812,
           174.87794606748975,
           175.10788671103137,
           175.33782735457297,
           175.5677679981146,
           175.7977086416562,
           176.0276492851978,
           176.25758992873943,
           176.48753057228103,
           176.71747121582266,
           176.94741185936425,
           177.17735250290588,
           177.4072931464475,
           177.6372337899891,
           177.86717443353072,
           178.09711507707232
          ],
          [
           175.99627606139234,
           176.22621670493393,
           176.45615734847556,
           176.68609799201718,
           176.91603863555878,
           177.1459792791004,
           177.375919922642,
           177.60586056618362,
           177.83580120972525,
           178.06574185326684,
           178.29568249680847,
           178.52562314035006,
           178.7555637838917,
           178.9855044274333,
           179.2154450709749,
           179.44538571451653,
           179.67532635805813,
           179.90526700159975,
           180.13520764514138,
           180.36514828868297
          ],
          [
           178.264309273003,
           178.49424991654462,
           178.7241905600862,
           178.95413120362784,
           179.18407184716943,
           179.41401249071106,
           179.64395313425268,
           179.87389377779428,
           180.1038344213359,
           180.3337750648775,
           180.56371570841912,
           180.79365635196075,
           181.02359699550234,
           181.25353763904397,
           181.48347828258557,
           181.7134189261272,
           181.94335956966881,
           182.1733002132104,
           182.40324085675203,
           182.63318150029363
          ],
          [
           180.53234248461365,
           180.76228312815527,
           180.9922237716969,
           181.2221644152385,
           181.45210505878012,
           181.68204570232172,
           181.91198634586334,
           182.14192698940496,
           182.37186763294656,
           182.60180827648819,
           182.83174892002978,
           183.0616895635714,
           183.29163020711303,
           183.52157085065463,
           183.75151149419625,
           183.98145213773785,
           184.21139278127947,
           184.4413334248211,
           184.6712740683627,
           184.90121471190432
          ],
          [
           182.8003756962243,
           183.03031633976593,
           183.26025698330753,
           183.49019762684915,
           183.72013827039075,
           183.95007891393237,
           184.180019557474,
           184.4099602010156,
           184.63990084455722,
           184.8698414880988,
           185.09978213164044,
           185.32972277518206,
           185.55966341872366,
           185.78960406226528,
           186.01954470580688,
           186.2494853493485,
           186.47942599289013,
           186.70936663643172,
           186.93930727997335,
           187.16924792351494
          ],
          [
           185.06840890783496,
           185.2983495513766,
           185.5282901949182,
           185.7582308384598,
           185.98817148200143,
           186.21811212554303,
           186.44805276908465,
           186.67799341262628,
           186.90793405616787,
           187.1378746997095,
           187.3678153432511,
           187.59775598679272,
           187.82769663033434,
           188.05763727387594,
           188.28757791741756,
           188.51751856095916,
           188.74745920450079,
           188.9773998480424,
           189.207340491584,
           189.43728113512563
          ],
          [
           187.33644211944565,
           187.56638276298725,
           187.79632340652887,
           188.02626405007047,
           188.2562046936121,
           188.48614533715372,
           188.7160859806953,
           188.94602662423694,
           189.17596726777853,
           189.40590791132016,
           189.63584855486178,
           189.86578919840338,
           190.095729841945,
           190.32567048548663,
           190.55561112902822,
           190.78555177256985,
           191.01549241611144,
           191.24543305965307,
           191.4753737031947,
           191.7053143467363
          ],
          [
           189.6044753310563,
           189.83441597459793,
           190.06435661813953,
           190.29429726168115,
           190.52423790522275,
           190.75417854876437,
           190.984119192306,
           191.2140598358476,
           191.44400047938922,
           191.6739411229308,
           191.90388176647244,
           192.13382241001406,
           192.36376305355566,
           192.59370369709728,
           192.82364434063888,
           193.0535849841805,
           193.28352562772213,
           193.51346627126372,
           193.74340691480535,
           193.97334755834697
          ]
         ]
        }
       ],
       "layout": {
        "scene": {
         "xaxis": {
          "title": {
           "text": "Ancho"
          }
         },
         "yaxis": {
          "title": {
           "text": "Pie"
          }
         },
         "zaxis": {
          "title": {
           "text": "Altura"
          }
         }
        },
        "template": {
         "data": {
          "bar": [
           {
            "error_x": {
             "color": "#2a3f5f"
            },
            "error_y": {
             "color": "#2a3f5f"
            },
            "marker": {
             "line": {
              "color": "#E5ECF6",
              "width": 0.5
             },
             "pattern": {
              "fillmode": "overlay",
              "size": 10,
              "solidity": 0.2
             }
            },
            "type": "bar"
           }
          ],
          "barpolar": [
           {
            "marker": {
             "line": {
              "color": "#E5ECF6",
              "width": 0.5
             },
             "pattern": {
              "fillmode": "overlay",
              "size": 10,
              "solidity": 0.2
             }
            },
            "type": "barpolar"
           }
          ],
          "carpet": [
           {
            "aaxis": {
             "endlinecolor": "#2a3f5f",
             "gridcolor": "white",
             "linecolor": "white",
             "minorgridcolor": "white",
             "startlinecolor": "#2a3f5f"
            },
            "baxis": {
             "endlinecolor": "#2a3f5f",
             "gridcolor": "white",
             "linecolor": "white",
             "minorgridcolor": "white",
             "startlinecolor": "#2a3f5f"
            },
            "type": "carpet"
           }
          ],
          "choropleth": [
           {
            "colorbar": {
             "outlinewidth": 0,
             "ticks": ""
            },
            "type": "choropleth"
           }
          ],
          "contour": [
           {
            "colorbar": {
             "outlinewidth": 0,
             "ticks": ""
            },
            "colorscale": [
             [
              0,
              "#0d0887"
             ],
             [
              0.1111111111111111,
              "#46039f"
             ],
             [
              0.2222222222222222,
              "#7201a8"
             ],
             [
              0.3333333333333333,
              "#9c179e"
             ],
             [
              0.4444444444444444,
              "#bd3786"
             ],
             [
              0.5555555555555556,
              "#d8576b"
             ],
             [
              0.6666666666666666,
              "#ed7953"
             ],
             [
              0.7777777777777778,
              "#fb9f3a"
             ],
             [
              0.8888888888888888,
              "#fdca26"
             ],
             [
              1,
              "#f0f921"
             ]
            ],
            "type": "contour"
           }
          ],
          "contourcarpet": [
           {
            "colorbar": {
             "outlinewidth": 0,
             "ticks": ""
            },
            "type": "contourcarpet"
           }
          ],
          "heatmap": [
           {
            "colorbar": {
             "outlinewidth": 0,
             "ticks": ""
            },
            "colorscale": [
             [
              0,
              "#0d0887"
             ],
             [
              0.1111111111111111,
              "#46039f"
             ],
             [
              0.2222222222222222,
              "#7201a8"
             ],
             [
              0.3333333333333333,
              "#9c179e"
             ],
             [
              0.4444444444444444,
              "#bd3786"
             ],
             [
              0.5555555555555556,
              "#d8576b"
             ],
             [
              0.6666666666666666,
              "#ed7953"
             ],
             [
              0.7777777777777778,
              "#fb9f3a"
             ],
             [
              0.8888888888888888,
              "#fdca26"
             ],
             [
              1,
              "#f0f921"
             ]
            ],
            "type": "heatmap"
           }
          ],
          "heatmapgl": [
           {
            "colorbar": {
             "outlinewidth": 0,
             "ticks": ""
            },
            "colorscale": [
             [
              0,
              "#0d0887"
             ],
             [
              0.1111111111111111,
              "#46039f"
             ],
             [
              0.2222222222222222,
              "#7201a8"
             ],
             [
              0.3333333333333333,
              "#9c179e"
             ],
             [
              0.4444444444444444,
              "#bd3786"
             ],
             [
              0.5555555555555556,
              "#d8576b"
             ],
             [
              0.6666666666666666,
              "#ed7953"
             ],
             [
              0.7777777777777778,
              "#fb9f3a"
             ],
             [
              0.8888888888888888,
              "#fdca26"
             ],
             [
              1,
              "#f0f921"
             ]
            ],
            "type": "heatmapgl"
           }
          ],
          "histogram": [
           {
            "marker": {
             "pattern": {
              "fillmode": "overlay",
              "size": 10,
              "solidity": 0.2
             }
            },
            "type": "histogram"
           }
          ],
          "histogram2d": [
           {
            "colorbar": {
             "outlinewidth": 0,
             "ticks": ""
            },
            "colorscale": [
             [
              0,
              "#0d0887"
             ],
             [
              0.1111111111111111,
              "#46039f"
             ],
             [
              0.2222222222222222,
              "#7201a8"
             ],
             [
              0.3333333333333333,
              "#9c179e"
             ],
             [
              0.4444444444444444,
              "#bd3786"
             ],
             [
              0.5555555555555556,
              "#d8576b"
             ],
             [
              0.6666666666666666,
              "#ed7953"
             ],
             [
              0.7777777777777778,
              "#fb9f3a"
             ],
             [
              0.8888888888888888,
              "#fdca26"
             ],
             [
              1,
              "#f0f921"
             ]
            ],
            "type": "histogram2d"
           }
          ],
          "histogram2dcontour": [
           {
            "colorbar": {
             "outlinewidth": 0,
             "ticks": ""
            },
            "colorscale": [
             [
              0,
              "#0d0887"
             ],
             [
              0.1111111111111111,
              "#46039f"
             ],
             [
              0.2222222222222222,
              "#7201a8"
             ],
             [
              0.3333333333333333,
              "#9c179e"
             ],
             [
              0.4444444444444444,
              "#bd3786"
             ],
             [
              0.5555555555555556,
              "#d8576b"
             ],
             [
              0.6666666666666666,
              "#ed7953"
             ],
             [
              0.7777777777777778,
              "#fb9f3a"
             ],
             [
              0.8888888888888888,
              "#fdca26"
             ],
             [
              1,
              "#f0f921"
             ]
            ],
            "type": "histogram2dcontour"
           }
          ],
          "mesh3d": [
           {
            "colorbar": {
             "outlinewidth": 0,
             "ticks": ""
            },
            "type": "mesh3d"
           }
          ],
          "parcoords": [
           {
            "line": {
             "colorbar": {
              "outlinewidth": 0,
              "ticks": ""
             }
            },
            "type": "parcoords"
           }
          ],
          "pie": [
           {
            "automargin": true,
            "type": "pie"
           }
          ],
          "scatter": [
           {
            "fillpattern": {
             "fillmode": "overlay",
             "size": 10,
             "solidity": 0.2
            },
            "type": "scatter"
           }
          ],
          "scatter3d": [
           {
            "line": {
             "colorbar": {
              "outlinewidth": 0,
              "ticks": ""
             }
            },
            "marker": {
             "colorbar": {
              "outlinewidth": 0,
              "ticks": ""
             }
            },
            "type": "scatter3d"
           }
          ],
          "scattercarpet": [
           {
            "marker": {
             "colorbar": {
              "outlinewidth": 0,
              "ticks": ""
             }
            },
            "type": "scattercarpet"
           }
          ],
          "scattergeo": [
           {
            "marker": {
             "colorbar": {
              "outlinewidth": 0,
              "ticks": ""
             }
            },
            "type": "scattergeo"
           }
          ],
          "scattergl": [
           {
            "marker": {
             "colorbar": {
              "outlinewidth": 0,
              "ticks": ""
             }
            },
            "type": "scattergl"
           }
          ],
          "scattermapbox": [
           {
            "marker": {
             "colorbar": {
              "outlinewidth": 0,
              "ticks": ""
             }
            },
            "type": "scattermapbox"
           }
          ],
          "scatterpolar": [
           {
            "marker": {
             "colorbar": {
              "outlinewidth": 0,
              "ticks": ""
             }
            },
            "type": "scatterpolar"
           }
          ],
          "scatterpolargl": [
           {
            "marker": {
             "colorbar": {
              "outlinewidth": 0,
              "ticks": ""
             }
            },
            "type": "scatterpolargl"
           }
          ],
          "scatterternary": [
           {
            "marker": {
             "colorbar": {
              "outlinewidth": 0,
              "ticks": ""
             }
            },
            "type": "scatterternary"
           }
          ],
          "surface": [
           {
            "colorbar": {
             "outlinewidth": 0,
             "ticks": ""
            },
            "colorscale": [
             [
              0,
              "#0d0887"
             ],
             [
              0.1111111111111111,
              "#46039f"
             ],
             [
              0.2222222222222222,
              "#7201a8"
             ],
             [
              0.3333333333333333,
              "#9c179e"
             ],
             [
              0.4444444444444444,
              "#bd3786"
             ],
             [
              0.5555555555555556,
              "#d8576b"
             ],
             [
              0.6666666666666666,
              "#ed7953"
             ],
             [
              0.7777777777777778,
              "#fb9f3a"
             ],
             [
              0.8888888888888888,
              "#fdca26"
             ],
             [
              1,
              "#f0f921"
             ]
            ],
            "type": "surface"
           }
          ],
          "table": [
           {
            "cells": {
             "fill": {
              "color": "#EBF0F8"
             },
             "line": {
              "color": "white"
             }
            },
            "header": {
             "fill": {
              "color": "#C8D4E3"
             },
             "line": {
              "color": "white"
             }
            },
            "type": "table"
           }
          ]
         },
         "layout": {
          "annotationdefaults": {
           "arrowcolor": "#2a3f5f",
           "arrowhead": 0,
           "arrowwidth": 1
          },
          "autotypenumbers": "strict",
          "coloraxis": {
           "colorbar": {
            "outlinewidth": 0,
            "ticks": ""
           }
          },
          "colorscale": {
           "diverging": [
            [
             0,
             "#8e0152"
            ],
            [
             0.1,
             "#c51b7d"
            ],
            [
             0.2,
             "#de77ae"
            ],
            [
             0.3,
             "#f1b6da"
            ],
            [
             0.4,
             "#fde0ef"
            ],
            [
             0.5,
             "#f7f7f7"
            ],
            [
             0.6,
             "#e6f5d0"
            ],
            [
             0.7,
             "#b8e186"
            ],
            [
             0.8,
             "#7fbc41"
            ],
            [
             0.9,
             "#4d9221"
            ],
            [
             1,
             "#276419"
            ]
           ],
           "sequential": [
            [
             0,
             "#0d0887"
            ],
            [
             0.1111111111111111,
             "#46039f"
            ],
            [
             0.2222222222222222,
             "#7201a8"
            ],
            [
             0.3333333333333333,
             "#9c179e"
            ],
            [
             0.4444444444444444,
             "#bd3786"
            ],
            [
             0.5555555555555556,
             "#d8576b"
            ],
            [
             0.6666666666666666,
             "#ed7953"
            ],
            [
             0.7777777777777778,
             "#fb9f3a"
            ],
            [
             0.8888888888888888,
             "#fdca26"
            ],
            [
             1,
             "#f0f921"
            ]
           ],
           "sequentialminus": [
            [
             0,
             "#0d0887"
            ],
            [
             0.1111111111111111,
             "#46039f"
            ],
            [
             0.2222222222222222,
             "#7201a8"
            ],
            [
             0.3333333333333333,
             "#9c179e"
            ],
            [
             0.4444444444444444,
             "#bd3786"
            ],
            [
             0.5555555555555556,
             "#d8576b"
            ],
            [
             0.6666666666666666,
             "#ed7953"
            ],
            [
             0.7777777777777778,
             "#fb9f3a"
            ],
            [
             0.8888888888888888,
             "#fdca26"
            ],
            [
             1,
             "#f0f921"
            ]
           ]
          },
          "colorway": [
           "#636efa",
           "#EF553B",
           "#00cc96",
           "#ab63fa",
           "#FFA15A",
           "#19d3f3",
           "#FF6692",
           "#B6E880",
           "#FF97FF",
           "#FECB52"
          ],
          "font": {
           "color": "#2a3f5f"
          },
          "geo": {
           "bgcolor": "white",
           "lakecolor": "white",
           "landcolor": "#E5ECF6",
           "showlakes": true,
           "showland": true,
           "subunitcolor": "white"
          },
          "hoverlabel": {
           "align": "left"
          },
          "hovermode": "closest",
          "mapbox": {
           "style": "light"
          },
          "paper_bgcolor": "white",
          "plot_bgcolor": "#E5ECF6",
          "polar": {
           "angularaxis": {
            "gridcolor": "white",
            "linecolor": "white",
            "ticks": ""
           },
           "bgcolor": "#E5ECF6",
           "radialaxis": {
            "gridcolor": "white",
            "linecolor": "white",
            "ticks": ""
           }
          },
          "scene": {
           "xaxis": {
            "backgroundcolor": "#E5ECF6",
            "gridcolor": "white",
            "gridwidth": 2,
            "linecolor": "white",
            "showbackground": true,
            "ticks": "",
            "zerolinecolor": "white"
           },
           "yaxis": {
            "backgroundcolor": "#E5ECF6",
            "gridcolor": "white",
            "gridwidth": 2,
            "linecolor": "white",
            "showbackground": true,
            "ticks": "",
            "zerolinecolor": "white"
           },
           "zaxis": {
            "backgroundcolor": "#E5ECF6",
            "gridcolor": "white",
            "gridwidth": 2,
            "linecolor": "white",
            "showbackground": true,
            "ticks": "",
            "zerolinecolor": "white"
           }
          },
          "shapedefaults": {
           "line": {
            "color": "#2a3f5f"
           }
          },
          "ternary": {
           "aaxis": {
            "gridcolor": "white",
            "linecolor": "white",
            "ticks": ""
           },
           "baxis": {
            "gridcolor": "white",
            "linecolor": "white",
            "ticks": ""
           },
           "bgcolor": "#E5ECF6",
           "caxis": {
            "gridcolor": "white",
            "linecolor": "white",
            "ticks": ""
           }
          },
          "title": {
           "x": 0.05
          },
          "xaxis": {
           "automargin": true,
           "gridcolor": "white",
           "linecolor": "white",
           "ticks": "",
           "title": {
            "standoff": 15
           },
           "zerolinecolor": "white",
           "zerolinewidth": 2
          },
          "yaxis": {
           "automargin": true,
           "gridcolor": "white",
           "linecolor": "white",
           "ticks": "",
           "title": {
            "standoff": 15
           },
           "zerolinecolor": "white",
           "zerolinewidth": 2
          }
         }
        },
        "title": {
         "text": "MODELO COMBINADO<br>R2: 0.8974527858711986 RMSE: 3.38826627448817"
        }
       }
      }
     },
     "metadata": {},
     "output_type": "display_data"
    }
   ],
   "source": [
    "# Definir rangos para las variables independientes\n",
    "x1_range = np.linspace(min(x_train['width']), max(x_train['width']), 20)\n",
    "x2_range = np.linspace(min(x_train['shoe_size']), max(x_train['shoe_size']), 20)\n",
    "x1_mesh, x2_mesh = np.meshgrid(x1_range, x2_range)\n",
    "\n",
    "# Escalar el meshgrid para predicción\n",
    "x_mesh_scaled = ss.transform(np.vstack((x1_mesh.ravel(), x2_mesh.ravel())).T)\n",
    "\n",
    "# Predecir los valores con el modelo escalado\n",
    "y_mesh_scaled = modelo_combinado.predict(x_mesh_scaled)\n",
    "\n",
    "# Crear scatterplot 3D de los puntos reales\n",
    "scatter = go.Scatter3d(\n",
    "    x=x_test['width'], y=x_test['shoe_size'], z=y_test,\n",
    "    mode='markers',\n",
    "    marker=dict(size=8, color='red', opacity=0.7)\n",
    ")\n",
    "\n",
    "# Crear el plano de regresión\n",
    "surface = go.Surface(\n",
    "    x=x1_mesh, y=x2_mesh, z=y_mesh_scaled.reshape(x1_mesh.shape),\n",
    "    colorscale='Viridis', opacity=0.5\n",
    ")\n",
    "\n",
    "# Configuración del layout\n",
    "layout = go.Layout(\n",
    "     title=f\"MODELO COMBINADO<br>R2: {r2_score(y_test, predicciones)} RMSE: {root_mean_squared_error(y_test, predicciones)}\",\n",
    "    scene=dict(\n",
    "        xaxis_title='Ancho',\n",
    "        yaxis_title='Pie',\n",
    "        zaxis_title='Altura'\n",
    "    )\n",
    ")\n",
    "\n",
    "# Crear la figura\n",
    "fig = go.Figure(data=[scatter, surface], layout=layout)\n",
    "\n",
    "# Mostrar la figura interactiva\n",
    "fig.show()"
   ]
  }
 ],
 "metadata": {
  "kernelspec": {
   "display_name": "iteso",
   "language": "python",
   "name": "python3"
  },
  "language_info": {
   "codemirror_mode": {
    "name": "ipython",
    "version": 3
   },
   "file_extension": ".py",
   "mimetype": "text/x-python",
   "name": "python",
   "nbconvert_exporter": "python",
   "pygments_lexer": "ipython3",
   "version": "3.10.13"
  }
 },
 "nbformat": 4,
 "nbformat_minor": 2
}
