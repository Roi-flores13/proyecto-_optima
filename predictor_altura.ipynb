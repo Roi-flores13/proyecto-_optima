{
 "cells": [
  {
   "cell_type": "markdown",
   "metadata": {},
   "source": [
    "# Examen"
   ]
  },
  {
   "cell_type": "markdown",
   "metadata": {},
   "source": [
    "Integrantes:\n",
    "- Diego Canales Morales\n",
    "- Roi Jared Flores Graza Stone\n",
    "- Mónica Ibarra Herrera\n",
    "- Oscar Josué Rocha Hernández"
   ]
  },
  {
   "cell_type": "code",
   "execution_count": 5,
   "metadata": {},
   "outputs": [],
   "source": [
    "import pandas as pd\n",
    "from sklearn.linear_model import LinearRegression, Ridge, ElasticNet, Lasso\n",
    "from sklearn.model_selection import train_test_split, GridSearchCV\n",
    "import numpy as np\n",
    "from sklearn.metrics import root_mean_squared_error, r2_score\n",
    "from sklearn.preprocessing import StandardScaler, MinMaxScaler\n",
    "import matplotlib.pyplot as plt\n",
    "import plotly.graph_objects as go"
   ]
  },
  {
   "cell_type": "markdown",
   "metadata": {},
   "source": [
    "## Parte 1"
   ]
  },
  {
   "cell_type": "markdown",
   "metadata": {},
   "source": [
    "### Modelo Simple"
   ]
  },
  {
   "cell_type": "code",
   "execution_count": 6,
   "metadata": {},
   "outputs": [],
   "source": [
    "path = \"datos_gente.csv\"\n",
    "df_first = pd.read_csv(path)"
   ]
  },
  {
   "cell_type": "code",
   "execution_count": 7,
   "metadata": {},
   "outputs": [
    {
     "data": {
      "text/plain": [
       "array([[<Axes: title={'center': 'height'}>,\n",
       "        <Axes: title={'center': 'width'}>],\n",
       "       [<Axes: title={'center': 'shoe_size'}>, <Axes: >]], dtype=object)"
      ]
     },
     "execution_count": 7,
     "metadata": {},
     "output_type": "execute_result"
    },
    {
     "data": {
      "image/png": "[encoded data removed]",
      "text/plain": [
       "<Figure size 640x480 with 4 Axes>"
      ]
     },
     "metadata": {},
     "output_type": "display_data"
    }
   ],
   "source": [
    "df_first.hist()"
   ]
  },
  {
   "cell_type": "code",
   "execution_count": 8,
   "metadata": {},
   "outputs": [],
   "source": [
    "X = df_first[['width', 'shoe_size']]\n",
    "y = df_first['height']"
   ]
  },
  {
   "cell_type": "code",
   "execution_count": 9,
   "metadata": {},
   "outputs": [],
   "source": [
    "x_train_f, x_test_f, y_train_f, y_test_f = train_test_split(X,y, test_size=0.2, random_state=99)"
   ]
  },
  {
   "cell_type": "code",
   "execution_count": 10,
   "metadata": {},
   "outputs": [
    {
     "name": "stdout",
     "output_type": "stream",
     "text": [
      "R2: 0.8941176470588236 RMSE: 2.1213203435596424\n"
     ]
    }
   ],
   "source": [
    "lr_first = LinearRegression()\n",
    "lr_first.fit(x_test_f, y_test_f)\n",
    "pred_first = lr_first.predict(x_test_f)\n",
    "print(f\"R2: {r2_score(y_test_f, pred_first)} RMSE: {root_mean_squared_error(y_test_f, pred_first)}\")"
   ]
  },
  {
   "cell_type": "code",
   "execution_count": 11,
   "metadata": {},
   "outputs": [
    {
     "name": "stdout",
     "output_type": "stream",
     "text": [
      "Pendientes: [1.625 3.75 ]\n",
      "Intercepto: -12.375000000000057\n"
     ]
    }
   ],
   "source": [
    "print(f\"Pendientes: {lr_first.coef_}\")\n",
    "print(f\"Intercepto: {lr_first.intercept_}\")"
   ]
  },
  {
   "cell_type": "code",
   "execution_count": 12,
   "metadata": {},
   "outputs": [
    {
     "name": "stderr",
     "output_type": "stream",
     "text": [
      "c:\\Users\\Roi_f\\anaconda3\\envs\\personal\\Lib\\site-packages\\sklearn\\base.py:493: UserWarning: X does not have valid feature names, but LinearRegression was fitted with feature names\n",
      "  warnings.warn(\n"
     ]
    },
    {
     "data": {
      "application/vnd.plotly.v1+json": {
       "config": {
        "plotlyServerURL": "https://plot.ly"
       },
       "data": [
        {
         "marker": {
          "color": "red",
          "size": 8
         },
         "mode": "markers",
         "type": "scatter3d",
         "x": [
          55,
          44,
          44,
          44,
          46,
          40,
          58,
          40,
          49,
          44,
          40,
          51,
          55,
          50,
          38,
          39,
          38,
          39
         ],
         "y": [
          28,
          26.5,
          24,
          24.5,
          27,
          23,
          27,
          24,
          27.5,
          23,
          22,
          26,
          28,
          27.5,
          24,
          24.5,
          24,
          22.5
         ],
         "z": [
          185,
          173,
          163,
          162,
          172,
          159,
          187,
          165,
          175,
          162,
          155,
          168,
          179,
          172,
          159,
          166,
          156,
          151
         ]
        },
        {
         "colorscale": [
          [
           0,
           "#440154"
          ],
          [
           0.1111111111111111,
           "#482878"
          ],
          [
           0.2222222222222222,
           "#3e4989"
          ],
          [
           0.3333333333333333,
           "#31688e"
          ],
          [
           0.4444444444444444,
           "#26828e"
          ],
          [
           0.5555555555555556,
           "#1f9e89"
          ],
          [
           0.6666666666666666,
           "#35b779"
          ],
          [
           0.7777777777777778,
           "#6ece58"
          ],
          [
           0.8888888888888888,
           "#b5de2b"
          ],
          [
           1,
           "#fde725"
          ]
         ],
         "opacity": 0.5,
         "type": "surface",
         "x": [
          [
           38,
           39.05263157894737,
           40.10526315789474,
           41.1578947368421,
           42.21052631578947,
           43.26315789473684,
           44.31578947368421,
           45.368421052631575,
           46.421052631578945,
           47.473684210526315,
           48.526315789473685,
           49.578947368421055,
           50.631578947368425,
           51.68421052631579,
           52.73684210526316,
           53.78947368421053,
           54.84210526315789,
           55.89473684210526,
           56.94736842105263,
           58
          ],
          [
           38,
           39.05263157894737,
           40.10526315789474,
           41.1578947368421,
           42.21052631578947,
           43.26315789473684,
           44.31578947368421,
           45.368421052631575,
           46.421052631578945,
           47.473684210526315,
           48.526315789473685,
           49.578947368421055,
           50.631578947368425,
           51.68421052631579,
           52.73684210526316,
           53.78947368421053,
           54.84210526315789,
           55.89473684210526,
           56.94736842105263,
           58
          ],
          [
           38,
           39.05263157894737,
           40.10526315789474,
           41.1578947368421,
           42.21052631578947,
           43.26315789473684,
           44.31578947368421,
           45.368421052631575,
           46.421052631578945,
           47.473684210526315,
           48.526315789473685,
           49.578947368421055,
           50.631578947368425,
           51.68421052631579,
           52.73684210526316,
           53.78947368421053,
           54.84210526315789,
           55.89473684210526,
           56.94736842105263,
           58
          ],
          [
           38,
           39.05263157894737,
           40.10526315789474,
           41.1578947368421,
           42.21052631578947,
           43.26315789473684,
           44.31578947368421,
           45.368421052631575,
           46.421052631578945,
           47.473684210526315,
           48.526315789473685,
           49.578947368421055,
           50.631578947368425,
           51.68421052631579,
           52.73684210526316,
           53.78947368421053,
           54.84210526315789,
           55.89473684210526,
           56.94736842105263,
           58
          ],
          [
           38,
           39.05263157894737,
           40.10526315789474,
           41.1578947368421,
           42.21052631578947,
           43.26315789473684,
           44.31578947368421,
           45.368421052631575,
           46.421052631578945,
           47.473684210526315,
           48.526315789473685,
           49.578947368421055,
           50.631578947368425,
           51.68421052631579,
           52.73684210526316,
           53.78947368421053,
           54.84210526315789,
           55.89473684210526,
           56.94736842105263,
           58
          ],
          [
           38,
           39.05263157894737,
           40.10526315789474,
           41.1578947368421,
           42.21052631578947,
           43.26315789473684,
           44.31578947368421,
           45.368421052631575,
           46.421052631578945,
           47.473684210526315,
           48.526315789473685,
           49.578947368421055,
           50.631578947368425,
           51.68421052631579,
           52.73684210526316,
           53.78947368421053,
           54.84210526315789,
           55.89473684210526,
           56.94736842105263,
           58
          ],
          [
           38,
           39.05263157894737,
           40.10526315789474,
           41.1578947368421,
           42.21052631578947,
           43.26315789473684,
           44.31578947368421,
           45.368421052631575,
           46.421052631578945,
           47.473684210526315,
           48.526315789473685,
           49.578947368421055,
           50.631578947368425,
           51.68421052631579,
           52.73684210526316,
           53.78947368421053,
           54.84210526315789,
           55.89473684210526,
           56.94736842105263,
           58
          ],
          [
           38,
           39.05263157894737,
           40.10526315789474,
           41.1578947368421,
           42.21052631578947,
           43.26315789473684,
           44.31578947368421,
           45.368421052631575,
           46.421052631578945,
           47.473684210526315,
           48.526315789473685,
           49.578947368421055,
           50.631578947368425,
           51.68421052631579,
           52.73684210526316,
           53.78947368421053,
           54.84210526315789,
           55.89473684210526,
           56.94736842105263,
           58
          ],
          [
           38,
           39.05263157894737,
           40.10526315789474,
           41.1578947368421,
           42.21052631578947,
           43.26315789473684,
           44.31578947368421,
           45.368421052631575,
           46.421052631578945,
           47.473684210526315,
           48.526315789473685,
           49.578947368421055,
           50.631578947368425,
           51.68421052631579,
           52.73684210526316,
           53.78947368421053,
           54.84210526315789,
           55.89473684210526,
           56.94736842105263,
           58
          ],
          [
           38,
           39.05263157894737,
           40.10526315789474,
           41.1578947368421,
           42.21052631578947,
           43.26315789473684,
           44.31578947368421,
           45.368421052631575,
           46.421052631578945,
           47.473684210526315,
           48.526315789473685,
           49.578947368421055,
           50.631578947368425,
           51.68421052631579,
           52.73684210526316,
           53.78947368421053,
           54.84210526315789,
           55.89473684210526,
           56.94736842105263,
           58
          ],
          [
           38,
           39.05263157894737,
           40.10526315789474,
           41.1578947368421,
           42.21052631578947,
           43.26315789473684,
           44.31578947368421,
           45.368421052631575,
           46.421052631578945,
           47.473684210526315,
           48.526315789473685,
           49.578947368421055,
           50.631578947368425,
           51.68421052631579,
           52.73684210526316,
           53.78947368421053,
           54.84210526315789,
           55.89473684210526,
           56.94736842105263,
           58
          ],
          [
           38,
           39.05263157894737,
           40.10526315789474,
           41.1578947368421,
           42.21052631578947,
           43.26315789473684,
           44.31578947368421,
           45.368421052631575,
           46.421052631578945,
           47.473684210526315,
           48.526315789473685,
           49.578947368421055,
           50.631578947368425,
           51.68421052631579,
           52.73684210526316,
           53.78947368421053,
           54.84210526315789,
           55.89473684210526,
           56.94736842105263,
           58
          ],
          [
           38,
           39.05263157894737,
           40.10526315789474,
           41.1578947368421,
           42.21052631578947,
           43.26315789473684,
           44.31578947368421,
           45.368421052631575,
           46.421052631578945,
           47.473684210526315,
           48.526315789473685,
           49.578947368421055,
           50.631578947368425,
           51.68421052631579,
           52.73684210526316,
           53.78947368421053,
           54.84210526315789,
           55.89473684210526,
           56.94736842105263,
           58
          ],
          [
           38,
           39.05263157894737,
           40.10526315789474,
           41.1578947368421,
           42.21052631578947,
           43.26315789473684,
           44.31578947368421,
           45.368421052631575,
           46.421052631578945,
           47.473684210526315,
           48.526315789473685,
           49.578947368421055,
           50.631578947368425,
           51.68421052631579,
           52.73684210526316,
           53.78947368421053,
           54.84210526315789,
           55.89473684210526,
           56.94736842105263,
           58
          ],
          [
           38,
           39.05263157894737,
           40.10526315789474,
           41.1578947368421,
           42.21052631578947,
           43.26315789473684,
           44.31578947368421,
           45.368421052631575,
           46.421052631578945,
           47.473684210526315,
           48.526315789473685,
           49.578947368421055,
           50.631578947368425,
           51.68421052631579,
           52.73684210526316,
           53.78947368421053,
           54.84210526315789,
           55.89473684210526,
           56.94736842105263,
           58
          ],
          [
           38,
           39.05263157894737,
           40.10526315789474,
           41.1578947368421,
           42.21052631578947,
           43.26315789473684,
           44.31578947368421,
           45.368421052631575,
           46.421052631578945,
           47.473684210526315,
           48.526315789473685,
           49.578947368421055,
           50.631578947368425,
           51.68421052631579,
           52.73684210526316,
           53.78947368421053,
           54.84210526315789,
           55.89473684210526,
           56.94736842105263,
           58
          ],
          [
           38,
           39.05263157894737,
           40.10526315789474,
           41.1578947368421,
           42.21052631578947,
           43.26315789473684,
           44.31578947368421,
           45.368421052631575,
           46.421052631578945,
           47.473684210526315,
           48.526315789473685,
           49.578947368421055,
           50.631578947368425,
           51.68421052631579,
           52.73684210526316,
           53.78947368421053,
           54.84210526315789,
           55.89473684210526,
           56.94736842105263,
           58
          ],
          [
           38,
           39.05263157894737,
           40.10526315789474,
           41.1578947368421,
           42.21052631578947,
           43.26315789473684,
           44.31578947368421,
           45.368421052631575,
           46.421052631578945,
           47.473684210526315,
           48.526315789473685,
           49.578947368421055,
           50.631578947368425,
           51.68421052631579,
           52.73684210526316,
           53.78947368421053,
           54.84210526315789,
           55.89473684210526,
           56.94736842105263,
           58
          ],
          [
           38,
           39.05263157894737,
           40.10526315789474,
           41.1578947368421,
           42.21052631578947,
           43.26315789473684,
           44.31578947368421,
           45.368421052631575,
           46.421052631578945,
           47.473684210526315,
           48.526315789473685,
           49.578947368421055,
           50.631578947368425,
           51.68421052631579,
           52.73684210526316,
           53.78947368421053,
           54.84210526315789,
           55.89473684210526,
           56.94736842105263,
           58
          ],
          [
           38,
           39.05263157894737,
           40.10526315789474,
           41.1578947368421,
           42.21052631578947,
           43.26315789473684,
           44.31578947368421,
           45.368421052631575,
           46.421052631578945,
           47.473684210526315,
           48.526315789473685,
           49.578947368421055,
           50.631578947368425,
           51.68421052631579,
           52.73684210526316,
           53.78947368421053,
           54.84210526315789,
           55.89473684210526,
           56.94736842105263,
           58
          ]
         ],
         "y": [
          [
           22,
           22,
           22,
           22,
           22,
           22,
           22,
           22,
           22,
           22,
           22,
           22,
           22,
           22,
           22,
           22,
           22,
           22,
           22,
           22
          ],
          [
           22.31578947368421,
           22.31578947368421,
           22.31578947368421,
           22.31578947368421,
           22.31578947368421,
           22.31578947368421,
           22.31578947368421,
           22.31578947368421,
           22.31578947368421,
           22.31578947368421,
           22.31578947368421,
           22.31578947368421,
           22.31578947368421,
           22.31578947368421,
           22.31578947368421,
           22.31578947368421,
           22.31578947368421,
           22.31578947368421,
           22.31578947368421,
           22.31578947368421
          ],
          [
           22.63157894736842,
           22.63157894736842,
           22.63157894736842,
           22.63157894736842,
           22.63157894736842,
           22.63157894736842,
           22.63157894736842,
           22.63157894736842,
           22.63157894736842,
           22.63157894736842,
           22.63157894736842,
           22.63157894736842,
           22.63157894736842,
           22.63157894736842,
           22.63157894736842,
           22.63157894736842,
           22.63157894736842,
           22.63157894736842,
           22.63157894736842,
           22.63157894736842
          ],
          [
           22.94736842105263,
           22.94736842105263,
           22.94736842105263,
           22.94736842105263,
           22.94736842105263,
           22.94736842105263,
           22.94736842105263,
           22.94736842105263,
           22.94736842105263,
           22.94736842105263,
           22.94736842105263,
           22.94736842105263,
           22.94736842105263,
           22.94736842105263,
           22.94736842105263,
           22.94736842105263,
           22.94736842105263,
           22.94736842105263,
           22.94736842105263,
           22.94736842105263
          ],
          [
           23.263157894736842,
           23.263157894736842,
           23.263157894736842,
           23.263157894736842,
           23.263157894736842,
           23.263157894736842,
           23.263157894736842,
           23.263157894736842,
           23.263157894736842,
           23.263157894736842,
           23.263157894736842,
           23.263157894736842,
           23.263157894736842,
           23.263157894736842,
           23.263157894736842,
           23.263157894736842,
           23.263157894736842,
           23.263157894736842,
           23.263157894736842,
           23.263157894736842
          ],
          [
           23.57894736842105,
           23.57894736842105,
           23.57894736842105,
           23.57894736842105,
           23.57894736842105,
           23.57894736842105,
           23.57894736842105,
           23.57894736842105,
           23.57894736842105,
           23.57894736842105,
           23.57894736842105,
           23.57894736842105,
           23.57894736842105,
           23.57894736842105,
           23.57894736842105,
           23.57894736842105,
           23.57894736842105,
           23.57894736842105,
           23.57894736842105,
           23.57894736842105
          ],
          [
           23.894736842105264,
           23.894736842105264,
           23.894736842105264,
           23.894736842105264,
           23.894736842105264,
           23.894736842105264,
           23.894736842105264,
           23.894736842105264,
           23.894736842105264,
           23.894736842105264,
           23.894736842105264,
           23.894736842105264,
           23.894736842105264,
           23.894736842105264,
           23.894736842105264,
           23.894736842105264,
           23.894736842105264,
           23.894736842105264,
           23.894736842105264,
           23.894736842105264
          ],
          [
           24.210526315789473,
           24.210526315789473,
           24.210526315789473,
           24.210526315789473,
           24.210526315789473,
           24.210526315789473,
           24.210526315789473,
           24.210526315789473,
           24.210526315789473,
           24.210526315789473,
           24.210526315789473,
           24.210526315789473,
           24.210526315789473,
           24.210526315789473,
           24.210526315789473,
           24.210526315789473,
           24.210526315789473,
           24.210526315789473,
           24.210526315789473,
           24.210526315789473
          ],
          [
           24.526315789473685,
           24.526315789473685,
           24.526315789473685,
           24.526315789473685,
           24.526315789473685,
           24.526315789473685,
           24.526315789473685,
           24.526315789473685,
           24.526315789473685,
           24.526315789473685,
           24.526315789473685,
           24.526315789473685,
           24.526315789473685,
           24.526315789473685,
           24.526315789473685,
           24.526315789473685,
           24.526315789473685,
           24.526315789473685,
           24.526315789473685,
           24.526315789473685
          ],
          [
           24.842105263157894,
           24.842105263157894,
           24.842105263157894,
           24.842105263157894,
           24.842105263157894,
           24.842105263157894,
           24.842105263157894,
           24.842105263157894,
           24.842105263157894,
           24.842105263157894,
           24.842105263157894,
           24.842105263157894,
           24.842105263157894,
           24.842105263157894,
           24.842105263157894,
           24.842105263157894,
           24.842105263157894,
           24.842105263157894,
           24.842105263157894,
           24.842105263157894
          ],
          [
           25.157894736842106,
           25.157894736842106,
           25.157894736842106,
           25.157894736842106,
           25.157894736842106,
           25.157894736842106,
           25.157894736842106,
           25.157894736842106,
           25.157894736842106,
           25.157894736842106,
           25.157894736842106,
           25.157894736842106,
           25.157894736842106,
           25.157894736842106,
           25.157894736842106,
           25.157894736842106,
           25.157894736842106,
           25.157894736842106,
           25.157894736842106,
           25.157894736842106
          ],
          [
           25.473684210526315,
           25.473684210526315,
           25.473684210526315,
           25.473684210526315,
           25.473684210526315,
           25.473684210526315,
           25.473684210526315,
           25.473684210526315,
           25.473684210526315,
           25.473684210526315,
           25.473684210526315,
           25.473684210526315,
           25.473684210526315,
           25.473684210526315,
           25.473684210526315,
           25.473684210526315,
           25.473684210526315,
           25.473684210526315,
           25.473684210526315,
           25.473684210526315
          ],
          [
           25.789473684210527,
           25.789473684210527,
           25.789473684210527,
           25.789473684210527,
           25.789473684210527,
           25.789473684210527,
           25.789473684210527,
           25.789473684210527,
           25.789473684210527,
           25.789473684210527,
           25.789473684210527,
           25.789473684210527,
           25.789473684210527,
           25.789473684210527,
           25.789473684210527,
           25.789473684210527,
           25.789473684210527,
           25.789473684210527,
           25.789473684210527,
           25.789473684210527
          ],
          [
           26.105263157894736,
           26.105263157894736,
           26.105263157894736,
           26.105263157894736,
           26.105263157894736,
           26.105263157894736,
           26.105263157894736,
           26.105263157894736,
           26.105263157894736,
           26.105263157894736,
           26.105263157894736,
           26.105263157894736,
           26.105263157894736,
           26.105263157894736,
           26.105263157894736,
           26.105263157894736,
           26.105263157894736,
           26.105263157894736,
           26.105263157894736,
           26.105263157894736
          ],
          [
           26.421052631578945,
           26.421052631578945,
           26.421052631578945,
           26.421052631578945,
           26.421052631578945,
           26.421052631578945,
           26.421052631578945,
           26.421052631578945,
           26.421052631578945,
           26.421052631578945,
           26.421052631578945,
           26.421052631578945,
           26.421052631578945,
           26.421052631578945,
           26.421052631578945,
           26.421052631578945,
           26.421052631578945,
           26.421052631578945,
           26.421052631578945,
           26.421052631578945
          ],
          [
           26.736842105263158,
           26.736842105263158,
           26.736842105263158,
           26.736842105263158,
           26.736842105263158,
           26.736842105263158,
           26.736842105263158,
           26.736842105263158,
           26.736842105263158,
           26.736842105263158,
           26.736842105263158,
           26.736842105263158,
           26.736842105263158,
           26.736842105263158,
           26.736842105263158,
           26.736842105263158,
           26.736842105263158,
           26.736842105263158,
           26.736842105263158,
           26.736842105263158
          ],
          [
           27.05263157894737,
           27.05263157894737,
           27.05263157894737,
           27.05263157894737,
           27.05263157894737,
           27.05263157894737,
           27.05263157894737,
           27.05263157894737,
           27.05263157894737,
           27.05263157894737,
           27.05263157894737,
           27.05263157894737,
           27.05263157894737,
           27.05263157894737,
           27.05263157894737,
           27.05263157894737,
           27.05263157894737,
           27.05263157894737,
           27.05263157894737,
           27.05263157894737
          ],
          [
           27.36842105263158,
           27.36842105263158,
           27.36842105263158,
           27.36842105263158,
           27.36842105263158,
           27.36842105263158,
           27.36842105263158,
           27.36842105263158,
           27.36842105263158,
           27.36842105263158,
           27.36842105263158,
           27.36842105263158,
           27.36842105263158,
           27.36842105263158,
           27.36842105263158,
           27.36842105263158,
           27.36842105263158,
           27.36842105263158,
           27.36842105263158,
           27.36842105263158
          ],
          [
           27.684210526315788,
           27.684210526315788,
           27.684210526315788,
           27.684210526315788,
           27.684210526315788,
           27.684210526315788,
           27.684210526315788,
           27.684210526315788,
           27.684210526315788,
           27.684210526315788,
           27.684210526315788,
           27.684210526315788,
           27.684210526315788,
           27.684210526315788,
           27.684210526315788,
           27.684210526315788,
           27.684210526315788,
           27.684210526315788,
           27.684210526315788,
           27.684210526315788
          ],
          [
           28,
           28,
           28,
           28,
           28,
           28,
           28,
           28,
           28,
           28,
           28,
           28,
           28,
           28,
           28,
           28,
           28,
           28,
           28,
           28
          ]
         ],
         "z": [
          [
           131.87499999999997,
           133.58552631578945,
           135.29605263157893,
           137.0065789473684,
           138.7171052631579,
           140.42763157894737,
           142.13815789473682,
           143.8486842105263,
           145.55921052631578,
           147.26973684210526,
           148.98026315789474,
           150.6907894736842,
           152.40131578947367,
           154.11184210526315,
           155.82236842105263,
           157.5328947368421,
           159.24342105263156,
           160.95394736842104,
           162.66447368421052,
           164.375
          ],
          [
           133.05921052631575,
           134.76973684210523,
           136.4802631578947,
           138.1907894736842,
           139.90131578947367,
           141.61184210526315,
           143.3223684210526,
           145.03289473684208,
           146.74342105263156,
           148.45394736842104,
           150.16447368421052,
           151.87499999999997,
           153.58552631578945,
           155.29605263157893,
           157.0065789473684,
           158.7171052631579,
           160.42763157894734,
           162.13815789473682,
           163.8486842105263,
           165.55921052631578
          ],
          [
           134.24342105263156,
           135.95394736842104,
           137.66447368421052,
           139.37499999999997,
           141.08552631578945,
           142.79605263157893,
           144.5065789473684,
           146.21710526315786,
           147.92763157894734,
           149.63815789473682,
           151.3486842105263,
           153.05921052631578,
           154.76973684210526,
           156.4802631578947,
           158.1907894736842,
           159.90131578947367,
           161.61184210526315,
           163.3223684210526,
           165.03289473684208,
           166.74342105263156
          ],
          [
           135.42763157894734,
           137.13815789473682,
           138.8486842105263,
           140.55921052631575,
           142.26973684210523,
           143.9802631578947,
           145.6907894736842,
           147.40131578947364,
           149.11184210526312,
           150.8223684210526,
           152.53289473684208,
           154.24342105263156,
           155.95394736842104,
           157.6644736842105,
           159.37499999999997,
           161.08552631578945,
           162.79605263157893,
           164.50657894736838,
           166.21710526315786,
           167.92763157894734
          ],
          [
           136.61184210526315,
           138.32236842105263,
           140.03289473684208,
           141.74342105263156,
           143.45394736842104,
           145.16447368421052,
           146.87499999999997,
           148.58552631578945,
           150.29605263157893,
           152.0065789473684,
           153.7171052631579,
           155.42763157894734,
           157.13815789473682,
           158.8486842105263,
           160.55921052631578,
           162.26973684210526,
           163.9802631578947,
           165.6907894736842,
           167.40131578947367,
           169.11184210526315
          ],
          [
           137.79605263157893,
           139.5065789473684,
           141.2171052631579,
           142.92763157894734,
           144.63815789473682,
           146.3486842105263,
           148.05921052631578,
           149.76973684210523,
           151.4802631578947,
           153.1907894736842,
           154.90131578947367,
           156.61184210526315,
           158.32236842105263,
           160.03289473684208,
           161.74342105263156,
           163.45394736842104,
           165.16447368421052,
           166.87499999999997,
           168.58552631578945,
           170.29605263157893
          ],
          [
           138.9802631578947,
           140.6907894736842,
           142.40131578947367,
           144.11184210526315,
           145.82236842105263,
           147.5328947368421,
           149.24342105263156,
           150.95394736842104,
           152.66447368421052,
           154.375,
           156.08552631578948,
           157.79605263157893,
           159.5065789473684,
           161.2171052631579,
           162.92763157894737,
           164.63815789473685,
           166.3486842105263,
           168.05921052631578,
           169.76973684210526,
           171.48026315789474
          ],
          [
           140.1644736842105,
           141.87499999999997,
           143.58552631578945,
           145.29605263157893,
           147.0065789473684,
           148.7171052631579,
           150.42763157894734,
           152.13815789473682,
           153.8486842105263,
           155.55921052631578,
           157.26973684210526,
           158.9802631578947,
           160.6907894736842,
           162.40131578947367,
           164.11184210526315,
           165.82236842105263,
           167.53289473684208,
           169.24342105263156,
           170.95394736842104,
           172.66447368421052
          ],
          [
           141.3486842105263,
           143.05921052631578,
           144.76973684210526,
           146.4802631578947,
           148.1907894736842,
           149.90131578947367,
           151.61184210526315,
           153.3223684210526,
           155.03289473684208,
           156.74342105263156,
           158.45394736842104,
           160.16447368421052,
           161.875,
           163.58552631578945,
           165.29605263157893,
           167.0065789473684,
           168.7171052631579,
           170.42763157894734,
           172.13815789473682,
           173.8486842105263
          ],
          [
           142.53289473684208,
           144.24342105263156,
           145.95394736842104,
           147.6644736842105,
           149.37499999999997,
           151.08552631578945,
           152.79605263157893,
           154.50657894736838,
           156.21710526315786,
           157.92763157894734,
           159.63815789473682,
           161.3486842105263,
           163.05921052631578,
           164.76973684210523,
           166.4802631578947,
           168.1907894736842,
           169.90131578947367,
           171.61184210526312,
           173.3223684210526,
           175.03289473684208
          ],
          [
           143.7171052631579,
           145.42763157894737,
           147.13815789473682,
           148.8486842105263,
           150.55921052631578,
           152.26973684210526,
           153.9802631578947,
           155.6907894736842,
           157.40131578947367,
           159.11184210526315,
           160.82236842105263,
           162.53289473684208,
           164.24342105263156,
           165.95394736842104,
           167.66447368421052,
           169.375,
           171.08552631578945,
           172.79605263157893,
           174.5065789473684,
           176.2171052631579
          ],
          [
           144.90131578947367,
           146.61184210526315,
           148.32236842105263,
           150.03289473684208,
           151.74342105263156,
           153.45394736842104,
           155.16447368421052,
           156.87499999999997,
           158.58552631578945,
           160.29605263157893,
           162.0065789473684,
           163.7171052631579,
           165.42763157894737,
           167.13815789473682,
           168.8486842105263,
           170.55921052631578,
           172.26973684210526,
           173.9802631578947,
           175.6907894736842,
           177.40131578947367
          ],
          [
           146.08552631578945,
           147.79605263157893,
           149.5065789473684,
           151.2171052631579,
           152.92763157894737,
           154.63815789473685,
           156.3486842105263,
           158.05921052631578,
           159.76973684210526,
           161.48026315789474,
           163.19078947368422,
           164.90131578947367,
           166.61184210526315,
           168.32236842105263,
           170.0328947368421,
           171.7434210526316,
           173.45394736842104,
           175.16447368421052,
           176.875,
           178.58552631578948
          ],
          [
           147.26973684210526,
           148.98026315789474,
           150.6907894736842,
           152.40131578947367,
           154.11184210526315,
           155.82236842105263,
           157.53289473684208,
           159.24342105263156,
           160.95394736842104,
           162.66447368421052,
           164.375,
           166.08552631578945,
           167.79605263157893,
           169.5065789473684,
           171.2171052631579,
           172.92763157894737,
           174.63815789473682,
           176.3486842105263,
           178.05921052631578,
           179.76973684210526
          ],
          [
           148.45394736842104,
           150.16447368421052,
           151.87499999999997,
           153.58552631578945,
           155.29605263157893,
           157.0065789473684,
           158.71710526315786,
           160.42763157894734,
           162.13815789473682,
           163.8486842105263,
           165.55921052631578,
           167.26973684210523,
           168.9802631578947,
           170.6907894736842,
           172.40131578947367,
           174.11184210526315,
           175.8223684210526,
           177.53289473684208,
           179.24342105263156,
           180.95394736842104
          ],
          [
           149.63815789473682,
           151.3486842105263,
           153.05921052631578,
           154.76973684210523,
           156.4802631578947,
           158.1907894736842,
           159.90131578947367,
           161.61184210526312,
           163.3223684210526,
           165.03289473684208,
           166.74342105263156,
           168.45394736842104,
           170.16447368421052,
           171.87499999999997,
           173.58552631578945,
           175.29605263157893,
           177.0065789473684,
           178.71710526315786,
           180.42763157894734,
           182.13815789473682
          ],
          [
           150.82236842105263,
           152.5328947368421,
           154.2434210526316,
           155.95394736842104,
           157.66447368421052,
           159.375,
           161.08552631578948,
           162.79605263157893,
           164.5065789473684,
           166.2171052631579,
           167.92763157894737,
           169.63815789473685,
           171.34868421052633,
           173.05921052631578,
           174.76973684210526,
           176.48026315789474,
           178.19078947368422,
           179.90131578947367,
           181.61184210526315,
           183.32236842105263
          ],
          [
           152.0065789473684,
           153.7171052631579,
           155.42763157894737,
           157.13815789473682,
           158.8486842105263,
           160.55921052631578,
           162.26973684210526,
           163.9802631578947,
           165.6907894736842,
           167.40131578947367,
           169.11184210526315,
           170.82236842105263,
           172.5328947368421,
           174.24342105263156,
           175.95394736842104,
           177.66447368421052,
           179.375,
           181.08552631578945,
           182.79605263157893,
           184.5065789473684
          ],
          [
           153.1907894736842,
           154.90131578947367,
           156.61184210526315,
           158.3223684210526,
           160.03289473684208,
           161.74342105263156,
           163.45394736842104,
           165.1644736842105,
           166.87499999999997,
           168.58552631578945,
           170.29605263157893,
           172.0065789473684,
           173.7171052631579,
           175.42763157894734,
           177.13815789473682,
           178.8486842105263,
           180.55921052631578,
           182.26973684210523,
           183.9802631578947,
           185.6907894736842
          ],
          [
           154.375,
           156.08552631578948,
           157.79605263157893,
           159.5065789473684,
           161.2171052631579,
           162.92763157894737,
           164.63815789473682,
           166.3486842105263,
           168.05921052631578,
           169.76973684210526,
           171.48026315789474,
           173.1907894736842,
           174.90131578947367,
           176.61184210526315,
           178.32236842105263,
           180.0328947368421,
           181.74342105263156,
           183.45394736842104,
           185.16447368421052,
           186.875
          ]
         ]
        }
       ],
       "layout": {
        "scene": {
         "xaxis": {
          "title": {
           "text": "Variable X1"
          }
         },
         "yaxis": {
          "title": {
           "text": "Variable X2"
          }
         },
         "zaxis": {
          "title": {
           "text": "Variable Y"
          }
         }
        },
        "template": {
         "data": {
          "bar": [
           {
            "error_x": {
             "color": "#2a3f5f"
            },
            "error_y": {
             "color": "#2a3f5f"
            },
            "marker": {
             "line": {
              "color": "#E5ECF6",
              "width": 0.5
             },
             "pattern": {
              "fillmode": "overlay",
              "size": 10,
              "solidity": 0.2
             }
            },
            "type": "bar"
           }
          ],
          "barpolar": [
           {
            "marker": {
             "line": {
              "color": "#E5ECF6",
              "width": 0.5
             },
             "pattern": {
              "fillmode": "overlay",
              "size": 10,
              "solidity": 0.2
             }
            },
            "type": "barpolar"
           }
          ],
          "carpet": [
           {
            "aaxis": {
             "endlinecolor": "#2a3f5f",
             "gridcolor": "white",
             "linecolor": "white",
             "minorgridcolor": "white",
             "startlinecolor": "#2a3f5f"
            },
            "baxis": {
             "endlinecolor": "#2a3f5f",
             "gridcolor": "white",
             "linecolor": "white",
             "minorgridcolor": "white",
             "startlinecolor": "#2a3f5f"
            },
            "type": "carpet"
           }
          ],
          "choropleth": [
           {
            "colorbar": {
             "outlinewidth": 0,
             "ticks": ""
            },
            "type": "choropleth"
           }
          ],
          "contour": [
           {
            "colorbar": {
             "outlinewidth": 0,
             "ticks": ""
            },
            "colorscale": [
             [
              0,
              "#0d0887"
             ],
             [
              0.1111111111111111,
              "#46039f"
             ],
             [
              0.2222222222222222,
              "#7201a8"
             ],
             [
              0.3333333333333333,
              "#9c179e"
             ],
             [
              0.4444444444444444,
              "#bd3786"
             ],
             [
              0.5555555555555556,
              "#d8576b"
             ],
             [
              0.6666666666666666,
              "#ed7953"
             ],
             [
              0.7777777777777778,
              "#fb9f3a"
             ],
             [
              0.8888888888888888,
              "#fdca26"
             ],
             [
              1,
              "#f0f921"
             ]
            ],
            "type": "contour"
           }
          ],
          "contourcarpet": [
           {
            "colorbar": {
             "outlinewidth": 0,
             "ticks": ""
            },
            "type": "contourcarpet"
           }
          ],
          "heatmap": [
           {
            "colorbar": {
             "outlinewidth": 0,
             "ticks": ""
            },
            "colorscale": [
             [
              0,
              "#0d0887"
             ],
             [
              0.1111111111111111,
              "#46039f"
             ],
             [
              0.2222222222222222,
              "#7201a8"
             ],
             [
              0.3333333333333333,
              "#9c179e"
             ],
             [
              0.4444444444444444,
              "#bd3786"
             ],
             [
              0.5555555555555556,
              "#d8576b"
             ],
             [
              0.6666666666666666,
              "#ed7953"
             ],
             [
              0.7777777777777778,
              "#fb9f3a"
             ],
             [
              0.8888888888888888,
              "#fdca26"
             ],
             [
              1,
              "#f0f921"
             ]
            ],
            "type": "heatmap"
           }
          ],
          "heatmapgl": [
           {
            "colorbar": {
             "outlinewidth": 0,
             "ticks": ""
            },
            "colorscale": [
             [
              0,
              "#0d0887"
             ],
             [
              0.1111111111111111,
              "#46039f"
             ],
             [
              0.2222222222222222,
              "#7201a8"
             ],
             [
              0.3333333333333333,
              "#9c179e"
             ],
             [
              0.4444444444444444,
              "#bd3786"
             ],
             [
              0.5555555555555556,
              "#d8576b"
             ],
             [
              0.6666666666666666,
              "#ed7953"
             ],
             [
              0.7777777777777778,
              "#fb9f3a"
             ],
             [
              0.8888888888888888,
              "#fdca26"
             ],
             [
              1,
              "#f0f921"
             ]
            ],
            "type": "heatmapgl"
           }
          ],
          "histogram": [
           {
            "marker": {
             "pattern": {
              "fillmode": "overlay",
              "size": 10,
              "solidity": 0.2
             }
            },
            "type": "histogram"
           }
          ],
          "histogram2d": [
           {
            "colorbar": {
             "outlinewidth": 0,
             "ticks": ""
            },
            "colorscale": [
             [
              0,
              "#0d0887"
             ],
             [
              0.1111111111111111,
              "#46039f"
             ],
             [
              0.2222222222222222,
              "#7201a8"
             ],
             [
              0.3333333333333333,
              "#9c179e"
             ],
             [
              0.4444444444444444,
              "#bd3786"
             ],
             [
              0.5555555555555556,
              "#d8576b"
             ],
             [
              0.6666666666666666,
              "#ed7953"
             ],
             [
              0.7777777777777778,
              "#fb9f3a"
             ],
             [
              0.8888888888888888,
              "#fdca26"
             ],
             [
              1,
              "#f0f921"
             ]
            ],
            "type": "histogram2d"
           }
          ],
          "histogram2dcontour": [
           {
            "colorbar": {
             "outlinewidth": 0,
             "ticks": ""
            },
            "colorscale": [
             [
              0,
              "#0d0887"
             ],
             [
              0.1111111111111111,
              "#46039f"
             ],
             [
              0.2222222222222222,
              "#7201a8"
             ],
             [
              0.3333333333333333,
              "#9c179e"
             ],
             [
              0.4444444444444444,
              "#bd3786"
             ],
             [
              0.5555555555555556,
              "#d8576b"
             ],
             [
              0.6666666666666666,
              "#ed7953"
             ],
             [
              0.7777777777777778,
              "#fb9f3a"
             ],
             [
              0.8888888888888888,
              "#fdca26"
             ],
             [
              1,
              "#f0f921"
             ]
            ],
            "type": "histogram2dcontour"
           }
          ],
          "mesh3d": [
           {
            "colorbar": {
             "outlinewidth": 0,
             "ticks": ""
            },
            "type": "mesh3d"
           }
          ],
          "parcoords": [
           {
            "line": {
             "colorbar": {
              "outlinewidth": 0,
              "ticks": ""
             }
            },
            "type": "parcoords"
           }
          ],
          "pie": [
           {
            "automargin": true,
            "type": "pie"
           }
          ],
          "scatter": [
           {
            "fillpattern": {
             "fillmode": "overlay",
             "size": 10,
             "solidity": 0.2
            },
            "type": "scatter"
           }
          ],
          "scatter3d": [
           {
            "line": {
             "colorbar": {
              "outlinewidth": 0,
              "ticks": ""
             }
            },
            "marker": {
             "colorbar": {
              "outlinewidth": 0,
              "ticks": ""
             }
            },
            "type": "scatter3d"
           }
          ],
          "scattercarpet": [
           {
            "marker": {
             "colorbar": {
              "outlinewidth": 0,
              "ticks": ""
             }
            },
            "type": "scattercarpet"
           }
          ],
          "scattergeo": [
           {
            "marker": {
             "colorbar": {
              "outlinewidth": 0,
              "ticks": ""
             }
            },
            "type": "scattergeo"
           }
          ],
          "scattergl": [
           {
            "marker": {
             "colorbar": {
              "outlinewidth": 0,
              "ticks": ""
             }
            },
            "type": "scattergl"
           }
          ],
          "scattermapbox": [
           {
            "marker": {
             "colorbar": {
              "outlinewidth": 0,
              "ticks": ""
             }
            },
            "type": "scattermapbox"
           }
          ],
          "scatterpolar": [
           {
            "marker": {
             "colorbar": {
              "outlinewidth": 0,
              "ticks": ""
             }
            },
            "type": "scatterpolar"
           }
          ],
          "scatterpolargl": [
           {
            "marker": {
             "colorbar": {
              "outlinewidth": 0,
              "ticks": ""
             }
            },
            "type": "scatterpolargl"
           }
          ],
          "scatterternary": [
           {
            "marker": {
             "colorbar": {
              "outlinewidth": 0,
              "ticks": ""
             }
            },
            "type": "scatterternary"
           }
          ],
          "surface": [
           {
            "colorbar": {
             "outlinewidth": 0,
             "ticks": ""
            },
            "colorscale": [
             [
              0,
              "#0d0887"
             ],
             [
              0.1111111111111111,
              "#46039f"
             ],
             [
              0.2222222222222222,
              "#7201a8"
             ],
             [
              0.3333333333333333,
              "#9c179e"
             ],
             [
              0.4444444444444444,
              "#bd3786"
             ],
             [
              0.5555555555555556,
              "#d8576b"
             ],
             [
              0.6666666666666666,
              "#ed7953"
             ],
             [
              0.7777777777777778,
              "#fb9f3a"
             ],
             [
              0.8888888888888888,
              "#fdca26"
             ],
             [
              1,
              "#f0f921"
             ]
            ],
            "type": "surface"
           }
          ],
          "table": [
           {
            "cells": {
             "fill": {
              "color": "#EBF0F8"
             },
             "line": {
              "color": "white"
             }
            },
            "header": {
             "fill": {
              "color": "#C8D4E3"
             },
             "line": {
              "color": "white"
             }
            },
            "type": "table"
           }
          ]
         },
         "layout": {
          "annotationdefaults": {
           "arrowcolor": "#2a3f5f",
           "arrowhead": 0,
           "arrowwidth": 1
          },
          "autotypenumbers": "strict",
          "coloraxis": {
           "colorbar": {
            "outlinewidth": 0,
            "ticks": ""
           }
          },
          "colorscale": {
           "diverging": [
            [
             0,
             "#8e0152"
            ],
            [
             0.1,
             "#c51b7d"
            ],
            [
             0.2,
             "#de77ae"
            ],
            [
             0.3,
             "#f1b6da"
            ],
            [
             0.4,
             "#fde0ef"
            ],
            [
             0.5,
             "#f7f7f7"
            ],
            [
             0.6,
             "#e6f5d0"
            ],
            [
             0.7,
             "#b8e186"
            ],
            [
             0.8,
             "#7fbc41"
            ],
            [
             0.9,
             "#4d9221"
            ],
            [
             1,
             "#276419"
            ]
           ],
           "sequential": [
            [
             0,
             "#0d0887"
            ],
            [
             0.1111111111111111,
             "#46039f"
            ],
            [
             0.2222222222222222,
             "#7201a8"
            ],
            [
             0.3333333333333333,
             "#9c179e"
            ],
            [
             0.4444444444444444,
             "#bd3786"
            ],
            [
             0.5555555555555556,
             "#d8576b"
            ],
            [
             0.6666666666666666,
             "#ed7953"
            ],
            [
             0.7777777777777778,
             "#fb9f3a"
            ],
            [
             0.8888888888888888,
             "#fdca26"
            ],
            [
             1,
             "#f0f921"
            ]
           ],
           "sequentialminus": [
            [
             0,
             "#0d0887"
            ],
            [
             0.1111111111111111,
             "#46039f"
            ],
            [
             0.2222222222222222,
             "#7201a8"
            ],
            [
             0.3333333333333333,
             "#9c179e"
            ],
            [
             0.4444444444444444,
             "#bd3786"
            ],
            [
             0.5555555555555556,
             "#d8576b"
            ],
            [
             0.6666666666666666,
             "#ed7953"
            ],
            [
             0.7777777777777778,
             "#fb9f3a"
            ],
            [
             0.8888888888888888,
             "#fdca26"
            ],
            [
             1,
             "#f0f921"
            ]
           ]
          },
          "colorway": [
           "#636efa",
           "#EF553B",
           "#00cc96",
           "#ab63fa",
           "#FFA15A",
           "#19d3f3",
           "#FF6692",
           "#B6E880",
           "#FF97FF",
           "#FECB52"
          ],
          "font": {
           "color": "#2a3f5f"
          },
          "geo": {
           "bgcolor": "white",
           "lakecolor": "white",
           "landcolor": "#E5ECF6",
           "showlakes": true,
           "showland": true,
           "subunitcolor": "white"
          },
          "hoverlabel": {
           "align": "left"
          },
          "hovermode": "closest",
          "mapbox": {
           "style": "light"
          },
          "paper_bgcolor": "white",
          "plot_bgcolor": "#E5ECF6",
          "polar": {
           "angularaxis": {
            "gridcolor": "white",
            "linecolor": "white",
            "ticks": ""
           },
           "bgcolor": "#E5ECF6",
           "radialaxis": {
            "gridcolor": "white",
            "linecolor": "white",
            "ticks": ""
           }
          },
          "scene": {
           "xaxis": {
            "backgroundcolor": "#E5ECF6",
            "gridcolor": "white",
            "gridwidth": 2,
            "linecolor": "white",
            "showbackground": true,
            "ticks": "",
            "zerolinecolor": "white"
           },
           "yaxis": {
            "backgroundcolor": "#E5ECF6",
            "gridcolor": "white",
            "gridwidth": 2,
            "linecolor": "white",
            "showbackground": true,
            "ticks": "",
            "zerolinecolor": "white"
           },
           "zaxis": {
            "backgroundcolor": "#E5ECF6",
            "gridcolor": "white",
            "gridwidth": 2,
            "linecolor": "white",
            "showbackground": true,
            "ticks": "",
            "zerolinecolor": "white"
           }
          },
          "shapedefaults": {
           "line": {
            "color": "#2a3f5f"
           }
          },
          "ternary": {
           "aaxis": {
            "gridcolor": "white",
            "linecolor": "white",
            "ticks": ""
           },
           "baxis": {
            "gridcolor": "white",
            "linecolor": "white",
            "ticks": ""
           },
           "bgcolor": "#E5ECF6",
           "caxis": {
            "gridcolor": "white",
            "linecolor": "white",
            "ticks": ""
           }
          },
          "title": {
           "x": 0.05
          },
          "xaxis": {
           "automargin": true,
           "gridcolor": "white",
           "linecolor": "white",
           "ticks": "",
           "title": {
            "standoff": 15
           },
           "zerolinecolor": "white",
           "zerolinewidth": 2
          },
          "yaxis": {
           "automargin": true,
           "gridcolor": "white",
           "linecolor": "white",
           "ticks": "",
           "title": {
            "standoff": 15
           },
           "zerolinecolor": "white",
           "zerolinewidth": 2
          }
         }
        },
        "title": {
         "text": "REGRESION<br>R2: 0.8941176470588236 RMSE: 2.1213203435596424"
        }
       }
      }
     },
     "metadata": {},
     "output_type": "display_data"
    }
   ],
   "source": [
    "# Predecir valores para el plano de regresión\n",
    "x1_range = np.linspace(min(X['width']), max(X['width']), 20)\n",
    "x2_range = np.linspace(min(X['shoe_size']), max(X['shoe_size']), 20)\n",
    "x1_mesh, x2_mesh = np.meshgrid(x1_range, x2_range)\n",
    "y_mesh = lr_first.predict(np.vstack((x1_mesh.ravel(), x2_mesh.ravel())).T).reshape(x1_mesh.shape)\n",
    "\n",
    "# Crear scatterplot 3D de los puntos\n",
    "scatter = go.Scatter3d(\n",
    "    x=X['width'], y=X['shoe_size'], z=y,\n",
    "    mode='markers',\n",
    "    marker=dict(size=8, color='red')\n",
    ")\n",
    "\n",
    "# Crear el plano de regresión\n",
    "surface = go.Surface(\n",
    "    x=x1_mesh, y=x2_mesh, z=y_mesh,\n",
    "    colorscale='Viridis', opacity=0.5\n",
    ")\n",
    "\n",
    "# Configuración del layout\n",
    "layout = go.Layout(\n",
    "    title=f\"REGRESION<br>R2: {r2_score(y_test_f, pred_first)} RMSE: {root_mean_squared_error(y_test_f, pred_first)}\",\n",
    "    scene=dict(\n",
    "        xaxis_title='Variable X1',\n",
    "        yaxis_title='Variable X2',\n",
    "        zaxis_title='Variable Y'\n",
    "    )\n",
    ")\n",
    "\n",
    "# Crear la figura\n",
    "fig = go.Figure(data=[scatter, surface], layout=layout)\n",
    "\n",
    "# Mostrar la figura interactiva\n",
    "fig.show()\n"
   ]
  },
  {
   "cell_type": "markdown",
   "metadata": {},
   "source": [
    "**¿Por qué seleccionaste ese modelo?**\n",
    "\n",
    "Al tener pocos datos decidimos hacer una regresión simple ya que es un modelo fácil de interpretar y de aplicar. Modelos más complejos pueden sobreajustar los datos sobretodo con la poca cantidad de datos que hay."
   ]
  },
  {
   "cell_type": "markdown",
   "metadata": {},
   "source": [
    "**¿Utilizaste alguna regularización?**\n",
    "\n",
    "No, se hizo una regresión lineal simple, sin regularización."
   ]
  },
  {
   "cell_type": "markdown",
   "metadata": {},
   "source": [
    "## Parte 2"
   ]
  },
  {
   "cell_type": "markdown",
   "metadata": {},
   "source": [
    "### Modelo Iteso"
   ]
  },
  {
   "cell_type": "code",
   "execution_count": 13,
   "metadata": {},
   "outputs": [],
   "source": [
    "path = \"datos_gente_1.csv\"\n",
    "\n",
    "df_comb = pd.read_csv(path)"
   ]
  },
  {
   "cell_type": "code",
   "execution_count": 14,
   "metadata": {},
   "outputs": [
    {
     "data": {
      "text/plain": [
       "array([[<Axes: title={'center': 'height'}>,\n",
       "        <Axes: title={'center': 'width'}>],\n",
       "       [<Axes: title={'center': 'shoe_size'}>, <Axes: >]], dtype=object)"
      ]
     },
     "execution_count": 14,
     "metadata": {},
     "output_type": "execute_result"
    },
    {
     "data": {
      "image/png": "[encoded data removed]",
      "text/plain": [
       "<Figure size 640x480 with 4 Axes>"
      ]
     },
     "metadata": {},
     "output_type": "display_data"
    }
   ],
   "source": [
    "df_comb.hist(bins=20)"
   ]
  },
  {
   "cell_type": "code",
   "execution_count": 15,
   "metadata": {},
   "outputs": [],
   "source": [
    "X = df_comb[[\"width\", \"shoe_size\"]]\n",
    "y = df_comb[\"height\"]"
   ]
  },
  {
   "cell_type": "code",
   "execution_count": 16,
   "metadata": {},
   "outputs": [
    {
     "data": {
      "text/plain": [
       "<matplotlib.collections.PathCollection at 0x295b8916810>"
      ]
     },
     "execution_count": 16,
     "metadata": {},
     "output_type": "execute_result"
    },
    {
     "data": {
      "image/png": "[encoded data removed]",
      "text/plain": [
       "<Figure size 640x480 with 1 Axes>"
      ]
     },
     "metadata": {},
     "output_type": "display_data"
    }
   ],
   "source": [
    "plt.scatter(df_comb[\"shoe_size\"], df_comb[\"height\"])"
   ]
  },
  {
   "cell_type": "code",
   "execution_count": 17,
   "metadata": {},
   "outputs": [
    {
     "name": "stdout",
     "output_type": "stream",
     "text": [
      "165\n",
      "175.0\n"
     ]
    }
   ],
   "source": [
    "q25 = 165\n",
    "q75 = np.quantile(y, 0.75)\n",
    "\n",
    "print(q25)\n",
    "print(q75)\n",
    "\n",
    "df_left = df_comb[df_comb[\"height\"] <= q25]\n",
    "df_right = df_comb[df_comb[\"height\"] >= q75]\n",
    "df_center = df_comb[(df_comb[\"height\"] >= q25) & (df_comb[\"height\"] <= q75)] "
   ]
  },
  {
   "cell_type": "code",
   "execution_count": 18,
   "metadata": {},
   "outputs": [],
   "source": [
    "def sintetizar_datos(df_a_combinar, df_new):\n",
    "    X_left = df_new[[\"width\", \"shoe_size\"]]\n",
    "    y_left = df_new[\"height\"]\n",
    "\n",
    "    w_m = np.mean(df_new[\"width\"])\n",
    "    s_m = np.mean(df_new[\"shoe_size\"])\n",
    "    h_m = np.mean(df_new[\"height\"])\n",
    "\n",
    "    w_s = np.std(df_new[\"width\"])\n",
    "    s_s = np.std(df_new[\"shoe_size\"])\n",
    "    h_s = np.std(df_new[\"height\"])\n",
    "\n",
    "    new_data_w = np.random.normal(loc=w_m, scale=w_s, size=100)\n",
    "    new_data_s = np.random.normal(loc=s_m, scale=s_s, size=100)\n",
    "    new_data_h = np.random.normal(loc=h_m, scale=h_s, size=100)\n",
    "\n",
    "    new_sorted_w = sorted(new_data_w)\n",
    "    new_sorted_s = sorted(new_data_s)\n",
    "    new_sorted_h = sorted(new_data_h)\n",
    "\n",
    "    df_new_1 = pd.DataFrame({\n",
    "        \"width\": new_sorted_w,\n",
    "        \"shoe_size\": new_sorted_s,\n",
    "        \"height\": new_sorted_h\n",
    "    })\n",
    "\n",
    "    df_new_1 = df_new_1.apply(lambda x: round(x, 0))\n",
    "\n",
    "    df_a_combinar = pd.concat([df_a_combinar, df_new_1])\n",
    "    return df_a_combinar"
   ]
  },
  {
   "cell_type": "code",
   "execution_count": 19,
   "metadata": {},
   "outputs": [],
   "source": [
    "data_left = sintetizar_datos(df_comb, df_left)\n",
    "data_right = sintetizar_datos(df_comb, df_right)"
   ]
  },
  {
   "cell_type": "code",
   "execution_count": 20,
   "metadata": {},
   "outputs": [
    {
     "data": {
      "text/plain": [
       "167.94805386373005"
      ]
     },
     "execution_count": 20,
     "metadata": {},
     "output_type": "execute_result"
    }
   ],
   "source": [
    "data_left.mean().iloc[0] + (data_left.std().iloc[0] / 2)"
   ]
  },
  {
   "cell_type": "code",
   "execution_count": 21,
   "metadata": {},
   "outputs": [
    {
     "data": {
      "text/plain": [
       "(array([[<Axes: title={'center': 'height'}>,\n",
       "         <Axes: title={'center': 'width'}>],\n",
       "        [<Axes: title={'center': 'shoe_size'}>, <Axes: >]], dtype=object),\n",
       " array([[<Axes: title={'center': 'height'}>,\n",
       "         <Axes: title={'center': 'width'}>],\n",
       "        [<Axes: title={'center': 'shoe_size'}>, <Axes: >]], dtype=object),\n",
       " array([[<Axes: title={'center': 'height'}>,\n",
       "         <Axes: title={'center': 'width'}>],\n",
       "        [<Axes: title={'center': 'shoe_size'}>, <Axes: >]], dtype=object))"
      ]
     },
     "execution_count": 21,
     "metadata": {},
     "output_type": "execute_result"
    },
    {
     "data": {
      "image/png": "[encoded data removed]",
      "text/plain": [
       "<Figure size 640x480 with 4 Axes>"
      ]
     },
     "metadata": {},
     "output_type": "display_data"
    },
    {
     "data": {
      "image/png": "[encoded data removed]",
      "text/plain": [
       "<Figure size 640x480 with 4 Axes>"
      ]
     },
     "metadata": {},
     "output_type": "display_data"
    },
    {
     "data": {
      "image/png": "[encoded data removed]",
      "text/plain": [
       "<Figure size 640x480 with 4 Axes>"
      ]
     },
     "metadata": {},
     "output_type": "display_data"
    }
   ],
   "source": [
    "data_left.hist(), data_right.hist(), df_center.hist()"
   ]
  },
  {
   "cell_type": "code",
   "execution_count": 22,
   "metadata": {},
   "outputs": [],
   "source": [
    "x_train_left, x_test_left, y_train_left, y_test_left = train_test_split(data_left.drop(\"height\", axis=1), data_left[\"height\"], test_size= 0.2, random_state=55)\n",
    "x_train_right, x_test_right, y_train_right, y_test_right = train_test_split(data_right.drop(\"height\", axis=1), data_right[\"height\"], test_size= 0.2, random_state=55)\n",
    "x_train_center, x_test_center, y_train_center, y_test_center = train_test_split(df_comb.drop(\"height\", axis=1), df_comb[\"height\"], test_size= 0.2, random_state=55)"
   ]
  },
  {
   "cell_type": "code",
   "execution_count": 23,
   "metadata": {},
   "outputs": [],
   "source": [
    "ss_left = StandardScaler()\n",
    "ss_right = StandardScaler()\n",
    "ss_center = StandardScaler()\n",
    "\n",
    "\n",
    "X_train_s_left = ss_left.fit_transform(x_train_left)\n",
    "X_test_s_left = ss_left.transform(x_test_left)\n",
    "\n",
    "X_train_s_right = ss_right.fit_transform(x_train_right)\n",
    "X_test_s_right = ss_right.transform(x_test_right)\n",
    "\n",
    "X_train_s_center = ss_center.fit_transform(x_train_center)\n",
    "X_test_s_center = ss_center.transform(x_test_center)"
   ]
  },
  {
   "cell_type": "markdown",
   "metadata": {},
   "source": [
    "### Right model\n",
    "\n",
    "Aqui se crea el modelo que predice de manera más adecuada los valores de la derecha"
   ]
  },
  {
   "cell_type": "code",
   "execution_count": 24,
   "metadata": {},
   "outputs": [
    {
     "name": "stdout",
     "output_type": "stream",
     "text": [
      "R2: 0.848618065304442 RMSE: 3.382822610294069\n"
     ]
    }
   ],
   "source": [
    "rg_r = Ridge(alpha = 10)\n",
    "rg_r.fit(X_train_s_right, y_train_right)\n",
    "r_pred_right = rg_r.predict(X_test_s_right)\n",
    "print(f\"R2: {r2_score(y_test_right, r_pred_right)} RMSE: {root_mean_squared_error(y_test_right, r_pred_right)}\")"
   ]
  },
  {
   "cell_type": "code",
   "execution_count": 25,
   "metadata": {},
   "outputs": [
    {
     "name": "stdout",
     "output_type": "stream",
     "text": [
      "Pendientes: [1.91194684 6.85212794]\n",
      "Intercepto: 175.00671140939596\n"
     ]
    }
   ],
   "source": [
    "print(f\"Pendientes: {rg_r.coef_}\")\n",
    "print(f\"Intercepto: {rg_r.intercept_}\")"
   ]
  },
  {
   "cell_type": "code",
   "execution_count": 26,
   "metadata": {},
   "outputs": [
    {
     "name": "stderr",
     "output_type": "stream",
     "text": [
      "c:\\Users\\Roi_f\\anaconda3\\envs\\personal\\Lib\\site-packages\\sklearn\\base.py:493: UserWarning:\n",
      "\n",
      "X does not have valid feature names, but StandardScaler was fitted with feature names\n",
      "\n"
     ]
    }
   ],
   "source": [
    "values_para_right = ss_right.transform([[36,22.5]])"
   ]
  },
  {
   "cell_type": "code",
   "execution_count": 27,
   "metadata": {},
   "outputs": [
    {
     "data": {
      "text/plain": [
       "array([155.84194233])"
      ]
     },
     "execution_count": 27,
     "metadata": {},
     "output_type": "execute_result"
    }
   ],
   "source": [
    "rg_r.predict(values_para_right)"
   ]
  },
  {
   "cell_type": "code",
   "execution_count": 28,
   "metadata": {},
   "outputs": [
    {
     "name": "stderr",
     "output_type": "stream",
     "text": [
      "c:\\Users\\Roi_f\\anaconda3\\envs\\personal\\Lib\\site-packages\\sklearn\\base.py:493: UserWarning:\n",
      "\n",
      "X does not have valid feature names, but StandardScaler was fitted with feature names\n",
      "\n"
     ]
    },
    {
     "data": {
      "application/vnd.plotly.v1+json": {
       "config": {
        "plotlyServerURL": "https://plot.ly"
       },
       "data": [
        {
         "marker": {
          "color": "red",
          "opacity": 0.7,
          "size": 8
         },
         "mode": "markers",
         "type": "scatter3d",
         "x": [
          46,
          50,
          56,
          54,
          53,
          50,
          46,
          46,
          36,
          50,
          42,
          47,
          52,
          43,
          43,
          39,
          51,
          36,
          43,
          58,
          42,
          52,
          41,
          48,
          45,
          47,
          47,
          48,
          42,
          51,
          47,
          50,
          49,
          61,
          47,
          49,
          41,
          54
         ],
         "y": [
          28,
          28,
          30,
          29,
          29,
          29,
          28,
          28,
          23,
          29,
          26,
          28,
          29,
          27,
          27,
          24.5,
          29,
          22.5,
          28,
          30,
          27,
          29,
          23.5,
          28,
          27.5,
          28,
          27,
          27,
          28,
          29,
          28,
          29,
          28,
          26,
          28,
          27,
          27,
          29
         ],
         "z": [
          179,
          173,
          191,
          187,
          186,
          183,
          179,
          180,
          164,
          183,
          170,
          180,
          185,
          176,
          176,
          166,
          185,
          153,
          182,
          191,
          177,
          185,
          153,
          182,
          172,
          180,
          168,
          172,
          177,
          184,
          180,
          184,
          182,
          168,
          180,
          176,
          175,
          187
         ]
        },
        {
         "colorscale": [
          [
           0,
           "#440154"
          ],
          [
           0.1111111111111111,
           "#482878"
          ],
          [
           0.2222222222222222,
           "#3e4989"
          ],
          [
           0.3333333333333333,
           "#31688e"
          ],
          [
           0.4444444444444444,
           "#26828e"
          ],
          [
           0.5555555555555556,
           "#1f9e89"
          ],
          [
           0.6666666666666666,
           "#35b779"
          ],
          [
           0.7777777777777778,
           "#6ece58"
          ],
          [
           0.8888888888888888,
           "#b5de2b"
          ],
          [
           1,
           "#fde725"
          ]
         ],
         "opacity": 0.5,
         "type": "surface",
         "x": [
          [
           33,
           34.36842105263158,
           35.73684210526316,
           37.10526315789474,
           38.473684210526315,
           39.8421052631579,
           41.21052631578947,
           42.578947368421055,
           43.94736842105263,
           45.31578947368421,
           46.68421052631579,
           48.05263157894737,
           49.421052631578945,
           50.78947368421053,
           52.15789473684211,
           53.526315789473685,
           54.89473684210526,
           56.26315789473684,
           57.631578947368425,
           59
          ],
          [
           33,
           34.36842105263158,
           35.73684210526316,
           37.10526315789474,
           38.473684210526315,
           39.8421052631579,
           41.21052631578947,
           42.578947368421055,
           43.94736842105263,
           45.31578947368421,
           46.68421052631579,
           48.05263157894737,
           49.421052631578945,
           50.78947368421053,
           52.15789473684211,
           53.526315789473685,
           54.89473684210526,
           56.26315789473684,
           57.631578947368425,
           59
          ],
          [
           33,
           34.36842105263158,
           35.73684210526316,
           37.10526315789474,
           38.473684210526315,
           39.8421052631579,
           41.21052631578947,
           42.578947368421055,
           43.94736842105263,
           45.31578947368421,
           46.68421052631579,
           48.05263157894737,
           49.421052631578945,
           50.78947368421053,
           52.15789473684211,
           53.526315789473685,
           54.89473684210526,
           56.26315789473684,
           57.631578947368425,
           59
          ],
          [
           33,
           34.36842105263158,
           35.73684210526316,
           37.10526315789474,
           38.473684210526315,
           39.8421052631579,
           41.21052631578947,
           42.578947368421055,
           43.94736842105263,
           45.31578947368421,
           46.68421052631579,
           48.05263157894737,
           49.421052631578945,
           50.78947368421053,
           52.15789473684211,
           53.526315789473685,
           54.89473684210526,
           56.26315789473684,
           57.631578947368425,
           59
          ],
          [
           33,
           34.36842105263158,
           35.73684210526316,
           37.10526315789474,
           38.473684210526315,
           39.8421052631579,
           41.21052631578947,
           42.578947368421055,
           43.94736842105263,
           45.31578947368421,
           46.68421052631579,
           48.05263157894737,
           49.421052631578945,
           50.78947368421053,
           52.15789473684211,
           53.526315789473685,
           54.89473684210526,
           56.26315789473684,
           57.631578947368425,
           59
          ],
          [
           33,
           34.36842105263158,
           35.73684210526316,
           37.10526315789474,
           38.473684210526315,
           39.8421052631579,
           41.21052631578947,
           42.578947368421055,
           43.94736842105263,
           45.31578947368421,
           46.68421052631579,
           48.05263157894737,
           49.421052631578945,
           50.78947368421053,
           52.15789473684211,
           53.526315789473685,
           54.89473684210526,
           56.26315789473684,
           57.631578947368425,
           59
          ],
          [
           33,
           34.36842105263158,
           35.73684210526316,
           37.10526315789474,
           38.473684210526315,
           39.8421052631579,
           41.21052631578947,
           42.578947368421055,
           43.94736842105263,
           45.31578947368421,
           46.68421052631579,
           48.05263157894737,
           49.421052631578945,
           50.78947368421053,
           52.15789473684211,
           53.526315789473685,
           54.89473684210526,
           56.26315789473684,
           57.631578947368425,
           59
          ],
          [
           33,
           34.36842105263158,
           35.73684210526316,
           37.10526315789474,
           38.473684210526315,
           39.8421052631579,
           41.21052631578947,
           42.578947368421055,
           43.94736842105263,
           45.31578947368421,
           46.68421052631579,
           48.05263157894737,
           49.421052631578945,
           50.78947368421053,
           52.15789473684211,
           53.526315789473685,
           54.89473684210526,
           56.26315789473684,
           57.631578947368425,
           59
          ],
          [
           33,
           34.36842105263158,
           35.73684210526316,
           37.10526315789474,
           38.473684210526315,
           39.8421052631579,
           41.21052631578947,
           42.578947368421055,
           43.94736842105263,
           45.31578947368421,
           46.68421052631579,
           48.05263157894737,
           49.421052631578945,
           50.78947368421053,
           52.15789473684211,
           53.526315789473685,
           54.89473684210526,
           56.26315789473684,
           57.631578947368425,
           59
          ],
          [
           33,
           34.36842105263158,
           35.73684210526316,
           37.10526315789474,
           38.473684210526315,
           39.8421052631579,
           41.21052631578947,
           42.578947368421055,
           43.94736842105263,
           45.31578947368421,
           46.68421052631579,
           48.05263157894737,
           49.421052631578945,
           50.78947368421053,
           52.15789473684211,
           53.526315789473685,
           54.89473684210526,
           56.26315789473684,
           57.631578947368425,
           59
          ],
          [
           33,
           34.36842105263158,
           35.73684210526316,
           37.10526315789474,
           38.473684210526315,
           39.8421052631579,
           41.21052631578947,
           42.578947368421055,
           43.94736842105263,
           45.31578947368421,
           46.68421052631579,
           48.05263157894737,
           49.421052631578945,
           50.78947368421053,
           52.15789473684211,
           53.526315789473685,
           54.89473684210526,
           56.26315789473684,
           57.631578947368425,
           59
          ],
          [
           33,
           34.36842105263158,
           35.73684210526316,
           37.10526315789474,
           38.473684210526315,
           39.8421052631579,
           41.21052631578947,
           42.578947368421055,
           43.94736842105263,
           45.31578947368421,
           46.68421052631579,
           48.05263157894737,
           49.421052631578945,
           50.78947368421053,
           52.15789473684211,
           53.526315789473685,
           54.89473684210526,
           56.26315789473684,
           57.631578947368425,
           59
          ],
          [
           33,
           34.36842105263158,
           35.73684210526316,
           37.10526315789474,
           38.473684210526315,
           39.8421052631579,
           41.21052631578947,
           42.578947368421055,
           43.94736842105263,
           45.31578947368421,
           46.68421052631579,
           48.05263157894737,
           49.421052631578945,
           50.78947368421053,
           52.15789473684211,
           53.526315789473685,
           54.89473684210526,
           56.26315789473684,
           57.631578947368425,
           59
          ],
          [
           33,
           34.36842105263158,
           35.73684210526316,
           37.10526315789474,
           38.473684210526315,
           39.8421052631579,
           41.21052631578947,
           42.578947368421055,
           43.94736842105263,
           45.31578947368421,
           46.68421052631579,
           48.05263157894737,
           49.421052631578945,
           50.78947368421053,
           52.15789473684211,
           53.526315789473685,
           54.89473684210526,
           56.26315789473684,
           57.631578947368425,
           59
          ],
          [
           33,
           34.36842105263158,
           35.73684210526316,
           37.10526315789474,
           38.473684210526315,
           39.8421052631579,
           41.21052631578947,
           42.578947368421055,
           43.94736842105263,
           45.31578947368421,
           46.68421052631579,
           48.05263157894737,
           49.421052631578945,
           50.78947368421053,
           52.15789473684211,
           53.526315789473685,
           54.89473684210526,
           56.26315789473684,
           57.631578947368425,
           59
          ],
          [
           33,
           34.36842105263158,
           35.73684210526316,
           37.10526315789474,
           38.473684210526315,
           39.8421052631579,
           41.21052631578947,
           42.578947368421055,
           43.94736842105263,
           45.31578947368421,
           46.68421052631579,
           48.05263157894737,
           49.421052631578945,
           50.78947368421053,
           52.15789473684211,
           53.526315789473685,
           54.89473684210526,
           56.26315789473684,
           57.631578947368425,
           59
          ],
          [
           33,
           34.36842105263158,
           35.73684210526316,
           37.10526315789474,
           38.473684210526315,
           39.8421052631579,
           41.21052631578947,
           42.578947368421055,
           43.94736842105263,
           45.31578947368421,
           46.68421052631579,
           48.05263157894737,
           49.421052631578945,
           50.78947368421053,
           52.15789473684211,
           53.526315789473685,
           54.89473684210526,
           56.26315789473684,
           57.631578947368425,
           59
          ],
          [
           33,
           34.36842105263158,
           35.73684210526316,
           37.10526315789474,
           38.473684210526315,
           39.8421052631579,
           41.21052631578947,
           42.578947368421055,
           43.94736842105263,
           45.31578947368421,
           46.68421052631579,
           48.05263157894737,
           49.421052631578945,
           50.78947368421053,
           52.15789473684211,
           53.526315789473685,
           54.89473684210526,
           56.26315789473684,
           57.631578947368425,
           59
          ],
          [
           33,
           34.36842105263158,
           35.73684210526316,
           37.10526315789474,
           38.473684210526315,
           39.8421052631579,
           41.21052631578947,
           42.578947368421055,
           43.94736842105263,
           45.31578947368421,
           46.68421052631579,
           48.05263157894737,
           49.421052631578945,
           50.78947368421053,
           52.15789473684211,
           53.526315789473685,
           54.89473684210526,
           56.26315789473684,
           57.631578947368425,
           59
          ],
          [
           33,
           34.36842105263158,
           35.73684210526316,
           37.10526315789474,
           38.473684210526315,
           39.8421052631579,
           41.21052631578947,
           42.578947368421055,
           43.94736842105263,
           45.31578947368421,
           46.68421052631579,
           48.05263157894737,
           49.421052631578945,
           50.78947368421053,
           52.15789473684211,
           53.526315789473685,
           54.89473684210526,
           56.26315789473684,
           57.631578947368425,
           59
          ]
         ],
         "y": [
          [
           22,
           22,
           22,
           22,
           22,
           22,
           22,
           22,
           22,
           22,
           22,
           22,
           22,
           22,
           22,
           22,
           22,
           22,
           22,
           22
          ],
          [
           22.42105263157895,
           22.42105263157895,
           22.42105263157895,
           22.42105263157895,
           22.42105263157895,
           22.42105263157895,
           22.42105263157895,
           22.42105263157895,
           22.42105263157895,
           22.42105263157895,
           22.42105263157895,
           22.42105263157895,
           22.42105263157895,
           22.42105263157895,
           22.42105263157895,
           22.42105263157895,
           22.42105263157895,
           22.42105263157895,
           22.42105263157895,
           22.42105263157895
          ],
          [
           22.842105263157894,
           22.842105263157894,
           22.842105263157894,
           22.842105263157894,
           22.842105263157894,
           22.842105263157894,
           22.842105263157894,
           22.842105263157894,
           22.842105263157894,
           22.842105263157894,
           22.842105263157894,
           22.842105263157894,
           22.842105263157894,
           22.842105263157894,
           22.842105263157894,
           22.842105263157894,
           22.842105263157894,
           22.842105263157894,
           22.842105263157894,
           22.842105263157894
          ],
          [
           23.263157894736842,
           23.263157894736842,
           23.263157894736842,
           23.263157894736842,
           23.263157894736842,
           23.263157894736842,
           23.263157894736842,
           23.263157894736842,
           23.263157894736842,
           23.263157894736842,
           23.263157894736842,
           23.263157894736842,
           23.263157894736842,
           23.263157894736842,
           23.263157894736842,
           23.263157894736842,
           23.263157894736842,
           23.263157894736842,
           23.263157894736842,
           23.263157894736842
          ],
          [
           23.684210526315788,
           23.684210526315788,
           23.684210526315788,
           23.684210526315788,
           23.684210526315788,
           23.684210526315788,
           23.684210526315788,
           23.684210526315788,
           23.684210526315788,
           23.684210526315788,
           23.684210526315788,
           23.684210526315788,
           23.684210526315788,
           23.684210526315788,
           23.684210526315788,
           23.684210526315788,
           23.684210526315788,
           23.684210526315788,
           23.684210526315788,
           23.684210526315788
          ],
          [
           24.105263157894736,
           24.105263157894736,
           24.105263157894736,
           24.105263157894736,
           24.105263157894736,
           24.105263157894736,
           24.105263157894736,
           24.105263157894736,
           24.105263157894736,
           24.105263157894736,
           24.105263157894736,
           24.105263157894736,
           24.105263157894736,
           24.105263157894736,
           24.105263157894736,
           24.105263157894736,
           24.105263157894736,
           24.105263157894736,
           24.105263157894736,
           24.105263157894736
          ],
          [
           24.526315789473685,
           24.526315789473685,
           24.526315789473685,
           24.526315789473685,
           24.526315789473685,
           24.526315789473685,
           24.526315789473685,
           24.526315789473685,
           24.526315789473685,
           24.526315789473685,
           24.526315789473685,
           24.526315789473685,
           24.526315789473685,
           24.526315789473685,
           24.526315789473685,
           24.526315789473685,
           24.526315789473685,
           24.526315789473685,
           24.526315789473685,
           24.526315789473685
          ],
          [
           24.94736842105263,
           24.94736842105263,
           24.94736842105263,
           24.94736842105263,
           24.94736842105263,
           24.94736842105263,
           24.94736842105263,
           24.94736842105263,
           24.94736842105263,
           24.94736842105263,
           24.94736842105263,
           24.94736842105263,
           24.94736842105263,
           24.94736842105263,
           24.94736842105263,
           24.94736842105263,
           24.94736842105263,
           24.94736842105263,
           24.94736842105263,
           24.94736842105263
          ],
          [
           25.36842105263158,
           25.36842105263158,
           25.36842105263158,
           25.36842105263158,
           25.36842105263158,
           25.36842105263158,
           25.36842105263158,
           25.36842105263158,
           25.36842105263158,
           25.36842105263158,
           25.36842105263158,
           25.36842105263158,
           25.36842105263158,
           25.36842105263158,
           25.36842105263158,
           25.36842105263158,
           25.36842105263158,
           25.36842105263158,
           25.36842105263158,
           25.36842105263158
          ],
          [
           25.789473684210527,
           25.789473684210527,
           25.789473684210527,
           25.789473684210527,
           25.789473684210527,
           25.789473684210527,
           25.789473684210527,
           25.789473684210527,
           25.789473684210527,
           25.789473684210527,
           25.789473684210527,
           25.789473684210527,
           25.789473684210527,
           25.789473684210527,
           25.789473684210527,
           25.789473684210527,
           25.789473684210527,
           25.789473684210527,
           25.789473684210527,
           25.789473684210527
          ],
          [
           26.210526315789473,
           26.210526315789473,
           26.210526315789473,
           26.210526315789473,
           26.210526315789473,
           26.210526315789473,
           26.210526315789473,
           26.210526315789473,
           26.210526315789473,
           26.210526315789473,
           26.210526315789473,
           26.210526315789473,
           26.210526315789473,
           26.210526315789473,
           26.210526315789473,
           26.210526315789473,
           26.210526315789473,
           26.210526315789473,
           26.210526315789473,
           26.210526315789473
          ],
          [
           26.63157894736842,
           26.63157894736842,
           26.63157894736842,
           26.63157894736842,
           26.63157894736842,
           26.63157894736842,
           26.63157894736842,
           26.63157894736842,
           26.63157894736842,
           26.63157894736842,
           26.63157894736842,
           26.63157894736842,
           26.63157894736842,
           26.63157894736842,
           26.63157894736842,
           26.63157894736842,
           26.63157894736842,
           26.63157894736842,
           26.63157894736842,
           26.63157894736842
          ],
          [
           27.05263157894737,
           27.05263157894737,
           27.05263157894737,
           27.05263157894737,
           27.05263157894737,
           27.05263157894737,
           27.05263157894737,
           27.05263157894737,
           27.05263157894737,
           27.05263157894737,
           27.05263157894737,
           27.05263157894737,
           27.05263157894737,
           27.05263157894737,
           27.05263157894737,
           27.05263157894737,
           27.05263157894737,
           27.05263157894737,
           27.05263157894737,
           27.05263157894737
          ],
          [
           27.473684210526315,
           27.473684210526315,
           27.473684210526315,
           27.473684210526315,
           27.473684210526315,
           27.473684210526315,
           27.473684210526315,
           27.473684210526315,
           27.473684210526315,
           27.473684210526315,
           27.473684210526315,
           27.473684210526315,
           27.473684210526315,
           27.473684210526315,
           27.473684210526315,
           27.473684210526315,
           27.473684210526315,
           27.473684210526315,
           27.473684210526315,
           27.473684210526315
          ],
          [
           27.894736842105264,
           27.894736842105264,
           27.894736842105264,
           27.894736842105264,
           27.894736842105264,
           27.894736842105264,
           27.894736842105264,
           27.894736842105264,
           27.894736842105264,
           27.894736842105264,
           27.894736842105264,
           27.894736842105264,
           27.894736842105264,
           27.894736842105264,
           27.894736842105264,
           27.894736842105264,
           27.894736842105264,
           27.894736842105264,
           27.894736842105264,
           27.894736842105264
          ],
          [
           28.315789473684212,
           28.315789473684212,
           28.315789473684212,
           28.315789473684212,
           28.315789473684212,
           28.315789473684212,
           28.315789473684212,
           28.315789473684212,
           28.315789473684212,
           28.315789473684212,
           28.315789473684212,
           28.315789473684212,
           28.315789473684212,
           28.315789473684212,
           28.315789473684212,
           28.315789473684212,
           28.315789473684212,
           28.315789473684212,
           28.315789473684212,
           28.315789473684212
          ],
          [
           28.736842105263158,
           28.736842105263158,
           28.736842105263158,
           28.736842105263158,
           28.736842105263158,
           28.736842105263158,
           28.736842105263158,
           28.736842105263158,
           28.736842105263158,
           28.736842105263158,
           28.736842105263158,
           28.736842105263158,
           28.736842105263158,
           28.736842105263158,
           28.736842105263158,
           28.736842105263158,
           28.736842105263158,
           28.736842105263158,
           28.736842105263158,
           28.736842105263158
          ],
          [
           29.157894736842103,
           29.157894736842103,
           29.157894736842103,
           29.157894736842103,
           29.157894736842103,
           29.157894736842103,
           29.157894736842103,
           29.157894736842103,
           29.157894736842103,
           29.157894736842103,
           29.157894736842103,
           29.157894736842103,
           29.157894736842103,
           29.157894736842103,
           29.157894736842103,
           29.157894736842103,
           29.157894736842103,
           29.157894736842103,
           29.157894736842103,
           29.157894736842103
          ],
          [
           29.57894736842105,
           29.57894736842105,
           29.57894736842105,
           29.57894736842105,
           29.57894736842105,
           29.57894736842105,
           29.57894736842105,
           29.57894736842105,
           29.57894736842105,
           29.57894736842105,
           29.57894736842105,
           29.57894736842105,
           29.57894736842105,
           29.57894736842105,
           29.57894736842105,
           29.57894736842105,
           29.57894736842105,
           29.57894736842105,
           29.57894736842105,
           29.57894736842105
          ],
          [
           30,
           30,
           30,
           30,
           30,
           30,
           30,
           30,
           30,
           30,
           30,
           30,
           30,
           30,
           30,
           30,
           30,
           30,
           30,
           30
          ]
         ],
         "z": [
          [
           152.9183917401968,
           153.44316832855105,
           153.96794491690528,
           154.4927215052595,
           155.01749809361377,
           155.542274681968,
           156.06705127032222,
           156.59182785867645,
           157.1166044470307,
           157.64138103538494,
           158.16615762373917,
           158.6909342120934,
           159.21571080044765,
           159.74048738880188,
           160.2652639771561,
           160.79004056551034,
           161.3148171538646,
           161.83959374221882,
           162.36437033057305,
           162.88914691892728
          ],
          [
           154.4115107612287,
           154.93628734958295,
           155.46106393793718,
           155.9858405262914,
           156.51061711464564,
           157.0353937029999,
           157.56017029135413,
           158.08494687970835,
           158.6097234680626,
           159.13450005641684,
           159.65927664477107,
           160.1840532331253,
           160.70882982147953,
           161.23360640983378,
           161.758382998188,
           162.28315958654224,
           162.8079361748965,
           163.33271276325073,
           163.85748935160495,
           164.38226593995918
          ],
          [
           155.9046297822606,
           156.42940637061483,
           156.95418295896906,
           157.4789595473233,
           158.00373613567754,
           158.52851272403177,
           159.053289312386,
           159.57806590074026,
           160.10284248909448,
           160.6276190774487,
           161.15239566580294,
           161.6771722541572,
           162.20194884251143,
           162.72672543086566,
           163.2515020192199,
           163.77627860757414,
           164.30105519592837,
           164.8258317842826,
           165.35060837263686,
           165.87538496099108
          ],
          [
           157.3977488032925,
           157.92252539164673,
           158.44730198000096,
           158.97207856835522,
           159.49685515670944,
           160.02163174506367,
           160.5464083334179,
           161.07118492177216,
           161.5959615101264,
           162.12073809848062,
           162.64551468683484,
           163.1702912751891,
           163.69506786354333,
           164.21984445189756,
           164.74462104025181,
           165.26939762860604,
           165.79417421696027,
           166.3189508053145,
           166.84372739366876,
           167.368503982023
          ],
          [
           158.89086782432437,
           159.41564441267863,
           159.94042100103286,
           160.4651975893871,
           160.98997417774132,
           161.51475076609557,
           162.0395273544498,
           162.56430394280403,
           163.08908053115826,
           163.61385711951252,
           164.13863370786675,
           164.66341029622097,
           165.1881868845752,
           165.71296347292946,
           166.2377400612837,
           166.76251664963792,
           167.28729323799217,
           167.8120698263464,
           168.33684641470063,
           168.86162300305486
          ],
          [
           160.38398684535628,
           160.90876343371053,
           161.43354002206476,
           161.958316610419,
           162.48309319877322,
           163.00786978712748,
           163.5326463754817,
           164.05742296383593,
           164.58219955219016,
           165.10697614054442,
           165.63175272889865,
           166.15652931725288,
           166.6813059056071,
           167.20608249396136,
           167.7308590823156,
           168.25563567066982,
           168.78041225902405,
           169.3051888473783,
           169.82996543573253,
           170.35474202408676
          ],
          [
           161.87710586638818,
           162.4018824547424,
           162.92665904309666,
           163.4514356314509,
           163.97621221980512,
           164.50098880815938,
           165.0257653965136,
           165.55054198486783,
           166.07531857322206,
           166.60009516157632,
           167.12487174993055,
           167.64964833828478,
           168.174424926639,
           168.69920151499326,
           169.2239781033475,
           169.74875469170172,
           170.27353128005595,
           170.7983078684102,
           171.32308445676443,
           171.84786104511866
          ],
          [
           163.37022488742008,
           163.8950014757743,
           164.41977806412854,
           164.9445546524828,
           165.46933124083702,
           165.99410782919125,
           166.51888441754548,
           167.04366100589974,
           167.56843759425396,
           168.0932141826082,
           168.61799077096242,
           169.14276735931668,
           169.6675439476709,
           170.19232053602514,
           170.71709712437936,
           171.24187371273362,
           171.76665030108785,
           172.29142688944208,
           172.8162034777963,
           173.34098006615056
          ],
          [
           164.86334390845198,
           165.3881204968062,
           165.91289708516044,
           166.43767367351467,
           166.96245026186892,
           167.48722685022315,
           168.01200343857738,
           168.5367800269316,
           169.06155661528587,
           169.5863332036401,
           170.11110979199432,
           170.63588638034855,
           171.1606629687028,
           171.68543955705704,
           172.21021614541127,
           172.73499273376552,
           173.25976932211975,
           173.78454591047398,
           174.3093224988282,
           174.83409908718244
          ],
          [
           166.35646292948388,
           166.8812395178381,
           167.40601610619234,
           167.93079269454657,
           168.45556928290083,
           168.98034587125505,
           169.50512245960928,
           170.0298990479635,
           170.55467563631777,
           171.079452224672,
           171.60422881302622,
           172.12900540138045,
           172.6537819897347,
           173.17855857808894,
           173.70333516644317,
           174.2281117547974,
           174.75288834315165,
           175.27766493150588,
           175.8024415198601,
           176.32721810821434
          ],
          [
           167.84958195051576,
           168.37435853886998,
           168.8991351272242,
           169.42391171557847,
           169.9486883039327,
           170.47346489228693,
           170.99824148064118,
           171.5230180689954,
           172.04779465734964,
           172.57257124570387,
           173.09734783405813,
           173.62212442241236,
           174.14690101076658,
           174.6716775991208,
           175.19645418747507,
           175.7212307758293,
           176.24600736418353,
           176.77078395253776,
           177.295560540892,
           177.82033712924624
          ],
          [
           169.34270097154766,
           169.8674775599019,
           170.39225414825611,
           170.91703073661037,
           171.4418073249646,
           171.96658391331883,
           172.49136050167306,
           173.0161370900273,
           173.54091367838154,
           174.06569026673577,
           174.59046685509,
           175.11524344344426,
           175.64002003179849,
           176.1647966201527,
           176.68957320850697,
           177.2143497968612,
           177.73912638521543,
           178.26390297356966,
           178.7886795619239,
           179.31345615027814
          ],
          [
           170.83581999257956,
           171.3605965809338,
           171.88537316928802,
           172.41014975764227,
           172.9349263459965,
           173.45970293435073,
           173.98447952270496,
           174.50925611105922,
           175.03403269941344,
           175.55880928776767,
           176.0835858761219,
           176.60836246447616,
           177.1331390528304,
           177.65791564118462,
           178.18269222953887,
           178.7074688178931,
           179.23224540624733,
           179.75702199460156,
           180.28179858295582,
           180.80657517131004
          ],
          [
           172.32893901361143,
           172.8537156019657,
           173.37849219031992,
           173.90326877867415,
           174.42804536702837,
           174.95282195538263,
           175.47759854373686,
           176.0023751320911,
           176.52715172044532,
           177.05192830879957,
           177.5767048971538,
           178.10148148550803,
           178.62625807386226,
           179.15103466221652,
           179.67581125057075,
           180.20058783892497,
           180.7253644272792,
           181.25014101563346,
           181.7749176039877,
           182.29969419234192
          ],
          [
           173.82205803464333,
           174.3468346229976,
           174.87161121135182,
           175.39638779970605,
           175.92116438806028,
           176.44594097641453,
           176.97071756476876,
           177.495494153123,
           178.02027074147722,
           178.54504732983148,
           179.0698239181857,
           179.59460050653993,
           180.11937709489416,
           180.64415368324842,
           181.16893027160265,
           181.69370685995688,
           182.2184834483111,
           182.74326003666536,
           183.2680366250196,
           183.79281321337382
          ],
          [
           175.31517705567524,
           175.83995364402946,
           176.36473023238372,
           176.88950682073795,
           177.41428340909218,
           177.9390599974464,
           178.46383658580066,
           178.9886131741549,
           179.51338976250912,
           180.03816635086338,
           180.5629429392176,
           181.08771952757183,
           181.61249611592606,
           182.13727270428032,
           182.66204929263455,
           183.18682588098878,
           183.711602469343,
           184.23637905769726,
           184.7611556460515,
           185.28593223440572
          ],
          [
           176.80829607670714,
           177.33307266506137,
           177.8578492534156,
           178.38262584176982,
           178.90740243012408,
           179.4321790184783,
           179.95695560683254,
           180.4817321951868,
           181.00650878354102,
           181.53128537189525,
           182.05606196024948,
           182.58083854860374,
           183.10561513695797,
           183.6303917253122,
           184.15516831366642,
           184.67994490202068,
           185.2047214903749,
           185.72949807872914,
           186.25427466708337,
           186.77905125543762
          ],
          [
           178.301415097739,
           178.82619168609324,
           179.3509682744475,
           179.87574486280172,
           180.40052145115595,
           180.92529803951018,
           181.45007462786444,
           181.97485121621867,
           182.4996278045729,
           183.02440439292712,
           183.54918098128138,
           184.0739575696356,
           184.59873415798984,
           185.1235107463441,
           185.64828733469832,
           186.17306392305255,
           186.69784051140678,
           187.22261709976104,
           187.74739368811527,
           188.2721702764695
          ],
          [
           179.7945341187709,
           180.31931070712514,
           180.8440872954794,
           181.36886388383363,
           181.89364047218785,
           182.41841706054208,
           182.94319364889634,
           183.46797023725057,
           183.9927468256048,
           184.51752341395903,
           185.04230000231328,
           185.5670765906675,
           186.09185317902174,
           186.61662976737597,
           187.14140635573023,
           187.66618294408445,
           188.19095953243868,
           188.71573612079294,
           189.24051270914717,
           189.7652892975014
          ],
          [
           181.2876531398028,
           181.81242972815704,
           182.33720631651127,
           182.86198290486553,
           183.38675949321976,
           183.91153608157398,
           184.4363126699282,
           184.96108925828247,
           185.4858658466367,
           186.01064243499093,
           186.53541902334518,
           187.0601956116994,
           187.58497220005364,
           188.10974878840787,
           188.63452537676213,
           189.15930196511636,
           189.68407855347058,
           190.2088551418248,
           190.73363173017907,
           191.2584083185333
          ]
         ]
        }
       ],
       "layout": {
        "scene": {
         "xaxis": {
          "title": {
           "text": "Ancho"
          }
         },
         "yaxis": {
          "title": {
           "text": "Pie"
          }
         },
         "zaxis": {
          "title": {
           "text": "Altura"
          }
         }
        },
        "template": {
         "data": {
          "bar": [
           {
            "error_x": {
             "color": "#2a3f5f"
            },
            "error_y": {
             "color": "#2a3f5f"
            },
            "marker": {
             "line": {
              "color": "#E5ECF6",
              "width": 0.5
             },
             "pattern": {
              "fillmode": "overlay",
              "size": 10,
              "solidity": 0.2
             }
            },
            "type": "bar"
           }
          ],
          "barpolar": [
           {
            "marker": {
             "line": {
              "color": "#E5ECF6",
              "width": 0.5
             },
             "pattern": {
              "fillmode": "overlay",
              "size": 10,
              "solidity": 0.2
             }
            },
            "type": "barpolar"
           }
          ],
          "carpet": [
           {
            "aaxis": {
             "endlinecolor": "#2a3f5f",
             "gridcolor": "white",
             "linecolor": "white",
             "minorgridcolor": "white",
             "startlinecolor": "#2a3f5f"
            },
            "baxis": {
             "endlinecolor": "#2a3f5f",
             "gridcolor": "white",
             "linecolor": "white",
             "minorgridcolor": "white",
             "startlinecolor": "#2a3f5f"
            },
            "type": "carpet"
           }
          ],
          "choropleth": [
           {
            "colorbar": {
             "outlinewidth": 0,
             "ticks": ""
            },
            "type": "choropleth"
           }
          ],
          "contour": [
           {
            "colorbar": {
             "outlinewidth": 0,
             "ticks": ""
            },
            "colorscale": [
             [
              0,
              "#0d0887"
             ],
             [
              0.1111111111111111,
              "#46039f"
             ],
             [
              0.2222222222222222,
              "#7201a8"
             ],
             [
              0.3333333333333333,
              "#9c179e"
             ],
             [
              0.4444444444444444,
              "#bd3786"
             ],
             [
              0.5555555555555556,
              "#d8576b"
             ],
             [
              0.6666666666666666,
              "#ed7953"
             ],
             [
              0.7777777777777778,
              "#fb9f3a"
             ],
             [
              0.8888888888888888,
              "#fdca26"
             ],
             [
              1,
              "#f0f921"
             ]
            ],
            "type": "contour"
           }
          ],
          "contourcarpet": [
           {
            "colorbar": {
             "outlinewidth": 0,
             "ticks": ""
            },
            "type": "contourcarpet"
           }
          ],
          "heatmap": [
           {
            "colorbar": {
             "outlinewidth": 0,
             "ticks": ""
            },
            "colorscale": [
             [
              0,
              "#0d0887"
             ],
             [
              0.1111111111111111,
              "#46039f"
             ],
             [
              0.2222222222222222,
              "#7201a8"
             ],
             [
              0.3333333333333333,
              "#9c179e"
             ],
             [
              0.4444444444444444,
              "#bd3786"
             ],
             [
              0.5555555555555556,
              "#d8576b"
             ],
             [
              0.6666666666666666,
              "#ed7953"
             ],
             [
              0.7777777777777778,
              "#fb9f3a"
             ],
             [
              0.8888888888888888,
              "#fdca26"
             ],
             [
              1,
              "#f0f921"
             ]
            ],
            "type": "heatmap"
           }
          ],
          "heatmapgl": [
           {
            "colorbar": {
             "outlinewidth": 0,
             "ticks": ""
            },
            "colorscale": [
             [
              0,
              "#0d0887"
             ],
             [
              0.1111111111111111,
              "#46039f"
             ],
             [
              0.2222222222222222,
              "#7201a8"
             ],
             [
              0.3333333333333333,
              "#9c179e"
             ],
             [
              0.4444444444444444,
              "#bd3786"
             ],
             [
              0.5555555555555556,
              "#d8576b"
             ],
             [
              0.6666666666666666,
              "#ed7953"
             ],
             [
              0.7777777777777778,
              "#fb9f3a"
             ],
             [
              0.8888888888888888,
              "#fdca26"
             ],
             [
              1,
              "#f0f921"
             ]
            ],
            "type": "heatmapgl"
           }
          ],
          "histogram": [
           {
            "marker": {
             "pattern": {
              "fillmode": "overlay",
              "size": 10,
              "solidity": 0.2
             }
            },
            "type": "histogram"
           }
          ],
          "histogram2d": [
           {
            "colorbar": {
             "outlinewidth": 0,
             "ticks": ""
            },
            "colorscale": [
             [
              0,
              "#0d0887"
             ],
             [
              0.1111111111111111,
              "#46039f"
             ],
             [
              0.2222222222222222,
              "#7201a8"
             ],
             [
              0.3333333333333333,
              "#9c179e"
             ],
             [
              0.4444444444444444,
              "#bd3786"
             ],
             [
              0.5555555555555556,
              "#d8576b"
             ],
             [
              0.6666666666666666,
              "#ed7953"
             ],
             [
              0.7777777777777778,
              "#fb9f3a"
             ],
             [
              0.8888888888888888,
              "#fdca26"
             ],
             [
              1,
              "#f0f921"
             ]
            ],
            "type": "histogram2d"
           }
          ],
          "histogram2dcontour": [
           {
            "colorbar": {
             "outlinewidth": 0,
             "ticks": ""
            },
            "colorscale": [
             [
              0,
              "#0d0887"
             ],
             [
              0.1111111111111111,
              "#46039f"
             ],
             [
              0.2222222222222222,
              "#7201a8"
             ],
             [
              0.3333333333333333,
              "#9c179e"
             ],
             [
              0.4444444444444444,
              "#bd3786"
             ],
             [
              0.5555555555555556,
              "#d8576b"
             ],
             [
              0.6666666666666666,
              "#ed7953"
             ],
             [
              0.7777777777777778,
              "#fb9f3a"
             ],
             [
              0.8888888888888888,
              "#fdca26"
             ],
             [
              1,
              "#f0f921"
             ]
            ],
            "type": "histogram2dcontour"
           }
          ],
          "mesh3d": [
           {
            "colorbar": {
             "outlinewidth": 0,
             "ticks": ""
            },
            "type": "mesh3d"
           }
          ],
          "parcoords": [
           {
            "line": {
             "colorbar": {
              "outlinewidth": 0,
              "ticks": ""
             }
            },
            "type": "parcoords"
           }
          ],
          "pie": [
           {
            "automargin": true,
            "type": "pie"
           }
          ],
          "scatter": [
           {
            "fillpattern": {
             "fillmode": "overlay",
             "size": 10,
             "solidity": 0.2
            },
            "type": "scatter"
           }
          ],
          "scatter3d": [
           {
            "line": {
             "colorbar": {
              "outlinewidth": 0,
              "ticks": ""
             }
            },
            "marker": {
             "colorbar": {
              "outlinewidth": 0,
              "ticks": ""
             }
            },
            "type": "scatter3d"
           }
          ],
          "scattercarpet": [
           {
            "marker": {
             "colorbar": {
              "outlinewidth": 0,
              "ticks": ""
             }
            },
            "type": "scattercarpet"
           }
          ],
          "scattergeo": [
           {
            "marker": {
             "colorbar": {
              "outlinewidth": 0,
              "ticks": ""
             }
            },
            "type": "scattergeo"
           }
          ],
          "scattergl": [
           {
            "marker": {
             "colorbar": {
              "outlinewidth": 0,
              "ticks": ""
             }
            },
            "type": "scattergl"
           }
          ],
          "scattermapbox": [
           {
            "marker": {
             "colorbar": {
              "outlinewidth": 0,
              "ticks": ""
             }
            },
            "type": "scattermapbox"
           }
          ],
          "scatterpolar": [
           {
            "marker": {
             "colorbar": {
              "outlinewidth": 0,
              "ticks": ""
             }
            },
            "type": "scatterpolar"
           }
          ],
          "scatterpolargl": [
           {
            "marker": {
             "colorbar": {
              "outlinewidth": 0,
              "ticks": ""
             }
            },
            "type": "scatterpolargl"
           }
          ],
          "scatterternary": [
           {
            "marker": {
             "colorbar": {
              "outlinewidth": 0,
              "ticks": ""
             }
            },
            "type": "scatterternary"
           }
          ],
          "surface": [
           {
            "colorbar": {
             "outlinewidth": 0,
             "ticks": ""
            },
            "colorscale": [
             [
              0,
              "#0d0887"
             ],
             [
              0.1111111111111111,
              "#46039f"
             ],
             [
              0.2222222222222222,
              "#7201a8"
             ],
             [
              0.3333333333333333,
              "#9c179e"
             ],
             [
              0.4444444444444444,
              "#bd3786"
             ],
             [
              0.5555555555555556,
              "#d8576b"
             ],
             [
              0.6666666666666666,
              "#ed7953"
             ],
             [
              0.7777777777777778,
              "#fb9f3a"
             ],
             [
              0.8888888888888888,
              "#fdca26"
             ],
             [
              1,
              "#f0f921"
             ]
            ],
            "type": "surface"
           }
          ],
          "table": [
           {
            "cells": {
             "fill": {
              "color": "#EBF0F8"
             },
             "line": {
              "color": "white"
             }
            },
            "header": {
             "fill": {
              "color": "#C8D4E3"
             },
             "line": {
              "color": "white"
             }
            },
            "type": "table"
           }
          ]
         },
         "layout": {
          "annotationdefaults": {
           "arrowcolor": "#2a3f5f",
           "arrowhead": 0,
           "arrowwidth": 1
          },
          "autotypenumbers": "strict",
          "coloraxis": {
           "colorbar": {
            "outlinewidth": 0,
            "ticks": ""
           }
          },
          "colorscale": {
           "diverging": [
            [
             0,
             "#8e0152"
            ],
            [
             0.1,
             "#c51b7d"
            ],
            [
             0.2,
             "#de77ae"
            ],
            [
             0.3,
             "#f1b6da"
            ],
            [
             0.4,
             "#fde0ef"
            ],
            [
             0.5,
             "#f7f7f7"
            ],
            [
             0.6,
             "#e6f5d0"
            ],
            [
             0.7,
             "#b8e186"
            ],
            [
             0.8,
             "#7fbc41"
            ],
            [
             0.9,
             "#4d9221"
            ],
            [
             1,
             "#276419"
            ]
           ],
           "sequential": [
            [
             0,
             "#0d0887"
            ],
            [
             0.1111111111111111,
             "#46039f"
            ],
            [
             0.2222222222222222,
             "#7201a8"
            ],
            [
             0.3333333333333333,
             "#9c179e"
            ],
            [
             0.4444444444444444,
             "#bd3786"
            ],
            [
             0.5555555555555556,
             "#d8576b"
            ],
            [
             0.6666666666666666,
             "#ed7953"
            ],
            [
             0.7777777777777778,
             "#fb9f3a"
            ],
            [
             0.8888888888888888,
             "#fdca26"
            ],
            [
             1,
             "#f0f921"
            ]
           ],
           "sequentialminus": [
            [
             0,
             "#0d0887"
            ],
            [
             0.1111111111111111,
             "#46039f"
            ],
            [
             0.2222222222222222,
             "#7201a8"
            ],
            [
             0.3333333333333333,
             "#9c179e"
            ],
            [
             0.4444444444444444,
             "#bd3786"
            ],
            [
             0.5555555555555556,
             "#d8576b"
            ],
            [
             0.6666666666666666,
             "#ed7953"
            ],
            [
             0.7777777777777778,
             "#fb9f3a"
            ],
            [
             0.8888888888888888,
             "#fdca26"
            ],
            [
             1,
             "#f0f921"
            ]
           ]
          },
          "colorway": [
           "#636efa",
           "#EF553B",
           "#00cc96",
           "#ab63fa",
           "#FFA15A",
           "#19d3f3",
           "#FF6692",
           "#B6E880",
           "#FF97FF",
           "#FECB52"
          ],
          "font": {
           "color": "#2a3f5f"
          },
          "geo": {
           "bgcolor": "white",
           "lakecolor": "white",
           "landcolor": "#E5ECF6",
           "showlakes": true,
           "showland": true,
           "subunitcolor": "white"
          },
          "hoverlabel": {
           "align": "left"
          },
          "hovermode": "closest",
          "mapbox": {
           "style": "light"
          },
          "paper_bgcolor": "white",
          "plot_bgcolor": "#E5ECF6",
          "polar": {
           "angularaxis": {
            "gridcolor": "white",
            "linecolor": "white",
            "ticks": ""
           },
           "bgcolor": "#E5ECF6",
           "radialaxis": {
            "gridcolor": "white",
            "linecolor": "white",
            "ticks": ""
           }
          },
          "scene": {
           "xaxis": {
            "backgroundcolor": "#E5ECF6",
            "gridcolor": "white",
            "gridwidth": 2,
            "linecolor": "white",
            "showbackground": true,
            "ticks": "",
            "zerolinecolor": "white"
           },
           "yaxis": {
            "backgroundcolor": "#E5ECF6",
            "gridcolor": "white",
            "gridwidth": 2,
            "linecolor": "white",
            "showbackground": true,
            "ticks": "",
            "zerolinecolor": "white"
           },
           "zaxis": {
            "backgroundcolor": "#E5ECF6",
            "gridcolor": "white",
            "gridwidth": 2,
            "linecolor": "white",
            "showbackground": true,
            "ticks": "",
            "zerolinecolor": "white"
           }
          },
          "shapedefaults": {
           "line": {
            "color": "#2a3f5f"
           }
          },
          "ternary": {
           "aaxis": {
            "gridcolor": "white",
            "linecolor": "white",
            "ticks": ""
           },
           "baxis": {
            "gridcolor": "white",
            "linecolor": "white",
            "ticks": ""
           },
           "bgcolor": "#E5ECF6",
           "caxis": {
            "gridcolor": "white",
            "linecolor": "white",
            "ticks": ""
           }
          },
          "title": {
           "x": 0.05
          },
          "xaxis": {
           "automargin": true,
           "gridcolor": "white",
           "linecolor": "white",
           "ticks": "",
           "title": {
            "standoff": 15
           },
           "zerolinecolor": "white",
           "zerolinewidth": 2
          },
          "yaxis": {
           "automargin": true,
           "gridcolor": "white",
           "linecolor": "white",
           "ticks": "",
           "title": {
            "standoff": 15
           },
           "zerolinecolor": "white",
           "zerolinewidth": 2
          }
         }
        },
        "title": {
         "text": "ITESO RIGHT<br>R2: 0.848618065304442 RMSE: 3.382822610294069"
        }
       }
      }
     },
     "metadata": {},
     "output_type": "display_data"
    }
   ],
   "source": [
    "# Definir rangos para las variables independientes\n",
    "x1_range = np.linspace(min(x_train_right['width']), max(x_train_right['width']), 20)\n",
    "x2_range = np.linspace(min(x_train_right['shoe_size']), max(x_train_right['shoe_size']), 20)\n",
    "x1_mesh, x2_mesh = np.meshgrid(x1_range, x2_range)\n",
    "\n",
    "# Escalar el meshgrid para predicción\n",
    "x_mesh_scaled = ss_right.transform(np.vstack((x1_mesh.ravel(), x2_mesh.ravel())).T)\n",
    "\n",
    "# Predecir los valores con el modelo escalado\n",
    "y_mesh_scaled = rg_r.predict(x_mesh_scaled)\n",
    "\n",
    "# Crear scatterplot 3D de los puntos reales\n",
    "scatter = go.Scatter3d(\n",
    "    x=x_test_right['width'], y=x_test_right['shoe_size'], z=y_test_right,\n",
    "    mode='markers',\n",
    "    marker=dict(size=8, color='red', opacity=0.7)\n",
    ")\n",
    "\n",
    "# Crear el plano de regresión\n",
    "surface = go.Surface(\n",
    "    x=x1_mesh, y=x2_mesh, z=y_mesh_scaled.reshape(x1_mesh.shape),\n",
    "    colorscale='Viridis', opacity=0.5\n",
    ")\n",
    "\n",
    "# Configuración del layout\n",
    "layout = go.Layout(\n",
    "    title=f\"ITESO RIGHT<br>R2: {r2_score(y_test_right, r_pred_right)} RMSE: {root_mean_squared_error(y_test_right, r_pred_right)}\",\n",
    "    scene=dict(\n",
    "        xaxis_title='Ancho',\n",
    "        yaxis_title='Pie',\n",
    "        zaxis_title='Altura'\n",
    "    )\n",
    ")\n",
    "\n",
    "# Crear la figura\n",
    "fig = go.Figure(data=[scatter, surface], layout=layout)\n",
    "\n",
    "# Mostrar la figura interactiva\n",
    "fig.show()"
   ]
  },
  {
   "cell_type": "markdown",
   "metadata": {},
   "source": [
    "## Left model\n",
    "\n",
    "Modelo que predice mejor los valores del lado izquierdo"
   ]
  },
  {
   "cell_type": "code",
   "execution_count": 29,
   "metadata": {},
   "outputs": [
    {
     "name": "stdout",
     "output_type": "stream",
     "text": [
      "R2: 0.7831419350356263 RMSE: 3.4859519404608967\n"
     ]
    }
   ],
   "source": [
    "rg_l = Ridge(alpha = 10)\n",
    "rg_l.fit(X_train_s_left, y_train_left)\n",
    "r_pred_left = rg_l.predict(X_test_s_left)\n",
    "print(f\"R2: {r2_score(y_test_left, r_pred_left)} RMSE: {root_mean_squared_error(y_test_left, r_pred_left)}\")"
   ]
  },
  {
   "cell_type": "code",
   "execution_count": 30,
   "metadata": {},
   "outputs": [
    {
     "name": "stdout",
     "output_type": "stream",
     "text": [
      "Pendientes: [2.59614264 6.14570292]\n",
      "Intercepto: 163.48993288590603\n"
     ]
    }
   ],
   "source": [
    "print(f\"Pendientes: {rg_l.coef_}\")\n",
    "print(f\"Intercepto: {rg_l.intercept_}\")"
   ]
  },
  {
   "cell_type": "code",
   "execution_count": 31,
   "metadata": {},
   "outputs": [
    {
     "name": "stderr",
     "output_type": "stream",
     "text": [
      "c:\\Users\\Roi_f\\anaconda3\\envs\\personal\\Lib\\site-packages\\sklearn\\base.py:493: UserWarning:\n",
      "\n",
      "X does not have valid feature names, but StandardScaler was fitted with feature names\n",
      "\n"
     ]
    }
   ],
   "source": [
    "values_para_left = ss_left.transform([[36,22.5]])"
   ]
  },
  {
   "cell_type": "code",
   "execution_count": 32,
   "metadata": {},
   "outputs": [
    {
     "data": {
      "text/plain": [
       "array([154.210085])"
      ]
     },
     "execution_count": 32,
     "metadata": {},
     "output_type": "execute_result"
    }
   ],
   "source": [
    "rg_l.predict(values_para_left)"
   ]
  },
  {
   "cell_type": "code",
   "execution_count": 33,
   "metadata": {},
   "outputs": [
    {
     "name": "stderr",
     "output_type": "stream",
     "text": [
      "c:\\Users\\Roi_f\\anaconda3\\envs\\personal\\Lib\\site-packages\\sklearn\\base.py:493: UserWarning:\n",
      "\n",
      "X does not have valid feature names, but StandardScaler was fitted with feature names\n",
      "\n"
     ]
    },
    {
     "data": {
      "application/vnd.plotly.v1+json": {
       "config": {
        "plotlyServerURL": "https://plot.ly"
       },
       "data": [
        {
         "marker": {
          "color": "red",
          "opacity": 0.7,
          "size": 8
         },
         "mode": "markers",
         "type": "scatter3d",
         "x": [
          38,
          50,
          45,
          43,
          42,
          40,
          38,
          38,
          36,
          40,
          42,
          39,
          41,
          35,
          36,
          39,
          41,
          36,
          43,
          45,
          42,
          41,
          41,
          39,
          45,
          39,
          47,
          48,
          42,
          41,
          39,
          40,
          40,
          61,
          39,
          49,
          34,
          43
         ],
         "y": [
          23,
          28,
          26,
          25,
          24,
          24,
          23,
          23,
          23,
          24,
          26,
          23,
          24,
          22,
          23,
          24.5,
          24,
          22.5,
          28,
          26,
          27,
          24,
          23.5,
          24,
          27.5,
          24,
          27,
          27,
          28,
          24,
          23,
          24,
          24,
          26,
          24,
          27,
          22,
          25
         ],
         "z": [
          156,
          173,
          166,
          164,
          163,
          161,
          156,
          157,
          164,
          161,
          170,
          158,
          162,
          153,
          154,
          166,
          162,
          153,
          182,
          168,
          177,
          162,
          153,
          159,
          172,
          158,
          168,
          172,
          177,
          161,
          158,
          161,
          160,
          168,
          158,
          176,
          151,
          164
         ]
        },
        {
         "colorscale": [
          [
           0,
           "#440154"
          ],
          [
           0.1111111111111111,
           "#482878"
          ],
          [
           0.2222222222222222,
           "#3e4989"
          ],
          [
           0.3333333333333333,
           "#31688e"
          ],
          [
           0.4444444444444444,
           "#26828e"
          ],
          [
           0.5555555555555556,
           "#1f9e89"
          ],
          [
           0.6666666666666666,
           "#35b779"
          ],
          [
           0.7777777777777778,
           "#6ece58"
          ],
          [
           0.8888888888888888,
           "#b5de2b"
          ],
          [
           1,
           "#fde725"
          ]
         ],
         "opacity": 0.5,
         "type": "surface",
         "x": [
          [
           30,
           31.315789473684212,
           32.631578947368425,
           33.94736842105263,
           35.26315789473684,
           36.578947368421055,
           37.89473684210526,
           39.21052631578947,
           40.526315789473685,
           41.8421052631579,
           43.15789473684211,
           44.473684210526315,
           45.78947368421053,
           47.10526315789474,
           48.421052631578945,
           49.73684210526316,
           51.05263157894737,
           52.36842105263158,
           53.684210526315795,
           55
          ],
          [
           30,
           31.315789473684212,
           32.631578947368425,
           33.94736842105263,
           35.26315789473684,
           36.578947368421055,
           37.89473684210526,
           39.21052631578947,
           40.526315789473685,
           41.8421052631579,
           43.15789473684211,
           44.473684210526315,
           45.78947368421053,
           47.10526315789474,
           48.421052631578945,
           49.73684210526316,
           51.05263157894737,
           52.36842105263158,
           53.684210526315795,
           55
          ],
          [
           30,
           31.315789473684212,
           32.631578947368425,
           33.94736842105263,
           35.26315789473684,
           36.578947368421055,
           37.89473684210526,
           39.21052631578947,
           40.526315789473685,
           41.8421052631579,
           43.15789473684211,
           44.473684210526315,
           45.78947368421053,
           47.10526315789474,
           48.421052631578945,
           49.73684210526316,
           51.05263157894737,
           52.36842105263158,
           53.684210526315795,
           55
          ],
          [
           30,
           31.315789473684212,
           32.631578947368425,
           33.94736842105263,
           35.26315789473684,
           36.578947368421055,
           37.89473684210526,
           39.21052631578947,
           40.526315789473685,
           41.8421052631579,
           43.15789473684211,
           44.473684210526315,
           45.78947368421053,
           47.10526315789474,
           48.421052631578945,
           49.73684210526316,
           51.05263157894737,
           52.36842105263158,
           53.684210526315795,
           55
          ],
          [
           30,
           31.315789473684212,
           32.631578947368425,
           33.94736842105263,
           35.26315789473684,
           36.578947368421055,
           37.89473684210526,
           39.21052631578947,
           40.526315789473685,
           41.8421052631579,
           43.15789473684211,
           44.473684210526315,
           45.78947368421053,
           47.10526315789474,
           48.421052631578945,
           49.73684210526316,
           51.05263157894737,
           52.36842105263158,
           53.684210526315795,
           55
          ],
          [
           30,
           31.315789473684212,
           32.631578947368425,
           33.94736842105263,
           35.26315789473684,
           36.578947368421055,
           37.89473684210526,
           39.21052631578947,
           40.526315789473685,
           41.8421052631579,
           43.15789473684211,
           44.473684210526315,
           45.78947368421053,
           47.10526315789474,
           48.421052631578945,
           49.73684210526316,
           51.05263157894737,
           52.36842105263158,
           53.684210526315795,
           55
          ],
          [
           30,
           31.315789473684212,
           32.631578947368425,
           33.94736842105263,
           35.26315789473684,
           36.578947368421055,
           37.89473684210526,
           39.21052631578947,
           40.526315789473685,
           41.8421052631579,
           43.15789473684211,
           44.473684210526315,
           45.78947368421053,
           47.10526315789474,
           48.421052631578945,
           49.73684210526316,
           51.05263157894737,
           52.36842105263158,
           53.684210526315795,
           55
          ],
          [
           30,
           31.315789473684212,
           32.631578947368425,
           33.94736842105263,
           35.26315789473684,
           36.578947368421055,
           37.89473684210526,
           39.21052631578947,
           40.526315789473685,
           41.8421052631579,
           43.15789473684211,
           44.473684210526315,
           45.78947368421053,
           47.10526315789474,
           48.421052631578945,
           49.73684210526316,
           51.05263157894737,
           52.36842105263158,
           53.684210526315795,
           55
          ],
          [
           30,
           31.315789473684212,
           32.631578947368425,
           33.94736842105263,
           35.26315789473684,
           36.578947368421055,
           37.89473684210526,
           39.21052631578947,
           40.526315789473685,
           41.8421052631579,
           43.15789473684211,
           44.473684210526315,
           45.78947368421053,
           47.10526315789474,
           48.421052631578945,
           49.73684210526316,
           51.05263157894737,
           52.36842105263158,
           53.684210526315795,
           55
          ],
          [
           30,
           31.315789473684212,
           32.631578947368425,
           33.94736842105263,
           35.26315789473684,
           36.578947368421055,
           37.89473684210526,
           39.21052631578947,
           40.526315789473685,
           41.8421052631579,
           43.15789473684211,
           44.473684210526315,
           45.78947368421053,
           47.10526315789474,
           48.421052631578945,
           49.73684210526316,
           51.05263157894737,
           52.36842105263158,
           53.684210526315795,
           55
          ],
          [
           30,
           31.315789473684212,
           32.631578947368425,
           33.94736842105263,
           35.26315789473684,
           36.578947368421055,
           37.89473684210526,
           39.21052631578947,
           40.526315789473685,
           41.8421052631579,
           43.15789473684211,
           44.473684210526315,
           45.78947368421053,
           47.10526315789474,
           48.421052631578945,
           49.73684210526316,
           51.05263157894737,
           52.36842105263158,
           53.684210526315795,
           55
          ],
          [
           30,
           31.315789473684212,
           32.631578947368425,
           33.94736842105263,
           35.26315789473684,
           36.578947368421055,
           37.89473684210526,
           39.21052631578947,
           40.526315789473685,
           41.8421052631579,
           43.15789473684211,
           44.473684210526315,
           45.78947368421053,
           47.10526315789474,
           48.421052631578945,
           49.73684210526316,
           51.05263157894737,
           52.36842105263158,
           53.684210526315795,
           55
          ],
          [
           30,
           31.315789473684212,
           32.631578947368425,
           33.94736842105263,
           35.26315789473684,
           36.578947368421055,
           37.89473684210526,
           39.21052631578947,
           40.526315789473685,
           41.8421052631579,
           43.15789473684211,
           44.473684210526315,
           45.78947368421053,
           47.10526315789474,
           48.421052631578945,
           49.73684210526316,
           51.05263157894737,
           52.36842105263158,
           53.684210526315795,
           55
          ],
          [
           30,
           31.315789473684212,
           32.631578947368425,
           33.94736842105263,
           35.26315789473684,
           36.578947368421055,
           37.89473684210526,
           39.21052631578947,
           40.526315789473685,
           41.8421052631579,
           43.15789473684211,
           44.473684210526315,
           45.78947368421053,
           47.10526315789474,
           48.421052631578945,
           49.73684210526316,
           51.05263157894737,
           52.36842105263158,
           53.684210526315795,
           55
          ],
          [
           30,
           31.315789473684212,
           32.631578947368425,
           33.94736842105263,
           35.26315789473684,
           36.578947368421055,
           37.89473684210526,
           39.21052631578947,
           40.526315789473685,
           41.8421052631579,
           43.15789473684211,
           44.473684210526315,
           45.78947368421053,
           47.10526315789474,
           48.421052631578945,
           49.73684210526316,
           51.05263157894737,
           52.36842105263158,
           53.684210526315795,
           55
          ],
          [
           30,
           31.315789473684212,
           32.631578947368425,
           33.94736842105263,
           35.26315789473684,
           36.578947368421055,
           37.89473684210526,
           39.21052631578947,
           40.526315789473685,
           41.8421052631579,
           43.15789473684211,
           44.473684210526315,
           45.78947368421053,
           47.10526315789474,
           48.421052631578945,
           49.73684210526316,
           51.05263157894737,
           52.36842105263158,
           53.684210526315795,
           55
          ],
          [
           30,
           31.315789473684212,
           32.631578947368425,
           33.94736842105263,
           35.26315789473684,
           36.578947368421055,
           37.89473684210526,
           39.21052631578947,
           40.526315789473685,
           41.8421052631579,
           43.15789473684211,
           44.473684210526315,
           45.78947368421053,
           47.10526315789474,
           48.421052631578945,
           49.73684210526316,
           51.05263157894737,
           52.36842105263158,
           53.684210526315795,
           55
          ],
          [
           30,
           31.315789473684212,
           32.631578947368425,
           33.94736842105263,
           35.26315789473684,
           36.578947368421055,
           37.89473684210526,
           39.21052631578947,
           40.526315789473685,
           41.8421052631579,
           43.15789473684211,
           44.473684210526315,
           45.78947368421053,
           47.10526315789474,
           48.421052631578945,
           49.73684210526316,
           51.05263157894737,
           52.36842105263158,
           53.684210526315795,
           55
          ],
          [
           30,
           31.315789473684212,
           32.631578947368425,
           33.94736842105263,
           35.26315789473684,
           36.578947368421055,
           37.89473684210526,
           39.21052631578947,
           40.526315789473685,
           41.8421052631579,
           43.15789473684211,
           44.473684210526315,
           45.78947368421053,
           47.10526315789474,
           48.421052631578945,
           49.73684210526316,
           51.05263157894737,
           52.36842105263158,
           53.684210526315795,
           55
          ],
          [
           30,
           31.315789473684212,
           32.631578947368425,
           33.94736842105263,
           35.26315789473684,
           36.578947368421055,
           37.89473684210526,
           39.21052631578947,
           40.526315789473685,
           41.8421052631579,
           43.15789473684211,
           44.473684210526315,
           45.78947368421053,
           47.10526315789474,
           48.421052631578945,
           49.73684210526316,
           51.05263157894737,
           52.36842105263158,
           53.684210526315795,
           55
          ]
         ],
         "y": [
          [
           21,
           21,
           21,
           21,
           21,
           21,
           21,
           21,
           21,
           21,
           21,
           21,
           21,
           21,
           21,
           21,
           21,
           21,
           21,
           21
          ],
          [
           21.473684210526315,
           21.473684210526315,
           21.473684210526315,
           21.473684210526315,
           21.473684210526315,
           21.473684210526315,
           21.473684210526315,
           21.473684210526315,
           21.473684210526315,
           21.473684210526315,
           21.473684210526315,
           21.473684210526315,
           21.473684210526315,
           21.473684210526315,
           21.473684210526315,
           21.473684210526315,
           21.473684210526315,
           21.473684210526315,
           21.473684210526315,
           21.473684210526315
          ],
          [
           21.94736842105263,
           21.94736842105263,
           21.94736842105263,
           21.94736842105263,
           21.94736842105263,
           21.94736842105263,
           21.94736842105263,
           21.94736842105263,
           21.94736842105263,
           21.94736842105263,
           21.94736842105263,
           21.94736842105263,
           21.94736842105263,
           21.94736842105263,
           21.94736842105263,
           21.94736842105263,
           21.94736842105263,
           21.94736842105263,
           21.94736842105263,
           21.94736842105263
          ],
          [
           22.42105263157895,
           22.42105263157895,
           22.42105263157895,
           22.42105263157895,
           22.42105263157895,
           22.42105263157895,
           22.42105263157895,
           22.42105263157895,
           22.42105263157895,
           22.42105263157895,
           22.42105263157895,
           22.42105263157895,
           22.42105263157895,
           22.42105263157895,
           22.42105263157895,
           22.42105263157895,
           22.42105263157895,
           22.42105263157895,
           22.42105263157895,
           22.42105263157895
          ],
          [
           22.894736842105264,
           22.894736842105264,
           22.894736842105264,
           22.894736842105264,
           22.894736842105264,
           22.894736842105264,
           22.894736842105264,
           22.894736842105264,
           22.894736842105264,
           22.894736842105264,
           22.894736842105264,
           22.894736842105264,
           22.894736842105264,
           22.894736842105264,
           22.894736842105264,
           22.894736842105264,
           22.894736842105264,
           22.894736842105264,
           22.894736842105264,
           22.894736842105264
          ],
          [
           23.36842105263158,
           23.36842105263158,
           23.36842105263158,
           23.36842105263158,
           23.36842105263158,
           23.36842105263158,
           23.36842105263158,
           23.36842105263158,
           23.36842105263158,
           23.36842105263158,
           23.36842105263158,
           23.36842105263158,
           23.36842105263158,
           23.36842105263158,
           23.36842105263158,
           23.36842105263158,
           23.36842105263158,
           23.36842105263158,
           23.36842105263158,
           23.36842105263158
          ],
          [
           23.842105263157894,
           23.842105263157894,
           23.842105263157894,
           23.842105263157894,
           23.842105263157894,
           23.842105263157894,
           23.842105263157894,
           23.842105263157894,
           23.842105263157894,
           23.842105263157894,
           23.842105263157894,
           23.842105263157894,
           23.842105263157894,
           23.842105263157894,
           23.842105263157894,
           23.842105263157894,
           23.842105263157894,
           23.842105263157894,
           23.842105263157894,
           23.842105263157894
          ],
          [
           24.31578947368421,
           24.31578947368421,
           24.31578947368421,
           24.31578947368421,
           24.31578947368421,
           24.31578947368421,
           24.31578947368421,
           24.31578947368421,
           24.31578947368421,
           24.31578947368421,
           24.31578947368421,
           24.31578947368421,
           24.31578947368421,
           24.31578947368421,
           24.31578947368421,
           24.31578947368421,
           24.31578947368421,
           24.31578947368421,
           24.31578947368421,
           24.31578947368421
          ],
          [
           24.789473684210527,
           24.789473684210527,
           24.789473684210527,
           24.789473684210527,
           24.789473684210527,
           24.789473684210527,
           24.789473684210527,
           24.789473684210527,
           24.789473684210527,
           24.789473684210527,
           24.789473684210527,
           24.789473684210527,
           24.789473684210527,
           24.789473684210527,
           24.789473684210527,
           24.789473684210527,
           24.789473684210527,
           24.789473684210527,
           24.789473684210527,
           24.789473684210527
          ],
          [
           25.263157894736842,
           25.263157894736842,
           25.263157894736842,
           25.263157894736842,
           25.263157894736842,
           25.263157894736842,
           25.263157894736842,
           25.263157894736842,
           25.263157894736842,
           25.263157894736842,
           25.263157894736842,
           25.263157894736842,
           25.263157894736842,
           25.263157894736842,
           25.263157894736842,
           25.263157894736842,
           25.263157894736842,
           25.263157894736842,
           25.263157894736842,
           25.263157894736842
          ],
          [
           25.736842105263158,
           25.736842105263158,
           25.736842105263158,
           25.736842105263158,
           25.736842105263158,
           25.736842105263158,
           25.736842105263158,
           25.736842105263158,
           25.736842105263158,
           25.736842105263158,
           25.736842105263158,
           25.736842105263158,
           25.736842105263158,
           25.736842105263158,
           25.736842105263158,
           25.736842105263158,
           25.736842105263158,
           25.736842105263158,
           25.736842105263158,
           25.736842105263158
          ],
          [
           26.210526315789473,
           26.210526315789473,
           26.210526315789473,
           26.210526315789473,
           26.210526315789473,
           26.210526315789473,
           26.210526315789473,
           26.210526315789473,
           26.210526315789473,
           26.210526315789473,
           26.210526315789473,
           26.210526315789473,
           26.210526315789473,
           26.210526315789473,
           26.210526315789473,
           26.210526315789473,
           26.210526315789473,
           26.210526315789473,
           26.210526315789473,
           26.210526315789473
          ],
          [
           26.684210526315788,
           26.684210526315788,
           26.684210526315788,
           26.684210526315788,
           26.684210526315788,
           26.684210526315788,
           26.684210526315788,
           26.684210526315788,
           26.684210526315788,
           26.684210526315788,
           26.684210526315788,
           26.684210526315788,
           26.684210526315788,
           26.684210526315788,
           26.684210526315788,
           26.684210526315788,
           26.684210526315788,
           26.684210526315788,
           26.684210526315788,
           26.684210526315788
          ],
          [
           27.157894736842106,
           27.157894736842106,
           27.157894736842106,
           27.157894736842106,
           27.157894736842106,
           27.157894736842106,
           27.157894736842106,
           27.157894736842106,
           27.157894736842106,
           27.157894736842106,
           27.157894736842106,
           27.157894736842106,
           27.157894736842106,
           27.157894736842106,
           27.157894736842106,
           27.157894736842106,
           27.157894736842106,
           27.157894736842106,
           27.157894736842106,
           27.157894736842106
          ],
          [
           27.63157894736842,
           27.63157894736842,
           27.63157894736842,
           27.63157894736842,
           27.63157894736842,
           27.63157894736842,
           27.63157894736842,
           27.63157894736842,
           27.63157894736842,
           27.63157894736842,
           27.63157894736842,
           27.63157894736842,
           27.63157894736842,
           27.63157894736842,
           27.63157894736842,
           27.63157894736842,
           27.63157894736842,
           27.63157894736842,
           27.63157894736842,
           27.63157894736842
          ],
          [
           28.105263157894736,
           28.105263157894736,
           28.105263157894736,
           28.105263157894736,
           28.105263157894736,
           28.105263157894736,
           28.105263157894736,
           28.105263157894736,
           28.105263157894736,
           28.105263157894736,
           28.105263157894736,
           28.105263157894736,
           28.105263157894736,
           28.105263157894736,
           28.105263157894736,
           28.105263157894736,
           28.105263157894736,
           28.105263157894736,
           28.105263157894736,
           28.105263157894736
          ],
          [
           28.57894736842105,
           28.57894736842105,
           28.57894736842105,
           28.57894736842105,
           28.57894736842105,
           28.57894736842105,
           28.57894736842105,
           28.57894736842105,
           28.57894736842105,
           28.57894736842105,
           28.57894736842105,
           28.57894736842105,
           28.57894736842105,
           28.57894736842105,
           28.57894736842105,
           28.57894736842105,
           28.57894736842105,
           28.57894736842105,
           28.57894736842105,
           28.57894736842105
          ],
          [
           29.05263157894737,
           29.05263157894737,
           29.05263157894737,
           29.05263157894737,
           29.05263157894737,
           29.05263157894737,
           29.05263157894737,
           29.05263157894737,
           29.05263157894737,
           29.05263157894737,
           29.05263157894737,
           29.05263157894737,
           29.05263157894737,
           29.05263157894737,
           29.05263157894737,
           29.05263157894737,
           29.05263157894737,
           29.05263157894737,
           29.05263157894737,
           29.05263157894737
          ],
          [
           29.526315789473685,
           29.526315789473685,
           29.526315789473685,
           29.526315789473685,
           29.526315789473685,
           29.526315789473685,
           29.526315789473685,
           29.526315789473685,
           29.526315789473685,
           29.526315789473685,
           29.526315789473685,
           29.526315789473685,
           29.526315789473685,
           29.526315789473685,
           29.526315789473685,
           29.526315789473685,
           29.526315789473685,
           29.526315789473685,
           29.526315789473685,
           29.526315789473685
          ],
          [
           30,
           30,
           30,
           30,
           30,
           30,
           30,
           30,
           30,
           30,
           30,
           30,
           30,
           30,
           30,
           30,
           30,
           30,
           30,
           30
          ]
         ],
         "z": [
          [
           146.37495005306192,
           147.07761214173402,
           147.78027423040615,
           148.48293631907825,
           149.18559840775038,
           149.88826049642248,
           150.5909225850946,
           151.2935846737667,
           151.99624676243883,
           152.69890885111093,
           153.40157093978306,
           154.10423302845516,
           154.80689511712728,
           155.50955720579938,
           156.2122192944715,
           156.9148813831436,
           157.61754347181574,
           158.32020556048784,
           159.02286764915996,
           159.72552973783206
          ],
          [
           147.8373697865576,
           148.5400318752297,
           149.24269396390181,
           149.9453560525739,
           150.64801814124604,
           151.35068022991814,
           152.05334231859027,
           152.75600440726237,
           153.4586664959345,
           154.1613285846066,
           154.86399067327872,
           155.56665276195082,
           156.26931485062295,
           156.97197693929505,
           157.67463902796717,
           158.37730111663927,
           159.0799632053114,
           159.7826252939835,
           160.48528738265563,
           161.18794947132773
          ],
          [
           149.29978952005325,
           150.00245160872535,
           150.70511369739748,
           151.40777578606958,
           152.1104378747417,
           152.8130999634138,
           153.51576205208593,
           154.21842414075803,
           154.92108622943016,
           155.62374831810226,
           156.3264104067744,
           157.02907249544648,
           157.7317345841186,
           158.4343966727907,
           159.13705876146284,
           159.83972085013494,
           160.54238293880707,
           161.24504502747916,
           161.9477071161513,
           162.6503692048234
          ],
          [
           150.76220925354892,
           151.46487134222104,
           152.16753343089314,
           152.87019551956527,
           153.57285760823737,
           154.2755196969095,
           154.9781817855816,
           155.68084387425372,
           156.38350596292582,
           157.08616805159795,
           157.78883014027005,
           158.49149222894218,
           159.19415431761428,
           159.8968164062864,
           160.5994784949585,
           161.30214058363063,
           162.00480267230273,
           162.70746476097486,
           163.41012684964696,
           164.11278893831908
          ],
          [
           152.22462898704458,
           152.9272910757167,
           153.6299531643888,
           154.33261525306094,
           155.03527734173304,
           155.73793943040516,
           156.44060151907726,
           157.1432636077494,
           157.8459256964215,
           158.54858778509362,
           159.25124987376572,
           159.95391196243784,
           160.65657405110994,
           161.35923613978207,
           162.06189822845417,
           162.7645603171263,
           163.4672224057984,
           164.16988449447052,
           164.87254658314265,
           165.57520867181475
          ],
          [
           153.68704872054025,
           154.38971080921237,
           155.09237289788447,
           155.7950349865566,
           156.4976970752287,
           157.20035916390083,
           157.90302125257293,
           158.60568334124505,
           159.30834542991715,
           160.01100751858928,
           160.7136696072614,
           161.4163316959335,
           162.1189937846056,
           162.82165587327773,
           163.52431796194983,
           164.22698005062196,
           164.9296421392941,
           165.6323042279662,
           166.33496631663832,
           167.03762840531041
          ],
          [
           155.1494684540359,
           155.85213054270804,
           156.55479263138017,
           157.25745472005227,
           157.96011680872437,
           158.6627788973965,
           159.3654409860686,
           160.06810307474072,
           160.77076516341282,
           161.47342725208495,
           162.17608934075707,
           162.87875142942917,
           163.5814135181013,
           164.2840756067734,
           164.98673769544553,
           165.68939978411763,
           166.39206187278975,
           167.09472396146185,
           167.79738605013398,
           168.50004813880608
          ],
          [
           156.61188818753158,
           157.3145502762037,
           158.01721236487583,
           158.71987445354793,
           159.42253654222003,
           160.12519863089216,
           160.82786071956426,
           161.53052280823638,
           162.2331848969085,
           162.9358469855806,
           163.63850907425274,
           164.34117116292484,
           165.04383325159696,
           165.74649534026906,
           166.4491574289412,
           167.1518195176133,
           167.85448160628542,
           168.55714369495752,
           169.25980578362964,
           169.96246787230174
          ],
          [
           158.07430792102727,
           158.77697000969937,
           159.4796320983715,
           160.1822941870436,
           160.88495627571572,
           161.58761836438785,
           162.29028045305995,
           162.99294254173208,
           163.69560463040418,
           164.3982667190763,
           165.1009288077484,
           165.80359089642053,
           166.50625298509263,
           167.20891507376476,
           167.91157716243686,
           168.61423925110898,
           169.31690133978108,
           170.0195634284532,
           170.7222255171253,
           171.42488760579744
          ],
          [
           159.53672765452293,
           160.23938974319506,
           160.94205183186716,
           161.6447139205393,
           162.3473760092114,
           163.05003809788352,
           163.75270018655561,
           164.45536227522774,
           165.15802436389984,
           165.86068645257197,
           166.56334854124407,
           167.2660106299162,
           167.9686727185883,
           168.67133480726042,
           169.37399689593252,
           170.07665898460465,
           170.77932107327675,
           171.48198316194888,
           172.18464525062097,
           172.8873073392931
          ],
          [
           160.9991473880186,
           161.70180947669073,
           162.40447156536283,
           163.10713365403495,
           163.80979574270705,
           164.51245783137918,
           165.21511992005128,
           165.9177820087234,
           166.6204440973955,
           167.32310618606763,
           168.02576827473973,
           168.72843036341186,
           169.43109245208396,
           170.1337545407561,
           170.8364166294282,
           171.5390787181003,
           172.2417408067724,
           172.94440289544454,
           173.64706498411664,
           174.34972707278877
          ],
          [
           162.46156712151426,
           163.1642292101864,
           163.8668912988585,
           164.56955338753062,
           165.27221547620272,
           165.97487756487484,
           166.67753965354694,
           167.38020174221907,
           168.08286383089117,
           168.7855259195633,
           169.4881880082354,
           170.19085009690752,
           170.89351218557962,
           171.59617427425175,
           172.29883636292385,
           173.00149845159598,
           173.70416054026808,
           174.4068226289402,
           175.1094847176123,
           175.81214680628443
          ],
          [
           163.92398685500993,
           164.62664894368206,
           165.32931103235416,
           166.03197312102628,
           166.73463520969838,
           167.4372972983705,
           168.1399593870426,
           168.84262147571474,
           169.54528356438684,
           170.24794565305896,
           170.95060774173106,
           171.6532698304032,
           172.3559319190753,
           173.05859400774742,
           173.76125609641952,
           174.46391818509164,
           175.16658027376374,
           175.86924236243587,
           176.571904451108,
           177.2745665397801
          ],
          [
           165.38640658850562,
           166.08906867717772,
           166.79173076584985,
           167.49439285452195,
           168.19705494319408,
           168.89971703186617,
           169.6023791205383,
           170.3050412092104,
           171.00770329788253,
           171.71036538655463,
           172.41302747522676,
           173.11568956389885,
           173.81835165257098,
           174.52101374124308,
           175.2236758299152,
           175.9263379185873,
           176.62900000725944,
           177.33166209593153,
           178.03432418460366,
           178.73698627327576
          ],
          [
           166.8488263220013,
           167.5514884106734,
           168.2541504993455,
           168.9568125880176,
           169.65947467668974,
           170.36213676536184,
           171.06479885403397,
           171.76746094270607,
           172.4701230313782,
           173.1727851200503,
           173.87544720872242,
           174.57810929739452,
           175.28077138606665,
           175.98343347473877,
           176.68609556341087,
           177.38875765208297,
           178.0914197407551,
           178.79408182942723,
           179.49674391809933,
           180.19940600677143
          ],
          [
           168.31124605549695,
           169.01390814416905,
           169.71657023284118,
           170.41923232151328,
           171.1218944101854,
           171.82455649885753,
           172.52721858752963,
           173.22988067620173,
           173.93254276487386,
           174.63520485354599,
           175.33786694221808,
           176.04052903089018,
           176.7431911195623,
           177.44585320823444,
           178.14851529690654,
           178.85117738557867,
           179.55383947425076,
           180.2565015629229,
           180.959163651595,
           181.66182574026712
          ],
          [
           169.77366578899262,
           170.47632787766474,
           171.17898996633684,
           171.88165205500894,
           172.58431414368107,
           173.2869762323532,
           173.9896383210253,
           174.6923004096974,
           175.39496249836952,
           176.09762458704165,
           176.80028667571375,
           177.50294876438585,
           178.20561085305798,
           178.9082729417301,
           179.6109350304022,
           180.31359711907433,
           181.01625920774643,
           181.71892129641856,
           182.42158338509066,
           183.12424547376278
          ],
          [
           171.23608552248828,
           171.9387476111604,
           172.64140969983254,
           173.34407178850464,
           174.04673387717673,
           174.74939596584886,
           175.45205805452096,
           176.1547201431931,
           176.8573822318652,
           177.56004432053732,
           178.26270640920944,
           178.96536849788154,
           179.66803058655364,
           180.37069267522577,
           181.0733547638979,
           181.77601685257,
           182.47867894124212,
           183.18134102991422,
           183.88400311858635,
           184.58666520725845
          ],
          [
           172.69850525598395,
           173.40116734465607,
           174.1038294333282,
           174.8064915220003,
           175.5091536106724,
           176.21181569934453,
           176.91447778801663,
           177.61713987668875,
           178.31980196536088,
           179.02246405403298,
           179.7251261427051,
           180.4277882313772,
           181.13045032004933,
           181.83311240872143,
           182.53577449739356,
           183.23843658606566,
           183.9410986747378,
           184.6437607634099,
           185.34642285208201,
           186.0490849407541
          ],
          [
           174.16092498947964,
           174.86358707815174,
           175.56624916682387,
           176.26891125549596,
           176.9715733441681,
           177.6742354328402,
           178.37689752151232,
           179.07955961018442,
           179.78222169885655,
           180.48488378752864,
           181.18754587620077,
           181.89020796487287,
           182.592870053545,
           183.2955321422171,
           183.99819423088923,
           184.70085631956132,
           185.40351840823345,
           186.10618049690555,
           186.80884258557768,
           187.51150467424978
          ]
         ]
        }
       ],
       "layout": {
        "scene": {
         "xaxis": {
          "title": {
           "text": "Ancho"
          }
         },
         "yaxis": {
          "title": {
           "text": "Pie"
          }
         },
         "zaxis": {
          "title": {
           "text": "Altura"
          }
         }
        },
        "template": {
         "data": {
          "bar": [
           {
            "error_x": {
             "color": "#2a3f5f"
            },
            "error_y": {
             "color": "#2a3f5f"
            },
            "marker": {
             "line": {
              "color": "#E5ECF6",
              "width": 0.5
             },
             "pattern": {
              "fillmode": "overlay",
              "size": 10,
              "solidity": 0.2
             }
            },
            "type": "bar"
           }
          ],
          "barpolar": [
           {
            "marker": {
             "line": {
              "color": "#E5ECF6",
              "width": 0.5
             },
             "pattern": {
              "fillmode": "overlay",
              "size": 10,
              "solidity": 0.2
             }
            },
            "type": "barpolar"
           }
          ],
          "carpet": [
           {
            "aaxis": {
             "endlinecolor": "#2a3f5f",
             "gridcolor": "white",
             "linecolor": "white",
             "minorgridcolor": "white",
             "startlinecolor": "#2a3f5f"
            },
            "baxis": {
             "endlinecolor": "#2a3f5f",
             "gridcolor": "white",
             "linecolor": "white",
             "minorgridcolor": "white",
             "startlinecolor": "#2a3f5f"
            },
            "type": "carpet"
           }
          ],
          "choropleth": [
           {
            "colorbar": {
             "outlinewidth": 0,
             "ticks": ""
            },
            "type": "choropleth"
           }
          ],
          "contour": [
           {
            "colorbar": {
             "outlinewidth": 0,
             "ticks": ""
            },
            "colorscale": [
             [
              0,
              "#0d0887"
             ],
             [
              0.1111111111111111,
              "#46039f"
             ],
             [
              0.2222222222222222,
              "#7201a8"
             ],
             [
              0.3333333333333333,
              "#9c179e"
             ],
             [
              0.4444444444444444,
              "#bd3786"
             ],
             [
              0.5555555555555556,
              "#d8576b"
             ],
             [
              0.6666666666666666,
              "#ed7953"
             ],
             [
              0.7777777777777778,
              "#fb9f3a"
             ],
             [
              0.8888888888888888,
              "#fdca26"
             ],
             [
              1,
              "#f0f921"
             ]
            ],
            "type": "contour"
           }
          ],
          "contourcarpet": [
           {
            "colorbar": {
             "outlinewidth": 0,
             "ticks": ""
            },
            "type": "contourcarpet"
           }
          ],
          "heatmap": [
           {
            "colorbar": {
             "outlinewidth": 0,
             "ticks": ""
            },
            "colorscale": [
             [
              0,
              "#0d0887"
             ],
             [
              0.1111111111111111,
              "#46039f"
             ],
             [
              0.2222222222222222,
              "#7201a8"
             ],
             [
              0.3333333333333333,
              "#9c179e"
             ],
             [
              0.4444444444444444,
              "#bd3786"
             ],
             [
              0.5555555555555556,
              "#d8576b"
             ],
             [
              0.6666666666666666,
              "#ed7953"
             ],
             [
              0.7777777777777778,
              "#fb9f3a"
             ],
             [
              0.8888888888888888,
              "#fdca26"
             ],
             [
              1,
              "#f0f921"
             ]
            ],
            "type": "heatmap"
           }
          ],
          "heatmapgl": [
           {
            "colorbar": {
             "outlinewidth": 0,
             "ticks": ""
            },
            "colorscale": [
             [
              0,
              "#0d0887"
             ],
             [
              0.1111111111111111,
              "#46039f"
             ],
             [
              0.2222222222222222,
              "#7201a8"
             ],
             [
              0.3333333333333333,
              "#9c179e"
             ],
             [
              0.4444444444444444,
              "#bd3786"
             ],
             [
              0.5555555555555556,
              "#d8576b"
             ],
             [
              0.6666666666666666,
              "#ed7953"
             ],
             [
              0.7777777777777778,
              "#fb9f3a"
             ],
             [
              0.8888888888888888,
              "#fdca26"
             ],
             [
              1,
              "#f0f921"
             ]
            ],
            "type": "heatmapgl"
           }
          ],
          "histogram": [
           {
            "marker": {
             "pattern": {
              "fillmode": "overlay",
              "size": 10,
              "solidity": 0.2
             }
            },
            "type": "histogram"
           }
          ],
          "histogram2d": [
           {
            "colorbar": {
             "outlinewidth": 0,
             "ticks": ""
            },
            "colorscale": [
             [
              0,
              "#0d0887"
             ],
             [
              0.1111111111111111,
              "#46039f"
             ],
             [
              0.2222222222222222,
              "#7201a8"
             ],
             [
              0.3333333333333333,
              "#9c179e"
             ],
             [
              0.4444444444444444,
              "#bd3786"
             ],
             [
              0.5555555555555556,
              "#d8576b"
             ],
             [
              0.6666666666666666,
              "#ed7953"
             ],
             [
              0.7777777777777778,
              "#fb9f3a"
             ],
             [
              0.8888888888888888,
              "#fdca26"
             ],
             [
              1,
              "#f0f921"
             ]
            ],
            "type": "histogram2d"
           }
          ],
          "histogram2dcontour": [
           {
            "colorbar": {
             "outlinewidth": 0,
             "ticks": ""
            },
            "colorscale": [
             [
              0,
              "#0d0887"
             ],
             [
              0.1111111111111111,
              "#46039f"
             ],
             [
              0.2222222222222222,
              "#7201a8"
             ],
             [
              0.3333333333333333,
              "#9c179e"
             ],
             [
              0.4444444444444444,
              "#bd3786"
             ],
             [
              0.5555555555555556,
              "#d8576b"
             ],
             [
              0.6666666666666666,
              "#ed7953"
             ],
             [
              0.7777777777777778,
              "#fb9f3a"
             ],
             [
              0.8888888888888888,
              "#fdca26"
             ],
             [
              1,
              "#f0f921"
             ]
            ],
            "type": "histogram2dcontour"
           }
          ],
          "mesh3d": [
           {
            "colorbar": {
             "outlinewidth": 0,
             "ticks": ""
            },
            "type": "mesh3d"
           }
          ],
          "parcoords": [
           {
            "line": {
             "colorbar": {
              "outlinewidth": 0,
              "ticks": ""
             }
            },
            "type": "parcoords"
           }
          ],
          "pie": [
           {
            "automargin": true,
            "type": "pie"
           }
          ],
          "scatter": [
           {
            "fillpattern": {
             "fillmode": "overlay",
             "size": 10,
             "solidity": 0.2
            },
            "type": "scatter"
           }
          ],
          "scatter3d": [
           {
            "line": {
             "colorbar": {
              "outlinewidth": 0,
              "ticks": ""
             }
            },
            "marker": {
             "colorbar": {
              "outlinewidth": 0,
              "ticks": ""
             }
            },
            "type": "scatter3d"
           }
          ],
          "scattercarpet": [
           {
            "marker": {
             "colorbar": {
              "outlinewidth": 0,
              "ticks": ""
             }
            },
            "type": "scattercarpet"
           }
          ],
          "scattergeo": [
           {
            "marker": {
             "colorbar": {
              "outlinewidth": 0,
              "ticks": ""
             }
            },
            "type": "scattergeo"
           }
          ],
          "scattergl": [
           {
            "marker": {
             "colorbar": {
              "outlinewidth": 0,
              "ticks": ""
             }
            },
            "type": "scattergl"
           }
          ],
          "scattermapbox": [
           {
            "marker": {
             "colorbar": {
              "outlinewidth": 0,
              "ticks": ""
             }
            },
            "type": "scattermapbox"
           }
          ],
          "scatterpolar": [
           {
            "marker": {
             "colorbar": {
              "outlinewidth": 0,
              "ticks": ""
             }
            },
            "type": "scatterpolar"
           }
          ],
          "scatterpolargl": [
           {
            "marker": {
             "colorbar": {
              "outlinewidth": 0,
              "ticks": ""
             }
            },
            "type": "scatterpolargl"
           }
          ],
          "scatterternary": [
           {
            "marker": {
             "colorbar": {
              "outlinewidth": 0,
              "ticks": ""
             }
            },
            "type": "scatterternary"
           }
          ],
          "surface": [
           {
            "colorbar": {
             "outlinewidth": 0,
             "ticks": ""
            },
            "colorscale": [
             [
              0,
              "#0d0887"
             ],
             [
              0.1111111111111111,
              "#46039f"
             ],
             [
              0.2222222222222222,
              "#7201a8"
             ],
             [
              0.3333333333333333,
              "#9c179e"
             ],
             [
              0.4444444444444444,
              "#bd3786"
             ],
             [
              0.5555555555555556,
              "#d8576b"
             ],
             [
              0.6666666666666666,
              "#ed7953"
             ],
             [
              0.7777777777777778,
              "#fb9f3a"
             ],
             [
              0.8888888888888888,
              "#fdca26"
             ],
             [
              1,
              "#f0f921"
             ]
            ],
            "type": "surface"
           }
          ],
          "table": [
           {
            "cells": {
             "fill": {
              "color": "#EBF0F8"
             },
             "line": {
              "color": "white"
             }
            },
            "header": {
             "fill": {
              "color": "#C8D4E3"
             },
             "line": {
              "color": "white"
             }
            },
            "type": "table"
           }
          ]
         },
         "layout": {
          "annotationdefaults": {
           "arrowcolor": "#2a3f5f",
           "arrowhead": 0,
           "arrowwidth": 1
          },
          "autotypenumbers": "strict",
          "coloraxis": {
           "colorbar": {
            "outlinewidth": 0,
            "ticks": ""
           }
          },
          "colorscale": {
           "diverging": [
            [
             0,
             "#8e0152"
            ],
            [
             0.1,
             "#c51b7d"
            ],
            [
             0.2,
             "#de77ae"
            ],
            [
             0.3,
             "#f1b6da"
            ],
            [
             0.4,
             "#fde0ef"
            ],
            [
             0.5,
             "#f7f7f7"
            ],
            [
             0.6,
             "#e6f5d0"
            ],
            [
             0.7,
             "#b8e186"
            ],
            [
             0.8,
             "#7fbc41"
            ],
            [
             0.9,
             "#4d9221"
            ],
            [
             1,
             "#276419"
            ]
           ],
           "sequential": [
            [
             0,
             "#0d0887"
            ],
            [
             0.1111111111111111,
             "#46039f"
            ],
            [
             0.2222222222222222,
             "#7201a8"
            ],
            [
             0.3333333333333333,
             "#9c179e"
            ],
            [
             0.4444444444444444,
             "#bd3786"
            ],
            [
             0.5555555555555556,
             "#d8576b"
            ],
            [
             0.6666666666666666,
             "#ed7953"
            ],
            [
             0.7777777777777778,
             "#fb9f3a"
            ],
            [
             0.8888888888888888,
             "#fdca26"
            ],
            [
             1,
             "#f0f921"
            ]
           ],
           "sequentialminus": [
            [
             0,
             "#0d0887"
            ],
            [
             0.1111111111111111,
             "#46039f"
            ],
            [
             0.2222222222222222,
             "#7201a8"
            ],
            [
             0.3333333333333333,
             "#9c179e"
            ],
            [
             0.4444444444444444,
             "#bd3786"
            ],
            [
             0.5555555555555556,
             "#d8576b"
            ],
            [
             0.6666666666666666,
             "#ed7953"
            ],
            [
             0.7777777777777778,
             "#fb9f3a"
            ],
            [
             0.8888888888888888,
             "#fdca26"
            ],
            [
             1,
             "#f0f921"
            ]
           ]
          },
          "colorway": [
           "#636efa",
           "#EF553B",
           "#00cc96",
           "#ab63fa",
           "#FFA15A",
           "#19d3f3",
           "#FF6692",
           "#B6E880",
           "#FF97FF",
           "#FECB52"
          ],
          "font": {
           "color": "#2a3f5f"
          },
          "geo": {
           "bgcolor": "white",
           "lakecolor": "white",
           "landcolor": "#E5ECF6",
           "showlakes": true,
           "showland": true,
           "subunitcolor": "white"
          },
          "hoverlabel": {
           "align": "left"
          },
          "hovermode": "closest",
          "mapbox": {
           "style": "light"
          },
          "paper_bgcolor": "white",
          "plot_bgcolor": "#E5ECF6",
          "polar": {
           "angularaxis": {
            "gridcolor": "white",
            "linecolor": "white",
            "ticks": ""
           },
           "bgcolor": "#E5ECF6",
           "radialaxis": {
            "gridcolor": "white",
            "linecolor": "white",
            "ticks": ""
           }
          },
          "scene": {
           "xaxis": {
            "backgroundcolor": "#E5ECF6",
            "gridcolor": "white",
            "gridwidth": 2,
            "linecolor": "white",
            "showbackground": true,
            "ticks": "",
            "zerolinecolor": "white"
           },
           "yaxis": {
            "backgroundcolor": "#E5ECF6",
            "gridcolor": "white",
            "gridwidth": 2,
            "linecolor": "white",
            "showbackground": true,
            "ticks": "",
            "zerolinecolor": "white"
           },
           "zaxis": {
            "backgroundcolor": "#E5ECF6",
            "gridcolor": "white",
            "gridwidth": 2,
            "linecolor": "white",
            "showbackground": true,
            "ticks": "",
            "zerolinecolor": "white"
           }
          },
          "shapedefaults": {
           "line": {
            "color": "#2a3f5f"
           }
          },
          "ternary": {
           "aaxis": {
            "gridcolor": "white",
            "linecolor": "white",
            "ticks": ""
           },
           "baxis": {
            "gridcolor": "white",
            "linecolor": "white",
            "ticks": ""
           },
           "bgcolor": "#E5ECF6",
           "caxis": {
            "gridcolor": "white",
            "linecolor": "white",
            "ticks": ""
           }
          },
          "title": {
           "x": 0.05
          },
          "xaxis": {
           "automargin": true,
           "gridcolor": "white",
           "linecolor": "white",
           "ticks": "",
           "title": {
            "standoff": 15
           },
           "zerolinecolor": "white",
           "zerolinewidth": 2
          },
          "yaxis": {
           "automargin": true,
           "gridcolor": "white",
           "linecolor": "white",
           "ticks": "",
           "title": {
            "standoff": 15
           },
           "zerolinecolor": "white",
           "zerolinewidth": 2
          }
         }
        },
        "title": {
         "text": "ITESO LEFT<br>R2: 0.7831419350356263 RMSE: 3.4859519404608967"
        }
       }
      }
     },
     "metadata": {},
     "output_type": "display_data"
    }
   ],
   "source": [
    "# Definir rangos para las variables independientes\n",
    "x1_range = np.linspace(min(x_train_left['width']), max(x_train_left['width']), 20)\n",
    "x2_range = np.linspace(min(x_train_left['shoe_size']), max(x_train_left['shoe_size']), 20)\n",
    "x1_mesh, x2_mesh = np.meshgrid(x1_range, x2_range)\n",
    "\n",
    "# Escalar el meshgrid para predicción\n",
    "x_mesh_scaled = ss_left.transform(np.vstack((x1_mesh.ravel(), x2_mesh.ravel())).T)\n",
    "\n",
    "# Predecir los valores con el modelo escalado\n",
    "y_mesh_scaled = rg_l.predict(x_mesh_scaled)\n",
    "\n",
    "# Crear scatterplot 3D de los puntos reales\n",
    "scatter = go.Scatter3d(\n",
    "    x=x_test_left['width'], y=x_test_left['shoe_size'], z=y_test_left,\n",
    "    mode='markers',\n",
    "    marker=dict(size=8, color='red', opacity=0.7)\n",
    ")\n",
    "\n",
    "# Crear el plano de regresión\n",
    "surface = go.Surface(\n",
    "    x=x1_mesh, y=x2_mesh, z=y_mesh_scaled.reshape(x1_mesh.shape),\n",
    "    colorscale='Viridis', opacity=0.5\n",
    ")\n",
    "\n",
    "# Configuración del layout\n",
    "layout = go.Layout(\n",
    "    title=f\"ITESO LEFT<br>R2: {r2_score(y_test_left, r_pred_left)} RMSE: {root_mean_squared_error(y_test_left, r_pred_left)}\",\n",
    "    scene=dict(\n",
    "        xaxis_title='Ancho',\n",
    "        yaxis_title='Pie',\n",
    "        zaxis_title='Altura'\n",
    "    )\n",
    ")\n",
    "\n",
    "# Crear la figura\n",
    "fig = go.Figure(data=[scatter, surface], layout=layout)\n",
    "\n",
    "# Mostrar la figura interactiva\n",
    "fig.show()"
   ]
  },
  {
   "cell_type": "markdown",
   "metadata": {},
   "source": [
    "### Center model"
   ]
  },
  {
   "cell_type": "code",
   "execution_count": 34,
   "metadata": {},
   "outputs": [
    {
     "name": "stdout",
     "output_type": "stream",
     "text": [
      "R2: 0.8484303924224865 RMSE: 4.280983988385949\n"
     ]
    }
   ],
   "source": [
    "rg_c = Ridge(alpha = 1.26)\n",
    "rg_c.fit(X_train_s_center, y_train_center)\n",
    "r_pred_center = rg_c.predict(X_test_s_center)\n",
    "print(f\"R2: {r2_score(y_test_center, r_pred_center)} RMSE: {root_mean_squared_error(y_test_center, r_pred_center)}\")"
   ]
  },
  {
   "cell_type": "code",
   "execution_count": 35,
   "metadata": {},
   "outputs": [
    {
     "name": "stdout",
     "output_type": "stream",
     "text": [
      "Pendientes: [0.84705044 7.40777022]\n",
      "Intercepto: 169.1014492753623\n"
     ]
    }
   ],
   "source": [
    "print(f\"Pendientes: {rg_c.coef_}\")\n",
    "print(f\"Intercepto: {rg_c.intercept_}\")"
   ]
  },
  {
   "cell_type": "code",
   "execution_count": 36,
   "metadata": {},
   "outputs": [
    {
     "name": "stderr",
     "output_type": "stream",
     "text": [
      "c:\\Users\\Roi_f\\anaconda3\\envs\\personal\\Lib\\site-packages\\sklearn\\base.py:493: UserWarning:\n",
      "\n",
      "X does not have valid feature names, but StandardScaler was fitted with feature names\n",
      "\n"
     ]
    }
   ],
   "source": [
    "values_para_center = ss_center.transform([[36,22.5]])"
   ]
  },
  {
   "cell_type": "code",
   "execution_count": 37,
   "metadata": {},
   "outputs": [
    {
     "data": {
      "text/plain": [
       "array([155.08588937])"
      ]
     },
     "execution_count": 37,
     "metadata": {},
     "output_type": "execute_result"
    }
   ],
   "source": [
    "rg_c.predict(values_para_center)"
   ]
  },
  {
   "cell_type": "code",
   "execution_count": 38,
   "metadata": {},
   "outputs": [
    {
     "name": "stderr",
     "output_type": "stream",
     "text": [
      "c:\\Users\\Roi_f\\anaconda3\\envs\\personal\\Lib\\site-packages\\sklearn\\base.py:493: UserWarning:\n",
      "\n",
      "X does not have valid feature names, but StandardScaler was fitted with feature names\n",
      "\n"
     ]
    },
    {
     "data": {
      "application/vnd.plotly.v1+json": {
       "config": {
        "plotlyServerURL": "https://plot.ly"
       },
       "data": [
        {
         "marker": {
          "color": "red",
          "opacity": 0.7,
          "size": 8
         },
         "mode": "markers",
         "type": "scatter3d",
         "x": [
          42,
          46,
          40,
          48,
          34,
          48,
          42,
          46,
          44,
          45,
          39,
          49,
          52,
          50,
          36,
          46,
          41,
          43
         ],
         "y": [
          27,
          24,
          23,
          28,
          24,
          29,
          24,
          28,
          23,
          27.5,
          22.5,
          27.5,
          30,
          28,
          23,
          27,
          23,
          25
         ],
         "z": [
          177,
          170,
          159,
          176,
          154,
          187,
          162,
          182,
          162,
          175,
          150,
          175,
          190,
          173,
          164,
          172,
          154,
          168
         ]
        },
        {
         "colorscale": [
          [
           0,
           "#440154"
          ],
          [
           0.1111111111111111,
           "#482878"
          ],
          [
           0.2222222222222222,
           "#3e4989"
          ],
          [
           0.3333333333333333,
           "#31688e"
          ],
          [
           0.4444444444444444,
           "#26828e"
          ],
          [
           0.5555555555555556,
           "#1f9e89"
          ],
          [
           0.6666666666666666,
           "#35b779"
          ],
          [
           0.7777777777777778,
           "#6ece58"
          ],
          [
           0.8888888888888888,
           "#b5de2b"
          ],
          [
           1,
           "#fde725"
          ]
         ],
         "opacity": 0.5,
         "type": "surface",
         "x": [
          [
           33,
           34.473684210526315,
           35.94736842105263,
           37.421052631578945,
           38.89473684210526,
           40.368421052631575,
           41.84210526315789,
           43.31578947368421,
           44.78947368421053,
           46.26315789473684,
           47.73684210526316,
           49.21052631578947,
           50.68421052631579,
           52.1578947368421,
           53.631578947368425,
           55.10526315789474,
           56.578947368421055,
           58.05263157894737,
           59.526315789473685,
           61
          ],
          [
           33,
           34.473684210526315,
           35.94736842105263,
           37.421052631578945,
           38.89473684210526,
           40.368421052631575,
           41.84210526315789,
           43.31578947368421,
           44.78947368421053,
           46.26315789473684,
           47.73684210526316,
           49.21052631578947,
           50.68421052631579,
           52.1578947368421,
           53.631578947368425,
           55.10526315789474,
           56.578947368421055,
           58.05263157894737,
           59.526315789473685,
           61
          ],
          [
           33,
           34.473684210526315,
           35.94736842105263,
           37.421052631578945,
           38.89473684210526,
           40.368421052631575,
           41.84210526315789,
           43.31578947368421,
           44.78947368421053,
           46.26315789473684,
           47.73684210526316,
           49.21052631578947,
           50.68421052631579,
           52.1578947368421,
           53.631578947368425,
           55.10526315789474,
           56.578947368421055,
           58.05263157894737,
           59.526315789473685,
           61
          ],
          [
           33,
           34.473684210526315,
           35.94736842105263,
           37.421052631578945,
           38.89473684210526,
           40.368421052631575,
           41.84210526315789,
           43.31578947368421,
           44.78947368421053,
           46.26315789473684,
           47.73684210526316,
           49.21052631578947,
           50.68421052631579,
           52.1578947368421,
           53.631578947368425,
           55.10526315789474,
           56.578947368421055,
           58.05263157894737,
           59.526315789473685,
           61
          ],
          [
           33,
           34.473684210526315,
           35.94736842105263,
           37.421052631578945,
           38.89473684210526,
           40.368421052631575,
           41.84210526315789,
           43.31578947368421,
           44.78947368421053,
           46.26315789473684,
           47.73684210526316,
           49.21052631578947,
           50.68421052631579,
           52.1578947368421,
           53.631578947368425,
           55.10526315789474,
           56.578947368421055,
           58.05263157894737,
           59.526315789473685,
           61
          ],
          [
           33,
           34.473684210526315,
           35.94736842105263,
           37.421052631578945,
           38.89473684210526,
           40.368421052631575,
           41.84210526315789,
           43.31578947368421,
           44.78947368421053,
           46.26315789473684,
           47.73684210526316,
           49.21052631578947,
           50.68421052631579,
           52.1578947368421,
           53.631578947368425,
           55.10526315789474,
           56.578947368421055,
           58.05263157894737,
           59.526315789473685,
           61
          ],
          [
           33,
           34.473684210526315,
           35.94736842105263,
           37.421052631578945,
           38.89473684210526,
           40.368421052631575,
           41.84210526315789,
           43.31578947368421,
           44.78947368421053,
           46.26315789473684,
           47.73684210526316,
           49.21052631578947,
           50.68421052631579,
           52.1578947368421,
           53.631578947368425,
           55.10526315789474,
           56.578947368421055,
           58.05263157894737,
           59.526315789473685,
           61
          ],
          [
           33,
           34.473684210526315,
           35.94736842105263,
           37.421052631578945,
           38.89473684210526,
           40.368421052631575,
           41.84210526315789,
           43.31578947368421,
           44.78947368421053,
           46.26315789473684,
           47.73684210526316,
           49.21052631578947,
           50.68421052631579,
           52.1578947368421,
           53.631578947368425,
           55.10526315789474,
           56.578947368421055,
           58.05263157894737,
           59.526315789473685,
           61
          ],
          [
           33,
           34.473684210526315,
           35.94736842105263,
           37.421052631578945,
           38.89473684210526,
           40.368421052631575,
           41.84210526315789,
           43.31578947368421,
           44.78947368421053,
           46.26315789473684,
           47.73684210526316,
           49.21052631578947,
           50.68421052631579,
           52.1578947368421,
           53.631578947368425,
           55.10526315789474,
           56.578947368421055,
           58.05263157894737,
           59.526315789473685,
           61
          ],
          [
           33,
           34.473684210526315,
           35.94736842105263,
           37.421052631578945,
           38.89473684210526,
           40.368421052631575,
           41.84210526315789,
           43.31578947368421,
           44.78947368421053,
           46.26315789473684,
           47.73684210526316,
           49.21052631578947,
           50.68421052631579,
           52.1578947368421,
           53.631578947368425,
           55.10526315789474,
           56.578947368421055,
           58.05263157894737,
           59.526315789473685,
           61
          ],
          [
           33,
           34.473684210526315,
           35.94736842105263,
           37.421052631578945,
           38.89473684210526,
           40.368421052631575,
           41.84210526315789,
           43.31578947368421,
           44.78947368421053,
           46.26315789473684,
           47.73684210526316,
           49.21052631578947,
           50.68421052631579,
           52.1578947368421,
           53.631578947368425,
           55.10526315789474,
           56.578947368421055,
           58.05263157894737,
           59.526315789473685,
           61
          ],
          [
           33,
           34.473684210526315,
           35.94736842105263,
           37.421052631578945,
           38.89473684210526,
           40.368421052631575,
           41.84210526315789,
           43.31578947368421,
           44.78947368421053,
           46.26315789473684,
           47.73684210526316,
           49.21052631578947,
           50.68421052631579,
           52.1578947368421,
           53.631578947368425,
           55.10526315789474,
           56.578947368421055,
           58.05263157894737,
           59.526315789473685,
           61
          ],
          [
           33,
           34.473684210526315,
           35.94736842105263,
           37.421052631578945,
           38.89473684210526,
           40.368421052631575,
           41.84210526315789,
           43.31578947368421,
           44.78947368421053,
           46.26315789473684,
           47.73684210526316,
           49.21052631578947,
           50.68421052631579,
           52.1578947368421,
           53.631578947368425,
           55.10526315789474,
           56.578947368421055,
           58.05263157894737,
           59.526315789473685,
           61
          ],
          [
           33,
           34.473684210526315,
           35.94736842105263,
           37.421052631578945,
           38.89473684210526,
           40.368421052631575,
           41.84210526315789,
           43.31578947368421,
           44.78947368421053,
           46.26315789473684,
           47.73684210526316,
           49.21052631578947,
           50.68421052631579,
           52.1578947368421,
           53.631578947368425,
           55.10526315789474,
           56.578947368421055,
           58.05263157894737,
           59.526315789473685,
           61
          ],
          [
           33,
           34.473684210526315,
           35.94736842105263,
           37.421052631578945,
           38.89473684210526,
           40.368421052631575,
           41.84210526315789,
           43.31578947368421,
           44.78947368421053,
           46.26315789473684,
           47.73684210526316,
           49.21052631578947,
           50.68421052631579,
           52.1578947368421,
           53.631578947368425,
           55.10526315789474,
           56.578947368421055,
           58.05263157894737,
           59.526315789473685,
           61
          ],
          [
           33,
           34.473684210526315,
           35.94736842105263,
           37.421052631578945,
           38.89473684210526,
           40.368421052631575,
           41.84210526315789,
           43.31578947368421,
           44.78947368421053,
           46.26315789473684,
           47.73684210526316,
           49.21052631578947,
           50.68421052631579,
           52.1578947368421,
           53.631578947368425,
           55.10526315789474,
           56.578947368421055,
           58.05263157894737,
           59.526315789473685,
           61
          ],
          [
           33,
           34.473684210526315,
           35.94736842105263,
           37.421052631578945,
           38.89473684210526,
           40.368421052631575,
           41.84210526315789,
           43.31578947368421,
           44.78947368421053,
           46.26315789473684,
           47.73684210526316,
           49.21052631578947,
           50.68421052631579,
           52.1578947368421,
           53.631578947368425,
           55.10526315789474,
           56.578947368421055,
           58.05263157894737,
           59.526315789473685,
           61
          ],
          [
           33,
           34.473684210526315,
           35.94736842105263,
           37.421052631578945,
           38.89473684210526,
           40.368421052631575,
           41.84210526315789,
           43.31578947368421,
           44.78947368421053,
           46.26315789473684,
           47.73684210526316,
           49.21052631578947,
           50.68421052631579,
           52.1578947368421,
           53.631578947368425,
           55.10526315789474,
           56.578947368421055,
           58.05263157894737,
           59.526315789473685,
           61
          ],
          [
           33,
           34.473684210526315,
           35.94736842105263,
           37.421052631578945,
           38.89473684210526,
           40.368421052631575,
           41.84210526315789,
           43.31578947368421,
           44.78947368421053,
           46.26315789473684,
           47.73684210526316,
           49.21052631578947,
           50.68421052631579,
           52.1578947368421,
           53.631578947368425,
           55.10526315789474,
           56.578947368421055,
           58.05263157894737,
           59.526315789473685,
           61
          ],
          [
           33,
           34.473684210526315,
           35.94736842105263,
           37.421052631578945,
           38.89473684210526,
           40.368421052631575,
           41.84210526315789,
           43.31578947368421,
           44.78947368421053,
           46.26315789473684,
           47.73684210526316,
           49.21052631578947,
           50.68421052631579,
           52.1578947368421,
           53.631578947368425,
           55.10526315789474,
           56.578947368421055,
           58.05263157894737,
           59.526315789473685,
           61
          ]
         ],
         "y": [
          [
           22,
           22,
           22,
           22,
           22,
           22,
           22,
           22,
           22,
           22,
           22,
           22,
           22,
           22,
           22,
           22,
           22,
           22,
           22,
           22
          ],
          [
           22.42105263157895,
           22.42105263157895,
           22.42105263157895,
           22.42105263157895,
           22.42105263157895,
           22.42105263157895,
           22.42105263157895,
           22.42105263157895,
           22.42105263157895,
           22.42105263157895,
           22.42105263157895,
           22.42105263157895,
           22.42105263157895,
           22.42105263157895,
           22.42105263157895,
           22.42105263157895,
           22.42105263157895,
           22.42105263157895,
           22.42105263157895,
           22.42105263157895
          ],
          [
           22.842105263157894,
           22.842105263157894,
           22.842105263157894,
           22.842105263157894,
           22.842105263157894,
           22.842105263157894,
           22.842105263157894,
           22.842105263157894,
           22.842105263157894,
           22.842105263157894,
           22.842105263157894,
           22.842105263157894,
           22.842105263157894,
           22.842105263157894,
           22.842105263157894,
           22.842105263157894,
           22.842105263157894,
           22.842105263157894,
           22.842105263157894,
           22.842105263157894
          ],
          [
           23.263157894736842,
           23.263157894736842,
           23.263157894736842,
           23.263157894736842,
           23.263157894736842,
           23.263157894736842,
           23.263157894736842,
           23.263157894736842,
           23.263157894736842,
           23.263157894736842,
           23.263157894736842,
           23.263157894736842,
           23.263157894736842,
           23.263157894736842,
           23.263157894736842,
           23.263157894736842,
           23.263157894736842,
           23.263157894736842,
           23.263157894736842,
           23.263157894736842
          ],
          [
           23.684210526315788,
           23.684210526315788,
           23.684210526315788,
           23.684210526315788,
           23.684210526315788,
           23.684210526315788,
           23.684210526315788,
           23.684210526315788,
           23.684210526315788,
           23.684210526315788,
           23.684210526315788,
           23.684210526315788,
           23.684210526315788,
           23.684210526315788,
           23.684210526315788,
           23.684210526315788,
           23.684210526315788,
           23.684210526315788,
           23.684210526315788,
           23.684210526315788
          ],
          [
           24.105263157894736,
           24.105263157894736,
           24.105263157894736,
           24.105263157894736,
           24.105263157894736,
           24.105263157894736,
           24.105263157894736,
           24.105263157894736,
           24.105263157894736,
           24.105263157894736,
           24.105263157894736,
           24.105263157894736,
           24.105263157894736,
           24.105263157894736,
           24.105263157894736,
           24.105263157894736,
           24.105263157894736,
           24.105263157894736,
           24.105263157894736,
           24.105263157894736
          ],
          [
           24.526315789473685,
           24.526315789473685,
           24.526315789473685,
           24.526315789473685,
           24.526315789473685,
           24.526315789473685,
           24.526315789473685,
           24.526315789473685,
           24.526315789473685,
           24.526315789473685,
           24.526315789473685,
           24.526315789473685,
           24.526315789473685,
           24.526315789473685,
           24.526315789473685,
           24.526315789473685,
           24.526315789473685,
           24.526315789473685,
           24.526315789473685,
           24.526315789473685
          ],
          [
           24.94736842105263,
           24.94736842105263,
           24.94736842105263,
           24.94736842105263,
           24.94736842105263,
           24.94736842105263,
           24.94736842105263,
           24.94736842105263,
           24.94736842105263,
           24.94736842105263,
           24.94736842105263,
           24.94736842105263,
           24.94736842105263,
           24.94736842105263,
           24.94736842105263,
           24.94736842105263,
           24.94736842105263,
           24.94736842105263,
           24.94736842105263,
           24.94736842105263
          ],
          [
           25.36842105263158,
           25.36842105263158,
           25.36842105263158,
           25.36842105263158,
           25.36842105263158,
           25.36842105263158,
           25.36842105263158,
           25.36842105263158,
           25.36842105263158,
           25.36842105263158,
           25.36842105263158,
           25.36842105263158,
           25.36842105263158,
           25.36842105263158,
           25.36842105263158,
           25.36842105263158,
           25.36842105263158,
           25.36842105263158,
           25.36842105263158,
           25.36842105263158
          ],
          [
           25.789473684210527,
           25.789473684210527,
           25.789473684210527,
           25.789473684210527,
           25.789473684210527,
           25.789473684210527,
           25.789473684210527,
           25.789473684210527,
           25.789473684210527,
           25.789473684210527,
           25.789473684210527,
           25.789473684210527,
           25.789473684210527,
           25.789473684210527,
           25.789473684210527,
           25.789473684210527,
           25.789473684210527,
           25.789473684210527,
           25.789473684210527,
           25.789473684210527
          ],
          [
           26.210526315789473,
           26.210526315789473,
           26.210526315789473,
           26.210526315789473,
           26.210526315789473,
           26.210526315789473,
           26.210526315789473,
           26.210526315789473,
           26.210526315789473,
           26.210526315789473,
           26.210526315789473,
           26.210526315789473,
           26.210526315789473,
           26.210526315789473,
           26.210526315789473,
           26.210526315789473,
           26.210526315789473,
           26.210526315789473,
           26.210526315789473,
           26.210526315789473
          ],
          [
           26.63157894736842,
           26.63157894736842,
           26.63157894736842,
           26.63157894736842,
           26.63157894736842,
           26.63157894736842,
           26.63157894736842,
           26.63157894736842,
           26.63157894736842,
           26.63157894736842,
           26.63157894736842,
           26.63157894736842,
           26.63157894736842,
           26.63157894736842,
           26.63157894736842,
           26.63157894736842,
           26.63157894736842,
           26.63157894736842,
           26.63157894736842,
           26.63157894736842
          ],
          [
           27.05263157894737,
           27.05263157894737,
           27.05263157894737,
           27.05263157894737,
           27.05263157894737,
           27.05263157894737,
           27.05263157894737,
           27.05263157894737,
           27.05263157894737,
           27.05263157894737,
           27.05263157894737,
           27.05263157894737,
           27.05263157894737,
           27.05263157894737,
           27.05263157894737,
           27.05263157894737,
           27.05263157894737,
           27.05263157894737,
           27.05263157894737,
           27.05263157894737
          ],
          [
           27.473684210526315,
           27.473684210526315,
           27.473684210526315,
           27.473684210526315,
           27.473684210526315,
           27.473684210526315,
           27.473684210526315,
           27.473684210526315,
           27.473684210526315,
           27.473684210526315,
           27.473684210526315,
           27.473684210526315,
           27.473684210526315,
           27.473684210526315,
           27.473684210526315,
           27.473684210526315,
           27.473684210526315,
           27.473684210526315,
           27.473684210526315,
           27.473684210526315
          ],
          [
           27.894736842105264,
           27.894736842105264,
           27.894736842105264,
           27.894736842105264,
           27.894736842105264,
           27.894736842105264,
           27.894736842105264,
           27.894736842105264,
           27.894736842105264,
           27.894736842105264,
           27.894736842105264,
           27.894736842105264,
           27.894736842105264,
           27.894736842105264,
           27.894736842105264,
           27.894736842105264,
           27.894736842105264,
           27.894736842105264,
           27.894736842105264,
           27.894736842105264
          ],
          [
           28.315789473684212,
           28.315789473684212,
           28.315789473684212,
           28.315789473684212,
           28.315789473684212,
           28.315789473684212,
           28.315789473684212,
           28.315789473684212,
           28.315789473684212,
           28.315789473684212,
           28.315789473684212,
           28.315789473684212,
           28.315789473684212,
           28.315789473684212,
           28.315789473684212,
           28.315789473684212,
           28.315789473684212,
           28.315789473684212,
           28.315789473684212,
           28.315789473684212
          ],
          [
           28.736842105263158,
           28.736842105263158,
           28.736842105263158,
           28.736842105263158,
           28.736842105263158,
           28.736842105263158,
           28.736842105263158,
           28.736842105263158,
           28.736842105263158,
           28.736842105263158,
           28.736842105263158,
           28.736842105263158,
           28.736842105263158,
           28.736842105263158,
           28.736842105263158,
           28.736842105263158,
           28.736842105263158,
           28.736842105263158,
           28.736842105263158,
           28.736842105263158
          ],
          [
           29.157894736842103,
           29.157894736842103,
           29.157894736842103,
           29.157894736842103,
           29.157894736842103,
           29.157894736842103,
           29.157894736842103,
           29.157894736842103,
           29.157894736842103,
           29.157894736842103,
           29.157894736842103,
           29.157894736842103,
           29.157894736842103,
           29.157894736842103,
           29.157894736842103,
           29.157894736842103,
           29.157894736842103,
           29.157894736842103,
           29.157894736842103,
           29.157894736842103
          ],
          [
           29.57894736842105,
           29.57894736842105,
           29.57894736842105,
           29.57894736842105,
           29.57894736842105,
           29.57894736842105,
           29.57894736842105,
           29.57894736842105,
           29.57894736842105,
           29.57894736842105,
           29.57894736842105,
           29.57894736842105,
           29.57894736842105,
           29.57894736842105,
           29.57894736842105,
           29.57894736842105,
           29.57894736842105,
           29.57894736842105,
           29.57894736842105,
           29.57894736842105
          ],
          [
           30,
           30,
           30,
           30,
           30,
           30,
           30,
           30,
           30,
           30,
           30,
           30,
           30,
           30,
           30,
           30,
           30,
           30,
           30,
           30
          ]
         ],
         "z": [
          [
           152.71101036802503,
           152.9473434499566,
           153.18367653188818,
           153.42000961381976,
           153.65634269575133,
           153.8926757776829,
           154.1290088596145,
           154.3653419415461,
           154.60167502347767,
           154.83800810540924,
           155.07434118734082,
           155.3106742692724,
           155.54700735120397,
           155.78334043313555,
           156.01967351506715,
           156.25600659699873,
           156.4923396789303,
           156.72867276086188,
           156.96500584279346,
           157.20133892472504
          ],
          [
           154.30576605215074,
           154.54209913408232,
           154.7784322160139,
           155.01476529794547,
           155.25109837987708,
           155.48743146180865,
           155.72376454374023,
           155.9600976256718,
           156.19643070760338,
           156.43276378953496,
           156.66909687146654,
           156.9054299533981,
           157.1417630353297,
           157.3780961172613,
           157.61442919919287,
           157.85076228112445,
           158.08709536305602,
           158.3234284449876,
           158.55976152691917,
           158.79609460885075
          ],
          [
           155.90052173627646,
           156.13685481820804,
           156.3731879001396,
           156.6095209820712,
           156.84585406400276,
           157.08218714593437,
           157.31852022786595,
           157.55485330979752,
           157.7911863917291,
           158.02751947366067,
           158.26385255559225,
           158.50018563752383,
           158.7365187194554,
           158.97285180138698,
           159.20918488331858,
           159.44551796525016,
           159.68185104718174,
           159.9181841291133,
           160.1545172110449,
           160.39085029297647
          ],
          [
           157.49527742040218,
           157.73161050233375,
           157.96794358426533,
           158.20427666619693,
           158.4406097481285,
           158.67694283006009,
           158.91327591199166,
           159.14960899392324,
           159.3859420758548,
           159.6222751577864,
           159.85860823971797,
           160.09494132164957,
           160.33127440358115,
           160.56760748551272,
           160.8039405674443,
           161.04027364937588,
           161.27660673130745,
           161.51293981323903,
           161.7492728951706,
           161.9856059771022
          ],
          [
           159.0900331045279,
           159.32636618645947,
           159.56269926839104,
           159.79903235032262,
           160.0353654322542,
           160.2716985141858,
           160.50803159611738,
           160.74436467804895,
           160.98069775998053,
           161.2170308419121,
           161.45336392384368,
           161.68969700577526,
           161.92603008770686,
           162.16236316963844,
           162.39869625157002,
           162.6350293335016,
           162.87136241543317,
           163.10769549736474,
           163.34402857929632,
           163.5803616612279
          ],
          [
           160.6847887886536,
           160.92112187058518,
           161.1574549525168,
           161.39378803444836,
           161.63012111637994,
           161.86645419831152,
           162.1027872802431,
           162.33912036217467,
           162.57545344410624,
           162.81178652603782,
           163.04811960796943,
           163.284452689901,
           163.52078577183258,
           163.75711885376415,
           163.99345193569573,
           164.2297850176273,
           164.46611809955888,
           164.70245118149046,
           164.93878426342206,
           165.17511734535364
          ],
          [
           162.27954447277935,
           162.51587755471093,
           162.7522106366425,
           162.98854371857408,
           163.22487680050565,
           163.46120988243723,
           163.6975429643688,
           163.9338760463004,
           164.170209128232,
           164.40654221016356,
           164.64287529209514,
           164.87920837402672,
           165.1155414559583,
           165.35187453788987,
           165.58820761982145,
           165.82454070175305,
           166.06087378368463,
           166.2972068656162,
           166.53353994754778,
           166.76987302947936
          ],
          [
           163.87430015690506,
           164.11063323883664,
           164.34696632076822,
           164.5832994026998,
           164.81963248463137,
           165.05596556656295,
           165.29229864849452,
           165.5286317304261,
           165.76496481235768,
           166.00129789428928,
           166.23763097622086,
           166.47396405815243,
           166.710297140084,
           166.94663022201559,
           167.18296330394716,
           167.41929638587874,
           167.65562946781031,
           167.89196254974192,
           168.1282956316735,
           168.36462871360507
          ],
          [
           165.46905584103078,
           165.70538892296236,
           165.94172200489393,
           166.1780550868255,
           166.41438816875709,
           166.65072125068866,
           166.88705433262027,
           167.12338741455184,
           167.35972049648342,
           167.596053578415,
           167.83238666034657,
           168.06871974227815,
           168.30505282420972,
           168.5413859061413,
           168.7777189880729,
           169.01405207000448,
           169.25038515193606,
           169.48671823386763,
           169.7230513157992,
           169.9593843977308
          ],
          [
           167.0638115251565,
           167.30014460708807,
           167.53647768901965,
           167.77281077095125,
           168.00914385288283,
           168.2454769348144,
           168.48181001674598,
           168.71814309867756,
           168.95447618060913,
           169.1908092625407,
           169.4271423444723,
           169.66347542640386,
           169.89980850833547,
           170.13614159026704,
           170.37247467219862,
           170.6088077541302,
           170.84514083606177,
           171.08147391799335,
           171.31780699992493,
           171.5541400818565
          ],
          [
           168.6585672092822,
           168.8949002912138,
           169.13123337314536,
           169.36756645507694,
           169.60389953700852,
           169.84023261894012,
           170.0765657008717,
           170.31289878280327,
           170.54923186473485,
           170.78556494666643,
           171.021898028598,
           171.25823111052958,
           171.49456419246116,
           171.73089727439276,
           171.96723035632434,
           172.2035634382559,
           172.4398965201875,
           172.67622960211907,
           172.91256268405064,
           173.14889576598222
          ],
          [
           170.25332289340793,
           170.4896559753395,
           170.7259890572711,
           170.96232213920268,
           171.19865522113426,
           171.43498830306584,
           171.6713213849974,
           171.907654466929,
           172.14398754886057,
           172.38032063079214,
           172.61665371272375,
           172.85298679465532,
           173.0893198765869,
           173.32565295851848,
           173.56198604045005,
           173.79831912238163,
           174.0346522043132,
           174.27098528624478,
           174.50731836817636,
           174.74365145010796
          ],
          [
           171.84807857753367,
           172.08441165946525,
           172.32074474139682,
           172.5570778233284,
           172.79341090525998,
           173.02974398719155,
           173.26607706912313,
           173.50241015105473,
           173.7387432329863,
           173.97507631491789,
           174.21140939684946,
           174.44774247878104,
           174.6840755607126,
           174.9204086426442,
           175.15674172457577,
           175.39307480650734,
           175.62940788843895,
           175.86574097037052,
           176.1020740523021,
           176.33840713423368
          ],
          [
           173.44283426165936,
           173.67916734359096,
           173.91550042552254,
           174.1518335074541,
           174.3881665893857,
           174.62449967131727,
           174.86083275324884,
           175.09716583518042,
           175.333498917112,
           175.5698319990436,
           175.80616508097518,
           176.04249816290675,
           176.27883124483833,
           176.5151643267699,
           176.75149740870148,
           176.98783049063306,
           177.22416357256463,
           177.46049665449624,
           177.69682973642782,
           177.9331628183594
          ],
          [
           175.0375899457851,
           175.27392302771668,
           175.51025610964825,
           175.74658919157983,
           175.9829222735114,
           176.21925535544298,
           176.45558843737456,
           176.69192151930616,
           176.92825460123774,
           177.16458768316932,
           177.4009207651009,
           177.63725384703247,
           177.87358692896404,
           178.10992001089562,
           178.34625309282723,
           178.5825861747588,
           178.81891925669038,
           179.05525233862195,
           179.29158542055353,
           179.5279185024851
          ],
          [
           176.63234562991082,
           176.8686787118424,
           177.10501179377397,
           177.34134487570554,
           177.57767795763715,
           177.81401103956873,
           178.0503441215003,
           178.28667720343188,
           178.52301028536345,
           178.75934336729503,
           178.9956764492266,
           179.23200953115818,
           179.46834261308976,
           179.70467569502136,
           179.94100877695294,
           180.17734185888452,
           180.4136749408161,
           180.65000802274767,
           180.88634110467925,
           181.12267418661082
          ],
          [
           178.22710131403653,
           178.4634343959681,
           178.69976747789968,
           178.93610055983126,
           179.17243364176284,
           179.40876672369444,
           179.64509980562602,
           179.8814328875576,
           180.11776596948917,
           180.35409905142075,
           180.59043213335232,
           180.8267652152839,
           181.06309829721548,
           181.29943137914705,
           181.53576446107866,
           181.77209754301023,
           182.0084306249418,
           182.24476370687339,
           182.48109678880496,
           182.71742987073654
          ],
          [
           179.82185699816225,
           180.05819008009382,
           180.2945231620254,
           180.53085624395698,
           180.76718932588855,
           181.00352240782013,
           181.23985548975173,
           181.4761885716833,
           181.71252165361489,
           181.94885473554646,
           182.18518781747804,
           182.42152089940961,
           182.6578539813412,
           182.89418706327277,
           183.13052014520434,
           183.36685322713595,
           183.60318630906752,
           183.8395193909991,
           184.07585247293068,
           184.31218555486225
          ],
          [
           181.41661268228796,
           181.65294576421954,
           181.88927884615111,
           182.1256119280827,
           182.3619450100143,
           182.59827809194587,
           182.83461117387745,
           183.07094425580902,
           183.3072773377406,
           183.54361041967218,
           183.77994350160375,
           184.01627658353533,
           184.25260966546693,
           184.4889427473985,
           184.7252758293301,
           184.96160891126166,
           185.19794199319324,
           185.43427507512482,
           185.6706081570564,
           185.90694123898797
          ],
          [
           183.01136836641368,
           183.24770144834525,
           183.48403453027686,
           183.72036761220843,
           183.95670069414,
           184.1930337760716,
           184.42936685800316,
           184.66569993993474,
           184.90203302186632,
           185.13836610379792,
           185.3746991857295,
           185.61103226766107,
           185.84736534959265,
           186.08369843152423,
           186.3200315134558,
           186.55636459538738,
           186.79269767731896,
           187.02903075925053,
           187.26536384118214,
           187.5016969231137
          ]
         ]
        }
       ],
       "layout": {
        "scene": {
         "xaxis": {
          "title": {
           "text": "Ancho"
          }
         },
         "yaxis": {
          "title": {
           "text": "Pie"
          }
         },
         "zaxis": {
          "title": {
           "text": "Altura"
          }
         }
        },
        "template": {
         "data": {
          "bar": [
           {
            "error_x": {
             "color": "#2a3f5f"
            },
            "error_y": {
             "color": "#2a3f5f"
            },
            "marker": {
             "line": {
              "color": "#E5ECF6",
              "width": 0.5
             },
             "pattern": {
              "fillmode": "overlay",
              "size": 10,
              "solidity": 0.2
             }
            },
            "type": "bar"
           }
          ],
          "barpolar": [
           {
            "marker": {
             "line": {
              "color": "#E5ECF6",
              "width": 0.5
             },
             "pattern": {
              "fillmode": "overlay",
              "size": 10,
              "solidity": 0.2
             }
            },
            "type": "barpolar"
           }
          ],
          "carpet": [
           {
            "aaxis": {
             "endlinecolor": "#2a3f5f",
             "gridcolor": "white",
             "linecolor": "white",
             "minorgridcolor": "white",
             "startlinecolor": "#2a3f5f"
            },
            "baxis": {
             "endlinecolor": "#2a3f5f",
             "gridcolor": "white",
             "linecolor": "white",
             "minorgridcolor": "white",
             "startlinecolor": "#2a3f5f"
            },
            "type": "carpet"
           }
          ],
          "choropleth": [
           {
            "colorbar": {
             "outlinewidth": 0,
             "ticks": ""
            },
            "type": "choropleth"
           }
          ],
          "contour": [
           {
            "colorbar": {
             "outlinewidth": 0,
             "ticks": ""
            },
            "colorscale": [
             [
              0,
              "#0d0887"
             ],
             [
              0.1111111111111111,
              "#46039f"
             ],
             [
              0.2222222222222222,
              "#7201a8"
             ],
             [
              0.3333333333333333,
              "#9c179e"
             ],
             [
              0.4444444444444444,
              "#bd3786"
             ],
             [
              0.5555555555555556,
              "#d8576b"
             ],
             [
              0.6666666666666666,
              "#ed7953"
             ],
             [
              0.7777777777777778,
              "#fb9f3a"
             ],
             [
              0.8888888888888888,
              "#fdca26"
             ],
             [
              1,
              "#f0f921"
             ]
            ],
            "type": "contour"
           }
          ],
          "contourcarpet": [
           {
            "colorbar": {
             "outlinewidth": 0,
             "ticks": ""
            },
            "type": "contourcarpet"
           }
          ],
          "heatmap": [
           {
            "colorbar": {
             "outlinewidth": 0,
             "ticks": ""
            },
            "colorscale": [
             [
              0,
              "#0d0887"
             ],
             [
              0.1111111111111111,
              "#46039f"
             ],
             [
              0.2222222222222222,
              "#7201a8"
             ],
             [
              0.3333333333333333,
              "#9c179e"
             ],
             [
              0.4444444444444444,
              "#bd3786"
             ],
             [
              0.5555555555555556,
              "#d8576b"
             ],
             [
              0.6666666666666666,
              "#ed7953"
             ],
             [
              0.7777777777777778,
              "#fb9f3a"
             ],
             [
              0.8888888888888888,
              "#fdca26"
             ],
             [
              1,
              "#f0f921"
             ]
            ],
            "type": "heatmap"
           }
          ],
          "heatmapgl": [
           {
            "colorbar": {
             "outlinewidth": 0,
             "ticks": ""
            },
            "colorscale": [
             [
              0,
              "#0d0887"
             ],
             [
              0.1111111111111111,
              "#46039f"
             ],
             [
              0.2222222222222222,
              "#7201a8"
             ],
             [
              0.3333333333333333,
              "#9c179e"
             ],
             [
              0.4444444444444444,
              "#bd3786"
             ],
             [
              0.5555555555555556,
              "#d8576b"
             ],
             [
              0.6666666666666666,
              "#ed7953"
             ],
             [
              0.7777777777777778,
              "#fb9f3a"
             ],
             [
              0.8888888888888888,
              "#fdca26"
             ],
             [
              1,
              "#f0f921"
             ]
            ],
            "type": "heatmapgl"
           }
          ],
          "histogram": [
           {
            "marker": {
             "pattern": {
              "fillmode": "overlay",
              "size": 10,
              "solidity": 0.2
             }
            },
            "type": "histogram"
           }
          ],
          "histogram2d": [
           {
            "colorbar": {
             "outlinewidth": 0,
             "ticks": ""
            },
            "colorscale": [
             [
              0,
              "#0d0887"
             ],
             [
              0.1111111111111111,
              "#46039f"
             ],
             [
              0.2222222222222222,
              "#7201a8"
             ],
             [
              0.3333333333333333,
              "#9c179e"
             ],
             [
              0.4444444444444444,
              "#bd3786"
             ],
             [
              0.5555555555555556,
              "#d8576b"
             ],
             [
              0.6666666666666666,
              "#ed7953"
             ],
             [
              0.7777777777777778,
              "#fb9f3a"
             ],
             [
              0.8888888888888888,
              "#fdca26"
             ],
             [
              1,
              "#f0f921"
             ]
            ],
            "type": "histogram2d"
           }
          ],
          "histogram2dcontour": [
           {
            "colorbar": {
             "outlinewidth": 0,
             "ticks": ""
            },
            "colorscale": [
             [
              0,
              "#0d0887"
             ],
             [
              0.1111111111111111,
              "#46039f"
             ],
             [
              0.2222222222222222,
              "#7201a8"
             ],
             [
              0.3333333333333333,
              "#9c179e"
             ],
             [
              0.4444444444444444,
              "#bd3786"
             ],
             [
              0.5555555555555556,
              "#d8576b"
             ],
             [
              0.6666666666666666,
              "#ed7953"
             ],
             [
              0.7777777777777778,
              "#fb9f3a"
             ],
             [
              0.8888888888888888,
              "#fdca26"
             ],
             [
              1,
              "#f0f921"
             ]
            ],
            "type": "histogram2dcontour"
           }
          ],
          "mesh3d": [
           {
            "colorbar": {
             "outlinewidth": 0,
             "ticks": ""
            },
            "type": "mesh3d"
           }
          ],
          "parcoords": [
           {
            "line": {
             "colorbar": {
              "outlinewidth": 0,
              "ticks": ""
             }
            },
            "type": "parcoords"
           }
          ],
          "pie": [
           {
            "automargin": true,
            "type": "pie"
           }
          ],
          "scatter": [
           {
            "fillpattern": {
             "fillmode": "overlay",
             "size": 10,
             "solidity": 0.2
            },
            "type": "scatter"
           }
          ],
          "scatter3d": [
           {
            "line": {
             "colorbar": {
              "outlinewidth": 0,
              "ticks": ""
             }
            },
            "marker": {
             "colorbar": {
              "outlinewidth": 0,
              "ticks": ""
             }
            },
            "type": "scatter3d"
           }
          ],
          "scattercarpet": [
           {
            "marker": {
             "colorbar": {
              "outlinewidth": 0,
              "ticks": ""
             }
            },
            "type": "scattercarpet"
           }
          ],
          "scattergeo": [
           {
            "marker": {
             "colorbar": {
              "outlinewidth": 0,
              "ticks": ""
             }
            },
            "type": "scattergeo"
           }
          ],
          "scattergl": [
           {
            "marker": {
             "colorbar": {
              "outlinewidth": 0,
              "ticks": ""
             }
            },
            "type": "scattergl"
           }
          ],
          "scattermapbox": [
           {
            "marker": {
             "colorbar": {
              "outlinewidth": 0,
              "ticks": ""
             }
            },
            "type": "scattermapbox"
           }
          ],
          "scatterpolar": [
           {
            "marker": {
             "colorbar": {
              "outlinewidth": 0,
              "ticks": ""
             }
            },
            "type": "scatterpolar"
           }
          ],
          "scatterpolargl": [
           {
            "marker": {
             "colorbar": {
              "outlinewidth": 0,
              "ticks": ""
             }
            },
            "type": "scatterpolargl"
           }
          ],
          "scatterternary": [
           {
            "marker": {
             "colorbar": {
              "outlinewidth": 0,
              "ticks": ""
             }
            },
            "type": "scatterternary"
           }
          ],
          "surface": [
           {
            "colorbar": {
             "outlinewidth": 0,
             "ticks": ""
            },
            "colorscale": [
             [
              0,
              "#0d0887"
             ],
             [
              0.1111111111111111,
              "#46039f"
             ],
             [
              0.2222222222222222,
              "#7201a8"
             ],
             [
              0.3333333333333333,
              "#9c179e"
             ],
             [
              0.4444444444444444,
              "#bd3786"
             ],
             [
              0.5555555555555556,
              "#d8576b"
             ],
             [
              0.6666666666666666,
              "#ed7953"
             ],
             [
              0.7777777777777778,
              "#fb9f3a"
             ],
             [
              0.8888888888888888,
              "#fdca26"
             ],
             [
              1,
              "#f0f921"
             ]
            ],
            "type": "surface"
           }
          ],
          "table": [
           {
            "cells": {
             "fill": {
              "color": "#EBF0F8"
             },
             "line": {
              "color": "white"
             }
            },
            "header": {
             "fill": {
              "color": "#C8D4E3"
             },
             "line": {
              "color": "white"
             }
            },
            "type": "table"
           }
          ]
         },
         "layout": {
          "annotationdefaults": {
           "arrowcolor": "#2a3f5f",
           "arrowhead": 0,
           "arrowwidth": 1
          },
          "autotypenumbers": "strict",
          "coloraxis": {
           "colorbar": {
            "outlinewidth": 0,
            "ticks": ""
           }
          },
          "colorscale": {
           "diverging": [
            [
             0,
             "#8e0152"
            ],
            [
             0.1,
             "#c51b7d"
            ],
            [
             0.2,
             "#de77ae"
            ],
            [
             0.3,
             "#f1b6da"
            ],
            [
             0.4,
             "#fde0ef"
            ],
            [
             0.5,
             "#f7f7f7"
            ],
            [
             0.6,
             "#e6f5d0"
            ],
            [
             0.7,
             "#b8e186"
            ],
            [
             0.8,
             "#7fbc41"
            ],
            [
             0.9,
             "#4d9221"
            ],
            [
             1,
             "#276419"
            ]
           ],
           "sequential": [
            [
             0,
             "#0d0887"
            ],
            [
             0.1111111111111111,
             "#46039f"
            ],
            [
             0.2222222222222222,
             "#7201a8"
            ],
            [
             0.3333333333333333,
             "#9c179e"
            ],
            [
             0.4444444444444444,
             "#bd3786"
            ],
            [
             0.5555555555555556,
             "#d8576b"
            ],
            [
             0.6666666666666666,
             "#ed7953"
            ],
            [
             0.7777777777777778,
             "#fb9f3a"
            ],
            [
             0.8888888888888888,
             "#fdca26"
            ],
            [
             1,
             "#f0f921"
            ]
           ],
           "sequentialminus": [
            [
             0,
             "#0d0887"
            ],
            [
             0.1111111111111111,
             "#46039f"
            ],
            [
             0.2222222222222222,
             "#7201a8"
            ],
            [
             0.3333333333333333,
             "#9c179e"
            ],
            [
             0.4444444444444444,
             "#bd3786"
            ],
            [
             0.5555555555555556,
             "#d8576b"
            ],
            [
             0.6666666666666666,
             "#ed7953"
            ],
            [
             0.7777777777777778,
             "#fb9f3a"
            ],
            [
             0.8888888888888888,
             "#fdca26"
            ],
            [
             1,
             "#f0f921"
            ]
           ]
          },
          "colorway": [
           "#636efa",
           "#EF553B",
           "#00cc96",
           "#ab63fa",
           "#FFA15A",
           "#19d3f3",
           "#FF6692",
           "#B6E880",
           "#FF97FF",
           "#FECB52"
          ],
          "font": {
           "color": "#2a3f5f"
          },
          "geo": {
           "bgcolor": "white",
           "lakecolor": "white",
           "landcolor": "#E5ECF6",
           "showlakes": true,
           "showland": true,
           "subunitcolor": "white"
          },
          "hoverlabel": {
           "align": "left"
          },
          "hovermode": "closest",
          "mapbox": {
           "style": "light"
          },
          "paper_bgcolor": "white",
          "plot_bgcolor": "#E5ECF6",
          "polar": {
           "angularaxis": {
            "gridcolor": "white",
            "linecolor": "white",
            "ticks": ""
           },
           "bgcolor": "#E5ECF6",
           "radialaxis": {
            "gridcolor": "white",
            "linecolor": "white",
            "ticks": ""
           }
          },
          "scene": {
           "xaxis": {
            "backgroundcolor": "#E5ECF6",
            "gridcolor": "white",
            "gridwidth": 2,
            "linecolor": "white",
            "showbackground": true,
            "ticks": "",
            "zerolinecolor": "white"
           },
           "yaxis": {
            "backgroundcolor": "#E5ECF6",
            "gridcolor": "white",
            "gridwidth": 2,
            "linecolor": "white",
            "showbackground": true,
            "ticks": "",
            "zerolinecolor": "white"
           },
           "zaxis": {
            "backgroundcolor": "#E5ECF6",
            "gridcolor": "white",
            "gridwidth": 2,
            "linecolor": "white",
            "showbackground": true,
            "ticks": "",
            "zerolinecolor": "white"
           }
          },
          "shapedefaults": {
           "line": {
            "color": "#2a3f5f"
           }
          },
          "ternary": {
           "aaxis": {
            "gridcolor": "white",
            "linecolor": "white",
            "ticks": ""
           },
           "baxis": {
            "gridcolor": "white",
            "linecolor": "white",
            "ticks": ""
           },
           "bgcolor": "#E5ECF6",
           "caxis": {
            "gridcolor": "white",
            "linecolor": "white",
            "ticks": ""
           }
          },
          "title": {
           "x": 0.05
          },
          "xaxis": {
           "automargin": true,
           "gridcolor": "white",
           "linecolor": "white",
           "ticks": "",
           "title": {
            "standoff": 15
           },
           "zerolinecolor": "white",
           "zerolinewidth": 2
          },
          "yaxis": {
           "automargin": true,
           "gridcolor": "white",
           "linecolor": "white",
           "ticks": "",
           "title": {
            "standoff": 15
           },
           "zerolinecolor": "white",
           "zerolinewidth": 2
          }
         }
        },
        "title": {
         "text": "ITESO CENTER<br>R2: 0.8484303924224865 RMSE: 4.280983988385949"
        }
       }
      }
     },
     "metadata": {},
     "output_type": "display_data"
    }
   ],
   "source": [
    "# Definir rangos para las variables independientes\n",
    "x1_range = np.linspace(min(x_train_center['width']), max(x_train_center['width']), 20)\n",
    "x2_range = np.linspace(min(x_train_center['shoe_size']), max(x_train_center['shoe_size']), 20)\n",
    "x1_mesh, x2_mesh = np.meshgrid(x1_range, x2_range)\n",
    "\n",
    "# Escalar el meshgrid para predicción\n",
    "x_mesh_scaled = ss_center.transform(np.vstack((x1_mesh.ravel(), x2_mesh.ravel())).T)\n",
    "\n",
    "# Predecir los valores con el modelo escalado\n",
    "y_mesh_scaled = rg_c.predict(x_mesh_scaled)\n",
    "\n",
    "# Crear scatterplot 3D de los puntos reales\n",
    "scatter = go.Scatter3d(\n",
    "    x=x_test_center['width'], y=x_test_center['shoe_size'], z=y_test_center,\n",
    "    mode='markers',\n",
    "    marker=dict(size=8, color='red', opacity=0.7)\n",
    ")\n",
    "\n",
    "# Crear el plano de regresión\n",
    "surface = go.Surface(\n",
    "    x=x1_mesh, y=x2_mesh, z=y_mesh_scaled.reshape(x1_mesh.shape),\n",
    "    colorscale='Viridis', opacity=0.5\n",
    ")\n",
    "\n",
    "# Configuración del layout\n",
    "layout = go.Layout(\n",
    "    title=f\"ITESO CENTER<br>R2: {r2_score(y_test_center, r_pred_center)} RMSE: {root_mean_squared_error(y_test_center, r_pred_center)}\",\n",
    "    scene=dict(\n",
    "        xaxis_title='Ancho',\n",
    "        yaxis_title='Pie',\n",
    "        zaxis_title='Altura'\n",
    "    )\n",
    ")\n",
    "\n",
    "# Crear la figura\n",
    "fig = go.Figure(data=[scatter, surface], layout=layout)\n",
    "\n",
    "# Mostrar la figura interactiva\n",
    "fig.show()"
   ]
  },
  {
   "cell_type": "markdown",
   "metadata": {},
   "source": [
    "**¿Agregarías datos a tu base de datos para mejorar las predicciones del modelo?**\n",
    "\n",
    "Sí, al tener tan pocos datos, en específico 18 necesitamos más datos ya que las predicciones que se hagan con el modelo no van a ser tan confiables, ya que son más sensibles a datos atípicos."
   ]
  },
  {
   "cell_type": "markdown",
   "metadata": {},
   "source": [
    "**¿Cómo conseguirías dicha información?**\n",
    "\n",
    "Medimos a 70 personas más y como se muestra anteriormente se segmentaron los datos de la altura, se hicieron nuevos datos para los datos cuya altura fueran menor o igual al primer cuartil, para los que fueran mayor o igual al tercer cuartil y para los que estuvieran entre el primer y tercer cuartil, en específico se hicieron 100 para cada uno."
   ]
  },
  {
   "cell_type": "markdown",
   "metadata": {},
   "source": [
    "**¿Modificarías algún parámetro de tu modelo?**\n",
    "\n",
    "En este caso, al segmentar los datos por alturas, se hicieron 3 modelos. A los 3 modelos se le aplicó regularización Ridge con un alpha de 1.26, el cual se obtuvo mediante diferentes pruebas e intentos para obtener el valor óptimo."
   ]
  },
  {
   "cell_type": "markdown",
   "metadata": {},
   "source": [
    "## Parte 3"
   ]
  },
  {
   "cell_type": "markdown",
   "metadata": {},
   "source": [
    "### Países Bajos"
   ]
  },
  {
   "cell_type": "code",
   "execution_count": 39,
   "metadata": {},
   "outputs": [],
   "source": [
    "df = pd.read_csv('datos_gente_1.csv')"
   ]
  },
  {
   "cell_type": "code",
   "execution_count": 40,
   "metadata": {},
   "outputs": [
    {
     "data": {
      "text/html": [
       "<div>\n",
       "<style scoped>\n",
       "    .dataframe tbody tr th:only-of-type {\n",
       "        vertical-align: middle;\n",
       "    }\n",
       "\n",
       "    .dataframe tbody tr th {\n",
       "        vertical-align: top;\n",
       "    }\n",
       "\n",
       "    .dataframe thead th {\n",
       "        text-align: right;\n",
       "    }\n",
       "</style>\n",
       "<table border=\"1\" class=\"dataframe\">\n",
       "  <thead>\n",
       "    <tr style=\"text-align: right;\">\n",
       "      <th></th>\n",
       "      <th>height</th>\n",
       "      <th>width</th>\n",
       "      <th>shoe_size</th>\n",
       "    </tr>\n",
       "  </thead>\n",
       "  <tbody>\n",
       "    <tr>\n",
       "      <th>0</th>\n",
       "      <td>185</td>\n",
       "      <td>55</td>\n",
       "      <td>28.0</td>\n",
       "    </tr>\n",
       "    <tr>\n",
       "      <th>6</th>\n",
       "      <td>187</td>\n",
       "      <td>48</td>\n",
       "      <td>29.0</td>\n",
       "    </tr>\n",
       "    <tr>\n",
       "      <th>12</th>\n",
       "      <td>179</td>\n",
       "      <td>55</td>\n",
       "      <td>28.0</td>\n",
       "    </tr>\n",
       "    <tr>\n",
       "      <th>22</th>\n",
       "      <td>177</td>\n",
       "      <td>42</td>\n",
       "      <td>27.0</td>\n",
       "    </tr>\n",
       "    <tr>\n",
       "      <th>25</th>\n",
       "      <td>180</td>\n",
       "      <td>45</td>\n",
       "      <td>27.0</td>\n",
       "    </tr>\n",
       "    <tr>\n",
       "      <th>33</th>\n",
       "      <td>178</td>\n",
       "      <td>49</td>\n",
       "      <td>27.5</td>\n",
       "    </tr>\n",
       "    <tr>\n",
       "      <th>41</th>\n",
       "      <td>190</td>\n",
       "      <td>50</td>\n",
       "      <td>29.0</td>\n",
       "    </tr>\n",
       "    <tr>\n",
       "      <th>44</th>\n",
       "      <td>180</td>\n",
       "      <td>50</td>\n",
       "      <td>28.0</td>\n",
       "    </tr>\n",
       "    <tr>\n",
       "      <th>47</th>\n",
       "      <td>178</td>\n",
       "      <td>45</td>\n",
       "      <td>29.0</td>\n",
       "    </tr>\n",
       "    <tr>\n",
       "      <th>51</th>\n",
       "      <td>182</td>\n",
       "      <td>47</td>\n",
       "      <td>28.0</td>\n",
       "    </tr>\n",
       "    <tr>\n",
       "      <th>54</th>\n",
       "      <td>183</td>\n",
       "      <td>47</td>\n",
       "      <td>28.0</td>\n",
       "    </tr>\n",
       "    <tr>\n",
       "      <th>61</th>\n",
       "      <td>183</td>\n",
       "      <td>50</td>\n",
       "      <td>29.5</td>\n",
       "    </tr>\n",
       "    <tr>\n",
       "      <th>63</th>\n",
       "      <td>188</td>\n",
       "      <td>55</td>\n",
       "      <td>30.0</td>\n",
       "    </tr>\n",
       "    <tr>\n",
       "      <th>65</th>\n",
       "      <td>190</td>\n",
       "      <td>52</td>\n",
       "      <td>30.0</td>\n",
       "    </tr>\n",
       "    <tr>\n",
       "      <th>67</th>\n",
       "      <td>177</td>\n",
       "      <td>42</td>\n",
       "      <td>28.0</td>\n",
       "    </tr>\n",
       "    <tr>\n",
       "      <th>68</th>\n",
       "      <td>182</td>\n",
       "      <td>43</td>\n",
       "      <td>28.0</td>\n",
       "    </tr>\n",
       "    <tr>\n",
       "      <th>70</th>\n",
       "      <td>185</td>\n",
       "      <td>47</td>\n",
       "      <td>29.5</td>\n",
       "    </tr>\n",
       "    <tr>\n",
       "      <th>74</th>\n",
       "      <td>182</td>\n",
       "      <td>46</td>\n",
       "      <td>28.0</td>\n",
       "    </tr>\n",
       "  </tbody>\n",
       "</table>\n",
       "</div>"
      ],
      "text/plain": [
       "    height  width  shoe_size\n",
       "0      185     55       28.0\n",
       "6      187     48       29.0\n",
       "12     179     55       28.0\n",
       "22     177     42       27.0\n",
       "25     180     45       27.0\n",
       "33     178     49       27.5\n",
       "41     190     50       29.0\n",
       "44     180     50       28.0\n",
       "47     178     45       29.0\n",
       "51     182     47       28.0\n",
       "54     183     47       28.0\n",
       "61     183     50       29.5\n",
       "63     188     55       30.0\n",
       "65     190     52       30.0\n",
       "67     177     42       28.0\n",
       "68     182     43       28.0\n",
       "70     185     47       29.5\n",
       "74     182     46       28.0"
      ]
     },
     "execution_count": 40,
     "metadata": {},
     "output_type": "execute_result"
    }
   ],
   "source": [
    "df2 = df[df['height'] > 176.5]\n",
    "df2"
   ]
  },
  {
   "cell_type": "code",
   "execution_count": 41,
   "metadata": {},
   "outputs": [
    {
     "data": {
      "text/plain": [
       "array([[<Axes: title={'center': 'height'}>,\n",
       "        <Axes: title={'center': 'width'}>],\n",
       "       [<Axes: title={'center': 'shoe_size'}>, <Axes: >]], dtype=object)"
      ]
     },
     "execution_count": 41,
     "metadata": {},
     "output_type": "execute_result"
    },
    {
     "data": {
      "image/png": "[encoded data removed]",
      "text/plain": [
       "<Figure size 640x480 with 4 Axes>"
      ]
     },
     "metadata": {},
     "output_type": "display_data"
    }
   ],
   "source": [
    "df2.hist()"
   ]
  },
  {
   "cell_type": "code",
   "execution_count": 42,
   "metadata": {},
   "outputs": [
    {
     "data": {
      "text/plain": [
       "height       182.555556\n",
       "width         48.222222\n",
       "shoe_size     28.416667\n",
       "dtype: float64"
      ]
     },
     "execution_count": 42,
     "metadata": {},
     "output_type": "execute_result"
    }
   ],
   "source": [
    "df2.mean()"
   ]
  },
  {
   "cell_type": "code",
   "execution_count": 43,
   "metadata": {},
   "outputs": [
    {
     "data": {
      "text/plain": [
       "height       4.217920\n",
       "width        4.180565\n",
       "shoe_size    0.927520\n",
       "dtype: float64"
      ]
     },
     "execution_count": 43,
     "metadata": {},
     "output_type": "execute_result"
    }
   ],
   "source": [
    "df2.std()"
   ]
  },
  {
   "cell_type": "code",
   "execution_count": 44,
   "metadata": {},
   "outputs": [
    {
     "data": {
      "text/plain": [
       "array([174., 174., 174., 175., 175., 176., 176., 176., 177., 177., 177.,\n",
       "       177., 178., 178., 178., 178., 179., 179., 179., 179., 179., 180.,\n",
       "       180., 180., 180., 180., 180., 180., 180., 180., 181., 181., 181.,\n",
       "       181., 181., 181., 181., 181., 181., 181., 182., 182., 182., 182.,\n",
       "       182., 182., 182., 182., 182., 182., 183., 183., 183., 183., 183.,\n",
       "       183., 183., 183., 183., 183., 183., 184., 184., 184., 184., 184.,\n",
       "       184., 185., 185., 185., 185., 185., 185., 185., 185., 185., 186.,\n",
       "       186., 186., 186., 187., 187., 187., 187., 187., 187., 187., 188.,\n",
       "       188., 188., 189., 189., 189., 190., 191., 191., 191., 191., 191.,\n",
       "       194.])"
      ]
     },
     "execution_count": 44,
     "metadata": {},
     "output_type": "execute_result"
    }
   ],
   "source": [
    "df2_nuevo_altura = np.random.normal(loc=182.56, scale=4.22, size=100)\n",
    "df_altura_red= np.round(df2_nuevo_altura, 0)\n",
    "df_altura = np.sort(df_altura_red)\n",
    "df_altura"
   ]
  },
  {
   "cell_type": "code",
   "execution_count": 45,
   "metadata": {},
   "outputs": [
    {
     "data": {
      "text/plain": [
       "array([37., 37., 41., 41., 42., 42., 42., 42., 42., 43., 43., 43., 43.,\n",
       "       43., 43., 43., 43., 44., 44., 44., 44., 44., 44., 44., 45., 45.,\n",
       "       45., 45., 45., 46., 46., 46., 46., 46., 46., 46., 46., 46., 46.,\n",
       "       47., 47., 47., 47., 47., 47., 47., 47., 47., 47., 47., 48., 48.,\n",
       "       48., 48., 48., 48., 48., 48., 48., 49., 49., 49., 49., 49., 49.,\n",
       "       49., 50., 50., 50., 50., 50., 50., 50., 50., 50., 50., 51., 51.,\n",
       "       51., 51., 51., 52., 52., 52., 52., 52., 52., 52., 52., 53., 53.,\n",
       "       53., 53., 53., 54., 54., 55., 59., 59., 59.])"
      ]
     },
     "execution_count": 45,
     "metadata": {},
     "output_type": "execute_result"
    }
   ],
   "source": [
    "df2_nuevo_ancho = np.random.normal(loc=48.22, scale=4.18, size=100)\n",
    "df_ancho_red= np.round(df2_nuevo_ancho, 0)\n",
    "df_ancho = np.sort(df_ancho_red)\n",
    "df_ancho"
   ]
  },
  {
   "cell_type": "code",
   "execution_count": 46,
   "metadata": {},
   "outputs": [
    {
     "data": {
      "text/plain": [
       "array([26.7, 26.8, 27. , 27.1, 27.3, 27.3, 27.4, 27.4, 27.4, 27.5, 27.5,\n",
       "       27.5, 27.5, 27.5, 27.5, 27.5, 27.6, 27.6, 27.6, 27.6, 27.7, 27.7,\n",
       "       27.7, 27.8, 27.8, 27.9, 27.9, 27.9, 27.9, 27.9, 27.9, 28. , 28. ,\n",
       "       28.1, 28.1, 28.2, 28.2, 28.2, 28.3, 28.3, 28.3, 28.3, 28.3, 28.4,\n",
       "       28.4, 28.4, 28.5, 28.5, 28.5, 28.5, 28.5, 28.6, 28.6, 28.6, 28.6,\n",
       "       28.7, 28.8, 28.8, 28.8, 28.8, 28.8, 28.8, 28.9, 28.9, 28.9, 28.9,\n",
       "       29. , 29. , 29. , 29. , 29. , 29.1, 29.1, 29.1, 29.1, 29.2, 29.2,\n",
       "       29.2, 29.3, 29.3, 29.4, 29.4, 29.4, 29.4, 29.4, 29.5, 29.5, 29.6,\n",
       "       29.6, 29.6, 29.7, 29.7, 29.8, 29.9, 30. , 30.1, 30.2, 30.5, 30.6,\n",
       "       30.7])"
      ]
     },
     "execution_count": 46,
     "metadata": {},
     "output_type": "execute_result"
    }
   ],
   "source": [
    "df2_nuevo_pie = np.random.normal(loc=28.42, scale=0.93, size=100)\n",
    "df_pie_red= np.round(df2_nuevo_pie, 1)\n",
    "df_pie= np.sort(df_pie_red)\n",
    "df_pie"
   ]
  },
  {
   "cell_type": "code",
   "execution_count": 47,
   "metadata": {},
   "outputs": [
    {
     "data": {
      "text/html": [
       "<div>\n",
       "<style scoped>\n",
       "    .dataframe tbody tr th:only-of-type {\n",
       "        vertical-align: middle;\n",
       "    }\n",
       "\n",
       "    .dataframe tbody tr th {\n",
       "        vertical-align: top;\n",
       "    }\n",
       "\n",
       "    .dataframe thead th {\n",
       "        text-align: right;\n",
       "    }\n",
       "</style>\n",
       "<table border=\"1\" class=\"dataframe\">\n",
       "  <thead>\n",
       "    <tr style=\"text-align: right;\">\n",
       "      <th></th>\n",
       "      <th>height</th>\n",
       "      <th>width</th>\n",
       "      <th>shoe_size</th>\n",
       "    </tr>\n",
       "  </thead>\n",
       "  <tbody>\n",
       "    <tr>\n",
       "      <th>0</th>\n",
       "      <td>174.0</td>\n",
       "      <td>37.0</td>\n",
       "      <td>26.7</td>\n",
       "    </tr>\n",
       "    <tr>\n",
       "      <th>1</th>\n",
       "      <td>174.0</td>\n",
       "      <td>37.0</td>\n",
       "      <td>26.8</td>\n",
       "    </tr>\n",
       "    <tr>\n",
       "      <th>2</th>\n",
       "      <td>174.0</td>\n",
       "      <td>41.0</td>\n",
       "      <td>27.0</td>\n",
       "    </tr>\n",
       "    <tr>\n",
       "      <th>3</th>\n",
       "      <td>175.0</td>\n",
       "      <td>41.0</td>\n",
       "      <td>27.1</td>\n",
       "    </tr>\n",
       "    <tr>\n",
       "      <th>4</th>\n",
       "      <td>175.0</td>\n",
       "      <td>42.0</td>\n",
       "      <td>27.3</td>\n",
       "    </tr>\n",
       "    <tr>\n",
       "      <th>...</th>\n",
       "      <td>...</td>\n",
       "      <td>...</td>\n",
       "      <td>...</td>\n",
       "    </tr>\n",
       "    <tr>\n",
       "      <th>95</th>\n",
       "      <td>191.0</td>\n",
       "      <td>54.0</td>\n",
       "      <td>30.1</td>\n",
       "    </tr>\n",
       "    <tr>\n",
       "      <th>96</th>\n",
       "      <td>191.0</td>\n",
       "      <td>55.0</td>\n",
       "      <td>30.2</td>\n",
       "    </tr>\n",
       "    <tr>\n",
       "      <th>97</th>\n",
       "      <td>191.0</td>\n",
       "      <td>59.0</td>\n",
       "      <td>30.5</td>\n",
       "    </tr>\n",
       "    <tr>\n",
       "      <th>98</th>\n",
       "      <td>191.0</td>\n",
       "      <td>59.0</td>\n",
       "      <td>30.6</td>\n",
       "    </tr>\n",
       "    <tr>\n",
       "      <th>99</th>\n",
       "      <td>194.0</td>\n",
       "      <td>59.0</td>\n",
       "      <td>30.7</td>\n",
       "    </tr>\n",
       "  </tbody>\n",
       "</table>\n",
       "<p>100 rows × 3 columns</p>\n",
       "</div>"
      ],
      "text/plain": [
       "    height  width  shoe_size\n",
       "0    174.0   37.0       26.7\n",
       "1    174.0   37.0       26.8\n",
       "2    174.0   41.0       27.0\n",
       "3    175.0   41.0       27.1\n",
       "4    175.0   42.0       27.3\n",
       "..     ...    ...        ...\n",
       "95   191.0   54.0       30.1\n",
       "96   191.0   55.0       30.2\n",
       "97   191.0   59.0       30.5\n",
       "98   191.0   59.0       30.6\n",
       "99   194.0   59.0       30.7\n",
       "\n",
       "[100 rows x 3 columns]"
      ]
     },
     "execution_count": 47,
     "metadata": {},
     "output_type": "execute_result"
    }
   ],
   "source": [
    "df_pb = pd.DataFrame({'height': df_altura, 'width': df_ancho, 'shoe_size': df_pie})\n",
    "df_pb"
   ]
  },
  {
   "cell_type": "code",
   "execution_count": 48,
   "metadata": {},
   "outputs": [
    {
     "data": {
      "text/plain": [
       "array([[<Axes: title={'center': 'height'}>,\n",
       "        <Axes: title={'center': 'width'}>],\n",
       "       [<Axes: title={'center': 'shoe_size'}>, <Axes: >]], dtype=object)"
      ]
     },
     "execution_count": 48,
     "metadata": {},
     "output_type": "execute_result"
    },
    {
     "data": {
      "image/png": "[encoded data removed]",
      "text/plain": [
       "<Figure size 640x480 with 4 Axes>"
      ]
     },
     "metadata": {},
     "output_type": "display_data"
    }
   ],
   "source": [
    "df_pb.hist()"
   ]
  },
  {
   "cell_type": "code",
   "execution_count": 49,
   "metadata": {},
   "outputs": [],
   "source": [
    "X = df_pb.drop(\"height\", axis=1)\n",
    "y = df_pb[\"height\"]"
   ]
  },
  {
   "cell_type": "code",
   "execution_count": 50,
   "metadata": {},
   "outputs": [],
   "source": [
    "x_train_pb, x_test_pb, y_train_pb, y_test_pb = train_test_split(X, y, test_size=0.20, random_state=48)"
   ]
  },
  {
   "cell_type": "code",
   "execution_count": 51,
   "metadata": {},
   "outputs": [],
   "source": [
    "ss_pb = StandardScaler()\n",
    "x_train_pb_ss = ss_pb.fit_transform(x_train_pb)\n",
    "x_test_pb_ss = ss_pb.transform(x_test_pb)"
   ]
  },
  {
   "cell_type": "code",
   "execution_count": 52,
   "metadata": {},
   "outputs": [
    {
     "name": "stdout",
     "output_type": "stream",
     "text": [
      "R2:0.881895059522591, RMSE: 1.4477801736185008\n"
     ]
    }
   ],
   "source": [
    "modelo_pb = Ridge(alpha=60)\n",
    "modelo_pb.fit(x_train_pb_ss, y_train_pb)\n",
    "pb_pred = modelo_pb.predict(x_test_pb_ss)\n",
    "r2 = r2_score(y_test_pb, pb_pred)\n",
    "print(f\"R2:{r2_score(y_test_pb, pb_pred)}, RMSE: {root_mean_squared_error(y_test_pb, pb_pred)}\")"
   ]
  },
  {
   "cell_type": "code",
   "execution_count": 53,
   "metadata": {},
   "outputs": [
    {
     "name": "stdout",
     "output_type": "stream",
     "text": [
      "Pendientes: [1.51826641 1.5609986 ]\n",
      "Intercepto: 182.6125\n"
     ]
    }
   ],
   "source": [
    "print(f\"Pendientes: {modelo_pb.coef_}\")\n",
    "print(f\"Intercepto: {modelo_pb.intercept_}\")"
   ]
  },
  {
   "cell_type": "code",
   "execution_count": 54,
   "metadata": {},
   "outputs": [
    {
     "name": "stderr",
     "output_type": "stream",
     "text": [
      "c:\\Users\\Roi_f\\anaconda3\\envs\\personal\\Lib\\site-packages\\sklearn\\base.py:493: UserWarning:\n",
      "\n",
      "X does not have valid feature names, but StandardScaler was fitted with feature names\n",
      "\n"
     ]
    }
   ],
   "source": [
    "values_pb= ss_pb.transform([[44,27.5]])"
   ]
  },
  {
   "cell_type": "code",
   "execution_count": 55,
   "metadata": {},
   "outputs": [
    {
     "data": {
      "text/plain": [
       "array([179.53473884])"
      ]
     },
     "execution_count": 55,
     "metadata": {},
     "output_type": "execute_result"
    }
   ],
   "source": [
    "modelo_pb.predict(values_pb)"
   ]
  },
  {
   "cell_type": "code",
   "execution_count": 56,
   "metadata": {},
   "outputs": [],
   "source": [
    "x_train_pb = np.array(x_train_pb)\n",
    "x_test_pb = np.array(x_test_pb)"
   ]
  },
  {
   "cell_type": "code",
   "execution_count": 57,
   "metadata": {},
   "outputs": [
    {
     "name": "stderr",
     "output_type": "stream",
     "text": [
      "c:\\Users\\Roi_f\\anaconda3\\envs\\personal\\Lib\\site-packages\\sklearn\\base.py:493: UserWarning:\n",
      "\n",
      "X does not have valid feature names, but StandardScaler was fitted with feature names\n",
      "\n"
     ]
    },
    {
     "data": {
      "application/vnd.plotly.v1+json": {
       "config": {
        "plotlyServerURL": "https://plot.ly"
       },
       "data": [
        {
         "marker": {
          "color": "red",
          "opacity": 0.7,
          "size": 8
         },
         "mode": "markers",
         "type": "scatter3d",
         "x": [
          53,
          42,
          50,
          43,
          43,
          51,
          50,
          42,
          49,
          49,
          47,
          52,
          52,
          49,
          48,
          44,
          55,
          49,
          45,
          50
         ],
         "y": [
          29.9,
          27.3,
          29.1,
          27.5,
          27.5,
          29.3,
          29,
          27.4,
          28.8,
          28.9,
          28.3,
          29.4,
          29.5,
          28.9,
          28.6,
          27.6,
          30.2,
          28.8,
          27.8,
          29.2
         ],
         "z": [
          190,
          176,
          185,
          177,
          177,
          186,
          185,
          177,
          183,
          184,
          181,
          187,
          187,
          184,
          183,
          179,
          191,
          184,
          180,
          185
         ]
        },
        {
         "colorscale": [
          [
           0,
           "#440154"
          ],
          [
           0.1111111111111111,
           "#482878"
          ],
          [
           0.2222222222222222,
           "#3e4989"
          ],
          [
           0.3333333333333333,
           "#31688e"
          ],
          [
           0.4444444444444444,
           "#26828e"
          ],
          [
           0.5555555555555556,
           "#1f9e89"
          ],
          [
           0.6666666666666666,
           "#35b779"
          ],
          [
           0.7777777777777778,
           "#6ece58"
          ],
          [
           0.8888888888888888,
           "#b5de2b"
          ],
          [
           1,
           "#fde725"
          ]
         ],
         "opacity": 0.5,
         "type": "surface",
         "x": [
          [
           37,
           38.1578947368421,
           39.31578947368421,
           40.473684210526315,
           41.631578947368425,
           42.78947368421053,
           43.94736842105263,
           45.10526315789474,
           46.26315789473684,
           47.421052631578945,
           48.578947368421055,
           49.73684210526316,
           50.89473684210526,
           52.05263157894737,
           53.21052631578947,
           54.368421052631575,
           55.526315789473685,
           56.684210526315795,
           57.8421052631579,
           59
          ],
          [
           37,
           38.1578947368421,
           39.31578947368421,
           40.473684210526315,
           41.631578947368425,
           42.78947368421053,
           43.94736842105263,
           45.10526315789474,
           46.26315789473684,
           47.421052631578945,
           48.578947368421055,
           49.73684210526316,
           50.89473684210526,
           52.05263157894737,
           53.21052631578947,
           54.368421052631575,
           55.526315789473685,
           56.684210526315795,
           57.8421052631579,
           59
          ],
          [
           37,
           38.1578947368421,
           39.31578947368421,
           40.473684210526315,
           41.631578947368425,
           42.78947368421053,
           43.94736842105263,
           45.10526315789474,
           46.26315789473684,
           47.421052631578945,
           48.578947368421055,
           49.73684210526316,
           50.89473684210526,
           52.05263157894737,
           53.21052631578947,
           54.368421052631575,
           55.526315789473685,
           56.684210526315795,
           57.8421052631579,
           59
          ],
          [
           37,
           38.1578947368421,
           39.31578947368421,
           40.473684210526315,
           41.631578947368425,
           42.78947368421053,
           43.94736842105263,
           45.10526315789474,
           46.26315789473684,
           47.421052631578945,
           48.578947368421055,
           49.73684210526316,
           50.89473684210526,
           52.05263157894737,
           53.21052631578947,
           54.368421052631575,
           55.526315789473685,
           56.684210526315795,
           57.8421052631579,
           59
          ],
          [
           37,
           38.1578947368421,
           39.31578947368421,
           40.473684210526315,
           41.631578947368425,
           42.78947368421053,
           43.94736842105263,
           45.10526315789474,
           46.26315789473684,
           47.421052631578945,
           48.578947368421055,
           49.73684210526316,
           50.89473684210526,
           52.05263157894737,
           53.21052631578947,
           54.368421052631575,
           55.526315789473685,
           56.684210526315795,
           57.8421052631579,
           59
          ],
          [
           37,
           38.1578947368421,
           39.31578947368421,
           40.473684210526315,
           41.631578947368425,
           42.78947368421053,
           43.94736842105263,
           45.10526315789474,
           46.26315789473684,
           47.421052631578945,
           48.578947368421055,
           49.73684210526316,
           50.89473684210526,
           52.05263157894737,
           53.21052631578947,
           54.368421052631575,
           55.526315789473685,
           56.684210526315795,
           57.8421052631579,
           59
          ],
          [
           37,
           38.1578947368421,
           39.31578947368421,
           40.473684210526315,
           41.631578947368425,
           42.78947368421053,
           43.94736842105263,
           45.10526315789474,
           46.26315789473684,
           47.421052631578945,
           48.578947368421055,
           49.73684210526316,
           50.89473684210526,
           52.05263157894737,
           53.21052631578947,
           54.368421052631575,
           55.526315789473685,
           56.684210526315795,
           57.8421052631579,
           59
          ],
          [
           37,
           38.1578947368421,
           39.31578947368421,
           40.473684210526315,
           41.631578947368425,
           42.78947368421053,
           43.94736842105263,
           45.10526315789474,
           46.26315789473684,
           47.421052631578945,
           48.578947368421055,
           49.73684210526316,
           50.89473684210526,
           52.05263157894737,
           53.21052631578947,
           54.368421052631575,
           55.526315789473685,
           56.684210526315795,
           57.8421052631579,
           59
          ],
          [
           37,
           38.1578947368421,
           39.31578947368421,
           40.473684210526315,
           41.631578947368425,
           42.78947368421053,
           43.94736842105263,
           45.10526315789474,
           46.26315789473684,
           47.421052631578945,
           48.578947368421055,
           49.73684210526316,
           50.89473684210526,
           52.05263157894737,
           53.21052631578947,
           54.368421052631575,
           55.526315789473685,
           56.684210526315795,
           57.8421052631579,
           59
          ],
          [
           37,
           38.1578947368421,
           39.31578947368421,
           40.473684210526315,
           41.631578947368425,
           42.78947368421053,
           43.94736842105263,
           45.10526315789474,
           46.26315789473684,
           47.421052631578945,
           48.578947368421055,
           49.73684210526316,
           50.89473684210526,
           52.05263157894737,
           53.21052631578947,
           54.368421052631575,
           55.526315789473685,
           56.684210526315795,
           57.8421052631579,
           59
          ],
          [
           37,
           38.1578947368421,
           39.31578947368421,
           40.473684210526315,
           41.631578947368425,
           42.78947368421053,
           43.94736842105263,
           45.10526315789474,
           46.26315789473684,
           47.421052631578945,
           48.578947368421055,
           49.73684210526316,
           50.89473684210526,
           52.05263157894737,
           53.21052631578947,
           54.368421052631575,
           55.526315789473685,
           56.684210526315795,
           57.8421052631579,
           59
          ],
          [
           37,
           38.1578947368421,
           39.31578947368421,
           40.473684210526315,
           41.631578947368425,
           42.78947368421053,
           43.94736842105263,
           45.10526315789474,
           46.26315789473684,
           47.421052631578945,
           48.578947368421055,
           49.73684210526316,
           50.89473684210526,
           52.05263157894737,
           53.21052631578947,
           54.368421052631575,
           55.526315789473685,
           56.684210526315795,
           57.8421052631579,
           59
          ],
          [
           37,
           38.1578947368421,
           39.31578947368421,
           40.473684210526315,
           41.631578947368425,
           42.78947368421053,
           43.94736842105263,
           45.10526315789474,
           46.26315789473684,
           47.421052631578945,
           48.578947368421055,
           49.73684210526316,
           50.89473684210526,
           52.05263157894737,
           53.21052631578947,
           54.368421052631575,
           55.526315789473685,
           56.684210526315795,
           57.8421052631579,
           59
          ],
          [
           37,
           38.1578947368421,
           39.31578947368421,
           40.473684210526315,
           41.631578947368425,
           42.78947368421053,
           43.94736842105263,
           45.10526315789474,
           46.26315789473684,
           47.421052631578945,
           48.578947368421055,
           49.73684210526316,
           50.89473684210526,
           52.05263157894737,
           53.21052631578947,
           54.368421052631575,
           55.526315789473685,
           56.684210526315795,
           57.8421052631579,
           59
          ],
          [
           37,
           38.1578947368421,
           39.31578947368421,
           40.473684210526315,
           41.631578947368425,
           42.78947368421053,
           43.94736842105263,
           45.10526315789474,
           46.26315789473684,
           47.421052631578945,
           48.578947368421055,
           49.73684210526316,
           50.89473684210526,
           52.05263157894737,
           53.21052631578947,
           54.368421052631575,
           55.526315789473685,
           56.684210526315795,
           57.8421052631579,
           59
          ],
          [
           37,
           38.1578947368421,
           39.31578947368421,
           40.473684210526315,
           41.631578947368425,
           42.78947368421053,
           43.94736842105263,
           45.10526315789474,
           46.26315789473684,
           47.421052631578945,
           48.578947368421055,
           49.73684210526316,
           50.89473684210526,
           52.05263157894737,
           53.21052631578947,
           54.368421052631575,
           55.526315789473685,
           56.684210526315795,
           57.8421052631579,
           59
          ],
          [
           37,
           38.1578947368421,
           39.31578947368421,
           40.473684210526315,
           41.631578947368425,
           42.78947368421053,
           43.94736842105263,
           45.10526315789474,
           46.26315789473684,
           47.421052631578945,
           48.578947368421055,
           49.73684210526316,
           50.89473684210526,
           52.05263157894737,
           53.21052631578947,
           54.368421052631575,
           55.526315789473685,
           56.684210526315795,
           57.8421052631579,
           59
          ],
          [
           37,
           38.1578947368421,
           39.31578947368421,
           40.473684210526315,
           41.631578947368425,
           42.78947368421053,
           43.94736842105263,
           45.10526315789474,
           46.26315789473684,
           47.421052631578945,
           48.578947368421055,
           49.73684210526316,
           50.89473684210526,
           52.05263157894737,
           53.21052631578947,
           54.368421052631575,
           55.526315789473685,
           56.684210526315795,
           57.8421052631579,
           59
          ],
          [
           37,
           38.1578947368421,
           39.31578947368421,
           40.473684210526315,
           41.631578947368425,
           42.78947368421053,
           43.94736842105263,
           45.10526315789474,
           46.26315789473684,
           47.421052631578945,
           48.578947368421055,
           49.73684210526316,
           50.89473684210526,
           52.05263157894737,
           53.21052631578947,
           54.368421052631575,
           55.526315789473685,
           56.684210526315795,
           57.8421052631579,
           59
          ],
          [
           37,
           38.1578947368421,
           39.31578947368421,
           40.473684210526315,
           41.631578947368425,
           42.78947368421053,
           43.94736842105263,
           45.10526315789474,
           46.26315789473684,
           47.421052631578945,
           48.578947368421055,
           49.73684210526316,
           50.89473684210526,
           52.05263157894737,
           53.21052631578947,
           54.368421052631575,
           55.526315789473685,
           56.684210526315795,
           57.8421052631579,
           59
          ]
         ],
         "y": [
          [
           26.7,
           26.7,
           26.7,
           26.7,
           26.7,
           26.7,
           26.7,
           26.7,
           26.7,
           26.7,
           26.7,
           26.7,
           26.7,
           26.7,
           26.7,
           26.7,
           26.7,
           26.7,
           26.7,
           26.7
          ],
          [
           26.910526315789472,
           26.910526315789472,
           26.910526315789472,
           26.910526315789472,
           26.910526315789472,
           26.910526315789472,
           26.910526315789472,
           26.910526315789472,
           26.910526315789472,
           26.910526315789472,
           26.910526315789472,
           26.910526315789472,
           26.910526315789472,
           26.910526315789472,
           26.910526315789472,
           26.910526315789472,
           26.910526315789472,
           26.910526315789472,
           26.910526315789472,
           26.910526315789472
          ],
          [
           27.121052631578948,
           27.121052631578948,
           27.121052631578948,
           27.121052631578948,
           27.121052631578948,
           27.121052631578948,
           27.121052631578948,
           27.121052631578948,
           27.121052631578948,
           27.121052631578948,
           27.121052631578948,
           27.121052631578948,
           27.121052631578948,
           27.121052631578948,
           27.121052631578948,
           27.121052631578948,
           27.121052631578948,
           27.121052631578948,
           27.121052631578948,
           27.121052631578948
          ],
          [
           27.33157894736842,
           27.33157894736842,
           27.33157894736842,
           27.33157894736842,
           27.33157894736842,
           27.33157894736842,
           27.33157894736842,
           27.33157894736842,
           27.33157894736842,
           27.33157894736842,
           27.33157894736842,
           27.33157894736842,
           27.33157894736842,
           27.33157894736842,
           27.33157894736842,
           27.33157894736842,
           27.33157894736842,
           27.33157894736842,
           27.33157894736842,
           27.33157894736842
          ],
          [
           27.542105263157893,
           27.542105263157893,
           27.542105263157893,
           27.542105263157893,
           27.542105263157893,
           27.542105263157893,
           27.542105263157893,
           27.542105263157893,
           27.542105263157893,
           27.542105263157893,
           27.542105263157893,
           27.542105263157893,
           27.542105263157893,
           27.542105263157893,
           27.542105263157893,
           27.542105263157893,
           27.542105263157893,
           27.542105263157893,
           27.542105263157893,
           27.542105263157893
          ],
          [
           27.75263157894737,
           27.75263157894737,
           27.75263157894737,
           27.75263157894737,
           27.75263157894737,
           27.75263157894737,
           27.75263157894737,
           27.75263157894737,
           27.75263157894737,
           27.75263157894737,
           27.75263157894737,
           27.75263157894737,
           27.75263157894737,
           27.75263157894737,
           27.75263157894737,
           27.75263157894737,
           27.75263157894737,
           27.75263157894737,
           27.75263157894737,
           27.75263157894737
          ],
          [
           27.96315789473684,
           27.96315789473684,
           27.96315789473684,
           27.96315789473684,
           27.96315789473684,
           27.96315789473684,
           27.96315789473684,
           27.96315789473684,
           27.96315789473684,
           27.96315789473684,
           27.96315789473684,
           27.96315789473684,
           27.96315789473684,
           27.96315789473684,
           27.96315789473684,
           27.96315789473684,
           27.96315789473684,
           27.96315789473684,
           27.96315789473684,
           27.96315789473684
          ],
          [
           28.173684210526314,
           28.173684210526314,
           28.173684210526314,
           28.173684210526314,
           28.173684210526314,
           28.173684210526314,
           28.173684210526314,
           28.173684210526314,
           28.173684210526314,
           28.173684210526314,
           28.173684210526314,
           28.173684210526314,
           28.173684210526314,
           28.173684210526314,
           28.173684210526314,
           28.173684210526314,
           28.173684210526314,
           28.173684210526314,
           28.173684210526314,
           28.173684210526314
          ],
          [
           28.38421052631579,
           28.38421052631579,
           28.38421052631579,
           28.38421052631579,
           28.38421052631579,
           28.38421052631579,
           28.38421052631579,
           28.38421052631579,
           28.38421052631579,
           28.38421052631579,
           28.38421052631579,
           28.38421052631579,
           28.38421052631579,
           28.38421052631579,
           28.38421052631579,
           28.38421052631579,
           28.38421052631579,
           28.38421052631579,
           28.38421052631579,
           28.38421052631579
          ],
          [
           28.594736842105263,
           28.594736842105263,
           28.594736842105263,
           28.594736842105263,
           28.594736842105263,
           28.594736842105263,
           28.594736842105263,
           28.594736842105263,
           28.594736842105263,
           28.594736842105263,
           28.594736842105263,
           28.594736842105263,
           28.594736842105263,
           28.594736842105263,
           28.594736842105263,
           28.594736842105263,
           28.594736842105263,
           28.594736842105263,
           28.594736842105263,
           28.594736842105263
          ],
          [
           28.805263157894736,
           28.805263157894736,
           28.805263157894736,
           28.805263157894736,
           28.805263157894736,
           28.805263157894736,
           28.805263157894736,
           28.805263157894736,
           28.805263157894736,
           28.805263157894736,
           28.805263157894736,
           28.805263157894736,
           28.805263157894736,
           28.805263157894736,
           28.805263157894736,
           28.805263157894736,
           28.805263157894736,
           28.805263157894736,
           28.805263157894736,
           28.805263157894736
          ],
          [
           29.015789473684208,
           29.015789473684208,
           29.015789473684208,
           29.015789473684208,
           29.015789473684208,
           29.015789473684208,
           29.015789473684208,
           29.015789473684208,
           29.015789473684208,
           29.015789473684208,
           29.015789473684208,
           29.015789473684208,
           29.015789473684208,
           29.015789473684208,
           29.015789473684208,
           29.015789473684208,
           29.015789473684208,
           29.015789473684208,
           29.015789473684208,
           29.015789473684208
          ],
          [
           29.226315789473684,
           29.226315789473684,
           29.226315789473684,
           29.226315789473684,
           29.226315789473684,
           29.226315789473684,
           29.226315789473684,
           29.226315789473684,
           29.226315789473684,
           29.226315789473684,
           29.226315789473684,
           29.226315789473684,
           29.226315789473684,
           29.226315789473684,
           29.226315789473684,
           29.226315789473684,
           29.226315789473684,
           29.226315789473684,
           29.226315789473684,
           29.226315789473684
          ],
          [
           29.436842105263157,
           29.436842105263157,
           29.436842105263157,
           29.436842105263157,
           29.436842105263157,
           29.436842105263157,
           29.436842105263157,
           29.436842105263157,
           29.436842105263157,
           29.436842105263157,
           29.436842105263157,
           29.436842105263157,
           29.436842105263157,
           29.436842105263157,
           29.436842105263157,
           29.436842105263157,
           29.436842105263157,
           29.436842105263157,
           29.436842105263157,
           29.436842105263157
          ],
          [
           29.64736842105263,
           29.64736842105263,
           29.64736842105263,
           29.64736842105263,
           29.64736842105263,
           29.64736842105263,
           29.64736842105263,
           29.64736842105263,
           29.64736842105263,
           29.64736842105263,
           29.64736842105263,
           29.64736842105263,
           29.64736842105263,
           29.64736842105263,
           29.64736842105263,
           29.64736842105263,
           29.64736842105263,
           29.64736842105263,
           29.64736842105263,
           29.64736842105263
          ],
          [
           29.857894736842105,
           29.857894736842105,
           29.857894736842105,
           29.857894736842105,
           29.857894736842105,
           29.857894736842105,
           29.857894736842105,
           29.857894736842105,
           29.857894736842105,
           29.857894736842105,
           29.857894736842105,
           29.857894736842105,
           29.857894736842105,
           29.857894736842105,
           29.857894736842105,
           29.857894736842105,
           29.857894736842105,
           29.857894736842105,
           29.857894736842105,
           29.857894736842105
          ],
          [
           30.068421052631578,
           30.068421052631578,
           30.068421052631578,
           30.068421052631578,
           30.068421052631578,
           30.068421052631578,
           30.068421052631578,
           30.068421052631578,
           30.068421052631578,
           30.068421052631578,
           30.068421052631578,
           30.068421052631578,
           30.068421052631578,
           30.068421052631578,
           30.068421052631578,
           30.068421052631578,
           30.068421052631578,
           30.068421052631578,
           30.068421052631578,
           30.068421052631578
          ],
          [
           30.27894736842105,
           30.27894736842105,
           30.27894736842105,
           30.27894736842105,
           30.27894736842105,
           30.27894736842105,
           30.27894736842105,
           30.27894736842105,
           30.27894736842105,
           30.27894736842105,
           30.27894736842105,
           30.27894736842105,
           30.27894736842105,
           30.27894736842105,
           30.27894736842105,
           30.27894736842105,
           30.27894736842105,
           30.27894736842105,
           30.27894736842105,
           30.27894736842105
          ],
          [
           30.489473684210527,
           30.489473684210527,
           30.489473684210527,
           30.489473684210527,
           30.489473684210527,
           30.489473684210527,
           30.489473684210527,
           30.489473684210527,
           30.489473684210527,
           30.489473684210527,
           30.489473684210527,
           30.489473684210527,
           30.489473684210527,
           30.489473684210527,
           30.489473684210527,
           30.489473684210527,
           30.489473684210527,
           30.489473684210527,
           30.489473684210527,
           30.489473684210527
          ],
          [
           30.7,
           30.7,
           30.7,
           30.7,
           30.7,
           30.7,
           30.7,
           30.7,
           30.7,
           30.7,
           30.7,
           30.7,
           30.7,
           30.7,
           30.7,
           30.7,
           30.7,
           30.7,
           30.7,
           30.7
          ]
         ],
         "z": [
          [
           175.6373973282761,
           176.04818140583276,
           176.45896548338945,
           176.86974956094613,
           177.2805336385028,
           177.69131771605947,
           178.10210179361616,
           178.5128858711728,
           178.9236699487295,
           179.33445402628618,
           179.74523810384284,
           180.15602218139952,
           180.5668062589562,
           180.97759033651286,
           181.38837441406955,
           181.7991584916262,
           182.20994256918289,
           182.62072664673957,
           183.03151072429623,
           183.4422948018529
          ],
          [
           176.00949339329796,
           176.42027747085461,
           176.8310615484113,
           177.24184562596798,
           177.65262970352464,
           178.06341378108132,
           178.474197858638,
           178.88498193619466,
           179.29576601375135,
           179.706550091308,
           180.1173341688647,
           180.52811824642137,
           180.93890232397803,
           181.3496864015347,
           181.7604704790914,
           182.17125455664805,
           182.58203863420474,
           182.99282271176142,
           183.40360678931808,
           183.81439086687476
          ],
          [
           176.3815894583198,
           176.79237353587646,
           177.20315761343315,
           177.61394169098983,
           178.0247257685465,
           178.43550984610317,
           178.84629392365986,
           179.2570780012165,
           179.6678620787732,
           180.07864615632988,
           180.48943023388654,
           180.90021431144322,
           181.31099838899988,
           181.72178246655656,
           182.13256654411325,
           182.5433506216699,
           182.95413469922659,
           183.36491877678327,
           183.77570285433993,
           184.1864869318966
          ],
          [
           176.75368552334166,
           177.16446960089831,
           177.575253678455,
           177.98603775601168,
           178.39682183356834,
           178.80760591112502,
           179.21838998868168,
           179.62917406623836,
           180.03995814379505,
           180.4507422213517,
           180.8615262989084,
           181.27231037646507,
           181.68309445402173,
           182.0938785315784,
           182.5046626091351,
           182.91544668669175,
           183.32623076424844,
           183.73701484180512,
           184.14779891936178,
           184.55858299691846
          ],
          [
           177.12578158836348,
           177.53656566592016,
           177.94734974347685,
           178.3581338210335,
           178.7689178985902,
           179.17970197614687,
           179.59048605370353,
           180.0012701312602,
           180.4120542088169,
           180.82283828637355,
           181.23362236393024,
           181.64440644148692,
           182.05519051904358,
           182.46597459660026,
           182.87675867415692,
           183.2875427517136,
           183.6983268292703,
           184.10911090682694,
           184.51989498438363,
           184.9306790619403
          ],
          [
           177.49787765338533,
           177.90866173094201,
           178.3194458084987,
           178.73022988605535,
           179.14101396361204,
           179.55179804116872,
           179.96258211872538,
           180.37336619628206,
           180.78415027383875,
           181.1949343513954,
           181.6057184289521,
           182.01650250650877,
           182.42728658406543,
           182.8380706616221,
           183.2488547391788,
           183.65963881673545,
           184.07042289429214,
           184.48120697184882,
           184.89199104940548,
           185.30277512696216
          ],
          [
           177.86997371840718,
           178.28075779596386,
           178.69154187352055,
           179.1023259510772,
           179.5131100286339,
           179.92389410619057,
           180.33467818374723,
           180.7454622613039,
           181.1562463388606,
           181.56703041641725,
           181.97781449397394,
           182.3885985715306,
           182.79938264908728,
           183.21016672664396,
           183.62095080420062,
           184.0317348817573,
           184.442518959314,
           184.85330303687064,
           185.26408711442733,
           185.674871191984
          ],
          [
           178.24206978342903,
           178.65285386098572,
           179.0636379385424,
           179.47442201609906,
           179.88520609365574,
           180.2959901712124,
           180.70677424876908,
           181.11755832632576,
           181.52834240388242,
           181.9391264814391,
           182.3499105589958,
           182.76069463655244,
           183.17147871410913,
           183.5822627916658,
           183.99304686922247,
           184.40383094677915,
           184.8146150243358,
           185.2253991018925,
           185.63618317944918,
           186.04696725700583
          ],
          [
           178.61416584845088,
           179.02494992600757,
           179.43573400356425,
           179.8465180811209,
           180.2573021586776,
           180.66808623623425,
           181.07887031379093,
           181.4896543913476,
           181.90043846890427,
           182.31122254646095,
           182.72200662401764,
           183.1327907015743,
           183.54357477913098,
           183.95435885668766,
           184.36514293424432,
           184.775927011801,
           185.1867110893577,
           185.59749516691434,
           186.00827924447103,
           186.41906332202768
          ],
          [
           178.98626191347273,
           179.39704599102942,
           179.80783006858607,
           180.21861414614276,
           180.62939822369944,
           181.0401823012561,
           181.45096637881278,
           181.86175045636946,
           182.27253453392612,
           182.6833186114828,
           183.0941026890395,
           183.50488676659614,
           183.91567084415283,
           184.3264549217095,
           184.73723899926617,
           185.14802307682285,
           185.5588071543795,
           185.9695912319362,
           186.38037530949288,
           186.79115938704953
          ],
          [
           179.35835797849458,
           179.76914205605127,
           180.17992613360792,
           180.5907102111646,
           181.0014942887213,
           181.41227836627795,
           181.82306244383463,
           182.23384652139129,
           182.64463059894797,
           183.05541467650465,
           183.4661987540613,
           183.876982831618,
           184.28776690917468,
           184.69855098673133,
           185.10933506428802,
           185.5201191418447,
           185.93090321940136,
           186.34168729695804,
           186.75247137451473,
           187.16325545207138
          ],
          [
           179.73045404351643,
           180.1412381210731,
           180.55202219862977,
           180.96280627618646,
           181.3735903537431,
           181.7843744312998,
           182.19515850885648,
           182.60594258641314,
           183.01672666396982,
           183.4275107415265,
           183.83829481908316,
           184.24907889663984,
           184.6598629741965,
           185.07064705175318,
           185.48143112930987,
           185.89221520686652,
           186.3029992844232,
           186.7137833619799,
           187.12456743953655,
           187.53535151709323
          ],
          [
           180.10255010853828,
           180.51333418609494,
           180.92411826365162,
           181.3349023412083,
           181.74568641876496,
           182.15647049632165,
           182.56725457387833,
           182.97803865143499,
           183.38882272899167,
           183.79960680654835,
           184.210390884105,
           184.6211749616617,
           185.03195903921838,
           185.44274311677503,
           185.85352719433172,
           186.26431127188837,
           186.67509534944506,
           187.08587942700174,
           187.4966635045584,
           187.90744758211508
          ],
          [
           180.47464617356013,
           180.8854302511168,
           181.29621432867347,
           181.70699840623016,
           182.1177824837868,
           182.5285665613435,
           182.93935063890018,
           183.35013471645684,
           183.76091879401352,
           184.17170287157018,
           184.58248694912686,
           184.99327102668354,
           185.4040551042402,
           185.81483918179688,
           186.22562325935357,
           186.63640733691022,
           187.0471914144669,
           187.4579754920236,
           187.86875956958025,
           188.27954364713693
          ],
          [
           180.84674223858198,
           181.25752631613864,
           181.66831039369532,
           182.07909447125198,
           182.48987854880866,
           182.90066262636535,
           183.311446703922,
           183.7222307814787,
           184.13301485903537,
           184.54379893659203,
           184.9545830141487,
           185.3653670917054,
           185.77615116926205,
           186.18693524681873,
           186.59771932437542,
           187.00850340193207,
           187.41928747948876,
           187.83007155704544,
           188.2408556346021,
           188.65163971215878
          ],
          [
           181.21883830360383,
           181.6296223811605,
           182.04040645871717,
           182.45119053627386,
           182.8619746138305,
           183.2727586913872,
           183.68354276894385,
           184.09432684650054,
           184.50511092405722,
           184.91589500161388,
           185.32667907917056,
           185.73746315672724,
           186.1482472342839,
           186.55903131184058,
           186.96981538939727,
           187.38059946695392,
           187.7913835445106,
           188.2021676220673,
           188.61295169962395,
           189.02373577718063
          ],
          [
           181.59093436862565,
           182.00171844618234,
           182.41250252373902,
           182.82328660129568,
           183.23407067885236,
           183.64485475640905,
           184.0556388339657,
           184.4664229115224,
           184.87720698907907,
           185.28799106663573,
           185.6987751441924,
           186.1095592217491,
           186.52034329930575,
           186.93112737686243,
           187.3419114544191,
           187.75269553197577,
           188.16347960953246,
           188.57426368708911,
           188.9850477646458,
           189.39583184220248
          ],
          [
           181.9630304336475,
           182.3738145112042,
           182.78459858876087,
           183.19538266631753,
           183.6061667438742,
           184.0169508214309,
           184.42773489898755,
           184.83851897654424,
           185.2493030541009,
           185.66008713165758,
           186.07087120921426,
           186.48165528677092,
           186.8924393643276,
           187.30322344188428,
           187.71400751944094,
           188.12479159699762,
           188.5355756745543,
           188.94635975211096,
           189.35714382966765,
           189.76792790722433
          ],
          [
           182.33512649866935,
           182.74591057622604,
           183.15669465378272,
           183.56747873133938,
           183.97826280889606,
           184.38904688645275,
           184.7998309640094,
           185.2106150415661,
           185.62139911912277,
           186.03218319667943,
           186.4429672742361,
           186.85375135179277,
           187.26453542934945,
           187.67531950690613,
           188.0861035844628,
           188.49688766201947,
           188.90767173957616,
           189.31845581713281,
           189.7292398946895,
           190.14002397224618
          ],
          [
           182.7072225636912,
           183.1180066412479,
           183.52879071880457,
           183.93957479636123,
           184.3503588739179,
           184.76114295147457,
           185.17192702903125,
           185.58271110658794,
           185.9934951841446,
           186.40427926170128,
           186.81506333925796,
           187.22584741681462,
           187.6366314943713,
           188.04741557192798,
           188.45819964948464,
           188.86898372704132,
           189.279767804598,
           189.69055188215467,
           190.10133595971135,
           190.512120037268
          ]
         ]
        }
       ],
       "layout": {
        "scene": {
         "xaxis": {
          "title": {
           "text": "Ancho"
          }
         },
         "yaxis": {
          "title": {
           "text": "Pie"
          }
         },
         "zaxis": {
          "title": {
           "text": "Altura"
          }
         }
        },
        "template": {
         "data": {
          "bar": [
           {
            "error_x": {
             "color": "#2a3f5f"
            },
            "error_y": {
             "color": "#2a3f5f"
            },
            "marker": {
             "line": {
              "color": "#E5ECF6",
              "width": 0.5
             },
             "pattern": {
              "fillmode": "overlay",
              "size": 10,
              "solidity": 0.2
             }
            },
            "type": "bar"
           }
          ],
          "barpolar": [
           {
            "marker": {
             "line": {
              "color": "#E5ECF6",
              "width": 0.5
             },
             "pattern": {
              "fillmode": "overlay",
              "size": 10,
              "solidity": 0.2
             }
            },
            "type": "barpolar"
           }
          ],
          "carpet": [
           {
            "aaxis": {
             "endlinecolor": "#2a3f5f",
             "gridcolor": "white",
             "linecolor": "white",
             "minorgridcolor": "white",
             "startlinecolor": "#2a3f5f"
            },
            "baxis": {
             "endlinecolor": "#2a3f5f",
             "gridcolor": "white",
             "linecolor": "white",
             "minorgridcolor": "white",
             "startlinecolor": "#2a3f5f"
            },
            "type": "carpet"
           }
          ],
          "choropleth": [
           {
            "colorbar": {
             "outlinewidth": 0,
             "ticks": ""
            },
            "type": "choropleth"
           }
          ],
          "contour": [
           {
            "colorbar": {
             "outlinewidth": 0,
             "ticks": ""
            },
            "colorscale": [
             [
              0,
              "#0d0887"
             ],
             [
              0.1111111111111111,
              "#46039f"
             ],
             [
              0.2222222222222222,
              "#7201a8"
             ],
             [
              0.3333333333333333,
              "#9c179e"
             ],
             [
              0.4444444444444444,
              "#bd3786"
             ],
             [
              0.5555555555555556,
              "#d8576b"
             ],
             [
              0.6666666666666666,
              "#ed7953"
             ],
             [
              0.7777777777777778,
              "#fb9f3a"
             ],
             [
              0.8888888888888888,
              "#fdca26"
             ],
             [
              1,
              "#f0f921"
             ]
            ],
            "type": "contour"
           }
          ],
          "contourcarpet": [
           {
            "colorbar": {
             "outlinewidth": 0,
             "ticks": ""
            },
            "type": "contourcarpet"
           }
          ],
          "heatmap": [
           {
            "colorbar": {
             "outlinewidth": 0,
             "ticks": ""
            },
            "colorscale": [
             [
              0,
              "#0d0887"
             ],
             [
              0.1111111111111111,
              "#46039f"
             ],
             [
              0.2222222222222222,
              "#7201a8"
             ],
             [
              0.3333333333333333,
              "#9c179e"
             ],
             [
              0.4444444444444444,
              "#bd3786"
             ],
             [
              0.5555555555555556,
              "#d8576b"
             ],
             [
              0.6666666666666666,
              "#ed7953"
             ],
             [
              0.7777777777777778,
              "#fb9f3a"
             ],
             [
              0.8888888888888888,
              "#fdca26"
             ],
             [
              1,
              "#f0f921"
             ]
            ],
            "type": "heatmap"
           }
          ],
          "heatmapgl": [
           {
            "colorbar": {
             "outlinewidth": 0,
             "ticks": ""
            },
            "colorscale": [
             [
              0,
              "#0d0887"
             ],
             [
              0.1111111111111111,
              "#46039f"
             ],
             [
              0.2222222222222222,
              "#7201a8"
             ],
             [
              0.3333333333333333,
              "#9c179e"
             ],
             [
              0.4444444444444444,
              "#bd3786"
             ],
             [
              0.5555555555555556,
              "#d8576b"
             ],
             [
              0.6666666666666666,
              "#ed7953"
             ],
             [
              0.7777777777777778,
              "#fb9f3a"
             ],
             [
              0.8888888888888888,
              "#fdca26"
             ],
             [
              1,
              "#f0f921"
             ]
            ],
            "type": "heatmapgl"
           }
          ],
          "histogram": [
           {
            "marker": {
             "pattern": {
              "fillmode": "overlay",
              "size": 10,
              "solidity": 0.2
             }
            },
            "type": "histogram"
           }
          ],
          "histogram2d": [
           {
            "colorbar": {
             "outlinewidth": 0,
             "ticks": ""
            },
            "colorscale": [
             [
              0,
              "#0d0887"
             ],
             [
              0.1111111111111111,
              "#46039f"
             ],
             [
              0.2222222222222222,
              "#7201a8"
             ],
             [
              0.3333333333333333,
              "#9c179e"
             ],
             [
              0.4444444444444444,
              "#bd3786"
             ],
             [
              0.5555555555555556,
              "#d8576b"
             ],
             [
              0.6666666666666666,
              "#ed7953"
             ],
             [
              0.7777777777777778,
              "#fb9f3a"
             ],
             [
              0.8888888888888888,
              "#fdca26"
             ],
             [
              1,
              "#f0f921"
             ]
            ],
            "type": "histogram2d"
           }
          ],
          "histogram2dcontour": [
           {
            "colorbar": {
             "outlinewidth": 0,
             "ticks": ""
            },
            "colorscale": [
             [
              0,
              "#0d0887"
             ],
             [
              0.1111111111111111,
              "#46039f"
             ],
             [
              0.2222222222222222,
              "#7201a8"
             ],
             [
              0.3333333333333333,
              "#9c179e"
             ],
             [
              0.4444444444444444,
              "#bd3786"
             ],
             [
              0.5555555555555556,
              "#d8576b"
             ],
             [
              0.6666666666666666,
              "#ed7953"
             ],
             [
              0.7777777777777778,
              "#fb9f3a"
             ],
             [
              0.8888888888888888,
              "#fdca26"
             ],
             [
              1,
              "#f0f921"
             ]
            ],
            "type": "histogram2dcontour"
           }
          ],
          "mesh3d": [
           {
            "colorbar": {
             "outlinewidth": 0,
             "ticks": ""
            },
            "type": "mesh3d"
           }
          ],
          "parcoords": [
           {
            "line": {
             "colorbar": {
              "outlinewidth": 0,
              "ticks": ""
             }
            },
            "type": "parcoords"
           }
          ],
          "pie": [
           {
            "automargin": true,
            "type": "pie"
           }
          ],
          "scatter": [
           {
            "fillpattern": {
             "fillmode": "overlay",
             "size": 10,
             "solidity": 0.2
            },
            "type": "scatter"
           }
          ],
          "scatter3d": [
           {
            "line": {
             "colorbar": {
              "outlinewidth": 0,
              "ticks": ""
             }
            },
            "marker": {
             "colorbar": {
              "outlinewidth": 0,
              "ticks": ""
             }
            },
            "type": "scatter3d"
           }
          ],
          "scattercarpet": [
           {
            "marker": {
             "colorbar": {
              "outlinewidth": 0,
              "ticks": ""
             }
            },
            "type": "scattercarpet"
           }
          ],
          "scattergeo": [
           {
            "marker": {
             "colorbar": {
              "outlinewidth": 0,
              "ticks": ""
             }
            },
            "type": "scattergeo"
           }
          ],
          "scattergl": [
           {
            "marker": {
             "colorbar": {
              "outlinewidth": 0,
              "ticks": ""
             }
            },
            "type": "scattergl"
           }
          ],
          "scattermapbox": [
           {
            "marker": {
             "colorbar": {
              "outlinewidth": 0,
              "ticks": ""
             }
            },
            "type": "scattermapbox"
           }
          ],
          "scatterpolar": [
           {
            "marker": {
             "colorbar": {
              "outlinewidth": 0,
              "ticks": ""
             }
            },
            "type": "scatterpolar"
           }
          ],
          "scatterpolargl": [
           {
            "marker": {
             "colorbar": {
              "outlinewidth": 0,
              "ticks": ""
             }
            },
            "type": "scatterpolargl"
           }
          ],
          "scatterternary": [
           {
            "marker": {
             "colorbar": {
              "outlinewidth": 0,
              "ticks": ""
             }
            },
            "type": "scatterternary"
           }
          ],
          "surface": [
           {
            "colorbar": {
             "outlinewidth": 0,
             "ticks": ""
            },
            "colorscale": [
             [
              0,
              "#0d0887"
             ],
             [
              0.1111111111111111,
              "#46039f"
             ],
             [
              0.2222222222222222,
              "#7201a8"
             ],
             [
              0.3333333333333333,
              "#9c179e"
             ],
             [
              0.4444444444444444,
              "#bd3786"
             ],
             [
              0.5555555555555556,
              "#d8576b"
             ],
             [
              0.6666666666666666,
              "#ed7953"
             ],
             [
              0.7777777777777778,
              "#fb9f3a"
             ],
             [
              0.8888888888888888,
              "#fdca26"
             ],
             [
              1,
              "#f0f921"
             ]
            ],
            "type": "surface"
           }
          ],
          "table": [
           {
            "cells": {
             "fill": {
              "color": "#EBF0F8"
             },
             "line": {
              "color": "white"
             }
            },
            "header": {
             "fill": {
              "color": "#C8D4E3"
             },
             "line": {
              "color": "white"
             }
            },
            "type": "table"
           }
          ]
         },
         "layout": {
          "annotationdefaults": {
           "arrowcolor": "#2a3f5f",
           "arrowhead": 0,
           "arrowwidth": 1
          },
          "autotypenumbers": "strict",
          "coloraxis": {
           "colorbar": {
            "outlinewidth": 0,
            "ticks": ""
           }
          },
          "colorscale": {
           "diverging": [
            [
             0,
             "#8e0152"
            ],
            [
             0.1,
             "#c51b7d"
            ],
            [
             0.2,
             "#de77ae"
            ],
            [
             0.3,
             "#f1b6da"
            ],
            [
             0.4,
             "#fde0ef"
            ],
            [
             0.5,
             "#f7f7f7"
            ],
            [
             0.6,
             "#e6f5d0"
            ],
            [
             0.7,
             "#b8e186"
            ],
            [
             0.8,
             "#7fbc41"
            ],
            [
             0.9,
             "#4d9221"
            ],
            [
             1,
             "#276419"
            ]
           ],
           "sequential": [
            [
             0,
             "#0d0887"
            ],
            [
             0.1111111111111111,
             "#46039f"
            ],
            [
             0.2222222222222222,
             "#7201a8"
            ],
            [
             0.3333333333333333,
             "#9c179e"
            ],
            [
             0.4444444444444444,
             "#bd3786"
            ],
            [
             0.5555555555555556,
             "#d8576b"
            ],
            [
             0.6666666666666666,
             "#ed7953"
            ],
            [
             0.7777777777777778,
             "#fb9f3a"
            ],
            [
             0.8888888888888888,
             "#fdca26"
            ],
            [
             1,
             "#f0f921"
            ]
           ],
           "sequentialminus": [
            [
             0,
             "#0d0887"
            ],
            [
             0.1111111111111111,
             "#46039f"
            ],
            [
             0.2222222222222222,
             "#7201a8"
            ],
            [
             0.3333333333333333,
             "#9c179e"
            ],
            [
             0.4444444444444444,
             "#bd3786"
            ],
            [
             0.5555555555555556,
             "#d8576b"
            ],
            [
             0.6666666666666666,
             "#ed7953"
            ],
            [
             0.7777777777777778,
             "#fb9f3a"
            ],
            [
             0.8888888888888888,
             "#fdca26"
            ],
            [
             1,
             "#f0f921"
            ]
           ]
          },
          "colorway": [
           "#636efa",
           "#EF553B",
           "#00cc96",
           "#ab63fa",
           "#FFA15A",
           "#19d3f3",
           "#FF6692",
           "#B6E880",
           "#FF97FF",
           "#FECB52"
          ],
          "font": {
           "color": "#2a3f5f"
          },
          "geo": {
           "bgcolor": "white",
           "lakecolor": "white",
           "landcolor": "#E5ECF6",
           "showlakes": true,
           "showland": true,
           "subunitcolor": "white"
          },
          "hoverlabel": {
           "align": "left"
          },
          "hovermode": "closest",
          "mapbox": {
           "style": "light"
          },
          "paper_bgcolor": "white",
          "plot_bgcolor": "#E5ECF6",
          "polar": {
           "angularaxis": {
            "gridcolor": "white",
            "linecolor": "white",
            "ticks": ""
           },
           "bgcolor": "#E5ECF6",
           "radialaxis": {
            "gridcolor": "white",
            "linecolor": "white",
            "ticks": ""
           }
          },
          "scene": {
           "xaxis": {
            "backgroundcolor": "#E5ECF6",
            "gridcolor": "white",
            "gridwidth": 2,
            "linecolor": "white",
            "showbackground": true,
            "ticks": "",
            "zerolinecolor": "white"
           },
           "yaxis": {
            "backgroundcolor": "#E5ECF6",
            "gridcolor": "white",
            "gridwidth": 2,
            "linecolor": "white",
            "showbackground": true,
            "ticks": "",
            "zerolinecolor": "white"
           },
           "zaxis": {
            "backgroundcolor": "#E5ECF6",
            "gridcolor": "white",
            "gridwidth": 2,
            "linecolor": "white",
            "showbackground": true,
            "ticks": "",
            "zerolinecolor": "white"
           }
          },
          "shapedefaults": {
           "line": {
            "color": "#2a3f5f"
           }
          },
          "ternary": {
           "aaxis": {
            "gridcolor": "white",
            "linecolor": "white",
            "ticks": ""
           },
           "baxis": {
            "gridcolor": "white",
            "linecolor": "white",
            "ticks": ""
           },
           "bgcolor": "#E5ECF6",
           "caxis": {
            "gridcolor": "white",
            "linecolor": "white",
            "ticks": ""
           }
          },
          "title": {
           "x": 0.05
          },
          "xaxis": {
           "automargin": true,
           "gridcolor": "white",
           "linecolor": "white",
           "ticks": "",
           "title": {
            "standoff": 15
           },
           "zerolinecolor": "white",
           "zerolinewidth": 2
          },
          "yaxis": {
           "automargin": true,
           "gridcolor": "white",
           "linecolor": "white",
           "ticks": "",
           "title": {
            "standoff": 15
           },
           "zerolinecolor": "white",
           "zerolinewidth": 2
          }
         }
        },
        "title": {
         "text": "REGRESION<br>R2: 0.881895059522591 RMSE: 1.4477801736185008"
        }
       }
      }
     },
     "metadata": {},
     "output_type": "display_data"
    }
   ],
   "source": [
    "# Definir rangos para las variables independientes\n",
    "x1_range = np.linspace(min(x_train_pb[:, 0]), max(x_train_pb[:, 0]), 20)\n",
    "x2_range = np.linspace(min(x_train_pb[:, 1]), max(x_train_pb[:, 1]), 20)\n",
    "x1_mesh, x2_mesh = np.meshgrid(x1_range, x2_range)\n",
    "\n",
    "# Escalar el meshgrid para predicción\n",
    "x_mesh_scaled = ss_pb.transform(np.vstack((x1_mesh.ravel(), x2_mesh.ravel())).T)\n",
    "\n",
    "# Predecir los valores con el modelo escalado\n",
    "y_mesh_scaled = modelo_pb.predict(x_mesh_scaled)\n",
    "\n",
    "# Crear scatterplot 3D de los puntos reales\n",
    "scatter = go.Scatter3d(\n",
    "    x=x_test_pb[:, 0], y=x_test_pb[:, 1], z=y_test_pb,\n",
    "    mode='markers',\n",
    "    marker=dict(size=8, color='red', opacity=0.7)\n",
    ")\n",
    "\n",
    "# Crear el plano de regresión\n",
    "surface = go.Surface(\n",
    "    x=x1_mesh, y=x2_mesh, z=y_mesh_scaled.reshape(x1_mesh.shape),\n",
    "    colorscale='Viridis', opacity=0.5\n",
    ")\n",
    "\n",
    "# Configuración del layout\n",
    "layout = go.Layout(\n",
    "    title=f\"REGRESION<br>R2: {r2_score(y_test_pb, pb_pred)} RMSE: {root_mean_squared_error(y_test_pb, pb_pred)}\",\n",
    "    scene=dict(\n",
    "        xaxis_title='Ancho',\n",
    "        yaxis_title='Pie',\n",
    "        zaxis_title='Altura'\n",
    "    )\n",
    ")\n",
    "\n",
    "# Crear la figura\n",
    "fig = go.Figure(data=[scatter, surface], layout=layout)\n",
    "\n",
    "# Mostrar la figura interactiva\n",
    "fig.show()\n"
   ]
  },
  {
   "cell_type": "markdown",
   "metadata": {},
   "source": [
    "**¿Agregarías datos a tu base de datos para mejorar las predicciones del modelo?**\n",
    "\n",
    "Sí, ya que la altura promedio de un mexicano no es la misma que la altura de una persona de Países Bajos."
   ]
  },
  {
   "cell_type": "markdown",
   "metadata": {},
   "source": [
    "**¿Cómo conseguirías dicha información?**\n",
    "\n",
    "Al tener que el promedio de altura de un hombre de Países Bajos es de 183 cm y la altura promedio de una mujer de Países Bajos es de 170 cm, promediamos las alturas y nos basamos en los datos originales y en los que recabamos de las 70 personas que medimos para crear nuevos datos."
   ]
  },
  {
   "cell_type": "markdown",
   "metadata": {},
   "source": [
    "**¿Modificarías algún parámetro de tu modelo?**\n",
    "\n",
    "En este caso, al no tener ningún dato de personas de países bajos y después de hacer gridsearch para obtener el modelo con las mejores métricas, llegamos a la conclusión de que una regresión lineal simple era el mejor modelo, por lo que no aplicamos ninguna regularización."
   ]
  },
  {
   "cell_type": "markdown",
   "metadata": {},
   "source": [
    "## Parte 4"
   ]
  },
  {
   "cell_type": "markdown",
   "metadata": {},
   "source": [
    "### Ambos contextos"
   ]
  },
  {
   "cell_type": "code",
   "execution_count": 58,
   "metadata": {},
   "outputs": [],
   "source": [
    "df_combined = pd.concat([df_center, data_left, data_right, df_pb])"
   ]
  },
  {
   "cell_type": "code",
   "execution_count": 59,
   "metadata": {},
   "outputs": [],
   "source": [
    "# Dividir los datos en entrenamiento y prueba\n",
    "X_c = df_combined.drop(\"height\", axis=1)\n",
    "y_c = df_combined[\"height\"]"
   ]
  },
  {
   "cell_type": "code",
   "execution_count": 60,
   "metadata": {},
   "outputs": [],
   "source": [
    "x_train, x_test, y_train, y_test = train_test_split(X_c, y_c, test_size=0.2, random_state=42)  "
   ]
  },
  {
   "cell_type": "code",
   "execution_count": 61,
   "metadata": {},
   "outputs": [
    {
     "name": "stdout",
     "output_type": "stream",
     "text": [
      "Ridge Regression:\n",
      "Best parameters: {'alpha': 1.0}\n",
      "RMSE: 0.80\n",
      "\n",
      "Lasso Regression:\n",
      "Best parameters: {'alpha': 1.0}\n",
      "RMSE: 1.07\n",
      "\n",
      "Elastic Net Regression:\n",
      "Best parameters: {'alpha': 1.0, 'l1_ratio': 0.1}\n",
      "RMSE: 1.03\n"
     ]
    }
   ],
   "source": [
    "ridge_params = {'alpha': np.logspace(0, 10, 20)}\n",
    "lasso_params = {'alpha': np.logspace(0, 6, 10)}\n",
    "enet_params = {'alpha': np.logspace(0, 6, 20), 'l1_ratio': [0.1, 0.2, 0.3, 0.5, 0.7, 0.9]}\n",
    "\n",
    "\n",
    "ridge = Ridge()\n",
    "lasso = Lasso()\n",
    "enet = ElasticNet()\n",
    "\n",
    "\n",
    "ridge_grid = GridSearchCV(ridge, ridge_params, scoring='neg_mean_squared_error', cv=5)\n",
    "lasso_grid = GridSearchCV(lasso, lasso_params, scoring='neg_mean_squared_error', cv=5)\n",
    "enet_grid = GridSearchCV(enet, enet_params, scoring='neg_mean_squared_error', cv=5)\n",
    "\n",
    "ridge_grid.fit(X, y)\n",
    "lasso_grid.fit(X, y)\n",
    "enet_grid.fit(X, y)\n",
    "\n",
    "\n",
    "print(\"Ridge Regression:\")\n",
    "print(f\"Best parameters: {ridge_grid.best_params_}\")\n",
    "print(f\"RMSE: {np.sqrt(-ridge_grid.best_score_):.2f}\")\n",
    "\n",
    "print(\"\\nLasso Regression:\")\n",
    "print(f\"Best parameters: {lasso_grid.best_params_}\")\n",
    "print(f\"RMSE: {np.sqrt(-lasso_grid.best_score_):.2f}\")\n",
    "\n",
    "print(\"\\nElastic Net Regression:\")\n",
    "print(f\"Best parameters: {enet_grid.best_params_}\")\n",
    "print(f\"RMSE: {np.sqrt(-enet_grid.best_score_):.2f}\")"
   ]
  },
  {
   "cell_type": "code",
   "execution_count": 62,
   "metadata": {},
   "outputs": [],
   "source": [
    "ss = StandardScaler()\n",
    "x_train_ss = ss.fit_transform(x_train)\n",
    "x_test_ss = ss.transform(x_test)"
   ]
  },
  {
   "cell_type": "code",
   "execution_count": 63,
   "metadata": {},
   "outputs": [
    {
     "data": {
      "text/html": [
       "<style>#sk-container-id-1 {\n",
       "  /* Definition of color scheme common for light and dark mode */\n",
       "  --sklearn-color-text: black;\n",
       "  --sklearn-color-line: gray;\n",
       "  /* Definition of color scheme for unfitted estimators */\n",
       "  --sklearn-color-unfitted-level-0: #fff5e6;\n",
       "  --sklearn-color-unfitted-level-1: #f6e4d2;\n",
       "  --sklearn-color-unfitted-level-2: #ffe0b3;\n",
       "  --sklearn-color-unfitted-level-3: chocolate;\n",
       "  /* Definition of color scheme for fitted estimators */\n",
       "  --sklearn-color-fitted-level-0: #f0f8ff;\n",
       "  --sklearn-color-fitted-level-1: #d4ebff;\n",
       "  --sklearn-color-fitted-level-2: #b3dbfd;\n",
       "  --sklearn-color-fitted-level-3: cornflowerblue;\n",
       "\n",
       "  /* Specific color for light theme */\n",
       "  --sklearn-color-text-on-default-background: var(--sg-text-color, var(--theme-code-foreground, var(--jp-content-font-color1, black)));\n",
       "  --sklearn-color-background: var(--sg-background-color, var(--theme-background, var(--jp-layout-color0, white)));\n",
       "  --sklearn-color-border-box: var(--sg-text-color, var(--theme-code-foreground, var(--jp-content-font-color1, black)));\n",
       "  --sklearn-color-icon: #696969;\n",
       "\n",
       "  @media (prefers-color-scheme: dark) {\n",
       "    /* Redefinition of color scheme for dark theme */\n",
       "    --sklearn-color-text-on-default-background: var(--sg-text-color, var(--theme-code-foreground, var(--jp-content-font-color1, white)));\n",
       "    --sklearn-color-background: var(--sg-background-color, var(--theme-background, var(--jp-layout-color0, #111)));\n",
       "    --sklearn-color-border-box: var(--sg-text-color, var(--theme-code-foreground, var(--jp-content-font-color1, white)));\n",
       "    --sklearn-color-icon: #878787;\n",
       "  }\n",
       "}\n",
       "\n",
       "#sk-container-id-1 {\n",
       "  color: var(--sklearn-color-text);\n",
       "}\n",
       "\n",
       "#sk-container-id-1 pre {\n",
       "  padding: 0;\n",
       "}\n",
       "\n",
       "#sk-container-id-1 input.sk-hidden--visually {\n",
       "  border: 0;\n",
       "  clip: rect(1px 1px 1px 1px);\n",
       "  clip: rect(1px, 1px, 1px, 1px);\n",
       "  height: 1px;\n",
       "  margin: -1px;\n",
       "  overflow: hidden;\n",
       "  padding: 0;\n",
       "  position: absolute;\n",
       "  width: 1px;\n",
       "}\n",
       "\n",
       "#sk-container-id-1 div.sk-dashed-wrapped {\n",
       "  border: 1px dashed var(--sklearn-color-line);\n",
       "  margin: 0 0.4em 0.5em 0.4em;\n",
       "  box-sizing: border-box;\n",
       "  padding-bottom: 0.4em;\n",
       "  background-color: var(--sklearn-color-background);\n",
       "}\n",
       "\n",
       "#sk-container-id-1 div.sk-container {\n",
       "  /* jupyter's `normalize.less` sets `[hidden] { display: none; }`\n",
       "     but bootstrap.min.css set `[hidden] { display: none !important; }`\n",
       "     so we also need the `!important` here to be able to override the\n",
       "     default hidden behavior on the sphinx rendered scikit-learn.org.\n",
       "     See: https://github.com/scikit-learn/scikit-learn/issues/21755 */\n",
       "  display: inline-block !important;\n",
       "  position: relative;\n",
       "}\n",
       "\n",
       "#sk-container-id-1 div.sk-text-repr-fallback {\n",
       "  display: none;\n",
       "}\n",
       "\n",
       "div.sk-parallel-item,\n",
       "div.sk-serial,\n",
       "div.sk-item {\n",
       "  /* draw centered vertical line to link estimators */\n",
       "  background-image: linear-gradient(var(--sklearn-color-text-on-default-background), var(--sklearn-color-text-on-default-background));\n",
       "  background-size: 2px 100%;\n",
       "  background-repeat: no-repeat;\n",
       "  background-position: center center;\n",
       "}\n",
       "\n",
       "/* Parallel-specific style estimator block */\n",
       "\n",
       "#sk-container-id-1 div.sk-parallel-item::after {\n",
       "  content: \"\";\n",
       "  width: 100%;\n",
       "  border-bottom: 2px solid var(--sklearn-color-text-on-default-background);\n",
       "  flex-grow: 1;\n",
       "}\n",
       "\n",
       "#sk-container-id-1 div.sk-parallel {\n",
       "  display: flex;\n",
       "  align-items: stretch;\n",
       "  justify-content: center;\n",
       "  background-color: var(--sklearn-color-background);\n",
       "  position: relative;\n",
       "}\n",
       "\n",
       "#sk-container-id-1 div.sk-parallel-item {\n",
       "  display: flex;\n",
       "  flex-direction: column;\n",
       "}\n",
       "\n",
       "#sk-container-id-1 div.sk-parallel-item:first-child::after {\n",
       "  align-self: flex-end;\n",
       "  width: 50%;\n",
       "}\n",
       "\n",
       "#sk-container-id-1 div.sk-parallel-item:last-child::after {\n",
       "  align-self: flex-start;\n",
       "  width: 50%;\n",
       "}\n",
       "\n",
       "#sk-container-id-1 div.sk-parallel-item:only-child::after {\n",
       "  width: 0;\n",
       "}\n",
       "\n",
       "/* Serial-specific style estimator block */\n",
       "\n",
       "#sk-container-id-1 div.sk-serial {\n",
       "  display: flex;\n",
       "  flex-direction: column;\n",
       "  align-items: center;\n",
       "  background-color: var(--sklearn-color-background);\n",
       "  padding-right: 1em;\n",
       "  padding-left: 1em;\n",
       "}\n",
       "\n",
       "\n",
       "/* Toggleable style: style used for estimator/Pipeline/ColumnTransformer box that is\n",
       "clickable and can be expanded/collapsed.\n",
       "- Pipeline and ColumnTransformer use this feature and define the default style\n",
       "- Estimators will overwrite some part of the style using the `sk-estimator` class\n",
       "*/\n",
       "\n",
       "/* Pipeline and ColumnTransformer style (default) */\n",
       "\n",
       "#sk-container-id-1 div.sk-toggleable {\n",
       "  /* Default theme specific background. It is overwritten whether we have a\n",
       "  specific estimator or a Pipeline/ColumnTransformer */\n",
       "  background-color: var(--sklearn-color-background);\n",
       "}\n",
       "\n",
       "/* Toggleable label */\n",
       "#sk-container-id-1 label.sk-toggleable__label {\n",
       "  cursor: pointer;\n",
       "  display: block;\n",
       "  width: 100%;\n",
       "  margin-bottom: 0;\n",
       "  padding: 0.5em;\n",
       "  box-sizing: border-box;\n",
       "  text-align: center;\n",
       "}\n",
       "\n",
       "#sk-container-id-1 label.sk-toggleable__label-arrow:before {\n",
       "  /* Arrow on the left of the label */\n",
       "  content: \"▸\";\n",
       "  float: left;\n",
       "  margin-right: 0.25em;\n",
       "  color: var(--sklearn-color-icon);\n",
       "}\n",
       "\n",
       "#sk-container-id-1 label.sk-toggleable__label-arrow:hover:before {\n",
       "  color: var(--sklearn-color-text);\n",
       "}\n",
       "\n",
       "/* Toggleable content - dropdown */\n",
       "\n",
       "#sk-container-id-1 div.sk-toggleable__content {\n",
       "  max-height: 0;\n",
       "  max-width: 0;\n",
       "  overflow: hidden;\n",
       "  text-align: left;\n",
       "  /* unfitted */\n",
       "  background-color: var(--sklearn-color-unfitted-level-0);\n",
       "}\n",
       "\n",
       "#sk-container-id-1 div.sk-toggleable__content.fitted {\n",
       "  /* fitted */\n",
       "  background-color: var(--sklearn-color-fitted-level-0);\n",
       "}\n",
       "\n",
       "#sk-container-id-1 div.sk-toggleable__content pre {\n",
       "  margin: 0.2em;\n",
       "  border-radius: 0.25em;\n",
       "  color: var(--sklearn-color-text);\n",
       "  /* unfitted */\n",
       "  background-color: var(--sklearn-color-unfitted-level-0);\n",
       "}\n",
       "\n",
       "#sk-container-id-1 div.sk-toggleable__content.fitted pre {\n",
       "  /* unfitted */\n",
       "  background-color: var(--sklearn-color-fitted-level-0);\n",
       "}\n",
       "\n",
       "#sk-container-id-1 input.sk-toggleable__control:checked~div.sk-toggleable__content {\n",
       "  /* Expand drop-down */\n",
       "  max-height: 200px;\n",
       "  max-width: 100%;\n",
       "  overflow: auto;\n",
       "}\n",
       "\n",
       "#sk-container-id-1 input.sk-toggleable__control:checked~label.sk-toggleable__label-arrow:before {\n",
       "  content: \"▾\";\n",
       "}\n",
       "\n",
       "/* Pipeline/ColumnTransformer-specific style */\n",
       "\n",
       "#sk-container-id-1 div.sk-label input.sk-toggleable__control:checked~label.sk-toggleable__label {\n",
       "  color: var(--sklearn-color-text);\n",
       "  background-color: var(--sklearn-color-unfitted-level-2);\n",
       "}\n",
       "\n",
       "#sk-container-id-1 div.sk-label.fitted input.sk-toggleable__control:checked~label.sk-toggleable__label {\n",
       "  background-color: var(--sklearn-color-fitted-level-2);\n",
       "}\n",
       "\n",
       "/* Estimator-specific style */\n",
       "\n",
       "/* Colorize estimator box */\n",
       "#sk-container-id-1 div.sk-estimator input.sk-toggleable__control:checked~label.sk-toggleable__label {\n",
       "  /* unfitted */\n",
       "  background-color: var(--sklearn-color-unfitted-level-2);\n",
       "}\n",
       "\n",
       "#sk-container-id-1 div.sk-estimator.fitted input.sk-toggleable__control:checked~label.sk-toggleable__label {\n",
       "  /* fitted */\n",
       "  background-color: var(--sklearn-color-fitted-level-2);\n",
       "}\n",
       "\n",
       "#sk-container-id-1 div.sk-label label.sk-toggleable__label,\n",
       "#sk-container-id-1 div.sk-label label {\n",
       "  /* The background is the default theme color */\n",
       "  color: var(--sklearn-color-text-on-default-background);\n",
       "}\n",
       "\n",
       "/* On hover, darken the color of the background */\n",
       "#sk-container-id-1 div.sk-label:hover label.sk-toggleable__label {\n",
       "  color: var(--sklearn-color-text);\n",
       "  background-color: var(--sklearn-color-unfitted-level-2);\n",
       "}\n",
       "\n",
       "/* Label box, darken color on hover, fitted */\n",
       "#sk-container-id-1 div.sk-label.fitted:hover label.sk-toggleable__label.fitted {\n",
       "  color: var(--sklearn-color-text);\n",
       "  background-color: var(--sklearn-color-fitted-level-2);\n",
       "}\n",
       "\n",
       "/* Estimator label */\n",
       "\n",
       "#sk-container-id-1 div.sk-label label {\n",
       "  font-family: monospace;\n",
       "  font-weight: bold;\n",
       "  display: inline-block;\n",
       "  line-height: 1.2em;\n",
       "}\n",
       "\n",
       "#sk-container-id-1 div.sk-label-container {\n",
       "  text-align: center;\n",
       "}\n",
       "\n",
       "/* Estimator-specific */\n",
       "#sk-container-id-1 div.sk-estimator {\n",
       "  font-family: monospace;\n",
       "  border: 1px dotted var(--sklearn-color-border-box);\n",
       "  border-radius: 0.25em;\n",
       "  box-sizing: border-box;\n",
       "  margin-bottom: 0.5em;\n",
       "  /* unfitted */\n",
       "  background-color: var(--sklearn-color-unfitted-level-0);\n",
       "}\n",
       "\n",
       "#sk-container-id-1 div.sk-estimator.fitted {\n",
       "  /* fitted */\n",
       "  background-color: var(--sklearn-color-fitted-level-0);\n",
       "}\n",
       "\n",
       "/* on hover */\n",
       "#sk-container-id-1 div.sk-estimator:hover {\n",
       "  /* unfitted */\n",
       "  background-color: var(--sklearn-color-unfitted-level-2);\n",
       "}\n",
       "\n",
       "#sk-container-id-1 div.sk-estimator.fitted:hover {\n",
       "  /* fitted */\n",
       "  background-color: var(--sklearn-color-fitted-level-2);\n",
       "}\n",
       "\n",
       "/* Specification for estimator info (e.g. \"i\" and \"?\") */\n",
       "\n",
       "/* Common style for \"i\" and \"?\" */\n",
       "\n",
       ".sk-estimator-doc-link,\n",
       "a:link.sk-estimator-doc-link,\n",
       "a:visited.sk-estimator-doc-link {\n",
       "  float: right;\n",
       "  font-size: smaller;\n",
       "  line-height: 1em;\n",
       "  font-family: monospace;\n",
       "  background-color: var(--sklearn-color-background);\n",
       "  border-radius: 1em;\n",
       "  height: 1em;\n",
       "  width: 1em;\n",
       "  text-decoration: none !important;\n",
       "  margin-left: 1ex;\n",
       "  /* unfitted */\n",
       "  border: var(--sklearn-color-unfitted-level-1) 1pt solid;\n",
       "  color: var(--sklearn-color-unfitted-level-1);\n",
       "}\n",
       "\n",
       ".sk-estimator-doc-link.fitted,\n",
       "a:link.sk-estimator-doc-link.fitted,\n",
       "a:visited.sk-estimator-doc-link.fitted {\n",
       "  /* fitted */\n",
       "  border: var(--sklearn-color-fitted-level-1) 1pt solid;\n",
       "  color: var(--sklearn-color-fitted-level-1);\n",
       "}\n",
       "\n",
       "/* On hover */\n",
       "div.sk-estimator:hover .sk-estimator-doc-link:hover,\n",
       ".sk-estimator-doc-link:hover,\n",
       "div.sk-label-container:hover .sk-estimator-doc-link:hover,\n",
       ".sk-estimator-doc-link:hover {\n",
       "  /* unfitted */\n",
       "  background-color: var(--sklearn-color-unfitted-level-3);\n",
       "  color: var(--sklearn-color-background);\n",
       "  text-decoration: none;\n",
       "}\n",
       "\n",
       "div.sk-estimator.fitted:hover .sk-estimator-doc-link.fitted:hover,\n",
       ".sk-estimator-doc-link.fitted:hover,\n",
       "div.sk-label-container:hover .sk-estimator-doc-link.fitted:hover,\n",
       ".sk-estimator-doc-link.fitted:hover {\n",
       "  /* fitted */\n",
       "  background-color: var(--sklearn-color-fitted-level-3);\n",
       "  color: var(--sklearn-color-background);\n",
       "  text-decoration: none;\n",
       "}\n",
       "\n",
       "/* Span, style for the box shown on hovering the info icon */\n",
       ".sk-estimator-doc-link span {\n",
       "  display: none;\n",
       "  z-index: 9999;\n",
       "  position: relative;\n",
       "  font-weight: normal;\n",
       "  right: .2ex;\n",
       "  padding: .5ex;\n",
       "  margin: .5ex;\n",
       "  width: min-content;\n",
       "  min-width: 20ex;\n",
       "  max-width: 50ex;\n",
       "  color: var(--sklearn-color-text);\n",
       "  box-shadow: 2pt 2pt 4pt #999;\n",
       "  /* unfitted */\n",
       "  background: var(--sklearn-color-unfitted-level-0);\n",
       "  border: .5pt solid var(--sklearn-color-unfitted-level-3);\n",
       "}\n",
       "\n",
       ".sk-estimator-doc-link.fitted span {\n",
       "  /* fitted */\n",
       "  background: var(--sklearn-color-fitted-level-0);\n",
       "  border: var(--sklearn-color-fitted-level-3);\n",
       "}\n",
       "\n",
       ".sk-estimator-doc-link:hover span {\n",
       "  display: block;\n",
       "}\n",
       "\n",
       "/* \"?\"-specific style due to the `<a>` HTML tag */\n",
       "\n",
       "#sk-container-id-1 a.estimator_doc_link {\n",
       "  float: right;\n",
       "  font-size: 1rem;\n",
       "  line-height: 1em;\n",
       "  font-family: monospace;\n",
       "  background-color: var(--sklearn-color-background);\n",
       "  border-radius: 1rem;\n",
       "  height: 1rem;\n",
       "  width: 1rem;\n",
       "  text-decoration: none;\n",
       "  /* unfitted */\n",
       "  color: var(--sklearn-color-unfitted-level-1);\n",
       "  border: var(--sklearn-color-unfitted-level-1) 1pt solid;\n",
       "}\n",
       "\n",
       "#sk-container-id-1 a.estimator_doc_link.fitted {\n",
       "  /* fitted */\n",
       "  border: var(--sklearn-color-fitted-level-1) 1pt solid;\n",
       "  color: var(--sklearn-color-fitted-level-1);\n",
       "}\n",
       "\n",
       "/* On hover */\n",
       "#sk-container-id-1 a.estimator_doc_link:hover {\n",
       "  /* unfitted */\n",
       "  background-color: var(--sklearn-color-unfitted-level-3);\n",
       "  color: var(--sklearn-color-background);\n",
       "  text-decoration: none;\n",
       "}\n",
       "\n",
       "#sk-container-id-1 a.estimator_doc_link.fitted:hover {\n",
       "  /* fitted */\n",
       "  background-color: var(--sklearn-color-fitted-level-3);\n",
       "}\n",
       "</style><div id=\"sk-container-id-1\" class=\"sk-top-container\"><div class=\"sk-text-repr-fallback\"><pre>GridSearchCV(cv=5, estimator=Ridge(),\n",
       "             param_grid={&#x27;alpha&#x27;: [0.1, 0.5, 1, 1.5, 2, 2.5, 3]}, scoring=&#x27;r2&#x27;)</pre><b>In a Jupyter environment, please rerun this cell to show the HTML representation or trust the notebook. <br />On GitHub, the HTML representation is unable to render, please try loading this page with nbviewer.org.</b></div><div class=\"sk-container\" hidden><div class=\"sk-item sk-dashed-wrapped\"><div class=\"sk-label-container\"><div class=\"sk-label fitted sk-toggleable\"><input class=\"sk-toggleable__control sk-hidden--visually\" id=\"sk-estimator-id-1\" type=\"checkbox\" ><label for=\"sk-estimator-id-1\" class=\"sk-toggleable__label fitted sk-toggleable__label-arrow fitted\">&nbsp;&nbsp;GridSearchCV<a class=\"sk-estimator-doc-link fitted\" rel=\"noreferrer\" target=\"_blank\" href=\"https://scikit-learn.org/1.5/modules/generated/sklearn.model_selection.GridSearchCV.html\">?<span>Documentation for GridSearchCV</span></a><span class=\"sk-estimator-doc-link fitted\">i<span>Fitted</span></span></label><div class=\"sk-toggleable__content fitted\"><pre>GridSearchCV(cv=5, estimator=Ridge(),\n",
       "             param_grid={&#x27;alpha&#x27;: [0.1, 0.5, 1, 1.5, 2, 2.5, 3]}, scoring=&#x27;r2&#x27;)</pre></div> </div></div><div class=\"sk-parallel\"><div class=\"sk-parallel-item\"><div class=\"sk-item\"><div class=\"sk-label-container\"><div class=\"sk-label fitted sk-toggleable\"><input class=\"sk-toggleable__control sk-hidden--visually\" id=\"sk-estimator-id-2\" type=\"checkbox\" ><label for=\"sk-estimator-id-2\" class=\"sk-toggleable__label fitted sk-toggleable__label-arrow fitted\">best_estimator_: Ridge</label><div class=\"sk-toggleable__content fitted\"><pre>Ridge(alpha=2)</pre></div> </div></div><div class=\"sk-serial\"><div class=\"sk-item\"><div class=\"sk-estimator fitted sk-toggleable\"><input class=\"sk-toggleable__control sk-hidden--visually\" id=\"sk-estimator-id-3\" type=\"checkbox\" ><label for=\"sk-estimator-id-3\" class=\"sk-toggleable__label fitted sk-toggleable__label-arrow fitted\">&nbsp;Ridge<a class=\"sk-estimator-doc-link fitted\" rel=\"noreferrer\" target=\"_blank\" href=\"https://scikit-learn.org/1.5/modules/generated/sklearn.linear_model.Ridge.html\">?<span>Documentation for Ridge</span></a></label><div class=\"sk-toggleable__content fitted\"><pre>Ridge(alpha=2)</pre></div> </div></div></div></div></div></div></div></div></div>"
      ],
      "text/plain": [
       "GridSearchCV(cv=5, estimator=Ridge(),\n",
       "             param_grid={'alpha': [0.1, 0.5, 1, 1.5, 2, 2.5, 3]}, scoring='r2')"
      ]
     },
     "execution_count": 63,
     "metadata": {},
     "output_type": "execute_result"
    }
   ],
   "source": [
    "param_grid = {'alpha': [0.1, 0.5, 1, 1.5, 2, 2.5, 3]}\n",
    "ridge = Ridge()\n",
    "grid_search = GridSearchCV(ridge, param_grid, cv=5, scoring='r2')\n",
    "grid_search.fit(x_train_ss, y_train)"
   ]
  },
  {
   "cell_type": "code",
   "execution_count": 64,
   "metadata": {},
   "outputs": [
    {
     "name": "stdout",
     "output_type": "stream",
     "text": [
      "Mejor alpha: 2\n"
     ]
    }
   ],
   "source": [
    "modelo_combinado = grid_search.best_estimator_\n",
    "print(f\"Mejor alpha: {grid_search.best_params_['alpha']}\")"
   ]
  },
  {
   "cell_type": "code",
   "execution_count": 65,
   "metadata": {},
   "outputs": [],
   "source": [
    "predicciones = modelo_combinado.predict(x_test_ss)\n",
    "r2 = r2_score(y_test, predicciones)\n",
    "rmse = np.sqrt(np.mean((y_test - predicciones)**2))"
   ]
  },
  {
   "cell_type": "code",
   "execution_count": 66,
   "metadata": {},
   "outputs": [
    {
     "name": "stdout",
     "output_type": "stream",
     "text": [
      "R2: 0.9200544455588558, RMSE: 3.244568102058944\n"
     ]
    }
   ],
   "source": [
    "print(f\"R2: {r2}, RMSE: {rmse}\")"
   ]
  },
  {
   "cell_type": "code",
   "execution_count": 67,
   "metadata": {},
   "outputs": [
    {
     "name": "stdout",
     "output_type": "stream",
     "text": [
      "Pendientes: [0.59452294 9.82781866]\n",
      "Intercepto: 171.92401960784315\n"
     ]
    }
   ],
   "source": [
    "print(f\"Pendientes: {modelo_combinado.coef_}\")\n",
    "print(f\"Intercepto: {modelo_combinado.intercept_}\")"
   ]
  },
  {
   "cell_type": "code",
   "execution_count": 68,
   "metadata": {},
   "outputs": [
    {
     "name": "stderr",
     "output_type": "stream",
     "text": [
      "c:\\Users\\Roi_f\\anaconda3\\envs\\personal\\Lib\\site-packages\\sklearn\\base.py:493: UserWarning:\n",
      "\n",
      "X does not have valid feature names, but StandardScaler was fitted with feature names\n",
      "\n"
     ]
    }
   ],
   "source": [
    "values = ss.transform([[39,24.5]])"
   ]
  },
  {
   "cell_type": "code",
   "execution_count": 69,
   "metadata": {},
   "outputs": [
    {
     "data": {
      "text/plain": [
       "array([163.303087])"
      ]
     },
     "execution_count": 69,
     "metadata": {},
     "output_type": "execute_result"
    }
   ],
   "source": [
    "modelo_combinado.predict(values)"
   ]
  },
  {
   "cell_type": "code",
   "execution_count": 70,
   "metadata": {},
   "outputs": [
    {
     "name": "stderr",
     "output_type": "stream",
     "text": [
      "c:\\Users\\Roi_f\\anaconda3\\envs\\personal\\Lib\\site-packages\\sklearn\\base.py:493: UserWarning:\n",
      "\n",
      "X does not have valid feature names, but StandardScaler was fitted with feature names\n",
      "\n"
     ]
    },
    {
     "data": {
      "application/vnd.plotly.v1+json": {
       "config": {
        "plotlyServerURL": "https://plot.ly"
       },
       "data": [
        {
         "marker": {
          "color": "red",
          "opacity": 0.7,
          "size": 8
         },
         "mode": "markers",
         "type": "scatter3d",
         "x": [
          30,
          45,
          44,
          41,
          41,
          39,
          47,
          54,
          38,
          38,
          37,
          49,
          49,
          47,
          53,
          50,
          45,
          38,
          42,
          39,
          46,
          41,
          50,
          43,
          43,
          46,
          47,
          45,
          40,
          54,
          38,
          51,
          50,
          47,
          45,
          38,
          52,
          37,
          40,
          50,
          39,
          50,
          44,
          43,
          49,
          45,
          34,
          58,
          40,
          45,
          59,
          39,
          50,
          42,
          51,
          47,
          45,
          59,
          42,
          52,
          44,
          46,
          45,
          48,
          50,
          41,
          44,
          45,
          36,
          46,
          50,
          37,
          34,
          45,
          53,
          35,
          44,
          48,
          35,
          38,
          42,
          44,
          48,
          44,
          45,
          43,
          55,
          42,
          42,
          41,
          38,
          46,
          49,
          44,
          42,
          35,
          48,
          54,
          52,
          50,
          47,
          47,
          43
         ],
         "y": [
          21,
          29,
          27.7,
          22.5,
          22.5,
          24,
          26.5,
          29,
          23,
          23,
          23,
          28.8,
          27.5,
          28.5,
          29,
          29,
          28,
          25,
          24,
          24,
          25.5,
          27.1,
          28,
          27.5,
          27,
          24,
          28.3,
          26.5,
          24,
          30,
          23,
          29,
          29,
          28.3,
          27.5,
          23,
          29.5,
          23,
          23,
          29.1,
          24,
          28.5,
          24.5,
          27.5,
          28.9,
          28,
          22,
          30,
          24,
          28,
          30,
          24,
          28,
          24,
          29.3,
          28.3,
          27,
          30.6,
          28,
          29.6,
          25,
          26.5,
          27.5,
          28,
          29,
          26,
          26.5,
          27.5,
          27,
          25.5,
          28,
          23,
          22,
          25,
          29.7,
          25,
          27,
          28.6,
          22,
          24,
          27.3,
          24,
          28.5,
          23,
          26.5,
          27.5,
          29,
          26,
          27,
          27,
          24,
          28,
          28.9,
          26,
          24,
          26,
          28,
          30.1,
          29.4,
          29.1,
          28,
          28.4,
          27
         ],
         "z": [
          149,
          178,
          180,
          155,
          155,
          158,
          168,
          187,
          156,
          156,
          156,
          184,
          178,
          182,
          186,
          190,
          178,
          170,
          162,
          159,
          168,
          175,
          173,
          178,
          176,
          170,
          182,
          170,
          159,
          191,
          158,
          184,
          190,
          182,
          172,
          156,
          187,
          158,
          153,
          185,
          158,
          175,
          162,
          178,
          184,
          178,
          152,
          191,
          165,
          178,
          193,
          159,
          183,
          160,
          186,
          181,
          180,
          191,
          177,
          188,
          165,
          167,
          175,
          182,
          185,
          170,
          173,
          172,
          170,
          168,
          173,
          161,
          152,
          174,
          189,
          174,
          175,
          183,
          153,
          164,
          175,
          163,
          183,
          162,
          170,
          178,
          188,
          170,
          175,
          175,
          159,
          182,
          184,
          161,
          162,
          159,
          182,
          191,
          187,
          185,
          182,
          182,
          176
         ]
        },
        {
         "colorscale": [
          [
           0,
           "#440154"
          ],
          [
           0.1111111111111111,
           "#482878"
          ],
          [
           0.2222222222222222,
           "#3e4989"
          ],
          [
           0.3333333333333333,
           "#31688e"
          ],
          [
           0.4444444444444444,
           "#26828e"
          ],
          [
           0.5555555555555556,
           "#1f9e89"
          ],
          [
           0.6666666666666666,
           "#35b779"
          ],
          [
           0.7777777777777778,
           "#6ece58"
          ],
          [
           0.8888888888888888,
           "#b5de2b"
          ],
          [
           1,
           "#fde725"
          ]
         ],
         "opacity": 0.5,
         "type": "surface",
         "x": [
          [
           33,
           34.473684210526315,
           35.94736842105263,
           37.421052631578945,
           38.89473684210526,
           40.368421052631575,
           41.84210526315789,
           43.31578947368421,
           44.78947368421053,
           46.26315789473684,
           47.73684210526316,
           49.21052631578947,
           50.68421052631579,
           52.1578947368421,
           53.631578947368425,
           55.10526315789474,
           56.578947368421055,
           58.05263157894737,
           59.526315789473685,
           61
          ],
          [
           33,
           34.473684210526315,
           35.94736842105263,
           37.421052631578945,
           38.89473684210526,
           40.368421052631575,
           41.84210526315789,
           43.31578947368421,
           44.78947368421053,
           46.26315789473684,
           47.73684210526316,
           49.21052631578947,
           50.68421052631579,
           52.1578947368421,
           53.631578947368425,
           55.10526315789474,
           56.578947368421055,
           58.05263157894737,
           59.526315789473685,
           61
          ],
          [
           33,
           34.473684210526315,
           35.94736842105263,
           37.421052631578945,
           38.89473684210526,
           40.368421052631575,
           41.84210526315789,
           43.31578947368421,
           44.78947368421053,
           46.26315789473684,
           47.73684210526316,
           49.21052631578947,
           50.68421052631579,
           52.1578947368421,
           53.631578947368425,
           55.10526315789474,
           56.578947368421055,
           58.05263157894737,
           59.526315789473685,
           61
          ],
          [
           33,
           34.473684210526315,
           35.94736842105263,
           37.421052631578945,
           38.89473684210526,
           40.368421052631575,
           41.84210526315789,
           43.31578947368421,
           44.78947368421053,
           46.26315789473684,
           47.73684210526316,
           49.21052631578947,
           50.68421052631579,
           52.1578947368421,
           53.631578947368425,
           55.10526315789474,
           56.578947368421055,
           58.05263157894737,
           59.526315789473685,
           61
          ],
          [
           33,
           34.473684210526315,
           35.94736842105263,
           37.421052631578945,
           38.89473684210526,
           40.368421052631575,
           41.84210526315789,
           43.31578947368421,
           44.78947368421053,
           46.26315789473684,
           47.73684210526316,
           49.21052631578947,
           50.68421052631579,
           52.1578947368421,
           53.631578947368425,
           55.10526315789474,
           56.578947368421055,
           58.05263157894737,
           59.526315789473685,
           61
          ],
          [
           33,
           34.473684210526315,
           35.94736842105263,
           37.421052631578945,
           38.89473684210526,
           40.368421052631575,
           41.84210526315789,
           43.31578947368421,
           44.78947368421053,
           46.26315789473684,
           47.73684210526316,
           49.21052631578947,
           50.68421052631579,
           52.1578947368421,
           53.631578947368425,
           55.10526315789474,
           56.578947368421055,
           58.05263157894737,
           59.526315789473685,
           61
          ],
          [
           33,
           34.473684210526315,
           35.94736842105263,
           37.421052631578945,
           38.89473684210526,
           40.368421052631575,
           41.84210526315789,
           43.31578947368421,
           44.78947368421053,
           46.26315789473684,
           47.73684210526316,
           49.21052631578947,
           50.68421052631579,
           52.1578947368421,
           53.631578947368425,
           55.10526315789474,
           56.578947368421055,
           58.05263157894737,
           59.526315789473685,
           61
          ],
          [
           33,
           34.473684210526315,
           35.94736842105263,
           37.421052631578945,
           38.89473684210526,
           40.368421052631575,
           41.84210526315789,
           43.31578947368421,
           44.78947368421053,
           46.26315789473684,
           47.73684210526316,
           49.21052631578947,
           50.68421052631579,
           52.1578947368421,
           53.631578947368425,
           55.10526315789474,
           56.578947368421055,
           58.05263157894737,
           59.526315789473685,
           61
          ],
          [
           33,
           34.473684210526315,
           35.94736842105263,
           37.421052631578945,
           38.89473684210526,
           40.368421052631575,
           41.84210526315789,
           43.31578947368421,
           44.78947368421053,
           46.26315789473684,
           47.73684210526316,
           49.21052631578947,
           50.68421052631579,
           52.1578947368421,
           53.631578947368425,
           55.10526315789474,
           56.578947368421055,
           58.05263157894737,
           59.526315789473685,
           61
          ],
          [
           33,
           34.473684210526315,
           35.94736842105263,
           37.421052631578945,
           38.89473684210526,
           40.368421052631575,
           41.84210526315789,
           43.31578947368421,
           44.78947368421053,
           46.26315789473684,
           47.73684210526316,
           49.21052631578947,
           50.68421052631579,
           52.1578947368421,
           53.631578947368425,
           55.10526315789474,
           56.578947368421055,
           58.05263157894737,
           59.526315789473685,
           61
          ],
          [
           33,
           34.473684210526315,
           35.94736842105263,
           37.421052631578945,
           38.89473684210526,
           40.368421052631575,
           41.84210526315789,
           43.31578947368421,
           44.78947368421053,
           46.26315789473684,
           47.73684210526316,
           49.21052631578947,
           50.68421052631579,
           52.1578947368421,
           53.631578947368425,
           55.10526315789474,
           56.578947368421055,
           58.05263157894737,
           59.526315789473685,
           61
          ],
          [
           33,
           34.473684210526315,
           35.94736842105263,
           37.421052631578945,
           38.89473684210526,
           40.368421052631575,
           41.84210526315789,
           43.31578947368421,
           44.78947368421053,
           46.26315789473684,
           47.73684210526316,
           49.21052631578947,
           50.68421052631579,
           52.1578947368421,
           53.631578947368425,
           55.10526315789474,
           56.578947368421055,
           58.05263157894737,
           59.526315789473685,
           61
          ],
          [
           33,
           34.473684210526315,
           35.94736842105263,
           37.421052631578945,
           38.89473684210526,
           40.368421052631575,
           41.84210526315789,
           43.31578947368421,
           44.78947368421053,
           46.26315789473684,
           47.73684210526316,
           49.21052631578947,
           50.68421052631579,
           52.1578947368421,
           53.631578947368425,
           55.10526315789474,
           56.578947368421055,
           58.05263157894737,
           59.526315789473685,
           61
          ],
          [
           33,
           34.473684210526315,
           35.94736842105263,
           37.421052631578945,
           38.89473684210526,
           40.368421052631575,
           41.84210526315789,
           43.31578947368421,
           44.78947368421053,
           46.26315789473684,
           47.73684210526316,
           49.21052631578947,
           50.68421052631579,
           52.1578947368421,
           53.631578947368425,
           55.10526315789474,
           56.578947368421055,
           58.05263157894737,
           59.526315789473685,
           61
          ],
          [
           33,
           34.473684210526315,
           35.94736842105263,
           37.421052631578945,
           38.89473684210526,
           40.368421052631575,
           41.84210526315789,
           43.31578947368421,
           44.78947368421053,
           46.26315789473684,
           47.73684210526316,
           49.21052631578947,
           50.68421052631579,
           52.1578947368421,
           53.631578947368425,
           55.10526315789474,
           56.578947368421055,
           58.05263157894737,
           59.526315789473685,
           61
          ],
          [
           33,
           34.473684210526315,
           35.94736842105263,
           37.421052631578945,
           38.89473684210526,
           40.368421052631575,
           41.84210526315789,
           43.31578947368421,
           44.78947368421053,
           46.26315789473684,
           47.73684210526316,
           49.21052631578947,
           50.68421052631579,
           52.1578947368421,
           53.631578947368425,
           55.10526315789474,
           56.578947368421055,
           58.05263157894737,
           59.526315789473685,
           61
          ],
          [
           33,
           34.473684210526315,
           35.94736842105263,
           37.421052631578945,
           38.89473684210526,
           40.368421052631575,
           41.84210526315789,
           43.31578947368421,
           44.78947368421053,
           46.26315789473684,
           47.73684210526316,
           49.21052631578947,
           50.68421052631579,
           52.1578947368421,
           53.631578947368425,
           55.10526315789474,
           56.578947368421055,
           58.05263157894737,
           59.526315789473685,
           61
          ],
          [
           33,
           34.473684210526315,
           35.94736842105263,
           37.421052631578945,
           38.89473684210526,
           40.368421052631575,
           41.84210526315789,
           43.31578947368421,
           44.78947368421053,
           46.26315789473684,
           47.73684210526316,
           49.21052631578947,
           50.68421052631579,
           52.1578947368421,
           53.631578947368425,
           55.10526315789474,
           56.578947368421055,
           58.05263157894737,
           59.526315789473685,
           61
          ],
          [
           33,
           34.473684210526315,
           35.94736842105263,
           37.421052631578945,
           38.89473684210526,
           40.368421052631575,
           41.84210526315789,
           43.31578947368421,
           44.78947368421053,
           46.26315789473684,
           47.73684210526316,
           49.21052631578947,
           50.68421052631579,
           52.1578947368421,
           53.631578947368425,
           55.10526315789474,
           56.578947368421055,
           58.05263157894737,
           59.526315789473685,
           61
          ],
          [
           33,
           34.473684210526315,
           35.94736842105263,
           37.421052631578945,
           38.89473684210526,
           40.368421052631575,
           41.84210526315789,
           43.31578947368421,
           44.78947368421053,
           46.26315789473684,
           47.73684210526316,
           49.21052631578947,
           50.68421052631579,
           52.1578947368421,
           53.631578947368425,
           55.10526315789474,
           56.578947368421055,
           58.05263157894737,
           59.526315789473685,
           61
          ]
         ],
         "y": [
          [
           22,
           22,
           22,
           22,
           22,
           22,
           22,
           22,
           22,
           22,
           22,
           22,
           22,
           22,
           22,
           22,
           22,
           22,
           22,
           22
          ],
          [
           22.457894736842107,
           22.457894736842107,
           22.457894736842107,
           22.457894736842107,
           22.457894736842107,
           22.457894736842107,
           22.457894736842107,
           22.457894736842107,
           22.457894736842107,
           22.457894736842107,
           22.457894736842107,
           22.457894736842107,
           22.457894736842107,
           22.457894736842107,
           22.457894736842107,
           22.457894736842107,
           22.457894736842107,
           22.457894736842107,
           22.457894736842107,
           22.457894736842107
          ],
          [
           22.91578947368421,
           22.91578947368421,
           22.91578947368421,
           22.91578947368421,
           22.91578947368421,
           22.91578947368421,
           22.91578947368421,
           22.91578947368421,
           22.91578947368421,
           22.91578947368421,
           22.91578947368421,
           22.91578947368421,
           22.91578947368421,
           22.91578947368421,
           22.91578947368421,
           22.91578947368421,
           22.91578947368421,
           22.91578947368421,
           22.91578947368421,
           22.91578947368421
          ],
          [
           23.373684210526317,
           23.373684210526317,
           23.373684210526317,
           23.373684210526317,
           23.373684210526317,
           23.373684210526317,
           23.373684210526317,
           23.373684210526317,
           23.373684210526317,
           23.373684210526317,
           23.373684210526317,
           23.373684210526317,
           23.373684210526317,
           23.373684210526317,
           23.373684210526317,
           23.373684210526317,
           23.373684210526317,
           23.373684210526317,
           23.373684210526317,
           23.373684210526317
          ],
          [
           23.83157894736842,
           23.83157894736842,
           23.83157894736842,
           23.83157894736842,
           23.83157894736842,
           23.83157894736842,
           23.83157894736842,
           23.83157894736842,
           23.83157894736842,
           23.83157894736842,
           23.83157894736842,
           23.83157894736842,
           23.83157894736842,
           23.83157894736842,
           23.83157894736842,
           23.83157894736842,
           23.83157894736842,
           23.83157894736842,
           23.83157894736842,
           23.83157894736842
          ],
          [
           24.289473684210527,
           24.289473684210527,
           24.289473684210527,
           24.289473684210527,
           24.289473684210527,
           24.289473684210527,
           24.289473684210527,
           24.289473684210527,
           24.289473684210527,
           24.289473684210527,
           24.289473684210527,
           24.289473684210527,
           24.289473684210527,
           24.289473684210527,
           24.289473684210527,
           24.289473684210527,
           24.289473684210527,
           24.289473684210527,
           24.289473684210527,
           24.289473684210527
          ],
          [
           24.74736842105263,
           24.74736842105263,
           24.74736842105263,
           24.74736842105263,
           24.74736842105263,
           24.74736842105263,
           24.74736842105263,
           24.74736842105263,
           24.74736842105263,
           24.74736842105263,
           24.74736842105263,
           24.74736842105263,
           24.74736842105263,
           24.74736842105263,
           24.74736842105263,
           24.74736842105263,
           24.74736842105263,
           24.74736842105263,
           24.74736842105263,
           24.74736842105263
          ],
          [
           25.205263157894738,
           25.205263157894738,
           25.205263157894738,
           25.205263157894738,
           25.205263157894738,
           25.205263157894738,
           25.205263157894738,
           25.205263157894738,
           25.205263157894738,
           25.205263157894738,
           25.205263157894738,
           25.205263157894738,
           25.205263157894738,
           25.205263157894738,
           25.205263157894738,
           25.205263157894738,
           25.205263157894738,
           25.205263157894738,
           25.205263157894738,
           25.205263157894738
          ],
          [
           25.66315789473684,
           25.66315789473684,
           25.66315789473684,
           25.66315789473684,
           25.66315789473684,
           25.66315789473684,
           25.66315789473684,
           25.66315789473684,
           25.66315789473684,
           25.66315789473684,
           25.66315789473684,
           25.66315789473684,
           25.66315789473684,
           25.66315789473684,
           25.66315789473684,
           25.66315789473684,
           25.66315789473684,
           25.66315789473684,
           25.66315789473684,
           25.66315789473684
          ],
          [
           26.121052631578948,
           26.121052631578948,
           26.121052631578948,
           26.121052631578948,
           26.121052631578948,
           26.121052631578948,
           26.121052631578948,
           26.121052631578948,
           26.121052631578948,
           26.121052631578948,
           26.121052631578948,
           26.121052631578948,
           26.121052631578948,
           26.121052631578948,
           26.121052631578948,
           26.121052631578948,
           26.121052631578948,
           26.121052631578948,
           26.121052631578948,
           26.121052631578948
          ],
          [
           26.57894736842105,
           26.57894736842105,
           26.57894736842105,
           26.57894736842105,
           26.57894736842105,
           26.57894736842105,
           26.57894736842105,
           26.57894736842105,
           26.57894736842105,
           26.57894736842105,
           26.57894736842105,
           26.57894736842105,
           26.57894736842105,
           26.57894736842105,
           26.57894736842105,
           26.57894736842105,
           26.57894736842105,
           26.57894736842105,
           26.57894736842105,
           26.57894736842105
          ],
          [
           27.03684210526316,
           27.03684210526316,
           27.03684210526316,
           27.03684210526316,
           27.03684210526316,
           27.03684210526316,
           27.03684210526316,
           27.03684210526316,
           27.03684210526316,
           27.03684210526316,
           27.03684210526316,
           27.03684210526316,
           27.03684210526316,
           27.03684210526316,
           27.03684210526316,
           27.03684210526316,
           27.03684210526316,
           27.03684210526316,
           27.03684210526316,
           27.03684210526316
          ],
          [
           27.49473684210526,
           27.49473684210526,
           27.49473684210526,
           27.49473684210526,
           27.49473684210526,
           27.49473684210526,
           27.49473684210526,
           27.49473684210526,
           27.49473684210526,
           27.49473684210526,
           27.49473684210526,
           27.49473684210526,
           27.49473684210526,
           27.49473684210526,
           27.49473684210526,
           27.49473684210526,
           27.49473684210526,
           27.49473684210526,
           27.49473684210526,
           27.49473684210526
          ],
          [
           27.95263157894737,
           27.95263157894737,
           27.95263157894737,
           27.95263157894737,
           27.95263157894737,
           27.95263157894737,
           27.95263157894737,
           27.95263157894737,
           27.95263157894737,
           27.95263157894737,
           27.95263157894737,
           27.95263157894737,
           27.95263157894737,
           27.95263157894737,
           27.95263157894737,
           27.95263157894737,
           27.95263157894737,
           27.95263157894737,
           27.95263157894737,
           27.95263157894737
          ],
          [
           28.410526315789475,
           28.410526315789475,
           28.410526315789475,
           28.410526315789475,
           28.410526315789475,
           28.410526315789475,
           28.410526315789475,
           28.410526315789475,
           28.410526315789475,
           28.410526315789475,
           28.410526315789475,
           28.410526315789475,
           28.410526315789475,
           28.410526315789475,
           28.410526315789475,
           28.410526315789475,
           28.410526315789475,
           28.410526315789475,
           28.410526315789475,
           28.410526315789475
          ],
          [
           28.86842105263158,
           28.86842105263158,
           28.86842105263158,
           28.86842105263158,
           28.86842105263158,
           28.86842105263158,
           28.86842105263158,
           28.86842105263158,
           28.86842105263158,
           28.86842105263158,
           28.86842105263158,
           28.86842105263158,
           28.86842105263158,
           28.86842105263158,
           28.86842105263158,
           28.86842105263158,
           28.86842105263158,
           28.86842105263158,
           28.86842105263158,
           28.86842105263158
          ],
          [
           29.326315789473682,
           29.326315789473682,
           29.326315789473682,
           29.326315789473682,
           29.326315789473682,
           29.326315789473682,
           29.326315789473682,
           29.326315789473682,
           29.326315789473682,
           29.326315789473682,
           29.326315789473682,
           29.326315789473682,
           29.326315789473682,
           29.326315789473682,
           29.326315789473682,
           29.326315789473682,
           29.326315789473682,
           29.326315789473682,
           29.326315789473682,
           29.326315789473682
          ],
          [
           29.78421052631579,
           29.78421052631579,
           29.78421052631579,
           29.78421052631579,
           29.78421052631579,
           29.78421052631579,
           29.78421052631579,
           29.78421052631579,
           29.78421052631579,
           29.78421052631579,
           29.78421052631579,
           29.78421052631579,
           29.78421052631579,
           29.78421052631579,
           29.78421052631579,
           29.78421052631579,
           29.78421052631579,
           29.78421052631579,
           29.78421052631579,
           29.78421052631579
          ],
          [
           30.242105263157896,
           30.242105263157896,
           30.242105263157896,
           30.242105263157896,
           30.242105263157896,
           30.242105263157896,
           30.242105263157896,
           30.242105263157896,
           30.242105263157896,
           30.242105263157896,
           30.242105263157896,
           30.242105263157896,
           30.242105263157896,
           30.242105263157896,
           30.242105263157896,
           30.242105263157896,
           30.242105263157896,
           30.242105263157896,
           30.242105263157896,
           30.242105263157896
          ],
          [
           30.7,
           30.7,
           30.7,
           30.7,
           30.7,
           30.7,
           30.7,
           30.7,
           30.7,
           30.7,
           30.7,
           30.7,
           30.7,
           30.7,
           30.7,
           30.7,
           30.7,
           30.7,
           30.7,
           30.7
          ]
         ],
         "z": [
          [
           151.68598444903418,
           151.84818902798932,
           152.01039360694446,
           152.1725981858996,
           152.33480276485471,
           152.49700734380986,
           152.659211922765,
           152.82141650172014,
           152.98362108067528,
           153.14582565963042,
           153.30803023858556,
           153.4702348175407,
           153.63243939649584,
           153.79464397545098,
           153.95684855440612,
           154.11905313336126,
           154.28125771231637,
           154.44346229127152,
           154.60566687022666,
           154.7678714491818
          ],
          [
           153.69279022411493,
           153.85499480307007,
           154.01719938202518,
           154.17940396098032,
           154.34160853993546,
           154.5038131188906,
           154.66601769784575,
           154.8282222768009,
           154.99042685575603,
           155.15263143471117,
           155.3148360136663,
           155.47704059262145,
           155.6392451715766,
           155.8014497505317,
           155.96365432948684,
           156.12585890844198,
           156.28806348739712,
           156.45026806635227,
           156.6124726453074,
           156.77467722426255
          ],
          [
           155.69959599919565,
           155.8618005781508,
           156.02400515710593,
           156.18620973606107,
           156.3484143150162,
           156.51061889397133,
           156.67282347292647,
           156.8350280518816,
           156.99723263083675,
           157.1594372097919,
           157.32164178874703,
           157.48384636770217,
           157.6460509466573,
           157.80825552561245,
           157.97046010456756,
           158.1326646835227,
           158.29486926247785,
           158.457073841433,
           158.61927842038813,
           158.78148299934327
          ],
          [
           157.7064017742764,
           157.86860635323154,
           158.03081093218665,
           158.1930155111418,
           158.35522009009694,
           158.51742466905208,
           158.67962924800722,
           158.84183382696236,
           159.0040384059175,
           159.16624298487264,
           159.32844756382778,
           159.49065214278292,
           159.65285672173803,
           159.81506130069317,
           159.97726587964831,
           160.13947045860345,
           160.3016750375586,
           160.46387961651374,
           160.62608419546888,
           160.78828877442402
          ],
          [
           159.71320754935712,
           159.87541212831226,
           160.0376167072674,
           160.19982128622252,
           160.36202586517766,
           160.5242304441328,
           160.68643502308794,
           160.84863960204308,
           161.01084418099822,
           161.17304875995336,
           161.3352533389085,
           161.49745791786364,
           161.65966249681878,
           161.82186707577392,
           161.98407165472904,
           162.14627623368418,
           162.30848081263932,
           162.47068539159446,
           162.6328899705496,
           162.79509454950474
          ],
          [
           161.72001332443787,
           161.88221790339298,
           162.04442248234812,
           162.20662706130327,
           162.3688316402584,
           162.53103621921355,
           162.6932407981687,
           162.85544537712383,
           163.01764995607897,
           163.1798545350341,
           163.34205911398925,
           163.5042636929444,
           163.6664682718995,
           163.82867285085464,
           163.99087742980979,
           164.15308200876493,
           164.31528658772007,
           164.4774911666752,
           164.63969574563035,
           164.8019003245855
          ],
          [
           163.7268190995186,
           163.88902367847373,
           164.05122825742887,
           164.213432836384,
           164.37563741533913,
           164.53784199429427,
           164.7000465732494,
           164.86225115220455,
           165.0244557311597,
           165.18666031011483,
           165.34886488906997,
           165.5110694680251,
           165.67327404698025,
           165.83547862593537,
           165.9976832048905,
           166.15988778384565,
           166.3220923628008,
           166.48429694175593,
           166.64650152071107,
           166.8087060996662
          ],
          [
           165.73362487459934,
           165.89582945355446,
           166.0580340325096,
           166.22023861146474,
           166.38244319041988,
           166.54464776937502,
           166.70685234833016,
           166.8690569272853,
           167.03126150624044,
           167.19346608519558,
           167.35567066415072,
           167.51787524310583,
           167.68007982206097,
           167.84228440101612,
           168.00448897997126,
           168.1666935589264,
           168.32889813788154,
           168.49110271683668,
           168.65330729579182,
           168.81551187474696
          ],
          [
           167.74043064968006,
           167.9026352286352,
           168.06483980759032,
           168.22704438654546,
           168.3892489655006,
           168.55145354445574,
           168.71365812341088,
           168.87586270236602,
           169.03806728132116,
           169.2002718602763,
           169.36247643923144,
           169.52468101818658,
           169.6868855971417,
           169.84909017609684,
           170.01129475505198,
           170.17349933400712,
           170.33570391296226,
           170.4979084919174,
           170.66011307087254,
           170.82231764982768
          ],
          [
           169.74723642476079,
           169.90944100371593,
           170.07164558267107,
           170.2338501616262,
           170.39605474058135,
           170.5582593195365,
           170.72046389849163,
           170.88266847744677,
           171.0448730564019,
           171.20707763535705,
           171.36928221431216,
           171.5314867932673,
           171.69369137222245,
           171.8558959511776,
           172.01810053013273,
           172.18030510908787,
           172.342509688043,
           172.50471426699815,
           172.6669188459533,
           172.82912342490843
          ],
          [
           171.75404219984154,
           171.91624677879668,
           172.0784513577518,
           172.24065593670693,
           172.40286051566207,
           172.5650650946172,
           172.72726967357235,
           172.8894742525275,
           173.05167883148263,
           173.21388341043777,
           173.37608798939291,
           173.53829256834806,
           173.70049714730317,
           173.8627017262583,
           174.02490630521345,
           174.1871108841686,
           174.34931546312373,
           174.51152004207887,
           174.673724621034,
           174.83592919998915
          ],
          [
           173.76084797492226,
           173.9230525538774,
           174.08525713283254,
           174.24746171178768,
           174.40966629074282,
           174.57187086969796,
           174.7340754486531,
           174.89628002760824,
           175.05848460656338,
           175.2206891855185,
           175.38289376447364,
           175.54509834342878,
           175.70730292238392,
           175.86950750133906,
           176.0317120802942,
           176.19391665924934,
           176.35612123820448,
           176.51832581715962,
           176.68053039611476,
           176.84273497506987
          ],
          [
           175.767653750003,
           175.92985832895812,
           176.09206290791326,
           176.2542674868684,
           176.41647206582354,
           176.57867664477868,
           176.74088122373382,
           176.90308580268896,
           177.0652903816441,
           177.22749496059924,
           177.38969953955439,
           177.5519041185095,
           177.71410869746464,
           177.87631327641978,
           178.03851785537492,
           178.20072243433006,
           178.3629270132852,
           178.52513159224034,
           178.68733617119548,
           178.84954075015062
          ],
          [
           177.77445952508373,
           177.93666410403887,
           178.098868682994,
           178.26107326194915,
           178.4232778409043,
           178.58548241985943,
           178.74768699881457,
           178.9098915777697,
           179.07209615672485,
           179.23430073567997,
           179.3965053146351,
           179.55870989359025,
           179.7209144725454,
           179.88311905150053,
           180.04532363045567,
           180.2075282094108,
           180.36973278836595,
           180.5319373673211,
           180.6941419462762,
           180.85634652523134
          ],
          [
           179.78126530016448,
           179.94346987911962,
           180.10567445807476,
           180.2678790370299,
           180.43008361598504,
           180.59228819494018,
           180.7544927738953,
           180.91669735285043,
           181.07890193180558,
           181.24110651076072,
           181.40331108971586,
           181.565515668671,
           181.72772024762614,
           181.88992482658128,
           182.05212940553642,
           182.21433398449156,
           182.37653856344667,
           182.5387431424018,
           182.70094772135695,
           182.8631523003121
          ],
          [
           181.7880710752452,
           181.95027565420034,
           182.11248023315548,
           182.27468481211062,
           182.43688939106576,
           182.5990939700209,
           182.76129854897604,
           182.92350312793116,
           183.0857077068863,
           183.24791228584144,
           183.41011686479658,
           183.57232144375172,
           183.73452602270686,
           183.896730601662,
           184.05893518061714,
           184.22113975957228,
           184.38334433852742,
           184.54554891748256,
           184.70775349643768,
           184.86995807539282
          ],
          [
           183.79487685032592,
           183.95708142928106,
           184.1192860082362,
           184.28149058719134,
           184.44369516614648,
           184.60589974510162,
           184.76810432405676,
           184.9303089030119,
           185.09251348196705,
           185.2547180609222,
           185.4169226398773,
           185.57912721883244,
           185.74133179778758,
           185.90353637674272,
           186.06574095569786,
           186.227945534653,
           186.39015011360814,
           186.55235469256328,
           186.71455927151843,
           186.87676385047357
          ],
          [
           185.80168262540667,
           185.9638872043618,
           186.12609178331695,
           186.2882963622721,
           186.45050094122723,
           186.61270552018237,
           186.77491009913751,
           186.93711467809263,
           187.09931925704777,
           187.2615238360029,
           187.42372841495805,
           187.5859329939132,
           187.74813757286833,
           187.91034215182347,
           188.0725467307786,
           188.23475130973375,
           188.3969558886889,
           188.559160467644,
           188.72136504659915,
           188.8835696255543
          ],
          [
           187.80848840048742,
           187.97069297944256,
           188.1328975583977,
           188.29510213735284,
           188.45730671630798,
           188.6195112952631,
           188.78171587421824,
           188.94392045317338,
           189.10612503212852,
           189.26832961108366,
           189.4305341900388,
           189.59273876899394,
           189.75494334794908,
           189.91714792690422,
           190.07935250585933,
           190.24155708481447,
           190.40376166376961,
           190.56596624272476,
           190.7281708216799,
           190.89037540063504
          ],
          [
           189.81529417556814,
           189.97749875452328,
           190.13970333347842,
           190.30190791243356,
           190.4641124913887,
           190.62631707034382,
           190.78852164929896,
           190.9507262282541,
           191.11293080720924,
           191.27513538616438,
           191.43733996511952,
           191.59954454407466,
           191.7617491230298,
           191.92395370198494,
           192.08615828094008,
           192.24836285989522,
           192.41056743885036,
           192.57277201780548,
           192.73497659676062,
           192.89718117571576
          ]
         ]
        }
       ],
       "layout": {
        "scene": {
         "xaxis": {
          "title": {
           "text": "Ancho"
          }
         },
         "yaxis": {
          "title": {
           "text": "Pie"
          }
         },
         "zaxis": {
          "title": {
           "text": "Altura"
          }
         }
        },
        "template": {
         "data": {
          "bar": [
           {
            "error_x": {
             "color": "#2a3f5f"
            },
            "error_y": {
             "color": "#2a3f5f"
            },
            "marker": {
             "line": {
              "color": "#E5ECF6",
              "width": 0.5
             },
             "pattern": {
              "fillmode": "overlay",
              "size": 10,
              "solidity": 0.2
             }
            },
            "type": "bar"
           }
          ],
          "barpolar": [
           {
            "marker": {
             "line": {
              "color": "#E5ECF6",
              "width": 0.5
             },
             "pattern": {
              "fillmode": "overlay",
              "size": 10,
              "solidity": 0.2
             }
            },
            "type": "barpolar"
           }
          ],
          "carpet": [
           {
            "aaxis": {
             "endlinecolor": "#2a3f5f",
             "gridcolor": "white",
             "linecolor": "white",
             "minorgridcolor": "white",
             "startlinecolor": "#2a3f5f"
            },
            "baxis": {
             "endlinecolor": "#2a3f5f",
             "gridcolor": "white",
             "linecolor": "white",
             "minorgridcolor": "white",
             "startlinecolor": "#2a3f5f"
            },
            "type": "carpet"
           }
          ],
          "choropleth": [
           {
            "colorbar": {
             "outlinewidth": 0,
             "ticks": ""
            },
            "type": "choropleth"
           }
          ],
          "contour": [
           {
            "colorbar": {
             "outlinewidth": 0,
             "ticks": ""
            },
            "colorscale": [
             [
              0,
              "#0d0887"
             ],
             [
              0.1111111111111111,
              "#46039f"
             ],
             [
              0.2222222222222222,
              "#7201a8"
             ],
             [
              0.3333333333333333,
              "#9c179e"
             ],
             [
              0.4444444444444444,
              "#bd3786"
             ],
             [
              0.5555555555555556,
              "#d8576b"
             ],
             [
              0.6666666666666666,
              "#ed7953"
             ],
             [
              0.7777777777777778,
              "#fb9f3a"
             ],
             [
              0.8888888888888888,
              "#fdca26"
             ],
             [
              1,
              "#f0f921"
             ]
            ],
            "type": "contour"
           }
          ],
          "contourcarpet": [
           {
            "colorbar": {
             "outlinewidth": 0,
             "ticks": ""
            },
            "type": "contourcarpet"
           }
          ],
          "heatmap": [
           {
            "colorbar": {
             "outlinewidth": 0,
             "ticks": ""
            },
            "colorscale": [
             [
              0,
              "#0d0887"
             ],
             [
              0.1111111111111111,
              "#46039f"
             ],
             [
              0.2222222222222222,
              "#7201a8"
             ],
             [
              0.3333333333333333,
              "#9c179e"
             ],
             [
              0.4444444444444444,
              "#bd3786"
             ],
             [
              0.5555555555555556,
              "#d8576b"
             ],
             [
              0.6666666666666666,
              "#ed7953"
             ],
             [
              0.7777777777777778,
              "#fb9f3a"
             ],
             [
              0.8888888888888888,
              "#fdca26"
             ],
             [
              1,
              "#f0f921"
             ]
            ],
            "type": "heatmap"
           }
          ],
          "heatmapgl": [
           {
            "colorbar": {
             "outlinewidth": 0,
             "ticks": ""
            },
            "colorscale": [
             [
              0,
              "#0d0887"
             ],
             [
              0.1111111111111111,
              "#46039f"
             ],
             [
              0.2222222222222222,
              "#7201a8"
             ],
             [
              0.3333333333333333,
              "#9c179e"
             ],
             [
              0.4444444444444444,
              "#bd3786"
             ],
             [
              0.5555555555555556,
              "#d8576b"
             ],
             [
              0.6666666666666666,
              "#ed7953"
             ],
             [
              0.7777777777777778,
              "#fb9f3a"
             ],
             [
              0.8888888888888888,
              "#fdca26"
             ],
             [
              1,
              "#f0f921"
             ]
            ],
            "type": "heatmapgl"
           }
          ],
          "histogram": [
           {
            "marker": {
             "pattern": {
              "fillmode": "overlay",
              "size": 10,
              "solidity": 0.2
             }
            },
            "type": "histogram"
           }
          ],
          "histogram2d": [
           {
            "colorbar": {
             "outlinewidth": 0,
             "ticks": ""
            },
            "colorscale": [
             [
              0,
              "#0d0887"
             ],
             [
              0.1111111111111111,
              "#46039f"
             ],
             [
              0.2222222222222222,
              "#7201a8"
             ],
             [
              0.3333333333333333,
              "#9c179e"
             ],
             [
              0.4444444444444444,
              "#bd3786"
             ],
             [
              0.5555555555555556,
              "#d8576b"
             ],
             [
              0.6666666666666666,
              "#ed7953"
             ],
             [
              0.7777777777777778,
              "#fb9f3a"
             ],
             [
              0.8888888888888888,
              "#fdca26"
             ],
             [
              1,
              "#f0f921"
             ]
            ],
            "type": "histogram2d"
           }
          ],
          "histogram2dcontour": [
           {
            "colorbar": {
             "outlinewidth": 0,
             "ticks": ""
            },
            "colorscale": [
             [
              0,
              "#0d0887"
             ],
             [
              0.1111111111111111,
              "#46039f"
             ],
             [
              0.2222222222222222,
              "#7201a8"
             ],
             [
              0.3333333333333333,
              "#9c179e"
             ],
             [
              0.4444444444444444,
              "#bd3786"
             ],
             [
              0.5555555555555556,
              "#d8576b"
             ],
             [
              0.6666666666666666,
              "#ed7953"
             ],
             [
              0.7777777777777778,
              "#fb9f3a"
             ],
             [
              0.8888888888888888,
              "#fdca26"
             ],
             [
              1,
              "#f0f921"
             ]
            ],
            "type": "histogram2dcontour"
           }
          ],
          "mesh3d": [
           {
            "colorbar": {
             "outlinewidth": 0,
             "ticks": ""
            },
            "type": "mesh3d"
           }
          ],
          "parcoords": [
           {
            "line": {
             "colorbar": {
              "outlinewidth": 0,
              "ticks": ""
             }
            },
            "type": "parcoords"
           }
          ],
          "pie": [
           {
            "automargin": true,
            "type": "pie"
           }
          ],
          "scatter": [
           {
            "fillpattern": {
             "fillmode": "overlay",
             "size": 10,
             "solidity": 0.2
            },
            "type": "scatter"
           }
          ],
          "scatter3d": [
           {
            "line": {
             "colorbar": {
              "outlinewidth": 0,
              "ticks": ""
             }
            },
            "marker": {
             "colorbar": {
              "outlinewidth": 0,
              "ticks": ""
             }
            },
            "type": "scatter3d"
           }
          ],
          "scattercarpet": [
           {
            "marker": {
             "colorbar": {
              "outlinewidth": 0,
              "ticks": ""
             }
            },
            "type": "scattercarpet"
           }
          ],
          "scattergeo": [
           {
            "marker": {
             "colorbar": {
              "outlinewidth": 0,
              "ticks": ""
             }
            },
            "type": "scattergeo"
           }
          ],
          "scattergl": [
           {
            "marker": {
             "colorbar": {
              "outlinewidth": 0,
              "ticks": ""
             }
            },
            "type": "scattergl"
           }
          ],
          "scattermapbox": [
           {
            "marker": {
             "colorbar": {
              "outlinewidth": 0,
              "ticks": ""
             }
            },
            "type": "scattermapbox"
           }
          ],
          "scatterpolar": [
           {
            "marker": {
             "colorbar": {
              "outlinewidth": 0,
              "ticks": ""
             }
            },
            "type": "scatterpolar"
           }
          ],
          "scatterpolargl": [
           {
            "marker": {
             "colorbar": {
              "outlinewidth": 0,
              "ticks": ""
             }
            },
            "type": "scatterpolargl"
           }
          ],
          "scatterternary": [
           {
            "marker": {
             "colorbar": {
              "outlinewidth": 0,
              "ticks": ""
             }
            },
            "type": "scatterternary"
           }
          ],
          "surface": [
           {
            "colorbar": {
             "outlinewidth": 0,
             "ticks": ""
            },
            "colorscale": [
             [
              0,
              "#0d0887"
             ],
             [
              0.1111111111111111,
              "#46039f"
             ],
             [
              0.2222222222222222,
              "#7201a8"
             ],
             [
              0.3333333333333333,
              "#9c179e"
             ],
             [
              0.4444444444444444,
              "#bd3786"
             ],
             [
              0.5555555555555556,
              "#d8576b"
             ],
             [
              0.6666666666666666,
              "#ed7953"
             ],
             [
              0.7777777777777778,
              "#fb9f3a"
             ],
             [
              0.8888888888888888,
              "#fdca26"
             ],
             [
              1,
              "#f0f921"
             ]
            ],
            "type": "surface"
           }
          ],
          "table": [
           {
            "cells": {
             "fill": {
              "color": "#EBF0F8"
             },
             "line": {
              "color": "white"
             }
            },
            "header": {
             "fill": {
              "color": "#C8D4E3"
             },
             "line": {
              "color": "white"
             }
            },
            "type": "table"
           }
          ]
         },
         "layout": {
          "annotationdefaults": {
           "arrowcolor": "#2a3f5f",
           "arrowhead": 0,
           "arrowwidth": 1
          },
          "autotypenumbers": "strict",
          "coloraxis": {
           "colorbar": {
            "outlinewidth": 0,
            "ticks": ""
           }
          },
          "colorscale": {
           "diverging": [
            [
             0,
             "#8e0152"
            ],
            [
             0.1,
             "#c51b7d"
            ],
            [
             0.2,
             "#de77ae"
            ],
            [
             0.3,
             "#f1b6da"
            ],
            [
             0.4,
             "#fde0ef"
            ],
            [
             0.5,
             "#f7f7f7"
            ],
            [
             0.6,
             "#e6f5d0"
            ],
            [
             0.7,
             "#b8e186"
            ],
            [
             0.8,
             "#7fbc41"
            ],
            [
             0.9,
             "#4d9221"
            ],
            [
             1,
             "#276419"
            ]
           ],
           "sequential": [
            [
             0,
             "#0d0887"
            ],
            [
             0.1111111111111111,
             "#46039f"
            ],
            [
             0.2222222222222222,
             "#7201a8"
            ],
            [
             0.3333333333333333,
             "#9c179e"
            ],
            [
             0.4444444444444444,
             "#bd3786"
            ],
            [
             0.5555555555555556,
             "#d8576b"
            ],
            [
             0.6666666666666666,
             "#ed7953"
            ],
            [
             0.7777777777777778,
             "#fb9f3a"
            ],
            [
             0.8888888888888888,
             "#fdca26"
            ],
            [
             1,
             "#f0f921"
            ]
           ],
           "sequentialminus": [
            [
             0,
             "#0d0887"
            ],
            [
             0.1111111111111111,
             "#46039f"
            ],
            [
             0.2222222222222222,
             "#7201a8"
            ],
            [
             0.3333333333333333,
             "#9c179e"
            ],
            [
             0.4444444444444444,
             "#bd3786"
            ],
            [
             0.5555555555555556,
             "#d8576b"
            ],
            [
             0.6666666666666666,
             "#ed7953"
            ],
            [
             0.7777777777777778,
             "#fb9f3a"
            ],
            [
             0.8888888888888888,
             "#fdca26"
            ],
            [
             1,
             "#f0f921"
            ]
           ]
          },
          "colorway": [
           "#636efa",
           "#EF553B",
           "#00cc96",
           "#ab63fa",
           "#FFA15A",
           "#19d3f3",
           "#FF6692",
           "#B6E880",
           "#FF97FF",
           "#FECB52"
          ],
          "font": {
           "color": "#2a3f5f"
          },
          "geo": {
           "bgcolor": "white",
           "lakecolor": "white",
           "landcolor": "#E5ECF6",
           "showlakes": true,
           "showland": true,
           "subunitcolor": "white"
          },
          "hoverlabel": {
           "align": "left"
          },
          "hovermode": "closest",
          "mapbox": {
           "style": "light"
          },
          "paper_bgcolor": "white",
          "plot_bgcolor": "#E5ECF6",
          "polar": {
           "angularaxis": {
            "gridcolor": "white",
            "linecolor": "white",
            "ticks": ""
           },
           "bgcolor": "#E5ECF6",
           "radialaxis": {
            "gridcolor": "white",
            "linecolor": "white",
            "ticks": ""
           }
          },
          "scene": {
           "xaxis": {
            "backgroundcolor": "#E5ECF6",
            "gridcolor": "white",
            "gridwidth": 2,
            "linecolor": "white",
            "showbackground": true,
            "ticks": "",
            "zerolinecolor": "white"
           },
           "yaxis": {
            "backgroundcolor": "#E5ECF6",
            "gridcolor": "white",
            "gridwidth": 2,
            "linecolor": "white",
            "showbackground": true,
            "ticks": "",
            "zerolinecolor": "white"
           },
           "zaxis": {
            "backgroundcolor": "#E5ECF6",
            "gridcolor": "white",
            "gridwidth": 2,
            "linecolor": "white",
            "showbackground": true,
            "ticks": "",
            "zerolinecolor": "white"
           }
          },
          "shapedefaults": {
           "line": {
            "color": "#2a3f5f"
           }
          },
          "ternary": {
           "aaxis": {
            "gridcolor": "white",
            "linecolor": "white",
            "ticks": ""
           },
           "baxis": {
            "gridcolor": "white",
            "linecolor": "white",
            "ticks": ""
           },
           "bgcolor": "#E5ECF6",
           "caxis": {
            "gridcolor": "white",
            "linecolor": "white",
            "ticks": ""
           }
          },
          "title": {
           "x": 0.05
          },
          "xaxis": {
           "automargin": true,
           "gridcolor": "white",
           "linecolor": "white",
           "ticks": "",
           "title": {
            "standoff": 15
           },
           "zerolinecolor": "white",
           "zerolinewidth": 2
          },
          "yaxis": {
           "automargin": true,
           "gridcolor": "white",
           "linecolor": "white",
           "ticks": "",
           "title": {
            "standoff": 15
           },
           "zerolinecolor": "white",
           "zerolinewidth": 2
          }
         }
        },
        "title": {
         "text": "MODELO COMBINADO<br>R2: 0.9200544455588558 RMSE: 3.244568102058944"
        }
       }
      }
     },
     "metadata": {},
     "output_type": "display_data"
    }
   ],
   "source": [
    "# Definir rangos para las variables independientes\n",
    "x1_range = np.linspace(min(x_train['width']), max(x_train['width']), 20)\n",
    "x2_range = np.linspace(min(x_train['shoe_size']), max(x_train['shoe_size']), 20)\n",
    "x1_mesh, x2_mesh = np.meshgrid(x1_range, x2_range)\n",
    "\n",
    "# Escalar el meshgrid para predicción\n",
    "x_mesh_scaled = ss.transform(np.vstack((x1_mesh.ravel(), x2_mesh.ravel())).T)\n",
    "\n",
    "# Predecir los valores con el modelo escalado\n",
    "y_mesh_scaled = modelo_combinado.predict(x_mesh_scaled)\n",
    "\n",
    "# Crear scatterplot 3D de los puntos reales\n",
    "scatter = go.Scatter3d(\n",
    "    x=x_test['width'], y=x_test['shoe_size'], z=y_test,\n",
    "    mode='markers',\n",
    "    marker=dict(size=8, color='red', opacity=0.7)\n",
    ")\n",
    "\n",
    "# Crear el plano de regresión\n",
    "surface = go.Surface(\n",
    "    x=x1_mesh, y=x2_mesh, z=y_mesh_scaled.reshape(x1_mesh.shape),\n",
    "    colorscale='Viridis', opacity=0.5\n",
    ")\n",
    "\n",
    "# Configuración del layout\n",
    "layout = go.Layout(\n",
    "     title=f\"MODELO COMBINADO<br>R2: {r2_score(y_test, predicciones)} RMSE: {root_mean_squared_error(y_test, predicciones)}\",\n",
    "    scene=dict(\n",
    "        xaxis_title='Ancho',\n",
    "        yaxis_title='Pie',\n",
    "        zaxis_title='Altura'\n",
    "    )\n",
    ")\n",
    "\n",
    "# Crear la figura\n",
    "fig = go.Figure(data=[scatter, surface], layout=layout)\n",
    "\n",
    "# Mostrar la figura interactiva\n",
    "fig.show()"
   ]
  },
  {
   "cell_type": "markdown",
   "metadata": {},
   "source": [
    "## Segunda Sección"
   ]
  },
  {
   "cell_type": "code",
   "execution_count": 71,
   "metadata": {},
   "outputs": [
    {
     "data": {
      "text/html": [
       "<div>\n",
       "<style scoped>\n",
       "    .dataframe tbody tr th:only-of-type {\n",
       "        vertical-align: middle;\n",
       "    }\n",
       "\n",
       "    .dataframe tbody tr th {\n",
       "        vertical-align: top;\n",
       "    }\n",
       "\n",
       "    .dataframe thead th {\n",
       "        text-align: right;\n",
       "    }\n",
       "</style>\n",
       "<table border=\"1\" class=\"dataframe\">\n",
       "  <thead>\n",
       "    <tr style=\"text-align: right;\">\n",
       "      <th></th>\n",
       "      <th>height</th>\n",
       "      <th>width</th>\n",
       "      <th>shoe_size</th>\n",
       "    </tr>\n",
       "  </thead>\n",
       "  <tbody>\n",
       "    <tr>\n",
       "      <th>0</th>\n",
       "      <td>159</td>\n",
       "      <td>39</td>\n",
       "      <td>24.0</td>\n",
       "    </tr>\n",
       "    <tr>\n",
       "      <th>1</th>\n",
       "      <td>168</td>\n",
       "      <td>40</td>\n",
       "      <td>26.5</td>\n",
       "    </tr>\n",
       "    <tr>\n",
       "      <th>2</th>\n",
       "      <td>174</td>\n",
       "      <td>43</td>\n",
       "      <td>26.5</td>\n",
       "    </tr>\n",
       "    <tr>\n",
       "      <th>3</th>\n",
       "      <td>169</td>\n",
       "      <td>46</td>\n",
       "      <td>26.0</td>\n",
       "    </tr>\n",
       "    <tr>\n",
       "      <th>4</th>\n",
       "      <td>175</td>\n",
       "      <td>43</td>\n",
       "      <td>28.0</td>\n",
       "    </tr>\n",
       "    <tr>\n",
       "      <th>5</th>\n",
       "      <td>181</td>\n",
       "      <td>49</td>\n",
       "      <td>28.5</td>\n",
       "    </tr>\n",
       "    <tr>\n",
       "      <th>6</th>\n",
       "      <td>160</td>\n",
       "      <td>37</td>\n",
       "      <td>23.5</td>\n",
       "    </tr>\n",
       "    <tr>\n",
       "      <th>7</th>\n",
       "      <td>162</td>\n",
       "      <td>42</td>\n",
       "      <td>24.0</td>\n",
       "    </tr>\n",
       "    <tr>\n",
       "      <th>8</th>\n",
       "      <td>175</td>\n",
       "      <td>46</td>\n",
       "      <td>27.5</td>\n",
       "    </tr>\n",
       "    <tr>\n",
       "      <th>9</th>\n",
       "      <td>189</td>\n",
       "      <td>49</td>\n",
       "      <td>30.0</td>\n",
       "    </tr>\n",
       "  </tbody>\n",
       "</table>\n",
       "</div>"
      ],
      "text/plain": [
       "   height  width  shoe_size\n",
       "0     159     39       24.0\n",
       "1     168     40       26.5\n",
       "2     174     43       26.5\n",
       "3     169     46       26.0\n",
       "4     175     43       28.0\n",
       "5     181     49       28.5\n",
       "6     160     37       23.5\n",
       "7     162     42       24.0\n",
       "8     175     46       27.5\n",
       "9     189     49       30.0"
      ]
     },
     "execution_count": 71,
     "metadata": {},
     "output_type": "execute_result"
    }
   ],
   "source": [
    "df_prueba = pd.read_csv(\"test examen.csv\")\n",
    "df_prueba"
   ]
  },
  {
   "cell_type": "code",
   "execution_count": 72,
   "metadata": {},
   "outputs": [],
   "source": [
    "class segunda_seccion():\n",
    "        \n",
    "    def __init__(self, df, target:str, upper, lower):\n",
    "        self.target = target\n",
    "        self.df = df\n",
    "        self.lower_limit = lower\n",
    "        self.upper_limit = upper\n",
    "        \n",
    "    def sorter(self):\n",
    "    \n",
    "        df_filtrado_left = self.df[self.df[self.target] < self.lower_limit]\n",
    "        df_filtrado_center = self.df[(self.df[self.target] > self.lower_limit) & (self.df[self.target] < self.upper_limit)]\n",
    "        df_filtrado_right = self.df[self.df[self.target] > self.upper_limit]\n",
    "        \n",
    "        left = self.__iteso_left_regressor(df_filtrado_left.drop(self.target, axis=1), df_filtrado_left[self.target])\n",
    "        center = self.__iteso_center_regressor(df_filtrado_center.drop(self.target, axis=1), df_filtrado_center[self.target])\n",
    "        right = self.__iteso_right_regressor(df_filtrado_right.drop(self.target, axis=1), df_filtrado_right[self.target])\n",
    "        \n",
    "        self.__r2_score_real(left, center, right, self.df[self.target])\n",
    "        \n",
    "        print(f\"RMSE promedio: {(self.rmse_left + self.rmse_center + self.rmse_right) / 3}\")\n",
    "        # print(f\"R2 promedio: {(self.r2_left + self.r2_center + self.r2_right) / 3}\")\n",
    "\n",
    "    \n",
    "    def __iteso_left_regressor(self, X, y):\n",
    "        left_new_pred = rg_l.predict(ss_left.transform(X))\n",
    "        print(\"Datos chiquitos:\")\n",
    "        print(f\"R2: {r2_score(left_new_pred, y)}, RMSE: {root_mean_squared_error(left_new_pred, y)}\\n\")\n",
    "        self.rmse_left = root_mean_squared_error(left_new_pred, y)\n",
    "        self.r2_left = r2_score(left_new_pred, y)\n",
    "        return left_new_pred\n",
    "        \n",
    "    def __iteso_center_regressor(self, X, y):\n",
    "        center_new_pred = rg_c.predict(ss_center.transform(X))\n",
    "        print(\"Datos medios:\")\n",
    "        print(f\"R2: {r2_score(center_new_pred, y)}, RMSE: {root_mean_squared_error(center_new_pred, y)}\\n\")\n",
    "        self.rmse_center = root_mean_squared_error(center_new_pred, y)\n",
    "        self.r2_center = r2_score(center_new_pred, y)     \n",
    "        return center_new_pred   \n",
    "        \n",
    "    def __iteso_right_regressor(self, X, y):\n",
    "        X_trans = ss_right.transform(X)\n",
    "        right_new_pred = rg_r.predict(X_trans)\n",
    "        print(\"Datos altos\")\n",
    "        print(f\"R2: {r2_score(right_new_pred, y)}, RMSE: {root_mean_squared_error(right_new_pred, y)}\\n\")\n",
    "        self.rmse_right = root_mean_squared_error(right_new_pred, y)\n",
    "        self.r2_right = r2_score(right_new_pred, y)\n",
    "        return right_new_pred\n",
    "    \n",
    "    def __r2_score_real(self, pred_left, pred_center, pred_right, y):\n",
    "        all_preds = np.concatenate((pred_left, pred_center, pred_right))\n",
    "        print(f\"R2: {r2_score(y, all_preds)}\")"
   ]
  },
  {
   "cell_type": "code",
   "execution_count": 73,
   "metadata": {},
   "outputs": [
    {
     "name": "stdout",
     "output_type": "stream",
     "text": [
      "Datos chiquitos:\n",
      "R2: 0.24983624279974714, RMSE: 1.5041482454771704\n",
      "\n",
      "Datos medios:\n",
      "R2: 0.4790124064594157, RMSE: 2.035035562954267\n",
      "\n",
      "Datos altos\n",
      "R2: 0.7381274137280713, RMSE: 1.3610194262351774\n",
      "\n",
      "R2: -0.11266965822544361\n",
      "RMSE promedio: 1.6334010782222048\n"
     ]
    }
   ],
   "source": [
    "se_se = segunda_seccion(df_prueba, target=\"height\", lower=165, upper=180)\n",
    "se_se.sorter()"
   ]
  },
  {
   "cell_type": "code",
   "execution_count": null,
   "metadata": {},
   "outputs": [
    {
     "name": "stderr",
     "output_type": "stream",
     "text": [
      "c:\\Users\\Roi_f\\anaconda3\\envs\\personal\\Lib\\site-packages\\sklearn\\base.py:493: UserWarning:\n",
      "\n",
      "X does not have valid feature names, but StandardScaler was fitted with feature names\n",
      "\n"
     ]
    },
    {
     "data": {
      "application/vnd.plotly.v1+json": {
       "config": {
        "plotlyServerURL": "https://plot.ly"
       },
       "data": [
        {
         "marker": {
          "color": "red",
          "opacity": 0.7,
          "size": 8
         },
         "mode": "markers",
         "type": "scatter3d",
         "x": [
          39,
          40,
          43,
          46,
          43,
          49,
          37,
          42,
          46,
          49
         ],
         "y": [
          24,
          26.5,
          26.5,
          26,
          28,
          28.5,
          23.5,
          24,
          27.5,
          30
         ],
         "z": [
          159,
          168,
          174,
          169,
          175,
          181,
          160,
          162,
          175,
          189
         ]
        },
        {
         "colorscale": [
          [
           0,
           "#440154"
          ],
          [
           0.1111111111111111,
           "#482878"
          ],
          [
           0.2222222222222222,
           "#3e4989"
          ],
          [
           0.3333333333333333,
           "#31688e"
          ],
          [
           0.4444444444444444,
           "#26828e"
          ],
          [
           0.5555555555555556,
           "#1f9e89"
          ],
          [
           0.6666666666666666,
           "#35b779"
          ],
          [
           0.7777777777777778,
           "#6ece58"
          ],
          [
           0.8888888888888888,
           "#b5de2b"
          ],
          [
           1,
           "#fde725"
          ]
         ],
         "opacity": 0.5,
         "type": "surface",
         "x": [
          [
           37,
           37.63157894736842,
           38.26315789473684,
           38.89473684210526,
           39.526315789473685,
           40.1578947368421,
           40.78947368421053,
           41.421052631578945,
           42.05263157894737,
           42.68421052631579,
           43.31578947368421,
           43.94736842105263,
           44.578947368421055,
           45.21052631578947,
           45.84210526315789,
           46.473684210526315,
           47.10526315789474,
           47.73684210526316,
           48.368421052631575,
           49
          ],
          [
           37,
           37.63157894736842,
           38.26315789473684,
           38.89473684210526,
           39.526315789473685,
           40.1578947368421,
           40.78947368421053,
           41.421052631578945,
           42.05263157894737,
           42.68421052631579,
           43.31578947368421,
           43.94736842105263,
           44.578947368421055,
           45.21052631578947,
           45.84210526315789,
           46.473684210526315,
           47.10526315789474,
           47.73684210526316,
           48.368421052631575,
           49
          ],
          [
           37,
           37.63157894736842,
           38.26315789473684,
           38.89473684210526,
           39.526315789473685,
           40.1578947368421,
           40.78947368421053,
           41.421052631578945,
           42.05263157894737,
           42.68421052631579,
           43.31578947368421,
           43.94736842105263,
           44.578947368421055,
           45.21052631578947,
           45.84210526315789,
           46.473684210526315,
           47.10526315789474,
           47.73684210526316,
           48.368421052631575,
           49
          ],
          [
           37,
           37.63157894736842,
           38.26315789473684,
           38.89473684210526,
           39.526315789473685,
           40.1578947368421,
           40.78947368421053,
           41.421052631578945,
           42.05263157894737,
           42.68421052631579,
           43.31578947368421,
           43.94736842105263,
           44.578947368421055,
           45.21052631578947,
           45.84210526315789,
           46.473684210526315,
           47.10526315789474,
           47.73684210526316,
           48.368421052631575,
           49
          ],
          [
           37,
           37.63157894736842,
           38.26315789473684,
           38.89473684210526,
           39.526315789473685,
           40.1578947368421,
           40.78947368421053,
           41.421052631578945,
           42.05263157894737,
           42.68421052631579,
           43.31578947368421,
           43.94736842105263,
           44.578947368421055,
           45.21052631578947,
           45.84210526315789,
           46.473684210526315,
           47.10526315789474,
           47.73684210526316,
           48.368421052631575,
           49
          ],
          [
           37,
           37.63157894736842,
           38.26315789473684,
           38.89473684210526,
           39.526315789473685,
           40.1578947368421,
           40.78947368421053,
           41.421052631578945,
           42.05263157894737,
           42.68421052631579,
           43.31578947368421,
           43.94736842105263,
           44.578947368421055,
           45.21052631578947,
           45.84210526315789,
           46.473684210526315,
           47.10526315789474,
           47.73684210526316,
           48.368421052631575,
           49
          ],
          [
           37,
           37.63157894736842,
           38.26315789473684,
           38.89473684210526,
           39.526315789473685,
           40.1578947368421,
           40.78947368421053,
           41.421052631578945,
           42.05263157894737,
           42.68421052631579,
           43.31578947368421,
           43.94736842105263,
           44.578947368421055,
           45.21052631578947,
           45.84210526315789,
           46.473684210526315,
           47.10526315789474,
           47.73684210526316,
           48.368421052631575,
           49
          ],
          [
           37,
           37.63157894736842,
           38.26315789473684,
           38.89473684210526,
           39.526315789473685,
           40.1578947368421,
           40.78947368421053,
           41.421052631578945,
           42.05263157894737,
           42.68421052631579,
           43.31578947368421,
           43.94736842105263,
           44.578947368421055,
           45.21052631578947,
           45.84210526315789,
           46.473684210526315,
           47.10526315789474,
           47.73684210526316,
           48.368421052631575,
           49
          ],
          [
           37,
           37.63157894736842,
           38.26315789473684,
           38.89473684210526,
           39.526315789473685,
           40.1578947368421,
           40.78947368421053,
           41.421052631578945,
           42.05263157894737,
           42.68421052631579,
           43.31578947368421,
           43.94736842105263,
           44.578947368421055,
           45.21052631578947,
           45.84210526315789,
           46.473684210526315,
           47.10526315789474,
           47.73684210526316,
           48.368421052631575,
           49
          ],
          [
           37,
           37.63157894736842,
           38.26315789473684,
           38.89473684210526,
           39.526315789473685,
           40.1578947368421,
           40.78947368421053,
           41.421052631578945,
           42.05263157894737,
           42.68421052631579,
           43.31578947368421,
           43.94736842105263,
           44.578947368421055,
           45.21052631578947,
           45.84210526315789,
           46.473684210526315,
           47.10526315789474,
           47.73684210526316,
           48.368421052631575,
           49
          ],
          [
           37,
           37.63157894736842,
           38.26315789473684,
           38.89473684210526,
           39.526315789473685,
           40.1578947368421,
           40.78947368421053,
           41.421052631578945,
           42.05263157894737,
           42.68421052631579,
           43.31578947368421,
           43.94736842105263,
           44.578947368421055,
           45.21052631578947,
           45.84210526315789,
           46.473684210526315,
           47.10526315789474,
           47.73684210526316,
           48.368421052631575,
           49
          ],
          [
           37,
           37.63157894736842,
           38.26315789473684,
           38.89473684210526,
           39.526315789473685,
           40.1578947368421,
           40.78947368421053,
           41.421052631578945,
           42.05263157894737,
           42.68421052631579,
           43.31578947368421,
           43.94736842105263,
           44.578947368421055,
           45.21052631578947,
           45.84210526315789,
           46.473684210526315,
           47.10526315789474,
           47.73684210526316,
           48.368421052631575,
           49
          ],
          [
           37,
           37.63157894736842,
           38.26315789473684,
           38.89473684210526,
           39.526315789473685,
           40.1578947368421,
           40.78947368421053,
           41.421052631578945,
           42.05263157894737,
           42.68421052631579,
           43.31578947368421,
           43.94736842105263,
           44.578947368421055,
           45.21052631578947,
           45.84210526315789,
           46.473684210526315,
           47.10526315789474,
           47.73684210526316,
           48.368421052631575,
           49
          ],
          [
           37,
           37.63157894736842,
           38.26315789473684,
           38.89473684210526,
           39.526315789473685,
           40.1578947368421,
           40.78947368421053,
           41.421052631578945,
           42.05263157894737,
           42.68421052631579,
           43.31578947368421,
           43.94736842105263,
           44.578947368421055,
           45.21052631578947,
           45.84210526315789,
           46.473684210526315,
           47.10526315789474,
           47.73684210526316,
           48.368421052631575,
           49
          ],
          [
           37,
           37.63157894736842,
           38.26315789473684,
           38.89473684210526,
           39.526315789473685,
           40.1578947368421,
           40.78947368421053,
           41.421052631578945,
           42.05263157894737,
           42.68421052631579,
           43.31578947368421,
           43.94736842105263,
           44.578947368421055,
           45.21052631578947,
           45.84210526315789,
           46.473684210526315,
           47.10526315789474,
           47.73684210526316,
           48.368421052631575,
           49
          ],
          [
           37,
           37.63157894736842,
           38.26315789473684,
           38.89473684210526,
           39.526315789473685,
           40.1578947368421,
           40.78947368421053,
           41.421052631578945,
           42.05263157894737,
           42.68421052631579,
           43.31578947368421,
           43.94736842105263,
           44.578947368421055,
           45.21052631578947,
           45.84210526315789,
           46.473684210526315,
           47.10526315789474,
           47.73684210526316,
           48.368421052631575,
           49
          ],
          [
           37,
           37.63157894736842,
           38.26315789473684,
           38.89473684210526,
           39.526315789473685,
           40.1578947368421,
           40.78947368421053,
           41.421052631578945,
           42.05263157894737,
           42.68421052631579,
           43.31578947368421,
           43.94736842105263,
           44.578947368421055,
           45.21052631578947,
           45.84210526315789,
           46.473684210526315,
           47.10526315789474,
           47.73684210526316,
           48.368421052631575,
           49
          ],
          [
           37,
           37.63157894736842,
           38.26315789473684,
           38.89473684210526,
           39.526315789473685,
           40.1578947368421,
           40.78947368421053,
           41.421052631578945,
           42.05263157894737,
           42.68421052631579,
           43.31578947368421,
           43.94736842105263,
           44.578947368421055,
           45.21052631578947,
           45.84210526315789,
           46.473684210526315,
           47.10526315789474,
           47.73684210526316,
           48.368421052631575,
           49
          ],
          [
           37,
           37.63157894736842,
           38.26315789473684,
           38.89473684210526,
           39.526315789473685,
           40.1578947368421,
           40.78947368421053,
           41.421052631578945,
           42.05263157894737,
           42.68421052631579,
           43.31578947368421,
           43.94736842105263,
           44.578947368421055,
           45.21052631578947,
           45.84210526315789,
           46.473684210526315,
           47.10526315789474,
           47.73684210526316,
           48.368421052631575,
           49
          ],
          [
           37,
           37.63157894736842,
           38.26315789473684,
           38.89473684210526,
           39.526315789473685,
           40.1578947368421,
           40.78947368421053,
           41.421052631578945,
           42.05263157894737,
           42.68421052631579,
           43.31578947368421,
           43.94736842105263,
           44.578947368421055,
           45.21052631578947,
           45.84210526315789,
           46.473684210526315,
           47.10526315789474,
           47.73684210526316,
           48.368421052631575,
           49
          ]
         ],
         "y": [
          [
           23.5,
           23.5,
           23.5,
           23.5,
           23.5,
           23.5,
           23.5,
           23.5,
           23.5,
           23.5,
           23.5,
           23.5,
           23.5,
           23.5,
           23.5,
           23.5,
           23.5,
           23.5,
           23.5,
           23.5
          ],
          [
           23.842105263157894,
           23.842105263157894,
           23.842105263157894,
           23.842105263157894,
           23.842105263157894,
           23.842105263157894,
           23.842105263157894,
           23.842105263157894,
           23.842105263157894,
           23.842105263157894,
           23.842105263157894,
           23.842105263157894,
           23.842105263157894,
           23.842105263157894,
           23.842105263157894,
           23.842105263157894,
           23.842105263157894,
           23.842105263157894,
           23.842105263157894,
           23.842105263157894
          ],
          [
           24.18421052631579,
           24.18421052631579,
           24.18421052631579,
           24.18421052631579,
           24.18421052631579,
           24.18421052631579,
           24.18421052631579,
           24.18421052631579,
           24.18421052631579,
           24.18421052631579,
           24.18421052631579,
           24.18421052631579,
           24.18421052631579,
           24.18421052631579,
           24.18421052631579,
           24.18421052631579,
           24.18421052631579,
           24.18421052631579,
           24.18421052631579,
           24.18421052631579
          ],
          [
           24.526315789473685,
           24.526315789473685,
           24.526315789473685,
           24.526315789473685,
           24.526315789473685,
           24.526315789473685,
           24.526315789473685,
           24.526315789473685,
           24.526315789473685,
           24.526315789473685,
           24.526315789473685,
           24.526315789473685,
           24.526315789473685,
           24.526315789473685,
           24.526315789473685,
           24.526315789473685,
           24.526315789473685,
           24.526315789473685,
           24.526315789473685,
           24.526315789473685
          ],
          [
           24.86842105263158,
           24.86842105263158,
           24.86842105263158,
           24.86842105263158,
           24.86842105263158,
           24.86842105263158,
           24.86842105263158,
           24.86842105263158,
           24.86842105263158,
           24.86842105263158,
           24.86842105263158,
           24.86842105263158,
           24.86842105263158,
           24.86842105263158,
           24.86842105263158,
           24.86842105263158,
           24.86842105263158,
           24.86842105263158,
           24.86842105263158,
           24.86842105263158
          ],
          [
           25.210526315789473,
           25.210526315789473,
           25.210526315789473,
           25.210526315789473,
           25.210526315789473,
           25.210526315789473,
           25.210526315789473,
           25.210526315789473,
           25.210526315789473,
           25.210526315789473,
           25.210526315789473,
           25.210526315789473,
           25.210526315789473,
           25.210526315789473,
           25.210526315789473,
           25.210526315789473,
           25.210526315789473,
           25.210526315789473,
           25.210526315789473,
           25.210526315789473
          ],
          [
           25.55263157894737,
           25.55263157894737,
           25.55263157894737,
           25.55263157894737,
           25.55263157894737,
           25.55263157894737,
           25.55263157894737,
           25.55263157894737,
           25.55263157894737,
           25.55263157894737,
           25.55263157894737,
           25.55263157894737,
           25.55263157894737,
           25.55263157894737,
           25.55263157894737,
           25.55263157894737,
           25.55263157894737,
           25.55263157894737,
           25.55263157894737,
           25.55263157894737
          ],
          [
           25.894736842105264,
           25.894736842105264,
           25.894736842105264,
           25.894736842105264,
           25.894736842105264,
           25.894736842105264,
           25.894736842105264,
           25.894736842105264,
           25.894736842105264,
           25.894736842105264,
           25.894736842105264,
           25.894736842105264,
           25.894736842105264,
           25.894736842105264,
           25.894736842105264,
           25.894736842105264,
           25.894736842105264,
           25.894736842105264,
           25.894736842105264,
           25.894736842105264
          ],
          [
           26.236842105263158,
           26.236842105263158,
           26.236842105263158,
           26.236842105263158,
           26.236842105263158,
           26.236842105263158,
           26.236842105263158,
           26.236842105263158,
           26.236842105263158,
           26.236842105263158,
           26.236842105263158,
           26.236842105263158,
           26.236842105263158,
           26.236842105263158,
           26.236842105263158,
           26.236842105263158,
           26.236842105263158,
           26.236842105263158,
           26.236842105263158,
           26.236842105263158
          ],
          [
           26.57894736842105,
           26.57894736842105,
           26.57894736842105,
           26.57894736842105,
           26.57894736842105,
           26.57894736842105,
           26.57894736842105,
           26.57894736842105,
           26.57894736842105,
           26.57894736842105,
           26.57894736842105,
           26.57894736842105,
           26.57894736842105,
           26.57894736842105,
           26.57894736842105,
           26.57894736842105,
           26.57894736842105,
           26.57894736842105,
           26.57894736842105,
           26.57894736842105
          ],
          [
           26.92105263157895,
           26.92105263157895,
           26.92105263157895,
           26.92105263157895,
           26.92105263157895,
           26.92105263157895,
           26.92105263157895,
           26.92105263157895,
           26.92105263157895,
           26.92105263157895,
           26.92105263157895,
           26.92105263157895,
           26.92105263157895,
           26.92105263157895,
           26.92105263157895,
           26.92105263157895,
           26.92105263157895,
           26.92105263157895,
           26.92105263157895,
           26.92105263157895
          ],
          [
           27.263157894736842,
           27.263157894736842,
           27.263157894736842,
           27.263157894736842,
           27.263157894736842,
           27.263157894736842,
           27.263157894736842,
           27.263157894736842,
           27.263157894736842,
           27.263157894736842,
           27.263157894736842,
           27.263157894736842,
           27.263157894736842,
           27.263157894736842,
           27.263157894736842,
           27.263157894736842,
           27.263157894736842,
           27.263157894736842,
           27.263157894736842,
           27.263157894736842
          ],
          [
           27.605263157894736,
           27.605263157894736,
           27.605263157894736,
           27.605263157894736,
           27.605263157894736,
           27.605263157894736,
           27.605263157894736,
           27.605263157894736,
           27.605263157894736,
           27.605263157894736,
           27.605263157894736,
           27.605263157894736,
           27.605263157894736,
           27.605263157894736,
           27.605263157894736,
           27.605263157894736,
           27.605263157894736,
           27.605263157894736,
           27.605263157894736,
           27.605263157894736
          ],
          [
           27.94736842105263,
           27.94736842105263,
           27.94736842105263,
           27.94736842105263,
           27.94736842105263,
           27.94736842105263,
           27.94736842105263,
           27.94736842105263,
           27.94736842105263,
           27.94736842105263,
           27.94736842105263,
           27.94736842105263,
           27.94736842105263,
           27.94736842105263,
           27.94736842105263,
           27.94736842105263,
           27.94736842105263,
           27.94736842105263,
           27.94736842105263,
           27.94736842105263
          ],
          [
           28.289473684210527,
           28.289473684210527,
           28.289473684210527,
           28.289473684210527,
           28.289473684210527,
           28.289473684210527,
           28.289473684210527,
           28.289473684210527,
           28.289473684210527,
           28.289473684210527,
           28.289473684210527,
           28.289473684210527,
           28.289473684210527,
           28.289473684210527,
           28.289473684210527,
           28.289473684210527,
           28.289473684210527,
           28.289473684210527,
           28.289473684210527,
           28.289473684210527
          ],
          [
           28.63157894736842,
           28.63157894736842,
           28.63157894736842,
           28.63157894736842,
           28.63157894736842,
           28.63157894736842,
           28.63157894736842,
           28.63157894736842,
           28.63157894736842,
           28.63157894736842,
           28.63157894736842,
           28.63157894736842,
           28.63157894736842,
           28.63157894736842,
           28.63157894736842,
           28.63157894736842,
           28.63157894736842,
           28.63157894736842,
           28.63157894736842,
           28.63157894736842
          ],
          [
           28.973684210526315,
           28.973684210526315,
           28.973684210526315,
           28.973684210526315,
           28.973684210526315,
           28.973684210526315,
           28.973684210526315,
           28.973684210526315,
           28.973684210526315,
           28.973684210526315,
           28.973684210526315,
           28.973684210526315,
           28.973684210526315,
           28.973684210526315,
           28.973684210526315,
           28.973684210526315,
           28.973684210526315,
           28.973684210526315,
           28.973684210526315,
           28.973684210526315
          ],
          [
           29.315789473684212,
           29.315789473684212,
           29.315789473684212,
           29.315789473684212,
           29.315789473684212,
           29.315789473684212,
           29.315789473684212,
           29.315789473684212,
           29.315789473684212,
           29.315789473684212,
           29.315789473684212,
           29.315789473684212,
           29.315789473684212,
           29.315789473684212,
           29.315789473684212,
           29.315789473684212,
           29.315789473684212,
           29.315789473684212,
           29.315789473684212,
           29.315789473684212
          ],
          [
           29.657894736842106,
           29.657894736842106,
           29.657894736842106,
           29.657894736842106,
           29.657894736842106,
           29.657894736842106,
           29.657894736842106,
           29.657894736842106,
           29.657894736842106,
           29.657894736842106,
           29.657894736842106,
           29.657894736842106,
           29.657894736842106,
           29.657894736842106,
           29.657894736842106,
           29.657894736842106,
           29.657894736842106,
           29.657894736842106,
           29.657894736842106,
           29.657894736842106
          ],
          [
           30,
           30,
           30,
           30,
           30,
           30,
           30,
           30,
           30,
           30,
           30,
           30,
           30,
           30,
           30,
           30,
           30,
           30,
           30,
           30
          ]
         ],
         "z": [
          [
           158.77129837299242,
           158.80187017302023,
           158.83244197304805,
           158.8630137730759,
           158.8935855731037,
           158.92415737313155,
           158.95472917315936,
           158.9853009731872,
           159.01587277321502,
           159.04644457324287,
           159.07701637327068,
           159.1075881732985,
           159.13815997332634,
           159.16873177335415,
           159.199303573382,
           159.2298753734098,
           159.26044717343765,
           159.29101897346547,
           159.3215907734933,
           159.35216257352113
          ],
          [
           160.27521107439853,
           160.30578287442634,
           160.33635467445418,
           160.366926474482,
           160.39749827450981,
           160.42807007453766,
           160.45864187456547,
           160.48921367459332,
           160.51978547462113,
           160.55035727464897,
           160.5809290746768,
           160.61150087470463,
           160.64207267473245,
           160.67264447476026,
           160.7032162747881,
           160.73378807481592,
           160.76435987484376,
           160.79493167487158,
           160.82550347489942,
           160.85607527492724
          ],
          [
           161.77912377580463,
           161.80969557583248,
           161.8402673758603,
           161.87083917588814,
           161.90141097591595,
           161.93198277594377,
           161.9625545759716,
           161.99312637599942,
           162.02369817602727,
           162.05426997605508,
           162.08484177608292,
           162.11541357611074,
           162.14598537613858,
           162.1765571761664,
           162.2071289761942,
           162.23770077622206,
           162.26827257624987,
           162.2988443762777,
           162.32941617630553,
           162.35998797633337
          ],
          [
           163.28303647721074,
           163.3136082772386,
           163.3441800772664,
           163.37475187729424,
           163.40532367732206,
           163.4358954773499,
           163.46646727737772,
           163.49703907740553,
           163.52761087743337,
           163.5581826774612,
           163.58875447748903,
           163.61932627751685,
           163.6498980775447,
           163.6804698775725,
           163.71104167760032,
           163.74161347762816,
           163.77218527765598,
           163.80275707768382,
           163.83332887771164,
           163.86390067773948
          ],
          [
           164.78694917861685,
           164.8175209786447,
           164.8480927786725,
           164.87866457870035,
           164.90923637872817,
           164.93980817875598,
           164.97037997878382,
           165.00095177881164,
           165.03152357883948,
           165.0620953788673,
           165.09266717889514,
           165.12323897892296,
           165.1538107789508,
           165.1843825789786,
           165.21495437900643,
           165.24552617903427,
           165.2760979790621,
           165.30666977908993,
           165.33724157911774,
           165.3678133791456
          ],
          [
           166.29086188002296,
           166.3214336800508,
           166.35200548007862,
           166.38257728010646,
           166.41314908013427,
           166.44372088016212,
           166.47429268018993,
           166.50486448021775,
           166.5354362802456,
           166.5660080802734,
           166.59657988030125,
           166.62715168032906,
           166.6577234803569,
           166.68829528038472,
           166.71886708041254,
           166.74943888044038,
           166.7800106804682,
           166.81058248049604,
           166.84115428052385,
           166.8717260805517
          ],
          [
           167.7947745814291,
           167.8253463814569,
           167.85591818148475,
           167.88648998151257,
           167.9170617815404,
           167.94763358156823,
           167.97820538159607,
           168.00877718162388,
           168.0393489816517,
           168.06992078167954,
           168.10049258170736,
           168.1310643817352,
           168.16163618176301,
           168.19220798179086,
           168.22277978181867,
           168.2533515818465,
           168.28392338187433,
           168.31449518190215,
           168.34506698193,
           168.3756387819578
          ],
          [
           169.2986872828352,
           169.32925908286302,
           169.35983088289086,
           169.39040268291868,
           169.42097448294652,
           169.45154628297433,
           169.48211808300218,
           169.51268988303,
           169.5432616830578,
           169.57383348308565,
           169.60440528311346,
           169.6349770831413,
           169.66554888316912,
           169.69612068319697,
           169.72669248322478,
           169.75726428325262,
           169.78783608328044,
           169.81840788330825,
           169.8489796833361,
           169.8795514833639
          ],
          [
           170.8025999842413,
           170.83317178426913,
           170.86374358429697,
           170.89431538432478,
           170.92488718435263,
           170.95545898438044,
           170.98603078440829,
           171.0166025844361,
           171.04717438446391,
           171.07774618449176,
           171.10831798451957,
           171.13888978454742,
           171.16946158457523,
           171.20003338460307,
           171.2306051846309,
           171.26117698465873,
           171.29174878468655,
           171.32232058471436,
           171.3528923847422,
           171.38346418477002
          ],
          [
           172.30651268564742,
           172.33708448567523,
           172.36765628570308,
           172.3982280857309,
           172.42879988575874,
           172.45937168578655,
           172.4899434858144,
           172.5205152858422,
           172.55108708587005,
           172.58165888589787,
           172.61223068592568,
           172.64280248595352,
           172.67337428598134,
           172.70394608600918,
           172.734517886037,
           172.76508968606484,
           172.79566148609265,
           172.82623328612047,
           172.8568050861483,
           172.88737688617613
          ],
          [
           173.81042538705356,
           173.84099718708137,
           173.87156898710919,
           173.90214078713703,
           173.93271258716484,
           173.9632843871927,
           173.9938561872205,
           174.02442798724834,
           174.05499978727616,
           174.085571587304,
           174.11614338733182,
           174.14671518735963,
           174.17728698738748,
           174.2078587874153,
           174.23843058744313,
           174.26900238747095,
           174.2995741874988,
           174.3301459875266,
           174.36071778755442,
           174.39128958758226
          ],
          [
           175.31433808845966,
           175.34490988848748,
           175.3754816885153,
           175.40605348854314,
           175.43662528857095,
           175.4671970885988,
           175.4977688886266,
           175.52834068865445,
           175.55891248868227,
           175.5894842887101,
           175.62005608873793,
           175.65062788876574,
           175.68119968879358,
           175.7117714888214,
           175.74234328884924,
           175.77291508887706,
           175.8034868889049,
           175.8340586889327,
           175.86463048896053,
           175.89520228898837
          ],
          [
           176.81825078986577,
           176.8488225898936,
           176.8793943899214,
           176.90996618994924,
           176.94053798997706,
           176.9711097900049,
           177.00168159003272,
           177.03225339006056,
           177.06282519008838,
           177.09339699011622,
           177.12396879014403,
           177.15454059017185,
           177.1851123901997,
           177.2156841902275,
           177.24625599025535,
           177.27682779028316,
           177.307399590311,
           177.33797139033882,
           177.36854319036664,
           177.39911499039448
          ],
          [
           178.32216349127188,
           178.3527352912997,
           178.38330709132754,
           178.41387889135535,
           178.44445069138317,
           178.475022491411,
           178.50559429143883,
           178.53616609146667,
           178.56673789149448,
           178.59730969152233,
           178.62788149155014,
           178.65845329157796,
           178.6890250916058,
           178.7195968916336,
           178.75016869166146,
           178.78074049168927,
           178.81131229171712,
           178.84188409174493,
           178.87245589177277,
           178.9030276918006
          ],
          [
           179.826076192678,
           179.85664799270583,
           179.88721979273365,
           179.9177915927615,
           179.9483633927893,
           179.97893519281712,
           180.00950699284496,
           180.04007879287278,
           180.07065059290062,
           180.10122239292843,
           180.13179419295628,
           180.1623659929841,
           180.19293779301194,
           180.22350959303975,
           180.25408139306757,
           180.2846531930954,
           180.31522499312322,
           180.34579679315107,
           180.37636859317888,
           180.40694039320672
          ],
          [
           181.3299888940841,
           181.36056069411194,
           181.39113249413975,
           181.4217042941676,
           181.4522760941954,
           181.48284789422323,
           181.51341969425107,
           181.54399149427888,
           181.57456329430673,
           181.60513509433454,
           181.6357068943624,
           181.6662786943902,
           181.69685049441802,
           181.72742229444586,
           181.75799409447367,
           181.78856589450152,
           181.81913769452933,
           181.84970949455717,
           181.880281294585,
           181.91085309461283
          ],
          [
           182.8339015954902,
           182.86447339551805,
           182.89504519554586,
           182.9256169955737,
           182.95618879560152,
           182.98676059562933,
           183.01733239565718,
           183.047904195685,
           183.07847599571284,
           183.10904779574065,
           183.1396195957685,
           183.1701913957963,
           183.20076319582415,
           183.23133499585197,
           183.26190679587978,
           183.29247859590762,
           183.32305039593544,
           183.35362219596328,
           183.3841939959911,
           183.41476579601894
          ],
          [
           184.33781429689634,
           184.36838609692416,
           184.398957896952,
           184.4295296969798,
           184.46010149700766,
           184.49067329703547,
           184.5212450970633,
           184.55181689709113,
           184.58238869711894,
           184.6129604971468,
           184.6435322971746,
           184.67410409720245,
           184.70467589723026,
           184.7352476972581,
           184.76581949728592,
           184.79639129731373,
           184.82696309734158,
           184.8575348973694,
           184.88810669739723,
           184.91867849742505
          ],
          [
           185.84172699830245,
           185.87229879833026,
           185.9028705983581,
           185.93344239838592,
           185.96401419841376,
           185.99458599844158,
           186.02515779846942,
           186.05572959849724,
           186.08630139852505,
           186.1168731985529,
           186.1474449985807,
           186.17801679860855,
           186.20858859863637,
           186.2391603986642,
           186.26973219869203,
           186.30030399871984,
           186.33087579874768,
           186.3614475987755,
           186.39201939880334,
           186.42259119883116
          ],
          [
           187.34563969970856,
           187.37621149973637,
           187.40678329976421,
           187.43735509979203,
           187.46792689981987,
           187.4984986998477,
           187.5290704998755,
           187.55964229990335,
           187.59021409993116,
           187.620785899959,
           187.65135769998682,
           187.68192950001466,
           187.71250130004248,
           187.74307310007032,
           187.77364490009813,
           187.80421670012595,
           187.8347885001538,
           187.8653603001816,
           187.89593210020945,
           187.92650390023726
          ]
         ]
        }
       ],
       "layout": {
        "scene": {
         "xaxis": {
          "title": {
           "text": "Ancho"
          }
         },
         "yaxis": {
          "title": {
           "text": "Pie"
          }
         },
         "zaxis": {
          "title": {
           "text": "Altura"
          }
         }
        },
        "template": {
         "data": {
          "bar": [
           {
            "error_x": {
             "color": "#2a3f5f"
            },
            "error_y": {
             "color": "#2a3f5f"
            },
            "marker": {
             "line": {
              "color": "#E5ECF6",
              "width": 0.5
             },
             "pattern": {
              "fillmode": "overlay",
              "size": 10,
              "solidity": 0.2
             }
            },
            "type": "bar"
           }
          ],
          "barpolar": [
           {
            "marker": {
             "line": {
              "color": "#E5ECF6",
              "width": 0.5
             },
             "pattern": {
              "fillmode": "overlay",
              "size": 10,
              "solidity": 0.2
             }
            },
            "type": "barpolar"
           }
          ],
          "carpet": [
           {
            "aaxis": {
             "endlinecolor": "#2a3f5f",
             "gridcolor": "white",
             "linecolor": "white",
             "minorgridcolor": "white",
             "startlinecolor": "#2a3f5f"
            },
            "baxis": {
             "endlinecolor": "#2a3f5f",
             "gridcolor": "white",
             "linecolor": "white",
             "minorgridcolor": "white",
             "startlinecolor": "#2a3f5f"
            },
            "type": "carpet"
           }
          ],
          "choropleth": [
           {
            "colorbar": {
             "outlinewidth": 0,
             "ticks": ""
            },
            "type": "choropleth"
           }
          ],
          "contour": [
           {
            "colorbar": {
             "outlinewidth": 0,
             "ticks": ""
            },
            "colorscale": [
             [
              0,
              "#0d0887"
             ],
             [
              0.1111111111111111,
              "#46039f"
             ],
             [
              0.2222222222222222,
              "#7201a8"
             ],
             [
              0.3333333333333333,
              "#9c179e"
             ],
             [
              0.4444444444444444,
              "#bd3786"
             ],
             [
              0.5555555555555556,
              "#d8576b"
             ],
             [
              0.6666666666666666,
              "#ed7953"
             ],
             [
              0.7777777777777778,
              "#fb9f3a"
             ],
             [
              0.8888888888888888,
              "#fdca26"
             ],
             [
              1,
              "#f0f921"
             ]
            ],
            "type": "contour"
           }
          ],
          "contourcarpet": [
           {
            "colorbar": {
             "outlinewidth": 0,
             "ticks": ""
            },
            "type": "contourcarpet"
           }
          ],
          "heatmap": [
           {
            "colorbar": {
             "outlinewidth": 0,
             "ticks": ""
            },
            "colorscale": [
             [
              0,
              "#0d0887"
             ],
             [
              0.1111111111111111,
              "#46039f"
             ],
             [
              0.2222222222222222,
              "#7201a8"
             ],
             [
              0.3333333333333333,
              "#9c179e"
             ],
             [
              0.4444444444444444,
              "#bd3786"
             ],
             [
              0.5555555555555556,
              "#d8576b"
             ],
             [
              0.6666666666666666,
              "#ed7953"
             ],
             [
              0.7777777777777778,
              "#fb9f3a"
             ],
             [
              0.8888888888888888,
              "#fdca26"
             ],
             [
              1,
              "#f0f921"
             ]
            ],
            "type": "heatmap"
           }
          ],
          "heatmapgl": [
           {
            "colorbar": {
             "outlinewidth": 0,
             "ticks": ""
            },
            "colorscale": [
             [
              0,
              "#0d0887"
             ],
             [
              0.1111111111111111,
              "#46039f"
             ],
             [
              0.2222222222222222,
              "#7201a8"
             ],
             [
              0.3333333333333333,
              "#9c179e"
             ],
             [
              0.4444444444444444,
              "#bd3786"
             ],
             [
              0.5555555555555556,
              "#d8576b"
             ],
             [
              0.6666666666666666,
              "#ed7953"
             ],
             [
              0.7777777777777778,
              "#fb9f3a"
             ],
             [
              0.8888888888888888,
              "#fdca26"
             ],
             [
              1,
              "#f0f921"
             ]
            ],
            "type": "heatmapgl"
           }
          ],
          "histogram": [
           {
            "marker": {
             "pattern": {
              "fillmode": "overlay",
              "size": 10,
              "solidity": 0.2
             }
            },
            "type": "histogram"
           }
          ],
          "histogram2d": [
           {
            "colorbar": {
             "outlinewidth": 0,
             "ticks": ""
            },
            "colorscale": [
             [
              0,
              "#0d0887"
             ],
             [
              0.1111111111111111,
              "#46039f"
             ],
             [
              0.2222222222222222,
              "#7201a8"
             ],
             [
              0.3333333333333333,
              "#9c179e"
             ],
             [
              0.4444444444444444,
              "#bd3786"
             ],
             [
              0.5555555555555556,
              "#d8576b"
             ],
             [
              0.6666666666666666,
              "#ed7953"
             ],
             [
              0.7777777777777778,
              "#fb9f3a"
             ],
             [
              0.8888888888888888,
              "#fdca26"
             ],
             [
              1,
              "#f0f921"
             ]
            ],
            "type": "histogram2d"
           }
          ],
          "histogram2dcontour": [
           {
            "colorbar": {
             "outlinewidth": 0,
             "ticks": ""
            },
            "colorscale": [
             [
              0,
              "#0d0887"
             ],
             [
              0.1111111111111111,
              "#46039f"
             ],
             [
              0.2222222222222222,
              "#7201a8"
             ],
             [
              0.3333333333333333,
              "#9c179e"
             ],
             [
              0.4444444444444444,
              "#bd3786"
             ],
             [
              0.5555555555555556,
              "#d8576b"
             ],
             [
              0.6666666666666666,
              "#ed7953"
             ],
             [
              0.7777777777777778,
              "#fb9f3a"
             ],
             [
              0.8888888888888888,
              "#fdca26"
             ],
             [
              1,
              "#f0f921"
             ]
            ],
            "type": "histogram2dcontour"
           }
          ],
          "mesh3d": [
           {
            "colorbar": {
             "outlinewidth": 0,
             "ticks": ""
            },
            "type": "mesh3d"
           }
          ],
          "parcoords": [
           {
            "line": {
             "colorbar": {
              "outlinewidth": 0,
              "ticks": ""
             }
            },
            "type": "parcoords"
           }
          ],
          "pie": [
           {
            "automargin": true,
            "type": "pie"
           }
          ],
          "scatter": [
           {
            "fillpattern": {
             "fillmode": "overlay",
             "size": 10,
             "solidity": 0.2
            },
            "type": "scatter"
           }
          ],
          "scatter3d": [
           {
            "line": {
             "colorbar": {
              "outlinewidth": 0,
              "ticks": ""
             }
            },
            "marker": {
             "colorbar": {
              "outlinewidth": 0,
              "ticks": ""
             }
            },
            "type": "scatter3d"
           }
          ],
          "scattercarpet": [
           {
            "marker": {
             "colorbar": {
              "outlinewidth": 0,
              "ticks": ""
             }
            },
            "type": "scattercarpet"
           }
          ],
          "scattergeo": [
           {
            "marker": {
             "colorbar": {
              "outlinewidth": 0,
              "ticks": ""
             }
            },
            "type": "scattergeo"
           }
          ],
          "scattergl": [
           {
            "marker": {
             "colorbar": {
              "outlinewidth": 0,
              "ticks": ""
             }
            },
            "type": "scattergl"
           }
          ],
          "scattermapbox": [
           {
            "marker": {
             "colorbar": {
              "outlinewidth": 0,
              "ticks": ""
             }
            },
            "type": "scattermapbox"
           }
          ],
          "scatterpolar": [
           {
            "marker": {
             "colorbar": {
              "outlinewidth": 0,
              "ticks": ""
             }
            },
            "type": "scatterpolar"
           }
          ],
          "scatterpolargl": [
           {
            "marker": {
             "colorbar": {
              "outlinewidth": 0,
              "ticks": ""
             }
            },
            "type": "scatterpolargl"
           }
          ],
          "scatterternary": [
           {
            "marker": {
             "colorbar": {
              "outlinewidth": 0,
              "ticks": ""
             }
            },
            "type": "scatterternary"
           }
          ],
          "surface": [
           {
            "colorbar": {
             "outlinewidth": 0,
             "ticks": ""
            },
            "colorscale": [
             [
              0,
              "#0d0887"
             ],
             [
              0.1111111111111111,
              "#46039f"
             ],
             [
              0.2222222222222222,
              "#7201a8"
             ],
             [
              0.3333333333333333,
              "#9c179e"
             ],
             [
              0.4444444444444444,
              "#bd3786"
             ],
             [
              0.5555555555555556,
              "#d8576b"
             ],
             [
              0.6666666666666666,
              "#ed7953"
             ],
             [
              0.7777777777777778,
              "#fb9f3a"
             ],
             [
              0.8888888888888888,
              "#fdca26"
             ],
             [
              1,
              "#f0f921"
             ]
            ],
            "type": "surface"
           }
          ],
          "table": [
           {
            "cells": {
             "fill": {
              "color": "#EBF0F8"
             },
             "line": {
              "color": "white"
             }
            },
            "header": {
             "fill": {
              "color": "#C8D4E3"
             },
             "line": {
              "color": "white"
             }
            },
            "type": "table"
           }
          ]
         },
         "layout": {
          "annotationdefaults": {
           "arrowcolor": "#2a3f5f",
           "arrowhead": 0,
           "arrowwidth": 1
          },
          "autotypenumbers": "strict",
          "coloraxis": {
           "colorbar": {
            "outlinewidth": 0,
            "ticks": ""
           }
          },
          "colorscale": {
           "diverging": [
            [
             0,
             "#8e0152"
            ],
            [
             0.1,
             "#c51b7d"
            ],
            [
             0.2,
             "#de77ae"
            ],
            [
             0.3,
             "#f1b6da"
            ],
            [
             0.4,
             "#fde0ef"
            ],
            [
             0.5,
             "#f7f7f7"
            ],
            [
             0.6,
             "#e6f5d0"
            ],
            [
             0.7,
             "#b8e186"
            ],
            [
             0.8,
             "#7fbc41"
            ],
            [
             0.9,
             "#4d9221"
            ],
            [
             1,
             "#276419"
            ]
           ],
           "sequential": [
            [
             0,
             "#0d0887"
            ],
            [
             0.1111111111111111,
             "#46039f"
            ],
            [
             0.2222222222222222,
             "#7201a8"
            ],
            [
             0.3333333333333333,
             "#9c179e"
            ],
            [
             0.4444444444444444,
             "#bd3786"
            ],
            [
             0.5555555555555556,
             "#d8576b"
            ],
            [
             0.6666666666666666,
             "#ed7953"
            ],
            [
             0.7777777777777778,
             "#fb9f3a"
            ],
            [
             0.8888888888888888,
             "#fdca26"
            ],
            [
             1,
             "#f0f921"
            ]
           ],
           "sequentialminus": [
            [
             0,
             "#0d0887"
            ],
            [
             0.1111111111111111,
             "#46039f"
            ],
            [
             0.2222222222222222,
             "#7201a8"
            ],
            [
             0.3333333333333333,
             "#9c179e"
            ],
            [
             0.4444444444444444,
             "#bd3786"
            ],
            [
             0.5555555555555556,
             "#d8576b"
            ],
            [
             0.6666666666666666,
             "#ed7953"
            ],
            [
             0.7777777777777778,
             "#fb9f3a"
            ],
            [
             0.8888888888888888,
             "#fdca26"
            ],
            [
             1,
             "#f0f921"
            ]
           ]
          },
          "colorway": [
           "#636efa",
           "#EF553B",
           "#00cc96",
           "#ab63fa",
           "#FFA15A",
           "#19d3f3",
           "#FF6692",
           "#B6E880",
           "#FF97FF",
           "#FECB52"
          ],
          "font": {
           "color": "#2a3f5f"
          },
          "geo": {
           "bgcolor": "white",
           "lakecolor": "white",
           "landcolor": "#E5ECF6",
           "showlakes": true,
           "showland": true,
           "subunitcolor": "white"
          },
          "hoverlabel": {
           "align": "left"
          },
          "hovermode": "closest",
          "mapbox": {
           "style": "light"
          },
          "paper_bgcolor": "white",
          "plot_bgcolor": "#E5ECF6",
          "polar": {
           "angularaxis": {
            "gridcolor": "white",
            "linecolor": "white",
            "ticks": ""
           },
           "bgcolor": "#E5ECF6",
           "radialaxis": {
            "gridcolor": "white",
            "linecolor": "white",
            "ticks": ""
           }
          },
          "scene": {
           "xaxis": {
            "backgroundcolor": "#E5ECF6",
            "gridcolor": "white",
            "gridwidth": 2,
            "linecolor": "white",
            "showbackground": true,
            "ticks": "",
            "zerolinecolor": "white"
           },
           "yaxis": {
            "backgroundcolor": "#E5ECF6",
            "gridcolor": "white",
            "gridwidth": 2,
            "linecolor": "white",
            "showbackground": true,
            "ticks": "",
            "zerolinecolor": "white"
           },
           "zaxis": {
            "backgroundcolor": "#E5ECF6",
            "gridcolor": "white",
            "gridwidth": 2,
            "linecolor": "white",
            "showbackground": true,
            "ticks": "",
            "zerolinecolor": "white"
           }
          },
          "shapedefaults": {
           "line": {
            "color": "#2a3f5f"
           }
          },
          "ternary": {
           "aaxis": {
            "gridcolor": "white",
            "linecolor": "white",
            "ticks": ""
           },
           "baxis": {
            "gridcolor": "white",
            "linecolor": "white",
            "ticks": ""
           },
           "bgcolor": "#E5ECF6",
           "caxis": {
            "gridcolor": "white",
            "linecolor": "white",
            "ticks": ""
           }
          },
          "title": {
           "x": 0.05
          },
          "xaxis": {
           "automargin": true,
           "gridcolor": "white",
           "linecolor": "white",
           "ticks": "",
           "title": {
            "standoff": 15
           },
           "zerolinecolor": "white",
           "zerolinewidth": 2
          },
          "yaxis": {
           "automargin": true,
           "gridcolor": "white",
           "linecolor": "white",
           "ticks": "",
           "title": {
            "standoff": 15
           },
           "zerolinecolor": "white",
           "zerolinewidth": 2
          }
         }
        },
        "title": {
         "text": "MODELO COMBINADO<br>"
        }
       }
      }
     },
     "metadata": {},
     "output_type": "display_data"
    }
   ],
   "source": [
    "# Definir rangos para las variables independientes\n",
    "x1_range = np.linspace(min(df_prueba['width']), max(df_prueba['width']), 20)\n",
    "x2_range = np.linspace(min(df_prueba['shoe_size']), max(df_prueba['shoe_size']), 20)\n",
    "x1_mesh, x2_mesh = np.meshgrid(x1_range, x2_range)\n",
    "\n",
    "# Crear una matriz con los valores combinados\n",
    "X_mesh = np.vstack((x1_mesh.ravel(), x2_mesh.ravel())).T\n",
    "\n",
    "# Escalar los datos con el scaler global\n",
    "X_mesh_scaled = ss.transform(X_mesh)\n",
    "\n",
    "# Predecir los valores con el modelo combinado\n",
    "y_mesh_scaled = modelo_combinado.predict(X_mesh_scaled)\n",
    "\n",
    "# Crear scatterplot 3D de los puntos reales\n",
    "scatter = go.Scatter3d(\n",
    "    x=df_prueba['width'], \n",
    "    y=df_prueba['shoe_size'], \n",
    "    z=df_prueba['height'],  # Usamos la variable real \"height\"\n",
    "    mode='markers',\n",
    "    marker=dict(size=8, color='red', opacity=0.7)\n",
    ")\n",
    "\n",
    "# Crear el plano de regresión (Superficie 3D)\n",
    "surface = go.Surface(\n",
    "    x=x1_mesh, \n",
    "    y=x2_mesh, \n",
    "    z=y_mesh_scaled.reshape(x1_mesh.shape),  # Ajustamos la forma de la predicción\n",
    "    colorscale='Viridis', \n",
    "    opacity=0.5\n",
    ")\n",
    "\n",
    "\n",
    "\n",
    "# Configuración del layout\n",
    "layout = go.Layout(\n",
    "    title=f\"MODELO COMBINADO<br>\",\n",
    "    scene=dict(\n",
    "        xaxis_title='Ancho',\n",
    "        yaxis_title='Pie',\n",
    "        zaxis_title='Altura'\n",
    "    )\n",
    ")\n",
    "\n",
    "# Crear la figura\n",
    "fig = go.Figure(data=[scatter, surface], layout=layout)\n",
    "\n",
    "# Mostrar la figura interactiva\n",
    "fig.show()"
   ]
  }
 ],
 "metadata": {
  "kernelspec": {
   "display_name": "personal",
   "language": "python",
   "name": "python3"
  },
  "language_info": {
   "codemirror_mode": {
    "name": "ipython",
    "version": 3
   },
   "file_extension": ".py",
   "mimetype": "text/x-python",
   "name": "python",
   "nbconvert_exporter": "python",
   "pygments_lexer": "ipython3",
   "version": "3.11.8"
  }
 },
 "nbformat": 4,
 "nbformat_minor": 2
}
