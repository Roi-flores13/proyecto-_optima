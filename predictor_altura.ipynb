{
 "cells": [
  {
   "cell_type": "markdown",
   "metadata": {},
   "source": [
    "# Examen"
   ]
  },
  {
   "cell_type": "markdown",
   "metadata": {},
   "source": [
    "Integrantes:\n",
    "- Diego Canales Morales\n",
    "- Roi Jared Flores Graza Stone\n",
    "- Mónica Ibarra Herrera\n",
    "- Oscar Josué Rocha Hernández"
   ]
  },
  {
   "cell_type": "code",
   "execution_count": 56,
   "metadata": {},
   "outputs": [],
   "source": [
    "import pandas as pd\n",
    "from sklearn.linear_model import LinearRegression, Ridge, ElasticNet, Lasso\n",
    "from sklearn.model_selection import train_test_split, GridSearchCV\n",
    "import numpy as np\n",
    "from sklearn.metrics import root_mean_squared_error, r2_score\n",
    "from sklearn.preprocessing import StandardScaler, MinMaxScaler\n",
    "import matplotlib.pyplot as plt\n",
    "import plotly.graph_objects as go"
   ]
  },
  {
   "cell_type": "markdown",
   "metadata": {},
   "source": [
    "## Parte 1"
   ]
  },
  {
   "cell_type": "markdown",
   "metadata": {},
   "source": [
    "### Modelo Simple"
   ]
  },
  {
   "cell_type": "code",
   "execution_count": 57,
   "metadata": {},
   "outputs": [],
   "source": [
    "path = \"datos_gente.csv\"\n",
    "df_first = pd.read_csv(path)"
   ]
  },
  {
   "cell_type": "code",
   "execution_count": 58,
   "metadata": {},
   "outputs": [
    {
     "data": {
      "text/plain": [
       "array([[<Axes: title={'center': 'height'}>,\n",
       "        <Axes: title={'center': 'width'}>],\n",
       "       [<Axes: title={'center': 'shoe_size'}>, <Axes: >]], dtype=object)"
      ]
     },
     "execution_count": 58,
     "metadata": {},
     "output_type": "execute_result"
    },
    {
     "data": {
      "image/png": "[encoded data removed]",
      "text/plain": [
       "<Figure size 640x480 with 4 Axes>"
      ]
     },
     "metadata": {},
     "output_type": "display_data"
    }
   ],
   "source": [
    "df_first.hist()"
   ]
  },
  {
   "cell_type": "code",
   "execution_count": 59,
   "metadata": {},
   "outputs": [],
   "source": [
    "X = df_first[['width', 'shoe_size']]\n",
    "y = df_first['height']"
   ]
  },
  {
   "cell_type": "code",
   "execution_count": 60,
   "metadata": {},
   "outputs": [],
   "source": [
    "x_train_f, x_test_f, y_train_f, y_test_f = train_test_split(X,y, test_size=0.2, random_state=99)"
   ]
  },
  {
   "cell_type": "code",
   "execution_count": 61,
   "metadata": {},
   "outputs": [
    {
     "name": "stdout",
     "output_type": "stream",
     "text": [
      "R2: 0.8941176470588236 RMSE: 2.1213203435596424\n"
     ]
    }
   ],
   "source": [
    "lr_first = LinearRegression()\n",
    "lr_first.fit(x_test_f, y_test_f)\n",
    "pred_first = lr_first.predict(x_test_f)\n",
    "print(f\"R2: {r2_score(y_test_f, pred_first)} RMSE: {root_mean_squared_error(y_test_f, pred_first)}\")"
   ]
  },
  {
   "cell_type": "code",
   "execution_count": 62,
   "metadata": {},
   "outputs": [
    {
     "name": "stdout",
     "output_type": "stream",
     "text": [
      "Pendientes: [1.625 3.75 ]\n",
      "Intercepto: -12.375000000000057\n"
     ]
    }
   ],
   "source": [
    "print(f\"Pendientes: {lr_first.coef_}\")\n",
    "print(f\"Intercepto: {lr_first.intercept_}\")"
   ]
  },
  {
   "cell_type": "code",
   "execution_count": 63,
   "metadata": {},
   "outputs": [
    {
     "name": "stderr",
     "output_type": "stream",
     "text": [
      "c:\\Users\\Roi_f\\anaconda3\\envs\\personal\\Lib\\site-packages\\sklearn\\base.py:493: UserWarning:\n",
      "\n",
      "X does not have valid feature names, but LinearRegression was fitted with feature names\n",
      "\n"
     ]
    },
    {
     "data": {
      "application/vnd.plotly.v1+json": {
       "config": {
        "plotlyServerURL": "https://plot.ly"
       },
       "data": [
        {
         "marker": {
          "color": "red",
          "size": 8
         },
         "mode": "markers",
         "type": "scatter3d",
         "x": [
          55,
          44,
          44,
          44,
          46,
          40,
          58,
          40,
          49,
          44,
          40,
          51,
          55,
          50,
          38,
          39,
          38,
          39
         ],
         "y": [
          28,
          26.5,
          24,
          24.5,
          27,
          23,
          27,
          24,
          27.5,
          23,
          22,
          26,
          28,
          27.5,
          24,
          24.5,
          24,
          22.5
         ],
         "z": [
          185,
          173,
          163,
          162,
          172,
          159,
          187,
          165,
          175,
          162,
          155,
          168,
          179,
          172,
          159,
          166,
          156,
          151
         ]
        },
        {
         "colorscale": [
          [
           0,
           "#440154"
          ],
          [
           0.1111111111111111,
           "#482878"
          ],
          [
           0.2222222222222222,
           "#3e4989"
          ],
          [
           0.3333333333333333,
           "#31688e"
          ],
          [
           0.4444444444444444,
           "#26828e"
          ],
          [
           0.5555555555555556,
           "#1f9e89"
          ],
          [
           0.6666666666666666,
           "#35b779"
          ],
          [
           0.7777777777777778,
           "#6ece58"
          ],
          [
           0.8888888888888888,
           "#b5de2b"
          ],
          [
           1,
           "#fde725"
          ]
         ],
         "opacity": 0.5,
         "type": "surface",
         "x": [
          [
           38,
           39.05263157894737,
           40.10526315789474,
           41.1578947368421,
           42.21052631578947,
           43.26315789473684,
           44.31578947368421,
           45.368421052631575,
           46.421052631578945,
           47.473684210526315,
           48.526315789473685,
           49.578947368421055,
           50.631578947368425,
           51.68421052631579,
           52.73684210526316,
           53.78947368421053,
           54.84210526315789,
           55.89473684210526,
           56.94736842105263,
           58
          ],
          [
           38,
           39.05263157894737,
           40.10526315789474,
           41.1578947368421,
           42.21052631578947,
           43.26315789473684,
           44.31578947368421,
           45.368421052631575,
           46.421052631578945,
           47.473684210526315,
           48.526315789473685,
           49.578947368421055,
           50.631578947368425,
           51.68421052631579,
           52.73684210526316,
           53.78947368421053,
           54.84210526315789,
           55.89473684210526,
           56.94736842105263,
           58
          ],
          [
           38,
           39.05263157894737,
           40.10526315789474,
           41.1578947368421,
           42.21052631578947,
           43.26315789473684,
           44.31578947368421,
           45.368421052631575,
           46.421052631578945,
           47.473684210526315,
           48.526315789473685,
           49.578947368421055,
           50.631578947368425,
           51.68421052631579,
           52.73684210526316,
           53.78947368421053,
           54.84210526315789,
           55.89473684210526,
           56.94736842105263,
           58
          ],
          [
           38,
           39.05263157894737,
           40.10526315789474,
           41.1578947368421,
           42.21052631578947,
           43.26315789473684,
           44.31578947368421,
           45.368421052631575,
           46.421052631578945,
           47.473684210526315,
           48.526315789473685,
           49.578947368421055,
           50.631578947368425,
           51.68421052631579,
           52.73684210526316,
           53.78947368421053,
           54.84210526315789,
           55.89473684210526,
           56.94736842105263,
           58
          ],
          [
           38,
           39.05263157894737,
           40.10526315789474,
           41.1578947368421,
           42.21052631578947,
           43.26315789473684,
           44.31578947368421,
           45.368421052631575,
           46.421052631578945,
           47.473684210526315,
           48.526315789473685,
           49.578947368421055,
           50.631578947368425,
           51.68421052631579,
           52.73684210526316,
           53.78947368421053,
           54.84210526315789,
           55.89473684210526,
           56.94736842105263,
           58
          ],
          [
           38,
           39.05263157894737,
           40.10526315789474,
           41.1578947368421,
           42.21052631578947,
           43.26315789473684,
           44.31578947368421,
           45.368421052631575,
           46.421052631578945,
           47.473684210526315,
           48.526315789473685,
           49.578947368421055,
           50.631578947368425,
           51.68421052631579,
           52.73684210526316,
           53.78947368421053,
           54.84210526315789,
           55.89473684210526,
           56.94736842105263,
           58
          ],
          [
           38,
           39.05263157894737,
           40.10526315789474,
           41.1578947368421,
           42.21052631578947,
           43.26315789473684,
           44.31578947368421,
           45.368421052631575,
           46.421052631578945,
           47.473684210526315,
           48.526315789473685,
           49.578947368421055,
           50.631578947368425,
           51.68421052631579,
           52.73684210526316,
           53.78947368421053,
           54.84210526315789,
           55.89473684210526,
           56.94736842105263,
           58
          ],
          [
           38,
           39.05263157894737,
           40.10526315789474,
           41.1578947368421,
           42.21052631578947,
           43.26315789473684,
           44.31578947368421,
           45.368421052631575,
           46.421052631578945,
           47.473684210526315,
           48.526315789473685,
           49.578947368421055,
           50.631578947368425,
           51.68421052631579,
           52.73684210526316,
           53.78947368421053,
           54.84210526315789,
           55.89473684210526,
           56.94736842105263,
           58
          ],
          [
           38,
           39.05263157894737,
           40.10526315789474,
           41.1578947368421,
           42.21052631578947,
           43.26315789473684,
           44.31578947368421,
           45.368421052631575,
           46.421052631578945,
           47.473684210526315,
           48.526315789473685,
           49.578947368421055,
           50.631578947368425,
           51.68421052631579,
           52.73684210526316,
           53.78947368421053,
           54.84210526315789,
           55.89473684210526,
           56.94736842105263,
           58
          ],
          [
           38,
           39.05263157894737,
           40.10526315789474,
           41.1578947368421,
           42.21052631578947,
           43.26315789473684,
           44.31578947368421,
           45.368421052631575,
           46.421052631578945,
           47.473684210526315,
           48.526315789473685,
           49.578947368421055,
           50.631578947368425,
           51.68421052631579,
           52.73684210526316,
           53.78947368421053,
           54.84210526315789,
           55.89473684210526,
           56.94736842105263,
           58
          ],
          [
           38,
           39.05263157894737,
           40.10526315789474,
           41.1578947368421,
           42.21052631578947,
           43.26315789473684,
           44.31578947368421,
           45.368421052631575,
           46.421052631578945,
           47.473684210526315,
           48.526315789473685,
           49.578947368421055,
           50.631578947368425,
           51.68421052631579,
           52.73684210526316,
           53.78947368421053,
           54.84210526315789,
           55.89473684210526,
           56.94736842105263,
           58
          ],
          [
           38,
           39.05263157894737,
           40.10526315789474,
           41.1578947368421,
           42.21052631578947,
           43.26315789473684,
           44.31578947368421,
           45.368421052631575,
           46.421052631578945,
           47.473684210526315,
           48.526315789473685,
           49.578947368421055,
           50.631578947368425,
           51.68421052631579,
           52.73684210526316,
           53.78947368421053,
           54.84210526315789,
           55.89473684210526,
           56.94736842105263,
           58
          ],
          [
           38,
           39.05263157894737,
           40.10526315789474,
           41.1578947368421,
           42.21052631578947,
           43.26315789473684,
           44.31578947368421,
           45.368421052631575,
           46.421052631578945,
           47.473684210526315,
           48.526315789473685,
           49.578947368421055,
           50.631578947368425,
           51.68421052631579,
           52.73684210526316,
           53.78947368421053,
           54.84210526315789,
           55.89473684210526,
           56.94736842105263,
           58
          ],
          [
           38,
           39.05263157894737,
           40.10526315789474,
           41.1578947368421,
           42.21052631578947,
           43.26315789473684,
           44.31578947368421,
           45.368421052631575,
           46.421052631578945,
           47.473684210526315,
           48.526315789473685,
           49.578947368421055,
           50.631578947368425,
           51.68421052631579,
           52.73684210526316,
           53.78947368421053,
           54.84210526315789,
           55.89473684210526,
           56.94736842105263,
           58
          ],
          [
           38,
           39.05263157894737,
           40.10526315789474,
           41.1578947368421,
           42.21052631578947,
           43.26315789473684,
           44.31578947368421,
           45.368421052631575,
           46.421052631578945,
           47.473684210526315,
           48.526315789473685,
           49.578947368421055,
           50.631578947368425,
           51.68421052631579,
           52.73684210526316,
           53.78947368421053,
           54.84210526315789,
           55.89473684210526,
           56.94736842105263,
           58
          ],
          [
           38,
           39.05263157894737,
           40.10526315789474,
           41.1578947368421,
           42.21052631578947,
           43.26315789473684,
           44.31578947368421,
           45.368421052631575,
           46.421052631578945,
           47.473684210526315,
           48.526315789473685,
           49.578947368421055,
           50.631578947368425,
           51.68421052631579,
           52.73684210526316,
           53.78947368421053,
           54.84210526315789,
           55.89473684210526,
           56.94736842105263,
           58
          ],
          [
           38,
           39.05263157894737,
           40.10526315789474,
           41.1578947368421,
           42.21052631578947,
           43.26315789473684,
           44.31578947368421,
           45.368421052631575,
           46.421052631578945,
           47.473684210526315,
           48.526315789473685,
           49.578947368421055,
           50.631578947368425,
           51.68421052631579,
           52.73684210526316,
           53.78947368421053,
           54.84210526315789,
           55.89473684210526,
           56.94736842105263,
           58
          ],
          [
           38,
           39.05263157894737,
           40.10526315789474,
           41.1578947368421,
           42.21052631578947,
           43.26315789473684,
           44.31578947368421,
           45.368421052631575,
           46.421052631578945,
           47.473684210526315,
           48.526315789473685,
           49.578947368421055,
           50.631578947368425,
           51.68421052631579,
           52.73684210526316,
           53.78947368421053,
           54.84210526315789,
           55.89473684210526,
           56.94736842105263,
           58
          ],
          [
           38,
           39.05263157894737,
           40.10526315789474,
           41.1578947368421,
           42.21052631578947,
           43.26315789473684,
           44.31578947368421,
           45.368421052631575,
           46.421052631578945,
           47.473684210526315,
           48.526315789473685,
           49.578947368421055,
           50.631578947368425,
           51.68421052631579,
           52.73684210526316,
           53.78947368421053,
           54.84210526315789,
           55.89473684210526,
           56.94736842105263,
           58
          ],
          [
           38,
           39.05263157894737,
           40.10526315789474,
           41.1578947368421,
           42.21052631578947,
           43.26315789473684,
           44.31578947368421,
           45.368421052631575,
           46.421052631578945,
           47.473684210526315,
           48.526315789473685,
           49.578947368421055,
           50.631578947368425,
           51.68421052631579,
           52.73684210526316,
           53.78947368421053,
           54.84210526315789,
           55.89473684210526,
           56.94736842105263,
           58
          ]
         ],
         "y": [
          [
           22,
           22,
           22,
           22,
           22,
           22,
           22,
           22,
           22,
           22,
           22,
           22,
           22,
           22,
           22,
           22,
           22,
           22,
           22,
           22
          ],
          [
           22.31578947368421,
           22.31578947368421,
           22.31578947368421,
           22.31578947368421,
           22.31578947368421,
           22.31578947368421,
           22.31578947368421,
           22.31578947368421,
           22.31578947368421,
           22.31578947368421,
           22.31578947368421,
           22.31578947368421,
           22.31578947368421,
           22.31578947368421,
           22.31578947368421,
           22.31578947368421,
           22.31578947368421,
           22.31578947368421,
           22.31578947368421,
           22.31578947368421
          ],
          [
           22.63157894736842,
           22.63157894736842,
           22.63157894736842,
           22.63157894736842,
           22.63157894736842,
           22.63157894736842,
           22.63157894736842,
           22.63157894736842,
           22.63157894736842,
           22.63157894736842,
           22.63157894736842,
           22.63157894736842,
           22.63157894736842,
           22.63157894736842,
           22.63157894736842,
           22.63157894736842,
           22.63157894736842,
           22.63157894736842,
           22.63157894736842,
           22.63157894736842
          ],
          [
           22.94736842105263,
           22.94736842105263,
           22.94736842105263,
           22.94736842105263,
           22.94736842105263,
           22.94736842105263,
           22.94736842105263,
           22.94736842105263,
           22.94736842105263,
           22.94736842105263,
           22.94736842105263,
           22.94736842105263,
           22.94736842105263,
           22.94736842105263,
           22.94736842105263,
           22.94736842105263,
           22.94736842105263,
           22.94736842105263,
           22.94736842105263,
           22.94736842105263
          ],
          [
           23.263157894736842,
           23.263157894736842,
           23.263157894736842,
           23.263157894736842,
           23.263157894736842,
           23.263157894736842,
           23.263157894736842,
           23.263157894736842,
           23.263157894736842,
           23.263157894736842,
           23.263157894736842,
           23.263157894736842,
           23.263157894736842,
           23.263157894736842,
           23.263157894736842,
           23.263157894736842,
           23.263157894736842,
           23.263157894736842,
           23.263157894736842,
           23.263157894736842
          ],
          [
           23.57894736842105,
           23.57894736842105,
           23.57894736842105,
           23.57894736842105,
           23.57894736842105,
           23.57894736842105,
           23.57894736842105,
           23.57894736842105,
           23.57894736842105,
           23.57894736842105,
           23.57894736842105,
           23.57894736842105,
           23.57894736842105,
           23.57894736842105,
           23.57894736842105,
           23.57894736842105,
           23.57894736842105,
           23.57894736842105,
           23.57894736842105,
           23.57894736842105
          ],
          [
           23.894736842105264,
           23.894736842105264,
           23.894736842105264,
           23.894736842105264,
           23.894736842105264,
           23.894736842105264,
           23.894736842105264,
           23.894736842105264,
           23.894736842105264,
           23.894736842105264,
           23.894736842105264,
           23.894736842105264,
           23.894736842105264,
           23.894736842105264,
           23.894736842105264,
           23.894736842105264,
           23.894736842105264,
           23.894736842105264,
           23.894736842105264,
           23.894736842105264
          ],
          [
           24.210526315789473,
           24.210526315789473,
           24.210526315789473,
           24.210526315789473,
           24.210526315789473,
           24.210526315789473,
           24.210526315789473,
           24.210526315789473,
           24.210526315789473,
           24.210526315789473,
           24.210526315789473,
           24.210526315789473,
           24.210526315789473,
           24.210526315789473,
           24.210526315789473,
           24.210526315789473,
           24.210526315789473,
           24.210526315789473,
           24.210526315789473,
           24.210526315789473
          ],
          [
           24.526315789473685,
           24.526315789473685,
           24.526315789473685,
           24.526315789473685,
           24.526315789473685,
           24.526315789473685,
           24.526315789473685,
           24.526315789473685,
           24.526315789473685,
           24.526315789473685,
           24.526315789473685,
           24.526315789473685,
           24.526315789473685,
           24.526315789473685,
           24.526315789473685,
           24.526315789473685,
           24.526315789473685,
           24.526315789473685,
           24.526315789473685,
           24.526315789473685
          ],
          [
           24.842105263157894,
           24.842105263157894,
           24.842105263157894,
           24.842105263157894,
           24.842105263157894,
           24.842105263157894,
           24.842105263157894,
           24.842105263157894,
           24.842105263157894,
           24.842105263157894,
           24.842105263157894,
           24.842105263157894,
           24.842105263157894,
           24.842105263157894,
           24.842105263157894,
           24.842105263157894,
           24.842105263157894,
           24.842105263157894,
           24.842105263157894,
           24.842105263157894
          ],
          [
           25.157894736842106,
           25.157894736842106,
           25.157894736842106,
           25.157894736842106,
           25.157894736842106,
           25.157894736842106,
           25.157894736842106,
           25.157894736842106,
           25.157894736842106,
           25.157894736842106,
           25.157894736842106,
           25.157894736842106,
           25.157894736842106,
           25.157894736842106,
           25.157894736842106,
           25.157894736842106,
           25.157894736842106,
           25.157894736842106,
           25.157894736842106,
           25.157894736842106
          ],
          [
           25.473684210526315,
           25.473684210526315,
           25.473684210526315,
           25.473684210526315,
           25.473684210526315,
           25.473684210526315,
           25.473684210526315,
           25.473684210526315,
           25.473684210526315,
           25.473684210526315,
           25.473684210526315,
           25.473684210526315,
           25.473684210526315,
           25.473684210526315,
           25.473684210526315,
           25.473684210526315,
           25.473684210526315,
           25.473684210526315,
           25.473684210526315,
           25.473684210526315
          ],
          [
           25.789473684210527,
           25.789473684210527,
           25.789473684210527,
           25.789473684210527,
           25.789473684210527,
           25.789473684210527,
           25.789473684210527,
           25.789473684210527,
           25.789473684210527,
           25.789473684210527,
           25.789473684210527,
           25.789473684210527,
           25.789473684210527,
           25.789473684210527,
           25.789473684210527,
           25.789473684210527,
           25.789473684210527,
           25.789473684210527,
           25.789473684210527,
           25.789473684210527
          ],
          [
           26.105263157894736,
           26.105263157894736,
           26.105263157894736,
           26.105263157894736,
           26.105263157894736,
           26.105263157894736,
           26.105263157894736,
           26.105263157894736,
           26.105263157894736,
           26.105263157894736,
           26.105263157894736,
           26.105263157894736,
           26.105263157894736,
           26.105263157894736,
           26.105263157894736,
           26.105263157894736,
           26.105263157894736,
           26.105263157894736,
           26.105263157894736,
           26.105263157894736
          ],
          [
           26.421052631578945,
           26.421052631578945,
           26.421052631578945,
           26.421052631578945,
           26.421052631578945,
           26.421052631578945,
           26.421052631578945,
           26.421052631578945,
           26.421052631578945,
           26.421052631578945,
           26.421052631578945,
           26.421052631578945,
           26.421052631578945,
           26.421052631578945,
           26.421052631578945,
           26.421052631578945,
           26.421052631578945,
           26.421052631578945,
           26.421052631578945,
           26.421052631578945
          ],
          [
           26.736842105263158,
           26.736842105263158,
           26.736842105263158,
           26.736842105263158,
           26.736842105263158,
           26.736842105263158,
           26.736842105263158,
           26.736842105263158,
           26.736842105263158,
           26.736842105263158,
           26.736842105263158,
           26.736842105263158,
           26.736842105263158,
           26.736842105263158,
           26.736842105263158,
           26.736842105263158,
           26.736842105263158,
           26.736842105263158,
           26.736842105263158,
           26.736842105263158
          ],
          [
           27.05263157894737,
           27.05263157894737,
           27.05263157894737,
           27.05263157894737,
           27.05263157894737,
           27.05263157894737,
           27.05263157894737,
           27.05263157894737,
           27.05263157894737,
           27.05263157894737,
           27.05263157894737,
           27.05263157894737,
           27.05263157894737,
           27.05263157894737,
           27.05263157894737,
           27.05263157894737,
           27.05263157894737,
           27.05263157894737,
           27.05263157894737,
           27.05263157894737
          ],
          [
           27.36842105263158,
           27.36842105263158,
           27.36842105263158,
           27.36842105263158,
           27.36842105263158,
           27.36842105263158,
           27.36842105263158,
           27.36842105263158,
           27.36842105263158,
           27.36842105263158,
           27.36842105263158,
           27.36842105263158,
           27.36842105263158,
           27.36842105263158,
           27.36842105263158,
           27.36842105263158,
           27.36842105263158,
           27.36842105263158,
           27.36842105263158,
           27.36842105263158
          ],
          [
           27.684210526315788,
           27.684210526315788,
           27.684210526315788,
           27.684210526315788,
           27.684210526315788,
           27.684210526315788,
           27.684210526315788,
           27.684210526315788,
           27.684210526315788,
           27.684210526315788,
           27.684210526315788,
           27.684210526315788,
           27.684210526315788,
           27.684210526315788,
           27.684210526315788,
           27.684210526315788,
           27.684210526315788,
           27.684210526315788,
           27.684210526315788,
           27.684210526315788
          ],
          [
           28,
           28,
           28,
           28,
           28,
           28,
           28,
           28,
           28,
           28,
           28,
           28,
           28,
           28,
           28,
           28,
           28,
           28,
           28,
           28
          ]
         ],
         "z": [
          [
           131.87499999999997,
           133.58552631578945,
           135.29605263157893,
           137.0065789473684,
           138.7171052631579,
           140.42763157894737,
           142.13815789473682,
           143.8486842105263,
           145.55921052631578,
           147.26973684210526,
           148.98026315789474,
           150.6907894736842,
           152.40131578947367,
           154.11184210526315,
           155.82236842105263,
           157.5328947368421,
           159.24342105263156,
           160.95394736842104,
           162.66447368421052,
           164.375
          ],
          [
           133.05921052631575,
           134.76973684210523,
           136.4802631578947,
           138.1907894736842,
           139.90131578947367,
           141.61184210526315,
           143.3223684210526,
           145.03289473684208,
           146.74342105263156,
           148.45394736842104,
           150.16447368421052,
           151.87499999999997,
           153.58552631578945,
           155.29605263157893,
           157.0065789473684,
           158.7171052631579,
           160.42763157894734,
           162.13815789473682,
           163.8486842105263,
           165.55921052631578
          ],
          [
           134.24342105263156,
           135.95394736842104,
           137.66447368421052,
           139.37499999999997,
           141.08552631578945,
           142.79605263157893,
           144.5065789473684,
           146.21710526315786,
           147.92763157894734,
           149.63815789473682,
           151.3486842105263,
           153.05921052631578,
           154.76973684210526,
           156.4802631578947,
           158.1907894736842,
           159.90131578947367,
           161.61184210526315,
           163.3223684210526,
           165.03289473684208,
           166.74342105263156
          ],
          [
           135.42763157894734,
           137.13815789473682,
           138.8486842105263,
           140.55921052631575,
           142.26973684210523,
           143.9802631578947,
           145.6907894736842,
           147.40131578947364,
           149.11184210526312,
           150.8223684210526,
           152.53289473684208,
           154.24342105263156,
           155.95394736842104,
           157.6644736842105,
           159.37499999999997,
           161.08552631578945,
           162.79605263157893,
           164.50657894736838,
           166.21710526315786,
           167.92763157894734
          ],
          [
           136.61184210526315,
           138.32236842105263,
           140.03289473684208,
           141.74342105263156,
           143.45394736842104,
           145.16447368421052,
           146.87499999999997,
           148.58552631578945,
           150.29605263157893,
           152.0065789473684,
           153.7171052631579,
           155.42763157894734,
           157.13815789473682,
           158.8486842105263,
           160.55921052631578,
           162.26973684210526,
           163.9802631578947,
           165.6907894736842,
           167.40131578947367,
           169.11184210526315
          ],
          [
           137.79605263157893,
           139.5065789473684,
           141.2171052631579,
           142.92763157894734,
           144.63815789473682,
           146.3486842105263,
           148.05921052631578,
           149.76973684210523,
           151.4802631578947,
           153.1907894736842,
           154.90131578947367,
           156.61184210526315,
           158.32236842105263,
           160.03289473684208,
           161.74342105263156,
           163.45394736842104,
           165.16447368421052,
           166.87499999999997,
           168.58552631578945,
           170.29605263157893
          ],
          [
           138.9802631578947,
           140.6907894736842,
           142.40131578947367,
           144.11184210526315,
           145.82236842105263,
           147.5328947368421,
           149.24342105263156,
           150.95394736842104,
           152.66447368421052,
           154.375,
           156.08552631578948,
           157.79605263157893,
           159.5065789473684,
           161.2171052631579,
           162.92763157894737,
           164.63815789473685,
           166.3486842105263,
           168.05921052631578,
           169.76973684210526,
           171.48026315789474
          ],
          [
           140.1644736842105,
           141.87499999999997,
           143.58552631578945,
           145.29605263157893,
           147.0065789473684,
           148.7171052631579,
           150.42763157894734,
           152.13815789473682,
           153.8486842105263,
           155.55921052631578,
           157.26973684210526,
           158.9802631578947,
           160.6907894736842,
           162.40131578947367,
           164.11184210526315,
           165.82236842105263,
           167.53289473684208,
           169.24342105263156,
           170.95394736842104,
           172.66447368421052
          ],
          [
           141.3486842105263,
           143.05921052631578,
           144.76973684210526,
           146.4802631578947,
           148.1907894736842,
           149.90131578947367,
           151.61184210526315,
           153.3223684210526,
           155.03289473684208,
           156.74342105263156,
           158.45394736842104,
           160.16447368421052,
           161.875,
           163.58552631578945,
           165.29605263157893,
           167.0065789473684,
           168.7171052631579,
           170.42763157894734,
           172.13815789473682,
           173.8486842105263
          ],
          [
           142.53289473684208,
           144.24342105263156,
           145.95394736842104,
           147.6644736842105,
           149.37499999999997,
           151.08552631578945,
           152.79605263157893,
           154.50657894736838,
           156.21710526315786,
           157.92763157894734,
           159.63815789473682,
           161.3486842105263,
           163.05921052631578,
           164.76973684210523,
           166.4802631578947,
           168.1907894736842,
           169.90131578947367,
           171.61184210526312,
           173.3223684210526,
           175.03289473684208
          ],
          [
           143.7171052631579,
           145.42763157894737,
           147.13815789473682,
           148.8486842105263,
           150.55921052631578,
           152.26973684210526,
           153.9802631578947,
           155.6907894736842,
           157.40131578947367,
           159.11184210526315,
           160.82236842105263,
           162.53289473684208,
           164.24342105263156,
           165.95394736842104,
           167.66447368421052,
           169.375,
           171.08552631578945,
           172.79605263157893,
           174.5065789473684,
           176.2171052631579
          ],
          [
           144.90131578947367,
           146.61184210526315,
           148.32236842105263,
           150.03289473684208,
           151.74342105263156,
           153.45394736842104,
           155.16447368421052,
           156.87499999999997,
           158.58552631578945,
           160.29605263157893,
           162.0065789473684,
           163.7171052631579,
           165.42763157894737,
           167.13815789473682,
           168.8486842105263,
           170.55921052631578,
           172.26973684210526,
           173.9802631578947,
           175.6907894736842,
           177.40131578947367
          ],
          [
           146.08552631578945,
           147.79605263157893,
           149.5065789473684,
           151.2171052631579,
           152.92763157894737,
           154.63815789473685,
           156.3486842105263,
           158.05921052631578,
           159.76973684210526,
           161.48026315789474,
           163.19078947368422,
           164.90131578947367,
           166.61184210526315,
           168.32236842105263,
           170.0328947368421,
           171.7434210526316,
           173.45394736842104,
           175.16447368421052,
           176.875,
           178.58552631578948
          ],
          [
           147.26973684210526,
           148.98026315789474,
           150.6907894736842,
           152.40131578947367,
           154.11184210526315,
           155.82236842105263,
           157.53289473684208,
           159.24342105263156,
           160.95394736842104,
           162.66447368421052,
           164.375,
           166.08552631578945,
           167.79605263157893,
           169.5065789473684,
           171.2171052631579,
           172.92763157894737,
           174.63815789473682,
           176.3486842105263,
           178.05921052631578,
           179.76973684210526
          ],
          [
           148.45394736842104,
           150.16447368421052,
           151.87499999999997,
           153.58552631578945,
           155.29605263157893,
           157.0065789473684,
           158.71710526315786,
           160.42763157894734,
           162.13815789473682,
           163.8486842105263,
           165.55921052631578,
           167.26973684210523,
           168.9802631578947,
           170.6907894736842,
           172.40131578947367,
           174.11184210526315,
           175.8223684210526,
           177.53289473684208,
           179.24342105263156,
           180.95394736842104
          ],
          [
           149.63815789473682,
           151.3486842105263,
           153.05921052631578,
           154.76973684210523,
           156.4802631578947,
           158.1907894736842,
           159.90131578947367,
           161.61184210526312,
           163.3223684210526,
           165.03289473684208,
           166.74342105263156,
           168.45394736842104,
           170.16447368421052,
           171.87499999999997,
           173.58552631578945,
           175.29605263157893,
           177.0065789473684,
           178.71710526315786,
           180.42763157894734,
           182.13815789473682
          ],
          [
           150.82236842105263,
           152.5328947368421,
           154.2434210526316,
           155.95394736842104,
           157.66447368421052,
           159.375,
           161.08552631578948,
           162.79605263157893,
           164.5065789473684,
           166.2171052631579,
           167.92763157894737,
           169.63815789473685,
           171.34868421052633,
           173.05921052631578,
           174.76973684210526,
           176.48026315789474,
           178.19078947368422,
           179.90131578947367,
           181.61184210526315,
           183.32236842105263
          ],
          [
           152.0065789473684,
           153.7171052631579,
           155.42763157894737,
           157.13815789473682,
           158.8486842105263,
           160.55921052631578,
           162.26973684210526,
           163.9802631578947,
           165.6907894736842,
           167.40131578947367,
           169.11184210526315,
           170.82236842105263,
           172.5328947368421,
           174.24342105263156,
           175.95394736842104,
           177.66447368421052,
           179.375,
           181.08552631578945,
           182.79605263157893,
           184.5065789473684
          ],
          [
           153.1907894736842,
           154.90131578947367,
           156.61184210526315,
           158.3223684210526,
           160.03289473684208,
           161.74342105263156,
           163.45394736842104,
           165.1644736842105,
           166.87499999999997,
           168.58552631578945,
           170.29605263157893,
           172.0065789473684,
           173.7171052631579,
           175.42763157894734,
           177.13815789473682,
           178.8486842105263,
           180.55921052631578,
           182.26973684210523,
           183.9802631578947,
           185.6907894736842
          ],
          [
           154.375,
           156.08552631578948,
           157.79605263157893,
           159.5065789473684,
           161.2171052631579,
           162.92763157894737,
           164.63815789473682,
           166.3486842105263,
           168.05921052631578,
           169.76973684210526,
           171.48026315789474,
           173.1907894736842,
           174.90131578947367,
           176.61184210526315,
           178.32236842105263,
           180.0328947368421,
           181.74342105263156,
           183.45394736842104,
           185.16447368421052,
           186.875
          ]
         ]
        }
       ],
       "layout": {
        "scene": {
         "xaxis": {
          "title": {
           "text": "Variable X1"
          }
         },
         "yaxis": {
          "title": {
           "text": "Variable X2"
          }
         },
         "zaxis": {
          "title": {
           "text": "Variable Y"
          }
         }
        },
        "template": {
         "data": {
          "bar": [
           {
            "error_x": {
             "color": "#2a3f5f"
            },
            "error_y": {
             "color": "#2a3f5f"
            },
            "marker": {
             "line": {
              "color": "#E5ECF6",
              "width": 0.5
             },
             "pattern": {
              "fillmode": "overlay",
              "size": 10,
              "solidity": 0.2
             }
            },
            "type": "bar"
           }
          ],
          "barpolar": [
           {
            "marker": {
             "line": {
              "color": "#E5ECF6",
              "width": 0.5
             },
             "pattern": {
              "fillmode": "overlay",
              "size": 10,
              "solidity": 0.2
             }
            },
            "type": "barpolar"
           }
          ],
          "carpet": [
           {
            "aaxis": {
             "endlinecolor": "#2a3f5f",
             "gridcolor": "white",
             "linecolor": "white",
             "minorgridcolor": "white",
             "startlinecolor": "#2a3f5f"
            },
            "baxis": {
             "endlinecolor": "#2a3f5f",
             "gridcolor": "white",
             "linecolor": "white",
             "minorgridcolor": "white",
             "startlinecolor": "#2a3f5f"
            },
            "type": "carpet"
           }
          ],
          "choropleth": [
           {
            "colorbar": {
             "outlinewidth": 0,
             "ticks": ""
            },
            "type": "choropleth"
           }
          ],
          "contour": [
           {
            "colorbar": {
             "outlinewidth": 0,
             "ticks": ""
            },
            "colorscale": [
             [
              0,
              "#0d0887"
             ],
             [
              0.1111111111111111,
              "#46039f"
             ],
             [
              0.2222222222222222,
              "#7201a8"
             ],
             [
              0.3333333333333333,
              "#9c179e"
             ],
             [
              0.4444444444444444,
              "#bd3786"
             ],
             [
              0.5555555555555556,
              "#d8576b"
             ],
             [
              0.6666666666666666,
              "#ed7953"
             ],
             [
              0.7777777777777778,
              "#fb9f3a"
             ],
             [
              0.8888888888888888,
              "#fdca26"
             ],
             [
              1,
              "#f0f921"
             ]
            ],
            "type": "contour"
           }
          ],
          "contourcarpet": [
           {
            "colorbar": {
             "outlinewidth": 0,
             "ticks": ""
            },
            "type": "contourcarpet"
           }
          ],
          "heatmap": [
           {
            "colorbar": {
             "outlinewidth": 0,
             "ticks": ""
            },
            "colorscale": [
             [
              0,
              "#0d0887"
             ],
             [
              0.1111111111111111,
              "#46039f"
             ],
             [
              0.2222222222222222,
              "#7201a8"
             ],
             [
              0.3333333333333333,
              "#9c179e"
             ],
             [
              0.4444444444444444,
              "#bd3786"
             ],
             [
              0.5555555555555556,
              "#d8576b"
             ],
             [
              0.6666666666666666,
              "#ed7953"
             ],
             [
              0.7777777777777778,
              "#fb9f3a"
             ],
             [
              0.8888888888888888,
              "#fdca26"
             ],
             [
              1,
              "#f0f921"
             ]
            ],
            "type": "heatmap"
           }
          ],
          "heatmapgl": [
           {
            "colorbar": {
             "outlinewidth": 0,
             "ticks": ""
            },
            "colorscale": [
             [
              0,
              "#0d0887"
             ],
             [
              0.1111111111111111,
              "#46039f"
             ],
             [
              0.2222222222222222,
              "#7201a8"
             ],
             [
              0.3333333333333333,
              "#9c179e"
             ],
             [
              0.4444444444444444,
              "#bd3786"
             ],
             [
              0.5555555555555556,
              "#d8576b"
             ],
             [
              0.6666666666666666,
              "#ed7953"
             ],
             [
              0.7777777777777778,
              "#fb9f3a"
             ],
             [
              0.8888888888888888,
              "#fdca26"
             ],
             [
              1,
              "#f0f921"
             ]
            ],
            "type": "heatmapgl"
           }
          ],
          "histogram": [
           {
            "marker": {
             "pattern": {
              "fillmode": "overlay",
              "size": 10,
              "solidity": 0.2
             }
            },
            "type": "histogram"
           }
          ],
          "histogram2d": [
           {
            "colorbar": {
             "outlinewidth": 0,
             "ticks": ""
            },
            "colorscale": [
             [
              0,
              "#0d0887"
             ],
             [
              0.1111111111111111,
              "#46039f"
             ],
             [
              0.2222222222222222,
              "#7201a8"
             ],
             [
              0.3333333333333333,
              "#9c179e"
             ],
             [
              0.4444444444444444,
              "#bd3786"
             ],
             [
              0.5555555555555556,
              "#d8576b"
             ],
             [
              0.6666666666666666,
              "#ed7953"
             ],
             [
              0.7777777777777778,
              "#fb9f3a"
             ],
             [
              0.8888888888888888,
              "#fdca26"
             ],
             [
              1,
              "#f0f921"
             ]
            ],
            "type": "histogram2d"
           }
          ],
          "histogram2dcontour": [
           {
            "colorbar": {
             "outlinewidth": 0,
             "ticks": ""
            },
            "colorscale": [
             [
              0,
              "#0d0887"
             ],
             [
              0.1111111111111111,
              "#46039f"
             ],
             [
              0.2222222222222222,
              "#7201a8"
             ],
             [
              0.3333333333333333,
              "#9c179e"
             ],
             [
              0.4444444444444444,
              "#bd3786"
             ],
             [
              0.5555555555555556,
              "#d8576b"
             ],
             [
              0.6666666666666666,
              "#ed7953"
             ],
             [
              0.7777777777777778,
              "#fb9f3a"
             ],
             [
              0.8888888888888888,
              "#fdca26"
             ],
             [
              1,
              "#f0f921"
             ]
            ],
            "type": "histogram2dcontour"
           }
          ],
          "mesh3d": [
           {
            "colorbar": {
             "outlinewidth": 0,
             "ticks": ""
            },
            "type": "mesh3d"
           }
          ],
          "parcoords": [
           {
            "line": {
             "colorbar": {
              "outlinewidth": 0,
              "ticks": ""
             }
            },
            "type": "parcoords"
           }
          ],
          "pie": [
           {
            "automargin": true,
            "type": "pie"
           }
          ],
          "scatter": [
           {
            "fillpattern": {
             "fillmode": "overlay",
             "size": 10,
             "solidity": 0.2
            },
            "type": "scatter"
           }
          ],
          "scatter3d": [
           {
            "line": {
             "colorbar": {
              "outlinewidth": 0,
              "ticks": ""
             }
            },
            "marker": {
             "colorbar": {
              "outlinewidth": 0,
              "ticks": ""
             }
            },
            "type": "scatter3d"
           }
          ],
          "scattercarpet": [
           {
            "marker": {
             "colorbar": {
              "outlinewidth": 0,
              "ticks": ""
             }
            },
            "type": "scattercarpet"
           }
          ],
          "scattergeo": [
           {
            "marker": {
             "colorbar": {
              "outlinewidth": 0,
              "ticks": ""
             }
            },
            "type": "scattergeo"
           }
          ],
          "scattergl": [
           {
            "marker": {
             "colorbar": {
              "outlinewidth": 0,
              "ticks": ""
             }
            },
            "type": "scattergl"
           }
          ],
          "scattermapbox": [
           {
            "marker": {
             "colorbar": {
              "outlinewidth": 0,
              "ticks": ""
             }
            },
            "type": "scattermapbox"
           }
          ],
          "scatterpolar": [
           {
            "marker": {
             "colorbar": {
              "outlinewidth": 0,
              "ticks": ""
             }
            },
            "type": "scatterpolar"
           }
          ],
          "scatterpolargl": [
           {
            "marker": {
             "colorbar": {
              "outlinewidth": 0,
              "ticks": ""
             }
            },
            "type": "scatterpolargl"
           }
          ],
          "scatterternary": [
           {
            "marker": {
             "colorbar": {
              "outlinewidth": 0,
              "ticks": ""
             }
            },
            "type": "scatterternary"
           }
          ],
          "surface": [
           {
            "colorbar": {
             "outlinewidth": 0,
             "ticks": ""
            },
            "colorscale": [
             [
              0,
              "#0d0887"
             ],
             [
              0.1111111111111111,
              "#46039f"
             ],
             [
              0.2222222222222222,
              "#7201a8"
             ],
             [
              0.3333333333333333,
              "#9c179e"
             ],
             [
              0.4444444444444444,
              "#bd3786"
             ],
             [
              0.5555555555555556,
              "#d8576b"
             ],
             [
              0.6666666666666666,
              "#ed7953"
             ],
             [
              0.7777777777777778,
              "#fb9f3a"
             ],
             [
              0.8888888888888888,
              "#fdca26"
             ],
             [
              1,
              "#f0f921"
             ]
            ],
            "type": "surface"
           }
          ],
          "table": [
           {
            "cells": {
             "fill": {
              "color": "#EBF0F8"
             },
             "line": {
              "color": "white"
             }
            },
            "header": {
             "fill": {
              "color": "#C8D4E3"
             },
             "line": {
              "color": "white"
             }
            },
            "type": "table"
           }
          ]
         },
         "layout": {
          "annotationdefaults": {
           "arrowcolor": "#2a3f5f",
           "arrowhead": 0,
           "arrowwidth": 1
          },
          "autotypenumbers": "strict",
          "coloraxis": {
           "colorbar": {
            "outlinewidth": 0,
            "ticks": ""
           }
          },
          "colorscale": {
           "diverging": [
            [
             0,
             "#8e0152"
            ],
            [
             0.1,
             "#c51b7d"
            ],
            [
             0.2,
             "#de77ae"
            ],
            [
             0.3,
             "#f1b6da"
            ],
            [
             0.4,
             "#fde0ef"
            ],
            [
             0.5,
             "#f7f7f7"
            ],
            [
             0.6,
             "#e6f5d0"
            ],
            [
             0.7,
             "#b8e186"
            ],
            [
             0.8,
             "#7fbc41"
            ],
            [
             0.9,
             "#4d9221"
            ],
            [
             1,
             "#276419"
            ]
           ],
           "sequential": [
            [
             0,
             "#0d0887"
            ],
            [
             0.1111111111111111,
             "#46039f"
            ],
            [
             0.2222222222222222,
             "#7201a8"
            ],
            [
             0.3333333333333333,
             "#9c179e"
            ],
            [
             0.4444444444444444,
             "#bd3786"
            ],
            [
             0.5555555555555556,
             "#d8576b"
            ],
            [
             0.6666666666666666,
             "#ed7953"
            ],
            [
             0.7777777777777778,
             "#fb9f3a"
            ],
            [
             0.8888888888888888,
             "#fdca26"
            ],
            [
             1,
             "#f0f921"
            ]
           ],
           "sequentialminus": [
            [
             0,
             "#0d0887"
            ],
            [
             0.1111111111111111,
             "#46039f"
            ],
            [
             0.2222222222222222,
             "#7201a8"
            ],
            [
             0.3333333333333333,
             "#9c179e"
            ],
            [
             0.4444444444444444,
             "#bd3786"
            ],
            [
             0.5555555555555556,
             "#d8576b"
            ],
            [
             0.6666666666666666,
             "#ed7953"
            ],
            [
             0.7777777777777778,
             "#fb9f3a"
            ],
            [
             0.8888888888888888,
             "#fdca26"
            ],
            [
             1,
             "#f0f921"
            ]
           ]
          },
          "colorway": [
           "#636efa",
           "#EF553B",
           "#00cc96",
           "#ab63fa",
           "#FFA15A",
           "#19d3f3",
           "#FF6692",
           "#B6E880",
           "#FF97FF",
           "#FECB52"
          ],
          "font": {
           "color": "#2a3f5f"
          },
          "geo": {
           "bgcolor": "white",
           "lakecolor": "white",
           "landcolor": "#E5ECF6",
           "showlakes": true,
           "showland": true,
           "subunitcolor": "white"
          },
          "hoverlabel": {
           "align": "left"
          },
          "hovermode": "closest",
          "mapbox": {
           "style": "light"
          },
          "paper_bgcolor": "white",
          "plot_bgcolor": "#E5ECF6",
          "polar": {
           "angularaxis": {
            "gridcolor": "white",
            "linecolor": "white",
            "ticks": ""
           },
           "bgcolor": "#E5ECF6",
           "radialaxis": {
            "gridcolor": "white",
            "linecolor": "white",
            "ticks": ""
           }
          },
          "scene": {
           "xaxis": {
            "backgroundcolor": "#E5ECF6",
            "gridcolor": "white",
            "gridwidth": 2,
            "linecolor": "white",
            "showbackground": true,
            "ticks": "",
            "zerolinecolor": "white"
           },
           "yaxis": {
            "backgroundcolor": "#E5ECF6",
            "gridcolor": "white",
            "gridwidth": 2,
            "linecolor": "white",
            "showbackground": true,
            "ticks": "",
            "zerolinecolor": "white"
           },
           "zaxis": {
            "backgroundcolor": "#E5ECF6",
            "gridcolor": "white",
            "gridwidth": 2,
            "linecolor": "white",
            "showbackground": true,
            "ticks": "",
            "zerolinecolor": "white"
           }
          },
          "shapedefaults": {
           "line": {
            "color": "#2a3f5f"
           }
          },
          "ternary": {
           "aaxis": {
            "gridcolor": "white",
            "linecolor": "white",
            "ticks": ""
           },
           "baxis": {
            "gridcolor": "white",
            "linecolor": "white",
            "ticks": ""
           },
           "bgcolor": "#E5ECF6",
           "caxis": {
            "gridcolor": "white",
            "linecolor": "white",
            "ticks": ""
           }
          },
          "title": {
           "x": 0.05
          },
          "xaxis": {
           "automargin": true,
           "gridcolor": "white",
           "linecolor": "white",
           "ticks": "",
           "title": {
            "standoff": 15
           },
           "zerolinecolor": "white",
           "zerolinewidth": 2
          },
          "yaxis": {
           "automargin": true,
           "gridcolor": "white",
           "linecolor": "white",
           "ticks": "",
           "title": {
            "standoff": 15
           },
           "zerolinecolor": "white",
           "zerolinewidth": 2
          }
         }
        },
        "title": {
         "text": "REGRESION<br>R2: 0.8941176470588236 RMSE: 2.1213203435596424"
        }
       }
      }
     },
     "metadata": {},
     "output_type": "display_data"
    }
   ],
   "source": [
    "# Predecir valores para el plano de regresión\n",
    "x1_range = np.linspace(min(X['width']), max(X['width']), 20)\n",
    "x2_range = np.linspace(min(X['shoe_size']), max(X['shoe_size']), 20)\n",
    "x1_mesh, x2_mesh = np.meshgrid(x1_range, x2_range)\n",
    "y_mesh = lr_first.predict(np.vstack((x1_mesh.ravel(), x2_mesh.ravel())).T).reshape(x1_mesh.shape)\n",
    "\n",
    "# Crear scatterplot 3D de los puntos\n",
    "scatter = go.Scatter3d(\n",
    "    x=X['width'], y=X['shoe_size'], z=y,\n",
    "    mode='markers',\n",
    "    marker=dict(size=8, color='red')\n",
    ")\n",
    "\n",
    "# Crear el plano de regresión\n",
    "surface = go.Surface(\n",
    "    x=x1_mesh, y=x2_mesh, z=y_mesh,\n",
    "    colorscale='Viridis', opacity=0.5\n",
    ")\n",
    "\n",
    "# Configuración del layout\n",
    "layout = go.Layout(\n",
    "    title=f\"REGRESION<br>R2: {r2_score(y_test_f, pred_first)} RMSE: {root_mean_squared_error(y_test_f, pred_first)}\",\n",
    "    scene=dict(\n",
    "        xaxis_title='Variable X1',\n",
    "        yaxis_title='Variable X2',\n",
    "        zaxis_title='Variable Y'\n",
    "    )\n",
    ")\n",
    "\n",
    "# Crear la figura\n",
    "fig = go.Figure(data=[scatter, surface], layout=layout)\n",
    "\n",
    "# Mostrar la figura interactiva\n",
    "fig.show()\n"
   ]
  },
  {
   "cell_type": "markdown",
   "metadata": {},
   "source": [
    "**¿Por qué seleccionaste ese modelo?**\n",
    "\n",
    "Al tener pocos datos decidimos hacer una regresión simple ya que es un modelo fácil de interpretar y de aplicar. Modelos más complejos pueden sobreajustar los datos sobretodo con la poca cantidad de datos que hay."
   ]
  },
  {
   "cell_type": "markdown",
   "metadata": {},
   "source": [
    "**¿Utilizaste alguna regularización?**\n",
    "\n",
    "No, se hizo una regresión lineal simple, sin regularización."
   ]
  },
  {
   "cell_type": "markdown",
   "metadata": {},
   "source": [
    "## Parte 2"
   ]
  },
  {
   "cell_type": "markdown",
   "metadata": {},
   "source": [
    "### Modelo Iteso"
   ]
  },
  {
   "cell_type": "code",
   "execution_count": 64,
   "metadata": {},
   "outputs": [],
   "source": [
    "path = \"datos_gente_1.csv\"\n",
    "\n",
    "df_comb = pd.read_csv(path)"
   ]
  },
  {
   "cell_type": "code",
   "execution_count": 65,
   "metadata": {},
   "outputs": [
    {
     "data": {
      "text/plain": [
       "array([[<Axes: title={'center': 'height'}>,\n",
       "        <Axes: title={'center': 'width'}>],\n",
       "       [<Axes: title={'center': 'shoe_size'}>, <Axes: >]], dtype=object)"
      ]
     },
     "execution_count": 65,
     "metadata": {},
     "output_type": "execute_result"
    },
    {
     "data": {
      "image/png": "[encoded data removed]",
      "text/plain": [
       "<Figure size 640x480 with 4 Axes>"
      ]
     },
     "metadata": {},
     "output_type": "display_data"
    }
   ],
   "source": [
    "df_comb.hist(bins=20)"
   ]
  },
  {
   "cell_type": "code",
   "execution_count": 66,
   "metadata": {},
   "outputs": [],
   "source": [
    "X = df_comb[[\"width\", \"shoe_size\"]]\n",
    "y = df_comb[\"height\"]"
   ]
  },
  {
   "cell_type": "code",
   "execution_count": 67,
   "metadata": {},
   "outputs": [
    {
     "data": {
      "text/plain": [
       "<matplotlib.collections.PathCollection at 0x18e1f66d010>"
      ]
     },
     "execution_count": 67,
     "metadata": {},
     "output_type": "execute_result"
    },
    {
     "data": {
      "image/png": "[encoded data removed]",
      "text/plain": [
       "<Figure size 640x480 with 1 Axes>"
      ]
     },
     "metadata": {},
     "output_type": "display_data"
    }
   ],
   "source": [
    "plt.scatter(df_comb[\"shoe_size\"], df_comb[\"height\"])"
   ]
  },
  {
   "cell_type": "code",
   "execution_count": 68,
   "metadata": {},
   "outputs": [
    {
     "name": "stdout",
     "output_type": "stream",
     "text": [
      "165\n",
      "175.0\n"
     ]
    }
   ],
   "source": [
    "q25 = 165\n",
    "q75 = np.quantile(y, 0.75)\n",
    "\n",
    "print(q25)\n",
    "print(q75)\n",
    "\n",
    "df_left = df_comb[df_comb[\"height\"] <= q25]\n",
    "df_right = df_comb[df_comb[\"height\"] >= q75]\n",
    "df_center = df_comb[(df_comb[\"height\"] >= q25) & (df_comb[\"height\"] <= q75)] "
   ]
  },
  {
   "cell_type": "code",
   "execution_count": 69,
   "metadata": {},
   "outputs": [],
   "source": [
    "def sintetizar_datos(df_a_combinar, df_new):\n",
    "    X_left = df_new[[\"width\", \"shoe_size\"]]\n",
    "    y_left = df_new[\"height\"]\n",
    "\n",
    "    w_m = np.mean(df_new[\"width\"])\n",
    "    s_m = np.mean(df_new[\"shoe_size\"])\n",
    "    h_m = np.mean(df_new[\"height\"])\n",
    "\n",
    "    w_s = np.std(df_new[\"width\"])\n",
    "    s_s = np.std(df_new[\"shoe_size\"])\n",
    "    h_s = np.std(df_new[\"height\"])\n",
    "\n",
    "    new_data_w = np.random.normal(loc=w_m, scale=w_s, size=100)\n",
    "    new_data_s = np.random.normal(loc=s_m, scale=s_s, size=100)\n",
    "    new_data_h = np.random.normal(loc=h_m, scale=h_s, size=100)\n",
    "\n",
    "    new_sorted_w = sorted(new_data_w)\n",
    "    new_sorted_s = sorted(new_data_s)\n",
    "    new_sorted_h = sorted(new_data_h)\n",
    "\n",
    "    df_new_1 = pd.DataFrame({\n",
    "        \"width\": new_sorted_w,\n",
    "        \"shoe_size\": new_sorted_s,\n",
    "        \"height\": new_sorted_h\n",
    "    })\n",
    "\n",
    "    df_new_1 = df_new_1.apply(lambda x: round(x, 0))\n",
    "\n",
    "    df_a_combinar = pd.concat([df_a_combinar, df_new_1])\n",
    "    return df_a_combinar"
   ]
  },
  {
   "cell_type": "code",
   "execution_count": 70,
   "metadata": {},
   "outputs": [],
   "source": [
    "data_left = sintetizar_datos(df_comb, df_left)\n",
    "data_right = sintetizar_datos(df_comb, df_right)"
   ]
  },
  {
   "cell_type": "code",
   "execution_count": 71,
   "metadata": {},
   "outputs": [
    {
     "data": {
      "text/plain": [
       "167.8639013270084"
      ]
     },
     "execution_count": 71,
     "metadata": {},
     "output_type": "execute_result"
    }
   ],
   "source": [
    "data_left.mean().iloc[0] + (data_left.std().iloc[0] / 2)"
   ]
  },
  {
   "cell_type": "code",
   "execution_count": 72,
   "metadata": {},
   "outputs": [
    {
     "data": {
      "text/plain": [
       "(array([[<Axes: title={'center': 'height'}>,\n",
       "         <Axes: title={'center': 'width'}>],\n",
       "        [<Axes: title={'center': 'shoe_size'}>, <Axes: >]], dtype=object),\n",
       " array([[<Axes: title={'center': 'height'}>,\n",
       "         <Axes: title={'center': 'width'}>],\n",
       "        [<Axes: title={'center': 'shoe_size'}>, <Axes: >]], dtype=object),\n",
       " array([[<Axes: title={'center': 'height'}>,\n",
       "         <Axes: title={'center': 'width'}>],\n",
       "        [<Axes: title={'center': 'shoe_size'}>, <Axes: >]], dtype=object))"
      ]
     },
     "execution_count": 72,
     "metadata": {},
     "output_type": "execute_result"
    },
    {
     "data": {
      "image/png": "[encoded data removed]",
      "text/plain": [
       "<Figure size 640x480 with 4 Axes>"
      ]
     },
     "metadata": {},
     "output_type": "display_data"
    },
    {
     "data": {
      "image/png": "[encoded data removed]",
      "text/plain": [
       "<Figure size 640x480 with 4 Axes>"
      ]
     },
     "metadata": {},
     "output_type": "display_data"
    },
    {
     "data": {
      "image/png": "[encoded data removed]",
      "text/plain": [
       "<Figure size 640x480 with 4 Axes>"
      ]
     },
     "metadata": {},
     "output_type": "display_data"
    }
   ],
   "source": [
    "data_left.hist(), data_right.hist(), df_center.hist()"
   ]
  },
  {
   "cell_type": "code",
   "execution_count": 73,
   "metadata": {},
   "outputs": [],
   "source": [
    "x_train_left, x_test_left, y_train_left, y_test_left = train_test_split(data_left.drop(\"height\", axis=1), data_left[\"height\"], test_size= 0.2, random_state=55)\n",
    "x_train_right, x_test_right, y_train_right, y_test_right = train_test_split(data_right.drop(\"height\", axis=1), data_right[\"height\"], test_size= 0.2, random_state=55)\n",
    "x_train_center, x_test_center, y_train_center, y_test_center = train_test_split(df_comb.drop(\"height\", axis=1), df_comb[\"height\"], test_size= 0.2, random_state=55)"
   ]
  },
  {
   "cell_type": "code",
   "execution_count": 74,
   "metadata": {},
   "outputs": [],
   "source": [
    "ss_left = StandardScaler()\n",
    "ss_right = StandardScaler()\n",
    "ss_center = StandardScaler()\n",
    "\n",
    "\n",
    "X_train_s_left = ss_left.fit_transform(x_train_left)\n",
    "X_test_s_left = ss_left.transform(x_test_left)\n",
    "\n",
    "X_train_s_right = ss_right.fit_transform(x_train_right)\n",
    "X_test_s_right = ss_right.transform(x_test_right)\n",
    "\n",
    "X_train_s_center = ss_center.fit_transform(x_train_center)\n",
    "X_test_s_center = ss_center.transform(x_test_center)"
   ]
  },
  {
   "cell_type": "markdown",
   "metadata": {},
   "source": [
    "### Right model\n",
    "\n",
    "Aqui se crea el modelo que predice de manera más adecuada los valores de la derecha"
   ]
  },
  {
   "cell_type": "code",
   "execution_count": 75,
   "metadata": {},
   "outputs": [
    {
     "name": "stdout",
     "output_type": "stream",
     "text": [
      "R2: 0.8151670878597785 RMSE: 3.508936699654605\n"
     ]
    }
   ],
   "source": [
    "rg_r = Ridge(alpha = 10)\n",
    "rg_r.fit(X_train_s_right, y_train_right)\n",
    "r_pred_right = rg_r.predict(X_test_s_right)\n",
    "print(f\"R2: {r2_score(y_test_right, r_pred_right)} RMSE: {root_mean_squared_error(y_test_right, r_pred_right)}\")"
   ]
  },
  {
   "cell_type": "code",
   "execution_count": 76,
   "metadata": {},
   "outputs": [
    {
     "name": "stdout",
     "output_type": "stream",
     "text": [
      "Pendientes: [2.29952324 6.17045731]\n",
      "Intercepto: 174.2214765100671\n"
     ]
    }
   ],
   "source": [
    "print(f\"Pendientes: {rg_r.coef_}\")\n",
    "print(f\"Intercepto: {rg_r.intercept_}\")"
   ]
  },
  {
   "cell_type": "code",
   "execution_count": 77,
   "metadata": {},
   "outputs": [
    {
     "name": "stderr",
     "output_type": "stream",
     "text": [
      "c:\\Users\\Roi_f\\anaconda3\\envs\\personal\\Lib\\site-packages\\sklearn\\base.py:493: UserWarning:\n",
      "\n",
      "X does not have valid feature names, but StandardScaler was fitted with feature names\n",
      "\n"
     ]
    }
   ],
   "source": [
    "values_para_right = ss_right.transform([[36,22.5]])"
   ]
  },
  {
   "cell_type": "code",
   "execution_count": 78,
   "metadata": {},
   "outputs": [
    {
     "data": {
      "text/plain": [
       "array([155.60841706])"
      ]
     },
     "execution_count": 78,
     "metadata": {},
     "output_type": "execute_result"
    }
   ],
   "source": [
    "rg_r.predict(values_para_right)"
   ]
  },
  {
   "cell_type": "code",
   "execution_count": 79,
   "metadata": {},
   "outputs": [
    {
     "name": "stderr",
     "output_type": "stream",
     "text": [
      "c:\\Users\\Roi_f\\anaconda3\\envs\\personal\\Lib\\site-packages\\sklearn\\base.py:493: UserWarning:\n",
      "\n",
      "X does not have valid feature names, but StandardScaler was fitted with feature names\n",
      "\n"
     ]
    },
    {
     "data": {
      "application/vnd.plotly.v1+json": {
       "config": {
        "plotlyServerURL": "https://plot.ly"
       },
       "data": [
        {
         "marker": {
          "color": "red",
          "opacity": 0.7,
          "size": 8
         },
         "mode": "markers",
         "type": "scatter3d",
         "x": [
          46,
          50,
          56,
          53,
          51,
          51,
          47,
          47,
          36,
          51,
          42,
          48,
          51,
          44,
          44,
          39,
          51,
          36,
          43,
          57,
          42,
          51,
          41,
          49,
          45,
          48,
          47,
          48,
          42,
          51,
          48,
          51,
          50,
          61,
          48,
          49,
          42,
          54
         ],
         "y": [
          27,
          28,
          30,
          29,
          29,
          28,
          27,
          27,
          23,
          28,
          26,
          28,
          29,
          27,
          27,
          24.5,
          29,
          22.5,
          28,
          30,
          27,
          29,
          23.5,
          28,
          27.5,
          28,
          27,
          27,
          28,
          28,
          28,
          28,
          28,
          26,
          28,
          27,
          26,
          29
         ],
         "z": [
          177,
          173,
          188,
          186,
          184,
          182,
          177,
          178,
          164,
          182,
          170,
          179,
          184,
          175,
          175,
          166,
          184,
          153,
          182,
          189,
          177,
          184,
          153,
          180,
          172,
          179,
          168,
          172,
          177,
          182,
          179,
          182,
          181,
          168,
          179,
          176,
          173,
          186
         ]
        },
        {
         "colorscale": [
          [
           0,
           "#440154"
          ],
          [
           0.1111111111111111,
           "#482878"
          ],
          [
           0.2222222222222222,
           "#3e4989"
          ],
          [
           0.3333333333333333,
           "#31688e"
          ],
          [
           0.4444444444444444,
           "#26828e"
          ],
          [
           0.5555555555555556,
           "#1f9e89"
          ],
          [
           0.6666666666666666,
           "#35b779"
          ],
          [
           0.7777777777777778,
           "#6ece58"
          ],
          [
           0.8888888888888888,
           "#b5de2b"
          ],
          [
           1,
           "#fde725"
          ]
         ],
         "opacity": 0.5,
         "type": "surface",
         "x": [
          [
           33,
           34.31578947368421,
           35.631578947368425,
           36.94736842105263,
           38.26315789473684,
           39.578947368421055,
           40.89473684210526,
           42.21052631578947,
           43.526315789473685,
           44.8421052631579,
           46.15789473684211,
           47.473684210526315,
           48.78947368421053,
           50.10526315789474,
           51.421052631578945,
           52.73684210526316,
           54.05263157894737,
           55.36842105263158,
           56.684210526315795,
           58
          ],
          [
           33,
           34.31578947368421,
           35.631578947368425,
           36.94736842105263,
           38.26315789473684,
           39.578947368421055,
           40.89473684210526,
           42.21052631578947,
           43.526315789473685,
           44.8421052631579,
           46.15789473684211,
           47.473684210526315,
           48.78947368421053,
           50.10526315789474,
           51.421052631578945,
           52.73684210526316,
           54.05263157894737,
           55.36842105263158,
           56.684210526315795,
           58
          ],
          [
           33,
           34.31578947368421,
           35.631578947368425,
           36.94736842105263,
           38.26315789473684,
           39.578947368421055,
           40.89473684210526,
           42.21052631578947,
           43.526315789473685,
           44.8421052631579,
           46.15789473684211,
           47.473684210526315,
           48.78947368421053,
           50.10526315789474,
           51.421052631578945,
           52.73684210526316,
           54.05263157894737,
           55.36842105263158,
           56.684210526315795,
           58
          ],
          [
           33,
           34.31578947368421,
           35.631578947368425,
           36.94736842105263,
           38.26315789473684,
           39.578947368421055,
           40.89473684210526,
           42.21052631578947,
           43.526315789473685,
           44.8421052631579,
           46.15789473684211,
           47.473684210526315,
           48.78947368421053,
           50.10526315789474,
           51.421052631578945,
           52.73684210526316,
           54.05263157894737,
           55.36842105263158,
           56.684210526315795,
           58
          ],
          [
           33,
           34.31578947368421,
           35.631578947368425,
           36.94736842105263,
           38.26315789473684,
           39.578947368421055,
           40.89473684210526,
           42.21052631578947,
           43.526315789473685,
           44.8421052631579,
           46.15789473684211,
           47.473684210526315,
           48.78947368421053,
           50.10526315789474,
           51.421052631578945,
           52.73684210526316,
           54.05263157894737,
           55.36842105263158,
           56.684210526315795,
           58
          ],
          [
           33,
           34.31578947368421,
           35.631578947368425,
           36.94736842105263,
           38.26315789473684,
           39.578947368421055,
           40.89473684210526,
           42.21052631578947,
           43.526315789473685,
           44.8421052631579,
           46.15789473684211,
           47.473684210526315,
           48.78947368421053,
           50.10526315789474,
           51.421052631578945,
           52.73684210526316,
           54.05263157894737,
           55.36842105263158,
           56.684210526315795,
           58
          ],
          [
           33,
           34.31578947368421,
           35.631578947368425,
           36.94736842105263,
           38.26315789473684,
           39.578947368421055,
           40.89473684210526,
           42.21052631578947,
           43.526315789473685,
           44.8421052631579,
           46.15789473684211,
           47.473684210526315,
           48.78947368421053,
           50.10526315789474,
           51.421052631578945,
           52.73684210526316,
           54.05263157894737,
           55.36842105263158,
           56.684210526315795,
           58
          ],
          [
           33,
           34.31578947368421,
           35.631578947368425,
           36.94736842105263,
           38.26315789473684,
           39.578947368421055,
           40.89473684210526,
           42.21052631578947,
           43.526315789473685,
           44.8421052631579,
           46.15789473684211,
           47.473684210526315,
           48.78947368421053,
           50.10526315789474,
           51.421052631578945,
           52.73684210526316,
           54.05263157894737,
           55.36842105263158,
           56.684210526315795,
           58
          ],
          [
           33,
           34.31578947368421,
           35.631578947368425,
           36.94736842105263,
           38.26315789473684,
           39.578947368421055,
           40.89473684210526,
           42.21052631578947,
           43.526315789473685,
           44.8421052631579,
           46.15789473684211,
           47.473684210526315,
           48.78947368421053,
           50.10526315789474,
           51.421052631578945,
           52.73684210526316,
           54.05263157894737,
           55.36842105263158,
           56.684210526315795,
           58
          ],
          [
           33,
           34.31578947368421,
           35.631578947368425,
           36.94736842105263,
           38.26315789473684,
           39.578947368421055,
           40.89473684210526,
           42.21052631578947,
           43.526315789473685,
           44.8421052631579,
           46.15789473684211,
           47.473684210526315,
           48.78947368421053,
           50.10526315789474,
           51.421052631578945,
           52.73684210526316,
           54.05263157894737,
           55.36842105263158,
           56.684210526315795,
           58
          ],
          [
           33,
           34.31578947368421,
           35.631578947368425,
           36.94736842105263,
           38.26315789473684,
           39.578947368421055,
           40.89473684210526,
           42.21052631578947,
           43.526315789473685,
           44.8421052631579,
           46.15789473684211,
           47.473684210526315,
           48.78947368421053,
           50.10526315789474,
           51.421052631578945,
           52.73684210526316,
           54.05263157894737,
           55.36842105263158,
           56.684210526315795,
           58
          ],
          [
           33,
           34.31578947368421,
           35.631578947368425,
           36.94736842105263,
           38.26315789473684,
           39.578947368421055,
           40.89473684210526,
           42.21052631578947,
           43.526315789473685,
           44.8421052631579,
           46.15789473684211,
           47.473684210526315,
           48.78947368421053,
           50.10526315789474,
           51.421052631578945,
           52.73684210526316,
           54.05263157894737,
           55.36842105263158,
           56.684210526315795,
           58
          ],
          [
           33,
           34.31578947368421,
           35.631578947368425,
           36.94736842105263,
           38.26315789473684,
           39.578947368421055,
           40.89473684210526,
           42.21052631578947,
           43.526315789473685,
           44.8421052631579,
           46.15789473684211,
           47.473684210526315,
           48.78947368421053,
           50.10526315789474,
           51.421052631578945,
           52.73684210526316,
           54.05263157894737,
           55.36842105263158,
           56.684210526315795,
           58
          ],
          [
           33,
           34.31578947368421,
           35.631578947368425,
           36.94736842105263,
           38.26315789473684,
           39.578947368421055,
           40.89473684210526,
           42.21052631578947,
           43.526315789473685,
           44.8421052631579,
           46.15789473684211,
           47.473684210526315,
           48.78947368421053,
           50.10526315789474,
           51.421052631578945,
           52.73684210526316,
           54.05263157894737,
           55.36842105263158,
           56.684210526315795,
           58
          ],
          [
           33,
           34.31578947368421,
           35.631578947368425,
           36.94736842105263,
           38.26315789473684,
           39.578947368421055,
           40.89473684210526,
           42.21052631578947,
           43.526315789473685,
           44.8421052631579,
           46.15789473684211,
           47.473684210526315,
           48.78947368421053,
           50.10526315789474,
           51.421052631578945,
           52.73684210526316,
           54.05263157894737,
           55.36842105263158,
           56.684210526315795,
           58
          ],
          [
           33,
           34.31578947368421,
           35.631578947368425,
           36.94736842105263,
           38.26315789473684,
           39.578947368421055,
           40.89473684210526,
           42.21052631578947,
           43.526315789473685,
           44.8421052631579,
           46.15789473684211,
           47.473684210526315,
           48.78947368421053,
           50.10526315789474,
           51.421052631578945,
           52.73684210526316,
           54.05263157894737,
           55.36842105263158,
           56.684210526315795,
           58
          ],
          [
           33,
           34.31578947368421,
           35.631578947368425,
           36.94736842105263,
           38.26315789473684,
           39.578947368421055,
           40.89473684210526,
           42.21052631578947,
           43.526315789473685,
           44.8421052631579,
           46.15789473684211,
           47.473684210526315,
           48.78947368421053,
           50.10526315789474,
           51.421052631578945,
           52.73684210526316,
           54.05263157894737,
           55.36842105263158,
           56.684210526315795,
           58
          ],
          [
           33,
           34.31578947368421,
           35.631578947368425,
           36.94736842105263,
           38.26315789473684,
           39.578947368421055,
           40.89473684210526,
           42.21052631578947,
           43.526315789473685,
           44.8421052631579,
           46.15789473684211,
           47.473684210526315,
           48.78947368421053,
           50.10526315789474,
           51.421052631578945,
           52.73684210526316,
           54.05263157894737,
           55.36842105263158,
           56.684210526315795,
           58
          ],
          [
           33,
           34.31578947368421,
           35.631578947368425,
           36.94736842105263,
           38.26315789473684,
           39.578947368421055,
           40.89473684210526,
           42.21052631578947,
           43.526315789473685,
           44.8421052631579,
           46.15789473684211,
           47.473684210526315,
           48.78947368421053,
           50.10526315789474,
           51.421052631578945,
           52.73684210526316,
           54.05263157894737,
           55.36842105263158,
           56.684210526315795,
           58
          ],
          [
           33,
           34.31578947368421,
           35.631578947368425,
           36.94736842105263,
           38.26315789473684,
           39.578947368421055,
           40.89473684210526,
           42.21052631578947,
           43.526315789473685,
           44.8421052631579,
           46.15789473684211,
           47.473684210526315,
           48.78947368421053,
           50.10526315789474,
           51.421052631578945,
           52.73684210526316,
           54.05263157894737,
           55.36842105263158,
           56.684210526315795,
           58
          ]
         ],
         "y": [
          [
           22,
           22,
           22,
           22,
           22,
           22,
           22,
           22,
           22,
           22,
           22,
           22,
           22,
           22,
           22,
           22,
           22,
           22,
           22,
           22
          ],
          [
           22.42105263157895,
           22.42105263157895,
           22.42105263157895,
           22.42105263157895,
           22.42105263157895,
           22.42105263157895,
           22.42105263157895,
           22.42105263157895,
           22.42105263157895,
           22.42105263157895,
           22.42105263157895,
           22.42105263157895,
           22.42105263157895,
           22.42105263157895,
           22.42105263157895,
           22.42105263157895,
           22.42105263157895,
           22.42105263157895,
           22.42105263157895,
           22.42105263157895
          ],
          [
           22.842105263157894,
           22.842105263157894,
           22.842105263157894,
           22.842105263157894,
           22.842105263157894,
           22.842105263157894,
           22.842105263157894,
           22.842105263157894,
           22.842105263157894,
           22.842105263157894,
           22.842105263157894,
           22.842105263157894,
           22.842105263157894,
           22.842105263157894,
           22.842105263157894,
           22.842105263157894,
           22.842105263157894,
           22.842105263157894,
           22.842105263157894,
           22.842105263157894
          ],
          [
           23.263157894736842,
           23.263157894736842,
           23.263157894736842,
           23.263157894736842,
           23.263157894736842,
           23.263157894736842,
           23.263157894736842,
           23.263157894736842,
           23.263157894736842,
           23.263157894736842,
           23.263157894736842,
           23.263157894736842,
           23.263157894736842,
           23.263157894736842,
           23.263157894736842,
           23.263157894736842,
           23.263157894736842,
           23.263157894736842,
           23.263157894736842,
           23.263157894736842
          ],
          [
           23.684210526315788,
           23.684210526315788,
           23.684210526315788,
           23.684210526315788,
           23.684210526315788,
           23.684210526315788,
           23.684210526315788,
           23.684210526315788,
           23.684210526315788,
           23.684210526315788,
           23.684210526315788,
           23.684210526315788,
           23.684210526315788,
           23.684210526315788,
           23.684210526315788,
           23.684210526315788,
           23.684210526315788,
           23.684210526315788,
           23.684210526315788,
           23.684210526315788
          ],
          [
           24.105263157894736,
           24.105263157894736,
           24.105263157894736,
           24.105263157894736,
           24.105263157894736,
           24.105263157894736,
           24.105263157894736,
           24.105263157894736,
           24.105263157894736,
           24.105263157894736,
           24.105263157894736,
           24.105263157894736,
           24.105263157894736,
           24.105263157894736,
           24.105263157894736,
           24.105263157894736,
           24.105263157894736,
           24.105263157894736,
           24.105263157894736,
           24.105263157894736
          ],
          [
           24.526315789473685,
           24.526315789473685,
           24.526315789473685,
           24.526315789473685,
           24.526315789473685,
           24.526315789473685,
           24.526315789473685,
           24.526315789473685,
           24.526315789473685,
           24.526315789473685,
           24.526315789473685,
           24.526315789473685,
           24.526315789473685,
           24.526315789473685,
           24.526315789473685,
           24.526315789473685,
           24.526315789473685,
           24.526315789473685,
           24.526315789473685,
           24.526315789473685
          ],
          [
           24.94736842105263,
           24.94736842105263,
           24.94736842105263,
           24.94736842105263,
           24.94736842105263,
           24.94736842105263,
           24.94736842105263,
           24.94736842105263,
           24.94736842105263,
           24.94736842105263,
           24.94736842105263,
           24.94736842105263,
           24.94736842105263,
           24.94736842105263,
           24.94736842105263,
           24.94736842105263,
           24.94736842105263,
           24.94736842105263,
           24.94736842105263,
           24.94736842105263
          ],
          [
           25.36842105263158,
           25.36842105263158,
           25.36842105263158,
           25.36842105263158,
           25.36842105263158,
           25.36842105263158,
           25.36842105263158,
           25.36842105263158,
           25.36842105263158,
           25.36842105263158,
           25.36842105263158,
           25.36842105263158,
           25.36842105263158,
           25.36842105263158,
           25.36842105263158,
           25.36842105263158,
           25.36842105263158,
           25.36842105263158,
           25.36842105263158,
           25.36842105263158
          ],
          [
           25.789473684210527,
           25.789473684210527,
           25.789473684210527,
           25.789473684210527,
           25.789473684210527,
           25.789473684210527,
           25.789473684210527,
           25.789473684210527,
           25.789473684210527,
           25.789473684210527,
           25.789473684210527,
           25.789473684210527,
           25.789473684210527,
           25.789473684210527,
           25.789473684210527,
           25.789473684210527,
           25.789473684210527,
           25.789473684210527,
           25.789473684210527,
           25.789473684210527
          ],
          [
           26.210526315789473,
           26.210526315789473,
           26.210526315789473,
           26.210526315789473,
           26.210526315789473,
           26.210526315789473,
           26.210526315789473,
           26.210526315789473,
           26.210526315789473,
           26.210526315789473,
           26.210526315789473,
           26.210526315789473,
           26.210526315789473,
           26.210526315789473,
           26.210526315789473,
           26.210526315789473,
           26.210526315789473,
           26.210526315789473,
           26.210526315789473,
           26.210526315789473
          ],
          [
           26.63157894736842,
           26.63157894736842,
           26.63157894736842,
           26.63157894736842,
           26.63157894736842,
           26.63157894736842,
           26.63157894736842,
           26.63157894736842,
           26.63157894736842,
           26.63157894736842,
           26.63157894736842,
           26.63157894736842,
           26.63157894736842,
           26.63157894736842,
           26.63157894736842,
           26.63157894736842,
           26.63157894736842,
           26.63157894736842,
           26.63157894736842,
           26.63157894736842
          ],
          [
           27.05263157894737,
           27.05263157894737,
           27.05263157894737,
           27.05263157894737,
           27.05263157894737,
           27.05263157894737,
           27.05263157894737,
           27.05263157894737,
           27.05263157894737,
           27.05263157894737,
           27.05263157894737,
           27.05263157894737,
           27.05263157894737,
           27.05263157894737,
           27.05263157894737,
           27.05263157894737,
           27.05263157894737,
           27.05263157894737,
           27.05263157894737,
           27.05263157894737
          ],
          [
           27.473684210526315,
           27.473684210526315,
           27.473684210526315,
           27.473684210526315,
           27.473684210526315,
           27.473684210526315,
           27.473684210526315,
           27.473684210526315,
           27.473684210526315,
           27.473684210526315,
           27.473684210526315,
           27.473684210526315,
           27.473684210526315,
           27.473684210526315,
           27.473684210526315,
           27.473684210526315,
           27.473684210526315,
           27.473684210526315,
           27.473684210526315,
           27.473684210526315
          ],
          [
           27.894736842105264,
           27.894736842105264,
           27.894736842105264,
           27.894736842105264,
           27.894736842105264,
           27.894736842105264,
           27.894736842105264,
           27.894736842105264,
           27.894736842105264,
           27.894736842105264,
           27.894736842105264,
           27.894736842105264,
           27.894736842105264,
           27.894736842105264,
           27.894736842105264,
           27.894736842105264,
           27.894736842105264,
           27.894736842105264,
           27.894736842105264,
           27.894736842105264
          ],
          [
           28.315789473684212,
           28.315789473684212,
           28.315789473684212,
           28.315789473684212,
           28.315789473684212,
           28.315789473684212,
           28.315789473684212,
           28.315789473684212,
           28.315789473684212,
           28.315789473684212,
           28.315789473684212,
           28.315789473684212,
           28.315789473684212,
           28.315789473684212,
           28.315789473684212,
           28.315789473684212,
           28.315789473684212,
           28.315789473684212,
           28.315789473684212,
           28.315789473684212
          ],
          [
           28.736842105263158,
           28.736842105263158,
           28.736842105263158,
           28.736842105263158,
           28.736842105263158,
           28.736842105263158,
           28.736842105263158,
           28.736842105263158,
           28.736842105263158,
           28.736842105263158,
           28.736842105263158,
           28.736842105263158,
           28.736842105263158,
           28.736842105263158,
           28.736842105263158,
           28.736842105263158,
           28.736842105263158,
           28.736842105263158,
           28.736842105263158,
           28.736842105263158
          ],
          [
           29.157894736842103,
           29.157894736842103,
           29.157894736842103,
           29.157894736842103,
           29.157894736842103,
           29.157894736842103,
           29.157894736842103,
           29.157894736842103,
           29.157894736842103,
           29.157894736842103,
           29.157894736842103,
           29.157894736842103,
           29.157894736842103,
           29.157894736842103,
           29.157894736842103,
           29.157894736842103,
           29.157894736842103,
           29.157894736842103,
           29.157894736842103,
           29.157894736842103
          ],
          [
           29.57894736842105,
           29.57894736842105,
           29.57894736842105,
           29.57894736842105,
           29.57894736842105,
           29.57894736842105,
           29.57894736842105,
           29.57894736842105,
           29.57894736842105,
           29.57894736842105,
           29.57894736842105,
           29.57894736842105,
           29.57894736842105,
           29.57894736842105,
           29.57894736842105,
           29.57894736842105,
           29.57894736842105,
           29.57894736842105,
           29.57894736842105,
           29.57894736842105
          ],
          [
           30,
           30,
           30,
           30,
           30,
           30,
           30,
           30,
           30,
           30,
           30,
           30,
           30,
           30,
           30,
           30,
           30,
           30,
           30,
           30
          ]
         ],
         "z": [
          [
           152.54345942312585,
           153.17215839946385,
           153.80085737580185,
           154.42955635213985,
           155.05825532847786,
           155.68695430481586,
           156.31565328115386,
           156.94435225749186,
           157.57305123382986,
           158.20175021016786,
           158.83044918650583,
           159.45914816284383,
           160.08784713918183,
           160.71654611551983,
           161.34524509185783,
           161.97394406819583,
           162.60264304453383,
           163.23134202087184,
           163.86004099720984,
           164.48873997354784
          ],
          [
           153.9173743464513,
           154.5460733227893,
           155.1747722991273,
           155.8034712754653,
           156.4321702518033,
           157.0608692281413,
           157.68956820447931,
           158.31826718081732,
           158.94696615715532,
           159.57566513349332,
           160.20436410983132,
           160.8330630861693,
           161.4617620625073,
           162.0904610388453,
           162.7191600151833,
           163.3478589915213,
           163.9765579678593,
           164.6052569441973,
           165.2339559205353,
           165.8626548968733
          ],
          [
           155.29128926977677,
           155.91998824611477,
           156.54868722245277,
           157.17738619879077,
           157.80608517512877,
           158.43478415146674,
           159.06348312780474,
           159.69218210414274,
           160.32088108048075,
           160.94958005681875,
           161.57827903315675,
           162.20697800949475,
           162.83567698583275,
           163.46437596217075,
           164.09307493850875,
           164.72177391484675,
           165.35047289118475,
           165.97917186752275,
           166.60787084386075,
           167.23656982019872
          ],
          [
           156.66520419310223,
           157.29390316944023,
           157.92260214577823,
           158.55130112211623,
           159.18000009845423,
           159.80869907479223,
           160.4373980511302,
           161.0660970274682,
           161.6947960038062,
           162.3234949801442,
           162.9521939564822,
           163.5808929328202,
           164.2095919091582,
           164.8382908854962,
           165.4669898618342,
           166.0956888381722,
           166.7243878145102,
           167.3530867908482,
           167.9817857671862,
           168.6104847435242
          ],
          [
           158.03911911642768,
           158.66781809276566,
           159.29651706910366,
           159.92521604544166,
           160.55391502177966,
           161.18261399811766,
           161.81131297445566,
           162.44001195079366,
           163.06871092713166,
           163.69740990346966,
           164.32610887980766,
           164.95480785614566,
           165.58350683248366,
           166.21220580882166,
           166.84090478515967,
           167.46960376149764,
           168.09830273783564,
           168.72700171417364,
           169.35570069051164,
           169.98439966684964
          ],
          [
           159.41303403975314,
           160.04173301609114,
           160.67043199242914,
           161.29913096876712,
           161.92782994510512,
           162.55652892144312,
           163.18522789778112,
           163.81392687411912,
           164.44262585045712,
           165.07132482679512,
           165.70002380313312,
           166.32872277947112,
           166.95742175580912,
           167.58612073214712,
           168.21481970848512,
           168.84351868482312,
           169.47221766116112,
           170.1009166374991,
           170.7296156138371,
           171.3583145901751
          ],
          [
           160.7869489630786,
           161.4156479394166,
           162.0443469157546,
           162.67304589209257,
           163.30174486843057,
           163.93044384476858,
           164.55914282110658,
           165.18784179744458,
           165.81654077378258,
           166.44523975012058,
           167.07393872645858,
           167.70263770279658,
           168.33133667913458,
           168.96003565547258,
           169.58873463181058,
           170.21743360814858,
           170.84613258448658,
           171.47483156082458,
           172.10353053716258,
           172.73222951350056
          ],
          [
           162.16086388640403,
           162.78956286274203,
           163.41826183908003,
           164.04696081541803,
           164.67565979175603,
           165.30435876809403,
           165.93305774443203,
           166.56175672077003,
           167.19045569710804,
           167.81915467344604,
           168.44785364978404,
           169.07655262612204,
           169.70525160246004,
           170.333950578798,
           170.962649555136,
           171.591348531474,
           172.220047507812,
           172.84874648415,
           173.477445460488,
           174.106144436826
          ],
          [
           163.5347788097295,
           164.1634777860675,
           164.7921767624055,
           165.4208757387435,
           166.0495747150815,
           166.6782736914195,
           167.3069726677575,
           167.9356716440955,
           168.5643706204335,
           169.1930695967715,
           169.8217685731095,
           170.4504675494475,
           171.0791665257855,
           171.7078655021235,
           172.33656447846147,
           172.96526345479947,
           173.59396243113747,
           174.22266140747547,
           174.85136038381347,
           175.48005936015147
          ],
          [
           164.90869373305497,
           165.53739270939295,
           166.16609168573095,
           166.79479066206895,
           167.42348963840695,
           168.05218861474495,
           168.68088759108295,
           169.30958656742095,
           169.93828554375895,
           170.56698452009695,
           171.19568349643495,
           171.82438247277295,
           172.45308144911095,
           173.08178042544895,
           173.71047940178693,
           174.33917837812493,
           174.96787735446293,
           175.59657633080093,
           176.22527530713893,
           176.85397428347693
          ],
          [
           166.2826086563804,
           166.9113076327184,
           167.5400066090564,
           168.1687055853944,
           168.7974045617324,
           169.4261035380704,
           170.0548025144084,
           170.6835014907464,
           171.3122004670844,
           171.9408994434224,
           172.5695984197604,
           173.19829739609838,
           173.82699637243638,
           174.45569534877438,
           175.08439432511238,
           175.71309330145039,
           176.3417922777884,
           176.9704912541264,
           177.5991902304644,
           178.2278892068024
          ],
          [
           167.65652357970586,
           168.28522255604386,
           168.91392153238186,
           169.54262050871986,
           170.17131948505786,
           170.80001846139587,
           171.42871743773387,
           172.05741641407187,
           172.68611539040987,
           173.31481436674787,
           173.94351334308587,
           174.57221231942384,
           175.20091129576184,
           175.82961027209984,
           176.45830924843784,
           177.08700822477584,
           177.71570720111384,
           178.34440617745184,
           178.97310515378985,
           179.60180413012785
          ],
          [
           169.03043850303132,
           169.65913747936932,
           170.28783645570732,
           170.91653543204532,
           171.54523440838332,
           172.17393338472132,
           172.80263236105932,
           173.43133133739732,
           174.06003031373533,
           174.68872929007333,
           175.31742826641133,
           175.94612724274933,
           176.57482621908733,
           177.2035251954253,
           177.8322241717633,
           178.4609231481013,
           179.0896221244393,
           179.7183211007773,
           180.3470200771153,
           180.9757190534533
          ],
          [
           170.40435342635678,
           171.03305240269478,
           171.66175137903278,
           172.29045035537078,
           172.91914933170878,
           173.54784830804678,
           174.17654728438478,
           174.80524626072275,
           175.43394523706075,
           176.06264421339876,
           176.69134318973676,
           177.32004216607476,
           177.94874114241276,
           178.57744011875076,
           179.20613909508876,
           179.83483807142676,
           180.46353704776476,
           181.09223602410276,
           181.72093500044076,
           182.34963397677876
          ],
          [
           171.77826834968224,
           172.40696732602024,
           173.03566630235824,
           173.66436527869624,
           174.29306425503424,
           174.92176323137224,
           175.55046220771024,
           176.17916118404824,
           176.80786016038624,
           177.4365591367242,
           178.0652581130622,
           178.69395708940021,
           179.32265606573822,
           179.95135504207622,
           180.58005401841422,
           181.20875299475222,
           181.83745197109022,
           182.46615094742822,
           183.09484992376622,
           183.72354890010422
          ],
          [
           173.1521832730077,
           173.7808822493457,
           174.4095812256837,
           175.0382802020217,
           175.6669791783597,
           176.2956781546977,
           176.9243771310357,
           177.5530761073737,
           178.1817750837117,
           178.8104740600497,
           179.4391730363877,
           180.06787201272567,
           180.69657098906367,
           181.32526996540167,
           181.95396894173967,
           182.58266791807768,
           183.21136689441568,
           183.84006587075368,
           184.46876484709168,
           185.09746382342968
          ],
          [
           174.52609819633315,
           175.15479717267115,
           175.78349614900915,
           176.41219512534715,
           177.04089410168513,
           177.66959307802313,
           178.29829205436113,
           178.92699103069913,
           179.55569000703713,
           180.18438898337513,
           180.81308795971313,
           181.44178693605113,
           182.07048591238913,
           182.69918488872713,
           183.32788386506513,
           183.95658284140313,
           184.58528181774113,
           185.21398079407913,
           185.84267977041713,
           186.47137874675514
          ],
          [
           175.90001311965858,
           176.52871209599658,
           177.15741107233458,
           177.78611004867258,
           178.41480902501058,
           179.04350800134858,
           179.67220697768659,
           180.30090595402459,
           180.9296049303626,
           181.5583039067006,
           182.1870028830386,
           182.8157018593766,
           183.4444008357146,
           184.0730998120526,
           184.70179878839056,
           185.33049776472856,
           185.95919674106656,
           186.58789571740456,
           187.21659469374256,
           187.84529367008057
          ],
          [
           177.27392804298407,
           177.90262701932204,
           178.53132599566004,
           179.16002497199804,
           179.78872394833604,
           180.41742292467404,
           181.04612190101204,
           181.67482087735004,
           182.30351985368804,
           182.93221883002604,
           183.56091780636405,
           184.18961678270205,
           184.81831575904005,
           185.44701473537805,
           186.07571371171605,
           186.70441268805405,
           187.33311166439205,
           187.96181064073002,
           188.59050961706802,
           189.21920859340602
          ],
          [
           178.64784296630953,
           179.27654194264753,
           179.90524091898553,
           180.5339398953235,
           181.1626388716615,
           181.7913378479995,
           182.4200368243375,
           183.0487358006755,
           183.6774347770135,
           184.3061337533515,
           184.9348327296895,
           185.5635317060275,
           186.1922306823655,
           186.8209296587035,
           187.4496286350415,
           188.0783276113795,
           188.7070265877175,
           189.3357255640555,
           189.9644245403935,
           190.59312351673148
          ]
         ]
        }
       ],
       "layout": {
        "scene": {
         "xaxis": {
          "title": {
           "text": "Ancho"
          }
         },
         "yaxis": {
          "title": {
           "text": "Pie"
          }
         },
         "zaxis": {
          "title": {
           "text": "Altura"
          }
         }
        },
        "template": {
         "data": {
          "bar": [
           {
            "error_x": {
             "color": "#2a3f5f"
            },
            "error_y": {
             "color": "#2a3f5f"
            },
            "marker": {
             "line": {
              "color": "#E5ECF6",
              "width": 0.5
             },
             "pattern": {
              "fillmode": "overlay",
              "size": 10,
              "solidity": 0.2
             }
            },
            "type": "bar"
           }
          ],
          "barpolar": [
           {
            "marker": {
             "line": {
              "color": "#E5ECF6",
              "width": 0.5
             },
             "pattern": {
              "fillmode": "overlay",
              "size": 10,
              "solidity": 0.2
             }
            },
            "type": "barpolar"
           }
          ],
          "carpet": [
           {
            "aaxis": {
             "endlinecolor": "#2a3f5f",
             "gridcolor": "white",
             "linecolor": "white",
             "minorgridcolor": "white",
             "startlinecolor": "#2a3f5f"
            },
            "baxis": {
             "endlinecolor": "#2a3f5f",
             "gridcolor": "white",
             "linecolor": "white",
             "minorgridcolor": "white",
             "startlinecolor": "#2a3f5f"
            },
            "type": "carpet"
           }
          ],
          "choropleth": [
           {
            "colorbar": {
             "outlinewidth": 0,
             "ticks": ""
            },
            "type": "choropleth"
           }
          ],
          "contour": [
           {
            "colorbar": {
             "outlinewidth": 0,
             "ticks": ""
            },
            "colorscale": [
             [
              0,
              "#0d0887"
             ],
             [
              0.1111111111111111,
              "#46039f"
             ],
             [
              0.2222222222222222,
              "#7201a8"
             ],
             [
              0.3333333333333333,
              "#9c179e"
             ],
             [
              0.4444444444444444,
              "#bd3786"
             ],
             [
              0.5555555555555556,
              "#d8576b"
             ],
             [
              0.6666666666666666,
              "#ed7953"
             ],
             [
              0.7777777777777778,
              "#fb9f3a"
             ],
             [
              0.8888888888888888,
              "#fdca26"
             ],
             [
              1,
              "#f0f921"
             ]
            ],
            "type": "contour"
           }
          ],
          "contourcarpet": [
           {
            "colorbar": {
             "outlinewidth": 0,
             "ticks": ""
            },
            "type": "contourcarpet"
           }
          ],
          "heatmap": [
           {
            "colorbar": {
             "outlinewidth": 0,
             "ticks": ""
            },
            "colorscale": [
             [
              0,
              "#0d0887"
             ],
             [
              0.1111111111111111,
              "#46039f"
             ],
             [
              0.2222222222222222,
              "#7201a8"
             ],
             [
              0.3333333333333333,
              "#9c179e"
             ],
             [
              0.4444444444444444,
              "#bd3786"
             ],
             [
              0.5555555555555556,
              "#d8576b"
             ],
             [
              0.6666666666666666,
              "#ed7953"
             ],
             [
              0.7777777777777778,
              "#fb9f3a"
             ],
             [
              0.8888888888888888,
              "#fdca26"
             ],
             [
              1,
              "#f0f921"
             ]
            ],
            "type": "heatmap"
           }
          ],
          "heatmapgl": [
           {
            "colorbar": {
             "outlinewidth": 0,
             "ticks": ""
            },
            "colorscale": [
             [
              0,
              "#0d0887"
             ],
             [
              0.1111111111111111,
              "#46039f"
             ],
             [
              0.2222222222222222,
              "#7201a8"
             ],
             [
              0.3333333333333333,
              "#9c179e"
             ],
             [
              0.4444444444444444,
              "#bd3786"
             ],
             [
              0.5555555555555556,
              "#d8576b"
             ],
             [
              0.6666666666666666,
              "#ed7953"
             ],
             [
              0.7777777777777778,
              "#fb9f3a"
             ],
             [
              0.8888888888888888,
              "#fdca26"
             ],
             [
              1,
              "#f0f921"
             ]
            ],
            "type": "heatmapgl"
           }
          ],
          "histogram": [
           {
            "marker": {
             "pattern": {
              "fillmode": "overlay",
              "size": 10,
              "solidity": 0.2
             }
            },
            "type": "histogram"
           }
          ],
          "histogram2d": [
           {
            "colorbar": {
             "outlinewidth": 0,
             "ticks": ""
            },
            "colorscale": [
             [
              0,
              "#0d0887"
             ],
             [
              0.1111111111111111,
              "#46039f"
             ],
             [
              0.2222222222222222,
              "#7201a8"
             ],
             [
              0.3333333333333333,
              "#9c179e"
             ],
             [
              0.4444444444444444,
              "#bd3786"
             ],
             [
              0.5555555555555556,
              "#d8576b"
             ],
             [
              0.6666666666666666,
              "#ed7953"
             ],
             [
              0.7777777777777778,
              "#fb9f3a"
             ],
             [
              0.8888888888888888,
              "#fdca26"
             ],
             [
              1,
              "#f0f921"
             ]
            ],
            "type": "histogram2d"
           }
          ],
          "histogram2dcontour": [
           {
            "colorbar": {
             "outlinewidth": 0,
             "ticks": ""
            },
            "colorscale": [
             [
              0,
              "#0d0887"
             ],
             [
              0.1111111111111111,
              "#46039f"
             ],
             [
              0.2222222222222222,
              "#7201a8"
             ],
             [
              0.3333333333333333,
              "#9c179e"
             ],
             [
              0.4444444444444444,
              "#bd3786"
             ],
             [
              0.5555555555555556,
              "#d8576b"
             ],
             [
              0.6666666666666666,
              "#ed7953"
             ],
             [
              0.7777777777777778,
              "#fb9f3a"
             ],
             [
              0.8888888888888888,
              "#fdca26"
             ],
             [
              1,
              "#f0f921"
             ]
            ],
            "type": "histogram2dcontour"
           }
          ],
          "mesh3d": [
           {
            "colorbar": {
             "outlinewidth": 0,
             "ticks": ""
            },
            "type": "mesh3d"
           }
          ],
          "parcoords": [
           {
            "line": {
             "colorbar": {
              "outlinewidth": 0,
              "ticks": ""
             }
            },
            "type": "parcoords"
           }
          ],
          "pie": [
           {
            "automargin": true,
            "type": "pie"
           }
          ],
          "scatter": [
           {
            "fillpattern": {
             "fillmode": "overlay",
             "size": 10,
             "solidity": 0.2
            },
            "type": "scatter"
           }
          ],
          "scatter3d": [
           {
            "line": {
             "colorbar": {
              "outlinewidth": 0,
              "ticks": ""
             }
            },
            "marker": {
             "colorbar": {
              "outlinewidth": 0,
              "ticks": ""
             }
            },
            "type": "scatter3d"
           }
          ],
          "scattercarpet": [
           {
            "marker": {
             "colorbar": {
              "outlinewidth": 0,
              "ticks": ""
             }
            },
            "type": "scattercarpet"
           }
          ],
          "scattergeo": [
           {
            "marker": {
             "colorbar": {
              "outlinewidth": 0,
              "ticks": ""
             }
            },
            "type": "scattergeo"
           }
          ],
          "scattergl": [
           {
            "marker": {
             "colorbar": {
              "outlinewidth": 0,
              "ticks": ""
             }
            },
            "type": "scattergl"
           }
          ],
          "scattermapbox": [
           {
            "marker": {
             "colorbar": {
              "outlinewidth": 0,
              "ticks": ""
             }
            },
            "type": "scattermapbox"
           }
          ],
          "scatterpolar": [
           {
            "marker": {
             "colorbar": {
              "outlinewidth": 0,
              "ticks": ""
             }
            },
            "type": "scatterpolar"
           }
          ],
          "scatterpolargl": [
           {
            "marker": {
             "colorbar": {
              "outlinewidth": 0,
              "ticks": ""
             }
            },
            "type": "scatterpolargl"
           }
          ],
          "scatterternary": [
           {
            "marker": {
             "colorbar": {
              "outlinewidth": 0,
              "ticks": ""
             }
            },
            "type": "scatterternary"
           }
          ],
          "surface": [
           {
            "colorbar": {
             "outlinewidth": 0,
             "ticks": ""
            },
            "colorscale": [
             [
              0,
              "#0d0887"
             ],
             [
              0.1111111111111111,
              "#46039f"
             ],
             [
              0.2222222222222222,
              "#7201a8"
             ],
             [
              0.3333333333333333,
              "#9c179e"
             ],
             [
              0.4444444444444444,
              "#bd3786"
             ],
             [
              0.5555555555555556,
              "#d8576b"
             ],
             [
              0.6666666666666666,
              "#ed7953"
             ],
             [
              0.7777777777777778,
              "#fb9f3a"
             ],
             [
              0.8888888888888888,
              "#fdca26"
             ],
             [
              1,
              "#f0f921"
             ]
            ],
            "type": "surface"
           }
          ],
          "table": [
           {
            "cells": {
             "fill": {
              "color": "#EBF0F8"
             },
             "line": {
              "color": "white"
             }
            },
            "header": {
             "fill": {
              "color": "#C8D4E3"
             },
             "line": {
              "color": "white"
             }
            },
            "type": "table"
           }
          ]
         },
         "layout": {
          "annotationdefaults": {
           "arrowcolor": "#2a3f5f",
           "arrowhead": 0,
           "arrowwidth": 1
          },
          "autotypenumbers": "strict",
          "coloraxis": {
           "colorbar": {
            "outlinewidth": 0,
            "ticks": ""
           }
          },
          "colorscale": {
           "diverging": [
            [
             0,
             "#8e0152"
            ],
            [
             0.1,
             "#c51b7d"
            ],
            [
             0.2,
             "#de77ae"
            ],
            [
             0.3,
             "#f1b6da"
            ],
            [
             0.4,
             "#fde0ef"
            ],
            [
             0.5,
             "#f7f7f7"
            ],
            [
             0.6,
             "#e6f5d0"
            ],
            [
             0.7,
             "#b8e186"
            ],
            [
             0.8,
             "#7fbc41"
            ],
            [
             0.9,
             "#4d9221"
            ],
            [
             1,
             "#276419"
            ]
           ],
           "sequential": [
            [
             0,
             "#0d0887"
            ],
            [
             0.1111111111111111,
             "#46039f"
            ],
            [
             0.2222222222222222,
             "#7201a8"
            ],
            [
             0.3333333333333333,
             "#9c179e"
            ],
            [
             0.4444444444444444,
             "#bd3786"
            ],
            [
             0.5555555555555556,
             "#d8576b"
            ],
            [
             0.6666666666666666,
             "#ed7953"
            ],
            [
             0.7777777777777778,
             "#fb9f3a"
            ],
            [
             0.8888888888888888,
             "#fdca26"
            ],
            [
             1,
             "#f0f921"
            ]
           ],
           "sequentialminus": [
            [
             0,
             "#0d0887"
            ],
            [
             0.1111111111111111,
             "#46039f"
            ],
            [
             0.2222222222222222,
             "#7201a8"
            ],
            [
             0.3333333333333333,
             "#9c179e"
            ],
            [
             0.4444444444444444,
             "#bd3786"
            ],
            [
             0.5555555555555556,
             "#d8576b"
            ],
            [
             0.6666666666666666,
             "#ed7953"
            ],
            [
             0.7777777777777778,
             "#fb9f3a"
            ],
            [
             0.8888888888888888,
             "#fdca26"
            ],
            [
             1,
             "#f0f921"
            ]
           ]
          },
          "colorway": [
           "#636efa",
           "#EF553B",
           "#00cc96",
           "#ab63fa",
           "#FFA15A",
           "#19d3f3",
           "#FF6692",
           "#B6E880",
           "#FF97FF",
           "#FECB52"
          ],
          "font": {
           "color": "#2a3f5f"
          },
          "geo": {
           "bgcolor": "white",
           "lakecolor": "white",
           "landcolor": "#E5ECF6",
           "showlakes": true,
           "showland": true,
           "subunitcolor": "white"
          },
          "hoverlabel": {
           "align": "left"
          },
          "hovermode": "closest",
          "mapbox": {
           "style": "light"
          },
          "paper_bgcolor": "white",
          "plot_bgcolor": "#E5ECF6",
          "polar": {
           "angularaxis": {
            "gridcolor": "white",
            "linecolor": "white",
            "ticks": ""
           },
           "bgcolor": "#E5ECF6",
           "radialaxis": {
            "gridcolor": "white",
            "linecolor": "white",
            "ticks": ""
           }
          },
          "scene": {
           "xaxis": {
            "backgroundcolor": "#E5ECF6",
            "gridcolor": "white",
            "gridwidth": 2,
            "linecolor": "white",
            "showbackground": true,
            "ticks": "",
            "zerolinecolor": "white"
           },
           "yaxis": {
            "backgroundcolor": "#E5ECF6",
            "gridcolor": "white",
            "gridwidth": 2,
            "linecolor": "white",
            "showbackground": true,
            "ticks": "",
            "zerolinecolor": "white"
           },
           "zaxis": {
            "backgroundcolor": "#E5ECF6",
            "gridcolor": "white",
            "gridwidth": 2,
            "linecolor": "white",
            "showbackground": true,
            "ticks": "",
            "zerolinecolor": "white"
           }
          },
          "shapedefaults": {
           "line": {
            "color": "#2a3f5f"
           }
          },
          "ternary": {
           "aaxis": {
            "gridcolor": "white",
            "linecolor": "white",
            "ticks": ""
           },
           "baxis": {
            "gridcolor": "white",
            "linecolor": "white",
            "ticks": ""
           },
           "bgcolor": "#E5ECF6",
           "caxis": {
            "gridcolor": "white",
            "linecolor": "white",
            "ticks": ""
           }
          },
          "title": {
           "x": 0.05
          },
          "xaxis": {
           "automargin": true,
           "gridcolor": "white",
           "linecolor": "white",
           "ticks": "",
           "title": {
            "standoff": 15
           },
           "zerolinecolor": "white",
           "zerolinewidth": 2
          },
          "yaxis": {
           "automargin": true,
           "gridcolor": "white",
           "linecolor": "white",
           "ticks": "",
           "title": {
            "standoff": 15
           },
           "zerolinecolor": "white",
           "zerolinewidth": 2
          }
         }
        },
        "title": {
         "text": "ITESO RIGHT<br>R2: 0.8151670878597785 RMSE: 3.508936699654605"
        }
       }
      }
     },
     "metadata": {},
     "output_type": "display_data"
    }
   ],
   "source": [
    "# Definir rangos para las variables independientes\n",
    "x1_range = np.linspace(min(x_train_right['width']), max(x_train_right['width']), 20)\n",
    "x2_range = np.linspace(min(x_train_right['shoe_size']), max(x_train_right['shoe_size']), 20)\n",
    "x1_mesh, x2_mesh = np.meshgrid(x1_range, x2_range)\n",
    "\n",
    "# Escalar el meshgrid para predicción\n",
    "x_mesh_scaled = ss_right.transform(np.vstack((x1_mesh.ravel(), x2_mesh.ravel())).T)\n",
    "\n",
    "# Predecir los valores con el modelo escalado\n",
    "y_mesh_scaled = rg_r.predict(x_mesh_scaled)\n",
    "\n",
    "# Crear scatterplot 3D de los puntos reales\n",
    "scatter = go.Scatter3d(\n",
    "    x=x_test_right['width'], y=x_test_right['shoe_size'], z=y_test_right,\n",
    "    mode='markers',\n",
    "    marker=dict(size=8, color='red', opacity=0.7)\n",
    ")\n",
    "\n",
    "# Crear el plano de regresión\n",
    "surface = go.Surface(\n",
    "    x=x1_mesh, y=x2_mesh, z=y_mesh_scaled.reshape(x1_mesh.shape),\n",
    "    colorscale='Viridis', opacity=0.5\n",
    ")\n",
    "\n",
    "# Configuración del layout\n",
    "layout = go.Layout(\n",
    "    title=f\"ITESO RIGHT<br>R2: {r2_score(y_test_right, r_pred_right)} RMSE: {root_mean_squared_error(y_test_right, r_pred_right)}\",\n",
    "    scene=dict(\n",
    "        xaxis_title='Ancho',\n",
    "        yaxis_title='Pie',\n",
    "        zaxis_title='Altura'\n",
    "    )\n",
    ")\n",
    "\n",
    "# Crear la figura\n",
    "fig = go.Figure(data=[scatter, surface], layout=layout)\n",
    "\n",
    "# Mostrar la figura interactiva\n",
    "fig.show()"
   ]
  },
  {
   "cell_type": "markdown",
   "metadata": {},
   "source": [
    "## Left model\n",
    "\n",
    "Modelo que predice mejor los valores del lado izquierdo"
   ]
  },
  {
   "cell_type": "code",
   "execution_count": 80,
   "metadata": {},
   "outputs": [
    {
     "name": "stdout",
     "output_type": "stream",
     "text": [
      "R2: 0.7537712593567643 RMSE: 3.627756779891361\n"
     ]
    }
   ],
   "source": [
    "rg_l = Ridge(alpha = 10)\n",
    "rg_l.fit(X_train_s_left, y_train_left)\n",
    "r_pred_left = rg_l.predict(X_test_s_left)\n",
    "print(f\"R2: {r2_score(y_test_left, r_pred_left)} RMSE: {root_mean_squared_error(y_test_left, r_pred_left)}\")"
   ]
  },
  {
   "cell_type": "code",
   "execution_count": 81,
   "metadata": {},
   "outputs": [
    {
     "name": "stdout",
     "output_type": "stream",
     "text": [
      "Pendientes: [2.34648622 6.1037353 ]\n",
      "Intercepto: 163.5234899328859\n"
     ]
    }
   ],
   "source": [
    "print(f\"Pendientes: {rg_l.coef_}\")\n",
    "print(f\"Intercepto: {rg_l.intercept_}\")"
   ]
  },
  {
   "cell_type": "code",
   "execution_count": 82,
   "metadata": {},
   "outputs": [
    {
     "name": "stderr",
     "output_type": "stream",
     "text": [
      "c:\\Users\\Roi_f\\anaconda3\\envs\\personal\\Lib\\site-packages\\sklearn\\base.py:493: UserWarning:\n",
      "\n",
      "X does not have valid feature names, but StandardScaler was fitted with feature names\n",
      "\n"
     ]
    }
   ],
   "source": [
    "values_para_left = ss_left.transform([[36,22.5]])"
   ]
  },
  {
   "cell_type": "code",
   "execution_count": 83,
   "metadata": {},
   "outputs": [
    {
     "data": {
      "text/plain": [
       "array([153.97566643])"
      ]
     },
     "execution_count": 83,
     "metadata": {},
     "output_type": "execute_result"
    }
   ],
   "source": [
    "rg_l.predict(values_para_left)"
   ]
  },
  {
   "cell_type": "code",
   "execution_count": 84,
   "metadata": {},
   "outputs": [
    {
     "name": "stderr",
     "output_type": "stream",
     "text": [
      "c:\\Users\\Roi_f\\anaconda3\\envs\\personal\\Lib\\site-packages\\sklearn\\base.py:493: UserWarning:\n",
      "\n",
      "X does not have valid feature names, but StandardScaler was fitted with feature names\n",
      "\n"
     ]
    },
    {
     "data": {
      "application/vnd.plotly.v1+json": {
       "config": {
        "plotlyServerURL": "https://plot.ly"
       },
       "data": [
        {
         "marker": {
          "color": "red",
          "opacity": 0.7,
          "size": 8
         },
         "mode": "markers",
         "type": "scatter3d",
         "x": [
          38,
          50,
          46,
          44,
          43,
          41,
          38,
          38,
          36,
          41,
          42,
          39,
          42,
          36,
          36,
          39,
          42,
          36,
          43,
          46,
          42,
          42,
          41,
          40,
          45,
          39,
          47,
          48,
          42,
          41,
          39,
          41,
          40,
          61,
          39,
          49,
          34,
          44
         ],
         "y": [
          23,
          28,
          26,
          25,
          25,
          24,
          23,
          23,
          23,
          24,
          26,
          24,
          25,
          23,
          23,
          24.5,
          25,
          22.5,
          28,
          26,
          27,
          25,
          23.5,
          24,
          27.5,
          24,
          27,
          27,
          28,
          24,
          24,
          24,
          24,
          26,
          24,
          27,
          22,
          25
         ],
         "z": [
          157,
          173,
          166,
          163,
          162,
          160,
          157,
          158,
          164,
          160,
          170,
          158,
          161,
          154,
          155,
          166,
          161,
          153,
          182,
          166,
          177,
          162,
          153,
          159,
          172,
          158,
          168,
          172,
          177,
          160,
          158,
          160,
          159,
          168,
          158,
          176,
          153,
          164
         ]
        },
        {
         "colorscale": [
          [
           0,
           "#440154"
          ],
          [
           0.1111111111111111,
           "#482878"
          ],
          [
           0.2222222222222222,
           "#3e4989"
          ],
          [
           0.3333333333333333,
           "#31688e"
          ],
          [
           0.4444444444444444,
           "#26828e"
          ],
          [
           0.5555555555555556,
           "#1f9e89"
          ],
          [
           0.6666666666666666,
           "#35b779"
          ],
          [
           0.7777777777777778,
           "#6ece58"
          ],
          [
           0.8888888888888888,
           "#b5de2b"
          ],
          [
           1,
           "#fde725"
          ]
         ],
         "opacity": 0.5,
         "type": "surface",
         "x": [
          [
           32,
           33.21052631578947,
           34.421052631578945,
           35.631578947368425,
           36.8421052631579,
           38.05263157894737,
           39.26315789473684,
           40.473684210526315,
           41.68421052631579,
           42.89473684210526,
           44.10526315789474,
           45.31578947368421,
           46.526315789473685,
           47.73684210526316,
           48.94736842105263,
           50.15789473684211,
           51.368421052631575,
           52.578947368421055,
           53.78947368421053,
           55
          ],
          [
           32,
           33.21052631578947,
           34.421052631578945,
           35.631578947368425,
           36.8421052631579,
           38.05263157894737,
           39.26315789473684,
           40.473684210526315,
           41.68421052631579,
           42.89473684210526,
           44.10526315789474,
           45.31578947368421,
           46.526315789473685,
           47.73684210526316,
           48.94736842105263,
           50.15789473684211,
           51.368421052631575,
           52.578947368421055,
           53.78947368421053,
           55
          ],
          [
           32,
           33.21052631578947,
           34.421052631578945,
           35.631578947368425,
           36.8421052631579,
           38.05263157894737,
           39.26315789473684,
           40.473684210526315,
           41.68421052631579,
           42.89473684210526,
           44.10526315789474,
           45.31578947368421,
           46.526315789473685,
           47.73684210526316,
           48.94736842105263,
           50.15789473684211,
           51.368421052631575,
           52.578947368421055,
           53.78947368421053,
           55
          ],
          [
           32,
           33.21052631578947,
           34.421052631578945,
           35.631578947368425,
           36.8421052631579,
           38.05263157894737,
           39.26315789473684,
           40.473684210526315,
           41.68421052631579,
           42.89473684210526,
           44.10526315789474,
           45.31578947368421,
           46.526315789473685,
           47.73684210526316,
           48.94736842105263,
           50.15789473684211,
           51.368421052631575,
           52.578947368421055,
           53.78947368421053,
           55
          ],
          [
           32,
           33.21052631578947,
           34.421052631578945,
           35.631578947368425,
           36.8421052631579,
           38.05263157894737,
           39.26315789473684,
           40.473684210526315,
           41.68421052631579,
           42.89473684210526,
           44.10526315789474,
           45.31578947368421,
           46.526315789473685,
           47.73684210526316,
           48.94736842105263,
           50.15789473684211,
           51.368421052631575,
           52.578947368421055,
           53.78947368421053,
           55
          ],
          [
           32,
           33.21052631578947,
           34.421052631578945,
           35.631578947368425,
           36.8421052631579,
           38.05263157894737,
           39.26315789473684,
           40.473684210526315,
           41.68421052631579,
           42.89473684210526,
           44.10526315789474,
           45.31578947368421,
           46.526315789473685,
           47.73684210526316,
           48.94736842105263,
           50.15789473684211,
           51.368421052631575,
           52.578947368421055,
           53.78947368421053,
           55
          ],
          [
           32,
           33.21052631578947,
           34.421052631578945,
           35.631578947368425,
           36.8421052631579,
           38.05263157894737,
           39.26315789473684,
           40.473684210526315,
           41.68421052631579,
           42.89473684210526,
           44.10526315789474,
           45.31578947368421,
           46.526315789473685,
           47.73684210526316,
           48.94736842105263,
           50.15789473684211,
           51.368421052631575,
           52.578947368421055,
           53.78947368421053,
           55
          ],
          [
           32,
           33.21052631578947,
           34.421052631578945,
           35.631578947368425,
           36.8421052631579,
           38.05263157894737,
           39.26315789473684,
           40.473684210526315,
           41.68421052631579,
           42.89473684210526,
           44.10526315789474,
           45.31578947368421,
           46.526315789473685,
           47.73684210526316,
           48.94736842105263,
           50.15789473684211,
           51.368421052631575,
           52.578947368421055,
           53.78947368421053,
           55
          ],
          [
           32,
           33.21052631578947,
           34.421052631578945,
           35.631578947368425,
           36.8421052631579,
           38.05263157894737,
           39.26315789473684,
           40.473684210526315,
           41.68421052631579,
           42.89473684210526,
           44.10526315789474,
           45.31578947368421,
           46.526315789473685,
           47.73684210526316,
           48.94736842105263,
           50.15789473684211,
           51.368421052631575,
           52.578947368421055,
           53.78947368421053,
           55
          ],
          [
           32,
           33.21052631578947,
           34.421052631578945,
           35.631578947368425,
           36.8421052631579,
           38.05263157894737,
           39.26315789473684,
           40.473684210526315,
           41.68421052631579,
           42.89473684210526,
           44.10526315789474,
           45.31578947368421,
           46.526315789473685,
           47.73684210526316,
           48.94736842105263,
           50.15789473684211,
           51.368421052631575,
           52.578947368421055,
           53.78947368421053,
           55
          ],
          [
           32,
           33.21052631578947,
           34.421052631578945,
           35.631578947368425,
           36.8421052631579,
           38.05263157894737,
           39.26315789473684,
           40.473684210526315,
           41.68421052631579,
           42.89473684210526,
           44.10526315789474,
           45.31578947368421,
           46.526315789473685,
           47.73684210526316,
           48.94736842105263,
           50.15789473684211,
           51.368421052631575,
           52.578947368421055,
           53.78947368421053,
           55
          ],
          [
           32,
           33.21052631578947,
           34.421052631578945,
           35.631578947368425,
           36.8421052631579,
           38.05263157894737,
           39.26315789473684,
           40.473684210526315,
           41.68421052631579,
           42.89473684210526,
           44.10526315789474,
           45.31578947368421,
           46.526315789473685,
           47.73684210526316,
           48.94736842105263,
           50.15789473684211,
           51.368421052631575,
           52.578947368421055,
           53.78947368421053,
           55
          ],
          [
           32,
           33.21052631578947,
           34.421052631578945,
           35.631578947368425,
           36.8421052631579,
           38.05263157894737,
           39.26315789473684,
           40.473684210526315,
           41.68421052631579,
           42.89473684210526,
           44.10526315789474,
           45.31578947368421,
           46.526315789473685,
           47.73684210526316,
           48.94736842105263,
           50.15789473684211,
           51.368421052631575,
           52.578947368421055,
           53.78947368421053,
           55
          ],
          [
           32,
           33.21052631578947,
           34.421052631578945,
           35.631578947368425,
           36.8421052631579,
           38.05263157894737,
           39.26315789473684,
           40.473684210526315,
           41.68421052631579,
           42.89473684210526,
           44.10526315789474,
           45.31578947368421,
           46.526315789473685,
           47.73684210526316,
           48.94736842105263,
           50.15789473684211,
           51.368421052631575,
           52.578947368421055,
           53.78947368421053,
           55
          ],
          [
           32,
           33.21052631578947,
           34.421052631578945,
           35.631578947368425,
           36.8421052631579,
           38.05263157894737,
           39.26315789473684,
           40.473684210526315,
           41.68421052631579,
           42.89473684210526,
           44.10526315789474,
           45.31578947368421,
           46.526315789473685,
           47.73684210526316,
           48.94736842105263,
           50.15789473684211,
           51.368421052631575,
           52.578947368421055,
           53.78947368421053,
           55
          ],
          [
           32,
           33.21052631578947,
           34.421052631578945,
           35.631578947368425,
           36.8421052631579,
           38.05263157894737,
           39.26315789473684,
           40.473684210526315,
           41.68421052631579,
           42.89473684210526,
           44.10526315789474,
           45.31578947368421,
           46.526315789473685,
           47.73684210526316,
           48.94736842105263,
           50.15789473684211,
           51.368421052631575,
           52.578947368421055,
           53.78947368421053,
           55
          ],
          [
           32,
           33.21052631578947,
           34.421052631578945,
           35.631578947368425,
           36.8421052631579,
           38.05263157894737,
           39.26315789473684,
           40.473684210526315,
           41.68421052631579,
           42.89473684210526,
           44.10526315789474,
           45.31578947368421,
           46.526315789473685,
           47.73684210526316,
           48.94736842105263,
           50.15789473684211,
           51.368421052631575,
           52.578947368421055,
           53.78947368421053,
           55
          ],
          [
           32,
           33.21052631578947,
           34.421052631578945,
           35.631578947368425,
           36.8421052631579,
           38.05263157894737,
           39.26315789473684,
           40.473684210526315,
           41.68421052631579,
           42.89473684210526,
           44.10526315789474,
           45.31578947368421,
           46.526315789473685,
           47.73684210526316,
           48.94736842105263,
           50.15789473684211,
           51.368421052631575,
           52.578947368421055,
           53.78947368421053,
           55
          ],
          [
           32,
           33.21052631578947,
           34.421052631578945,
           35.631578947368425,
           36.8421052631579,
           38.05263157894737,
           39.26315789473684,
           40.473684210526315,
           41.68421052631579,
           42.89473684210526,
           44.10526315789474,
           45.31578947368421,
           46.526315789473685,
           47.73684210526316,
           48.94736842105263,
           50.15789473684211,
           51.368421052631575,
           52.578947368421055,
           53.78947368421053,
           55
          ],
          [
           32,
           33.21052631578947,
           34.421052631578945,
           35.631578947368425,
           36.8421052631579,
           38.05263157894737,
           39.26315789473684,
           40.473684210526315,
           41.68421052631579,
           42.89473684210526,
           44.10526315789474,
           45.31578947368421,
           46.526315789473685,
           47.73684210526316,
           48.94736842105263,
           50.15789473684211,
           51.368421052631575,
           52.578947368421055,
           53.78947368421053,
           55
          ]
         ],
         "y": [
          [
           21,
           21,
           21,
           21,
           21,
           21,
           21,
           21,
           21,
           21,
           21,
           21,
           21,
           21,
           21,
           21,
           21,
           21,
           21,
           21
          ],
          [
           21.473684210526315,
           21.473684210526315,
           21.473684210526315,
           21.473684210526315,
           21.473684210526315,
           21.473684210526315,
           21.473684210526315,
           21.473684210526315,
           21.473684210526315,
           21.473684210526315,
           21.473684210526315,
           21.473684210526315,
           21.473684210526315,
           21.473684210526315,
           21.473684210526315,
           21.473684210526315,
           21.473684210526315,
           21.473684210526315,
           21.473684210526315,
           21.473684210526315
          ],
          [
           21.94736842105263,
           21.94736842105263,
           21.94736842105263,
           21.94736842105263,
           21.94736842105263,
           21.94736842105263,
           21.94736842105263,
           21.94736842105263,
           21.94736842105263,
           21.94736842105263,
           21.94736842105263,
           21.94736842105263,
           21.94736842105263,
           21.94736842105263,
           21.94736842105263,
           21.94736842105263,
           21.94736842105263,
           21.94736842105263,
           21.94736842105263,
           21.94736842105263
          ],
          [
           22.42105263157895,
           22.42105263157895,
           22.42105263157895,
           22.42105263157895,
           22.42105263157895,
           22.42105263157895,
           22.42105263157895,
           22.42105263157895,
           22.42105263157895,
           22.42105263157895,
           22.42105263157895,
           22.42105263157895,
           22.42105263157895,
           22.42105263157895,
           22.42105263157895,
           22.42105263157895,
           22.42105263157895,
           22.42105263157895,
           22.42105263157895,
           22.42105263157895
          ],
          [
           22.894736842105264,
           22.894736842105264,
           22.894736842105264,
           22.894736842105264,
           22.894736842105264,
           22.894736842105264,
           22.894736842105264,
           22.894736842105264,
           22.894736842105264,
           22.894736842105264,
           22.894736842105264,
           22.894736842105264,
           22.894736842105264,
           22.894736842105264,
           22.894736842105264,
           22.894736842105264,
           22.894736842105264,
           22.894736842105264,
           22.894736842105264,
           22.894736842105264
          ],
          [
           23.36842105263158,
           23.36842105263158,
           23.36842105263158,
           23.36842105263158,
           23.36842105263158,
           23.36842105263158,
           23.36842105263158,
           23.36842105263158,
           23.36842105263158,
           23.36842105263158,
           23.36842105263158,
           23.36842105263158,
           23.36842105263158,
           23.36842105263158,
           23.36842105263158,
           23.36842105263158,
           23.36842105263158,
           23.36842105263158,
           23.36842105263158,
           23.36842105263158
          ],
          [
           23.842105263157894,
           23.842105263157894,
           23.842105263157894,
           23.842105263157894,
           23.842105263157894,
           23.842105263157894,
           23.842105263157894,
           23.842105263157894,
           23.842105263157894,
           23.842105263157894,
           23.842105263157894,
           23.842105263157894,
           23.842105263157894,
           23.842105263157894,
           23.842105263157894,
           23.842105263157894,
           23.842105263157894,
           23.842105263157894,
           23.842105263157894,
           23.842105263157894
          ],
          [
           24.31578947368421,
           24.31578947368421,
           24.31578947368421,
           24.31578947368421,
           24.31578947368421,
           24.31578947368421,
           24.31578947368421,
           24.31578947368421,
           24.31578947368421,
           24.31578947368421,
           24.31578947368421,
           24.31578947368421,
           24.31578947368421,
           24.31578947368421,
           24.31578947368421,
           24.31578947368421,
           24.31578947368421,
           24.31578947368421,
           24.31578947368421,
           24.31578947368421
          ],
          [
           24.789473684210527,
           24.789473684210527,
           24.789473684210527,
           24.789473684210527,
           24.789473684210527,
           24.789473684210527,
           24.789473684210527,
           24.789473684210527,
           24.789473684210527,
           24.789473684210527,
           24.789473684210527,
           24.789473684210527,
           24.789473684210527,
           24.789473684210527,
           24.789473684210527,
           24.789473684210527,
           24.789473684210527,
           24.789473684210527,
           24.789473684210527,
           24.789473684210527
          ],
          [
           25.263157894736842,
           25.263157894736842,
           25.263157894736842,
           25.263157894736842,
           25.263157894736842,
           25.263157894736842,
           25.263157894736842,
           25.263157894736842,
           25.263157894736842,
           25.263157894736842,
           25.263157894736842,
           25.263157894736842,
           25.263157894736842,
           25.263157894736842,
           25.263157894736842,
           25.263157894736842,
           25.263157894736842,
           25.263157894736842,
           25.263157894736842,
           25.263157894736842
          ],
          [
           25.736842105263158,
           25.736842105263158,
           25.736842105263158,
           25.736842105263158,
           25.736842105263158,
           25.736842105263158,
           25.736842105263158,
           25.736842105263158,
           25.736842105263158,
           25.736842105263158,
           25.736842105263158,
           25.736842105263158,
           25.736842105263158,
           25.736842105263158,
           25.736842105263158,
           25.736842105263158,
           25.736842105263158,
           25.736842105263158,
           25.736842105263158,
           25.736842105263158
          ],
          [
           26.210526315789473,
           26.210526315789473,
           26.210526315789473,
           26.210526315789473,
           26.210526315789473,
           26.210526315789473,
           26.210526315789473,
           26.210526315789473,
           26.210526315789473,
           26.210526315789473,
           26.210526315789473,
           26.210526315789473,
           26.210526315789473,
           26.210526315789473,
           26.210526315789473,
           26.210526315789473,
           26.210526315789473,
           26.210526315789473,
           26.210526315789473,
           26.210526315789473
          ],
          [
           26.684210526315788,
           26.684210526315788,
           26.684210526315788,
           26.684210526315788,
           26.684210526315788,
           26.684210526315788,
           26.684210526315788,
           26.684210526315788,
           26.684210526315788,
           26.684210526315788,
           26.684210526315788,
           26.684210526315788,
           26.684210526315788,
           26.684210526315788,
           26.684210526315788,
           26.684210526315788,
           26.684210526315788,
           26.684210526315788,
           26.684210526315788,
           26.684210526315788
          ],
          [
           27.157894736842106,
           27.157894736842106,
           27.157894736842106,
           27.157894736842106,
           27.157894736842106,
           27.157894736842106,
           27.157894736842106,
           27.157894736842106,
           27.157894736842106,
           27.157894736842106,
           27.157894736842106,
           27.157894736842106,
           27.157894736842106,
           27.157894736842106,
           27.157894736842106,
           27.157894736842106,
           27.157894736842106,
           27.157894736842106,
           27.157894736842106,
           27.157894736842106
          ],
          [
           27.63157894736842,
           27.63157894736842,
           27.63157894736842,
           27.63157894736842,
           27.63157894736842,
           27.63157894736842,
           27.63157894736842,
           27.63157894736842,
           27.63157894736842,
           27.63157894736842,
           27.63157894736842,
           27.63157894736842,
           27.63157894736842,
           27.63157894736842,
           27.63157894736842,
           27.63157894736842,
           27.63157894736842,
           27.63157894736842,
           27.63157894736842,
           27.63157894736842
          ],
          [
           28.105263157894736,
           28.105263157894736,
           28.105263157894736,
           28.105263157894736,
           28.105263157894736,
           28.105263157894736,
           28.105263157894736,
           28.105263157894736,
           28.105263157894736,
           28.105263157894736,
           28.105263157894736,
           28.105263157894736,
           28.105263157894736,
           28.105263157894736,
           28.105263157894736,
           28.105263157894736,
           28.105263157894736,
           28.105263157894736,
           28.105263157894736,
           28.105263157894736
          ],
          [
           28.57894736842105,
           28.57894736842105,
           28.57894736842105,
           28.57894736842105,
           28.57894736842105,
           28.57894736842105,
           28.57894736842105,
           28.57894736842105,
           28.57894736842105,
           28.57894736842105,
           28.57894736842105,
           28.57894736842105,
           28.57894736842105,
           28.57894736842105,
           28.57894736842105,
           28.57894736842105,
           28.57894736842105,
           28.57894736842105,
           28.57894736842105,
           28.57894736842105
          ],
          [
           29.05263157894737,
           29.05263157894737,
           29.05263157894737,
           29.05263157894737,
           29.05263157894737,
           29.05263157894737,
           29.05263157894737,
           29.05263157894737,
           29.05263157894737,
           29.05263157894737,
           29.05263157894737,
           29.05263157894737,
           29.05263157894737,
           29.05263157894737,
           29.05263157894737,
           29.05263157894737,
           29.05263157894737,
           29.05263157894737,
           29.05263157894737,
           29.05263157894737
          ],
          [
           29.526315789473685,
           29.526315789473685,
           29.526315789473685,
           29.526315789473685,
           29.526315789473685,
           29.526315789473685,
           29.526315789473685,
           29.526315789473685,
           29.526315789473685,
           29.526315789473685,
           29.526315789473685,
           29.526315789473685,
           29.526315789473685,
           29.526315789473685,
           29.526315789473685,
           29.526315789473685,
           29.526315789473685,
           29.526315789473685,
           29.526315789473685,
           29.526315789473685
          ],
          [
           30,
           30,
           30,
           30,
           30,
           30,
           30,
           30,
           30,
           30,
           30,
           30,
           30,
           30,
           30,
           30,
           30,
           30,
           30,
           30
          ]
         ],
         "z": [
          [
           147.35836907580511,
           147.942175691847,
           148.5259823078889,
           149.10978892393084,
           149.69359553997273,
           150.27740215601463,
           150.86120877205653,
           151.44501538809845,
           152.02882200414035,
           152.61262862018225,
           153.19643523622415,
           153.78024185226607,
           154.36404846830797,
           154.94785508434987,
           155.5316617003918,
           156.1154683164337,
           156.6992749324756,
           157.2830815485175,
           157.8668881645594,
           158.4506947806013
          ],
          [
           148.83885241173104,
           149.42265902777297,
           150.00646564381486,
           150.59027225985676,
           151.17407887589866,
           151.75788549194058,
           152.34169210798248,
           152.92549872402438,
           153.5093053400663,
           154.0931119561082,
           154.6769185721501,
           155.260725188192,
           155.84453180423392,
           156.42833842027582,
           157.01214503631772,
           157.59595165235964,
           158.17975826840154,
           158.76356488444344,
           159.34737150048534,
           159.93117811652726
          ],
          [
           150.319335747657,
           150.9031423636989,
           151.48694897974082,
           152.0707555957827,
           152.6545622118246,
           153.2383688278665,
           153.82217544390843,
           154.40598205995033,
           154.98978867599223,
           155.57359529203413,
           156.15740190807605,
           156.74120852411795,
           157.32501514015985,
           157.90882175620177,
           158.49262837224367,
           159.07643498828557,
           159.66024160432747,
           160.2440482203694,
           160.8278548364113,
           161.4116614524532
          ],
          [
           151.79981908358295,
           152.38362569962484,
           152.96743231566677,
           153.55123893170867,
           154.13504554775056,
           154.71885216379246,
           155.3026587798344,
           155.8864653958763,
           156.47027201191818,
           157.0540786279601,
           157.637885244002,
           158.2216918600439,
           158.8054984760858,
           159.38930509212773,
           159.97311170816963,
           160.55691832421152,
           161.14072494025342,
           161.72453155629535,
           162.30833817233724,
           162.89214478837914
          ],
          [
           153.2803024195089,
           153.8641090355508,
           154.4479156515927,
           155.03172226763462,
           155.61552888367652,
           156.19933549971842,
           156.7831421157603,
           157.36694873180224,
           157.95075534784414,
           158.53456196388603,
           159.11836857992796,
           159.70217519596986,
           160.28598181201176,
           160.86978842805365,
           161.45359504409558,
           162.03740166013748,
           162.62120827617937,
           163.2050148922213,
           163.7888215082632,
           164.3726281243051
          ],
          [
           154.76078575543482,
           155.34459237147675,
           155.92839898751865,
           156.51220560356055,
           157.09601221960247,
           157.67981883564437,
           158.26362545168627,
           158.84743206772816,
           159.4312386837701,
           160.015045299812,
           160.59885191585388,
           161.1826585318958,
           161.7664651479377,
           162.3502717639796,
           162.9340783800215,
           163.51788499606343,
           164.10169161210533,
           164.68549822814722,
           165.26930484418912,
           165.85311146023105
          ],
          [
           156.24126909136078,
           156.82507570740268,
           157.4088823234446,
           157.9926889394865,
           158.5764955555284,
           159.16030217157032,
           159.74410878761222,
           160.32791540365412,
           160.91172201969601,
           161.49552863573794,
           162.07933525177984,
           162.66314186782174,
           163.24694848386363,
           163.83075509990556,
           164.41456171594746,
           164.99836833198935,
           165.58217494803128,
           166.16598156407318,
           166.74978818011508,
           167.33359479615697
          ],
          [
           157.72175242728673,
           158.30555904332863,
           158.88936565937053,
           159.47317227541245,
           160.05697889145435,
           160.64078550749625,
           161.22459212353817,
           161.80839873958007,
           162.39220535562197,
           162.97601197166387,
           163.5598185877058,
           164.1436252037477,
           164.7274318197896,
           165.31123843583148,
           165.8950450518734,
           166.4788516679153,
           167.0626582839572,
           167.64646489999913,
           168.23027151604103,
           168.81407813208293
          ],
          [
           159.20223576321268,
           159.78604237925458,
           160.36984899529648,
           160.9536556113384,
           161.5374622273803,
           162.1212688434222,
           162.70507545946413,
           163.28888207550602,
           163.87268869154792,
           164.45649530758982,
           165.04030192363174,
           165.62410853967364,
           166.20791515571554,
           166.79172177175747,
           167.37552838779936,
           167.95933500384126,
           168.54314161988316,
           169.12694823592508,
           169.71075485196698,
           170.29456146800888
          ],
          [
           160.68271909913864,
           161.26652571518053,
           161.85033233122243,
           162.43413894726436,
           163.01794556330626,
           163.60175217934815,
           164.18555879539005,
           164.76936541143198,
           165.35317202747387,
           165.93697864351577,
           166.52078525955767,
           167.1045918755996,
           167.6883984916415,
           168.2722051076834,
           168.8560117237253,
           169.4398183397672,
           170.0236249558091,
           170.607431571851,
           171.19123818789294,
           171.77504480393483
          ],
          [
           162.16320243506456,
           162.7470090511065,
           163.33081566714839,
           163.91462228319028,
           164.49842889923218,
           165.0822355152741,
           165.666042131316,
           166.2498487473579,
           166.8336553633998,
           167.41746197944173,
           168.00126859548362,
           168.58507521152552,
           169.16888182756745,
           169.75268844360934,
           170.33649505965124,
           170.92030167569317,
           171.50410829173506,
           172.08791490777696,
           172.67172152381886,
           173.2555281398608
          ],
          [
           163.64368577099052,
           164.2274923870324,
           164.81129900307434,
           165.39510561911624,
           165.97891223515813,
           166.56271885120003,
           167.14652546724196,
           167.73033208328386,
           168.31413869932575,
           168.89794531536765,
           169.48175193140958,
           170.06555854745147,
           170.64936516349337,
           171.2331717795353,
           171.8169783955772,
           172.4007850116191,
           172.984591627661,
           173.56839824370292,
           174.1522048597448,
           174.7360114757867
          ],
          [
           165.12416910691647,
           165.70797572295837,
           166.29178233900026,
           166.8755889550422,
           167.4593955710841,
           168.04320218712598,
           168.62700880316788,
           169.2108154192098,
           169.7946220352517,
           170.3784286512936,
           170.96223526733553,
           171.54604188337743,
           172.12984849941932,
           172.71365511546122,
           173.29746173150315,
           173.88126834754505,
           174.46507496358694,
           175.04888157962884,
           175.63268819567077,
           176.21649481171266
          ],
          [
           166.60465244284242,
           167.18845905888432,
           167.77226567492622,
           168.35607229096814,
           168.93987890701004,
           169.52368552305194,
           170.10749213909384,
           170.69129875513576,
           171.27510537117766,
           171.85891198721956,
           172.44271860326148,
           173.02652521930338,
           173.61033183534528,
           174.19413845138718,
           174.7779450674291,
           175.361751683471,
           175.9455582995129,
           176.52936491555482,
           177.11317153159672,
           177.69697814763862
          ],
          [
           168.08513577876835,
           168.66894239481027,
           169.25274901085217,
           169.83655562689407,
           170.420362242936,
           171.0041688589779,
           171.5879754750198,
           172.1717820910617,
           172.7555887071036,
           173.3393953231455,
           173.9232019391874,
           174.50700855522933,
           175.09081517127123,
           175.67462178731313,
           176.25842840335503,
           176.84223501939695,
           177.42604163543885,
           178.00984825148075,
           178.59365486752264,
           179.17746148356457
          ],
          [
           169.5656191146943,
           170.1494257307362,
           170.73323234677812,
           171.31703896282002,
           171.90084557886192,
           172.48465219490384,
           173.06845881094574,
           173.65226542698764,
           174.23607204302954,
           174.81987865907146,
           175.40368527511336,
           175.98749189115526,
           176.57129850719716,
           177.15510512323908,
           177.73891173928098,
           178.32271835532288,
           178.90652497136477,
           179.4903315874067,
           180.0741382034486,
           180.6579448194905
          ],
          [
           171.04610245062025,
           171.62990906666215,
           172.21371568270405,
           172.79752229874597,
           173.38132891478787,
           173.96513553082977,
           174.5489421468717,
           175.1327487629136,
           175.7165553789555,
           176.3003619949974,
           176.8841686110393,
           177.4679752270812,
           178.0517818431231,
           178.635588459165,
           179.21939507520693,
           179.80320169124883,
           180.38700830729073,
           180.97081492333265,
           181.55462153937455,
           182.13842815541645
          ],
          [
           172.5265857865462,
           173.1103924025881,
           173.69419901863,
           174.27800563467193,
           174.86181225071383,
           175.44561886675572,
           176.02942548279765,
           176.61323209883955,
           177.19703871488144,
           177.78084533092334,
           178.36465194696527,
           178.94845856300716,
           179.53226517904906,
           180.116071795091,
           180.6998784111329,
           181.28368502717478,
           181.86749164321668,
           182.4512982592586,
           183.0351048753005,
           183.6189114913424
          ],
          [
           174.00706912247216,
           174.59087573851406,
           175.17468235455596,
           175.75848897059785,
           176.34229558663978,
           176.92610220268168,
           177.50990881872357,
           178.0937154347655,
           178.6775220508074,
           179.2613286668493,
           179.8451352828912,
           180.42894189893312,
           181.01274851497502,
           181.5965551310169,
           182.1803617470588,
           182.76416836310074,
           183.34797497914263,
           183.93178159518453,
           184.51558821122643,
           185.09939482726836
          ],
          [
           175.48755245839808,
           176.07135907444,
           176.6551656904819,
           177.2389723065238,
           177.8227789225657,
           178.40658553860763,
           178.99039215464953,
           179.57419877069142,
           180.15800538673335,
           180.74181200277525,
           181.32561861881715,
           181.90942523485904,
           182.49323185090097,
           183.07703846694287,
           183.66084508298476,
           184.2446516990267,
           184.8284583150686,
           185.41226493111049,
           185.99607154715238,
           186.5798781631943
          ]
         ]
        }
       ],
       "layout": {
        "scene": {
         "xaxis": {
          "title": {
           "text": "Ancho"
          }
         },
         "yaxis": {
          "title": {
           "text": "Pie"
          }
         },
         "zaxis": {
          "title": {
           "text": "Altura"
          }
         }
        },
        "template": {
         "data": {
          "bar": [
           {
            "error_x": {
             "color": "#2a3f5f"
            },
            "error_y": {
             "color": "#2a3f5f"
            },
            "marker": {
             "line": {
              "color": "#E5ECF6",
              "width": 0.5
             },
             "pattern": {
              "fillmode": "overlay",
              "size": 10,
              "solidity": 0.2
             }
            },
            "type": "bar"
           }
          ],
          "barpolar": [
           {
            "marker": {
             "line": {
              "color": "#E5ECF6",
              "width": 0.5
             },
             "pattern": {
              "fillmode": "overlay",
              "size": 10,
              "solidity": 0.2
             }
            },
            "type": "barpolar"
           }
          ],
          "carpet": [
           {
            "aaxis": {
             "endlinecolor": "#2a3f5f",
             "gridcolor": "white",
             "linecolor": "white",
             "minorgridcolor": "white",
             "startlinecolor": "#2a3f5f"
            },
            "baxis": {
             "endlinecolor": "#2a3f5f",
             "gridcolor": "white",
             "linecolor": "white",
             "minorgridcolor": "white",
             "startlinecolor": "#2a3f5f"
            },
            "type": "carpet"
           }
          ],
          "choropleth": [
           {
            "colorbar": {
             "outlinewidth": 0,
             "ticks": ""
            },
            "type": "choropleth"
           }
          ],
          "contour": [
           {
            "colorbar": {
             "outlinewidth": 0,
             "ticks": ""
            },
            "colorscale": [
             [
              0,
              "#0d0887"
             ],
             [
              0.1111111111111111,
              "#46039f"
             ],
             [
              0.2222222222222222,
              "#7201a8"
             ],
             [
              0.3333333333333333,
              "#9c179e"
             ],
             [
              0.4444444444444444,
              "#bd3786"
             ],
             [
              0.5555555555555556,
              "#d8576b"
             ],
             [
              0.6666666666666666,
              "#ed7953"
             ],
             [
              0.7777777777777778,
              "#fb9f3a"
             ],
             [
              0.8888888888888888,
              "#fdca26"
             ],
             [
              1,
              "#f0f921"
             ]
            ],
            "type": "contour"
           }
          ],
          "contourcarpet": [
           {
            "colorbar": {
             "outlinewidth": 0,
             "ticks": ""
            },
            "type": "contourcarpet"
           }
          ],
          "heatmap": [
           {
            "colorbar": {
             "outlinewidth": 0,
             "ticks": ""
            },
            "colorscale": [
             [
              0,
              "#0d0887"
             ],
             [
              0.1111111111111111,
              "#46039f"
             ],
             [
              0.2222222222222222,
              "#7201a8"
             ],
             [
              0.3333333333333333,
              "#9c179e"
             ],
             [
              0.4444444444444444,
              "#bd3786"
             ],
             [
              0.5555555555555556,
              "#d8576b"
             ],
             [
              0.6666666666666666,
              "#ed7953"
             ],
             [
              0.7777777777777778,
              "#fb9f3a"
             ],
             [
              0.8888888888888888,
              "#fdca26"
             ],
             [
              1,
              "#f0f921"
             ]
            ],
            "type": "heatmap"
           }
          ],
          "heatmapgl": [
           {
            "colorbar": {
             "outlinewidth": 0,
             "ticks": ""
            },
            "colorscale": [
             [
              0,
              "#0d0887"
             ],
             [
              0.1111111111111111,
              "#46039f"
             ],
             [
              0.2222222222222222,
              "#7201a8"
             ],
             [
              0.3333333333333333,
              "#9c179e"
             ],
             [
              0.4444444444444444,
              "#bd3786"
             ],
             [
              0.5555555555555556,
              "#d8576b"
             ],
             [
              0.6666666666666666,
              "#ed7953"
             ],
             [
              0.7777777777777778,
              "#fb9f3a"
             ],
             [
              0.8888888888888888,
              "#fdca26"
             ],
             [
              1,
              "#f0f921"
             ]
            ],
            "type": "heatmapgl"
           }
          ],
          "histogram": [
           {
            "marker": {
             "pattern": {
              "fillmode": "overlay",
              "size": 10,
              "solidity": 0.2
             }
            },
            "type": "histogram"
           }
          ],
          "histogram2d": [
           {
            "colorbar": {
             "outlinewidth": 0,
             "ticks": ""
            },
            "colorscale": [
             [
              0,
              "#0d0887"
             ],
             [
              0.1111111111111111,
              "#46039f"
             ],
             [
              0.2222222222222222,
              "#7201a8"
             ],
             [
              0.3333333333333333,
              "#9c179e"
             ],
             [
              0.4444444444444444,
              "#bd3786"
             ],
             [
              0.5555555555555556,
              "#d8576b"
             ],
             [
              0.6666666666666666,
              "#ed7953"
             ],
             [
              0.7777777777777778,
              "#fb9f3a"
             ],
             [
              0.8888888888888888,
              "#fdca26"
             ],
             [
              1,
              "#f0f921"
             ]
            ],
            "type": "histogram2d"
           }
          ],
          "histogram2dcontour": [
           {
            "colorbar": {
             "outlinewidth": 0,
             "ticks": ""
            },
            "colorscale": [
             [
              0,
              "#0d0887"
             ],
             [
              0.1111111111111111,
              "#46039f"
             ],
             [
              0.2222222222222222,
              "#7201a8"
             ],
             [
              0.3333333333333333,
              "#9c179e"
             ],
             [
              0.4444444444444444,
              "#bd3786"
             ],
             [
              0.5555555555555556,
              "#d8576b"
             ],
             [
              0.6666666666666666,
              "#ed7953"
             ],
             [
              0.7777777777777778,
              "#fb9f3a"
             ],
             [
              0.8888888888888888,
              "#fdca26"
             ],
             [
              1,
              "#f0f921"
             ]
            ],
            "type": "histogram2dcontour"
           }
          ],
          "mesh3d": [
           {
            "colorbar": {
             "outlinewidth": 0,
             "ticks": ""
            },
            "type": "mesh3d"
           }
          ],
          "parcoords": [
           {
            "line": {
             "colorbar": {
              "outlinewidth": 0,
              "ticks": ""
             }
            },
            "type": "parcoords"
           }
          ],
          "pie": [
           {
            "automargin": true,
            "type": "pie"
           }
          ],
          "scatter": [
           {
            "fillpattern": {
             "fillmode": "overlay",
             "size": 10,
             "solidity": 0.2
            },
            "type": "scatter"
           }
          ],
          "scatter3d": [
           {
            "line": {
             "colorbar": {
              "outlinewidth": 0,
              "ticks": ""
             }
            },
            "marker": {
             "colorbar": {
              "outlinewidth": 0,
              "ticks": ""
             }
            },
            "type": "scatter3d"
           }
          ],
          "scattercarpet": [
           {
            "marker": {
             "colorbar": {
              "outlinewidth": 0,
              "ticks": ""
             }
            },
            "type": "scattercarpet"
           }
          ],
          "scattergeo": [
           {
            "marker": {
             "colorbar": {
              "outlinewidth": 0,
              "ticks": ""
             }
            },
            "type": "scattergeo"
           }
          ],
          "scattergl": [
           {
            "marker": {
             "colorbar": {
              "outlinewidth": 0,
              "ticks": ""
             }
            },
            "type": "scattergl"
           }
          ],
          "scattermapbox": [
           {
            "marker": {
             "colorbar": {
              "outlinewidth": 0,
              "ticks": ""
             }
            },
            "type": "scattermapbox"
           }
          ],
          "scatterpolar": [
           {
            "marker": {
             "colorbar": {
              "outlinewidth": 0,
              "ticks": ""
             }
            },
            "type": "scatterpolar"
           }
          ],
          "scatterpolargl": [
           {
            "marker": {
             "colorbar": {
              "outlinewidth": 0,
              "ticks": ""
             }
            },
            "type": "scatterpolargl"
           }
          ],
          "scatterternary": [
           {
            "marker": {
             "colorbar": {
              "outlinewidth": 0,
              "ticks": ""
             }
            },
            "type": "scatterternary"
           }
          ],
          "surface": [
           {
            "colorbar": {
             "outlinewidth": 0,
             "ticks": ""
            },
            "colorscale": [
             [
              0,
              "#0d0887"
             ],
             [
              0.1111111111111111,
              "#46039f"
             ],
             [
              0.2222222222222222,
              "#7201a8"
             ],
             [
              0.3333333333333333,
              "#9c179e"
             ],
             [
              0.4444444444444444,
              "#bd3786"
             ],
             [
              0.5555555555555556,
              "#d8576b"
             ],
             [
              0.6666666666666666,
              "#ed7953"
             ],
             [
              0.7777777777777778,
              "#fb9f3a"
             ],
             [
              0.8888888888888888,
              "#fdca26"
             ],
             [
              1,
              "#f0f921"
             ]
            ],
            "type": "surface"
           }
          ],
          "table": [
           {
            "cells": {
             "fill": {
              "color": "#EBF0F8"
             },
             "line": {
              "color": "white"
             }
            },
            "header": {
             "fill": {
              "color": "#C8D4E3"
             },
             "line": {
              "color": "white"
             }
            },
            "type": "table"
           }
          ]
         },
         "layout": {
          "annotationdefaults": {
           "arrowcolor": "#2a3f5f",
           "arrowhead": 0,
           "arrowwidth": 1
          },
          "autotypenumbers": "strict",
          "coloraxis": {
           "colorbar": {
            "outlinewidth": 0,
            "ticks": ""
           }
          },
          "colorscale": {
           "diverging": [
            [
             0,
             "#8e0152"
            ],
            [
             0.1,
             "#c51b7d"
            ],
            [
             0.2,
             "#de77ae"
            ],
            [
             0.3,
             "#f1b6da"
            ],
            [
             0.4,
             "#fde0ef"
            ],
            [
             0.5,
             "#f7f7f7"
            ],
            [
             0.6,
             "#e6f5d0"
            ],
            [
             0.7,
             "#b8e186"
            ],
            [
             0.8,
             "#7fbc41"
            ],
            [
             0.9,
             "#4d9221"
            ],
            [
             1,
             "#276419"
            ]
           ],
           "sequential": [
            [
             0,
             "#0d0887"
            ],
            [
             0.1111111111111111,
             "#46039f"
            ],
            [
             0.2222222222222222,
             "#7201a8"
            ],
            [
             0.3333333333333333,
             "#9c179e"
            ],
            [
             0.4444444444444444,
             "#bd3786"
            ],
            [
             0.5555555555555556,
             "#d8576b"
            ],
            [
             0.6666666666666666,
             "#ed7953"
            ],
            [
             0.7777777777777778,
             "#fb9f3a"
            ],
            [
             0.8888888888888888,
             "#fdca26"
            ],
            [
             1,
             "#f0f921"
            ]
           ],
           "sequentialminus": [
            [
             0,
             "#0d0887"
            ],
            [
             0.1111111111111111,
             "#46039f"
            ],
            [
             0.2222222222222222,
             "#7201a8"
            ],
            [
             0.3333333333333333,
             "#9c179e"
            ],
            [
             0.4444444444444444,
             "#bd3786"
            ],
            [
             0.5555555555555556,
             "#d8576b"
            ],
            [
             0.6666666666666666,
             "#ed7953"
            ],
            [
             0.7777777777777778,
             "#fb9f3a"
            ],
            [
             0.8888888888888888,
             "#fdca26"
            ],
            [
             1,
             "#f0f921"
            ]
           ]
          },
          "colorway": [
           "#636efa",
           "#EF553B",
           "#00cc96",
           "#ab63fa",
           "#FFA15A",
           "#19d3f3",
           "#FF6692",
           "#B6E880",
           "#FF97FF",
           "#FECB52"
          ],
          "font": {
           "color": "#2a3f5f"
          },
          "geo": {
           "bgcolor": "white",
           "lakecolor": "white",
           "landcolor": "#E5ECF6",
           "showlakes": true,
           "showland": true,
           "subunitcolor": "white"
          },
          "hoverlabel": {
           "align": "left"
          },
          "hovermode": "closest",
          "mapbox": {
           "style": "light"
          },
          "paper_bgcolor": "white",
          "plot_bgcolor": "#E5ECF6",
          "polar": {
           "angularaxis": {
            "gridcolor": "white",
            "linecolor": "white",
            "ticks": ""
           },
           "bgcolor": "#E5ECF6",
           "radialaxis": {
            "gridcolor": "white",
            "linecolor": "white",
            "ticks": ""
           }
          },
          "scene": {
           "xaxis": {
            "backgroundcolor": "#E5ECF6",
            "gridcolor": "white",
            "gridwidth": 2,
            "linecolor": "white",
            "showbackground": true,
            "ticks": "",
            "zerolinecolor": "white"
           },
           "yaxis": {
            "backgroundcolor": "#E5ECF6",
            "gridcolor": "white",
            "gridwidth": 2,
            "linecolor": "white",
            "showbackground": true,
            "ticks": "",
            "zerolinecolor": "white"
           },
           "zaxis": {
            "backgroundcolor": "#E5ECF6",
            "gridcolor": "white",
            "gridwidth": 2,
            "linecolor": "white",
            "showbackground": true,
            "ticks": "",
            "zerolinecolor": "white"
           }
          },
          "shapedefaults": {
           "line": {
            "color": "#2a3f5f"
           }
          },
          "ternary": {
           "aaxis": {
            "gridcolor": "white",
            "linecolor": "white",
            "ticks": ""
           },
           "baxis": {
            "gridcolor": "white",
            "linecolor": "white",
            "ticks": ""
           },
           "bgcolor": "#E5ECF6",
           "caxis": {
            "gridcolor": "white",
            "linecolor": "white",
            "ticks": ""
           }
          },
          "title": {
           "x": 0.05
          },
          "xaxis": {
           "automargin": true,
           "gridcolor": "white",
           "linecolor": "white",
           "ticks": "",
           "title": {
            "standoff": 15
           },
           "zerolinecolor": "white",
           "zerolinewidth": 2
          },
          "yaxis": {
           "automargin": true,
           "gridcolor": "white",
           "linecolor": "white",
           "ticks": "",
           "title": {
            "standoff": 15
           },
           "zerolinecolor": "white",
           "zerolinewidth": 2
          }
         }
        },
        "title": {
         "text": "ITESO LEFT<br>R2: 0.7537712593567643 RMSE: 3.627756779891361"
        }
       }
      }
     },
     "metadata": {},
     "output_type": "display_data"
    }
   ],
   "source": [
    "# Definir rangos para las variables independientes\n",
    "x1_range = np.linspace(min(x_train_left['width']), max(x_train_left['width']), 20)\n",
    "x2_range = np.linspace(min(x_train_left['shoe_size']), max(x_train_left['shoe_size']), 20)\n",
    "x1_mesh, x2_mesh = np.meshgrid(x1_range, x2_range)\n",
    "\n",
    "# Escalar el meshgrid para predicción\n",
    "x_mesh_scaled = ss_left.transform(np.vstack((x1_mesh.ravel(), x2_mesh.ravel())).T)\n",
    "\n",
    "# Predecir los valores con el modelo escalado\n",
    "y_mesh_scaled = rg_l.predict(x_mesh_scaled)\n",
    "\n",
    "# Crear scatterplot 3D de los puntos reales\n",
    "scatter = go.Scatter3d(\n",
    "    x=x_test_left['width'], y=x_test_left['shoe_size'], z=y_test_left,\n",
    "    mode='markers',\n",
    "    marker=dict(size=8, color='red', opacity=0.7)\n",
    ")\n",
    "\n",
    "# Crear el plano de regresión\n",
    "surface = go.Surface(\n",
    "    x=x1_mesh, y=x2_mesh, z=y_mesh_scaled.reshape(x1_mesh.shape),\n",
    "    colorscale='Viridis', opacity=0.5\n",
    ")\n",
    "\n",
    "# Configuración del layout\n",
    "layout = go.Layout(\n",
    "    title=f\"ITESO LEFT<br>R2: {r2_score(y_test_left, r_pred_left)} RMSE: {root_mean_squared_error(y_test_left, r_pred_left)}\",\n",
    "    scene=dict(\n",
    "        xaxis_title='Ancho',\n",
    "        yaxis_title='Pie',\n",
    "        zaxis_title='Altura'\n",
    "    )\n",
    ")\n",
    "\n",
    "# Crear la figura\n",
    "fig = go.Figure(data=[scatter, surface], layout=layout)\n",
    "\n",
    "# Mostrar la figura interactiva\n",
    "fig.show()"
   ]
  },
  {
   "cell_type": "markdown",
   "metadata": {},
   "source": [
    "### Center model"
   ]
  },
  {
   "cell_type": "code",
   "execution_count": 85,
   "metadata": {},
   "outputs": [
    {
     "name": "stdout",
     "output_type": "stream",
     "text": [
      "R2: 0.8484303924224865 RMSE: 4.280983988385949\n"
     ]
    }
   ],
   "source": [
    "rg_c = Ridge(alpha = 1.26)\n",
    "rg_c.fit(X_train_s_center, y_train_center)\n",
    "r_pred_center = rg_c.predict(X_test_s_center)\n",
    "print(f\"R2: {r2_score(y_test_center, r_pred_center)} RMSE: {root_mean_squared_error(y_test_center, r_pred_center)}\")"
   ]
  },
  {
   "cell_type": "code",
   "execution_count": 86,
   "metadata": {},
   "outputs": [
    {
     "name": "stdout",
     "output_type": "stream",
     "text": [
      "Pendientes: [0.84705044 7.40777022]\n",
      "Intercepto: 169.1014492753623\n"
     ]
    }
   ],
   "source": [
    "print(f\"Pendientes: {rg_c.coef_}\")\n",
    "print(f\"Intercepto: {rg_c.intercept_}\")"
   ]
  },
  {
   "cell_type": "code",
   "execution_count": 87,
   "metadata": {},
   "outputs": [
    {
     "name": "stderr",
     "output_type": "stream",
     "text": [
      "c:\\Users\\Roi_f\\anaconda3\\envs\\personal\\Lib\\site-packages\\sklearn\\base.py:493: UserWarning:\n",
      "\n",
      "X does not have valid feature names, but StandardScaler was fitted with feature names\n",
      "\n"
     ]
    }
   ],
   "source": [
    "values_para_center = ss_center.transform([[36,22.5]])"
   ]
  },
  {
   "cell_type": "code",
   "execution_count": 88,
   "metadata": {},
   "outputs": [
    {
     "data": {
      "text/plain": [
       "array([155.08588937])"
      ]
     },
     "execution_count": 88,
     "metadata": {},
     "output_type": "execute_result"
    }
   ],
   "source": [
    "rg_c.predict(values_para_center)"
   ]
  },
  {
   "cell_type": "code",
   "execution_count": 89,
   "metadata": {},
   "outputs": [
    {
     "name": "stderr",
     "output_type": "stream",
     "text": [
      "c:\\Users\\Roi_f\\anaconda3\\envs\\personal\\Lib\\site-packages\\sklearn\\base.py:493: UserWarning:\n",
      "\n",
      "X does not have valid feature names, but StandardScaler was fitted with feature names\n",
      "\n"
     ]
    },
    {
     "data": {
      "application/vnd.plotly.v1+json": {
       "config": {
        "plotlyServerURL": "https://plot.ly"
       },
       "data": [
        {
         "marker": {
          "color": "red",
          "opacity": 0.7,
          "size": 8
         },
         "mode": "markers",
         "type": "scatter3d",
         "x": [
          42,
          46,
          40,
          48,
          34,
          48,
          42,
          46,
          44,
          45,
          39,
          49,
          52,
          50,
          36,
          46,
          41,
          43
         ],
         "y": [
          27,
          24,
          23,
          28,
          24,
          29,
          24,
          28,
          23,
          27.5,
          22.5,
          27.5,
          30,
          28,
          23,
          27,
          23,
          25
         ],
         "z": [
          177,
          170,
          159,
          176,
          154,
          187,
          162,
          182,
          162,
          175,
          150,
          175,
          190,
          173,
          164,
          172,
          154,
          168
         ]
        },
        {
         "colorscale": [
          [
           0,
           "#440154"
          ],
          [
           0.1111111111111111,
           "#482878"
          ],
          [
           0.2222222222222222,
           "#3e4989"
          ],
          [
           0.3333333333333333,
           "#31688e"
          ],
          [
           0.4444444444444444,
           "#26828e"
          ],
          [
           0.5555555555555556,
           "#1f9e89"
          ],
          [
           0.6666666666666666,
           "#35b779"
          ],
          [
           0.7777777777777778,
           "#6ece58"
          ],
          [
           0.8888888888888888,
           "#b5de2b"
          ],
          [
           1,
           "#fde725"
          ]
         ],
         "opacity": 0.5,
         "type": "surface",
         "x": [
          [
           33,
           34.473684210526315,
           35.94736842105263,
           37.421052631578945,
           38.89473684210526,
           40.368421052631575,
           41.84210526315789,
           43.31578947368421,
           44.78947368421053,
           46.26315789473684,
           47.73684210526316,
           49.21052631578947,
           50.68421052631579,
           52.1578947368421,
           53.631578947368425,
           55.10526315789474,
           56.578947368421055,
           58.05263157894737,
           59.526315789473685,
           61
          ],
          [
           33,
           34.473684210526315,
           35.94736842105263,
           37.421052631578945,
           38.89473684210526,
           40.368421052631575,
           41.84210526315789,
           43.31578947368421,
           44.78947368421053,
           46.26315789473684,
           47.73684210526316,
           49.21052631578947,
           50.68421052631579,
           52.1578947368421,
           53.631578947368425,
           55.10526315789474,
           56.578947368421055,
           58.05263157894737,
           59.526315789473685,
           61
          ],
          [
           33,
           34.473684210526315,
           35.94736842105263,
           37.421052631578945,
           38.89473684210526,
           40.368421052631575,
           41.84210526315789,
           43.31578947368421,
           44.78947368421053,
           46.26315789473684,
           47.73684210526316,
           49.21052631578947,
           50.68421052631579,
           52.1578947368421,
           53.631578947368425,
           55.10526315789474,
           56.578947368421055,
           58.05263157894737,
           59.526315789473685,
           61
          ],
          [
           33,
           34.473684210526315,
           35.94736842105263,
           37.421052631578945,
           38.89473684210526,
           40.368421052631575,
           41.84210526315789,
           43.31578947368421,
           44.78947368421053,
           46.26315789473684,
           47.73684210526316,
           49.21052631578947,
           50.68421052631579,
           52.1578947368421,
           53.631578947368425,
           55.10526315789474,
           56.578947368421055,
           58.05263157894737,
           59.526315789473685,
           61
          ],
          [
           33,
           34.473684210526315,
           35.94736842105263,
           37.421052631578945,
           38.89473684210526,
           40.368421052631575,
           41.84210526315789,
           43.31578947368421,
           44.78947368421053,
           46.26315789473684,
           47.73684210526316,
           49.21052631578947,
           50.68421052631579,
           52.1578947368421,
           53.631578947368425,
           55.10526315789474,
           56.578947368421055,
           58.05263157894737,
           59.526315789473685,
           61
          ],
          [
           33,
           34.473684210526315,
           35.94736842105263,
           37.421052631578945,
           38.89473684210526,
           40.368421052631575,
           41.84210526315789,
           43.31578947368421,
           44.78947368421053,
           46.26315789473684,
           47.73684210526316,
           49.21052631578947,
           50.68421052631579,
           52.1578947368421,
           53.631578947368425,
           55.10526315789474,
           56.578947368421055,
           58.05263157894737,
           59.526315789473685,
           61
          ],
          [
           33,
           34.473684210526315,
           35.94736842105263,
           37.421052631578945,
           38.89473684210526,
           40.368421052631575,
           41.84210526315789,
           43.31578947368421,
           44.78947368421053,
           46.26315789473684,
           47.73684210526316,
           49.21052631578947,
           50.68421052631579,
           52.1578947368421,
           53.631578947368425,
           55.10526315789474,
           56.578947368421055,
           58.05263157894737,
           59.526315789473685,
           61
          ],
          [
           33,
           34.473684210526315,
           35.94736842105263,
           37.421052631578945,
           38.89473684210526,
           40.368421052631575,
           41.84210526315789,
           43.31578947368421,
           44.78947368421053,
           46.26315789473684,
           47.73684210526316,
           49.21052631578947,
           50.68421052631579,
           52.1578947368421,
           53.631578947368425,
           55.10526315789474,
           56.578947368421055,
           58.05263157894737,
           59.526315789473685,
           61
          ],
          [
           33,
           34.473684210526315,
           35.94736842105263,
           37.421052631578945,
           38.89473684210526,
           40.368421052631575,
           41.84210526315789,
           43.31578947368421,
           44.78947368421053,
           46.26315789473684,
           47.73684210526316,
           49.21052631578947,
           50.68421052631579,
           52.1578947368421,
           53.631578947368425,
           55.10526315789474,
           56.578947368421055,
           58.05263157894737,
           59.526315789473685,
           61
          ],
          [
           33,
           34.473684210526315,
           35.94736842105263,
           37.421052631578945,
           38.89473684210526,
           40.368421052631575,
           41.84210526315789,
           43.31578947368421,
           44.78947368421053,
           46.26315789473684,
           47.73684210526316,
           49.21052631578947,
           50.68421052631579,
           52.1578947368421,
           53.631578947368425,
           55.10526315789474,
           56.578947368421055,
           58.05263157894737,
           59.526315789473685,
           61
          ],
          [
           33,
           34.473684210526315,
           35.94736842105263,
           37.421052631578945,
           38.89473684210526,
           40.368421052631575,
           41.84210526315789,
           43.31578947368421,
           44.78947368421053,
           46.26315789473684,
           47.73684210526316,
           49.21052631578947,
           50.68421052631579,
           52.1578947368421,
           53.631578947368425,
           55.10526315789474,
           56.578947368421055,
           58.05263157894737,
           59.526315789473685,
           61
          ],
          [
           33,
           34.473684210526315,
           35.94736842105263,
           37.421052631578945,
           38.89473684210526,
           40.368421052631575,
           41.84210526315789,
           43.31578947368421,
           44.78947368421053,
           46.26315789473684,
           47.73684210526316,
           49.21052631578947,
           50.68421052631579,
           52.1578947368421,
           53.631578947368425,
           55.10526315789474,
           56.578947368421055,
           58.05263157894737,
           59.526315789473685,
           61
          ],
          [
           33,
           34.473684210526315,
           35.94736842105263,
           37.421052631578945,
           38.89473684210526,
           40.368421052631575,
           41.84210526315789,
           43.31578947368421,
           44.78947368421053,
           46.26315789473684,
           47.73684210526316,
           49.21052631578947,
           50.68421052631579,
           52.1578947368421,
           53.631578947368425,
           55.10526315789474,
           56.578947368421055,
           58.05263157894737,
           59.526315789473685,
           61
          ],
          [
           33,
           34.473684210526315,
           35.94736842105263,
           37.421052631578945,
           38.89473684210526,
           40.368421052631575,
           41.84210526315789,
           43.31578947368421,
           44.78947368421053,
           46.26315789473684,
           47.73684210526316,
           49.21052631578947,
           50.68421052631579,
           52.1578947368421,
           53.631578947368425,
           55.10526315789474,
           56.578947368421055,
           58.05263157894737,
           59.526315789473685,
           61
          ],
          [
           33,
           34.473684210526315,
           35.94736842105263,
           37.421052631578945,
           38.89473684210526,
           40.368421052631575,
           41.84210526315789,
           43.31578947368421,
           44.78947368421053,
           46.26315789473684,
           47.73684210526316,
           49.21052631578947,
           50.68421052631579,
           52.1578947368421,
           53.631578947368425,
           55.10526315789474,
           56.578947368421055,
           58.05263157894737,
           59.526315789473685,
           61
          ],
          [
           33,
           34.473684210526315,
           35.94736842105263,
           37.421052631578945,
           38.89473684210526,
           40.368421052631575,
           41.84210526315789,
           43.31578947368421,
           44.78947368421053,
           46.26315789473684,
           47.73684210526316,
           49.21052631578947,
           50.68421052631579,
           52.1578947368421,
           53.631578947368425,
           55.10526315789474,
           56.578947368421055,
           58.05263157894737,
           59.526315789473685,
           61
          ],
          [
           33,
           34.473684210526315,
           35.94736842105263,
           37.421052631578945,
           38.89473684210526,
           40.368421052631575,
           41.84210526315789,
           43.31578947368421,
           44.78947368421053,
           46.26315789473684,
           47.73684210526316,
           49.21052631578947,
           50.68421052631579,
           52.1578947368421,
           53.631578947368425,
           55.10526315789474,
           56.578947368421055,
           58.05263157894737,
           59.526315789473685,
           61
          ],
          [
           33,
           34.473684210526315,
           35.94736842105263,
           37.421052631578945,
           38.89473684210526,
           40.368421052631575,
           41.84210526315789,
           43.31578947368421,
           44.78947368421053,
           46.26315789473684,
           47.73684210526316,
           49.21052631578947,
           50.68421052631579,
           52.1578947368421,
           53.631578947368425,
           55.10526315789474,
           56.578947368421055,
           58.05263157894737,
           59.526315789473685,
           61
          ],
          [
           33,
           34.473684210526315,
           35.94736842105263,
           37.421052631578945,
           38.89473684210526,
           40.368421052631575,
           41.84210526315789,
           43.31578947368421,
           44.78947368421053,
           46.26315789473684,
           47.73684210526316,
           49.21052631578947,
           50.68421052631579,
           52.1578947368421,
           53.631578947368425,
           55.10526315789474,
           56.578947368421055,
           58.05263157894737,
           59.526315789473685,
           61
          ],
          [
           33,
           34.473684210526315,
           35.94736842105263,
           37.421052631578945,
           38.89473684210526,
           40.368421052631575,
           41.84210526315789,
           43.31578947368421,
           44.78947368421053,
           46.26315789473684,
           47.73684210526316,
           49.21052631578947,
           50.68421052631579,
           52.1578947368421,
           53.631578947368425,
           55.10526315789474,
           56.578947368421055,
           58.05263157894737,
           59.526315789473685,
           61
          ]
         ],
         "y": [
          [
           22,
           22,
           22,
           22,
           22,
           22,
           22,
           22,
           22,
           22,
           22,
           22,
           22,
           22,
           22,
           22,
           22,
           22,
           22,
           22
          ],
          [
           22.42105263157895,
           22.42105263157895,
           22.42105263157895,
           22.42105263157895,
           22.42105263157895,
           22.42105263157895,
           22.42105263157895,
           22.42105263157895,
           22.42105263157895,
           22.42105263157895,
           22.42105263157895,
           22.42105263157895,
           22.42105263157895,
           22.42105263157895,
           22.42105263157895,
           22.42105263157895,
           22.42105263157895,
           22.42105263157895,
           22.42105263157895,
           22.42105263157895
          ],
          [
           22.842105263157894,
           22.842105263157894,
           22.842105263157894,
           22.842105263157894,
           22.842105263157894,
           22.842105263157894,
           22.842105263157894,
           22.842105263157894,
           22.842105263157894,
           22.842105263157894,
           22.842105263157894,
           22.842105263157894,
           22.842105263157894,
           22.842105263157894,
           22.842105263157894,
           22.842105263157894,
           22.842105263157894,
           22.842105263157894,
           22.842105263157894,
           22.842105263157894
          ],
          [
           23.263157894736842,
           23.263157894736842,
           23.263157894736842,
           23.263157894736842,
           23.263157894736842,
           23.263157894736842,
           23.263157894736842,
           23.263157894736842,
           23.263157894736842,
           23.263157894736842,
           23.263157894736842,
           23.263157894736842,
           23.263157894736842,
           23.263157894736842,
           23.263157894736842,
           23.263157894736842,
           23.263157894736842,
           23.263157894736842,
           23.263157894736842,
           23.263157894736842
          ],
          [
           23.684210526315788,
           23.684210526315788,
           23.684210526315788,
           23.684210526315788,
           23.684210526315788,
           23.684210526315788,
           23.684210526315788,
           23.684210526315788,
           23.684210526315788,
           23.684210526315788,
           23.684210526315788,
           23.684210526315788,
           23.684210526315788,
           23.684210526315788,
           23.684210526315788,
           23.684210526315788,
           23.684210526315788,
           23.684210526315788,
           23.684210526315788,
           23.684210526315788
          ],
          [
           24.105263157894736,
           24.105263157894736,
           24.105263157894736,
           24.105263157894736,
           24.105263157894736,
           24.105263157894736,
           24.105263157894736,
           24.105263157894736,
           24.105263157894736,
           24.105263157894736,
           24.105263157894736,
           24.105263157894736,
           24.105263157894736,
           24.105263157894736,
           24.105263157894736,
           24.105263157894736,
           24.105263157894736,
           24.105263157894736,
           24.105263157894736,
           24.105263157894736
          ],
          [
           24.526315789473685,
           24.526315789473685,
           24.526315789473685,
           24.526315789473685,
           24.526315789473685,
           24.526315789473685,
           24.526315789473685,
           24.526315789473685,
           24.526315789473685,
           24.526315789473685,
           24.526315789473685,
           24.526315789473685,
           24.526315789473685,
           24.526315789473685,
           24.526315789473685,
           24.526315789473685,
           24.526315789473685,
           24.526315789473685,
           24.526315789473685,
           24.526315789473685
          ],
          [
           24.94736842105263,
           24.94736842105263,
           24.94736842105263,
           24.94736842105263,
           24.94736842105263,
           24.94736842105263,
           24.94736842105263,
           24.94736842105263,
           24.94736842105263,
           24.94736842105263,
           24.94736842105263,
           24.94736842105263,
           24.94736842105263,
           24.94736842105263,
           24.94736842105263,
           24.94736842105263,
           24.94736842105263,
           24.94736842105263,
           24.94736842105263,
           24.94736842105263
          ],
          [
           25.36842105263158,
           25.36842105263158,
           25.36842105263158,
           25.36842105263158,
           25.36842105263158,
           25.36842105263158,
           25.36842105263158,
           25.36842105263158,
           25.36842105263158,
           25.36842105263158,
           25.36842105263158,
           25.36842105263158,
           25.36842105263158,
           25.36842105263158,
           25.36842105263158,
           25.36842105263158,
           25.36842105263158,
           25.36842105263158,
           25.36842105263158,
           25.36842105263158
          ],
          [
           25.789473684210527,
           25.789473684210527,
           25.789473684210527,
           25.789473684210527,
           25.789473684210527,
           25.789473684210527,
           25.789473684210527,
           25.789473684210527,
           25.789473684210527,
           25.789473684210527,
           25.789473684210527,
           25.789473684210527,
           25.789473684210527,
           25.789473684210527,
           25.789473684210527,
           25.789473684210527,
           25.789473684210527,
           25.789473684210527,
           25.789473684210527,
           25.789473684210527
          ],
          [
           26.210526315789473,
           26.210526315789473,
           26.210526315789473,
           26.210526315789473,
           26.210526315789473,
           26.210526315789473,
           26.210526315789473,
           26.210526315789473,
           26.210526315789473,
           26.210526315789473,
           26.210526315789473,
           26.210526315789473,
           26.210526315789473,
           26.210526315789473,
           26.210526315789473,
           26.210526315789473,
           26.210526315789473,
           26.210526315789473,
           26.210526315789473,
           26.210526315789473
          ],
          [
           26.63157894736842,
           26.63157894736842,
           26.63157894736842,
           26.63157894736842,
           26.63157894736842,
           26.63157894736842,
           26.63157894736842,
           26.63157894736842,
           26.63157894736842,
           26.63157894736842,
           26.63157894736842,
           26.63157894736842,
           26.63157894736842,
           26.63157894736842,
           26.63157894736842,
           26.63157894736842,
           26.63157894736842,
           26.63157894736842,
           26.63157894736842,
           26.63157894736842
          ],
          [
           27.05263157894737,
           27.05263157894737,
           27.05263157894737,
           27.05263157894737,
           27.05263157894737,
           27.05263157894737,
           27.05263157894737,
           27.05263157894737,
           27.05263157894737,
           27.05263157894737,
           27.05263157894737,
           27.05263157894737,
           27.05263157894737,
           27.05263157894737,
           27.05263157894737,
           27.05263157894737,
           27.05263157894737,
           27.05263157894737,
           27.05263157894737,
           27.05263157894737
          ],
          [
           27.473684210526315,
           27.473684210526315,
           27.473684210526315,
           27.473684210526315,
           27.473684210526315,
           27.473684210526315,
           27.473684210526315,
           27.473684210526315,
           27.473684210526315,
           27.473684210526315,
           27.473684210526315,
           27.473684210526315,
           27.473684210526315,
           27.473684210526315,
           27.473684210526315,
           27.473684210526315,
           27.473684210526315,
           27.473684210526315,
           27.473684210526315,
           27.473684210526315
          ],
          [
           27.894736842105264,
           27.894736842105264,
           27.894736842105264,
           27.894736842105264,
           27.894736842105264,
           27.894736842105264,
           27.894736842105264,
           27.894736842105264,
           27.894736842105264,
           27.894736842105264,
           27.894736842105264,
           27.894736842105264,
           27.894736842105264,
           27.894736842105264,
           27.894736842105264,
           27.894736842105264,
           27.894736842105264,
           27.894736842105264,
           27.894736842105264,
           27.894736842105264
          ],
          [
           28.315789473684212,
           28.315789473684212,
           28.315789473684212,
           28.315789473684212,
           28.315789473684212,
           28.315789473684212,
           28.315789473684212,
           28.315789473684212,
           28.315789473684212,
           28.315789473684212,
           28.315789473684212,
           28.315789473684212,
           28.315789473684212,
           28.315789473684212,
           28.315789473684212,
           28.315789473684212,
           28.315789473684212,
           28.315789473684212,
           28.315789473684212,
           28.315789473684212
          ],
          [
           28.736842105263158,
           28.736842105263158,
           28.736842105263158,
           28.736842105263158,
           28.736842105263158,
           28.736842105263158,
           28.736842105263158,
           28.736842105263158,
           28.736842105263158,
           28.736842105263158,
           28.736842105263158,
           28.736842105263158,
           28.736842105263158,
           28.736842105263158,
           28.736842105263158,
           28.736842105263158,
           28.736842105263158,
           28.736842105263158,
           28.736842105263158,
           28.736842105263158
          ],
          [
           29.157894736842103,
           29.157894736842103,
           29.157894736842103,
           29.157894736842103,
           29.157894736842103,
           29.157894736842103,
           29.157894736842103,
           29.157894736842103,
           29.157894736842103,
           29.157894736842103,
           29.157894736842103,
           29.157894736842103,
           29.157894736842103,
           29.157894736842103,
           29.157894736842103,
           29.157894736842103,
           29.157894736842103,
           29.157894736842103,
           29.157894736842103,
           29.157894736842103
          ],
          [
           29.57894736842105,
           29.57894736842105,
           29.57894736842105,
           29.57894736842105,
           29.57894736842105,
           29.57894736842105,
           29.57894736842105,
           29.57894736842105,
           29.57894736842105,
           29.57894736842105,
           29.57894736842105,
           29.57894736842105,
           29.57894736842105,
           29.57894736842105,
           29.57894736842105,
           29.57894736842105,
           29.57894736842105,
           29.57894736842105,
           29.57894736842105,
           29.57894736842105
          ],
          [
           30,
           30,
           30,
           30,
           30,
           30,
           30,
           30,
           30,
           30,
           30,
           30,
           30,
           30,
           30,
           30,
           30,
           30,
           30,
           30
          ]
         ],
         "z": [
          [
           152.71101036802503,
           152.9473434499566,
           153.18367653188818,
           153.42000961381976,
           153.65634269575133,
           153.8926757776829,
           154.1290088596145,
           154.3653419415461,
           154.60167502347767,
           154.83800810540924,
           155.07434118734082,
           155.3106742692724,
           155.54700735120397,
           155.78334043313555,
           156.01967351506715,
           156.25600659699873,
           156.4923396789303,
           156.72867276086188,
           156.96500584279346,
           157.20133892472504
          ],
          [
           154.30576605215074,
           154.54209913408232,
           154.7784322160139,
           155.01476529794547,
           155.25109837987708,
           155.48743146180865,
           155.72376454374023,
           155.9600976256718,
           156.19643070760338,
           156.43276378953496,
           156.66909687146654,
           156.9054299533981,
           157.1417630353297,
           157.3780961172613,
           157.61442919919287,
           157.85076228112445,
           158.08709536305602,
           158.3234284449876,
           158.55976152691917,
           158.79609460885075
          ],
          [
           155.90052173627646,
           156.13685481820804,
           156.3731879001396,
           156.6095209820712,
           156.84585406400276,
           157.08218714593437,
           157.31852022786595,
           157.55485330979752,
           157.7911863917291,
           158.02751947366067,
           158.26385255559225,
           158.50018563752383,
           158.7365187194554,
           158.97285180138698,
           159.20918488331858,
           159.44551796525016,
           159.68185104718174,
           159.9181841291133,
           160.1545172110449,
           160.39085029297647
          ],
          [
           157.49527742040218,
           157.73161050233375,
           157.96794358426533,
           158.20427666619693,
           158.4406097481285,
           158.67694283006009,
           158.91327591199166,
           159.14960899392324,
           159.3859420758548,
           159.6222751577864,
           159.85860823971797,
           160.09494132164957,
           160.33127440358115,
           160.56760748551272,
           160.8039405674443,
           161.04027364937588,
           161.27660673130745,
           161.51293981323903,
           161.7492728951706,
           161.9856059771022
          ],
          [
           159.0900331045279,
           159.32636618645947,
           159.56269926839104,
           159.79903235032262,
           160.0353654322542,
           160.2716985141858,
           160.50803159611738,
           160.74436467804895,
           160.98069775998053,
           161.2170308419121,
           161.45336392384368,
           161.68969700577526,
           161.92603008770686,
           162.16236316963844,
           162.39869625157002,
           162.6350293335016,
           162.87136241543317,
           163.10769549736474,
           163.34402857929632,
           163.5803616612279
          ],
          [
           160.6847887886536,
           160.92112187058518,
           161.1574549525168,
           161.39378803444836,
           161.63012111637994,
           161.86645419831152,
           162.1027872802431,
           162.33912036217467,
           162.57545344410624,
           162.81178652603782,
           163.04811960796943,
           163.284452689901,
           163.52078577183258,
           163.75711885376415,
           163.99345193569573,
           164.2297850176273,
           164.46611809955888,
           164.70245118149046,
           164.93878426342206,
           165.17511734535364
          ],
          [
           162.27954447277935,
           162.51587755471093,
           162.7522106366425,
           162.98854371857408,
           163.22487680050565,
           163.46120988243723,
           163.6975429643688,
           163.9338760463004,
           164.170209128232,
           164.40654221016356,
           164.64287529209514,
           164.87920837402672,
           165.1155414559583,
           165.35187453788987,
           165.58820761982145,
           165.82454070175305,
           166.06087378368463,
           166.2972068656162,
           166.53353994754778,
           166.76987302947936
          ],
          [
           163.87430015690506,
           164.11063323883664,
           164.34696632076822,
           164.5832994026998,
           164.81963248463137,
           165.05596556656295,
           165.29229864849452,
           165.5286317304261,
           165.76496481235768,
           166.00129789428928,
           166.23763097622086,
           166.47396405815243,
           166.710297140084,
           166.94663022201559,
           167.18296330394716,
           167.41929638587874,
           167.65562946781031,
           167.89196254974192,
           168.1282956316735,
           168.36462871360507
          ],
          [
           165.46905584103078,
           165.70538892296236,
           165.94172200489393,
           166.1780550868255,
           166.41438816875709,
           166.65072125068866,
           166.88705433262027,
           167.12338741455184,
           167.35972049648342,
           167.596053578415,
           167.83238666034657,
           168.06871974227815,
           168.30505282420972,
           168.5413859061413,
           168.7777189880729,
           169.01405207000448,
           169.25038515193606,
           169.48671823386763,
           169.7230513157992,
           169.9593843977308
          ],
          [
           167.0638115251565,
           167.30014460708807,
           167.53647768901965,
           167.77281077095125,
           168.00914385288283,
           168.2454769348144,
           168.48181001674598,
           168.71814309867756,
           168.95447618060913,
           169.1908092625407,
           169.4271423444723,
           169.66347542640386,
           169.89980850833547,
           170.13614159026704,
           170.37247467219862,
           170.6088077541302,
           170.84514083606177,
           171.08147391799335,
           171.31780699992493,
           171.5541400818565
          ],
          [
           168.6585672092822,
           168.8949002912138,
           169.13123337314536,
           169.36756645507694,
           169.60389953700852,
           169.84023261894012,
           170.0765657008717,
           170.31289878280327,
           170.54923186473485,
           170.78556494666643,
           171.021898028598,
           171.25823111052958,
           171.49456419246116,
           171.73089727439276,
           171.96723035632434,
           172.2035634382559,
           172.4398965201875,
           172.67622960211907,
           172.91256268405064,
           173.14889576598222
          ],
          [
           170.25332289340793,
           170.4896559753395,
           170.7259890572711,
           170.96232213920268,
           171.19865522113426,
           171.43498830306584,
           171.6713213849974,
           171.907654466929,
           172.14398754886057,
           172.38032063079214,
           172.61665371272375,
           172.85298679465532,
           173.0893198765869,
           173.32565295851848,
           173.56198604045005,
           173.79831912238163,
           174.0346522043132,
           174.27098528624478,
           174.50731836817636,
           174.74365145010796
          ],
          [
           171.84807857753367,
           172.08441165946525,
           172.32074474139682,
           172.5570778233284,
           172.79341090525998,
           173.02974398719155,
           173.26607706912313,
           173.50241015105473,
           173.7387432329863,
           173.97507631491789,
           174.21140939684946,
           174.44774247878104,
           174.6840755607126,
           174.9204086426442,
           175.15674172457577,
           175.39307480650734,
           175.62940788843895,
           175.86574097037052,
           176.1020740523021,
           176.33840713423368
          ],
          [
           173.44283426165936,
           173.67916734359096,
           173.91550042552254,
           174.1518335074541,
           174.3881665893857,
           174.62449967131727,
           174.86083275324884,
           175.09716583518042,
           175.333498917112,
           175.5698319990436,
           175.80616508097518,
           176.04249816290675,
           176.27883124483833,
           176.5151643267699,
           176.75149740870148,
           176.98783049063306,
           177.22416357256463,
           177.46049665449624,
           177.69682973642782,
           177.9331628183594
          ],
          [
           175.0375899457851,
           175.27392302771668,
           175.51025610964825,
           175.74658919157983,
           175.9829222735114,
           176.21925535544298,
           176.45558843737456,
           176.69192151930616,
           176.92825460123774,
           177.16458768316932,
           177.4009207651009,
           177.63725384703247,
           177.87358692896404,
           178.10992001089562,
           178.34625309282723,
           178.5825861747588,
           178.81891925669038,
           179.05525233862195,
           179.29158542055353,
           179.5279185024851
          ],
          [
           176.63234562991082,
           176.8686787118424,
           177.10501179377397,
           177.34134487570554,
           177.57767795763715,
           177.81401103956873,
           178.0503441215003,
           178.28667720343188,
           178.52301028536345,
           178.75934336729503,
           178.9956764492266,
           179.23200953115818,
           179.46834261308976,
           179.70467569502136,
           179.94100877695294,
           180.17734185888452,
           180.4136749408161,
           180.65000802274767,
           180.88634110467925,
           181.12267418661082
          ],
          [
           178.22710131403653,
           178.4634343959681,
           178.69976747789968,
           178.93610055983126,
           179.17243364176284,
           179.40876672369444,
           179.64509980562602,
           179.8814328875576,
           180.11776596948917,
           180.35409905142075,
           180.59043213335232,
           180.8267652152839,
           181.06309829721548,
           181.29943137914705,
           181.53576446107866,
           181.77209754301023,
           182.0084306249418,
           182.24476370687339,
           182.48109678880496,
           182.71742987073654
          ],
          [
           179.82185699816225,
           180.05819008009382,
           180.2945231620254,
           180.53085624395698,
           180.76718932588855,
           181.00352240782013,
           181.23985548975173,
           181.4761885716833,
           181.71252165361489,
           181.94885473554646,
           182.18518781747804,
           182.42152089940961,
           182.6578539813412,
           182.89418706327277,
           183.13052014520434,
           183.36685322713595,
           183.60318630906752,
           183.8395193909991,
           184.07585247293068,
           184.31218555486225
          ],
          [
           181.41661268228796,
           181.65294576421954,
           181.88927884615111,
           182.1256119280827,
           182.3619450100143,
           182.59827809194587,
           182.83461117387745,
           183.07094425580902,
           183.3072773377406,
           183.54361041967218,
           183.77994350160375,
           184.01627658353533,
           184.25260966546693,
           184.4889427473985,
           184.7252758293301,
           184.96160891126166,
           185.19794199319324,
           185.43427507512482,
           185.6706081570564,
           185.90694123898797
          ],
          [
           183.01136836641368,
           183.24770144834525,
           183.48403453027686,
           183.72036761220843,
           183.95670069414,
           184.1930337760716,
           184.42936685800316,
           184.66569993993474,
           184.90203302186632,
           185.13836610379792,
           185.3746991857295,
           185.61103226766107,
           185.84736534959265,
           186.08369843152423,
           186.3200315134558,
           186.55636459538738,
           186.79269767731896,
           187.02903075925053,
           187.26536384118214,
           187.5016969231137
          ]
         ]
        }
       ],
       "layout": {
        "scene": {
         "xaxis": {
          "title": {
           "text": "Ancho"
          }
         },
         "yaxis": {
          "title": {
           "text": "Pie"
          }
         },
         "zaxis": {
          "title": {
           "text": "Altura"
          }
         }
        },
        "template": {
         "data": {
          "bar": [
           {
            "error_x": {
             "color": "#2a3f5f"
            },
            "error_y": {
             "color": "#2a3f5f"
            },
            "marker": {
             "line": {
              "color": "#E5ECF6",
              "width": 0.5
             },
             "pattern": {
              "fillmode": "overlay",
              "size": 10,
              "solidity": 0.2
             }
            },
            "type": "bar"
           }
          ],
          "barpolar": [
           {
            "marker": {
             "line": {
              "color": "#E5ECF6",
              "width": 0.5
             },
             "pattern": {
              "fillmode": "overlay",
              "size": 10,
              "solidity": 0.2
             }
            },
            "type": "barpolar"
           }
          ],
          "carpet": [
           {
            "aaxis": {
             "endlinecolor": "#2a3f5f",
             "gridcolor": "white",
             "linecolor": "white",
             "minorgridcolor": "white",
             "startlinecolor": "#2a3f5f"
            },
            "baxis": {
             "endlinecolor": "#2a3f5f",
             "gridcolor": "white",
             "linecolor": "white",
             "minorgridcolor": "white",
             "startlinecolor": "#2a3f5f"
            },
            "type": "carpet"
           }
          ],
          "choropleth": [
           {
            "colorbar": {
             "outlinewidth": 0,
             "ticks": ""
            },
            "type": "choropleth"
           }
          ],
          "contour": [
           {
            "colorbar": {
             "outlinewidth": 0,
             "ticks": ""
            },
            "colorscale": [
             [
              0,
              "#0d0887"
             ],
             [
              0.1111111111111111,
              "#46039f"
             ],
             [
              0.2222222222222222,
              "#7201a8"
             ],
             [
              0.3333333333333333,
              "#9c179e"
             ],
             [
              0.4444444444444444,
              "#bd3786"
             ],
             [
              0.5555555555555556,
              "#d8576b"
             ],
             [
              0.6666666666666666,
              "#ed7953"
             ],
             [
              0.7777777777777778,
              "#fb9f3a"
             ],
             [
              0.8888888888888888,
              "#fdca26"
             ],
             [
              1,
              "#f0f921"
             ]
            ],
            "type": "contour"
           }
          ],
          "contourcarpet": [
           {
            "colorbar": {
             "outlinewidth": 0,
             "ticks": ""
            },
            "type": "contourcarpet"
           }
          ],
          "heatmap": [
           {
            "colorbar": {
             "outlinewidth": 0,
             "ticks": ""
            },
            "colorscale": [
             [
              0,
              "#0d0887"
             ],
             [
              0.1111111111111111,
              "#46039f"
             ],
             [
              0.2222222222222222,
              "#7201a8"
             ],
             [
              0.3333333333333333,
              "#9c179e"
             ],
             [
              0.4444444444444444,
              "#bd3786"
             ],
             [
              0.5555555555555556,
              "#d8576b"
             ],
             [
              0.6666666666666666,
              "#ed7953"
             ],
             [
              0.7777777777777778,
              "#fb9f3a"
             ],
             [
              0.8888888888888888,
              "#fdca26"
             ],
             [
              1,
              "#f0f921"
             ]
            ],
            "type": "heatmap"
           }
          ],
          "heatmapgl": [
           {
            "colorbar": {
             "outlinewidth": 0,
             "ticks": ""
            },
            "colorscale": [
             [
              0,
              "#0d0887"
             ],
             [
              0.1111111111111111,
              "#46039f"
             ],
             [
              0.2222222222222222,
              "#7201a8"
             ],
             [
              0.3333333333333333,
              "#9c179e"
             ],
             [
              0.4444444444444444,
              "#bd3786"
             ],
             [
              0.5555555555555556,
              "#d8576b"
             ],
             [
              0.6666666666666666,
              "#ed7953"
             ],
             [
              0.7777777777777778,
              "#fb9f3a"
             ],
             [
              0.8888888888888888,
              "#fdca26"
             ],
             [
              1,
              "#f0f921"
             ]
            ],
            "type": "heatmapgl"
           }
          ],
          "histogram": [
           {
            "marker": {
             "pattern": {
              "fillmode": "overlay",
              "size": 10,
              "solidity": 0.2
             }
            },
            "type": "histogram"
           }
          ],
          "histogram2d": [
           {
            "colorbar": {
             "outlinewidth": 0,
             "ticks": ""
            },
            "colorscale": [
             [
              0,
              "#0d0887"
             ],
             [
              0.1111111111111111,
              "#46039f"
             ],
             [
              0.2222222222222222,
              "#7201a8"
             ],
             [
              0.3333333333333333,
              "#9c179e"
             ],
             [
              0.4444444444444444,
              "#bd3786"
             ],
             [
              0.5555555555555556,
              "#d8576b"
             ],
             [
              0.6666666666666666,
              "#ed7953"
             ],
             [
              0.7777777777777778,
              "#fb9f3a"
             ],
             [
              0.8888888888888888,
              "#fdca26"
             ],
             [
              1,
              "#f0f921"
             ]
            ],
            "type": "histogram2d"
           }
          ],
          "histogram2dcontour": [
           {
            "colorbar": {
             "outlinewidth": 0,
             "ticks": ""
            },
            "colorscale": [
             [
              0,
              "#0d0887"
             ],
             [
              0.1111111111111111,
              "#46039f"
             ],
             [
              0.2222222222222222,
              "#7201a8"
             ],
             [
              0.3333333333333333,
              "#9c179e"
             ],
             [
              0.4444444444444444,
              "#bd3786"
             ],
             [
              0.5555555555555556,
              "#d8576b"
             ],
             [
              0.6666666666666666,
              "#ed7953"
             ],
             [
              0.7777777777777778,
              "#fb9f3a"
             ],
             [
              0.8888888888888888,
              "#fdca26"
             ],
             [
              1,
              "#f0f921"
             ]
            ],
            "type": "histogram2dcontour"
           }
          ],
          "mesh3d": [
           {
            "colorbar": {
             "outlinewidth": 0,
             "ticks": ""
            },
            "type": "mesh3d"
           }
          ],
          "parcoords": [
           {
            "line": {
             "colorbar": {
              "outlinewidth": 0,
              "ticks": ""
             }
            },
            "type": "parcoords"
           }
          ],
          "pie": [
           {
            "automargin": true,
            "type": "pie"
           }
          ],
          "scatter": [
           {
            "fillpattern": {
             "fillmode": "overlay",
             "size": 10,
             "solidity": 0.2
            },
            "type": "scatter"
           }
          ],
          "scatter3d": [
           {
            "line": {
             "colorbar": {
              "outlinewidth": 0,
              "ticks": ""
             }
            },
            "marker": {
             "colorbar": {
              "outlinewidth": 0,
              "ticks": ""
             }
            },
            "type": "scatter3d"
           }
          ],
          "scattercarpet": [
           {
            "marker": {
             "colorbar": {
              "outlinewidth": 0,
              "ticks": ""
             }
            },
            "type": "scattercarpet"
           }
          ],
          "scattergeo": [
           {
            "marker": {
             "colorbar": {
              "outlinewidth": 0,
              "ticks": ""
             }
            },
            "type": "scattergeo"
           }
          ],
          "scattergl": [
           {
            "marker": {
             "colorbar": {
              "outlinewidth": 0,
              "ticks": ""
             }
            },
            "type": "scattergl"
           }
          ],
          "scattermapbox": [
           {
            "marker": {
             "colorbar": {
              "outlinewidth": 0,
              "ticks": ""
             }
            },
            "type": "scattermapbox"
           }
          ],
          "scatterpolar": [
           {
            "marker": {
             "colorbar": {
              "outlinewidth": 0,
              "ticks": ""
             }
            },
            "type": "scatterpolar"
           }
          ],
          "scatterpolargl": [
           {
            "marker": {
             "colorbar": {
              "outlinewidth": 0,
              "ticks": ""
             }
            },
            "type": "scatterpolargl"
           }
          ],
          "scatterternary": [
           {
            "marker": {
             "colorbar": {
              "outlinewidth": 0,
              "ticks": ""
             }
            },
            "type": "scatterternary"
           }
          ],
          "surface": [
           {
            "colorbar": {
             "outlinewidth": 0,
             "ticks": ""
            },
            "colorscale": [
             [
              0,
              "#0d0887"
             ],
             [
              0.1111111111111111,
              "#46039f"
             ],
             [
              0.2222222222222222,
              "#7201a8"
             ],
             [
              0.3333333333333333,
              "#9c179e"
             ],
             [
              0.4444444444444444,
              "#bd3786"
             ],
             [
              0.5555555555555556,
              "#d8576b"
             ],
             [
              0.6666666666666666,
              "#ed7953"
             ],
             [
              0.7777777777777778,
              "#fb9f3a"
             ],
             [
              0.8888888888888888,
              "#fdca26"
             ],
             [
              1,
              "#f0f921"
             ]
            ],
            "type": "surface"
           }
          ],
          "table": [
           {
            "cells": {
             "fill": {
              "color": "#EBF0F8"
             },
             "line": {
              "color": "white"
             }
            },
            "header": {
             "fill": {
              "color": "#C8D4E3"
             },
             "line": {
              "color": "white"
             }
            },
            "type": "table"
           }
          ]
         },
         "layout": {
          "annotationdefaults": {
           "arrowcolor": "#2a3f5f",
           "arrowhead": 0,
           "arrowwidth": 1
          },
          "autotypenumbers": "strict",
          "coloraxis": {
           "colorbar": {
            "outlinewidth": 0,
            "ticks": ""
           }
          },
          "colorscale": {
           "diverging": [
            [
             0,
             "#8e0152"
            ],
            [
             0.1,
             "#c51b7d"
            ],
            [
             0.2,
             "#de77ae"
            ],
            [
             0.3,
             "#f1b6da"
            ],
            [
             0.4,
             "#fde0ef"
            ],
            [
             0.5,
             "#f7f7f7"
            ],
            [
             0.6,
             "#e6f5d0"
            ],
            [
             0.7,
             "#b8e186"
            ],
            [
             0.8,
             "#7fbc41"
            ],
            [
             0.9,
             "#4d9221"
            ],
            [
             1,
             "#276419"
            ]
           ],
           "sequential": [
            [
             0,
             "#0d0887"
            ],
            [
             0.1111111111111111,
             "#46039f"
            ],
            [
             0.2222222222222222,
             "#7201a8"
            ],
            [
             0.3333333333333333,
             "#9c179e"
            ],
            [
             0.4444444444444444,
             "#bd3786"
            ],
            [
             0.5555555555555556,
             "#d8576b"
            ],
            [
             0.6666666666666666,
             "#ed7953"
            ],
            [
             0.7777777777777778,
             "#fb9f3a"
            ],
            [
             0.8888888888888888,
             "#fdca26"
            ],
            [
             1,
             "#f0f921"
            ]
           ],
           "sequentialminus": [
            [
             0,
             "#0d0887"
            ],
            [
             0.1111111111111111,
             "#46039f"
            ],
            [
             0.2222222222222222,
             "#7201a8"
            ],
            [
             0.3333333333333333,
             "#9c179e"
            ],
            [
             0.4444444444444444,
             "#bd3786"
            ],
            [
             0.5555555555555556,
             "#d8576b"
            ],
            [
             0.6666666666666666,
             "#ed7953"
            ],
            [
             0.7777777777777778,
             "#fb9f3a"
            ],
            [
             0.8888888888888888,
             "#fdca26"
            ],
            [
             1,
             "#f0f921"
            ]
           ]
          },
          "colorway": [
           "#636efa",
           "#EF553B",
           "#00cc96",
           "#ab63fa",
           "#FFA15A",
           "#19d3f3",
           "#FF6692",
           "#B6E880",
           "#FF97FF",
           "#FECB52"
          ],
          "font": {
           "color": "#2a3f5f"
          },
          "geo": {
           "bgcolor": "white",
           "lakecolor": "white",
           "landcolor": "#E5ECF6",
           "showlakes": true,
           "showland": true,
           "subunitcolor": "white"
          },
          "hoverlabel": {
           "align": "left"
          },
          "hovermode": "closest",
          "mapbox": {
           "style": "light"
          },
          "paper_bgcolor": "white",
          "plot_bgcolor": "#E5ECF6",
          "polar": {
           "angularaxis": {
            "gridcolor": "white",
            "linecolor": "white",
            "ticks": ""
           },
           "bgcolor": "#E5ECF6",
           "radialaxis": {
            "gridcolor": "white",
            "linecolor": "white",
            "ticks": ""
           }
          },
          "scene": {
           "xaxis": {
            "backgroundcolor": "#E5ECF6",
            "gridcolor": "white",
            "gridwidth": 2,
            "linecolor": "white",
            "showbackground": true,
            "ticks": "",
            "zerolinecolor": "white"
           },
           "yaxis": {
            "backgroundcolor": "#E5ECF6",
            "gridcolor": "white",
            "gridwidth": 2,
            "linecolor": "white",
            "showbackground": true,
            "ticks": "",
            "zerolinecolor": "white"
           },
           "zaxis": {
            "backgroundcolor": "#E5ECF6",
            "gridcolor": "white",
            "gridwidth": 2,
            "linecolor": "white",
            "showbackground": true,
            "ticks": "",
            "zerolinecolor": "white"
           }
          },
          "shapedefaults": {
           "line": {
            "color": "#2a3f5f"
           }
          },
          "ternary": {
           "aaxis": {
            "gridcolor": "white",
            "linecolor": "white",
            "ticks": ""
           },
           "baxis": {
            "gridcolor": "white",
            "linecolor": "white",
            "ticks": ""
           },
           "bgcolor": "#E5ECF6",
           "caxis": {
            "gridcolor": "white",
            "linecolor": "white",
            "ticks": ""
           }
          },
          "title": {
           "x": 0.05
          },
          "xaxis": {
           "automargin": true,
           "gridcolor": "white",
           "linecolor": "white",
           "ticks": "",
           "title": {
            "standoff": 15
           },
           "zerolinecolor": "white",
           "zerolinewidth": 2
          },
          "yaxis": {
           "automargin": true,
           "gridcolor": "white",
           "linecolor": "white",
           "ticks": "",
           "title": {
            "standoff": 15
           },
           "zerolinecolor": "white",
           "zerolinewidth": 2
          }
         }
        },
        "title": {
         "text": "ITESO CENTER<br>R2: 0.8484303924224865 RMSE: 4.280983988385949"
        }
       }
      }
     },
     "metadata": {},
     "output_type": "display_data"
    }
   ],
   "source": [
    "# Definir rangos para las variables independientes\n",
    "x1_range = np.linspace(min(x_train_center['width']), max(x_train_center['width']), 20)\n",
    "x2_range = np.linspace(min(x_train_center['shoe_size']), max(x_train_center['shoe_size']), 20)\n",
    "x1_mesh, x2_mesh = np.meshgrid(x1_range, x2_range)\n",
    "\n",
    "# Escalar el meshgrid para predicción\n",
    "x_mesh_scaled = ss_center.transform(np.vstack((x1_mesh.ravel(), x2_mesh.ravel())).T)\n",
    "\n",
    "# Predecir los valores con el modelo escalado\n",
    "y_mesh_scaled = rg_c.predict(x_mesh_scaled)\n",
    "\n",
    "# Crear scatterplot 3D de los puntos reales\n",
    "scatter = go.Scatter3d(\n",
    "    x=x_test_center['width'], y=x_test_center['shoe_size'], z=y_test_center,\n",
    "    mode='markers',\n",
    "    marker=dict(size=8, color='red', opacity=0.7)\n",
    ")\n",
    "\n",
    "# Crear el plano de regresión\n",
    "surface = go.Surface(\n",
    "    x=x1_mesh, y=x2_mesh, z=y_mesh_scaled.reshape(x1_mesh.shape),\n",
    "    colorscale='Viridis', opacity=0.5\n",
    ")\n",
    "\n",
    "# Configuración del layout\n",
    "layout = go.Layout(\n",
    "    title=f\"ITESO CENTER<br>R2: {r2_score(y_test_center, r_pred_center)} RMSE: {root_mean_squared_error(y_test_center, r_pred_center)}\",\n",
    "    scene=dict(\n",
    "        xaxis_title='Ancho',\n",
    "        yaxis_title='Pie',\n",
    "        zaxis_title='Altura'\n",
    "    )\n",
    ")\n",
    "\n",
    "# Crear la figura\n",
    "fig = go.Figure(data=[scatter, surface], layout=layout)\n",
    "\n",
    "# Mostrar la figura interactiva\n",
    "fig.show()"
   ]
  },
  {
   "cell_type": "markdown",
   "metadata": {},
   "source": [
    "**¿Agregarías datos a tu base de datos para mejorar las predicciones del modelo?**\n",
    "\n",
    "Sí, al tener tan pocos datos, en específico 18 necesitamos más datos ya que las predicciones que se hagan con el modelo no van a ser tan confiables, ya que son más sensibles a datos atípicos."
   ]
  },
  {
   "cell_type": "markdown",
   "metadata": {},
   "source": [
    "**¿Cómo conseguirías dicha información?**\n",
    "\n",
    "Medimos a 70 personas más y como se muestra anteriormente se segmentaron los datos de la altura, se hicieron nuevos datos para los datos cuya altura fueran menor o igual al primer cuartil, para los que fueran mayor o igual al tercer cuartil y para los que estuvieran entre el primer y tercer cuartil, en específico se hicieron 100 para cada uno."
   ]
  },
  {
   "cell_type": "markdown",
   "metadata": {},
   "source": [
    "**¿Modificarías algún parámetro de tu modelo?**\n",
    "\n",
    "En este caso, al segmentar los datos por alturas, se hicieron 3 modelos. A los 3 modelos se le aplicó regularización Ridge con un alpha de 1.26, el cual se obtuvo mediante diferentes pruebas e intentos para obtener el valor óptimo."
   ]
  },
  {
   "cell_type": "markdown",
   "metadata": {},
   "source": [
    "## Parte 3"
   ]
  },
  {
   "cell_type": "markdown",
   "metadata": {},
   "source": [
    "### Países Bajos"
   ]
  },
  {
   "cell_type": "code",
   "execution_count": 90,
   "metadata": {},
   "outputs": [],
   "source": [
    "df = pd.read_csv('datos_gente_1.csv')"
   ]
  },
  {
   "cell_type": "code",
   "execution_count": 91,
   "metadata": {},
   "outputs": [
    {
     "data": {
      "text/html": [
       "<div>\n",
       "<style scoped>\n",
       "    .dataframe tbody tr th:only-of-type {\n",
       "        vertical-align: middle;\n",
       "    }\n",
       "\n",
       "    .dataframe tbody tr th {\n",
       "        vertical-align: top;\n",
       "    }\n",
       "\n",
       "    .dataframe thead th {\n",
       "        text-align: right;\n",
       "    }\n",
       "</style>\n",
       "<table border=\"1\" class=\"dataframe\">\n",
       "  <thead>\n",
       "    <tr style=\"text-align: right;\">\n",
       "      <th></th>\n",
       "      <th>height</th>\n",
       "      <th>width</th>\n",
       "      <th>shoe_size</th>\n",
       "    </tr>\n",
       "  </thead>\n",
       "  <tbody>\n",
       "    <tr>\n",
       "      <th>0</th>\n",
       "      <td>185</td>\n",
       "      <td>55</td>\n",
       "      <td>28.0</td>\n",
       "    </tr>\n",
       "    <tr>\n",
       "      <th>6</th>\n",
       "      <td>187</td>\n",
       "      <td>48</td>\n",
       "      <td>29.0</td>\n",
       "    </tr>\n",
       "    <tr>\n",
       "      <th>12</th>\n",
       "      <td>179</td>\n",
       "      <td>55</td>\n",
       "      <td>28.0</td>\n",
       "    </tr>\n",
       "    <tr>\n",
       "      <th>22</th>\n",
       "      <td>177</td>\n",
       "      <td>42</td>\n",
       "      <td>27.0</td>\n",
       "    </tr>\n",
       "    <tr>\n",
       "      <th>25</th>\n",
       "      <td>180</td>\n",
       "      <td>45</td>\n",
       "      <td>27.0</td>\n",
       "    </tr>\n",
       "    <tr>\n",
       "      <th>33</th>\n",
       "      <td>178</td>\n",
       "      <td>49</td>\n",
       "      <td>27.5</td>\n",
       "    </tr>\n",
       "    <tr>\n",
       "      <th>41</th>\n",
       "      <td>190</td>\n",
       "      <td>50</td>\n",
       "      <td>29.0</td>\n",
       "    </tr>\n",
       "    <tr>\n",
       "      <th>44</th>\n",
       "      <td>180</td>\n",
       "      <td>50</td>\n",
       "      <td>28.0</td>\n",
       "    </tr>\n",
       "    <tr>\n",
       "      <th>47</th>\n",
       "      <td>178</td>\n",
       "      <td>45</td>\n",
       "      <td>29.0</td>\n",
       "    </tr>\n",
       "    <tr>\n",
       "      <th>51</th>\n",
       "      <td>182</td>\n",
       "      <td>47</td>\n",
       "      <td>28.0</td>\n",
       "    </tr>\n",
       "    <tr>\n",
       "      <th>54</th>\n",
       "      <td>183</td>\n",
       "      <td>47</td>\n",
       "      <td>28.0</td>\n",
       "    </tr>\n",
       "    <tr>\n",
       "      <th>61</th>\n",
       "      <td>183</td>\n",
       "      <td>50</td>\n",
       "      <td>29.5</td>\n",
       "    </tr>\n",
       "    <tr>\n",
       "      <th>63</th>\n",
       "      <td>188</td>\n",
       "      <td>55</td>\n",
       "      <td>30.0</td>\n",
       "    </tr>\n",
       "    <tr>\n",
       "      <th>65</th>\n",
       "      <td>190</td>\n",
       "      <td>52</td>\n",
       "      <td>30.0</td>\n",
       "    </tr>\n",
       "    <tr>\n",
       "      <th>67</th>\n",
       "      <td>177</td>\n",
       "      <td>42</td>\n",
       "      <td>28.0</td>\n",
       "    </tr>\n",
       "    <tr>\n",
       "      <th>68</th>\n",
       "      <td>182</td>\n",
       "      <td>43</td>\n",
       "      <td>28.0</td>\n",
       "    </tr>\n",
       "    <tr>\n",
       "      <th>70</th>\n",
       "      <td>185</td>\n",
       "      <td>47</td>\n",
       "      <td>29.5</td>\n",
       "    </tr>\n",
       "    <tr>\n",
       "      <th>74</th>\n",
       "      <td>182</td>\n",
       "      <td>46</td>\n",
       "      <td>28.0</td>\n",
       "    </tr>\n",
       "  </tbody>\n",
       "</table>\n",
       "</div>"
      ],
      "text/plain": [
       "    height  width  shoe_size\n",
       "0      185     55       28.0\n",
       "6      187     48       29.0\n",
       "12     179     55       28.0\n",
       "22     177     42       27.0\n",
       "25     180     45       27.0\n",
       "33     178     49       27.5\n",
       "41     190     50       29.0\n",
       "44     180     50       28.0\n",
       "47     178     45       29.0\n",
       "51     182     47       28.0\n",
       "54     183     47       28.0\n",
       "61     183     50       29.5\n",
       "63     188     55       30.0\n",
       "65     190     52       30.0\n",
       "67     177     42       28.0\n",
       "68     182     43       28.0\n",
       "70     185     47       29.5\n",
       "74     182     46       28.0"
      ]
     },
     "execution_count": 91,
     "metadata": {},
     "output_type": "execute_result"
    }
   ],
   "source": [
    "df2 = df[df['height'] > 176.5]\n",
    "df2"
   ]
  },
  {
   "cell_type": "code",
   "execution_count": 92,
   "metadata": {},
   "outputs": [
    {
     "data": {
      "text/plain": [
       "array([[<Axes: title={'center': 'height'}>,\n",
       "        <Axes: title={'center': 'width'}>],\n",
       "       [<Axes: title={'center': 'shoe_size'}>, <Axes: >]], dtype=object)"
      ]
     },
     "execution_count": 92,
     "metadata": {},
     "output_type": "execute_result"
    },
    {
     "data": {
      "image/png": "[encoded data removed]",
      "text/plain": [
       "<Figure size 640x480 with 4 Axes>"
      ]
     },
     "metadata": {},
     "output_type": "display_data"
    }
   ],
   "source": [
    "df2.hist()"
   ]
  },
  {
   "cell_type": "code",
   "execution_count": 93,
   "metadata": {},
   "outputs": [
    {
     "data": {
      "text/plain": [
       "height       182.555556\n",
       "width         48.222222\n",
       "shoe_size     28.416667\n",
       "dtype: float64"
      ]
     },
     "execution_count": 93,
     "metadata": {},
     "output_type": "execute_result"
    }
   ],
   "source": [
    "df2.mean()"
   ]
  },
  {
   "cell_type": "code",
   "execution_count": 94,
   "metadata": {},
   "outputs": [
    {
     "data": {
      "text/plain": [
       "height       4.217920\n",
       "width        4.180565\n",
       "shoe_size    0.927520\n",
       "dtype: float64"
      ]
     },
     "execution_count": 94,
     "metadata": {},
     "output_type": "execute_result"
    }
   ],
   "source": [
    "df2.std()"
   ]
  },
  {
   "cell_type": "code",
   "execution_count": 95,
   "metadata": {},
   "outputs": [
    {
     "data": {
      "text/plain": [
       "array([172., 174., 175., 175., 175., 175., 176., 176., 176., 177., 177.,\n",
       "       177., 178., 179., 179., 179., 179., 179., 179., 179., 180., 180.,\n",
       "       180., 180., 180., 181., 181., 181., 181., 181., 181., 182., 182.,\n",
       "       182., 182., 182., 182., 182., 182., 182., 182., 182., 182., 183.,\n",
       "       183., 183., 183., 183., 183., 183., 183., 183., 183., 184., 184.,\n",
       "       184., 184., 184., 184., 184., 185., 185., 185., 185., 185., 185.,\n",
       "       185., 185., 185., 185., 185., 186., 186., 186., 186., 186., 186.,\n",
       "       186., 187., 187., 187., 187., 187., 187., 187., 187., 188., 188.,\n",
       "       188., 188., 188., 189., 189., 190., 191., 191., 191., 192., 193.,\n",
       "       194.])"
      ]
     },
     "execution_count": 95,
     "metadata": {},
     "output_type": "execute_result"
    }
   ],
   "source": [
    "df2_nuevo_altura = np.random.normal(loc=182.56, scale=4.22, size=100)\n",
    "df_altura_red= np.round(df2_nuevo_altura, 0)\n",
    "df_altura = np.sort(df_altura_red)\n",
    "df_altura"
   ]
  },
  {
   "cell_type": "code",
   "execution_count": 96,
   "metadata": {},
   "outputs": [
    {
     "data": {
      "text/plain": [
       "array([39., 40., 40., 40., 41., 41., 42., 42., 42., 42., 42., 42., 42.,\n",
       "       42., 43., 43., 43., 43., 43., 43., 43., 44., 44., 44., 45., 45.,\n",
       "       45., 45., 45., 45., 46., 46., 46., 46., 46., 46., 47., 47., 47.,\n",
       "       47., 47., 48., 48., 48., 48., 48., 48., 48., 48., 48., 48., 48.,\n",
       "       48., 49., 49., 49., 49., 49., 49., 49., 49., 49., 50., 50., 50.,\n",
       "       50., 50., 50., 50., 50., 51., 51., 51., 51., 51., 51., 51., 52.,\n",
       "       52., 52., 52., 52., 52., 52., 52., 52., 53., 53., 53., 53., 53.,\n",
       "       53., 53., 54., 55., 55., 55., 56., 56., 60.])"
      ]
     },
     "execution_count": 96,
     "metadata": {},
     "output_type": "execute_result"
    }
   ],
   "source": [
    "df2_nuevo_ancho = np.random.normal(loc=48.22, scale=4.18, size=100)\n",
    "df_ancho_red= np.round(df2_nuevo_ancho, 0)\n",
    "df_ancho = np.sort(df_ancho_red)\n",
    "df_ancho"
   ]
  },
  {
   "cell_type": "code",
   "execution_count": 97,
   "metadata": {},
   "outputs": [
    {
     "data": {
      "text/plain": [
       "array([26.5, 26.6, 26.6, 26.6, 26.7, 26.7, 26.8, 26.8, 27. , 27.1, 27.1,\n",
       "       27.2, 27.3, 27.3, 27.4, 27.4, 27.5, 27.5, 27.5, 27.5, 27.6, 27.7,\n",
       "       27.7, 27.7, 27.8, 27.8, 27.8, 27.8, 27.9, 27.9, 27.9, 27.9, 27.9,\n",
       "       27.9, 27.9, 27.9, 27.9, 28. , 28. , 28. , 28. , 28. , 28.1, 28.1,\n",
       "       28.1, 28.2, 28.2, 28.2, 28.3, 28.3, 28.3, 28.3, 28.3, 28.4, 28.4,\n",
       "       28.4, 28.4, 28.4, 28.5, 28.5, 28.5, 28.5, 28.5, 28.5, 28.5, 28.5,\n",
       "       28.6, 28.6, 28.6, 28.6, 28.6, 28.6, 28.6, 28.6, 28.7, 28.7, 28.7,\n",
       "       28.8, 28.9, 28.9, 29. , 29. , 29. , 29. , 29. , 29. , 29.1, 29.1,\n",
       "       29.1, 29.2, 29.2, 29.3, 29.3, 29.4, 29.7, 29.9, 29.9, 29.9, 30. ,\n",
       "       30.6])"
      ]
     },
     "execution_count": 97,
     "metadata": {},
     "output_type": "execute_result"
    }
   ],
   "source": [
    "df2_nuevo_pie = np.random.normal(loc=28.42, scale=0.93, size=100)\n",
    "df_pie_red= np.round(df2_nuevo_pie, 1)\n",
    "df_pie= np.sort(df_pie_red)\n",
    "df_pie"
   ]
  },
  {
   "cell_type": "code",
   "execution_count": 98,
   "metadata": {},
   "outputs": [
    {
     "data": {
      "text/html": [
       "<div>\n",
       "<style scoped>\n",
       "    .dataframe tbody tr th:only-of-type {\n",
       "        vertical-align: middle;\n",
       "    }\n",
       "\n",
       "    .dataframe tbody tr th {\n",
       "        vertical-align: top;\n",
       "    }\n",
       "\n",
       "    .dataframe thead th {\n",
       "        text-align: right;\n",
       "    }\n",
       "</style>\n",
       "<table border=\"1\" class=\"dataframe\">\n",
       "  <thead>\n",
       "    <tr style=\"text-align: right;\">\n",
       "      <th></th>\n",
       "      <th>height</th>\n",
       "      <th>width</th>\n",
       "      <th>shoe_size</th>\n",
       "    </tr>\n",
       "  </thead>\n",
       "  <tbody>\n",
       "    <tr>\n",
       "      <th>0</th>\n",
       "      <td>172.0</td>\n",
       "      <td>39.0</td>\n",
       "      <td>26.5</td>\n",
       "    </tr>\n",
       "    <tr>\n",
       "      <th>1</th>\n",
       "      <td>174.0</td>\n",
       "      <td>40.0</td>\n",
       "      <td>26.6</td>\n",
       "    </tr>\n",
       "    <tr>\n",
       "      <th>2</th>\n",
       "      <td>175.0</td>\n",
       "      <td>40.0</td>\n",
       "      <td>26.6</td>\n",
       "    </tr>\n",
       "    <tr>\n",
       "      <th>3</th>\n",
       "      <td>175.0</td>\n",
       "      <td>40.0</td>\n",
       "      <td>26.6</td>\n",
       "    </tr>\n",
       "    <tr>\n",
       "      <th>4</th>\n",
       "      <td>175.0</td>\n",
       "      <td>41.0</td>\n",
       "      <td>26.7</td>\n",
       "    </tr>\n",
       "    <tr>\n",
       "      <th>...</th>\n",
       "      <td>...</td>\n",
       "      <td>...</td>\n",
       "      <td>...</td>\n",
       "    </tr>\n",
       "    <tr>\n",
       "      <th>95</th>\n",
       "      <td>191.0</td>\n",
       "      <td>55.0</td>\n",
       "      <td>29.9</td>\n",
       "    </tr>\n",
       "    <tr>\n",
       "      <th>96</th>\n",
       "      <td>191.0</td>\n",
       "      <td>55.0</td>\n",
       "      <td>29.9</td>\n",
       "    </tr>\n",
       "    <tr>\n",
       "      <th>97</th>\n",
       "      <td>192.0</td>\n",
       "      <td>56.0</td>\n",
       "      <td>29.9</td>\n",
       "    </tr>\n",
       "    <tr>\n",
       "      <th>98</th>\n",
       "      <td>193.0</td>\n",
       "      <td>56.0</td>\n",
       "      <td>30.0</td>\n",
       "    </tr>\n",
       "    <tr>\n",
       "      <th>99</th>\n",
       "      <td>194.0</td>\n",
       "      <td>60.0</td>\n",
       "      <td>30.6</td>\n",
       "    </tr>\n",
       "  </tbody>\n",
       "</table>\n",
       "<p>100 rows × 3 columns</p>\n",
       "</div>"
      ],
      "text/plain": [
       "    height  width  shoe_size\n",
       "0    172.0   39.0       26.5\n",
       "1    174.0   40.0       26.6\n",
       "2    175.0   40.0       26.6\n",
       "3    175.0   40.0       26.6\n",
       "4    175.0   41.0       26.7\n",
       "..     ...    ...        ...\n",
       "95   191.0   55.0       29.9\n",
       "96   191.0   55.0       29.9\n",
       "97   192.0   56.0       29.9\n",
       "98   193.0   56.0       30.0\n",
       "99   194.0   60.0       30.6\n",
       "\n",
       "[100 rows x 3 columns]"
      ]
     },
     "execution_count": 98,
     "metadata": {},
     "output_type": "execute_result"
    }
   ],
   "source": [
    "df_pb = pd.DataFrame({'height': df_altura, 'width': df_ancho, 'shoe_size': df_pie})\n",
    "df_pb"
   ]
  },
  {
   "cell_type": "code",
   "execution_count": 99,
   "metadata": {},
   "outputs": [
    {
     "data": {
      "text/plain": [
       "array([[<Axes: title={'center': 'height'}>,\n",
       "        <Axes: title={'center': 'width'}>],\n",
       "       [<Axes: title={'center': 'shoe_size'}>, <Axes: >]], dtype=object)"
      ]
     },
     "execution_count": 99,
     "metadata": {},
     "output_type": "execute_result"
    },
    {
     "data": {
      "image/png": "[encoded data removed]",
      "text/plain": [
       "<Figure size 640x480 with 4 Axes>"
      ]
     },
     "metadata": {},
     "output_type": "display_data"
    }
   ],
   "source": [
    "df_pb.hist()"
   ]
  },
  {
   "cell_type": "code",
   "execution_count": 100,
   "metadata": {},
   "outputs": [],
   "source": [
    "X = df_pb.drop(\"height\", axis=1)\n",
    "y = df_pb[\"height\"]"
   ]
  },
  {
   "cell_type": "code",
   "execution_count": 101,
   "metadata": {},
   "outputs": [],
   "source": [
    "x_train_pb, x_test_pb, y_train_pb, y_test_pb = train_test_split(X, y, test_size=0.20, random_state=48)"
   ]
  },
  {
   "cell_type": "code",
   "execution_count": 102,
   "metadata": {},
   "outputs": [],
   "source": [
    "ss_pb = StandardScaler()\n",
    "x_train_pb_ss = ss_pb.fit_transform(x_train_pb)\n",
    "x_test_pb_ss = ss_pb.transform(x_test_pb)"
   ]
  },
  {
   "cell_type": "code",
   "execution_count": 103,
   "metadata": {},
   "outputs": [
    {
     "name": "stdout",
     "output_type": "stream",
     "text": [
      "R2:0.9895413607602608, RMSE: 0.4599479592538973\n"
     ]
    }
   ],
   "source": [
    "modelo_pb = LinearRegression()\n",
    "modelo_pb.fit(x_train_pb_ss, y_train_pb)\n",
    "pb_pred = modelo_pb.predict(x_test_pb_ss)\n",
    "r2 = r2_score(y_test_pb, pb_pred)\n",
    "print(f\"R2:{r2_score(y_test_pb, pb_pred)}, RMSE: {root_mean_squared_error(y_test_pb, pb_pred)}\")"
   ]
  },
  {
   "cell_type": "code",
   "execution_count": 104,
   "metadata": {},
   "outputs": [
    {
     "name": "stdout",
     "output_type": "stream",
     "text": [
      "Pendientes: [0.84759467 3.47508486]\n",
      "Intercepto: 183.125\n"
     ]
    }
   ],
   "source": [
    "print(f\"Pendientes: {modelo_pb.coef_}\")\n",
    "print(f\"Intercepto: {modelo_pb.intercept_}\")"
   ]
  },
  {
   "cell_type": "code",
   "execution_count": 105,
   "metadata": {},
   "outputs": [
    {
     "name": "stderr",
     "output_type": "stream",
     "text": [
      "c:\\Users\\Roi_f\\anaconda3\\envs\\personal\\Lib\\site-packages\\sklearn\\base.py:493: UserWarning:\n",
      "\n",
      "X does not have valid feature names, but StandardScaler was fitted with feature names\n",
      "\n"
     ]
    }
   ],
   "source": [
    "values_pb= ss_pb.transform([[44,27.5]])"
   ]
  },
  {
   "cell_type": "code",
   "execution_count": 106,
   "metadata": {},
   "outputs": [
    {
     "data": {
      "text/plain": [
       "array([179.30199308])"
      ]
     },
     "execution_count": 106,
     "metadata": {},
     "output_type": "execute_result"
    }
   ],
   "source": [
    "modelo_pb.predict(values_pb)"
   ]
  },
  {
   "cell_type": "code",
   "execution_count": 107,
   "metadata": {},
   "outputs": [],
   "source": [
    "x_train_pb = np.array(x_train_pb)\n",
    "x_test_pb = np.array(x_test_pb)"
   ]
  },
  {
   "cell_type": "code",
   "execution_count": 108,
   "metadata": {},
   "outputs": [
    {
     "name": "stderr",
     "output_type": "stream",
     "text": [
      "c:\\Users\\Roi_f\\anaconda3\\envs\\personal\\Lib\\site-packages\\sklearn\\base.py:493: UserWarning:\n",
      "\n",
      "X does not have valid feature names, but StandardScaler was fitted with feature names\n",
      "\n"
     ]
    },
    {
     "data": {
      "application/vnd.plotly.v1+json": {
       "config": {
        "plotlyServerURL": "https://plot.ly"
       },
       "data": [
        {
         "marker": {
          "color": "red",
          "opacity": 0.7,
          "size": 8
         },
         "mode": "markers",
         "type": "scatter3d",
         "x": [
          54,
          41,
          51,
          42,
          42,
          52,
          50,
          42,
          49,
          50,
          47,
          52,
          52,
          50,
          48,
          43,
          55,
          49,
          45,
          51
         ],
         "y": [
          29.4,
          26.7,
          28.6,
          27.1,
          27.2,
          28.9,
          28.6,
          27,
          28.5,
          28.5,
          28,
          29,
          29,
          28.5,
          28.3,
          27.5,
          29.9,
          28.5,
          27.8,
          28.7
         ],
         "z": [
          190,
          175,
          186,
          177,
          177,
          187,
          185,
          176,
          184,
          185,
          182,
          187,
          187,
          185,
          183,
          179,
          191,
          185,
          180,
          186
         ]
        },
        {
         "colorscale": [
          [
           0,
           "#440154"
          ],
          [
           0.1111111111111111,
           "#482878"
          ],
          [
           0.2222222222222222,
           "#3e4989"
          ],
          [
           0.3333333333333333,
           "#31688e"
          ],
          [
           0.4444444444444444,
           "#26828e"
          ],
          [
           0.5555555555555556,
           "#1f9e89"
          ],
          [
           0.6666666666666666,
           "#35b779"
          ],
          [
           0.7777777777777778,
           "#6ece58"
          ],
          [
           0.8888888888888888,
           "#b5de2b"
          ],
          [
           1,
           "#fde725"
          ]
         ],
         "opacity": 0.5,
         "type": "surface",
         "x": [
          [
           39,
           40.10526315789474,
           41.21052631578947,
           42.31578947368421,
           43.421052631578945,
           44.526315789473685,
           45.631578947368425,
           46.73684210526316,
           47.8421052631579,
           48.94736842105263,
           50.05263157894737,
           51.15789473684211,
           52.26315789473684,
           53.36842105263158,
           54.473684210526315,
           55.578947368421055,
           56.684210526315795,
           57.78947368421053,
           58.89473684210526,
           60
          ],
          [
           39,
           40.10526315789474,
           41.21052631578947,
           42.31578947368421,
           43.421052631578945,
           44.526315789473685,
           45.631578947368425,
           46.73684210526316,
           47.8421052631579,
           48.94736842105263,
           50.05263157894737,
           51.15789473684211,
           52.26315789473684,
           53.36842105263158,
           54.473684210526315,
           55.578947368421055,
           56.684210526315795,
           57.78947368421053,
           58.89473684210526,
           60
          ],
          [
           39,
           40.10526315789474,
           41.21052631578947,
           42.31578947368421,
           43.421052631578945,
           44.526315789473685,
           45.631578947368425,
           46.73684210526316,
           47.8421052631579,
           48.94736842105263,
           50.05263157894737,
           51.15789473684211,
           52.26315789473684,
           53.36842105263158,
           54.473684210526315,
           55.578947368421055,
           56.684210526315795,
           57.78947368421053,
           58.89473684210526,
           60
          ],
          [
           39,
           40.10526315789474,
           41.21052631578947,
           42.31578947368421,
           43.421052631578945,
           44.526315789473685,
           45.631578947368425,
           46.73684210526316,
           47.8421052631579,
           48.94736842105263,
           50.05263157894737,
           51.15789473684211,
           52.26315789473684,
           53.36842105263158,
           54.473684210526315,
           55.578947368421055,
           56.684210526315795,
           57.78947368421053,
           58.89473684210526,
           60
          ],
          [
           39,
           40.10526315789474,
           41.21052631578947,
           42.31578947368421,
           43.421052631578945,
           44.526315789473685,
           45.631578947368425,
           46.73684210526316,
           47.8421052631579,
           48.94736842105263,
           50.05263157894737,
           51.15789473684211,
           52.26315789473684,
           53.36842105263158,
           54.473684210526315,
           55.578947368421055,
           56.684210526315795,
           57.78947368421053,
           58.89473684210526,
           60
          ],
          [
           39,
           40.10526315789474,
           41.21052631578947,
           42.31578947368421,
           43.421052631578945,
           44.526315789473685,
           45.631578947368425,
           46.73684210526316,
           47.8421052631579,
           48.94736842105263,
           50.05263157894737,
           51.15789473684211,
           52.26315789473684,
           53.36842105263158,
           54.473684210526315,
           55.578947368421055,
           56.684210526315795,
           57.78947368421053,
           58.89473684210526,
           60
          ],
          [
           39,
           40.10526315789474,
           41.21052631578947,
           42.31578947368421,
           43.421052631578945,
           44.526315789473685,
           45.631578947368425,
           46.73684210526316,
           47.8421052631579,
           48.94736842105263,
           50.05263157894737,
           51.15789473684211,
           52.26315789473684,
           53.36842105263158,
           54.473684210526315,
           55.578947368421055,
           56.684210526315795,
           57.78947368421053,
           58.89473684210526,
           60
          ],
          [
           39,
           40.10526315789474,
           41.21052631578947,
           42.31578947368421,
           43.421052631578945,
           44.526315789473685,
           45.631578947368425,
           46.73684210526316,
           47.8421052631579,
           48.94736842105263,
           50.05263157894737,
           51.15789473684211,
           52.26315789473684,
           53.36842105263158,
           54.473684210526315,
           55.578947368421055,
           56.684210526315795,
           57.78947368421053,
           58.89473684210526,
           60
          ],
          [
           39,
           40.10526315789474,
           41.21052631578947,
           42.31578947368421,
           43.421052631578945,
           44.526315789473685,
           45.631578947368425,
           46.73684210526316,
           47.8421052631579,
           48.94736842105263,
           50.05263157894737,
           51.15789473684211,
           52.26315789473684,
           53.36842105263158,
           54.473684210526315,
           55.578947368421055,
           56.684210526315795,
           57.78947368421053,
           58.89473684210526,
           60
          ],
          [
           39,
           40.10526315789474,
           41.21052631578947,
           42.31578947368421,
           43.421052631578945,
           44.526315789473685,
           45.631578947368425,
           46.73684210526316,
           47.8421052631579,
           48.94736842105263,
           50.05263157894737,
           51.15789473684211,
           52.26315789473684,
           53.36842105263158,
           54.473684210526315,
           55.578947368421055,
           56.684210526315795,
           57.78947368421053,
           58.89473684210526,
           60
          ],
          [
           39,
           40.10526315789474,
           41.21052631578947,
           42.31578947368421,
           43.421052631578945,
           44.526315789473685,
           45.631578947368425,
           46.73684210526316,
           47.8421052631579,
           48.94736842105263,
           50.05263157894737,
           51.15789473684211,
           52.26315789473684,
           53.36842105263158,
           54.473684210526315,
           55.578947368421055,
           56.684210526315795,
           57.78947368421053,
           58.89473684210526,
           60
          ],
          [
           39,
           40.10526315789474,
           41.21052631578947,
           42.31578947368421,
           43.421052631578945,
           44.526315789473685,
           45.631578947368425,
           46.73684210526316,
           47.8421052631579,
           48.94736842105263,
           50.05263157894737,
           51.15789473684211,
           52.26315789473684,
           53.36842105263158,
           54.473684210526315,
           55.578947368421055,
           56.684210526315795,
           57.78947368421053,
           58.89473684210526,
           60
          ],
          [
           39,
           40.10526315789474,
           41.21052631578947,
           42.31578947368421,
           43.421052631578945,
           44.526315789473685,
           45.631578947368425,
           46.73684210526316,
           47.8421052631579,
           48.94736842105263,
           50.05263157894737,
           51.15789473684211,
           52.26315789473684,
           53.36842105263158,
           54.473684210526315,
           55.578947368421055,
           56.684210526315795,
           57.78947368421053,
           58.89473684210526,
           60
          ],
          [
           39,
           40.10526315789474,
           41.21052631578947,
           42.31578947368421,
           43.421052631578945,
           44.526315789473685,
           45.631578947368425,
           46.73684210526316,
           47.8421052631579,
           48.94736842105263,
           50.05263157894737,
           51.15789473684211,
           52.26315789473684,
           53.36842105263158,
           54.473684210526315,
           55.578947368421055,
           56.684210526315795,
           57.78947368421053,
           58.89473684210526,
           60
          ],
          [
           39,
           40.10526315789474,
           41.21052631578947,
           42.31578947368421,
           43.421052631578945,
           44.526315789473685,
           45.631578947368425,
           46.73684210526316,
           47.8421052631579,
           48.94736842105263,
           50.05263157894737,
           51.15789473684211,
           52.26315789473684,
           53.36842105263158,
           54.473684210526315,
           55.578947368421055,
           56.684210526315795,
           57.78947368421053,
           58.89473684210526,
           60
          ],
          [
           39,
           40.10526315789474,
           41.21052631578947,
           42.31578947368421,
           43.421052631578945,
           44.526315789473685,
           45.631578947368425,
           46.73684210526316,
           47.8421052631579,
           48.94736842105263,
           50.05263157894737,
           51.15789473684211,
           52.26315789473684,
           53.36842105263158,
           54.473684210526315,
           55.578947368421055,
           56.684210526315795,
           57.78947368421053,
           58.89473684210526,
           60
          ],
          [
           39,
           40.10526315789474,
           41.21052631578947,
           42.31578947368421,
           43.421052631578945,
           44.526315789473685,
           45.631578947368425,
           46.73684210526316,
           47.8421052631579,
           48.94736842105263,
           50.05263157894737,
           51.15789473684211,
           52.26315789473684,
           53.36842105263158,
           54.473684210526315,
           55.578947368421055,
           56.684210526315795,
           57.78947368421053,
           58.89473684210526,
           60
          ],
          [
           39,
           40.10526315789474,
           41.21052631578947,
           42.31578947368421,
           43.421052631578945,
           44.526315789473685,
           45.631578947368425,
           46.73684210526316,
           47.8421052631579,
           48.94736842105263,
           50.05263157894737,
           51.15789473684211,
           52.26315789473684,
           53.36842105263158,
           54.473684210526315,
           55.578947368421055,
           56.684210526315795,
           57.78947368421053,
           58.89473684210526,
           60
          ],
          [
           39,
           40.10526315789474,
           41.21052631578947,
           42.31578947368421,
           43.421052631578945,
           44.526315789473685,
           45.631578947368425,
           46.73684210526316,
           47.8421052631579,
           48.94736842105263,
           50.05263157894737,
           51.15789473684211,
           52.26315789473684,
           53.36842105263158,
           54.473684210526315,
           55.578947368421055,
           56.684210526315795,
           57.78947368421053,
           58.89473684210526,
           60
          ],
          [
           39,
           40.10526315789474,
           41.21052631578947,
           42.31578947368421,
           43.421052631578945,
           44.526315789473685,
           45.631578947368425,
           46.73684210526316,
           47.8421052631579,
           48.94736842105263,
           50.05263157894737,
           51.15789473684211,
           52.26315789473684,
           53.36842105263158,
           54.473684210526315,
           55.578947368421055,
           56.684210526315795,
           57.78947368421053,
           58.89473684210526,
           60
          ]
         ],
         "y": [
          [
           26.5,
           26.5,
           26.5,
           26.5,
           26.5,
           26.5,
           26.5,
           26.5,
           26.5,
           26.5,
           26.5,
           26.5,
           26.5,
           26.5,
           26.5,
           26.5,
           26.5,
           26.5,
           26.5,
           26.5
          ],
          [
           26.71578947368421,
           26.71578947368421,
           26.71578947368421,
           26.71578947368421,
           26.71578947368421,
           26.71578947368421,
           26.71578947368421,
           26.71578947368421,
           26.71578947368421,
           26.71578947368421,
           26.71578947368421,
           26.71578947368421,
           26.71578947368421,
           26.71578947368421,
           26.71578947368421,
           26.71578947368421,
           26.71578947368421,
           26.71578947368421,
           26.71578947368421,
           26.71578947368421
          ],
          [
           26.931578947368422,
           26.931578947368422,
           26.931578947368422,
           26.931578947368422,
           26.931578947368422,
           26.931578947368422,
           26.931578947368422,
           26.931578947368422,
           26.931578947368422,
           26.931578947368422,
           26.931578947368422,
           26.931578947368422,
           26.931578947368422,
           26.931578947368422,
           26.931578947368422,
           26.931578947368422,
           26.931578947368422,
           26.931578947368422,
           26.931578947368422,
           26.931578947368422
          ],
          [
           27.147368421052633,
           27.147368421052633,
           27.147368421052633,
           27.147368421052633,
           27.147368421052633,
           27.147368421052633,
           27.147368421052633,
           27.147368421052633,
           27.147368421052633,
           27.147368421052633,
           27.147368421052633,
           27.147368421052633,
           27.147368421052633,
           27.147368421052633,
           27.147368421052633,
           27.147368421052633,
           27.147368421052633,
           27.147368421052633,
           27.147368421052633,
           27.147368421052633
          ],
          [
           27.363157894736844,
           27.363157894736844,
           27.363157894736844,
           27.363157894736844,
           27.363157894736844,
           27.363157894736844,
           27.363157894736844,
           27.363157894736844,
           27.363157894736844,
           27.363157894736844,
           27.363157894736844,
           27.363157894736844,
           27.363157894736844,
           27.363157894736844,
           27.363157894736844,
           27.363157894736844,
           27.363157894736844,
           27.363157894736844,
           27.363157894736844,
           27.363157894736844
          ],
          [
           27.578947368421055,
           27.578947368421055,
           27.578947368421055,
           27.578947368421055,
           27.578947368421055,
           27.578947368421055,
           27.578947368421055,
           27.578947368421055,
           27.578947368421055,
           27.578947368421055,
           27.578947368421055,
           27.578947368421055,
           27.578947368421055,
           27.578947368421055,
           27.578947368421055,
           27.578947368421055,
           27.578947368421055,
           27.578947368421055,
           27.578947368421055,
           27.578947368421055
          ],
          [
           27.794736842105262,
           27.794736842105262,
           27.794736842105262,
           27.794736842105262,
           27.794736842105262,
           27.794736842105262,
           27.794736842105262,
           27.794736842105262,
           27.794736842105262,
           27.794736842105262,
           27.794736842105262,
           27.794736842105262,
           27.794736842105262,
           27.794736842105262,
           27.794736842105262,
           27.794736842105262,
           27.794736842105262,
           27.794736842105262,
           27.794736842105262,
           27.794736842105262
          ],
          [
           28.010526315789473,
           28.010526315789473,
           28.010526315789473,
           28.010526315789473,
           28.010526315789473,
           28.010526315789473,
           28.010526315789473,
           28.010526315789473,
           28.010526315789473,
           28.010526315789473,
           28.010526315789473,
           28.010526315789473,
           28.010526315789473,
           28.010526315789473,
           28.010526315789473,
           28.010526315789473,
           28.010526315789473,
           28.010526315789473,
           28.010526315789473,
           28.010526315789473
          ],
          [
           28.226315789473684,
           28.226315789473684,
           28.226315789473684,
           28.226315789473684,
           28.226315789473684,
           28.226315789473684,
           28.226315789473684,
           28.226315789473684,
           28.226315789473684,
           28.226315789473684,
           28.226315789473684,
           28.226315789473684,
           28.226315789473684,
           28.226315789473684,
           28.226315789473684,
           28.226315789473684,
           28.226315789473684,
           28.226315789473684,
           28.226315789473684,
           28.226315789473684
          ],
          [
           28.442105263157895,
           28.442105263157895,
           28.442105263157895,
           28.442105263157895,
           28.442105263157895,
           28.442105263157895,
           28.442105263157895,
           28.442105263157895,
           28.442105263157895,
           28.442105263157895,
           28.442105263157895,
           28.442105263157895,
           28.442105263157895,
           28.442105263157895,
           28.442105263157895,
           28.442105263157895,
           28.442105263157895,
           28.442105263157895,
           28.442105263157895,
           28.442105263157895
          ],
          [
           28.657894736842106,
           28.657894736842106,
           28.657894736842106,
           28.657894736842106,
           28.657894736842106,
           28.657894736842106,
           28.657894736842106,
           28.657894736842106,
           28.657894736842106,
           28.657894736842106,
           28.657894736842106,
           28.657894736842106,
           28.657894736842106,
           28.657894736842106,
           28.657894736842106,
           28.657894736842106,
           28.657894736842106,
           28.657894736842106,
           28.657894736842106,
           28.657894736842106
          ],
          [
           28.873684210526317,
           28.873684210526317,
           28.873684210526317,
           28.873684210526317,
           28.873684210526317,
           28.873684210526317,
           28.873684210526317,
           28.873684210526317,
           28.873684210526317,
           28.873684210526317,
           28.873684210526317,
           28.873684210526317,
           28.873684210526317,
           28.873684210526317,
           28.873684210526317,
           28.873684210526317,
           28.873684210526317,
           28.873684210526317,
           28.873684210526317,
           28.873684210526317
          ],
          [
           29.089473684210528,
           29.089473684210528,
           29.089473684210528,
           29.089473684210528,
           29.089473684210528,
           29.089473684210528,
           29.089473684210528,
           29.089473684210528,
           29.089473684210528,
           29.089473684210528,
           29.089473684210528,
           29.089473684210528,
           29.089473684210528,
           29.089473684210528,
           29.089473684210528,
           29.089473684210528,
           29.089473684210528,
           29.089473684210528,
           29.089473684210528,
           29.089473684210528
          ],
          [
           29.30526315789474,
           29.30526315789474,
           29.30526315789474,
           29.30526315789474,
           29.30526315789474,
           29.30526315789474,
           29.30526315789474,
           29.30526315789474,
           29.30526315789474,
           29.30526315789474,
           29.30526315789474,
           29.30526315789474,
           29.30526315789474,
           29.30526315789474,
           29.30526315789474,
           29.30526315789474,
           29.30526315789474,
           29.30526315789474,
           29.30526315789474,
           29.30526315789474
          ],
          [
           29.52105263157895,
           29.52105263157895,
           29.52105263157895,
           29.52105263157895,
           29.52105263157895,
           29.52105263157895,
           29.52105263157895,
           29.52105263157895,
           29.52105263157895,
           29.52105263157895,
           29.52105263157895,
           29.52105263157895,
           29.52105263157895,
           29.52105263157895,
           29.52105263157895,
           29.52105263157895,
           29.52105263157895,
           29.52105263157895,
           29.52105263157895,
           29.52105263157895
          ],
          [
           29.736842105263158,
           29.736842105263158,
           29.736842105263158,
           29.736842105263158,
           29.736842105263158,
           29.736842105263158,
           29.736842105263158,
           29.736842105263158,
           29.736842105263158,
           29.736842105263158,
           29.736842105263158,
           29.736842105263158,
           29.736842105263158,
           29.736842105263158,
           29.736842105263158,
           29.736842105263158,
           29.736842105263158,
           29.736842105263158,
           29.736842105263158,
           29.736842105263158
          ],
          [
           29.95263157894737,
           29.95263157894737,
           29.95263157894737,
           29.95263157894737,
           29.95263157894737,
           29.95263157894737,
           29.95263157894737,
           29.95263157894737,
           29.95263157894737,
           29.95263157894737,
           29.95263157894737,
           29.95263157894737,
           29.95263157894737,
           29.95263157894737,
           29.95263157894737,
           29.95263157894737,
           29.95263157894737,
           29.95263157894737,
           29.95263157894737,
           29.95263157894737
          ],
          [
           30.16842105263158,
           30.16842105263158,
           30.16842105263158,
           30.16842105263158,
           30.16842105263158,
           30.16842105263158,
           30.16842105263158,
           30.16842105263158,
           30.16842105263158,
           30.16842105263158,
           30.16842105263158,
           30.16842105263158,
           30.16842105263158,
           30.16842105263158,
           30.16842105263158,
           30.16842105263158,
           30.16842105263158,
           30.16842105263158,
           30.16842105263158,
           30.16842105263158
          ],
          [
           30.38421052631579,
           30.38421052631579,
           30.38421052631579,
           30.38421052631579,
           30.38421052631579,
           30.38421052631579,
           30.38421052631579,
           30.38421052631579,
           30.38421052631579,
           30.38421052631579,
           30.38421052631579,
           30.38421052631579,
           30.38421052631579,
           30.38421052631579,
           30.38421052631579,
           30.38421052631579,
           30.38421052631579,
           30.38421052631579,
           30.38421052631579,
           30.38421052631579
          ],
          [
           30.6,
           30.6,
           30.6,
           30.6,
           30.6,
           30.6,
           30.6,
           30.6,
           30.6,
           30.6,
           30.6,
           30.6,
           30.6,
           30.6,
           30.6,
           30.6,
           30.6,
           30.6,
           30.6,
           30.6
          ]
         ],
         "z": [
          [
           174.09672363728822,
           174.31418005859186,
           174.5316364798955,
           174.7490929011991,
           174.96654932250274,
           175.18400574380638,
           175.40146216511002,
           175.61891858641366,
           175.83637500771727,
           176.0538314290209,
           176.27128785032454,
           176.48874427162818,
           176.70620069293182,
           176.92365711423543,
           177.14111353553906,
           177.3585699568427,
           177.57602637814634,
           177.79348279944998,
           178.01093922075358,
           178.22839564205722
          ],
          [
           175.00768710357124,
           175.22514352487488,
           175.44259994617852,
           175.66005636748216,
           175.8775127887858,
           176.0949692100894,
           176.31242563139304,
           176.52988205269668,
           176.74733847400032,
           176.96479489530395,
           177.18225131660756,
           177.3997077379112,
           177.61716415921484,
           177.83462058051848,
           178.0520770018221,
           178.26953342312572,
           178.48698984442936,
           178.704446265733,
           178.92190268703663,
           179.13935910834024
          ],
          [
           175.9186505698543,
           176.13610699115793,
           176.35356341246154,
           176.57101983376518,
           176.78847625506882,
           177.00593267637245,
           177.2233890976761,
           177.4408455189797,
           177.65830194028334,
           177.87575836158697,
           178.0932147828906,
           178.31067120419422,
           178.52812762549786,
           178.7455840468015,
           178.96304046810513,
           179.18049688940877,
           179.39795331071238,
           179.61540973201602,
           179.83286615331966,
           180.0503225746233
          ],
          [
           176.82961403613731,
           177.04707045744095,
           177.2645268787446,
           177.4819833000482,
           177.69943972135184,
           177.91689614265547,
           178.1343525639591,
           178.35180898526275,
           178.56926540656636,
           178.78672182787,
           179.00417824917363,
           179.22163467047727,
           179.43909109178088,
           179.65654751308452,
           179.87400393438816,
           180.0914603556918,
           180.30891677699543,
           180.52637319829904,
           180.74382961960268,
           180.96128604090632
          ],
          [
           177.74057750242034,
           177.95803392372397,
           178.1754903450276,
           178.39294676633125,
           178.61040318763486,
           178.8278596089385,
           179.04531603024213,
           179.26277245154577,
           179.4802288728494,
           179.69768529415302,
           179.91514171545666,
           180.1325981367603,
           180.35005455806393,
           180.56751097936757,
           180.78496740067118,
           181.00242382197482,
           181.21988024327845,
           181.4373366645821,
           181.65479308588573,
           181.87224950718934
          ],
          [
           178.6515409687034,
           178.868997390007,
           179.08645381131063,
           179.30391023261427,
           179.5213666539179,
           179.73882307522155,
           179.95627949652516,
           180.1737359178288,
           180.39119233913243,
           180.60864876043607,
           180.8261051817397,
           181.04356160304332,
           181.26101802434695,
           181.4784744456506,
           181.69593086695423,
           181.91338728825787,
           182.13084370956147,
           182.3483001308651,
           182.56575655216875,
           182.7832129734724
          ],
          [
           179.56250443498638,
           179.77996085629002,
           179.99741727759366,
           180.2148736988973,
           180.43233012020093,
           180.64978654150454,
           180.86724296280818,
           181.08469938411181,
           181.30215580541545,
           181.51961222671906,
           181.7370686480227,
           181.95452506932634,
           182.17198149062997,
           182.3894379119336,
           182.60689433323722,
           182.82435075454086,
           183.0418071758445,
           183.25926359714813,
           183.47672001845177,
           183.69417643975538
          ],
          [
           180.47346790126943,
           180.69092432257304,
           180.90838074387668,
           181.12583716518031,
           181.34329358648395,
           181.5607500077876,
           181.7782064290912,
           181.99566285039484,
           182.21311927169847,
           182.4305756930021,
           182.64803211430575,
           182.86548853560936,
           183.082944956913,
           183.30040137821663,
           183.51785779952027,
           183.7353142208239,
           183.95277064212752,
           184.17022706343116,
           184.3876834847348,
           184.60513990603843
          ],
          [
           181.38443136755245,
           181.6018877888561,
           181.81934421015973,
           182.03680063146334,
           182.25425705276697,
           182.4717134740706,
           182.68916989537425,
           182.9066263166779,
           183.1240827379815,
           183.34153915928513,
           183.55899558058877,
           183.7764520018924,
           183.99390842319602,
           184.21136484449966,
           184.4288212658033,
           184.64627768710693,
           184.86373410841057,
           185.08119052971418,
           185.29864695101782,
           185.51610337232145
          ],
          [
           182.29539483383547,
           182.5128512551391,
           182.73030767644275,
           182.9477640977464,
           183.16522051905,
           183.38267694035363,
           183.60013336165727,
           183.8175897829609,
           184.03504620426455,
           184.25250262556816,
           184.4699590468718,
           184.68741546817543,
           184.90487188947907,
           185.1223283107827,
           185.33978473208631,
           185.55724115338995,
           185.7746975746936,
           185.99215399599723,
           186.20961041730084,
           186.42706683860447
          ],
          [
           183.20635830011852,
           183.42381472142213,
           183.64127114272577,
           183.8587275640294,
           184.07618398533305,
           184.29364040663668,
           184.5110968279403,
           184.72855324924393,
           184.94600967054757,
           185.1634660918512,
           185.38092251315481,
           185.59837893445845,
           185.8158353557621,
           186.03329177706573,
           186.25074819836937,
           186.46820461967297,
           186.6856610409766,
           186.90311746228025,
           187.1205738835839,
           187.33803030488752
          ],
          [
           184.11732176640155,
           184.33477818770518,
           184.5522346090088,
           184.76969103031243,
           184.98714745161607,
           185.2046038729197,
           185.42206029422334,
           185.63951671552695,
           185.8569731368306,
           186.07442955813423,
           186.29188597943786,
           186.5093424007415,
           186.7267988220451,
           186.94425524334875,
           187.1617116646524,
           187.37916808595602,
           187.59662450725966,
           187.81408092856327,
           188.0315373498669,
           188.24899377117055
          ],
          [
           185.02828523268457,
           185.2457416539882,
           185.46319807529184,
           185.68065449659548,
           185.8981109178991,
           186.11556733920273,
           186.33302376050636,
           186.55048018181,
           186.76793660311364,
           186.98539302441725,
           187.2028494457209,
           187.42030586702452,
           187.63776228832816,
           187.85521870963177,
           188.0726751309354,
           188.29013155223905,
           188.50758797354268,
           188.72504439484632,
           188.94250081614993,
           189.15995723745357
          ],
          [
           185.9392486989676,
           186.15670512027123,
           186.37416154157486,
           186.5916179628785,
           186.80907438418214,
           187.02653080548575,
           187.2439872267894,
           187.46144364809302,
           187.67890006939666,
           187.8963564907003,
           188.1138129120039,
           188.33126933330755,
           188.54872575461118,
           188.76618217591482,
           188.98363859721846,
           189.20109501852207,
           189.4185514398257,
           189.63600786112934,
           189.85346428243298,
           190.0709207037366
          ],
          [
           186.85021216525064,
           187.06766858655428,
           187.28512500785789,
           187.50258142916152,
           187.72003785046516,
           187.9374942717688,
           188.1549506930724,
           188.37240711437605,
           188.58986353567968,
           188.80731995698332,
           189.02477637828696,
           189.24223279959057,
           189.4596892208942,
           189.67714564219784,
           189.89460206350148,
           190.11205848480512,
           190.32951490610873,
           190.54697132741236,
           190.764427748716,
           190.98188417001964
          ],
          [
           187.76117563153366,
           187.97863205283727,
           188.1960884741409,
           188.41354489544455,
           188.63100131674818,
           188.8484577380518,
           189.06591415935543,
           189.28337058065907,
           189.5008270019627,
           189.71828342326634,
           189.93573984456995,
           190.1531962658736,
           190.37065268717723,
           190.58810910848086,
           190.8055655297845,
           191.0230219510881,
           191.24047837239175,
           191.4579347936954,
           191.67539121499902,
           191.89284763630266
          ],
          [
           188.67213909781668,
           188.88959551912032,
           189.10705194042393,
           189.32450836172757,
           189.5419647830312,
           189.75942120433484,
           189.97687762563848,
           190.1943340469421,
           190.41179046824573,
           190.62924688954936,
           190.846703310853,
           191.06415973215664,
           191.28161615346025,
           191.4990725747639,
           191.71652899606752,
           191.93398541737116,
           192.15144183867477,
           192.3688982599784,
           192.58635468128205,
           192.80381110258568
          ],
          [
           189.5831025640997,
           189.80055898540334,
           190.01801540670698,
           190.2354718280106,
           190.45292824931423,
           190.67038467061786,
           190.8878410919215,
           191.10529751322514,
           191.32275393452875,
           191.5402103558324,
           191.75766677713602,
           191.97512319843966,
           192.1925796197433,
           192.4100360410469,
           192.62749246235055,
           192.84494888365418,
           193.06240530495782,
           193.27986172626146,
           193.49731814756507,
           193.7147745688687
          ],
          [
           190.49406603038273,
           190.71152245168636,
           190.92897887299,
           191.14643529429364,
           191.36389171559728,
           191.58134813690089,
           191.79880455820452,
           192.01626097950816,
           192.2337174008118,
           192.45117382211544,
           192.66863024341905,
           192.88608666472268,
           193.10354308602632,
           193.32099950732996,
           193.53845592863357,
           193.7559123499372,
           193.97336877124084,
           194.19082519254448,
           194.40828161384812,
           194.62573803515173
          ],
          [
           191.40502949666578,
           191.6224859179694,
           191.83994233927302,
           192.05739876057666,
           192.2748551818803,
           192.49231160318394,
           192.70976802448757,
           192.92722444579118,
           193.14468086709482,
           193.36213728839846,
           193.5795937097021,
           193.7970501310057,
           194.01450655230934,
           194.23196297361298,
           194.44941939491662,
           194.66687581622026,
           194.88433223752386,
           195.1017886588275,
           195.31924508013114,
           195.53670150143478
          ]
         ]
        }
       ],
       "layout": {
        "scene": {
         "xaxis": {
          "title": {
           "text": "Ancho"
          }
         },
         "yaxis": {
          "title": {
           "text": "Pie"
          }
         },
         "zaxis": {
          "title": {
           "text": "Altura"
          }
         }
        },
        "template": {
         "data": {
          "bar": [
           {
            "error_x": {
             "color": "#2a3f5f"
            },
            "error_y": {
             "color": "#2a3f5f"
            },
            "marker": {
             "line": {
              "color": "#E5ECF6",
              "width": 0.5
             },
             "pattern": {
              "fillmode": "overlay",
              "size": 10,
              "solidity": 0.2
             }
            },
            "type": "bar"
           }
          ],
          "barpolar": [
           {
            "marker": {
             "line": {
              "color": "#E5ECF6",
              "width": 0.5
             },
             "pattern": {
              "fillmode": "overlay",
              "size": 10,
              "solidity": 0.2
             }
            },
            "type": "barpolar"
           }
          ],
          "carpet": [
           {
            "aaxis": {
             "endlinecolor": "#2a3f5f",
             "gridcolor": "white",
             "linecolor": "white",
             "minorgridcolor": "white",
             "startlinecolor": "#2a3f5f"
            },
            "baxis": {
             "endlinecolor": "#2a3f5f",
             "gridcolor": "white",
             "linecolor": "white",
             "minorgridcolor": "white",
             "startlinecolor": "#2a3f5f"
            },
            "type": "carpet"
           }
          ],
          "choropleth": [
           {
            "colorbar": {
             "outlinewidth": 0,
             "ticks": ""
            },
            "type": "choropleth"
           }
          ],
          "contour": [
           {
            "colorbar": {
             "outlinewidth": 0,
             "ticks": ""
            },
            "colorscale": [
             [
              0,
              "#0d0887"
             ],
             [
              0.1111111111111111,
              "#46039f"
             ],
             [
              0.2222222222222222,
              "#7201a8"
             ],
             [
              0.3333333333333333,
              "#9c179e"
             ],
             [
              0.4444444444444444,
              "#bd3786"
             ],
             [
              0.5555555555555556,
              "#d8576b"
             ],
             [
              0.6666666666666666,
              "#ed7953"
             ],
             [
              0.7777777777777778,
              "#fb9f3a"
             ],
             [
              0.8888888888888888,
              "#fdca26"
             ],
             [
              1,
              "#f0f921"
             ]
            ],
            "type": "contour"
           }
          ],
          "contourcarpet": [
           {
            "colorbar": {
             "outlinewidth": 0,
             "ticks": ""
            },
            "type": "contourcarpet"
           }
          ],
          "heatmap": [
           {
            "colorbar": {
             "outlinewidth": 0,
             "ticks": ""
            },
            "colorscale": [
             [
              0,
              "#0d0887"
             ],
             [
              0.1111111111111111,
              "#46039f"
             ],
             [
              0.2222222222222222,
              "#7201a8"
             ],
             [
              0.3333333333333333,
              "#9c179e"
             ],
             [
              0.4444444444444444,
              "#bd3786"
             ],
             [
              0.5555555555555556,
              "#d8576b"
             ],
             [
              0.6666666666666666,
              "#ed7953"
             ],
             [
              0.7777777777777778,
              "#fb9f3a"
             ],
             [
              0.8888888888888888,
              "#fdca26"
             ],
             [
              1,
              "#f0f921"
             ]
            ],
            "type": "heatmap"
           }
          ],
          "heatmapgl": [
           {
            "colorbar": {
             "outlinewidth": 0,
             "ticks": ""
            },
            "colorscale": [
             [
              0,
              "#0d0887"
             ],
             [
              0.1111111111111111,
              "#46039f"
             ],
             [
              0.2222222222222222,
              "#7201a8"
             ],
             [
              0.3333333333333333,
              "#9c179e"
             ],
             [
              0.4444444444444444,
              "#bd3786"
             ],
             [
              0.5555555555555556,
              "#d8576b"
             ],
             [
              0.6666666666666666,
              "#ed7953"
             ],
             [
              0.7777777777777778,
              "#fb9f3a"
             ],
             [
              0.8888888888888888,
              "#fdca26"
             ],
             [
              1,
              "#f0f921"
             ]
            ],
            "type": "heatmapgl"
           }
          ],
          "histogram": [
           {
            "marker": {
             "pattern": {
              "fillmode": "overlay",
              "size": 10,
              "solidity": 0.2
             }
            },
            "type": "histogram"
           }
          ],
          "histogram2d": [
           {
            "colorbar": {
             "outlinewidth": 0,
             "ticks": ""
            },
            "colorscale": [
             [
              0,
              "#0d0887"
             ],
             [
              0.1111111111111111,
              "#46039f"
             ],
             [
              0.2222222222222222,
              "#7201a8"
             ],
             [
              0.3333333333333333,
              "#9c179e"
             ],
             [
              0.4444444444444444,
              "#bd3786"
             ],
             [
              0.5555555555555556,
              "#d8576b"
             ],
             [
              0.6666666666666666,
              "#ed7953"
             ],
             [
              0.7777777777777778,
              "#fb9f3a"
             ],
             [
              0.8888888888888888,
              "#fdca26"
             ],
             [
              1,
              "#f0f921"
             ]
            ],
            "type": "histogram2d"
           }
          ],
          "histogram2dcontour": [
           {
            "colorbar": {
             "outlinewidth": 0,
             "ticks": ""
            },
            "colorscale": [
             [
              0,
              "#0d0887"
             ],
             [
              0.1111111111111111,
              "#46039f"
             ],
             [
              0.2222222222222222,
              "#7201a8"
             ],
             [
              0.3333333333333333,
              "#9c179e"
             ],
             [
              0.4444444444444444,
              "#bd3786"
             ],
             [
              0.5555555555555556,
              "#d8576b"
             ],
             [
              0.6666666666666666,
              "#ed7953"
             ],
             [
              0.7777777777777778,
              "#fb9f3a"
             ],
             [
              0.8888888888888888,
              "#fdca26"
             ],
             [
              1,
              "#f0f921"
             ]
            ],
            "type": "histogram2dcontour"
           }
          ],
          "mesh3d": [
           {
            "colorbar": {
             "outlinewidth": 0,
             "ticks": ""
            },
            "type": "mesh3d"
           }
          ],
          "parcoords": [
           {
            "line": {
             "colorbar": {
              "outlinewidth": 0,
              "ticks": ""
             }
            },
            "type": "parcoords"
           }
          ],
          "pie": [
           {
            "automargin": true,
            "type": "pie"
           }
          ],
          "scatter": [
           {
            "fillpattern": {
             "fillmode": "overlay",
             "size": 10,
             "solidity": 0.2
            },
            "type": "scatter"
           }
          ],
          "scatter3d": [
           {
            "line": {
             "colorbar": {
              "outlinewidth": 0,
              "ticks": ""
             }
            },
            "marker": {
             "colorbar": {
              "outlinewidth": 0,
              "ticks": ""
             }
            },
            "type": "scatter3d"
           }
          ],
          "scattercarpet": [
           {
            "marker": {
             "colorbar": {
              "outlinewidth": 0,
              "ticks": ""
             }
            },
            "type": "scattercarpet"
           }
          ],
          "scattergeo": [
           {
            "marker": {
             "colorbar": {
              "outlinewidth": 0,
              "ticks": ""
             }
            },
            "type": "scattergeo"
           }
          ],
          "scattergl": [
           {
            "marker": {
             "colorbar": {
              "outlinewidth": 0,
              "ticks": ""
             }
            },
            "type": "scattergl"
           }
          ],
          "scattermapbox": [
           {
            "marker": {
             "colorbar": {
              "outlinewidth": 0,
              "ticks": ""
             }
            },
            "type": "scattermapbox"
           }
          ],
          "scatterpolar": [
           {
            "marker": {
             "colorbar": {
              "outlinewidth": 0,
              "ticks": ""
             }
            },
            "type": "scatterpolar"
           }
          ],
          "scatterpolargl": [
           {
            "marker": {
             "colorbar": {
              "outlinewidth": 0,
              "ticks": ""
             }
            },
            "type": "scatterpolargl"
           }
          ],
          "scatterternary": [
           {
            "marker": {
             "colorbar": {
              "outlinewidth": 0,
              "ticks": ""
             }
            },
            "type": "scatterternary"
           }
          ],
          "surface": [
           {
            "colorbar": {
             "outlinewidth": 0,
             "ticks": ""
            },
            "colorscale": [
             [
              0,
              "#0d0887"
             ],
             [
              0.1111111111111111,
              "#46039f"
             ],
             [
              0.2222222222222222,
              "#7201a8"
             ],
             [
              0.3333333333333333,
              "#9c179e"
             ],
             [
              0.4444444444444444,
              "#bd3786"
             ],
             [
              0.5555555555555556,
              "#d8576b"
             ],
             [
              0.6666666666666666,
              "#ed7953"
             ],
             [
              0.7777777777777778,
              "#fb9f3a"
             ],
             [
              0.8888888888888888,
              "#fdca26"
             ],
             [
              1,
              "#f0f921"
             ]
            ],
            "type": "surface"
           }
          ],
          "table": [
           {
            "cells": {
             "fill": {
              "color": "#EBF0F8"
             },
             "line": {
              "color": "white"
             }
            },
            "header": {
             "fill": {
              "color": "#C8D4E3"
             },
             "line": {
              "color": "white"
             }
            },
            "type": "table"
           }
          ]
         },
         "layout": {
          "annotationdefaults": {
           "arrowcolor": "#2a3f5f",
           "arrowhead": 0,
           "arrowwidth": 1
          },
          "autotypenumbers": "strict",
          "coloraxis": {
           "colorbar": {
            "outlinewidth": 0,
            "ticks": ""
           }
          },
          "colorscale": {
           "diverging": [
            [
             0,
             "#8e0152"
            ],
            [
             0.1,
             "#c51b7d"
            ],
            [
             0.2,
             "#de77ae"
            ],
            [
             0.3,
             "#f1b6da"
            ],
            [
             0.4,
             "#fde0ef"
            ],
            [
             0.5,
             "#f7f7f7"
            ],
            [
             0.6,
             "#e6f5d0"
            ],
            [
             0.7,
             "#b8e186"
            ],
            [
             0.8,
             "#7fbc41"
            ],
            [
             0.9,
             "#4d9221"
            ],
            [
             1,
             "#276419"
            ]
           ],
           "sequential": [
            [
             0,
             "#0d0887"
            ],
            [
             0.1111111111111111,
             "#46039f"
            ],
            [
             0.2222222222222222,
             "#7201a8"
            ],
            [
             0.3333333333333333,
             "#9c179e"
            ],
            [
             0.4444444444444444,
             "#bd3786"
            ],
            [
             0.5555555555555556,
             "#d8576b"
            ],
            [
             0.6666666666666666,
             "#ed7953"
            ],
            [
             0.7777777777777778,
             "#fb9f3a"
            ],
            [
             0.8888888888888888,
             "#fdca26"
            ],
            [
             1,
             "#f0f921"
            ]
           ],
           "sequentialminus": [
            [
             0,
             "#0d0887"
            ],
            [
             0.1111111111111111,
             "#46039f"
            ],
            [
             0.2222222222222222,
             "#7201a8"
            ],
            [
             0.3333333333333333,
             "#9c179e"
            ],
            [
             0.4444444444444444,
             "#bd3786"
            ],
            [
             0.5555555555555556,
             "#d8576b"
            ],
            [
             0.6666666666666666,
             "#ed7953"
            ],
            [
             0.7777777777777778,
             "#fb9f3a"
            ],
            [
             0.8888888888888888,
             "#fdca26"
            ],
            [
             1,
             "#f0f921"
            ]
           ]
          },
          "colorway": [
           "#636efa",
           "#EF553B",
           "#00cc96",
           "#ab63fa",
           "#FFA15A",
           "#19d3f3",
           "#FF6692",
           "#B6E880",
           "#FF97FF",
           "#FECB52"
          ],
          "font": {
           "color": "#2a3f5f"
          },
          "geo": {
           "bgcolor": "white",
           "lakecolor": "white",
           "landcolor": "#E5ECF6",
           "showlakes": true,
           "showland": true,
           "subunitcolor": "white"
          },
          "hoverlabel": {
           "align": "left"
          },
          "hovermode": "closest",
          "mapbox": {
           "style": "light"
          },
          "paper_bgcolor": "white",
          "plot_bgcolor": "#E5ECF6",
          "polar": {
           "angularaxis": {
            "gridcolor": "white",
            "linecolor": "white",
            "ticks": ""
           },
           "bgcolor": "#E5ECF6",
           "radialaxis": {
            "gridcolor": "white",
            "linecolor": "white",
            "ticks": ""
           }
          },
          "scene": {
           "xaxis": {
            "backgroundcolor": "#E5ECF6",
            "gridcolor": "white",
            "gridwidth": 2,
            "linecolor": "white",
            "showbackground": true,
            "ticks": "",
            "zerolinecolor": "white"
           },
           "yaxis": {
            "backgroundcolor": "#E5ECF6",
            "gridcolor": "white",
            "gridwidth": 2,
            "linecolor": "white",
            "showbackground": true,
            "ticks": "",
            "zerolinecolor": "white"
           },
           "zaxis": {
            "backgroundcolor": "#E5ECF6",
            "gridcolor": "white",
            "gridwidth": 2,
            "linecolor": "white",
            "showbackground": true,
            "ticks": "",
            "zerolinecolor": "white"
           }
          },
          "shapedefaults": {
           "line": {
            "color": "#2a3f5f"
           }
          },
          "ternary": {
           "aaxis": {
            "gridcolor": "white",
            "linecolor": "white",
            "ticks": ""
           },
           "baxis": {
            "gridcolor": "white",
            "linecolor": "white",
            "ticks": ""
           },
           "bgcolor": "#E5ECF6",
           "caxis": {
            "gridcolor": "white",
            "linecolor": "white",
            "ticks": ""
           }
          },
          "title": {
           "x": 0.05
          },
          "xaxis": {
           "automargin": true,
           "gridcolor": "white",
           "linecolor": "white",
           "ticks": "",
           "title": {
            "standoff": 15
           },
           "zerolinecolor": "white",
           "zerolinewidth": 2
          },
          "yaxis": {
           "automargin": true,
           "gridcolor": "white",
           "linecolor": "white",
           "ticks": "",
           "title": {
            "standoff": 15
           },
           "zerolinecolor": "white",
           "zerolinewidth": 2
          }
         }
        },
        "title": {
         "text": "REGRESION<br>R2: 0.9895413607602608 RMSE: 0.4599479592538973"
        }
       }
      }
     },
     "metadata": {},
     "output_type": "display_data"
    }
   ],
   "source": [
    "# Definir rangos para las variables independientes\n",
    "x1_range = np.linspace(min(x_train_pb[:, 0]), max(x_train_pb[:, 0]), 20)\n",
    "x2_range = np.linspace(min(x_train_pb[:, 1]), max(x_train_pb[:, 1]), 20)\n",
    "x1_mesh, x2_mesh = np.meshgrid(x1_range, x2_range)\n",
    "\n",
    "# Escalar el meshgrid para predicción\n",
    "x_mesh_scaled = ss_pb.transform(np.vstack((x1_mesh.ravel(), x2_mesh.ravel())).T)\n",
    "\n",
    "# Predecir los valores con el modelo escalado\n",
    "y_mesh_scaled = modelo_pb.predict(x_mesh_scaled)\n",
    "\n",
    "# Crear scatterplot 3D de los puntos reales\n",
    "scatter = go.Scatter3d(\n",
    "    x=x_test_pb[:, 0], y=x_test_pb[:, 1], z=y_test_pb,\n",
    "    mode='markers',\n",
    "    marker=dict(size=8, color='red', opacity=0.7)\n",
    ")\n",
    "\n",
    "# Crear el plano de regresión\n",
    "surface = go.Surface(\n",
    "    x=x1_mesh, y=x2_mesh, z=y_mesh_scaled.reshape(x1_mesh.shape),\n",
    "    colorscale='Viridis', opacity=0.5\n",
    ")\n",
    "\n",
    "# Configuración del layout\n",
    "layout = go.Layout(\n",
    "    title=f\"REGRESION<br>R2: {r2_score(y_test_pb, pb_pred)} RMSE: {root_mean_squared_error(y_test_pb, pb_pred)}\",\n",
    "    scene=dict(\n",
    "        xaxis_title='Ancho',\n",
    "        yaxis_title='Pie',\n",
    "        zaxis_title='Altura'\n",
    "    )\n",
    ")\n",
    "\n",
    "# Crear la figura\n",
    "fig = go.Figure(data=[scatter, surface], layout=layout)\n",
    "\n",
    "# Mostrar la figura interactiva\n",
    "fig.show()\n"
   ]
  },
  {
   "cell_type": "markdown",
   "metadata": {},
   "source": [
    "**¿Agregarías datos a tu base de datos para mejorar las predicciones del modelo?**\n",
    "\n",
    "Sí, ya que la altura promedio de un mexicano no es la misma que la altura de una persona de Países Bajos."
   ]
  },
  {
   "cell_type": "markdown",
   "metadata": {},
   "source": [
    "**¿Cómo conseguirías dicha información?**\n",
    "\n",
    "Al tener que el promedio de altura de un hombre de Países Bajos es de 183 cm y la altura promedio de una mujer de Países Bajos es de 170 cm, promediamos las alturas y nos basamos en los datos originales y en los que recabamos de las 70 personas que medimos para crear nuevos datos."
   ]
  },
  {
   "cell_type": "markdown",
   "metadata": {},
   "source": [
    "**¿Modificarías algún parámetro de tu modelo?**\n",
    "\n",
    "En este caso, al no tener ningún dato de personas de países bajos y después de hacer gridsearch para obtener el modelo con las mejores métricas, llegamos a la conclusión de que una regresión lineal simple era el mejor modelo, por lo que no aplicamos ninguna regularización."
   ]
  },
  {
   "cell_type": "markdown",
   "metadata": {},
   "source": [
    "## Parte 4"
   ]
  },
  {
   "cell_type": "markdown",
   "metadata": {},
   "source": [
    "### Ambos contextos"
   ]
  },
  {
   "cell_type": "code",
   "execution_count": 109,
   "metadata": {},
   "outputs": [],
   "source": [
    "df_combined = pd.concat([df_center, data_left, data_right, df_pb])"
   ]
  },
  {
   "cell_type": "code",
   "execution_count": 110,
   "metadata": {},
   "outputs": [],
   "source": [
    "# Dividir los datos en entrenamiento y prueba\n",
    "X_c = df_combined.drop(\"height\", axis=1)\n",
    "y_c = df_combined[\"height\"]"
   ]
  },
  {
   "cell_type": "code",
   "execution_count": 111,
   "metadata": {},
   "outputs": [],
   "source": [
    "x_train, x_test, y_train, y_test = train_test_split(X_c, y_c, test_size=0.2, random_state=42)  "
   ]
  },
  {
   "cell_type": "code",
   "execution_count": 112,
   "metadata": {},
   "outputs": [
    {
     "name": "stdout",
     "output_type": "stream",
     "text": [
      "Ridge Regression:\n",
      "Best parameters: {'alpha': 1.0}\n",
      "RMSE: 0.58\n",
      "\n",
      "Lasso Regression:\n",
      "Best parameters: {'alpha': 1.0}\n",
      "RMSE: 1.05\n",
      "\n",
      "Elastic Net Regression:\n",
      "Best parameters: {'alpha': 1.0, 'l1_ratio': 0.1}\n",
      "RMSE: 0.99\n"
     ]
    }
   ],
   "source": [
    "ridge_params = {'alpha': np.logspace(0, 10, 20)}\n",
    "lasso_params = {'alpha': np.logspace(0, 6, 10)}\n",
    "enet_params = {'alpha': np.logspace(0, 6, 20), 'l1_ratio': [0.1, 0.2, 0.3, 0.5, 0.7, 0.9]}\n",
    "\n",
    "\n",
    "ridge = Ridge()\n",
    "lasso = Lasso()\n",
    "enet = ElasticNet()\n",
    "\n",
    "\n",
    "ridge_grid = GridSearchCV(ridge, ridge_params, scoring='neg_mean_squared_error', cv=5)\n",
    "lasso_grid = GridSearchCV(lasso, lasso_params, scoring='neg_mean_squared_error', cv=5)\n",
    "enet_grid = GridSearchCV(enet, enet_params, scoring='neg_mean_squared_error', cv=5)\n",
    "\n",
    "ridge_grid.fit(X, y)\n",
    "lasso_grid.fit(X, y)\n",
    "enet_grid.fit(X, y)\n",
    "\n",
    "\n",
    "print(\"Ridge Regression:\")\n",
    "print(f\"Best parameters: {ridge_grid.best_params_}\")\n",
    "print(f\"RMSE: {np.sqrt(-ridge_grid.best_score_):.2f}\")\n",
    "\n",
    "print(\"\\nLasso Regression:\")\n",
    "print(f\"Best parameters: {lasso_grid.best_params_}\")\n",
    "print(f\"RMSE: {np.sqrt(-lasso_grid.best_score_):.2f}\")\n",
    "\n",
    "print(\"\\nElastic Net Regression:\")\n",
    "print(f\"Best parameters: {enet_grid.best_params_}\")\n",
    "print(f\"RMSE: {np.sqrt(-enet_grid.best_score_):.2f}\")"
   ]
  },
  {
   "cell_type": "code",
   "execution_count": 113,
   "metadata": {},
   "outputs": [],
   "source": [
    "ss = StandardScaler()\n",
    "x_train_ss = ss.fit_transform(x_train)\n",
    "x_test_ss = ss.transform(x_test)"
   ]
  },
  {
   "cell_type": "code",
   "execution_count": 114,
   "metadata": {},
   "outputs": [
    {
     "data": {
      "text/html": [
       "<style>#sk-container-id-1 {\n",
       "  /* Definition of color scheme common for light and dark mode */\n",
       "  --sklearn-color-text: black;\n",
       "  --sklearn-color-line: gray;\n",
       "  /* Definition of color scheme for unfitted estimators */\n",
       "  --sklearn-color-unfitted-level-0: #fff5e6;\n",
       "  --sklearn-color-unfitted-level-1: #f6e4d2;\n",
       "  --sklearn-color-unfitted-level-2: #ffe0b3;\n",
       "  --sklearn-color-unfitted-level-3: chocolate;\n",
       "  /* Definition of color scheme for fitted estimators */\n",
       "  --sklearn-color-fitted-level-0: #f0f8ff;\n",
       "  --sklearn-color-fitted-level-1: #d4ebff;\n",
       "  --sklearn-color-fitted-level-2: #b3dbfd;\n",
       "  --sklearn-color-fitted-level-3: cornflowerblue;\n",
       "\n",
       "  /* Specific color for light theme */\n",
       "  --sklearn-color-text-on-default-background: var(--sg-text-color, var(--theme-code-foreground, var(--jp-content-font-color1, black)));\n",
       "  --sklearn-color-background: var(--sg-background-color, var(--theme-background, var(--jp-layout-color0, white)));\n",
       "  --sklearn-color-border-box: var(--sg-text-color, var(--theme-code-foreground, var(--jp-content-font-color1, black)));\n",
       "  --sklearn-color-icon: #696969;\n",
       "\n",
       "  @media (prefers-color-scheme: dark) {\n",
       "    /* Redefinition of color scheme for dark theme */\n",
       "    --sklearn-color-text-on-default-background: var(--sg-text-color, var(--theme-code-foreground, var(--jp-content-font-color1, white)));\n",
       "    --sklearn-color-background: var(--sg-background-color, var(--theme-background, var(--jp-layout-color0, #111)));\n",
       "    --sklearn-color-border-box: var(--sg-text-color, var(--theme-code-foreground, var(--jp-content-font-color1, white)));\n",
       "    --sklearn-color-icon: #878787;\n",
       "  }\n",
       "}\n",
       "\n",
       "#sk-container-id-1 {\n",
       "  color: var(--sklearn-color-text);\n",
       "}\n",
       "\n",
       "#sk-container-id-1 pre {\n",
       "  padding: 0;\n",
       "}\n",
       "\n",
       "#sk-container-id-1 input.sk-hidden--visually {\n",
       "  border: 0;\n",
       "  clip: rect(1px 1px 1px 1px);\n",
       "  clip: rect(1px, 1px, 1px, 1px);\n",
       "  height: 1px;\n",
       "  margin: -1px;\n",
       "  overflow: hidden;\n",
       "  padding: 0;\n",
       "  position: absolute;\n",
       "  width: 1px;\n",
       "}\n",
       "\n",
       "#sk-container-id-1 div.sk-dashed-wrapped {\n",
       "  border: 1px dashed var(--sklearn-color-line);\n",
       "  margin: 0 0.4em 0.5em 0.4em;\n",
       "  box-sizing: border-box;\n",
       "  padding-bottom: 0.4em;\n",
       "  background-color: var(--sklearn-color-background);\n",
       "}\n",
       "\n",
       "#sk-container-id-1 div.sk-container {\n",
       "  /* jupyter's `normalize.less` sets `[hidden] { display: none; }`\n",
       "     but bootstrap.min.css set `[hidden] { display: none !important; }`\n",
       "     so we also need the `!important` here to be able to override the\n",
       "     default hidden behavior on the sphinx rendered scikit-learn.org.\n",
       "     See: https://github.com/scikit-learn/scikit-learn/issues/21755 */\n",
       "  display: inline-block !important;\n",
       "  position: relative;\n",
       "}\n",
       "\n",
       "#sk-container-id-1 div.sk-text-repr-fallback {\n",
       "  display: none;\n",
       "}\n",
       "\n",
       "div.sk-parallel-item,\n",
       "div.sk-serial,\n",
       "div.sk-item {\n",
       "  /* draw centered vertical line to link estimators */\n",
       "  background-image: linear-gradient(var(--sklearn-color-text-on-default-background), var(--sklearn-color-text-on-default-background));\n",
       "  background-size: 2px 100%;\n",
       "  background-repeat: no-repeat;\n",
       "  background-position: center center;\n",
       "}\n",
       "\n",
       "/* Parallel-specific style estimator block */\n",
       "\n",
       "#sk-container-id-1 div.sk-parallel-item::after {\n",
       "  content: \"\";\n",
       "  width: 100%;\n",
       "  border-bottom: 2px solid var(--sklearn-color-text-on-default-background);\n",
       "  flex-grow: 1;\n",
       "}\n",
       "\n",
       "#sk-container-id-1 div.sk-parallel {\n",
       "  display: flex;\n",
       "  align-items: stretch;\n",
       "  justify-content: center;\n",
       "  background-color: var(--sklearn-color-background);\n",
       "  position: relative;\n",
       "}\n",
       "\n",
       "#sk-container-id-1 div.sk-parallel-item {\n",
       "  display: flex;\n",
       "  flex-direction: column;\n",
       "}\n",
       "\n",
       "#sk-container-id-1 div.sk-parallel-item:first-child::after {\n",
       "  align-self: flex-end;\n",
       "  width: 50%;\n",
       "}\n",
       "\n",
       "#sk-container-id-1 div.sk-parallel-item:last-child::after {\n",
       "  align-self: flex-start;\n",
       "  width: 50%;\n",
       "}\n",
       "\n",
       "#sk-container-id-1 div.sk-parallel-item:only-child::after {\n",
       "  width: 0;\n",
       "}\n",
       "\n",
       "/* Serial-specific style estimator block */\n",
       "\n",
       "#sk-container-id-1 div.sk-serial {\n",
       "  display: flex;\n",
       "  flex-direction: column;\n",
       "  align-items: center;\n",
       "  background-color: var(--sklearn-color-background);\n",
       "  padding-right: 1em;\n",
       "  padding-left: 1em;\n",
       "}\n",
       "\n",
       "\n",
       "/* Toggleable style: style used for estimator/Pipeline/ColumnTransformer box that is\n",
       "clickable and can be expanded/collapsed.\n",
       "- Pipeline and ColumnTransformer use this feature and define the default style\n",
       "- Estimators will overwrite some part of the style using the `sk-estimator` class\n",
       "*/\n",
       "\n",
       "/* Pipeline and ColumnTransformer style (default) */\n",
       "\n",
       "#sk-container-id-1 div.sk-toggleable {\n",
       "  /* Default theme specific background. It is overwritten whether we have a\n",
       "  specific estimator or a Pipeline/ColumnTransformer */\n",
       "  background-color: var(--sklearn-color-background);\n",
       "}\n",
       "\n",
       "/* Toggleable label */\n",
       "#sk-container-id-1 label.sk-toggleable__label {\n",
       "  cursor: pointer;\n",
       "  display: block;\n",
       "  width: 100%;\n",
       "  margin-bottom: 0;\n",
       "  padding: 0.5em;\n",
       "  box-sizing: border-box;\n",
       "  text-align: center;\n",
       "}\n",
       "\n",
       "#sk-container-id-1 label.sk-toggleable__label-arrow:before {\n",
       "  /* Arrow on the left of the label */\n",
       "  content: \"▸\";\n",
       "  float: left;\n",
       "  margin-right: 0.25em;\n",
       "  color: var(--sklearn-color-icon);\n",
       "}\n",
       "\n",
       "#sk-container-id-1 label.sk-toggleable__label-arrow:hover:before {\n",
       "  color: var(--sklearn-color-text);\n",
       "}\n",
       "\n",
       "/* Toggleable content - dropdown */\n",
       "\n",
       "#sk-container-id-1 div.sk-toggleable__content {\n",
       "  max-height: 0;\n",
       "  max-width: 0;\n",
       "  overflow: hidden;\n",
       "  text-align: left;\n",
       "  /* unfitted */\n",
       "  background-color: var(--sklearn-color-unfitted-level-0);\n",
       "}\n",
       "\n",
       "#sk-container-id-1 div.sk-toggleable__content.fitted {\n",
       "  /* fitted */\n",
       "  background-color: var(--sklearn-color-fitted-level-0);\n",
       "}\n",
       "\n",
       "#sk-container-id-1 div.sk-toggleable__content pre {\n",
       "  margin: 0.2em;\n",
       "  border-radius: 0.25em;\n",
       "  color: var(--sklearn-color-text);\n",
       "  /* unfitted */\n",
       "  background-color: var(--sklearn-color-unfitted-level-0);\n",
       "}\n",
       "\n",
       "#sk-container-id-1 div.sk-toggleable__content.fitted pre {\n",
       "  /* unfitted */\n",
       "  background-color: var(--sklearn-color-fitted-level-0);\n",
       "}\n",
       "\n",
       "#sk-container-id-1 input.sk-toggleable__control:checked~div.sk-toggleable__content {\n",
       "  /* Expand drop-down */\n",
       "  max-height: 200px;\n",
       "  max-width: 100%;\n",
       "  overflow: auto;\n",
       "}\n",
       "\n",
       "#sk-container-id-1 input.sk-toggleable__control:checked~label.sk-toggleable__label-arrow:before {\n",
       "  content: \"▾\";\n",
       "}\n",
       "\n",
       "/* Pipeline/ColumnTransformer-specific style */\n",
       "\n",
       "#sk-container-id-1 div.sk-label input.sk-toggleable__control:checked~label.sk-toggleable__label {\n",
       "  color: var(--sklearn-color-text);\n",
       "  background-color: var(--sklearn-color-unfitted-level-2);\n",
       "}\n",
       "\n",
       "#sk-container-id-1 div.sk-label.fitted input.sk-toggleable__control:checked~label.sk-toggleable__label {\n",
       "  background-color: var(--sklearn-color-fitted-level-2);\n",
       "}\n",
       "\n",
       "/* Estimator-specific style */\n",
       "\n",
       "/* Colorize estimator box */\n",
       "#sk-container-id-1 div.sk-estimator input.sk-toggleable__control:checked~label.sk-toggleable__label {\n",
       "  /* unfitted */\n",
       "  background-color: var(--sklearn-color-unfitted-level-2);\n",
       "}\n",
       "\n",
       "#sk-container-id-1 div.sk-estimator.fitted input.sk-toggleable__control:checked~label.sk-toggleable__label {\n",
       "  /* fitted */\n",
       "  background-color: var(--sklearn-color-fitted-level-2);\n",
       "}\n",
       "\n",
       "#sk-container-id-1 div.sk-label label.sk-toggleable__label,\n",
       "#sk-container-id-1 div.sk-label label {\n",
       "  /* The background is the default theme color */\n",
       "  color: var(--sklearn-color-text-on-default-background);\n",
       "}\n",
       "\n",
       "/* On hover, darken the color of the background */\n",
       "#sk-container-id-1 div.sk-label:hover label.sk-toggleable__label {\n",
       "  color: var(--sklearn-color-text);\n",
       "  background-color: var(--sklearn-color-unfitted-level-2);\n",
       "}\n",
       "\n",
       "/* Label box, darken color on hover, fitted */\n",
       "#sk-container-id-1 div.sk-label.fitted:hover label.sk-toggleable__label.fitted {\n",
       "  color: var(--sklearn-color-text);\n",
       "  background-color: var(--sklearn-color-fitted-level-2);\n",
       "}\n",
       "\n",
       "/* Estimator label */\n",
       "\n",
       "#sk-container-id-1 div.sk-label label {\n",
       "  font-family: monospace;\n",
       "  font-weight: bold;\n",
       "  display: inline-block;\n",
       "  line-height: 1.2em;\n",
       "}\n",
       "\n",
       "#sk-container-id-1 div.sk-label-container {\n",
       "  text-align: center;\n",
       "}\n",
       "\n",
       "/* Estimator-specific */\n",
       "#sk-container-id-1 div.sk-estimator {\n",
       "  font-family: monospace;\n",
       "  border: 1px dotted var(--sklearn-color-border-box);\n",
       "  border-radius: 0.25em;\n",
       "  box-sizing: border-box;\n",
       "  margin-bottom: 0.5em;\n",
       "  /* unfitted */\n",
       "  background-color: var(--sklearn-color-unfitted-level-0);\n",
       "}\n",
       "\n",
       "#sk-container-id-1 div.sk-estimator.fitted {\n",
       "  /* fitted */\n",
       "  background-color: var(--sklearn-color-fitted-level-0);\n",
       "}\n",
       "\n",
       "/* on hover */\n",
       "#sk-container-id-1 div.sk-estimator:hover {\n",
       "  /* unfitted */\n",
       "  background-color: var(--sklearn-color-unfitted-level-2);\n",
       "}\n",
       "\n",
       "#sk-container-id-1 div.sk-estimator.fitted:hover {\n",
       "  /* fitted */\n",
       "  background-color: var(--sklearn-color-fitted-level-2);\n",
       "}\n",
       "\n",
       "/* Specification for estimator info (e.g. \"i\" and \"?\") */\n",
       "\n",
       "/* Common style for \"i\" and \"?\" */\n",
       "\n",
       ".sk-estimator-doc-link,\n",
       "a:link.sk-estimator-doc-link,\n",
       "a:visited.sk-estimator-doc-link {\n",
       "  float: right;\n",
       "  font-size: smaller;\n",
       "  line-height: 1em;\n",
       "  font-family: monospace;\n",
       "  background-color: var(--sklearn-color-background);\n",
       "  border-radius: 1em;\n",
       "  height: 1em;\n",
       "  width: 1em;\n",
       "  text-decoration: none !important;\n",
       "  margin-left: 1ex;\n",
       "  /* unfitted */\n",
       "  border: var(--sklearn-color-unfitted-level-1) 1pt solid;\n",
       "  color: var(--sklearn-color-unfitted-level-1);\n",
       "}\n",
       "\n",
       ".sk-estimator-doc-link.fitted,\n",
       "a:link.sk-estimator-doc-link.fitted,\n",
       "a:visited.sk-estimator-doc-link.fitted {\n",
       "  /* fitted */\n",
       "  border: var(--sklearn-color-fitted-level-1) 1pt solid;\n",
       "  color: var(--sklearn-color-fitted-level-1);\n",
       "}\n",
       "\n",
       "/* On hover */\n",
       "div.sk-estimator:hover .sk-estimator-doc-link:hover,\n",
       ".sk-estimator-doc-link:hover,\n",
       "div.sk-label-container:hover .sk-estimator-doc-link:hover,\n",
       ".sk-estimator-doc-link:hover {\n",
       "  /* unfitted */\n",
       "  background-color: var(--sklearn-color-unfitted-level-3);\n",
       "  color: var(--sklearn-color-background);\n",
       "  text-decoration: none;\n",
       "}\n",
       "\n",
       "div.sk-estimator.fitted:hover .sk-estimator-doc-link.fitted:hover,\n",
       ".sk-estimator-doc-link.fitted:hover,\n",
       "div.sk-label-container:hover .sk-estimator-doc-link.fitted:hover,\n",
       ".sk-estimator-doc-link.fitted:hover {\n",
       "  /* fitted */\n",
       "  background-color: var(--sklearn-color-fitted-level-3);\n",
       "  color: var(--sklearn-color-background);\n",
       "  text-decoration: none;\n",
       "}\n",
       "\n",
       "/* Span, style for the box shown on hovering the info icon */\n",
       ".sk-estimator-doc-link span {\n",
       "  display: none;\n",
       "  z-index: 9999;\n",
       "  position: relative;\n",
       "  font-weight: normal;\n",
       "  right: .2ex;\n",
       "  padding: .5ex;\n",
       "  margin: .5ex;\n",
       "  width: min-content;\n",
       "  min-width: 20ex;\n",
       "  max-width: 50ex;\n",
       "  color: var(--sklearn-color-text);\n",
       "  box-shadow: 2pt 2pt 4pt #999;\n",
       "  /* unfitted */\n",
       "  background: var(--sklearn-color-unfitted-level-0);\n",
       "  border: .5pt solid var(--sklearn-color-unfitted-level-3);\n",
       "}\n",
       "\n",
       ".sk-estimator-doc-link.fitted span {\n",
       "  /* fitted */\n",
       "  background: var(--sklearn-color-fitted-level-0);\n",
       "  border: var(--sklearn-color-fitted-level-3);\n",
       "}\n",
       "\n",
       ".sk-estimator-doc-link:hover span {\n",
       "  display: block;\n",
       "}\n",
       "\n",
       "/* \"?\"-specific style due to the `<a>` HTML tag */\n",
       "\n",
       "#sk-container-id-1 a.estimator_doc_link {\n",
       "  float: right;\n",
       "  font-size: 1rem;\n",
       "  line-height: 1em;\n",
       "  font-family: monospace;\n",
       "  background-color: var(--sklearn-color-background);\n",
       "  border-radius: 1rem;\n",
       "  height: 1rem;\n",
       "  width: 1rem;\n",
       "  text-decoration: none;\n",
       "  /* unfitted */\n",
       "  color: var(--sklearn-color-unfitted-level-1);\n",
       "  border: var(--sklearn-color-unfitted-level-1) 1pt solid;\n",
       "}\n",
       "\n",
       "#sk-container-id-1 a.estimator_doc_link.fitted {\n",
       "  /* fitted */\n",
       "  border: var(--sklearn-color-fitted-level-1) 1pt solid;\n",
       "  color: var(--sklearn-color-fitted-level-1);\n",
       "}\n",
       "\n",
       "/* On hover */\n",
       "#sk-container-id-1 a.estimator_doc_link:hover {\n",
       "  /* unfitted */\n",
       "  background-color: var(--sklearn-color-unfitted-level-3);\n",
       "  color: var(--sklearn-color-background);\n",
       "  text-decoration: none;\n",
       "}\n",
       "\n",
       "#sk-container-id-1 a.estimator_doc_link.fitted:hover {\n",
       "  /* fitted */\n",
       "  background-color: var(--sklearn-color-fitted-level-3);\n",
       "}\n",
       "</style><div id=\"sk-container-id-1\" class=\"sk-top-container\"><div class=\"sk-text-repr-fallback\"><pre>GridSearchCV(cv=5, estimator=Ridge(),\n",
       "             param_grid={&#x27;alpha&#x27;: [0.1, 0.5, 1, 1.5, 2, 2.5, 3]}, scoring=&#x27;r2&#x27;)</pre><b>In a Jupyter environment, please rerun this cell to show the HTML representation or trust the notebook. <br />On GitHub, the HTML representation is unable to render, please try loading this page with nbviewer.org.</b></div><div class=\"sk-container\" hidden><div class=\"sk-item sk-dashed-wrapped\"><div class=\"sk-label-container\"><div class=\"sk-label fitted sk-toggleable\"><input class=\"sk-toggleable__control sk-hidden--visually\" id=\"sk-estimator-id-1\" type=\"checkbox\" ><label for=\"sk-estimator-id-1\" class=\"sk-toggleable__label fitted sk-toggleable__label-arrow fitted\">&nbsp;&nbsp;GridSearchCV<a class=\"sk-estimator-doc-link fitted\" rel=\"noreferrer\" target=\"_blank\" href=\"https://scikit-learn.org/1.5/modules/generated/sklearn.model_selection.GridSearchCV.html\">?<span>Documentation for GridSearchCV</span></a><span class=\"sk-estimator-doc-link fitted\">i<span>Fitted</span></span></label><div class=\"sk-toggleable__content fitted\"><pre>GridSearchCV(cv=5, estimator=Ridge(),\n",
       "             param_grid={&#x27;alpha&#x27;: [0.1, 0.5, 1, 1.5, 2, 2.5, 3]}, scoring=&#x27;r2&#x27;)</pre></div> </div></div><div class=\"sk-parallel\"><div class=\"sk-parallel-item\"><div class=\"sk-item\"><div class=\"sk-label-container\"><div class=\"sk-label fitted sk-toggleable\"><input class=\"sk-toggleable__control sk-hidden--visually\" id=\"sk-estimator-id-2\" type=\"checkbox\" ><label for=\"sk-estimator-id-2\" class=\"sk-toggleable__label fitted sk-toggleable__label-arrow fitted\">best_estimator_: Ridge</label><div class=\"sk-toggleable__content fitted\"><pre>Ridge(alpha=2.5)</pre></div> </div></div><div class=\"sk-serial\"><div class=\"sk-item\"><div class=\"sk-estimator fitted sk-toggleable\"><input class=\"sk-toggleable__control sk-hidden--visually\" id=\"sk-estimator-id-3\" type=\"checkbox\" ><label for=\"sk-estimator-id-3\" class=\"sk-toggleable__label fitted sk-toggleable__label-arrow fitted\">&nbsp;Ridge<a class=\"sk-estimator-doc-link fitted\" rel=\"noreferrer\" target=\"_blank\" href=\"https://scikit-learn.org/1.5/modules/generated/sklearn.linear_model.Ridge.html\">?<span>Documentation for Ridge</span></a></label><div class=\"sk-toggleable__content fitted\"><pre>Ridge(alpha=2.5)</pre></div> </div></div></div></div></div></div></div></div></div>"
      ],
      "text/plain": [
       "GridSearchCV(cv=5, estimator=Ridge(),\n",
       "             param_grid={'alpha': [0.1, 0.5, 1, 1.5, 2, 2.5, 3]}, scoring='r2')"
      ]
     },
     "execution_count": 114,
     "metadata": {},
     "output_type": "execute_result"
    }
   ],
   "source": [
    "param_grid = {'alpha': [0.1, 0.5, 1, 1.5, 2, 2.5, 3]}\n",
    "ridge = Ridge()\n",
    "grid_search = GridSearchCV(ridge, param_grid, cv=5, scoring='r2')\n",
    "grid_search.fit(x_train_ss, y_train)"
   ]
  },
  {
   "cell_type": "code",
   "execution_count": 115,
   "metadata": {},
   "outputs": [
    {
     "name": "stdout",
     "output_type": "stream",
     "text": [
      "Mejor alpha: 2.5\n"
     ]
    }
   ],
   "source": [
    "modelo_combinado = grid_search.best_estimator_\n",
    "print(f\"Mejor alpha: {grid_search.best_params_['alpha']}\")"
   ]
  },
  {
   "cell_type": "code",
   "execution_count": 116,
   "metadata": {},
   "outputs": [],
   "source": [
    "predicciones = modelo_combinado.predict(x_test_ss)\n",
    "r2 = r2_score(y_test, predicciones)\n",
    "rmse = np.sqrt(np.mean((y_test - predicciones)**2))"
   ]
  },
  {
   "cell_type": "code",
   "execution_count": 117,
   "metadata": {},
   "outputs": [
    {
     "name": "stdout",
     "output_type": "stream",
     "text": [
      "R2: 0.9088990697940373, RMSE: 3.409085620801669\n"
     ]
    }
   ],
   "source": [
    "print(f\"R2: {r2}, RMSE: {rmse}\")"
   ]
  },
  {
   "cell_type": "code",
   "execution_count": 118,
   "metadata": {},
   "outputs": [
    {
     "name": "stdout",
     "output_type": "stream",
     "text": [
      "Pendientes: [0.56308451 9.58721881]\n",
      "Intercepto: 171.68382352941177\n"
     ]
    }
   ],
   "source": [
    "print(f\"Pendientes: {modelo_combinado.coef_}\")\n",
    "print(f\"Intercepto: {modelo_combinado.intercept_}\")"
   ]
  },
  {
   "cell_type": "code",
   "execution_count": 119,
   "metadata": {},
   "outputs": [
    {
     "name": "stderr",
     "output_type": "stream",
     "text": [
      "c:\\Users\\Roi_f\\anaconda3\\envs\\personal\\Lib\\site-packages\\sklearn\\base.py:493: UserWarning:\n",
      "\n",
      "X does not have valid feature names, but StandardScaler was fitted with feature names\n",
      "\n"
     ]
    }
   ],
   "source": [
    "values = ss.transform([[39,24.5]])"
   ]
  },
  {
   "cell_type": "code",
   "execution_count": 120,
   "metadata": {},
   "outputs": [
    {
     "data": {
      "text/plain": [
       "array([163.01378654])"
      ]
     },
     "execution_count": 120,
     "metadata": {},
     "output_type": "execute_result"
    }
   ],
   "source": [
    "modelo_combinado.predict(values)"
   ]
  },
  {
   "cell_type": "code",
   "execution_count": 121,
   "metadata": {},
   "outputs": [
    {
     "name": "stderr",
     "output_type": "stream",
     "text": [
      "c:\\Users\\Roi_f\\anaconda3\\envs\\personal\\Lib\\site-packages\\sklearn\\base.py:493: UserWarning:\n",
      "\n",
      "X does not have valid feature names, but StandardScaler was fitted with feature names\n",
      "\n"
     ]
    },
    {
     "data": {
      "application/vnd.plotly.v1+json": {
       "config": {
        "plotlyServerURL": "https://plot.ly"
       },
       "data": [
        {
         "marker": {
          "color": "red",
          "opacity": 0.7,
          "size": 8
         },
         "mode": "markers",
         "type": "scatter3d",
         "x": [
          32,
          45,
          44,
          41,
          41,
          39,
          47,
          53,
          38,
          38,
          37,
          49,
          49,
          48,
          52,
          50,
          46,
          38,
          42,
          39,
          46,
          40,
          50,
          42,
          44,
          46,
          48,
          45,
          40,
          55,
          38,
          51,
          50,
          48,
          45,
          38,
          52,
          37,
          40,
          51,
          39,
          50,
          44,
          43,
          50,
          46,
          34,
          57,
          40,
          46,
          58,
          40,
          50,
          42,
          52,
          47,
          45,
          56,
          42,
          53,
          45,
          46,
          45,
          49,
          50,
          41,
          44,
          45,
          36,
          46,
          50,
          37,
          34,
          45,
          53,
          40,
          44,
          49,
          36,
          38,
          41,
          44,
          48,
          44,
          45,
          43,
          56,
          42,
          42,
          42,
          38,
          46,
          50,
          44,
          42,
          35,
          49,
          55,
          52,
          51,
          47,
          48,
          44
         ],
         "y": [
          21,
          29,
          27.7,
          22.5,
          22.5,
          24,
          26.5,
          29,
          23,
          23,
          23,
          28.5,
          27.5,
          28.3,
          29,
          29,
          27,
          25,
          24,
          24,
          25.5,
          26.6,
          28,
          27.3,
          27,
          24,
          28,
          26.5,
          24,
          29.7,
          24,
          29,
          29,
          28.1,
          27.5,
          23,
          29,
          23,
          23,
          28.7,
          24,
          28.5,
          24.5,
          27.4,
          28.5,
          27,
          23,
          30,
          24,
          27,
          30,
          24,
          28,
          24,
          28.9,
          28,
          27,
          30,
          28,
          29.1,
          26,
          26.5,
          27.5,
          28,
          28.6,
          26,
          26.5,
          27.5,
          27,
          25.5,
          28,
          23,
          23,
          25,
          29.3,
          25,
          27,
          28.4,
          23,
          24,
          26.7,
          24,
          28.3,
          23,
          26.5,
          27.4,
          29,
          26,
          26,
          26,
          24,
          28,
          28.5,
          26,
          24,
          26,
          28,
          29.9,
          29,
          28.6,
          28,
          28.1,
          27
         ],
         "z": [
          151,
          178,
          180,
          155,
          155,
          158,
          168,
          186,
          156,
          157,
          156,
          185,
          178,
          183,
          185,
          190,
          177,
          170,
          162,
          159,
          168,
          175,
          173,
          178,
          175,
          170,
          182,
          170,
          159,
          191,
          158,
          183,
          190,
          182,
          172,
          157,
          187,
          158,
          153,
          186,
          158,
          175,
          162,
          179,
          185,
          177,
          154,
          189,
          165,
          177,
          190,
          159,
          181,
          160,
          187,
          182,
          180,
          193,
          177,
          188,
          165,
          167,
          175,
          180,
          185,
          170,
          173,
          172,
          170,
          168,
          173,
          161,
          154,
          174,
          189,
          168,
          175,
          184,
          154,
          164,
          175,
          163,
          183,
          162,
          170,
          179,
          187,
          170,
          173,
          173,
          159,
          182,
          185,
          161,
          162,
          159,
          181,
          191,
          187,
          186,
          182,
          183,
          175
         ]
        },
        {
         "colorscale": [
          [
           0,
           "#440154"
          ],
          [
           0.1111111111111111,
           "#482878"
          ],
          [
           0.2222222222222222,
           "#3e4989"
          ],
          [
           0.3333333333333333,
           "#31688e"
          ],
          [
           0.4444444444444444,
           "#26828e"
          ],
          [
           0.5555555555555556,
           "#1f9e89"
          ],
          [
           0.6666666666666666,
           "#35b779"
          ],
          [
           0.7777777777777778,
           "#6ece58"
          ],
          [
           0.8888888888888888,
           "#b5de2b"
          ],
          [
           1,
           "#fde725"
          ]
         ],
         "opacity": 0.5,
         "type": "surface",
         "x": [
          [
           32,
           33.526315789473685,
           35.05263157894737,
           36.578947368421055,
           38.10526315789474,
           39.631578947368425,
           41.15789473684211,
           42.68421052631579,
           44.21052631578947,
           45.73684210526316,
           47.26315789473684,
           48.78947368421053,
           50.31578947368421,
           51.8421052631579,
           53.368421052631575,
           54.89473684210526,
           56.421052631578945,
           57.94736842105263,
           59.473684210526315,
           61
          ],
          [
           32,
           33.526315789473685,
           35.05263157894737,
           36.578947368421055,
           38.10526315789474,
           39.631578947368425,
           41.15789473684211,
           42.68421052631579,
           44.21052631578947,
           45.73684210526316,
           47.26315789473684,
           48.78947368421053,
           50.31578947368421,
           51.8421052631579,
           53.368421052631575,
           54.89473684210526,
           56.421052631578945,
           57.94736842105263,
           59.473684210526315,
           61
          ],
          [
           32,
           33.526315789473685,
           35.05263157894737,
           36.578947368421055,
           38.10526315789474,
           39.631578947368425,
           41.15789473684211,
           42.68421052631579,
           44.21052631578947,
           45.73684210526316,
           47.26315789473684,
           48.78947368421053,
           50.31578947368421,
           51.8421052631579,
           53.368421052631575,
           54.89473684210526,
           56.421052631578945,
           57.94736842105263,
           59.473684210526315,
           61
          ],
          [
           32,
           33.526315789473685,
           35.05263157894737,
           36.578947368421055,
           38.10526315789474,
           39.631578947368425,
           41.15789473684211,
           42.68421052631579,
           44.21052631578947,
           45.73684210526316,
           47.26315789473684,
           48.78947368421053,
           50.31578947368421,
           51.8421052631579,
           53.368421052631575,
           54.89473684210526,
           56.421052631578945,
           57.94736842105263,
           59.473684210526315,
           61
          ],
          [
           32,
           33.526315789473685,
           35.05263157894737,
           36.578947368421055,
           38.10526315789474,
           39.631578947368425,
           41.15789473684211,
           42.68421052631579,
           44.21052631578947,
           45.73684210526316,
           47.26315789473684,
           48.78947368421053,
           50.31578947368421,
           51.8421052631579,
           53.368421052631575,
           54.89473684210526,
           56.421052631578945,
           57.94736842105263,
           59.473684210526315,
           61
          ],
          [
           32,
           33.526315789473685,
           35.05263157894737,
           36.578947368421055,
           38.10526315789474,
           39.631578947368425,
           41.15789473684211,
           42.68421052631579,
           44.21052631578947,
           45.73684210526316,
           47.26315789473684,
           48.78947368421053,
           50.31578947368421,
           51.8421052631579,
           53.368421052631575,
           54.89473684210526,
           56.421052631578945,
           57.94736842105263,
           59.473684210526315,
           61
          ],
          [
           32,
           33.526315789473685,
           35.05263157894737,
           36.578947368421055,
           38.10526315789474,
           39.631578947368425,
           41.15789473684211,
           42.68421052631579,
           44.21052631578947,
           45.73684210526316,
           47.26315789473684,
           48.78947368421053,
           50.31578947368421,
           51.8421052631579,
           53.368421052631575,
           54.89473684210526,
           56.421052631578945,
           57.94736842105263,
           59.473684210526315,
           61
          ],
          [
           32,
           33.526315789473685,
           35.05263157894737,
           36.578947368421055,
           38.10526315789474,
           39.631578947368425,
           41.15789473684211,
           42.68421052631579,
           44.21052631578947,
           45.73684210526316,
           47.26315789473684,
           48.78947368421053,
           50.31578947368421,
           51.8421052631579,
           53.368421052631575,
           54.89473684210526,
           56.421052631578945,
           57.94736842105263,
           59.473684210526315,
           61
          ],
          [
           32,
           33.526315789473685,
           35.05263157894737,
           36.578947368421055,
           38.10526315789474,
           39.631578947368425,
           41.15789473684211,
           42.68421052631579,
           44.21052631578947,
           45.73684210526316,
           47.26315789473684,
           48.78947368421053,
           50.31578947368421,
           51.8421052631579,
           53.368421052631575,
           54.89473684210526,
           56.421052631578945,
           57.94736842105263,
           59.473684210526315,
           61
          ],
          [
           32,
           33.526315789473685,
           35.05263157894737,
           36.578947368421055,
           38.10526315789474,
           39.631578947368425,
           41.15789473684211,
           42.68421052631579,
           44.21052631578947,
           45.73684210526316,
           47.26315789473684,
           48.78947368421053,
           50.31578947368421,
           51.8421052631579,
           53.368421052631575,
           54.89473684210526,
           56.421052631578945,
           57.94736842105263,
           59.473684210526315,
           61
          ],
          [
           32,
           33.526315789473685,
           35.05263157894737,
           36.578947368421055,
           38.10526315789474,
           39.631578947368425,
           41.15789473684211,
           42.68421052631579,
           44.21052631578947,
           45.73684210526316,
           47.26315789473684,
           48.78947368421053,
           50.31578947368421,
           51.8421052631579,
           53.368421052631575,
           54.89473684210526,
           56.421052631578945,
           57.94736842105263,
           59.473684210526315,
           61
          ],
          [
           32,
           33.526315789473685,
           35.05263157894737,
           36.578947368421055,
           38.10526315789474,
           39.631578947368425,
           41.15789473684211,
           42.68421052631579,
           44.21052631578947,
           45.73684210526316,
           47.26315789473684,
           48.78947368421053,
           50.31578947368421,
           51.8421052631579,
           53.368421052631575,
           54.89473684210526,
           56.421052631578945,
           57.94736842105263,
           59.473684210526315,
           61
          ],
          [
           32,
           33.526315789473685,
           35.05263157894737,
           36.578947368421055,
           38.10526315789474,
           39.631578947368425,
           41.15789473684211,
           42.68421052631579,
           44.21052631578947,
           45.73684210526316,
           47.26315789473684,
           48.78947368421053,
           50.31578947368421,
           51.8421052631579,
           53.368421052631575,
           54.89473684210526,
           56.421052631578945,
           57.94736842105263,
           59.473684210526315,
           61
          ],
          [
           32,
           33.526315789473685,
           35.05263157894737,
           36.578947368421055,
           38.10526315789474,
           39.631578947368425,
           41.15789473684211,
           42.68421052631579,
           44.21052631578947,
           45.73684210526316,
           47.26315789473684,
           48.78947368421053,
           50.31578947368421,
           51.8421052631579,
           53.368421052631575,
           54.89473684210526,
           56.421052631578945,
           57.94736842105263,
           59.473684210526315,
           61
          ],
          [
           32,
           33.526315789473685,
           35.05263157894737,
           36.578947368421055,
           38.10526315789474,
           39.631578947368425,
           41.15789473684211,
           42.68421052631579,
           44.21052631578947,
           45.73684210526316,
           47.26315789473684,
           48.78947368421053,
           50.31578947368421,
           51.8421052631579,
           53.368421052631575,
           54.89473684210526,
           56.421052631578945,
           57.94736842105263,
           59.473684210526315,
           61
          ],
          [
           32,
           33.526315789473685,
           35.05263157894737,
           36.578947368421055,
           38.10526315789474,
           39.631578947368425,
           41.15789473684211,
           42.68421052631579,
           44.21052631578947,
           45.73684210526316,
           47.26315789473684,
           48.78947368421053,
           50.31578947368421,
           51.8421052631579,
           53.368421052631575,
           54.89473684210526,
           56.421052631578945,
           57.94736842105263,
           59.473684210526315,
           61
          ],
          [
           32,
           33.526315789473685,
           35.05263157894737,
           36.578947368421055,
           38.10526315789474,
           39.631578947368425,
           41.15789473684211,
           42.68421052631579,
           44.21052631578947,
           45.73684210526316,
           47.26315789473684,
           48.78947368421053,
           50.31578947368421,
           51.8421052631579,
           53.368421052631575,
           54.89473684210526,
           56.421052631578945,
           57.94736842105263,
           59.473684210526315,
           61
          ],
          [
           32,
           33.526315789473685,
           35.05263157894737,
           36.578947368421055,
           38.10526315789474,
           39.631578947368425,
           41.15789473684211,
           42.68421052631579,
           44.21052631578947,
           45.73684210526316,
           47.26315789473684,
           48.78947368421053,
           50.31578947368421,
           51.8421052631579,
           53.368421052631575,
           54.89473684210526,
           56.421052631578945,
           57.94736842105263,
           59.473684210526315,
           61
          ],
          [
           32,
           33.526315789473685,
           35.05263157894737,
           36.578947368421055,
           38.10526315789474,
           39.631578947368425,
           41.15789473684211,
           42.68421052631579,
           44.21052631578947,
           45.73684210526316,
           47.26315789473684,
           48.78947368421053,
           50.31578947368421,
           51.8421052631579,
           53.368421052631575,
           54.89473684210526,
           56.421052631578945,
           57.94736842105263,
           59.473684210526315,
           61
          ],
          [
           32,
           33.526315789473685,
           35.05263157894737,
           36.578947368421055,
           38.10526315789474,
           39.631578947368425,
           41.15789473684211,
           42.68421052631579,
           44.21052631578947,
           45.73684210526316,
           47.26315789473684,
           48.78947368421053,
           50.31578947368421,
           51.8421052631579,
           53.368421052631575,
           54.89473684210526,
           56.421052631578945,
           57.94736842105263,
           59.473684210526315,
           61
          ]
         ],
         "y": [
          [
           22,
           22,
           22,
           22,
           22,
           22,
           22,
           22,
           22,
           22,
           22,
           22,
           22,
           22,
           22,
           22,
           22,
           22,
           22,
           22
          ],
          [
           22.45263157894737,
           22.45263157894737,
           22.45263157894737,
           22.45263157894737,
           22.45263157894737,
           22.45263157894737,
           22.45263157894737,
           22.45263157894737,
           22.45263157894737,
           22.45263157894737,
           22.45263157894737,
           22.45263157894737,
           22.45263157894737,
           22.45263157894737,
           22.45263157894737,
           22.45263157894737,
           22.45263157894737,
           22.45263157894737,
           22.45263157894737,
           22.45263157894737
          ],
          [
           22.905263157894737,
           22.905263157894737,
           22.905263157894737,
           22.905263157894737,
           22.905263157894737,
           22.905263157894737,
           22.905263157894737,
           22.905263157894737,
           22.905263157894737,
           22.905263157894737,
           22.905263157894737,
           22.905263157894737,
           22.905263157894737,
           22.905263157894737,
           22.905263157894737,
           22.905263157894737,
           22.905263157894737,
           22.905263157894737,
           22.905263157894737,
           22.905263157894737
          ],
          [
           23.357894736842105,
           23.357894736842105,
           23.357894736842105,
           23.357894736842105,
           23.357894736842105,
           23.357894736842105,
           23.357894736842105,
           23.357894736842105,
           23.357894736842105,
           23.357894736842105,
           23.357894736842105,
           23.357894736842105,
           23.357894736842105,
           23.357894736842105,
           23.357894736842105,
           23.357894736842105,
           23.357894736842105,
           23.357894736842105,
           23.357894736842105,
           23.357894736842105
          ],
          [
           23.810526315789474,
           23.810526315789474,
           23.810526315789474,
           23.810526315789474,
           23.810526315789474,
           23.810526315789474,
           23.810526315789474,
           23.810526315789474,
           23.810526315789474,
           23.810526315789474,
           23.810526315789474,
           23.810526315789474,
           23.810526315789474,
           23.810526315789474,
           23.810526315789474,
           23.810526315789474,
           23.810526315789474,
           23.810526315789474,
           23.810526315789474,
           23.810526315789474
          ],
          [
           24.263157894736842,
           24.263157894736842,
           24.263157894736842,
           24.263157894736842,
           24.263157894736842,
           24.263157894736842,
           24.263157894736842,
           24.263157894736842,
           24.263157894736842,
           24.263157894736842,
           24.263157894736842,
           24.263157894736842,
           24.263157894736842,
           24.263157894736842,
           24.263157894736842,
           24.263157894736842,
           24.263157894736842,
           24.263157894736842,
           24.263157894736842,
           24.263157894736842
          ],
          [
           24.71578947368421,
           24.71578947368421,
           24.71578947368421,
           24.71578947368421,
           24.71578947368421,
           24.71578947368421,
           24.71578947368421,
           24.71578947368421,
           24.71578947368421,
           24.71578947368421,
           24.71578947368421,
           24.71578947368421,
           24.71578947368421,
           24.71578947368421,
           24.71578947368421,
           24.71578947368421,
           24.71578947368421,
           24.71578947368421,
           24.71578947368421,
           24.71578947368421
          ],
          [
           25.16842105263158,
           25.16842105263158,
           25.16842105263158,
           25.16842105263158,
           25.16842105263158,
           25.16842105263158,
           25.16842105263158,
           25.16842105263158,
           25.16842105263158,
           25.16842105263158,
           25.16842105263158,
           25.16842105263158,
           25.16842105263158,
           25.16842105263158,
           25.16842105263158,
           25.16842105263158,
           25.16842105263158,
           25.16842105263158,
           25.16842105263158,
           25.16842105263158
          ],
          [
           25.621052631578948,
           25.621052631578948,
           25.621052631578948,
           25.621052631578948,
           25.621052631578948,
           25.621052631578948,
           25.621052631578948,
           25.621052631578948,
           25.621052631578948,
           25.621052631578948,
           25.621052631578948,
           25.621052631578948,
           25.621052631578948,
           25.621052631578948,
           25.621052631578948,
           25.621052631578948,
           25.621052631578948,
           25.621052631578948,
           25.621052631578948,
           25.621052631578948
          ],
          [
           26.073684210526316,
           26.073684210526316,
           26.073684210526316,
           26.073684210526316,
           26.073684210526316,
           26.073684210526316,
           26.073684210526316,
           26.073684210526316,
           26.073684210526316,
           26.073684210526316,
           26.073684210526316,
           26.073684210526316,
           26.073684210526316,
           26.073684210526316,
           26.073684210526316,
           26.073684210526316,
           26.073684210526316,
           26.073684210526316,
           26.073684210526316,
           26.073684210526316
          ],
          [
           26.526315789473685,
           26.526315789473685,
           26.526315789473685,
           26.526315789473685,
           26.526315789473685,
           26.526315789473685,
           26.526315789473685,
           26.526315789473685,
           26.526315789473685,
           26.526315789473685,
           26.526315789473685,
           26.526315789473685,
           26.526315789473685,
           26.526315789473685,
           26.526315789473685,
           26.526315789473685,
           26.526315789473685,
           26.526315789473685,
           26.526315789473685,
           26.526315789473685
          ],
          [
           26.978947368421053,
           26.978947368421053,
           26.978947368421053,
           26.978947368421053,
           26.978947368421053,
           26.978947368421053,
           26.978947368421053,
           26.978947368421053,
           26.978947368421053,
           26.978947368421053,
           26.978947368421053,
           26.978947368421053,
           26.978947368421053,
           26.978947368421053,
           26.978947368421053,
           26.978947368421053,
           26.978947368421053,
           26.978947368421053,
           26.978947368421053,
           26.978947368421053
          ],
          [
           27.431578947368422,
           27.431578947368422,
           27.431578947368422,
           27.431578947368422,
           27.431578947368422,
           27.431578947368422,
           27.431578947368422,
           27.431578947368422,
           27.431578947368422,
           27.431578947368422,
           27.431578947368422,
           27.431578947368422,
           27.431578947368422,
           27.431578947368422,
           27.431578947368422,
           27.431578947368422,
           27.431578947368422,
           27.431578947368422,
           27.431578947368422,
           27.431578947368422
          ],
          [
           27.88421052631579,
           27.88421052631579,
           27.88421052631579,
           27.88421052631579,
           27.88421052631579,
           27.88421052631579,
           27.88421052631579,
           27.88421052631579,
           27.88421052631579,
           27.88421052631579,
           27.88421052631579,
           27.88421052631579,
           27.88421052631579,
           27.88421052631579,
           27.88421052631579,
           27.88421052631579,
           27.88421052631579,
           27.88421052631579,
           27.88421052631579,
           27.88421052631579
          ],
          [
           28.33684210526316,
           28.33684210526316,
           28.33684210526316,
           28.33684210526316,
           28.33684210526316,
           28.33684210526316,
           28.33684210526316,
           28.33684210526316,
           28.33684210526316,
           28.33684210526316,
           28.33684210526316,
           28.33684210526316,
           28.33684210526316,
           28.33684210526316,
           28.33684210526316,
           28.33684210526316,
           28.33684210526316,
           28.33684210526316,
           28.33684210526316,
           28.33684210526316
          ],
          [
           28.789473684210527,
           28.789473684210527,
           28.789473684210527,
           28.789473684210527,
           28.789473684210527,
           28.789473684210527,
           28.789473684210527,
           28.789473684210527,
           28.789473684210527,
           28.789473684210527,
           28.789473684210527,
           28.789473684210527,
           28.789473684210527,
           28.789473684210527,
           28.789473684210527,
           28.789473684210527,
           28.789473684210527,
           28.789473684210527,
           28.789473684210527,
           28.789473684210527
          ],
          [
           29.242105263157896,
           29.242105263157896,
           29.242105263157896,
           29.242105263157896,
           29.242105263157896,
           29.242105263157896,
           29.242105263157896,
           29.242105263157896,
           29.242105263157896,
           29.242105263157896,
           29.242105263157896,
           29.242105263157896,
           29.242105263157896,
           29.242105263157896,
           29.242105263157896,
           29.242105263157896,
           29.242105263157896,
           29.242105263157896,
           29.242105263157896,
           29.242105263157896
          ],
          [
           29.694736842105264,
           29.694736842105264,
           29.694736842105264,
           29.694736842105264,
           29.694736842105264,
           29.694736842105264,
           29.694736842105264,
           29.694736842105264,
           29.694736842105264,
           29.694736842105264,
           29.694736842105264,
           29.694736842105264,
           29.694736842105264,
           29.694736842105264,
           29.694736842105264,
           29.694736842105264,
           29.694736842105264,
           29.694736842105264,
           29.694736842105264,
           29.694736842105264
          ],
          [
           30.147368421052633,
           30.147368421052633,
           30.147368421052633,
           30.147368421052633,
           30.147368421052633,
           30.147368421052633,
           30.147368421052633,
           30.147368421052633,
           30.147368421052633,
           30.147368421052633,
           30.147368421052633,
           30.147368421052633,
           30.147368421052633,
           30.147368421052633,
           30.147368421052633,
           30.147368421052633,
           30.147368421052633,
           30.147368421052633,
           30.147368421052633,
           30.147368421052633
          ],
          [
           30.6,
           30.6,
           30.6,
           30.6,
           30.6,
           30.6,
           30.6,
           30.6,
           30.6,
           30.6,
           30.6,
           30.6,
           30.6,
           30.6,
           30.6,
           30.6,
           30.6,
           30.6,
           30.6,
           30.6
          ]
         ],
         "z": [
          [
           150.91619072989835,
           151.0754795077206,
           151.23476828554283,
           151.3940570633651,
           151.55334584118734,
           151.71263461900958,
           151.87192339683185,
           152.0312121746541,
           152.19050095247633,
           152.3497897302986,
           152.50907850812084,
           152.66836728594308,
           152.82765606376535,
           152.9869448415876,
           153.14623361940983,
           153.3055223972321,
           153.46481117505434,
           153.62409995287658,
           153.78338873069885,
           153.9426775085211
          ],
          [
           152.974227674237,
           153.13351645205924,
           153.2928052298815,
           153.45209400770375,
           153.61138278552602,
           153.77067156334826,
           153.9299603411705,
           154.08924911899277,
           154.248537896815,
           154.40782667463725,
           154.56711545245952,
           154.72640423028176,
           154.885693008104,
           155.04498178592627,
           155.2042705637485,
           155.36355934157075,
           155.52284811939302,
           155.68213689721526,
           155.8414256750375,
           156.00071445285977
          ],
          [
           155.03226461857565,
           155.19155339639792,
           155.35084217422016,
           155.5101309520424,
           155.66941972986467,
           155.8287085076869,
           155.98799728550915,
           156.14728606333142,
           156.30657484115366,
           156.4658636189759,
           156.62515239679817,
           156.7844411746204,
           156.94372995244265,
           157.10301873026492,
           157.26230750808716,
           157.4215962859094,
           157.58088506373167,
           157.7401738415539,
           157.89946261937615,
           158.05875139719842
          ],
          [
           157.09030156291433,
           157.24959034073657,
           157.40887911855881,
           157.56816789638108,
           157.72745667420332,
           157.88674545202556,
           158.04603422984783,
           158.20532300767007,
           158.36461178549231,
           158.52390056331458,
           158.68318934113682,
           158.84247811895906,
           159.00176689678133,
           159.16105567460357,
           159.32034445242581,
           159.47963323024808,
           159.63892200807032,
           159.79821078589256,
           159.95749956371483,
           160.11678834153707
          ],
          [
           159.148338507253,
           159.30762728507523,
           159.4669160628975,
           159.62620484071974,
           159.78549361854198,
           159.94478239636425,
           160.1040711741865,
           160.26335995200873,
           160.422648729831,
           160.58193750765324,
           160.74122628547548,
           160.90051506329775,
           161.05980384112,
           161.21909261894223,
           161.3783813967645,
           161.53767017458674,
           161.69695895240898,
           161.85624773023125,
           162.0155365080535,
           162.17482528587573
          ],
          [
           161.20637545159164,
           161.3656642294139,
           161.52495300723615,
           161.6842417850584,
           161.84353056288066,
           162.0028193407029,
           162.16210811852514,
           162.3213968963474,
           162.48068567416965,
           162.6399744519919,
           162.79926322981416,
           162.9585520076364,
           163.11784078545864,
           163.2771295632809,
           163.43641834110315,
           163.5957071189254,
           163.75499589674766,
           163.9142846745699,
           164.07357345239214,
           164.2328622302144
          ],
          [
           163.26441239593032,
           163.42370117375256,
           163.5829899515748,
           163.74227872939707,
           163.9015675072193,
           164.06085628504155,
           164.22014506286382,
           164.37943384068606,
           164.5387226185083,
           164.69801139633057,
           164.8573001741528,
           165.01658895197505,
           165.17587772979732,
           165.33516650761956,
           165.4944552854418,
           165.65374406326407,
           165.8130328410863,
           165.97232161890855,
           166.13161039673082,
           166.29089917455306
          ],
          [
           165.32244934026897,
           165.48173811809122,
           165.64102689591348,
           165.80031567373572,
           165.95960445155796,
           166.11889322938023,
           166.27818200720247,
           166.43747078502471,
           166.59675956284698,
           166.75604834066922,
           166.91533711849146,
           167.07462589631373,
           167.23391467413597,
           167.39320345195821,
           167.55249222978048,
           167.71178100760272,
           167.87106978542496,
           168.03035856324723,
           168.18964734106947,
           168.34893611889171
          ],
          [
           167.38048628460763,
           167.5397750624299,
           167.69906384025214,
           167.85835261807438,
           168.01764139589665,
           168.1769301737189,
           168.33621895154113,
           168.4955077293634,
           168.65479650718564,
           168.81408528500788,
           168.97337406283015,
           169.1326628406524,
           169.29195161847463,
           169.4512403962969,
           169.61052917411914,
           169.76981795194138,
           169.92910672976365,
           170.0883955075859,
           170.24768428540813,
           170.4069730632304
          ],
          [
           169.4385232289463,
           169.59781200676855,
           169.7571007845908,
           169.91638956241306,
           170.0756783402353,
           170.23496711805754,
           170.3942558958798,
           170.55354467370205,
           170.7128334515243,
           170.87212222934656,
           171.0314110071688,
           171.19069978499104,
           171.3499885628133,
           171.50927734063555,
           171.6685661184578,
           171.82785489628006,
           171.9871436741023,
           172.14643245192454,
           172.3057212297468,
           172.46501000756905
          ],
          [
           171.49656017328496,
           171.6558489511072,
           171.81513772892947,
           171.9744265067517,
           172.13371528457395,
           172.29300406239622,
           172.45229284021846,
           172.6115816180407,
           172.77087039586297,
           172.9301591736852,
           173.08944795150745,
           173.24873672932972,
           173.40802550715196,
           173.5673142849742,
           173.72660306279647,
           173.8858918406187,
           174.04518061844095,
           174.20446939626322,
           174.36375817408546,
           174.5230469519077
          ],
          [
           173.55459711762362,
           173.71388589544588,
           173.87317467326812,
           174.03246345109036,
           174.19175222891263,
           174.35104100673487,
           174.51032978455711,
           174.66961856237938,
           174.82890734020162,
           174.98819611802386,
           175.14748489584613,
           175.30677367366837,
           175.46606245149061,
           175.62535122931288,
           175.78464000713512,
           175.94392878495736,
           176.10321756277963,
           176.26250634060187,
           176.42179511842411,
           176.58108389624638
          ],
          [
           175.6126340619623,
           175.77192283978454,
           175.93121161760678,
           176.09050039542905,
           176.2497891732513,
           176.40907795107353,
           176.5683667288958,
           176.72765550671804,
           176.88694428454028,
           177.04623306236255,
           177.2055218401848,
           177.36481061800703,
           177.5240993958293,
           177.68338817365154,
           177.84267695147378,
           178.00196572929605,
           178.1612545071183,
           178.32054328494053,
           178.4798320627628,
           178.63912084058504
          ],
          [
           177.67067100630095,
           177.8299597841232,
           177.98924856194546,
           178.1485373397677,
           178.30782611758994,
           178.4671148954122,
           178.62640367323445,
           178.7856924510567,
           178.94498122887896,
           179.1042700067012,
           179.26355878452344,
           179.4228475623457,
           179.58213634016795,
           179.7414251179902,
           179.90071389581246,
           180.0600026736347,
           180.21929145145694,
           180.3785802292792,
           180.53786900710145,
           180.6971577849237
          ],
          [
           179.7287079506396,
           179.88799672846187,
           180.0472855062841,
           180.20657428410635,
           180.36586306192862,
           180.52515183975086,
           180.6844406175731,
           180.84372939539537,
           181.0030181732176,
           181.16230695103985,
           181.32159572886212,
           181.48088450668436,
           181.6401732845066,
           181.79946206232887,
           181.9587508401511,
           182.11803961797335,
           182.27732839579562,
           182.43661717361786,
           182.5959059514401,
           182.75519472926237
          ],
          [
           181.78674489497828,
           181.94603367280052,
           182.10532245062277,
           182.26461122844503,
           182.42390000626727,
           182.58318878408951,
           182.74247756191178,
           182.90176633973402,
           183.06105511755626,
           183.22034389537853,
           183.37963267320077,
           183.53892145102301,
           183.69821022884528,
           183.85749900666752,
           184.01678778448976,
           184.17607656231203,
           184.33536534013427,
           184.49465411795651,
           184.65394289577878,
           184.81323167360102
          ],
          [
           183.84478183931694,
           184.00407061713918,
           184.16335939496145,
           184.3226481727837,
           184.48193695060593,
           184.6412257284282,
           184.80051450625044,
           184.95980328407268,
           185.11909206189495,
           185.2783808397172,
           185.43766961753943,
           185.5969583953617,
           185.75624717318394,
           185.91553595100618,
           186.07482472882845,
           186.2341135066507,
           186.39340228447293,
           186.5526910622952,
           186.71197984011744,
           186.87126861793968
          ],
          [
           185.9028187836556,
           186.06210756147786,
           186.2213963393001,
           186.38068511712234,
           186.5399738949446,
           186.69926267276685,
           186.8585514505891,
           187.01784022841136,
           187.1771290062336,
           187.33641778405584,
           187.4957065618781,
           187.65499533970035,
           187.8142841175226,
           187.97357289534486,
           188.1328616731671,
           188.29215045098934,
           188.4514392288116,
           188.61072800663385,
           188.77001678445612,
           188.92930556227836
          ],
          [
           187.96085572799427,
           188.1201445058165,
           188.27943328363875,
           188.43872206146102,
           188.59801083928326,
           188.7572996171055,
           188.91658839492777,
           189.07587717275,
           189.23516595057225,
           189.39445472839452,
           189.55374350621676,
           189.713032284039,
           189.87232106186127,
           190.0316098396835,
           190.19089861750575,
           190.35018739532802,
           190.50947617315026,
           190.6687649509725,
           190.82805372879477,
           190.987342506617
          ],
          [
           190.01889267233292,
           190.17818145015517,
           190.33747022797743,
           190.49675900579967,
           190.65604778362191,
           190.81533656144418,
           190.97462533926642,
           191.13391411708866,
           191.29320289491093,
           191.45249167273317,
           191.61178045055541,
           191.77106922837768,
           191.93035800619992,
           192.08964678402216,
           192.24893556184443,
           192.40822433966667,
           192.56751311748891,
           192.72680189531118,
           192.88609067313342,
           193.04537945095566
          ]
         ]
        }
       ],
       "layout": {
        "scene": {
         "xaxis": {
          "title": {
           "text": "Ancho"
          }
         },
         "yaxis": {
          "title": {
           "text": "Pie"
          }
         },
         "zaxis": {
          "title": {
           "text": "Altura"
          }
         }
        },
        "template": {
         "data": {
          "bar": [
           {
            "error_x": {
             "color": "#2a3f5f"
            },
            "error_y": {
             "color": "#2a3f5f"
            },
            "marker": {
             "line": {
              "color": "#E5ECF6",
              "width": 0.5
             },
             "pattern": {
              "fillmode": "overlay",
              "size": 10,
              "solidity": 0.2
             }
            },
            "type": "bar"
           }
          ],
          "barpolar": [
           {
            "marker": {
             "line": {
              "color": "#E5ECF6",
              "width": 0.5
             },
             "pattern": {
              "fillmode": "overlay",
              "size": 10,
              "solidity": 0.2
             }
            },
            "type": "barpolar"
           }
          ],
          "carpet": [
           {
            "aaxis": {
             "endlinecolor": "#2a3f5f",
             "gridcolor": "white",
             "linecolor": "white",
             "minorgridcolor": "white",
             "startlinecolor": "#2a3f5f"
            },
            "baxis": {
             "endlinecolor": "#2a3f5f",
             "gridcolor": "white",
             "linecolor": "white",
             "minorgridcolor": "white",
             "startlinecolor": "#2a3f5f"
            },
            "type": "carpet"
           }
          ],
          "choropleth": [
           {
            "colorbar": {
             "outlinewidth": 0,
             "ticks": ""
            },
            "type": "choropleth"
           }
          ],
          "contour": [
           {
            "colorbar": {
             "outlinewidth": 0,
             "ticks": ""
            },
            "colorscale": [
             [
              0,
              "#0d0887"
             ],
             [
              0.1111111111111111,
              "#46039f"
             ],
             [
              0.2222222222222222,
              "#7201a8"
             ],
             [
              0.3333333333333333,
              "#9c179e"
             ],
             [
              0.4444444444444444,
              "#bd3786"
             ],
             [
              0.5555555555555556,
              "#d8576b"
             ],
             [
              0.6666666666666666,
              "#ed7953"
             ],
             [
              0.7777777777777778,
              "#fb9f3a"
             ],
             [
              0.8888888888888888,
              "#fdca26"
             ],
             [
              1,
              "#f0f921"
             ]
            ],
            "type": "contour"
           }
          ],
          "contourcarpet": [
           {
            "colorbar": {
             "outlinewidth": 0,
             "ticks": ""
            },
            "type": "contourcarpet"
           }
          ],
          "heatmap": [
           {
            "colorbar": {
             "outlinewidth": 0,
             "ticks": ""
            },
            "colorscale": [
             [
              0,
              "#0d0887"
             ],
             [
              0.1111111111111111,
              "#46039f"
             ],
             [
              0.2222222222222222,
              "#7201a8"
             ],
             [
              0.3333333333333333,
              "#9c179e"
             ],
             [
              0.4444444444444444,
              "#bd3786"
             ],
             [
              0.5555555555555556,
              "#d8576b"
             ],
             [
              0.6666666666666666,
              "#ed7953"
             ],
             [
              0.7777777777777778,
              "#fb9f3a"
             ],
             [
              0.8888888888888888,
              "#fdca26"
             ],
             [
              1,
              "#f0f921"
             ]
            ],
            "type": "heatmap"
           }
          ],
          "heatmapgl": [
           {
            "colorbar": {
             "outlinewidth": 0,
             "ticks": ""
            },
            "colorscale": [
             [
              0,
              "#0d0887"
             ],
             [
              0.1111111111111111,
              "#46039f"
             ],
             [
              0.2222222222222222,
              "#7201a8"
             ],
             [
              0.3333333333333333,
              "#9c179e"
             ],
             [
              0.4444444444444444,
              "#bd3786"
             ],
             [
              0.5555555555555556,
              "#d8576b"
             ],
             [
              0.6666666666666666,
              "#ed7953"
             ],
             [
              0.7777777777777778,
              "#fb9f3a"
             ],
             [
              0.8888888888888888,
              "#fdca26"
             ],
             [
              1,
              "#f0f921"
             ]
            ],
            "type": "heatmapgl"
           }
          ],
          "histogram": [
           {
            "marker": {
             "pattern": {
              "fillmode": "overlay",
              "size": 10,
              "solidity": 0.2
             }
            },
            "type": "histogram"
           }
          ],
          "histogram2d": [
           {
            "colorbar": {
             "outlinewidth": 0,
             "ticks": ""
            },
            "colorscale": [
             [
              0,
              "#0d0887"
             ],
             [
              0.1111111111111111,
              "#46039f"
             ],
             [
              0.2222222222222222,
              "#7201a8"
             ],
             [
              0.3333333333333333,
              "#9c179e"
             ],
             [
              0.4444444444444444,
              "#bd3786"
             ],
             [
              0.5555555555555556,
              "#d8576b"
             ],
             [
              0.6666666666666666,
              "#ed7953"
             ],
             [
              0.7777777777777778,
              "#fb9f3a"
             ],
             [
              0.8888888888888888,
              "#fdca26"
             ],
             [
              1,
              "#f0f921"
             ]
            ],
            "type": "histogram2d"
           }
          ],
          "histogram2dcontour": [
           {
            "colorbar": {
             "outlinewidth": 0,
             "ticks": ""
            },
            "colorscale": [
             [
              0,
              "#0d0887"
             ],
             [
              0.1111111111111111,
              "#46039f"
             ],
             [
              0.2222222222222222,
              "#7201a8"
             ],
             [
              0.3333333333333333,
              "#9c179e"
             ],
             [
              0.4444444444444444,
              "#bd3786"
             ],
             [
              0.5555555555555556,
              "#d8576b"
             ],
             [
              0.6666666666666666,
              "#ed7953"
             ],
             [
              0.7777777777777778,
              "#fb9f3a"
             ],
             [
              0.8888888888888888,
              "#fdca26"
             ],
             [
              1,
              "#f0f921"
             ]
            ],
            "type": "histogram2dcontour"
           }
          ],
          "mesh3d": [
           {
            "colorbar": {
             "outlinewidth": 0,
             "ticks": ""
            },
            "type": "mesh3d"
           }
          ],
          "parcoords": [
           {
            "line": {
             "colorbar": {
              "outlinewidth": 0,
              "ticks": ""
             }
            },
            "type": "parcoords"
           }
          ],
          "pie": [
           {
            "automargin": true,
            "type": "pie"
           }
          ],
          "scatter": [
           {
            "fillpattern": {
             "fillmode": "overlay",
             "size": 10,
             "solidity": 0.2
            },
            "type": "scatter"
           }
          ],
          "scatter3d": [
           {
            "line": {
             "colorbar": {
              "outlinewidth": 0,
              "ticks": ""
             }
            },
            "marker": {
             "colorbar": {
              "outlinewidth": 0,
              "ticks": ""
             }
            },
            "type": "scatter3d"
           }
          ],
          "scattercarpet": [
           {
            "marker": {
             "colorbar": {
              "outlinewidth": 0,
              "ticks": ""
             }
            },
            "type": "scattercarpet"
           }
          ],
          "scattergeo": [
           {
            "marker": {
             "colorbar": {
              "outlinewidth": 0,
              "ticks": ""
             }
            },
            "type": "scattergeo"
           }
          ],
          "scattergl": [
           {
            "marker": {
             "colorbar": {
              "outlinewidth": 0,
              "ticks": ""
             }
            },
            "type": "scattergl"
           }
          ],
          "scattermapbox": [
           {
            "marker": {
             "colorbar": {
              "outlinewidth": 0,
              "ticks": ""
             }
            },
            "type": "scattermapbox"
           }
          ],
          "scatterpolar": [
           {
            "marker": {
             "colorbar": {
              "outlinewidth": 0,
              "ticks": ""
             }
            },
            "type": "scatterpolar"
           }
          ],
          "scatterpolargl": [
           {
            "marker": {
             "colorbar": {
              "outlinewidth": 0,
              "ticks": ""
             }
            },
            "type": "scatterpolargl"
           }
          ],
          "scatterternary": [
           {
            "marker": {
             "colorbar": {
              "outlinewidth": 0,
              "ticks": ""
             }
            },
            "type": "scatterternary"
           }
          ],
          "surface": [
           {
            "colorbar": {
             "outlinewidth": 0,
             "ticks": ""
            },
            "colorscale": [
             [
              0,
              "#0d0887"
             ],
             [
              0.1111111111111111,
              "#46039f"
             ],
             [
              0.2222222222222222,
              "#7201a8"
             ],
             [
              0.3333333333333333,
              "#9c179e"
             ],
             [
              0.4444444444444444,
              "#bd3786"
             ],
             [
              0.5555555555555556,
              "#d8576b"
             ],
             [
              0.6666666666666666,
              "#ed7953"
             ],
             [
              0.7777777777777778,
              "#fb9f3a"
             ],
             [
              0.8888888888888888,
              "#fdca26"
             ],
             [
              1,
              "#f0f921"
             ]
            ],
            "type": "surface"
           }
          ],
          "table": [
           {
            "cells": {
             "fill": {
              "color": "#EBF0F8"
             },
             "line": {
              "color": "white"
             }
            },
            "header": {
             "fill": {
              "color": "#C8D4E3"
             },
             "line": {
              "color": "white"
             }
            },
            "type": "table"
           }
          ]
         },
         "layout": {
          "annotationdefaults": {
           "arrowcolor": "#2a3f5f",
           "arrowhead": 0,
           "arrowwidth": 1
          },
          "autotypenumbers": "strict",
          "coloraxis": {
           "colorbar": {
            "outlinewidth": 0,
            "ticks": ""
           }
          },
          "colorscale": {
           "diverging": [
            [
             0,
             "#8e0152"
            ],
            [
             0.1,
             "#c51b7d"
            ],
            [
             0.2,
             "#de77ae"
            ],
            [
             0.3,
             "#f1b6da"
            ],
            [
             0.4,
             "#fde0ef"
            ],
            [
             0.5,
             "#f7f7f7"
            ],
            [
             0.6,
             "#e6f5d0"
            ],
            [
             0.7,
             "#b8e186"
            ],
            [
             0.8,
             "#7fbc41"
            ],
            [
             0.9,
             "#4d9221"
            ],
            [
             1,
             "#276419"
            ]
           ],
           "sequential": [
            [
             0,
             "#0d0887"
            ],
            [
             0.1111111111111111,
             "#46039f"
            ],
            [
             0.2222222222222222,
             "#7201a8"
            ],
            [
             0.3333333333333333,
             "#9c179e"
            ],
            [
             0.4444444444444444,
             "#bd3786"
            ],
            [
             0.5555555555555556,
             "#d8576b"
            ],
            [
             0.6666666666666666,
             "#ed7953"
            ],
            [
             0.7777777777777778,
             "#fb9f3a"
            ],
            [
             0.8888888888888888,
             "#fdca26"
            ],
            [
             1,
             "#f0f921"
            ]
           ],
           "sequentialminus": [
            [
             0,
             "#0d0887"
            ],
            [
             0.1111111111111111,
             "#46039f"
            ],
            [
             0.2222222222222222,
             "#7201a8"
            ],
            [
             0.3333333333333333,
             "#9c179e"
            ],
            [
             0.4444444444444444,
             "#bd3786"
            ],
            [
             0.5555555555555556,
             "#d8576b"
            ],
            [
             0.6666666666666666,
             "#ed7953"
            ],
            [
             0.7777777777777778,
             "#fb9f3a"
            ],
            [
             0.8888888888888888,
             "#fdca26"
            ],
            [
             1,
             "#f0f921"
            ]
           ]
          },
          "colorway": [
           "#636efa",
           "#EF553B",
           "#00cc96",
           "#ab63fa",
           "#FFA15A",
           "#19d3f3",
           "#FF6692",
           "#B6E880",
           "#FF97FF",
           "#FECB52"
          ],
          "font": {
           "color": "#2a3f5f"
          },
          "geo": {
           "bgcolor": "white",
           "lakecolor": "white",
           "landcolor": "#E5ECF6",
           "showlakes": true,
           "showland": true,
           "subunitcolor": "white"
          },
          "hoverlabel": {
           "align": "left"
          },
          "hovermode": "closest",
          "mapbox": {
           "style": "light"
          },
          "paper_bgcolor": "white",
          "plot_bgcolor": "#E5ECF6",
          "polar": {
           "angularaxis": {
            "gridcolor": "white",
            "linecolor": "white",
            "ticks": ""
           },
           "bgcolor": "#E5ECF6",
           "radialaxis": {
            "gridcolor": "white",
            "linecolor": "white",
            "ticks": ""
           }
          },
          "scene": {
           "xaxis": {
            "backgroundcolor": "#E5ECF6",
            "gridcolor": "white",
            "gridwidth": 2,
            "linecolor": "white",
            "showbackground": true,
            "ticks": "",
            "zerolinecolor": "white"
           },
           "yaxis": {
            "backgroundcolor": "#E5ECF6",
            "gridcolor": "white",
            "gridwidth": 2,
            "linecolor": "white",
            "showbackground": true,
            "ticks": "",
            "zerolinecolor": "white"
           },
           "zaxis": {
            "backgroundcolor": "#E5ECF6",
            "gridcolor": "white",
            "gridwidth": 2,
            "linecolor": "white",
            "showbackground": true,
            "ticks": "",
            "zerolinecolor": "white"
           }
          },
          "shapedefaults": {
           "line": {
            "color": "#2a3f5f"
           }
          },
          "ternary": {
           "aaxis": {
            "gridcolor": "white",
            "linecolor": "white",
            "ticks": ""
           },
           "baxis": {
            "gridcolor": "white",
            "linecolor": "white",
            "ticks": ""
           },
           "bgcolor": "#E5ECF6",
           "caxis": {
            "gridcolor": "white",
            "linecolor": "white",
            "ticks": ""
           }
          },
          "title": {
           "x": 0.05
          },
          "xaxis": {
           "automargin": true,
           "gridcolor": "white",
           "linecolor": "white",
           "ticks": "",
           "title": {
            "standoff": 15
           },
           "zerolinecolor": "white",
           "zerolinewidth": 2
          },
          "yaxis": {
           "automargin": true,
           "gridcolor": "white",
           "linecolor": "white",
           "ticks": "",
           "title": {
            "standoff": 15
           },
           "zerolinecolor": "white",
           "zerolinewidth": 2
          }
         }
        },
        "title": {
         "text": "MODELO COMBINADO<br>R2: 0.9088990697940373 RMSE: 3.409085620801669"
        }
       }
      }
     },
     "metadata": {},
     "output_type": "display_data"
    }
   ],
   "source": [
    "# Definir rangos para las variables independientes\n",
    "x1_range = np.linspace(min(x_train['width']), max(x_train['width']), 20)\n",
    "x2_range = np.linspace(min(x_train['shoe_size']), max(x_train['shoe_size']), 20)\n",
    "x1_mesh, x2_mesh = np.meshgrid(x1_range, x2_range)\n",
    "\n",
    "# Escalar el meshgrid para predicción\n",
    "x_mesh_scaled = ss.transform(np.vstack((x1_mesh.ravel(), x2_mesh.ravel())).T)\n",
    "\n",
    "# Predecir los valores con el modelo escalado\n",
    "y_mesh_scaled = modelo_combinado.predict(x_mesh_scaled)\n",
    "\n",
    "# Crear scatterplot 3D de los puntos reales\n",
    "scatter = go.Scatter3d(\n",
    "    x=x_test['width'], y=x_test['shoe_size'], z=y_test,\n",
    "    mode='markers',\n",
    "    marker=dict(size=8, color='red', opacity=0.7)\n",
    ")\n",
    "\n",
    "# Crear el plano de regresión\n",
    "surface = go.Surface(\n",
    "    x=x1_mesh, y=x2_mesh, z=y_mesh_scaled.reshape(x1_mesh.shape),\n",
    "    colorscale='Viridis', opacity=0.5\n",
    ")\n",
    "\n",
    "# Configuración del layout\n",
    "layout = go.Layout(\n",
    "     title=f\"MODELO COMBINADO<br>R2: {r2_score(y_test, predicciones)} RMSE: {root_mean_squared_error(y_test, predicciones)}\",\n",
    "    scene=dict(\n",
    "        xaxis_title='Ancho',\n",
    "        yaxis_title='Pie',\n",
    "        zaxis_title='Altura'\n",
    "    )\n",
    ")\n",
    "\n",
    "# Crear la figura\n",
    "fig = go.Figure(data=[scatter, surface], layout=layout)\n",
    "\n",
    "# Mostrar la figura interactiva\n",
    "fig.show()"
   ]
  },
  {
   "cell_type": "markdown",
   "metadata": {},
   "source": [
    "## Segunda Sección"
   ]
  },
  {
   "cell_type": "code",
   "execution_count": 122,
   "metadata": {},
   "outputs": [
    {
     "data": {
      "text/html": [
       "<div>\n",
       "<style scoped>\n",
       "    .dataframe tbody tr th:only-of-type {\n",
       "        vertical-align: middle;\n",
       "    }\n",
       "\n",
       "    .dataframe tbody tr th {\n",
       "        vertical-align: top;\n",
       "    }\n",
       "\n",
       "    .dataframe thead th {\n",
       "        text-align: right;\n",
       "    }\n",
       "</style>\n",
       "<table border=\"1\" class=\"dataframe\">\n",
       "  <thead>\n",
       "    <tr style=\"text-align: right;\">\n",
       "      <th></th>\n",
       "      <th>height</th>\n",
       "      <th>width</th>\n",
       "      <th>shoe_size</th>\n",
       "    </tr>\n",
       "  </thead>\n",
       "  <tbody>\n",
       "    <tr>\n",
       "      <th>0</th>\n",
       "      <td>185</td>\n",
       "      <td>55</td>\n",
       "      <td>28.0</td>\n",
       "    </tr>\n",
       "    <tr>\n",
       "      <th>1</th>\n",
       "      <td>173</td>\n",
       "      <td>44</td>\n",
       "      <td>26.5</td>\n",
       "    </tr>\n",
       "    <tr>\n",
       "      <th>2</th>\n",
       "      <td>163</td>\n",
       "      <td>44</td>\n",
       "      <td>24.0</td>\n",
       "    </tr>\n",
       "    <tr>\n",
       "      <th>3</th>\n",
       "      <td>162</td>\n",
       "      <td>44</td>\n",
       "      <td>24.5</td>\n",
       "    </tr>\n",
       "    <tr>\n",
       "      <th>4</th>\n",
       "      <td>172</td>\n",
       "      <td>46</td>\n",
       "      <td>27.0</td>\n",
       "    </tr>\n",
       "    <tr>\n",
       "      <th>...</th>\n",
       "      <td>...</td>\n",
       "      <td>...</td>\n",
       "      <td>...</td>\n",
       "    </tr>\n",
       "    <tr>\n",
       "      <th>82</th>\n",
       "      <td>158</td>\n",
       "      <td>40</td>\n",
       "      <td>24.0</td>\n",
       "    </tr>\n",
       "    <tr>\n",
       "      <th>83</th>\n",
       "      <td>162</td>\n",
       "      <td>40</td>\n",
       "      <td>25.5</td>\n",
       "    </tr>\n",
       "    <tr>\n",
       "      <th>84</th>\n",
       "      <td>152</td>\n",
       "      <td>33</td>\n",
       "      <td>22.0</td>\n",
       "    </tr>\n",
       "    <tr>\n",
       "      <th>85</th>\n",
       "      <td>164</td>\n",
       "      <td>36</td>\n",
       "      <td>23.0</td>\n",
       "    </tr>\n",
       "    <tr>\n",
       "      <th>86</th>\n",
       "      <td>153</td>\n",
       "      <td>36</td>\n",
       "      <td>22.5</td>\n",
       "    </tr>\n",
       "  </tbody>\n",
       "</table>\n",
       "<p>87 rows × 3 columns</p>\n",
       "</div>"
      ],
      "text/plain": [
       "    height  width  shoe_size\n",
       "0      185     55       28.0\n",
       "1      173     44       26.5\n",
       "2      163     44       24.0\n",
       "3      162     44       24.5\n",
       "4      172     46       27.0\n",
       "..     ...    ...        ...\n",
       "82     158     40       24.0\n",
       "83     162     40       25.5\n",
       "84     152     33       22.0\n",
       "85     164     36       23.0\n",
       "86     153     36       22.5\n",
       "\n",
       "[87 rows x 3 columns]"
      ]
     },
     "execution_count": 122,
     "metadata": {},
     "output_type": "execute_result"
    }
   ],
   "source": [
    "df_prueba = pd.read_csv(\"datos_gente_1.csv\")\n",
    "df_prueba"
   ]
  },
  {
   "cell_type": "code",
   "execution_count": 132,
   "metadata": {},
   "outputs": [],
   "source": [
    "class segunda_seccion():\n",
    "        \n",
    "    def __init__(self, df, target:str):\n",
    "        self.target = target\n",
    "        self.df = df\n",
    "        self.X = df.drop(columns=[target])\n",
    "        self.y_col = df[target]\n",
    "        self.lower_limit = 165\n",
    "        self.upper_limit = 180\n",
    "        \n",
    "    def sorter(self):\n",
    "    \n",
    "        df_filtrado_left = self.df[self.df[self.target] < self.lower_limit]\n",
    "        df_filtrado_center = self.df[(self.df[self.target] > self.lower_limit) & (self.df[self.target] < self.upper_limit)]\n",
    "        df_filtrado_right = self.df[self.df[self.target] > self.upper_limit]\n",
    "        \n",
    "        self.__iteso_left_regressor(df_filtrado_left.drop(self.target, axis=1), df_filtrado_left[self.target])\n",
    "        self.__iteso_center_regressor(df_filtrado_center.drop(self.target, axis=1), df_filtrado_center[self.target])\n",
    "        self.__holanda_regressor(df_filtrado_right.drop(self.target, axis=1), df_filtrado_right[self.target])\n",
    "        \n",
    "    def __holanda_regressor(self, X, y):\n",
    "        modelo_pb_predict = modelo_pb.predict(ss_pb.transform(X))\n",
    "        print(\"Datos grandes:\")\n",
    "        print(f\"R2: {r2_score(modelo_pb_predict, y)}, RMSE: {root_mean_squared_error(modelo_pb_predict, y)}\\n\")\n",
    "    \n",
    "    def __iteso_left_regressor(self, X, y):\n",
    "        left_new_pred = rg_l.predict(ss_left.transform(X))\n",
    "        print(\"Datos chiquitos:\")\n",
    "        print(f\"R2: {r2_score(left_new_pred, y)}, RMSE: {root_mean_squared_error(left_new_pred, y)}\\n\")\n",
    "        \n",
    "    def __iteso_center_regressor(self, X, y):\n",
    "        center_new_pred = rg_c.predict(ss_center.transform(X))\n",
    "        print(\"Datos medios:\")\n",
    "        print(f\"R2: {r2_score(center_new_pred, y)}, RMSE: {root_mean_squared_error(center_new_pred, y)}\\n\")\n",
    "        \n",
    "    def __iteso_right_regressor(self, X, y):\n",
    "        X_trans = ss_right.transform(X)\n",
    "        right_new_pred = rg_r.predict(X_trans)\n",
    "        print(f\"R2: {r2_score(right_new_pred, y)}, RMSE: {root_mean_squared_error(right_new_pred, y)}\")\n",
    "        \n",
    "    def __combinado_regressor(self, X, y):\n",
    "        combinado_new_pred = modelo_combinado.predict(ss.transform(X))\n",
    "        print(f\"R2: {r2_score(combinado_new_pred, y)}, RMSE: {root_mean_squared_error(combinado_new_pred, y)}\")\n",
    "    "
   ]
  },
  {
   "cell_type": "code",
   "execution_count": 133,
   "metadata": {},
   "outputs": [
    {
     "name": "stdout",
     "output_type": "stream",
     "text": [
      "Datos chiquitos:\n",
      "R2: -0.13451599765078348, RMSE: 4.2004637385387396\n",
      "\n",
      "Datos medios:\n",
      "R2: 0.36880250700512995, RMSE: 3.8342439313857457\n",
      "\n",
      "Datos grandes:\n",
      "R2: 0.5047186992174102, RMSE: 2.672983744427161\n",
      "\n"
     ]
    }
   ],
   "source": [
    "se_se = segunda_seccion(df_prueba, target=\"height\")\n",
    "se_se.sorter()"
   ]
  }
 ],
 "metadata": {
  "kernelspec": {
   "display_name": "personal",
   "language": "python",
   "name": "python3"
  },
  "language_info": {
   "codemirror_mode": {
    "name": "ipython",
    "version": 3
   },
   "file_extension": ".py",
   "mimetype": "text/x-python",
   "name": "python",
   "nbconvert_exporter": "python",
   "pygments_lexer": "ipython3",
   "version": "3.11.8"
  }
 },
 "nbformat": 4,
 "nbformat_minor": 2
}
