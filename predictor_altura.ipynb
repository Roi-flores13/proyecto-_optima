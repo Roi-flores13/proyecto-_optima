{
 "cells": [
  {
   "cell_type": "markdown",
   "metadata": {},
   "source": [
    "# Examen"
   ]
  },
  {
   "cell_type": "markdown",
   "metadata": {},
   "source": [
    "Integrantes:\n",
    "- Diego Canales Morales\n",
    "- Roi Jared Flores Graza Stone\n",
    "- Mónica Ibarra Herrera\n",
    "- Oscar Josué Rocha Hernández"
   ]
  },
  {
   "cell_type": "code",
   "execution_count": 1,
   "metadata": {},
   "outputs": [],
   "source": [
    "import pandas as pd\n",
    "from sklearn.linear_model import LinearRegression, Ridge, ElasticNet, Lasso\n",
    "from sklearn.model_selection import train_test_split, GridSearchCV\n",
    "import numpy as np\n",
    "from sklearn.metrics import root_mean_squared_error, r2_score\n",
    "from sklearn.preprocessing import StandardScaler, MinMaxScaler\n",
    "import matplotlib.pyplot as plt"
   ]
  },
  {
   "cell_type": "markdown",
   "metadata": {},
   "source": [
    "## Parte 1"
   ]
  },
  {
   "cell_type": "markdown",
   "metadata": {},
   "source": [
    "### Modelo Simple"
   ]
  },
  {
   "cell_type": "code",
   "execution_count": null,
   "metadata": {},
   "outputs": [
    {
     "data": {
      "text/html": [
       "<div>\n",
       "<style scoped>\n",
       "    .dataframe tbody tr th:only-of-type {\n",
       "        vertical-align: middle;\n",
       "    }\n",
       "\n",
       "    .dataframe tbody tr th {\n",
       "        vertical-align: top;\n",
       "    }\n",
       "\n",
       "    .dataframe thead th {\n",
       "        text-align: right;\n",
       "    }\n",
       "</style>\n",
       "<table border=\"1\" class=\"dataframe\">\n",
       "  <thead>\n",
       "    <tr style=\"text-align: right;\">\n",
       "      <th></th>\n",
       "      <th>height</th>\n",
       "      <th>width</th>\n",
       "      <th>shoe_size</th>\n",
       "    </tr>\n",
       "  </thead>\n",
       "  <tbody>\n",
       "    <tr>\n",
       "      <th>0</th>\n",
       "      <td>185</td>\n",
       "      <td>55</td>\n",
       "      <td>28.0</td>\n",
       "    </tr>\n",
       "    <tr>\n",
       "      <th>1</th>\n",
       "      <td>173</td>\n",
       "      <td>44</td>\n",
       "      <td>26.5</td>\n",
       "    </tr>\n",
       "    <tr>\n",
       "      <th>2</th>\n",
       "      <td>163</td>\n",
       "      <td>44</td>\n",
       "      <td>24.0</td>\n",
       "    </tr>\n",
       "    <tr>\n",
       "      <th>3</th>\n",
       "      <td>162</td>\n",
       "      <td>44</td>\n",
       "      <td>24.5</td>\n",
       "    </tr>\n",
       "    <tr>\n",
       "      <th>4</th>\n",
       "      <td>172</td>\n",
       "      <td>46</td>\n",
       "      <td>27.0</td>\n",
       "    </tr>\n",
       "    <tr>\n",
       "      <th>5</th>\n",
       "      <td>159</td>\n",
       "      <td>40</td>\n",
       "      <td>23.0</td>\n",
       "    </tr>\n",
       "    <tr>\n",
       "      <th>6</th>\n",
       "      <td>187</td>\n",
       "      <td>58</td>\n",
       "      <td>27.0</td>\n",
       "    </tr>\n",
       "    <tr>\n",
       "      <th>7</th>\n",
       "      <td>165</td>\n",
       "      <td>40</td>\n",
       "      <td>24.0</td>\n",
       "    </tr>\n",
       "    <tr>\n",
       "      <th>8</th>\n",
       "      <td>175</td>\n",
       "      <td>49</td>\n",
       "      <td>27.5</td>\n",
       "    </tr>\n",
       "    <tr>\n",
       "      <th>9</th>\n",
       "      <td>162</td>\n",
       "      <td>44</td>\n",
       "      <td>23.0</td>\n",
       "    </tr>\n",
       "    <tr>\n",
       "      <th>10</th>\n",
       "      <td>155</td>\n",
       "      <td>40</td>\n",
       "      <td>22.0</td>\n",
       "    </tr>\n",
       "    <tr>\n",
       "      <th>11</th>\n",
       "      <td>168</td>\n",
       "      <td>51</td>\n",
       "      <td>26.0</td>\n",
       "    </tr>\n",
       "    <tr>\n",
       "      <th>12</th>\n",
       "      <td>179</td>\n",
       "      <td>55</td>\n",
       "      <td>28.0</td>\n",
       "    </tr>\n",
       "    <tr>\n",
       "      <th>13</th>\n",
       "      <td>172</td>\n",
       "      <td>50</td>\n",
       "      <td>27.5</td>\n",
       "    </tr>\n",
       "    <tr>\n",
       "      <th>14</th>\n",
       "      <td>159</td>\n",
       "      <td>38</td>\n",
       "      <td>24.0</td>\n",
       "    </tr>\n",
       "    <tr>\n",
       "      <th>15</th>\n",
       "      <td>166</td>\n",
       "      <td>39</td>\n",
       "      <td>24.5</td>\n",
       "    </tr>\n",
       "    <tr>\n",
       "      <th>16</th>\n",
       "      <td>156</td>\n",
       "      <td>38</td>\n",
       "      <td>24.0</td>\n",
       "    </tr>\n",
       "    <tr>\n",
       "      <th>17</th>\n",
       "      <td>151</td>\n",
       "      <td>39</td>\n",
       "      <td>22.5</td>\n",
       "    </tr>\n",
       "  </tbody>\n",
       "</table>\n",
       "</div>"
      ],
      "text/plain": [
       "    height  width  shoe_size\n",
       "0      185     55       28.0\n",
       "1      173     44       26.5\n",
       "2      163     44       24.0\n",
       "3      162     44       24.5\n",
       "4      172     46       27.0\n",
       "5      159     40       23.0\n",
       "6      187     58       27.0\n",
       "7      165     40       24.0\n",
       "8      175     49       27.5\n",
       "9      162     44       23.0\n",
       "10     155     40       22.0\n",
       "11     168     51       26.0\n",
       "12     179     55       28.0\n",
       "13     172     50       27.5\n",
       "14     159     38       24.0\n",
       "15     166     39       24.5\n",
       "16     156     38       24.0\n",
       "17     151     39       22.5"
      ]
     },
     "execution_count": 33,
     "metadata": {},
     "output_type": "execute_result"
    }
   ],
   "source": [
    "path = \"datos_gente.csv\"\n",
    "df_first = pd.read_csv(path)"
   ]
  },
  {
   "cell_type": "code",
   "execution_count": 3,
   "metadata": {},
   "outputs": [],
   "source": [
    "x_train_f, x_test_f, y_train_f, y_test_f = train_test_split(df_first.drop(\"height\", axis=1), df_first[\"height\"], test_size=0.2, random_state=99)"
   ]
  },
  {
   "cell_type": "code",
   "execution_count": 4,
   "metadata": {},
   "outputs": [
    {
     "name": "stdout",
     "output_type": "stream",
     "text": [
      "R2: 0.8941176470588236 RMSE: 2.1213203435596424\n"
     ]
    }
   ],
   "source": [
    "lr_first = LinearRegression()\n",
    "lr_first.fit(x_test_f, y_test_f)\n",
    "pred_first = lr_first.predict(x_test_f)\n",
    "print(f\"R2: {r2_score(y_test_f, pred_first)} RMSE: {root_mean_squared_error(y_test_f, pred_first)}\")"
   ]
  },
  {
   "cell_type": "markdown",
   "metadata": {},
   "source": [
    "**¿Por qué seleccionaste ese modelo?**\n",
    "\n",
    "Al tener pocos datos decidimos hacer una regresión simple ya que es un modelo fácil de interpretar y de aplicar. Modelos más complejos pueden sobreajustar los datos sobretodo con la poca cantidad de datos que hay."
   ]
  },
  {
   "cell_type": "markdown",
   "metadata": {},
   "source": [
    "**¿Utilizaste alguna regularización?**\n",
    "\n",
    "No, se hizo una regresión lineal simple, sin regularización."
   ]
  },
  {
   "cell_type": "markdown",
   "metadata": {},
   "source": [
    "## Parte 2"
   ]
  },
  {
   "cell_type": "markdown",
   "metadata": {},
   "source": [
    "### Modelo Iteso"
   ]
  },
  {
   "cell_type": "code",
   "execution_count": 5,
   "metadata": {},
   "outputs": [],
   "source": [
    "path = \"datos_gente_1.csv\"\n",
    "\n",
    "df_comb = pd.read_csv(path)"
   ]
  },
  {
   "cell_type": "code",
   "execution_count": 6,
   "metadata": {},
   "outputs": [
    {
     "data": {
      "text/plain": [
       "array([[<Axes: title={'center': 'height'}>,\n",
       "        <Axes: title={'center': 'width'}>],\n",
       "       [<Axes: title={'center': 'shoe_size'}>, <Axes: >]], dtype=object)"
      ]
     },
     "execution_count": 6,
     "metadata": {},
     "output_type": "execute_result"
    },
    {
     "data": {
      "image/png": "[encoded data removed]",
      "text/plain": [
       "<Figure size 640x480 with 4 Axes>"
      ]
     },
     "metadata": {},
     "output_type": "display_data"
    }
   ],
   "source": [
    "df_comb.hist(bins=20)"
   ]
  },
  {
   "cell_type": "code",
   "execution_count": 7,
   "metadata": {},
   "outputs": [],
   "source": [
    "X = df_comb[[\"width\", \"shoe_size\"]]\n",
    "y = df_comb[\"height\"]"
   ]
  },
  {
   "cell_type": "code",
   "execution_count": 8,
   "metadata": {},
   "outputs": [
    {
     "data": {
      "text/plain": [
       "<matplotlib.collections.PathCollection at 0x24d1313dea0>"
      ]
     },
     "execution_count": 8,
     "metadata": {},
     "output_type": "execute_result"
    },
    {
     "data": {
      "image/png": "[encoded data removed]",
      "text/plain": [
       "<Figure size 640x480 with 1 Axes>"
      ]
     },
     "metadata": {},
     "output_type": "display_data"
    }
   ],
   "source": [
    "plt.scatter(df_comb[\"shoe_size\"], df_comb[\"height\"])"
   ]
  },
  {
   "cell_type": "code",
   "execution_count": 9,
   "metadata": {},
   "outputs": [],
   "source": [
    "q25 = np.quantile(y, 0.25)\n",
    "q75 = np.quantile(y, 0.75)\n",
    "\n",
    "df_left = df_comb[df_comb[\"height\"] <= q25]\n",
    "df_right = df_comb[df_comb[\"height\"] >= q75]\n",
    "df_center = df_comb[(df_comb[\"height\"] >= q25) & (df_comb[\"height\"] <= q75)] "
   ]
  },
  {
   "cell_type": "code",
   "execution_count": 34,
   "metadata": {},
   "outputs": [],
   "source": [
    "def sintetizar_datos(df_a_combinar, df_new):\n",
    "    X_left = df_new[[\"width\", \"shoe_size\"]]\n",
    "    y_left = df_new[\"height\"]\n",
    "\n",
    "    w_m = np.mean(df_new[\"width\"])\n",
    "    s_m = np.mean(df_new[\"shoe_size\"])\n",
    "    h_m = np.mean(df_new[\"height\"])\n",
    "\n",
    "    w_s = np.std(df_new[\"width\"])\n",
    "    s_s = np.std(df_new[\"shoe_size\"])\n",
    "    h_s = np.std(df_new[\"height\"])\n",
    "\n",
    "    new_data_w = np.random.normal(loc=w_m, scale=w_s, size=100)\n",
    "    new_data_s = np.random.normal(loc=s_m, scale=s_s, size=100)\n",
    "    new_data_h = np.random.normal(loc=h_m, scale=h_s, size=100)\n",
    "\n",
    "    new_sorted_w = sorted(new_data_w)\n",
    "    new_sorted_s = sorted(new_data_s)\n",
    "    new_sorted_h = sorted(new_data_h)\n",
    "\n",
    "    df_new_1 = pd.DataFrame({\n",
    "        \"width\": new_sorted_w,\n",
    "        \"shoe_size\": new_sorted_s,\n",
    "        \"height\": new_sorted_h\n",
    "    })\n",
    "\n",
    "    df_new_1 = df_new_1.apply(lambda x: round(x, 0))\n",
    "\n",
    "    df_a_combinar = pd.concat([df_a_combinar, df_new_1])\n",
    "    return df_a_combinar"
   ]
  },
  {
   "cell_type": "code",
   "execution_count": 11,
   "metadata": {},
   "outputs": [],
   "source": [
    "data_left = sintetizar_datos(df_comb, df_left)\n",
    "data_right = sintetizar_datos(df_comb, df_right)"
   ]
  },
  {
   "cell_type": "code",
   "execution_count": 12,
   "metadata": {},
   "outputs": [
    {
     "data": {
      "text/plain": [
       "(array([[<Axes: title={'center': 'height'}>,\n",
       "         <Axes: title={'center': 'width'}>],\n",
       "        [<Axes: title={'center': 'shoe_size'}>, <Axes: >]], dtype=object),\n",
       " array([[<Axes: title={'center': 'height'}>,\n",
       "         <Axes: title={'center': 'width'}>],\n",
       "        [<Axes: title={'center': 'shoe_size'}>, <Axes: >]], dtype=object))"
      ]
     },
     "execution_count": 12,
     "metadata": {},
     "output_type": "execute_result"
    },
    {
     "data": {
      "image/png": "[encoded data removed]",
      "text/plain": [
       "<Figure size 640x480 with 4 Axes>"
      ]
     },
     "metadata": {},
     "output_type": "display_data"
    },
    {
     "data": {
      "image/png": "[encoded data removed]",
      "text/plain": [
       "<Figure size 640x480 with 4 Axes>"
      ]
     },
     "metadata": {},
     "output_type": "display_data"
    }
   ],
   "source": [
    "data_left.hist(), data_right.hist()"
   ]
  },
  {
   "cell_type": "code",
   "execution_count": 13,
   "metadata": {},
   "outputs": [],
   "source": [
    "x_train_left, x_test_left, y_train_left, y_test_left = train_test_split(data_left.drop(\"height\", axis=1), data_left[\"height\"], test_size= 0.2, random_state=55)\n",
    "x_train_right, x_test_right, y_train_right, y_test_right = train_test_split(data_right.drop(\"height\", axis=1), data_right[\"height\"], test_size= 0.2, random_state=55)\n",
    "x_train_center, x_test_center, y_train_center, y_test_center = train_test_split(df_comb.drop(\"height\", axis=1), df_comb[\"height\"], test_size= 0.2, random_state=55)"
   ]
  },
  {
   "cell_type": "code",
   "execution_count": 14,
   "metadata": {},
   "outputs": [],
   "source": [
    "ss_left = StandardScaler()\n",
    "ss_right = StandardScaler()\n",
    "ss_center = StandardScaler()\n",
    "\n",
    "\n",
    "X_train_s_left = ss_left.fit_transform(x_train_left)\n",
    "X_test_s_left = ss_left.transform(x_test_left)\n",
    "\n",
    "X_train_s_right = ss_right.fit_transform(x_train_right)\n",
    "X_test_s_right = ss_right.transform(x_test_right)\n",
    "\n",
    "X_train_s_center = ss_center.fit_transform(x_train_center)\n",
    "X_test_s_center = ss_center.transform(x_test_center)"
   ]
  },
  {
   "cell_type": "markdown",
   "metadata": {},
   "source": [
    "### Right model\n",
    "\n",
    "Aqui se crea el modelo que predice de manera más adecuada los valores de la derecha"
   ]
  },
  {
   "cell_type": "code",
   "execution_count": 15,
   "metadata": {},
   "outputs": [
    {
     "name": "stdout",
     "output_type": "stream",
     "text": [
      "R2: 0.8596172860197685 RMSE: 3.145545051181291\n"
     ]
    }
   ],
   "source": [
    "rg_r = Ridge(alpha = 1.26)\n",
    "rg_r.fit(X_train_s_right, y_train_right)\n",
    "r_pred_right = rg_r.predict(X_test_s_right)\n",
    "print(f\"R2: {r2_score(y_test_right, r_pred_right)} RMSE: {root_mean_squared_error(y_test_right, r_pred_right)}\")"
   ]
  },
  {
   "cell_type": "code",
   "execution_count": 16,
   "metadata": {},
   "outputs": [
    {
     "name": "stderr",
     "output_type": "stream",
     "text": [
      "c:\\Users\\cesar\\anaconda3\\envs\\iteso\\lib\\site-packages\\sklearn\\base.py:493: UserWarning: X does not have valid feature names, but StandardScaler was fitted with feature names\n",
      "  warnings.warn(\n"
     ]
    }
   ],
   "source": [
    "values_para_right = ss_right.transform([[36,22.5]])"
   ]
  },
  {
   "cell_type": "code",
   "execution_count": 17,
   "metadata": {},
   "outputs": [
    {
     "data": {
      "text/plain": [
       "array([155.1041786])"
      ]
     },
     "execution_count": 17,
     "metadata": {},
     "output_type": "execute_result"
    }
   ],
   "source": [
    "rg_r.predict(values_para_right)"
   ]
  },
  {
   "cell_type": "markdown",
   "metadata": {},
   "source": [
    "## Left model\n",
    "\n",
    "Modelo que predice mejor los valores del lado izquierdo"
   ]
  },
  {
   "cell_type": "code",
   "execution_count": 18,
   "metadata": {},
   "outputs": [
    {
     "name": "stdout",
     "output_type": "stream",
     "text": [
      "R2: 0.7877487645634527 RMSE: 3.540504189452737\n"
     ]
    }
   ],
   "source": [
    "rg_l = Ridge(alpha = 1.26)\n",
    "rg_l.fit(X_train_s_left, y_train_left)\n",
    "r_pred_left = rg_l.predict(X_test_s_left)\n",
    "print(f\"R2: {r2_score(y_test_left, r_pred_left)} RMSE: {root_mean_squared_error(y_test_left, r_pred_left)}\")"
   ]
  },
  {
   "cell_type": "code",
   "execution_count": 19,
   "metadata": {},
   "outputs": [
    {
     "name": "stderr",
     "output_type": "stream",
     "text": [
      "c:\\Users\\cesar\\anaconda3\\envs\\iteso\\lib\\site-packages\\sklearn\\base.py:493: UserWarning: X does not have valid feature names, but StandardScaler was fitted with feature names\n",
      "  warnings.warn(\n"
     ]
    }
   ],
   "source": [
    "values_para_left = ss_left.transform([[36,22.5]])"
   ]
  },
  {
   "cell_type": "code",
   "execution_count": 20,
   "metadata": {},
   "outputs": [
    {
     "data": {
      "text/plain": [
       "array([153.16199071])"
      ]
     },
     "execution_count": 20,
     "metadata": {},
     "output_type": "execute_result"
    }
   ],
   "source": [
    "rg_l.predict(values_para_left)"
   ]
  },
  {
   "cell_type": "markdown",
   "metadata": {},
   "source": [
    "### Center model"
   ]
  },
  {
   "cell_type": "code",
   "execution_count": 21,
   "metadata": {},
   "outputs": [
    {
     "name": "stdout",
     "output_type": "stream",
     "text": [
      "R2: 0.8484303924224865 RMSE: 4.280983988385949\n"
     ]
    }
   ],
   "source": [
    "rg_c = Ridge(alpha = 1.26)\n",
    "rg_c.fit(X_train_s_center, y_train_center)\n",
    "r_pred_center = rg_c.predict(X_test_s_center)\n",
    "print(f\"R2: {r2_score(y_test_center, r_pred_center)} RMSE: {root_mean_squared_error(y_test_center, r_pred_center)}\")"
   ]
  },
  {
   "cell_type": "code",
   "execution_count": 22,
   "metadata": {},
   "outputs": [
    {
     "name": "stderr",
     "output_type": "stream",
     "text": [
      "c:\\Users\\cesar\\anaconda3\\envs\\iteso\\lib\\site-packages\\sklearn\\base.py:493: UserWarning: X does not have valid feature names, but StandardScaler was fitted with feature names\n",
      "  warnings.warn(\n"
     ]
    }
   ],
   "source": [
    "values_para_center = ss_center.transform([[36,22.5]])"
   ]
  },
  {
   "cell_type": "code",
   "execution_count": 23,
   "metadata": {},
   "outputs": [
    {
     "data": {
      "text/plain": [
       "array([155.08588937])"
      ]
     },
     "execution_count": 23,
     "metadata": {},
     "output_type": "execute_result"
    }
   ],
   "source": [
    "rg_c.predict(values_para_center)"
   ]
  },
  {
   "cell_type": "markdown",
   "metadata": {},
   "source": [
    "**¿Agregarías datos a tu base de datos para mejorar las predicciones del modelo?**\n",
    "\n",
    "Sí, al tener tan pocos datos, en específico 18 necesitamos más datos ya que las predicciones que se hagan con el modelo no van a ser tan confiables, ya que son más sensibles a datos atípicos."
   ]
  },
  {
   "cell_type": "markdown",
   "metadata": {},
   "source": [
    "**¿Cómo conseguirías dicha información?**\n",
    "\n",
    "Medimos a 70 personas más y como se muestra anteriormente se segmentaron los datos de la altura, se hicieron nuevos datos para los datos cuya altura fueran menor o igual al primer cuartil, para los que fueran mayor o igual al tercer cuartil y para los que estuvieran entre el primer y tercer cuartil, en específico se hicieron 100 para cada uno."
   ]
  },
  {
   "cell_type": "markdown",
   "metadata": {},
   "source": [
    "**¿Modificarías algún parámetro de tu modelo?**\n",
    "\n",
    "En este caso, al segmentar los datos por alturas, se hicieron 3 modelos. A los 3 modelos se le aplicó regularización Ridge con un alpha de 1.26, el cual se obtuvo mediante diferentes pruebas e intentos para obtener el valor óptimo."
   ]
  },
  {
   "cell_type": "markdown",
   "metadata": {},
   "source": [
    "## Parte 3"
   ]
  },
  {
   "cell_type": "markdown",
   "metadata": {},
   "source": [
    "### Países Bajos"
   ]
  },
  {
   "cell_type": "code",
   "execution_count": 41,
   "metadata": {},
   "outputs": [],
   "source": [
    "df = pd.read_csv('datos_gente_1.csv')"
   ]
  },
  {
   "cell_type": "code",
   "execution_count": 42,
   "metadata": {},
   "outputs": [
    {
     "data": {
      "text/html": [
       "<div>\n",
       "<style scoped>\n",
       "    .dataframe tbody tr th:only-of-type {\n",
       "        vertical-align: middle;\n",
       "    }\n",
       "\n",
       "    .dataframe tbody tr th {\n",
       "        vertical-align: top;\n",
       "    }\n",
       "\n",
       "    .dataframe thead th {\n",
       "        text-align: right;\n",
       "    }\n",
       "</style>\n",
       "<table border=\"1\" class=\"dataframe\">\n",
       "  <thead>\n",
       "    <tr style=\"text-align: right;\">\n",
       "      <th></th>\n",
       "      <th>height</th>\n",
       "      <th>width</th>\n",
       "      <th>shoe_size</th>\n",
       "    </tr>\n",
       "  </thead>\n",
       "  <tbody>\n",
       "    <tr>\n",
       "      <th>0</th>\n",
       "      <td>185</td>\n",
       "      <td>55</td>\n",
       "      <td>28.0</td>\n",
       "    </tr>\n",
       "    <tr>\n",
       "      <th>6</th>\n",
       "      <td>187</td>\n",
       "      <td>48</td>\n",
       "      <td>29.0</td>\n",
       "    </tr>\n",
       "    <tr>\n",
       "      <th>12</th>\n",
       "      <td>179</td>\n",
       "      <td>55</td>\n",
       "      <td>28.0</td>\n",
       "    </tr>\n",
       "    <tr>\n",
       "      <th>22</th>\n",
       "      <td>177</td>\n",
       "      <td>42</td>\n",
       "      <td>27.0</td>\n",
       "    </tr>\n",
       "    <tr>\n",
       "      <th>25</th>\n",
       "      <td>180</td>\n",
       "      <td>45</td>\n",
       "      <td>27.0</td>\n",
       "    </tr>\n",
       "    <tr>\n",
       "      <th>33</th>\n",
       "      <td>178</td>\n",
       "      <td>49</td>\n",
       "      <td>27.5</td>\n",
       "    </tr>\n",
       "    <tr>\n",
       "      <th>41</th>\n",
       "      <td>190</td>\n",
       "      <td>50</td>\n",
       "      <td>29.0</td>\n",
       "    </tr>\n",
       "    <tr>\n",
       "      <th>44</th>\n",
       "      <td>180</td>\n",
       "      <td>50</td>\n",
       "      <td>28.0</td>\n",
       "    </tr>\n",
       "    <tr>\n",
       "      <th>47</th>\n",
       "      <td>178</td>\n",
       "      <td>45</td>\n",
       "      <td>29.0</td>\n",
       "    </tr>\n",
       "    <tr>\n",
       "      <th>51</th>\n",
       "      <td>182</td>\n",
       "      <td>47</td>\n",
       "      <td>28.0</td>\n",
       "    </tr>\n",
       "    <tr>\n",
       "      <th>54</th>\n",
       "      <td>183</td>\n",
       "      <td>47</td>\n",
       "      <td>28.0</td>\n",
       "    </tr>\n",
       "    <tr>\n",
       "      <th>61</th>\n",
       "      <td>183</td>\n",
       "      <td>50</td>\n",
       "      <td>29.5</td>\n",
       "    </tr>\n",
       "    <tr>\n",
       "      <th>63</th>\n",
       "      <td>188</td>\n",
       "      <td>55</td>\n",
       "      <td>30.0</td>\n",
       "    </tr>\n",
       "    <tr>\n",
       "      <th>65</th>\n",
       "      <td>190</td>\n",
       "      <td>52</td>\n",
       "      <td>30.0</td>\n",
       "    </tr>\n",
       "    <tr>\n",
       "      <th>67</th>\n",
       "      <td>177</td>\n",
       "      <td>42</td>\n",
       "      <td>28.0</td>\n",
       "    </tr>\n",
       "    <tr>\n",
       "      <th>68</th>\n",
       "      <td>182</td>\n",
       "      <td>43</td>\n",
       "      <td>28.0</td>\n",
       "    </tr>\n",
       "    <tr>\n",
       "      <th>70</th>\n",
       "      <td>185</td>\n",
       "      <td>47</td>\n",
       "      <td>29.5</td>\n",
       "    </tr>\n",
       "    <tr>\n",
       "      <th>74</th>\n",
       "      <td>182</td>\n",
       "      <td>46</td>\n",
       "      <td>28.0</td>\n",
       "    </tr>\n",
       "  </tbody>\n",
       "</table>\n",
       "</div>"
      ],
      "text/plain": [
       "    height  width  shoe_size\n",
       "0      185     55       28.0\n",
       "6      187     48       29.0\n",
       "12     179     55       28.0\n",
       "22     177     42       27.0\n",
       "25     180     45       27.0\n",
       "33     178     49       27.5\n",
       "41     190     50       29.0\n",
       "44     180     50       28.0\n",
       "47     178     45       29.0\n",
       "51     182     47       28.0\n",
       "54     183     47       28.0\n",
       "61     183     50       29.5\n",
       "63     188     55       30.0\n",
       "65     190     52       30.0\n",
       "67     177     42       28.0\n",
       "68     182     43       28.0\n",
       "70     185     47       29.5\n",
       "74     182     46       28.0"
      ]
     },
     "execution_count": 42,
     "metadata": {},
     "output_type": "execute_result"
    }
   ],
   "source": [
    "df2 = df[df['height'] > 176.5]\n",
    "df2"
   ]
  },
  {
   "cell_type": "code",
   "execution_count": 43,
   "metadata": {},
   "outputs": [
    {
     "data": {
      "text/plain": [
       "height       182.555556\n",
       "width         48.222222\n",
       "shoe_size     28.416667\n",
       "dtype: float64"
      ]
     },
     "execution_count": 43,
     "metadata": {},
     "output_type": "execute_result"
    }
   ],
   "source": [
    "df2.mean()"
   ]
  },
  {
   "cell_type": "code",
   "execution_count": 44,
   "metadata": {},
   "outputs": [
    {
     "data": {
      "text/plain": [
       "height       4.217920\n",
       "width        4.180565\n",
       "shoe_size    0.927520\n",
       "dtype: float64"
      ]
     },
     "execution_count": 44,
     "metadata": {},
     "output_type": "execute_result"
    }
   ],
   "source": [
    "df2.std()"
   ]
  },
  {
   "cell_type": "code",
   "execution_count": 58,
   "metadata": {},
   "outputs": [
    {
     "data": {
      "text/plain": [
       "array([170., 173., 176., 177., 177., 177., 177., 177., 177., 178., 178.,\n",
       "       178., 178., 179., 179., 179., 179., 179., 179., 179., 179., 179.,\n",
       "       179., 180., 180., 180., 180., 180., 180., 180., 180., 180., 181.,\n",
       "       181., 181., 181., 181., 181., 181., 182., 182., 182., 182., 182.,\n",
       "       182., 182., 182., 182., 182., 182., 182., 183., 183., 183., 183.,\n",
       "       183., 183., 183., 184., 184., 184., 184., 184., 184., 184., 184.,\n",
       "       184., 184., 185., 185., 185., 185., 185., 185., 186., 186., 186.,\n",
       "       187., 187., 187., 187., 188., 188., 188., 188., 189., 189., 189.,\n",
       "       189., 189., 191., 191., 191., 192., 192., 192., 193., 194., 195.,\n",
       "       197.])"
      ]
     },
     "execution_count": 58,
     "metadata": {},
     "output_type": "execute_result"
    }
   ],
   "source": [
    "df2_nuevo_altura = np.random.normal(loc=182.56, scale=4.22, size=100)\n",
    "df_altura_red= np.round(df2_nuevo_altura, 0)\n",
    "df_altura = np.sort(df_altura_red)\n",
    "df_altura"
   ]
  },
  {
   "cell_type": "code",
   "execution_count": 59,
   "metadata": {},
   "outputs": [
    {
     "data": {
      "text/plain": [
       "array([36., 39., 39., 40., 41., 41., 42., 42., 42., 42., 42., 43., 44.,\n",
       "       44., 44., 44., 44., 44., 45., 45., 45., 45., 45., 46., 46., 46.,\n",
       "       46., 46., 46., 46., 46., 47., 47., 47., 47., 47., 47., 47., 48.,\n",
       "       48., 48., 48., 48., 48., 48., 48., 48., 49., 49., 49., 49., 49.,\n",
       "       49., 49., 49., 49., 50., 50., 50., 50., 50., 50., 50., 50., 50.,\n",
       "       50., 51., 51., 51., 51., 51., 51., 51., 51., 51., 51., 51., 51.,\n",
       "       52., 52., 52., 52., 52., 52., 52., 53., 53., 53., 53., 54., 54.,\n",
       "       54., 54., 55., 55., 56., 56., 56., 56., 59.])"
      ]
     },
     "execution_count": 59,
     "metadata": {},
     "output_type": "execute_result"
    }
   ],
   "source": [
    "df2_nuevo_ancho = np.random.normal(loc=48.22, scale=4.18, size=100)\n",
    "df_ancho_red= np.round(df2_nuevo_ancho, 0)\n",
    "df_ancho = np.sort(df_ancho_red)\n",
    "df_ancho"
   ]
  },
  {
   "cell_type": "code",
   "execution_count": 60,
   "metadata": {},
   "outputs": [
    {
     "data": {
      "text/plain": [
       "array([26.6, 26.7, 26.7, 27. , 27. , 27. , 27.1, 27.1, 27.2, 27.2, 27.4,\n",
       "       27.4, 27.4, 27.4, 27.5, 27.5, 27.6, 27.6, 27.6, 27.7, 27.7, 27.7,\n",
       "       27.8, 27.8, 27.8, 27.8, 27.9, 27.9, 28. , 28. , 28. , 28. , 28. ,\n",
       "       28. , 28. , 28.1, 28.1, 28.2, 28.2, 28.2, 28.2, 28.2, 28.2, 28.3,\n",
       "       28.3, 28.3, 28.3, 28.3, 28.4, 28.4, 28.4, 28.5, 28.5, 28.5, 28.5,\n",
       "       28.6, 28.6, 28.6, 28.6, 28.6, 28.6, 28.7, 28.7, 28.7, 28.7, 28.7,\n",
       "       28.8, 28.8, 28.9, 28.9, 28.9, 28.9, 29. , 29. , 29. , 29. , 29. ,\n",
       "       29.1, 29.1, 29.1, 29.1, 29.2, 29.2, 29.2, 29.3, 29.3, 29.3, 29.4,\n",
       "       29.4, 29.5, 29.6, 29.7, 29.7, 29.7, 29.8, 29.9, 29.9, 30.3, 30.4,\n",
       "       30.8])"
      ]
     },
     "execution_count": 60,
     "metadata": {},
     "output_type": "execute_result"
    }
   ],
   "source": [
    "df2_nuevo_pie = np.random.normal(loc=28.42, scale=0.93, size=100)\n",
    "df_pie_red= np.round(df2_nuevo_pie, 1)\n",
    "df_pie= np.sort(df_pie_red)\n",
    "df_pie"
   ]
  },
  {
   "cell_type": "code",
   "execution_count": 61,
   "metadata": {},
   "outputs": [
    {
     "data": {
      "text/html": [
       "<div>\n",
       "<style scoped>\n",
       "    .dataframe tbody tr th:only-of-type {\n",
       "        vertical-align: middle;\n",
       "    }\n",
       "\n",
       "    .dataframe tbody tr th {\n",
       "        vertical-align: top;\n",
       "    }\n",
       "\n",
       "    .dataframe thead th {\n",
       "        text-align: right;\n",
       "    }\n",
       "</style>\n",
       "<table border=\"1\" class=\"dataframe\">\n",
       "  <thead>\n",
       "    <tr style=\"text-align: right;\">\n",
       "      <th></th>\n",
       "      <th>height</th>\n",
       "      <th>width</th>\n",
       "      <th>shoe_size</th>\n",
       "    </tr>\n",
       "  </thead>\n",
       "  <tbody>\n",
       "    <tr>\n",
       "      <th>0</th>\n",
       "      <td>170.0</td>\n",
       "      <td>36.0</td>\n",
       "      <td>26.6</td>\n",
       "    </tr>\n",
       "    <tr>\n",
       "      <th>1</th>\n",
       "      <td>173.0</td>\n",
       "      <td>39.0</td>\n",
       "      <td>26.7</td>\n",
       "    </tr>\n",
       "    <tr>\n",
       "      <th>2</th>\n",
       "      <td>176.0</td>\n",
       "      <td>39.0</td>\n",
       "      <td>26.7</td>\n",
       "    </tr>\n",
       "    <tr>\n",
       "      <th>3</th>\n",
       "      <td>177.0</td>\n",
       "      <td>40.0</td>\n",
       "      <td>27.0</td>\n",
       "    </tr>\n",
       "    <tr>\n",
       "      <th>4</th>\n",
       "      <td>177.0</td>\n",
       "      <td>41.0</td>\n",
       "      <td>27.0</td>\n",
       "    </tr>\n",
       "    <tr>\n",
       "      <th>...</th>\n",
       "      <td>...</td>\n",
       "      <td>...</td>\n",
       "      <td>...</td>\n",
       "    </tr>\n",
       "    <tr>\n",
       "      <th>95</th>\n",
       "      <td>192.0</td>\n",
       "      <td>56.0</td>\n",
       "      <td>29.9</td>\n",
       "    </tr>\n",
       "    <tr>\n",
       "      <th>96</th>\n",
       "      <td>193.0</td>\n",
       "      <td>56.0</td>\n",
       "      <td>29.9</td>\n",
       "    </tr>\n",
       "    <tr>\n",
       "      <th>97</th>\n",
       "      <td>194.0</td>\n",
       "      <td>56.0</td>\n",
       "      <td>30.3</td>\n",
       "    </tr>\n",
       "    <tr>\n",
       "      <th>98</th>\n",
       "      <td>195.0</td>\n",
       "      <td>56.0</td>\n",
       "      <td>30.4</td>\n",
       "    </tr>\n",
       "    <tr>\n",
       "      <th>99</th>\n",
       "      <td>197.0</td>\n",
       "      <td>59.0</td>\n",
       "      <td>30.8</td>\n",
       "    </tr>\n",
       "  </tbody>\n",
       "</table>\n",
       "<p>100 rows × 3 columns</p>\n",
       "</div>"
      ],
      "text/plain": [
       "    height  width  shoe_size\n",
       "0    170.0   36.0       26.6\n",
       "1    173.0   39.0       26.7\n",
       "2    176.0   39.0       26.7\n",
       "3    177.0   40.0       27.0\n",
       "4    177.0   41.0       27.0\n",
       "..     ...    ...        ...\n",
       "95   192.0   56.0       29.9\n",
       "96   193.0   56.0       29.9\n",
       "97   194.0   56.0       30.3\n",
       "98   195.0   56.0       30.4\n",
       "99   197.0   59.0       30.8\n",
       "\n",
       "[100 rows x 3 columns]"
      ]
     },
     "execution_count": 61,
     "metadata": {},
     "output_type": "execute_result"
    }
   ],
   "source": [
    "df_pb = pd.DataFrame({'height': df_altura, 'width': df_ancho, 'shoe_size': df_pie})\n",
    "df_pb"
   ]
  },
  {
   "cell_type": "code",
   "execution_count": 62,
   "metadata": {},
   "outputs": [
    {
     "data": {
      "text/plain": [
       "<Axes: >"
      ]
     },
     "execution_count": 62,
     "metadata": {},
     "output_type": "execute_result"
    },
    {
     "data": {
      "image/png": "[encoded data removed]",
      "text/plain": [
       "<Figure size 640x480 with 1 Axes>"
      ]
     },
     "metadata": {},
     "output_type": "display_data"
    }
   ],
   "source": [
    "df_pb[\"height\"].hist()"
   ]
  },
  {
   "cell_type": "code",
   "execution_count": 63,
   "metadata": {},
   "outputs": [],
   "source": [
    "X = df_pb.drop(\"height\", axis=1)\n",
    "y = df_pb[\"height\"]"
   ]
  },
  {
   "cell_type": "code",
   "execution_count": 64,
   "metadata": {},
   "outputs": [],
   "source": [
    "x_train_pb, x_test_pb, y_train_pb, y_test_pb = train_test_split(X, y, test_size=0.20, random_state=48)"
   ]
  },
  {
   "cell_type": "code",
   "execution_count": 65,
   "metadata": {},
   "outputs": [],
   "source": [
    "ss_pb = StandardScaler()\n",
    "x_train_pb_ss = ss_pb.fit_transform(x_train_pb)\n",
    "x_test_pb_ss = ss_pb.transform(x_test_pb)"
   ]
  },
  {
   "cell_type": "code",
   "execution_count": 68,
   "metadata": {},
   "outputs": [
    {
     "name": "stdout",
     "output_type": "stream",
     "text": [
      "R2:0.9586164125087705, RMSE: 0.9275027358309693\n"
     ]
    }
   ],
   "source": [
    "modelo_pb = LinearRegression()\n",
    "modelo_pb.fit(x_train_pb_ss, y_train_pb)\n",
    "pb_pred = modelo_pb.predict(x_test_pb_ss)\n",
    "r2 = r2_score(y_test_pb, pb_pred)\n",
    "print(f\"R2:{r2_score(y_test_pb, pb_pred)}, RMSE: {root_mean_squared_error(y_test_pb, pb_pred)}\")"
   ]
  },
  {
   "cell_type": "code",
   "execution_count": 70,
   "metadata": {},
   "outputs": [
    {
     "name": "stderr",
     "output_type": "stream",
     "text": [
      "c:\\Users\\cesar\\anaconda3\\envs\\iteso\\lib\\site-packages\\sklearn\\base.py:493: UserWarning: X does not have valid feature names, but StandardScaler was fitted with feature names\n",
      "  warnings.warn(\n"
     ]
    }
   ],
   "source": [
    "values_pb= ss_pb.transform([[44,27.5]])"
   ]
  },
  {
   "cell_type": "code",
   "execution_count": 71,
   "metadata": {},
   "outputs": [
    {
     "data": {
      "text/plain": [
       "array([177.95324607])"
      ]
     },
     "execution_count": 71,
     "metadata": {},
     "output_type": "execute_result"
    }
   ],
   "source": [
    "modelo_pb.predict(values_pb)"
   ]
  },
  {
   "cell_type": "code",
   "execution_count": null,
   "metadata": {},
   "outputs": [],
   "source": [
    "from mpl_toolkits.mplot3d import Axes3D"
   ]
  },
  {
   "cell_type": "code",
   "execution_count": null,
   "metadata": {},
   "outputs": [
    {
     "data": {
      "image/png": "[encoded data removed]",
      "text/plain": [
       "<Figure size 1000x800 with 1 Axes>"
      ]
     },
     "metadata": {},
     "output_type": "display_data"
    }
   ],
   "source": [
    "fig = plt.figure(figsize=((10,8)))\n",
    "ax = fig.add_subplot(111, projection=\"3d\")\n",
    "\n",
    "ax.scatter(df_pb[\"width\"], df_pb[\"shoe_size\"], df_pb[\"height\"] ,color=\"green\")\n",
    "ax.plot_surface(df_pb[\"width\"], df_pb[\"shoe_size\"], pb_pred.reshape((-1,1)), color=\"red\")\n",
    "plt.show()"
   ]
  },
  {
   "cell_type": "markdown",
   "metadata": {},
   "source": [
    "**¿Agregarías datos a tu base de datos para mejorar las predicciones del modelo?**\n",
    "\n",
    "Sí, ya que la altura promedio de un mexicano no es la misma que la altura de una persona de Países Bajos."
   ]
  },
  {
   "cell_type": "markdown",
   "metadata": {},
   "source": [
    "**¿Cómo conseguirías dicha información?**\n",
    "\n",
    "Al tener que el promedio de altura de un hombre de Países Bajos es de 183 cm y la altura promedio de una mujer de Países Bajos es de 170 cm, promediamos las alturas y nos basamos en los datos originales y en los que recabamos de las 70 personas que medimos para crear nuevos datos."
   ]
  },
  {
   "cell_type": "markdown",
   "metadata": {},
   "source": [
    "**¿Modificarías algún parámetro de tu modelo?**\n",
    "\n",
    "En este caso, al no tener ningún dato de personas de países bajos y después de hacer gridsearch para obtener el modelo con las mejores métricas, llegamos a la conclusión de que una regresión lineal simple era el mejor modelo, por lo que no aplicamos ninguna regularización."
   ]
  },
  {
   "cell_type": "code",
   "execution_count": null,
   "metadata": {},
   "outputs": [],
   "source": [
    "import plotly.express as px\n",
    "import plotly.graph_objects as go"
   ]
  },
  {
   "cell_type": "code",
   "execution_count": null,
   "metadata": {},
   "outputs": [],
   "source": [
    "fig = px.scatter_3d(df_pb, x=df_pb[\"width\"], y=df_pb[\"shoe_size\"], z=df_pb[\"height\"])\n",
    "fig = go.Figure(data=[go.Surface()])\n",
    "# fig.show()\n"
   ]
  },
  {
   "cell_type": "code",
   "execution_count": null,
   "metadata": {},
   "outputs": [],
   "source": [
    "class segunda_seccion():\n",
    "    \n",
    "    def __init__(self, df):\n",
    "        self.df = df\n",
    "        \n",
    "    def holanda_regressor(self):\n",
    "        self.pb_pred = r_pb.predict(self.df)\n",
    "    \n",
    "    def iteso_regressor(self):\n",
    "        self.new_pred = rg.predict(self.df)\n",
    "        print(self.new_pred)\n",
    "        \n",
    "    def combined_regressor(self):\n",
    "        pass\n",
    "        \n",
    "    def plotter(self, df, x1, x2, y):\n",
    "        fig = plt.figure(figsize=((10,8)))    \n",
    "        ax = fig.add_subplot(projection=\"3d\")\n",
    "        \n",
    "        ax.scatter(df[x1], df[x2], df[y])\n",
    "        ax.plot_surface(df[x1], df[x2], self.new_pred)\n",
    "        \n",
    "    \n",
    "    \n",
    "    \n",
    "    # return fig\n",
    "    \n",
    "# segunda_seccion(df_center)"
   ]
  },
  {
   "cell_type": "code",
   "execution_count": null,
   "metadata": {},
   "outputs": [],
   "source": []
  }
 ],
 "metadata": {
  "kernelspec": {
   "display_name": "iteso",
   "language": "python",
   "name": "python3"
  },
  "language_info": {
   "codemirror_mode": {
    "name": "ipython",
    "version": 3
   },
   "file_extension": ".py",
   "mimetype": "text/x-python",
   "name": "python",
   "nbconvert_exporter": "python",
   "pygments_lexer": "ipython3",
   "version": "3.10.13"
  }
 },
 "nbformat": 4,
 "nbformat_minor": 2
}
